{
 "cells": [
  {
   "cell_type": "markdown",
   "metadata": {},
   "source": [
    "Проект: выявить определяющие успешность игры закономерности для магазина компьютерных игр «Стримчик»\n",
    "\n",
    "Дана таблица с данными до 2016 года.\n",
    "\n",
    "Name — название игры\n",
    "\n",
    "Platform — платформа\n",
    "\n",
    "Year_of_Release — год выпуска\n",
    "\n",
    "Genre — жанр игры\n",
    "\n",
    "NA_sales — продажи в Северной Америке (миллионы проданных копий)\n",
    "\n",
    "EU_sales — продажи в Европе (миллионы проданных копий)\n",
    "\n",
    "JP_sales — продажи в Японии (миллионы проданных копий)\n",
    "\n",
    "Other_sales — продажи в других странах (миллионы проданных копий)\n",
    "\n",
    "Critic_Score — оценка критиков (максимум 100)\n",
    "\n",
    "User_Score — оценка пользователей (максимум 10)\n",
    "\n",
    "Rating — рейтинг от организации ESRB (англ. Entertainment Software Rating Board). Эта ассоциация определяет рейтинг компьютерных игр и присваивает им подходящую возрастную категорию.\n",
    "\n",
    "Надо сделать следующее:\n",
    "\n",
    "1. Подготовить данные, обработать пропуски, посчитать суммарные продажи в каждом регионе\n",
    "2. Проведите исследовательский анализ данных на основе данных за 2016 год\n",
    "3. Составить портрет пользователя, определив жанры и платформы\n",
    "4. Составить гипотезы : \n",
    "\n",
    "Средние пользовательские рейтинги платформ Xbox One и PC одинаковые;\n",
    "\n",
    "Средние пользовательские рейтинги жанров Action (англ. «действие», экшен-игры) и Sports (англ. «спортивные соревнования») разные.\n",
    "\n",
    "5. Вывод\n"
   ]
  },
  {
   "cell_type": "markdown",
   "metadata": {},
   "source": [
    "# Загрузка данных"
   ]
  },
  {
   "cell_type": "code",
   "execution_count": 1,
   "metadata": {},
   "outputs": [],
   "source": [
    "import pandas as pd\n",
    "import numpy as np\n",
    "from scipy import stats as st\n",
    "from scipy.stats import binom\n",
    "from math import sqrt\n",
    "import matplotlib.pyplot as plt\n",
    "import seaborn as sns"
   ]
  },
  {
   "cell_type": "code",
   "execution_count": 2,
   "metadata": {},
   "outputs": [
    {
     "data": {
      "text/html": [
       "<div>\n",
       "<style scoped>\n",
       "    .dataframe tbody tr th:only-of-type {\n",
       "        vertical-align: middle;\n",
       "    }\n",
       "\n",
       "    .dataframe tbody tr th {\n",
       "        vertical-align: top;\n",
       "    }\n",
       "\n",
       "    .dataframe thead th {\n",
       "        text-align: right;\n",
       "    }\n",
       "</style>\n",
       "<table border=\"1\" class=\"dataframe\">\n",
       "  <thead>\n",
       "    <tr style=\"text-align: right;\">\n",
       "      <th></th>\n",
       "      <th>Name</th>\n",
       "      <th>Platform</th>\n",
       "      <th>Year_of_Release</th>\n",
       "      <th>Genre</th>\n",
       "      <th>NA_sales</th>\n",
       "      <th>EU_sales</th>\n",
       "      <th>JP_sales</th>\n",
       "      <th>Other_sales</th>\n",
       "      <th>Critic_Score</th>\n",
       "      <th>User_Score</th>\n",
       "      <th>Rating</th>\n",
       "    </tr>\n",
       "  </thead>\n",
       "  <tbody>\n",
       "    <tr>\n",
       "      <th>0</th>\n",
       "      <td>Wii Sports</td>\n",
       "      <td>Wii</td>\n",
       "      <td>2006.0</td>\n",
       "      <td>Sports</td>\n",
       "      <td>41.36</td>\n",
       "      <td>28.96</td>\n",
       "      <td>3.77</td>\n",
       "      <td>8.45</td>\n",
       "      <td>76.0</td>\n",
       "      <td>8</td>\n",
       "      <td>E</td>\n",
       "    </tr>\n",
       "    <tr>\n",
       "      <th>1</th>\n",
       "      <td>Super Mario Bros.</td>\n",
       "      <td>NES</td>\n",
       "      <td>1985.0</td>\n",
       "      <td>Platform</td>\n",
       "      <td>29.08</td>\n",
       "      <td>3.58</td>\n",
       "      <td>6.81</td>\n",
       "      <td>0.77</td>\n",
       "      <td>NaN</td>\n",
       "      <td>NaN</td>\n",
       "      <td>NaN</td>\n",
       "    </tr>\n",
       "    <tr>\n",
       "      <th>2</th>\n",
       "      <td>Mario Kart Wii</td>\n",
       "      <td>Wii</td>\n",
       "      <td>2008.0</td>\n",
       "      <td>Racing</td>\n",
       "      <td>15.68</td>\n",
       "      <td>12.76</td>\n",
       "      <td>3.79</td>\n",
       "      <td>3.29</td>\n",
       "      <td>82.0</td>\n",
       "      <td>8.3</td>\n",
       "      <td>E</td>\n",
       "    </tr>\n",
       "    <tr>\n",
       "      <th>3</th>\n",
       "      <td>Wii Sports Resort</td>\n",
       "      <td>Wii</td>\n",
       "      <td>2009.0</td>\n",
       "      <td>Sports</td>\n",
       "      <td>15.61</td>\n",
       "      <td>10.93</td>\n",
       "      <td>3.28</td>\n",
       "      <td>2.95</td>\n",
       "      <td>80.0</td>\n",
       "      <td>8</td>\n",
       "      <td>E</td>\n",
       "    </tr>\n",
       "    <tr>\n",
       "      <th>4</th>\n",
       "      <td>Pokemon Red/Pokemon Blue</td>\n",
       "      <td>GB</td>\n",
       "      <td>1996.0</td>\n",
       "      <td>Role-Playing</td>\n",
       "      <td>11.27</td>\n",
       "      <td>8.89</td>\n",
       "      <td>10.22</td>\n",
       "      <td>1.00</td>\n",
       "      <td>NaN</td>\n",
       "      <td>NaN</td>\n",
       "      <td>NaN</td>\n",
       "    </tr>\n",
       "    <tr>\n",
       "      <th>...</th>\n",
       "      <td>...</td>\n",
       "      <td>...</td>\n",
       "      <td>...</td>\n",
       "      <td>...</td>\n",
       "      <td>...</td>\n",
       "      <td>...</td>\n",
       "      <td>...</td>\n",
       "      <td>...</td>\n",
       "      <td>...</td>\n",
       "      <td>...</td>\n",
       "      <td>...</td>\n",
       "    </tr>\n",
       "    <tr>\n",
       "      <th>16710</th>\n",
       "      <td>Samurai Warriors: Sanada Maru</td>\n",
       "      <td>PS3</td>\n",
       "      <td>2016.0</td>\n",
       "      <td>Action</td>\n",
       "      <td>0.00</td>\n",
       "      <td>0.00</td>\n",
       "      <td>0.01</td>\n",
       "      <td>0.00</td>\n",
       "      <td>NaN</td>\n",
       "      <td>NaN</td>\n",
       "      <td>NaN</td>\n",
       "    </tr>\n",
       "    <tr>\n",
       "      <th>16711</th>\n",
       "      <td>LMA Manager 2007</td>\n",
       "      <td>X360</td>\n",
       "      <td>2006.0</td>\n",
       "      <td>Sports</td>\n",
       "      <td>0.00</td>\n",
       "      <td>0.01</td>\n",
       "      <td>0.00</td>\n",
       "      <td>0.00</td>\n",
       "      <td>NaN</td>\n",
       "      <td>NaN</td>\n",
       "      <td>NaN</td>\n",
       "    </tr>\n",
       "    <tr>\n",
       "      <th>16712</th>\n",
       "      <td>Haitaka no Psychedelica</td>\n",
       "      <td>PSV</td>\n",
       "      <td>2016.0</td>\n",
       "      <td>Adventure</td>\n",
       "      <td>0.00</td>\n",
       "      <td>0.00</td>\n",
       "      <td>0.01</td>\n",
       "      <td>0.00</td>\n",
       "      <td>NaN</td>\n",
       "      <td>NaN</td>\n",
       "      <td>NaN</td>\n",
       "    </tr>\n",
       "    <tr>\n",
       "      <th>16713</th>\n",
       "      <td>Spirits &amp; Spells</td>\n",
       "      <td>GBA</td>\n",
       "      <td>2003.0</td>\n",
       "      <td>Platform</td>\n",
       "      <td>0.01</td>\n",
       "      <td>0.00</td>\n",
       "      <td>0.00</td>\n",
       "      <td>0.00</td>\n",
       "      <td>NaN</td>\n",
       "      <td>NaN</td>\n",
       "      <td>NaN</td>\n",
       "    </tr>\n",
       "    <tr>\n",
       "      <th>16714</th>\n",
       "      <td>Winning Post 8 2016</td>\n",
       "      <td>PSV</td>\n",
       "      <td>2016.0</td>\n",
       "      <td>Simulation</td>\n",
       "      <td>0.00</td>\n",
       "      <td>0.00</td>\n",
       "      <td>0.01</td>\n",
       "      <td>0.00</td>\n",
       "      <td>NaN</td>\n",
       "      <td>NaN</td>\n",
       "      <td>NaN</td>\n",
       "    </tr>\n",
       "  </tbody>\n",
       "</table>\n",
       "<p>16715 rows × 11 columns</p>\n",
       "</div>"
      ],
      "text/plain": [
       "                                Name Platform  Year_of_Release         Genre  \\\n",
       "0                         Wii Sports      Wii           2006.0        Sports   \n",
       "1                  Super Mario Bros.      NES           1985.0      Platform   \n",
       "2                     Mario Kart Wii      Wii           2008.0        Racing   \n",
       "3                  Wii Sports Resort      Wii           2009.0        Sports   \n",
       "4           Pokemon Red/Pokemon Blue       GB           1996.0  Role-Playing   \n",
       "...                              ...      ...              ...           ...   \n",
       "16710  Samurai Warriors: Sanada Maru      PS3           2016.0        Action   \n",
       "16711               LMA Manager 2007     X360           2006.0        Sports   \n",
       "16712        Haitaka no Psychedelica      PSV           2016.0     Adventure   \n",
       "16713               Spirits & Spells      GBA           2003.0      Platform   \n",
       "16714            Winning Post 8 2016      PSV           2016.0    Simulation   \n",
       "\n",
       "       NA_sales  EU_sales  JP_sales  Other_sales  Critic_Score User_Score  \\\n",
       "0         41.36     28.96      3.77         8.45          76.0          8   \n",
       "1         29.08      3.58      6.81         0.77           NaN        NaN   \n",
       "2         15.68     12.76      3.79         3.29          82.0        8.3   \n",
       "3         15.61     10.93      3.28         2.95          80.0          8   \n",
       "4         11.27      8.89     10.22         1.00           NaN        NaN   \n",
       "...         ...       ...       ...          ...           ...        ...   \n",
       "16710      0.00      0.00      0.01         0.00           NaN        NaN   \n",
       "16711      0.00      0.01      0.00         0.00           NaN        NaN   \n",
       "16712      0.00      0.00      0.01         0.00           NaN        NaN   \n",
       "16713      0.01      0.00      0.00         0.00           NaN        NaN   \n",
       "16714      0.00      0.00      0.01         0.00           NaN        NaN   \n",
       "\n",
       "      Rating  \n",
       "0          E  \n",
       "1        NaN  \n",
       "2          E  \n",
       "3          E  \n",
       "4        NaN  \n",
       "...      ...  \n",
       "16710    NaN  \n",
       "16711    NaN  \n",
       "16712    NaN  \n",
       "16713    NaN  \n",
       "16714    NaN  \n",
       "\n",
       "[16715 rows x 11 columns]"
      ]
     },
     "metadata": {},
     "output_type": "display_data"
    }
   ],
   "source": [
    "df = pd.read_csv('/datasets/games.csv')\n",
    "display(df)"
   ]
  },
  {
   "cell_type": "markdown",
   "metadata": {},
   "source": [
    "Много пропусков в оценках и рейтинге. "
   ]
  },
  {
   "cell_type": "code",
   "execution_count": 3,
   "metadata": {},
   "outputs": [
    {
     "name": "stdout",
     "output_type": "stream",
     "text": [
      "<class 'pandas.core.frame.DataFrame'>\n",
      "RangeIndex: 16715 entries, 0 to 16714\n",
      "Data columns (total 11 columns):\n",
      " #   Column           Non-Null Count  Dtype  \n",
      "---  ------           --------------  -----  \n",
      " 0   Name             16713 non-null  object \n",
      " 1   Platform         16715 non-null  object \n",
      " 2   Year_of_Release  16446 non-null  float64\n",
      " 3   Genre            16713 non-null  object \n",
      " 4   NA_sales         16715 non-null  float64\n",
      " 5   EU_sales         16715 non-null  float64\n",
      " 6   JP_sales         16715 non-null  float64\n",
      " 7   Other_sales      16715 non-null  float64\n",
      " 8   Critic_Score     8137 non-null   float64\n",
      " 9   User_Score       10014 non-null  object \n",
      " 10  Rating           9949 non-null   object \n",
      "dtypes: float64(6), object(5)\n",
      "memory usage: 1.4+ MB\n",
      "None\n"
     ]
    }
   ],
   "source": [
    "#изучим основную информацию\n",
    "print(df.info())"
   ]
  },
  {
   "cell_type": "markdown",
   "metadata": {},
   "source": [
    "Файл состоит из 16713 строк, 11 колонок. В колонках `critic_score`, `user_score`, `rating` много пропусков, вплоть до половины от общего объема данных. Названия стболцов следует привести к принятому виду записи. В столбце `user_score` неверный тип данных."
   ]
  },
  {
   "cell_type": "markdown",
   "metadata": {},
   "source": [
    "# Обработка данных"
   ]
  },
  {
   "cell_type": "markdown",
   "metadata": {},
   "source": [
    "Приведем названия столбцов к принятому виду:"
   ]
  },
  {
   "cell_type": "code",
   "execution_count": 4,
   "metadata": {},
   "outputs": [],
   "source": [
    "df.columns = df.columns.str.lower()"
   ]
  },
  {
   "cell_type": "markdown",
   "metadata": {},
   "source": [
    "Посчитаем количество дубликатов:"
   ]
  },
  {
   "cell_type": "code",
   "execution_count": 5,
   "metadata": {},
   "outputs": [
    {
     "data": {
      "text/plain": [
       "0"
      ]
     },
     "execution_count": 5,
     "metadata": {},
     "output_type": "execute_result"
    }
   ],
   "source": [
    "df.duplicated().sum()"
   ]
  },
  {
   "cell_type": "code",
   "execution_count": 6,
   "metadata": {},
   "outputs": [
    {
     "name": "stdout",
     "output_type": "stream",
     "text": [
      "4\n"
     ]
    }
   ],
   "source": [
    "print(df.duplicated(subset=['name', 'platform', 'year_of_release'], keep=False).sum())\n",
    "df.drop_duplicates(subset=['name', 'platform', 'year_of_release'], inplace = True)"
   ]
  },
  {
   "cell_type": "markdown",
   "metadata": {},
   "source": [
    "Найдено и удалено 4 неявных дубликата строк совпадающих по столбцам `name`, `platform`, `year_of_release`."
   ]
  },
  {
   "cell_type": "markdown",
   "metadata": {},
   "source": [
    "Найдем пропуски:"
   ]
  },
  {
   "cell_type": "code",
   "execution_count": 7,
   "metadata": {},
   "outputs": [
    {
     "name": "stdout",
     "output_type": "stream",
     "text": [
      "Пропусков в столбце \"name\":1\n",
      "Пропусков в столбце \"platform\":0\n",
      "Пропусков в столбце \"year_of_release\":269\n",
      "Пропусков в столбце \"genre\":1\n",
      "Пропусков в столбце \"na_sales\":0\n",
      "Пропусков в столбце \"eu_sales\":0\n",
      "Пропусков в столбце \"jp_sales\":0\n",
      "Пропусков в столбце \"other_sales\":0\n",
      "Пропусков в столбце \"critic_score\":8577\n",
      "Пропусков в столбце \"user_score\":6700\n",
      "Пропусков в столбце \"rating\":6765\n"
     ]
    }
   ],
   "source": [
    "for column in df.columns:\n",
    "    missing_data = df[column].isna().sum()\n",
    "    print(f'Пропусков в столбце \"{column}\":{missing_data}')"
   ]
  },
  {
   "cell_type": "markdown",
   "metadata": {},
   "source": []
  },
  {
   "cell_type": "code",
   "execution_count": 8,
   "metadata": {},
   "outputs": [
    {
     "data": {
      "text/plain": [
       "name                  1\n",
       "platform              0\n",
       "year_of_release     269\n",
       "genre                 1\n",
       "na_sales              0\n",
       "eu_sales              0\n",
       "jp_sales              0\n",
       "other_sales           0\n",
       "critic_score       8577\n",
       "user_score         6700\n",
       "rating             6765\n",
       "dtype: int64"
      ]
     },
     "execution_count": 8,
     "metadata": {},
     "output_type": "execute_result"
    }
   ],
   "source": [
    "# код ревьюера\n",
    "df.isna().sum()"
   ]
  },
  {
   "cell_type": "markdown",
   "metadata": {},
   "source": [
    "Удалим пропуски в столбцах `name` и `year`"
   ]
  },
  {
   "cell_type": "code",
   "execution_count": 9,
   "metadata": {},
   "outputs": [],
   "source": [
    "df = df.dropna(subset=['name']).reset_index(drop=True)\n",
    "df = df.dropna(subset=['year_of_release']).reset_index(drop=True)\n",
    "df = df.dropna(subset=['genre']).reset_index(drop=True)"
   ]
  },
  {
   "cell_type": "markdown",
   "metadata": {},
   "source": [
    "Приведем `year_of_release` к формату *pandas*"
   ]
  },
  {
   "cell_type": "code",
   "execution_count": 10,
   "metadata": {},
   "outputs": [],
   "source": [
    "df['year_of_release'] = pd.to_datetime(df['year_of_release'], format='%Y').dt.year"
   ]
  },
  {
   "cell_type": "markdown",
   "metadata": {},
   "source": [
    "Заменим *tbd* на *NaN*. Эти значения встречаются как в старых, так и в новых релизах. Можно сказать, что про них просто забыли, не внеся значения в таблицу."
   ]
  },
  {
   "cell_type": "code",
   "execution_count": 11,
   "metadata": {},
   "outputs": [],
   "source": [
    "df['user_score'] = df['user_score'].replace('tbd', np.nan)\n",
    "df['user_score'] = df['user_score'].astype('float64')"
   ]
  },
  {
   "cell_type": "markdown",
   "metadata": {},
   "source": [
    "Оценим схожесть оценок пользователей и критиков:"
   ]
  },
  {
   "cell_type": "code",
   "execution_count": 12,
   "metadata": {},
   "outputs": [
    {
     "data": {
      "image/png": "[encoded data removed]",
      "text/plain": [
       "<Figure size 648x432 with 1 Axes>"
      ]
     },
     "metadata": {
      "needs_background": "light"
     },
     "output_type": "display_data"
    }
   ],
   "source": [
    "plt.figure(figsize=(9,6));\n",
    "plt.hist(df['user_score']*10,label='оценка пользователй', bins=20, alpha=0.8);\n",
    "plt.hist(df['critic_score'],label='оценка критиков', bins=20, alpha=0.8);\n",
    "plt.xlabel('Оценка');\n",
    "plt.ylabel('Количество оценок');\n",
    "plt.title('Гистограмма оценок')\n",
    "plt.legend();\n",
    "plt.show;"
   ]
  },
  {
   "cell_type": "markdown",
   "metadata": {},
   "source": [
    "Распределение оценок примерно одинаково, поэтому заменим пропущенные значения в `user_score` доступными значениями `critic_score` и наоборот."
   ]
  },
  {
   "cell_type": "code",
   "execution_count": 13,
   "metadata": {},
   "outputs": [
    {
     "data": {
      "text/plain": [
       "count    7462.000000\n",
       "mean        7.126548\n",
       "std         1.499429\n",
       "min         0.000000\n",
       "25%         6.400000\n",
       "50%         7.500000\n",
       "75%         8.200000\n",
       "max         9.700000\n",
       "Name: user_score, dtype: float64"
      ]
     },
     "execution_count": 13,
     "metadata": {},
     "output_type": "execute_result"
    }
   ],
   "source": [
    "df['user_score'].describe()"
   ]
  },
  {
   "cell_type": "code",
   "execution_count": 14,
   "metadata": {},
   "outputs": [
    {
     "data": {
      "text/plain": [
       "count    7982.000000\n",
       "mean       68.992608\n",
       "std        13.920049\n",
       "min        13.000000\n",
       "25%        60.000000\n",
       "50%        71.000000\n",
       "75%        79.000000\n",
       "max        98.000000\n",
       "Name: critic_score, dtype: float64"
      ]
     },
     "execution_count": 14,
     "metadata": {},
     "output_type": "execute_result"
    }
   ],
   "source": [
    "df['critic_score'].describe()"
   ]
  },
  {
   "cell_type": "code",
   "execution_count": 15,
   "metadata": {},
   "outputs": [],
   "source": [
    "user_mean_old = df['user_score'].describe()['mean']\n",
    "user_med_old = df['user_score'].describe()['50%']\n",
    "critic_mean_old = df['critic_score'].describe()['mean']\n",
    "critic_med_old = df['critic_score'].describe()['50%']"
   ]
  },
  {
   "cell_type": "code",
   "execution_count": 17,
   "metadata": {},
   "outputs": [
    {
     "data": {
      "image/png": "[encoded data removed]",
      "text/plain": [
       "<Figure size 648x432 with 1 Axes>"
      ]
     },
     "metadata": {
      "needs_background": "light"
     },
     "output_type": "display_data"
    }
   ],
   "source": [
    "plt.figure(figsize=(9,6));\n",
    "plt.hist(df['user_score']*10,label='оценка пользователй', bins=20, alpha=0.8);\n",
    "plt.hist(df['critic_score'],label='оценка критиков', bins=20, alpha=0.8);\n",
    "plt.xlabel('Оценка');\n",
    "plt.ylabel('Количество оценок');\n",
    "plt.title('Гистограмма оценок')\n",
    "plt.legend();\n",
    "plt.show;\n"
   ]
  },
  {
   "cell_type": "code",
   "execution_count": 18,
   "metadata": {},
   "outputs": [
    {
     "data": {
      "text/plain": [
       "count    7462.000000\n",
       "mean        7.126548\n",
       "std         1.499429\n",
       "min         0.000000\n",
       "25%         6.400000\n",
       "50%         7.500000\n",
       "75%         8.200000\n",
       "max         9.700000\n",
       "Name: user_score, dtype: float64"
      ]
     },
     "execution_count": 18,
     "metadata": {},
     "output_type": "execute_result"
    }
   ],
   "source": [
    "df['user_score'].describe()"
   ]
  },
  {
   "cell_type": "code",
   "execution_count": 19,
   "metadata": {},
   "outputs": [
    {
     "data": {
      "text/plain": [
       "count    7982.000000\n",
       "mean       68.992608\n",
       "std        13.920049\n",
       "min        13.000000\n",
       "25%        60.000000\n",
       "50%        71.000000\n",
       "75%        79.000000\n",
       "max        98.000000\n",
       "Name: critic_score, dtype: float64"
      ]
     },
     "execution_count": 19,
     "metadata": {},
     "output_type": "execute_result"
    }
   ],
   "source": [
    "df['critic_score'].describe()"
   ]
  },
  {
   "cell_type": "code",
   "execution_count": 20,
   "metadata": {},
   "outputs": [],
   "source": [
    "user_mean_new = df['user_score'].describe()['mean']\n",
    "user_med_new= df['user_score'].describe()['50%']\n",
    "critic_mean_new = df['critic_score'].describe()['mean']\n",
    "critic_med_new = df['critic_score'].describe()['50%']"
   ]
  },
  {
   "cell_type": "markdown",
   "metadata": {},
   "source": [
    "Посчитаем изменение средней и медианы после подстановки:"
   ]
  },
  {
   "cell_type": "code",
   "execution_count": 21,
   "metadata": {},
   "outputs": [
    {
     "name": "stdout",
     "output_type": "stream",
     "text": [
      "Изменение среднего значения user_score:   0.00%\n",
      "изменение медианного значения user_score: 0.00%\n",
      "изменение среднего значения critic_score: 0.00%\n",
      "изменение медианного значения user_score: 0.00%\n"
     ]
    }
   ],
   "source": [
    "print(f'Изменение среднего значения user_score:   {(1 - user_mean_new / user_mean_old):.2%}')\n",
    "print(f'изменение медианного значения user_score: {(1-user_med_new/user_med_old):.2%}')\n",
    "print(f'изменение среднего значения critic_score: {(1-critic_mean_new/critic_mean_old):.2%}')\n",
    "print(f'изменение медианного значения user_score: {(1-critic_med_new/critic_med_old):.2%}')"
   ]
  },
  {
   "cell_type": "markdown",
   "metadata": {},
   "source": [
    "Изменения незначительны."
   ]
  },
  {
   "cell_type": "markdown",
   "metadata": {},
   "source": [
    "Посчитаем суммарные продажи:"
   ]
  },
  {
   "cell_type": "code",
   "execution_count": 22,
   "metadata": {},
   "outputs": [],
   "source": [
    "df['total_sales'] = df[['na_sales', 'jp_sales', 'eu_sales', 'other_sales']].sum(axis=1)"
   ]
  },
  {
   "cell_type": "markdown",
   "metadata": {},
   "source": [
    "Названия столбцов приведены к принятому стилю. Удалено 273 строчки из-за пропусков в столбцах name, year_of_release, genre.\n",
    "Значения tbd были заменены NaN. Добавлен столбец с суммарными продажами по всем регионам `total_sales`."
   ]
  },
  {
   "cell_type": "markdown",
   "metadata": {},
   "source": [
    "# Исследовательский анализ данных"
   ]
  },
  {
   "cell_type": "markdown",
   "metadata": {},
   "source": [
    "Сколько игр выпускалось каждый год:"
   ]
  },
  {
   "cell_type": "code",
   "execution_count": 23,
   "metadata": {},
   "outputs": [
    {
     "data": {
      "text/plain": [
       "year_of_release\n",
       "1980       9\n",
       "1981      46\n",
       "1982      36\n",
       "1983      17\n",
       "1984      14\n",
       "1985      14\n",
       "1986      21\n",
       "1987      16\n",
       "1988      15\n",
       "1989      17\n",
       "1990      16\n",
       "1991      41\n",
       "1992      43\n",
       "1993      60\n",
       "1994     121\n",
       "1995     219\n",
       "1996     263\n",
       "1997     289\n",
       "1998     379\n",
       "1999     338\n",
       "2000     350\n",
       "2001     482\n",
       "2002     829\n",
       "2003     775\n",
       "2004     762\n",
       "2005     939\n",
       "2006    1006\n",
       "2007    1197\n",
       "2008    1427\n",
       "2009    1426\n",
       "2010    1255\n",
       "2011    1136\n",
       "2012     652\n",
       "2013     544\n",
       "2014     581\n",
       "2015     606\n",
       "2016     502\n",
       "Name: name, dtype: int64"
      ]
     },
     "execution_count": 23,
     "metadata": {},
     "output_type": "execute_result"
    }
   ],
   "source": [
    "df.groupby('year_of_release')['name'].count()"
   ]
  },
  {
   "cell_type": "code",
   "execution_count": 24,
   "metadata": {},
   "outputs": [
    {
     "data": {
      "image/png": "[encoded data removed]",
      "text/plain": [
       "<Figure size 1080x720 with 1 Axes>"
      ]
     },
     "metadata": {
      "needs_background": "light"
     },
     "output_type": "display_data"
    }
   ],
   "source": [
    "plt.figure(figsize=(15, 10))\n",
    "plt.plot(df.groupby('year_of_release').size().index, df.groupby('year_of_release').size().values, marker='o')\n",
    "plt.xlabel('Год релиза')\n",
    "plt.ylabel('Количество релизов')\n",
    "plt.title('Количество релизов игр по годам')\n",
    "plt.grid(True)\n",
    "\n",
    "\n",
    "plt.show()"
   ]
  },
  {
   "cell_type": "markdown",
   "metadata": {},
   "source": [
    "Пик продаж игр приходится на период с 2006 по 2011 г."
   ]
  },
  {
   "cell_type": "markdown",
   "metadata": {},
   "source": [
    "Продажи по платформам:"
   ]
  },
  {
   "cell_type": "code",
   "execution_count": 25,
   "metadata": {},
   "outputs": [
    {
     "data": {
      "text/plain": [
       "platform\n",
       "PS2     1233.56\n",
       "X360     961.24\n",
       "PS3      931.33\n",
       "Wii      891.18\n",
       "DS       802.78\n",
       "PS       727.58\n",
       "PS4      314.14\n",
       "GBA      312.88\n",
       "PSP      289.53\n",
       "3DS      257.81\n",
       "PC       255.76\n",
       "GB       254.43\n",
       "XB       251.57\n",
       "NES      251.05\n",
       "N64      218.01\n",
       "SNES     200.04\n",
       "GC       196.73\n",
       "XOne     159.32\n",
       "2600      86.48\n",
       "WiiU      82.19\n",
       "PSV       53.81\n",
       "SAT       33.59\n",
       "GEN       28.35\n",
       "DC        15.95\n",
       "SCD        1.86\n",
       "NG         1.44\n",
       "WS         1.42\n",
       "TG16       0.16\n",
       "3DO        0.10\n",
       "GG         0.04\n",
       "PCFX       0.03\n",
       "Name: total_sales, dtype: float64"
      ]
     },
     "execution_count": 25,
     "metadata": {},
     "output_type": "execute_result"
    }
   ],
   "source": [
    "df.groupby('platform')['total_sales'].sum().sort_values(ascending=False)"
   ]
  },
  {
   "cell_type": "markdown",
   "metadata": {},
   "source": [
    "Видно, что больше всего продаж на устаревших платформах *PS2*, *X360*, *Wii*."
   ]
  },
  {
   "cell_type": "markdown",
   "metadata": {},
   "source": [
    "Изучим топ-3 платформ по продажам в год:"
   ]
  },
  {
   "cell_type": "code",
   "execution_count": 26,
   "metadata": {},
   "outputs": [
    {
     "data": {
      "text/plain": [
       "year_of_release\n",
       "2000     82\n",
       "2001    185\n",
       "2002    280\n",
       "2003    256\n",
       "2004    259\n",
       "2005    260\n",
       "2006    259\n",
       "2007    214\n",
       "2008    191\n",
       "2009     96\n",
       "2010     38\n",
       "2011      7\n",
       "Name: name, dtype: int64"
      ]
     },
     "execution_count": 26,
     "metadata": {},
     "output_type": "execute_result"
    }
   ],
   "source": [
    "df.query('platform==\"PS2\"').groupby(['year_of_release'])['name'].count()"
   ]
  },
  {
   "cell_type": "markdown",
   "metadata": {},
   "source": [
    "Платформа вышла в 2000 году. В 2006 года вышло следующее поколоние консоли. С 2006 года количество игр на ней уменьшается"
   ]
  },
  {
   "cell_type": "code",
   "execution_count": 27,
   "metadata": {},
   "outputs": [
    {
     "data": {
      "text/plain": [
       "year_of_release\n",
       "2005     18\n",
       "2006     93\n",
       "2007    123\n",
       "2008    146\n",
       "2009    172\n",
       "2010    182\n",
       "2011    206\n",
       "2012    106\n",
       "2013     75\n",
       "2014     63\n",
       "2015     35\n",
       "2016     13\n",
       "Name: name, dtype: int64"
      ]
     },
     "execution_count": 27,
     "metadata": {},
     "output_type": "execute_result"
    }
   ],
   "source": [
    "df.query('platform==\"X360\"').groupby(['year_of_release'])['name'].count()"
   ]
  },
  {
   "cell_type": "markdown",
   "metadata": {},
   "source": [
    "Платформа вышла в 2005 году. В 2013 года вышло следующее поколоние консоли. С 2011 года количество игр на ней уменьшается"
   ]
  },
  {
   "cell_type": "code",
   "execution_count": 28,
   "metadata": {},
   "outputs": [
    {
     "data": {
      "text/plain": [
       "year_of_release\n",
       "2006     44\n",
       "2007    185\n",
       "2008    282\n",
       "2009    325\n",
       "2010    253\n",
       "2011    143\n",
       "2012     31\n",
       "2013     12\n",
       "2014      6\n",
       "2015      4\n",
       "2016      1\n",
       "Name: name, dtype: int64"
      ]
     },
     "execution_count": 28,
     "metadata": {},
     "output_type": "execute_result"
    }
   ],
   "source": [
    "df.query('platform==\"Wii\"').groupby(['year_of_release'])['name'].count()"
   ]
  },
  {
   "cell_type": "markdown",
   "metadata": {},
   "source": [
    "Платформа вышла в 2006 году. В 2012 года вышло следующее поколоние консоли. С 2009 года количество игр на ней уменьшается"
   ]
  },
  {
   "cell_type": "markdown",
   "metadata": {},
   "source": [
    "Построим распределения по годам для платформ с наибольшими продажами за весь период:"
   ]
  },
  {
   "cell_type": "code",
   "execution_count": 29,
   "metadata": {},
   "outputs": [
    {
     "data": {
      "image/png": "[encoded data removed]",
      "text/plain": [
       "<Figure size 1080x720 with 1 Axes>"
      ]
     },
     "metadata": {
      "needs_background": "light"
     },
     "output_type": "display_data"
    }
   ],
   "source": [
    "#Найдем топ-5 платформ за все время:\n",
    "top5_plat_alltime = df.groupby('platform')['total_sales'].sum().sort_values(ascending=False).head(5)\n",
    "\n",
    "#В исходной таблице выберем только те, строки, в которых есть наши топ-5 платформ:\n",
    "top5_plat = df[df['platform'].isin(top5_plat_alltime.index)]\n",
    "\n",
    "#Сгруппируем таблицу по годам и платформам, чтобы построить график\n",
    "alltime_platform_sales = top5_plat.groupby(['platform', 'year_of_release'])['total_sales'].sum().reset_index()\n",
    "\n",
    "#Для цикла нужно найти все названия платформ:\n",
    "alltime_platforms = alltime_platform_sales['platform'].unique()\n",
    "\n",
    "plt.figure(figsize=(15, 10))\n",
    "\n",
    "# Строим отдельный график для каждой платформы\n",
    "for platform in alltime_platforms:\n",
    "    data = alltime_platform_sales[alltime_platform_sales['platform'] == platform]\n",
    "    plt.plot(data['year_of_release'], data['total_sales'], marker='o', label=platform)\n",
    "    \n",
    "plt.xlabel('Год релиза')\n",
    "plt.ylabel('Глобальные продажи (млн копий)')\n",
    "plt.title('Распределения по годам для платформ с наибольшими продажами за весь период')\n",
    "plt.legend()\n",
    "plt.grid(True)\n",
    "plt.show()"
   ]
  },
  {
   "cell_type": "markdown",
   "metadata": {},
   "source": [
    "Можно сказать, что время жизни составляет примерно 8 лет. Однако надо учесть, что взяты данные о старых платформах. Сейчас, вероятно, ситуация несколько иная."
   ]
  },
  {
   "cell_type": "markdown",
   "metadata": {},
   "source": [
    "Актуальными будем считать данные с 2014 года, когда старые платформы уже отошли на второй план:"
   ]
  },
  {
   "cell_type": "code",
   "execution_count": 30,
   "metadata": {},
   "outputs": [
    {
     "name": "stdout",
     "output_type": "stream",
     "text": [
      "<class 'pandas.core.frame.DataFrame'>\n",
      "Int64Index: 1689 entries, 31 to 16442\n",
      "Data columns (total 12 columns):\n",
      " #   Column           Non-Null Count  Dtype  \n",
      "---  ------           --------------  -----  \n",
      " 0   name             1689 non-null   object \n",
      " 1   platform         1689 non-null   object \n",
      " 2   year_of_release  1689 non-null   int64  \n",
      " 3   genre            1689 non-null   object \n",
      " 4   na_sales         1689 non-null   float64\n",
      " 5   eu_sales         1689 non-null   float64\n",
      " 6   jp_sales         1689 non-null   float64\n",
      " 7   other_sales      1689 non-null   float64\n",
      " 8   critic_score     718 non-null    float64\n",
      " 9   user_score       888 non-null    float64\n",
      " 10  rating           940 non-null    object \n",
      " 11  total_sales      1689 non-null   float64\n",
      "dtypes: float64(7), int64(1), object(4)\n",
      "memory usage: 171.5+ KB\n"
     ]
    }
   ],
   "source": [
    "df_2014 = df.query('year_of_release >= 2014')\n",
    "df_2014.info()"
   ]
  },
  {
   "cell_type": "code",
   "execution_count": 31,
   "metadata": {},
   "outputs": [
    {
     "name": "stdout",
     "output_type": "stream",
     "text": [
      "Пропусков в столбце \"name\":0\n",
      "Пропусков в столбце \"platform\":0\n",
      "Пропусков в столбце \"year_of_release\":0\n",
      "Пропусков в столбце \"genre\":0\n",
      "Пропусков в столбце \"na_sales\":0\n",
      "Пропусков в столбце \"eu_sales\":0\n",
      "Пропусков в столбце \"jp_sales\":0\n",
      "Пропусков в столбце \"other_sales\":0\n",
      "Пропусков в столбце \"critic_score\":971\n",
      "Пропусков в столбце \"user_score\":801\n",
      "Пропусков в столбце \"rating\":749\n",
      "Пропусков в столбце \"total_sales\":0\n"
     ]
    }
   ],
   "source": [
    "for column in df_2014.columns:\n",
    "    missing_data = df_2014[column].isna().sum()\n",
    "    print(f'Пропусков в столбце \"{column}\":{missing_data}')"
   ]
  },
  {
   "cell_type": "code",
   "execution_count": 32,
   "metadata": {},
   "outputs": [
    {
     "data": {
      "text/plain": [
       "platform\n",
       "PS4     288.15\n",
       "XOne    140.36\n",
       "3DS      86.68\n",
       "PS3      68.18\n",
       "X360     48.22\n",
       "WiiU     42.98\n",
       "PC       27.05\n",
       "PSV      22.40\n",
       "Wii       5.07\n",
       "PSP       0.36\n",
       "Name: total_sales, dtype: float64"
      ]
     },
     "execution_count": 32,
     "metadata": {},
     "output_type": "execute_result"
    }
   ],
   "source": [
    "df_2014.groupby('platform')['total_sales'].sum().sort_values(ascending=False)"
   ]
  },
  {
   "cell_type": "markdown",
   "metadata": {},
   "source": [
    "В качестве потенциально прибыльных платформ возьмем *PS4*, *XOne* и *3DS*"
   ]
  },
  {
   "cell_type": "code",
   "execution_count": 33,
   "metadata": {},
   "outputs": [
    {
     "data": {
      "image/png": "[encoded data removed]",
      "text/plain": [
       "<Figure size 1080x720 with 1 Axes>"
      ]
     },
     "metadata": {
      "needs_background": "light"
     },
     "output_type": "display_data"
    }
   ],
   "source": [
    "platform_sales = df_2014.groupby(['platform', 'year_of_release'])['total_sales'].sum().reset_index()\n",
    "\n",
    "platforms = platform_sales['platform'].unique()\n",
    "\n",
    "plt.figure(figsize=(15, 10))\n",
    "\n",
    "# Строим отдельный график для каждой платформы\n",
    "for platform in platforms:\n",
    "    data = platform_sales[platform_sales['platform'] == platform]\n",
    "    plt.plot(data['year_of_release'], data['total_sales'], marker='o', linestyle='-', label=platform)\n",
    "\n",
    "plt.xlabel('Год релиза')\n",
    "plt.ylabel('Глобальные продажи (млн копий)')\n",
    "plt.title('Динамика продаж игр по платформам (с 2014 года)')\n",
    "plt.legend()\n",
    "plt.grid(True)\n",
    "plt.show()"
   ]
  },
  {
   "cell_type": "markdown",
   "metadata": {},
   "source": [
    "*PS4* и *XOne* в любом случае самые интересные платформы по причине своей популярности."
   ]
  },
  {
   "cell_type": "code",
   "execution_count": 34,
   "metadata": {},
   "outputs": [
    {
     "data": {
      "text/plain": [
       "platform  year_of_release\n",
       "3DS       2014                43.76\n",
       "          2015                27.78\n",
       "          2016                15.14\n",
       "PS4       2014               100.00\n",
       "          2015               118.90\n",
       "          2016                69.25\n",
       "XOne      2014                54.07\n",
       "          2015                60.14\n",
       "          2016                26.15\n",
       "Name: total_sales, dtype: float64"
      ]
     },
     "execution_count": 34,
     "metadata": {},
     "output_type": "execute_result"
    }
   ],
   "source": [
    "df_2014.query('platform == \"PS4\" or platform == \"XOne\" or platform == \"3DS\"').groupby(['platform','year_of_release'])['total_sales'].sum()"
   ]
  },
  {
   "cell_type": "markdown",
   "metadata": {},
   "source": [
    "Это актуальные платформы с наибольшими продажами."
   ]
  },
  {
   "cell_type": "markdown",
   "metadata": {},
   "source": [
    "Построим диаграмму размаха для выбранных платформ:"
   ]
  },
  {
   "cell_type": "code",
   "execution_count": 35,
   "metadata": {
    "scrolled": false
   },
   "outputs": [
    {
     "data": {
      "image/png": "[encoded data removed]",
      "text/plain": [
       "<Figure size 1440x720 with 1 Axes>"
      ]
     },
     "metadata": {
      "needs_background": "light"
     },
     "output_type": "display_data"
    }
   ],
   "source": [
    "ax = df_2014.boxplot(by='platform',column='total_sales',figsize=(20,10))\n",
    "plt.xlabel('Платформа')\n",
    "plt.ylabel('Объем продаж, млн')\n",
    "plt.title('Диаграмма размаха для трех самых популярных платформ')\n",
    "plt.ylim(0,3);"
   ]
  },
  {
   "cell_type": "markdown",
   "metadata": {},
   "source": [
    "И все же я бы остановился на своем изначальном выборе: *PS4*, *XOne*, *3DS*. Как я вижу, основной конкурент *3DS* - *WiiU*, но *3DS* показывает более надежные стабильные продажи."
   ]
  },
  {
   "cell_type": "code",
   "execution_count": 36,
   "metadata": {},
   "outputs": [
    {
     "data": {
      "text/plain": [
       "count    376.000000\n",
       "mean       0.766356\n",
       "std        1.614969\n",
       "min        0.010000\n",
       "25%        0.057500\n",
       "50%        0.185000\n",
       "75%        0.690000\n",
       "max       14.630000\n",
       "Name: total_sales, dtype: float64"
      ]
     },
     "execution_count": 36,
     "metadata": {},
     "output_type": "execute_result"
    }
   ],
   "source": [
    "df_2014.query('platform == \"PS4\"')['total_sales'].describe()"
   ]
  },
  {
   "cell_type": "code",
   "execution_count": 37,
   "metadata": {},
   "outputs": [
    {
     "data": {
      "text/plain": [
       "count    228.000000\n",
       "mean       0.615614\n",
       "std        1.046513\n",
       "min        0.010000\n",
       "25%        0.050000\n",
       "50%        0.205000\n",
       "75%        0.632500\n",
       "max        7.390000\n",
       "Name: total_sales, dtype: float64"
      ]
     },
     "execution_count": 37,
     "metadata": {},
     "output_type": "execute_result"
    }
   ],
   "source": [
    "df_2014.query('platform == \"XOne\"')['total_sales'].describe()"
   ]
  },
  {
   "cell_type": "code",
   "execution_count": 38,
   "metadata": {},
   "outputs": [
    {
     "data": {
      "text/plain": [
       "count    212.000000\n",
       "mean       0.408868\n",
       "std        1.188368\n",
       "min        0.010000\n",
       "25%        0.030000\n",
       "50%        0.090000\n",
       "75%        0.250000\n",
       "max       11.680000\n",
       "Name: total_sales, dtype: float64"
      ]
     },
     "execution_count": 38,
     "metadata": {},
     "output_type": "execute_result"
    }
   ],
   "source": [
    "df_2014.query('platform == \"3DS\"')['total_sales'].describe()"
   ]
  },
  {
   "cell_type": "markdown",
   "metadata": {},
   "source": [
    "Медиана продаж отличается слабо для всех платформ. Широкие ящики у PS4 и XOne говорят о большом количестве успешных и неуспешных игр. У 3DS игры имеют стабильное распределение по продажам. Самые крупные продажи у PS4, но у 3DS продажи более стабильные."
   ]
  },
  {
   "cell_type": "markdown",
   "metadata": {},
   "source": [
    "Проверим отзывы пользователей и критиков влияют на продажи:"
   ]
  },
  {
   "cell_type": "markdown",
   "metadata": {},
   "source": [
    "Корреляции оценок и продаж для PS4, XOne, 3DS и по всем платформам:"
   ]
  },
  {
   "cell_type": "code",
   "execution_count": 39,
   "metadata": {},
   "outputs": [
    {
     "name": "stdout",
     "output_type": "stream",
     "text": [
      "Коэффициент корреляции между продажами и оценкой критиков для PS4: 0.40266141068104094\n",
      "Коэффициент корреляции между продажами и оценкой пользователей для PS4: -0.040131589472697356\n"
     ]
    }
   ],
   "source": [
    "print('Коэффициент корреляции между продажами и оценкой критиков для PS4:',df_2014.query('platform == \"PS4\"')['total_sales'].corr(df_2014['critic_score']))\n",
    "print('Коэффициент корреляции между продажами и оценкой пользователей для PS4:', df_2014.query('platform == \"PS4\"')['total_sales'].corr(df_2014['user_score']))"
   ]
  },
  {
   "cell_type": "code",
   "execution_count": 40,
   "metadata": {},
   "outputs": [
    {
     "name": "stdout",
     "output_type": "stream",
     "text": [
      "Коэффициент корреляции между продажами и оценкой критиков для XOne: 0.42867694370333226\n",
      "Коэффициент корреляции между продажами и оценкой пользователей для XOne: -0.0703839280647581\n"
     ]
    }
   ],
   "source": [
    "print('Коэффициент корреляции между продажами и оценкой критиков для XOne:',df_2014.query('platform == \"XOne\"')['total_sales'].corr(df_2014['critic_score']))\n",
    "print('Коэффициент корреляции между продажами и оценкой пользователей для XOne:',df_2014.query('platform == \"XOne\"')['total_sales'].corr(df_2014['user_score']))"
   ]
  },
  {
   "cell_type": "code",
   "execution_count": 41,
   "metadata": {},
   "outputs": [
    {
     "name": "stdout",
     "output_type": "stream",
     "text": [
      "Коэффициент корреляции между продажами и оценкой критиков для 3DS: 0.31411749286905105\n",
      "Коэффициент корреляции между продажами и оценкой пользователей для 3DS: 0.2151932718527028\n"
     ]
    }
   ],
   "source": [
    "print('Коэффициент корреляции между продажами и оценкой критиков для 3DS:',df_2014.query('platform == \"3DS\"')['total_sales'].corr(df_2014['critic_score']))\n",
    "print('Коэффициент корреляции между продажами и оценкой пользователей для 3DS:',df_2014.query('platform == \"3DS\"')['total_sales'].corr(df_2014['user_score']))"
   ]
  },
  {
   "cell_type": "code",
   "execution_count": 42,
   "metadata": {},
   "outputs": [
    {
     "name": "stdout",
     "output_type": "stream",
     "text": [
      "Коэффициент корреляции между продажами и оценкой критиков по всем платформам: 0.3281050869663631\n",
      "Коэффициент корреляции между продажами и оценкой пользователей по всем платформам: -0.01307030500248458\n"
     ]
    }
   ],
   "source": [
    "print('Коэффициент корреляции между продажами и оценкой критиков по всем платформам:', df_2014['total_sales'].corr(df_2014['critic_score']))\n",
    "print('Коэффициент корреляции между продажами и оценкой пользователей по всем платформам:', df_2014['total_sales'].corr(df_2014['user_score']))"
   ]
  },
  {
   "cell_type": "markdown",
   "metadata": {},
   "source": [
    "По всем платформам продажи слабо коррелируют с оценками критиков (0.33) и вообще не коррелируют с оценками пользователей(-0.01). Для *PS4* и *XOne* оценки критиков средне коррелируют с продажами(0.40 и 0.43). Для *3DS* корреляция продаж с оценками критиков совпадает с корреляцией по всем платформам, но появилась слабая корреляция с оценками пользователей (0.22), что выбивается из всей картины."
   ]
  },
  {
   "cell_type": "markdown",
   "metadata": {},
   "source": [
    "Цикл для вывода диаграмм рассеяния по всем платформам:"
   ]
  },
  {
   "cell_type": "code",
   "execution_count": 43,
   "metadata": {
    "scrolled": true
   },
   "outputs": [
    {
     "data": {
      "image/png": "[encoded data removed]",
      "text/plain": [
       "<Figure size 432x288 with 1 Axes>"
      ]
     },
     "metadata": {
      "needs_background": "light"
     },
     "output_type": "display_data"
    },
    {
     "data": {
      "image/png": "[encoded data removed]",
      "text/plain": [
       "<Figure size 432x288 with 1 Axes>"
      ]
     },
     "metadata": {
      "needs_background": "light"
     },
     "output_type": "display_data"
    },
    {
     "data": {
      "image/png": "[encoded data removed]",
      "text/plain": [
       "<Figure size 432x288 with 1 Axes>"
      ]
     },
     "metadata": {
      "needs_background": "light"
     },
     "output_type": "display_data"
    },
    {
     "data": {
      "image/png": "[encoded data removed]",
      "text/plain": [
       "<Figure size 432x288 with 1 Axes>"
      ]
     },
     "metadata": {
      "needs_background": "light"
     },
     "output_type": "display_data"
    },
    {
     "data": {
      "image/png": "[encoded data removed]",
      "text/plain": [
       "<Figure size 432x288 with 1 Axes>"
      ]
     },
     "metadata": {
      "needs_background": "light"
     },
     "output_type": "display_data"
    },
    {
     "data": {
      "image/png": "[encoded data removed]",
      "text/plain": [
       "<Figure size 432x288 with 1 Axes>"
      ]
     },
     "metadata": {
      "needs_background": "light"
     },
     "output_type": "display_data"
    },
    {
     "data": {
      "image/png": "[encoded data removed]",
      "text/plain": [
       "<Figure size 432x288 with 1 Axes>"
      ]
     },
     "metadata": {
      "needs_background": "light"
     },
     "output_type": "display_data"
    },
    {
     "data": {
      "image/png": "[encoded data removed]",
      "text/plain": [
       "<Figure size 432x288 with 1 Axes>"
      ]
     },
     "metadata": {
      "needs_background": "light"
     },
     "output_type": "display_data"
    },
    {
     "data": {
      "image/png": "[encoded data removed]",
      "text/plain": [
       "<Figure size 432x288 with 1 Axes>"
      ]
     },
     "metadata": {
      "needs_background": "light"
     },
     "output_type": "display_data"
    },
    {
     "data": {
      "image/png": "[encoded data removed]",
      "text/plain": [
       "<Figure size 432x288 with 1 Axes>"
      ]
     },
     "metadata": {
      "needs_background": "light"
     },
     "output_type": "display_data"
    },
    {
     "data": {
      "image/png": "[encoded data removed]",
      "text/plain": [
       "<Figure size 432x288 with 1 Axes>"
      ]
     },
     "metadata": {
      "needs_background": "light"
     },
     "output_type": "display_data"
    },
    {
     "data": {
      "image/png": "[encoded data removed]",
      "text/plain": [
       "<Figure size 432x288 with 1 Axes>"
      ]
     },
     "metadata": {
      "needs_background": "light"
     },
     "output_type": "display_data"
    },
    {
     "data": {
      "image/png": "[encoded data removed]",
      "text/plain": [
       "<Figure size 432x288 with 1 Axes>"
      ]
     },
     "metadata": {
      "needs_background": "light"
     },
     "output_type": "display_data"
    },
    {
     "data": {
      "image/png": "[encoded data removed]",
      "text/plain": [
       "<Figure size 432x288 with 1 Axes>"
      ]
     },
     "metadata": {
      "needs_background": "light"
     },
     "output_type": "display_data"
    },
    {
     "data": {
      "image/png": "[encoded data removed]",
      "text/plain": [
       "<Figure size 432x288 with 1 Axes>"
      ]
     },
     "metadata": {
      "needs_background": "light"
     },
     "output_type": "display_data"
    },
    {
     "data": {
      "image/png": "[encoded data removed]",
      "text/plain": [
       "<Figure size 432x288 with 1 Axes>"
      ]
     },
     "metadata": {
      "needs_background": "light"
     },
     "output_type": "display_data"
    },
    {
     "data": {
      "image/png": "[encoded data removed]",
      "text/plain": [
       "<Figure size 432x288 with 1 Axes>"
      ]
     },
     "metadata": {
      "needs_background": "light"
     },
     "output_type": "display_data"
    },
    {
     "data": {
      "image/png": "[encoded data removed]",
      "text/plain": [
       "<Figure size 432x288 with 1 Axes>"
      ]
     },
     "metadata": {
      "needs_background": "light"
     },
     "output_type": "display_data"
    },
    {
     "data": {
      "image/png": "[encoded data removed]",
      "text/plain": [
       "<Figure size 432x288 with 1 Axes>"
      ]
     },
     "metadata": {
      "needs_background": "light"
     },
     "output_type": "display_data"
    },
    {
     "data": {
      "image/png": "[encoded data removed]",
      "text/plain": [
       "<Figure size 432x288 with 1 Axes>"
      ]
     },
     "metadata": {
      "needs_background": "light"
     },
     "output_type": "display_data"
    }
   ],
   "source": [
    "platforms = df_2014['platform'].unique()\n",
    "scores = ['critic_score', 'user_score']\n",
    "for plat in platforms:\n",
    "    for score in scores:\n",
    "        ax = df_2014[df_2014['platform'] == plat].plot(x=score, y='total_sales', kind='scatter');\n",
    "        if score == 'critic_score':\n",
    "            plt.title(f'Диаграмма рассеяния по оценкам критиков и продажам для {plat}');\n",
    "        else:\n",
    "            plt.title(f'Диаграмма рассеяния по оценкам пользователей и продажам для {plat}');\n",
    "        if score == 'critic_score':\n",
    "            plt.xlabel('Оценка критиков');\n",
    "        else:\n",
    "            plt.xlabel('Оценка пользователей');\n",
    "        plt.ylabel('Объем продаж, млн. шт.');"
   ]
  },
  {
   "cell_type": "markdown",
   "metadata": {},
   "source": [
    "Найдем самые прибыльные жанры:"
   ]
  },
  {
   "cell_type": "code",
   "execution_count": 44,
   "metadata": {},
   "outputs": [],
   "source": [
    "#df_2014.groupby('genre')['total_sales'].sum().sort_values(ascending=False)"
   ]
  },
  {
   "cell_type": "code",
   "execution_count": 45,
   "metadata": {},
   "outputs": [],
   "source": [
    "#df_2014.groupby('genre')['total_sales'].count().sort_values(ascending=False)"
   ]
  },
  {
   "cell_type": "markdown",
   "metadata": {},
   "source": [
    "Построим визуализацию по медианным продажам для каждого жанра:\n"
   ]
  },
  {
   "cell_type": "code",
   "execution_count": 46,
   "metadata": {},
   "outputs": [
    {
     "name": "stdout",
     "output_type": "stream",
     "text": [
      "genre\n",
      "Shooter         0.515\n",
      "Sports          0.180\n",
      "Platform        0.140\n",
      "Fighting        0.125\n",
      "Role-Playing    0.110\n",
      "Simulation      0.100\n",
      "Action          0.090\n",
      "Misc            0.090\n",
      "Racing          0.090\n",
      "Strategy        0.060\n",
      "Puzzle          0.045\n",
      "Adventure       0.030\n",
      "Name: total_sales, dtype: float64\n"
     ]
    },
    {
     "data": {
      "image/png": "[encoded data removed]",
      "text/plain": [
       "<Figure size 720x360 with 1 Axes>"
      ]
     },
     "metadata": {
      "needs_background": "light"
     },
     "output_type": "display_data"
    }
   ],
   "source": [
    "#Сгруппируем данные по жанру, найдем медиану продаж и выведем список:\n",
    "genre_median_sales = df_2014.groupby('genre')['total_sales'].median().sort_values(ascending=False)\n",
    "print(genre_median_sales)\n",
    "\n",
    "#Визуализируем это:\n",
    "plt.figure(figsize=(10,5))\n",
    "genre_median_sales.plot(kind='bar')\n",
    "plt.title('Медианные продажи игр по жанрам')\n",
    "plt.xlabel('Жанр')\n",
    "plt.ylabel('Медианные продажи, млн. шт.')\n",
    "plt.grid(True)\n",
    "plt.show()"
   ]
  },
  {
   "cell_type": "markdown",
   "metadata": {},
   "source": [
    "Топ-3 жанра по медианным продажам: *Shooter*, *Sports*, *Misc*. Так как жанр *Misc* мало о чем конкретном может сказать, расположим на 3 месте жанр *Role-Playing*. \n",
    "\n",
    "Обратный топ-3: *Puzzle*, *Adventure*, *Strategy*"
   ]
  },
  {
   "cell_type": "markdown",
   "metadata": {},
   "source": [
    "# Портрет пользователя каждого региона"
   ]
  },
  {
   "cell_type": "markdown",
   "metadata": {},
   "source": [
    "Функция для определения топ-5 жанров для каждого региона:"
   ]
  },
  {
   "cell_type": "code",
   "execution_count": 47,
   "metadata": {},
   "outputs": [],
   "source": [
    "def top5_genres(region):\n",
    "    return df_2014.groupby('genre')[region].sum().sort_values(ascending=False).head(5)"
   ]
  },
  {
   "cell_type": "markdown",
   "metadata": {},
   "source": [
    "Функция для определения топ-5 платформ для каждого региона:"
   ]
  },
  {
   "cell_type": "code",
   "execution_count": 48,
   "metadata": {
    "scrolled": true
   },
   "outputs": [],
   "source": [
    "def top5_platforms(region):\n",
    "    \n",
    "    #Группируем по платформы по региону, сортируем в порядке убывания\n",
    "    platforms_by_sales = df_2014.groupby('platform')[region].sum().sort_values(ascending=False)\n",
    "    \n",
    "    #Считаем общее количество продаж\n",
    "    total_sales = platforms_by_sales.sum()\n",
    "    \n",
    "    #Топ 5 платформ\n",
    "    top5 = platforms_by_sales.head(5)\n",
    "    \n",
    "    #Из общего количества вычитаем продажи топ-5 платформ в группу \"Другие\"\n",
    "    other_sales = total_sales - top5.sum()\n",
    "    \n",
    "    #Добавляем в таблицу предыдущий результат\n",
    "    platform_pie = top5.append(pd.Series({'Другие': other_sales}))\n",
    "    \n",
    "    #Считаем доли\n",
    "    platform_pie = platform_pie / total_sales * 100 \n",
    "    \n",
    "    return platform_pie"
   ]
  },
  {
   "cell_type": "markdown",
   "metadata": {},
   "source": [
    "Функция для построения круговой диаграммы по долям платформ в каждом регионе:"
   ]
  },
  {
   "cell_type": "code",
   "execution_count": 49,
   "metadata": {},
   "outputs": [],
   "source": [
    "def plot_pie_chart(data, title):\n",
    "    plt.figure(figsize=(6, 6))\n",
    "    plt.pie(data, labels=data.index, autopct='%1.2f%%')\n",
    "    plt.title(title)\n",
    "    plt.show()"
   ]
  },
  {
   "cell_type": "markdown",
   "metadata": {},
   "source": [
    "Функция для построения столбчатой диаграммы по жанрам в каждом регионе:"
   ]
  },
  {
   "cell_type": "code",
   "execution_count": 50,
   "metadata": {},
   "outputs": [],
   "source": [
    "def genre_chart(data, title):\n",
    "    data.plot(kind='bar', figsize=(10, 5))\n",
    "    plt.title(title)\n",
    "    plt.ylabel('Средние продажи млн. шт.')\n",
    "    plt.xlabel('Жанр')\n",
    "    plt.grid(True)\n",
    "    plt.show()"
   ]
  },
  {
   "cell_type": "markdown",
   "metadata": {},
   "source": [
    "Функция для построния столбчатой диаграммы для определения влияния рейтинга *ESRB* на продажи:"
   ]
  },
  {
   "cell_type": "code",
   "execution_count": 51,
   "metadata": {},
   "outputs": [],
   "source": [
    "esrb = df_2014.groupby('rating')[['na_sales', 'eu_sales', 'jp_sales']].mean()\n",
    "\n",
    "def esrb_chart(data, title):\n",
    "    data.plot(kind='bar', figsize=(10, 5))\n",
    "    plt.title(title)\n",
    "    plt.ylabel('Средние продажи млн. шт.')\n",
    "    plt.xlabel('Рейтинг ESRB')\n",
    "    plt.grid(True)\n",
    "    plt.show()"
   ]
  },
  {
   "cell_type": "markdown",
   "metadata": {},
   "source": [
    "Япония:"
   ]
  },
  {
   "cell_type": "markdown",
   "metadata": {},
   "source": [
    "Определим 5 популярных жанров:"
   ]
  },
  {
   "cell_type": "code",
   "execution_count": 52,
   "metadata": {
    "scrolled": true
   },
   "outputs": [
    {
     "data": {
      "text/plain": [
       "genre\n",
       "Role-Playing    31.16\n",
       "Action          29.58\n",
       "Fighting         6.37\n",
       "Misc             5.61\n",
       "Shooter          4.87\n",
       "Name: jp_sales, dtype: float64"
      ]
     },
     "execution_count": 52,
     "metadata": {},
     "output_type": "execute_result"
    }
   ],
   "source": [
    "top5genres_jp = top5_genres('jp_sales')\n",
    "top5genres_jp"
   ]
  },
  {
   "cell_type": "code",
   "execution_count": 53,
   "metadata": {
    "scrolled": false
   },
   "outputs": [
    {
     "data": {
      "image/png": "[encoded data removed]",
      "text/plain": [
       "<Figure size 720x360 with 1 Axes>"
      ]
     },
     "metadata": {
      "needs_background": "light"
     },
     "output_type": "display_data"
    }
   ],
   "source": [
    "genre_chart(top5genres_jp, '5 популярных жанров в Японии')"
   ]
  },
  {
   "cell_type": "markdown",
   "metadata": {},
   "source": [
    "Определим доли пяти популярных платформ и построим круговую диаграмму:"
   ]
  },
  {
   "cell_type": "code",
   "execution_count": 54,
   "metadata": {
    "scrolled": false
   },
   "outputs": [
    {
     "data": {
      "text/plain": [
       "3DS       47.523902\n",
       "PS4       16.134923\n",
       "PSV       15.619293\n",
       "PS3       12.052852\n",
       "WiiU       7.852616\n",
       "Другие     0.816414\n",
       "dtype: float64"
      ]
     },
     "execution_count": 54,
     "metadata": {},
     "output_type": "execute_result"
    }
   ],
   "source": [
    "top5platforms_jp = top5_platforms('jp_sales')\n",
    "top5platforms_jp"
   ]
  },
  {
   "cell_type": "code",
   "execution_count": 55,
   "metadata": {
    "scrolled": true
   },
   "outputs": [
    {
     "data": {
      "image/png": "[encoded data removed]",
      "text/plain": [
       "<Figure size 432x432 with 1 Axes>"
      ]
     },
     "metadata": {},
     "output_type": "display_data"
    }
   ],
   "source": [
    "plot_pie_chart(top5platforms_jp, 'Доли платформ в Японии')"
   ]
  },
  {
   "cell_type": "markdown",
   "metadata": {},
   "source": [
    "Найдем зависимость продаж от возрастного рейтинга:"
   ]
  },
  {
   "cell_type": "code",
   "execution_count": 56,
   "metadata": {
    "scrolled": true
   },
   "outputs": [
    {
     "data": {
      "image/png": "[encoded data removed]",
      "text/plain": [
       "<Figure size 720x360 with 1 Axes>"
      ]
     },
     "metadata": {
      "needs_background": "light"
     },
     "output_type": "display_data"
    }
   ],
   "source": [
    "esrb_chart(esrb['jp_sales'], 'Средние продажи игр в Японии в зависимости от рейтинга ESRB')"
   ]
  },
  {
   "cell_type": "markdown",
   "metadata": {},
   "source": [
    "В Японии популярны платформы японского происхождения, платформы из других регионов не представлены. Можно выделить два доминирующих жанра: *Role-Playing*, *Action*. С большим отрывом самая популярная платформа *3DS*. Больше всего игр продаются с рейтингом *Т*"
   ]
  },
  {
   "cell_type": "markdown",
   "metadata": {},
   "source": [
    "Северная Америка:"
   ]
  },
  {
   "cell_type": "markdown",
   "metadata": {},
   "source": [
    "Определим 5 популярных жанров:"
   ]
  },
  {
   "cell_type": "code",
   "execution_count": 57,
   "metadata": {
    "scrolled": false
   },
   "outputs": [
    {
     "data": {
      "text/plain": [
       "genre\n",
       "Shooter         79.02\n",
       "Action          72.53\n",
       "Sports          46.13\n",
       "Role-Playing    33.47\n",
       "Misc            15.05\n",
       "Name: na_sales, dtype: float64"
      ]
     },
     "execution_count": 57,
     "metadata": {},
     "output_type": "execute_result"
    }
   ],
   "source": [
    "top5genres_na = top5_genres('na_sales')\n",
    "top5genres_na"
   ]
  },
  {
   "cell_type": "code",
   "execution_count": 58,
   "metadata": {},
   "outputs": [
    {
     "data": {
      "image/png": "[encoded data removed]",
      "text/plain": [
       "<Figure size 720x360 with 1 Axes>"
      ]
     },
     "metadata": {
      "needs_background": "light"
     },
     "output_type": "display_data"
    }
   ],
   "source": [
    "genre_chart(top5genres_na, '5 популярных жанров в Северной Америке')"
   ]
  },
  {
   "cell_type": "markdown",
   "metadata": {},
   "source": [
    "Определим доли пяти популярных платформ и построим круговую диаграмму:"
   ]
  },
  {
   "cell_type": "code",
   "execution_count": 59,
   "metadata": {
    "scrolled": false
   },
   "outputs": [
    {
     "data": {
      "text/plain": [
       "PS4       34.714497\n",
       "XOne      28.610153\n",
       "X360       9.962684\n",
       "3DS        7.970147\n",
       "PS3        7.762445\n",
       "Другие    10.980075\n",
       "dtype: float64"
      ]
     },
     "execution_count": 59,
     "metadata": {},
     "output_type": "execute_result"
    }
   ],
   "source": [
    "top5platforms_na = top5_platforms('na_sales')\n",
    "top5platforms_na"
   ]
  },
  {
   "cell_type": "code",
   "execution_count": 60,
   "metadata": {
    "scrolled": true
   },
   "outputs": [
    {
     "data": {
      "image/png": "[encoded data removed]",
      "text/plain": [
       "<Figure size 432x432 with 1 Axes>"
      ]
     },
     "metadata": {},
     "output_type": "display_data"
    }
   ],
   "source": [
    "plot_pie_chart(top5platforms_na, 'Доли платформ в Северной Америке')"
   ]
  },
  {
   "cell_type": "markdown",
   "metadata": {},
   "source": [
    "Найдем зависимость продаж от возрастного рейтинга:"
   ]
  },
  {
   "cell_type": "code",
   "execution_count": 61,
   "metadata": {
    "scrolled": true
   },
   "outputs": [
    {
     "data": {
      "image/png": "[encoded data removed]",
      "text/plain": [
       "<Figure size 720x360 with 1 Axes>"
      ]
     },
     "metadata": {
      "needs_background": "light"
     },
     "output_type": "display_data"
    }
   ],
   "source": [
    "esrb_chart(esrb['na_sales'], 'Средние продажи игр в Северной Америке в зависимости от рейтинга ESRB')"
   ]
  },
  {
   "cell_type": "markdown",
   "metadata": {},
   "source": [
    "В Северной Америке самые популярные платформы *PS4*, *XOne*, *X360*. Топ-3 жанра: *Shooter*, *Action*, *Sports*. Больше всего игр продаются с рейтингом *M*. То есть либо в этом регионе высокий возраст геймеров, либо никто на возрастные рейтинги не смотрит."
   ]
  },
  {
   "cell_type": "markdown",
   "metadata": {},
   "source": [
    "Европа:"
   ]
  },
  {
   "cell_type": "markdown",
   "metadata": {},
   "source": [
    "Определим 5 популярных жанров:"
   ]
  },
  {
   "cell_type": "code",
   "execution_count": 62,
   "metadata": {
    "scrolled": false
   },
   "outputs": [
    {
     "data": {
      "text/plain": [
       "genre\n",
       "Action          74.68\n",
       "Shooter         65.52\n",
       "Sports          45.73\n",
       "Role-Playing    28.17\n",
       "Racing          14.13\n",
       "Name: eu_sales, dtype: float64"
      ]
     },
     "execution_count": 62,
     "metadata": {},
     "output_type": "execute_result"
    }
   ],
   "source": [
    "top5genres_eu = top5_genres('eu_sales')\n",
    "top5genres_eu"
   ]
  },
  {
   "cell_type": "code",
   "execution_count": 63,
   "metadata": {},
   "outputs": [
    {
     "data": {
      "image/png": "[encoded data removed]",
      "text/plain": [
       "<Figure size 720x360 with 1 Axes>"
      ]
     },
     "metadata": {
      "needs_background": "light"
     },
     "output_type": "display_data"
    }
   ],
   "source": [
    "genre_chart(top5genres_eu, '5 популярных жанров в Европе')"
   ]
  },
  {
   "cell_type": "markdown",
   "metadata": {},
   "source": [
    "Определим доли пяти популярных платформ и построим круговую диаграмму:"
   ]
  },
  {
   "cell_type": "code",
   "execution_count": 64,
   "metadata": {
    "scrolled": false
   },
   "outputs": [
    {
     "data": {
      "text/plain": [
       "PS4       48.041968\n",
       "XOne      17.086597\n",
       "PS3        9.435496\n",
       "PC         6.638836\n",
       "3DS        5.955372\n",
       "Другие    12.841732\n",
       "dtype: float64"
      ]
     },
     "execution_count": 64,
     "metadata": {},
     "output_type": "execute_result"
    }
   ],
   "source": [
    "top5platforms_eu = top5_platforms('eu_sales')\n",
    "top5platforms_eu"
   ]
  },
  {
   "cell_type": "code",
   "execution_count": 65,
   "metadata": {
    "scrolled": true
   },
   "outputs": [
    {
     "data": {
      "image/png": "[encoded data removed]",
      "text/plain": [
       "<Figure size 432x432 with 1 Axes>"
      ]
     },
     "metadata": {},
     "output_type": "display_data"
    }
   ],
   "source": [
    "plot_pie_chart(top5platforms_eu, 'Доли платформ в Европе')"
   ]
  },
  {
   "cell_type": "markdown",
   "metadata": {},
   "source": [
    "Найдем зависимость продаж от возрастного рейтинга:"
   ]
  },
  {
   "cell_type": "code",
   "execution_count": 66,
   "metadata": {
    "scrolled": true
   },
   "outputs": [
    {
     "data": {
      "image/png": "[encoded data removed]",
      "text/plain": [
       "<Figure size 720x360 with 1 Axes>"
      ]
     },
     "metadata": {
      "needs_background": "light"
     },
     "output_type": "display_data"
    }
   ],
   "source": [
    "esrb_chart(esrb['eu_sales'], 'Средние продажи игр в Европе в зависимости от рейтинга ESRB')"
   ]
  },
  {
   "cell_type": "markdown",
   "metadata": {},
   "source": [
    "В Европе самые популярные платформы *PS4*, *XOne*, *PS3*. Топ-3 жанра:  *Action*, *Shooter*, *Sports*. Больше всего игр продаются с рейтингом *M*. То есть либо в этом регионе высокий возраст геймеров, либо никто на возрастные рейтинги не смотрит."
   ]
  },
  {
   "cell_type": "markdown",
   "metadata": {},
   "source": [
    "# Проверка гипотез"
   ]
  },
  {
   "cell_type": "code",
   "execution_count": 67,
   "metadata": {},
   "outputs": [],
   "source": [
    "df_2014 = df_2014.dropna(subset=['user_score']).reset_index(drop=True)"
   ]
  },
  {
   "cell_type": "code",
   "execution_count": 68,
   "metadata": {},
   "outputs": [
    {
     "data": {
      "text/plain": [
       "165"
      ]
     },
     "execution_count": 68,
     "metadata": {},
     "output_type": "execute_result"
    }
   ],
   "source": [
    "df_2014.query('platform == \"XOne\"')['user_score'].count()"
   ]
  },
  {
   "cell_type": "code",
   "execution_count": 69,
   "metadata": {},
   "outputs": [
    {
     "data": {
      "text/plain": [
       "122"
      ]
     },
     "execution_count": 69,
     "metadata": {},
     "output_type": "execute_result"
    }
   ],
   "source": [
    "df_2014.query('platform == \"PC\"')['user_score'].count()"
   ]
  },
  {
   "cell_type": "markdown",
   "metadata": {},
   "source": [
    "H0: Средние пользовательские рейтинги платформ Xbox One и PC одинаковые\n",
    "\n",
    "H1: Средние пользовательские рейтинги платформ Xbox One и PC неодинаковые"
   ]
  },
  {
   "cell_type": "code",
   "execution_count": 70,
   "metadata": {},
   "outputs": [
    {
     "name": "stdout",
     "output_type": "stream",
     "text": [
      "p-значение 0.10450507919348415\n",
      "среднее значение XOne 6.594545454545456\n",
      "среднее значение PC 6.298360655737705\n",
      "Не отвергаем нулевую гипотезу: С большой долей вероятности средние пользовательские рейтинги платформ XOne и PC не имеют статистически значимых отличий\n"
     ]
    }
   ],
   "source": [
    "alpha = 0.05\n",
    "\n",
    "result = st.ttest_ind(df_2014.query('platform == \"XOne\"')['user_score'], df_2014.query('platform == \"PC\"')['user_score'])\n",
    "\n",
    "print('p-значение',result.pvalue)\n",
    "\n",
    "a = df_2014.query('platform == \"XOne\"')['user_score'].mean()\n",
    "print('среднее значение XOne',a)\n",
    "b = df_2014.query('platform == \"PC\"')['user_score'].mean()\n",
    "print('среднее значение PC', b)\n",
    "\n",
    "\n",
    "if result.pvalue < alpha:\n",
    "    print(\"Отвергаем нулевую гипотезу: Средние пользовательские рейтинги платформ Xbox One и PC неодинаковые.\")\n",
    "else:\n",
    "    print(\"Не отвергаем нулевую гипотезу: С большой долей вероятности средние пользовательские рейтинги платформ XOne и PC не имеют статистически значимых отличий\")"
   ]
  },
  {
   "cell_type": "markdown",
   "metadata": {},
   "source": [
    "Пользователи этих платформ \"мыслят\" с большой долей вероятности одинаково."
   ]
  },
  {
   "cell_type": "markdown",
   "metadata": {},
   "source": [
    "Средние пользовательские рейтинги жанров Action (англ. «действие», экшен-игры) и Sports (англ. «спортивные соревнования») разные.\n",
    "\n",
    "H0: Средние пользовательские рейтинги жанров Action и Sports одинаковые.\n",
    "\n",
    "H1: Средние пользовательские рейтинги жанров Actionи Sports разные."
   ]
  },
  {
   "cell_type": "code",
   "execution_count": 71,
   "metadata": {},
   "outputs": [
    {
     "name": "stdout",
     "output_type": "stream",
     "text": [
      "p-значение 2.8711147985105864e-19\n",
      "6.760606060606061\n",
      "5.2251968503937\n",
      "Отвергаем нулевую гипотезу: Средние пользовательские рейтинги жанров Action и Sports разные.\n"
     ]
    }
   ],
   "source": [
    "alpha = 0.05\n",
    "\n",
    "result = st.ttest_ind(df_2014.query('genre == \"Action\"')['user_score'], df_2014.query('genre == \"Sports\"')['user_score'])\n",
    "\n",
    "print('p-значение',result.pvalue)\n",
    "\n",
    "a = df_2014.query('genre == \"Action\"')['user_score'].mean()\n",
    "print(a)\n",
    "b = df_2014.query('genre == \"Sports\"')['user_score'].mean()\n",
    "print(b)\n",
    "\n",
    "\n",
    "if result.pvalue < alpha:\n",
    "    print(\"Отвергаем нулевую гипотезу: Средние пользовательские рейтинги жанров Action и Sports разные.\")\n",
    "else:\n",
    "    print(\"Не отвергаем нулевую гипотезу: Средние пользовательские рейтинги жанров Actionи Sports одинаковые.\")"
   ]
  },
  {
   "cell_type": "markdown",
   "metadata": {},
   "source": [
    "# Вывод"
   ]
  },
  {
   "cell_type": "markdown",
   "metadata": {},
   "source": [
    "1. Обработка данных:\n",
    "    1. Удалена 271 строчки из-за пропусков в столбцах `name`, `year_of_release`, `genre`.\n",
    "    2. Значения *tbd* были заменены NaN.\n",
    "    3. Найдено и удалено 4 неявных дубликата строк совпадающих по столбцам `name`, `platform`, `year_of_release`.\n",
    "2. Исследовательский анализ данных:\n",
    "    1. Пик продаж игр приходится на период с 2006 по 2011 г.\n",
    "    2. Видно, что больше всего продаж на устаревших к 2016 году платформах *PS2*, *X360*, *Wii*.\n",
    "    3. Время жизни платформы составляет примерно 8 лет. Однако надо учесть, что взяты данные о старых платформах. Сейчас, вероятно, ситуация несколько иная.\n",
    "    4. Актуальными будем считать данные с 2014 года, когда старые платформы уже отошли на второй план.\n",
    "    5. Самыми перспективными платформами на 2017 год выбраны *PS4*, *XOne*, *3DS*. Медиана продаж у *PS4* и *XOne* cхожа, а у *3DS* заментно ниже. (*PS4*=0.19, *XOne*=0.21, *3DS*= 0.09). Широкие ящики у *PS4* и *XOne* говорят о большом количестве успешных и неуспешных игр. У *3DS* игры имеют стабильное распределение по продажам. Самые крупные продажи у *PS4*, но у *3DS* продажи более стабильные.\n",
    "    6. По всем платформам продажи слабо коррелируют с оценками критиков (0.33) и вообще не коррелируют с оценками пользователей(-0.01). Для *PS4* и *XOne* оценки критиков средне коррелируют с продажами(0.40 и 0.43). Для *3DS* корреляция продаж с оценками критиков совпадает с корреляцией по всем платформам, но появилась слабая корреляция с оценками пользователей (0.22), что выбивается из всей картины.\n",
    "    7. Топ-3 жанра по медианным продажам: *Shooter*, *Sports*, *Misc*. Так как жанр *Misc* мало о чем конкретном может сказать, расположим на 3 месте жанр *Role-Playing*. Обратный топ-3: *Puzzle*, *Adventure*, *Strategy*\n",
    "3. Портрет пользователя каждого регион:\n",
    "   1. Япония: В Японии популярны платформы японского происхождения, платформы из других регионов не представлены. Можно выделить два доминирующих жанра: *Role-Playing*, *Action*. С большим отрывом самая популярная платформа *3DS*. Больше всего игр продаются с рейтингом *Т*.\n",
    "   2. Северная Америка: В Северной Америке самые популярные платформы *PS4*, *XOne*, *X360*. Топ-3 жанра: *Shooter*, *Action*, *Sports*. Больше всего игр продаются с рейтингом *M*. То есть либо в этом регионе высокий возраст геймеров, либо никто на возрастные рейтинги не смотрит.\n",
    "   3. Европа: В Европе самые популярные платформы *PS4*, *XOne*, *PS3*. Топ-3 жанра:  *Action*, *Shooter*, *Sports*. Больше всего игр продаются с рейтингом *M*. То есть либо в этом регионе высокий возраст геймеров, либо никто на возрастные рейтинги не смотрит.\n",
    "4. Проверка гипотез:\n",
    "    1. Средние пользовательские рейтинги платформ Xbox One и PC одинаковые\n",
    "    2. Средние пользовательские рейтинги жанров Actionи Sports разные.\n",
    "5. Рекомендация отделу продаж:\n",
    "    Игра в жанра Экшн на *PS4* и *XOne*, без оглядки на возрастной рейтинг. Корреляция с отзывами от критиков средняя (0.40), поэтому следует обратить на это внимание. Оценки пользователей не влияют, на них внимание не обращать."
   ]
  }
 ],
 "metadata": {
  "ExecuteTimeLog": [
   {
    "duration": 1159,
    "start_time": "2025-01-27T06:23:25.567Z"
   },
   {
    "duration": 211,
    "start_time": "2025-01-27T06:24:01.519Z"
   },
   {
    "duration": 60,
    "start_time": "2025-01-27T06:24:17.607Z"
   },
   {
    "duration": 30,
    "start_time": "2025-01-27T06:26:25.905Z"
   },
   {
    "duration": 22,
    "start_time": "2025-01-27T06:26:35.828Z"
   },
   {
    "duration": 4,
    "start_time": "2025-01-28T07:29:49.818Z"
   },
   {
    "duration": 4,
    "start_time": "2025-01-28T07:31:39.351Z"
   },
   {
    "duration": 646,
    "start_time": "2025-01-28T07:32:00.744Z"
   },
   {
    "duration": 3,
    "start_time": "2025-01-28T07:32:15.898Z"
   },
   {
    "duration": 16,
    "start_time": "2025-01-28T07:34:52.640Z"
   },
   {
    "duration": 5,
    "start_time": "2025-01-28T07:39:53.387Z"
   },
   {
    "duration": 4,
    "start_time": "2025-01-28T07:39:59.790Z"
   },
   {
    "duration": 5,
    "start_time": "2025-01-28T07:40:05.007Z"
   },
   {
    "duration": 5,
    "start_time": "2025-01-28T07:40:12.735Z"
   },
   {
    "duration": 68,
    "start_time": "2025-01-28T07:40:17.447Z"
   },
   {
    "duration": 3,
    "start_time": "2025-01-28T07:40:22.806Z"
   },
   {
    "duration": 20,
    "start_time": "2025-01-28T07:40:25.023Z"
   },
   {
    "duration": 5,
    "start_time": "2025-01-28T07:40:35.406Z"
   },
   {
    "duration": 19,
    "start_time": "2025-01-28T07:40:37.403Z"
   },
   {
    "duration": 14,
    "start_time": "2025-01-28T07:41:01.868Z"
   },
   {
    "duration": 1043,
    "start_time": "2025-01-28T07:41:08.019Z"
   },
   {
    "duration": 124,
    "start_time": "2025-01-28T07:41:09.064Z"
   },
   {
    "duration": 14,
    "start_time": "2025-01-28T07:41:09.189Z"
   },
   {
    "duration": 15,
    "start_time": "2025-01-28T07:41:09.204Z"
   },
   {
    "duration": 13,
    "start_time": "2025-01-28T07:41:09.221Z"
   },
   {
    "duration": 38,
    "start_time": "2025-01-28T07:41:09.235Z"
   },
   {
    "duration": 14,
    "start_time": "2025-01-28T07:42:12.473Z"
   },
   {
    "duration": 21,
    "start_time": "2025-01-28T07:42:13.242Z"
   },
   {
    "duration": 1058,
    "start_time": "2025-01-28T07:42:28.198Z"
   },
   {
    "duration": 108,
    "start_time": "2025-01-28T07:42:29.258Z"
   },
   {
    "duration": 15,
    "start_time": "2025-01-28T07:42:29.367Z"
   },
   {
    "duration": 23,
    "start_time": "2025-01-28T07:42:29.383Z"
   },
   {
    "duration": 44,
    "start_time": "2025-01-28T07:42:29.408Z"
   },
   {
    "duration": 21,
    "start_time": "2025-01-28T07:42:29.454Z"
   },
   {
    "duration": 14,
    "start_time": "2025-01-28T07:42:39.965Z"
   },
   {
    "duration": 7,
    "start_time": "2025-01-28T07:44:36.618Z"
   },
   {
    "duration": 21,
    "start_time": "2025-01-28T07:44:37.453Z"
   },
   {
    "duration": 15,
    "start_time": "2025-01-28T07:44:56.431Z"
   },
   {
    "duration": 1043,
    "start_time": "2025-01-28T07:45:03.536Z"
   },
   {
    "duration": 115,
    "start_time": "2025-01-28T07:45:04.580Z"
   },
   {
    "duration": 25,
    "start_time": "2025-01-28T07:45:04.697Z"
   },
   {
    "duration": 8,
    "start_time": "2025-01-28T07:45:04.723Z"
   },
   {
    "duration": 28,
    "start_time": "2025-01-28T07:45:04.733Z"
   },
   {
    "duration": 20,
    "start_time": "2025-01-28T07:45:04.762Z"
   },
   {
    "duration": 5,
    "start_time": "2025-01-28T07:45:37.588Z"
   },
   {
    "duration": 21,
    "start_time": "2025-01-28T07:45:38.926Z"
   },
   {
    "duration": 7,
    "start_time": "2025-01-28T07:46:03.879Z"
   },
   {
    "duration": 6,
    "start_time": "2025-01-28T07:47:15.150Z"
   },
   {
    "duration": 7,
    "start_time": "2025-01-28T07:47:25.047Z"
   },
   {
    "duration": 6,
    "start_time": "2025-01-28T07:47:32.699Z"
   },
   {
    "duration": 14,
    "start_time": "2025-01-28T07:47:38.154Z"
   },
   {
    "duration": 21,
    "start_time": "2025-01-28T07:47:46.158Z"
   },
   {
    "duration": 12,
    "start_time": "2025-01-28T07:48:59.882Z"
   },
   {
    "duration": 15,
    "start_time": "2025-01-28T07:52:38.485Z"
   },
   {
    "duration": 12,
    "start_time": "2025-01-28T07:52:42.192Z"
   },
   {
    "duration": 21,
    "start_time": "2025-01-28T07:53:42.433Z"
   },
   {
    "duration": 14,
    "start_time": "2025-01-28T07:53:56.269Z"
   },
   {
    "duration": 6,
    "start_time": "2025-01-28T07:57:12.372Z"
   },
   {
    "duration": 99,
    "start_time": "2025-01-28T07:57:49.478Z"
   },
   {
    "duration": 472,
    "start_time": "2025-01-28T07:58:31.833Z"
   },
   {
    "duration": 10,
    "start_time": "2025-01-28T08:23:18.723Z"
   },
   {
    "duration": 10,
    "start_time": "2025-01-28T08:23:34.277Z"
   },
   {
    "duration": 21,
    "start_time": "2025-01-28T08:23:56.123Z"
   },
   {
    "duration": 120,
    "start_time": "2025-01-28T08:24:54.085Z"
   },
   {
    "duration": 126,
    "start_time": "2025-01-28T08:25:55.315Z"
   },
   {
    "duration": 117,
    "start_time": "2025-01-28T08:26:05.123Z"
   },
   {
    "duration": 107,
    "start_time": "2025-01-28T08:26:11.097Z"
   },
   {
    "duration": 111,
    "start_time": "2025-01-28T08:26:15.069Z"
   },
   {
    "duration": 110,
    "start_time": "2025-01-28T08:27:09.883Z"
   },
   {
    "duration": 199,
    "start_time": "2025-01-28T08:32:15.130Z"
   },
   {
    "duration": 161,
    "start_time": "2025-01-28T08:34:33.126Z"
   },
   {
    "duration": 1284,
    "start_time": "2025-01-29T07:05:03.620Z"
   },
   {
    "duration": 78,
    "start_time": "2025-01-29T07:05:04.906Z"
   },
   {
    "duration": 3,
    "start_time": "2025-01-29T07:05:04.986Z"
   },
   {
    "duration": 18,
    "start_time": "2025-01-29T07:05:04.991Z"
   },
   {
    "duration": 19,
    "start_time": "2025-01-29T07:05:05.011Z"
   },
   {
    "duration": 43,
    "start_time": "2025-01-29T07:05:05.032Z"
   },
   {
    "duration": 24,
    "start_time": "2025-01-29T07:05:05.077Z"
   },
   {
    "duration": 12,
    "start_time": "2025-01-29T07:05:05.102Z"
   },
   {
    "duration": 7,
    "start_time": "2025-01-29T07:05:05.115Z"
   },
   {
    "duration": 254,
    "start_time": "2025-01-29T07:05:05.124Z"
   },
   {
    "duration": 10,
    "start_time": "2025-01-29T07:05:05.379Z"
   },
   {
    "duration": 11,
    "start_time": "2025-01-29T07:05:05.391Z"
   },
   {
    "duration": 15,
    "start_time": "2025-01-29T07:05:05.404Z"
   },
   {
    "duration": 4,
    "start_time": "2025-01-29T07:05:05.421Z"
   },
   {
    "duration": 247,
    "start_time": "2025-01-29T07:05:05.427Z"
   },
   {
    "duration": 9,
    "start_time": "2025-01-29T07:05:05.675Z"
   },
   {
    "duration": 8,
    "start_time": "2025-01-29T07:05:05.685Z"
   },
   {
    "duration": 20,
    "start_time": "2025-01-29T07:05:05.695Z"
   },
   {
    "duration": 18,
    "start_time": "2025-01-29T07:05:05.717Z"
   },
   {
    "duration": 26,
    "start_time": "2025-01-29T07:05:05.736Z"
   },
   {
    "duration": 18,
    "start_time": "2025-01-29T07:05:05.764Z"
   },
   {
    "duration": 159,
    "start_time": "2025-01-29T07:05:05.783Z"
   },
   {
    "duration": 7,
    "start_time": "2025-01-29T07:05:05.944Z"
   },
   {
    "duration": 23,
    "start_time": "2025-01-29T07:05:05.953Z"
   },
   {
    "duration": 12,
    "start_time": "2025-01-29T07:05:05.978Z"
   },
   {
    "duration": 24,
    "start_time": "2025-01-29T07:05:05.991Z"
   },
   {
    "duration": 13,
    "start_time": "2025-01-29T07:05:06.017Z"
   },
   {
    "duration": 8,
    "start_time": "2025-01-29T07:05:06.033Z"
   },
   {
    "duration": 20,
    "start_time": "2025-01-29T07:05:06.043Z"
   },
   {
    "duration": 10,
    "start_time": "2025-01-29T07:05:06.065Z"
   },
   {
    "duration": 20,
    "start_time": "2025-01-29T07:05:06.077Z"
   },
   {
    "duration": 163,
    "start_time": "2025-01-29T07:05:06.098Z"
   },
   {
    "duration": 12,
    "start_time": "2025-01-29T07:05:06.263Z"
   },
   {
    "duration": 37,
    "start_time": "2025-01-29T07:05:06.276Z"
   },
   {
    "duration": 28,
    "start_time": "2025-01-29T07:05:06.314Z"
   },
   {
    "duration": 161,
    "start_time": "2025-01-29T07:05:06.343Z"
   },
   {
    "duration": 160,
    "start_time": "2025-01-29T07:05:06.506Z"
   },
   {
    "duration": 10,
    "start_time": "2025-01-29T07:05:06.674Z"
   },
   {
    "duration": 19,
    "start_time": "2025-01-29T07:05:06.685Z"
   },
   {
    "duration": 19,
    "start_time": "2025-01-29T07:05:06.705Z"
   },
   {
    "duration": 5,
    "start_time": "2025-01-29T07:05:06.725Z"
   },
   {
    "duration": 6,
    "start_time": "2025-01-29T07:05:06.732Z"
   },
   {
    "duration": 31,
    "start_time": "2025-01-29T07:05:06.739Z"
   },
   {
    "duration": 5,
    "start_time": "2025-01-29T07:05:06.772Z"
   },
   {
    "duration": 10,
    "start_time": "2025-01-29T07:05:06.778Z"
   },
   {
    "duration": 16,
    "start_time": "2025-01-29T07:05:06.789Z"
   },
   {
    "duration": 13,
    "start_time": "2025-01-29T07:05:06.806Z"
   },
   {
    "duration": 6,
    "start_time": "2025-01-29T07:05:06.820Z"
   },
   {
    "duration": 13,
    "start_time": "2025-01-29T07:05:06.827Z"
   },
   {
    "duration": 9,
    "start_time": "2025-01-29T07:05:06.842Z"
   },
   {
    "duration": 15,
    "start_time": "2025-01-29T07:05:06.857Z"
   },
   {
    "duration": 11,
    "start_time": "2025-01-29T07:05:06.874Z"
   },
   {
    "duration": 7,
    "start_time": "2025-01-29T07:05:06.886Z"
   },
   {
    "duration": 6,
    "start_time": "2025-01-29T07:05:06.894Z"
   },
   {
    "duration": 6,
    "start_time": "2025-01-29T07:05:06.902Z"
   },
   {
    "duration": 5,
    "start_time": "2025-01-29T07:05:06.909Z"
   },
   {
    "duration": 5,
    "start_time": "2025-01-29T07:05:06.915Z"
   },
   {
    "duration": 7,
    "start_time": "2025-01-29T07:05:06.921Z"
   },
   {
    "duration": 39,
    "start_time": "2025-01-29T07:05:06.929Z"
   },
   {
    "duration": 14,
    "start_time": "2025-01-29T07:05:06.973Z"
   },
   {
    "duration": 18,
    "start_time": "2025-01-29T07:05:06.989Z"
   },
   {
    "duration": 9,
    "start_time": "2025-01-29T07:16:06.708Z"
   },
   {
    "duration": 9,
    "start_time": "2025-01-29T07:16:16.645Z"
   },
   {
    "duration": 1116,
    "start_time": "2025-01-29T07:22:23.193Z"
   },
   {
    "duration": 67,
    "start_time": "2025-01-29T07:22:24.311Z"
   },
   {
    "duration": 3,
    "start_time": "2025-01-29T07:22:24.380Z"
   },
   {
    "duration": 14,
    "start_time": "2025-01-29T07:22:24.385Z"
   },
   {
    "duration": 15,
    "start_time": "2025-01-29T07:22:24.401Z"
   },
   {
    "duration": 12,
    "start_time": "2025-01-29T07:22:24.417Z"
   },
   {
    "duration": 39,
    "start_time": "2025-01-29T07:22:24.431Z"
   },
   {
    "duration": 15,
    "start_time": "2025-01-29T07:22:24.472Z"
   },
   {
    "duration": 6,
    "start_time": "2025-01-29T07:22:24.488Z"
   },
   {
    "duration": 6,
    "start_time": "2025-01-29T07:22:24.497Z"
   },
   {
    "duration": 244,
    "start_time": "2025-01-29T07:22:24.505Z"
   },
   {
    "duration": 18,
    "start_time": "2025-01-29T07:22:24.751Z"
   },
   {
    "duration": 9,
    "start_time": "2025-01-29T07:22:24.770Z"
   },
   {
    "duration": 15,
    "start_time": "2025-01-29T07:22:24.781Z"
   },
   {
    "duration": 5,
    "start_time": "2025-01-29T07:22:24.797Z"
   },
   {
    "duration": 234,
    "start_time": "2025-01-29T07:22:24.803Z"
   },
   {
    "duration": 18,
    "start_time": "2025-01-29T07:22:25.039Z"
   },
   {
    "duration": 16,
    "start_time": "2025-01-29T07:22:25.059Z"
   },
   {
    "duration": 17,
    "start_time": "2025-01-29T07:22:25.077Z"
   },
   {
    "duration": 4,
    "start_time": "2025-01-29T07:22:25.095Z"
   },
   {
    "duration": 4,
    "start_time": "2025-01-29T07:22:25.100Z"
   },
   {
    "duration": 7,
    "start_time": "2025-01-29T07:22:25.105Z"
   },
   {
    "duration": 222,
    "start_time": "2025-01-29T07:22:25.113Z"
   },
   {
    "duration": 8,
    "start_time": "2025-01-29T07:22:25.336Z"
   },
   {
    "duration": 26,
    "start_time": "2025-01-29T07:22:25.345Z"
   },
   {
    "duration": 9,
    "start_time": "2025-01-29T07:22:25.372Z"
   },
   {
    "duration": 9,
    "start_time": "2025-01-29T07:22:25.382Z"
   },
   {
    "duration": 13,
    "start_time": "2025-01-29T07:22:25.395Z"
   },
   {
    "duration": 8,
    "start_time": "2025-01-29T07:22:25.410Z"
   },
   {
    "duration": 40,
    "start_time": "2025-01-29T07:22:25.420Z"
   },
   {
    "duration": 11,
    "start_time": "2025-01-29T07:22:25.461Z"
   },
   {
    "duration": 10,
    "start_time": "2025-01-29T07:22:25.474Z"
   },
   {
    "duration": 175,
    "start_time": "2025-01-29T07:22:25.486Z"
   },
   {
    "duration": 14,
    "start_time": "2025-01-29T07:22:25.663Z"
   },
   {
    "duration": 13,
    "start_time": "2025-01-29T07:22:25.678Z"
   },
   {
    "duration": 10,
    "start_time": "2025-01-29T07:22:25.692Z"
   },
   {
    "duration": 176,
    "start_time": "2025-01-29T07:22:25.704Z"
   },
   {
    "duration": 162,
    "start_time": "2025-01-29T07:22:25.882Z"
   },
   {
    "duration": 24,
    "start_time": "2025-01-29T07:22:26.046Z"
   },
   {
    "duration": 11,
    "start_time": "2025-01-29T07:22:26.071Z"
   },
   {
    "duration": 15,
    "start_time": "2025-01-29T07:22:26.084Z"
   },
   {
    "duration": 5,
    "start_time": "2025-01-29T07:22:26.100Z"
   },
   {
    "duration": 6,
    "start_time": "2025-01-29T07:22:26.107Z"
   },
   {
    "duration": 6,
    "start_time": "2025-01-29T07:22:26.115Z"
   },
   {
    "duration": 6,
    "start_time": "2025-01-29T07:22:26.122Z"
   },
   {
    "duration": 29,
    "start_time": "2025-01-29T07:22:26.130Z"
   },
   {
    "duration": 13,
    "start_time": "2025-01-29T07:22:26.164Z"
   },
   {
    "duration": 7,
    "start_time": "2025-01-29T07:22:26.179Z"
   },
   {
    "duration": 6,
    "start_time": "2025-01-29T07:22:26.187Z"
   },
   {
    "duration": 7,
    "start_time": "2025-01-29T07:22:26.194Z"
   },
   {
    "duration": 7,
    "start_time": "2025-01-29T07:22:26.202Z"
   },
   {
    "duration": 6,
    "start_time": "2025-01-29T07:22:26.211Z"
   },
   {
    "duration": 48,
    "start_time": "2025-01-29T07:22:26.218Z"
   },
   {
    "duration": 11,
    "start_time": "2025-01-29T07:22:26.268Z"
   },
   {
    "duration": 6,
    "start_time": "2025-01-29T07:22:26.281Z"
   },
   {
    "duration": 6,
    "start_time": "2025-01-29T07:22:26.288Z"
   },
   {
    "duration": 4,
    "start_time": "2025-01-29T07:22:26.296Z"
   },
   {
    "duration": 7,
    "start_time": "2025-01-29T07:22:26.301Z"
   },
   {
    "duration": 7,
    "start_time": "2025-01-29T07:22:26.309Z"
   },
   {
    "duration": 6,
    "start_time": "2025-01-29T07:22:26.318Z"
   },
   {
    "duration": 46,
    "start_time": "2025-01-29T07:22:26.326Z"
   },
   {
    "duration": 12,
    "start_time": "2025-01-29T07:22:26.373Z"
   },
   {
    "duration": 46,
    "start_time": "2025-01-29T08:15:51.550Z"
   },
   {
    "duration": 1417,
    "start_time": "2025-01-29T08:15:56.260Z"
   },
   {
    "duration": 76,
    "start_time": "2025-01-29T08:15:57.679Z"
   },
   {
    "duration": 4,
    "start_time": "2025-01-29T08:15:57.756Z"
   },
   {
    "duration": 16,
    "start_time": "2025-01-29T08:15:57.761Z"
   },
   {
    "duration": 27,
    "start_time": "2025-01-29T08:15:57.779Z"
   },
   {
    "duration": 93,
    "start_time": "2025-01-29T08:15:57.808Z"
   },
   {
    "duration": 10,
    "start_time": "2025-01-29T08:15:57.902Z"
   },
   {
    "duration": 16,
    "start_time": "2025-01-29T08:15:57.913Z"
   },
   {
    "duration": 10,
    "start_time": "2025-01-29T08:15:57.931Z"
   },
   {
    "duration": 82,
    "start_time": "2025-01-29T08:15:57.943Z"
   },
   {
    "duration": 225,
    "start_time": "2025-01-29T08:15:58.027Z"
   },
   {
    "duration": 8,
    "start_time": "2025-01-29T08:15:58.254Z"
   },
   {
    "duration": 27,
    "start_time": "2025-01-29T08:15:58.264Z"
   },
   {
    "duration": 16,
    "start_time": "2025-01-29T08:15:58.295Z"
   },
   {
    "duration": 4,
    "start_time": "2025-01-29T08:15:58.313Z"
   },
   {
    "duration": 211,
    "start_time": "2025-01-29T08:15:58.318Z"
   },
   {
    "duration": 8,
    "start_time": "2025-01-29T08:15:58.531Z"
   },
   {
    "duration": 8,
    "start_time": "2025-01-29T08:15:58.540Z"
   },
   {
    "duration": 21,
    "start_time": "2025-01-29T08:15:58.549Z"
   },
   {
    "duration": 4,
    "start_time": "2025-01-29T08:15:58.571Z"
   },
   {
    "duration": 26,
    "start_time": "2025-01-29T08:15:58.576Z"
   },
   {
    "duration": 6,
    "start_time": "2025-01-29T08:15:58.604Z"
   },
   {
    "duration": 176,
    "start_time": "2025-01-29T08:15:58.611Z"
   },
   {
    "duration": 16,
    "start_time": "2025-01-29T08:15:58.789Z"
   },
   {
    "duration": 201,
    "start_time": "2025-01-29T08:15:58.807Z"
   },
   {
    "duration": 21,
    "start_time": "2025-01-29T08:15:59.009Z"
   },
   {
    "duration": 8,
    "start_time": "2025-01-29T08:15:59.031Z"
   },
   {
    "duration": 12,
    "start_time": "2025-01-29T08:15:59.040Z"
   },
   {
    "duration": 7,
    "start_time": "2025-01-29T08:15:59.054Z"
   },
   {
    "duration": 11,
    "start_time": "2025-01-29T08:15:59.062Z"
   },
   {
    "duration": 3,
    "start_time": "2025-01-29T08:15:59.075Z"
   },
   {
    "duration": 27,
    "start_time": "2025-01-29T08:15:59.079Z"
   },
   {
    "duration": 180,
    "start_time": "2025-01-29T08:15:59.107Z"
   },
   {
    "duration": 15,
    "start_time": "2025-01-29T08:15:59.289Z"
   },
   {
    "duration": 22,
    "start_time": "2025-01-29T08:15:59.306Z"
   },
   {
    "duration": 19,
    "start_time": "2025-01-29T08:15:59.330Z"
   },
   {
    "duration": 162,
    "start_time": "2025-01-29T08:15:59.350Z"
   },
   {
    "duration": 177,
    "start_time": "2025-01-29T08:15:59.514Z"
   },
   {
    "duration": 16,
    "start_time": "2025-01-29T08:15:59.692Z"
   },
   {
    "duration": 25,
    "start_time": "2025-01-29T08:15:59.709Z"
   },
   {
    "duration": 18,
    "start_time": "2025-01-29T08:15:59.738Z"
   },
   {
    "duration": 13,
    "start_time": "2025-01-29T08:15:59.757Z"
   },
   {
    "duration": 7,
    "start_time": "2025-01-29T08:15:59.771Z"
   },
   {
    "duration": 14,
    "start_time": "2025-01-29T08:15:59.779Z"
   },
   {
    "duration": 5,
    "start_time": "2025-01-29T08:15:59.795Z"
   },
   {
    "duration": 113,
    "start_time": "2025-01-29T08:15:59.802Z"
   },
   {
    "duration": 6,
    "start_time": "2025-01-29T08:15:59.917Z"
   },
   {
    "duration": 7,
    "start_time": "2025-01-29T08:15:59.924Z"
   },
   {
    "duration": 6,
    "start_time": "2025-01-29T08:15:59.932Z"
   },
   {
    "duration": 62,
    "start_time": "2025-01-29T08:15:59.939Z"
   },
   {
    "duration": 82,
    "start_time": "2025-01-29T08:16:00.003Z"
   },
   {
    "duration": 60,
    "start_time": "2025-01-29T08:16:00.087Z"
   },
   {
    "duration": 127,
    "start_time": "2025-01-29T08:16:00.149Z"
   },
   {
    "duration": 52,
    "start_time": "2025-01-29T08:16:00.278Z"
   },
   {
    "duration": 35,
    "start_time": "2025-01-29T08:16:00.331Z"
   },
   {
    "duration": 43,
    "start_time": "2025-01-29T08:16:00.368Z"
   },
   {
    "duration": 26,
    "start_time": "2025-01-29T08:16:00.413Z"
   },
   {
    "duration": 117,
    "start_time": "2025-01-29T08:16:00.441Z"
   },
   {
    "duration": 31,
    "start_time": "2025-01-29T08:16:00.560Z"
   },
   {
    "duration": 21,
    "start_time": "2025-01-29T08:16:00.593Z"
   },
   {
    "duration": 15,
    "start_time": "2025-01-29T08:16:00.616Z"
   },
   {
    "duration": 14,
    "start_time": "2025-01-29T08:16:00.633Z"
   },
   {
    "duration": 217,
    "start_time": "2025-01-29T08:26:28.589Z"
   },
   {
    "duration": 214,
    "start_time": "2025-01-29T08:26:39.391Z"
   },
   {
    "duration": 288,
    "start_time": "2025-01-29T08:26:42.749Z"
   },
   {
    "duration": 5,
    "start_time": "2025-01-29T08:30:37.485Z"
   },
   {
    "duration": 3,
    "start_time": "2025-01-29T08:30:48.668Z"
   },
   {
    "duration": 82,
    "start_time": "2025-01-29T08:30:48.673Z"
   },
   {
    "duration": 14,
    "start_time": "2025-01-29T08:30:48.756Z"
   },
   {
    "duration": 9,
    "start_time": "2025-01-29T08:30:48.772Z"
   },
   {
    "duration": 19,
    "start_time": "2025-01-29T08:30:48.783Z"
   },
   {
    "duration": 12,
    "start_time": "2025-01-29T08:30:48.803Z"
   },
   {
    "duration": 10,
    "start_time": "2025-01-29T08:30:48.817Z"
   },
   {
    "duration": 17,
    "start_time": "2025-01-29T08:30:48.828Z"
   },
   {
    "duration": 23,
    "start_time": "2025-01-29T08:30:48.848Z"
   },
   {
    "duration": 17,
    "start_time": "2025-01-29T08:30:48.873Z"
   },
   {
    "duration": 223,
    "start_time": "2025-01-29T08:30:48.892Z"
   },
   {
    "duration": 8,
    "start_time": "2025-01-29T08:30:49.117Z"
   },
   {
    "duration": 8,
    "start_time": "2025-01-29T08:30:49.127Z"
   },
   {
    "duration": 17,
    "start_time": "2025-01-29T08:30:49.136Z"
   },
   {
    "duration": 2,
    "start_time": "2025-01-29T08:30:49.155Z"
   },
   {
    "duration": 246,
    "start_time": "2025-01-29T08:30:49.159Z"
   },
   {
    "duration": 9,
    "start_time": "2025-01-29T08:30:49.407Z"
   },
   {
    "duration": 8,
    "start_time": "2025-01-29T08:30:49.417Z"
   },
   {
    "duration": 17,
    "start_time": "2025-01-29T08:30:49.427Z"
   },
   {
    "duration": 11,
    "start_time": "2025-01-29T08:30:49.446Z"
   },
   {
    "duration": 5,
    "start_time": "2025-01-29T08:30:55.789Z"
   },
   {
    "duration": 237,
    "start_time": "2025-01-29T08:40:41.809Z"
   },
   {
    "duration": 383,
    "start_time": "2025-01-29T08:41:06.489Z"
   },
   {
    "duration": 389,
    "start_time": "2025-01-29T08:41:13.020Z"
   },
   {
    "duration": 277,
    "start_time": "2025-01-29T08:41:30.131Z"
   },
   {
    "duration": 357,
    "start_time": "2025-01-29T08:41:55.611Z"
   },
   {
    "duration": 264,
    "start_time": "2025-01-29T08:42:00.224Z"
   },
   {
    "duration": 291,
    "start_time": "2025-01-29T08:48:40.764Z"
   },
   {
    "duration": 107,
    "start_time": "2025-01-29T12:02:01.271Z"
   },
   {
    "duration": 12,
    "start_time": "2025-01-29T12:02:14.402Z"
   },
   {
    "duration": 10,
    "start_time": "2025-01-29T12:02:36.924Z"
   },
   {
    "duration": 10,
    "start_time": "2025-01-29T12:02:41.369Z"
   },
   {
    "duration": 16,
    "start_time": "2025-01-29T12:04:13.361Z"
   },
   {
    "duration": 9,
    "start_time": "2025-01-29T12:04:25.832Z"
   },
   {
    "duration": 9,
    "start_time": "2025-01-29T12:04:27.999Z"
   },
   {
    "duration": 17,
    "start_time": "2025-01-29T12:07:00.389Z"
   },
   {
    "duration": 1126,
    "start_time": "2025-01-29T12:27:52.618Z"
   },
   {
    "duration": 64,
    "start_time": "2025-01-29T12:27:53.746Z"
   },
   {
    "duration": 15,
    "start_time": "2025-01-29T12:27:53.812Z"
   },
   {
    "duration": 29,
    "start_time": "2025-01-29T12:27:53.829Z"
   },
   {
    "duration": 27,
    "start_time": "2025-01-29T12:27:53.860Z"
   },
   {
    "duration": 14,
    "start_time": "2025-01-29T12:27:53.889Z"
   },
   {
    "duration": 13,
    "start_time": "2025-01-29T12:27:53.905Z"
   },
   {
    "duration": 71,
    "start_time": "2025-01-29T12:27:53.920Z"
   },
   {
    "duration": 24,
    "start_time": "2025-01-29T12:27:53.993Z"
   },
   {
    "duration": 8,
    "start_time": "2025-01-29T12:27:54.020Z"
   },
   {
    "duration": 13,
    "start_time": "2025-01-29T12:27:54.030Z"
   },
   {
    "duration": 235,
    "start_time": "2025-01-29T12:27:54.045Z"
   },
   {
    "duration": 8,
    "start_time": "2025-01-29T12:27:54.282Z"
   },
   {
    "duration": 8,
    "start_time": "2025-01-29T12:27:54.299Z"
   },
   {
    "duration": 16,
    "start_time": "2025-01-29T12:27:54.309Z"
   },
   {
    "duration": 2,
    "start_time": "2025-01-29T12:27:54.327Z"
   },
   {
    "duration": 228,
    "start_time": "2025-01-29T12:27:54.330Z"
   },
   {
    "duration": 8,
    "start_time": "2025-01-29T12:27:54.560Z"
   },
   {
    "duration": 9,
    "start_time": "2025-01-29T12:27:54.569Z"
   },
   {
    "duration": 28,
    "start_time": "2025-01-29T12:27:54.580Z"
   },
   {
    "duration": 4,
    "start_time": "2025-01-29T12:27:54.609Z"
   },
   {
    "duration": 29,
    "start_time": "2025-01-29T12:27:54.615Z"
   },
   {
    "duration": 25,
    "start_time": "2025-01-29T12:27:54.645Z"
   },
   {
    "duration": 170,
    "start_time": "2025-01-29T12:27:54.671Z"
   },
   {
    "duration": 9,
    "start_time": "2025-01-29T12:27:54.842Z"
   },
   {
    "duration": 66,
    "start_time": "2025-01-29T12:27:54.852Z"
   },
   {
    "duration": 43,
    "start_time": "2025-01-29T12:27:54.919Z"
   },
   {
    "duration": 10,
    "start_time": "2025-01-29T12:27:54.965Z"
   },
   {
    "duration": 29,
    "start_time": "2025-01-29T12:27:54.977Z"
   },
   {
    "duration": 11,
    "start_time": "2025-01-29T12:27:55.008Z"
   },
   {
    "duration": 11,
    "start_time": "2025-01-29T12:27:55.020Z"
   },
   {
    "duration": 140,
    "start_time": "2025-01-29T12:27:55.032Z"
   },
   {
    "duration": 25,
    "start_time": "2025-01-29T12:27:55.174Z"
   },
   {
    "duration": 432,
    "start_time": "2025-01-29T12:27:55.201Z"
   },
   {
    "duration": 9,
    "start_time": "2025-01-29T12:27:55.635Z"
   },
   {
    "duration": 12,
    "start_time": "2025-01-29T12:27:55.646Z"
   },
   {
    "duration": 9,
    "start_time": "2025-01-29T12:27:55.659Z"
   },
   {
    "duration": 232,
    "start_time": "2025-01-29T12:27:55.669Z"
   },
   {
    "duration": 163,
    "start_time": "2025-01-29T12:27:55.903Z"
   },
   {
    "duration": 12,
    "start_time": "2025-01-29T12:27:56.068Z"
   },
   {
    "duration": 27,
    "start_time": "2025-01-29T12:27:56.081Z"
   },
   {
    "duration": 12,
    "start_time": "2025-01-29T12:27:56.110Z"
   },
   {
    "duration": 12,
    "start_time": "2025-01-29T12:27:56.124Z"
   },
   {
    "duration": 18,
    "start_time": "2025-01-29T12:27:56.138Z"
   },
   {
    "duration": 19,
    "start_time": "2025-01-29T12:27:56.157Z"
   },
   {
    "duration": 22,
    "start_time": "2025-01-29T12:27:56.178Z"
   },
   {
    "duration": 18,
    "start_time": "2025-01-29T12:27:56.201Z"
   },
   {
    "duration": 8,
    "start_time": "2025-01-29T12:27:56.220Z"
   },
   {
    "duration": 30,
    "start_time": "2025-01-29T12:27:56.230Z"
   },
   {
    "duration": 23,
    "start_time": "2025-01-29T12:27:56.262Z"
   },
   {
    "duration": 8,
    "start_time": "2025-01-29T12:27:56.287Z"
   },
   {
    "duration": 15,
    "start_time": "2025-01-29T12:27:56.296Z"
   },
   {
    "duration": 7,
    "start_time": "2025-01-29T12:27:56.313Z"
   },
   {
    "duration": 10,
    "start_time": "2025-01-29T12:27:56.321Z"
   },
   {
    "duration": 9,
    "start_time": "2025-01-29T12:27:56.332Z"
   },
   {
    "duration": 21,
    "start_time": "2025-01-29T12:27:56.343Z"
   },
   {
    "duration": 13,
    "start_time": "2025-01-29T12:27:56.366Z"
   },
   {
    "duration": 5,
    "start_time": "2025-01-29T12:27:56.380Z"
   },
   {
    "duration": 14,
    "start_time": "2025-01-29T12:27:56.387Z"
   },
   {
    "duration": 7,
    "start_time": "2025-01-29T12:27:56.403Z"
   },
   {
    "duration": 10,
    "start_time": "2025-01-29T12:27:56.411Z"
   },
   {
    "duration": 15,
    "start_time": "2025-01-29T12:27:56.422Z"
   },
   {
    "duration": 23,
    "start_time": "2025-01-29T12:27:56.439Z"
   },
   {
    "duration": 222,
    "start_time": "2025-01-29T13:13:28.679Z"
   },
   {
    "duration": 284,
    "start_time": "2025-01-29T13:13:38.044Z"
   },
   {
    "duration": 108,
    "start_time": "2025-01-29T13:16:18.303Z"
   },
   {
    "duration": 5,
    "start_time": "2025-01-29T13:16:24.035Z"
   },
   {
    "duration": 7,
    "start_time": "2025-01-29T13:16:48.315Z"
   },
   {
    "duration": 5,
    "start_time": "2025-01-29T14:24:08.975Z"
   },
   {
    "duration": 16,
    "start_time": "2025-01-29T14:25:02.631Z"
   },
   {
    "duration": 172,
    "start_time": "2025-01-29T14:25:12.630Z"
   },
   {
    "duration": 175,
    "start_time": "2025-01-29T14:25:30.053Z"
   },
   {
    "duration": 139,
    "start_time": "2025-01-29T14:25:43.849Z"
   },
   {
    "duration": 174,
    "start_time": "2025-01-29T14:25:48.842Z"
   },
   {
    "duration": 132,
    "start_time": "2025-01-29T14:25:54.953Z"
   },
   {
    "duration": 169,
    "start_time": "2025-01-29T14:26:03.340Z"
   },
   {
    "duration": 167,
    "start_time": "2025-01-29T14:26:08.881Z"
   },
   {
    "duration": 309,
    "start_time": "2025-01-29T14:36:45.139Z"
   },
   {
    "duration": 13,
    "start_time": "2025-01-29T14:44:01.620Z"
   },
   {
    "duration": 10,
    "start_time": "2025-01-29T14:44:05.922Z"
   },
   {
    "duration": 5,
    "start_time": "2025-01-29T14:54:48.349Z"
   },
   {
    "duration": 9,
    "start_time": "2025-01-29T14:55:17.178Z"
   },
   {
    "duration": 7,
    "start_time": "2025-01-29T14:55:42.425Z"
   },
   {
    "duration": 14,
    "start_time": "2025-01-29T14:55:46.688Z"
   },
   {
    "duration": 15,
    "start_time": "2025-01-29T14:55:49.075Z"
   },
   {
    "duration": 6,
    "start_time": "2025-01-29T14:55:54.974Z"
   },
   {
    "duration": 12,
    "start_time": "2025-01-29T14:55:58.745Z"
   },
   {
    "duration": 8,
    "start_time": "2025-01-29T14:56:01.629Z"
   },
   {
    "duration": 922,
    "start_time": "2025-01-29T14:56:41.716Z"
   },
   {
    "duration": 1455,
    "start_time": "2025-01-29T14:56:47.863Z"
   },
   {
    "duration": 91,
    "start_time": "2025-01-29T14:57:19.168Z"
   },
   {
    "duration": 10,
    "start_time": "2025-01-29T14:57:45.178Z"
   },
   {
    "duration": 8,
    "start_time": "2025-01-29T14:57:52.545Z"
   },
   {
    "duration": 13,
    "start_time": "2025-01-29T16:03:49.331Z"
   },
   {
    "duration": 13,
    "start_time": "2025-01-29T16:07:31.114Z"
   },
   {
    "duration": 276,
    "start_time": "2025-01-29T16:07:46.234Z"
   },
   {
    "duration": 271,
    "start_time": "2025-01-29T16:08:38.969Z"
   },
   {
    "duration": 190,
    "start_time": "2025-01-29T16:09:16.426Z"
   },
   {
    "duration": 275,
    "start_time": "2025-01-29T16:09:27.238Z"
   },
   {
    "duration": 290,
    "start_time": "2025-01-29T16:09:42.308Z"
   },
   {
    "duration": 10,
    "start_time": "2025-01-29T16:25:21.078Z"
   },
   {
    "duration": 10,
    "start_time": "2025-01-29T16:25:31.663Z"
   },
   {
    "duration": 9,
    "start_time": "2025-01-29T16:53:28.649Z"
   },
   {
    "duration": 10,
    "start_time": "2025-01-29T16:53:43.277Z"
   },
   {
    "duration": 5,
    "start_time": "2025-01-29T16:53:50.780Z"
   },
   {
    "duration": 7,
    "start_time": "2025-01-29T16:54:05.429Z"
   },
   {
    "duration": 10,
    "start_time": "2025-01-29T16:54:10.683Z"
   },
   {
    "duration": 29,
    "start_time": "2025-01-29T16:54:21.619Z"
   },
   {
    "duration": 5,
    "start_time": "2025-01-29T16:54:59.921Z"
   },
   {
    "duration": 1340,
    "start_time": "2025-01-29T16:56:25.094Z"
   },
   {
    "duration": 164,
    "start_time": "2025-01-29T16:56:52.871Z"
   },
   {
    "duration": 1360,
    "start_time": "2025-01-29T16:57:39.359Z"
   },
   {
    "duration": 1265,
    "start_time": "2025-01-29T16:59:49.546Z"
   },
   {
    "duration": 1050,
    "start_time": "2025-01-29T17:00:40.849Z"
   },
   {
    "duration": 4,
    "start_time": "2025-01-29T17:01:04.347Z"
   },
   {
    "duration": 4,
    "start_time": "2025-01-29T17:01:23.939Z"
   },
   {
    "duration": 2688,
    "start_time": "2025-01-29T17:01:28.560Z"
   },
   {
    "duration": 2645,
    "start_time": "2025-01-29T17:02:33.502Z"
   },
   {
    "duration": 2662,
    "start_time": "2025-01-29T17:03:43.340Z"
   },
   {
    "duration": 11,
    "start_time": "2025-01-29T17:05:56.189Z"
   },
   {
    "duration": 9,
    "start_time": "2025-01-29T17:06:08.654Z"
   },
   {
    "duration": 14,
    "start_time": "2025-01-29T17:19:24.717Z"
   },
   {
    "duration": 4,
    "start_time": "2025-01-29T17:19:37.663Z"
   },
   {
    "duration": 14,
    "start_time": "2025-01-29T17:19:43.670Z"
   },
   {
    "duration": 11,
    "start_time": "2025-01-29T17:25:38.529Z"
   },
   {
    "duration": 8,
    "start_time": "2025-01-29T17:25:43.951Z"
   },
   {
    "duration": 213,
    "start_time": "2025-01-29T17:26:32.854Z"
   },
   {
    "duration": 336,
    "start_time": "2025-01-29T17:26:44.059Z"
   },
   {
    "duration": 3,
    "start_time": "2025-01-29T17:27:26.768Z"
   },
   {
    "duration": 2,
    "start_time": "2025-01-29T17:27:28.929Z"
   },
   {
    "duration": 180,
    "start_time": "2025-01-29T17:31:29.072Z"
   },
   {
    "duration": 308,
    "start_time": "2025-01-29T17:31:51.912Z"
   },
   {
    "duration": 305,
    "start_time": "2025-01-29T17:32:00.758Z"
   },
   {
    "duration": 195,
    "start_time": "2025-01-29T17:32:17.740Z"
   },
   {
    "duration": 204,
    "start_time": "2025-01-29T17:32:53.250Z"
   },
   {
    "duration": 192,
    "start_time": "2025-01-29T17:33:00.964Z"
   },
   {
    "duration": 182,
    "start_time": "2025-01-29T17:33:10.968Z"
   },
   {
    "duration": 189,
    "start_time": "2025-01-29T17:33:30.354Z"
   },
   {
    "duration": 192,
    "start_time": "2025-01-29T17:33:44.370Z"
   },
   {
    "duration": 84,
    "start_time": "2025-01-29T17:50:08.720Z"
   },
   {
    "duration": 3,
    "start_time": "2025-01-29T17:51:32.052Z"
   },
   {
    "duration": 3,
    "start_time": "2025-01-29T17:52:48.979Z"
   },
   {
    "duration": 6,
    "start_time": "2025-01-29T17:54:29.733Z"
   },
   {
    "duration": 9,
    "start_time": "2025-01-29T17:54:50.359Z"
   },
   {
    "duration": 6,
    "start_time": "2025-01-29T17:54:54.929Z"
   },
   {
    "duration": 7,
    "start_time": "2025-01-29T17:57:47.739Z"
   },
   {
    "duration": 11,
    "start_time": "2025-01-29T17:57:52.830Z"
   },
   {
    "duration": 193,
    "start_time": "2025-01-29T18:22:30.195Z"
   },
   {
    "duration": 403,
    "start_time": "2025-01-29T18:23:02.775Z"
   },
   {
    "duration": 115,
    "start_time": "2025-01-29T18:23:17.934Z"
   },
   {
    "duration": 11,
    "start_time": "2025-01-29T18:24:56.582Z"
   },
   {
    "duration": 14,
    "start_time": "2025-01-29T18:29:53.029Z"
   },
   {
    "duration": 9,
    "start_time": "2025-01-29T18:31:46.866Z"
   },
   {
    "duration": 4,
    "start_time": "2025-01-29T18:32:00.462Z"
   },
   {
    "duration": 62,
    "start_time": "2025-01-29T18:32:06.712Z"
   },
   {
    "duration": 5,
    "start_time": "2025-01-29T18:32:11.291Z"
   },
   {
    "duration": 60,
    "start_time": "2025-01-29T18:32:23.674Z"
   },
   {
    "duration": 60,
    "start_time": "2025-01-29T18:32:27.576Z"
   },
   {
    "duration": 8,
    "start_time": "2025-01-29T18:32:38.639Z"
   },
   {
    "duration": 6,
    "start_time": "2025-01-29T18:32:46.323Z"
   },
   {
    "duration": 14,
    "start_time": "2025-01-29T18:36:12.761Z"
   },
   {
    "duration": 3,
    "start_time": "2025-01-29T18:37:22.321Z"
   },
   {
    "duration": 8,
    "start_time": "2025-01-29T18:37:39.838Z"
   },
   {
    "duration": 4,
    "start_time": "2025-01-29T18:44:58.464Z"
   },
   {
    "duration": 6,
    "start_time": "2025-01-29T18:45:05.929Z"
   },
   {
    "duration": 14,
    "start_time": "2025-01-29T18:45:13.322Z"
   },
   {
    "duration": 7,
    "start_time": "2025-01-29T18:45:35.473Z"
   },
   {
    "duration": 1143,
    "start_time": "2025-01-29T18:45:42.628Z"
   },
   {
    "duration": 66,
    "start_time": "2025-01-29T18:45:43.773Z"
   },
   {
    "duration": 14,
    "start_time": "2025-01-29T18:45:43.841Z"
   },
   {
    "duration": 4,
    "start_time": "2025-01-29T18:45:43.856Z"
   },
   {
    "duration": 16,
    "start_time": "2025-01-29T18:45:43.862Z"
   },
   {
    "duration": 29,
    "start_time": "2025-01-29T18:45:43.879Z"
   },
   {
    "duration": 11,
    "start_time": "2025-01-29T18:45:43.910Z"
   },
   {
    "duration": 9,
    "start_time": "2025-01-29T18:45:43.923Z"
   },
   {
    "duration": 17,
    "start_time": "2025-01-29T18:45:43.933Z"
   },
   {
    "duration": 7,
    "start_time": "2025-01-29T18:45:43.951Z"
   },
   {
    "duration": 7,
    "start_time": "2025-01-29T18:45:43.959Z"
   },
   {
    "duration": 235,
    "start_time": "2025-01-29T18:45:44.000Z"
   },
   {
    "duration": 9,
    "start_time": "2025-01-29T18:45:44.236Z"
   },
   {
    "duration": 8,
    "start_time": "2025-01-29T18:45:44.248Z"
   },
   {
    "duration": 16,
    "start_time": "2025-01-29T18:45:44.258Z"
   },
   {
    "duration": 25,
    "start_time": "2025-01-29T18:45:44.275Z"
   },
   {
    "duration": 225,
    "start_time": "2025-01-29T18:45:44.302Z"
   },
   {
    "duration": 9,
    "start_time": "2025-01-29T18:45:44.529Z"
   },
   {
    "duration": 12,
    "start_time": "2025-01-29T18:45:44.539Z"
   },
   {
    "duration": 17,
    "start_time": "2025-01-29T18:45:44.552Z"
   },
   {
    "duration": 4,
    "start_time": "2025-01-29T18:45:44.570Z"
   },
   {
    "duration": 28,
    "start_time": "2025-01-29T18:45:44.575Z"
   },
   {
    "duration": 20,
    "start_time": "2025-01-29T18:45:44.605Z"
   },
   {
    "duration": 204,
    "start_time": "2025-01-29T18:45:44.627Z"
   },
   {
    "duration": 9,
    "start_time": "2025-01-29T18:45:44.833Z"
   },
   {
    "duration": 41,
    "start_time": "2025-01-29T18:45:44.843Z"
   },
   {
    "duration": 13,
    "start_time": "2025-01-29T18:45:44.886Z"
   },
   {
    "duration": 8,
    "start_time": "2025-01-29T18:45:44.901Z"
   },
   {
    "duration": 15,
    "start_time": "2025-01-29T18:45:44.911Z"
   },
   {
    "duration": 9,
    "start_time": "2025-01-29T18:45:44.928Z"
   },
   {
    "duration": 104,
    "start_time": "2025-01-29T18:45:44.938Z"
   },
   {
    "duration": 402,
    "start_time": "2025-01-29T18:45:45.044Z"
   },
   {
    "duration": 17,
    "start_time": "2025-01-29T18:45:45.448Z"
   },
   {
    "duration": 410,
    "start_time": "2025-01-29T18:45:45.468Z"
   },
   {
    "duration": 21,
    "start_time": "2025-01-29T18:45:45.880Z"
   },
   {
    "duration": 11,
    "start_time": "2025-01-29T18:45:45.902Z"
   },
   {
    "duration": 39,
    "start_time": "2025-01-29T18:45:45.914Z"
   },
   {
    "duration": 20,
    "start_time": "2025-01-29T18:45:45.954Z"
   },
   {
    "duration": 9,
    "start_time": "2025-01-29T18:45:45.976Z"
   },
   {
    "duration": 9,
    "start_time": "2025-01-29T18:45:45.987Z"
   },
   {
    "duration": 9,
    "start_time": "2025-01-29T18:45:46.001Z"
   },
   {
    "duration": 2878,
    "start_time": "2025-01-29T18:45:46.011Z"
   },
   {
    "duration": 9,
    "start_time": "2025-01-29T18:45:48.891Z"
   },
   {
    "duration": 79,
    "start_time": "2025-01-29T18:45:48.902Z"
   },
   {
    "duration": 208,
    "start_time": "2025-01-29T18:45:48.982Z"
   },
   {
    "duration": 4,
    "start_time": "2025-01-29T18:45:49.191Z"
   },
   {
    "duration": 106,
    "start_time": "2025-01-29T18:45:49.199Z"
   },
   {
    "duration": 0,
    "start_time": "2025-01-29T18:45:49.306Z"
   },
   {
    "duration": 0,
    "start_time": "2025-01-29T18:45:49.307Z"
   },
   {
    "duration": 0,
    "start_time": "2025-01-29T18:45:49.308Z"
   },
   {
    "duration": 0,
    "start_time": "2025-01-29T18:45:49.309Z"
   },
   {
    "duration": 0,
    "start_time": "2025-01-29T18:45:49.310Z"
   },
   {
    "duration": 0,
    "start_time": "2025-01-29T18:45:49.311Z"
   },
   {
    "duration": 0,
    "start_time": "2025-01-29T18:45:49.313Z"
   },
   {
    "duration": 0,
    "start_time": "2025-01-29T18:45:49.314Z"
   },
   {
    "duration": 0,
    "start_time": "2025-01-29T18:45:49.315Z"
   },
   {
    "duration": 0,
    "start_time": "2025-01-29T18:45:49.316Z"
   },
   {
    "duration": 0,
    "start_time": "2025-01-29T18:45:49.317Z"
   },
   {
    "duration": 0,
    "start_time": "2025-01-29T18:45:49.318Z"
   },
   {
    "duration": 0,
    "start_time": "2025-01-29T18:45:49.319Z"
   },
   {
    "duration": 0,
    "start_time": "2025-01-29T18:45:49.320Z"
   },
   {
    "duration": 0,
    "start_time": "2025-01-29T18:45:49.321Z"
   },
   {
    "duration": 0,
    "start_time": "2025-01-29T18:45:49.322Z"
   },
   {
    "duration": 0,
    "start_time": "2025-01-29T18:45:49.322Z"
   },
   {
    "duration": 14,
    "start_time": "2025-01-29T18:46:20.586Z"
   },
   {
    "duration": 19,
    "start_time": "2025-01-29T18:47:42.580Z"
   },
   {
    "duration": 3,
    "start_time": "2025-01-29T18:47:51.564Z"
   },
   {
    "duration": 18,
    "start_time": "2025-01-29T18:47:53.830Z"
   },
   {
    "duration": 4,
    "start_time": "2025-01-29T18:48:16.744Z"
   },
   {
    "duration": 14,
    "start_time": "2025-01-29T18:48:18.139Z"
   },
   {
    "duration": 4,
    "start_time": "2025-01-29T18:48:26.453Z"
   },
   {
    "duration": 6,
    "start_time": "2025-01-29T18:48:27.559Z"
   },
   {
    "duration": 4,
    "start_time": "2025-01-29T18:50:03.425Z"
   },
   {
    "duration": 12,
    "start_time": "2025-01-29T18:50:04.332Z"
   },
   {
    "duration": 7,
    "start_time": "2025-01-29T18:50:30.270Z"
   },
   {
    "duration": 13,
    "start_time": "2025-01-29T18:50:35.626Z"
   },
   {
    "duration": 15,
    "start_time": "2025-01-29T18:50:36.691Z"
   },
   {
    "duration": 10,
    "start_time": "2025-01-29T18:51:01.567Z"
   },
   {
    "duration": 15,
    "start_time": "2025-01-29T18:51:11.371Z"
   },
   {
    "duration": 9,
    "start_time": "2025-01-29T18:51:15.371Z"
   },
   {
    "duration": 15,
    "start_time": "2025-01-29T18:51:16.097Z"
   },
   {
    "duration": 11,
    "start_time": "2025-01-29T18:52:34.217Z"
   },
   {
    "duration": 10,
    "start_time": "2025-01-29T18:52:40.388Z"
   },
   {
    "duration": 8,
    "start_time": "2025-01-29T18:52:49.442Z"
   },
   {
    "duration": 10,
    "start_time": "2025-01-29T18:53:11.700Z"
   },
   {
    "duration": 7,
    "start_time": "2025-01-29T18:53:22.958Z"
   },
   {
    "duration": 8,
    "start_time": "2025-01-29T18:53:26.097Z"
   },
   {
    "duration": 8,
    "start_time": "2025-01-29T18:53:26.932Z"
   },
   {
    "duration": 16,
    "start_time": "2025-01-29T18:54:27.742Z"
   },
   {
    "duration": 10,
    "start_time": "2025-01-29T18:54:44.305Z"
   },
   {
    "duration": 117,
    "start_time": "2025-01-29T18:56:41.359Z"
   },
   {
    "duration": 115,
    "start_time": "2025-01-29T18:56:54.123Z"
   },
   {
    "duration": 116,
    "start_time": "2025-01-29T18:56:57.867Z"
   },
   {
    "duration": 203,
    "start_time": "2025-01-29T18:57:12.270Z"
   },
   {
    "duration": 3,
    "start_time": "2025-01-29T19:00:14.926Z"
   },
   {
    "duration": 5,
    "start_time": "2025-01-29T19:00:17.812Z"
   },
   {
    "duration": 11,
    "start_time": "2025-01-29T19:03:35.594Z"
   },
   {
    "duration": 3,
    "start_time": "2025-01-29T19:03:41.631Z"
   },
   {
    "duration": 18,
    "start_time": "2025-01-29T19:03:45.465Z"
   },
   {
    "duration": 4,
    "start_time": "2025-01-29T19:03:54.570Z"
   },
   {
    "duration": 6,
    "start_time": "2025-01-29T19:03:57.434Z"
   },
   {
    "duration": 5,
    "start_time": "2025-01-29T19:04:09.327Z"
   },
   {
    "duration": 8,
    "start_time": "2025-01-29T19:04:15.030Z"
   },
   {
    "duration": 10,
    "start_time": "2025-01-29T19:04:58.351Z"
   },
   {
    "duration": 7,
    "start_time": "2025-01-29T19:05:11.476Z"
   },
   {
    "duration": 3,
    "start_time": "2025-01-29T19:05:17.810Z"
   },
   {
    "duration": 8,
    "start_time": "2025-01-29T19:05:30.017Z"
   },
   {
    "duration": 108,
    "start_time": "2025-01-29T19:06:32.242Z"
   },
   {
    "duration": 11,
    "start_time": "2025-01-29T19:07:44.729Z"
   },
   {
    "duration": 10,
    "start_time": "2025-01-29T19:08:24.459Z"
   },
   {
    "duration": 13,
    "start_time": "2025-01-29T19:10:22.222Z"
   },
   {
    "duration": 185,
    "start_time": "2025-01-29T19:10:44.092Z"
   },
   {
    "duration": 131,
    "start_time": "2025-01-29T19:11:11.208Z"
   },
   {
    "duration": 121,
    "start_time": "2025-01-29T19:11:28.479Z"
   },
   {
    "duration": 211,
    "start_time": "2025-01-29T19:11:44.581Z"
   },
   {
    "duration": 196,
    "start_time": "2025-01-29T19:12:00.823Z"
   },
   {
    "duration": 191,
    "start_time": "2025-01-29T19:12:08.051Z"
   },
   {
    "duration": 3,
    "start_time": "2025-01-29T19:14:43.116Z"
   },
   {
    "duration": 133,
    "start_time": "2025-01-29T19:15:19.572Z"
   },
   {
    "duration": 149,
    "start_time": "2025-01-29T19:15:52.581Z"
   },
   {
    "duration": 3,
    "start_time": "2025-01-29T19:16:48.927Z"
   },
   {
    "duration": 11,
    "start_time": "2025-01-29T19:17:10.513Z"
   },
   {
    "duration": 8,
    "start_time": "2025-01-29T19:18:33.419Z"
   },
   {
    "duration": 8,
    "start_time": "2025-01-29T19:18:59.059Z"
   },
   {
    "duration": 109,
    "start_time": "2025-01-29T19:18:59.405Z"
   },
   {
    "duration": 233,
    "start_time": "2025-01-29T19:21:14.035Z"
   },
   {
    "duration": 148,
    "start_time": "2025-01-29T19:21:45.685Z"
   },
   {
    "duration": 7,
    "start_time": "2025-01-29T19:25:07.230Z"
   },
   {
    "duration": 11,
    "start_time": "2025-01-29T19:25:17.221Z"
   },
   {
    "duration": 127,
    "start_time": "2025-01-29T19:25:27.551Z"
   },
   {
    "duration": 6,
    "start_time": "2025-01-29T19:26:02.590Z"
   },
   {
    "duration": 158,
    "start_time": "2025-01-29T19:26:26.529Z"
   },
   {
    "duration": 7,
    "start_time": "2025-01-29T19:32:27.014Z"
   },
   {
    "duration": 9,
    "start_time": "2025-01-29T19:32:28.725Z"
   },
   {
    "duration": 102,
    "start_time": "2025-01-29T19:32:38.003Z"
   },
   {
    "duration": 149,
    "start_time": "2025-01-29T19:32:58.487Z"
   },
   {
    "duration": 147,
    "start_time": "2025-01-29T19:33:06.544Z"
   },
   {
    "duration": 136,
    "start_time": "2025-01-29T19:33:12.933Z"
   },
   {
    "duration": 6,
    "start_time": "2025-01-29T19:46:11.426Z"
   },
   {
    "duration": 8,
    "start_time": "2025-01-29T19:46:17.335Z"
   },
   {
    "duration": 6,
    "start_time": "2025-01-29T19:46:17.645Z"
   },
   {
    "duration": 15,
    "start_time": "2025-01-29T19:46:22.184Z"
   },
   {
    "duration": 15,
    "start_time": "2025-01-29T19:46:31.960Z"
   },
   {
    "duration": 14,
    "start_time": "2025-01-29T19:46:59.106Z"
   },
   {
    "duration": 4,
    "start_time": "2025-01-29T20:11:52.524Z"
   },
   {
    "duration": 141,
    "start_time": "2025-01-29T20:12:34.369Z"
   },
   {
    "duration": 152,
    "start_time": "2025-01-29T20:13:05.226Z"
   },
   {
    "duration": 145,
    "start_time": "2025-01-29T20:13:21.453Z"
   },
   {
    "duration": 1163,
    "start_time": "2025-01-29T20:13:50.894Z"
   },
   {
    "duration": 65,
    "start_time": "2025-01-29T20:13:52.059Z"
   },
   {
    "duration": 15,
    "start_time": "2025-01-29T20:13:52.126Z"
   },
   {
    "duration": 3,
    "start_time": "2025-01-29T20:13:52.142Z"
   },
   {
    "duration": 20,
    "start_time": "2025-01-29T20:13:52.147Z"
   },
   {
    "duration": 15,
    "start_time": "2025-01-29T20:13:52.168Z"
   },
   {
    "duration": 12,
    "start_time": "2025-01-29T20:13:52.200Z"
   },
   {
    "duration": 17,
    "start_time": "2025-01-29T20:13:52.214Z"
   },
   {
    "duration": 20,
    "start_time": "2025-01-29T20:13:52.232Z"
   },
   {
    "duration": 7,
    "start_time": "2025-01-29T20:13:52.253Z"
   },
   {
    "duration": 24,
    "start_time": "2025-01-29T20:13:52.262Z"
   },
   {
    "duration": 248,
    "start_time": "2025-01-29T20:13:52.288Z"
   },
   {
    "duration": 9,
    "start_time": "2025-01-29T20:13:52.538Z"
   },
   {
    "duration": 49,
    "start_time": "2025-01-29T20:13:52.550Z"
   },
   {
    "duration": 25,
    "start_time": "2025-01-29T20:13:52.601Z"
   },
   {
    "duration": 3,
    "start_time": "2025-01-29T20:13:52.628Z"
   },
   {
    "duration": 218,
    "start_time": "2025-01-29T20:13:52.633Z"
   },
   {
    "duration": 8,
    "start_time": "2025-01-29T20:13:52.853Z"
   },
   {
    "duration": 8,
    "start_time": "2025-01-29T20:13:52.863Z"
   },
   {
    "duration": 38,
    "start_time": "2025-01-29T20:13:52.872Z"
   },
   {
    "duration": 4,
    "start_time": "2025-01-29T20:13:52.912Z"
   },
   {
    "duration": 14,
    "start_time": "2025-01-29T20:13:52.918Z"
   },
   {
    "duration": 14,
    "start_time": "2025-01-29T20:13:52.933Z"
   },
   {
    "duration": 199,
    "start_time": "2025-01-29T20:13:52.949Z"
   },
   {
    "duration": 8,
    "start_time": "2025-01-29T20:13:53.149Z"
   },
   {
    "duration": 10,
    "start_time": "2025-01-29T20:13:53.159Z"
   },
   {
    "duration": 30,
    "start_time": "2025-01-29T20:13:53.170Z"
   },
   {
    "duration": 9,
    "start_time": "2025-01-29T20:13:53.202Z"
   },
   {
    "duration": 119,
    "start_time": "2025-01-29T20:13:53.213Z"
   },
   {
    "duration": 8,
    "start_time": "2025-01-29T20:13:53.335Z"
   },
   {
    "duration": 93,
    "start_time": "2025-01-29T20:13:53.345Z"
   },
   {
    "duration": 312,
    "start_time": "2025-01-29T20:13:53.440Z"
   },
   {
    "duration": 12,
    "start_time": "2025-01-29T20:13:53.755Z"
   },
   {
    "duration": 387,
    "start_time": "2025-01-29T20:13:53.768Z"
   },
   {
    "duration": 11,
    "start_time": "2025-01-29T20:13:54.157Z"
   },
   {
    "duration": 31,
    "start_time": "2025-01-29T20:13:54.170Z"
   },
   {
    "duration": 19,
    "start_time": "2025-01-29T20:13:54.203Z"
   },
   {
    "duration": 12,
    "start_time": "2025-01-29T20:13:54.224Z"
   },
   {
    "duration": 12,
    "start_time": "2025-01-29T20:13:54.238Z"
   },
   {
    "duration": 14,
    "start_time": "2025-01-29T20:13:54.251Z"
   },
   {
    "duration": 11,
    "start_time": "2025-01-29T20:13:54.270Z"
   },
   {
    "duration": 3100,
    "start_time": "2025-01-29T20:13:54.283Z"
   },
   {
    "duration": 2,
    "start_time": "2025-01-29T20:13:57.384Z"
   },
   {
    "duration": 37,
    "start_time": "2025-01-29T20:13:57.387Z"
   },
   {
    "duration": 188,
    "start_time": "2025-01-29T20:13:57.426Z"
   },
   {
    "duration": 3,
    "start_time": "2025-01-29T20:13:57.616Z"
   },
   {
    "duration": 7,
    "start_time": "2025-01-29T20:13:57.620Z"
   },
   {
    "duration": 5,
    "start_time": "2025-01-29T20:13:57.628Z"
   },
   {
    "duration": 9,
    "start_time": "2025-01-29T20:13:57.634Z"
   },
   {
    "duration": 6,
    "start_time": "2025-01-29T20:13:57.644Z"
   },
   {
    "duration": 14,
    "start_time": "2025-01-29T20:13:57.652Z"
   },
   {
    "duration": 156,
    "start_time": "2025-01-29T20:13:57.668Z"
   },
   {
    "duration": 7,
    "start_time": "2025-01-29T20:13:57.825Z"
   },
   {
    "duration": 147,
    "start_time": "2025-01-29T20:13:57.834Z"
   },
   {
    "duration": 151,
    "start_time": "2025-01-29T20:13:57.983Z"
   },
   {
    "duration": 7,
    "start_time": "2025-01-29T20:13:58.135Z"
   },
   {
    "duration": 261,
    "start_time": "2025-01-29T20:13:58.143Z"
   },
   {
    "duration": 8,
    "start_time": "2025-01-29T20:13:58.405Z"
   },
   {
    "duration": 117,
    "start_time": "2025-01-29T20:13:58.414Z"
   },
   {
    "duration": 149,
    "start_time": "2025-01-29T20:13:58.532Z"
   },
   {
    "duration": 7,
    "start_time": "2025-01-29T20:13:58.682Z"
   },
   {
    "duration": 155,
    "start_time": "2025-01-29T20:13:58.690Z"
   },
   {
    "duration": 9,
    "start_time": "2025-01-29T20:13:58.846Z"
   },
   {
    "duration": 118,
    "start_time": "2025-01-29T20:13:58.856Z"
   },
   {
    "duration": 149,
    "start_time": "2025-01-29T20:13:58.976Z"
   },
   {
    "duration": 6,
    "start_time": "2025-01-29T20:13:59.126Z"
   },
   {
    "duration": 26,
    "start_time": "2025-01-29T20:13:59.133Z"
   },
   {
    "duration": 6,
    "start_time": "2025-01-29T20:13:59.161Z"
   },
   {
    "duration": 22,
    "start_time": "2025-01-29T20:13:59.169Z"
   },
   {
    "duration": 21,
    "start_time": "2025-01-29T20:13:59.193Z"
   },
   {
    "duration": 1263,
    "start_time": "2025-01-30T09:45:28.079Z"
   },
   {
    "duration": 65,
    "start_time": "2025-01-30T09:45:29.343Z"
   },
   {
    "duration": 14,
    "start_time": "2025-01-30T09:45:29.409Z"
   },
   {
    "duration": 9,
    "start_time": "2025-01-30T09:45:29.425Z"
   },
   {
    "duration": 19,
    "start_time": "2025-01-30T09:45:29.436Z"
   },
   {
    "duration": 13,
    "start_time": "2025-01-30T09:45:29.456Z"
   },
   {
    "duration": 12,
    "start_time": "2025-01-30T09:45:29.471Z"
   },
   {
    "duration": 30,
    "start_time": "2025-01-30T09:45:29.484Z"
   },
   {
    "duration": 14,
    "start_time": "2025-01-30T09:45:29.516Z"
   },
   {
    "duration": 7,
    "start_time": "2025-01-30T09:45:29.533Z"
   },
   {
    "duration": 6,
    "start_time": "2025-01-30T09:45:29.543Z"
   },
   {
    "duration": 261,
    "start_time": "2025-01-30T09:45:29.550Z"
   },
   {
    "duration": 9,
    "start_time": "2025-01-30T09:45:29.812Z"
   },
   {
    "duration": 8,
    "start_time": "2025-01-30T09:45:29.822Z"
   },
   {
    "duration": 34,
    "start_time": "2025-01-30T09:45:29.831Z"
   },
   {
    "duration": 3,
    "start_time": "2025-01-30T09:45:29.866Z"
   },
   {
    "duration": 229,
    "start_time": "2025-01-30T09:45:29.870Z"
   },
   {
    "duration": 17,
    "start_time": "2025-01-30T09:45:30.100Z"
   },
   {
    "duration": 32,
    "start_time": "2025-01-30T09:45:30.119Z"
   },
   {
    "duration": 25,
    "start_time": "2025-01-30T09:45:30.152Z"
   },
   {
    "duration": 4,
    "start_time": "2025-01-30T09:45:30.179Z"
   },
   {
    "duration": 45,
    "start_time": "2025-01-30T09:45:30.184Z"
   },
   {
    "duration": 34,
    "start_time": "2025-01-30T09:45:30.231Z"
   },
   {
    "duration": 206,
    "start_time": "2025-01-30T09:45:30.266Z"
   },
   {
    "duration": 10,
    "start_time": "2025-01-30T09:45:30.474Z"
   },
   {
    "duration": 94,
    "start_time": "2025-01-30T09:45:30.486Z"
   },
   {
    "duration": 16,
    "start_time": "2025-01-30T09:45:30.582Z"
   },
   {
    "duration": 8,
    "start_time": "2025-01-30T09:45:30.601Z"
   },
   {
    "duration": 27,
    "start_time": "2025-01-30T09:45:30.611Z"
   },
   {
    "duration": 9,
    "start_time": "2025-01-30T09:45:30.639Z"
   },
   {
    "duration": 18,
    "start_time": "2025-01-30T09:45:30.650Z"
   },
   {
    "duration": 337,
    "start_time": "2025-01-30T09:45:30.670Z"
   },
   {
    "duration": 11,
    "start_time": "2025-01-30T09:45:31.010Z"
   },
   {
    "duration": 331,
    "start_time": "2025-01-30T09:45:31.023Z"
   },
   {
    "duration": 12,
    "start_time": "2025-01-30T09:45:31.356Z"
   },
   {
    "duration": 27,
    "start_time": "2025-01-30T09:45:31.369Z"
   },
   {
    "duration": 20,
    "start_time": "2025-01-30T09:45:31.398Z"
   },
   {
    "duration": 21,
    "start_time": "2025-01-30T09:45:31.420Z"
   },
   {
    "duration": 20,
    "start_time": "2025-01-30T09:45:31.442Z"
   },
   {
    "duration": 9,
    "start_time": "2025-01-30T09:45:31.464Z"
   },
   {
    "duration": 5,
    "start_time": "2025-01-30T09:45:31.474Z"
   },
   {
    "duration": 3078,
    "start_time": "2025-01-30T09:45:31.481Z"
   },
   {
    "duration": 2,
    "start_time": "2025-01-30T09:45:34.561Z"
   },
   {
    "duration": 5,
    "start_time": "2025-01-30T09:45:34.565Z"
   },
   {
    "duration": 220,
    "start_time": "2025-01-30T09:45:34.571Z"
   },
   {
    "duration": 3,
    "start_time": "2025-01-30T09:45:34.792Z"
   },
   {
    "duration": 14,
    "start_time": "2025-01-30T09:45:34.797Z"
   },
   {
    "duration": 21,
    "start_time": "2025-01-30T09:45:34.813Z"
   },
   {
    "duration": 12,
    "start_time": "2025-01-30T09:45:34.836Z"
   },
   {
    "duration": 22,
    "start_time": "2025-01-30T09:45:34.849Z"
   },
   {
    "duration": 18,
    "start_time": "2025-01-30T09:45:34.872Z"
   },
   {
    "duration": 159,
    "start_time": "2025-01-30T09:45:34.892Z"
   },
   {
    "duration": 8,
    "start_time": "2025-01-30T09:45:35.053Z"
   },
   {
    "duration": 126,
    "start_time": "2025-01-30T09:45:35.063Z"
   },
   {
    "duration": 156,
    "start_time": "2025-01-30T09:45:35.191Z"
   },
   {
    "duration": 7,
    "start_time": "2025-01-30T09:45:35.349Z"
   },
   {
    "duration": 282,
    "start_time": "2025-01-30T09:45:35.358Z"
   },
   {
    "duration": 8,
    "start_time": "2025-01-30T09:45:35.642Z"
   },
   {
    "duration": 138,
    "start_time": "2025-01-30T09:45:35.651Z"
   },
   {
    "duration": 161,
    "start_time": "2025-01-30T09:45:35.791Z"
   },
   {
    "duration": 6,
    "start_time": "2025-01-30T09:45:35.954Z"
   },
   {
    "duration": 182,
    "start_time": "2025-01-30T09:45:35.961Z"
   },
   {
    "duration": 8,
    "start_time": "2025-01-30T09:45:36.145Z"
   },
   {
    "duration": 121,
    "start_time": "2025-01-30T09:45:36.154Z"
   },
   {
    "duration": 185,
    "start_time": "2025-01-30T09:45:36.276Z"
   },
   {
    "duration": 6,
    "start_time": "2025-01-30T09:45:36.462Z"
   },
   {
    "duration": 10,
    "start_time": "2025-01-30T09:45:36.470Z"
   },
   {
    "duration": 19,
    "start_time": "2025-01-30T09:45:36.481Z"
   },
   {
    "duration": 35,
    "start_time": "2025-01-30T09:45:36.509Z"
   },
   {
    "duration": 15,
    "start_time": "2025-01-30T09:45:36.545Z"
   },
   {
    "duration": 48,
    "start_time": "2025-01-30T10:40:19.054Z"
   },
   {
    "duration": 1338,
    "start_time": "2025-01-30T10:40:27.483Z"
   },
   {
    "duration": 82,
    "start_time": "2025-01-30T10:40:28.825Z"
   },
   {
    "duration": 15,
    "start_time": "2025-01-30T10:40:28.908Z"
   },
   {
    "duration": 3,
    "start_time": "2025-01-30T10:40:28.925Z"
   },
   {
    "duration": 22,
    "start_time": "2025-01-30T10:40:28.929Z"
   },
   {
    "duration": 16,
    "start_time": "2025-01-30T10:40:28.952Z"
   },
   {
    "duration": 12,
    "start_time": "2025-01-30T10:40:28.969Z"
   },
   {
    "duration": 9,
    "start_time": "2025-01-30T10:40:29.009Z"
   },
   {
    "duration": 18,
    "start_time": "2025-01-30T10:40:29.020Z"
   },
   {
    "duration": 7,
    "start_time": "2025-01-30T10:40:29.041Z"
   },
   {
    "duration": 7,
    "start_time": "2025-01-30T10:40:29.050Z"
   },
   {
    "duration": 265,
    "start_time": "2025-01-30T10:40:29.058Z"
   },
   {
    "duration": 10,
    "start_time": "2025-01-30T10:40:29.324Z"
   },
   {
    "duration": 9,
    "start_time": "2025-01-30T10:40:29.335Z"
   },
   {
    "duration": 16,
    "start_time": "2025-01-30T10:40:29.346Z"
   },
   {
    "duration": 3,
    "start_time": "2025-01-30T10:40:29.363Z"
   },
   {
    "duration": 261,
    "start_time": "2025-01-30T10:40:29.367Z"
   },
   {
    "duration": 9,
    "start_time": "2025-01-30T10:40:29.630Z"
   },
   {
    "duration": 10,
    "start_time": "2025-01-30T10:40:29.640Z"
   },
   {
    "duration": 17,
    "start_time": "2025-01-30T10:40:29.651Z"
   },
   {
    "duration": 4,
    "start_time": "2025-01-30T10:40:29.670Z"
   },
   {
    "duration": 35,
    "start_time": "2025-01-30T10:40:29.675Z"
   },
   {
    "duration": 7,
    "start_time": "2025-01-30T10:40:29.712Z"
   },
   {
    "duration": 210,
    "start_time": "2025-01-30T10:40:29.720Z"
   },
   {
    "duration": 8,
    "start_time": "2025-01-30T10:40:29.932Z"
   },
   {
    "duration": 11,
    "start_time": "2025-01-30T10:40:29.941Z"
   },
   {
    "duration": 8,
    "start_time": "2025-01-30T10:40:29.954Z"
   },
   {
    "duration": 89,
    "start_time": "2025-01-30T10:40:29.965Z"
   },
   {
    "duration": 11,
    "start_time": "2025-01-30T10:40:40.711Z"
   },
   {
    "duration": 9,
    "start_time": "2025-01-30T10:40:43.081Z"
   },
   {
    "duration": 9,
    "start_time": "2025-01-30T10:40:46.304Z"
   },
   {
    "duration": 8,
    "start_time": "2025-01-30T10:40:51.854Z"
   },
   {
    "duration": 8,
    "start_time": "2025-01-30T10:41:07.156Z"
   },
   {
    "duration": 11,
    "start_time": "2025-01-30T10:41:35.743Z"
   },
   {
    "duration": 5,
    "start_time": "2025-01-30T10:41:39.141Z"
   },
   {
    "duration": 291,
    "start_time": "2025-01-30T10:41:40.143Z"
   },
   {
    "duration": 331,
    "start_time": "2025-01-30T10:41:51.580Z"
   },
   {
    "duration": 15,
    "start_time": "2025-01-30T10:45:26.754Z"
   },
   {
    "duration": 8,
    "start_time": "2025-01-30T10:48:42.613Z"
   },
   {
    "duration": 402,
    "start_time": "2025-01-30T10:48:45.415Z"
   },
   {
    "duration": 182,
    "start_time": "2025-01-30T10:48:52.764Z"
   },
   {
    "duration": 13,
    "start_time": "2025-01-30T10:49:47.503Z"
   },
   {
    "duration": 13,
    "start_time": "2025-01-30T10:51:34.659Z"
   },
   {
    "duration": 181,
    "start_time": "2025-01-30T10:51:46.644Z"
   },
   {
    "duration": 186,
    "start_time": "2025-01-30T10:52:27.671Z"
   },
   {
    "duration": 176,
    "start_time": "2025-01-30T10:52:41.822Z"
   },
   {
    "duration": 191,
    "start_time": "2025-01-30T10:54:25.582Z"
   },
   {
    "duration": 178,
    "start_time": "2025-01-30T10:54:35.669Z"
   },
   {
    "duration": 196,
    "start_time": "2025-01-30T10:54:39.200Z"
   },
   {
    "duration": 18,
    "start_time": "2025-01-30T10:55:03.478Z"
   },
   {
    "duration": 17,
    "start_time": "2025-01-30T10:55:10.999Z"
   },
   {
    "duration": 17,
    "start_time": "2025-01-30T10:55:22.981Z"
   },
   {
    "duration": 7,
    "start_time": "2025-01-30T10:55:50.856Z"
   },
   {
    "duration": 11,
    "start_time": "2025-01-30T10:55:54.452Z"
   },
   {
    "duration": 13,
    "start_time": "2025-01-30T10:55:58.957Z"
   },
   {
    "duration": 12,
    "start_time": "2025-01-30T10:56:21.861Z"
   },
   {
    "duration": 13,
    "start_time": "2025-01-30T10:56:28.863Z"
   },
   {
    "duration": 10,
    "start_time": "2025-01-30T10:56:47.809Z"
   },
   {
    "duration": 26,
    "start_time": "2025-01-30T10:56:54.660Z"
   },
   {
    "duration": 16,
    "start_time": "2025-01-30T10:57:05.157Z"
   },
   {
    "duration": 255,
    "start_time": "2025-01-30T10:57:19.947Z"
   },
   {
    "duration": 239,
    "start_time": "2025-01-30T10:58:26.641Z"
   },
   {
    "duration": 261,
    "start_time": "2025-01-30T11:00:18.412Z"
   },
   {
    "duration": 320,
    "start_time": "2025-01-30T11:00:21.285Z"
   },
   {
    "duration": 249,
    "start_time": "2025-01-30T11:00:48.379Z"
   },
   {
    "duration": 11,
    "start_time": "2025-01-30T11:01:49.851Z"
   },
   {
    "duration": 1131,
    "start_time": "2025-01-30T11:56:18.328Z"
   },
   {
    "duration": 77,
    "start_time": "2025-01-30T11:56:19.460Z"
   },
   {
    "duration": 15,
    "start_time": "2025-01-30T11:56:19.539Z"
   },
   {
    "duration": 3,
    "start_time": "2025-01-30T11:56:19.556Z"
   },
   {
    "duration": 18,
    "start_time": "2025-01-30T11:56:19.560Z"
   },
   {
    "duration": 34,
    "start_time": "2025-01-30T11:56:19.579Z"
   },
   {
    "duration": 13,
    "start_time": "2025-01-30T11:56:19.614Z"
   },
   {
    "duration": 9,
    "start_time": "2025-01-30T11:56:19.629Z"
   },
   {
    "duration": 16,
    "start_time": "2025-01-30T11:56:19.639Z"
   },
   {
    "duration": 8,
    "start_time": "2025-01-30T11:56:19.657Z"
   },
   {
    "duration": 43,
    "start_time": "2025-01-30T11:56:19.666Z"
   },
   {
    "duration": 248,
    "start_time": "2025-01-30T11:56:19.711Z"
   },
   {
    "duration": 11,
    "start_time": "2025-01-30T11:56:19.961Z"
   },
   {
    "duration": 11,
    "start_time": "2025-01-30T11:56:19.974Z"
   },
   {
    "duration": 27,
    "start_time": "2025-01-30T11:56:20.010Z"
   },
   {
    "duration": 7,
    "start_time": "2025-01-30T11:56:20.039Z"
   },
   {
    "duration": 226,
    "start_time": "2025-01-30T11:56:20.048Z"
   },
   {
    "duration": 10,
    "start_time": "2025-01-30T11:56:20.275Z"
   },
   {
    "duration": 25,
    "start_time": "2025-01-30T11:56:20.287Z"
   },
   {
    "duration": 16,
    "start_time": "2025-01-30T11:56:20.314Z"
   },
   {
    "duration": 4,
    "start_time": "2025-01-30T11:56:20.332Z"
   },
   {
    "duration": 11,
    "start_time": "2025-01-30T11:56:20.338Z"
   },
   {
    "duration": 14,
    "start_time": "2025-01-30T11:56:20.350Z"
   },
   {
    "duration": 218,
    "start_time": "2025-01-30T11:56:20.365Z"
   },
   {
    "duration": 8,
    "start_time": "2025-01-30T11:56:20.584Z"
   },
   {
    "duration": 23,
    "start_time": "2025-01-30T11:56:20.594Z"
   },
   {
    "duration": 28,
    "start_time": "2025-01-30T11:56:20.619Z"
   },
   {
    "duration": 17,
    "start_time": "2025-01-30T11:56:20.651Z"
   },
   {
    "duration": 246,
    "start_time": "2025-01-30T11:56:20.670Z"
   },
   {
    "duration": 14,
    "start_time": "2025-01-30T11:56:20.918Z"
   },
   {
    "duration": 8,
    "start_time": "2025-01-30T11:56:20.933Z"
   },
   {
    "duration": 13,
    "start_time": "2025-01-30T11:56:20.943Z"
   },
   {
    "duration": 334,
    "start_time": "2025-01-30T11:56:20.958Z"
   },
   {
    "duration": 22,
    "start_time": "2025-01-30T11:56:21.294Z"
   },
   {
    "duration": 318,
    "start_time": "2025-01-30T11:56:21.318Z"
   },
   {
    "duration": 10,
    "start_time": "2025-01-30T11:56:21.638Z"
   },
   {
    "duration": 9,
    "start_time": "2025-01-30T11:56:21.650Z"
   },
   {
    "duration": 14,
    "start_time": "2025-01-30T11:56:21.661Z"
   },
   {
    "duration": 71,
    "start_time": "2025-01-30T11:56:21.676Z"
   },
   {
    "duration": 11,
    "start_time": "2025-01-30T11:56:21.748Z"
   },
   {
    "duration": 20,
    "start_time": "2025-01-30T11:56:21.760Z"
   },
   {
    "duration": 6,
    "start_time": "2025-01-30T11:56:21.782Z"
   },
   {
    "duration": 2994,
    "start_time": "2025-01-30T11:56:21.789Z"
   },
   {
    "duration": 3,
    "start_time": "2025-01-30T11:56:24.784Z"
   },
   {
    "duration": 7,
    "start_time": "2025-01-30T11:56:24.788Z"
   },
   {
    "duration": 199,
    "start_time": "2025-01-30T11:56:24.796Z"
   },
   {
    "duration": 12,
    "start_time": "2025-01-30T11:56:24.997Z"
   },
   {
    "duration": 17,
    "start_time": "2025-01-30T11:56:25.011Z"
   },
   {
    "duration": 20,
    "start_time": "2025-01-30T11:56:25.029Z"
   },
   {
    "duration": 7,
    "start_time": "2025-01-30T11:56:25.050Z"
   },
   {
    "duration": 38,
    "start_time": "2025-01-30T11:56:25.058Z"
   },
   {
    "duration": 10,
    "start_time": "2025-01-30T11:56:25.098Z"
   },
   {
    "duration": 155,
    "start_time": "2025-01-30T11:56:25.110Z"
   },
   {
    "duration": 8,
    "start_time": "2025-01-30T11:56:25.267Z"
   },
   {
    "duration": 121,
    "start_time": "2025-01-30T11:56:25.277Z"
   },
   {
    "duration": 153,
    "start_time": "2025-01-30T11:56:25.399Z"
   },
   {
    "duration": 7,
    "start_time": "2025-01-30T11:56:25.554Z"
   },
   {
    "duration": 266,
    "start_time": "2025-01-30T11:56:25.562Z"
   },
   {
    "duration": 9,
    "start_time": "2025-01-30T11:56:25.830Z"
   },
   {
    "duration": 123,
    "start_time": "2025-01-30T11:56:25.841Z"
   },
   {
    "duration": 158,
    "start_time": "2025-01-30T11:56:25.965Z"
   },
   {
    "duration": 7,
    "start_time": "2025-01-30T11:56:26.124Z"
   },
   {
    "duration": 155,
    "start_time": "2025-01-30T11:56:26.132Z"
   },
   {
    "duration": 8,
    "start_time": "2025-01-30T11:56:26.289Z"
   },
   {
    "duration": 141,
    "start_time": "2025-01-30T11:56:26.310Z"
   },
   {
    "duration": 178,
    "start_time": "2025-01-30T11:56:26.452Z"
   },
   {
    "duration": 5,
    "start_time": "2025-01-30T11:56:26.632Z"
   },
   {
    "duration": 10,
    "start_time": "2025-01-30T11:56:26.639Z"
   },
   {
    "duration": 7,
    "start_time": "2025-01-30T11:56:26.651Z"
   },
   {
    "duration": 15,
    "start_time": "2025-01-30T11:56:26.660Z"
   },
   {
    "duration": 41,
    "start_time": "2025-01-30T11:56:26.677Z"
   }
  ],
  "kernelspec": {
   "display_name": "Python 3 (ipykernel)",
   "language": "python",
   "name": "python3"
  },
  "language_info": {
   "codemirror_mode": {
    "name": "ipython",
    "version": 3
   },
   "file_extension": ".py",
   "mimetype": "text/x-python",
   "name": "python",
   "nbconvert_exporter": "python",
   "pygments_lexer": "ipython3",
   "version": "3.9.5"
  },
  "toc": {
   "base_numbering": 1,
   "nav_menu": {},
   "number_sections": true,
   "sideBar": true,
   "skip_h1_title": true,
   "title_cell": "Table of Contents",
   "title_sidebar": "Contents",
   "toc_cell": false,
   "toc_position": {},
   "toc_section_display": true,
   "toc_window_display": false
  }
 },
 "nbformat": 4,
 "nbformat_minor": 4
}
