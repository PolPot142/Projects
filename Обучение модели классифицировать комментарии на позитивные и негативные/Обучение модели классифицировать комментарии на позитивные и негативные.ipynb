{
 "cells": [
  {
   "cell_type": "markdown",
   "metadata": {
    "toc": true
   },
   "source": [
    "<h1>Содержание<span class=\"tocSkip\"></span></h1>\n",
    "<div class=\"toc\"><ul class=\"toc-item\"><li><span><a href=\"#Подготовка\" data-toc-modified-id=\"Подготовка-1\"><span class=\"toc-item-num\">1&nbsp;&nbsp;</span>Подготовка</a></span></li><li><span><a href=\"#Обучение\" data-toc-modified-id=\"Обучение-2\"><span class=\"toc-item-num\">2&nbsp;&nbsp;</span>Обучение</a></span></li><li><span><a href=\"#Выводы\" data-toc-modified-id=\"Выводы-3\"><span class=\"toc-item-num\">3&nbsp;&nbsp;</span>Выводы</a></span></li><li><span><a href=\"#Чек-лист-проверки\" data-toc-modified-id=\"Чек-лист-проверки-4\"><span class=\"toc-item-num\">4&nbsp;&nbsp;</span>Чек-лист проверки</a></span></li></ul></div>"
   ]
  },
  {
   "cell_type": "markdown",
   "metadata": {},
   "source": [
    "# Проект для «Викишоп»"
   ]
  },
  {
   "cell_type": "markdown",
   "metadata": {},
   "source": [
    "Интернет-магазин «Викишоп» запускает новый сервис. Теперь пользователи могут редактировать и дополнять описания товаров, как в вики-сообществах. То есть клиенты предлагают свои правки и комментируют изменения других. Магазину нужен инструмент, который будет искать токсичные комментарии и отправлять их на модерацию. \n",
    "\n",
    "Обучите модель классифицировать комментарии на позитивные и негативные. В вашем распоряжении набор данных с разметкой о токсичности правок.\n",
    "\n",
    "Постройте модель со значением метрики качества *F1* не меньше 0.75. \n",
    "\n",
    "**Инструкция по выполнению проекта**\n",
    "\n",
    "1. Загрузите и подготовьте данные.\n",
    "2. Обучите разные модели. \n",
    "3. Сделайте выводы.\n",
    "\n",
    "Для выполнения проекта применять *BERT* необязательно, но вы можете попробовать.\n",
    "\n",
    "**Описание данных**\n",
    "\n",
    "Данные находятся в файле `toxic_comments.csv`. Столбец *text* в нём содержит текст комментария, а *toxic* — целевой признак."
   ]
  },
  {
   "cell_type": "markdown",
   "metadata": {},
   "source": [
    "## Подготовка"
   ]
  },
  {
   "cell_type": "code",
   "execution_count": 1,
   "metadata": {
    "collapsed": true
   },
   "outputs": [
    {
     "name": "stdout",
     "output_type": "stream",
     "text": [
      "Requirement already satisfied: shap in /opt/conda/lib/python3.9/site-packages (0.47.2)\n",
      "Requirement already satisfied: numba>=0.54 in /opt/conda/lib/python3.9/site-packages (from shap) (0.56.0)\n",
      "Requirement already satisfied: pandas in /opt/conda/lib/python3.9/site-packages (from shap) (1.2.4)\n",
      "Requirement already satisfied: scikit-learn in /opt/conda/lib/python3.9/site-packages (from shap) (0.24.1)\n",
      "Requirement already satisfied: typing-extensions in /opt/conda/lib/python3.9/site-packages (from shap) (4.3.0)\n",
      "Requirement already satisfied: scipy in /opt/conda/lib/python3.9/site-packages (from shap) (1.9.1)\n",
      "Requirement already satisfied: slicer==0.0.8 in /opt/conda/lib/python3.9/site-packages (from shap) (0.0.8)\n",
      "Requirement already satisfied: numpy in /opt/conda/lib/python3.9/site-packages (from shap) (1.21.1)\n",
      "Requirement already satisfied: cloudpickle in /opt/conda/lib/python3.9/site-packages (from shap) (3.1.1)\n",
      "Requirement already satisfied: packaging>20.9 in /opt/conda/lib/python3.9/site-packages (from shap) (21.3)\n",
      "Requirement already satisfied: tqdm>=4.27.0 in /opt/conda/lib/python3.9/site-packages (from shap) (4.61.2)\n",
      "Requirement already satisfied: setuptools in /opt/conda/lib/python3.9/site-packages (from numba>=0.54->shap) (49.6.0.post20210108)\n",
      "Requirement already satisfied: llvmlite<0.40,>=0.39.0dev0 in /opt/conda/lib/python3.9/site-packages (from numba>=0.54->shap) (0.39.0)\n",
      "Requirement already satisfied: pyparsing!=3.0.5,>=2.0.2 in /opt/conda/lib/python3.9/site-packages (from packaging>20.9->shap) (2.4.7)\n",
      "Requirement already satisfied: python-dateutil>=2.7.3 in /opt/conda/lib/python3.9/site-packages (from pandas->shap) (2.8.1)\n",
      "Requirement already satisfied: pytz>=2017.3 in /opt/conda/lib/python3.9/site-packages (from pandas->shap) (2021.1)\n",
      "Requirement already satisfied: six>=1.5 in /opt/conda/lib/python3.9/site-packages (from python-dateutil>=2.7.3->pandas->shap) (1.16.0)\n",
      "Requirement already satisfied: threadpoolctl>=2.0.0 in /opt/conda/lib/python3.9/site-packages (from scikit-learn->shap) (3.1.0)\n",
      "Requirement already satisfied: joblib>=0.11 in /opt/conda/lib/python3.9/site-packages (from scikit-learn->shap) (1.1.0)\n"
     ]
    }
   ],
   "source": [
    "#pip install en_core_web_sm -q\n",
    "#%matplotlib inline\n",
    "#!pip install --upgrade Pillow==9.5.0\n",
    "#!pip install wordcloud==1.8.0\n",
    "#!pip install shap"
   ]
  },
  {
   "cell_type": "code",
   "execution_count": 2,
   "metadata": {},
   "outputs": [],
   "source": [
    "import re\n",
    "import nltk\n",
    "import os\n",
    "import shap\n",
    "import spacy\n",
    "import pandas as pd\n",
    "import numpy as np\n",
    "import seaborn as sns\n",
    "import matplotlib.pyplot as plt\n",
    "\n",
    "from tqdm.notebook import tqdm\n",
    "\n",
    "from sklearn.feature_extraction.text import TfidfVectorizer\n",
    "from sklearn.metrics import f1_score\n",
    "from sklearn.linear_model import LogisticRegression\n",
    "from sklearn.model_selection import train_test_split\n",
    "from sklearn.pipeline import Pipeline\n",
    "from sklearn.compose import ColumnTransformer\n",
    "from sklearn.preprocessing import StandardScaler\n",
    "from sklearn.model_selection import GridSearchCV\n",
    "\n",
    "from nltk.tokenize import word_tokenize\n",
    "from nltk.corpus import stopwords\n",
    "from nltk.sentiment import SentimentIntensityAnalyzer"
   ]
  },
  {
   "cell_type": "markdown",
   "metadata": {},
   "source": [
    "Скачиваем необходимые словари:"
   ]
  },
  {
   "cell_type": "code",
   "execution_count": 3,
   "metadata": {},
   "outputs": [
    {
     "name": "stderr",
     "output_type": "stream",
     "text": [
      "[nltk_data] Downloading package punkt to /home/jovyan/nltk_data...\n",
      "[nltk_data]   Package punkt is already up-to-date!\n",
      "[nltk_data] Downloading package punkt_tab to /home/jovyan/nltk_data...\n",
      "[nltk_data]   Package punkt_tab is already up-to-date!\n",
      "[nltk_data] Downloading package stopwords to /home/jovyan/nltk_data...\n",
      "[nltk_data]   Package stopwords is already up-to-date!\n",
      "[nltk_data] Downloading package wordnet to /home/jovyan/nltk_data...\n",
      "[nltk_data]   Package wordnet is already up-to-date!\n",
      "[nltk_data] Downloading package vader_lexicon to\n",
      "[nltk_data]     /home/jovyan/nltk_data...\n",
      "[nltk_data]   Package vader_lexicon is already up-to-date!\n"
     ]
    },
    {
     "data": {
      "text/plain": [
       "True"
      ]
     },
     "execution_count": 3,
     "metadata": {},
     "output_type": "execute_result"
    }
   ],
   "source": [
    "nltk.download('punkt')\n",
    "nltk.download('punkt_tab')\n",
    "nltk.download('stopwords')\n",
    "nltk.download('wordnet')\n",
    "nltk.download('vader_lexicon')\n",
    "#nltk.download('omw-1.4')"
   ]
  },
  {
   "cell_type": "code",
   "execution_count": 4,
   "metadata": {},
   "outputs": [
    {
     "name": "stdout",
     "output_type": "stream",
     "text": [
      "from server\n"
     ]
    }
   ],
   "source": [
    "pth_0 = r'C:\\Users\\Grigory\\Downloads\\toxic_comments.csv'\n",
    "pth_1 = '/datasets/toxic_comments.csv'\n",
    "\n",
    "if os.path.exists(pth_0):\n",
    "    df = pd.read_csv(pth_0)\n",
    "    print('from disk')\n",
    "elif os.path.exists(pth_1):\n",
    "    df = pd.read_csv(pth_1)\n",
    "    print('from server')\n",
    "else: \n",
    "    print('something is wrong')"
   ]
  },
  {
   "cell_type": "code",
   "execution_count": 5,
   "metadata": {
    "scrolled": true
   },
   "outputs": [
    {
     "data": {
      "text/html": [
       "<div>\n",
       "<style scoped>\n",
       "    .dataframe tbody tr th:only-of-type {\n",
       "        vertical-align: middle;\n",
       "    }\n",
       "\n",
       "    .dataframe tbody tr th {\n",
       "        vertical-align: top;\n",
       "    }\n",
       "\n",
       "    .dataframe thead th {\n",
       "        text-align: right;\n",
       "    }\n",
       "</style>\n",
       "<table border=\"1\" class=\"dataframe\">\n",
       "  <thead>\n",
       "    <tr style=\"text-align: right;\">\n",
       "      <th></th>\n",
       "      <th>Unnamed: 0</th>\n",
       "      <th>text</th>\n",
       "      <th>toxic</th>\n",
       "    </tr>\n",
       "  </thead>\n",
       "  <tbody>\n",
       "    <tr>\n",
       "      <th>0</th>\n",
       "      <td>0</td>\n",
       "      <td>Explanation\\nWhy the edits made under my usern...</td>\n",
       "      <td>0</td>\n",
       "    </tr>\n",
       "    <tr>\n",
       "      <th>1</th>\n",
       "      <td>1</td>\n",
       "      <td>D'aww! He matches this background colour I'm s...</td>\n",
       "      <td>0</td>\n",
       "    </tr>\n",
       "    <tr>\n",
       "      <th>2</th>\n",
       "      <td>2</td>\n",
       "      <td>Hey man, I'm really not trying to edit war. It...</td>\n",
       "      <td>0</td>\n",
       "    </tr>\n",
       "    <tr>\n",
       "      <th>3</th>\n",
       "      <td>3</td>\n",
       "      <td>\"\\nMore\\nI can't make any real suggestions on ...</td>\n",
       "      <td>0</td>\n",
       "    </tr>\n",
       "    <tr>\n",
       "      <th>4</th>\n",
       "      <td>4</td>\n",
       "      <td>You, sir, are my hero. Any chance you remember...</td>\n",
       "      <td>0</td>\n",
       "    </tr>\n",
       "    <tr>\n",
       "      <th>...</th>\n",
       "      <td>...</td>\n",
       "      <td>...</td>\n",
       "      <td>...</td>\n",
       "    </tr>\n",
       "    <tr>\n",
       "      <th>159287</th>\n",
       "      <td>159446</td>\n",
       "      <td>\":::::And for the second time of asking, when ...</td>\n",
       "      <td>0</td>\n",
       "    </tr>\n",
       "    <tr>\n",
       "      <th>159288</th>\n",
       "      <td>159447</td>\n",
       "      <td>You should be ashamed of yourself \\n\\nThat is ...</td>\n",
       "      <td>0</td>\n",
       "    </tr>\n",
       "    <tr>\n",
       "      <th>159289</th>\n",
       "      <td>159448</td>\n",
       "      <td>Spitzer \\n\\nUmm, theres no actual article for ...</td>\n",
       "      <td>0</td>\n",
       "    </tr>\n",
       "    <tr>\n",
       "      <th>159290</th>\n",
       "      <td>159449</td>\n",
       "      <td>And it looks like it was actually you who put ...</td>\n",
       "      <td>0</td>\n",
       "    </tr>\n",
       "    <tr>\n",
       "      <th>159291</th>\n",
       "      <td>159450</td>\n",
       "      <td>\"\\nAnd ... I really don't think you understand...</td>\n",
       "      <td>0</td>\n",
       "    </tr>\n",
       "  </tbody>\n",
       "</table>\n",
       "<p>159292 rows × 3 columns</p>\n",
       "</div>"
      ],
      "text/plain": [
       "        Unnamed: 0                                               text  toxic\n",
       "0                0  Explanation\\nWhy the edits made under my usern...      0\n",
       "1                1  D'aww! He matches this background colour I'm s...      0\n",
       "2                2  Hey man, I'm really not trying to edit war. It...      0\n",
       "3                3  \"\\nMore\\nI can't make any real suggestions on ...      0\n",
       "4                4  You, sir, are my hero. Any chance you remember...      0\n",
       "...            ...                                                ...    ...\n",
       "159287      159446  \":::::And for the second time of asking, when ...      0\n",
       "159288      159447  You should be ashamed of yourself \\n\\nThat is ...      0\n",
       "159289      159448  Spitzer \\n\\nUmm, theres no actual article for ...      0\n",
       "159290      159449  And it looks like it was actually you who put ...      0\n",
       "159291      159450  \"\\nAnd ... I really don't think you understand...      0\n",
       "\n",
       "[159292 rows x 3 columns]"
      ]
     },
     "metadata": {},
     "output_type": "display_data"
    }
   ],
   "source": [
    "display(df)"
   ]
  },
  {
   "cell_type": "code",
   "execution_count": 6,
   "metadata": {},
   "outputs": [
    {
     "name": "stdout",
     "output_type": "stream",
     "text": [
      "<class 'pandas.core.frame.DataFrame'>\n",
      "RangeIndex: 159292 entries, 0 to 159291\n",
      "Data columns (total 3 columns):\n",
      " #   Column      Non-Null Count   Dtype \n",
      "---  ------      --------------   ----- \n",
      " 0   Unnamed: 0  159292 non-null  int64 \n",
      " 1   text        159292 non-null  object\n",
      " 2   toxic       159292 non-null  int64 \n",
      "dtypes: int64(2), object(1)\n",
      "memory usage: 3.6+ MB\n"
     ]
    }
   ],
   "source": [
    "df.info()"
   ]
  },
  {
   "cell_type": "code",
   "execution_count": 7,
   "metadata": {},
   "outputs": [],
   "source": [
    "stop_words = set(stopwords.words('english'))"
   ]
  },
  {
   "cell_type": "code",
   "execution_count": 8,
   "metadata": {},
   "outputs": [],
   "source": [
    "def clean_text(text):\n",
    "    text = text.lower()                                            #нижний регистр\n",
    "    text = re.sub(r\"http\\S+|www\\S+|https\\S+\", '', text)            #удалить ссылки\n",
    "    text = re.sub(r\"@\\w+\", '', text)                               #удалить обращения через @\n",
    "    text = re.sub(r\"[^\\w\\s]\", '', text)                            #удалить пунктуацию\n",
    "    text = re.sub(r\"\\d+\", '', text)                                #удалить числа\n",
    "    tokens = word_tokenize(text)\n",
    "    filtered_tokens = [word for word in tokens if word not in stop_words]\n",
    "    return \" \".join(filtered_tokens)"
   ]
  },
  {
   "cell_type": "code",
   "execution_count": 9,
   "metadata": {},
   "outputs": [],
   "source": [
    "tqdm.pandas()"
   ]
  },
  {
   "cell_type": "markdown",
   "metadata": {},
   "source": [
    "Очищаем текст:"
   ]
  },
  {
   "cell_type": "code",
   "execution_count": 10,
   "metadata": {},
   "outputs": [
    {
     "data": {
      "application/vnd.jupyter.widget-view+json": {
       "model_id": "92ae3b87e84140a0bfe32cfa605dc3c7",
       "version_major": 2,
       "version_minor": 0
      },
      "text/plain": [
       "  0%|          | 0/159292 [00:00<?, ?it/s]"
      ]
     },
     "metadata": {},
     "output_type": "display_data"
    }
   ],
   "source": [
    "df['clean'] = df['text'].progress_apply(lambda x: clean_text(x))"
   ]
  },
  {
   "cell_type": "markdown",
   "metadata": {},
   "source": [
    "Считаем количество слов:"
   ]
  },
  {
   "cell_type": "code",
   "execution_count": 11,
   "metadata": {},
   "outputs": [],
   "source": [
    "df['count_words'] = df['clean'].apply(lambda x: len(x.split()))"
   ]
  },
  {
   "cell_type": "markdown",
   "metadata": {},
   "source": [
    "Смотрим где слов 0"
   ]
  },
  {
   "cell_type": "code",
   "execution_count": 12,
   "metadata": {},
   "outputs": [
    {
     "data": {
      "text/html": [
       "<div>\n",
       "<style scoped>\n",
       "    .dataframe tbody tr th:only-of-type {\n",
       "        vertical-align: middle;\n",
       "    }\n",
       "\n",
       "    .dataframe tbody tr th {\n",
       "        vertical-align: top;\n",
       "    }\n",
       "\n",
       "    .dataframe thead th {\n",
       "        text-align: right;\n",
       "    }\n",
       "</style>\n",
       "<table border=\"1\" class=\"dataframe\">\n",
       "  <thead>\n",
       "    <tr style=\"text-align: right;\">\n",
       "      <th></th>\n",
       "      <th>Unnamed: 0</th>\n",
       "      <th>text</th>\n",
       "      <th>toxic</th>\n",
       "      <th>clean</th>\n",
       "      <th>count_words</th>\n",
       "    </tr>\n",
       "  </thead>\n",
       "  <tbody>\n",
       "    <tr>\n",
       "      <th>2400</th>\n",
       "      <td>2400</td>\n",
       "      <td>Here, here and here.</td>\n",
       "      <td>0</td>\n",
       "      <td></td>\n",
       "      <td>0</td>\n",
       "    </tr>\n",
       "    <tr>\n",
       "      <th>3983</th>\n",
       "      <td>3983</td>\n",
       "      <td>From here\\n\\nFrom here 160.80.2.8</td>\n",
       "      <td>0</td>\n",
       "      <td></td>\n",
       "      <td>0</td>\n",
       "    </tr>\n",
       "    <tr>\n",
       "      <th>4475</th>\n",
       "      <td>4475</td>\n",
       "      <td>1993\\n\\n1994\\n\\n1995\\n\\n1996\\n\\n1997\\n\\n1998\\n...</td>\n",
       "      <td>0</td>\n",
       "      <td></td>\n",
       "      <td>0</td>\n",
       "    </tr>\n",
       "    <tr>\n",
       "      <th>6182</th>\n",
       "      <td>6186</td>\n",
       "      <td>http://www.imdb.com/name/nm2551199/filmoseries...</td>\n",
       "      <td>0</td>\n",
       "      <td></td>\n",
       "      <td>0</td>\n",
       "    </tr>\n",
       "    <tr>\n",
       "      <th>6289</th>\n",
       "      <td>6293</td>\n",
       "      <td>193.61.111.53  15:00</td>\n",
       "      <td>0</td>\n",
       "      <td></td>\n",
       "      <td>0</td>\n",
       "    </tr>\n",
       "    <tr>\n",
       "      <th>...</th>\n",
       "      <td>...</td>\n",
       "      <td>...</td>\n",
       "      <td>...</td>\n",
       "      <td>...</td>\n",
       "      <td>...</td>\n",
       "    </tr>\n",
       "    <tr>\n",
       "      <th>148595</th>\n",
       "      <td>148751</td>\n",
       "      <td>she did 76.122.79.82</td>\n",
       "      <td>0</td>\n",
       "      <td></td>\n",
       "      <td>0</td>\n",
       "    </tr>\n",
       "    <tr>\n",
       "      <th>151107</th>\n",
       "      <td>151263</td>\n",
       "      <td>10 - 2010 04 08 to 2010 05 12</td>\n",
       "      <td>0</td>\n",
       "      <td></td>\n",
       "      <td>0</td>\n",
       "    </tr>\n",
       "    <tr>\n",
       "      <th>152543</th>\n",
       "      <td>152700</td>\n",
       "      <td>SAME FOR THIS 166.137.240.20</td>\n",
       "      <td>0</td>\n",
       "      <td></td>\n",
       "      <td>0</td>\n",
       "    </tr>\n",
       "    <tr>\n",
       "      <th>153041</th>\n",
       "      <td>153198</td>\n",
       "      <td>which is OVER 9000 OVER 9000 OVER 9000 OVER 90...</td>\n",
       "      <td>0</td>\n",
       "      <td></td>\n",
       "      <td>0</td>\n",
       "    </tr>\n",
       "    <tr>\n",
       "      <th>153342</th>\n",
       "      <td>153499</td>\n",
       "      <td>http://en.wikipedia.org/w/index.php?title=Cras...</td>\n",
       "      <td>0</td>\n",
       "      <td></td>\n",
       "      <td>0</td>\n",
       "    </tr>\n",
       "  </tbody>\n",
       "</table>\n",
       "<p>70 rows × 5 columns</p>\n",
       "</div>"
      ],
      "text/plain": [
       "        Unnamed: 0                                               text  toxic  \\\n",
       "2400          2400                               Here, here and here.      0   \n",
       "3983          3983                  From here\\n\\nFrom here 160.80.2.8      0   \n",
       "4475          4475  1993\\n\\n1994\\n\\n1995\\n\\n1996\\n\\n1997\\n\\n1998\\n...      0   \n",
       "6182          6186  http://www.imdb.com/name/nm2551199/filmoseries...      0   \n",
       "6289          6293                               193.61.111.53  15:00      0   \n",
       "...            ...                                                ...    ...   \n",
       "148595      148751                               she did 76.122.79.82      0   \n",
       "151107      151263                      10 - 2010 04 08 to 2010 05 12      0   \n",
       "152543      152700                       SAME FOR THIS 166.137.240.20      0   \n",
       "153041      153198  which is OVER 9000 OVER 9000 OVER 9000 OVER 90...      0   \n",
       "153342      153499  http://en.wikipedia.org/w/index.php?title=Cras...      0   \n",
       "\n",
       "       clean  count_words  \n",
       "2400                    0  \n",
       "3983                    0  \n",
       "4475                    0  \n",
       "6182                    0  \n",
       "6289                    0  \n",
       "...      ...          ...  \n",
       "148595                  0  \n",
       "151107                  0  \n",
       "152543                  0  \n",
       "153041                  0  \n",
       "153342                  0  \n",
       "\n",
       "[70 rows x 5 columns]"
      ]
     },
     "metadata": {},
     "output_type": "display_data"
    }
   ],
   "source": [
    "display(df.loc[df['count_words'] == 0])"
   ]
  },
  {
   "cell_type": "code",
   "execution_count": 13,
   "metadata": {},
   "outputs": [],
   "source": [
    "df = df.loc[df['count_words'] != 0]\n",
    "df = df.reset_index(drop=True)"
   ]
  },
  {
   "cell_type": "code",
   "execution_count": 14,
   "metadata": {},
   "outputs": [
    {
     "data": {
      "image/png": "[encoded data removed]",
      "text/plain": [
       "<Figure size 432x288 with 1 Axes>"
      ]
     },
     "metadata": {
      "needs_background": "light"
     },
     "output_type": "display_data"
    }
   ],
   "source": [
    "sns.histplot(data=df, x='count_words', hue='toxic', bins=100, kde=True, stat='probability', common_norm=False)\n",
    "plt.title('Гистограмма количества слов в разбиении по токсичности')\n",
    "plt.xlim([0,400])\n",
    "plt.xlabel('Количество слов')\n",
    "plt.ylabel('Плотность вероятности')\n",
    "plt.grid(True)\n",
    "plt.show()"
   ]
  },
  {
   "cell_type": "markdown",
   "metadata": {},
   "source": [
    "Большинство отзывов имеют меньше 50 слов. Токсичные отзывы наиболее короткие. Длинные отзывы в основном нетоксичные."
   ]
  },
  {
   "cell_type": "code",
   "execution_count": 15,
   "metadata": {},
   "outputs": [],
   "source": [
    "df['mean'] = df['clean'].apply(lambda x: sum(len(word) for word in x.split())/len(x.split()))"
   ]
  },
  {
   "cell_type": "code",
   "execution_count": 16,
   "metadata": {},
   "outputs": [],
   "source": [
    "def Sent(text):\n",
    "    return sia.polarity_scores(text)"
   ]
  },
  {
   "cell_type": "code",
   "execution_count": 17,
   "metadata": {},
   "outputs": [
    {
     "data": {
      "application/vnd.jupyter.widget-view+json": {
       "model_id": "7aab2a029bf94c2e910c5569c0b21561",
       "version_major": 2,
       "version_minor": 0
      },
      "text/plain": [
       "  0%|          | 0/159222 [00:00<?, ?it/s]"
      ]
     },
     "metadata": {},
     "output_type": "display_data"
    }
   ],
   "source": [
    "sia = SentimentIntensityAnalyzer()\n",
    "\n",
    "sia_df = df['clean'].progress_apply(lambda x: sia.polarity_scores(x)).to_list()\n"
   ]
  },
  {
   "cell_type": "code",
   "execution_count": 18,
   "metadata": {},
   "outputs": [],
   "source": [
    "sia_df = pd.DataFrame(sia_df)\n",
    "df = pd.concat([df, sia_df], axis = 1)"
   ]
  },
  {
   "cell_type": "code",
   "execution_count": 19,
   "metadata": {},
   "outputs": [
    {
     "data": {
      "image/png": "[encoded data removed]",
      "text/plain": [
       "<Figure size 432x288 with 1 Axes>"
      ]
     },
     "metadata": {
      "needs_background": "light"
     },
     "output_type": "display_data"
    }
   ],
   "source": [
    "sns.histplot(data=df, x='compound', hue='toxic', bins=20, kde=True, stat='probability', common_norm=False)\n",
    "plt.title('Гистограмма по compound в разбиении по токсичности')\n",
    "#plt.xlim([0,400])\n",
    "plt.xlabel('compund')\n",
    "plt.ylabel('Плотность вероятности')\n",
    "plt.grid(True)\n",
    "plt.show()"
   ]
  },
  {
   "cell_type": "markdown",
   "metadata": {},
   "source": [
    "*SentimentIntensityAnalyzer* справился неидеально."
   ]
  },
  {
   "cell_type": "code",
   "execution_count": 20,
   "metadata": {},
   "outputs": [
    {
     "name": "stdout",
     "output_type": "stream",
     "text": [
      "8.837627432808155\n"
     ]
    }
   ],
   "source": [
    "counts = df['toxic'].value_counts()\n",
    "ratio = counts[0] / counts[1]\n",
    "print(ratio)"
   ]
  },
  {
   "cell_type": "markdown",
   "metadata": {},
   "source": [
    "Пропусков нет, лишний столбец потом удалим."
   ]
  },
  {
   "cell_type": "markdown",
   "metadata": {},
   "source": [
    "Функции для лемматизации и очищения текста:"
   ]
  },
  {
   "cell_type": "code",
   "execution_count": 21,
   "metadata": {},
   "outputs": [],
   "source": [
    "nlp = spacy.load('en_core_web_sm')\n",
    "\n",
    "def lemmatize(text):\n",
    "    doc = nlp(text)\n",
    "    return \" \".join([token.lemma_ for token in doc if not token.is_space])"
   ]
  },
  {
   "cell_type": "markdown",
   "metadata": {},
   "source": [
    "def lemmatize(text):\n",
    "    tokens = word_tokenize(text.lower())\n",
    "    lemmatized_words = [lemmatizer.lemmatize(word) for word in tokens]\n",
    "    return \" \".join(lemmatized_words)"
   ]
  },
  {
   "cell_type": "markdown",
   "metadata": {},
   "source": [
    "Создадим новый столбец с лемматизированный и очищенным текстом:"
   ]
  },
  {
   "cell_type": "code",
   "execution_count": 22,
   "metadata": {},
   "outputs": [
    {
     "data": {
      "application/vnd.jupyter.widget-view+json": {
       "model_id": "3b4036299a9b4f7480f3abbd30529b01",
       "version_major": 2,
       "version_minor": 0
      },
      "text/plain": [
       "  0%|          | 0/159222 [00:00<?, ?it/s]"
      ]
     },
     "metadata": {},
     "output_type": "display_data"
    }
   ],
   "source": [
    "df['lemm_text'] = df['clean'].progress_apply(lambda x: lemmatize(x))"
   ]
  },
  {
   "cell_type": "code",
   "execution_count": 23,
   "metadata": {},
   "outputs": [
    {
     "data": {
      "text/html": [
       "<div>\n",
       "<style scoped>\n",
       "    .dataframe tbody tr th:only-of-type {\n",
       "        vertical-align: middle;\n",
       "    }\n",
       "\n",
       "    .dataframe tbody tr th {\n",
       "        vertical-align: top;\n",
       "    }\n",
       "\n",
       "    .dataframe thead th {\n",
       "        text-align: right;\n",
       "    }\n",
       "</style>\n",
       "<table border=\"1\" class=\"dataframe\">\n",
       "  <thead>\n",
       "    <tr style=\"text-align: right;\">\n",
       "      <th></th>\n",
       "      <th>Unnamed: 0</th>\n",
       "      <th>text</th>\n",
       "      <th>toxic</th>\n",
       "      <th>clean</th>\n",
       "      <th>count_words</th>\n",
       "      <th>mean</th>\n",
       "      <th>neg</th>\n",
       "      <th>neu</th>\n",
       "      <th>pos</th>\n",
       "      <th>compound</th>\n",
       "      <th>lemm_text</th>\n",
       "    </tr>\n",
       "  </thead>\n",
       "  <tbody>\n",
       "    <tr>\n",
       "      <th>0</th>\n",
       "      <td>0</td>\n",
       "      <td>Explanation\\nWhy the edits made under my usern...</td>\n",
       "      <td>0</td>\n",
       "      <td>explanation edits made username hardcore metal...</td>\n",
       "      <td>26</td>\n",
       "      <td>5.692308</td>\n",
       "      <td>0.000</td>\n",
       "      <td>0.839</td>\n",
       "      <td>0.161</td>\n",
       "      <td>0.5574</td>\n",
       "      <td>explanation edit make username hardcore metall...</td>\n",
       "    </tr>\n",
       "    <tr>\n",
       "      <th>1</th>\n",
       "      <td>1</td>\n",
       "      <td>D'aww! He matches this background colour I'm s...</td>\n",
       "      <td>0</td>\n",
       "      <td>daww matches background colour im seemingly st...</td>\n",
       "      <td>11</td>\n",
       "      <td>5.727273</td>\n",
       "      <td>0.144</td>\n",
       "      <td>0.647</td>\n",
       "      <td>0.209</td>\n",
       "      <td>0.2263</td>\n",
       "      <td>daww match background colour I m seemingly stu...</td>\n",
       "    </tr>\n",
       "    <tr>\n",
       "      <th>2</th>\n",
       "      <td>2</td>\n",
       "      <td>Hey man, I'm really not trying to edit war. It...</td>\n",
       "      <td>0</td>\n",
       "      <td>hey man im really trying edit war guy constant...</td>\n",
       "      <td>22</td>\n",
       "      <td>5.590909</td>\n",
       "      <td>0.152</td>\n",
       "      <td>0.731</td>\n",
       "      <td>0.117</td>\n",
       "      <td>-0.2415</td>\n",
       "      <td>hey man I m really try edit war guy constantly...</td>\n",
       "    </tr>\n",
       "    <tr>\n",
       "      <th>3</th>\n",
       "      <td>3</td>\n",
       "      <td>\"\\nMore\\nI can't make any real suggestions on ...</td>\n",
       "      <td>0</td>\n",
       "      <td>cant make real suggestions improvement wondere...</td>\n",
       "      <td>49</td>\n",
       "      <td>6.755102</td>\n",
       "      <td>0.083</td>\n",
       "      <td>0.797</td>\n",
       "      <td>0.120</td>\n",
       "      <td>0.2500</td>\n",
       "      <td>can not make real suggestion improvement wonde...</td>\n",
       "    </tr>\n",
       "    <tr>\n",
       "      <th>4</th>\n",
       "      <td>4</td>\n",
       "      <td>You, sir, are my hero. Any chance you remember...</td>\n",
       "      <td>0</td>\n",
       "      <td>sir hero chance remember page thats</td>\n",
       "      <td>6</td>\n",
       "      <td>5.000000</td>\n",
       "      <td>0.000</td>\n",
       "      <td>0.417</td>\n",
       "      <td>0.583</td>\n",
       "      <td>0.6808</td>\n",
       "      <td>sir hero chance remember page that s</td>\n",
       "    </tr>\n",
       "    <tr>\n",
       "      <th>...</th>\n",
       "      <td>...</td>\n",
       "      <td>...</td>\n",
       "      <td>...</td>\n",
       "      <td>...</td>\n",
       "      <td>...</td>\n",
       "      <td>...</td>\n",
       "      <td>...</td>\n",
       "      <td>...</td>\n",
       "      <td>...</td>\n",
       "      <td>...</td>\n",
       "      <td>...</td>\n",
       "    </tr>\n",
       "    <tr>\n",
       "      <th>159217</th>\n",
       "      <td>159446</td>\n",
       "      <td>\":::::And for the second time of asking, when ...</td>\n",
       "      <td>0</td>\n",
       "      <td>second time asking view completely contradicts...</td>\n",
       "      <td>24</td>\n",
       "      <td>6.791667</td>\n",
       "      <td>0.168</td>\n",
       "      <td>0.613</td>\n",
       "      <td>0.219</td>\n",
       "      <td>0.1548</td>\n",
       "      <td>second time ask view completely contradict cov...</td>\n",
       "    </tr>\n",
       "    <tr>\n",
       "      <th>159218</th>\n",
       "      <td>159447</td>\n",
       "      <td>You should be ashamed of yourself \\n\\nThat is ...</td>\n",
       "      <td>0</td>\n",
       "      <td>ashamed horrible thing put talk page</td>\n",
       "      <td>6</td>\n",
       "      <td>5.166667</td>\n",
       "      <td>0.623</td>\n",
       "      <td>0.377</td>\n",
       "      <td>0.000</td>\n",
       "      <td>-0.7650</td>\n",
       "      <td>ashamed horrible thing put talk page</td>\n",
       "    </tr>\n",
       "    <tr>\n",
       "      <th>159219</th>\n",
       "      <td>159448</td>\n",
       "      <td>Spitzer \\n\\nUmm, theres no actual article for ...</td>\n",
       "      <td>0</td>\n",
       "      <td>spitzer umm theres actual article prostitution...</td>\n",
       "      <td>9</td>\n",
       "      <td>6.444444</td>\n",
       "      <td>0.000</td>\n",
       "      <td>1.000</td>\n",
       "      <td>0.000</td>\n",
       "      <td>0.0000</td>\n",
       "      <td>spitzer umm there s actual article prostitutio...</td>\n",
       "    </tr>\n",
       "    <tr>\n",
       "      <th>159220</th>\n",
       "      <td>159449</td>\n",
       "      <td>And it looks like it was actually you who put ...</td>\n",
       "      <td>0</td>\n",
       "      <td>looks like actually put speedy first version d...</td>\n",
       "      <td>9</td>\n",
       "      <td>5.444444</td>\n",
       "      <td>0.000</td>\n",
       "      <td>0.762</td>\n",
       "      <td>0.238</td>\n",
       "      <td>0.3612</td>\n",
       "      <td>look like actually put speedy first version de...</td>\n",
       "    </tr>\n",
       "    <tr>\n",
       "      <th>159221</th>\n",
       "      <td>159450</td>\n",
       "      <td>\"\\nAnd ... I really don't think you understand...</td>\n",
       "      <td>0</td>\n",
       "      <td>really dont think understand came idea bad rig...</td>\n",
       "      <td>19</td>\n",
       "      <td>5.105263</td>\n",
       "      <td>0.254</td>\n",
       "      <td>0.543</td>\n",
       "      <td>0.203</td>\n",
       "      <td>-0.3400</td>\n",
       "      <td>really do not think understand come idea bad r...</td>\n",
       "    </tr>\n",
       "  </tbody>\n",
       "</table>\n",
       "<p>159222 rows × 11 columns</p>\n",
       "</div>"
      ],
      "text/plain": [
       "        Unnamed: 0                                               text  toxic  \\\n",
       "0                0  Explanation\\nWhy the edits made under my usern...      0   \n",
       "1                1  D'aww! He matches this background colour I'm s...      0   \n",
       "2                2  Hey man, I'm really not trying to edit war. It...      0   \n",
       "3                3  \"\\nMore\\nI can't make any real suggestions on ...      0   \n",
       "4                4  You, sir, are my hero. Any chance you remember...      0   \n",
       "...            ...                                                ...    ...   \n",
       "159217      159446  \":::::And for the second time of asking, when ...      0   \n",
       "159218      159447  You should be ashamed of yourself \\n\\nThat is ...      0   \n",
       "159219      159448  Spitzer \\n\\nUmm, theres no actual article for ...      0   \n",
       "159220      159449  And it looks like it was actually you who put ...      0   \n",
       "159221      159450  \"\\nAnd ... I really don't think you understand...      0   \n",
       "\n",
       "                                                    clean  count_words  \\\n",
       "0       explanation edits made username hardcore metal...           26   \n",
       "1       daww matches background colour im seemingly st...           11   \n",
       "2       hey man im really trying edit war guy constant...           22   \n",
       "3       cant make real suggestions improvement wondere...           49   \n",
       "4                     sir hero chance remember page thats            6   \n",
       "...                                                   ...          ...   \n",
       "159217  second time asking view completely contradicts...           24   \n",
       "159218               ashamed horrible thing put talk page            6   \n",
       "159219  spitzer umm theres actual article prostitution...            9   \n",
       "159220  looks like actually put speedy first version d...            9   \n",
       "159221  really dont think understand came idea bad rig...           19   \n",
       "\n",
       "            mean    neg    neu    pos  compound  \\\n",
       "0       5.692308  0.000  0.839  0.161    0.5574   \n",
       "1       5.727273  0.144  0.647  0.209    0.2263   \n",
       "2       5.590909  0.152  0.731  0.117   -0.2415   \n",
       "3       6.755102  0.083  0.797  0.120    0.2500   \n",
       "4       5.000000  0.000  0.417  0.583    0.6808   \n",
       "...          ...    ...    ...    ...       ...   \n",
       "159217  6.791667  0.168  0.613  0.219    0.1548   \n",
       "159218  5.166667  0.623  0.377  0.000   -0.7650   \n",
       "159219  6.444444  0.000  1.000  0.000    0.0000   \n",
       "159220  5.444444  0.000  0.762  0.238    0.3612   \n",
       "159221  5.105263  0.254  0.543  0.203   -0.3400   \n",
       "\n",
       "                                                lemm_text  \n",
       "0       explanation edit make username hardcore metall...  \n",
       "1       daww match background colour I m seemingly stu...  \n",
       "2       hey man I m really try edit war guy constantly...  \n",
       "3       can not make real suggestion improvement wonde...  \n",
       "4                    sir hero chance remember page that s  \n",
       "...                                                   ...  \n",
       "159217  second time ask view completely contradict cov...  \n",
       "159218               ashamed horrible thing put talk page  \n",
       "159219  spitzer umm there s actual article prostitutio...  \n",
       "159220  look like actually put speedy first version de...  \n",
       "159221  really do not think understand come idea bad r...  \n",
       "\n",
       "[159222 rows x 11 columns]"
      ]
     },
     "metadata": {},
     "output_type": "display_data"
    }
   ],
   "source": [
    "display(df)"
   ]
  },
  {
   "cell_type": "markdown",
   "metadata": {},
   "source": [
    "Лишнее удаляем:"
   ]
  },
  {
   "cell_type": "code",
   "execution_count": 24,
   "metadata": {},
   "outputs": [],
   "source": [
    "df_prep = df.drop(['text','clean', 'Unnamed: 0'], axis=1)"
   ]
  },
  {
   "cell_type": "markdown",
   "metadata": {},
   "source": [
    "## Обучение"
   ]
  },
  {
   "cell_type": "code",
   "execution_count": 25,
   "metadata": {},
   "outputs": [],
   "source": [
    "X = df_prep.drop('toxic', axis=1)\n",
    "y = df_prep['toxic']"
   ]
  },
  {
   "cell_type": "code",
   "execution_count": 26,
   "metadata": {},
   "outputs": [],
   "source": [
    "X_train, X_test, y_train, y_test = train_test_split(X, y, test_size = 0.25, random_state = 42)"
   ]
  },
  {
   "cell_type": "code",
   "execution_count": 27,
   "metadata": {},
   "outputs": [],
   "source": [
    "text_column = 'lemm_text'\n",
    "num_columns = ['count_words', 'mean', 'neg', 'neu', 'pos', 'compound']\n",
    "\n",
    "preprocessor = ColumnTransformer(transformers=[\n",
    "    ('text', TfidfVectorizer(max_features=70000), text_column),\n",
    "    ('num', StandardScaler(), num_columns)\n",
    "])\n",
    "\n",
    "pipeline = Pipeline([\n",
    "    ('features', preprocessor),\n",
    "    ('model', LogisticRegression(class_weight='balanced', max_iter=1000, random_state=42))\n",
    "])\n",
    "\n",
    "param_grid = {\n",
    "    'model__C': np.arange(2, 4, 0.2).tolist(), \n",
    "    'model__penalty': ['l1'],\n",
    "    'model__solver': ['liblinear']\n",
    "}\n",
    "\n",
    "grid = GridSearchCV(\n",
    "    pipeline,\n",
    "    cv=5,\n",
    "    n_jobs=-1,\n",
    "    param_grid=param_grid,\n",
    "    scoring='f1',\n",
    "    verbose=2\n",
    ")"
   ]
  },
  {
   "cell_type": "code",
   "execution_count": 28,
   "metadata": {
    "collapsed": true
   },
   "outputs": [
    {
     "name": "stdout",
     "output_type": "stream",
     "text": [
      "Fitting 5 folds for each of 10 candidates, totalling 50 fits\n",
      "[CV] END model__C=2.0, model__penalty=l1, model__solver=liblinear; total time=  16.6s\n",
      "[CV] END model__C=2.0, model__penalty=l1, model__solver=liblinear; total time=  18.1s\n",
      "[CV] END model__C=2.0, model__penalty=l1, model__solver=liblinear; total time=  18.5s\n",
      "[CV] END model__C=2.0, model__penalty=l1, model__solver=liblinear; total time=  18.3s\n",
      "[CV] END model__C=2.0, model__penalty=l1, model__solver=liblinear; total time=  16.6s\n",
      "[CV] END model__C=2.2, model__penalty=l1, model__solver=liblinear; total time=  16.1s\n",
      "[CV] END model__C=2.2, model__penalty=l1, model__solver=liblinear; total time=  17.4s\n",
      "[CV] END model__C=2.2, model__penalty=l1, model__solver=liblinear; total time=  19.0s\n",
      "[CV] END model__C=2.2, model__penalty=l1, model__solver=liblinear; total time=  18.0s\n",
      "[CV] END model__C=2.2, model__penalty=l1, model__solver=liblinear; total time=  17.0s\n",
      "[CV] END model__C=2.4000000000000004, model__penalty=l1, model__solver=liblinear; total time=  16.6s\n",
      "[CV] END model__C=2.4000000000000004, model__penalty=l1, model__solver=liblinear; total time=  18.4s\n",
      "[CV] END model__C=2.4000000000000004, model__penalty=l1, model__solver=liblinear; total time=  18.4s\n",
      "[CV] END model__C=2.4000000000000004, model__penalty=l1, model__solver=liblinear; total time=  18.3s\n",
      "[CV] END model__C=2.4000000000000004, model__penalty=l1, model__solver=liblinear; total time=  17.2s\n",
      "[CV] END model__C=2.6000000000000005, model__penalty=l1, model__solver=liblinear; total time=  15.8s\n",
      "[CV] END model__C=2.6000000000000005, model__penalty=l1, model__solver=liblinear; total time=  18.5s\n",
      "[CV] END model__C=2.6000000000000005, model__penalty=l1, model__solver=liblinear; total time=  14.1s\n",
      "[CV] END model__C=2.6000000000000005, model__penalty=l1, model__solver=liblinear; total time=  17.8s\n",
      "[CV] END model__C=2.6000000000000005, model__penalty=l1, model__solver=liblinear; total time=  16.3s\n",
      "[CV] END model__C=2.8000000000000007, model__penalty=l1, model__solver=liblinear; total time=  12.6s\n",
      "[CV] END model__C=2.8000000000000007, model__penalty=l1, model__solver=liblinear; total time=  18.6s\n",
      "[CV] END model__C=2.8000000000000007, model__penalty=l1, model__solver=liblinear; total time=  18.7s\n",
      "[CV] END model__C=2.8000000000000007, model__penalty=l1, model__solver=liblinear; total time=  18.1s\n",
      "[CV] END model__C=2.8000000000000007, model__penalty=l1, model__solver=liblinear; total time=  16.6s\n",
      "[CV] END model__C=3.000000000000001, model__penalty=l1, model__solver=liblinear; total time=  15.9s\n",
      "[CV] END model__C=3.000000000000001, model__penalty=l1, model__solver=liblinear; total time=  18.1s\n",
      "[CV] END model__C=3.000000000000001, model__penalty=l1, model__solver=liblinear; total time=  18.4s\n",
      "[CV] END model__C=3.000000000000001, model__penalty=l1, model__solver=liblinear; total time=  18.2s\n",
      "[CV] END model__C=3.000000000000001, model__penalty=l1, model__solver=liblinear; total time=  13.7s\n",
      "[CV] END model__C=3.200000000000001, model__penalty=l1, model__solver=liblinear; total time=  15.7s\n",
      "[CV] END model__C=3.200000000000001, model__penalty=l1, model__solver=liblinear; total time=  18.5s\n",
      "[CV] END model__C=3.200000000000001, model__penalty=l1, model__solver=liblinear; total time=  18.1s\n",
      "[CV] END model__C=3.200000000000001, model__penalty=l1, model__solver=liblinear; total time=  17.8s\n",
      "[CV] END model__C=3.200000000000001, model__penalty=l1, model__solver=liblinear; total time=  16.3s\n",
      "[CV] END model__C=3.4000000000000012, model__penalty=l1, model__solver=liblinear; total time=  15.6s\n",
      "[CV] END model__C=3.4000000000000012, model__penalty=l1, model__solver=liblinear; total time=  18.3s\n",
      "[CV] END model__C=3.4000000000000012, model__penalty=l1, model__solver=liblinear; total time=  18.4s\n",
      "[CV] END model__C=3.4000000000000012, model__penalty=l1, model__solver=liblinear; total time=  14.0s\n",
      "[CV] END model__C=3.4000000000000012, model__penalty=l1, model__solver=liblinear; total time=  17.7s\n",
      "[CV] END model__C=3.6000000000000014, model__penalty=l1, model__solver=liblinear; total time=  15.6s\n",
      "[CV] END model__C=3.6000000000000014, model__penalty=l1, model__solver=liblinear; total time=  18.6s\n",
      "[CV] END model__C=3.6000000000000014, model__penalty=l1, model__solver=liblinear; total time=  18.7s\n",
      "[CV] END model__C=3.6000000000000014, model__penalty=l1, model__solver=liblinear; total time=  14.5s\n",
      "[CV] END model__C=3.6000000000000014, model__penalty=l1, model__solver=liblinear; total time=  17.2s\n",
      "[CV] END model__C=3.8000000000000016, model__penalty=l1, model__solver=liblinear; total time=  15.7s\n",
      "[CV] END model__C=3.8000000000000016, model__penalty=l1, model__solver=liblinear; total time=  18.8s\n",
      "[CV] END model__C=3.8000000000000016, model__penalty=l1, model__solver=liblinear; total time=  18.4s\n",
      "[CV] END model__C=3.8000000000000016, model__penalty=l1, model__solver=liblinear; total time=  18.2s\n",
      "[CV] END model__C=3.8000000000000016, model__penalty=l1, model__solver=liblinear; total time=  16.9s\n",
      "F1 на тесте: 0.7508\n",
      "Лучшие параметры: {'model__C': 2.8000000000000007, 'model__penalty': 'l1', 'model__solver': 'liblinear'}\n"
     ]
    }
   ],
   "source": [
    "grid.fit(X_train[[text_column] + num_columns], y_train)\n",
    "\n",
    "y_pred = grid.predict(X_test[[text_column] + num_columns])\n",
    "\n",
    "score = f1_score(y_test, y_pred)\n",
    "\n",
    "print(f'F1 на тесте: {score:.4f}')\n",
    "print('Лучшие параметры:', grid.best_params_)"
   ]
  },
  {
   "cell_type": "markdown",
   "metadata": {},
   "source": [
    "Цель достигнута."
   ]
  },
  {
   "cell_type": "code",
   "execution_count": 29,
   "metadata": {},
   "outputs": [
    {
     "name": "stdout",
     "output_type": "stream",
     "text": [
      "{'features': ColumnTransformer(transformers=[('text', TfidfVectorizer(max_features=70000),\n",
      "                                 'lemm_text'),\n",
      "                                ('num', StandardScaler(),\n",
      "                                 ['count_words', 'mean', 'neg', 'neu', 'pos',\n",
      "                                  'compound'])]), 'model': LogisticRegression(C=2.8000000000000007, class_weight='balanced', max_iter=1000,\n",
      "                   penalty='l1', random_state=42, solver='liblinear')}\n"
     ]
    }
   ],
   "source": [
    "print(grid.best_estimator_.named_steps)\n"
   ]
  },
  {
   "cell_type": "code",
   "execution_count": 30,
   "metadata": {},
   "outputs": [
    {
     "name": "stdout",
     "output_type": "stream",
     "text": [
      "Топ-20 важных (для модели) слов и других признаков:\n",
      "fuck: 55.02\n",
      "fucking: 43.26\n",
      "bitch: 32.69\n",
      "shit: 30.94\n",
      "asshole: 28.39\n",
      "faggot: 28.02\n",
      "idiot: 27.79\n",
      "bullshit: 25.62\n",
      "ass: 25.27\n",
      "suck: 24.36\n",
      "fucker: 23.58\n",
      "ruckley: 23.08\n",
      "stupid: 22.51\n",
      "dick: 21.95\n",
      "cyberterrorist: 21.82\n",
      "bastard: 21.60\n",
      "cunt: 20.86\n",
      "switching: 18.74\n",
      "inapproriate: 18.62\n",
      "idiotic: 18.62\n"
     ]
    }
   ],
   "source": [
    "preprocessor = grid.best_estimator_.named_steps['features']\n",
    "\n",
    "tfidf = preprocessor.named_transformers_['text']\n",
    "scaler = preprocessor.named_transformers_['num']\n",
    "\n",
    "tfidf_names = tfidf.get_feature_names()\n",
    "num_names = num_columns\n",
    "\n",
    "names = np.concatenate([tfidf_names, num_names])\n",
    "\n",
    "coef = grid.best_estimator_.named_steps['model'].coef_[0]\n",
    "top = 20\n",
    "imp_ids = np.argsort(np.abs(coef))[-top:][::-1]\n",
    "\n",
    "print(f'Топ-{top} важных (для модели) слов и других признаков:')\n",
    "\n",
    "for i in imp_ids:\n",
    "    print(f'{names[i]}: {coef[i]:.2f}')"
   ]
  },
  {
   "cell_type": "code",
   "execution_count": 33,
   "metadata": {},
   "outputs": [
    {
     "data": {
      "image/png": "[encoded data removed]",
      "text/plain": [
       "<Figure size 720x576 with 1 Axes>"
      ]
     },
     "metadata": {
      "needs_background": "light"
     },
     "output_type": "display_data"
    }
   ],
   "source": [
    "top_features = [names[i] for i in imp_ids]\n",
    "top_coefs = coef[imp_ids]\n",
    "\n",
    "plt.figure(figsize=(10, 8))\n",
    "plt.barh(top_features, top_coefs)\n",
    "plt.xlabel(\"Коэффициент логистической регрессии\")\n",
    "plt.title(\"Топ-20 важных признаков\")\n",
    "plt.grid(True, axis='x')\n",
    "plt.tight_layout()\n",
    "plt.show()"
   ]
  },
  {
   "cell_type": "markdown",
   "metadata": {},
   "source": [
    "## Выводы"
   ]
  },
  {
   "cell_type": "markdown",
   "metadata": {},
   "source": [
    "1. Пропусков в данных нет. Удален лишний столбец.\n",
    "2. Текст лемматизирован и очищен от лишнего.\n",
    "3. Подобраны гиперпараметры для логистической регрессии: Лучшие параметры: {'model__C': 2.8, 'model__penalty': 'l1', 'model__solver': 'liblinear'}. *F1-score* = 0.75\n",
    "4. Самое популярное слово - *fuck*."
   ]
  }
 ],
 "metadata": {
  "ExecuteTimeLog": [
   {
    "duration": 1099,
    "start_time": "2025-06-03T07:00:02.792Z"
   },
   {
    "duration": 1029,
    "start_time": "2025-06-03T07:00:34.391Z"
   },
   {
    "duration": 16,
    "start_time": "2025-06-03T07:00:40.796Z"
   },
   {
    "duration": 8,
    "start_time": "2025-06-03T07:01:17.698Z"
   },
   {
    "duration": 97,
    "start_time": "2025-06-03T07:03:18.061Z"
   },
   {
    "duration": 3,
    "start_time": "2025-06-03T07:03:50.597Z"
   },
   {
    "duration": 41,
    "start_time": "2025-06-03T07:04:01.445Z"
   },
   {
    "duration": 9,
    "start_time": "2025-06-03T07:04:07.821Z"
   },
   {
    "duration": 4,
    "start_time": "2025-06-03T07:10:34.565Z"
   },
   {
    "duration": 3,
    "start_time": "2025-06-03T07:10:38.724Z"
   },
   {
    "duration": 17,
    "start_time": "2025-06-03T07:10:46.255Z"
   },
   {
    "duration": 30,
    "start_time": "2025-06-03T07:11:40.772Z"
   },
   {
    "duration": 84,
    "start_time": "2025-06-03T07:11:44.558Z"
   },
   {
    "duration": 31,
    "start_time": "2025-06-03T07:12:01.164Z"
   },
   {
    "duration": 23,
    "start_time": "2025-06-03T07:12:35.108Z"
   },
   {
    "duration": 927,
    "start_time": "2025-06-03T07:12:53.604Z"
   },
   {
    "duration": 77,
    "start_time": "2025-06-03T07:14:16.147Z"
   },
   {
    "duration": 3,
    "start_time": "2025-06-03T07:14:17.900Z"
   },
   {
    "duration": 684,
    "start_time": "2025-06-03T07:14:18.401Z"
   },
   {
    "duration": 689,
    "start_time": "2025-06-03T07:14:32.231Z"
   },
   {
    "duration": 689,
    "start_time": "2025-06-03T07:14:40.819Z"
   },
   {
    "duration": 688,
    "start_time": "2025-06-03T07:14:46.116Z"
   },
   {
    "duration": 276,
    "start_time": "2025-06-03T07:16:53.364Z"
   },
   {
    "duration": 1252,
    "start_time": "2025-06-03T07:18:44.135Z"
   },
   {
    "duration": 5,
    "start_time": "2025-06-03T07:21:15.163Z"
   },
   {
    "duration": 155,
    "start_time": "2025-06-03T07:21:27.666Z"
   },
   {
    "duration": 3,
    "start_time": "2025-06-03T07:21:41.028Z"
   },
   {
    "duration": 12,
    "start_time": "2025-06-03T07:22:32.784Z"
   },
   {
    "duration": 35,
    "start_time": "2025-06-03T07:23:44.160Z"
   },
   {
    "duration": 4,
    "start_time": "2025-06-03T07:23:56.620Z"
   },
   {
    "duration": 6,
    "start_time": "2025-06-03T07:24:01.290Z"
   },
   {
    "duration": 27,
    "start_time": "2025-06-03T07:25:08.872Z"
   },
   {
    "duration": 4,
    "start_time": "2025-06-03T07:27:12.445Z"
   },
   {
    "duration": 1443,
    "start_time": "2025-06-03T07:28:00.594Z"
   },
   {
    "duration": 4,
    "start_time": "2025-06-03T07:29:28.450Z"
   },
   {
    "duration": 4,
    "start_time": "2025-06-03T07:33:32.025Z"
   },
   {
    "duration": 126083,
    "start_time": "2025-06-03T07:34:04.082Z"
   },
   {
    "duration": 24,
    "start_time": "2025-06-03T07:37:30.290Z"
   },
   {
    "duration": 6,
    "start_time": "2025-06-03T07:37:54.993Z"
   },
   {
    "duration": 41,
    "start_time": "2025-06-03T07:38:21.542Z"
   },
   {
    "duration": 4,
    "start_time": "2025-06-03T07:39:51.000Z"
   },
   {
    "duration": 16,
    "start_time": "2025-06-03T07:40:06.616Z"
   },
   {
    "duration": 13,
    "start_time": "2025-06-03T07:40:37.074Z"
   },
   {
    "duration": 37,
    "start_time": "2025-06-03T07:40:42.996Z"
   },
   {
    "duration": 4,
    "start_time": "2025-06-03T07:41:59.353Z"
   },
   {
    "duration": 28,
    "start_time": "2025-06-03T07:42:29.561Z"
   },
   {
    "duration": 7543,
    "start_time": "2025-06-03T07:44:20.624Z"
   },
   {
    "duration": 4,
    "start_time": "2025-06-03T07:44:43.435Z"
   },
   {
    "duration": 4,
    "start_time": "2025-06-03T07:44:58.444Z"
   },
   {
    "duration": 6,
    "start_time": "2025-06-03T07:45:20.920Z"
   },
   {
    "duration": 836,
    "start_time": "2025-06-03T07:53:01.674Z"
   },
   {
    "duration": 11,
    "start_time": "2025-06-03T07:53:03.424Z"
   },
   {
    "duration": 7,
    "start_time": "2025-06-03T07:53:04.280Z"
   },
   {
    "duration": 4,
    "start_time": "2025-06-03T07:53:05.224Z"
   },
   {
    "duration": 3,
    "start_time": "2025-06-03T07:53:06.206Z"
   },
   {
    "duration": 3,
    "start_time": "2025-06-03T07:53:06.972Z"
   },
   {
    "duration": 126614,
    "start_time": "2025-06-03T07:53:09.209Z"
   },
   {
    "duration": 30,
    "start_time": "2025-06-03T07:55:50.952Z"
   },
   {
    "duration": 33,
    "start_time": "2025-06-03T07:56:17.394Z"
   },
   {
    "duration": 7364,
    "start_time": "2025-06-03T07:56:21.025Z"
   },
   {
    "duration": 4,
    "start_time": "2025-06-03T07:56:49.017Z"
   },
   {
    "duration": 6,
    "start_time": "2025-06-03T07:57:07.122Z"
   },
   {
    "duration": 10,
    "start_time": "2025-06-03T07:58:22.796Z"
   },
   {
    "duration": 8,
    "start_time": "2025-06-03T07:58:26.839Z"
   },
   {
    "duration": 9,
    "start_time": "2025-06-03T07:58:57.735Z"
   },
   {
    "duration": 11,
    "start_time": "2025-06-03T07:59:01.327Z"
   },
   {
    "duration": 21,
    "start_time": "2025-06-03T07:59:05.904Z"
   },
   {
    "duration": 9,
    "start_time": "2025-06-03T07:59:11.094Z"
   },
   {
    "duration": 6994,
    "start_time": "2025-06-03T07:59:17.824Z"
   },
   {
    "duration": 24,
    "start_time": "2025-06-03T08:00:14.562Z"
   },
   {
    "duration": 11,
    "start_time": "2025-06-03T08:00:27.477Z"
   },
   {
    "duration": 15,
    "start_time": "2025-06-03T08:00:42.205Z"
   },
   {
    "duration": 4,
    "start_time": "2025-06-03T08:00:54.025Z"
   },
   {
    "duration": 14,
    "start_time": "2025-06-03T08:01:06.967Z"
   },
   {
    "duration": 23,
    "start_time": "2025-06-03T08:01:08.225Z"
   },
   {
    "duration": 9,
    "start_time": "2025-06-03T08:01:09.047Z"
   },
   {
    "duration": 15,
    "start_time": "2025-06-03T08:01:15.944Z"
   },
   {
    "duration": 5,
    "start_time": "2025-06-03T08:02:05.031Z"
   },
   {
    "duration": 13,
    "start_time": "2025-06-03T08:02:54.047Z"
   },
   {
    "duration": 25,
    "start_time": "2025-06-03T08:02:54.343Z"
   },
   {
    "duration": 8,
    "start_time": "2025-06-03T08:02:55.032Z"
   },
   {
    "duration": 11110,
    "start_time": "2025-06-03T08:02:56.790Z"
   },
   {
    "duration": 17,
    "start_time": "2025-06-03T08:03:11.282Z"
   },
   {
    "duration": 4,
    "start_time": "2025-06-03T08:03:31.191Z"
   },
   {
    "duration": 4,
    "start_time": "2025-06-03T08:03:40.381Z"
   },
   {
    "duration": 7134,
    "start_time": "2025-06-03T08:03:52.444Z"
   },
   {
    "duration": 1,
    "start_time": "2025-06-03T08:03:59.579Z"
   },
   {
    "duration": 0,
    "start_time": "2025-06-03T08:03:59.581Z"
   },
   {
    "duration": 0,
    "start_time": "2025-06-03T08:03:59.582Z"
   },
   {
    "duration": 13,
    "start_time": "2025-06-03T08:04:04.720Z"
   },
   {
    "duration": 23,
    "start_time": "2025-06-03T08:04:04.982Z"
   },
   {
    "duration": 7104,
    "start_time": "2025-06-03T08:04:05.292Z"
   },
   {
    "duration": 0,
    "start_time": "2025-06-03T08:04:12.399Z"
   },
   {
    "duration": 0,
    "start_time": "2025-06-03T08:04:12.400Z"
   },
   {
    "duration": 0,
    "start_time": "2025-06-03T08:04:12.401Z"
   },
   {
    "duration": 5,
    "start_time": "2025-06-03T08:04:28.780Z"
   },
   {
    "duration": 14,
    "start_time": "2025-06-03T08:04:57.283Z"
   },
   {
    "duration": 29,
    "start_time": "2025-06-03T08:04:57.999Z"
   },
   {
    "duration": 8,
    "start_time": "2025-06-03T08:04:58.819Z"
   },
   {
    "duration": 7573,
    "start_time": "2025-06-03T08:05:04.925Z"
   },
   {
    "duration": 4,
    "start_time": "2025-06-03T08:05:12.500Z"
   },
   {
    "duration": 13,
    "start_time": "2025-06-03T08:05:12.505Z"
   },
   {
    "duration": 24,
    "start_time": "2025-06-03T08:05:12.520Z"
   },
   {
    "duration": 53405,
    "start_time": "2025-06-03T08:14:35.767Z"
   },
   {
    "duration": 28186,
    "start_time": "2025-06-03T08:18:00.754Z"
   },
   {
    "duration": 4,
    "start_time": "2025-06-03T08:18:36.660Z"
   },
   {
    "duration": 4,
    "start_time": "2025-06-03T08:18:37.538Z"
   },
   {
    "duration": 45843,
    "start_time": "2025-06-03T08:18:40.315Z"
   },
   {
    "duration": 4,
    "start_time": "2025-06-03T08:19:57.685Z"
   },
   {
    "duration": 28576,
    "start_time": "2025-06-03T08:20:16.294Z"
   },
   {
    "duration": 4,
    "start_time": "2025-06-03T08:20:44.872Z"
   },
   {
    "duration": 150,
    "start_time": "2025-06-03T08:20:44.877Z"
   },
   {
    "duration": 56541,
    "start_time": "2025-06-03T08:20:45.029Z"
   },
   {
    "duration": 4,
    "start_time": "2025-06-03T08:21:41.573Z"
   },
   {
    "duration": 7809,
    "start_time": "2025-06-03T08:22:04.292Z"
   },
   {
    "duration": 3,
    "start_time": "2025-06-03T08:22:12.103Z"
   },
   {
    "duration": 11,
    "start_time": "2025-06-03T08:22:12.108Z"
   },
   {
    "duration": 43342,
    "start_time": "2025-06-03T08:22:12.121Z"
   },
   {
    "duration": 3,
    "start_time": "2025-06-03T08:22:55.466Z"
   },
   {
    "duration": 336,
    "start_time": "2025-06-03T08:24:27.241Z"
   },
   {
    "duration": 3,
    "start_time": "2025-06-03T08:24:35.791Z"
   },
   {
    "duration": 4,
    "start_time": "2025-06-03T08:24:37.001Z"
   },
   {
    "duration": 1775,
    "start_time": "2025-06-03T08:24:39.519Z"
   },
   {
    "duration": 1354,
    "start_time": "2025-06-03T08:26:05.053Z"
   },
   {
    "duration": 150,
    "start_time": "2025-06-03T08:26:06.409Z"
   },
   {
    "duration": 55,
    "start_time": "2025-06-03T08:26:06.561Z"
   },
   {
    "duration": 5,
    "start_time": "2025-06-03T08:26:06.617Z"
   },
   {
    "duration": 971,
    "start_time": "2025-06-03T08:26:06.624Z"
   },
   {
    "duration": 13,
    "start_time": "2025-06-03T08:26:07.596Z"
   },
   {
    "duration": 16,
    "start_time": "2025-06-03T08:26:07.610Z"
   },
   {
    "duration": 7,
    "start_time": "2025-06-03T08:26:07.628Z"
   },
   {
    "duration": 5,
    "start_time": "2025-06-03T08:26:07.636Z"
   },
   {
    "duration": 625,
    "start_time": "2025-06-03T08:26:07.642Z"
   },
   {
    "duration": 0,
    "start_time": "2025-06-03T08:26:08.269Z"
   },
   {
    "duration": 0,
    "start_time": "2025-06-03T08:26:08.270Z"
   },
   {
    "duration": 0,
    "start_time": "2025-06-03T08:26:08.271Z"
   },
   {
    "duration": 0,
    "start_time": "2025-06-03T08:26:08.272Z"
   },
   {
    "duration": 0,
    "start_time": "2025-06-03T08:26:08.274Z"
   },
   {
    "duration": 4,
    "start_time": "2025-06-03T08:26:55.690Z"
   },
   {
    "duration": 1285,
    "start_time": "2025-06-03T08:27:06.506Z"
   },
   {
    "duration": 162,
    "start_time": "2025-06-03T08:27:07.793Z"
   },
   {
    "duration": 55,
    "start_time": "2025-06-03T08:27:07.957Z"
   },
   {
    "duration": 5,
    "start_time": "2025-06-03T08:27:08.013Z"
   },
   {
    "duration": 17,
    "start_time": "2025-06-03T08:27:08.020Z"
   },
   {
    "duration": 957,
    "start_time": "2025-06-03T08:27:08.038Z"
   },
   {
    "duration": 12,
    "start_time": "2025-06-03T08:27:08.996Z"
   },
   {
    "duration": 48,
    "start_time": "2025-06-03T08:27:09.009Z"
   },
   {
    "duration": 4,
    "start_time": "2025-06-03T08:27:09.058Z"
   },
   {
    "duration": 5,
    "start_time": "2025-06-03T08:27:09.063Z"
   },
   {
    "duration": 105468,
    "start_time": "2025-06-03T08:27:09.070Z"
   },
   {
    "duration": 41,
    "start_time": "2025-06-03T08:28:54.540Z"
   },
   {
    "duration": 10,
    "start_time": "2025-06-03T08:28:54.582Z"
   },
   {
    "duration": 24,
    "start_time": "2025-06-03T08:28:54.594Z"
   },
   {
    "duration": 5008,
    "start_time": "2025-06-03T08:28:54.619Z"
   },
   {
    "duration": 35535,
    "start_time": "2025-06-03T08:28:59.629Z"
   },
   {
    "duration": 5039,
    "start_time": "2025-06-03T08:30:01.419Z"
   },
   {
    "duration": 39801,
    "start_time": "2025-06-03T08:30:06.460Z"
   },
   {
    "duration": 117,
    "start_time": "2025-06-03T08:36:05.206Z"
   },
   {
    "duration": 28,
    "start_time": "2025-06-03T08:36:10.161Z"
   },
   {
    "duration": 402484,
    "start_time": "2025-06-03T08:36:12.744Z"
   },
   {
    "duration": 5023,
    "start_time": "2025-06-03T08:44:29.240Z"
   },
   {
    "duration": 7519,
    "start_time": "2025-06-03T08:44:42.127Z"
   },
   {
    "duration": 3854,
    "start_time": "2025-06-03T08:45:01.812Z"
   },
   {
    "duration": 161,
    "start_time": "2025-06-03T08:46:35.449Z"
   },
   {
    "duration": 6,
    "start_time": "2025-06-03T08:48:04.082Z"
   },
   {
    "duration": 6,
    "start_time": "2025-06-03T08:48:10.361Z"
   },
   {
    "duration": 144320,
    "start_time": "2025-06-03T08:49:12.846Z"
   },
   {
    "duration": 275336,
    "start_time": "2025-06-03T08:58:18.101Z"
   },
   {
    "duration": 3659,
    "start_time": "2025-06-03T09:03:22.653Z"
   },
   {
    "duration": 7435,
    "start_time": "2025-06-03T09:03:30.237Z"
   },
   {
    "duration": 36489,
    "start_time": "2025-06-03T09:03:43.021Z"
   },
   {
    "duration": 13599,
    "start_time": "2025-06-03T09:05:01.541Z"
   },
   {
    "duration": 12962,
    "start_time": "2025-06-03T09:06:33.749Z"
   },
   {
    "duration": 13765,
    "start_time": "2025-06-03T09:07:42.526Z"
   },
   {
    "duration": 52,
    "start_time": "2025-06-04T00:53:56.337Z"
   },
   {
    "duration": 1978,
    "start_time": "2025-06-04T00:54:44.645Z"
   },
   {
    "duration": 193,
    "start_time": "2025-06-04T00:54:46.625Z"
   },
   {
    "duration": 1448,
    "start_time": "2025-06-04T00:54:46.821Z"
   },
   {
    "duration": 136,
    "start_time": "2025-06-04T00:54:48.271Z"
   },
   {
    "duration": 4,
    "start_time": "2025-06-04T00:54:48.409Z"
   },
   {
    "duration": 1008,
    "start_time": "2025-06-04T00:54:48.415Z"
   },
   {
    "duration": 14,
    "start_time": "2025-06-04T00:54:49.425Z"
   },
   {
    "duration": 9,
    "start_time": "2025-06-04T00:54:49.441Z"
   },
   {
    "duration": 3,
    "start_time": "2025-06-04T00:54:49.472Z"
   },
   {
    "duration": 5,
    "start_time": "2025-06-04T00:54:49.476Z"
   },
   {
    "duration": 114012,
    "start_time": "2025-06-04T00:54:49.482Z"
   },
   {
    "duration": 33,
    "start_time": "2025-06-04T00:56:43.496Z"
   },
   {
    "duration": 12,
    "start_time": "2025-06-04T00:56:43.531Z"
   },
   {
    "duration": 47,
    "start_time": "2025-06-04T00:56:43.546Z"
   },
   {
    "duration": 5551,
    "start_time": "2025-06-04T00:56:43.594Z"
   },
   {
    "duration": 287930,
    "start_time": "2025-06-04T00:56:49.147Z"
   },
   {
    "duration": 14215,
    "start_time": "2025-06-04T01:01:37.079Z"
   },
   {
    "duration": 5,
    "start_time": "2025-06-04T01:01:51.296Z"
   },
   {
    "duration": 146982,
    "start_time": "2025-06-04T01:01:51.302Z"
   },
   {
    "duration": 421963,
    "start_time": "2025-06-04T01:06:40.529Z"
   },
   {
    "duration": 79080,
    "start_time": "2025-06-04T01:13:42.494Z"
   },
   {
    "duration": 42173,
    "start_time": "2025-06-04T01:20:19.514Z"
   },
   {
    "duration": 571082,
    "start_time": "2025-06-04T01:21:01.689Z"
   },
   {
    "duration": 781261,
    "start_time": "2025-06-04T01:31:15.367Z"
   },
   {
    "duration": 776271,
    "start_time": "2025-06-04T01:56:24.130Z"
   },
   {
    "duration": 87,
    "start_time": "2025-06-04T02:09:20.403Z"
   },
   {
    "duration": 3627,
    "start_time": "2025-06-04T02:09:20.491Z"
   },
   {
    "duration": 3763,
    "start_time": "2025-06-04T02:09:53.705Z"
   },
   {
    "duration": 615709,
    "start_time": "2025-06-04T02:10:25.368Z"
   },
   {
    "duration": 0,
    "start_time": "2025-06-04T02:20:41.080Z"
   },
   {
    "duration": 923284,
    "start_time": "2025-06-04T02:20:49.230Z"
   },
   {
    "duration": 1590,
    "start_time": "2025-06-04T02:36:12.516Z"
   },
   {
    "duration": 1728,
    "start_time": "2025-06-04T02:38:45.154Z"
   },
   {
    "duration": 1570,
    "start_time": "2025-06-04T02:38:56.861Z"
   },
   {
    "duration": 1482,
    "start_time": "2025-06-04T02:39:04.821Z"
   },
   {
    "duration": 1262,
    "start_time": "2025-06-04T02:39:18.676Z"
   },
   {
    "duration": 1496,
    "start_time": "2025-06-04T02:39:24.397Z"
   },
   {
    "duration": 1457,
    "start_time": "2025-06-04T02:39:30.294Z"
   },
   {
    "duration": 1503,
    "start_time": "2025-06-04T02:39:35.243Z"
   },
   {
    "duration": 1437,
    "start_time": "2025-06-04T02:39:42.840Z"
   },
   {
    "duration": 1495,
    "start_time": "2025-06-04T02:39:49.192Z"
   },
   {
    "duration": 74829,
    "start_time": "2025-06-04T02:41:58.202Z"
   },
   {
    "duration": 1496,
    "start_time": "2025-06-04T02:44:43.796Z"
   },
   {
    "duration": 1144,
    "start_time": "2025-06-04T02:44:50.870Z"
   },
   {
    "duration": 1299,
    "start_time": "2025-06-04T02:44:56.214Z"
   },
   {
    "duration": 1290,
    "start_time": "2025-06-04T02:45:01.698Z"
   },
   {
    "duration": 1408,
    "start_time": "2025-06-04T02:45:08.013Z"
   },
   {
    "duration": 1407,
    "start_time": "2025-06-04T02:45:13.155Z"
   },
   {
    "duration": 1365,
    "start_time": "2025-06-04T02:45:21.764Z"
   },
   {
    "duration": 1373,
    "start_time": "2025-06-04T02:45:29.017Z"
   },
   {
    "duration": 1436,
    "start_time": "2025-06-04T02:45:35.751Z"
   },
   {
    "duration": 1442,
    "start_time": "2025-06-04T02:46:01.232Z"
   },
   {
    "duration": 1387,
    "start_time": "2025-06-04T02:46:09.389Z"
   },
   {
    "duration": 1451,
    "start_time": "2025-06-04T02:46:16.660Z"
   },
   {
    "duration": 1448,
    "start_time": "2025-06-04T02:46:24.411Z"
   },
   {
    "duration": 1512,
    "start_time": "2025-06-04T02:46:31.904Z"
   },
   {
    "duration": 1610,
    "start_time": "2025-06-04T02:46:41.980Z"
   },
   {
    "duration": 1602,
    "start_time": "2025-06-04T02:46:49.811Z"
   },
   {
    "duration": 1490,
    "start_time": "2025-06-04T02:46:57.799Z"
   },
   {
    "duration": 1585,
    "start_time": "2025-06-04T02:47:06.421Z"
   },
   {
    "duration": 1635,
    "start_time": "2025-06-04T02:47:13.547Z"
   },
   {
    "duration": 4,
    "start_time": "2025-06-04T02:47:40.865Z"
   },
   {
    "duration": 36,
    "start_time": "2025-06-04T02:47:49.380Z"
   },
   {
    "duration": 1201,
    "start_time": "2025-06-04T02:48:03.691Z"
   },
   {
    "duration": 1156,
    "start_time": "2025-06-04T02:48:15.899Z"
   },
   {
    "duration": 1149,
    "start_time": "2025-06-04T02:48:21.960Z"
   },
   {
    "duration": 1156,
    "start_time": "2025-06-04T02:48:27.044Z"
   },
   {
    "duration": 8,
    "start_time": "2025-06-04T02:52:52.060Z"
   },
   {
    "duration": 557,
    "start_time": "2025-06-04T02:53:26.129Z"
   },
   {
    "duration": 382,
    "start_time": "2025-06-04T02:53:30.378Z"
   },
   {
    "duration": 4,
    "start_time": "2025-06-04T02:56:10.537Z"
   },
   {
    "duration": 307,
    "start_time": "2025-06-04T02:56:13.519Z"
   },
   {
    "duration": 4,
    "start_time": "2025-06-04T02:57:06.953Z"
   },
   {
    "duration": 278,
    "start_time": "2025-06-04T02:57:27.071Z"
   },
   {
    "duration": 8,
    "start_time": "2025-06-04T02:59:34.314Z"
   },
   {
    "duration": 10,
    "start_time": "2025-06-04T06:12:53.177Z"
   },
   {
    "duration": 274,
    "start_time": "2025-06-04T06:12:56.279Z"
   },
   {
    "duration": 8,
    "start_time": "2025-06-04T06:13:48.392Z"
   },
   {
    "duration": 287,
    "start_time": "2025-06-04T06:13:50.784Z"
   },
   {
    "duration": 316,
    "start_time": "2025-06-04T06:14:14.520Z"
   },
   {
    "duration": 8,
    "start_time": "2025-06-04T06:14:30.243Z"
   },
   {
    "duration": 303,
    "start_time": "2025-06-04T06:14:31.129Z"
   },
   {
    "duration": 3,
    "start_time": "2025-06-04T06:19:33.696Z"
   },
   {
    "duration": 299,
    "start_time": "2025-06-04T06:20:02.464Z"
   },
   {
    "duration": 316,
    "start_time": "2025-06-04T06:20:20.155Z"
   },
   {
    "duration": 304,
    "start_time": "2025-06-04T06:21:01.639Z"
   },
   {
    "duration": 878959,
    "start_time": "2025-06-04T06:21:58.320Z"
   },
   {
    "duration": 7,
    "start_time": "2025-06-04T06:37:29.613Z"
   },
   {
    "duration": 283,
    "start_time": "2025-06-04T06:37:31.979Z"
   },
   {
    "duration": 8,
    "start_time": "2025-06-04T06:37:39.782Z"
   },
   {
    "duration": 278,
    "start_time": "2025-06-04T06:37:40.454Z"
   },
   {
    "duration": 17,
    "start_time": "2025-06-04T06:38:11.496Z"
   },
   {
    "duration": 8,
    "start_time": "2025-06-04T06:38:23.039Z"
   },
   {
    "duration": 304,
    "start_time": "2025-06-04T06:38:23.641Z"
   },
   {
    "duration": 16,
    "start_time": "2025-06-04T06:38:27.365Z"
   },
   {
    "duration": 8,
    "start_time": "2025-06-04T06:38:36.853Z"
   },
   {
    "duration": 553,
    "start_time": "2025-06-04T06:38:37.662Z"
   },
   {
    "duration": 16,
    "start_time": "2025-06-04T06:38:39.519Z"
   },
   {
    "duration": 7,
    "start_time": "2025-06-04T06:38:44.189Z"
   },
   {
    "duration": 297,
    "start_time": "2025-06-04T06:38:44.340Z"
   },
   {
    "duration": 16,
    "start_time": "2025-06-04T06:38:44.639Z"
   },
   {
    "duration": 8,
    "start_time": "2025-06-04T06:38:49.084Z"
   },
   {
    "duration": 268,
    "start_time": "2025-06-04T06:38:49.278Z"
   },
   {
    "duration": 30,
    "start_time": "2025-06-04T06:38:49.547Z"
   },
   {
    "duration": 304,
    "start_time": "2025-06-04T06:38:49.596Z"
   },
   {
    "duration": 7,
    "start_time": "2025-06-04T06:38:55.046Z"
   },
   {
    "duration": 332,
    "start_time": "2025-06-04T06:38:55.212Z"
   },
   {
    "duration": 25,
    "start_time": "2025-06-04T06:38:55.546Z"
   },
   {
    "duration": 9,
    "start_time": "2025-06-04T06:42:40.765Z"
   },
   {
    "duration": 276,
    "start_time": "2025-06-04T06:42:41.282Z"
   },
   {
    "duration": 27,
    "start_time": "2025-06-04T06:42:42.766Z"
   },
   {
    "duration": 881,
    "start_time": "2025-06-04T06:43:02.104Z"
   },
   {
    "duration": 821,
    "start_time": "2025-06-04T06:43:12.977Z"
   },
   {
    "duration": 293,
    "start_time": "2025-06-04T06:43:14.987Z"
   },
   {
    "duration": 139,
    "start_time": "2025-06-04T06:44:15.595Z"
   },
   {
    "duration": 323,
    "start_time": "2025-06-04T06:44:54.223Z"
   },
   {
    "duration": 793,
    "start_time": "2025-06-04T06:45:09.291Z"
   },
   {
    "duration": 357,
    "start_time": "2025-06-04T06:45:10.086Z"
   },
   {
    "duration": 768,
    "start_time": "2025-06-04T06:45:17.818Z"
   },
   {
    "duration": 365,
    "start_time": "2025-06-04T06:45:18.589Z"
   },
   {
    "duration": 294,
    "start_time": "2025-06-04T06:45:28.562Z"
   },
   {
    "duration": 814,
    "start_time": "2025-06-04T06:45:34.568Z"
   },
   {
    "duration": 373,
    "start_time": "2025-06-04T06:45:35.384Z"
   },
   {
    "duration": 817,
    "start_time": "2025-06-04T06:45:41.167Z"
   },
   {
    "duration": 370,
    "start_time": "2025-06-04T06:45:41.987Z"
   },
   {
    "duration": 855,
    "start_time": "2025-06-04T06:55:26.164Z"
   },
   {
    "duration": 320,
    "start_time": "2025-06-04T06:55:27.021Z"
   },
   {
    "duration": 796,
    "start_time": "2025-06-04T06:55:33.290Z"
   },
   {
    "duration": 361,
    "start_time": "2025-06-04T06:55:34.088Z"
   },
   {
    "duration": 777,
    "start_time": "2025-06-04T06:55:39.303Z"
   },
   {
    "duration": 363,
    "start_time": "2025-06-04T06:55:40.082Z"
   },
   {
    "duration": 817,
    "start_time": "2025-06-04T06:55:45.581Z"
   },
   {
    "duration": 371,
    "start_time": "2025-06-04T06:55:46.400Z"
   },
   {
    "duration": 287,
    "start_time": "2025-06-04T06:56:35.364Z"
   },
   {
    "duration": 297,
    "start_time": "2025-06-04T07:02:06.562Z"
   },
   {
    "duration": 316,
    "start_time": "2025-06-04T07:02:14.028Z"
   },
   {
    "duration": 1893,
    "start_time": "2025-06-04T07:14:05.267Z"
   },
   {
    "duration": 187,
    "start_time": "2025-06-04T07:14:07.163Z"
   },
   {
    "duration": 986,
    "start_time": "2025-06-04T07:14:07.352Z"
   },
   {
    "duration": 16,
    "start_time": "2025-06-04T07:14:08.340Z"
   },
   {
    "duration": 28,
    "start_time": "2025-06-04T07:14:08.357Z"
   },
   {
    "duration": 19,
    "start_time": "2025-06-04T07:14:08.387Z"
   },
   {
    "duration": 18,
    "start_time": "2025-06-04T07:14:08.408Z"
   },
   {
    "duration": 14,
    "start_time": "2025-06-04T07:14:08.428Z"
   },
   {
    "duration": 16074,
    "start_time": "2025-06-04T07:14:08.443Z"
   },
   {
    "duration": 0,
    "start_time": "2025-06-04T07:14:24.520Z"
   },
   {
    "duration": 0,
    "start_time": "2025-06-04T07:14:24.521Z"
   },
   {
    "duration": 0,
    "start_time": "2025-06-04T07:14:24.522Z"
   },
   {
    "duration": 0,
    "start_time": "2025-06-04T07:14:24.523Z"
   },
   {
    "duration": 0,
    "start_time": "2025-06-04T07:14:24.524Z"
   },
   {
    "duration": 0,
    "start_time": "2025-06-04T07:14:24.525Z"
   },
   {
    "duration": 0,
    "start_time": "2025-06-04T07:14:24.527Z"
   },
   {
    "duration": 0,
    "start_time": "2025-06-04T07:14:24.527Z"
   },
   {
    "duration": 0,
    "start_time": "2025-06-04T07:14:24.528Z"
   },
   {
    "duration": 0,
    "start_time": "2025-06-04T07:14:24.529Z"
   },
   {
    "duration": 0,
    "start_time": "2025-06-04T07:14:24.531Z"
   },
   {
    "duration": 0,
    "start_time": "2025-06-04T07:14:24.532Z"
   },
   {
    "duration": 0,
    "start_time": "2025-06-04T07:14:24.533Z"
   },
   {
    "duration": 0,
    "start_time": "2025-06-04T07:14:24.534Z"
   },
   {
    "duration": 0,
    "start_time": "2025-06-04T07:14:24.535Z"
   },
   {
    "duration": 1961,
    "start_time": "2025-06-04T07:14:35.485Z"
   },
   {
    "duration": 194,
    "start_time": "2025-06-04T07:14:37.448Z"
   },
   {
    "duration": 962,
    "start_time": "2025-06-04T07:14:37.644Z"
   },
   {
    "duration": 17,
    "start_time": "2025-06-04T07:14:38.608Z"
   },
   {
    "duration": 9,
    "start_time": "2025-06-04T07:14:38.629Z"
   },
   {
    "duration": 31,
    "start_time": "2025-06-04T07:14:38.640Z"
   },
   {
    "duration": 3,
    "start_time": "2025-06-04T07:14:38.674Z"
   },
   {
    "duration": 11,
    "start_time": "2025-06-04T07:14:38.679Z"
   },
   {
    "duration": 115116,
    "start_time": "2025-06-04T07:14:38.692Z"
   },
   {
    "duration": 35,
    "start_time": "2025-06-04T07:16:33.809Z"
   },
   {
    "duration": 38,
    "start_time": "2025-06-04T07:16:33.845Z"
   },
   {
    "duration": 27,
    "start_time": "2025-06-04T07:16:33.885Z"
   },
   {
    "duration": 5337,
    "start_time": "2025-06-04T07:16:33.914Z"
   },
   {
    "duration": 16,
    "start_time": "2025-06-04T07:16:39.255Z"
   },
   {
    "duration": 1288,
    "start_time": "2025-06-04T07:16:39.273Z"
   },
   {
    "duration": 275,
    "start_time": "2025-06-04T07:16:40.572Z"
   },
   {
    "duration": 0,
    "start_time": "2025-06-04T07:16:40.849Z"
   },
   {
    "duration": 0,
    "start_time": "2025-06-04T07:16:40.850Z"
   },
   {
    "duration": 0,
    "start_time": "2025-06-04T07:16:40.851Z"
   },
   {
    "duration": 0,
    "start_time": "2025-06-04T07:16:40.853Z"
   },
   {
    "duration": 0,
    "start_time": "2025-06-04T07:16:40.854Z"
   },
   {
    "duration": 0,
    "start_time": "2025-06-04T07:16:40.854Z"
   },
   {
    "duration": 0,
    "start_time": "2025-06-04T07:16:40.856Z"
   },
   {
    "duration": 0,
    "start_time": "2025-06-04T07:16:40.873Z"
   },
   {
    "duration": 14526,
    "start_time": "2025-06-04T07:18:22.401Z"
   },
   {
    "duration": 887987,
    "start_time": "2025-06-04T07:18:36.930Z"
   },
   {
    "duration": 3,
    "start_time": "2025-06-04T07:33:24.919Z"
   },
   {
    "duration": 352,
    "start_time": "2025-06-04T07:33:24.924Z"
   },
   {
    "duration": 8,
    "start_time": "2025-06-04T07:33:25.278Z"
   },
   {
    "duration": 296,
    "start_time": "2025-06-04T07:33:25.287Z"
   },
   {
    "duration": 270,
    "start_time": "2025-06-04T07:33:25.585Z"
   },
   {
    "duration": 921,
    "start_time": "2025-06-04T07:33:25.857Z"
   },
   {
    "duration": 402,
    "start_time": "2025-06-04T07:33:26.780Z"
   },
   {
    "duration": 23,
    "start_time": "2025-06-04T07:54:24.538Z"
   },
   {
    "duration": 23,
    "start_time": "2025-06-04T07:54:34.289Z"
   },
   {
    "duration": 167,
    "start_time": "2025-06-04T08:02:14.587Z"
   },
   {
    "duration": 165,
    "start_time": "2025-06-04T08:03:19.785Z"
   },
   {
    "duration": 162,
    "start_time": "2025-06-04T08:03:39.976Z"
   },
   {
    "duration": 4,
    "start_time": "2025-06-04T08:06:40.727Z"
   },
   {
    "duration": 3,
    "start_time": "2025-06-04T08:07:04.938Z"
   },
   {
    "duration": 10,
    "start_time": "2025-06-04T08:07:13.864Z"
   },
   {
    "duration": 12,
    "start_time": "2025-06-04T08:08:02.844Z"
   },
   {
    "duration": 13,
    "start_time": "2025-06-04T08:08:24.411Z"
   },
   {
    "duration": 5,
    "start_time": "2025-06-04T08:08:27.895Z"
   },
   {
    "duration": 93,
    "start_time": "2025-06-04T08:08:33.306Z"
   },
   {
    "duration": 5,
    "start_time": "2025-06-04T08:08:36.735Z"
   },
   {
    "duration": 16,
    "start_time": "2025-06-04T08:11:45.709Z"
   },
   {
    "duration": 11,
    "start_time": "2025-06-04T08:11:59.881Z"
   },
   {
    "duration": 12,
    "start_time": "2025-06-04T08:12:45.387Z"
   },
   {
    "duration": 12,
    "start_time": "2025-06-04T08:12:54.183Z"
   },
   {
    "duration": 19,
    "start_time": "2025-06-04T08:13:01.536Z"
   },
   {
    "duration": 3,
    "start_time": "2025-06-04T08:13:12.429Z"
   },
   {
    "duration": 17,
    "start_time": "2025-06-04T08:13:13.573Z"
   },
   {
    "duration": 10,
    "start_time": "2025-06-04T08:13:28.053Z"
   },
   {
    "duration": 11,
    "start_time": "2025-06-04T08:13:33.356Z"
   },
   {
    "duration": 10,
    "start_time": "2025-06-04T08:13:36.935Z"
   },
   {
    "duration": 13,
    "start_time": "2025-06-04T08:13:40.775Z"
   },
   {
    "duration": 10,
    "start_time": "2025-06-04T08:13:44.043Z"
   },
   {
    "duration": 12,
    "start_time": "2025-06-04T08:13:48.871Z"
   },
   {
    "duration": 11,
    "start_time": "2025-06-04T08:13:52.713Z"
   },
   {
    "duration": 11,
    "start_time": "2025-06-04T08:13:55.853Z"
   },
   {
    "duration": 23,
    "start_time": "2025-06-04T08:14:24.965Z"
   },
   {
    "duration": 8,
    "start_time": "2025-06-04T08:14:44.159Z"
   },
   {
    "duration": 3,
    "start_time": "2025-06-04T08:17:01.377Z"
   },
   {
    "duration": 13,
    "start_time": "2025-06-04T08:17:02.226Z"
   },
   {
    "duration": 16,
    "start_time": "2025-06-04T08:17:16.636Z"
   },
   {
    "duration": 9,
    "start_time": "2025-06-04T08:17:22.519Z"
   },
   {
    "duration": 4,
    "start_time": "2025-06-04T08:22:06.630Z"
   },
   {
    "duration": 8,
    "start_time": "2025-06-04T08:22:13.185Z"
   },
   {
    "duration": 11,
    "start_time": "2025-06-04T08:22:34.207Z"
   },
   {
    "duration": 18,
    "start_time": "2025-06-04T08:23:11.161Z"
   },
   {
    "duration": 14,
    "start_time": "2025-06-04T08:23:31.112Z"
   },
   {
    "duration": 328,
    "start_time": "2025-06-04T08:25:19.363Z"
   },
   {
    "duration": 5,
    "start_time": "2025-06-04T08:36:50.059Z"
   },
   {
    "duration": 171,
    "start_time": "2025-06-04T08:37:24.943Z"
   },
   {
    "duration": 12,
    "start_time": "2025-06-04T08:38:54.887Z"
   },
   {
    "duration": 13,
    "start_time": "2025-06-04T08:38:55.367Z"
   },
   {
    "duration": 11,
    "start_time": "2025-06-04T08:39:03.519Z"
   },
   {
    "duration": 307,
    "start_time": "2025-06-04T08:39:31.686Z"
   },
   {
    "duration": 168,
    "start_time": "2025-06-04T08:40:57.634Z"
   },
   {
    "duration": 9,
    "start_time": "2025-06-04T08:40:57.804Z"
   },
   {
    "duration": 313,
    "start_time": "2025-06-04T08:40:58.039Z"
   },
   {
    "duration": 11,
    "start_time": "2025-06-04T08:41:32.438Z"
   },
   {
    "duration": 18,
    "start_time": "2025-06-04T08:41:38.313Z"
   },
   {
    "duration": 11,
    "start_time": "2025-06-04T08:41:40.565Z"
   },
   {
    "duration": 16,
    "start_time": "2025-06-04T08:41:41.520Z"
   },
   {
    "duration": 13,
    "start_time": "2025-06-04T08:42:10.461Z"
   },
   {
    "duration": 10,
    "start_time": "2025-06-04T08:42:11.115Z"
   },
   {
    "duration": 17,
    "start_time": "2025-06-04T08:42:24.351Z"
   },
   {
    "duration": 1282,
    "start_time": "2025-06-04T08:43:50.476Z"
   },
   {
    "duration": 11,
    "start_time": "2025-06-04T08:44:56.132Z"
   },
   {
    "duration": 10,
    "start_time": "2025-06-04T08:45:01.265Z"
   },
   {
    "duration": 10,
    "start_time": "2025-06-04T08:45:08.124Z"
   },
   {
    "duration": 1147,
    "start_time": "2025-06-04T08:45:16.806Z"
   },
   {
    "duration": 10,
    "start_time": "2025-06-04T08:45:24.705Z"
   },
   {
    "duration": 10,
    "start_time": "2025-06-04T08:46:03.505Z"
   },
   {
    "duration": 845,
    "start_time": "2025-06-04T08:50:21.142Z"
   },
   {
    "duration": 368,
    "start_time": "2025-06-04T08:50:21.989Z"
   },
   {
    "duration": 894,
    "start_time": "2025-06-04T08:50:29.077Z"
   },
   {
    "duration": 522,
    "start_time": "2025-06-04T08:50:29.973Z"
   },
   {
    "duration": 758,
    "start_time": "2025-06-04T08:50:35.027Z"
   },
   {
    "duration": 370,
    "start_time": "2025-06-04T08:50:35.787Z"
   },
   {
    "duration": 754,
    "start_time": "2025-06-04T08:50:45.731Z"
   },
   {
    "duration": 364,
    "start_time": "2025-06-04T08:50:46.487Z"
   },
   {
    "duration": 824,
    "start_time": "2025-06-04T08:50:52.863Z"
   },
   {
    "duration": 355,
    "start_time": "2025-06-04T08:50:53.689Z"
   },
   {
    "duration": 853,
    "start_time": "2025-06-04T08:51:15.718Z"
   },
   {
    "duration": 307,
    "start_time": "2025-06-04T08:51:16.574Z"
   },
   {
    "duration": 4,
    "start_time": "2025-06-04T08:57:21.253Z"
   },
   {
    "duration": 875,
    "start_time": "2025-06-04T08:57:29.284Z"
   },
   {
    "duration": 12,
    "start_time": "2025-06-04T08:57:32.086Z"
   },
   {
    "duration": 368,
    "start_time": "2025-06-04T08:58:51.004Z"
   },
   {
    "duration": 330,
    "start_time": "2025-06-04T08:59:07.864Z"
   },
   {
    "duration": 112,
    "start_time": "2025-06-05T06:30:18.331Z"
   },
   {
    "duration": 1044,
    "start_time": "2025-06-05T06:31:15.339Z"
   },
   {
    "duration": 958,
    "start_time": "2025-06-05T06:31:44.760Z"
   },
   {
    "duration": 42,
    "start_time": "2025-06-05T06:32:18.161Z"
   },
   {
    "duration": 6,
    "start_time": "2025-06-05T06:33:06.603Z"
   },
   {
    "duration": 7,
    "start_time": "2025-06-05T06:35:24.379Z"
   },
   {
    "duration": 6,
    "start_time": "2025-06-05T06:35:28.884Z"
   },
   {
    "duration": 7,
    "start_time": "2025-06-05T06:51:31.732Z"
   },
   {
    "duration": 2005,
    "start_time": "2025-06-05T07:00:58.787Z"
   },
   {
    "duration": 1929,
    "start_time": "2025-06-05T07:01:09.816Z"
   },
   {
    "duration": 7,
    "start_time": "2025-06-05T07:01:18.110Z"
   },
   {
    "duration": 5,
    "start_time": "2025-06-05T07:01:28.566Z"
   },
   {
    "duration": 12,
    "start_time": "2025-06-05T07:14:35.604Z"
   },
   {
    "duration": 18,
    "start_time": "2025-06-05T07:15:04.965Z"
   },
   {
    "duration": 11,
    "start_time": "2025-06-05T07:15:08.885Z"
   },
   {
    "duration": 3,
    "start_time": "2025-06-05T07:15:13.998Z"
   },
   {
    "duration": 63284,
    "start_time": "2025-06-05T07:15:15.552Z"
   },
   {
    "duration": 5,
    "start_time": "2025-06-05T07:19:27.191Z"
   },
   {
    "duration": 116,
    "start_time": "2025-06-05T07:23:26.499Z"
   },
   {
    "duration": 571,
    "start_time": "2025-06-05T07:23:34.128Z"
   },
   {
    "duration": 16,
    "start_time": "2025-06-05T07:23:42.738Z"
   },
   {
    "duration": 353,
    "start_time": "2025-06-05T07:24:03.402Z"
   },
   {
    "duration": 14,
    "start_time": "2025-06-05T07:25:55.435Z"
   },
   {
    "duration": 18,
    "start_time": "2025-06-05T07:26:21.819Z"
   },
   {
    "duration": 14,
    "start_time": "2025-06-05T07:26:43.460Z"
   },
   {
    "duration": 165,
    "start_time": "2025-06-05T07:26:50.952Z"
   },
   {
    "duration": 145,
    "start_time": "2025-06-05T07:26:56.149Z"
   },
   {
    "duration": 12,
    "start_time": "2025-06-05T07:27:03.556Z"
   },
   {
    "duration": 18,
    "start_time": "2025-06-05T07:27:35.272Z"
   },
   {
    "duration": 1317,
    "start_time": "2025-06-05T07:27:37.795Z"
   },
   {
    "duration": 1235,
    "start_time": "2025-06-05T07:28:00.189Z"
   },
   {
    "duration": 1377,
    "start_time": "2025-06-05T07:28:05.877Z"
   },
   {
    "duration": 19,
    "start_time": "2025-06-05T07:33:40.053Z"
   },
   {
    "duration": 775,
    "start_time": "2025-06-05T07:33:45.467Z"
   },
   {
    "duration": 1428,
    "start_time": "2025-06-05T07:34:33.732Z"
   },
   {
    "duration": 1365,
    "start_time": "2025-06-05T07:34:55.012Z"
   },
   {
    "duration": 1378,
    "start_time": "2025-06-05T07:35:53.910Z"
   },
   {
    "duration": 1357,
    "start_time": "2025-06-05T07:37:15.734Z"
   },
   {
    "duration": 1699,
    "start_time": "2025-06-05T07:37:29.910Z"
   },
   {
    "duration": 1466,
    "start_time": "2025-06-05T07:38:12.466Z"
   },
   {
    "duration": 1493,
    "start_time": "2025-06-05T07:40:02.946Z"
   },
   {
    "duration": 1495,
    "start_time": "2025-06-05T07:40:21.168Z"
   },
   {
    "duration": 1440,
    "start_time": "2025-06-05T07:41:01.105Z"
   },
   {
    "duration": 1555,
    "start_time": "2025-06-05T07:44:06.880Z"
   },
   {
    "duration": 1830,
    "start_time": "2025-06-05T07:44:22.700Z"
   },
   {
    "duration": 1520,
    "start_time": "2025-06-05T07:44:32.709Z"
   },
   {
    "duration": 1584,
    "start_time": "2025-06-05T07:44:41.155Z"
   },
   {
    "duration": 1566,
    "start_time": "2025-06-05T07:45:19.491Z"
   },
   {
    "duration": 5,
    "start_time": "2025-06-05T08:08:44.234Z"
   },
   {
    "duration": 4,
    "start_time": "2025-06-05T08:08:56.799Z"
   },
   {
    "duration": 116,
    "start_time": "2025-06-05T08:09:22.513Z"
   },
   {
    "duration": 10,
    "start_time": "2025-06-05T08:09:26.785Z"
   },
   {
    "duration": 12,
    "start_time": "2025-06-05T08:12:16.489Z"
   },
   {
    "duration": 4,
    "start_time": "2025-06-05T08:12:21.321Z"
   },
   {
    "duration": 3,
    "start_time": "2025-06-05T08:12:50.533Z"
   },
   {
    "duration": 4,
    "start_time": "2025-06-05T08:13:06.200Z"
   },
   {
    "duration": 3,
    "start_time": "2025-06-05T08:13:25.854Z"
   },
   {
    "duration": 13,
    "start_time": "2025-06-05T08:13:51.405Z"
   },
   {
    "duration": 5,
    "start_time": "2025-06-05T08:13:54.918Z"
   },
   {
    "duration": 446,
    "start_time": "2025-06-05T08:15:01.775Z"
   },
   {
    "duration": 16,
    "start_time": "2025-06-05T08:15:08.655Z"
   },
   {
    "duration": 508,
    "start_time": "2025-06-05T08:15:21.271Z"
   },
   {
    "duration": 12,
    "start_time": "2025-06-05T08:16:59.190Z"
   },
   {
    "duration": 119,
    "start_time": "2025-06-05T08:17:04.015Z"
   },
   {
    "duration": 13,
    "start_time": "2025-06-05T08:17:09.375Z"
   },
   {
    "duration": 41,
    "start_time": "2025-06-05T08:21:08.634Z"
   },
   {
    "duration": 29,
    "start_time": "2025-06-05T08:21:27.374Z"
   },
   {
    "duration": 16,
    "start_time": "2025-06-05T08:21:40.733Z"
   },
   {
    "duration": 1552,
    "start_time": "2025-06-05T08:21:43.879Z"
   },
   {
    "duration": 1344,
    "start_time": "2025-06-05T08:22:03.086Z"
   },
   {
    "duration": 16,
    "start_time": "2025-06-05T08:22:15.572Z"
   },
   {
    "duration": 1030,
    "start_time": "2025-06-05T08:23:44.584Z"
   },
   {
    "duration": 1564,
    "start_time": "2025-06-05T08:24:08.060Z"
   },
   {
    "duration": 1330,
    "start_time": "2025-06-05T08:24:17.652Z"
   },
   {
    "duration": 1332,
    "start_time": "2025-06-05T08:24:28.313Z"
   },
   {
    "duration": 1568,
    "start_time": "2025-06-05T08:24:34.675Z"
   },
   {
    "duration": 832,
    "start_time": "2025-06-05T08:31:05.217Z"
   },
   {
    "duration": 383,
    "start_time": "2025-06-05T08:31:09.018Z"
   },
   {
    "duration": 20,
    "start_time": "2025-06-05T08:32:22.530Z"
   },
   {
    "duration": 11,
    "start_time": "2025-06-05T08:32:37.765Z"
   },
   {
    "duration": 3,
    "start_time": "2025-06-05T08:36:50.788Z"
   },
   {
    "duration": 14376,
    "start_time": "2025-06-05T08:36:51.555Z"
   },
   {
    "duration": 462,
    "start_time": "2025-06-05T08:37:30.946Z"
   },
   {
    "duration": 70330,
    "start_time": "2025-06-05T08:37:55.448Z"
   },
   {
    "duration": 13,
    "start_time": "2025-06-05T08:39:40.473Z"
   },
   {
    "duration": 244,
    "start_time": "2025-06-05T08:40:05.604Z"
   },
   {
    "duration": 22,
    "start_time": "2025-06-05T08:40:14.658Z"
   },
   {
    "duration": 13,
    "start_time": "2025-06-05T08:40:41.048Z"
   },
   {
    "duration": 16,
    "start_time": "2025-06-05T08:42:15.928Z"
   },
   {
    "duration": 56,
    "start_time": "2025-06-05T08:42:19.721Z"
   },
   {
    "duration": 13,
    "start_time": "2025-06-05T08:42:20.521Z"
   },
   {
    "duration": 34,
    "start_time": "2025-06-05T08:42:22.107Z"
   },
   {
    "duration": 27,
    "start_time": "2025-06-05T08:42:41.567Z"
   },
   {
    "duration": 943,
    "start_time": "2025-06-05T08:44:56.944Z"
   },
   {
    "duration": 13,
    "start_time": "2025-06-05T08:45:00.116Z"
   },
   {
    "duration": 34,
    "start_time": "2025-06-05T08:45:00.747Z"
   },
   {
    "duration": 5,
    "start_time": "2025-06-05T08:45:02.141Z"
   },
   {
    "duration": 3,
    "start_time": "2025-06-05T08:45:02.990Z"
   },
   {
    "duration": 59519,
    "start_time": "2025-06-05T08:45:03.320Z"
   },
   {
    "duration": 387,
    "start_time": "2025-06-05T08:46:02.841Z"
   },
   {
    "duration": 49,
    "start_time": "2025-06-05T08:46:03.230Z"
   },
   {
    "duration": 67,
    "start_time": "2025-06-05T08:46:03.281Z"
   },
   {
    "duration": 1766,
    "start_time": "2025-06-05T08:46:03.350Z"
   },
   {
    "duration": 1024,
    "start_time": "2025-06-05T08:46:05.118Z"
   },
   {
    "duration": 3,
    "start_time": "2025-06-05T08:46:06.143Z"
   },
   {
    "duration": 68768,
    "start_time": "2025-06-05T08:46:06.147Z"
   },
   {
    "duration": 255,
    "start_time": "2025-06-05T08:47:14.917Z"
   },
   {
    "duration": 13,
    "start_time": "2025-06-05T08:47:15.174Z"
   },
   {
    "duration": 43,
    "start_time": "2025-06-05T08:47:15.188Z"
   },
   {
    "duration": 4,
    "start_time": "2025-06-05T08:48:44.816Z"
   },
   {
    "duration": 4,
    "start_time": "2025-06-05T08:48:45.299Z"
   },
   {
    "duration": 2746,
    "start_time": "2025-06-05T08:52:11.425Z"
   },
   {
    "duration": 302,
    "start_time": "2025-06-05T08:56:54.631Z"
   },
   {
    "duration": 3164,
    "start_time": "2025-06-05T09:00:37.621Z"
   },
   {
    "duration": 76,
    "start_time": "2025-06-06T01:31:33.426Z"
   },
   {
    "duration": 9630,
    "start_time": "2025-06-06T01:31:39.620Z"
   },
   {
    "duration": 662,
    "start_time": "2025-06-06T01:31:53.229Z"
   },
   {
    "duration": 356,
    "start_time": "2025-06-06T01:32:54.454Z"
   },
   {
    "duration": 4,
    "start_time": "2025-06-06T01:33:51.384Z"
   },
   {
    "duration": 4991,
    "start_time": "2025-06-06T01:33:51.389Z"
   },
   {
    "duration": 1057,
    "start_time": "2025-06-06T01:33:56.382Z"
   },
   {
    "duration": 1258,
    "start_time": "2025-06-06T01:33:57.441Z"
   },
   {
    "duration": 15,
    "start_time": "2025-06-06T01:33:58.703Z"
   },
   {
    "duration": 55,
    "start_time": "2025-06-06T01:33:58.719Z"
   },
   {
    "duration": 4,
    "start_time": "2025-06-06T01:33:58.776Z"
   },
   {
    "duration": 28,
    "start_time": "2025-06-06T01:33:58.782Z"
   },
   {
    "duration": 1002,
    "start_time": "2025-06-06T01:33:58.812Z"
   },
   {
    "duration": 0,
    "start_time": "2025-06-06T01:33:59.816Z"
   },
   {
    "duration": 0,
    "start_time": "2025-06-06T01:33:59.817Z"
   },
   {
    "duration": 0,
    "start_time": "2025-06-06T01:33:59.818Z"
   },
   {
    "duration": 0,
    "start_time": "2025-06-06T01:33:59.819Z"
   },
   {
    "duration": 0,
    "start_time": "2025-06-06T01:33:59.820Z"
   },
   {
    "duration": 0,
    "start_time": "2025-06-06T01:33:59.821Z"
   },
   {
    "duration": 0,
    "start_time": "2025-06-06T01:33:59.822Z"
   },
   {
    "duration": 0,
    "start_time": "2025-06-06T01:33:59.823Z"
   },
   {
    "duration": 0,
    "start_time": "2025-06-06T01:33:59.825Z"
   },
   {
    "duration": 0,
    "start_time": "2025-06-06T01:33:59.826Z"
   },
   {
    "duration": 0,
    "start_time": "2025-06-06T01:33:59.827Z"
   },
   {
    "duration": 0,
    "start_time": "2025-06-06T01:33:59.828Z"
   },
   {
    "duration": 0,
    "start_time": "2025-06-06T01:33:59.829Z"
   },
   {
    "duration": 4,
    "start_time": "2025-06-06T01:34:43.684Z"
   },
   {
    "duration": 499,
    "start_time": "2025-06-06T01:34:46.814Z"
   },
   {
    "duration": 3,
    "start_time": "2025-06-06T01:35:18.165Z"
   },
   {
    "duration": 32,
    "start_time": "2025-06-06T01:35:18.170Z"
   },
   {
    "duration": 31,
    "start_time": "2025-06-06T01:35:18.204Z"
   },
   {
    "duration": 1117,
    "start_time": "2025-06-06T01:35:18.245Z"
   },
   {
    "duration": 12,
    "start_time": "2025-06-06T01:35:19.365Z"
   },
   {
    "duration": 32,
    "start_time": "2025-06-06T01:35:19.379Z"
   },
   {
    "duration": 14,
    "start_time": "2025-06-06T01:35:19.413Z"
   },
   {
    "duration": 34,
    "start_time": "2025-06-06T01:35:19.429Z"
   },
   {
    "duration": 6,
    "start_time": "2025-06-06T01:35:50.858Z"
   },
   {
    "duration": 20,
    "start_time": "2025-06-06T01:35:55.615Z"
   },
   {
    "duration": 5,
    "start_time": "2025-06-06T01:39:15.244Z"
   },
   {
    "duration": 205,
    "start_time": "2025-06-06T01:39:15.251Z"
   },
   {
    "duration": 21,
    "start_time": "2025-06-06T01:39:15.458Z"
   },
   {
    "duration": 1081,
    "start_time": "2025-06-06T01:39:15.481Z"
   },
   {
    "duration": 17,
    "start_time": "2025-06-06T01:39:16.566Z"
   },
   {
    "duration": 77,
    "start_time": "2025-06-06T01:39:16.585Z"
   },
   {
    "duration": 4,
    "start_time": "2025-06-06T01:39:16.668Z"
   },
   {
    "duration": 16,
    "start_time": "2025-06-06T01:39:16.673Z"
   },
   {
    "duration": 34,
    "start_time": "2025-06-06T01:39:16.691Z"
   },
   {
    "duration": 62861,
    "start_time": "2025-06-06T01:39:16.726Z"
   },
   {
    "duration": 403,
    "start_time": "2025-06-06T01:40:19.589Z"
   },
   {
    "duration": 48,
    "start_time": "2025-06-06T01:40:19.994Z"
   },
   {
    "duration": 36,
    "start_time": "2025-06-06T01:40:20.052Z"
   },
   {
    "duration": 1552,
    "start_time": "2025-06-06T01:40:20.090Z"
   },
   {
    "duration": 1087,
    "start_time": "2025-06-06T01:40:21.644Z"
   },
   {
    "duration": 7,
    "start_time": "2025-06-06T01:40:22.733Z"
   },
   {
    "duration": 72446,
    "start_time": "2025-06-06T01:40:22.742Z"
   },
   {
    "duration": 285,
    "start_time": "2025-06-06T01:41:35.190Z"
   },
   {
    "duration": 29,
    "start_time": "2025-06-06T01:41:35.477Z"
   },
   {
    "duration": 5,
    "start_time": "2025-06-06T01:41:35.508Z"
   },
   {
    "duration": 26,
    "start_time": "2025-06-06T01:41:35.515Z"
   },
   {
    "duration": 572,
    "start_time": "2025-06-06T01:41:35.543Z"
   },
   {
    "duration": 1871424,
    "start_time": "2025-06-06T01:41:36.117Z"
   },
   {
    "duration": 608,
    "start_time": "2025-06-06T02:43:56.395Z"
   },
   {
    "duration": 67,
    "start_time": "2025-06-06T02:44:19.845Z"
   },
   {
    "duration": 17,
    "start_time": "2025-06-06T02:44:26.518Z"
   },
   {
    "duration": 52,
    "start_time": "2025-06-06T02:44:27.296Z"
   },
   {
    "duration": 21,
    "start_time": "2025-06-06T02:44:44.476Z"
   },
   {
    "duration": 68,
    "start_time": "2025-06-06T02:44:54.743Z"
   },
   {
    "duration": 6188,
    "start_time": "2025-06-06T02:44:56.832Z"
   },
   {
    "duration": 1214,
    "start_time": "2025-06-06T02:45:09.098Z"
   },
   {
    "duration": 25,
    "start_time": "2025-06-06T02:47:23.549Z"
   },
   {
    "duration": 32,
    "start_time": "2025-06-06T02:48:01.756Z"
   },
   {
    "duration": 30,
    "start_time": "2025-06-06T02:48:39.052Z"
   },
   {
    "duration": 21,
    "start_time": "2025-06-06T02:48:41.592Z"
   },
   {
    "duration": 42,
    "start_time": "2025-06-06T02:48:42.190Z"
   },
   {
    "duration": 15,
    "start_time": "2025-06-06T02:48:46.012Z"
   },
   {
    "duration": 5,
    "start_time": "2025-06-06T02:49:04.963Z"
   },
   {
    "duration": 26,
    "start_time": "2025-06-06T02:52:43.684Z"
   },
   {
    "duration": 22,
    "start_time": "2025-06-06T02:52:59.769Z"
   },
   {
    "duration": 24,
    "start_time": "2025-06-06T02:53:05.767Z"
   },
   {
    "duration": 13,
    "start_time": "2025-06-06T02:56:49.845Z"
   },
   {
    "duration": 39,
    "start_time": "2025-06-06T02:57:48.130Z"
   },
   {
    "duration": 8,
    "start_time": "2025-06-06T02:59:02.580Z"
   },
   {
    "duration": 18,
    "start_time": "2025-06-06T02:59:08.034Z"
   },
   {
    "duration": 139,
    "start_time": "2025-06-06T02:59:16.851Z"
   },
   {
    "duration": 13,
    "start_time": "2025-06-06T02:59:22.643Z"
   },
   {
    "duration": 2413,
    "start_time": "2025-06-06T02:59:43.547Z"
   },
   {
    "duration": 4,
    "start_time": "2025-06-06T02:59:58.316Z"
   },
   {
    "duration": 3601,
    "start_time": "2025-06-06T06:05:19.958Z"
   },
   {
    "duration": 36,
    "start_time": "2025-06-06T06:07:56.110Z"
   },
   {
    "duration": 20,
    "start_time": "2025-06-06T06:07:57.165Z"
   },
   {
    "duration": 204,
    "start_time": "2025-06-06T06:09:30.423Z"
   },
   {
    "duration": 20,
    "start_time": "2025-06-06T06:09:33.030Z"
   },
   {
    "duration": 16,
    "start_time": "2025-06-06T06:09:53.485Z"
   },
   {
    "duration": 31109,
    "start_time": "2025-06-06T06:09:58.477Z"
   },
   {
    "duration": 25,
    "start_time": "2025-06-06T06:11:28.780Z"
   },
   {
    "duration": 5,
    "start_time": "2025-06-06T06:12:24.633Z"
   },
   {
    "duration": 30827,
    "start_time": "2025-06-06T06:12:32.456Z"
   },
   {
    "duration": 99,
    "start_time": "2025-06-06T06:33:57.481Z"
   },
   {
    "duration": 4739,
    "start_time": "2025-06-06T06:34:00.453Z"
   },
   {
    "duration": 32596,
    "start_time": "2025-06-06T06:34:12.941Z"
   },
   {
    "duration": 68,
    "start_time": "2025-06-06T06:36:01.114Z"
   },
   {
    "duration": 4516,
    "start_time": "2025-06-06T06:36:04.445Z"
   },
   {
    "duration": 6,
    "start_time": "2025-06-06T06:36:54.474Z"
   },
   {
    "duration": 4326,
    "start_time": "2025-06-06T06:36:58.146Z"
   },
   {
    "duration": 16560,
    "start_time": "2025-06-06T06:40:32.958Z"
   },
   {
    "duration": 8133,
    "start_time": "2025-06-06T06:42:40.713Z"
   },
   {
    "duration": 1466,
    "start_time": "2025-06-06T06:43:57.451Z"
   },
   {
    "duration": 1606,
    "start_time": "2025-06-06T06:44:05.146Z"
   },
   {
    "duration": 1956,
    "start_time": "2025-06-06T06:44:14.305Z"
   },
   {
    "duration": 1360,
    "start_time": "2025-06-06T06:44:37.396Z"
   },
   {
    "duration": 8,
    "start_time": "2025-06-06T07:11:06.719Z"
   },
   {
    "duration": 5,
    "start_time": "2025-06-06T07:11:52.605Z"
   },
   {
    "duration": 7,
    "start_time": "2025-06-06T07:12:32.944Z"
   },
   {
    "duration": 31,
    "start_time": "2025-06-06T07:15:08.190Z"
   },
   {
    "duration": 39,
    "start_time": "2025-06-06T07:15:08.749Z"
   },
   {
    "duration": 15,
    "start_time": "2025-06-06T07:15:14.070Z"
   },
   {
    "duration": 5,
    "start_time": "2025-06-06T07:16:15.672Z"
   },
   {
    "duration": 25,
    "start_time": "2025-06-06T07:16:16.743Z"
   },
   {
    "duration": 87,
    "start_time": "2025-06-06T07:18:57.807Z"
   },
   {
    "duration": 32,
    "start_time": "2025-06-06T07:19:07.357Z"
   },
   {
    "duration": 22,
    "start_time": "2025-06-06T07:19:32.585Z"
   },
   {
    "duration": 1397,
    "start_time": "2025-06-06T07:19:43.298Z"
   },
   {
    "duration": 10648,
    "start_time": "2025-06-06T07:20:04.157Z"
   },
   {
    "duration": 6,
    "start_time": "2025-06-06T07:20:30.676Z"
   },
   {
    "duration": 613311,
    "start_time": "2025-06-06T07:20:31.272Z"
   },
   {
    "duration": 599605,
    "start_time": "2025-06-06T07:42:03.595Z"
   },
   {
    "duration": 235,
    "start_time": "2025-06-06T08:05:44.873Z"
   },
   {
    "duration": 805746,
    "start_time": "2025-06-06T08:05:45.270Z"
   },
   {
    "duration": 671,
    "start_time": "2025-06-06T08:20:39.341Z"
   },
   {
    "duration": 973968,
    "start_time": "2025-06-06T08:20:40.037Z"
   },
   {
    "duration": 640,
    "start_time": "2025-06-06T08:37:16.180Z"
   },
   {
    "duration": 525049,
    "start_time": "2025-06-06T08:37:18.506Z"
   },
   {
    "duration": 616,
    "start_time": "2025-06-06T08:53:08.434Z"
   },
   {
    "duration": 320972,
    "start_time": "2025-06-06T08:53:12.419Z"
   },
   {
    "duration": 7686,
    "start_time": "2025-06-07T16:27:05.672Z"
   },
   {
    "duration": 6651,
    "start_time": "2025-06-07T16:27:13.360Z"
   },
   {
    "duration": 264,
    "start_time": "2025-06-07T16:27:20.012Z"
   },
   {
    "duration": 971,
    "start_time": "2025-06-07T16:27:20.278Z"
   },
   {
    "duration": 15,
    "start_time": "2025-06-07T16:27:21.251Z"
   },
   {
    "duration": 56,
    "start_time": "2025-06-07T16:27:21.267Z"
   },
   {
    "duration": 12,
    "start_time": "2025-06-07T16:27:21.325Z"
   },
   {
    "duration": 28,
    "start_time": "2025-06-07T16:27:21.338Z"
   },
   {
    "duration": 162,
    "start_time": "2025-06-07T16:27:21.368Z"
   },
   {
    "duration": 59830,
    "start_time": "2025-06-07T16:27:21.533Z"
   },
   {
    "duration": 383,
    "start_time": "2025-06-07T16:28:21.365Z"
   },
   {
    "duration": 53,
    "start_time": "2025-06-07T16:28:21.750Z"
   },
   {
    "duration": 62,
    "start_time": "2025-06-07T16:28:21.805Z"
   },
   {
    "duration": 1627,
    "start_time": "2025-06-07T16:28:21.869Z"
   },
   {
    "duration": 1027,
    "start_time": "2025-06-07T16:28:23.498Z"
   },
   {
    "duration": 3,
    "start_time": "2025-06-07T16:28:24.526Z"
   },
   {
    "duration": 68223,
    "start_time": "2025-06-07T16:28:24.531Z"
   },
   {
    "duration": 274,
    "start_time": "2025-06-07T16:29:32.756Z"
   },
   {
    "duration": 1220,
    "start_time": "2025-06-07T16:29:33.033Z"
   },
   {
    "duration": 5,
    "start_time": "2025-06-07T16:29:34.255Z"
   },
   {
    "duration": 49,
    "start_time": "2025-06-07T16:29:34.262Z"
   },
   {
    "duration": 573,
    "start_time": "2025-06-07T16:29:34.313Z"
   },
   {
    "duration": 1790554,
    "start_time": "2025-06-07T16:29:34.888Z"
   },
   {
    "duration": 22,
    "start_time": "2025-06-07T16:59:25.444Z"
   },
   {
    "duration": 377,
    "start_time": "2025-06-07T16:59:25.469Z"
   },
   {
    "duration": 0,
    "start_time": "2025-06-07T16:59:25.849Z"
   },
   {
    "duration": 0,
    "start_time": "2025-06-07T16:59:25.851Z"
   },
   {
    "duration": 0,
    "start_time": "2025-06-07T16:59:25.852Z"
   },
   {
    "duration": 56,
    "start_time": "2025-06-07T16:59:53.169Z"
   },
   {
    "duration": 17,
    "start_time": "2025-06-07T16:59:57.699Z"
   },
   {
    "duration": 39,
    "start_time": "2025-06-07T16:59:57.718Z"
   },
   {
    "duration": 5,
    "start_time": "2025-06-07T16:59:57.759Z"
   },
   {
    "duration": 2906662,
    "start_time": "2025-06-07T16:59:57.766Z"
   },
   {
    "duration": 9,
    "start_time": "2025-06-07T17:48:24.439Z"
   },
   {
    "duration": 128,
    "start_time": "2025-06-07T17:48:24.450Z"
   },
   {
    "duration": 0,
    "start_time": "2025-06-07T17:48:24.581Z"
   },
   {
    "duration": 0,
    "start_time": "2025-06-07T17:48:24.583Z"
   },
   {
    "duration": 0,
    "start_time": "2025-06-07T17:48:24.584Z"
   },
   {
    "duration": 0,
    "start_time": "2025-06-07T17:48:24.586Z"
   },
   {
    "duration": 0,
    "start_time": "2025-06-07T17:48:24.587Z"
   },
   {
    "duration": 0,
    "start_time": "2025-06-07T17:48:24.588Z"
   },
   {
    "duration": 0,
    "start_time": "2025-06-07T17:48:24.589Z"
   },
   {
    "duration": 0,
    "start_time": "2025-06-07T17:48:24.590Z"
   },
   {
    "duration": 0,
    "start_time": "2025-06-07T17:48:24.591Z"
   },
   {
    "duration": 0,
    "start_time": "2025-06-07T17:48:24.592Z"
   },
   {
    "duration": 0,
    "start_time": "2025-06-07T17:48:24.593Z"
   },
   {
    "duration": 0,
    "start_time": "2025-06-07T17:48:24.595Z"
   },
   {
    "duration": 0,
    "start_time": "2025-06-07T17:48:24.596Z"
   },
   {
    "duration": 0,
    "start_time": "2025-06-07T17:48:24.597Z"
   },
   {
    "duration": 16,
    "start_time": "2025-06-07T17:58:00.549Z"
   },
   {
    "duration": 573679,
    "start_time": "2025-06-07T17:58:00.931Z"
   },
   {
    "duration": 16,
    "start_time": "2025-06-07T18:11:28.105Z"
   },
   {
    "duration": 440898,
    "start_time": "2025-06-07T18:11:31.486Z"
   },
   {
    "duration": 17,
    "start_time": "2025-06-07T18:27:31.875Z"
   },
   {
    "duration": 381476,
    "start_time": "2025-06-07T18:27:33.944Z"
   },
   {
    "duration": 25,
    "start_time": "2025-06-07T18:34:28.896Z"
   },
   {
    "duration": 374570,
    "start_time": "2025-06-07T18:34:29.337Z"
   },
   {
    "duration": 27,
    "start_time": "2025-06-07T18:43:35.025Z"
   },
   {
    "duration": 637773,
    "start_time": "2025-06-07T18:43:35.600Z"
   },
   {
    "duration": 23,
    "start_time": "2025-06-07T18:54:56.623Z"
   },
   {
    "duration": 674784,
    "start_time": "2025-06-07T18:54:57.376Z"
   },
   {
    "duration": 16,
    "start_time": "2025-06-08T04:33:57.846Z"
   },
   {
    "duration": 356117,
    "start_time": "2025-06-08T04:33:58.014Z"
   },
   {
    "duration": 17,
    "start_time": "2025-06-08T04:46:11.872Z"
   },
   {
    "duration": 695640,
    "start_time": "2025-06-08T04:46:13.649Z"
   },
   {
    "duration": 18,
    "start_time": "2025-06-08T05:00:44.900Z"
   },
   {
    "duration": 523937,
    "start_time": "2025-06-08T05:00:45.089Z"
   },
   {
    "duration": 15,
    "start_time": "2025-06-08T05:10:41.497Z"
   },
   {
    "duration": 441150,
    "start_time": "2025-06-08T05:10:42.089Z"
   },
   {
    "duration": 86,
    "start_time": "2025-06-08T07:00:34.914Z"
   },
   {
    "duration": 18,
    "start_time": "2025-06-08T07:00:40.746Z"
   },
   {
    "duration": 78,
    "start_time": "2025-06-08T07:00:41.101Z"
   },
   {
    "duration": 545999,
    "start_time": "2025-06-08T07:01:19.456Z"
   },
   {
    "duration": 17,
    "start_time": "2025-06-08T07:19:51.950Z"
   },
   {
    "duration": 71985,
    "start_time": "2025-06-08T07:19:52.342Z"
   },
   {
    "duration": 0,
    "start_time": "2025-06-08T07:21:04.338Z"
   },
   {
    "duration": 5,
    "start_time": "2025-06-08T07:21:08.175Z"
   },
   {
    "duration": 2676678,
    "start_time": "2025-06-08T07:21:08.912Z"
   },
   {
    "duration": 18,
    "start_time": "2025-06-08T10:05:11.221Z"
   },
   {
    "duration": 22,
    "start_time": "2025-06-08T10:05:17.836Z"
   },
   {
    "duration": 22,
    "start_time": "2025-06-08T13:42:36.964Z"
   },
   {
    "duration": 4433,
    "start_time": "2025-06-08T13:42:53.640Z"
   },
   {
    "duration": 380,
    "start_time": "2025-06-08T13:43:00.136Z"
   },
   {
    "duration": 56,
    "start_time": "2025-06-08T13:43:34.082Z"
   },
   {
    "duration": 24,
    "start_time": "2025-06-08T13:44:11.276Z"
   },
   {
    "duration": 7,
    "start_time": "2025-06-08T13:54:26.156Z"
   },
   {
    "duration": 24,
    "start_time": "2025-06-08T13:55:30.999Z"
   },
   {
    "duration": 23,
    "start_time": "2025-06-08T13:59:23.316Z"
   },
   {
    "duration": 143,
    "start_time": "2025-06-08T14:00:05.626Z"
   },
   {
    "duration": 125,
    "start_time": "2025-06-08T14:06:54.280Z"
   },
   {
    "duration": 25,
    "start_time": "2025-06-08T14:09:58.574Z"
   },
   {
    "duration": 227,
    "start_time": "2025-06-08T14:10:05.610Z"
   },
   {
    "duration": 121,
    "start_time": "2025-06-08T14:15:16.787Z"
   },
   {
    "duration": 323,
    "start_time": "2025-06-08T14:15:21.683Z"
   },
   {
    "duration": 269,
    "start_time": "2025-06-08T14:15:34.651Z"
   },
   {
    "duration": 22,
    "start_time": "2025-06-08T14:17:11.398Z"
   },
   {
    "duration": 23,
    "start_time": "2025-06-08T14:17:22.078Z"
   },
   {
    "duration": 22,
    "start_time": "2025-06-08T15:15:16.254Z"
   },
   {
    "duration": 115,
    "start_time": "2025-06-08T15:15:21.927Z"
   },
   {
    "duration": 125,
    "start_time": "2025-06-08T15:15:58.524Z"
   },
   {
    "duration": 96,
    "start_time": "2025-06-08T15:17:40.530Z"
   },
   {
    "duration": 4,
    "start_time": "2025-06-08T15:17:59.070Z"
   },
   {
    "duration": 5,
    "start_time": "2025-06-08T15:18:13.121Z"
   },
   {
    "duration": 4,
    "start_time": "2025-06-08T15:18:17.805Z"
   },
   {
    "duration": 4,
    "start_time": "2025-06-08T15:18:42.932Z"
   },
   {
    "duration": 5,
    "start_time": "2025-06-08T15:18:47.664Z"
   },
   {
    "duration": 23,
    "start_time": "2025-06-08T15:19:09.538Z"
   },
   {
    "duration": 5,
    "start_time": "2025-06-08T15:19:19.291Z"
   },
   {
    "duration": 4,
    "start_time": "2025-06-08T15:19:42.680Z"
   },
   {
    "duration": 4,
    "start_time": "2025-06-08T15:19:43.225Z"
   },
   {
    "duration": 158,
    "start_time": "2025-06-08T15:19:43.837Z"
   },
   {
    "duration": 4,
    "start_time": "2025-06-08T15:19:54.333Z"
   },
   {
    "duration": 4,
    "start_time": "2025-06-08T15:19:54.672Z"
   },
   {
    "duration": 4,
    "start_time": "2025-06-08T15:19:55.052Z"
   },
   {
    "duration": 97,
    "start_time": "2025-06-08T15:21:01.224Z"
   },
   {
    "duration": 99,
    "start_time": "2025-06-08T15:24:32.104Z"
   },
   {
    "duration": 100,
    "start_time": "2025-06-08T15:24:37.538Z"
   },
   {
    "duration": 99,
    "start_time": "2025-06-08T15:24:44.452Z"
   },
   {
    "duration": 22,
    "start_time": "2025-06-08T15:28:45.908Z"
   },
   {
    "duration": 26,
    "start_time": "2025-06-08T15:29:44.655Z"
   },
   {
    "duration": 20,
    "start_time": "2025-06-08T15:30:51.948Z"
   },
   {
    "duration": 22,
    "start_time": "2025-06-08T15:31:38.410Z"
   },
   {
    "duration": 3603,
    "start_time": "2025-06-08T15:32:15.728Z"
   },
   {
    "duration": 20,
    "start_time": "2025-06-08T15:33:52.842Z"
   },
   {
    "duration": 23,
    "start_time": "2025-06-08T15:34:01.118Z"
   },
   {
    "duration": 99,
    "start_time": "2025-06-08T15:34:06.215Z"
   },
   {
    "duration": 105,
    "start_time": "2025-06-08T15:34:57.996Z"
   },
   {
    "duration": 26,
    "start_time": "2025-06-08T15:35:27.596Z"
   },
   {
    "duration": 25,
    "start_time": "2025-06-08T15:35:32.508Z"
   },
   {
    "duration": 27,
    "start_time": "2025-06-08T15:35:39.539Z"
   },
   {
    "duration": 3717,
    "start_time": "2025-06-08T15:35:55.104Z"
   },
   {
    "duration": 99,
    "start_time": "2025-06-08T15:35:58.823Z"
   },
   {
    "duration": 138,
    "start_time": "2025-06-08T15:35:58.936Z"
   },
   {
    "duration": 23,
    "start_time": "2025-06-08T15:36:09.897Z"
   },
   {
    "duration": 51,
    "start_time": "2025-06-08T15:38:52.896Z"
   },
   {
    "duration": 7,
    "start_time": "2025-06-08T15:39:09.401Z"
   },
   {
    "duration": 2564,
    "start_time": "2025-06-08T15:39:31.254Z"
   },
   {
    "duration": 7565,
    "start_time": "2025-06-08T15:39:33.820Z"
   },
   {
    "duration": 214,
    "start_time": "2025-06-08T15:39:41.387Z"
   },
   {
    "duration": 1035,
    "start_time": "2025-06-08T15:39:41.603Z"
   },
   {
    "duration": 14,
    "start_time": "2025-06-08T15:39:42.641Z"
   },
   {
    "duration": 138,
    "start_time": "2025-06-08T15:39:42.657Z"
   },
   {
    "duration": 5,
    "start_time": "2025-06-08T15:39:42.797Z"
   },
   {
    "duration": 4,
    "start_time": "2025-06-08T15:39:42.804Z"
   },
   {
    "duration": 9,
    "start_time": "2025-06-08T15:39:42.810Z"
   },
   {
    "duration": 57474,
    "start_time": "2025-06-08T15:39:42.822Z"
   },
   {
    "duration": 387,
    "start_time": "2025-06-08T15:40:40.298Z"
   },
   {
    "duration": 59,
    "start_time": "2025-06-08T15:40:40.686Z"
   },
   {
    "duration": 59,
    "start_time": "2025-06-08T15:40:40.747Z"
   },
   {
    "duration": 1567,
    "start_time": "2025-06-08T15:40:40.808Z"
   },
   {
    "duration": 979,
    "start_time": "2025-06-08T15:40:42.377Z"
   },
   {
    "duration": 3,
    "start_time": "2025-06-08T15:40:43.357Z"
   },
   {
    "duration": 65812,
    "start_time": "2025-06-08T15:40:43.362Z"
   },
   {
    "duration": 259,
    "start_time": "2025-06-08T15:41:49.176Z"
   },
   {
    "duration": 1207,
    "start_time": "2025-06-08T15:41:49.437Z"
   },
   {
    "duration": 7,
    "start_time": "2025-06-08T15:41:50.646Z"
   },
   {
    "duration": 36,
    "start_time": "2025-06-08T15:41:50.655Z"
   },
   {
    "duration": 758,
    "start_time": "2025-06-08T15:41:50.693Z"
   },
   {
    "duration": 1763451,
    "start_time": "2025-06-08T15:41:51.453Z"
   },
   {
    "duration": 33,
    "start_time": "2025-06-08T16:11:14.905Z"
   },
   {
    "duration": 50,
    "start_time": "2025-06-08T16:11:14.939Z"
   },
   {
    "duration": 17,
    "start_time": "2025-06-08T16:11:14.990Z"
   },
   {
    "duration": 99,
    "start_time": "2025-06-08T16:11:15.008Z"
   },
   {
    "duration": 9,
    "start_time": "2025-06-08T16:11:15.110Z"
   },
   {
    "duration": 889461,
    "start_time": "2025-06-08T16:11:15.121Z"
   },
   {
    "duration": 6,
    "start_time": "2025-06-08T16:26:04.585Z"
   },
   {
    "duration": 374,
    "start_time": "2025-06-08T16:26:04.593Z"
   },
   {
    "duration": 0,
    "start_time": "2025-06-08T16:26:04.969Z"
   },
   {
    "duration": 0,
    "start_time": "2025-06-08T16:26:04.970Z"
   },
   {
    "duration": 0,
    "start_time": "2025-06-08T16:26:04.970Z"
   },
   {
    "duration": 1,
    "start_time": "2025-06-08T16:26:04.971Z"
   },
   {
    "duration": 0,
    "start_time": "2025-06-08T16:26:04.972Z"
   },
   {
    "duration": 23,
    "start_time": "2025-06-08T16:36:36.017Z"
   },
   {
    "duration": 22,
    "start_time": "2025-06-08T16:36:46.634Z"
   },
   {
    "duration": 3852,
    "start_time": "2025-06-08T16:37:07.310Z"
   },
   {
    "duration": 3820,
    "start_time": "2025-06-08T16:39:22.731Z"
   },
   {
    "duration": 4009,
    "start_time": "2025-06-08T16:42:40.515Z"
   },
   {
    "duration": 24,
    "start_time": "2025-06-08T16:47:22.213Z"
   },
   {
    "duration": 3716,
    "start_time": "2025-06-08T16:47:22.937Z"
   },
   {
    "duration": 21,
    "start_time": "2025-06-08T16:47:26.655Z"
   },
   {
    "duration": 23,
    "start_time": "2025-06-08T16:49:28.803Z"
   },
   {
    "duration": 25,
    "start_time": "2025-06-08T16:49:42.460Z"
   },
   {
    "duration": 22,
    "start_time": "2025-06-08T16:50:35.555Z"
   },
   {
    "duration": 25,
    "start_time": "2025-06-08T16:51:08.042Z"
   },
   {
    "duration": 25,
    "start_time": "2025-06-08T16:51:17.573Z"
   },
   {
    "duration": 110,
    "start_time": "2025-06-08T16:51:54.036Z"
   },
   {
    "duration": 105,
    "start_time": "2025-06-08T16:52:03.699Z"
   },
   {
    "duration": 22,
    "start_time": "2025-06-08T16:52:23.155Z"
   },
   {
    "duration": 109,
    "start_time": "2025-06-08T16:52:39.587Z"
   },
   {
    "duration": 23,
    "start_time": "2025-06-08T16:53:13.999Z"
   },
   {
    "duration": 26,
    "start_time": "2025-06-08T16:53:23.810Z"
   },
   {
    "duration": 111,
    "start_time": "2025-06-08T16:54:27.318Z"
   },
   {
    "duration": 92,
    "start_time": "2025-06-08T16:54:36.347Z"
   },
   {
    "duration": 92,
    "start_time": "2025-06-08T16:55:23.124Z"
   },
   {
    "duration": 94,
    "start_time": "2025-06-08T16:55:27.554Z"
   },
   {
    "duration": 92,
    "start_time": "2025-06-08T16:55:38.539Z"
   },
   {
    "duration": 88,
    "start_time": "2025-06-08T16:55:46.018Z"
   },
   {
    "duration": 95,
    "start_time": "2025-06-08T16:57:07.450Z"
   },
   {
    "duration": 4,
    "start_time": "2025-06-09T00:57:30.036Z"
   },
   {
    "duration": 6,
    "start_time": "2025-06-09T00:57:34.779Z"
   },
   {
    "duration": 23,
    "start_time": "2025-06-09T01:00:27.107Z"
   },
   {
    "duration": 221,
    "start_time": "2025-06-09T01:00:32.308Z"
   },
   {
    "duration": 4,
    "start_time": "2025-06-09T01:00:42.310Z"
   },
   {
    "duration": 250,
    "start_time": "2025-06-09T01:02:28.139Z"
   },
   {
    "duration": 256,
    "start_time": "2025-06-09T01:02:53.490Z"
   },
   {
    "duration": 233,
    "start_time": "2025-06-09T01:04:10.314Z"
   },
   {
    "duration": 243,
    "start_time": "2025-06-09T01:04:26.082Z"
   },
   {
    "duration": 245,
    "start_time": "2025-06-09T01:06:27.120Z"
   },
   {
    "duration": 236,
    "start_time": "2025-06-09T01:06:55.178Z"
   },
   {
    "duration": 221,
    "start_time": "2025-06-09T01:07:12.254Z"
   },
   {
    "duration": 23,
    "start_time": "2025-06-09T01:09:28.736Z"
   },
   {
    "duration": 29,
    "start_time": "2025-06-09T01:09:37.883Z"
   },
   {
    "duration": 339,
    "start_time": "2025-06-09T01:09:45.369Z"
   },
   {
    "duration": 83,
    "start_time": "2025-06-09T01:12:20.072Z"
   },
   {
    "duration": 2465,
    "start_time": "2025-06-09T01:17:51.702Z"
   },
   {
    "duration": 7708,
    "start_time": "2025-06-09T01:17:54.170Z"
   },
   {
    "duration": 210,
    "start_time": "2025-06-09T01:18:01.879Z"
   },
   {
    "duration": 946,
    "start_time": "2025-06-09T01:18:02.091Z"
   },
   {
    "duration": 14,
    "start_time": "2025-06-09T01:18:03.040Z"
   },
   {
    "duration": 34,
    "start_time": "2025-06-09T01:18:03.056Z"
   },
   {
    "duration": 7,
    "start_time": "2025-06-09T01:18:03.092Z"
   },
   {
    "duration": 37,
    "start_time": "2025-06-09T01:18:03.100Z"
   },
   {
    "duration": 16,
    "start_time": "2025-06-09T01:18:03.138Z"
   },
   {
    "duration": 57290,
    "start_time": "2025-06-09T01:18:03.156Z"
   },
   {
    "duration": 375,
    "start_time": "2025-06-09T01:19:00.448Z"
   },
   {
    "duration": 64,
    "start_time": "2025-06-09T01:19:00.825Z"
   },
   {
    "duration": 56,
    "start_time": "2025-06-09T01:19:00.890Z"
   },
   {
    "duration": 1552,
    "start_time": "2025-06-09T01:19:00.949Z"
   },
   {
    "duration": 973,
    "start_time": "2025-06-09T01:19:02.503Z"
   },
   {
    "duration": 3,
    "start_time": "2025-06-09T01:19:03.478Z"
   },
   {
    "duration": 64543,
    "start_time": "2025-06-09T01:19:03.483Z"
   },
   {
    "duration": 268,
    "start_time": "2025-06-09T01:20:08.028Z"
   },
   {
    "duration": 1240,
    "start_time": "2025-06-09T01:20:08.298Z"
   },
   {
    "duration": 6,
    "start_time": "2025-06-09T01:20:09.540Z"
   },
   {
    "duration": 529,
    "start_time": "2025-06-09T01:20:09.548Z"
   },
   {
    "duration": 1734492,
    "start_time": "2025-06-09T01:20:10.078Z"
   },
   {
    "duration": 21,
    "start_time": "2025-06-09T01:49:04.572Z"
   },
   {
    "duration": 81,
    "start_time": "2025-06-09T01:49:04.595Z"
   },
   {
    "duration": 16,
    "start_time": "2025-06-09T01:49:04.678Z"
   },
   {
    "duration": 52,
    "start_time": "2025-06-09T01:49:04.696Z"
   },
   {
    "duration": 5,
    "start_time": "2025-06-09T01:49:04.750Z"
   },
   {
    "duration": 885068,
    "start_time": "2025-06-09T01:49:04.757Z"
   },
   {
    "duration": 14,
    "start_time": "2025-06-09T02:03:49.827Z"
   },
   {
    "duration": 286,
    "start_time": "2025-06-09T02:03:49.842Z"
   },
   {
    "duration": 375,
    "start_time": "2025-06-09T02:03:50.136Z"
   },
   {
    "duration": 25,
    "start_time": "2025-06-09T02:06:22.039Z"
   },
   {
    "duration": 359,
    "start_time": "2025-06-09T02:06:31.832Z"
   },
   {
    "duration": 106,
    "start_time": "2025-06-09T02:07:38.230Z"
   }
  ],
  "kernelspec": {
   "display_name": "Python 3 (ipykernel)",
   "language": "python",
   "name": "python3"
  },
  "language_info": {
   "codemirror_mode": {
    "name": "ipython",
    "version": 3
   },
   "file_extension": ".py",
   "mimetype": "text/x-python",
   "name": "python",
   "nbconvert_exporter": "python",
   "pygments_lexer": "ipython3",
   "version": "3.9.5"
  },
  "toc": {
   "base_numbering": 1,
   "nav_menu": {},
   "number_sections": true,
   "sideBar": true,
   "skip_h1_title": true,
   "title_cell": "Содержание",
   "title_sidebar": "Contents",
   "toc_cell": true,
   "toc_position": {
    "height": "calc(100% - 180px)",
    "left": "10px",
    "top": "150px",
    "width": "302.391px"
   },
   "toc_section_display": true,
   "toc_window_display": false
  }
 },
 "nbformat": 4,
 "nbformat_minor": 4
}
