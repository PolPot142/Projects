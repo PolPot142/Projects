{
 "cells": [
  {
   "cell_type": "markdown",
   "id": "c0d8cf55",
   "metadata": {},
   "source": [
    "Статистический анализ данных сервиса аренды самокатов GoFast\n",
    "\n",
    "Необходимо проанализировать данные и проверить некоторые гипотезы, которые могут помочь бизнесу вырасти."
   ]
  },
  {
   "cell_type": "markdown",
   "id": "1e7bca91",
   "metadata": {},
   "source": [
    "Даны 3 таблицы:\n",
    "\n",
    "Пользователи — users_go.csv\n",
    "\n",
    "user_id\tуникальный идентификатор пользователя\n",
    "name\tимя пользователя\n",
    "age\tвозраст\n",
    "city\tгород\n",
    "subscription_type\tтип подписки (free, ultra)"
   ]
  },
  {
   "cell_type": "markdown",
   "id": "c4d12aeb",
   "metadata": {},
   "source": [
    "Поездки — rides_go.csv\n",
    "\n",
    "user_id\tуникальный идентификатор пользователя\n",
    "distance\tрасстояние, которое пользователь проехал в текущей сессии (в метрах)\n",
    "duration\tпродолжительность сессии (в минутах) — время с того момента, как пользователь нажал кнопку «Начать поездку» до момента, как он нажал кнопку «Завершить поездку»\n",
    "date\tдата совершения поездки"
   ]
  },
  {
   "cell_type": "markdown",
   "id": "c56b1a64",
   "metadata": {},
   "source": [
    "Подписки — subscriptions_go.csv\n",
    "\n",
    "subscription_type\tтип подписки\n",
    "minute_price\tстоимость одной минуты поездки по данной подписке\n",
    "start_ride_price\tстоимость начала поездки\n",
    "subscription_fee\tстоимость ежемесячного платежа"
   ]
  },
  {
   "cell_type": "markdown",
   "id": "ab23d0ea",
   "metadata": {},
   "source": [
    "Необходимо:\n",
    "1. Провести предобработку данных, включая поиск пропущенных значений и дубликатов\n",
    "\n",
    "\n",
    "2. Провести исследовательский анализ данных с описанием и визуализацией общей информации о пользователях и поездках\n",
    "\n",
    "\n",
    "3. Объединить таблицы в одну, а также создать две таблицы для пользователей с платной подпиской и без нее\n",
    "\n",
    "\n",
    "4. Визуализировать информацию о расстоянии и времени поездок для пользователей обеих категорий\n",
    "\n",
    "\n",
    "5. Подсчитать выручку для каждого пользователя за каждый месяц\n",
    "\n",
    "\n",
    "6. Проверить 4 гипотезы:    \n",
    "    1. тратят ли пользователи с подпиской больше времени на поездки?;\n",
    "    2. среднее расстояние, которое проезжают пользователи с подпиской за одну поездку, не превышает 3130 метров?;    \n",
    "    3. помесячная выручка от пользователей с подпиской по месяцам выше, чем выручка от пользователей без подписки?;    \n",
    "    4. количество обращений в техподдержку снизилось после обновления серверов\n",
    "    \n",
    "    \n",
    "7. Выяснить, какое минимальное количество промокодов надо разослать, чтобы минимум 100 клиентов продолжили пользоваться подпиской\n",
    "\n",
    "\n",
    "8. Оценить вероятность того, что после рассылки 1 млн. уведомлений, 399.5 тыс. пользователей откроют уведомление"
   ]
  },
  {
   "cell_type": "code",
   "execution_count": null,
   "id": "72576667",
   "metadata": {},
   "outputs": [],
   "source": [
    "import pandas as pd\n",
    "import numpy as np\n",
    "from scipy import stats as st\n",
    "from scipy.stats import binom\n",
    "from math import sqrt\n",
    "import matplotlib.pyplot as plt"
   ]
  },
  {
   "cell_type": "markdown",
   "id": "c42cbe00",
   "metadata": {},
   "source": [
    "#### Шаг 1. Загрузка данных"
   ]
  },
  {
   "cell_type": "code",
   "execution_count": null,
   "id": "eff9f206",
   "metadata": {},
   "outputs": [],
   "source": [
    "users = pd.read_csv('/datasets/users_go.csv')\n",
    "rides = pd.read_csv('/datasets/rides_go.csv')\n",
    "subscr = pd.read_csv('/datasets/subscriptions_go.csv')"
   ]
  },
  {
   "cell_type": "code",
   "execution_count": null,
   "id": "87c6809e",
   "metadata": {},
   "outputs": [],
   "source": [
    "display(users)\n",
    "display(rides)\n",
    "display(subscr)"
   ]
  },
  {
   "cell_type": "markdown",
   "id": "e95ebca7",
   "metadata": {},
   "source": [
    "#### Шаг 2. Предобработка данных"
   ]
  },
  {
   "cell_type": "markdown",
   "id": "22d003dd",
   "metadata": {},
   "source": [
    "Приведение столбца `date` к типу даты *pandas*:"
   ]
  },
  {
   "cell_type": "code",
   "execution_count": null,
   "id": "af6d202c",
   "metadata": {},
   "outputs": [],
   "source": [
    "rides['date'] = pd.to_datetime(rides['date'])"
   ]
  },
  {
   "cell_type": "markdown",
   "id": "4e4afe6f",
   "metadata": {},
   "source": [
    "Добавление столбца с номером месяца:"
   ]
  },
  {
   "cell_type": "code",
   "execution_count": null,
   "id": "83fd3d3e",
   "metadata": {},
   "outputs": [],
   "source": [
    "rides['month'] = rides['date'].dt.month"
   ]
  },
  {
   "cell_type": "markdown",
   "id": "b7875d32",
   "metadata": {},
   "source": [
    "Проверим пропуски:"
   ]
  },
  {
   "cell_type": "code",
   "execution_count": null,
   "id": "86c1e6c5",
   "metadata": {},
   "outputs": [],
   "source": [
    "for column in users.columns:\n",
    "    missing_data = users[column].isna().sum()\n",
    "    print(f'Пропусков в столбце \"{column}\":{missing_data}')"
   ]
  },
  {
   "cell_type": "code",
   "execution_count": null,
   "id": "e1ea5122",
   "metadata": {},
   "outputs": [],
   "source": [
    "for column in rides.columns:\n",
    "    missing_data = rides[column].isna().sum()\n",
    "    print(f'Пропусков в столбце \"{column}\":{missing_data}')"
   ]
  },
  {
   "cell_type": "code",
   "execution_count": null,
   "id": "68626b8d",
   "metadata": {},
   "outputs": [],
   "source": [
    "for column in subscr.columns:\n",
    "    missing_data = subscr[column].isna().sum()\n",
    "    print(f'Пропусков в столбце \"{column}\":{missing_data}')"
   ]
  },
  {
   "cell_type": "markdown",
   "id": "e4d3878d",
   "metadata": {},
   "source": [
    "Проверим дубликаты:"
   ]
  },
  {
   "cell_type": "code",
   "execution_count": null,
   "id": "9e8801fe",
   "metadata": {},
   "outputs": [],
   "source": [
    "users.duplicated().sum()"
   ]
  },
  {
   "cell_type": "code",
   "execution_count": null,
   "id": "270ec04a",
   "metadata": {},
   "outputs": [],
   "source": [
    "rides.duplicated().sum()"
   ]
  },
  {
   "cell_type": "code",
   "execution_count": null,
   "id": "5d8c221b",
   "metadata": {},
   "outputs": [],
   "source": [
    "subscr.duplicated().sum()"
   ]
  },
  {
   "cell_type": "markdown",
   "id": "f9cad30a",
   "metadata": {},
   "source": [
    "Удалим дубликаты:"
   ]
  },
  {
   "cell_type": "code",
   "execution_count": null,
   "id": "d33fbecb",
   "metadata": {},
   "outputs": [],
   "source": [
    "users.drop_duplicates(inplace = True)"
   ]
  },
  {
   "cell_type": "markdown",
   "id": "212593c7",
   "metadata": {},
   "source": [
    "#### Шаг 3. Исследовательский анализ данных"
   ]
  },
  {
   "cell_type": "markdown",
   "id": "1c0fc4b4",
   "metadata": {},
   "source": [
    "Построим гистограммы по всем данным:"
   ]
  },
  {
   "cell_type": "code",
   "execution_count": null,
   "id": "e3a4274c",
   "metadata": {},
   "outputs": [],
   "source": [
    "users['age'].hist(figsize=(4,4));"
   ]
  },
  {
   "cell_type": "markdown",
   "id": "d16626ce",
   "metadata": {},
   "source": [
    "Чаще всего услугами сервиса пользуются люди в возрасте около 25 лет."
   ]
  },
  {
   "cell_type": "code",
   "execution_count": null,
   "id": "5c86d865",
   "metadata": {},
   "outputs": [],
   "source": [
    "rides[['distance','duration','month']].hist(figsize=(9,9));"
   ]
  },
  {
   "cell_type": "markdown",
   "id": "abd140b5",
   "metadata": {},
   "source": [
    "Чаще всего проезжают около 3000 м., длительность поездки составляет 20 мин.\n",
    "По какой-то загадочной причине в декабре и январе происходит резкий рост использования сервиса."
   ]
  },
  {
   "cell_type": "markdown",
   "id": "c98461b8",
   "metadata": {},
   "source": [
    "Проверим частоту встречаемости городов:"
   ]
  },
  {
   "cell_type": "code",
   "execution_count": null,
   "id": "046d5cee",
   "metadata": {},
   "outputs": [],
   "source": [
    "users['city'].value_counts()"
   ]
  },
  {
   "cell_type": "code",
   "execution_count": null,
   "id": "f4968455",
   "metadata": {},
   "outputs": [],
   "source": [
    "users['city'].value_counts().plot(kind='bar', title='Частота встречаемости городов', \n",
    "                                  ylabel='Количество пользователей', xlabel='Город')"
   ]
  },
  {
   "cell_type": "markdown",
   "id": "b46d3c52",
   "metadata": {},
   "source": [
    "Посчитаем количество пользователей с подпиской и без:"
   ]
  },
  {
   "cell_type": "code",
   "execution_count": null,
   "id": "a0dbbede",
   "metadata": {},
   "outputs": [],
   "source": [
    "users['subscription_type'].value_counts()"
   ]
  },
  {
   "cell_type": "markdown",
   "id": "87cea0cc",
   "metadata": {},
   "source": [
    "Визуализируем эти данные:"
   ]
  },
  {
   "cell_type": "code",
   "execution_count": null,
   "id": "f805b849",
   "metadata": {},
   "outputs": [],
   "source": [
    "labels = ['free', 'ultra']\n",
    "values = [users['subscription_type'].value_counts()[0], users['subscription_type'].value_counts()[1]]  \n",
    "\n",
    "plt.pie(values, labels=labels,startangle=90,autopct='%1.2f%%');"
   ]
  },
  {
   "cell_type": "markdown",
   "id": "499c8701",
   "metadata": {},
   "source": [
    "Посчитаем средние некоторый показателей:"
   ]
  },
  {
   "cell_type": "code",
   "execution_count": null,
   "id": "3daec07f",
   "metadata": {},
   "outputs": [],
   "source": [
    "users['age'].mean()"
   ]
  },
  {
   "cell_type": "code",
   "execution_count": null,
   "id": "ed40b3a5",
   "metadata": {},
   "outputs": [],
   "source": [
    "rides['distance'].mean()"
   ]
  },
  {
   "cell_type": "code",
   "execution_count": null,
   "id": "8a03417c",
   "metadata": {},
   "outputs": [],
   "source": [
    "rides['duration'].mean()"
   ]
  },
  {
   "cell_type": "markdown",
   "id": "96471b36",
   "metadata": {},
   "source": [
    "Вывод: Средний возраст пользователя 25 лет, средняя длина поездки 3070 м., средняя длительность поездки 18 мин. Самый частый город - Пятигорск, наименее встречающийся город - Москва. В течение года количество поездок по месяцам примерно одинаковое за исключением декабря и января, когда наблюдается резкий рост."
   ]
  },
  {
   "cell_type": "markdown",
   "id": "4ef51331",
   "metadata": {},
   "source": [
    "#### Шаг 4. Объединение данных"
   ]
  },
  {
   "cell_type": "markdown",
   "id": "924836fa",
   "metadata": {},
   "source": [
    "Создадим общую таблицу:"
   ]
  },
  {
   "cell_type": "code",
   "execution_count": null,
   "id": "6bf288b5",
   "metadata": {},
   "outputs": [],
   "source": [
    "df = users.merge(rides, on='user_id').merge(subscr, on='subscription_type')\n",
    "df"
   ]
  },
  {
   "cell_type": "markdown",
   "id": "ca209b8a",
   "metadata": {},
   "source": [
    "Создадим раздельные таблицы для пользователей с подпиской и без:"
   ]
  },
  {
   "cell_type": "code",
   "execution_count": null,
   "id": "8281dd30",
   "metadata": {},
   "outputs": [],
   "source": [
    "subscr_free = df.query('subscription_type == \"free\"')"
   ]
  },
  {
   "cell_type": "code",
   "execution_count": null,
   "id": "cbd2fe5b",
   "metadata": {},
   "outputs": [],
   "source": [
    "subscr_ultra = df.query('subscription_type == \"ultra\"')"
   ]
  },
  {
   "cell_type": "markdown",
   "id": "52e36d8b",
   "metadata": {},
   "source": [
    "Выведем гистограммы для пройденного расстояния для пользователей без подписки и с подпиской:"
   ]
  },
  {
   "cell_type": "code",
   "execution_count": null,
   "id": "d77a4855",
   "metadata": {},
   "outputs": [],
   "source": [
    "subscr_free['distance'].hist();"
   ]
  },
  {
   "cell_type": "code",
   "execution_count": null,
   "id": "4f562f96",
   "metadata": {},
   "outputs": [],
   "source": [
    "subscr_ultra['distance'].hist();"
   ]
  },
  {
   "cell_type": "code",
   "execution_count": null,
   "id": "e5f01c35",
   "metadata": {},
   "outputs": [],
   "source": [
    "print(subscr_free['distance'].median())\n",
    "print(subscr_ultra['distance'].median())"
   ]
  },
  {
   "cell_type": "markdown",
   "id": "8f152b95",
   "metadata": {},
   "source": [
    "Медианы расстояний почти не различаются, однако по гистограммам видно, что пользователи с подпиской почти не проезжают меньше 2000 м."
   ]
  },
  {
   "cell_type": "markdown",
   "id": "4073e4da",
   "metadata": {},
   "source": [
    "Выведем гистограммы для времени поездки для пользователей без подписки и с подпиской:"
   ]
  },
  {
   "cell_type": "code",
   "execution_count": null,
   "id": "340c7333",
   "metadata": {},
   "outputs": [],
   "source": [
    "subscr_free['duration'].hist();"
   ]
  },
  {
   "cell_type": "code",
   "execution_count": null,
   "id": "fdcf75a3",
   "metadata": {},
   "outputs": [],
   "source": [
    "subscr_ultra['duration'].hist();"
   ]
  },
  {
   "cell_type": "code",
   "execution_count": null,
   "id": "a867c735",
   "metadata": {},
   "outputs": [],
   "source": [
    "print(subscr_free['duration'].mean())\n",
    "print(subscr_ultra['duration'].mean())"
   ]
  },
  {
   "cell_type": "markdown",
   "id": "6aeeb16b",
   "metadata": {},
   "source": [
    "Выведем объединенную гистограмму дальности поездки для пользователей *ultra* и *free*"
   ]
  },
  {
   "cell_type": "code",
   "execution_count": null,
   "id": "1bbe85d9",
   "metadata": {},
   "outputs": [],
   "source": [
    "plt.figure(figsize=(9,6))\n",
    "plt.hist(subscr_free['distance'], label='free', bins=20, alpha=0.8)\n",
    "plt.hist(subscr_ultra['distance'], label='ultra',bins=20, alpha=0.8)\n",
    "plt.legend()\n",
    "plt.show()"
   ]
  },
  {
   "cell_type": "markdown",
   "id": "44a78df5",
   "metadata": {},
   "source": [
    "Пользователи без подписки ездят больше. Наблюдается небольшой хвост от 0 до 1500 м для обеих групп. Это можно объяснить, вероятно, близким расположением парковок в популярном месте, либо наличием этих парковок в удобных местах для небольших поездкок, например, в магазин. "
   ]
  },
  {
   "cell_type": "markdown",
   "id": "1dece33e",
   "metadata": {},
   "source": [
    "Выведем объединенную гистограмму длительности поездки для пользователей *ultra* и *free*"
   ]
  },
  {
   "cell_type": "code",
   "execution_count": null,
   "id": "e4f5adf2",
   "metadata": {},
   "outputs": [],
   "source": [
    "plt.figure(figsize=(9,6))\n",
    "plt.hist(subscr_free['duration'], label='free', bins=20, alpha=0.8)\n",
    "plt.hist(subscr_ultra['duration'], label='ultra',bins=20, alpha=0.8)\n",
    "plt.legend()\n",
    "plt.show()"
   ]
  },
  {
   "cell_type": "markdown",
   "id": "8f0a9ca2",
   "metadata": {},
   "source": [
    "Длительность поездок для обеих групп выглядит нормально. Бесплатные пользователи почти всегда ездят дольше, за исключением очень длительных поездок более 35 мин."
   ]
  },
  {
   "cell_type": "markdown",
   "id": "402d620f",
   "metadata": {},
   "source": [
    "#### Шаг 5. Подсчёт выручки"
   ]
  },
  {
   "cell_type": "markdown",
   "id": "8af19e80",
   "metadata": {},
   "source": [
    "Найдем суммарное расстояние, количество поездок и суммарное время для каждого пользователя за каждый месяц:"
   ]
  },
  {
   "cell_type": "code",
   "execution_count": null,
   "id": "458141cd",
   "metadata": {},
   "outputs": [],
   "source": [
    "sum_per_month = df.groupby(['user_id','month']).agg(total_distance=('distance', 'sum'),\n",
    "    total_duration=('duration', 'sum'),\n",
    "    ride_count=('distance', 'count')\n",
    ").reset_index().merge(users[['user_id', 'subscription_type']], on='user_id')\n",
    "\n",
    "sum_per_month"
   ]
  },
  {
   "cell_type": "markdown",
   "id": "843da3eb",
   "metadata": {},
   "source": [
    "Найдем ежемесячную выручку:"
   ]
  },
  {
   "cell_type": "code",
   "execution_count": null,
   "id": "a6b4e5b2",
   "metadata": {},
   "outputs": [],
   "source": [
    "#Добавим данные о стоимости\n",
    "sum_per_month = sum_per_month.merge(subscr, on='subscription_type')\n",
    "\n",
    "#Формула расчета выручки с пользователя\n",
    "sum_per_month['income'] = (sum_per_month['ride_count']*sum_per_month['start_ride_price']\n",
    "+sum_per_month['total_duration']*sum_per_month['minute_price']+sum_per_month['start_ride_price']\n",
    "+sum_per_month['subscription_fee']\n",
    "                          )\n",
    "#Удалим лишнее\n",
    "sum_per_month.drop(['minute_price', 'start_ride_price', 'subscription_fee'], axis = 1, inplace=True)\n",
    "\n",
    "#Округлим вверх и приведем к типу int\n",
    "sum_per_month['income'] = np.ceil(sum_per_month['income']).astype(int)\n",
    "\n",
    "sum_per_month"
   ]
  },
  {
   "cell_type": "markdown",
   "id": "41545ac0",
   "metadata": {},
   "source": [
    "#### Шаг 6. Проверка гипотез"
   ]
  },
  {
   "cell_type": "markdown",
   "id": "bdacdc70",
   "metadata": {},
   "source": [
    "6.1\n",
    "\n",
    "H0: пользователи с подпиской тратят больше времени на поездки.\n",
    "\n",
    "H1: пользователи с подпиской тратят меньше или столько же времени на поездки."
   ]
  },
  {
   "cell_type": "code",
   "execution_count": null,
   "id": "28bd08bc",
   "metadata": {},
   "outputs": [],
   "source": [
    "alpha = 0.05\n",
    "\n",
    "#Одностороннимй\n",
    "result = st.ttest_ind(sum_per_month.query('subscription_type==\"ultra\"')['total_duration'],\n",
    "                      sum_per_month.query('subscription_type==\"free\"')['total_duration'], alternative='less' )\n",
    "\n",
    "print('p-значение',result.pvalue)\n",
    "\n",
    "print('Длительность поездки с подпиской:',np.mean(sum_per_month.query('subscription_type==\"ultra\"')['total_duration']))    \n",
    "print('Длительность поездки без подписки:',np.mean(sum_per_month.query('subscription_type==\"free\"')['total_duration']))\n",
    "\n",
    "if result.pvalue < alpha:\n",
    "    print(\"Отвергаем нулевую гипотезу: пользователи с подпиской тратят меньше или столько же времени на поездки.\")\n",
    "else:\n",
    "    print(\"Не отвергаем нулевую гипотезу.\")\n",
    "\n",
    "    \n",
    "\n",
    "\n"
   ]
  },
  {
   "cell_type": "markdown",
   "id": "102011cb",
   "metadata": {},
   "source": [
    "6.2\n",
    "\n",
    "H0: среднее расстояние, которое проезжают пользователи с подпиской за одну поездку, не превышает 3130 метров.\n",
    "\n",
    "H1: среднее расстояние, которое проезжают пользователи с подпиской за одну поездку, превышает 3130 метров."
   ]
  },
  {
   "cell_type": "code",
   "execution_count": null,
   "id": "18647a50",
   "metadata": {},
   "outputs": [],
   "source": [
    "value=3130\n",
    "\n",
    "result=st.ttest_1samp(sum_per_month.query('subscription_type==\"ultra\"')['total_distance'],value, alternative='greater')\n",
    "\n",
    "print('Пройденная дистанция с подпиской:',np.mean(sum_per_month.query('subscription_type==\"ultra\"')['total_distance']))\n",
    "\n",
    "print('p-значение',result.pvalue)\n",
    "\n",
    "\n",
    "if result.pvalue < alpha:\n",
    "    print(\"Отвергаем нулевую гипотезу: среднее расстояние превышает 3130 метров.\")\n",
    "else:\n",
    "    print(\"Не отвергаем нулевую гипотезу\")"
   ]
  },
  {
   "cell_type": "markdown",
   "id": "5404063f",
   "metadata": {},
   "source": [
    "Вывод: Пользователи с подпиской повышают амортизацию бизнеса."
   ]
  },
  {
   "cell_type": "markdown",
   "id": "40fb4139",
   "metadata": {},
   "source": []
  },
  {
   "cell_type": "markdown",
   "id": "e5d9118c",
   "metadata": {},
   "source": [
    "6.3.\n",
    "\n",
    "H0: Помесячная выручка от пользователей с подпиской по месяцам выше, чем выручка от пользователей без подписки.\n",
    "\n",
    "H1: Помесячная выручка от пользователей с подпиской по месяцам не выше, чем выручка от пользователей без подписки."
   ]
  },
  {
   "cell_type": "code",
   "execution_count": null,
   "id": "cd5f9018",
   "metadata": {},
   "outputs": [],
   "source": [
    "result = st.ttest_ind(sum_per_month.query('subscription_type==\"ultra\"')['income'],\n",
    "                      sum_per_month.query('subscription_type==\"free\"')['income'], alternative='less' )\n",
    "\n",
    "print('p-значение',result.pvalue)\n",
    "\n",
    "print('Выручка с подпиской', np.mean(sum_per_month.query('subscription_type==\"ultra\"')['income']))\n",
    "print('Выручка без подписки', np.mean(sum_per_month.query('subscription_type==\"free\"')['income']))\n",
    "\n",
    "if result.pvalue < alpha:\n",
    "    print(\"Отвергаем нулевую гипотезу: пользователи без подписки приносят больше выручки.\")\n",
    "else:\n",
    "    print(\"Не отвергаем нулевую гипотезу.\")"
   ]
  },
  {
   "cell_type": "markdown",
   "id": "886acdef",
   "metadata": {},
   "source": [
    "Вывод: хоть пользователи без подписки и приносят больше прибыли, пользователи с подпиской приносят стабильную прибыль."
   ]
  },
  {
   "cell_type": "markdown",
   "id": "ee257a2c",
   "metadata": {},
   "source": [
    "6.4\n",
    "\n",
    "Двухвыборочный t-тест для зависимых выборок\n",
    "\n",
    "\n",
    "H0: Количество обращений в техподдержку снизилось.\n",
    "\n",
    "H1: Обращений в техподдержку столько же или больше. #Как правильнее здесь написать: \"не снизилось\" или \"столько же или больше\"?"
   ]
  },
  {
   "cell_type": "code",
   "execution_count": null,
   "id": "aae96b85",
   "metadata": {},
   "outputs": [],
   "source": [
    "# st.ttest_rel(new_support, old_support, alternative='greater')"
   ]
  },
  {
   "cell_type": "markdown",
   "id": "61213c5e",
   "metadata": {},
   "source": [
    "#### Шаг 7. Распределения"
   ]
  },
  {
   "cell_type": "markdown",
   "id": "5dc3ae2c",
   "metadata": {},
   "source": [
    "Отделу маркетинга GoFast поставили задачу: нужно провести акцию с раздачей промокодов на один бесплатный месяц подписки, в рамках которой как минимум 100 существующих клиентов должны продлить эту подписку. То есть по завершении периода действия подписки пользователь может либо отказаться от неё, либо продлить, совершив соответствующий платёж. Эта акция уже проводилась ранее и по итогу выяснилось, что после бесплатного пробного периода подписку продлевают 10 % пользователей. Выясните, какое минимальное количество промокодов нужно разослать, чтобы вероятность не выполнить план была примерно 5 %. Подберите параметры распределения, описывающего эту ситуацию, постройте график распределения и сформулируйте ответ на вопрос о количестве промокодов."
   ]
  },
  {
   "cell_type": "markdown",
   "id": "593e96ff",
   "metadata": {},
   "source": []
  },
  {
   "cell_type": "code",
   "execution_count": null,
   "id": "57bdff38",
   "metadata": {},
   "outputs": [],
   "source": [
    "p = 0.1 # Вероятность успеха\n",
    "success = 0.05 # Вероятность неуспеха\n",
    "clients = 100 # Минимальное количество успехов\n",
    "\n",
    "n = clients\n",
    "# С помощью цилка будем подбирать n, пока вероятность не достигнет требуемой\n",
    "while True:\n",
    "    result = st.binom.cdf(clients-1,n,p)\n",
    "    if result <= success:\n",
    "        break\n",
    "    n += 1\n",
    "    \n",
    "print(n)\n",
    "\n",
    "x = range(0, n)\n",
    "y = binom.pmf(x, n, p)\n",
    "\n",
    "plt.figure(figsize=(12, 9))\n",
    "plt.bar(x, y)\n",
    "plt.grid(axis='y')\n",
    "plt.show()"
   ]
  },
  {
   "cell_type": "markdown",
   "id": "2150456d",
   "metadata": {},
   "source": [
    "По расчетам необходимо разослать 1161 промокод, но по графику это как-то неочевидно. \n",
    "\n",
    "Вообще дальше у меня тоже как-то непонятно получилось"
   ]
  },
  {
   "cell_type": "markdown",
   "id": "f606e86d",
   "metadata": {},
   "source": [
    "7.2 Отдел маркетинга рассылает клиентам push-уведомления в мобильном приложении. Клиенты могут открыть его или не открывать. Известно, что уведомления открывают около 40 % получивших клиентов. Отдел планирует разослать 1 млн уведомлений. С помощью аппроксимации постройте примерный график распределения и оцените вероятность того, что уведомление откроют не более 399,5 тыс. пользователей."
   ]
  },
  {
   "cell_type": "code",
   "execution_count": null,
   "id": "b40649fc",
   "metadata": {},
   "outputs": [],
   "source": [
    "n = 1000000   # тысяч уведомлений \n",
    "p = 0.4 # вероятность успеха\n",
    "\n",
    "mu = n*p  \n",
    "\n",
    "sigma = (n*p*(1-p))**0.5 \n",
    "\n",
    "distr = st.norm(mu,sigma)\n",
    "\n",
    "result = distr.cdf(399500)\n",
    "\n",
    "print('Точное значение вероятности:', result)"
   ]
  },
  {
   "cell_type": "code",
   "execution_count": null,
   "id": "a11f2f25",
   "metadata": {},
   "outputs": [],
   "source": [
    "def linspace(start, stop, num):\n",
    "    step = (stop - start) / (num - 1)\n",
    "    result = []\n",
    "    for i in range(num):\n",
    "        result.append(start + step * i)\n",
    "    return result\n",
    "\n",
    "left = int(n * p - 4 * sqrt(n * p * (1 - p)))\n",
    "right = int(n * p + 4 * sqrt(n * p * (1 - p)))\n",
    "\n",
    "x = list(range(max(0, left), right))\n",
    "\n",
    "plt.figure(figsize=(12, 9))\n",
    "# рисуем график биномиального распределения\n",
    "ax = plt.subplot()\n",
    "# используем синие о-образные маркеры и размер маркера 5\n",
    "ax.plot(x, binom.pmf(x, n, p), '-o', ms=5,\n",
    "\t      label='вероятности биномиального распределения')\n",
    " \n",
    "# рисуем график нормального распределения:\n",
    "# получим список из 100 чисел от left до right\n",
    "x = linspace(left, right, 100)\n",
    "# используем красную линию ширины 3 и прозрачности 0.3\n",
    "ax.plot(x, st.norm.pdf(x, mu, sigma), 'r-', lw=3, alpha=0.3, label='плотность вероятности нормального распределения')\n",
    " \n",
    "# зададим подписи по оси x в пределах ± 3 ст.отклонений от мат.ожидания\n",
    "# (последний аргумент в методе range - интервал между подписями)\n",
    "x_ticks = list(range(int(mu - 3 * sigma), int(mu + 3 * sigma), 500))\n",
    "ax.set_xticks(x_ticks)\n",
    "\n",
    "# настраиваем оптимальное расположение легенды и выводим график\n",
    "\n",
    "ax.legend(loc='best')\n",
    "plt.show()\n"
   ]
  },
  {
   "cell_type": "markdown",
   "id": "53fa6e68",
   "metadata": {},
   "source": [
    "Вывод:\n",
    "\n",
    "На этапе предобработки обнаружено незначительное (31) количество дубликатов, которые были удалены.\n",
    "\n",
    "При анализе данных установлено следующее:\n",
    "\n",
    "1. Средний возраст пользователя 25 лет.\n",
    "2. Длительность поездки составляет около 18 мин. \n",
    "3. В декабре и январе происходит резкий рост использования сервиса. Вероятно, это связано с праздниками и теплыми зимами в некоторых городах.\n",
    "4. Самый частый город - Пятигорск, наименее встречающийся город - Москва.\n",
    "5. Доля пользователей с подпиской *free* 54.4%, доля пользователей с подпиской *ultra* 45.6%. \n",
    "\n",
    "Подтвердившиеся гипотезы:\n",
    "1. Пользователи с подпиской тратят меньше или столько же времени на поездки\n",
    "2. Среднее расстояние превышает 3130 метров\n",
    "3. Пользователи без подписки приносят больше выручки\n",
    "\n",
    "Таким образом получается, что пользователи с подпиской тратят меньше денег и при этом приводят к еще большим тратам у компании (у самоката предел 3130 м.)."
   ]
  }
 ],
 "metadata": {
  "ExecuteTimeLog": [
   {
    "duration": 464,
    "start_time": "2025-01-23T13:07:04.701Z"
   },
   {
    "duration": 211,
    "start_time": "2025-01-23T13:07:06.044Z"
   },
   {
    "duration": 35,
    "start_time": "2025-01-23T13:08:41.605Z"
   },
   {
    "duration": 8,
    "start_time": "2025-01-23T13:12:50.470Z"
   },
   {
    "duration": 5,
    "start_time": "2025-01-23T13:15:21.055Z"
   },
   {
    "duration": 15,
    "start_time": "2025-01-23T13:15:30.807Z"
   },
   {
    "duration": 6,
    "start_time": "2025-01-23T13:17:08.770Z"
   },
   {
    "duration": 6,
    "start_time": "2025-01-23T13:18:04.614Z"
   },
   {
    "duration": 6,
    "start_time": "2025-01-23T13:18:08.782Z"
   },
   {
    "duration": 7,
    "start_time": "2025-01-23T13:18:11.718Z"
   },
   {
    "duration": 5,
    "start_time": "2025-01-23T13:18:12.422Z"
   },
   {
    "duration": 6,
    "start_time": "2025-01-23T13:31:45.301Z"
   },
   {
    "duration": 8,
    "start_time": "2025-01-23T13:31:46.127Z"
   },
   {
    "duration": 5,
    "start_time": "2025-01-23T13:31:46.883Z"
   },
   {
    "duration": 15,
    "start_time": "2025-01-23T13:36:05.059Z"
   },
   {
    "duration": 7,
    "start_time": "2025-01-23T13:36:10.835Z"
   },
   {
    "duration": 6,
    "start_time": "2025-01-23T13:36:29.668Z"
   },
   {
    "duration": 15,
    "start_time": "2025-01-23T13:36:36.614Z"
   },
   {
    "duration": 6,
    "start_time": "2025-01-23T13:36:40.485Z"
   },
   {
    "duration": 7,
    "start_time": "2025-01-23T13:36:58.600Z"
   },
   {
    "duration": 6,
    "start_time": "2025-01-23T13:37:50.958Z"
   },
   {
    "duration": 6,
    "start_time": "2025-01-23T13:37:54.193Z"
   },
   {
    "duration": 802,
    "start_time": "2025-01-23T14:07:14.662Z"
   },
   {
    "duration": 166,
    "start_time": "2025-01-23T14:07:37.126Z"
   },
   {
    "duration": 740,
    "start_time": "2025-01-23T14:08:43.213Z"
   },
   {
    "duration": 136,
    "start_time": "2025-01-23T14:08:53.575Z"
   },
   {
    "duration": 368,
    "start_time": "2025-01-23T14:16:42.357Z"
   },
   {
    "duration": 5,
    "start_time": "2025-01-23T14:29:29.738Z"
   },
   {
    "duration": 76,
    "start_time": "2025-01-23T14:29:42.707Z"
   },
   {
    "duration": 5,
    "start_time": "2025-01-23T14:29:48.543Z"
   },
   {
    "duration": 6,
    "start_time": "2025-01-23T14:34:43.872Z"
   },
   {
    "duration": 154,
    "start_time": "2025-01-23T14:36:03.146Z"
   },
   {
    "duration": 6,
    "start_time": "2025-01-23T14:37:31.486Z"
   },
   {
    "duration": 5,
    "start_time": "2025-01-23T15:08:13.747Z"
   },
   {
    "duration": 1365,
    "start_time": "2025-01-23T15:08:34.739Z"
   },
   {
    "duration": 6,
    "start_time": "2025-01-23T15:08:57.634Z"
   },
   {
    "duration": 5,
    "start_time": "2025-01-23T15:09:11.667Z"
   },
   {
    "duration": 10,
    "start_time": "2025-01-23T16:56:13.381Z"
   },
   {
    "duration": 27,
    "start_time": "2025-01-23T16:56:17.929Z"
   },
   {
    "duration": 32,
    "start_time": "2025-01-23T16:58:26.296Z"
   },
   {
    "duration": 17,
    "start_time": "2025-01-23T16:59:03.732Z"
   },
   {
    "duration": 35,
    "start_time": "2025-01-23T17:02:35.991Z"
   },
   {
    "duration": 9,
    "start_time": "2025-01-23T17:02:49.615Z"
   },
   {
    "duration": 27,
    "start_time": "2025-01-23T17:02:54.628Z"
   },
   {
    "duration": 7,
    "start_time": "2025-01-23T17:03:31.154Z"
   },
   {
    "duration": 8,
    "start_time": "2025-01-23T17:04:39.140Z"
   },
   {
    "duration": 8,
    "start_time": "2025-01-23T17:04:39.883Z"
   },
   {
    "duration": 154,
    "start_time": "2025-01-23T17:05:54.879Z"
   },
   {
    "duration": 147,
    "start_time": "2025-01-23T17:06:01.011Z"
   },
   {
    "duration": 126,
    "start_time": "2025-01-23T17:06:35.609Z"
   },
   {
    "duration": 7,
    "start_time": "2025-01-23T17:09:31.379Z"
   },
   {
    "duration": 6,
    "start_time": "2025-01-23T17:09:53.759Z"
   },
   {
    "duration": 14,
    "start_time": "2025-01-23T17:10:15.139Z"
   },
   {
    "duration": 4,
    "start_time": "2025-01-23T17:10:19.913Z"
   },
   {
    "duration": 5,
    "start_time": "2025-01-23T17:10:28.843Z"
   },
   {
    "duration": 132,
    "start_time": "2025-01-23T17:13:29.905Z"
   },
   {
    "duration": 234,
    "start_time": "2025-01-23T17:13:32.371Z"
   },
   {
    "duration": 6,
    "start_time": "2025-01-23T17:14:10.879Z"
   },
   {
    "duration": 5,
    "start_time": "2025-01-23T17:14:21.317Z"
   },
   {
    "duration": 5,
    "start_time": "2025-01-23T17:14:30.187Z"
   },
   {
    "duration": 9,
    "start_time": "2025-01-23T17:26:03.176Z"
   },
   {
    "duration": 14,
    "start_time": "2025-01-23T17:26:16.548Z"
   },
   {
    "duration": 17,
    "start_time": "2025-01-23T17:31:14.319Z"
   },
   {
    "duration": 31,
    "start_time": "2025-01-23T17:31:24.104Z"
   },
   {
    "duration": 43,
    "start_time": "2025-01-23T17:34:33.291Z"
   },
   {
    "duration": 28,
    "start_time": "2025-01-23T17:35:00.643Z"
   },
   {
    "duration": 19,
    "start_time": "2025-01-23T17:41:18.044Z"
   },
   {
    "duration": 4,
    "start_time": "2025-01-23T17:42:08.303Z"
   },
   {
    "duration": 81,
    "start_time": "2025-01-23T17:42:48.684Z"
   },
   {
    "duration": 20,
    "start_time": "2025-01-23T17:42:52.901Z"
   },
   {
    "duration": 12,
    "start_time": "2025-01-23T17:43:17.528Z"
   },
   {
    "duration": 26,
    "start_time": "2025-01-23T17:45:11.473Z"
   },
   {
    "duration": 33,
    "start_time": "2025-01-23T17:46:30.444Z"
   },
   {
    "duration": 8,
    "start_time": "2025-01-24T07:27:05.394Z"
   },
   {
    "duration": 34,
    "start_time": "2025-01-24T07:27:14.646Z"
   },
   {
    "duration": 9,
    "start_time": "2025-01-24T07:27:16.952Z"
   },
   {
    "duration": 8,
    "start_time": "2025-01-24T07:27:48.884Z"
   },
   {
    "duration": 20,
    "start_time": "2025-01-24T07:27:54.307Z"
   },
   {
    "duration": 31,
    "start_time": "2025-01-24T07:28:23.332Z"
   },
   {
    "duration": 8,
    "start_time": "2025-01-24T07:28:55.228Z"
   },
   {
    "duration": 25,
    "start_time": "2025-01-24T07:29:02.864Z"
   },
   {
    "duration": 432,
    "start_time": "2025-01-24T07:29:12.736Z"
   },
   {
    "duration": 72,
    "start_time": "2025-01-24T07:29:13.170Z"
   },
   {
    "duration": 32,
    "start_time": "2025-01-24T07:29:13.244Z"
   },
   {
    "duration": 8,
    "start_time": "2025-01-24T07:29:13.278Z"
   },
   {
    "duration": 12,
    "start_time": "2025-01-24T07:29:13.287Z"
   },
   {
    "duration": 13,
    "start_time": "2025-01-24T07:29:13.301Z"
   },
   {
    "duration": 18,
    "start_time": "2025-01-24T07:29:13.315Z"
   },
   {
    "duration": 5,
    "start_time": "2025-01-24T07:29:13.335Z"
   },
   {
    "duration": 9,
    "start_time": "2025-01-24T07:29:13.341Z"
   },
   {
    "duration": 10,
    "start_time": "2025-01-24T07:29:13.352Z"
   },
   {
    "duration": 12,
    "start_time": "2025-01-24T07:29:13.364Z"
   },
   {
    "duration": 11,
    "start_time": "2025-01-24T07:29:13.378Z"
   },
   {
    "duration": 427,
    "start_time": "2025-01-24T07:29:13.391Z"
   },
   {
    "duration": 378,
    "start_time": "2025-01-24T07:29:13.820Z"
   },
   {
    "duration": 6,
    "start_time": "2025-01-24T07:29:14.200Z"
   },
   {
    "duration": 168,
    "start_time": "2025-01-24T07:29:14.208Z"
   },
   {
    "duration": 6,
    "start_time": "2025-01-24T07:29:14.378Z"
   },
   {
    "duration": 5,
    "start_time": "2025-01-24T07:29:14.385Z"
   },
   {
    "duration": 12,
    "start_time": "2025-01-24T07:29:14.392Z"
   },
   {
    "duration": 26,
    "start_time": "2025-01-24T07:29:14.405Z"
   },
   {
    "duration": 37,
    "start_time": "2025-01-24T07:29:14.433Z"
   },
   {
    "duration": 9,
    "start_time": "2025-01-24T07:29:14.472Z"
   },
   {
    "duration": 6,
    "start_time": "2025-01-24T07:29:14.483Z"
   },
   {
    "duration": 155,
    "start_time": "2025-01-24T07:29:14.491Z"
   },
   {
    "duration": 207,
    "start_time": "2025-01-24T07:29:14.648Z"
   },
   {
    "duration": 6,
    "start_time": "2025-01-24T07:29:14.857Z"
   },
   {
    "duration": 144,
    "start_time": "2025-01-24T07:29:14.864Z"
   },
   {
    "duration": 162,
    "start_time": "2025-01-24T07:29:15.011Z"
   },
   {
    "duration": 5,
    "start_time": "2025-01-24T07:29:15.175Z"
   },
   {
    "duration": 50,
    "start_time": "2025-01-24T07:29:15.181Z"
   },
   {
    "duration": 20,
    "start_time": "2025-01-24T07:29:15.233Z"
   },
   {
    "duration": 6,
    "start_time": "2025-01-24T07:31:12.591Z"
   },
   {
    "duration": 20,
    "start_time": "2025-01-24T07:31:26.159Z"
   },
   {
    "duration": 81,
    "start_time": "2025-01-24T07:32:19.557Z"
   },
   {
    "duration": 12,
    "start_time": "2025-01-24T07:33:49.540Z"
   },
   {
    "duration": 2,
    "start_time": "2025-01-24T07:34:00.748Z"
   },
   {
    "duration": 391,
    "start_time": "2025-01-24T07:34:07.575Z"
   },
   {
    "duration": 73,
    "start_time": "2025-01-24T07:34:07.968Z"
   },
   {
    "duration": 35,
    "start_time": "2025-01-24T07:34:08.042Z"
   },
   {
    "duration": 7,
    "start_time": "2025-01-24T07:34:08.079Z"
   },
   {
    "duration": 9,
    "start_time": "2025-01-24T07:34:08.089Z"
   },
   {
    "duration": 7,
    "start_time": "2025-01-24T07:34:08.099Z"
   },
   {
    "duration": 7,
    "start_time": "2025-01-24T07:34:08.129Z"
   },
   {
    "duration": 8,
    "start_time": "2025-01-24T07:34:08.138Z"
   },
   {
    "duration": 21,
    "start_time": "2025-01-24T07:34:08.147Z"
   },
   {
    "duration": 8,
    "start_time": "2025-01-24T07:34:08.170Z"
   },
   {
    "duration": 33,
    "start_time": "2025-01-24T07:34:08.179Z"
   },
   {
    "duration": 11,
    "start_time": "2025-01-24T07:34:08.214Z"
   },
   {
    "duration": 437,
    "start_time": "2025-01-24T07:34:08.227Z"
   },
   {
    "duration": 387,
    "start_time": "2025-01-24T07:34:08.667Z"
   },
   {
    "duration": 6,
    "start_time": "2025-01-24T07:34:09.056Z"
   },
   {
    "duration": 171,
    "start_time": "2025-01-24T07:34:09.064Z"
   },
   {
    "duration": 6,
    "start_time": "2025-01-24T07:34:09.237Z"
   },
   {
    "duration": 4,
    "start_time": "2025-01-24T07:34:09.245Z"
   },
   {
    "duration": 9,
    "start_time": "2025-01-24T07:34:09.251Z"
   },
   {
    "duration": 11,
    "start_time": "2025-01-24T07:34:09.262Z"
   },
   {
    "duration": 36,
    "start_time": "2025-01-24T07:34:09.275Z"
   },
   {
    "duration": 9,
    "start_time": "2025-01-24T07:34:09.331Z"
   },
   {
    "duration": 14,
    "start_time": "2025-01-24T07:34:09.342Z"
   },
   {
    "duration": 147,
    "start_time": "2025-01-24T07:34:09.358Z"
   },
   {
    "duration": 198,
    "start_time": "2025-01-24T07:34:09.507Z"
   },
   {
    "duration": 6,
    "start_time": "2025-01-24T07:34:09.707Z"
   },
   {
    "duration": 189,
    "start_time": "2025-01-24T07:34:09.715Z"
   },
   {
    "duration": 151,
    "start_time": "2025-01-24T07:34:09.906Z"
   },
   {
    "duration": 5,
    "start_time": "2025-01-24T07:34:10.058Z"
   },
   {
    "duration": 43,
    "start_time": "2025-01-24T07:34:10.065Z"
   },
   {
    "duration": 24,
    "start_time": "2025-01-24T07:34:10.109Z"
   },
   {
    "duration": 6,
    "start_time": "2025-01-24T07:34:10.135Z"
   },
   {
    "duration": 22,
    "start_time": "2025-01-24T07:34:17.396Z"
   },
   {
    "duration": 441,
    "start_time": "2025-01-24T07:35:29.228Z"
   },
   {
    "duration": 72,
    "start_time": "2025-01-24T07:35:29.671Z"
   },
   {
    "duration": 36,
    "start_time": "2025-01-24T07:35:29.744Z"
   },
   {
    "duration": 7,
    "start_time": "2025-01-24T07:35:29.782Z"
   },
   {
    "duration": 35,
    "start_time": "2025-01-24T07:35:29.791Z"
   },
   {
    "duration": 20,
    "start_time": "2025-01-24T07:35:29.827Z"
   },
   {
    "duration": 7,
    "start_time": "2025-01-24T07:35:29.849Z"
   },
   {
    "duration": 16,
    "start_time": "2025-01-24T07:35:29.857Z"
   },
   {
    "duration": 13,
    "start_time": "2025-01-24T07:35:29.874Z"
   },
   {
    "duration": 15,
    "start_time": "2025-01-24T07:35:29.889Z"
   },
   {
    "duration": 20,
    "start_time": "2025-01-24T07:35:29.905Z"
   },
   {
    "duration": 14,
    "start_time": "2025-01-24T07:35:29.927Z"
   },
   {
    "duration": 421,
    "start_time": "2025-01-24T07:35:29.942Z"
   },
   {
    "duration": 393,
    "start_time": "2025-01-24T07:35:30.365Z"
   },
   {
    "duration": 7,
    "start_time": "2025-01-24T07:35:30.760Z"
   },
   {
    "duration": 175,
    "start_time": "2025-01-24T07:35:30.769Z"
   },
   {
    "duration": 6,
    "start_time": "2025-01-24T07:35:30.946Z"
   },
   {
    "duration": 60,
    "start_time": "2025-01-24T07:35:30.954Z"
   },
   {
    "duration": 42,
    "start_time": "2025-01-24T07:35:31.016Z"
   },
   {
    "duration": 18,
    "start_time": "2025-01-24T07:35:31.060Z"
   },
   {
    "duration": 53,
    "start_time": "2025-01-24T07:35:31.079Z"
   },
   {
    "duration": 10,
    "start_time": "2025-01-24T07:35:31.134Z"
   },
   {
    "duration": 16,
    "start_time": "2025-01-24T07:35:31.146Z"
   },
   {
    "duration": 145,
    "start_time": "2025-01-24T07:35:31.164Z"
   },
   {
    "duration": 186,
    "start_time": "2025-01-24T07:35:31.311Z"
   },
   {
    "duration": 5,
    "start_time": "2025-01-24T07:35:31.499Z"
   },
   {
    "duration": 143,
    "start_time": "2025-01-24T07:35:31.506Z"
   },
   {
    "duration": 155,
    "start_time": "2025-01-24T07:35:31.652Z"
   },
   {
    "duration": 5,
    "start_time": "2025-01-24T07:35:31.808Z"
   },
   {
    "duration": 108,
    "start_time": "2025-01-24T07:35:31.815Z"
   },
   {
    "duration": 26,
    "start_time": "2025-01-24T07:35:31.925Z"
   },
   {
    "duration": 394,
    "start_time": "2025-01-24T07:35:55.987Z"
   },
   {
    "duration": 71,
    "start_time": "2025-01-24T07:35:56.383Z"
   },
   {
    "duration": 34,
    "start_time": "2025-01-24T07:35:56.456Z"
   },
   {
    "duration": 8,
    "start_time": "2025-01-24T07:35:56.492Z"
   },
   {
    "duration": 11,
    "start_time": "2025-01-24T07:35:56.501Z"
   },
   {
    "duration": 20,
    "start_time": "2025-01-24T07:35:56.513Z"
   },
   {
    "duration": 8,
    "start_time": "2025-01-24T07:35:56.535Z"
   },
   {
    "duration": 11,
    "start_time": "2025-01-24T07:35:56.544Z"
   },
   {
    "duration": 8,
    "start_time": "2025-01-24T07:35:56.557Z"
   },
   {
    "duration": 10,
    "start_time": "2025-01-24T07:35:56.567Z"
   },
   {
    "duration": 6,
    "start_time": "2025-01-24T07:35:56.579Z"
   },
   {
    "duration": 11,
    "start_time": "2025-01-24T07:35:56.587Z"
   },
   {
    "duration": 444,
    "start_time": "2025-01-24T07:35:56.600Z"
   },
   {
    "duration": 381,
    "start_time": "2025-01-24T07:35:57.046Z"
   },
   {
    "duration": 6,
    "start_time": "2025-01-24T07:35:57.430Z"
   },
   {
    "duration": 170,
    "start_time": "2025-01-24T07:35:57.437Z"
   },
   {
    "duration": 6,
    "start_time": "2025-01-24T07:35:57.609Z"
   },
   {
    "duration": 16,
    "start_time": "2025-01-24T07:35:57.617Z"
   },
   {
    "duration": 6,
    "start_time": "2025-01-24T07:35:57.634Z"
   },
   {
    "duration": 18,
    "start_time": "2025-01-24T07:35:57.641Z"
   },
   {
    "duration": 35,
    "start_time": "2025-01-24T07:35:57.661Z"
   },
   {
    "duration": 10,
    "start_time": "2025-01-24T07:35:57.697Z"
   },
   {
    "duration": 38,
    "start_time": "2025-01-24T07:35:57.709Z"
   },
   {
    "duration": 147,
    "start_time": "2025-01-24T07:35:57.749Z"
   },
   {
    "duration": 197,
    "start_time": "2025-01-24T07:35:57.897Z"
   },
   {
    "duration": 6,
    "start_time": "2025-01-24T07:35:58.095Z"
   },
   {
    "duration": 146,
    "start_time": "2025-01-24T07:35:58.102Z"
   },
   {
    "duration": 175,
    "start_time": "2025-01-24T07:35:58.251Z"
   },
   {
    "duration": 5,
    "start_time": "2025-01-24T07:35:58.430Z"
   },
   {
    "duration": 34,
    "start_time": "2025-01-24T07:35:58.437Z"
   },
   {
    "duration": 26,
    "start_time": "2025-01-24T07:35:58.472Z"
   },
   {
    "duration": 441,
    "start_time": "2025-01-24T07:37:21.695Z"
   },
   {
    "duration": 71,
    "start_time": "2025-01-24T07:37:22.138Z"
   },
   {
    "duration": 33,
    "start_time": "2025-01-24T07:37:22.211Z"
   },
   {
    "duration": 7,
    "start_time": "2025-01-24T07:37:22.246Z"
   },
   {
    "duration": 28,
    "start_time": "2025-01-24T07:37:22.255Z"
   },
   {
    "duration": 25,
    "start_time": "2025-01-24T07:37:22.284Z"
   },
   {
    "duration": 24,
    "start_time": "2025-01-24T07:37:22.311Z"
   },
   {
    "duration": 10,
    "start_time": "2025-01-24T07:37:22.337Z"
   },
   {
    "duration": 21,
    "start_time": "2025-01-24T07:37:22.351Z"
   },
   {
    "duration": 12,
    "start_time": "2025-01-24T07:37:22.375Z"
   },
   {
    "duration": 14,
    "start_time": "2025-01-24T07:37:22.388Z"
   },
   {
    "duration": 20,
    "start_time": "2025-01-24T07:37:22.403Z"
   },
   {
    "duration": 431,
    "start_time": "2025-01-24T07:37:22.425Z"
   },
   {
    "duration": 382,
    "start_time": "2025-01-24T07:37:22.857Z"
   },
   {
    "duration": 6,
    "start_time": "2025-01-24T07:37:23.241Z"
   },
   {
    "duration": 173,
    "start_time": "2025-01-24T07:37:23.249Z"
   },
   {
    "duration": 11,
    "start_time": "2025-01-24T07:37:23.423Z"
   },
   {
    "duration": 12,
    "start_time": "2025-01-24T07:37:23.435Z"
   },
   {
    "duration": 16,
    "start_time": "2025-01-24T07:37:23.449Z"
   },
   {
    "duration": 10,
    "start_time": "2025-01-24T07:37:23.467Z"
   },
   {
    "duration": 47,
    "start_time": "2025-01-24T07:37:23.479Z"
   },
   {
    "duration": 10,
    "start_time": "2025-01-24T07:37:23.528Z"
   },
   {
    "duration": 8,
    "start_time": "2025-01-24T07:37:23.540Z"
   },
   {
    "duration": 153,
    "start_time": "2025-01-24T07:37:23.550Z"
   },
   {
    "duration": 201,
    "start_time": "2025-01-24T07:37:23.705Z"
   },
   {
    "duration": 6,
    "start_time": "2025-01-24T07:37:23.907Z"
   },
   {
    "duration": 143,
    "start_time": "2025-01-24T07:37:23.915Z"
   },
   {
    "duration": 160,
    "start_time": "2025-01-24T07:37:24.061Z"
   },
   {
    "duration": 9,
    "start_time": "2025-01-24T07:37:24.223Z"
   },
   {
    "duration": 42,
    "start_time": "2025-01-24T07:37:24.234Z"
   },
   {
    "duration": 25,
    "start_time": "2025-01-24T07:37:24.278Z"
   },
   {
    "duration": 403,
    "start_time": "2025-01-24T07:58:07.969Z"
   },
   {
    "duration": 73,
    "start_time": "2025-01-24T07:58:08.374Z"
   },
   {
    "duration": 35,
    "start_time": "2025-01-24T07:58:08.449Z"
   },
   {
    "duration": 9,
    "start_time": "2025-01-24T07:58:08.487Z"
   },
   {
    "duration": 6,
    "start_time": "2025-01-24T07:58:08.498Z"
   },
   {
    "duration": 26,
    "start_time": "2025-01-24T07:58:08.507Z"
   },
   {
    "duration": 21,
    "start_time": "2025-01-24T07:58:08.535Z"
   },
   {
    "duration": 10,
    "start_time": "2025-01-24T07:58:08.558Z"
   },
   {
    "duration": 21,
    "start_time": "2025-01-24T07:58:08.570Z"
   },
   {
    "duration": 9,
    "start_time": "2025-01-24T07:58:08.594Z"
   },
   {
    "duration": 7,
    "start_time": "2025-01-24T07:58:08.604Z"
   },
   {
    "duration": 18,
    "start_time": "2025-01-24T07:58:08.612Z"
   },
   {
    "duration": 481,
    "start_time": "2025-01-24T07:58:08.632Z"
   },
   {
    "duration": 380,
    "start_time": "2025-01-24T07:58:09.115Z"
   },
   {
    "duration": 7,
    "start_time": "2025-01-24T07:58:09.496Z"
   },
   {
    "duration": 180,
    "start_time": "2025-01-24T07:58:09.504Z"
   },
   {
    "duration": 6,
    "start_time": "2025-01-24T07:58:09.685Z"
   },
   {
    "duration": 14,
    "start_time": "2025-01-24T07:58:09.692Z"
   },
   {
    "duration": 7,
    "start_time": "2025-01-24T07:58:09.708Z"
   },
   {
    "duration": 14,
    "start_time": "2025-01-24T07:58:09.717Z"
   },
   {
    "duration": 43,
    "start_time": "2025-01-24T07:58:09.733Z"
   },
   {
    "duration": 10,
    "start_time": "2025-01-24T07:58:09.777Z"
   },
   {
    "duration": 54,
    "start_time": "2025-01-24T07:58:09.789Z"
   },
   {
    "duration": 161,
    "start_time": "2025-01-24T07:58:09.845Z"
   },
   {
    "duration": 199,
    "start_time": "2025-01-24T07:58:10.007Z"
   },
   {
    "duration": 7,
    "start_time": "2025-01-24T07:58:10.208Z"
   },
   {
    "duration": 137,
    "start_time": "2025-01-24T07:58:10.229Z"
   },
   {
    "duration": 158,
    "start_time": "2025-01-24T07:58:10.370Z"
   },
   {
    "duration": 4,
    "start_time": "2025-01-24T07:58:10.530Z"
   },
   {
    "duration": 45,
    "start_time": "2025-01-24T07:58:10.536Z"
   },
   {
    "duration": 28,
    "start_time": "2025-01-24T07:58:10.583Z"
   },
   {
    "duration": 1420,
    "start_time": "2025-01-24T07:58:27.763Z"
   },
   {
    "duration": 397,
    "start_time": "2025-01-24T07:58:38.567Z"
   },
   {
    "duration": 73,
    "start_time": "2025-01-24T07:58:38.966Z"
   },
   {
    "duration": 33,
    "start_time": "2025-01-24T07:58:39.041Z"
   },
   {
    "duration": 8,
    "start_time": "2025-01-24T07:58:39.077Z"
   },
   {
    "duration": 10,
    "start_time": "2025-01-24T07:58:39.087Z"
   },
   {
    "duration": 31,
    "start_time": "2025-01-24T07:58:39.099Z"
   },
   {
    "duration": 6,
    "start_time": "2025-01-24T07:58:39.132Z"
   },
   {
    "duration": 5,
    "start_time": "2025-01-24T07:58:39.140Z"
   },
   {
    "duration": 7,
    "start_time": "2025-01-24T07:58:39.146Z"
   },
   {
    "duration": 8,
    "start_time": "2025-01-24T07:58:39.156Z"
   },
   {
    "duration": 6,
    "start_time": "2025-01-24T07:58:39.167Z"
   },
   {
    "duration": 16,
    "start_time": "2025-01-24T07:58:39.174Z"
   },
   {
    "duration": 984,
    "start_time": "2025-01-24T07:58:39.192Z"
   },
   {
    "duration": 406,
    "start_time": "2025-01-24T07:58:40.178Z"
   },
   {
    "duration": 6,
    "start_time": "2025-01-24T07:58:40.586Z"
   },
   {
    "duration": 168,
    "start_time": "2025-01-24T07:58:40.593Z"
   },
   {
    "duration": 6,
    "start_time": "2025-01-24T07:58:40.762Z"
   },
   {
    "duration": 10,
    "start_time": "2025-01-24T07:58:40.770Z"
   },
   {
    "duration": 6,
    "start_time": "2025-01-24T07:58:40.782Z"
   },
   {
    "duration": 5,
    "start_time": "2025-01-24T07:58:40.790Z"
   },
   {
    "duration": 54,
    "start_time": "2025-01-24T07:58:40.796Z"
   },
   {
    "duration": 9,
    "start_time": "2025-01-24T07:58:40.852Z"
   },
   {
    "duration": 17,
    "start_time": "2025-01-24T07:58:40.863Z"
   },
   {
    "duration": 150,
    "start_time": "2025-01-24T07:58:40.882Z"
   },
   {
    "duration": 200,
    "start_time": "2025-01-24T07:58:41.033Z"
   },
   {
    "duration": 5,
    "start_time": "2025-01-24T07:58:41.234Z"
   },
   {
    "duration": 145,
    "start_time": "2025-01-24T07:58:41.241Z"
   },
   {
    "duration": 160,
    "start_time": "2025-01-24T07:58:41.389Z"
   },
   {
    "duration": 5,
    "start_time": "2025-01-24T07:58:41.550Z"
   },
   {
    "duration": 43,
    "start_time": "2025-01-24T07:58:41.556Z"
   },
   {
    "duration": 43,
    "start_time": "2025-01-24T07:58:41.600Z"
   },
   {
    "duration": 480,
    "start_time": "2025-01-24T14:19:29.352Z"
   },
   {
    "duration": 124,
    "start_time": "2025-01-24T14:33:13.298Z"
   },
   {
    "duration": 28,
    "start_time": "2025-01-24T14:33:48.260Z"
   },
   {
    "duration": 1430,
    "start_time": "2025-01-24T14:34:44.453Z"
   },
   {
    "duration": 10,
    "start_time": "2025-01-24T14:36:03.001Z"
   },
   {
    "duration": 16,
    "start_time": "2025-01-24T14:37:09.150Z"
   },
   {
    "duration": 11,
    "start_time": "2025-01-24T14:37:16.736Z"
   },
   {
    "duration": 10,
    "start_time": "2025-01-24T14:37:39.311Z"
   },
   {
    "duration": 12,
    "start_time": "2025-01-24T14:38:29.644Z"
   },
   {
    "duration": 11,
    "start_time": "2025-01-24T14:48:05.416Z"
   },
   {
    "duration": 1304,
    "start_time": "2025-01-24T14:48:20.833Z"
   },
   {
    "duration": 11,
    "start_time": "2025-01-24T14:48:29.282Z"
   },
   {
    "duration": 5,
    "start_time": "2025-01-24T14:48:59.535Z"
   },
   {
    "duration": 5,
    "start_time": "2025-01-24T14:50:41.622Z"
   },
   {
    "duration": 10,
    "start_time": "2025-01-24T16:35:18.210Z"
   },
   {
    "duration": 14,
    "start_time": "2025-01-24T16:38:45.394Z"
   },
   {
    "duration": 18,
    "start_time": "2025-01-24T16:44:03.948Z"
   },
   {
    "duration": 18,
    "start_time": "2025-01-24T16:44:46.816Z"
   },
   {
    "duration": 16,
    "start_time": "2025-01-24T16:44:54.765Z"
   },
   {
    "duration": 9,
    "start_time": "2025-01-24T16:45:31.715Z"
   },
   {
    "duration": 5,
    "start_time": "2025-01-24T16:46:02.346Z"
   },
   {
    "duration": 6,
    "start_time": "2025-01-24T16:46:21.095Z"
   },
   {
    "duration": 7,
    "start_time": "2025-01-24T16:46:30.194Z"
   },
   {
    "duration": 7,
    "start_time": "2025-01-24T16:46:36.470Z"
   },
   {
    "duration": 4,
    "start_time": "2025-01-24T16:48:34.191Z"
   },
   {
    "duration": 123,
    "start_time": "2025-01-24T16:48:40.714Z"
   },
   {
    "duration": 10,
    "start_time": "2025-01-24T16:48:58.867Z"
   },
   {
    "duration": 164,
    "start_time": "2025-01-24T16:49:03.914Z"
   },
   {
    "duration": 235,
    "start_time": "2025-01-24T16:49:14.139Z"
   },
   {
    "duration": 12,
    "start_time": "2025-01-24T16:51:07.487Z"
   },
   {
    "duration": 12,
    "start_time": "2025-01-24T16:51:44.473Z"
   },
   {
    "duration": 11,
    "start_time": "2025-01-24T16:52:20.228Z"
   },
   {
    "duration": 11,
    "start_time": "2025-01-24T16:52:29.350Z"
   },
   {
    "duration": 12,
    "start_time": "2025-01-24T16:55:14.285Z"
   },
   {
    "duration": 17,
    "start_time": "2025-01-24T16:56:20.437Z"
   },
   {
    "duration": 11,
    "start_time": "2025-01-24T17:38:53.179Z"
   },
   {
    "duration": 25,
    "start_time": "2025-01-24T17:43:51.188Z"
   },
   {
    "duration": 19,
    "start_time": "2025-01-24T17:44:11.352Z"
   },
   {
    "duration": 16,
    "start_time": "2025-01-24T17:44:47.549Z"
   },
   {
    "duration": 16,
    "start_time": "2025-01-24T17:45:11.541Z"
   },
   {
    "duration": 12,
    "start_time": "2025-01-24T17:46:06.635Z"
   },
   {
    "duration": 12,
    "start_time": "2025-01-24T17:46:10.004Z"
   },
   {
    "duration": 16,
    "start_time": "2025-01-24T17:51:47.414Z"
   },
   {
    "duration": 18,
    "start_time": "2025-01-24T17:53:15.742Z"
   },
   {
    "duration": 12,
    "start_time": "2025-01-24T17:57:18.001Z"
   },
   {
    "duration": 16,
    "start_time": "2025-01-24T17:58:53.045Z"
   },
   {
    "duration": 86,
    "start_time": "2025-01-24T19:13:51.751Z"
   },
   {
    "duration": 3,
    "start_time": "2025-01-24T19:14:14.566Z"
   },
   {
    "duration": 10,
    "start_time": "2025-01-24T19:23:06.285Z"
   },
   {
    "duration": 10,
    "start_time": "2025-01-24T19:23:30.295Z"
   },
   {
    "duration": 11,
    "start_time": "2025-01-24T19:23:53.333Z"
   },
   {
    "duration": 10,
    "start_time": "2025-01-24T19:24:20.272Z"
   },
   {
    "duration": 10,
    "start_time": "2025-01-24T19:24:29.919Z"
   },
   {
    "duration": 140,
    "start_time": "2025-01-24T19:24:36.829Z"
   },
   {
    "duration": 151,
    "start_time": "2025-01-24T19:24:42.300Z"
   },
   {
    "duration": 5,
    "start_time": "2025-01-24T19:57:30.922Z"
   },
   {
    "duration": 126,
    "start_time": "2025-01-24T19:57:35.358Z"
   },
   {
    "duration": 10,
    "start_time": "2025-01-24T20:05:51.119Z"
   },
   {
    "duration": 5,
    "start_time": "2025-01-24T20:06:16.564Z"
   },
   {
    "duration": 5,
    "start_time": "2025-01-24T20:15:59.083Z"
   },
   {
    "duration": 4,
    "start_time": "2025-01-24T20:18:50.801Z"
   },
   {
    "duration": 167,
    "start_time": "2025-01-24T20:19:03.295Z"
   },
   {
    "duration": 36745,
    "start_time": "2025-01-24T20:19:52.204Z"
   },
   {
    "duration": 37013,
    "start_time": "2025-01-24T20:22:00.686Z"
   },
   {
    "duration": 36589,
    "start_time": "2025-01-24T20:24:03.970Z"
   },
   {
    "duration": 36459,
    "start_time": "2025-01-24T20:26:23.028Z"
   },
   {
    "duration": 36520,
    "start_time": "2025-01-24T20:28:20.551Z"
   },
   {
    "duration": 0,
    "start_time": "2025-01-24T20:32:30.530Z"
   },
   {
    "duration": 0,
    "start_time": "2025-01-24T20:35:17.645Z"
   },
   {
    "duration": 36,
    "start_time": "2025-01-24T20:35:43.034Z"
   },
   {
    "duration": 37197,
    "start_time": "2025-01-24T20:36:46.136Z"
   },
   {
    "duration": 36769,
    "start_time": "2025-01-24T20:38:02.411Z"
   },
   {
    "duration": 36769,
    "start_time": "2025-01-24T20:39:20.935Z"
   },
   {
    "duration": 36728,
    "start_time": "2025-01-24T20:40:28.802Z"
   },
   {
    "duration": 36194,
    "start_time": "2025-01-24T20:42:00.691Z"
   },
   {
    "duration": 36333,
    "start_time": "2025-01-24T20:42:53.207Z"
   },
   {
    "duration": 36703,
    "start_time": "2025-01-24T20:44:58.471Z"
   },
   {
    "duration": 18580,
    "start_time": "2025-01-24T20:47:48.434Z"
   },
   {
    "duration": 265,
    "start_time": "2025-01-24T20:48:23.260Z"
   },
   {
    "duration": 226,
    "start_time": "2025-01-24T20:48:30.421Z"
   },
   {
    "duration": 224,
    "start_time": "2025-01-24T20:49:16.802Z"
   },
   {
    "duration": 254,
    "start_time": "2025-01-24T20:49:50.397Z"
   },
   {
    "duration": 245,
    "start_time": "2025-01-24T20:49:58.898Z"
   },
   {
    "duration": 228,
    "start_time": "2025-01-24T20:50:12.531Z"
   },
   {
    "duration": 385,
    "start_time": "2025-01-24T20:51:58.986Z"
   },
   {
    "duration": 6,
    "start_time": "2025-01-24T20:52:50.367Z"
   },
   {
    "duration": 136,
    "start_time": "2025-01-24T20:54:50.322Z"
   },
   {
    "duration": 1830,
    "start_time": "2025-01-24T20:55:12.811Z"
   },
   {
    "duration": 1921,
    "start_time": "2025-01-24T20:55:58.738Z"
   },
   {
    "duration": 1866,
    "start_time": "2025-01-24T20:56:15.781Z"
   },
   {
    "duration": 1876,
    "start_time": "2025-01-24T20:56:26.105Z"
   },
   {
    "duration": 2024,
    "start_time": "2025-01-24T20:56:33.995Z"
   },
   {
    "duration": 372,
    "start_time": "2025-01-24T20:57:14.023Z"
   },
   {
    "duration": 537,
    "start_time": "2025-01-24T20:57:20.757Z"
   },
   {
    "duration": 530,
    "start_time": "2025-01-24T20:57:29.572Z"
   },
   {
    "duration": 743,
    "start_time": "2025-01-24T20:57:35.842Z"
   },
   {
    "duration": 3011,
    "start_time": "2025-01-24T20:57:40.688Z"
   },
   {
    "duration": 2033,
    "start_time": "2025-01-24T20:57:47.884Z"
   },
   {
    "duration": 1912,
    "start_time": "2025-01-24T20:58:47.172Z"
   },
   {
    "duration": 1889,
    "start_time": "2025-01-24T20:59:00.114Z"
   },
   {
    "duration": 1921,
    "start_time": "2025-01-24T21:02:10.132Z"
   },
   {
    "duration": 48,
    "start_time": "2025-01-25T08:46:03.415Z"
   },
   {
    "duration": 1252,
    "start_time": "2025-01-25T08:46:20.405Z"
   },
   {
    "duration": 125,
    "start_time": "2025-01-25T08:46:21.659Z"
   },
   {
    "duration": 30,
    "start_time": "2025-01-25T08:46:21.786Z"
   },
   {
    "duration": 8,
    "start_time": "2025-01-25T08:46:21.818Z"
   },
   {
    "duration": 6,
    "start_time": "2025-01-25T08:46:21.829Z"
   },
   {
    "duration": 7,
    "start_time": "2025-01-25T08:46:21.836Z"
   },
   {
    "duration": 40,
    "start_time": "2025-01-25T08:46:21.845Z"
   },
   {
    "duration": 10,
    "start_time": "2025-01-25T08:46:21.887Z"
   },
   {
    "duration": 20,
    "start_time": "2025-01-25T08:46:21.899Z"
   },
   {
    "duration": 15,
    "start_time": "2025-01-25T08:46:21.921Z"
   },
   {
    "duration": 11,
    "start_time": "2025-01-25T08:46:21.938Z"
   },
   {
    "duration": 12,
    "start_time": "2025-01-25T08:46:21.951Z"
   },
   {
    "duration": 160,
    "start_time": "2025-01-25T08:46:21.965Z"
   },
   {
    "duration": 357,
    "start_time": "2025-01-25T08:46:22.128Z"
   },
   {
    "duration": 7,
    "start_time": "2025-01-25T08:46:22.487Z"
   },
   {
    "duration": 164,
    "start_time": "2025-01-25T08:46:22.495Z"
   },
   {
    "duration": 6,
    "start_time": "2025-01-25T08:46:22.661Z"
   },
   {
    "duration": 138,
    "start_time": "2025-01-25T08:46:22.668Z"
   },
   {
    "duration": 8,
    "start_time": "2025-01-25T08:46:22.808Z"
   },
   {
    "duration": 8,
    "start_time": "2025-01-25T08:46:22.818Z"
   },
   {
    "duration": 5,
    "start_time": "2025-01-25T08:46:22.827Z"
   },
   {
    "duration": 32,
    "start_time": "2025-01-25T08:46:22.833Z"
   },
   {
    "duration": 10,
    "start_time": "2025-01-25T08:46:22.866Z"
   },
   {
    "duration": 16,
    "start_time": "2025-01-25T08:46:22.878Z"
   },
   {
    "duration": 141,
    "start_time": "2025-01-25T08:46:22.914Z"
   },
   {
    "duration": 132,
    "start_time": "2025-01-25T08:46:23.056Z"
   },
   {
    "duration": 5,
    "start_time": "2025-01-25T08:46:23.189Z"
   },
   {
    "duration": 135,
    "start_time": "2025-01-25T08:46:23.196Z"
   },
   {
    "duration": 152,
    "start_time": "2025-01-25T08:46:23.333Z"
   },
   {
    "duration": 5,
    "start_time": "2025-01-25T08:46:23.486Z"
   },
   {
    "duration": 72,
    "start_time": "2025-01-25T08:46:23.492Z"
   },
   {
    "duration": 26,
    "start_time": "2025-01-25T08:46:23.565Z"
   },
   {
    "duration": 18,
    "start_time": "2025-01-25T08:46:23.593Z"
   },
   {
    "duration": 11,
    "start_time": "2025-01-25T08:46:23.613Z"
   },
   {
    "duration": 17,
    "start_time": "2025-01-25T08:46:23.626Z"
   },
   {
    "duration": 1896,
    "start_time": "2025-01-25T08:46:23.644Z"
   },
   {
    "duration": 5,
    "start_time": "2025-01-25T08:46:25.542Z"
   },
   {
    "duration": 235,
    "start_time": "2025-01-25T08:46:25.549Z"
   },
   {
    "duration": 5,
    "start_time": "2025-01-25T08:49:18.536Z"
   },
   {
    "duration": 110,
    "start_time": "2025-01-25T08:51:42.806Z"
   },
   {
    "duration": 65,
    "start_time": "2025-01-25T08:51:52.194Z"
   },
   {
    "duration": 61,
    "start_time": "2025-01-25T08:52:12.349Z"
   },
   {
    "duration": 61,
    "start_time": "2025-01-25T08:52:16.962Z"
   },
   {
    "duration": 64,
    "start_time": "2025-01-25T08:53:00.384Z"
   },
   {
    "duration": 68,
    "start_time": "2025-01-25T08:53:06.746Z"
   },
   {
    "duration": 64,
    "start_time": "2025-01-25T08:53:12.555Z"
   },
   {
    "duration": 14,
    "start_time": "2025-01-25T09:09:15.630Z"
   },
   {
    "duration": 13,
    "start_time": "2025-01-25T09:09:37.792Z"
   },
   {
    "duration": 179,
    "start_time": "2025-01-25T09:10:16.415Z"
   },
   {
    "duration": 165,
    "start_time": "2025-01-25T09:11:05.110Z"
   },
   {
    "duration": 383,
    "start_time": "2025-01-25T09:11:37.394Z"
   },
   {
    "duration": 176,
    "start_time": "2025-01-25T09:11:46.933Z"
   },
   {
    "duration": 166,
    "start_time": "2025-01-25T09:13:32.742Z"
   },
   {
    "duration": 210,
    "start_time": "2025-01-25T09:13:38.914Z"
   },
   {
    "duration": 209,
    "start_time": "2025-01-25T09:13:52.789Z"
   },
   {
    "duration": 193,
    "start_time": "2025-01-25T09:14:03.508Z"
   },
   {
    "duration": 209,
    "start_time": "2025-01-25T09:14:08.811Z"
   },
   {
    "duration": 208,
    "start_time": "2025-01-25T09:14:15.454Z"
   },
   {
    "duration": 212,
    "start_time": "2025-01-25T09:15:30.350Z"
   },
   {
    "duration": 3,
    "start_time": "2025-01-25T09:30:36.696Z"
   },
   {
    "duration": 1037,
    "start_time": "2025-01-25T09:51:35.766Z"
   },
   {
    "duration": 112,
    "start_time": "2025-01-25T09:51:36.805Z"
   },
   {
    "duration": 28,
    "start_time": "2025-01-25T09:51:36.919Z"
   },
   {
    "duration": 8,
    "start_time": "2025-01-25T09:51:36.949Z"
   },
   {
    "duration": 19,
    "start_time": "2025-01-25T09:51:36.959Z"
   },
   {
    "duration": 33,
    "start_time": "2025-01-25T09:51:36.980Z"
   },
   {
    "duration": 57,
    "start_time": "2025-01-25T09:51:37.015Z"
   },
   {
    "duration": 23,
    "start_time": "2025-01-25T09:51:37.073Z"
   },
   {
    "duration": 9,
    "start_time": "2025-01-25T09:51:37.097Z"
   },
   {
    "duration": 18,
    "start_time": "2025-01-25T09:51:37.108Z"
   },
   {
    "duration": 43,
    "start_time": "2025-01-25T09:51:37.128Z"
   },
   {
    "duration": 35,
    "start_time": "2025-01-25T09:51:37.172Z"
   },
   {
    "duration": 159,
    "start_time": "2025-01-25T09:51:37.209Z"
   },
   {
    "duration": 361,
    "start_time": "2025-01-25T09:51:37.369Z"
   },
   {
    "duration": 6,
    "start_time": "2025-01-25T09:51:37.732Z"
   },
   {
    "duration": 182,
    "start_time": "2025-01-25T09:51:37.739Z"
   },
   {
    "duration": 6,
    "start_time": "2025-01-25T09:51:37.923Z"
   },
   {
    "duration": 98,
    "start_time": "2025-01-25T09:51:37.930Z"
   },
   {
    "duration": 4,
    "start_time": "2025-01-25T09:51:38.030Z"
   },
   {
    "duration": 33,
    "start_time": "2025-01-25T09:51:38.036Z"
   },
   {
    "duration": 73,
    "start_time": "2025-01-25T09:51:38.070Z"
   },
   {
    "duration": 53,
    "start_time": "2025-01-25T09:51:38.145Z"
   },
   {
    "duration": 10,
    "start_time": "2025-01-25T09:51:38.199Z"
   },
   {
    "duration": 25,
    "start_time": "2025-01-25T09:51:38.211Z"
   },
   {
    "duration": 150,
    "start_time": "2025-01-25T09:51:38.238Z"
   },
   {
    "duration": 117,
    "start_time": "2025-01-25T09:51:38.390Z"
   },
   {
    "duration": 10,
    "start_time": "2025-01-25T09:51:38.508Z"
   },
   {
    "duration": 142,
    "start_time": "2025-01-25T09:51:38.521Z"
   },
   {
    "duration": 142,
    "start_time": "2025-01-25T09:51:38.665Z"
   },
   {
    "duration": 6,
    "start_time": "2025-01-25T09:51:38.815Z"
   },
   {
    "duration": 224,
    "start_time": "2025-01-25T09:51:38.823Z"
   },
   {
    "duration": 302,
    "start_time": "2025-01-25T09:51:39.049Z"
   },
   {
    "duration": 32,
    "start_time": "2025-01-25T09:51:39.353Z"
   },
   {
    "duration": 44,
    "start_time": "2025-01-25T09:51:39.387Z"
   },
   {
    "duration": 19,
    "start_time": "2025-01-25T09:51:39.433Z"
   },
   {
    "duration": 10,
    "start_time": "2025-01-25T09:51:39.453Z"
   },
   {
    "duration": 22,
    "start_time": "2025-01-25T09:51:39.465Z"
   },
   {
    "duration": 26,
    "start_time": "2025-01-25T09:51:39.489Z"
   },
   {
    "duration": 1766,
    "start_time": "2025-01-25T09:51:39.517Z"
   },
   {
    "duration": 6,
    "start_time": "2025-01-25T09:51:41.285Z"
   },
   {
    "duration": 233,
    "start_time": "2025-01-25T09:51:41.292Z"
   },
   {
    "duration": 1819,
    "start_time": "2025-01-25T09:52:31.159Z"
   },
   {
    "duration": 1837,
    "start_time": "2025-01-25T09:52:36.223Z"
   }
  ],
  "kernelspec": {
   "display_name": "Python 3 (ipykernel)",
   "language": "python",
   "name": "python3"
  },
  "language_info": {
   "codemirror_mode": {
    "name": "ipython",
    "version": 3
   },
   "file_extension": ".py",
   "mimetype": "text/x-python",
   "name": "python",
   "nbconvert_exporter": "python",
   "pygments_lexer": "ipython3",
   "version": "3.9.5"
  },
  "toc": {
   "base_numbering": 1,
   "nav_menu": {},
   "number_sections": true,
   "sideBar": true,
   "skip_h1_title": true,
   "title_cell": "Table of Contents",
   "title_sidebar": "Contents",
   "toc_cell": false,
   "toc_position": {},
   "toc_section_display": true,
   "toc_window_display": false
  }
 },
 "nbformat": 4,
 "nbformat_minor": 5
}
