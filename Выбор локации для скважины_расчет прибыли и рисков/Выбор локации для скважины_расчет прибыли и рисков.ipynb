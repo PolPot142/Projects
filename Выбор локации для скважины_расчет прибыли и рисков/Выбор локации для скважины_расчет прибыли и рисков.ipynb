{
 "cells": [
  {
   "cell_type": "markdown",
   "metadata": {},
   "source": [
    "# Выбор локации для скважины"
   ]
  },
  {
   "cell_type": "markdown",
   "metadata": {},
   "source": [
    "Нужно решить, где бурить новую скважину.\n",
    "\n",
    "Предоставлены пробы нефти в трёх регионах: в каждом 100 000 месторождений, где измерили качество нефти и объём её запасов. Постройте модель машинного обучения, которая поможет определить регион, где добыча принесёт наибольшую прибыль. Проанализируйте возможную прибыль и риски техникой *Bootstrap.*\n",
    "\n",
    "Шаги для выбора локации:\n",
    "\n",
    "- В избранном регионе ищут месторождения, для каждого определяют значения признаков;\n",
    "- Строят модель и оценивают объём запасов;\n",
    "- Выбирают месторождения с самым высокими оценками значений. Количество месторождений зависит от бюджета компании и стоимости разработки одной скважины;\n",
    "- Прибыль равна суммарной прибыли отобранных месторождений."
   ]
  },
  {
   "cell_type": "markdown",
   "metadata": {},
   "source": [
    "## Загрузка и подготовка данных"
   ]
  },
  {
   "cell_type": "code",
   "execution_count": 1,
   "metadata": {},
   "outputs": [],
   "source": [
    "#!pip install --upgrade scikit-learn\n",
    "#!pip install --upgrade shap matplotlib\n",
    "#!pip install shap\n",
    "#!pip install phik\n",
    "#!pip install --upgrade seaborn"
   ]
  },
  {
   "cell_type": "code",
   "execution_count": 2,
   "metadata": {},
   "outputs": [],
   "source": [
    "from scipy import stats\n",
    "import math\n",
    "\n",
    "import matplotlib.pyplot as plt\n",
    "import numpy as np\n",
    "import pandas as pd\n",
    "import seaborn as sns\n",
    "# import shap\n",
    "import os\n",
    "\n",
    "from sklearn.compose import ColumnTransformer\n",
    "from sklearn.metrics import (\n",
    "    r2_score, \n",
    "    mean_absolute_error,\n",
    "    root_mean_squared_error \n",
    ")\n",
    "from sklearn.model_selection import (\n",
    "    GridSearchCV,\n",
    "    train_test_split,\n",
    "    KFold\n",
    ")\n",
    "from sklearn.pipeline import Pipeline\n",
    "from sklearn.preprocessing import (\n",
    "    MinMaxScaler,\n",
    "    RobustScaler,\n",
    "    StandardScaler,\n",
    ")\n",
    "from sklearn.linear_model import LinearRegression\n",
    "from sklearn.impute import SimpleImputer\n",
    "from sklearn.dummy import DummyRegressor"
   ]
  },
  {
   "cell_type": "code",
   "execution_count": 3,
   "metadata": {},
   "outputs": [],
   "source": [
    "pth1 = '/datasets/geo_data_0.csv'\n",
    "pth2 = '/datasets/geo_data_1.csv'\n",
    "pth3 = '/datasets/geo_data_2.csv'\n",
    "\n",
    "if os.path.exists(pth1):\n",
    "    df_1 = pd.read_csv(pth1, index_col='id')\n",
    "else:\n",
    "    print('Something is wrong_1')\n",
    "    \n",
    "if os.path.exists(pth2):\n",
    "    df_2 = pd.read_csv(pth2, index_col='id')\n",
    "else:\n",
    "    print('Something is wrong_2')\n",
    "\n",
    "if os.path.exists(pth3):\n",
    "    df_3 = pd.read_csv(pth3, index_col='id')\n",
    "else:\n",
    "    print('Something is wrong_3')"
   ]
  },
  {
   "cell_type": "markdown",
   "metadata": {},
   "source": [
    "Условия задачи:"
   ]
  },
  {
   "cell_type": "code",
   "execution_count": 4,
   "metadata": {},
   "outputs": [],
   "source": [
    "MONEY = 1e10           # руб. Бюджет;\n",
    "PROF_PER_BARREL = 450  # руб/баррель. Прибыль с одного барреля;\n",
    "TO_BUILD = 200         # Сколько будет построено вышек;\n",
    "TO_EXPLORE = 500       # Из скольки вышек будут выбирать."
   ]
  },
  {
   "cell_type": "markdown",
   "metadata": {},
   "source": [
    "Изучим *df_1*:"
   ]
  },
  {
   "cell_type": "code",
   "execution_count": 5,
   "metadata": {},
   "outputs": [
    {
     "data": {
      "text/html": [
       "<div>\n",
       "<style scoped>\n",
       "    .dataframe tbody tr th:only-of-type {\n",
       "        vertical-align: middle;\n",
       "    }\n",
       "\n",
       "    .dataframe tbody tr th {\n",
       "        vertical-align: top;\n",
       "    }\n",
       "\n",
       "    .dataframe thead th {\n",
       "        text-align: right;\n",
       "    }\n",
       "</style>\n",
       "<table border=\"1\" class=\"dataframe\">\n",
       "  <thead>\n",
       "    <tr style=\"text-align: right;\">\n",
       "      <th></th>\n",
       "      <th>f0</th>\n",
       "      <th>f1</th>\n",
       "      <th>f2</th>\n",
       "      <th>product</th>\n",
       "    </tr>\n",
       "    <tr>\n",
       "      <th>id</th>\n",
       "      <th></th>\n",
       "      <th></th>\n",
       "      <th></th>\n",
       "      <th></th>\n",
       "    </tr>\n",
       "  </thead>\n",
       "  <tbody>\n",
       "    <tr>\n",
       "      <th>txEyH</th>\n",
       "      <td>0.705745</td>\n",
       "      <td>-0.497823</td>\n",
       "      <td>1.221170</td>\n",
       "      <td>105.280062</td>\n",
       "    </tr>\n",
       "    <tr>\n",
       "      <th>2acmU</th>\n",
       "      <td>1.334711</td>\n",
       "      <td>-0.340164</td>\n",
       "      <td>4.365080</td>\n",
       "      <td>73.037750</td>\n",
       "    </tr>\n",
       "    <tr>\n",
       "      <th>409Wp</th>\n",
       "      <td>1.022732</td>\n",
       "      <td>0.151990</td>\n",
       "      <td>1.419926</td>\n",
       "      <td>85.265647</td>\n",
       "    </tr>\n",
       "    <tr>\n",
       "      <th>iJLyR</th>\n",
       "      <td>-0.032172</td>\n",
       "      <td>0.139033</td>\n",
       "      <td>2.978566</td>\n",
       "      <td>168.620776</td>\n",
       "    </tr>\n",
       "    <tr>\n",
       "      <th>Xdl7t</th>\n",
       "      <td>1.988431</td>\n",
       "      <td>0.155413</td>\n",
       "      <td>4.751769</td>\n",
       "      <td>154.036647</td>\n",
       "    </tr>\n",
       "    <tr>\n",
       "      <th>wX4Hy</th>\n",
       "      <td>0.969570</td>\n",
       "      <td>0.489775</td>\n",
       "      <td>-0.735383</td>\n",
       "      <td>64.741541</td>\n",
       "    </tr>\n",
       "    <tr>\n",
       "      <th>tL6pL</th>\n",
       "      <td>0.645075</td>\n",
       "      <td>0.530656</td>\n",
       "      <td>1.780266</td>\n",
       "      <td>49.055285</td>\n",
       "    </tr>\n",
       "    <tr>\n",
       "      <th>BYPU6</th>\n",
       "      <td>-0.400648</td>\n",
       "      <td>0.808337</td>\n",
       "      <td>-5.624670</td>\n",
       "      <td>72.943292</td>\n",
       "    </tr>\n",
       "    <tr>\n",
       "      <th>j9Oui</th>\n",
       "      <td>0.643105</td>\n",
       "      <td>-0.551583</td>\n",
       "      <td>2.372141</td>\n",
       "      <td>113.356160</td>\n",
       "    </tr>\n",
       "    <tr>\n",
       "      <th>OLuZU</th>\n",
       "      <td>2.173381</td>\n",
       "      <td>0.563698</td>\n",
       "      <td>9.441852</td>\n",
       "      <td>127.910945</td>\n",
       "    </tr>\n",
       "  </tbody>\n",
       "</table>\n",
       "</div>"
      ],
      "text/plain": [
       "             f0        f1        f2     product\n",
       "id                                             \n",
       "txEyH  0.705745 -0.497823  1.221170  105.280062\n",
       "2acmU  1.334711 -0.340164  4.365080   73.037750\n",
       "409Wp  1.022732  0.151990  1.419926   85.265647\n",
       "iJLyR -0.032172  0.139033  2.978566  168.620776\n",
       "Xdl7t  1.988431  0.155413  4.751769  154.036647\n",
       "wX4Hy  0.969570  0.489775 -0.735383   64.741541\n",
       "tL6pL  0.645075  0.530656  1.780266   49.055285\n",
       "BYPU6 -0.400648  0.808337 -5.624670   72.943292\n",
       "j9Oui  0.643105 -0.551583  2.372141  113.356160\n",
       "OLuZU  2.173381  0.563698  9.441852  127.910945"
      ]
     },
     "execution_count": 5,
     "metadata": {},
     "output_type": "execute_result"
    }
   ],
   "source": [
    "df_1.head(10)"
   ]
  },
  {
   "cell_type": "code",
   "execution_count": 6,
   "metadata": {},
   "outputs": [
    {
     "name": "stdout",
     "output_type": "stream",
     "text": [
      "<class 'pandas.core.frame.DataFrame'>\n",
      "Index: 100000 entries, txEyH to 1CWhH\n",
      "Data columns (total 4 columns):\n",
      " #   Column   Non-Null Count   Dtype  \n",
      "---  ------   --------------   -----  \n",
      " 0   f0       100000 non-null  float64\n",
      " 1   f1       100000 non-null  float64\n",
      " 2   f2       100000 non-null  float64\n",
      " 3   product  100000 non-null  float64\n",
      "dtypes: float64(4)\n",
      "memory usage: 3.8+ MB\n"
     ]
    }
   ],
   "source": [
    "df_1.info()"
   ]
  },
  {
   "cell_type": "code",
   "execution_count": 7,
   "metadata": {},
   "outputs": [
    {
     "data": {
      "text/html": [
       "<div>\n",
       "<style scoped>\n",
       "    .dataframe tbody tr th:only-of-type {\n",
       "        vertical-align: middle;\n",
       "    }\n",
       "\n",
       "    .dataframe tbody tr th {\n",
       "        vertical-align: top;\n",
       "    }\n",
       "\n",
       "    .dataframe thead th {\n",
       "        text-align: right;\n",
       "    }\n",
       "</style>\n",
       "<table border=\"1\" class=\"dataframe\">\n",
       "  <thead>\n",
       "    <tr style=\"text-align: right;\">\n",
       "      <th></th>\n",
       "      <th>f0</th>\n",
       "      <th>f1</th>\n",
       "      <th>f2</th>\n",
       "      <th>product</th>\n",
       "    </tr>\n",
       "  </thead>\n",
       "  <tbody>\n",
       "    <tr>\n",
       "      <th>count</th>\n",
       "      <td>100000.000000</td>\n",
       "      <td>100000.000000</td>\n",
       "      <td>100000.000000</td>\n",
       "      <td>100000.000000</td>\n",
       "    </tr>\n",
       "    <tr>\n",
       "      <th>mean</th>\n",
       "      <td>0.500419</td>\n",
       "      <td>0.250143</td>\n",
       "      <td>2.502647</td>\n",
       "      <td>92.500000</td>\n",
       "    </tr>\n",
       "    <tr>\n",
       "      <th>std</th>\n",
       "      <td>0.871832</td>\n",
       "      <td>0.504433</td>\n",
       "      <td>3.248248</td>\n",
       "      <td>44.288691</td>\n",
       "    </tr>\n",
       "    <tr>\n",
       "      <th>min</th>\n",
       "      <td>-1.408605</td>\n",
       "      <td>-0.848218</td>\n",
       "      <td>-12.088328</td>\n",
       "      <td>0.000000</td>\n",
       "    </tr>\n",
       "    <tr>\n",
       "      <th>25%</th>\n",
       "      <td>-0.072580</td>\n",
       "      <td>-0.200881</td>\n",
       "      <td>0.287748</td>\n",
       "      <td>56.497507</td>\n",
       "    </tr>\n",
       "    <tr>\n",
       "      <th>50%</th>\n",
       "      <td>0.502360</td>\n",
       "      <td>0.250252</td>\n",
       "      <td>2.515969</td>\n",
       "      <td>91.849972</td>\n",
       "    </tr>\n",
       "    <tr>\n",
       "      <th>75%</th>\n",
       "      <td>1.073581</td>\n",
       "      <td>0.700646</td>\n",
       "      <td>4.715088</td>\n",
       "      <td>128.564089</td>\n",
       "    </tr>\n",
       "    <tr>\n",
       "      <th>max</th>\n",
       "      <td>2.362331</td>\n",
       "      <td>1.343769</td>\n",
       "      <td>16.003790</td>\n",
       "      <td>185.364347</td>\n",
       "    </tr>\n",
       "  </tbody>\n",
       "</table>\n",
       "</div>"
      ],
      "text/plain": [
       "                  f0             f1             f2        product\n",
       "count  100000.000000  100000.000000  100000.000000  100000.000000\n",
       "mean        0.500419       0.250143       2.502647      92.500000\n",
       "std         0.871832       0.504433       3.248248      44.288691\n",
       "min        -1.408605      -0.848218     -12.088328       0.000000\n",
       "25%        -0.072580      -0.200881       0.287748      56.497507\n",
       "50%         0.502360       0.250252       2.515969      91.849972\n",
       "75%         1.073581       0.700646       4.715088     128.564089\n",
       "max         2.362331       1.343769      16.003790     185.364347"
      ]
     },
     "execution_count": 7,
     "metadata": {},
     "output_type": "execute_result"
    }
   ],
   "source": [
    "df_1.describe()"
   ]
  },
  {
   "cell_type": "code",
   "execution_count": 8,
   "metadata": {},
   "outputs": [
    {
     "data": {
      "text/plain": [
       "0"
      ]
     },
     "execution_count": 8,
     "metadata": {},
     "output_type": "execute_result"
    }
   ],
   "source": [
    "df_1.duplicated().sum()"
   ]
  },
  {
   "cell_type": "markdown",
   "metadata": {},
   "source": [
    "Изучим *df_2*:"
   ]
  },
  {
   "cell_type": "code",
   "execution_count": 9,
   "metadata": {},
   "outputs": [
    {
     "data": {
      "text/html": [
       "<div>\n",
       "<style scoped>\n",
       "    .dataframe tbody tr th:only-of-type {\n",
       "        vertical-align: middle;\n",
       "    }\n",
       "\n",
       "    .dataframe tbody tr th {\n",
       "        vertical-align: top;\n",
       "    }\n",
       "\n",
       "    .dataframe thead th {\n",
       "        text-align: right;\n",
       "    }\n",
       "</style>\n",
       "<table border=\"1\" class=\"dataframe\">\n",
       "  <thead>\n",
       "    <tr style=\"text-align: right;\">\n",
       "      <th></th>\n",
       "      <th>f0</th>\n",
       "      <th>f1</th>\n",
       "      <th>f2</th>\n",
       "      <th>product</th>\n",
       "    </tr>\n",
       "    <tr>\n",
       "      <th>id</th>\n",
       "      <th></th>\n",
       "      <th></th>\n",
       "      <th></th>\n",
       "      <th></th>\n",
       "    </tr>\n",
       "  </thead>\n",
       "  <tbody>\n",
       "    <tr>\n",
       "      <th>kBEdx</th>\n",
       "      <td>-15.001348</td>\n",
       "      <td>-8.276000</td>\n",
       "      <td>-0.005876</td>\n",
       "      <td>3.179103</td>\n",
       "    </tr>\n",
       "    <tr>\n",
       "      <th>62mP7</th>\n",
       "      <td>14.272088</td>\n",
       "      <td>-3.475083</td>\n",
       "      <td>0.999183</td>\n",
       "      <td>26.953261</td>\n",
       "    </tr>\n",
       "    <tr>\n",
       "      <th>vyE1P</th>\n",
       "      <td>6.263187</td>\n",
       "      <td>-5.948386</td>\n",
       "      <td>5.001160</td>\n",
       "      <td>134.766305</td>\n",
       "    </tr>\n",
       "    <tr>\n",
       "      <th>KcrkZ</th>\n",
       "      <td>-13.081196</td>\n",
       "      <td>-11.506057</td>\n",
       "      <td>4.999415</td>\n",
       "      <td>137.945408</td>\n",
       "    </tr>\n",
       "    <tr>\n",
       "      <th>AHL4O</th>\n",
       "      <td>12.702195</td>\n",
       "      <td>-8.147433</td>\n",
       "      <td>5.004363</td>\n",
       "      <td>134.766305</td>\n",
       "    </tr>\n",
       "    <tr>\n",
       "      <th>HHckp</th>\n",
       "      <td>-3.327590</td>\n",
       "      <td>-2.205276</td>\n",
       "      <td>3.003647</td>\n",
       "      <td>84.038886</td>\n",
       "    </tr>\n",
       "    <tr>\n",
       "      <th>h5Ujo</th>\n",
       "      <td>-11.142655</td>\n",
       "      <td>-10.133399</td>\n",
       "      <td>4.002382</td>\n",
       "      <td>110.992147</td>\n",
       "    </tr>\n",
       "    <tr>\n",
       "      <th>muH9x</th>\n",
       "      <td>4.234715</td>\n",
       "      <td>-0.001354</td>\n",
       "      <td>2.004588</td>\n",
       "      <td>53.906522</td>\n",
       "    </tr>\n",
       "    <tr>\n",
       "      <th>YiRkx</th>\n",
       "      <td>13.355129</td>\n",
       "      <td>-0.332068</td>\n",
       "      <td>4.998647</td>\n",
       "      <td>134.766305</td>\n",
       "    </tr>\n",
       "    <tr>\n",
       "      <th>jG6Gi</th>\n",
       "      <td>1.069227</td>\n",
       "      <td>-11.025667</td>\n",
       "      <td>4.997844</td>\n",
       "      <td>137.945408</td>\n",
       "    </tr>\n",
       "  </tbody>\n",
       "</table>\n",
       "</div>"
      ],
      "text/plain": [
       "              f0         f1        f2     product\n",
       "id                                               \n",
       "kBEdx -15.001348  -8.276000 -0.005876    3.179103\n",
       "62mP7  14.272088  -3.475083  0.999183   26.953261\n",
       "vyE1P   6.263187  -5.948386  5.001160  134.766305\n",
       "KcrkZ -13.081196 -11.506057  4.999415  137.945408\n",
       "AHL4O  12.702195  -8.147433  5.004363  134.766305\n",
       "HHckp  -3.327590  -2.205276  3.003647   84.038886\n",
       "h5Ujo -11.142655 -10.133399  4.002382  110.992147\n",
       "muH9x   4.234715  -0.001354  2.004588   53.906522\n",
       "YiRkx  13.355129  -0.332068  4.998647  134.766305\n",
       "jG6Gi   1.069227 -11.025667  4.997844  137.945408"
      ]
     },
     "execution_count": 9,
     "metadata": {},
     "output_type": "execute_result"
    }
   ],
   "source": [
    "df_2.head(10)"
   ]
  },
  {
   "cell_type": "code",
   "execution_count": 10,
   "metadata": {},
   "outputs": [
    {
     "name": "stdout",
     "output_type": "stream",
     "text": [
      "<class 'pandas.core.frame.DataFrame'>\n",
      "Index: 100000 entries, kBEdx to relB0\n",
      "Data columns (total 4 columns):\n",
      " #   Column   Non-Null Count   Dtype  \n",
      "---  ------   --------------   -----  \n",
      " 0   f0       100000 non-null  float64\n",
      " 1   f1       100000 non-null  float64\n",
      " 2   f2       100000 non-null  float64\n",
      " 3   product  100000 non-null  float64\n",
      "dtypes: float64(4)\n",
      "memory usage: 3.8+ MB\n"
     ]
    }
   ],
   "source": [
    "df_2.info()"
   ]
  },
  {
   "cell_type": "code",
   "execution_count": 11,
   "metadata": {},
   "outputs": [
    {
     "data": {
      "text/html": [
       "<div>\n",
       "<style scoped>\n",
       "    .dataframe tbody tr th:only-of-type {\n",
       "        vertical-align: middle;\n",
       "    }\n",
       "\n",
       "    .dataframe tbody tr th {\n",
       "        vertical-align: top;\n",
       "    }\n",
       "\n",
       "    .dataframe thead th {\n",
       "        text-align: right;\n",
       "    }\n",
       "</style>\n",
       "<table border=\"1\" class=\"dataframe\">\n",
       "  <thead>\n",
       "    <tr style=\"text-align: right;\">\n",
       "      <th></th>\n",
       "      <th>f0</th>\n",
       "      <th>f1</th>\n",
       "      <th>f2</th>\n",
       "      <th>product</th>\n",
       "    </tr>\n",
       "  </thead>\n",
       "  <tbody>\n",
       "    <tr>\n",
       "      <th>count</th>\n",
       "      <td>100000.000000</td>\n",
       "      <td>100000.000000</td>\n",
       "      <td>100000.000000</td>\n",
       "      <td>100000.000000</td>\n",
       "    </tr>\n",
       "    <tr>\n",
       "      <th>mean</th>\n",
       "      <td>1.141296</td>\n",
       "      <td>-4.796579</td>\n",
       "      <td>2.494541</td>\n",
       "      <td>68.825000</td>\n",
       "    </tr>\n",
       "    <tr>\n",
       "      <th>std</th>\n",
       "      <td>8.965932</td>\n",
       "      <td>5.119872</td>\n",
       "      <td>1.703572</td>\n",
       "      <td>45.944423</td>\n",
       "    </tr>\n",
       "    <tr>\n",
       "      <th>min</th>\n",
       "      <td>-31.609576</td>\n",
       "      <td>-26.358598</td>\n",
       "      <td>-0.018144</td>\n",
       "      <td>0.000000</td>\n",
       "    </tr>\n",
       "    <tr>\n",
       "      <th>25%</th>\n",
       "      <td>-6.298551</td>\n",
       "      <td>-8.267985</td>\n",
       "      <td>1.000021</td>\n",
       "      <td>26.953261</td>\n",
       "    </tr>\n",
       "    <tr>\n",
       "      <th>50%</th>\n",
       "      <td>1.153055</td>\n",
       "      <td>-4.813172</td>\n",
       "      <td>2.011479</td>\n",
       "      <td>57.085625</td>\n",
       "    </tr>\n",
       "    <tr>\n",
       "      <th>75%</th>\n",
       "      <td>8.621015</td>\n",
       "      <td>-1.332816</td>\n",
       "      <td>3.999904</td>\n",
       "      <td>107.813044</td>\n",
       "    </tr>\n",
       "    <tr>\n",
       "      <th>max</th>\n",
       "      <td>29.421755</td>\n",
       "      <td>18.734063</td>\n",
       "      <td>5.019721</td>\n",
       "      <td>137.945408</td>\n",
       "    </tr>\n",
       "  </tbody>\n",
       "</table>\n",
       "</div>"
      ],
      "text/plain": [
       "                  f0             f1             f2        product\n",
       "count  100000.000000  100000.000000  100000.000000  100000.000000\n",
       "mean        1.141296      -4.796579       2.494541      68.825000\n",
       "std         8.965932       5.119872       1.703572      45.944423\n",
       "min       -31.609576     -26.358598      -0.018144       0.000000\n",
       "25%        -6.298551      -8.267985       1.000021      26.953261\n",
       "50%         1.153055      -4.813172       2.011479      57.085625\n",
       "75%         8.621015      -1.332816       3.999904     107.813044\n",
       "max        29.421755      18.734063       5.019721     137.945408"
      ]
     },
     "execution_count": 11,
     "metadata": {},
     "output_type": "execute_result"
    }
   ],
   "source": [
    "df_2.describe()"
   ]
  },
  {
   "cell_type": "code",
   "execution_count": 12,
   "metadata": {},
   "outputs": [
    {
     "data": {
      "text/plain": [
       "0"
      ]
     },
     "execution_count": 12,
     "metadata": {},
     "output_type": "execute_result"
    }
   ],
   "source": [
    "df_2.duplicated().sum()"
   ]
  },
  {
   "cell_type": "markdown",
   "metadata": {},
   "source": [
    "Изучим *df_3*:"
   ]
  },
  {
   "cell_type": "code",
   "execution_count": 13,
   "metadata": {},
   "outputs": [
    {
     "data": {
      "text/html": [
       "<div>\n",
       "<style scoped>\n",
       "    .dataframe tbody tr th:only-of-type {\n",
       "        vertical-align: middle;\n",
       "    }\n",
       "\n",
       "    .dataframe tbody tr th {\n",
       "        vertical-align: top;\n",
       "    }\n",
       "\n",
       "    .dataframe thead th {\n",
       "        text-align: right;\n",
       "    }\n",
       "</style>\n",
       "<table border=\"1\" class=\"dataframe\">\n",
       "  <thead>\n",
       "    <tr style=\"text-align: right;\">\n",
       "      <th></th>\n",
       "      <th>f0</th>\n",
       "      <th>f1</th>\n",
       "      <th>f2</th>\n",
       "      <th>product</th>\n",
       "    </tr>\n",
       "    <tr>\n",
       "      <th>id</th>\n",
       "      <th></th>\n",
       "      <th></th>\n",
       "      <th></th>\n",
       "      <th></th>\n",
       "    </tr>\n",
       "  </thead>\n",
       "  <tbody>\n",
       "    <tr>\n",
       "      <th>fwXo0</th>\n",
       "      <td>-1.146987</td>\n",
       "      <td>0.963328</td>\n",
       "      <td>-0.828965</td>\n",
       "      <td>27.758673</td>\n",
       "    </tr>\n",
       "    <tr>\n",
       "      <th>WJtFt</th>\n",
       "      <td>0.262778</td>\n",
       "      <td>0.269839</td>\n",
       "      <td>-2.530187</td>\n",
       "      <td>56.069697</td>\n",
       "    </tr>\n",
       "    <tr>\n",
       "      <th>ovLUW</th>\n",
       "      <td>0.194587</td>\n",
       "      <td>0.289035</td>\n",
       "      <td>-5.586433</td>\n",
       "      <td>62.871910</td>\n",
       "    </tr>\n",
       "    <tr>\n",
       "      <th>q6cA6</th>\n",
       "      <td>2.236060</td>\n",
       "      <td>-0.553760</td>\n",
       "      <td>0.930038</td>\n",
       "      <td>114.572842</td>\n",
       "    </tr>\n",
       "    <tr>\n",
       "      <th>WPMUX</th>\n",
       "      <td>-0.515993</td>\n",
       "      <td>1.716266</td>\n",
       "      <td>5.899011</td>\n",
       "      <td>149.600746</td>\n",
       "    </tr>\n",
       "    <tr>\n",
       "      <th>LzZXx</th>\n",
       "      <td>-0.758092</td>\n",
       "      <td>0.710691</td>\n",
       "      <td>2.585887</td>\n",
       "      <td>90.222465</td>\n",
       "    </tr>\n",
       "    <tr>\n",
       "      <th>WBHRv</th>\n",
       "      <td>-0.574891</td>\n",
       "      <td>0.317727</td>\n",
       "      <td>1.773745</td>\n",
       "      <td>45.641478</td>\n",
       "    </tr>\n",
       "    <tr>\n",
       "      <th>XO8fn</th>\n",
       "      <td>-1.906649</td>\n",
       "      <td>-2.458350</td>\n",
       "      <td>-0.177097</td>\n",
       "      <td>72.480640</td>\n",
       "    </tr>\n",
       "    <tr>\n",
       "      <th>ybmQ5</th>\n",
       "      <td>1.776292</td>\n",
       "      <td>-0.279356</td>\n",
       "      <td>3.004156</td>\n",
       "      <td>106.616832</td>\n",
       "    </tr>\n",
       "    <tr>\n",
       "      <th>OilcN</th>\n",
       "      <td>-1.214452</td>\n",
       "      <td>-0.439314</td>\n",
       "      <td>5.922514</td>\n",
       "      <td>52.954532</td>\n",
       "    </tr>\n",
       "  </tbody>\n",
       "</table>\n",
       "</div>"
      ],
      "text/plain": [
       "             f0        f1        f2     product\n",
       "id                                             \n",
       "fwXo0 -1.146987  0.963328 -0.828965   27.758673\n",
       "WJtFt  0.262778  0.269839 -2.530187   56.069697\n",
       "ovLUW  0.194587  0.289035 -5.586433   62.871910\n",
       "q6cA6  2.236060 -0.553760  0.930038  114.572842\n",
       "WPMUX -0.515993  1.716266  5.899011  149.600746\n",
       "LzZXx -0.758092  0.710691  2.585887   90.222465\n",
       "WBHRv -0.574891  0.317727  1.773745   45.641478\n",
       "XO8fn -1.906649 -2.458350 -0.177097   72.480640\n",
       "ybmQ5  1.776292 -0.279356  3.004156  106.616832\n",
       "OilcN -1.214452 -0.439314  5.922514   52.954532"
      ]
     },
     "execution_count": 13,
     "metadata": {},
     "output_type": "execute_result"
    }
   ],
   "source": [
    "df_3.head(10)"
   ]
  },
  {
   "cell_type": "code",
   "execution_count": 14,
   "metadata": {},
   "outputs": [
    {
     "name": "stdout",
     "output_type": "stream",
     "text": [
      "<class 'pandas.core.frame.DataFrame'>\n",
      "Index: 100000 entries, fwXo0 to V9kWn\n",
      "Data columns (total 4 columns):\n",
      " #   Column   Non-Null Count   Dtype  \n",
      "---  ------   --------------   -----  \n",
      " 0   f0       100000 non-null  float64\n",
      " 1   f1       100000 non-null  float64\n",
      " 2   f2       100000 non-null  float64\n",
      " 3   product  100000 non-null  float64\n",
      "dtypes: float64(4)\n",
      "memory usage: 3.8+ MB\n"
     ]
    }
   ],
   "source": [
    "df_3.info()"
   ]
  },
  {
   "cell_type": "code",
   "execution_count": 15,
   "metadata": {
    "scrolled": true
   },
   "outputs": [
    {
     "data": {
      "text/html": [
       "<div>\n",
       "<style scoped>\n",
       "    .dataframe tbody tr th:only-of-type {\n",
       "        vertical-align: middle;\n",
       "    }\n",
       "\n",
       "    .dataframe tbody tr th {\n",
       "        vertical-align: top;\n",
       "    }\n",
       "\n",
       "    .dataframe thead th {\n",
       "        text-align: right;\n",
       "    }\n",
       "</style>\n",
       "<table border=\"1\" class=\"dataframe\">\n",
       "  <thead>\n",
       "    <tr style=\"text-align: right;\">\n",
       "      <th></th>\n",
       "      <th>f0</th>\n",
       "      <th>f1</th>\n",
       "      <th>f2</th>\n",
       "      <th>product</th>\n",
       "    </tr>\n",
       "  </thead>\n",
       "  <tbody>\n",
       "    <tr>\n",
       "      <th>count</th>\n",
       "      <td>100000.000000</td>\n",
       "      <td>100000.000000</td>\n",
       "      <td>100000.000000</td>\n",
       "      <td>100000.000000</td>\n",
       "    </tr>\n",
       "    <tr>\n",
       "      <th>mean</th>\n",
       "      <td>0.002023</td>\n",
       "      <td>-0.002081</td>\n",
       "      <td>2.495128</td>\n",
       "      <td>95.000000</td>\n",
       "    </tr>\n",
       "    <tr>\n",
       "      <th>std</th>\n",
       "      <td>1.732045</td>\n",
       "      <td>1.730417</td>\n",
       "      <td>3.473445</td>\n",
       "      <td>44.749921</td>\n",
       "    </tr>\n",
       "    <tr>\n",
       "      <th>min</th>\n",
       "      <td>-8.760004</td>\n",
       "      <td>-7.084020</td>\n",
       "      <td>-11.970335</td>\n",
       "      <td>0.000000</td>\n",
       "    </tr>\n",
       "    <tr>\n",
       "      <th>25%</th>\n",
       "      <td>-1.162288</td>\n",
       "      <td>-1.174820</td>\n",
       "      <td>0.130359</td>\n",
       "      <td>59.450441</td>\n",
       "    </tr>\n",
       "    <tr>\n",
       "      <th>50%</th>\n",
       "      <td>0.009424</td>\n",
       "      <td>-0.009482</td>\n",
       "      <td>2.484236</td>\n",
       "      <td>94.925613</td>\n",
       "    </tr>\n",
       "    <tr>\n",
       "      <th>75%</th>\n",
       "      <td>1.158535</td>\n",
       "      <td>1.163678</td>\n",
       "      <td>4.858794</td>\n",
       "      <td>130.595027</td>\n",
       "    </tr>\n",
       "    <tr>\n",
       "      <th>max</th>\n",
       "      <td>7.238262</td>\n",
       "      <td>7.844801</td>\n",
       "      <td>16.739402</td>\n",
       "      <td>190.029838</td>\n",
       "    </tr>\n",
       "  </tbody>\n",
       "</table>\n",
       "</div>"
      ],
      "text/plain": [
       "                  f0             f1             f2        product\n",
       "count  100000.000000  100000.000000  100000.000000  100000.000000\n",
       "mean        0.002023      -0.002081       2.495128      95.000000\n",
       "std         1.732045       1.730417       3.473445      44.749921\n",
       "min        -8.760004      -7.084020     -11.970335       0.000000\n",
       "25%        -1.162288      -1.174820       0.130359      59.450441\n",
       "50%         0.009424      -0.009482       2.484236      94.925613\n",
       "75%         1.158535       1.163678       4.858794     130.595027\n",
       "max         7.238262       7.844801      16.739402     190.029838"
      ]
     },
     "execution_count": 15,
     "metadata": {},
     "output_type": "execute_result"
    }
   ],
   "source": [
    "df_3.describe()"
   ]
  },
  {
   "cell_type": "code",
   "execution_count": 16,
   "metadata": {},
   "outputs": [
    {
     "data": {
      "text/plain": [
       "0"
      ]
     },
     "execution_count": 16,
     "metadata": {},
     "output_type": "execute_result"
    }
   ],
   "source": [
    "df_3.duplicated().sum()"
   ]
  },
  {
   "cell_type": "code",
   "execution_count": 17,
   "metadata": {},
   "outputs": [],
   "source": [
    "#Функция построения плотности распределения величины\n",
    "def kdeplot_with_norm(df, features):\n",
    "    number_row = int(len(features)/3)\n",
    "    fig, ax = plt.subplots(nrows = number_row + 1, ncols=2, figsize=(15, 5))\n",
    "    ax = ax.flatten()\n",
    "    for i in range(len(features)):\n",
    "        sns.kdeplot(data = df, x = df[features[i]], ax=ax[i], common_norm=False, fill=True, alpha=0.7)\n",
    "        ax[i].set_title(f'Гистограмма по столбцу {features[i]}')\n",
    "        ax[i].set_xlabel('')\n",
    "  \n",
    "\n",
    "    fig.tight_layout()\n",
    "    fig.show()"
   ]
  },
  {
   "cell_type": "markdown",
   "metadata": {},
   "source": [
    "Графики по всем величинам:"
   ]
  },
  {
   "cell_type": "code",
   "execution_count": 18,
   "metadata": {},
   "outputs": [
    {
     "data": {
      "image/png": "[encoded data removed]",
      "text/plain": [
       "<Figure size 1080x360 with 4 Axes>"
      ]
     },
     "metadata": {
      "needs_background": "light"
     },
     "output_type": "display_data"
    }
   ],
   "source": [
    "features = df_1.select_dtypes(include='number').columns.tolist()\n",
    "kdeplot_with_norm(df_1, features)"
   ]
  },
  {
   "cell_type": "code",
   "execution_count": 19,
   "metadata": {},
   "outputs": [
    {
     "data": {
      "image/png": "[encoded data removed]",
      "text/plain": [
       "<Figure size 1080x360 with 4 Axes>"
      ]
     },
     "metadata": {
      "needs_background": "light"
     },
     "output_type": "display_data"
    }
   ],
   "source": [
    "kdeplot_with_norm(df_2, features)"
   ]
  },
  {
   "cell_type": "code",
   "execution_count": 20,
   "metadata": {
    "scrolled": false
   },
   "outputs": [
    {
     "data": {
      "image/png": "[encoded data removed]",
      "text/plain": [
       "<Figure size 1080x360 with 4 Axes>"
      ]
     },
     "metadata": {
      "needs_background": "light"
     },
     "output_type": "display_data"
    }
   ],
   "source": [
    "kdeplot_with_norm(df_3, features)"
   ]
  },
  {
   "cell_type": "markdown",
   "metadata": {},
   "source": [
    "Пропусков и дубликатов нет. Все признаки имеют свое распределение. Данные синтетические, поэтому такая форма получившихся графиков."
   ]
  },
  {
   "cell_type": "markdown",
   "metadata": {},
   "source": [
    "Корреляционный анализ:"
   ]
  },
  {
   "cell_type": "code",
   "execution_count": 21,
   "metadata": {},
   "outputs": [
    {
     "data": {
      "image/png": "[encoded data removed]",
      "text/plain": [
       "<Figure size 864x576 with 2 Axes>"
      ]
     },
     "metadata": {
      "needs_background": "light"
     },
     "output_type": "display_data"
    }
   ],
   "source": [
    "plt.figure(figsize=(12, 8))\n",
    "sns.heatmap(df_1.corr(), annot=True, cmap=\"coolwarm\",fmt='.2f');\n",
    "plt.title(\"Корреляционная матрица количественных признаков по региону 1\")\n",
    "plt.show()"
   ]
  },
  {
   "cell_type": "markdown",
   "metadata": {},
   "source": [
    "Признаки связаны с целевым, без аномалий."
   ]
  },
  {
   "cell_type": "code",
   "execution_count": 22,
   "metadata": {},
   "outputs": [
    {
     "data": {
      "image/png": "[encoded data removed]",
      "text/plain": [
       "<Figure size 864x576 with 2 Axes>"
      ]
     },
     "metadata": {
      "needs_background": "light"
     },
     "output_type": "display_data"
    }
   ],
   "source": [
    "plt.figure(figsize=(12, 8))\n",
    "sns.heatmap(df_2.corr(), annot=True, cmap=\"coolwarm\",fmt='.2f');\n",
    "plt.title(\"Корреляционная матрица количественных признаков по региону 2\")\n",
    "plt.show()"
   ]
  },
  {
   "cell_type": "markdown",
   "metadata": {},
   "source": [
    "Входной признак `f2` и `product` линейно связаны. А остальные признаки вообще не коррелируют."
   ]
  },
  {
   "cell_type": "code",
   "execution_count": 23,
   "metadata": {},
   "outputs": [
    {
     "data": {
      "image/png": "[encoded data removed]",
      "text/plain": [
       "<Figure size 432x288 with 1 Axes>"
      ]
     },
     "metadata": {
      "needs_background": "light"
     },
     "output_type": "display_data"
    }
   ],
   "source": [
    "sns.scatterplot(x=df_2['f2'], y=df_2['product'])\n",
    "plt.title('Связь целевого признака и входного признака \"f2\"')\n",
    "plt.grid(True)\n",
    "plt.show()"
   ]
  },
  {
   "cell_type": "markdown",
   "metadata": {},
   "source": []
  },
  {
   "cell_type": "code",
   "execution_count": 24,
   "metadata": {
    "scrolled": false
   },
   "outputs": [
    {
     "data": {
      "image/png": "[encoded data removed]",
      "text/plain": [
       "<Figure size 864x576 with 2 Axes>"
      ]
     },
     "metadata": {
      "needs_background": "light"
     },
     "output_type": "display_data"
    }
   ],
   "source": [
    "plt.figure(figsize=(12, 8))\n",
    "sns.heatmap(df_3.corr(), annot=True, cmap=\"coolwarm\",fmt='.2f');\n",
    "plt.title(\"Корреляционная матрица количественных признаков по региону 3\")\n",
    "plt.show()"
   ]
  },
  {
   "cell_type": "markdown",
   "metadata": {},
   "source": [
    "С целевым признаком связан только признак `f2`."
   ]
  },
  {
   "cell_type": "markdown",
   "metadata": {},
   "source": [
    "## Обучение и проверка модели"
   ]
  },
  {
   "cell_type": "markdown",
   "metadata": {},
   "source": [
    "Напишем пайплайн и обучим по модели на каждый регион:"
   ]
  },
  {
   "cell_type": "markdown",
   "metadata": {},
   "source": [
    "df_1:"
   ]
  },
  {
   "cell_type": "code",
   "execution_count": 25,
   "metadata": {},
   "outputs": [],
   "source": [
    "X = df_1.drop('product', axis=1)\n",
    "y = df_1['product']\n",
    "X_train, X_test, y_train, y_test_1 = train_test_split(X, y, test_size = 0.25, random_state = 1)"
   ]
  },
  {
   "cell_type": "code",
   "execution_count": 26,
   "metadata": {},
   "outputs": [],
   "source": [
    "num_col_names = X_train.columns.tolist()\n",
    "num_pipe = Pipeline([('scaler', StandardScaler())])"
   ]
  },
  {
   "cell_type": "code",
   "execution_count": 27,
   "metadata": {},
   "outputs": [],
   "source": [
    "data_preprocessor = ColumnTransformer([('num', num_pipe, num_col_names)])\n",
    "\n",
    "\n",
    "pipe_final = Pipeline([\n",
    "    ('preprocessor', data_preprocessor),\n",
    "    ('models', LinearRegression())\n",
    "])\n",
    "\n",
    "param_grid = [\n",
    "    {\n",
    "        'models': [LinearRegression()],\n",
    "        'preprocessor__num__scaler': [StandardScaler(), MinMaxScaler(), RobustScaler(), 'passthrough']\n",
    "    }\n",
    "]\n",
    "\n",
    "cv = KFold(n_splits=5, shuffle=True, random_state=1)\n",
    "\n",
    "grid_1 = GridSearchCV(\n",
    "    pipe_final, \n",
    "    param_grid=param_grid, \n",
    "    cv=cv, \n",
    "    scoring='neg_root_mean_squared_error', \n",
    "    n_jobs=-1\n",
    ")"
   ]
  },
  {
   "cell_type": "code",
   "execution_count": 28,
   "metadata": {
    "scrolled": true
   },
   "outputs": [
    {
     "name": "stdout",
     "output_type": "stream",
     "text": [
      "Метрика RMSE лучшей модели: 37.74 тыс. баррелей\n",
      "Средний запас предсказанного сырья: 92.49 тыс. баррелей\n"
     ]
    }
   ],
   "source": [
    "grid_1.fit(X_train, y_train)\n",
    "\n",
    "y_test_pred_1 = grid_1.best_estimator_.predict(X_test)\n",
    "\n",
    "print(f'Метрика RMSE лучшей модели: {root_mean_squared_error(y_test_1, y_test_pred_1):.2f} тыс. баррелей')\n",
    "print(f'Средний запас предсказанного сырья: {y_test_pred_1.mean():.2f} тыс. баррелей')"
   ]
  },
  {
   "cell_type": "markdown",
   "metadata": {},
   "source": [
    "df_2:"
   ]
  },
  {
   "cell_type": "code",
   "execution_count": 29,
   "metadata": {},
   "outputs": [],
   "source": [
    "X = df_2.drop('product', axis=1)\n",
    "y = df_2['product']\n",
    "X_train, X_test, y_train, y_test_2 = train_test_split(X, y, test_size = 0.25, random_state = 1)"
   ]
  },
  {
   "cell_type": "code",
   "execution_count": 30,
   "metadata": {},
   "outputs": [],
   "source": [
    "grid_2 = GridSearchCV(\n",
    "    pipe_final, \n",
    "    param_grid=param_grid, \n",
    "    cv=cv, \n",
    "    scoring='neg_root_mean_squared_error', \n",
    "    n_jobs=-1\n",
    ")"
   ]
  },
  {
   "cell_type": "code",
   "execution_count": 31,
   "metadata": {},
   "outputs": [
    {
     "name": "stdout",
     "output_type": "stream",
     "text": [
      "Метрика RMSE лучшей модели: 0.89 тыс. баррелей\n",
      "Средний запас предсказанного сырья: 69.12 тыс. баррелей\n"
     ]
    }
   ],
   "source": [
    "grid_2.fit(X_train, y_train)\n",
    "\n",
    "y_test_pred_2 = grid_2.best_estimator_.predict(X_test)\n",
    "\n",
    "print(f'Метрика RMSE лучшей модели: {root_mean_squared_error(y_test_2, y_test_pred_2):.2f} тыс. баррелей')\n",
    "print(f'Средний запас предсказанного сырья: {y_test_pred_2.mean():.2f} тыс. баррелей')"
   ]
  },
  {
   "cell_type": "markdown",
   "metadata": {},
   "source": [
    "df_3:"
   ]
  },
  {
   "cell_type": "code",
   "execution_count": 32,
   "metadata": {},
   "outputs": [],
   "source": [
    "X = df_3.drop('product', axis=1)\n",
    "y = df_3['product']\n",
    "X_train, X_test, y_train, y_test_3 = train_test_split(X, y, test_size = 0.25, random_state = 1)"
   ]
  },
  {
   "cell_type": "code",
   "execution_count": 33,
   "metadata": {},
   "outputs": [],
   "source": [
    "grid_3 = GridSearchCV(\n",
    "    pipe_final, \n",
    "    param_grid=param_grid, \n",
    "    cv=cv, \n",
    "    scoring='neg_root_mean_squared_error', \n",
    "    n_jobs=-1\n",
    ")"
   ]
  },
  {
   "cell_type": "code",
   "execution_count": 34,
   "metadata": {},
   "outputs": [
    {
     "name": "stdout",
     "output_type": "stream",
     "text": [
      "Метрика RMSE лучшей модели: 39.87 тыс. баррелей\n",
      "Средний запас предсказанного сырья: 94.96 тыс. баррелей\n"
     ]
    }
   ],
   "source": [
    "grid_3.fit(X_train, y_train)\n",
    "\n",
    "y_test_pred_3 = grid_3.best_estimator_.predict(X_test)\n",
    "\n",
    "print(f'Метрика RMSE лучшей модели: {root_mean_squared_error(y_test_3, y_test_pred_3):.2f} тыс. баррелей')\n",
    "print(f'Средний запас предсказанного сырья: {y_test_pred_3.mean():.2f} тыс. баррелей')"
   ]
  },
  {
   "cell_type": "markdown",
   "metadata": {},
   "source": [
    "Наибольший средний запас предсказанного сырья находится в регионе 3 - 94.96 тыс. баррелей. Далее регион 1 - 92.49 тыс. баррелей. Меньше всего в регионе 2 - 69.12 тыс. баррелей."
   ]
  },
  {
   "cell_type": "markdown",
   "metadata": {},
   "source": [
    "## Подготовка к расчёту прибыли"
   ]
  },
  {
   "cell_type": "code",
   "execution_count": 35,
   "metadata": {},
   "outputs": [],
   "source": [
    "#Приведем данные к типу pandas:\n",
    "pred_1 = pd.Series(y_test_pred_1)\n",
    "pred_2 = pd.Series(y_test_pred_2)\n",
    "pred_3 = pd.Series(y_test_pred_3)"
   ]
  },
  {
   "cell_type": "code",
   "execution_count": 36,
   "metadata": {},
   "outputs": [],
   "source": [
    "#Создадим новый датафрейм из истинных и предсказанных значений:\n",
    "truepred_1 = pd.DataFrame({\n",
    "    'pred': pred_1.values,  \n",
    "    'true': y_test_1})\n",
    "truepred_2 = pd.DataFrame({\n",
    "    'pred': pred_2.values,  \n",
    "    'true': y_test_2})\n",
    "truepred_3 = pd.DataFrame({\n",
    "    'pred': pred_3.values,  \n",
    "    'true': y_test_3})"
   ]
  },
  {
   "cell_type": "markdown",
   "metadata": {},
   "source": [
    "Рассчитаем объем сырья для безубыточного производства:"
   ]
  },
  {
   "cell_type": "code",
   "execution_count": 37,
   "metadata": {},
   "outputs": [
    {
     "name": "stdout",
     "output_type": "stream",
     "text": [
      "Безубыточный объем: 22222.22 тыс. баррелей\n"
     ]
    }
   ],
   "source": [
    "profitable_volume = MONEY / (PROF_PER_BARREL * 1000)  # тыс. баррелей\n",
    "\n",
    "print(f\"Безубыточный объем: {profitable_volume:.2f} тыс. баррелей\")"
   ]
  },
  {
   "cell_type": "code",
   "execution_count": 38,
   "metadata": {},
   "outputs": [
    {
     "name": "stdout",
     "output_type": "stream",
     "text": [
      "Минимальный средний объем производства каждой их 200 скважин: 111.11 тыс. баррелей\n"
     ]
    }
   ],
   "source": [
    "print(f'Минимальный средний объем производства каждой их 200 скважин: {(profitable_volume / TO_BUILD):.2f} тыс. баррелей')"
   ]
  },
  {
   "cell_type": "markdown",
   "metadata": {},
   "source": [
    "Минимальный средний объем производства каждой их 200 построенных скважин должен быть равен 111.11 тыс. баррелей."
   ]
  },
  {
   "cell_type": "markdown",
   "metadata": {},
   "source": [
    "## Расчёт прибыли и рисков "
   ]
  },
  {
   "cell_type": "code",
   "execution_count": 39,
   "metadata": {},
   "outputs": [],
   "source": [
    "#Функция по расчету прибыли\n",
    "def profit(df):\n",
    "    sum_prod = df.sort_values(by='pred', ascending=False)['true'][:TO_BUILD].sum()\n",
    "    sum_profit = PROF_PER_BARREL*sum_prod*1000 - MONEY\n",
    "    return sum_profit    "
   ]
  },
  {
   "cell_type": "code",
   "execution_count": 40,
   "metadata": {
    "scrolled": false
   },
   "outputs": [
    {
     "name": "stdout",
     "output_type": "stream",
     "text": [
      "Чистая прибыль в регионе 1: 3.261 млрд. руб.\n",
      "Чистая прибыль в регионе 2: 2.415 млрд. руб.\n",
      "Чистая прибыль в регионе 3: 2.563 млрд. руб.\n"
     ]
    }
   ],
   "source": [
    "print(f'Чистая прибыль в регионе 1: {profit(truepred_1)/1e9:.4} млрд. руб.')\n",
    "print(f'Чистая прибыль в регионе 2: {profit(truepred_2)/1e9:.4} млрд. руб.')\n",
    "print(f'Чистая прибыль в регионе 3: {profit(truepred_3)/1e9:.4} млрд. руб.')"
   ]
  },
  {
   "cell_type": "code",
   "execution_count": 41,
   "metadata": {},
   "outputs": [],
   "source": [
    "def bootstrap(df):\n",
    "    state = np.random.RandomState(12345)\n",
    "\n",
    "    values = []\n",
    "    for i in range(1000):\n",
    "        true_subsample = df['true'].sample(n=TO_EXPLORE, replace=True, random_state=state)\n",
    "        \n",
    "        values.append(profit(df.loc[true_subsample.index]))\n",
    "\n",
    "    values = pd.Series(values)\n",
    "    print(f'Чистая прибыль: {(values.mean())/1e9:.4} млрд. руб.')\n",
    "    print(f\"95% доверительный интервал: [{values.quantile(0.025)/1e9:.2f}, {values.quantile(0.975)/1e9:.2f}] млрд. руб.\")\n",
    "    print(f'Вероятность убытков: {(values<0).mean():.2%}')"
   ]
  },
  {
   "cell_type": "code",
   "execution_count": 42,
   "metadata": {},
   "outputs": [
    {
     "name": "stdout",
     "output_type": "stream",
     "text": [
      "Первый регион:\n",
      "Чистая прибыль: 0.4346 млрд. руб.\n",
      "95% доверительный интервал: [-0.08, 0.97] млрд. руб.\n",
      "Вероятность убытков: 5.90%\n"
     ]
    }
   ],
   "source": [
    "print('Первый регион:')\n",
    "bootstrap(truepred_1)"
   ]
  },
  {
   "cell_type": "code",
   "execution_count": 43,
   "metadata": {},
   "outputs": [
    {
     "name": "stdout",
     "output_type": "stream",
     "text": [
      "Второй регион:\n",
      "Чистая прибыль: 0.4744 млрд. руб.\n",
      "95% доверительный интервал: [0.06, 0.86] млрд. руб.\n",
      "Вероятность убытков: 1.00%\n"
     ]
    }
   ],
   "source": [
    "print('Второй регион:')\n",
    "bootstrap(truepred_2)"
   ]
  },
  {
   "cell_type": "code",
   "execution_count": 44,
   "metadata": {
    "scrolled": true
   },
   "outputs": [
    {
     "name": "stdout",
     "output_type": "stream",
     "text": [
      "Третий регион:\n",
      "Чистая прибыль: 0.3999 млрд. руб.\n",
      "95% доверительный интервал: [-0.11, 0.91] млрд. руб.\n",
      "Вероятность убытков: 7.10%\n"
     ]
    }
   ],
   "source": [
    "print('Третий регион:')\n",
    "bootstrap(truepred_3)"
   ]
  },
  {
   "cell_type": "markdown",
   "metadata": {},
   "source": [
    "- В регионе 1 вероятность убытков 5.90%\n",
    "- В регионе 2 риск убытков = 1.10%, что подоходит по условию. \n",
    "- В регионе 3 риск убытков = 7.10% <br>\n",
    "Оставлен только Регион 2. Его средняя прибыль = 0.4685 млрд. руб., причём 95 % ДИ полностью лежит выше нуля [0.06, 0.86] млрд руб с риском убытков 1.10%"
   ]
  },
  {
   "cell_type": "markdown",
   "metadata": {},
   "source": [
    "## Вывод"
   ]
  },
  {
   "cell_type": "markdown",
   "metadata": {},
   "source": [
    "1. На данных каждого региона обучено по модели. Получены предсказания объемов производства: Наибольший средний запас предсказанного сырья находится в регионе 3 - 94.96 тыс. баррелей (*RMSe* = 39.87 тыс. баррелей). Далее регион 1 - 92.49 тыс. баррелей (*RMSe* = 37.74 тыс. баррелей). Меньше всего в регионе 2 - 69.12 тыс. баррелей (*RMSe* = 0.89 тыс. баррелей).\n",
    "2. Установлено, что минимальный средний объем производства каждой их 200 построенных скважин должен быть равен 111.11 тыс. баррелей, а общем безубыточном объеме, равном 22222.22 тыс. баррелей\n",
    "3. Расчет прибыли и рисков по регионам:\n",
    "    1. Первый регион: <br>\n",
    "        Чистая прибыль: 0.4346 млрд. руб. <br>\n",
    "        95% доверительный интервал: [-0.08, 0.97] млрд. руб. <br>\n",
    "        Вероятность убытков: 5.90% <br>\n",
    "    2. Второй регион: <br>\n",
    "        Чистая прибыль: 0.4744 млрд. руб. <br>\n",
    "        95% доверительный интервал: [0.06, 0.86] млрд. руб. <br>\n",
    "        Вероятность убытков: 1.00% <br>\n",
    "    3. Третий регион: <br>\n",
    "        Чистая прибыль: 0.3999 млрд. руб. <br>\n",
    "        95% доверительный интервал: [-0.11, 0.91] млрд. руб. <br>\n",
    "        Вероятность убытков: 7.10% <br> <br>\n",
    "  - В регионе 1 и в регионе 3 риск убытков равен 5.90% и 7.10% соответственно, что не подходит по условию. Они отпадают.\n",
    "  - В регионе 2 риск убытков = 1.00%, что подоходит по условию. <br>\n",
    "\n",
    "    Оставлен только Регион 2. Его средняя прибыль = 0.4744 млрд. руб., причём 95 % ДИ полностью лежит выше нуля [0.06, 0.86] млрд руб с риском убытков 1.00%   "
   ]
  }
 ],
 "metadata": {
  "ExecuteTimeLog": [
   {
    "duration": 12,
    "start_time": "2025-03-28T16:34:30.916Z"
   },
   {
    "duration": 47,
    "start_time": "2025-04-09T01:12:40.493Z"
   },
   {
    "duration": 3,
    "start_time": "2025-04-09T01:12:43.768Z"
   },
   {
    "duration": 1380,
    "start_time": "2025-04-09T01:14:07.033Z"
   },
   {
    "duration": 28758,
    "start_time": "2025-04-09T01:17:40.169Z"
   },
   {
    "duration": 799,
    "start_time": "2025-04-09T01:18:17.817Z"
   },
   {
    "duration": 410,
    "start_time": "2025-04-09T01:18:20.993Z"
   },
   {
    "duration": 18,
    "start_time": "2025-04-09T01:18:50.688Z"
   },
   {
    "duration": 11,
    "start_time": "2025-04-09T01:19:04.238Z"
   },
   {
    "duration": 10,
    "start_time": "2025-04-09T01:19:29.209Z"
   },
   {
    "duration": 10,
    "start_time": "2025-04-09T01:19:32.488Z"
   },
   {
    "duration": 448,
    "start_time": "2025-04-09T01:20:25.890Z"
   },
   {
    "duration": 9,
    "start_time": "2025-04-09T01:20:27.264Z"
   },
   {
    "duration": 10,
    "start_time": "2025-04-09T01:20:28.442Z"
   },
   {
    "duration": 12,
    "start_time": "2025-04-09T01:20:29.204Z"
   },
   {
    "duration": 11,
    "start_time": "2025-04-09T01:20:45.419Z"
   },
   {
    "duration": 10,
    "start_time": "2025-04-09T01:20:56.248Z"
   },
   {
    "duration": 10,
    "start_time": "2025-04-09T01:21:03.606Z"
   },
   {
    "duration": 10,
    "start_time": "2025-04-09T01:21:07.863Z"
   },
   {
    "duration": 37,
    "start_time": "2025-04-09T01:21:39.542Z"
   },
   {
    "duration": 35,
    "start_time": "2025-04-09T01:22:14.169Z"
   },
   {
    "duration": 34,
    "start_time": "2025-04-09T01:22:18.411Z"
   },
   {
    "duration": 51,
    "start_time": "2025-04-09T01:22:49.064Z"
   },
   {
    "duration": 29,
    "start_time": "2025-04-09T01:22:54.404Z"
   },
   {
    "duration": 24,
    "start_time": "2025-04-09T01:27:32.688Z"
   },
   {
    "duration": 30,
    "start_time": "2025-04-09T01:27:38.752Z"
   },
   {
    "duration": 4,
    "start_time": "2025-04-09T01:28:32.857Z"
   },
   {
    "duration": 1889,
    "start_time": "2025-04-09T01:28:32.863Z"
   },
   {
    "duration": 461,
    "start_time": "2025-04-09T01:28:34.753Z"
   },
   {
    "duration": 18,
    "start_time": "2025-04-09T01:28:35.216Z"
   },
   {
    "duration": 20,
    "start_time": "2025-04-09T01:28:35.237Z"
   },
   {
    "duration": 53,
    "start_time": "2025-04-09T01:28:35.259Z"
   },
   {
    "duration": 28,
    "start_time": "2025-04-09T01:28:35.313Z"
   },
   {
    "duration": 9,
    "start_time": "2025-04-09T01:28:35.343Z"
   },
   {
    "duration": 36,
    "start_time": "2025-04-09T01:28:35.353Z"
   },
   {
    "duration": 38,
    "start_time": "2025-04-09T01:28:35.390Z"
   },
   {
    "duration": 22,
    "start_time": "2025-04-09T01:28:35.429Z"
   },
   {
    "duration": 36,
    "start_time": "2025-04-09T01:28:35.452Z"
   },
   {
    "duration": 30,
    "start_time": "2025-04-09T01:28:35.490Z"
   },
   {
    "duration": 37,
    "start_time": "2025-04-09T01:28:35.523Z"
   },
   {
    "duration": 98,
    "start_time": "2025-04-09T01:28:35.562Z"
   },
   {
    "duration": 5,
    "start_time": "2025-04-09T01:29:42.221Z"
   },
   {
    "duration": 136,
    "start_time": "2025-04-09T01:30:57.829Z"
   },
   {
    "duration": 12,
    "start_time": "2025-04-09T01:31:02.853Z"
   },
   {
    "duration": 4,
    "start_time": "2025-04-09T01:31:08.663Z"
   },
   {
    "duration": 2969,
    "start_time": "2025-04-09T01:31:08.956Z"
   },
   {
    "duration": 2916,
    "start_time": "2025-04-09T01:31:28.044Z"
   },
   {
    "duration": 3226,
    "start_time": "2025-04-09T01:31:30.962Z"
   },
   {
    "duration": 5,
    "start_time": "2025-04-09T01:50:41.426Z"
   },
   {
    "duration": 14,
    "start_time": "2025-04-09T01:54:12.641Z"
   },
   {
    "duration": 4,
    "start_time": "2025-04-09T01:54:27.650Z"
   },
   {
    "duration": 10,
    "start_time": "2025-04-09T01:59:16.529Z"
   },
   {
    "duration": 1377,
    "start_time": "2025-04-09T02:01:12.905Z"
   },
   {
    "duration": 29,
    "start_time": "2025-04-09T02:01:26.018Z"
   },
   {
    "duration": 3,
    "start_time": "2025-04-09T02:01:31.417Z"
   },
   {
    "duration": 3,
    "start_time": "2025-04-09T02:01:51.049Z"
   },
   {
    "duration": 15,
    "start_time": "2025-04-09T02:08:16.801Z"
   },
   {
    "duration": 4,
    "start_time": "2025-04-09T02:08:42.144Z"
   },
   {
    "duration": 13,
    "start_time": "2025-04-09T02:09:24.199Z"
   },
   {
    "duration": 4,
    "start_time": "2025-04-09T02:09:47.487Z"
   },
   {
    "duration": 6,
    "start_time": "2025-04-09T02:09:56.977Z"
   },
   {
    "duration": 14,
    "start_time": "2025-04-09T02:10:32.107Z"
   },
   {
    "duration": 4,
    "start_time": "2025-04-09T02:12:39.985Z"
   },
   {
    "duration": 15,
    "start_time": "2025-04-09T02:12:40.682Z"
   },
   {
    "duration": 10,
    "start_time": "2025-04-09T02:12:53.046Z"
   },
   {
    "duration": 6,
    "start_time": "2025-04-09T02:12:58.023Z"
   },
   {
    "duration": 18,
    "start_time": "2025-04-09T02:15:04.822Z"
   },
   {
    "duration": 32,
    "start_time": "2025-04-09T02:15:37.352Z"
   },
   {
    "duration": 3,
    "start_time": "2025-04-09T02:15:37.638Z"
   },
   {
    "duration": 2,
    "start_time": "2025-04-09T02:15:37.904Z"
   },
   {
    "duration": 5,
    "start_time": "2025-04-09T02:15:38.178Z"
   },
   {
    "duration": 4155,
    "start_time": "2025-04-09T02:15:38.865Z"
   },
   {
    "duration": 4132,
    "start_time": "2025-04-09T02:20:26.574Z"
   },
   {
    "duration": 4020,
    "start_time": "2025-04-09T02:20:44.502Z"
   },
   {
    "duration": 4258,
    "start_time": "2025-04-09T02:21:22.446Z"
   },
   {
    "duration": 3986,
    "start_time": "2025-04-09T02:21:41.541Z"
   },
   {
    "duration": 4032,
    "start_time": "2025-04-09T02:21:54.791Z"
   },
   {
    "duration": 4008,
    "start_time": "2025-04-09T02:22:53.006Z"
   },
   {
    "duration": 4,
    "start_time": "2025-04-09T02:25:33.670Z"
   },
   {
    "duration": 4,
    "start_time": "2025-04-09T02:25:44.262Z"
   },
   {
    "duration": 3985,
    "start_time": "2025-04-09T02:26:15.630Z"
   },
   {
    "duration": 3987,
    "start_time": "2025-04-09T02:26:55.632Z"
   },
   {
    "duration": 4028,
    "start_time": "2025-04-09T02:27:01.488Z"
   },
   {
    "duration": 4054,
    "start_time": "2025-04-09T02:27:54.768Z"
   },
   {
    "duration": 30,
    "start_time": "2025-04-09T02:30:20.982Z"
   },
   {
    "duration": 3,
    "start_time": "2025-04-09T02:30:21.602Z"
   },
   {
    "duration": 4139,
    "start_time": "2025-04-09T02:30:36.365Z"
   },
   {
    "duration": 30,
    "start_time": "2025-04-09T02:31:46.780Z"
   },
   {
    "duration": 3,
    "start_time": "2025-04-09T02:31:47.362Z"
   },
   {
    "duration": 4089,
    "start_time": "2025-04-09T02:31:47.916Z"
   },
   {
    "duration": 3,
    "start_time": "2025-04-09T02:33:44.932Z"
   },
   {
    "duration": 30,
    "start_time": "2025-04-09T02:33:46.381Z"
   },
   {
    "duration": 3,
    "start_time": "2025-04-09T02:33:47.060Z"
   },
   {
    "duration": 4161,
    "start_time": "2025-04-09T02:33:49.245Z"
   },
   {
    "duration": 31,
    "start_time": "2025-04-09T02:33:57.609Z"
   },
   {
    "duration": 3,
    "start_time": "2025-04-09T02:33:58.060Z"
   },
   {
    "duration": 4139,
    "start_time": "2025-04-09T02:34:00.364Z"
   },
   {
    "duration": 4,
    "start_time": "2025-04-09T02:42:35.267Z"
   },
   {
    "duration": 4,
    "start_time": "2025-04-09T02:42:59.255Z"
   },
   {
    "duration": 10,
    "start_time": "2025-04-09T02:43:56.250Z"
   },
   {
    "duration": 3,
    "start_time": "2025-04-09T02:44:01.459Z"
   },
   {
    "duration": 11,
    "start_time": "2025-04-09T02:47:17.747Z"
   },
   {
    "duration": 4,
    "start_time": "2025-04-09T02:47:46.785Z"
   },
   {
    "duration": 3,
    "start_time": "2025-04-09T02:47:54.961Z"
   },
   {
    "duration": 3,
    "start_time": "2025-04-09T02:48:06.611Z"
   },
   {
    "duration": 4,
    "start_time": "2025-04-09T02:48:13.410Z"
   },
   {
    "duration": 10,
    "start_time": "2025-04-09T06:18:20.208Z"
   },
   {
    "duration": 12,
    "start_time": "2025-04-09T06:18:33.461Z"
   },
   {
    "duration": 12,
    "start_time": "2025-04-09T06:21:14.973Z"
   },
   {
    "duration": 10,
    "start_time": "2025-04-09T06:21:20.141Z"
   },
   {
    "duration": 2,
    "start_time": "2025-04-09T06:21:28.088Z"
   },
   {
    "duration": 14,
    "start_time": "2025-04-09T06:21:36.452Z"
   },
   {
    "duration": 6,
    "start_time": "2025-04-09T06:22:15.453Z"
   },
   {
    "duration": 3,
    "start_time": "2025-04-09T06:23:01.655Z"
   },
   {
    "duration": 30,
    "start_time": "2025-04-09T06:25:41.755Z"
   },
   {
    "duration": 2,
    "start_time": "2025-04-09T06:25:41.948Z"
   },
   {
    "duration": 4,
    "start_time": "2025-04-09T06:25:42.140Z"
   },
   {
    "duration": 4097,
    "start_time": "2025-04-09T06:25:43.407Z"
   },
   {
    "duration": 119,
    "start_time": "2025-04-09T06:25:47.506Z"
   },
   {
    "duration": 3,
    "start_time": "2025-04-09T06:25:49.003Z"
   },
   {
    "duration": 4049,
    "start_time": "2025-04-09T06:25:51.180Z"
   },
   {
    "duration": 32,
    "start_time": "2025-04-09T06:25:55.443Z"
   },
   {
    "duration": 3,
    "start_time": "2025-04-09T06:25:56.840Z"
   },
   {
    "duration": 4141,
    "start_time": "2025-04-09T06:25:57.468Z"
   },
   {
    "duration": 6,
    "start_time": "2025-04-09T06:26:15.356Z"
   },
   {
    "duration": 3,
    "start_time": "2025-04-09T06:26:22.221Z"
   },
   {
    "duration": 6,
    "start_time": "2025-04-09T06:26:42.404Z"
   },
   {
    "duration": 3,
    "start_time": "2025-04-09T06:26:48.472Z"
   },
   {
    "duration": 6,
    "start_time": "2025-04-09T06:27:34.839Z"
   },
   {
    "duration": 6,
    "start_time": "2025-04-09T06:27:42.939Z"
   },
   {
    "duration": 69,
    "start_time": "2025-04-09T06:29:49.230Z"
   },
   {
    "duration": 191,
    "start_time": "2025-04-09T06:29:57.916Z"
   },
   {
    "duration": 11,
    "start_time": "2025-04-09T06:30:03.122Z"
   },
   {
    "duration": 77,
    "start_time": "2025-04-09T06:33:24.579Z"
   },
   {
    "duration": 12,
    "start_time": "2025-04-09T06:33:49.082Z"
   },
   {
    "duration": 8,
    "start_time": "2025-04-09T06:33:59.830Z"
   },
   {
    "duration": 5,
    "start_time": "2025-04-09T06:35:13.043Z"
   },
   {
    "duration": 13,
    "start_time": "2025-04-09T06:36:05.228Z"
   },
   {
    "duration": 11,
    "start_time": "2025-04-09T06:36:19.077Z"
   },
   {
    "duration": 7,
    "start_time": "2025-04-09T06:37:25.122Z"
   },
   {
    "duration": 17,
    "start_time": "2025-04-09T06:38:30.794Z"
   },
   {
    "duration": 4,
    "start_time": "2025-04-09T06:40:15.666Z"
   },
   {
    "duration": 7,
    "start_time": "2025-04-09T06:40:18.587Z"
   },
   {
    "duration": 6,
    "start_time": "2025-04-09T06:40:26.682Z"
   },
   {
    "duration": 4,
    "start_time": "2025-04-09T06:42:43.713Z"
   },
   {
    "duration": 6,
    "start_time": "2025-04-09T06:44:30.001Z"
   },
   {
    "duration": 5,
    "start_time": "2025-04-09T06:47:37.858Z"
   },
   {
    "duration": 11,
    "start_time": "2025-04-09T06:47:51.464Z"
   },
   {
    "duration": 5,
    "start_time": "2025-04-09T06:47:55.985Z"
   },
   {
    "duration": 9,
    "start_time": "2025-04-09T06:47:57.858Z"
   },
   {
    "duration": 11,
    "start_time": "2025-04-09T06:48:05.721Z"
   },
   {
    "duration": 13,
    "start_time": "2025-04-09T06:48:22.747Z"
   },
   {
    "duration": 13,
    "start_time": "2025-04-09T06:48:30.521Z"
   },
   {
    "duration": 13,
    "start_time": "2025-04-09T06:48:35.353Z"
   },
   {
    "duration": 11,
    "start_time": "2025-04-09T06:48:39.409Z"
   },
   {
    "duration": 12,
    "start_time": "2025-04-09T06:48:46.240Z"
   },
   {
    "duration": 12,
    "start_time": "2025-04-09T06:49:44.014Z"
   },
   {
    "duration": 17,
    "start_time": "2025-04-09T06:49:47.552Z"
   },
   {
    "duration": 11,
    "start_time": "2025-04-09T06:56:04.071Z"
   },
   {
    "duration": 10,
    "start_time": "2025-04-09T06:57:11.098Z"
   },
   {
    "duration": 12,
    "start_time": "2025-04-09T06:58:17.440Z"
   },
   {
    "duration": 11,
    "start_time": "2025-04-09T06:58:26.146Z"
   },
   {
    "duration": 16,
    "start_time": "2025-04-09T06:58:30.036Z"
   },
   {
    "duration": 5,
    "start_time": "2025-04-09T06:58:34.587Z"
   },
   {
    "duration": 12,
    "start_time": "2025-04-09T06:58:35.167Z"
   },
   {
    "duration": 15,
    "start_time": "2025-04-09T06:58:42.175Z"
   },
   {
    "duration": 15,
    "start_time": "2025-04-09T06:58:50.775Z"
   },
   {
    "duration": 13,
    "start_time": "2025-04-09T06:58:56.783Z"
   },
   {
    "duration": 14,
    "start_time": "2025-04-09T06:59:14.677Z"
   },
   {
    "duration": 3,
    "start_time": "2025-04-09T07:00:40.017Z"
   },
   {
    "duration": 3,
    "start_time": "2025-04-09T07:00:41.784Z"
   },
   {
    "duration": 5,
    "start_time": "2025-04-09T07:00:42.404Z"
   },
   {
    "duration": 14,
    "start_time": "2025-04-09T07:00:43.080Z"
   },
   {
    "duration": 3,
    "start_time": "2025-04-09T07:01:34.485Z"
   },
   {
    "duration": 11,
    "start_time": "2025-04-09T07:01:45.647Z"
   },
   {
    "duration": 13,
    "start_time": "2025-04-09T07:01:53.847Z"
   },
   {
    "duration": 11,
    "start_time": "2025-04-09T07:01:55.127Z"
   },
   {
    "duration": 3,
    "start_time": "2025-04-09T07:02:07.784Z"
   },
   {
    "duration": 12,
    "start_time": "2025-04-09T07:02:08.423Z"
   },
   {
    "duration": 11,
    "start_time": "2025-04-09T07:02:09.023Z"
   },
   {
    "duration": 13,
    "start_time": "2025-04-09T07:02:11.200Z"
   },
   {
    "duration": 4,
    "start_time": "2025-04-09T07:02:23.847Z"
   },
   {
    "duration": 13,
    "start_time": "2025-04-09T07:02:24.503Z"
   },
   {
    "duration": 11,
    "start_time": "2025-04-09T07:02:25.272Z"
   },
   {
    "duration": 13,
    "start_time": "2025-04-09T07:02:25.806Z"
   },
   {
    "duration": 4,
    "start_time": "2025-04-09T07:02:30.169Z"
   },
   {
    "duration": 13,
    "start_time": "2025-04-09T07:02:30.347Z"
   },
   {
    "duration": 13,
    "start_time": "2025-04-09T07:02:30.542Z"
   },
   {
    "duration": 12,
    "start_time": "2025-04-09T07:02:30.727Z"
   },
   {
    "duration": 85,
    "start_time": "2025-04-09T07:03:40.529Z"
   },
   {
    "duration": 4,
    "start_time": "2025-04-09T07:04:15.720Z"
   },
   {
    "duration": 20,
    "start_time": "2025-04-09T07:04:16.412Z"
   },
   {
    "duration": 12,
    "start_time": "2025-04-09T07:04:16.724Z"
   },
   {
    "duration": 13,
    "start_time": "2025-04-09T07:04:17.018Z"
   },
   {
    "duration": 3,
    "start_time": "2025-04-09T07:09:53.742Z"
   },
   {
    "duration": 4,
    "start_time": "2025-04-09T07:10:03.533Z"
   },
   {
    "duration": 3,
    "start_time": "2025-04-09T07:11:39.286Z"
   },
   {
    "duration": 13,
    "start_time": "2025-04-09T07:11:40.661Z"
   },
   {
    "duration": 4,
    "start_time": "2025-04-09T07:13:00.227Z"
   },
   {
    "duration": 4,
    "start_time": "2025-04-09T07:13:12.589Z"
   },
   {
    "duration": 4,
    "start_time": "2025-04-09T07:13:24.701Z"
   },
   {
    "duration": 13,
    "start_time": "2025-04-09T07:13:25.325Z"
   },
   {
    "duration": 3,
    "start_time": "2025-04-09T07:13:38.445Z"
   },
   {
    "duration": 14,
    "start_time": "2025-04-09T07:13:39.038Z"
   },
   {
    "duration": 3,
    "start_time": "2025-04-09T07:14:00.237Z"
   },
   {
    "duration": 13,
    "start_time": "2025-04-09T07:14:00.741Z"
   },
   {
    "duration": 4,
    "start_time": "2025-04-09T07:14:34.035Z"
   },
   {
    "duration": 4,
    "start_time": "2025-04-09T07:14:47.940Z"
   },
   {
    "duration": 13,
    "start_time": "2025-04-09T07:14:48.781Z"
   },
   {
    "duration": 11,
    "start_time": "2025-04-09T07:14:49.373Z"
   },
   {
    "duration": 12,
    "start_time": "2025-04-09T07:14:49.808Z"
   },
   {
    "duration": 3,
    "start_time": "2025-04-09T07:35:40.386Z"
   },
   {
    "duration": 6787,
    "start_time": "2025-04-09T07:38:22.169Z"
   },
   {
    "duration": 3,
    "start_time": "2025-04-09T07:39:43.130Z"
   },
   {
    "duration": 13,
    "start_time": "2025-04-09T07:39:46.178Z"
   },
   {
    "duration": 11,
    "start_time": "2025-04-09T07:39:46.802Z"
   },
   {
    "duration": 11,
    "start_time": "2025-04-09T07:39:47.241Z"
   },
   {
    "duration": 4908,
    "start_time": "2025-04-09T07:39:49.782Z"
   },
   {
    "duration": 6,
    "start_time": "2025-04-09T07:40:23.328Z"
   },
   {
    "duration": 6,
    "start_time": "2025-04-09T07:40:35.969Z"
   },
   {
    "duration": 6,
    "start_time": "2025-04-09T07:41:09.865Z"
   },
   {
    "duration": 9,
    "start_time": "2025-04-09T07:41:25.349Z"
   },
   {
    "duration": 854,
    "start_time": "2025-04-09T07:41:37.161Z"
   },
   {
    "duration": 1032,
    "start_time": "2025-04-09T07:43:20.662Z"
   },
   {
    "duration": 1281,
    "start_time": "2025-04-09T07:44:03.400Z"
   },
   {
    "duration": 1258,
    "start_time": "2025-04-09T07:44:38.876Z"
   },
   {
    "duration": 1263,
    "start_time": "2025-04-09T07:45:30.823Z"
   },
   {
    "duration": 4,
    "start_time": "2025-04-09T07:49:12.407Z"
   },
   {
    "duration": 12,
    "start_time": "2025-04-09T07:49:13.369Z"
   },
   {
    "duration": 10,
    "start_time": "2025-04-09T07:49:13.989Z"
   },
   {
    "duration": 12,
    "start_time": "2025-04-09T07:49:14.446Z"
   },
   {
    "duration": 1000,
    "start_time": "2025-04-09T07:49:19.896Z"
   },
   {
    "duration": 4,
    "start_time": "2025-04-09T07:50:27.519Z"
   },
   {
    "duration": 985,
    "start_time": "2025-04-09T07:50:43.591Z"
   },
   {
    "duration": 996,
    "start_time": "2025-04-09T07:50:50.030Z"
   },
   {
    "duration": 1064,
    "start_time": "2025-04-09T07:51:00.550Z"
   },
   {
    "duration": 4,
    "start_time": "2025-04-09T07:51:25.559Z"
   },
   {
    "duration": 1089,
    "start_time": "2025-04-09T07:51:26.271Z"
   },
   {
    "duration": 1155,
    "start_time": "2025-04-09T07:51:27.362Z"
   },
   {
    "duration": 1132,
    "start_time": "2025-04-09T07:51:28.518Z"
   },
   {
    "duration": 4,
    "start_time": "2025-04-09T07:57:55.383Z"
   },
   {
    "duration": 1281,
    "start_time": "2025-04-09T07:57:56.102Z"
   },
   {
    "duration": 1295,
    "start_time": "2025-04-09T07:57:57.503Z"
   },
   {
    "duration": 1231,
    "start_time": "2025-04-09T07:57:58.804Z"
   },
   {
    "duration": 4,
    "start_time": "2025-04-09T07:58:35.446Z"
   },
   {
    "duration": 11,
    "start_time": "2025-04-09T07:58:36.190Z"
   },
   {
    "duration": 11,
    "start_time": "2025-04-09T07:58:36.346Z"
   },
   {
    "duration": 11,
    "start_time": "2025-04-09T07:58:36.519Z"
   },
   {
    "duration": 5,
    "start_time": "2025-04-09T07:58:36.693Z"
   },
   {
    "duration": 1005,
    "start_time": "2025-04-09T07:58:40.534Z"
   },
   {
    "duration": 990,
    "start_time": "2025-04-09T07:58:41.541Z"
   },
   {
    "duration": 991,
    "start_time": "2025-04-09T07:58:42.533Z"
   },
   {
    "duration": 4,
    "start_time": "2025-04-09T08:21:09.848Z"
   },
   {
    "duration": 24,
    "start_time": "2025-04-09T08:21:12.225Z"
   },
   {
    "duration": 23,
    "start_time": "2025-04-09T08:21:12.402Z"
   },
   {
    "duration": 23,
    "start_time": "2025-04-09T08:21:12.592Z"
   },
   {
    "duration": 94,
    "start_time": "2025-04-09T08:21:47.640Z"
   },
   {
    "duration": 4,
    "start_time": "2025-04-09T08:21:54.749Z"
   },
   {
    "duration": 11,
    "start_time": "2025-04-09T08:21:55.966Z"
   },
   {
    "duration": 10,
    "start_time": "2025-04-09T08:21:56.223Z"
   },
   {
    "duration": 12,
    "start_time": "2025-04-09T08:21:56.470Z"
   },
   {
    "duration": 74,
    "start_time": "2025-04-09T08:23:54.361Z"
   },
   {
    "duration": 11,
    "start_time": "2025-04-09T08:24:03.062Z"
   },
   {
    "duration": 10,
    "start_time": "2025-04-09T08:24:15.864Z"
   },
   {
    "duration": 11,
    "start_time": "2025-04-09T08:24:16.023Z"
   },
   {
    "duration": 11,
    "start_time": "2025-04-09T08:24:16.182Z"
   },
   {
    "duration": 4,
    "start_time": "2025-04-09T08:24:24.991Z"
   },
   {
    "duration": 13,
    "start_time": "2025-04-09T08:24:41.007Z"
   },
   {
    "duration": 11,
    "start_time": "2025-04-09T08:24:41.166Z"
   },
   {
    "duration": 16,
    "start_time": "2025-04-09T08:24:41.346Z"
   },
   {
    "duration": 5,
    "start_time": "2025-04-09T08:25:19.503Z"
   },
   {
    "duration": 1244,
    "start_time": "2025-04-09T08:25:20.658Z"
   },
   {
    "duration": 1246,
    "start_time": "2025-04-09T08:25:21.904Z"
   },
   {
    "duration": 1284,
    "start_time": "2025-04-09T08:25:23.152Z"
   },
   {
    "duration": 4,
    "start_time": "2025-04-09T08:25:53.792Z"
   },
   {
    "duration": 1285,
    "start_time": "2025-04-09T08:25:54.046Z"
   },
   {
    "duration": 1307,
    "start_time": "2025-04-09T08:25:55.333Z"
   },
   {
    "duration": 1375,
    "start_time": "2025-04-09T08:25:56.642Z"
   },
   {
    "duration": 4,
    "start_time": "2025-04-09T08:27:13.630Z"
   },
   {
    "duration": 1331,
    "start_time": "2025-04-09T08:27:14.638Z"
   },
   {
    "duration": 1300,
    "start_time": "2025-04-09T08:27:15.971Z"
   },
   {
    "duration": 1363,
    "start_time": "2025-04-09T08:27:17.272Z"
   },
   {
    "duration": 13,
    "start_time": "2025-04-09T08:31:07.627Z"
   },
   {
    "duration": 4,
    "start_time": "2025-04-09T08:31:15.024Z"
   },
   {
    "duration": 7,
    "start_time": "2025-04-09T08:31:18.640Z"
   },
   {
    "duration": 7,
    "start_time": "2025-04-09T08:31:30.943Z"
   },
   {
    "duration": 7,
    "start_time": "2025-04-09T08:31:33.807Z"
   },
   {
    "duration": 5,
    "start_time": "2025-04-09T08:31:43.151Z"
   },
   {
    "duration": 5,
    "start_time": "2025-04-09T08:31:45.297Z"
   },
   {
    "duration": 6,
    "start_time": "2025-04-09T08:31:46.159Z"
   },
   {
    "duration": 5,
    "start_time": "2025-04-09T08:31:47.015Z"
   },
   {
    "duration": 6,
    "start_time": "2025-04-09T08:31:47.887Z"
   },
   {
    "duration": 6,
    "start_time": "2025-04-09T08:31:57.703Z"
   },
   {
    "duration": 5,
    "start_time": "2025-04-09T08:32:09.291Z"
   },
   {
    "duration": 6,
    "start_time": "2025-04-09T08:32:10.462Z"
   },
   {
    "duration": 5,
    "start_time": "2025-04-09T08:32:11.218Z"
   },
   {
    "duration": 5,
    "start_time": "2025-04-09T08:32:11.958Z"
   },
   {
    "duration": 5,
    "start_time": "2025-04-09T08:32:12.703Z"
   },
   {
    "duration": 5,
    "start_time": "2025-04-09T08:32:13.407Z"
   },
   {
    "duration": 6,
    "start_time": "2025-04-09T08:32:14.136Z"
   },
   {
    "duration": 6,
    "start_time": "2025-04-09T08:32:14.820Z"
   },
   {
    "duration": 5,
    "start_time": "2025-04-09T08:32:16.047Z"
   },
   {
    "duration": 5,
    "start_time": "2025-04-09T08:32:18.992Z"
   },
   {
    "duration": 5,
    "start_time": "2025-04-09T08:32:19.871Z"
   },
   {
    "duration": 5,
    "start_time": "2025-04-09T08:32:26.298Z"
   },
   {
    "duration": 5,
    "start_time": "2025-04-09T08:32:30.465Z"
   },
   {
    "duration": 6,
    "start_time": "2025-04-09T08:32:31.479Z"
   },
   {
    "duration": 6,
    "start_time": "2025-04-09T08:32:32.289Z"
   },
   {
    "duration": 5,
    "start_time": "2025-04-09T08:32:33.079Z"
   },
   {
    "duration": 5,
    "start_time": "2025-04-09T08:32:33.888Z"
   },
   {
    "duration": 5,
    "start_time": "2025-04-09T08:32:34.592Z"
   },
   {
    "duration": 5,
    "start_time": "2025-04-09T08:32:35.360Z"
   },
   {
    "duration": 5,
    "start_time": "2025-04-09T08:32:36.126Z"
   },
   {
    "duration": 6,
    "start_time": "2025-04-09T08:32:36.873Z"
   },
   {
    "duration": 5,
    "start_time": "2025-04-09T08:32:37.636Z"
   },
   {
    "duration": 5,
    "start_time": "2025-04-09T08:32:38.352Z"
   },
   {
    "duration": 11,
    "start_time": "2025-04-09T08:33:06.911Z"
   },
   {
    "duration": 6,
    "start_time": "2025-04-09T08:33:11.136Z"
   },
   {
    "duration": 11,
    "start_time": "2025-04-09T08:33:19.828Z"
   },
   {
    "duration": 8,
    "start_time": "2025-04-09T08:33:29.544Z"
   },
   {
    "duration": 7,
    "start_time": "2025-04-09T08:33:32.439Z"
   },
   {
    "duration": 10,
    "start_time": "2025-04-10T01:35:25.983Z"
   },
   {
    "duration": 10,
    "start_time": "2025-04-10T01:35:27.132Z"
   },
   {
    "duration": 10,
    "start_time": "2025-04-10T01:35:28.151Z"
   },
   {
    "duration": 4,
    "start_time": "2025-04-10T01:35:39.538Z"
   },
   {
    "duration": 11,
    "start_time": "2025-04-10T01:35:40.386Z"
   },
   {
    "duration": 10,
    "start_time": "2025-04-10T01:35:40.583Z"
   },
   {
    "duration": 11,
    "start_time": "2025-04-10T01:35:40.801Z"
   },
   {
    "duration": 4,
    "start_time": "2025-04-10T01:35:45.575Z"
   },
   {
    "duration": 1197,
    "start_time": "2025-04-10T01:35:46.228Z"
   },
   {
    "duration": 1250,
    "start_time": "2025-04-10T01:35:47.427Z"
   },
   {
    "duration": 1210,
    "start_time": "2025-04-10T01:35:48.679Z"
   },
   {
    "duration": 4,
    "start_time": "2025-04-10T01:37:41.735Z"
   },
   {
    "duration": 1241,
    "start_time": "2025-04-10T01:37:42.342Z"
   },
   {
    "duration": 0,
    "start_time": "2025-04-10T01:37:43.585Z"
   },
   {
    "duration": 0,
    "start_time": "2025-04-10T01:37:43.586Z"
   },
   {
    "duration": 4,
    "start_time": "2025-04-10T01:38:10.656Z"
   },
   {
    "duration": 1257,
    "start_time": "2025-04-10T01:38:11.264Z"
   },
   {
    "duration": 1242,
    "start_time": "2025-04-10T01:38:12.522Z"
   },
   {
    "duration": 1261,
    "start_time": "2025-04-10T01:38:13.765Z"
   },
   {
    "duration": 4,
    "start_time": "2025-04-10T01:41:20.647Z"
   },
   {
    "duration": 4,
    "start_time": "2025-04-10T01:41:54.398Z"
   },
   {
    "duration": 1262,
    "start_time": "2025-04-10T01:41:55.077Z"
   },
   {
    "duration": 1251,
    "start_time": "2025-04-10T01:41:56.341Z"
   },
   {
    "duration": 1277,
    "start_time": "2025-04-10T01:41:57.594Z"
   },
   {
    "duration": 5,
    "start_time": "2025-04-10T01:42:13.589Z"
   },
   {
    "duration": 1262,
    "start_time": "2025-04-10T01:42:13.902Z"
   },
   {
    "duration": 1268,
    "start_time": "2025-04-10T01:42:15.165Z"
   },
   {
    "duration": 1292,
    "start_time": "2025-04-10T01:42:16.435Z"
   },
   {
    "duration": 4,
    "start_time": "2025-04-10T01:42:33.664Z"
   },
   {
    "duration": 1210,
    "start_time": "2025-04-10T01:42:34.221Z"
   },
   {
    "duration": 1237,
    "start_time": "2025-04-10T01:42:35.432Z"
   },
   {
    "duration": 1227,
    "start_time": "2025-04-10T01:42:36.671Z"
   },
   {
    "duration": 4,
    "start_time": "2025-04-10T01:42:49.001Z"
   },
   {
    "duration": 1210,
    "start_time": "2025-04-10T01:42:49.478Z"
   },
   {
    "duration": 1219,
    "start_time": "2025-04-10T01:42:50.690Z"
   },
   {
    "duration": 1237,
    "start_time": "2025-04-10T01:42:51.911Z"
   },
   {
    "duration": 4,
    "start_time": "2025-04-10T01:42:57.881Z"
   },
   {
    "duration": 1273,
    "start_time": "2025-04-10T01:42:58.190Z"
   },
   {
    "duration": 1258,
    "start_time": "2025-04-10T01:42:59.465Z"
   },
   {
    "duration": 1267,
    "start_time": "2025-04-10T01:43:00.724Z"
   },
   {
    "duration": 4,
    "start_time": "2025-04-10T01:46:13.830Z"
   },
   {
    "duration": 1236,
    "start_time": "2025-04-10T01:46:14.149Z"
   },
   {
    "duration": 1259,
    "start_time": "2025-04-10T01:46:15.388Z"
   },
   {
    "duration": 1265,
    "start_time": "2025-04-10T01:46:16.649Z"
   },
   {
    "duration": 1228,
    "start_time": "2025-04-10T01:48:21.478Z"
   },
   {
    "duration": 1224,
    "start_time": "2025-04-10T01:48:22.709Z"
   },
   {
    "duration": 1240,
    "start_time": "2025-04-10T01:48:24.677Z"
   },
   {
    "duration": 1246,
    "start_time": "2025-04-10T01:48:33.045Z"
   },
   {
    "duration": 1279,
    "start_time": "2025-04-10T01:48:47.337Z"
   },
   {
    "duration": 1275,
    "start_time": "2025-04-10T01:48:57.860Z"
   },
   {
    "duration": 1231,
    "start_time": "2025-04-10T01:48:59.137Z"
   },
   {
    "duration": 5,
    "start_time": "2025-04-10T01:53:28.086Z"
   },
   {
    "duration": 16,
    "start_time": "2025-04-10T01:53:29.748Z"
   },
   {
    "duration": 4,
    "start_time": "2025-04-10T01:53:47.005Z"
   },
   {
    "duration": 1231,
    "start_time": "2025-04-10T01:53:47.789Z"
   },
   {
    "duration": 1208,
    "start_time": "2025-04-10T01:53:49.022Z"
   },
   {
    "duration": 1227,
    "start_time": "2025-04-10T01:53:50.232Z"
   },
   {
    "duration": 2,
    "start_time": "2025-04-10T01:59:44.377Z"
   },
   {
    "duration": 3,
    "start_time": "2025-04-10T02:00:17.460Z"
   },
   {
    "duration": 11,
    "start_time": "2025-04-10T02:00:19.923Z"
   },
   {
    "duration": 10,
    "start_time": "2025-04-10T02:00:20.179Z"
   },
   {
    "duration": 11,
    "start_time": "2025-04-10T02:00:20.428Z"
   },
   {
    "duration": 4,
    "start_time": "2025-04-10T02:00:29.382Z"
   },
   {
    "duration": 1272,
    "start_time": "2025-04-10T02:00:30.332Z"
   },
   {
    "duration": 1228,
    "start_time": "2025-04-10T02:00:31.606Z"
   },
   {
    "duration": 1227,
    "start_time": "2025-04-10T02:00:32.836Z"
   },
   {
    "duration": 4,
    "start_time": "2025-04-10T02:00:43.610Z"
   },
   {
    "duration": 1222,
    "start_time": "2025-04-10T02:00:44.799Z"
   },
   {
    "duration": 1232,
    "start_time": "2025-04-10T02:00:47.413Z"
   },
   {
    "duration": 1206,
    "start_time": "2025-04-10T02:00:48.647Z"
   },
   {
    "duration": 4,
    "start_time": "2025-04-10T02:00:52.772Z"
   },
   {
    "duration": 1200,
    "start_time": "2025-04-10T02:00:53.995Z"
   },
   {
    "duration": 1225,
    "start_time": "2025-04-10T02:00:55.197Z"
   },
   {
    "duration": 1243,
    "start_time": "2025-04-10T02:00:56.423Z"
   },
   {
    "duration": 5,
    "start_time": "2025-04-10T02:03:40.035Z"
   },
   {
    "duration": 798,
    "start_time": "2025-04-10T02:05:10.509Z"
   },
   {
    "duration": 1207,
    "start_time": "2025-04-10T02:05:22.291Z"
   },
   {
    "duration": 5,
    "start_time": "2025-04-10T02:05:32.740Z"
   },
   {
    "duration": 2455,
    "start_time": "2025-04-10T02:05:33.315Z"
   },
   {
    "duration": 5,
    "start_time": "2025-04-10T02:07:38.556Z"
   },
   {
    "duration": 1211,
    "start_time": "2025-04-10T02:07:49.956Z"
   },
   {
    "duration": 11,
    "start_time": "2025-04-10T02:24:12.010Z"
   },
   {
    "duration": 10,
    "start_time": "2025-04-10T02:24:12.689Z"
   },
   {
    "duration": 11,
    "start_time": "2025-04-10T02:24:13.228Z"
   },
   {
    "duration": 4,
    "start_time": "2025-04-10T02:24:50.193Z"
   },
   {
    "duration": 1209,
    "start_time": "2025-04-10T02:24:50.576Z"
   },
   {
    "duration": 1209,
    "start_time": "2025-04-10T02:24:51.787Z"
   },
   {
    "duration": 1219,
    "start_time": "2025-04-10T02:24:52.997Z"
   },
   {
    "duration": 4,
    "start_time": "2025-04-10T02:25:04.920Z"
   },
   {
    "duration": 1391,
    "start_time": "2025-04-10T02:25:04.925Z"
   },
   {
    "duration": 1294,
    "start_time": "2025-04-10T02:25:06.318Z"
   },
   {
    "duration": 1284,
    "start_time": "2025-04-10T02:25:07.613Z"
   },
   {
    "duration": 5,
    "start_time": "2025-04-10T02:30:31.991Z"
   },
   {
    "duration": 3,
    "start_time": "2025-04-10T02:30:54.407Z"
   },
   {
    "duration": 4,
    "start_time": "2025-04-10T02:32:29.222Z"
   },
   {
    "duration": 34,
    "start_time": "2025-04-10T02:32:30.944Z"
   },
   {
    "duration": 3,
    "start_time": "2025-04-10T02:33:05.471Z"
   },
   {
    "duration": 11,
    "start_time": "2025-04-10T02:33:10.370Z"
   },
   {
    "duration": 10,
    "start_time": "2025-04-10T02:33:11.214Z"
   },
   {
    "duration": 11,
    "start_time": "2025-04-10T02:33:11.840Z"
   },
   {
    "duration": 3,
    "start_time": "2025-04-10T02:33:51.902Z"
   },
   {
    "duration": 33,
    "start_time": "2025-04-10T02:33:52.615Z"
   },
   {
    "duration": 3,
    "start_time": "2025-04-10T02:33:56.546Z"
   },
   {
    "duration": 53,
    "start_time": "2025-04-10T02:33:57.014Z"
   },
   {
    "duration": 51,
    "start_time": "2025-04-10T02:34:22.262Z"
   },
   {
    "duration": 3,
    "start_time": "2025-04-10T02:34:38.681Z"
   },
   {
    "duration": 10,
    "start_time": "2025-04-10T02:34:42.390Z"
   },
   {
    "duration": 9,
    "start_time": "2025-04-10T02:34:42.910Z"
   },
   {
    "duration": 10,
    "start_time": "2025-04-10T02:34:43.287Z"
   },
   {
    "duration": 4,
    "start_time": "2025-04-10T02:34:43.850Z"
   },
   {
    "duration": 1059,
    "start_time": "2025-04-10T02:34:44.461Z"
   },
   {
    "duration": 1051,
    "start_time": "2025-04-10T02:34:45.522Z"
   },
   {
    "duration": 1074,
    "start_time": "2025-04-10T02:34:46.574Z"
   },
   {
    "duration": 4,
    "start_time": "2025-04-10T02:35:15.646Z"
   },
   {
    "duration": 11,
    "start_time": "2025-04-10T02:35:18.581Z"
   },
   {
    "duration": 9,
    "start_time": "2025-04-10T02:35:19.430Z"
   },
   {
    "duration": 10,
    "start_time": "2025-04-10T02:35:20.308Z"
   },
   {
    "duration": 3,
    "start_time": "2025-04-10T02:35:49.213Z"
   },
   {
    "duration": 52,
    "start_time": "2025-04-10T02:35:49.790Z"
   },
   {
    "duration": 3,
    "start_time": "2025-04-10T02:35:56.166Z"
   },
   {
    "duration": 11,
    "start_time": "2025-04-10T02:35:58.469Z"
   },
   {
    "duration": 10,
    "start_time": "2025-04-10T02:35:58.647Z"
   },
   {
    "duration": 11,
    "start_time": "2025-04-10T02:35:58.814Z"
   },
   {
    "duration": 4,
    "start_time": "2025-04-10T02:36:15.134Z"
   },
   {
    "duration": 11,
    "start_time": "2025-04-10T02:36:17.231Z"
   },
   {
    "duration": 11,
    "start_time": "2025-04-10T02:36:17.736Z"
   },
   {
    "duration": 11,
    "start_time": "2025-04-10T02:36:18.182Z"
   },
   {
    "duration": 339,
    "start_time": "2025-04-10T02:43:46.711Z"
   },
   {
    "duration": 355,
    "start_time": "2025-04-10T02:44:23.477Z"
   },
   {
    "duration": 328,
    "start_time": "2025-04-10T02:44:34.653Z"
   },
   {
    "duration": 325,
    "start_time": "2025-04-10T02:44:35.111Z"
   },
   {
    "duration": 322,
    "start_time": "2025-04-10T02:44:35.437Z"
   },
   {
    "duration": 315,
    "start_time": "2025-04-10T02:46:04.222Z"
   },
   {
    "duration": 352,
    "start_time": "2025-04-10T02:46:04.988Z"
   },
   {
    "duration": 30,
    "start_time": "2025-04-10T02:46:52.306Z"
   },
   {
    "duration": 3,
    "start_time": "2025-04-10T02:46:53.176Z"
   },
   {
    "duration": 3574,
    "start_time": "2025-04-10T02:46:54.130Z"
   },
   {
    "duration": 10,
    "start_time": "2025-04-10T02:47:44.124Z"
   },
   {
    "duration": 28,
    "start_time": "2025-04-10T02:48:05.036Z"
   },
   {
    "duration": 3,
    "start_time": "2025-04-10T02:48:05.461Z"
   },
   {
    "duration": 3,
    "start_time": "2025-04-10T02:48:06.692Z"
   },
   {
    "duration": 3394,
    "start_time": "2025-04-10T02:48:06.924Z"
   },
   {
    "duration": 28,
    "start_time": "2025-04-10T02:48:29.951Z"
   },
   {
    "duration": 3,
    "start_time": "2025-04-10T02:48:30.173Z"
   },
   {
    "duration": 5,
    "start_time": "2025-04-10T02:48:30.435Z"
   },
   {
    "duration": 4134,
    "start_time": "2025-04-10T02:48:30.771Z"
   },
   {
    "duration": 30,
    "start_time": "2025-04-10T02:48:37.452Z"
   },
   {
    "duration": 2,
    "start_time": "2025-04-10T02:48:38.052Z"
   },
   {
    "duration": 3,
    "start_time": "2025-04-10T02:48:38.708Z"
   },
   {
    "duration": 3266,
    "start_time": "2025-04-10T02:48:39.492Z"
   },
   {
    "duration": 4,
    "start_time": "2025-04-10T02:49:02.396Z"
   },
   {
    "duration": 29,
    "start_time": "2025-04-10T02:50:46.816Z"
   },
   {
    "duration": 3,
    "start_time": "2025-04-10T02:50:47.110Z"
   },
   {
    "duration": 3751,
    "start_time": "2025-04-10T02:50:47.724Z"
   },
   {
    "duration": 26,
    "start_time": "2025-04-10T02:52:06.861Z"
   },
   {
    "duration": 4,
    "start_time": "2025-04-10T02:52:07.940Z"
   },
   {
    "duration": 4140,
    "start_time": "2025-04-10T02:52:08.667Z"
   },
   {
    "duration": 1270,
    "start_time": "2025-04-10T02:56:26.792Z"
   },
   {
    "duration": 9,
    "start_time": "2025-04-10T02:56:42.047Z"
   },
   {
    "duration": 5,
    "start_time": "2025-04-10T02:57:58.442Z"
   },
   {
    "duration": 569,
    "start_time": "2025-04-10T02:58:12.332Z"
   },
   {
    "duration": 3,
    "start_time": "2025-04-10T03:00:29.680Z"
   },
   {
    "duration": 29,
    "start_time": "2025-04-10T03:00:32.466Z"
   },
   {
    "duration": 4,
    "start_time": "2025-04-10T03:00:32.999Z"
   },
   {
    "duration": 4134,
    "start_time": "2025-04-10T03:00:33.574Z"
   },
   {
    "duration": 32,
    "start_time": "2025-04-10T03:00:50.180Z"
   },
   {
    "duration": 3,
    "start_time": "2025-04-10T03:00:50.723Z"
   },
   {
    "duration": 5,
    "start_time": "2025-04-10T03:00:51.253Z"
   },
   {
    "duration": 4112,
    "start_time": "2025-04-10T03:00:51.795Z"
   },
   {
    "duration": 30,
    "start_time": "2025-04-10T03:01:27.437Z"
   },
   {
    "duration": 4,
    "start_time": "2025-04-10T03:01:27.687Z"
   },
   {
    "duration": 3709,
    "start_time": "2025-04-10T03:01:27.972Z"
   },
   {
    "duration": 2,
    "start_time": "2025-04-10T03:01:55.884Z"
   },
   {
    "duration": 4,
    "start_time": "2025-04-10T03:01:56.891Z"
   },
   {
    "duration": 4092,
    "start_time": "2025-04-10T03:01:58.418Z"
   },
   {
    "duration": 33,
    "start_time": "2025-04-10T03:02:14.028Z"
   },
   {
    "duration": 2,
    "start_time": "2025-04-10T03:02:14.474Z"
   },
   {
    "duration": 4,
    "start_time": "2025-04-10T03:02:14.962Z"
   },
   {
    "duration": 4111,
    "start_time": "2025-04-10T03:02:16.195Z"
   },
   {
    "duration": 3,
    "start_time": "2025-04-10T03:03:05.707Z"
   },
   {
    "duration": 6,
    "start_time": "2025-04-10T03:03:06.268Z"
   },
   {
    "duration": 4,
    "start_time": "2025-04-10T03:03:07.082Z"
   },
   {
    "duration": 4,
    "start_time": "2025-04-10T03:03:08.193Z"
   },
   {
    "duration": 55,
    "start_time": "2025-04-10T03:03:09.026Z"
   },
   {
    "duration": 3,
    "start_time": "2025-04-10T03:03:13.123Z"
   },
   {
    "duration": 11,
    "start_time": "2025-04-10T03:03:16.049Z"
   },
   {
    "duration": 9,
    "start_time": "2025-04-10T03:03:16.815Z"
   },
   {
    "duration": 10,
    "start_time": "2025-04-10T03:03:17.363Z"
   },
   {
    "duration": 5,
    "start_time": "2025-04-10T03:03:21.002Z"
   },
   {
    "duration": 1231,
    "start_time": "2025-04-10T03:03:21.523Z"
   },
   {
    "duration": 1229,
    "start_time": "2025-04-10T03:03:22.756Z"
   },
   {
    "duration": 1246,
    "start_time": "2025-04-10T03:03:23.987Z"
   },
   {
    "duration": 671,
    "start_time": "2025-04-10T06:49:15.979Z"
   },
   {
    "duration": 671,
    "start_time": "2025-04-10T06:49:23.506Z"
   },
   {
    "duration": 494,
    "start_time": "2025-04-10T06:49:26.547Z"
   },
   {
    "duration": 667,
    "start_time": "2025-04-10T06:49:37.170Z"
   },
   {
    "duration": 31,
    "start_time": "2025-04-10T06:50:19.901Z"
   },
   {
    "duration": 3,
    "start_time": "2025-04-10T06:50:20.067Z"
   },
   {
    "duration": 5,
    "start_time": "2025-04-10T06:50:20.217Z"
   },
   {
    "duration": 4119,
    "start_time": "2025-04-10T06:50:20.385Z"
   },
   {
    "duration": 123,
    "start_time": "2025-04-10T06:50:24.511Z"
   },
   {
    "duration": 45,
    "start_time": "2025-04-10T06:50:24.636Z"
   },
   {
    "duration": 4121,
    "start_time": "2025-04-10T06:50:24.683Z"
   },
   {
    "duration": 120,
    "start_time": "2025-04-10T06:50:28.807Z"
   },
   {
    "duration": 4,
    "start_time": "2025-04-10T06:50:28.929Z"
   },
   {
    "duration": 4083,
    "start_time": "2025-04-10T06:50:28.935Z"
   },
   {
    "duration": 505,
    "start_time": "2025-04-10T07:01:35.665Z"
   },
   {
    "duration": 4,
    "start_time": "2025-04-10T07:02:44.809Z"
   },
   {
    "duration": 73,
    "start_time": "2025-04-10T07:02:45.005Z"
   },
   {
    "duration": 12,
    "start_time": "2025-04-10T07:02:45.148Z"
   },
   {
    "duration": 11,
    "start_time": "2025-04-10T07:02:45.314Z"
   },
   {
    "duration": 11,
    "start_time": "2025-04-10T07:02:45.474Z"
   },
   {
    "duration": 12,
    "start_time": "2025-04-10T07:02:45.647Z"
   },
   {
    "duration": 20,
    "start_time": "2025-04-10T07:02:45.809Z"
   },
   {
    "duration": 4,
    "start_time": "2025-04-10T07:03:03.459Z"
   },
   {
    "duration": 11,
    "start_time": "2025-04-10T07:03:04.050Z"
   },
   {
    "duration": 9,
    "start_time": "2025-04-10T07:03:04.354Z"
   },
   {
    "duration": 17,
    "start_time": "2025-04-10T07:03:04.586Z"
   },
   {
    "duration": 5,
    "start_time": "2025-04-10T07:03:04.842Z"
   },
   {
    "duration": 1360,
    "start_time": "2025-04-10T07:03:05.418Z"
   },
   {
    "duration": 1381,
    "start_time": "2025-04-10T07:03:06.780Z"
   },
   {
    "duration": 1369,
    "start_time": "2025-04-10T07:03:08.163Z"
   },
   {
    "duration": 4,
    "start_time": "2025-04-10T07:03:37.844Z"
   },
   {
    "duration": 2106,
    "start_time": "2025-04-10T07:03:37.851Z"
   },
   {
    "duration": 504,
    "start_time": "2025-04-10T07:03:39.959Z"
   },
   {
    "duration": 3,
    "start_time": "2025-04-10T07:03:40.465Z"
   },
   {
    "duration": 35,
    "start_time": "2025-04-10T07:03:40.471Z"
   },
   {
    "duration": 19,
    "start_time": "2025-04-10T07:03:40.508Z"
   },
   {
    "duration": 41,
    "start_time": "2025-04-10T07:03:40.529Z"
   },
   {
    "duration": 50,
    "start_time": "2025-04-10T07:03:40.572Z"
   },
   {
    "duration": 10,
    "start_time": "2025-04-10T07:03:40.624Z"
   },
   {
    "duration": 14,
    "start_time": "2025-04-10T07:03:40.636Z"
   },
   {
    "duration": 60,
    "start_time": "2025-04-10T07:03:40.652Z"
   },
   {
    "duration": 58,
    "start_time": "2025-04-10T07:03:40.713Z"
   },
   {
    "duration": 9,
    "start_time": "2025-04-10T07:03:40.772Z"
   },
   {
    "duration": 20,
    "start_time": "2025-04-10T07:03:40.784Z"
   },
   {
    "duration": 36,
    "start_time": "2025-04-10T07:03:40.806Z"
   },
   {
    "duration": 28,
    "start_time": "2025-04-10T07:03:40.843Z"
   },
   {
    "duration": 66,
    "start_time": "2025-04-10T07:03:40.873Z"
   },
   {
    "duration": 3041,
    "start_time": "2025-04-10T07:03:40.941Z"
   },
   {
    "duration": 3105,
    "start_time": "2025-04-10T07:03:43.984Z"
   },
   {
    "duration": 3200,
    "start_time": "2025-04-10T07:03:47.090Z"
   },
   {
    "duration": 478,
    "start_time": "2025-04-10T07:03:50.291Z"
   },
   {
    "duration": 365,
    "start_time": "2025-04-10T07:03:50.770Z"
   },
   {
    "duration": 478,
    "start_time": "2025-04-10T07:03:51.137Z"
   },
   {
    "duration": 331,
    "start_time": "2025-04-10T07:03:51.616Z"
   },
   {
    "duration": 29,
    "start_time": "2025-04-10T07:03:51.948Z"
   },
   {
    "duration": 155,
    "start_time": "2025-04-10T07:03:51.979Z"
   },
   {
    "duration": 157,
    "start_time": "2025-04-10T07:03:52.136Z"
   },
   {
    "duration": 0,
    "start_time": "2025-04-10T07:03:52.295Z"
   },
   {
    "duration": 0,
    "start_time": "2025-04-10T07:03:52.296Z"
   },
   {
    "duration": 0,
    "start_time": "2025-04-10T07:03:52.297Z"
   },
   {
    "duration": 0,
    "start_time": "2025-04-10T07:03:52.303Z"
   },
   {
    "duration": 0,
    "start_time": "2025-04-10T07:03:52.305Z"
   },
   {
    "duration": 0,
    "start_time": "2025-04-10T07:03:52.306Z"
   },
   {
    "duration": 0,
    "start_time": "2025-04-10T07:03:52.306Z"
   },
   {
    "duration": 0,
    "start_time": "2025-04-10T07:03:52.307Z"
   },
   {
    "duration": 0,
    "start_time": "2025-04-10T07:03:52.308Z"
   },
   {
    "duration": 0,
    "start_time": "2025-04-10T07:03:52.310Z"
   },
   {
    "duration": 0,
    "start_time": "2025-04-10T07:03:52.310Z"
   },
   {
    "duration": 0,
    "start_time": "2025-04-10T07:03:52.312Z"
   },
   {
    "duration": 0,
    "start_time": "2025-04-10T07:03:52.313Z"
   },
   {
    "duration": 0,
    "start_time": "2025-04-10T07:03:52.314Z"
   },
   {
    "duration": 0,
    "start_time": "2025-04-10T07:03:52.315Z"
   },
   {
    "duration": 0,
    "start_time": "2025-04-10T07:03:52.316Z"
   },
   {
    "duration": 0,
    "start_time": "2025-04-10T07:03:52.317Z"
   },
   {
    "duration": 4,
    "start_time": "2025-04-10T07:06:06.301Z"
   },
   {
    "duration": 2051,
    "start_time": "2025-04-10T07:06:06.307Z"
   },
   {
    "duration": 478,
    "start_time": "2025-04-10T07:06:08.359Z"
   },
   {
    "duration": 3,
    "start_time": "2025-04-10T07:06:08.838Z"
   },
   {
    "duration": 124,
    "start_time": "2025-04-10T07:06:08.843Z"
   },
   {
    "duration": 33,
    "start_time": "2025-04-10T07:06:08.968Z"
   },
   {
    "duration": 38,
    "start_time": "2025-04-10T07:06:09.003Z"
   },
   {
    "duration": 29,
    "start_time": "2025-04-10T07:06:09.043Z"
   },
   {
    "duration": 31,
    "start_time": "2025-04-10T07:06:09.074Z"
   },
   {
    "duration": 11,
    "start_time": "2025-04-10T07:06:09.107Z"
   },
   {
    "duration": 39,
    "start_time": "2025-04-10T07:06:09.120Z"
   },
   {
    "duration": 44,
    "start_time": "2025-04-10T07:06:09.161Z"
   },
   {
    "duration": 10,
    "start_time": "2025-04-10T07:06:09.207Z"
   },
   {
    "duration": 22,
    "start_time": "2025-04-10T07:06:09.220Z"
   },
   {
    "duration": 36,
    "start_time": "2025-04-10T07:06:09.243Z"
   },
   {
    "duration": 39,
    "start_time": "2025-04-10T07:06:09.288Z"
   },
   {
    "duration": 4,
    "start_time": "2025-04-10T07:06:09.329Z"
   },
   {
    "duration": 3042,
    "start_time": "2025-04-10T07:06:09.335Z"
   },
   {
    "duration": 3247,
    "start_time": "2025-04-10T07:06:12.378Z"
   },
   {
    "duration": 3466,
    "start_time": "2025-04-10T07:06:15.627Z"
   },
   {
    "duration": 482,
    "start_time": "2025-04-10T07:06:19.095Z"
   },
   {
    "duration": 359,
    "start_time": "2025-04-10T07:06:19.579Z"
   },
   {
    "duration": 485,
    "start_time": "2025-04-10T07:06:19.940Z"
   },
   {
    "duration": 334,
    "start_time": "2025-04-10T07:06:20.427Z"
   },
   {
    "duration": 29,
    "start_time": "2025-04-10T07:06:20.763Z"
   },
   {
    "duration": 11,
    "start_time": "2025-04-10T07:06:20.794Z"
   },
   {
    "duration": 14,
    "start_time": "2025-04-10T07:06:20.807Z"
   },
   {
    "duration": 4196,
    "start_time": "2025-04-10T07:06:20.823Z"
   },
   {
    "duration": 201,
    "start_time": "2025-04-10T07:06:25.021Z"
   },
   {
    "duration": 3,
    "start_time": "2025-04-10T07:06:25.224Z"
   },
   {
    "duration": 4177,
    "start_time": "2025-04-10T07:06:25.228Z"
   },
   {
    "duration": 118,
    "start_time": "2025-04-10T07:06:29.407Z"
   },
   {
    "duration": 4,
    "start_time": "2025-04-10T07:06:29.526Z"
   },
   {
    "duration": 4276,
    "start_time": "2025-04-10T07:06:29.531Z"
   },
   {
    "duration": 5,
    "start_time": "2025-04-10T07:06:33.810Z"
   },
   {
    "duration": 110,
    "start_time": "2025-04-10T07:06:33.817Z"
   },
   {
    "duration": 47,
    "start_time": "2025-04-10T07:06:33.929Z"
   },
   {
    "duration": 185,
    "start_time": "2025-04-10T07:06:33.978Z"
   },
   {
    "duration": 35,
    "start_time": "2025-04-10T07:06:34.165Z"
   },
   {
    "duration": 111,
    "start_time": "2025-04-10T07:06:34.202Z"
   },
   {
    "duration": 17,
    "start_time": "2025-04-10T07:06:34.317Z"
   },
   {
    "duration": 1514,
    "start_time": "2025-04-10T07:06:34.336Z"
   },
   {
    "duration": 1374,
    "start_time": "2025-04-10T07:06:35.852Z"
   },
   {
    "duration": 1458,
    "start_time": "2025-04-10T07:06:37.228Z"
   },
   {
    "duration": 26,
    "start_time": "2025-04-10T07:08:46.718Z"
   },
   {
    "duration": 25,
    "start_time": "2025-04-10T07:09:06.792Z"
   },
   {
    "duration": 26,
    "start_time": "2025-04-10T07:09:20.330Z"
   },
   {
    "duration": 4,
    "start_time": "2025-04-10T07:14:37.866Z"
   },
   {
    "duration": 1513,
    "start_time": "2025-04-10T07:16:51.298Z"
   },
   {
    "duration": 5,
    "start_time": "2025-04-10T07:16:54.914Z"
   },
   {
    "duration": 11,
    "start_time": "2025-04-10T07:17:48.710Z"
   },
   {
    "duration": 25,
    "start_time": "2025-04-10T07:18:04.099Z"
   },
   {
    "duration": 22,
    "start_time": "2025-04-10T07:18:32.586Z"
   },
   {
    "duration": 4,
    "start_time": "2025-04-10T07:18:35.624Z"
   },
   {
    "duration": 4,
    "start_time": "2025-04-10T07:22:55.461Z"
   },
   {
    "duration": 22,
    "start_time": "2025-04-10T07:24:26.225Z"
   },
   {
    "duration": 4,
    "start_time": "2025-04-10T07:25:24.282Z"
   },
   {
    "duration": 4,
    "start_time": "2025-04-10T07:25:38.123Z"
   },
   {
    "duration": 4,
    "start_time": "2025-04-10T07:25:55.811Z"
   },
   {
    "duration": 4,
    "start_time": "2025-04-10T07:26:03.034Z"
   },
   {
    "duration": 3,
    "start_time": "2025-04-10T07:31:31.641Z"
   },
   {
    "duration": 3,
    "start_time": "2025-04-10T07:31:46.638Z"
   },
   {
    "duration": 3,
    "start_time": "2025-04-10T07:34:27.945Z"
   },
   {
    "duration": 3,
    "start_time": "2025-04-10T07:37:48.449Z"
   },
   {
    "duration": 26,
    "start_time": "2025-04-10T07:37:49.238Z"
   },
   {
    "duration": 5,
    "start_time": "2025-04-10T07:37:49.680Z"
   },
   {
    "duration": 1321,
    "start_time": "2025-04-10T07:37:49.928Z"
   },
   {
    "duration": 1319,
    "start_time": "2025-04-10T07:37:51.251Z"
   },
   {
    "duration": 1358,
    "start_time": "2025-04-10T07:37:52.572Z"
   },
   {
    "duration": 4,
    "start_time": "2025-04-10T07:43:29.232Z"
   },
   {
    "duration": 1336,
    "start_time": "2025-04-10T07:43:40.439Z"
   },
   {
    "duration": 1331,
    "start_time": "2025-04-10T07:43:41.777Z"
   },
   {
    "duration": 1331,
    "start_time": "2025-04-10T07:43:43.110Z"
   },
   {
    "duration": 4,
    "start_time": "2025-04-10T07:45:27.197Z"
   },
   {
    "duration": 2111,
    "start_time": "2025-04-10T07:45:27.204Z"
   },
   {
    "duration": 527,
    "start_time": "2025-04-10T07:45:29.317Z"
   },
   {
    "duration": 3,
    "start_time": "2025-04-10T07:45:29.846Z"
   },
   {
    "duration": 19,
    "start_time": "2025-04-10T07:45:29.852Z"
   },
   {
    "duration": 11,
    "start_time": "2025-04-10T07:45:29.873Z"
   },
   {
    "duration": 46,
    "start_time": "2025-04-10T07:45:29.904Z"
   },
   {
    "duration": 32,
    "start_time": "2025-04-10T07:45:29.952Z"
   },
   {
    "duration": 118,
    "start_time": "2025-04-10T07:45:29.985Z"
   },
   {
    "duration": 32,
    "start_time": "2025-04-10T07:45:30.105Z"
   },
   {
    "duration": 135,
    "start_time": "2025-04-10T07:45:30.140Z"
   },
   {
    "duration": 35,
    "start_time": "2025-04-10T07:45:30.277Z"
   },
   {
    "duration": 71,
    "start_time": "2025-04-10T07:45:30.315Z"
   },
   {
    "duration": 40,
    "start_time": "2025-04-10T07:45:30.389Z"
   },
   {
    "duration": 77,
    "start_time": "2025-04-10T07:45:30.431Z"
   },
   {
    "duration": 29,
    "start_time": "2025-04-10T07:45:30.511Z"
   },
   {
    "duration": 15,
    "start_time": "2025-04-10T07:45:30.542Z"
   },
   {
    "duration": 3347,
    "start_time": "2025-04-10T07:45:30.559Z"
   },
   {
    "duration": 3450,
    "start_time": "2025-04-10T07:45:33.907Z"
   },
   {
    "duration": 3494,
    "start_time": "2025-04-10T07:45:37.359Z"
   },
   {
    "duration": 526,
    "start_time": "2025-04-10T07:45:40.855Z"
   },
   {
    "duration": 377,
    "start_time": "2025-04-10T07:45:41.383Z"
   },
   {
    "duration": 543,
    "start_time": "2025-04-10T07:45:41.762Z"
   },
   {
    "duration": 356,
    "start_time": "2025-04-10T07:45:42.307Z"
   },
   {
    "duration": 39,
    "start_time": "2025-04-10T07:45:42.665Z"
   },
   {
    "duration": 4,
    "start_time": "2025-04-10T07:45:42.706Z"
   },
   {
    "duration": 36,
    "start_time": "2025-04-10T07:45:42.712Z"
   },
   {
    "duration": 4254,
    "start_time": "2025-04-10T07:45:42.751Z"
   },
   {
    "duration": 46,
    "start_time": "2025-04-10T07:45:47.007Z"
   },
   {
    "duration": 21,
    "start_time": "2025-04-10T07:45:47.055Z"
   },
   {
    "duration": 4140,
    "start_time": "2025-04-10T07:45:47.078Z"
   },
   {
    "duration": 209,
    "start_time": "2025-04-10T07:45:51.221Z"
   },
   {
    "duration": 4,
    "start_time": "2025-04-10T07:45:51.431Z"
   },
   {
    "duration": 4271,
    "start_time": "2025-04-10T07:45:51.437Z"
   },
   {
    "duration": 5,
    "start_time": "2025-04-10T07:45:55.710Z"
   },
   {
    "duration": 91,
    "start_time": "2025-04-10T07:45:55.718Z"
   },
   {
    "duration": 19,
    "start_time": "2025-04-10T07:45:55.810Z"
   },
   {
    "duration": 4,
    "start_time": "2025-04-10T07:45:55.831Z"
   },
   {
    "duration": 9,
    "start_time": "2025-04-10T07:45:55.837Z"
   },
   {
    "duration": 40,
    "start_time": "2025-04-10T07:45:55.848Z"
   },
   {
    "duration": 5,
    "start_time": "2025-04-10T07:45:55.904Z"
   },
   {
    "duration": 1355,
    "start_time": "2025-04-10T07:45:55.911Z"
   },
   {
    "duration": 1403,
    "start_time": "2025-04-10T07:45:57.267Z"
   },
   {
    "duration": 1347,
    "start_time": "2025-04-10T07:45:58.672Z"
   },
   {
    "duration": 4,
    "start_time": "2025-04-10T10:23:32.817Z"
   },
   {
    "duration": 1516,
    "start_time": "2025-04-10T10:23:32.823Z"
   },
   {
    "duration": 0,
    "start_time": "2025-04-10T10:23:34.343Z"
   },
   {
    "duration": 0,
    "start_time": "2025-04-10T10:23:34.345Z"
   },
   {
    "duration": 0,
    "start_time": "2025-04-10T10:23:34.361Z"
   },
   {
    "duration": 0,
    "start_time": "2025-04-10T10:23:34.363Z"
   },
   {
    "duration": 0,
    "start_time": "2025-04-10T10:23:34.364Z"
   },
   {
    "duration": 0,
    "start_time": "2025-04-10T10:23:34.366Z"
   },
   {
    "duration": 0,
    "start_time": "2025-04-10T10:23:34.367Z"
   },
   {
    "duration": 0,
    "start_time": "2025-04-10T10:23:34.369Z"
   },
   {
    "duration": 0,
    "start_time": "2025-04-10T10:23:34.370Z"
   },
   {
    "duration": 0,
    "start_time": "2025-04-10T10:23:34.372Z"
   },
   {
    "duration": 0,
    "start_time": "2025-04-10T10:23:34.373Z"
   },
   {
    "duration": 0,
    "start_time": "2025-04-10T10:23:34.375Z"
   },
   {
    "duration": 0,
    "start_time": "2025-04-10T10:23:34.377Z"
   },
   {
    "duration": 0,
    "start_time": "2025-04-10T10:23:34.378Z"
   },
   {
    "duration": 0,
    "start_time": "2025-04-10T10:23:34.379Z"
   },
   {
    "duration": 0,
    "start_time": "2025-04-10T10:23:34.381Z"
   },
   {
    "duration": 0,
    "start_time": "2025-04-10T10:23:34.383Z"
   },
   {
    "duration": 0,
    "start_time": "2025-04-10T10:23:34.384Z"
   },
   {
    "duration": 0,
    "start_time": "2025-04-10T10:23:34.387Z"
   },
   {
    "duration": 0,
    "start_time": "2025-04-10T10:23:34.389Z"
   },
   {
    "duration": 0,
    "start_time": "2025-04-10T10:23:34.390Z"
   },
   {
    "duration": 0,
    "start_time": "2025-04-10T10:23:34.391Z"
   },
   {
    "duration": 0,
    "start_time": "2025-04-10T10:23:34.393Z"
   },
   {
    "duration": 0,
    "start_time": "2025-04-10T10:23:34.395Z"
   },
   {
    "duration": 0,
    "start_time": "2025-04-10T10:23:34.396Z"
   },
   {
    "duration": 0,
    "start_time": "2025-04-10T10:23:34.397Z"
   },
   {
    "duration": 0,
    "start_time": "2025-04-10T10:23:34.398Z"
   },
   {
    "duration": 0,
    "start_time": "2025-04-10T10:23:34.399Z"
   },
   {
    "duration": 0,
    "start_time": "2025-04-10T10:23:34.400Z"
   },
   {
    "duration": 0,
    "start_time": "2025-04-10T10:23:34.402Z"
   },
   {
    "duration": 0,
    "start_time": "2025-04-10T10:23:34.462Z"
   },
   {
    "duration": 0,
    "start_time": "2025-04-10T10:23:34.463Z"
   },
   {
    "duration": 0,
    "start_time": "2025-04-10T10:23:34.465Z"
   },
   {
    "duration": 0,
    "start_time": "2025-04-10T10:23:34.466Z"
   },
   {
    "duration": 0,
    "start_time": "2025-04-10T10:23:34.468Z"
   },
   {
    "duration": 0,
    "start_time": "2025-04-10T10:23:34.469Z"
   },
   {
    "duration": 0,
    "start_time": "2025-04-10T10:23:34.470Z"
   },
   {
    "duration": 0,
    "start_time": "2025-04-10T10:23:34.471Z"
   },
   {
    "duration": 0,
    "start_time": "2025-04-10T10:23:34.473Z"
   },
   {
    "duration": 0,
    "start_time": "2025-04-10T10:23:34.474Z"
   },
   {
    "duration": 0,
    "start_time": "2025-04-10T10:23:34.475Z"
   },
   {
    "duration": 0,
    "start_time": "2025-04-10T10:23:34.476Z"
   },
   {
    "duration": 5362,
    "start_time": "2025-04-10T10:31:53.501Z"
   },
   {
    "duration": 43,
    "start_time": "2025-04-10T10:32:06.293Z"
   },
   {
    "duration": 510,
    "start_time": "2025-04-10T10:32:07.663Z"
   },
   {
    "duration": 2,
    "start_time": "2025-04-10T10:32:08.175Z"
   },
   {
    "duration": 13,
    "start_time": "2025-04-10T10:32:08.356Z"
   },
   {
    "duration": 11,
    "start_time": "2025-04-10T10:32:08.511Z"
   },
   {
    "duration": 37,
    "start_time": "2025-04-10T10:32:08.659Z"
   },
   {
    "duration": 32,
    "start_time": "2025-04-10T10:32:08.803Z"
   },
   {
    "duration": 9,
    "start_time": "2025-04-10T10:32:09.108Z"
   },
   {
    "duration": 10,
    "start_time": "2025-04-10T10:32:09.256Z"
   },
   {
    "duration": 37,
    "start_time": "2025-04-10T10:32:09.400Z"
   },
   {
    "duration": 23,
    "start_time": "2025-04-10T10:32:09.543Z"
   },
   {
    "duration": 10,
    "start_time": "2025-04-10T10:32:09.832Z"
   },
   {
    "duration": 10,
    "start_time": "2025-04-10T10:32:09.979Z"
   },
   {
    "duration": 35,
    "start_time": "2025-04-10T10:32:10.131Z"
   },
   {
    "duration": 30,
    "start_time": "2025-04-10T10:32:10.284Z"
   },
   {
    "duration": 4,
    "start_time": "2025-04-10T10:32:10.428Z"
   },
   {
    "duration": 2428,
    "start_time": "2025-04-10T10:32:10.709Z"
   },
   {
    "duration": 2498,
    "start_time": "2025-04-10T10:32:13.139Z"
   },
   {
    "duration": 2465,
    "start_time": "2025-04-10T10:32:15.639Z"
   },
   {
    "duration": 346,
    "start_time": "2025-04-10T10:32:18.106Z"
   },
   {
    "duration": 342,
    "start_time": "2025-04-10T10:32:18.453Z"
   },
   {
    "duration": 321,
    "start_time": "2025-04-10T10:32:18.797Z"
   },
   {
    "duration": 349,
    "start_time": "2025-04-10T10:32:19.120Z"
   },
   {
    "duration": 43,
    "start_time": "2025-04-10T10:32:19.471Z"
   },
   {
    "duration": 46,
    "start_time": "2025-04-10T10:32:19.515Z"
   },
   {
    "duration": 5,
    "start_time": "2025-04-10T10:32:19.977Z"
   },
   {
    "duration": 4273,
    "start_time": "2025-04-10T10:32:20.490Z"
   },
   {
    "duration": 0,
    "start_time": "2025-04-10T10:32:24.765Z"
   },
   {
    "duration": 3,
    "start_time": "2025-04-10T10:32:26.206Z"
   },
   {
    "duration": 4069,
    "start_time": "2025-04-10T10:32:27.194Z"
   },
   {
    "duration": 0,
    "start_time": "2025-04-10T10:32:31.265Z"
   },
   {
    "duration": 2,
    "start_time": "2025-04-10T10:32:31.639Z"
   },
   {
    "duration": 4104,
    "start_time": "2025-04-10T10:32:31.862Z"
   },
   {
    "duration": 0,
    "start_time": "2025-04-10T10:32:35.968Z"
   },
   {
    "duration": 5,
    "start_time": "2025-04-10T10:32:36.749Z"
   },
   {
    "duration": 11,
    "start_time": "2025-04-10T10:32:37.027Z"
   },
   {
    "duration": 14,
    "start_time": "2025-04-10T10:32:46.727Z"
   },
   {
    "duration": 40,
    "start_time": "2025-04-10T10:33:04.964Z"
   },
   {
    "duration": 3,
    "start_time": "2025-04-10T10:33:05.514Z"
   },
   {
    "duration": 4144,
    "start_time": "2025-04-10T10:33:05.917Z"
   },
   {
    "duration": 40,
    "start_time": "2025-04-10T10:33:11.410Z"
   },
   {
    "duration": 3,
    "start_time": "2025-04-10T10:33:11.675Z"
   },
   {
    "duration": 4127,
    "start_time": "2025-04-10T10:33:11.834Z"
   },
   {
    "duration": 0,
    "start_time": "2025-04-10T10:33:15.964Z"
   },
   {
    "duration": 0,
    "start_time": "2025-04-10T10:33:15.966Z"
   },
   {
    "duration": 4,
    "start_time": "2025-04-10T10:33:20.007Z"
   },
   {
    "duration": 6,
    "start_time": "2025-04-10T10:33:20.423Z"
   },
   {
    "duration": 4,
    "start_time": "2025-04-10T10:33:21.114Z"
   },
   {
    "duration": 3,
    "start_time": "2025-04-10T10:33:21.532Z"
   },
   {
    "duration": 3,
    "start_time": "2025-04-10T10:33:23.101Z"
   },
   {
    "duration": 26,
    "start_time": "2025-04-10T10:33:23.591Z"
   },
   {
    "duration": 4,
    "start_time": "2025-04-10T10:33:24.149Z"
   },
   {
    "duration": 1278,
    "start_time": "2025-04-10T10:33:24.892Z"
   },
   {
    "duration": 1358,
    "start_time": "2025-04-10T10:33:26.172Z"
   },
   {
    "duration": 10,
    "start_time": "2025-04-10T10:33:30.593Z"
   },
   {
    "duration": 6,
    "start_time": "2025-04-10T10:34:00.573Z"
   },
   {
    "duration": 7,
    "start_time": "2025-04-10T10:34:04.466Z"
   },
   {
    "duration": 11,
    "start_time": "2025-04-10T10:34:32.182Z"
   },
   {
    "duration": 4,
    "start_time": "2025-04-10T10:34:49.466Z"
   },
   {
    "duration": 1292,
    "start_time": "2025-04-10T10:34:49.647Z"
   },
   {
    "duration": 4,
    "start_time": "2025-04-10T10:34:52.987Z"
   },
   {
    "duration": 2058,
    "start_time": "2025-04-10T10:34:53.826Z"
   },
   {
    "duration": 5,
    "start_time": "2025-04-10T10:34:59.180Z"
   },
   {
    "duration": 1278,
    "start_time": "2025-04-10T10:34:59.439Z"
   },
   {
    "duration": 3,
    "start_time": "2025-04-10T10:35:13.198Z"
   },
   {
    "duration": 26,
    "start_time": "2025-04-10T10:35:13.366Z"
   },
   {
    "duration": 5,
    "start_time": "2025-04-10T10:35:13.739Z"
   },
   {
    "duration": 1290,
    "start_time": "2025-04-10T10:35:14.359Z"
   },
   {
    "duration": 3,
    "start_time": "2025-04-10T10:35:17.824Z"
   },
   {
    "duration": 23,
    "start_time": "2025-04-10T10:35:17.962Z"
   },
   {
    "duration": 5,
    "start_time": "2025-04-10T10:35:18.098Z"
   },
   {
    "duration": 1326,
    "start_time": "2025-04-10T10:35:18.230Z"
   },
   {
    "duration": 2,
    "start_time": "2025-04-10T10:50:03.663Z"
   },
   {
    "duration": 4,
    "start_time": "2025-04-10T10:50:03.880Z"
   },
   {
    "duration": 3,
    "start_time": "2025-04-10T10:50:12.992Z"
   },
   {
    "duration": 1448,
    "start_time": "2025-04-10T10:50:12.997Z"
   },
   {
    "duration": 492,
    "start_time": "2025-04-10T10:50:14.447Z"
   },
   {
    "duration": 2,
    "start_time": "2025-04-10T10:50:14.941Z"
   },
   {
    "duration": 127,
    "start_time": "2025-04-10T10:50:14.946Z"
   },
   {
    "duration": 43,
    "start_time": "2025-04-10T10:50:15.074Z"
   },
   {
    "duration": 63,
    "start_time": "2025-04-10T10:50:15.118Z"
   },
   {
    "duration": 49,
    "start_time": "2025-04-10T10:50:15.182Z"
   },
   {
    "duration": 24,
    "start_time": "2025-04-10T10:50:15.232Z"
   },
   {
    "duration": 37,
    "start_time": "2025-04-10T10:50:15.258Z"
   },
   {
    "duration": 61,
    "start_time": "2025-04-10T10:50:15.297Z"
   },
   {
    "duration": 24,
    "start_time": "2025-04-10T10:50:15.359Z"
   },
   {
    "duration": 9,
    "start_time": "2025-04-10T10:50:15.385Z"
   },
   {
    "duration": 26,
    "start_time": "2025-04-10T10:50:15.397Z"
   },
   {
    "duration": 50,
    "start_time": "2025-04-10T10:50:15.425Z"
   },
   {
    "duration": 32,
    "start_time": "2025-04-10T10:50:15.477Z"
   },
   {
    "duration": 4,
    "start_time": "2025-04-10T10:50:15.511Z"
   },
   {
    "duration": 3089,
    "start_time": "2025-04-10T10:50:15.517Z"
   },
   {
    "duration": 3177,
    "start_time": "2025-04-10T10:50:18.608Z"
   },
   {
    "duration": 3287,
    "start_time": "2025-04-10T10:50:21.786Z"
   },
   {
    "duration": 375,
    "start_time": "2025-04-10T10:50:25.075Z"
   },
   {
    "duration": 341,
    "start_time": "2025-04-10T10:50:25.452Z"
   },
   {
    "duration": 505,
    "start_time": "2025-04-10T10:50:25.795Z"
   },
   {
    "duration": 341,
    "start_time": "2025-04-10T10:50:26.303Z"
   },
   {
    "duration": 27,
    "start_time": "2025-04-10T10:50:26.646Z"
   },
   {
    "duration": 3,
    "start_time": "2025-04-10T10:50:26.675Z"
   },
   {
    "duration": 5,
    "start_time": "2025-04-10T10:50:26.680Z"
   },
   {
    "duration": 4322,
    "start_time": "2025-04-10T10:50:26.686Z"
   },
   {
    "duration": 0,
    "start_time": "2025-04-10T10:50:31.010Z"
   },
   {
    "duration": 0,
    "start_time": "2025-04-10T10:50:31.011Z"
   },
   {
    "duration": 0,
    "start_time": "2025-04-10T10:50:31.012Z"
   },
   {
    "duration": 0,
    "start_time": "2025-04-10T10:50:31.013Z"
   },
   {
    "duration": 0,
    "start_time": "2025-04-10T10:50:31.014Z"
   },
   {
    "duration": 0,
    "start_time": "2025-04-10T10:50:31.015Z"
   },
   {
    "duration": 0,
    "start_time": "2025-04-10T10:50:31.016Z"
   },
   {
    "duration": 0,
    "start_time": "2025-04-10T10:50:31.017Z"
   },
   {
    "duration": 0,
    "start_time": "2025-04-10T10:50:31.019Z"
   },
   {
    "duration": 0,
    "start_time": "2025-04-10T10:50:31.020Z"
   },
   {
    "duration": 0,
    "start_time": "2025-04-10T10:50:31.021Z"
   },
   {
    "duration": 0,
    "start_time": "2025-04-10T10:50:31.022Z"
   },
   {
    "duration": 0,
    "start_time": "2025-04-10T10:50:31.023Z"
   },
   {
    "duration": 0,
    "start_time": "2025-04-10T10:50:31.024Z"
   },
   {
    "duration": 0,
    "start_time": "2025-04-10T10:50:31.025Z"
   },
   {
    "duration": 0,
    "start_time": "2025-04-10T10:50:31.026Z"
   },
   {
    "duration": 4,
    "start_time": "2025-04-10T10:51:24.156Z"
   },
   {
    "duration": 1501,
    "start_time": "2025-04-10T10:51:24.163Z"
   },
   {
    "duration": 490,
    "start_time": "2025-04-10T10:51:25.666Z"
   },
   {
    "duration": 4,
    "start_time": "2025-04-10T10:51:26.158Z"
   },
   {
    "duration": 66,
    "start_time": "2025-04-10T10:51:26.164Z"
   },
   {
    "duration": 53,
    "start_time": "2025-04-10T10:51:26.233Z"
   },
   {
    "duration": 95,
    "start_time": "2025-04-10T10:51:26.288Z"
   },
   {
    "duration": 53,
    "start_time": "2025-04-10T10:51:26.385Z"
   },
   {
    "duration": 10,
    "start_time": "2025-04-10T10:51:26.440Z"
   },
   {
    "duration": 47,
    "start_time": "2025-04-10T10:51:26.452Z"
   },
   {
    "duration": 36,
    "start_time": "2025-04-10T10:51:26.501Z"
   },
   {
    "duration": 24,
    "start_time": "2025-04-10T10:51:26.539Z"
   },
   {
    "duration": 10,
    "start_time": "2025-04-10T10:51:26.564Z"
   },
   {
    "duration": 36,
    "start_time": "2025-04-10T10:51:26.577Z"
   },
   {
    "duration": 36,
    "start_time": "2025-04-10T10:51:26.615Z"
   },
   {
    "duration": 29,
    "start_time": "2025-04-10T10:51:26.652Z"
   },
   {
    "duration": 21,
    "start_time": "2025-04-10T10:51:26.683Z"
   },
   {
    "duration": 3081,
    "start_time": "2025-04-10T10:51:26.706Z"
   },
   {
    "duration": 3131,
    "start_time": "2025-04-10T10:51:29.789Z"
   },
   {
    "duration": 3326,
    "start_time": "2025-04-10T10:51:32.922Z"
   },
   {
    "duration": 358,
    "start_time": "2025-04-10T10:51:36.250Z"
   },
   {
    "duration": 359,
    "start_time": "2025-04-10T10:51:36.610Z"
   },
   {
    "duration": 542,
    "start_time": "2025-04-10T10:51:36.971Z"
   },
   {
    "duration": 356,
    "start_time": "2025-04-10T10:51:37.516Z"
   },
   {
    "duration": 44,
    "start_time": "2025-04-10T10:51:37.874Z"
   },
   {
    "duration": 8,
    "start_time": "2025-04-10T10:51:37.920Z"
   },
   {
    "duration": 18,
    "start_time": "2025-04-10T10:51:37.929Z"
   },
   {
    "duration": 4155,
    "start_time": "2025-04-10T10:51:37.949Z"
   },
   {
    "duration": 117,
    "start_time": "2025-04-10T10:51:42.107Z"
   },
   {
    "duration": 3,
    "start_time": "2025-04-10T10:51:42.226Z"
   },
   {
    "duration": 4177,
    "start_time": "2025-04-10T10:51:42.230Z"
   },
   {
    "duration": 118,
    "start_time": "2025-04-10T10:51:46.410Z"
   },
   {
    "duration": 4,
    "start_time": "2025-04-10T10:51:46.529Z"
   },
   {
    "duration": 4089,
    "start_time": "2025-04-10T10:51:46.535Z"
   },
   {
    "duration": 5,
    "start_time": "2025-04-10T10:51:50.706Z"
   },
   {
    "duration": 129,
    "start_time": "2025-04-10T10:51:50.714Z"
   },
   {
    "duration": 181,
    "start_time": "2025-04-10T10:51:50.844Z"
   },
   {
    "duration": 100,
    "start_time": "2025-04-10T10:51:51.026Z"
   },
   {
    "duration": 40,
    "start_time": "2025-04-10T10:51:51.127Z"
   },
   {
    "duration": 134,
    "start_time": "2025-04-10T10:51:51.169Z"
   },
   {
    "duration": 0,
    "start_time": "2025-04-10T10:51:51.305Z"
   },
   {
    "duration": 0,
    "start_time": "2025-04-10T10:51:51.307Z"
   },
   {
    "duration": 0,
    "start_time": "2025-04-10T10:51:51.308Z"
   },
   {
    "duration": 0,
    "start_time": "2025-04-10T10:51:51.309Z"
   },
   {
    "duration": 5,
    "start_time": "2025-04-10T10:53:00.551Z"
   },
   {
    "duration": 27,
    "start_time": "2025-04-10T10:53:01.460Z"
   },
   {
    "duration": 5,
    "start_time": "2025-04-10T10:53:03.363Z"
   },
   {
    "duration": 1397,
    "start_time": "2025-04-10T10:53:10.336Z"
   },
   {
    "duration": 1414,
    "start_time": "2025-04-10T10:53:11.734Z"
   },
   {
    "duration": 1471,
    "start_time": "2025-04-10T10:53:13.150Z"
   },
   {
    "duration": 3,
    "start_time": "2025-04-10T10:57:35.891Z"
   },
   {
    "duration": 1436,
    "start_time": "2025-04-10T10:57:35.896Z"
   },
   {
    "duration": 505,
    "start_time": "2025-04-10T10:57:37.333Z"
   },
   {
    "duration": 2,
    "start_time": "2025-04-10T10:57:37.840Z"
   },
   {
    "duration": 77,
    "start_time": "2025-04-10T10:57:37.844Z"
   },
   {
    "duration": 11,
    "start_time": "2025-04-10T10:57:37.922Z"
   },
   {
    "duration": 37,
    "start_time": "2025-04-10T10:57:37.935Z"
   },
   {
    "duration": 50,
    "start_time": "2025-04-10T10:57:37.973Z"
   },
   {
    "duration": 10,
    "start_time": "2025-04-10T10:57:38.024Z"
   },
   {
    "duration": 14,
    "start_time": "2025-04-10T10:57:38.035Z"
   },
   {
    "duration": 54,
    "start_time": "2025-04-10T10:57:38.050Z"
   },
   {
    "duration": 24,
    "start_time": "2025-04-10T10:57:38.106Z"
   },
   {
    "duration": 10,
    "start_time": "2025-04-10T10:57:38.131Z"
   },
   {
    "duration": 10,
    "start_time": "2025-04-10T10:57:38.144Z"
   },
   {
    "duration": 72,
    "start_time": "2025-04-10T10:57:38.156Z"
   },
   {
    "duration": 41,
    "start_time": "2025-04-10T10:57:38.230Z"
   },
   {
    "duration": 6,
    "start_time": "2025-04-10T10:57:38.274Z"
   },
   {
    "duration": 3244,
    "start_time": "2025-04-10T10:57:38.282Z"
   },
   {
    "duration": 3209,
    "start_time": "2025-04-10T10:57:41.528Z"
   },
   {
    "duration": 3306,
    "start_time": "2025-04-10T10:57:44.738Z"
   },
   {
    "duration": 369,
    "start_time": "2025-04-10T10:57:48.045Z"
   },
   {
    "duration": 351,
    "start_time": "2025-04-10T10:57:48.417Z"
   },
   {
    "duration": 513,
    "start_time": "2025-04-10T10:57:48.770Z"
   },
   {
    "duration": 359,
    "start_time": "2025-04-10T10:57:49.285Z"
   },
   {
    "duration": 30,
    "start_time": "2025-04-10T10:57:49.647Z"
   },
   {
    "duration": 3,
    "start_time": "2025-04-10T10:57:49.679Z"
   },
   {
    "duration": 23,
    "start_time": "2025-04-10T10:57:49.684Z"
   },
   {
    "duration": 4196,
    "start_time": "2025-04-10T10:57:49.709Z"
   },
   {
    "duration": 117,
    "start_time": "2025-04-10T10:57:53.907Z"
   },
   {
    "duration": 3,
    "start_time": "2025-04-10T10:57:54.026Z"
   },
   {
    "duration": 4181,
    "start_time": "2025-04-10T10:57:54.030Z"
   },
   {
    "duration": 118,
    "start_time": "2025-04-10T10:57:58.213Z"
   },
   {
    "duration": 3,
    "start_time": "2025-04-10T10:57:58.333Z"
   },
   {
    "duration": 4169,
    "start_time": "2025-04-10T10:57:58.337Z"
   },
   {
    "duration": 5,
    "start_time": "2025-04-10T10:58:02.508Z"
   },
   {
    "duration": 6,
    "start_time": "2025-04-10T10:58:02.605Z"
   },
   {
    "duration": 12,
    "start_time": "2025-04-10T10:58:02.613Z"
   },
   {
    "duration": 15,
    "start_time": "2025-04-10T10:58:02.626Z"
   },
   {
    "duration": 42,
    "start_time": "2025-04-10T10:58:02.643Z"
   },
   {
    "duration": 97,
    "start_time": "2025-04-10T10:58:02.686Z"
   },
   {
    "duration": 13,
    "start_time": "2025-04-10T10:58:02.787Z"
   },
   {
    "duration": 1329,
    "start_time": "2025-04-10T10:58:02.801Z"
   },
   {
    "duration": 1312,
    "start_time": "2025-04-10T10:58:04.131Z"
   },
   {
    "duration": 1325,
    "start_time": "2025-04-10T10:58:05.446Z"
   },
   {
    "duration": 3,
    "start_time": "2025-04-10T11:05:01.845Z"
   },
   {
    "duration": 1553,
    "start_time": "2025-04-10T11:05:01.863Z"
   },
   {
    "duration": 478,
    "start_time": "2025-04-10T11:05:03.418Z"
   },
   {
    "duration": 7,
    "start_time": "2025-04-10T11:05:03.897Z"
   },
   {
    "duration": 40,
    "start_time": "2025-04-10T11:05:03.905Z"
   },
   {
    "duration": 25,
    "start_time": "2025-04-10T11:05:03.948Z"
   },
   {
    "duration": 58,
    "start_time": "2025-04-10T11:05:03.975Z"
   },
   {
    "duration": 31,
    "start_time": "2025-04-10T11:05:04.035Z"
   },
   {
    "duration": 10,
    "start_time": "2025-04-10T11:05:04.067Z"
   },
   {
    "duration": 50,
    "start_time": "2025-04-10T11:05:04.078Z"
   },
   {
    "duration": 42,
    "start_time": "2025-04-10T11:05:04.130Z"
   },
   {
    "duration": 22,
    "start_time": "2025-04-10T11:05:04.174Z"
   },
   {
    "duration": 10,
    "start_time": "2025-04-10T11:05:04.198Z"
   },
   {
    "duration": 28,
    "start_time": "2025-04-10T11:05:04.209Z"
   },
   {
    "duration": 45,
    "start_time": "2025-04-10T11:05:04.240Z"
   },
   {
    "duration": 31,
    "start_time": "2025-04-10T11:05:04.286Z"
   },
   {
    "duration": 5,
    "start_time": "2025-04-10T11:05:04.318Z"
   },
   {
    "duration": 3126,
    "start_time": "2025-04-10T11:05:04.324Z"
   },
   {
    "duration": 3173,
    "start_time": "2025-04-10T11:05:07.451Z"
   },
   {
    "duration": 3281,
    "start_time": "2025-04-10T11:05:10.626Z"
   },
   {
    "duration": 353,
    "start_time": "2025-04-10T11:05:13.909Z"
   },
   {
    "duration": 367,
    "start_time": "2025-04-10T11:05:14.264Z"
   },
   {
    "duration": 499,
    "start_time": "2025-04-10T11:05:14.633Z"
   },
   {
    "duration": 337,
    "start_time": "2025-04-10T11:05:15.133Z"
   },
   {
    "duration": 38,
    "start_time": "2025-04-10T11:05:15.472Z"
   },
   {
    "duration": 3,
    "start_time": "2025-04-10T11:05:15.511Z"
   },
   {
    "duration": 15,
    "start_time": "2025-04-10T11:05:15.516Z"
   },
   {
    "duration": 4176,
    "start_time": "2025-04-10T11:05:15.532Z"
   },
   {
    "duration": 31,
    "start_time": "2025-04-10T11:05:19.803Z"
   },
   {
    "duration": 3,
    "start_time": "2025-04-10T11:05:19.835Z"
   },
   {
    "duration": 4172,
    "start_time": "2025-04-10T11:05:19.839Z"
   },
   {
    "duration": 119,
    "start_time": "2025-04-10T11:05:24.013Z"
   },
   {
    "duration": 3,
    "start_time": "2025-04-10T11:05:24.134Z"
   },
   {
    "duration": 4170,
    "start_time": "2025-04-10T11:05:24.138Z"
   },
   {
    "duration": 93,
    "start_time": "2025-04-10T11:05:28.312Z"
   },
   {
    "duration": 11,
    "start_time": "2025-04-10T11:05:28.407Z"
   },
   {
    "duration": 7,
    "start_time": "2025-04-10T11:05:28.419Z"
   },
   {
    "duration": 6,
    "start_time": "2025-04-10T11:05:28.428Z"
   },
   {
    "duration": 56,
    "start_time": "2025-04-10T11:05:28.436Z"
   },
   {
    "duration": 31,
    "start_time": "2025-04-10T11:05:28.494Z"
   },
   {
    "duration": 5,
    "start_time": "2025-04-10T11:05:28.527Z"
   },
   {
    "duration": 1306,
    "start_time": "2025-04-10T11:05:28.537Z"
   },
   {
    "duration": 1298,
    "start_time": "2025-04-10T11:05:29.845Z"
   },
   {
    "duration": 1306,
    "start_time": "2025-04-10T11:05:31.146Z"
   }
  ],
  "kernelspec": {
   "display_name": "Python 3 (ipykernel)",
   "language": "python",
   "name": "python3"
  },
  "language_info": {
   "codemirror_mode": {
    "name": "ipython",
    "version": 3
   },
   "file_extension": ".py",
   "mimetype": "text/x-python",
   "name": "python",
   "nbconvert_exporter": "python",
   "pygments_lexer": "ipython3",
   "version": "3.9.5"
  },
  "toc": {
   "base_numbering": 1,
   "nav_menu": {},
   "number_sections": true,
   "sideBar": true,
   "skip_h1_title": true,
   "title_cell": "Table of Contents",
   "title_sidebar": "Contents",
   "toc_cell": false,
   "toc_position": {},
   "toc_section_display": true,
   "toc_window_display": false
  }
 },
 "nbformat": 4,
 "nbformat_minor": 2
}
