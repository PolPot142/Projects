{
 "cells": [
  {
   "cell_type": "markdown",
   "id": "9fdde028",
   "metadata": {},
   "source": [
    "**Задача 1: предсказание уровня удовлетворённости сотрудника**\n",
    "\n",
    "`id` — уникальный идентификатор сотрудника;<br>\n",
    "`dept` — отдел, в котором работает сотрудник;<br>\n",
    "`level` — уровень занимаемой должности;<br>\n",
    "`workload` — уровень загруженности сотрудника;<br>\n",
    "`employment_years` — длительность работы в компании (в годах);<br>\n",
    "`last_year_promo` — показывает, было ли повышение за последний год;<br>\n",
    "`last_year_violations` — показывает, нарушал ли сотрудник трудовой договор за последний год;<br>\n",
    "`supervisor_evaluation` — оценка качества работы сотрудника, которую дал руководитель;<br>\n",
    "`salary` — ежемесячная зарплата сотрудника;<br>\n",
    "`job_satisfaction_rate` — уровень удовлетворённости сотрудника работой в компании, целевой признак.<br>\n",
    "\n",
    "1. Загрузка данных;\n",
    "2. Предобработка данных;\n",
    "3. Исследовательский анализ данных;\n",
    "4. Подготовка данных:\n",
    "    Подготовку признаков выполнить в пайплайне, дополнив пайплайн шагом предобработки. При кодировании учитывайть особенности признаков и моделей и использовать как минимум два кодировщика;\n",
    "5. Обучение моделей: \n",
    "    Обучить как минимум две модели: линейную и дерево решений. Подобрать гиперпараметры как минимум для одной модели. Выбрать лучшую модель и проверить её качество. Выбор делайть на основе метрики — SMAPE (англ. symmetric mean absolute percentage error, «симметричное среднее абсолютное процентное отклонение»). Написать функцию, которая принимает на вход массивы NumPy или объекты Series в pandas и возвращает значение метрики SMAPE. Использовать эту метрику при подборе гиперпараметров и оценке качества моделей. Критерий успеха: SMAPE ≤ 15 на тестовой выборке. В решении сохранить работу со всеми моделями, которые пробовали. Сделать выводы.\n",
    "6. Выводы.\n",
    "\n",
    "\n",
    "**Задача 2: предсказание увольнения сотрудника из компании**\n",
    "\n",
    "1. Загрузка данных;\n",
    "2. Предобработка данных;\n",
    "3. Исследовательский анализ данных;\n",
    "    1. Провести исследовательский анализ данных;\n",
    "    2. Составить портрет «уволившегося сотрудника». Например, можно узнать, в каком отделе с большей вероятностью работает уволившийся сотрудник и какой у него уровень загруженности. Также можно сравнить среднее значение зарплаты ушедших сотрудников с теми, кто остался в компании;\n",
    "    3. Аналитики утверждают, что уровень удовлетворённости сотрудника работой в компании влияет на то, уволится ли сотрудник. Проверить это утверждение: визуализируйте и сравните распределения признака `job_satisfaction_rate` для ушедших и оставшихся сотрудников. Используйте данные с обоими целевыми признаками тестовой выборки.\n",
    "4. Добавление нового входного признака;\n",
    "    Допустим, `job_satisfaction_rate` и `quit` действительно связаны и получено необходимое значение метрики в первой задаче. Тогда добавить `job_satisfaction_rate`, предсказанный лучшей моделью первой задачи, к входным признакам второй задачи.\n",
    "5. Подготовка данных;\n",
    "    Подготовьте признаки так же, как и в первой задаче.\n",
    "6. Обучение модели;\n",
    "    Обучите как минимум три модели. Как минимум для двух из них подберите гиперпараметры. Проверьте качество лучшей модели. Метрика оценки качества в этой задаче — *ROC-AUC*. Критерий успеха: *ROC-AUC* ≥ 0.91 на тестовой выборке. Напомним: отбор признаков часто помогает улучшить метрику.\n",
    "7. Выводы.\n",
    "\n",
    "**Общий вывод в конце**"
   ]
  },
  {
   "cell_type": "code",
   "execution_count": 3,
   "id": "991477b5",
   "metadata": {},
   "outputs": [
    {
     "name": "stdout",
     "output_type": "stream",
     "text": [
      "Requirement already satisfied: scikit-learn in /opt/conda/lib/python3.9/site-packages (0.24.1)\n",
      "Collecting scikit-learn\n",
      "  Downloading scikit_learn-1.6.1-cp39-cp39-manylinux_2_17_x86_64.manylinux2014_x86_64.whl (13.5 MB)\n",
      "\u001b[K     |████████████████████████████████| 13.5 MB 1.3 MB/s eta 0:00:01\n",
      "\u001b[?25hRequirement already satisfied: threadpoolctl>=3.1.0 in /opt/conda/lib/python3.9/site-packages (from scikit-learn) (3.1.0)\n",
      "Requirement already satisfied: scipy>=1.6.0 in /opt/conda/lib/python3.9/site-packages (from scikit-learn) (1.9.1)\n",
      "Requirement already satisfied: numpy>=1.19.5 in /opt/conda/lib/python3.9/site-packages (from scikit-learn) (1.21.1)\n",
      "Collecting joblib>=1.2.0\n",
      "  Downloading joblib-1.5.0-py3-none-any.whl (307 kB)\n",
      "\u001b[K     |████████████████████████████████| 307 kB 88.1 MB/s eta 0:00:01\n",
      "\u001b[?25hInstalling collected packages: joblib, scikit-learn\n",
      "  Attempting uninstall: joblib\n",
      "    Found existing installation: joblib 1.1.0\n",
      "    Uninstalling joblib-1.1.0:\n",
      "      Successfully uninstalled joblib-1.1.0\n",
      "  Attempting uninstall: scikit-learn\n",
      "    Found existing installation: scikit-learn 0.24.1\n",
      "    Uninstalling scikit-learn-0.24.1:\n",
      "      Successfully uninstalled scikit-learn-0.24.1\n",
      "Successfully installed joblib-1.5.0 scikit-learn-1.6.1\n",
      "Collecting shap\n",
      "  Downloading shap-0.47.2-cp39-cp39-manylinux_2_17_x86_64.manylinux2014_x86_64.whl (994 kB)\n",
      "\u001b[K     |████████████████████████████████| 994 kB 2.4 MB/s eta 0:00:01\n",
      "\u001b[?25hRequirement already satisfied: matplotlib in /opt/conda/lib/python3.9/site-packages (3.3.4)\n",
      "Collecting matplotlib\n",
      "  Downloading matplotlib-3.9.4-cp39-cp39-manylinux_2_17_x86_64.manylinux2014_x86_64.whl (8.3 MB)\n",
      "\u001b[K     |████████████████████████████████| 8.3 MB 56.9 MB/s eta 0:00:01\n",
      "\u001b[?25hRequirement already satisfied: pandas in /opt/conda/lib/python3.9/site-packages (from shap) (1.2.4)\n",
      "Requirement already satisfied: scipy in /opt/conda/lib/python3.9/site-packages (from shap) (1.9.1)\n",
      "Collecting cloudpickle\n",
      "  Downloading cloudpickle-3.1.1-py3-none-any.whl (20 kB)\n",
      "Requirement already satisfied: scikit-learn in /opt/conda/lib/python3.9/site-packages (from shap) (1.6.1)\n",
      "Requirement already satisfied: numpy in /opt/conda/lib/python3.9/site-packages (from shap) (1.21.1)\n",
      "Requirement already satisfied: packaging>20.9 in /opt/conda/lib/python3.9/site-packages (from shap) (21.3)\n",
      "Requirement already satisfied: tqdm>=4.27.0 in /opt/conda/lib/python3.9/site-packages (from shap) (4.61.2)\n",
      "Requirement already satisfied: numba>=0.54 in /opt/conda/lib/python3.9/site-packages (from shap) (0.56.0)\n",
      "Requirement already satisfied: typing-extensions in /opt/conda/lib/python3.9/site-packages (from shap) (4.3.0)\n",
      "Collecting slicer==0.0.8\n",
      "  Downloading slicer-0.0.8-py3-none-any.whl (15 kB)\n",
      "Requirement already satisfied: setuptools in /opt/conda/lib/python3.9/site-packages (from numba>=0.54->shap) (49.6.0.post20210108)\n",
      "Requirement already satisfied: llvmlite<0.40,>=0.39.0dev0 in /opt/conda/lib/python3.9/site-packages (from numba>=0.54->shap) (0.39.0)\n",
      "Requirement already satisfied: pyparsing!=3.0.5,>=2.0.2 in /opt/conda/lib/python3.9/site-packages (from packaging>20.9->shap) (2.4.7)\n",
      "Collecting fonttools>=4.22.0\n",
      "  Downloading fonttools-4.58.0-cp39-cp39-manylinux_2_17_x86_64.manylinux2014_x86_64.whl (4.7 MB)\n",
      "\u001b[K     |████████████████████████████████| 4.7 MB 81.0 MB/s eta 0:00:01\n",
      "\u001b[?25hRequirement already satisfied: python-dateutil>=2.7 in /opt/conda/lib/python3.9/site-packages (from matplotlib) (2.8.1)\n",
      "Requirement already satisfied: cycler>=0.10 in /opt/conda/lib/python3.9/site-packages (from matplotlib) (0.11.0)\n",
      "Collecting contourpy>=1.0.1\n",
      "  Downloading contourpy-1.3.0-cp39-cp39-manylinux_2_17_x86_64.manylinux2014_x86_64.whl (321 kB)\n",
      "\u001b[K     |████████████████████████████████| 321 kB 71.4 MB/s eta 0:00:01\n",
      "\u001b[?25hCollecting matplotlib\n",
      "  Downloading matplotlib-3.9.3-cp39-cp39-manylinux_2_17_x86_64.manylinux2014_x86_64.whl (8.3 MB)\n",
      "\u001b[K     |████████████████████████████████| 8.3 MB 85.5 MB/s eta 0:00:01\n",
      "\u001b[?25h  Downloading matplotlib-3.9.2-cp39-cp39-manylinux_2_17_x86_64.manylinux2014_x86_64.whl (8.3 MB)\n",
      "\u001b[K     |████████████████████████████████| 8.3 MB 76.9 MB/s eta 0:00:01\n",
      "\u001b[?25h  Downloading matplotlib-3.9.1.post1-cp39-cp39-manylinux_2_17_x86_64.manylinux2014_x86_64.whl (8.3 MB)\n",
      "\u001b[K     |████████████████████████████████| 8.3 MB 45.8 MB/s eta 0:00:01\n",
      "\u001b[?25h  Downloading matplotlib-3.9.0-cp39-cp39-manylinux_2_17_x86_64.manylinux2014_x86_64.whl (8.3 MB)\n",
      "\u001b[K     |████████████████████████████████| 8.3 MB 49.3 MB/s eta 0:00:01\n",
      "\u001b[?25h  Downloading matplotlib-3.8.4-cp39-cp39-manylinux_2_17_x86_64.manylinux2014_x86_64.whl (11.6 MB)\n",
      "\u001b[K     |████████████████████████████████| 11.6 MB 64.5 MB/s eta 0:00:01\n",
      "\u001b[?25hCollecting importlib-resources>=3.2.0\n",
      "  Downloading importlib_resources-6.5.2-py3-none-any.whl (37 kB)\n",
      "Requirement already satisfied: pillow>=8 in /opt/conda/lib/python3.9/site-packages (from matplotlib) (8.4.0)\n",
      "Requirement already satisfied: kiwisolver>=1.3.1 in /opt/conda/lib/python3.9/site-packages (from matplotlib) (1.4.4)\n",
      "Collecting contourpy>=1.0.1\n",
      "  Downloading contourpy-1.2.1-cp39-cp39-manylinux_2_17_x86_64.manylinux2014_x86_64.whl (304 kB)\n",
      "\u001b[K     |████████████████████████████████| 304 kB 91.1 MB/s eta 0:00:01\n",
      "\u001b[?25hRequirement already satisfied: zipp>=3.1.0 in /opt/conda/lib/python3.9/site-packages (from importlib-resources>=3.2.0->matplotlib) (3.5.0)\n",
      "Requirement already satisfied: six>=1.5 in /opt/conda/lib/python3.9/site-packages (from python-dateutil>=2.7->matplotlib) (1.16.0)\n",
      "Requirement already satisfied: pytz>=2017.3 in /opt/conda/lib/python3.9/site-packages (from pandas->shap) (2021.1)\n",
      "Requirement already satisfied: joblib>=1.2.0 in /opt/conda/lib/python3.9/site-packages (from scikit-learn->shap) (1.5.0)\n",
      "Requirement already satisfied: threadpoolctl>=3.1.0 in /opt/conda/lib/python3.9/site-packages (from scikit-learn->shap) (3.1.0)\n",
      "Installing collected packages: slicer, importlib-resources, fonttools, contourpy, cloudpickle, shap, matplotlib\n",
      "  Attempting uninstall: matplotlib\n",
      "    Found existing installation: matplotlib 3.3.4\n",
      "    Uninstalling matplotlib-3.3.4:\n",
      "      Successfully uninstalled matplotlib-3.3.4\n",
      "Successfully installed cloudpickle-3.1.1 contourpy-1.2.1 fonttools-4.58.0 importlib-resources-6.5.2 matplotlib-3.8.4 shap-0.47.2 slicer-0.0.8\n",
      "Requirement already satisfied: shap in /opt/conda/lib/python3.9/site-packages (0.47.2)\n",
      "Requirement already satisfied: typing-extensions in /opt/conda/lib/python3.9/site-packages (from shap) (4.3.0)\n",
      "Requirement already satisfied: numpy in /opt/conda/lib/python3.9/site-packages (from shap) (1.21.1)\n",
      "Requirement already satisfied: scipy in /opt/conda/lib/python3.9/site-packages (from shap) (1.9.1)\n",
      "Requirement already satisfied: tqdm>=4.27.0 in /opt/conda/lib/python3.9/site-packages (from shap) (4.61.2)\n",
      "Requirement already satisfied: packaging>20.9 in /opt/conda/lib/python3.9/site-packages (from shap) (21.3)\n",
      "Requirement already satisfied: numba>=0.54 in /opt/conda/lib/python3.9/site-packages (from shap) (0.56.0)\n",
      "Requirement already satisfied: slicer==0.0.8 in /opt/conda/lib/python3.9/site-packages (from shap) (0.0.8)\n",
      "Requirement already satisfied: scikit-learn in /opt/conda/lib/python3.9/site-packages (from shap) (1.6.1)\n",
      "Requirement already satisfied: cloudpickle in /opt/conda/lib/python3.9/site-packages (from shap) (3.1.1)\n",
      "Requirement already satisfied: pandas in /opt/conda/lib/python3.9/site-packages (from shap) (1.2.4)\n",
      "Requirement already satisfied: setuptools in /opt/conda/lib/python3.9/site-packages (from numba>=0.54->shap) (49.6.0.post20210108)\n",
      "Requirement already satisfied: llvmlite<0.40,>=0.39.0dev0 in /opt/conda/lib/python3.9/site-packages (from numba>=0.54->shap) (0.39.0)\n",
      "Requirement already satisfied: pyparsing!=3.0.5,>=2.0.2 in /opt/conda/lib/python3.9/site-packages (from packaging>20.9->shap) (2.4.7)\n",
      "Requirement already satisfied: python-dateutil>=2.7.3 in /opt/conda/lib/python3.9/site-packages (from pandas->shap) (2.8.1)\n",
      "Requirement already satisfied: pytz>=2017.3 in /opt/conda/lib/python3.9/site-packages (from pandas->shap) (2021.1)\n",
      "Requirement already satisfied: six>=1.5 in /opt/conda/lib/python3.9/site-packages (from python-dateutil>=2.7.3->pandas->shap) (1.16.0)\n",
      "Requirement already satisfied: joblib>=1.2.0 in /opt/conda/lib/python3.9/site-packages (from scikit-learn->shap) (1.5.0)\n",
      "Requirement already satisfied: threadpoolctl>=3.1.0 in /opt/conda/lib/python3.9/site-packages (from scikit-learn->shap) (3.1.0)\n",
      "Collecting phik\n",
      "  Downloading phik-0.12.4-cp39-cp39-manylinux_2_17_x86_64.manylinux2014_x86_64.whl (686 kB)\n",
      "\u001b[K     |████████████████████████████████| 686 kB 2.4 MB/s eta 0:00:01\n",
      "\u001b[?25hRequirement already satisfied: numpy>=1.18.0 in /opt/conda/lib/python3.9/site-packages (from phik) (1.21.1)\n",
      "Requirement already satisfied: pandas>=0.25.1 in /opt/conda/lib/python3.9/site-packages (from phik) (1.2.4)\n",
      "Requirement already satisfied: scipy>=1.5.2 in /opt/conda/lib/python3.9/site-packages (from phik) (1.9.1)\n",
      "Requirement already satisfied: joblib>=0.14.1 in /opt/conda/lib/python3.9/site-packages (from phik) (1.5.0)\n",
      "Requirement already satisfied: matplotlib>=2.2.3 in /opt/conda/lib/python3.9/site-packages (from phik) (3.8.4)\n",
      "Requirement already satisfied: cycler>=0.10 in /opt/conda/lib/python3.9/site-packages (from matplotlib>=2.2.3->phik) (0.11.0)\n",
      "Requirement already satisfied: pillow>=8 in /opt/conda/lib/python3.9/site-packages (from matplotlib>=2.2.3->phik) (8.4.0)\n",
      "Requirement already satisfied: python-dateutil>=2.7 in /opt/conda/lib/python3.9/site-packages (from matplotlib>=2.2.3->phik) (2.8.1)\n",
      "Requirement already satisfied: importlib-resources>=3.2.0 in /opt/conda/lib/python3.9/site-packages (from matplotlib>=2.2.3->phik) (6.5.2)\n",
      "Requirement already satisfied: pyparsing>=2.3.1 in /opt/conda/lib/python3.9/site-packages (from matplotlib>=2.2.3->phik) (2.4.7)\n",
      "Requirement already satisfied: fonttools>=4.22.0 in /opt/conda/lib/python3.9/site-packages (from matplotlib>=2.2.3->phik) (4.58.0)\n",
      "Requirement already satisfied: contourpy>=1.0.1 in /opt/conda/lib/python3.9/site-packages (from matplotlib>=2.2.3->phik) (1.2.1)\n",
      "Requirement already satisfied: packaging>=20.0 in /opt/conda/lib/python3.9/site-packages (from matplotlib>=2.2.3->phik) (21.3)\n",
      "Requirement already satisfied: kiwisolver>=1.3.1 in /opt/conda/lib/python3.9/site-packages (from matplotlib>=2.2.3->phik) (1.4.4)\n",
      "Requirement already satisfied: zipp>=3.1.0 in /opt/conda/lib/python3.9/site-packages (from importlib-resources>=3.2.0->matplotlib>=2.2.3->phik) (3.5.0)\n",
      "Requirement already satisfied: pytz>=2017.3 in /opt/conda/lib/python3.9/site-packages (from pandas>=0.25.1->phik) (2021.1)\n",
      "Requirement already satisfied: six>=1.5 in /opt/conda/lib/python3.9/site-packages (from python-dateutil>=2.7->matplotlib>=2.2.3->phik) (1.16.0)\n",
      "Installing collected packages: phik\n",
      "Successfully installed phik-0.12.4\n",
      "Requirement already satisfied: seaborn in /opt/conda/lib/python3.9/site-packages (0.11.1)\n",
      "Collecting seaborn\n",
      "  Downloading seaborn-0.13.2-py3-none-any.whl (294 kB)\n",
      "\u001b[K     |████████████████████████████████| 294 kB 1.3 MB/s eta 0:00:01\n",
      "\u001b[?25hRequirement already satisfied: numpy!=1.24.0,>=1.20 in /opt/conda/lib/python3.9/site-packages (from seaborn) (1.21.1)\n",
      "Requirement already satisfied: pandas>=1.2 in /opt/conda/lib/python3.9/site-packages (from seaborn) (1.2.4)\n",
      "Requirement already satisfied: matplotlib!=3.6.1,>=3.4 in /opt/conda/lib/python3.9/site-packages (from seaborn) (3.8.4)\n",
      "Requirement already satisfied: fonttools>=4.22.0 in /opt/conda/lib/python3.9/site-packages (from matplotlib!=3.6.1,>=3.4->seaborn) (4.58.0)\n",
      "Requirement already satisfied: python-dateutil>=2.7 in /opt/conda/lib/python3.9/site-packages (from matplotlib!=3.6.1,>=3.4->seaborn) (2.8.1)\n",
      "Requirement already satisfied: cycler>=0.10 in /opt/conda/lib/python3.9/site-packages (from matplotlib!=3.6.1,>=3.4->seaborn) (0.11.0)\n",
      "Requirement already satisfied: importlib-resources>=3.2.0 in /opt/conda/lib/python3.9/site-packages (from matplotlib!=3.6.1,>=3.4->seaborn) (6.5.2)\n",
      "Requirement already satisfied: pillow>=8 in /opt/conda/lib/python3.9/site-packages (from matplotlib!=3.6.1,>=3.4->seaborn) (8.4.0)\n",
      "Requirement already satisfied: packaging>=20.0 in /opt/conda/lib/python3.9/site-packages (from matplotlib!=3.6.1,>=3.4->seaborn) (21.3)\n",
      "Requirement already satisfied: contourpy>=1.0.1 in /opt/conda/lib/python3.9/site-packages (from matplotlib!=3.6.1,>=3.4->seaborn) (1.2.1)\n",
      "Requirement already satisfied: kiwisolver>=1.3.1 in /opt/conda/lib/python3.9/site-packages (from matplotlib!=3.6.1,>=3.4->seaborn) (1.4.4)\n",
      "Requirement already satisfied: pyparsing>=2.3.1 in /opt/conda/lib/python3.9/site-packages (from matplotlib!=3.6.1,>=3.4->seaborn) (2.4.7)\n",
      "Requirement already satisfied: zipp>=3.1.0 in /opt/conda/lib/python3.9/site-packages (from importlib-resources>=3.2.0->matplotlib!=3.6.1,>=3.4->seaborn) (3.5.0)\n",
      "Requirement already satisfied: pytz>=2017.3 in /opt/conda/lib/python3.9/site-packages (from pandas>=1.2->seaborn) (2021.1)\n",
      "Requirement already satisfied: six>=1.5 in /opt/conda/lib/python3.9/site-packages (from python-dateutil>=2.7->matplotlib!=3.6.1,>=3.4->seaborn) (1.16.0)\n",
      "Installing collected packages: seaborn\n",
      "  Attempting uninstall: seaborn\n",
      "    Found existing installation: seaborn 0.11.1\n",
      "    Uninstalling seaborn-0.11.1:\n",
      "      Successfully uninstalled seaborn-0.11.1\n",
      "Successfully installed seaborn-0.13.2\n"
     ]
    }
   ],
   "source": [
    "!pip install --upgrade scikit-learn\n",
    "!pip install --upgrade shap matplotlib\n",
    "!pip install shap\n",
    "!pip install phik\n",
    "!pip install --upgrade seaborn"
   ]
  },
  {
   "cell_type": "code",
   "execution_count": 4,
   "id": "53ceb038",
   "metadata": {},
   "outputs": [],
   "source": [
    "from scipy import stats\n",
    "\n",
    "import matplotlib.pyplot as plt\n",
    "import numpy as np\n",
    "import pandas as pd\n",
    "import seaborn as sns\n",
    "import shap\n",
    "import phik\n",
    "\n",
    "from sklearn.compose import ColumnTransformer\n",
    "from sklearn.metrics import (\n",
    "    f1_score, \n",
    "    recall_score, \n",
    "    roc_auc_score, \n",
    "    make_scorer\n",
    ")\n",
    "from sklearn.model_selection import (\n",
    "    RandomizedSearchCV,\n",
    "    train_test_split,\n",
    "    KFold,\n",
    "    StratifiedKFold\n",
    ")\n",
    "from sklearn.pipeline import Pipeline\n",
    "from sklearn.preprocessing import (\n",
    "    MinMaxScaler,\n",
    "    OneHotEncoder,\n",
    "    OrdinalEncoder,\n",
    "    RobustScaler,\n",
    "    StandardScaler,\n",
    "    LabelEncoder\n",
    ")\n",
    "from sklearn.linear_model import LinearRegression, LogisticRegression\n",
    "from sklearn.tree import DecisionTreeRegressor\n",
    "from sklearn.impute import SimpleImputer\n",
    "from sklearn.neighbors import KNeighborsClassifier\n",
    "from sklearn.svm import SVC\n",
    "from sklearn.tree import DecisionTreeClassifier\n",
    "from sklearn.neighbors import KNeighborsRegressor\n",
    "from sklearn.dummy import DummyRegressor, DummyClassifier"
   ]
  },
  {
   "cell_type": "markdown",
   "id": "9584c3ba",
   "metadata": {},
   "source": [
    "## Предсказание уровня удовлетворённости сотрудника"
   ]
  },
  {
   "cell_type": "markdown",
   "id": "9fa10667",
   "metadata": {},
   "source": [
    "### Загрузка данных"
   ]
  },
  {
   "cell_type": "code",
   "execution_count": 5,
   "id": "07caf2c3",
   "metadata": {},
   "outputs": [],
   "source": [
    "train_df=pd.read_csv('/datasets/train_job_satisfaction_rate.csv', index_col='id')\n",
    "testf_df=pd.read_csv('/datasets/test_features.csv', index_col='id')\n",
    "testt_df=pd.read_csv('/datasets/test_target_job_satisfaction_rate.csv', index_col='id')"
   ]
  },
  {
   "cell_type": "code",
   "execution_count": 6,
   "id": "448fa65c",
   "metadata": {},
   "outputs": [
    {
     "data": {
      "text/html": [
       "<div>\n",
       "<style scoped>\n",
       "    .dataframe tbody tr th:only-of-type {\n",
       "        vertical-align: middle;\n",
       "    }\n",
       "\n",
       "    .dataframe tbody tr th {\n",
       "        vertical-align: top;\n",
       "    }\n",
       "\n",
       "    .dataframe thead th {\n",
       "        text-align: right;\n",
       "    }\n",
       "</style>\n",
       "<table border=\"1\" class=\"dataframe\">\n",
       "  <thead>\n",
       "    <tr style=\"text-align: right;\">\n",
       "      <th></th>\n",
       "      <th>dept</th>\n",
       "      <th>level</th>\n",
       "      <th>workload</th>\n",
       "      <th>employment_years</th>\n",
       "      <th>last_year_promo</th>\n",
       "      <th>last_year_violations</th>\n",
       "      <th>supervisor_evaluation</th>\n",
       "      <th>salary</th>\n",
       "      <th>job_satisfaction_rate</th>\n",
       "    </tr>\n",
       "    <tr>\n",
       "      <th>id</th>\n",
       "      <th></th>\n",
       "      <th></th>\n",
       "      <th></th>\n",
       "      <th></th>\n",
       "      <th></th>\n",
       "      <th></th>\n",
       "      <th></th>\n",
       "      <th></th>\n",
       "      <th></th>\n",
       "    </tr>\n",
       "  </thead>\n",
       "  <tbody>\n",
       "    <tr>\n",
       "      <th>155278</th>\n",
       "      <td>sales</td>\n",
       "      <td>junior</td>\n",
       "      <td>medium</td>\n",
       "      <td>2</td>\n",
       "      <td>no</td>\n",
       "      <td>no</td>\n",
       "      <td>1</td>\n",
       "      <td>24000</td>\n",
       "      <td>0.58</td>\n",
       "    </tr>\n",
       "    <tr>\n",
       "      <th>653870</th>\n",
       "      <td>hr</td>\n",
       "      <td>junior</td>\n",
       "      <td>high</td>\n",
       "      <td>2</td>\n",
       "      <td>no</td>\n",
       "      <td>no</td>\n",
       "      <td>5</td>\n",
       "      <td>38400</td>\n",
       "      <td>0.76</td>\n",
       "    </tr>\n",
       "    <tr>\n",
       "      <th>184592</th>\n",
       "      <td>sales</td>\n",
       "      <td>junior</td>\n",
       "      <td>low</td>\n",
       "      <td>1</td>\n",
       "      <td>no</td>\n",
       "      <td>no</td>\n",
       "      <td>2</td>\n",
       "      <td>12000</td>\n",
       "      <td>0.11</td>\n",
       "    </tr>\n",
       "    <tr>\n",
       "      <th>171431</th>\n",
       "      <td>technology</td>\n",
       "      <td>junior</td>\n",
       "      <td>low</td>\n",
       "      <td>4</td>\n",
       "      <td>no</td>\n",
       "      <td>no</td>\n",
       "      <td>2</td>\n",
       "      <td>18000</td>\n",
       "      <td>0.37</td>\n",
       "    </tr>\n",
       "    <tr>\n",
       "      <th>693419</th>\n",
       "      <td>hr</td>\n",
       "      <td>junior</td>\n",
       "      <td>medium</td>\n",
       "      <td>1</td>\n",
       "      <td>no</td>\n",
       "      <td>no</td>\n",
       "      <td>3</td>\n",
       "      <td>22800</td>\n",
       "      <td>0.20</td>\n",
       "    </tr>\n",
       "    <tr>\n",
       "      <th>405448</th>\n",
       "      <td>hr</td>\n",
       "      <td>middle</td>\n",
       "      <td>low</td>\n",
       "      <td>7</td>\n",
       "      <td>no</td>\n",
       "      <td>no</td>\n",
       "      <td>4</td>\n",
       "      <td>30000</td>\n",
       "      <td>0.78</td>\n",
       "    </tr>\n",
       "    <tr>\n",
       "      <th>857135</th>\n",
       "      <td>sales</td>\n",
       "      <td>sinior</td>\n",
       "      <td>medium</td>\n",
       "      <td>9</td>\n",
       "      <td>no</td>\n",
       "      <td>no</td>\n",
       "      <td>3</td>\n",
       "      <td>56400</td>\n",
       "      <td>0.56</td>\n",
       "    </tr>\n",
       "    <tr>\n",
       "      <th>400657</th>\n",
       "      <td>purchasing</td>\n",
       "      <td>middle</td>\n",
       "      <td>high</td>\n",
       "      <td>9</td>\n",
       "      <td>no</td>\n",
       "      <td>no</td>\n",
       "      <td>3</td>\n",
       "      <td>52800</td>\n",
       "      <td>0.44</td>\n",
       "    </tr>\n",
       "    <tr>\n",
       "      <th>198846</th>\n",
       "      <td>hr</td>\n",
       "      <td>junior</td>\n",
       "      <td>low</td>\n",
       "      <td>1</td>\n",
       "      <td>no</td>\n",
       "      <td>no</td>\n",
       "      <td>2</td>\n",
       "      <td>13200</td>\n",
       "      <td>0.14</td>\n",
       "    </tr>\n",
       "    <tr>\n",
       "      <th>149797</th>\n",
       "      <td>technology</td>\n",
       "      <td>middle</td>\n",
       "      <td>high</td>\n",
       "      <td>6</td>\n",
       "      <td>no</td>\n",
       "      <td>no</td>\n",
       "      <td>3</td>\n",
       "      <td>54000</td>\n",
       "      <td>0.47</td>\n",
       "    </tr>\n",
       "  </tbody>\n",
       "</table>\n",
       "</div>"
      ],
      "text/plain": [
       "              dept   level workload  employment_years last_year_promo  \\\n",
       "id                                                                      \n",
       "155278       sales  junior   medium                 2              no   \n",
       "653870          hr  junior     high                 2              no   \n",
       "184592       sales  junior      low                 1              no   \n",
       "171431  technology  junior      low                 4              no   \n",
       "693419          hr  junior   medium                 1              no   \n",
       "405448          hr  middle      low                 7              no   \n",
       "857135       sales  sinior   medium                 9              no   \n",
       "400657  purchasing  middle     high                 9              no   \n",
       "198846          hr  junior      low                 1              no   \n",
       "149797  technology  middle     high                 6              no   \n",
       "\n",
       "       last_year_violations  supervisor_evaluation  salary  \\\n",
       "id                                                           \n",
       "155278                   no                      1   24000   \n",
       "653870                   no                      5   38400   \n",
       "184592                   no                      2   12000   \n",
       "171431                   no                      2   18000   \n",
       "693419                   no                      3   22800   \n",
       "405448                   no                      4   30000   \n",
       "857135                   no                      3   56400   \n",
       "400657                   no                      3   52800   \n",
       "198846                   no                      2   13200   \n",
       "149797                   no                      3   54000   \n",
       "\n",
       "        job_satisfaction_rate  \n",
       "id                             \n",
       "155278                   0.58  \n",
       "653870                   0.76  \n",
       "184592                   0.11  \n",
       "171431                   0.37  \n",
       "693419                   0.20  \n",
       "405448                   0.78  \n",
       "857135                   0.56  \n",
       "400657                   0.44  \n",
       "198846                   0.14  \n",
       "149797                   0.47  "
      ]
     },
     "execution_count": 6,
     "metadata": {},
     "output_type": "execute_result"
    }
   ],
   "source": [
    "train_df.head(10)"
   ]
  },
  {
   "cell_type": "code",
   "execution_count": 7,
   "id": "512972bd",
   "metadata": {},
   "outputs": [
    {
     "name": "stdout",
     "output_type": "stream",
     "text": [
      "<class 'pandas.core.frame.DataFrame'>\n",
      "Int64Index: 4000 entries, 155278 to 338347\n",
      "Data columns (total 9 columns):\n",
      " #   Column                 Non-Null Count  Dtype  \n",
      "---  ------                 --------------  -----  \n",
      " 0   dept                   3994 non-null   object \n",
      " 1   level                  3996 non-null   object \n",
      " 2   workload               4000 non-null   object \n",
      " 3   employment_years       4000 non-null   int64  \n",
      " 4   last_year_promo        4000 non-null   object \n",
      " 5   last_year_violations   4000 non-null   object \n",
      " 6   supervisor_evaluation  4000 non-null   int64  \n",
      " 7   salary                 4000 non-null   int64  \n",
      " 8   job_satisfaction_rate  4000 non-null   float64\n",
      "dtypes: float64(1), int64(3), object(5)\n",
      "memory usage: 312.5+ KB\n"
     ]
    }
   ],
   "source": [
    "train_df.info()"
   ]
  },
  {
   "cell_type": "code",
   "execution_count": 8,
   "id": "04a610f7",
   "metadata": {},
   "outputs": [
    {
     "data": {
      "text/html": [
       "<div>\n",
       "<style scoped>\n",
       "    .dataframe tbody tr th:only-of-type {\n",
       "        vertical-align: middle;\n",
       "    }\n",
       "\n",
       "    .dataframe tbody tr th {\n",
       "        vertical-align: top;\n",
       "    }\n",
       "\n",
       "    .dataframe thead th {\n",
       "        text-align: right;\n",
       "    }\n",
       "</style>\n",
       "<table border=\"1\" class=\"dataframe\">\n",
       "  <thead>\n",
       "    <tr style=\"text-align: right;\">\n",
       "      <th></th>\n",
       "      <th>dept</th>\n",
       "      <th>level</th>\n",
       "      <th>workload</th>\n",
       "      <th>employment_years</th>\n",
       "      <th>last_year_promo</th>\n",
       "      <th>last_year_violations</th>\n",
       "      <th>supervisor_evaluation</th>\n",
       "      <th>salary</th>\n",
       "    </tr>\n",
       "    <tr>\n",
       "      <th>id</th>\n",
       "      <th></th>\n",
       "      <th></th>\n",
       "      <th></th>\n",
       "      <th></th>\n",
       "      <th></th>\n",
       "      <th></th>\n",
       "      <th></th>\n",
       "      <th></th>\n",
       "    </tr>\n",
       "  </thead>\n",
       "  <tbody>\n",
       "    <tr>\n",
       "      <th>196510</th>\n",
       "      <td>purchasing</td>\n",
       "      <td>middle</td>\n",
       "      <td>low</td>\n",
       "      <td>4</td>\n",
       "      <td>no</td>\n",
       "      <td>no</td>\n",
       "      <td>4</td>\n",
       "      <td>19200</td>\n",
       "    </tr>\n",
       "    <tr>\n",
       "      <th>524053</th>\n",
       "      <td>marketing</td>\n",
       "      <td>junior</td>\n",
       "      <td>medium</td>\n",
       "      <td>1</td>\n",
       "      <td>no</td>\n",
       "      <td>yes</td>\n",
       "      <td>4</td>\n",
       "      <td>27600</td>\n",
       "    </tr>\n",
       "    <tr>\n",
       "      <th>282510</th>\n",
       "      <td>sales</td>\n",
       "      <td>middle</td>\n",
       "      <td>medium</td>\n",
       "      <td>7</td>\n",
       "      <td>no</td>\n",
       "      <td>no</td>\n",
       "      <td>4</td>\n",
       "      <td>43200</td>\n",
       "    </tr>\n",
       "    <tr>\n",
       "      <th>356579</th>\n",
       "      <td>technology</td>\n",
       "      <td>middle</td>\n",
       "      <td>low</td>\n",
       "      <td>7</td>\n",
       "      <td>no</td>\n",
       "      <td>no</td>\n",
       "      <td>2</td>\n",
       "      <td>21600</td>\n",
       "    </tr>\n",
       "    <tr>\n",
       "      <th>222648</th>\n",
       "      <td>sales</td>\n",
       "      <td>junior</td>\n",
       "      <td>medium</td>\n",
       "      <td>1</td>\n",
       "      <td>no</td>\n",
       "      <td>no</td>\n",
       "      <td>4</td>\n",
       "      <td>27600</td>\n",
       "    </tr>\n",
       "    <tr>\n",
       "      <th>615683</th>\n",
       "      <td>marketing</td>\n",
       "      <td>sinior</td>\n",
       "      <td>high</td>\n",
       "      <td>8</td>\n",
       "      <td>no</td>\n",
       "      <td>no</td>\n",
       "      <td>3</td>\n",
       "      <td>79200</td>\n",
       "    </tr>\n",
       "    <tr>\n",
       "      <th>111132</th>\n",
       "      <td>purchasing</td>\n",
       "      <td>middle</td>\n",
       "      <td>low</td>\n",
       "      <td>3</td>\n",
       "      <td>no</td>\n",
       "      <td>no</td>\n",
       "      <td>3</td>\n",
       "      <td>19200</td>\n",
       "    </tr>\n",
       "    <tr>\n",
       "      <th>445276</th>\n",
       "      <td>technology</td>\n",
       "      <td>junior</td>\n",
       "      <td>low</td>\n",
       "      <td>1</td>\n",
       "      <td>no</td>\n",
       "      <td>no</td>\n",
       "      <td>3</td>\n",
       "      <td>22800</td>\n",
       "    </tr>\n",
       "    <tr>\n",
       "      <th>224309</th>\n",
       "      <td>sales</td>\n",
       "      <td>sinior</td>\n",
       "      <td>medium</td>\n",
       "      <td>8</td>\n",
       "      <td>no</td>\n",
       "      <td>no</td>\n",
       "      <td>3</td>\n",
       "      <td>58800</td>\n",
       "    </tr>\n",
       "    <tr>\n",
       "      <th>566028</th>\n",
       "      <td>sales</td>\n",
       "      <td>middle</td>\n",
       "      <td>low</td>\n",
       "      <td>4</td>\n",
       "      <td>no</td>\n",
       "      <td>no</td>\n",
       "      <td>5</td>\n",
       "      <td>24000</td>\n",
       "    </tr>\n",
       "  </tbody>\n",
       "</table>\n",
       "</div>"
      ],
      "text/plain": [
       "              dept   level workload  employment_years last_year_promo  \\\n",
       "id                                                                      \n",
       "196510  purchasing  middle      low                 4              no   \n",
       "524053   marketing  junior   medium                 1              no   \n",
       "282510       sales  middle   medium                 7              no   \n",
       "356579  technology  middle      low                 7              no   \n",
       "222648       sales  junior   medium                 1              no   \n",
       "615683   marketing  sinior     high                 8              no   \n",
       "111132  purchasing  middle      low                 3              no   \n",
       "445276  technology  junior      low                 1              no   \n",
       "224309       sales  sinior   medium                 8              no   \n",
       "566028       sales  middle      low                 4              no   \n",
       "\n",
       "       last_year_violations  supervisor_evaluation  salary  \n",
       "id                                                          \n",
       "196510                   no                      4   19200  \n",
       "524053                  yes                      4   27600  \n",
       "282510                   no                      4   43200  \n",
       "356579                   no                      2   21600  \n",
       "222648                   no                      4   27600  \n",
       "615683                   no                      3   79200  \n",
       "111132                   no                      3   19200  \n",
       "445276                   no                      3   22800  \n",
       "224309                   no                      3   58800  \n",
       "566028                   no                      5   24000  "
      ]
     },
     "execution_count": 8,
     "metadata": {},
     "output_type": "execute_result"
    }
   ],
   "source": [
    "testf_df.sample(10)"
   ]
  },
  {
   "cell_type": "code",
   "execution_count": 9,
   "id": "4c6897d6",
   "metadata": {},
   "outputs": [
    {
     "name": "stdout",
     "output_type": "stream",
     "text": [
      "<class 'pandas.core.frame.DataFrame'>\n",
      "Int64Index: 2000 entries, 485046 to 771859\n",
      "Data columns (total 8 columns):\n",
      " #   Column                 Non-Null Count  Dtype \n",
      "---  ------                 --------------  ----- \n",
      " 0   dept                   1998 non-null   object\n",
      " 1   level                  1999 non-null   object\n",
      " 2   workload               2000 non-null   object\n",
      " 3   employment_years       2000 non-null   int64 \n",
      " 4   last_year_promo        2000 non-null   object\n",
      " 5   last_year_violations   2000 non-null   object\n",
      " 6   supervisor_evaluation  2000 non-null   int64 \n",
      " 7   salary                 2000 non-null   int64 \n",
      "dtypes: int64(3), object(5)\n",
      "memory usage: 140.6+ KB\n"
     ]
    }
   ],
   "source": [
    "testf_df.info()"
   ]
  },
  {
   "cell_type": "code",
   "execution_count": 10,
   "id": "a7e98df8",
   "metadata": {},
   "outputs": [
    {
     "data": {
      "text/html": [
       "<div>\n",
       "<style scoped>\n",
       "    .dataframe tbody tr th:only-of-type {\n",
       "        vertical-align: middle;\n",
       "    }\n",
       "\n",
       "    .dataframe tbody tr th {\n",
       "        vertical-align: top;\n",
       "    }\n",
       "\n",
       "    .dataframe thead th {\n",
       "        text-align: right;\n",
       "    }\n",
       "</style>\n",
       "<table border=\"1\" class=\"dataframe\">\n",
       "  <thead>\n",
       "    <tr style=\"text-align: right;\">\n",
       "      <th></th>\n",
       "      <th>job_satisfaction_rate</th>\n",
       "    </tr>\n",
       "    <tr>\n",
       "      <th>id</th>\n",
       "      <th></th>\n",
       "    </tr>\n",
       "  </thead>\n",
       "  <tbody>\n",
       "    <tr>\n",
       "      <th>472068</th>\n",
       "      <td>0.88</td>\n",
       "    </tr>\n",
       "    <tr>\n",
       "      <th>955747</th>\n",
       "      <td>0.87</td>\n",
       "    </tr>\n",
       "    <tr>\n",
       "      <th>926986</th>\n",
       "      <td>0.57</td>\n",
       "    </tr>\n",
       "    <tr>\n",
       "      <th>529747</th>\n",
       "      <td>0.77</td>\n",
       "    </tr>\n",
       "    <tr>\n",
       "      <th>763138</th>\n",
       "      <td>0.50</td>\n",
       "    </tr>\n",
       "    <tr>\n",
       "      <th>923671</th>\n",
       "      <td>0.88</td>\n",
       "    </tr>\n",
       "    <tr>\n",
       "      <th>611939</th>\n",
       "      <td>0.32</td>\n",
       "    </tr>\n",
       "    <tr>\n",
       "      <th>349095</th>\n",
       "      <td>0.65</td>\n",
       "    </tr>\n",
       "    <tr>\n",
       "      <th>309991</th>\n",
       "      <td>0.67</td>\n",
       "    </tr>\n",
       "    <tr>\n",
       "      <th>753322</th>\n",
       "      <td>0.73</td>\n",
       "    </tr>\n",
       "  </tbody>\n",
       "</table>\n",
       "</div>"
      ],
      "text/plain": [
       "        job_satisfaction_rate\n",
       "id                           \n",
       "472068                   0.88\n",
       "955747                   0.87\n",
       "926986                   0.57\n",
       "529747                   0.77\n",
       "763138                   0.50\n",
       "923671                   0.88\n",
       "611939                   0.32\n",
       "349095                   0.65\n",
       "309991                   0.67\n",
       "753322                   0.73"
      ]
     },
     "execution_count": 10,
     "metadata": {},
     "output_type": "execute_result"
    }
   ],
   "source": [
    "testt_df.sample(10)"
   ]
  },
  {
   "cell_type": "code",
   "execution_count": 11,
   "id": "2c025f16",
   "metadata": {},
   "outputs": [
    {
     "name": "stdout",
     "output_type": "stream",
     "text": [
      "<class 'pandas.core.frame.DataFrame'>\n",
      "Int64Index: 2000 entries, 130604 to 648995\n",
      "Data columns (total 1 columns):\n",
      " #   Column                 Non-Null Count  Dtype  \n",
      "---  ------                 --------------  -----  \n",
      " 0   job_satisfaction_rate  2000 non-null   float64\n",
      "dtypes: float64(1)\n",
      "memory usage: 31.2 KB\n"
     ]
    }
   ],
   "source": [
    "testt_df.info()"
   ]
  },
  {
   "cell_type": "markdown",
   "id": "6ff0d1a8",
   "metadata": {},
   "source": [
    "Есть незначительное количество пропусков. Типы данных соответствуют смыслу, названия столбцов записаны в принятом виде."
   ]
  },
  {
   "cell_type": "markdown",
   "id": "4fb453d9",
   "metadata": {},
   "source": [
    "### Предобработка данных"
   ]
  },
  {
   "cell_type": "markdown",
   "id": "8d2cfc67",
   "metadata": {},
   "source": [
    "Найдем уникальные значения:"
   ]
  },
  {
   "cell_type": "code",
   "execution_count": 12,
   "id": "ad891c3e",
   "metadata": {},
   "outputs": [],
   "source": [
    "def uniques(df):\n",
    "    for col in df.select_dtypes(exclude='number').columns.tolist():\n",
    "        unique_values = df[col].unique()\n",
    "        print(f\"Уникальные значения в столбце '{col}': {unique_values}\")"
   ]
  },
  {
   "cell_type": "code",
   "execution_count": 13,
   "id": "f27e15a9",
   "metadata": {},
   "outputs": [
    {
     "name": "stdout",
     "output_type": "stream",
     "text": [
      "Уникальные значения в столбце 'dept': ['sales' 'hr' 'technology' 'purchasing' 'marketing' nan]\n",
      "Уникальные значения в столбце 'level': ['junior' 'middle' 'sinior' nan]\n",
      "Уникальные значения в столбце 'workload': ['medium' 'high' 'low']\n",
      "Уникальные значения в столбце 'last_year_promo': ['no' 'yes']\n",
      "Уникальные значения в столбце 'last_year_violations': ['no' 'yes']\n"
     ]
    }
   ],
   "source": [
    "uniques(train_df)"
   ]
  },
  {
   "cell_type": "code",
   "execution_count": 14,
   "id": "cfe7592c",
   "metadata": {},
   "outputs": [
    {
     "name": "stdout",
     "output_type": "stream",
     "text": [
      "Уникальные значения в столбце 'dept': ['marketing' 'hr' 'sales' 'purchasing' 'technology' nan ' ']\n",
      "Уникальные значения в столбце 'level': ['junior' 'middle' 'sinior' nan]\n",
      "Уникальные значения в столбце 'workload': ['medium' 'low' 'high' ' ']\n",
      "Уникальные значения в столбце 'last_year_promo': ['no' 'yes']\n",
      "Уникальные значения в столбце 'last_year_violations': ['no' 'yes']\n"
     ]
    }
   ],
   "source": [
    "uniques(testf_df)"
   ]
  },
  {
   "cell_type": "markdown",
   "id": "e9faa7de",
   "metadata": {},
   "source": [
    "Заменим пропуски вида \" \" на *NaN*"
   ]
  },
  {
   "cell_type": "code",
   "execution_count": 15,
   "id": "df20ae6f",
   "metadata": {},
   "outputs": [],
   "source": [
    "testf_df['dept'] = testf_df['dept'].replace({' ': np.nan})\n",
    "testf_df['workload'] = testf_df['workload'].replace({' ': np.nan})"
   ]
  },
  {
   "cell_type": "code",
   "execution_count": 16,
   "id": "64be8676",
   "metadata": {},
   "outputs": [
    {
     "data": {
      "text/html": [
       "<div>\n",
       "<style scoped>\n",
       "    .dataframe tbody tr th:only-of-type {\n",
       "        vertical-align: middle;\n",
       "    }\n",
       "\n",
       "    .dataframe tbody tr th {\n",
       "        vertical-align: top;\n",
       "    }\n",
       "\n",
       "    .dataframe thead th {\n",
       "        text-align: right;\n",
       "    }\n",
       "</style>\n",
       "<table border=\"1\" class=\"dataframe\">\n",
       "  <thead>\n",
       "    <tr style=\"text-align: right;\">\n",
       "      <th></th>\n",
       "      <th>dept</th>\n",
       "      <th>level</th>\n",
       "      <th>workload</th>\n",
       "      <th>employment_years</th>\n",
       "      <th>last_year_promo</th>\n",
       "      <th>last_year_violations</th>\n",
       "      <th>supervisor_evaluation</th>\n",
       "      <th>salary</th>\n",
       "      <th>job_satisfaction_rate</th>\n",
       "    </tr>\n",
       "  </thead>\n",
       "  <tbody>\n",
       "    <tr>\n",
       "      <th>count</th>\n",
       "      <td>3994</td>\n",
       "      <td>3996</td>\n",
       "      <td>4000</td>\n",
       "      <td>4000.000000</td>\n",
       "      <td>4000</td>\n",
       "      <td>4000</td>\n",
       "      <td>4000.000000</td>\n",
       "      <td>4000.000000</td>\n",
       "      <td>4000.000000</td>\n",
       "    </tr>\n",
       "    <tr>\n",
       "      <th>unique</th>\n",
       "      <td>5</td>\n",
       "      <td>3</td>\n",
       "      <td>3</td>\n",
       "      <td>NaN</td>\n",
       "      <td>2</td>\n",
       "      <td>2</td>\n",
       "      <td>NaN</td>\n",
       "      <td>NaN</td>\n",
       "      <td>NaN</td>\n",
       "    </tr>\n",
       "    <tr>\n",
       "      <th>top</th>\n",
       "      <td>sales</td>\n",
       "      <td>junior</td>\n",
       "      <td>medium</td>\n",
       "      <td>NaN</td>\n",
       "      <td>no</td>\n",
       "      <td>no</td>\n",
       "      <td>NaN</td>\n",
       "      <td>NaN</td>\n",
       "      <td>NaN</td>\n",
       "    </tr>\n",
       "    <tr>\n",
       "      <th>freq</th>\n",
       "      <td>1512</td>\n",
       "      <td>1894</td>\n",
       "      <td>2066</td>\n",
       "      <td>NaN</td>\n",
       "      <td>3880</td>\n",
       "      <td>3441</td>\n",
       "      <td>NaN</td>\n",
       "      <td>NaN</td>\n",
       "      <td>NaN</td>\n",
       "    </tr>\n",
       "    <tr>\n",
       "      <th>mean</th>\n",
       "      <td>NaN</td>\n",
       "      <td>NaN</td>\n",
       "      <td>NaN</td>\n",
       "      <td>3.718500</td>\n",
       "      <td>NaN</td>\n",
       "      <td>NaN</td>\n",
       "      <td>3.476500</td>\n",
       "      <td>33926.700000</td>\n",
       "      <td>0.533995</td>\n",
       "    </tr>\n",
       "    <tr>\n",
       "      <th>std</th>\n",
       "      <td>NaN</td>\n",
       "      <td>NaN</td>\n",
       "      <td>NaN</td>\n",
       "      <td>2.542513</td>\n",
       "      <td>NaN</td>\n",
       "      <td>NaN</td>\n",
       "      <td>1.008812</td>\n",
       "      <td>14900.703838</td>\n",
       "      <td>0.225327</td>\n",
       "    </tr>\n",
       "    <tr>\n",
       "      <th>min</th>\n",
       "      <td>NaN</td>\n",
       "      <td>NaN</td>\n",
       "      <td>NaN</td>\n",
       "      <td>1.000000</td>\n",
       "      <td>NaN</td>\n",
       "      <td>NaN</td>\n",
       "      <td>1.000000</td>\n",
       "      <td>12000.000000</td>\n",
       "      <td>0.030000</td>\n",
       "    </tr>\n",
       "    <tr>\n",
       "      <th>25%</th>\n",
       "      <td>NaN</td>\n",
       "      <td>NaN</td>\n",
       "      <td>NaN</td>\n",
       "      <td>2.000000</td>\n",
       "      <td>NaN</td>\n",
       "      <td>NaN</td>\n",
       "      <td>3.000000</td>\n",
       "      <td>22800.000000</td>\n",
       "      <td>0.360000</td>\n",
       "    </tr>\n",
       "    <tr>\n",
       "      <th>50%</th>\n",
       "      <td>NaN</td>\n",
       "      <td>NaN</td>\n",
       "      <td>NaN</td>\n",
       "      <td>3.000000</td>\n",
       "      <td>NaN</td>\n",
       "      <td>NaN</td>\n",
       "      <td>4.000000</td>\n",
       "      <td>30000.000000</td>\n",
       "      <td>0.560000</td>\n",
       "    </tr>\n",
       "    <tr>\n",
       "      <th>75%</th>\n",
       "      <td>NaN</td>\n",
       "      <td>NaN</td>\n",
       "      <td>NaN</td>\n",
       "      <td>6.000000</td>\n",
       "      <td>NaN</td>\n",
       "      <td>NaN</td>\n",
       "      <td>4.000000</td>\n",
       "      <td>43200.000000</td>\n",
       "      <td>0.710000</td>\n",
       "    </tr>\n",
       "    <tr>\n",
       "      <th>max</th>\n",
       "      <td>NaN</td>\n",
       "      <td>NaN</td>\n",
       "      <td>NaN</td>\n",
       "      <td>10.000000</td>\n",
       "      <td>NaN</td>\n",
       "      <td>NaN</td>\n",
       "      <td>5.000000</td>\n",
       "      <td>98400.000000</td>\n",
       "      <td>1.000000</td>\n",
       "    </tr>\n",
       "  </tbody>\n",
       "</table>\n",
       "</div>"
      ],
      "text/plain": [
       "         dept   level workload  employment_years last_year_promo  \\\n",
       "count    3994    3996     4000       4000.000000            4000   \n",
       "unique      5       3        3               NaN               2   \n",
       "top     sales  junior   medium               NaN              no   \n",
       "freq     1512    1894     2066               NaN            3880   \n",
       "mean      NaN     NaN      NaN          3.718500             NaN   \n",
       "std       NaN     NaN      NaN          2.542513             NaN   \n",
       "min       NaN     NaN      NaN          1.000000             NaN   \n",
       "25%       NaN     NaN      NaN          2.000000             NaN   \n",
       "50%       NaN     NaN      NaN          3.000000             NaN   \n",
       "75%       NaN     NaN      NaN          6.000000             NaN   \n",
       "max       NaN     NaN      NaN         10.000000             NaN   \n",
       "\n",
       "       last_year_violations  supervisor_evaluation        salary  \\\n",
       "count                  4000            4000.000000   4000.000000   \n",
       "unique                    2                    NaN           NaN   \n",
       "top                      no                    NaN           NaN   \n",
       "freq                   3441                    NaN           NaN   \n",
       "mean                    NaN               3.476500  33926.700000   \n",
       "std                     NaN               1.008812  14900.703838   \n",
       "min                     NaN               1.000000  12000.000000   \n",
       "25%                     NaN               3.000000  22800.000000   \n",
       "50%                     NaN               4.000000  30000.000000   \n",
       "75%                     NaN               4.000000  43200.000000   \n",
       "max                     NaN               5.000000  98400.000000   \n",
       "\n",
       "        job_satisfaction_rate  \n",
       "count             4000.000000  \n",
       "unique                    NaN  \n",
       "top                       NaN  \n",
       "freq                      NaN  \n",
       "mean                 0.533995  \n",
       "std                  0.225327  \n",
       "min                  0.030000  \n",
       "25%                  0.360000  \n",
       "50%                  0.560000  \n",
       "75%                  0.710000  \n",
       "max                  1.000000  "
      ]
     },
     "execution_count": 16,
     "metadata": {},
     "output_type": "execute_result"
    }
   ],
   "source": [
    "train_df.describe(include='all')"
   ]
  },
  {
   "cell_type": "code",
   "execution_count": 17,
   "id": "cfe4b85b",
   "metadata": {
    "scrolled": true
   },
   "outputs": [
    {
     "data": {
      "text/html": [
       "<div>\n",
       "<style scoped>\n",
       "    .dataframe tbody tr th:only-of-type {\n",
       "        vertical-align: middle;\n",
       "    }\n",
       "\n",
       "    .dataframe tbody tr th {\n",
       "        vertical-align: top;\n",
       "    }\n",
       "\n",
       "    .dataframe thead th {\n",
       "        text-align: right;\n",
       "    }\n",
       "</style>\n",
       "<table border=\"1\" class=\"dataframe\">\n",
       "  <thead>\n",
       "    <tr style=\"text-align: right;\">\n",
       "      <th></th>\n",
       "      <th>dept</th>\n",
       "      <th>level</th>\n",
       "      <th>workload</th>\n",
       "      <th>employment_years</th>\n",
       "      <th>last_year_promo</th>\n",
       "      <th>last_year_violations</th>\n",
       "      <th>supervisor_evaluation</th>\n",
       "      <th>salary</th>\n",
       "    </tr>\n",
       "  </thead>\n",
       "  <tbody>\n",
       "    <tr>\n",
       "      <th>count</th>\n",
       "      <td>1997</td>\n",
       "      <td>1999</td>\n",
       "      <td>1999</td>\n",
       "      <td>2000.000000</td>\n",
       "      <td>2000</td>\n",
       "      <td>2000</td>\n",
       "      <td>2000.000000</td>\n",
       "      <td>2000.000000</td>\n",
       "    </tr>\n",
       "    <tr>\n",
       "      <th>unique</th>\n",
       "      <td>5</td>\n",
       "      <td>3</td>\n",
       "      <td>3</td>\n",
       "      <td>NaN</td>\n",
       "      <td>2</td>\n",
       "      <td>2</td>\n",
       "      <td>NaN</td>\n",
       "      <td>NaN</td>\n",
       "    </tr>\n",
       "    <tr>\n",
       "      <th>top</th>\n",
       "      <td>sales</td>\n",
       "      <td>junior</td>\n",
       "      <td>medium</td>\n",
       "      <td>NaN</td>\n",
       "      <td>no</td>\n",
       "      <td>no</td>\n",
       "      <td>NaN</td>\n",
       "      <td>NaN</td>\n",
       "    </tr>\n",
       "    <tr>\n",
       "      <th>freq</th>\n",
       "      <td>763</td>\n",
       "      <td>974</td>\n",
       "      <td>1043</td>\n",
       "      <td>NaN</td>\n",
       "      <td>1937</td>\n",
       "      <td>1738</td>\n",
       "      <td>NaN</td>\n",
       "      <td>NaN</td>\n",
       "    </tr>\n",
       "    <tr>\n",
       "      <th>mean</th>\n",
       "      <td>NaN</td>\n",
       "      <td>NaN</td>\n",
       "      <td>NaN</td>\n",
       "      <td>3.666500</td>\n",
       "      <td>NaN</td>\n",
       "      <td>NaN</td>\n",
       "      <td>3.526500</td>\n",
       "      <td>34066.800000</td>\n",
       "    </tr>\n",
       "    <tr>\n",
       "      <th>std</th>\n",
       "      <td>NaN</td>\n",
       "      <td>NaN</td>\n",
       "      <td>NaN</td>\n",
       "      <td>2.537222</td>\n",
       "      <td>NaN</td>\n",
       "      <td>NaN</td>\n",
       "      <td>0.996892</td>\n",
       "      <td>15398.436729</td>\n",
       "    </tr>\n",
       "    <tr>\n",
       "      <th>min</th>\n",
       "      <td>NaN</td>\n",
       "      <td>NaN</td>\n",
       "      <td>NaN</td>\n",
       "      <td>1.000000</td>\n",
       "      <td>NaN</td>\n",
       "      <td>NaN</td>\n",
       "      <td>1.000000</td>\n",
       "      <td>12000.000000</td>\n",
       "    </tr>\n",
       "    <tr>\n",
       "      <th>25%</th>\n",
       "      <td>NaN</td>\n",
       "      <td>NaN</td>\n",
       "      <td>NaN</td>\n",
       "      <td>1.000000</td>\n",
       "      <td>NaN</td>\n",
       "      <td>NaN</td>\n",
       "      <td>3.000000</td>\n",
       "      <td>22800.000000</td>\n",
       "    </tr>\n",
       "    <tr>\n",
       "      <th>50%</th>\n",
       "      <td>NaN</td>\n",
       "      <td>NaN</td>\n",
       "      <td>NaN</td>\n",
       "      <td>3.000000</td>\n",
       "      <td>NaN</td>\n",
       "      <td>NaN</td>\n",
       "      <td>4.000000</td>\n",
       "      <td>30000.000000</td>\n",
       "    </tr>\n",
       "    <tr>\n",
       "      <th>75%</th>\n",
       "      <td>NaN</td>\n",
       "      <td>NaN</td>\n",
       "      <td>NaN</td>\n",
       "      <td>6.000000</td>\n",
       "      <td>NaN</td>\n",
       "      <td>NaN</td>\n",
       "      <td>4.000000</td>\n",
       "      <td>43200.000000</td>\n",
       "    </tr>\n",
       "    <tr>\n",
       "      <th>max</th>\n",
       "      <td>NaN</td>\n",
       "      <td>NaN</td>\n",
       "      <td>NaN</td>\n",
       "      <td>10.000000</td>\n",
       "      <td>NaN</td>\n",
       "      <td>NaN</td>\n",
       "      <td>5.000000</td>\n",
       "      <td>96000.000000</td>\n",
       "    </tr>\n",
       "  </tbody>\n",
       "</table>\n",
       "</div>"
      ],
      "text/plain": [
       "         dept   level workload  employment_years last_year_promo  \\\n",
       "count    1997    1999     1999       2000.000000            2000   \n",
       "unique      5       3        3               NaN               2   \n",
       "top     sales  junior   medium               NaN              no   \n",
       "freq      763     974     1043               NaN            1937   \n",
       "mean      NaN     NaN      NaN          3.666500             NaN   \n",
       "std       NaN     NaN      NaN          2.537222             NaN   \n",
       "min       NaN     NaN      NaN          1.000000             NaN   \n",
       "25%       NaN     NaN      NaN          1.000000             NaN   \n",
       "50%       NaN     NaN      NaN          3.000000             NaN   \n",
       "75%       NaN     NaN      NaN          6.000000             NaN   \n",
       "max       NaN     NaN      NaN         10.000000             NaN   \n",
       "\n",
       "       last_year_violations  supervisor_evaluation        salary  \n",
       "count                  2000            2000.000000   2000.000000  \n",
       "unique                    2                    NaN           NaN  \n",
       "top                      no                    NaN           NaN  \n",
       "freq                   1738                    NaN           NaN  \n",
       "mean                    NaN               3.526500  34066.800000  \n",
       "std                     NaN               0.996892  15398.436729  \n",
       "min                     NaN               1.000000  12000.000000  \n",
       "25%                     NaN               3.000000  22800.000000  \n",
       "50%                     NaN               4.000000  30000.000000  \n",
       "75%                     NaN               4.000000  43200.000000  \n",
       "max                     NaN               5.000000  96000.000000  "
      ]
     },
     "execution_count": 17,
     "metadata": {},
     "output_type": "execute_result"
    }
   ],
   "source": [
    "testf_df.describe(include='all')"
   ]
  },
  {
   "cell_type": "code",
   "execution_count": 18,
   "id": "5de3cb0c",
   "metadata": {
    "scrolled": true
   },
   "outputs": [
    {
     "data": {
      "text/html": [
       "<div>\n",
       "<style scoped>\n",
       "    .dataframe tbody tr th:only-of-type {\n",
       "        vertical-align: middle;\n",
       "    }\n",
       "\n",
       "    .dataframe tbody tr th {\n",
       "        vertical-align: top;\n",
       "    }\n",
       "\n",
       "    .dataframe thead th {\n",
       "        text-align: right;\n",
       "    }\n",
       "</style>\n",
       "<table border=\"1\" class=\"dataframe\">\n",
       "  <thead>\n",
       "    <tr style=\"text-align: right;\">\n",
       "      <th></th>\n",
       "      <th>job_satisfaction_rate</th>\n",
       "    </tr>\n",
       "  </thead>\n",
       "  <tbody>\n",
       "    <tr>\n",
       "      <th>count</th>\n",
       "      <td>2000.00000</td>\n",
       "    </tr>\n",
       "    <tr>\n",
       "      <th>mean</th>\n",
       "      <td>0.54878</td>\n",
       "    </tr>\n",
       "    <tr>\n",
       "      <th>std</th>\n",
       "      <td>0.22011</td>\n",
       "    </tr>\n",
       "    <tr>\n",
       "      <th>min</th>\n",
       "      <td>0.03000</td>\n",
       "    </tr>\n",
       "    <tr>\n",
       "      <th>25%</th>\n",
       "      <td>0.38000</td>\n",
       "    </tr>\n",
       "    <tr>\n",
       "      <th>50%</th>\n",
       "      <td>0.58000</td>\n",
       "    </tr>\n",
       "    <tr>\n",
       "      <th>75%</th>\n",
       "      <td>0.72000</td>\n",
       "    </tr>\n",
       "    <tr>\n",
       "      <th>max</th>\n",
       "      <td>1.00000</td>\n",
       "    </tr>\n",
       "  </tbody>\n",
       "</table>\n",
       "</div>"
      ],
      "text/plain": [
       "       job_satisfaction_rate\n",
       "count             2000.00000\n",
       "mean                 0.54878\n",
       "std                  0.22011\n",
       "min                  0.03000\n",
       "25%                  0.38000\n",
       "50%                  0.58000\n",
       "75%                  0.72000\n",
       "max                  1.00000"
      ]
     },
     "execution_count": 18,
     "metadata": {},
     "output_type": "execute_result"
    }
   ],
   "source": [
    "testt_df.describe(include='all')"
   ]
  },
  {
   "cell_type": "markdown",
   "id": "427b29be",
   "metadata": {},
   "source": [
    "Правильнее, как я понимаю, писать *senior*."
   ]
  },
  {
   "cell_type": "code",
   "execution_count": 19,
   "id": "1c89b2a7",
   "metadata": {},
   "outputs": [],
   "source": [
    "train_df['level'] = train_df['level'].replace('sinior', 'senior')\n",
    "testf_df['level'] = testf_df['level'].replace('sinior', 'senior')"
   ]
  },
  {
   "cell_type": "markdown",
   "id": "1cfefe1b",
   "metadata": {},
   "source": [
    "Есть пропуски, заполним их в пайплайне, выбросов нет."
   ]
  },
  {
   "cell_type": "markdown",
   "id": "30300533",
   "metadata": {},
   "source": [
    "### Исследовательский анализ данных"
   ]
  },
  {
   "cell_type": "markdown",
   "id": "13f0cfe9",
   "metadata": {},
   "source": [
    "Напишем функции:"
   ]
  },
  {
   "cell_type": "code",
   "execution_count": 20,
   "id": "1dfdc5d2",
   "metadata": {},
   "outputs": [],
   "source": [
    "def kdeplot_with_norm(df, features, hue):\n",
    "    number_row = int(len(features)/3)\n",
    "    fig, ax = plt.subplots(nrows = number_row + 1, ncols=2, figsize=(15, 5))\n",
    "    ax = ax.flatten()\n",
    "    for i in range(len(features)):\n",
    "        sns.kdeplot(data = df, x = df[features[i]], ax=ax[i], hue=hue, common_norm=False, fill=True, alpha=0.7)\n",
    "        ax[i].set_title(f'Гистограмма по столбцу {features[i]}')\n",
    "        ax[i].set_xlabel('')\n",
    "  \n",
    "\n",
    "    fig.tight_layout()\n",
    "    fig.show()\n",
    "    "
   ]
  },
  {
   "cell_type": "code",
   "execution_count": 21,
   "id": "7f8f6bd6",
   "metadata": {},
   "outputs": [],
   "source": [
    "def countplot(df, features, hue):\n",
    "    number_row = int(len(features)/3)\n",
    "    fig, ax = plt.subplots(nrows = number_row + 1, ncols=2, figsize=(15, 5))\n",
    "    ax = ax.flatten()\n",
    "    for i in range(len(features)):\n",
    "        sns.countplot(data = df, x = df[features[i]], ax=ax[i], hue=hue)\n",
    "        ax[i].set_title(f'Распределение по столбцу {features[i]}')\n",
    "        ax[i].set_xlabel('')\n",
    "  \n",
    "\n",
    "    fig.tight_layout()\n",
    "    fig.show()"
   ]
  },
  {
   "cell_type": "code",
   "execution_count": 22,
   "id": "33263456",
   "metadata": {},
   "outputs": [],
   "source": [
    "def boxplot(df):\n",
    "    features = df.select_dtypes(include='number').columns.tolist()\n",
    "    num_features = len(features)\n",
    "    number_row = int(len(features)/3)\n",
    "    fig, ax = plt.subplots(nrows = number_row + 1, ncols=2, figsize=(15, 10))\n",
    "    ax = ax.flatten()\n",
    "    for i, feature in enumerate(features):\n",
    "        df.boxplot(column=features[i], ax=ax[i])\n",
    "        ax[i].set_title(f'Боксплот для {feature}')\n",
    "\n",
    "    plt.tight_layout()\n",
    "    plt.show()"
   ]
  },
  {
   "cell_type": "code",
   "execution_count": 23,
   "id": "8aef5835",
   "metadata": {},
   "outputs": [],
   "source": [
    "def countplot_cat(df, hue):\n",
    "    features = df.select_dtypes(exclude='number').columns.tolist()\n",
    "    number_row = int(len(features)/3)\n",
    "    fig, ax = plt.subplots(nrows = number_row + 1, ncols=3, figsize=(15, 10))\n",
    "    ax = ax.flatten()\n",
    "    for i in range(len(features)):\n",
    "        sns.countplot(data = df, x = df[features[i]], ax=ax[i], hue=hue)\n",
    "        ax[i].set_title(f'Распределение по столбцу {features[i]}')\n",
    "        ax[i].set_xlabel('')\n",
    "  \n",
    "    fig.delaxes(ax[-1])\n",
    "    fig.delaxes(ax[-2])\n",
    "    fig.delaxes(ax[-3])\n",
    "    fig.tight_layout()\n",
    "    fig.show()"
   ]
  },
  {
   "cell_type": "code",
   "execution_count": 24,
   "id": "c81e23c3",
   "metadata": {},
   "outputs": [],
   "source": [
    "def countplot_relative(df, features, hue=None):\n",
    "    number_row = (len(features) // 3) + (1 if len(features) % 3 else 0)\n",
    "    fig, ax = plt.subplots(nrows=number_row, ncols=3, figsize=(15, 5 * number_row))\n",
    "    ax = ax.flatten()\n",
    "\n",
    "    for i in range(len(features)):\n",
    "        sns.histplot(\n",
    "            data=df,\n",
    "            x=df[features[i]],\n",
    "            hue=hue,\n",
    "            stat=\"percent\",  \n",
    "            multiple=\"dodge\",\n",
    "            shrink=0.8,\n",
    "            ax=ax[i]\n",
    "        )\n",
    "        ax[i].set_title(f'Распределение по {features[i]} (в %)')\n",
    "        ax[i].set_xlabel('')\n",
    "\n",
    "\n",
    "    fig.tight_layout()\n",
    "    plt.show()"
   ]
  },
  {
   "cell_type": "markdown",
   "id": "0fe880a4",
   "metadata": {},
   "source": [
    "Объеденим тестовые данные:"
   ]
  },
  {
   "cell_type": "code",
   "execution_count": 25,
   "id": "dbb20039",
   "metadata": {},
   "outputs": [],
   "source": [
    "test_df = testf_df.join(testt_df)"
   ]
  },
  {
   "cell_type": "markdown",
   "id": "e69d2a33",
   "metadata": {},
   "source": [
    "Создадим категориальный столбец от `job_satisfaction_rate`:"
   ]
  },
  {
   "cell_type": "code",
   "execution_count": 26,
   "id": "2a64d73f",
   "metadata": {
    "scrolled": true
   },
   "outputs": [
    {
     "ename": "ValueError",
     "evalue": "If using all scalar values, you must pass an index",
     "output_type": "error",
     "traceback": [
      "\u001b[0;31m---------------------------------------------------------------------------\u001b[0m",
      "\u001b[0;31mValueError\u001b[0m                                Traceback (most recent call last)",
      "\u001b[0;32m/tmp/ipykernel_31/1661387731.py\u001b[0m in \u001b[0;36m<module>\u001b[0;34m\u001b[0m\n\u001b[0;32m----> 1\u001b[0;31m \u001b[0msns\u001b[0m\u001b[0;34m.\u001b[0m\u001b[0mkdeplot\u001b[0m\u001b[0;34m(\u001b[0m\u001b[0mtrain_df\u001b[0m\u001b[0;34m,\u001b[0m \u001b[0mx\u001b[0m\u001b[0;34m=\u001b[0m\u001b[0mtrain_df\u001b[0m\u001b[0;34m[\u001b[0m\u001b[0;34m'job_satisfaction_rate'\u001b[0m\u001b[0;34m]\u001b[0m\u001b[0;34m)\u001b[0m\u001b[0;34m\u001b[0m\u001b[0;34m\u001b[0m\u001b[0m\n\u001b[0m\u001b[1;32m      2\u001b[0m \u001b[0mplt\u001b[0m\u001b[0;34m.\u001b[0m\u001b[0mgrid\u001b[0m\u001b[0;34m(\u001b[0m\u001b[0;32mTrue\u001b[0m\u001b[0;34m)\u001b[0m\u001b[0;34m\u001b[0m\u001b[0;34m\u001b[0m\u001b[0m\n\u001b[1;32m      3\u001b[0m \u001b[0mplt\u001b[0m\u001b[0;34m.\u001b[0m\u001b[0mtitle\u001b[0m\u001b[0;34m(\u001b[0m\u001b[0;34m'Распределение удовлетворенности работой'\u001b[0m\u001b[0;34m)\u001b[0m\u001b[0;34m\u001b[0m\u001b[0;34m\u001b[0m\u001b[0m\n\u001b[1;32m      4\u001b[0m \u001b[0mplt\u001b[0m\u001b[0;34m.\u001b[0m\u001b[0mxlabel\u001b[0m\u001b[0;34m(\u001b[0m\u001b[0;34m'Уровень удовлетворенности'\u001b[0m\u001b[0;34m)\u001b[0m\u001b[0;34m\u001b[0m\u001b[0;34m\u001b[0m\u001b[0m\n\u001b[1;32m      5\u001b[0m \u001b[0mplt\u001b[0m\u001b[0;34m.\u001b[0m\u001b[0mylabel\u001b[0m\u001b[0;34m(\u001b[0m\u001b[0;34m'Плотность вероятности'\u001b[0m\u001b[0;34m)\u001b[0m\u001b[0;34m\u001b[0m\u001b[0;34m\u001b[0m\u001b[0m\n",
      "\u001b[0;32m/opt/conda/lib/python3.9/site-packages/seaborn/_decorators.py\u001b[0m in \u001b[0;36minner_f\u001b[0;34m(*args, **kwargs)\u001b[0m\n",
      "\u001b[0;32m/opt/conda/lib/python3.9/site-packages/seaborn/distributions.py\u001b[0m in \u001b[0;36mkdeplot\u001b[0;34m(x, y, shade, vertical, kernel, bw, gridsize, cut, clip, legend, cumulative, shade_lowest, cbar, cbar_ax, cbar_kws, ax, weights, hue, palette, hue_order, hue_norm, multiple, common_norm, common_grid, levels, thresh, bw_method, bw_adjust, log_scale, color, fill, data, data2, **kwargs)\u001b[0m\n\u001b[1;32m   1694\u001b[0m         \u001b[0mcumulative\u001b[0m\u001b[0;34m=\u001b[0m\u001b[0mcumulative\u001b[0m\u001b[0;34m,\u001b[0m\u001b[0;34m\u001b[0m\u001b[0;34m\u001b[0m\u001b[0m\n\u001b[1;32m   1695\u001b[0m     )\n\u001b[0;32m-> 1696\u001b[0;31m \u001b[0;34m\u001b[0m\u001b[0m\n\u001b[0m\u001b[1;32m   1697\u001b[0m     \u001b[0;32mif\u001b[0m \u001b[0mp\u001b[0m\u001b[0;34m.\u001b[0m\u001b[0munivariate\u001b[0m\u001b[0;34m:\u001b[0m\u001b[0;34m\u001b[0m\u001b[0;34m\u001b[0m\u001b[0m\n\u001b[1;32m   1698\u001b[0m \u001b[0;34m\u001b[0m\u001b[0m\n",
      "\u001b[0;32m/opt/conda/lib/python3.9/site-packages/seaborn/distributions.py\u001b[0m in \u001b[0;36m__init__\u001b[0;34m(self, data, variables)\u001b[0m\n\u001b[1;32m    107\u001b[0m         \u001b[0mvariables\u001b[0m\u001b[0;34m=\u001b[0m\u001b[0;34m{\u001b[0m\u001b[0;34m}\u001b[0m\u001b[0;34m,\u001b[0m\u001b[0;34m\u001b[0m\u001b[0;34m\u001b[0m\u001b[0m\n\u001b[1;32m    108\u001b[0m     ):\n\u001b[0;32m--> 109\u001b[0;31m \u001b[0;34m\u001b[0m\u001b[0m\n\u001b[0m\u001b[1;32m    110\u001b[0m         \u001b[0msuper\u001b[0m\u001b[0;34m(\u001b[0m\u001b[0;34m)\u001b[0m\u001b[0;34m.\u001b[0m\u001b[0m__init__\u001b[0m\u001b[0;34m(\u001b[0m\u001b[0mdata\u001b[0m\u001b[0;34m=\u001b[0m\u001b[0mdata\u001b[0m\u001b[0;34m,\u001b[0m \u001b[0mvariables\u001b[0m\u001b[0;34m=\u001b[0m\u001b[0mvariables\u001b[0m\u001b[0;34m)\u001b[0m\u001b[0;34m\u001b[0m\u001b[0;34m\u001b[0m\u001b[0m\n\u001b[1;32m    111\u001b[0m \u001b[0;34m\u001b[0m\u001b[0m\n",
      "\u001b[0;32m/opt/conda/lib/python3.9/site-packages/seaborn/_core.py\u001b[0m in \u001b[0;36m__init__\u001b[0;34m(self, data, variables)\u001b[0m\n",
      "\u001b[0;32m/opt/conda/lib/python3.9/site-packages/seaborn/_core.py\u001b[0m in \u001b[0;36massign_variables\u001b[0;34m(self, data, variables)\u001b[0m\n",
      "\u001b[0;32m/opt/conda/lib/python3.9/site-packages/seaborn/_core.py\u001b[0m in \u001b[0;36m_assign_variables_longform\u001b[0;34m(self, data, **kwargs)\u001b[0m\n",
      "\u001b[0;32m/opt/conda/lib/python3.9/site-packages/pandas/core/frame.py\u001b[0m in \u001b[0;36m__init__\u001b[0;34m(self, data, index, columns, dtype, copy)\u001b[0m\n\u001b[1;32m    527\u001b[0m \u001b[0;34m\u001b[0m\u001b[0m\n\u001b[1;32m    528\u001b[0m         \u001b[0;32melif\u001b[0m \u001b[0misinstance\u001b[0m\u001b[0;34m(\u001b[0m\u001b[0mdata\u001b[0m\u001b[0;34m,\u001b[0m \u001b[0mdict\u001b[0m\u001b[0;34m)\u001b[0m\u001b[0;34m:\u001b[0m\u001b[0;34m\u001b[0m\u001b[0;34m\u001b[0m\u001b[0m\n\u001b[0;32m--> 529\u001b[0;31m             \u001b[0mmgr\u001b[0m \u001b[0;34m=\u001b[0m \u001b[0minit_dict\u001b[0m\u001b[0;34m(\u001b[0m\u001b[0mdata\u001b[0m\u001b[0;34m,\u001b[0m \u001b[0mindex\u001b[0m\u001b[0;34m,\u001b[0m \u001b[0mcolumns\u001b[0m\u001b[0;34m,\u001b[0m \u001b[0mdtype\u001b[0m\u001b[0;34m=\u001b[0m\u001b[0mdtype\u001b[0m\u001b[0;34m)\u001b[0m\u001b[0;34m\u001b[0m\u001b[0;34m\u001b[0m\u001b[0m\n\u001b[0m\u001b[1;32m    530\u001b[0m         \u001b[0;32melif\u001b[0m \u001b[0misinstance\u001b[0m\u001b[0;34m(\u001b[0m\u001b[0mdata\u001b[0m\u001b[0;34m,\u001b[0m \u001b[0mma\u001b[0m\u001b[0;34m.\u001b[0m\u001b[0mMaskedArray\u001b[0m\u001b[0;34m)\u001b[0m\u001b[0;34m:\u001b[0m\u001b[0;34m\u001b[0m\u001b[0;34m\u001b[0m\u001b[0m\n\u001b[1;32m    531\u001b[0m             \u001b[0;32mimport\u001b[0m \u001b[0mnumpy\u001b[0m\u001b[0;34m.\u001b[0m\u001b[0mma\u001b[0m\u001b[0;34m.\u001b[0m\u001b[0mmrecords\u001b[0m \u001b[0;32mas\u001b[0m \u001b[0mmrecords\u001b[0m\u001b[0;34m\u001b[0m\u001b[0;34m\u001b[0m\u001b[0m\n",
      "\u001b[0;32m/opt/conda/lib/python3.9/site-packages/pandas/core/internals/construction.py\u001b[0m in \u001b[0;36minit_dict\u001b[0;34m(data, index, columns, dtype)\u001b[0m\n\u001b[1;32m    285\u001b[0m             \u001b[0marr\u001b[0m \u001b[0;32mif\u001b[0m \u001b[0;32mnot\u001b[0m \u001b[0mis_datetime64tz_dtype\u001b[0m\u001b[0;34m(\u001b[0m\u001b[0marr\u001b[0m\u001b[0;34m)\u001b[0m \u001b[0;32melse\u001b[0m \u001b[0marr\u001b[0m\u001b[0;34m.\u001b[0m\u001b[0mcopy\u001b[0m\u001b[0;34m(\u001b[0m\u001b[0;34m)\u001b[0m \u001b[0;32mfor\u001b[0m \u001b[0marr\u001b[0m \u001b[0;32min\u001b[0m \u001b[0marrays\u001b[0m\u001b[0;34m\u001b[0m\u001b[0;34m\u001b[0m\u001b[0m\n\u001b[1;32m    286\u001b[0m         ]\n\u001b[0;32m--> 287\u001b[0;31m     \u001b[0;32mreturn\u001b[0m \u001b[0marrays_to_mgr\u001b[0m\u001b[0;34m(\u001b[0m\u001b[0marrays\u001b[0m\u001b[0;34m,\u001b[0m \u001b[0mdata_names\u001b[0m\u001b[0;34m,\u001b[0m \u001b[0mindex\u001b[0m\u001b[0;34m,\u001b[0m \u001b[0mcolumns\u001b[0m\u001b[0;34m,\u001b[0m \u001b[0mdtype\u001b[0m\u001b[0;34m=\u001b[0m\u001b[0mdtype\u001b[0m\u001b[0;34m)\u001b[0m\u001b[0;34m\u001b[0m\u001b[0;34m\u001b[0m\u001b[0m\n\u001b[0m\u001b[1;32m    288\u001b[0m \u001b[0;34m\u001b[0m\u001b[0m\n\u001b[1;32m    289\u001b[0m \u001b[0;34m\u001b[0m\u001b[0m\n",
      "\u001b[0;32m/opt/conda/lib/python3.9/site-packages/pandas/core/internals/construction.py\u001b[0m in \u001b[0;36marrays_to_mgr\u001b[0;34m(arrays, arr_names, index, columns, dtype, verify_integrity)\u001b[0m\n\u001b[1;32m     78\u001b[0m         \u001b[0;31m# figure out the index, if necessary\u001b[0m\u001b[0;34m\u001b[0m\u001b[0;34m\u001b[0m\u001b[0;34m\u001b[0m\u001b[0m\n\u001b[1;32m     79\u001b[0m         \u001b[0;32mif\u001b[0m \u001b[0mindex\u001b[0m \u001b[0;32mis\u001b[0m \u001b[0;32mNone\u001b[0m\u001b[0;34m:\u001b[0m\u001b[0;34m\u001b[0m\u001b[0;34m\u001b[0m\u001b[0m\n\u001b[0;32m---> 80\u001b[0;31m             \u001b[0mindex\u001b[0m \u001b[0;34m=\u001b[0m \u001b[0mextract_index\u001b[0m\u001b[0;34m(\u001b[0m\u001b[0marrays\u001b[0m\u001b[0;34m)\u001b[0m\u001b[0;34m\u001b[0m\u001b[0;34m\u001b[0m\u001b[0m\n\u001b[0m\u001b[1;32m     81\u001b[0m         \u001b[0;32melse\u001b[0m\u001b[0;34m:\u001b[0m\u001b[0;34m\u001b[0m\u001b[0;34m\u001b[0m\u001b[0m\n\u001b[1;32m     82\u001b[0m             \u001b[0mindex\u001b[0m \u001b[0;34m=\u001b[0m \u001b[0mensure_index\u001b[0m\u001b[0;34m(\u001b[0m\u001b[0mindex\u001b[0m\u001b[0;34m)\u001b[0m\u001b[0;34m\u001b[0m\u001b[0;34m\u001b[0m\u001b[0m\n",
      "\u001b[0;32m/opt/conda/lib/python3.9/site-packages/pandas/core/internals/construction.py\u001b[0m in \u001b[0;36mextract_index\u001b[0;34m(data)\u001b[0m\n\u001b[1;32m    389\u001b[0m \u001b[0;34m\u001b[0m\u001b[0m\n\u001b[1;32m    390\u001b[0m         \u001b[0;32mif\u001b[0m \u001b[0;32mnot\u001b[0m \u001b[0mindexes\u001b[0m \u001b[0;32mand\u001b[0m \u001b[0;32mnot\u001b[0m \u001b[0mraw_lengths\u001b[0m\u001b[0;34m:\u001b[0m\u001b[0;34m\u001b[0m\u001b[0;34m\u001b[0m\u001b[0m\n\u001b[0;32m--> 391\u001b[0;31m             \u001b[0;32mraise\u001b[0m \u001b[0mValueError\u001b[0m\u001b[0;34m(\u001b[0m\u001b[0;34m\"If using all scalar values, you must pass an index\"\u001b[0m\u001b[0;34m)\u001b[0m\u001b[0;34m\u001b[0m\u001b[0;34m\u001b[0m\u001b[0m\n\u001b[0m\u001b[1;32m    392\u001b[0m \u001b[0;34m\u001b[0m\u001b[0m\n\u001b[1;32m    393\u001b[0m         \u001b[0;32mif\u001b[0m \u001b[0mhave_series\u001b[0m\u001b[0;34m:\u001b[0m\u001b[0;34m\u001b[0m\u001b[0;34m\u001b[0m\u001b[0m\n",
      "\u001b[0;31mValueError\u001b[0m: If using all scalar values, you must pass an index"
     ]
    }
   ],
   "source": [
    "sns.kdeplot(train_df, x=train_df['job_satisfaction_rate'])\n",
    "plt.grid(True)\n",
    "plt.title('Распределение удовлетворенности работой')\n",
    "plt.xlabel('Уровень удовлетворенности')\n",
    "plt.ylabel('Плотность вероятности')\n",
    "plt.show()\n"
   ]
  },
  {
   "cell_type": "markdown",
   "id": "f5fe4bf7",
   "metadata": {},
   "source": [
    "Распределение `job_satisfaction_rate` имеет два выраженных пика – один около 0.3-0.4 и второй ближе к 0.6-0.7."
   ]
  },
  {
   "cell_type": "code",
   "execution_count": null,
   "id": "3bf5e21c",
   "metadata": {},
   "outputs": [],
   "source": [
    "train_df['job_satisfaction_rate'].plot(kind='box', figsize=(10, 8))\n",
    "plt.title('Разброс показателей удовлетворенности работой')\n",
    "plt.show()"
   ]
  },
  {
   "cell_type": "code",
   "execution_count": null,
   "id": "f5297584",
   "metadata": {},
   "outputs": [],
   "source": [
    "train_df['job_satisfaction_rate'].describe()"
   ]
  },
  {
   "cell_type": "markdown",
   "id": "fdccf024",
   "metadata": {},
   "source": [
    "Возьмем медиану как границу категоризации. "
   ]
  },
  {
   "cell_type": "code",
   "execution_count": null,
   "id": "3ae50ab3",
   "metadata": {},
   "outputs": [],
   "source": [
    "train_df.loc[train_df.query('job_satisfaction_rate >= 0.56').index, 'cat_satisfaction'] = 'high'\n",
    "train_df['cat_satisfaction'].fillna('low', inplace=True)"
   ]
  },
  {
   "cell_type": "code",
   "execution_count": null,
   "id": "2d43f9cd",
   "metadata": {},
   "outputs": [],
   "source": [
    "test_df.loc[test_df.query('job_satisfaction_rate >= 0.56').index, 'cat_satisfaction'] = 'high'\n",
    "test_df['cat_satisfaction'].fillna('low', inplace=True)"
   ]
  },
  {
   "cell_type": "markdown",
   "id": "f88f428d",
   "metadata": {},
   "source": [
    "Рассмотрим числовые признаки:"
   ]
  },
  {
   "cell_type": "markdown",
   "id": "cafb8ae6",
   "metadata": {},
   "source": [
    "*train_df*:"
   ]
  },
  {
   "cell_type": "code",
   "execution_count": null,
   "id": "3be992f5",
   "metadata": {},
   "outputs": [],
   "source": [
    "features_num = ['salary', 'job_satisfaction_rate']\n",
    "kdeplot_with_norm(train_df, features_num, hue='cat_satisfaction')"
   ]
  },
  {
   "cell_type": "markdown",
   "id": "f78fc851",
   "metadata": {},
   "source": [
    "*test_df*:"
   ]
  },
  {
   "cell_type": "code",
   "execution_count": null,
   "id": "9d4e75f9",
   "metadata": {},
   "outputs": [],
   "source": [
    "kdeplot_with_norm(test_df, features_num, hue='cat_satisfaction')"
   ]
  },
  {
   "cell_type": "markdown",
   "id": "c821403a",
   "metadata": {},
   "source": [
    "*train_df*:"
   ]
  },
  {
   "cell_type": "code",
   "execution_count": null,
   "id": "7a10d238",
   "metadata": {},
   "outputs": [],
   "source": [
    "features_num2 = ['employment_years', 'supervisor_evaluation']\n",
    "countplot(train_df, features_num2, hue='cat_satisfaction')"
   ]
  },
  {
   "cell_type": "markdown",
   "id": "c83d1bc0",
   "metadata": {},
   "source": [
    "*test_df*"
   ]
  },
  {
   "cell_type": "code",
   "execution_count": null,
   "id": "53151858",
   "metadata": {},
   "outputs": [],
   "source": [
    "countplot(test_df, features_num2, hue='cat_satisfaction')"
   ]
  },
  {
   "cell_type": "markdown",
   "id": "9b22fe1d",
   "metadata": {},
   "source": [
    "*train_df*"
   ]
  },
  {
   "cell_type": "code",
   "execution_count": null,
   "id": "3416d777",
   "metadata": {
    "scrolled": true
   },
   "outputs": [],
   "source": [
    "boxplot(train_df)"
   ]
  },
  {
   "cell_type": "markdown",
   "id": "1606aaa5",
   "metadata": {},
   "source": [
    "*test_df*"
   ]
  },
  {
   "cell_type": "code",
   "execution_count": null,
   "id": "45ff152d",
   "metadata": {},
   "outputs": [],
   "source": [
    "boxplot(test_df)"
   ]
  },
  {
   "cell_type": "markdown",
   "id": "ebcc63c3",
   "metadata": {},
   "source": [
    "Много недовольных работников с большим стажем. У работников с плохой оценкой недовольство выше(причинно-следственная связь здесь обратная скорее всего). Чем меньше зарплата, тем выше недовольство, но незначительно."
   ]
  },
  {
   "cell_type": "markdown",
   "id": "39887698",
   "metadata": {},
   "source": [
    "Рассмотрим категориальные признаки:"
   ]
  },
  {
   "cell_type": "markdown",
   "id": "29cf17e8",
   "metadata": {},
   "source": [
    "*train_df*"
   ]
  },
  {
   "cell_type": "code",
   "execution_count": null,
   "id": "0fe96689",
   "metadata": {
    "scrolled": true
   },
   "outputs": [],
   "source": [
    "countplot_cat(train_df, hue='cat_satisfaction')"
   ]
  },
  {
   "cell_type": "markdown",
   "id": "214a5ce2",
   "metadata": {},
   "source": [
    "*test_df*"
   ]
  },
  {
   "cell_type": "code",
   "execution_count": null,
   "id": "97971278",
   "metadata": {},
   "outputs": [],
   "source": [
    "countplot_cat(test_df, hue='cat_satisfaction')"
   ]
  },
  {
   "cell_type": "markdown",
   "id": "03fb1536",
   "metadata": {},
   "source": [
    "В относительных величинах больше всего недовольных в маркетинге. \"Довольство\" как будто не зависит от нагрузки. Большинство нарушивших трудовой договор - недовольные."
   ]
  },
  {
   "cell_type": "markdown",
   "id": "6736d3b5",
   "metadata": {},
   "source": [
    "Корреляционный анализ:\n"
   ]
  },
  {
   "cell_type": "markdown",
   "id": "9aae9f39",
   "metadata": {},
   "source": [
    "*train_df*"
   ]
  },
  {
   "cell_type": "code",
   "execution_count": null,
   "id": "8f880d98",
   "metadata": {},
   "outputs": [],
   "source": [
    "plt.figure(figsize=(12, 8))\n",
    "sns.heatmap(train_df.corr(), annot=True, cmap=\"coolwarm\",fmt='.2f');\n",
    "plt.title(\"Корреляционная матрица количественных признаков по train_df\")\n",
    "plt.show()"
   ]
  },
  {
   "cell_type": "markdown",
   "id": "1ca2fb4d",
   "metadata": {},
   "source": [
    "*test_df*"
   ]
  },
  {
   "cell_type": "code",
   "execution_count": null,
   "id": "b58a7913",
   "metadata": {},
   "outputs": [],
   "source": [
    "plt.figure(figsize=(12, 8))\n",
    "sns.heatmap(test_df.corr(), annot=True, cmap=\"coolwarm\",fmt='.2f');\n",
    "plt.title(\"Корреляционная матрица количественных признаков по test_df\")\n",
    "plt.show()"
   ]
  },
  {
   "cell_type": "markdown",
   "id": "c84daf58",
   "metadata": {},
   "source": [
    "Отличия корреляций *train_df* и *test_df*:"
   ]
  },
  {
   "cell_type": "code",
   "execution_count": null,
   "id": "3431be7f",
   "metadata": {},
   "outputs": [],
   "source": [
    "plt.figure(figsize=(12, 8))\n",
    "sns.heatmap(train_df.corr()-test_df.corr(), annot=True, cmap=\"coolwarm\",fmt='.2f');\n",
    "plt.title(\"Разница корреляционных матриц количественных признаков по train_df и test_df\")\n",
    "plt.show()"
   ]
  },
  {
   "cell_type": "markdown",
   "id": "484b658c",
   "metadata": {},
   "source": [
    "Построим корреляцию Спирмена:"
   ]
  },
  {
   "cell_type": "markdown",
   "id": "78bab79e",
   "metadata": {},
   "source": [
    "*train_df*"
   ]
  },
  {
   "cell_type": "code",
   "execution_count": null,
   "id": "c2233b38",
   "metadata": {},
   "outputs": [],
   "source": [
    "plt.figure(figsize=(12, 8))\n",
    "sns.heatmap(train_df.corr(method='spearman'), annot=True, cmap=\"coolwarm\",fmt='.2f', square=True);\n",
    "plt.title(\"Корреляционная матрица количественных признаков по Спирмену по train_df\")\n",
    "plt.show()"
   ]
  },
  {
   "cell_type": "markdown",
   "id": "f9faa037",
   "metadata": {},
   "source": [
    "*test_df*"
   ]
  },
  {
   "cell_type": "code",
   "execution_count": null,
   "id": "e0dd7597",
   "metadata": {},
   "outputs": [],
   "source": [
    "plt.figure(figsize=(12, 8))\n",
    "sns.heatmap(test_df.corr(method='spearman'), annot=True, cmap=\"coolwarm\",fmt='.2f', square=True);\n",
    "plt.title(\"Корреляционная матрица количественных признаков по Спирмену по test_df\")\n",
    "plt.show()"
   ]
  },
  {
   "cell_type": "markdown",
   "id": "43bd2463",
   "metadata": {},
   "source": [
    "Отличия корреляций по Спирмену между *train_df* и *test_df*:"
   ]
  },
  {
   "cell_type": "code",
   "execution_count": null,
   "id": "cdf59353",
   "metadata": {},
   "outputs": [],
   "source": [
    "plt.figure(figsize=(12, 8))\n",
    "sns.heatmap(train_df.corr(method='spearman')-test_df.corr(method='spearman'), annot=True, cmap=\"coolwarm\",fmt='.2f');\n",
    "plt.title(\"Разница корреляционных матриц по Спирмену по train_df и test_df\")\n",
    "plt.show()"
   ]
  },
  {
   "cell_type": "code",
   "execution_count": null,
   "id": "3292b6ef",
   "metadata": {},
   "outputs": [],
   "source": [
    "#Создаем новый датафрейм, потому что матрица игнорирует interval_cols\n",
    "interval_df = train_df.drop(['employment_years', 'supervisor_evaluation'], axis=1)\n",
    "interval_testdf = test_df.drop(['employment_years', 'supervisor_evaluation'], axis=1)\n",
    "interval_cols = interval_df.select_dtypes(include='number').columns.tolist()"
   ]
  },
  {
   "cell_type": "markdown",
   "id": "e30542c6",
   "metadata": {},
   "source": [
    "*train_df*"
   ]
  },
  {
   "cell_type": "code",
   "execution_count": null,
   "id": "645647ed",
   "metadata": {},
   "outputs": [],
   "source": [
    "phi_k_matrix = interval_df.phik_matrix(interval_cols=interval_cols)\n",
    "plt.figure(figsize=(12, 10))\n",
    "sns.heatmap(phi_k_matrix, annot=True, cmap=\"coolwarm\",fmt='.2f', square=True);\n",
    "plt.title(\"Корреляционная матрица Phi_k\")\n",
    "plt.show()"
   ]
  },
  {
   "cell_type": "markdown",
   "id": "f7742ee3",
   "metadata": {},
   "source": [
    "*test_df*"
   ]
  },
  {
   "cell_type": "code",
   "execution_count": null,
   "id": "c1fd1f46",
   "metadata": {},
   "outputs": [],
   "source": [
    "phi_k_matrix = interval_testdf.phik_matrix(interval_cols=interval_cols)\n",
    "plt.figure(figsize=(12, 10))\n",
    "sns.heatmap(phi_k_matrix, annot=True, cmap=\"coolwarm\",fmt='.2f', square=True);\n",
    "plt.title(\"Корреляционная матрица Phi_k\")\n",
    "plt.show()"
   ]
  },
  {
   "cell_type": "markdown",
   "id": "f40e4e1d",
   "metadata": {},
   "source": [
    "Отличия корреляций *phi_k* между *train_df* и *test_df*:"
   ]
  },
  {
   "cell_type": "code",
   "execution_count": null,
   "id": "83873bb7",
   "metadata": {},
   "outputs": [],
   "source": [
    "phi_k_matrix = interval_df.phik_matrix(interval_cols=interval_cols) - interval_testdf.phik_matrix(interval_cols=interval_cols)\n",
    "plt.figure(figsize=(12, 10))\n",
    "sns.heatmap(phi_k_matrix, annot=True, cmap=\"coolwarm\",fmt='.2f', square=True);\n",
    "plt.title(\"Разница корреляционных матриц Phi_k между train_df и test_df\")\n",
    "plt.show()"
   ]
  },
  {
   "cell_type": "markdown",
   "id": "7eabd750",
   "metadata": {},
   "source": [
    "Корреляционные матрицы тренировочных и тестовых данных близки. Целевой признак сильнее коррелирует со столбцом `last_year_promo` в тестовых данных."
   ]
  },
  {
   "cell_type": "markdown",
   "id": "a57264f1",
   "metadata": {},
   "source": [
    "На целевой признак влияет больше всего влияет оценка руководителя и наличие нарушений за последний год, но причинно-следственная связь здесь обратная(нарушения и низкая трудоспособность показывают, что сотрудник недоволен)."
   ]
  },
  {
   "cell_type": "markdown",
   "id": "fda42669",
   "metadata": {},
   "source": [
    "### Пайплайн"
   ]
  },
  {
   "cell_type": "code",
   "execution_count": null,
   "id": "23a20521",
   "metadata": {},
   "outputs": [],
   "source": [
    "#df = pd.concat([train_df, test_df], axis=0)"
   ]
  },
  {
   "cell_type": "code",
   "execution_count": null,
   "id": "a7a9a8f7",
   "metadata": {},
   "outputs": [],
   "source": [
    "#SMAPE\n",
    "#Сумма, деленная на количество слагаемых - это среднее.\n",
    "def smape(y_true, y_pred):\n",
    "    return np.mean((np.abs(y_true-y_pred)/(np.abs(y_true)+np.abs(y_pred)))*2)*100"
   ]
  },
  {
   "cell_type": "markdown",
   "id": "571bb431",
   "metadata": {},
   "source": [
    "Если использовать оригинальную разбивку, то значение r2_score на тестовой выборке оказывается меньше 0 (-0.8). Поэтому конкатенируем таблицы и перемешиваем:"
   ]
  },
  {
   "cell_type": "markdown",
   "id": "2cb90f50",
   "metadata": {},
   "source": [
    "Найдем и удалим дубликаты после индексации признака `id`:"
   ]
  },
  {
   "cell_type": "code",
   "execution_count": null,
   "id": "ac8ed8c2",
   "metadata": {},
   "outputs": [],
   "source": [
    "print(train_df.duplicated().sum())\n",
    "train_df = train_df.drop_duplicates()"
   ]
  },
  {
   "cell_type": "markdown",
   "id": "d51b5467",
   "metadata": {},
   "source": [
    "Подготовим данные:"
   ]
  },
  {
   "cell_type": "code",
   "execution_count": null,
   "id": "a2be3fb7",
   "metadata": {},
   "outputs": [],
   "source": [
    "X_train = train_df.drop(['job_satisfaction_rate','cat_satisfaction'], axis = 1)\n",
    "y_train = train_df['job_satisfaction_rate']\n",
    "X_test = test_df.drop(['job_satisfaction_rate','cat_satisfaction'], axis = 1)\n",
    "y_test = testf_df.merge(testt_df, on='id')['job_satisfaction_rate']"
   ]
  },
  {
   "cell_type": "code",
   "execution_count": null,
   "id": "b74b6732",
   "metadata": {
    "scrolled": true
   },
   "outputs": [],
   "source": [
    "#Проверим, что все правильно записали\n",
    "X_test.shape[1] == X_train.shape[1]"
   ]
  },
  {
   "cell_type": "code",
   "execution_count": null,
   "id": "9555d112",
   "metadata": {},
   "outputs": [],
   "source": [
    "#Разбиение данных на типы:\n",
    "cat_col_names = X_train.select_dtypes(exclude='number').drop(['level','workload'],axis=1).columns.tolist()\n",
    "ord_col_names = ['level', 'workload']\n",
    "num_col_names = X_train.select_dtypes(include='number').columns.tolist()"
   ]
  },
  {
   "cell_type": "code",
   "execution_count": null,
   "id": "4eb37716",
   "metadata": {},
   "outputs": [],
   "source": [
    "#Пайплайн:\n",
    "ord_pipe = Pipeline([\n",
    "    ('imputer', SimpleImputer(missing_values=np.nan, strategy='most_frequent')),\n",
    "    ('ord', OrdinalEncoder(\n",
    "        categories=[['junior', 'middle', 'senior'], ['low', 'medium', 'high']],\n",
    "        handle_unknown='use_encoded_value',\n",
    "        unknown_value=-1\n",
    "    ))\n",
    "])"
   ]
  },
  {
   "cell_type": "markdown",
   "id": "00fbaadf",
   "metadata": {},
   "source": [
    "#Пайплайн:\n",
    "ord_pipe = Pipeline([\n",
    "    ('imputer', SimpleImputer(strategy='most_frequent')),\n",
    "    ('ord', OrdinalEncoder(\n",
    "        categories=[['junior', 'middle', 'senior'], ['low', 'medium', 'high']],\n",
    "        handle_unknown='use_encoded_value',\n",
    "        unknown_value=-1\n",
    "    ))\n",
    "])"
   ]
  },
  {
   "cell_type": "code",
   "execution_count": null,
   "id": "3e3f9b17",
   "metadata": {},
   "outputs": [],
   "source": [
    "cat_pipe = Pipeline([\n",
    "    ('imputer', SimpleImputer(strategy='most_frequent')),\n",
    "    ('ohe', OneHotEncoder(handle_unknown='ignore', sparse_output=False, drop='first'))])"
   ]
  },
  {
   "cell_type": "code",
   "execution_count": null,
   "id": "c61d33c2",
   "metadata": {},
   "outputs": [],
   "source": [
    "num_pipe = Pipeline([('scaler', StandardScaler())])\n",
    "\n",
    "data_preprocessor = ColumnTransformer([('cat', cat_pipe, cat_col_names),\n",
    "                                       ('num', num_pipe, num_col_names),\n",
    "                                       ('ord', ord_pipe, ord_col_names)],\n",
    "                                        remainder='passthrough')\n",
    "\n",
    "pipe_final = Pipeline([('preprocessor', data_preprocessor),\n",
    "                      ('models',LinearRegression)])\n",
    "\n",
    "param_grid = [\n",
    "    {\n",
    "        'models':[LinearRegression()],\n",
    "        'preprocessor__num__scaler': [MinMaxScaler(), RobustScaler(), 'passthrough']\n",
    "    },\n",
    "    {\n",
    "        'models': [DecisionTreeRegressor(random_state=1)],\n",
    "        'models__max_depth': range(2, 15),\n",
    "        'models__min_samples_split': range(2, 10),\n",
    "        'models__min_samples_leaf': range(2, 10),\n",
    "        'preprocessor__num__scaler': [StandardScaler(), MinMaxScaler(), RobustScaler(), 'passthrough']\n",
    "    },\n",
    "    ]\n",
    "\n",
    "cv = KFold(n_splits=5, shuffle=True, random_state=1)\n",
    "\n",
    "smape_scorer = make_scorer(smape, greater_is_better=False)\n",
    "\n",
    "rand_search_1 = RandomizedSearchCV(\n",
    "    pipe_final,\n",
    "    param_grid,\n",
    "    cv=cv,\n",
    "    scoring=smape_scorer,\n",
    "    random_state=1,\n",
    "    n_jobs=-1,\n",
    "    n_iter = 60\n",
    ")"
   ]
  },
  {
   "cell_type": "code",
   "execution_count": null,
   "id": "f6473636",
   "metadata": {},
   "outputs": [],
   "source": [
    "rand_search_1.fit(X_train, y_train)\n",
    "\n",
    "y_test_pred = rand_search_1.best_estimator_.predict(X_test)\n",
    "\n",
    "smape_score = smape(y_test, y_test_pred)\n",
    "\n",
    "print('Лучшая модель и её параметры:\\n', rand_search_1.best_estimator_)\n",
    "print(f'SMAPE на кросс-валидации: {-rand_search_1.best_score_:.4f}%')\n",
    "print(f'Метрика SMAPE на тестовой выборке: {smape_score:.4f}%')"
   ]
  },
  {
   "cell_type": "markdown",
   "id": "8bf1272a",
   "metadata": {},
   "source": [
    "Требуемое значение *SMAPE* достигнуто. Лучшая модель: *DecisionTreeRegressor(max_depth=14, min_samples_leaf=6,\n",
    "                                       min_samples_split=3, random_state=1))])*. <br> \n",
    "SMAPE на кросс-валидации: 15.2499% <br>\n",
    "Метрика SMAPE на тестовой выборке: 13.8177% <br>\n"
   ]
  },
  {
   "cell_type": "markdown",
   "id": "45773227",
   "metadata": {},
   "source": [
    "Используем в качестве константной модели `DummyRegressor` для проверки модели:"
   ]
  },
  {
   "cell_type": "code",
   "execution_count": null,
   "id": "f7d54004",
   "metadata": {},
   "outputs": [],
   "source": [
    "dummy_regr = DummyRegressor(strategy=\"mean\")\n",
    "\n",
    "dummy_regr.fit(X_train, y_train)\n",
    "\n",
    "DummyRegressor()\n",
    "\n",
    "dum_pred = dummy_regr.predict(X_test)\n",
    "\n",
    "print(f'Метрика SMAPE на dummy модели: {smape(y_test, dum_pred):.4f}%')\n",
    "print(f'Метрика SMAPE на тестовой выборке: {smape_score:.4f}%')"
   ]
  },
  {
   "cell_type": "code",
   "execution_count": null,
   "id": "d433a1e5",
   "metadata": {
    "scrolled": true
   },
   "outputs": [],
   "source": [
    "model = rand_search_1.best_estimator_.named_steps['models'] \n",
    "preprocessor = rand_search_1.best_estimator_.named_steps['preprocessor']\n",
    "X_transformed = preprocessor.transform(X_test)\n",
    "\n",
    "explainer = shap.TreeExplainer(model)\n",
    "shap_values = explainer.shap_values(X_transformed)\n",
    "\n",
    "plt.figure(figsize=(12, 10))\n",
    "\n",
    "shap.summary_plot(\n",
    "    shap_values, \n",
    "    X_transformed, \n",
    "    feature_names=preprocessor.get_feature_names_out(),\n",
    "    plot_type='bar', \n",
    "    show=False\n",
    ")\n",
    "\n",
    "ax = plt.gca()\n",
    "ax.set_xlabel('Средний абсолютный вклад')\n",
    "ax.set_ylabel('Признаки')\n",
    "ax.set_title('Влияние признаков на предсказание модели')\n",
    "plt.tight_layout()\n",
    "plt.show()"
   ]
  },
  {
   "cell_type": "markdown",
   "id": "54458836",
   "metadata": {},
   "source": [
    "Наиболее значимые признаки: <br>\n",
    "`supervisor_evaluation`<br>\n",
    "`employment_years`<br>\n",
    "`level`<br>\n",
    "`salary`<br>\n",
    "`cat__last_year_violations_yes`<br>"
   ]
  },
  {
   "cell_type": "markdown",
   "id": "c86d9cff",
   "metadata": {},
   "source": [
    "### Промежуточный вывод"
   ]
  },
  {
   "cell_type": "markdown",
   "id": "f89794d0",
   "metadata": {},
   "source": [
    "Лучшая модель: DecisionTreeRegressor(max_depth=10, min_samples_leaf=2, min_samples_split=10, random_state=1). Она справилась лучше по причине того, что зависимости нелинейные, а сама модель чувстительна к выбросам. *DecisionTreeRegressor* разбивает данные на изолированные группы. Выбросы попадают в отдельные листья и не влияют на весь прогноз"
   ]
  },
  {
   "cell_type": "markdown",
   "id": "d17b4a16",
   "metadata": {},
   "source": [
    "## Предсказание увольнения сотрудника из компании"
   ]
  },
  {
   "cell_type": "markdown",
   "id": "9a0d7e1e",
   "metadata": {},
   "source": [
    "### Загрузка данных"
   ]
  },
  {
   "cell_type": "code",
   "execution_count": null,
   "id": "6533d536",
   "metadata": {},
   "outputs": [],
   "source": [
    "trainq_df=pd.read_csv('/datasets/train_quit.csv', index_col='id')\n",
    "testfeat_df=pd.read_csv('/datasets/test_features.csv', index_col='id')\n",
    "testtq_df=pd.read_csv('/datasets/test_target_quit.csv', index_col='id')"
   ]
  },
  {
   "cell_type": "code",
   "execution_count": null,
   "id": "a3f76d99",
   "metadata": {},
   "outputs": [],
   "source": [
    "trainq_df.sample(10)"
   ]
  },
  {
   "cell_type": "code",
   "execution_count": null,
   "id": "5d88ee7e",
   "metadata": {},
   "outputs": [],
   "source": [
    "trainq_df.info()"
   ]
  },
  {
   "cell_type": "code",
   "execution_count": null,
   "id": "b4c2a857",
   "metadata": {},
   "outputs": [],
   "source": [
    "testfeat_df.sample(10)"
   ]
  },
  {
   "cell_type": "code",
   "execution_count": null,
   "id": "709da7f8",
   "metadata": {},
   "outputs": [],
   "source": [
    "testfeat_df.info()"
   ]
  },
  {
   "cell_type": "code",
   "execution_count": null,
   "id": "0e7a1e46",
   "metadata": {},
   "outputs": [],
   "source": [
    "testtq_df.sample(10)"
   ]
  },
  {
   "cell_type": "code",
   "execution_count": null,
   "id": "6d3c96a1",
   "metadata": {},
   "outputs": [],
   "source": [
    "testtq_df.info()"
   ]
  },
  {
   "cell_type": "markdown",
   "id": "8d2ee235",
   "metadata": {},
   "source": [
    "### Предобработка данных"
   ]
  },
  {
   "cell_type": "code",
   "execution_count": null,
   "id": "631f8953",
   "metadata": {},
   "outputs": [],
   "source": [
    "uniques(trainq_df)"
   ]
  },
  {
   "cell_type": "code",
   "execution_count": null,
   "id": "2e1fe941",
   "metadata": {},
   "outputs": [],
   "source": [
    "uniques(testfeat_df)"
   ]
  },
  {
   "cell_type": "code",
   "execution_count": null,
   "id": "97ef6bac",
   "metadata": {},
   "outputs": [],
   "source": [
    "testfeat_df = testfeat_df.replace({' ': np.nan, 'sinior': 'senior'})\n",
    "trainq_df = trainq_df.replace({'sinior': 'senior'})"
   ]
  },
  {
   "cell_type": "code",
   "execution_count": null,
   "id": "b4493188",
   "metadata": {},
   "outputs": [],
   "source": [
    "testfeat_df.describe(include='all')"
   ]
  },
  {
   "cell_type": "code",
   "execution_count": null,
   "id": "6d102dde",
   "metadata": {},
   "outputs": [],
   "source": [
    "trainq_df.describe(include='all')"
   ]
  },
  {
   "cell_type": "code",
   "execution_count": null,
   "id": "d7f1dded",
   "metadata": {
    "scrolled": true
   },
   "outputs": [],
   "source": [
    "testtq_df.describe(include='all')"
   ]
  },
  {
   "cell_type": "code",
   "execution_count": null,
   "id": "c8989df3",
   "metadata": {},
   "outputs": [],
   "source": [
    "test2_df = testfeat_df.join(testtq_df)"
   ]
  },
  {
   "cell_type": "markdown",
   "id": "030750a2",
   "metadata": {},
   "source": [
    "### Исследовательский анализ данных"
   ]
  },
  {
   "cell_type": "markdown",
   "id": "da925944",
   "metadata": {},
   "source": [
    "*trainq_df*"
   ]
  },
  {
   "cell_type": "code",
   "execution_count": null,
   "id": "721453df",
   "metadata": {},
   "outputs": [],
   "source": [
    "features_num = ['salary']\n",
    "kdeplot_with_norm(trainq_df, features_num, hue='quit')"
   ]
  },
  {
   "cell_type": "markdown",
   "id": "8957170e",
   "metadata": {},
   "source": [
    "*test2_df*"
   ]
  },
  {
   "cell_type": "code",
   "execution_count": null,
   "id": "39d8fa18",
   "metadata": {},
   "outputs": [],
   "source": [
    "features_num = ['salary']\n",
    "kdeplot_with_norm(test2_df, features_num, hue='quit')"
   ]
  },
  {
   "cell_type": "markdown",
   "id": "42899333",
   "metadata": {},
   "source": [
    "*trainq_df*"
   ]
  },
  {
   "cell_type": "code",
   "execution_count": null,
   "id": "747d4f65",
   "metadata": {},
   "outputs": [],
   "source": [
    "features_num2 = ['employment_years', 'supervisor_evaluation']\n",
    "countplot(trainq_df, features_num2, 'quit')"
   ]
  },
  {
   "cell_type": "markdown",
   "id": "eeca9138",
   "metadata": {},
   "source": [
    "*test2_df*"
   ]
  },
  {
   "cell_type": "code",
   "execution_count": null,
   "id": "5005fbaf",
   "metadata": {},
   "outputs": [],
   "source": [
    "countplot(test2_df, features_num2, 'quit')"
   ]
  },
  {
   "cell_type": "markdown",
   "id": "92807936",
   "metadata": {},
   "source": [
    "*trainq_df*"
   ]
  },
  {
   "cell_type": "code",
   "execution_count": null,
   "id": "8e2f8df1",
   "metadata": {},
   "outputs": [],
   "source": [
    "boxplot(trainq_df)"
   ]
  },
  {
   "cell_type": "markdown",
   "id": "198299c3",
   "metadata": {},
   "source": [
    "*test2_df*"
   ]
  },
  {
   "cell_type": "code",
   "execution_count": null,
   "id": "26a31571",
   "metadata": {
    "scrolled": true
   },
   "outputs": [],
   "source": [
    "boxplot(test2_df)"
   ]
  },
  {
   "cell_type": "markdown",
   "id": "ab9d043c",
   "metadata": {},
   "source": [
    "*trainq_df*"
   ]
  },
  {
   "cell_type": "code",
   "execution_count": null,
   "id": "89867af7",
   "metadata": {
    "scrolled": true
   },
   "outputs": [],
   "source": [
    "countplot_cat(trainq_df, 'quit')"
   ]
  },
  {
   "cell_type": "markdown",
   "id": "789de45f",
   "metadata": {},
   "source": [
    "*test2_df*"
   ]
  },
  {
   "cell_type": "markdown",
   "id": "f85a8032",
   "metadata": {},
   "source": [
    "Целевой признак несбалансирован. Тестовые и тренировочные данные похожи."
   ]
  },
  {
   "cell_type": "markdown",
   "id": "c3a051c5",
   "metadata": {},
   "source": [
    "Корреляционный анализ:"
   ]
  },
  {
   "cell_type": "markdown",
   "id": "c5ca0b50",
   "metadata": {},
   "source": [
    "*trainq_df*"
   ]
  },
  {
   "cell_type": "code",
   "execution_count": null,
   "id": "aea91324",
   "metadata": {},
   "outputs": [],
   "source": [
    "plt.figure(figsize=(12, 8))\n",
    "sns.heatmap(trainq_df.corr(), annot=True, cmap=\"coolwarm\",fmt='.2f');\n",
    "plt.title(\"Корреляционная матрица количественных признаков по trainq_df\")\n",
    "plt.show()"
   ]
  },
  {
   "cell_type": "markdown",
   "id": "77c5841d",
   "metadata": {},
   "source": [
    "*test2_df*"
   ]
  },
  {
   "cell_type": "code",
   "execution_count": null,
   "id": "d2d76f31",
   "metadata": {},
   "outputs": [],
   "source": [
    "plt.figure(figsize=(12, 8))\n",
    "sns.heatmap(test2_df.corr(), annot=True, cmap=\"coolwarm\",fmt='.2f');\n",
    "plt.title(\"Корреляционная матрица количественных признаков по test2_df\")\n",
    "plt.show()"
   ]
  },
  {
   "cell_type": "markdown",
   "id": "adb34ae4",
   "metadata": {},
   "source": [
    "Отличия корреляций между *trainq_df* и *test_df2*:"
   ]
  },
  {
   "cell_type": "code",
   "execution_count": null,
   "id": "e7c7f4b8",
   "metadata": {},
   "outputs": [],
   "source": [
    "plt.figure(figsize=(12, 8))\n",
    "sns.heatmap(trainq_df.corr() - test2_df.corr(), annot=True, cmap=\"coolwarm\",fmt='.2f');\n",
    "plt.title(\"Разница корреляционных матрицы количественных признаков по trainq_df и test2_df\")\n",
    "plt.show()"
   ]
  },
  {
   "cell_type": "markdown",
   "id": "91d1e61a",
   "metadata": {},
   "source": [
    "Корреляция по Спирмену:"
   ]
  },
  {
   "cell_type": "markdown",
   "id": "a53757bc",
   "metadata": {},
   "source": [
    "*trainq_df*"
   ]
  },
  {
   "cell_type": "code",
   "execution_count": null,
   "id": "ec953ddb",
   "metadata": {},
   "outputs": [],
   "source": [
    "plt.figure(figsize=(12, 10))\n",
    "sns.heatmap(trainq_df.corr(method='spearman'), annot=True, cmap=\"coolwarm\",fmt='.2f', square=True);\n",
    "plt.title(\"Корреляционная матрица количественных признаков по Спирмену по trainq_df\")\n",
    "plt.show()"
   ]
  },
  {
   "cell_type": "markdown",
   "id": "d7ce65d4",
   "metadata": {},
   "source": [
    "*test2_df*"
   ]
  },
  {
   "cell_type": "code",
   "execution_count": null,
   "id": "a32ae7ff",
   "metadata": {},
   "outputs": [],
   "source": [
    "plt.figure(figsize=(12, 10))\n",
    "sns.heatmap(test2_df.corr(method='spearman'), annot=True, cmap=\"coolwarm\",fmt='.2f', square=True);\n",
    "plt.title(\"Корреляционная матрица количественных признаков по Спирмену по test2_df\")\n",
    "plt.show()"
   ]
  },
  {
   "cell_type": "markdown",
   "id": "df03b10c",
   "metadata": {},
   "source": [
    "Отличия корреляций по Спирмену между *trainq_df* и *test_df2*:"
   ]
  },
  {
   "cell_type": "code",
   "execution_count": null,
   "id": "6212c892",
   "metadata": {},
   "outputs": [],
   "source": [
    "plt.figure(figsize=(12, 10))\n",
    "sns.heatmap(trainq_df.corr(method='spearman') - test2_df.corr(method='spearman'), annot=True, cmap=\"coolwarm\",fmt='.2f', square=True);\n",
    "plt.title(\"Разница корреляционных матриц по Спирмену по trainq_df и test2_df\")\n",
    "plt.show()"
   ]
  },
  {
   "cell_type": "markdown",
   "id": "8c940d26",
   "metadata": {},
   "source": [
    "*trainq_df*"
   ]
  },
  {
   "cell_type": "code",
   "execution_count": null,
   "id": "b7eb796a",
   "metadata": {},
   "outputs": [],
   "source": [
    "#Создаем новый датафрейм, потому что матрица игнорирует interval_cols\n",
    "interval_df = trainq_df.drop(['employment_years', 'supervisor_evaluation'], axis=1)\n",
    "interval_testdf = test2_df.drop(['employment_years', 'supervisor_evaluation'], axis=1)\n",
    "interval_cols = interval_df.select_dtypes(include='number').columns.tolist()"
   ]
  },
  {
   "cell_type": "code",
   "execution_count": null,
   "id": "66948319",
   "metadata": {},
   "outputs": [],
   "source": [
    "phi_k_matrix = interval_df.phik_matrix(interval_cols=interval_cols)\n",
    "plt.figure(figsize=(12, 10))\n",
    "sns.heatmap(phi_k_matrix, annot=True, cmap=\"coolwarm\",fmt='.2f', square=True);\n",
    "plt.title(\"Корреляционная матрица phi_k по trainq_df\")\n",
    "plt.show()"
   ]
  },
  {
   "cell_type": "markdown",
   "id": "c1caee00",
   "metadata": {},
   "source": [
    "*test2_df*"
   ]
  },
  {
   "cell_type": "code",
   "execution_count": null,
   "id": "46e9a71b",
   "metadata": {},
   "outputs": [],
   "source": [
    "phi_k_matrix = interval_testdf.phik_matrix(interval_cols=interval_cols)\n",
    "plt.figure(figsize=(12, 10))\n",
    "sns.heatmap(phi_k_matrix, annot=True, cmap=\"coolwarm\",fmt='.2f', square=True);\n",
    "plt.title(\"Корреляционная матрица phi_k по test2_df\")\n",
    "plt.show()"
   ]
  },
  {
   "cell_type": "markdown",
   "id": "eb55374c",
   "metadata": {},
   "source": [
    "Отличия корреляций *phi_k* между *trainq_df* и *test_df2*:"
   ]
  },
  {
   "cell_type": "code",
   "execution_count": null,
   "id": "9e0c9bf7",
   "metadata": {
    "scrolled": true
   },
   "outputs": [],
   "source": [
    "phi_k_matrix = interval_df.phik_matrix(interval_cols=interval_cols) - interval_testdf.phik_matrix(interval_cols=interval_cols)\n",
    "plt.figure(figsize=(12, 10))\n",
    "sns.heatmap(phi_k_matrix, annot=True, cmap=\"coolwarm\",fmt='.2f', square=True);\n",
    "plt.title(\"Разница корреляционных матриц phi_k по trainq_df и test2_df\")\n",
    "plt.show()"
   ]
  },
  {
   "cell_type": "markdown",
   "id": "85db1e9d",
   "metadata": {},
   "source": [
    "Корреляционные матрицы тренировочных и тестовых данных близки. Разницы между ними несущественны."
   ]
  },
  {
   "cell_type": "code",
   "execution_count": null,
   "id": "ba7c06c5",
   "metadata": {},
   "outputs": [],
   "source": [
    "salquit = trainq_df.query('quit == \"yes\"')['salary'].median()\n",
    "print(f'Медианная зарплата ушедшего сотрудника: {salquit}')"
   ]
  },
  {
   "cell_type": "code",
   "execution_count": null,
   "id": "f814952f",
   "metadata": {
    "scrolled": false
   },
   "outputs": [],
   "source": [
    "salnoquit = trainq_df.query('quit == \"no\"')['salary'].median()\n",
    "print(f'Медианная зарплата оставшегося сотрудника: {salnoquit}')"
   ]
  },
  {
   "cell_type": "markdown",
   "id": "ddae8c76",
   "metadata": {},
   "source": [
    "Составим портрет уволившегося сотрудника:"
   ]
  },
  {
   "cell_type": "markdown",
   "id": "707223ce",
   "metadata": {},
   "source": [
    "Построим релевантные графики:"
   ]
  },
  {
   "cell_type": "code",
   "execution_count": null,
   "id": "0306d2bc",
   "metadata": {},
   "outputs": [],
   "source": [
    "trainq_df"
   ]
  },
  {
   "cell_type": "code",
   "execution_count": null,
   "id": "2a91a77b",
   "metadata": {},
   "outputs": [],
   "source": [
    "cat_cols = ['level', 'dept', 'workload', 'last_year_promo', 'last_year_violations', 'employment_years', 'supervisor_evaluation']\n",
    "\n",
    "for col in cat_cols:\n",
    "    level_total = trainq_df[col].value_counts(normalize=True)\n",
    "    level_quit = trainq_df.query('quit==\"yes\"')[col].value_counts(normalize=True)\n",
    "    \n",
    "    compare_df = pd.DataFrame({\n",
    "        'Все сотрудники': level_total * 100,\n",
    "        'Уволившиеся': level_quit * 100\n",
    "    }).sort_index()\n",
    "    \n",
    "    plt.figure(figsize=(15, 12))\n",
    "    ax = compare_df.plot.bar()\n",
    "    \n",
    "    plt.title(f'Распределения должностей среди всех сотрудников и уволившихся \"{col}\"')\n",
    "    plt.xlabel('Категории признака')\n",
    "    plt.ylabel('Доля, %')\n",
    "    plt.grid(axis='y')\n",
    "    plt.legend(bbox_to_anchor=(1.05, 1))\n",
    "    \n",
    "    plt.tight_layout()\n",
    "    plt.show()"
   ]
  },
  {
   "cell_type": "markdown",
   "id": "fe4e7d22",
   "metadata": {},
   "source": [
    "Работает 1 год; <br> \n",
    "Медианная зарплата: 24000.0;\n",
    "Имеет оценку руководителя \"3\"; <br>\n",
    "Должность *junior*; <br>\n",
    "Уровень нагрузки средний или низкий; <br>\n",
    "Из отдела продаж (в абсолютном значении оттуда уволилось больше всего); <br>\n",
    "Очевидно, не получал повышения в прошлом году и не нарушал трудовой договор."
   ]
  },
  {
   "cell_type": "markdown",
   "id": "221fbb66",
   "metadata": {},
   "source": [
    "Проверка связи `job_satisfaction_rate` и `quit`:"
   ]
  },
  {
   "cell_type": "code",
   "execution_count": null,
   "id": "e9918b9f",
   "metadata": {},
   "outputs": [],
   "source": [
    "#Создаем датафрейм с целевыми признаками:\n",
    "test_quit_job = test2_df.join(testt_df, on='id')"
   ]
  },
  {
   "cell_type": "code",
   "execution_count": null,
   "id": "3cba859c",
   "metadata": {
    "scrolled": true
   },
   "outputs": [],
   "source": [
    "sns.histplot(data=test_quit_job, x='job_satisfaction_rate', hue='quit', \n",
    "             stat='density', common_norm=False, \n",
    "             bins=35, palette={'no':'blue', 'yes':'red'})\n",
    "\n",
    "plt.title('Распределение удовлетворенности работой для ушедших и оставшихся')\n",
    "plt.xlabel('Удовлетворенность работой')\n",
    "plt.ylabel('Плотность распределения')\n",
    "plt.legend(title='Уволился', labels=['Да', 'Нет'])\n",
    "plt.show()"
   ]
  },
  {
   "cell_type": "markdown",
   "id": "32aedd65",
   "metadata": {},
   "source": [
    "`quit` явно разделен на две области."
   ]
  },
  {
   "cell_type": "markdown",
   "id": "ee435fe4",
   "metadata": {},
   "source": [
    "Проведем статитеский анализ:"
   ]
  },
  {
   "cell_type": "markdown",
   "id": "ec45ab01",
   "metadata": {},
   "source": [
    "H0: Уровень удовлетворенности не влияет на вероятность уволиться.\n",
    "\n",
    "H1: Сотрудники с низкой удовлетворенностью чаще увольняются."
   ]
  },
  {
   "cell_type": "code",
   "execution_count": null,
   "id": "522b1be2",
   "metadata": {},
   "outputs": [],
   "source": [
    "alpha = 0.05\n",
    "\n",
    "#Односторонний ttest\n",
    "result = stats.ttest_ind(\n",
    "    test_quit_job[test_quit_job['quit'] == 'yes']['job_satisfaction_rate'],\n",
    "    test_quit_job[test_quit_job['quit'] == 'no']['job_satisfaction_rate'],\n",
    "    alternative = 'less'\n",
    ")\n",
    "print(f\"t-тест: p-value = {result.pvalue}\")\n",
    "\n",
    "if result.pvalue < alpha:\n",
    "    print(\"Отвергаем нулевую гипотезу. Сотрудники с низкой удовлетворенностью чаще увольняются.\")\n",
    "else:\n",
    "    print(\"Не отвергаем нулевую гипотезу.\")"
   ]
  },
  {
   "cell_type": "markdown",
   "id": "7eac95ed",
   "metadata": {},
   "source": [
    "Добавим `job_satisfaction_rate` к новым таблицам:"
   ]
  },
  {
   "cell_type": "code",
   "execution_count": null,
   "id": "f04897e9",
   "metadata": {},
   "outputs": [],
   "source": [
    "trainq_df['job_satisfaction_rate'] = rand_search_1.predict(trainq_df.drop('quit', axis=1))\n",
    "\n",
    "test2_df['job_satisfaction_rate'] = rand_search_1.predict(test2_df.drop('quit', axis=1))"
   ]
  },
  {
   "cell_type": "markdown",
   "id": "b7c389e3",
   "metadata": {},
   "source": [
    "Построим *phi_k*:"
   ]
  },
  {
   "cell_type": "code",
   "execution_count": null,
   "id": "d1f7823a",
   "metadata": {
    "scrolled": true
   },
   "outputs": [],
   "source": [
    "interval_cols = trainq_df.select_dtypes(include='number').columns.tolist()\n",
    "phi_k_matrix = trainq_df.phik_matrix(interval_cols=interval_cols)\n",
    "plt.figure(figsize=(12, 10))\n",
    "sns.heatmap(phi_k_matrix, annot=True, cmap=\"coolwarm\",fmt='.2f', square=True);\n",
    "plt.title(\"Корреляционная матрица phi_k\")\n",
    "plt.show()"
   ]
  },
  {
   "cell_type": "markdown",
   "id": "30f04f89",
   "metadata": {},
   "source": [
    "Все признаки влияют на целевой кроме признака `dept`. Больше всего на увольнение влияют: стаж, зарплата, уровень удовлетворенности работой."
   ]
  },
  {
   "cell_type": "markdown",
   "id": "c6d6569c",
   "metadata": {},
   "source": [
    "### Пайплайн"
   ]
  },
  {
   "cell_type": "markdown",
   "id": "4e5b0005",
   "metadata": {},
   "source": [
    "Найдем и удалим дубликаты после индексации признака `id`:"
   ]
  },
  {
   "cell_type": "code",
   "execution_count": null,
   "id": "1d413af6",
   "metadata": {},
   "outputs": [],
   "source": [
    "print(trainq_df.duplicated().sum())\n",
    "trainq_df = trainq_df.drop_duplicates()"
   ]
  },
  {
   "cell_type": "markdown",
   "id": "b0d0a8b7",
   "metadata": {},
   "source": [
    "Подготовим данные:"
   ]
  },
  {
   "cell_type": "code",
   "execution_count": null,
   "id": "c1a85739",
   "metadata": {},
   "outputs": [],
   "source": [
    "X_train = trainq_df.drop(['quit'], axis = 1)\n",
    "X_test = test2_df.drop(['quit'], axis = 1)\n",
    "le = LabelEncoder()\n",
    "y_train = le.fit_transform(trainq_df['quit'])\n",
    "y_test = le.transform(test2_df['quit'])\n",
    "print(f'Кодирование классов: {le.classes_}')\n",
    "print(f'y_train unique: {np.unique(y_train)}')"
   ]
  },
  {
   "cell_type": "code",
   "execution_count": null,
   "id": "842b5f6e",
   "metadata": {},
   "outputs": [],
   "source": [
    "#Разбиение данных на типы:\n",
    "cat_col_names = X_train.select_dtypes(exclude='number').drop(['level', 'workload'],axis=1).columns.tolist()\n",
    "ord_col_names = ['level', 'workload']\n",
    "num_col_names = trainq_df.select_dtypes(include='number').columns.tolist()"
   ]
  },
  {
   "cell_type": "code",
   "execution_count": null,
   "id": "159529b8",
   "metadata": {},
   "outputs": [],
   "source": [
    "#Пайплайн:\n",
    "ord_pipe = Pipeline([\n",
    "    ('imputer', SimpleImputer(strategy='most_frequent')),\n",
    "    ('ord', OrdinalEncoder(categories=[['junior', 'middle', 'senior'], ['low', 'medium', 'high']]))\n",
    "])\n",
    "\n",
    "cat_pipe = Pipeline([('ohe', OneHotEncoder(handle_unknown='ignore'))])\n",
    "\n",
    "num_pipe = Pipeline([('scaler', StandardScaler())])\n",
    "\n",
    "data_preprocessor = ColumnTransformer([('cat', cat_pipe, cat_col_names),\n",
    "                                       ('num', num_pipe, num_col_names),\n",
    "                                       ('ord', ord_pipe, ord_col_names)])\n",
    "\n",
    "\n",
    "pipe_final = Pipeline([\n",
    "    ('preprocessor', data_preprocessor),\n",
    "    ('models', LogisticRegression(\n",
    "        random_state=1,\n",
    "        class_weight='balanced'\n",
    "    ))\n",
    "])\n",
    "\n",
    "param_grid = [\n",
    "    {\n",
    "        'models':[LogisticRegression(random_state=1,\n",
    "                                     solver='liblinear',\n",
    "                                     penalty='l1',\n",
    "                                     class_weight='balanced')],\n",
    "        'preprocessor__num__scaler': [StandardScaler(), MinMaxScaler(), RobustScaler(), 'passthrough']\n",
    "    },\n",
    "    {\n",
    "        'models':[KNeighborsClassifier()],\n",
    "        'models__n_neighbors': range(7,15),\n",
    "        'models__p': [1, 2],\n",
    "        'preprocessor__num__scaler': [StandardScaler(), MinMaxScaler(), RobustScaler(), 'passthrough']\n",
    "    },\n",
    "    {\n",
    "        'models': [DecisionTreeClassifier(random_state=1, class_weight='balanced')],\n",
    "        'models__max_depth': range(2,5),\n",
    "        'models__max_features': range(2,5),\n",
    "        'models__min_samples_split': range(2,5),\n",
    "        'preprocessor__num__scaler': [StandardScaler(), MinMaxScaler(), RobustScaler(), 'passthrough'],\n",
    "        'models__min_samples_leaf': range(2,5),\n",
    "        'models__ccp_alpha': [0.0, 0.01, 0.1]\n",
    "    }]\n",
    "\n",
    "cv = StratifiedKFold(n_splits=5, shuffle=True, random_state=1)\n",
    "\n",
    "rand_search = RandomizedSearchCV(\n",
    "    pipe_final,\n",
    "    param_grid,\n",
    "    cv=cv,\n",
    "    scoring='roc_auc',\n",
    "    random_state=1,\n",
    "    n_jobs=-1,\n",
    "    n_iter = 35\n",
    ")\n",
    "\n",
    "rand_search.fit(X_train, y_train)\n",
    "\n",
    "y_test_pred = rand_search.predict(X_test)\n",
    "y_test_pred_proba = rand_search.predict_proba(X_test)[:, 1]  \n",
    "\n",
    "print('Лучшая модель и её параметры:\\n\\n', rand_search.best_estimator_)\n",
    "print(f'Средняя ROC-AUC на кросс-валидации: {rand_search.best_score_:.4f}')"
   ]
  },
  {
   "cell_type": "code",
   "execution_count": null,
   "id": "aaf537d1",
   "metadata": {
    "scrolled": true
   },
   "outputs": [],
   "source": [
    "print(f'Метрика ROC-AUC на тестовой выборке: {roc_auc_score(y_test, y_test_pred_proba):.4f}')\n",
    "print(f'Метрика f1_score на тестовой выборке: {f1_score(y_test, y_test_pred):.4f}')\n",
    "print(f'Метрика recall_score на тестовой выборке: {recall_score(y_test, y_test_pred):.4f}')"
   ]
  },
  {
   "cell_type": "markdown",
   "id": "655f753a",
   "metadata": {},
   "source": [
    "Лучшая модель: *KNeighborsClassifier* <br>\n",
    "Средняя *ROC-AUC* на кросс-валидации: 0.8978 <br>\n",
    "Метрика *ROC-AUC* на тестовой выборке: 0.9119 <br>\n",
    "Метрика *f1_score* на тестовой выборке: 0.7871 <br>\n",
    "Метрика *recall_score* на тестовой выборке: 0.7376 <br>\n",
    "\n",
    "Метрику *recall_score* используем потому что нам важно выявить увольняющегося сотрудника. Дешевле сохранить работника, чем искать ему замену."
   ]
  },
  {
   "cell_type": "code",
   "execution_count": null,
   "id": "e8589a8f",
   "metadata": {
    "scrolled": true
   },
   "outputs": [],
   "source": [
    "dummy_regr = DummyClassifier(strategy=\"stratified\")\n",
    "\n",
    "dummy_regr.fit(X_train, y_train)\n",
    "\n",
    "DummyRegressor()\n",
    "\n",
    "dum_pred = dummy_regr.predict(X_test)\n",
    "\n",
    "print(f'Метрика ROC-AUC на dummy модели: {roc_auc_score(y_test, dum_pred):.4f}')\n",
    "print(f'Метрика ROC-AUC на тестовой выборке: {roc_auc_score(y_test, y_test_pred_proba):.4f}')"
   ]
  },
  {
   "cell_type": "markdown",
   "id": "516350c4",
   "metadata": {},
   "source": [
    "Модель адекватна."
   ]
  },
  {
   "cell_type": "markdown",
   "id": "de166d6b",
   "metadata": {},
   "source": [
    "Построим график убывания средних *SHAP*‑значений:"
   ]
  },
  {
   "cell_type": "markdown",
   "id": "56f78746",
   "metadata": {},
   "source": [
    "**В прошлом проекте получилось построить этот график, сейчас получается так, как я тут оставил.**"
   ]
  },
  {
   "cell_type": "code",
   "execution_count": null,
   "id": "d588538b",
   "metadata": {
    "scrolled": true
   },
   "outputs": [],
   "source": [
    "X_transformed = rand_search_1.best_estimator_.named_steps['preprocessor'].transform(X_train)\n",
    "\n",
    "explainer = shap.Explainer(rand_search_1.best_estimator_.named_steps['models'], X_transformed)\n",
    "\n",
    "shap_values = explainer.shap_values(X_transformed)\n",
    "\n",
    "plt.figure(figsize=(12, 10))\n",
    "\n",
    "shap.summary_plot(\n",
    "    shap_values, \n",
    "    X_transformed, \n",
    "    feature_names=rand_search_1.best_estimator_.named_steps['preprocessor'].get_feature_names_out(), \n",
    "    show=False\n",
    ")\n",
    "\n",
    "\n",
    "ax = plt.gca()\n",
    "ax.set_xlabel(\"SHAP значение\")\n",
    "ax.set_ylabel(\"Признаки\")\n",
    "ax.set_title('SHAP value признаков в порядке убывания значимости')\n",
    "plt.tight_layout()\n",
    "plt.show()"
   ]
  },
  {
   "cell_type": "markdown",
   "id": "ae385977",
   "metadata": {},
   "source": [
    "Наиболее важные признаки:\n",
    "\n",
    "1. `supervisor_evaluation` \n",
    "2. `employment_years` \n",
    "3. `level`  \n",
    "4. `cat_last_year_violiations_yes`\n",
    "5. `salary`"
   ]
  },
  {
   "cell_type": "markdown",
   "id": "0257a0ad",
   "metadata": {},
   "source": [
    "# Выводы"
   ]
  },
  {
   "cell_type": "markdown",
   "id": "86144ff7",
   "metadata": {},
   "source": [
    "1. В результате предобработки данных в обеих задачах заменены неправильные названия значений, пропуски вида \" \" заменены на пропуски вида *NaN*. Выбросов нет, пропуски будут заполнены в пайплайне. Удалены дубликаты после индексации по `id` <br><br>\n",
    "2. Портерт уволившегося сотрудника:\n",
    "   1.  Работает 1 год; <br> \n",
    "   2. Медианная зарплата: 24000.0; <br>\n",
    "   3. Имеет оценку руководителя \"3\"; <br>\n",
    "   4. Должность *junior*; <br>\n",
    "   5. Уровень нагрузки средний или низкий; <br>\n",
    "   6. Из отдела продаж (в абсолютном значении оттуда уволилось больше всего); <br>\n",
    "   7. Не получал повышения в прошлом году и не нарушал трудовой договор. <br>\n",
    "\n",
    "    Все признаки влияют на шанс уйти с работы признака `dept`. Больше всего на увольнение влияют: стаж, зарплата, уровень удовлетворенности работой.\n",
    "\n",
    "    На уровень удовлетворенности работой больше всего влияет оценка руководителя и наличие нарушений за последний год, но причинно-следственная связь здесь обратная(нарушения и низкая трудоспособность показывают, что сотрудник недоволен). <br><br>\n",
    "\n",
    "3. Обучение модели на целевом признаке `job_satisfaction_rate`: \n",
    "\n",
    "    Требуемое значение *SMAPE* достигнуто. Лучшая модель: *DecisionTreeRegressor(max_depth=14, min_samples_leaf=6,\n",
    "                                       min_samples_split=3, random_state=1))])*. <br> \n",
    "    SMAPE на кросс-валидации: 15.2499% <br>\n",
    "    Метрика SMAPE на тестовой выборке: 13.8177% <br>\n",
    "   Критерий успеха достигнут.<br>\n",
    "   Модель справилась лучше по причине того, что зависимости нелинейные, а сама модель чувстительна к выбросам. *DecisionTreeRegressor* разбивает данные на изолированные группы. Выбросы попадают в отдельные листья и не влияют на весь прогноз.<br>\n",
    "   Наиболее значимые признаки при оценке уровня удовлетворенности: <br>\n",
    "    1. `supervisor_evaluation`<br>\n",
    "    2. `employment_years`<br>\n",
    "    3. `level`<br>\n",
    "    4. `salary`<br>\n",
    "    5. `cat__last_year_violations_no`<br>\n",
    "   \n",
    "   Обучение модели на целевом признаке `quit`:\n",
    "   \n",
    "    Лучшая модель: *KNeighborsClassifier* <br>\n",
    "    Средняя *ROC-AUC* на кросс-валидации: 0.8978 <br>\n",
    "    Метрика *ROC-AUC* на тестовой выборке: 0.9119 <br>\n",
    "    Метрика *f1_score* на тестовой выборке: 0.7871 <br>\n",
    "    Метрика *recall_score* на тестовой выборке: 0.7376 <br>\n",
    "    Критерий успеха достигнут. <br>\n",
    "    Метрику *recall_score* используем потому что нам важно выявить увольняющегося сотрудника. Дешевле сохранить работника, чем искать ему замену.\n",
    "    Наиболее значимые признаки при оценке вероятности увольнения: <br>\n",
    "    1. `supervisor_evaluation` \n",
    "    2. `employment_years` \n",
    "    3. `level`  \n",
    "    4. `cat_last_year_violiations_yes`\n",
    "    5. `salary`\n",
    "4. Рекомендации для бизнеса по снижению уровня увольнений:\n",
    "    1. \"Работать\" с сотрудниками с низкой оценкой от руководителя\n",
    "    1. Вести контроль за удовлетворенностью сотрудников\n",
    "    2. Искать способы помогать \"переживать\" первый год работы\n",
    "    3. Учитывать условия конкретной сферы бизнеса при использовании предложенных моделей. (я проработал 3 года стажером в НИИ, потому что это было выгоднее, чем инженером)"
   ]
  }
 ],
 "metadata": {
  "ExecuteTimeLog": [
   {
    "duration": 1990,
    "start_time": "2025-03-28T07:30:30.267Z"
   },
   {
    "duration": 69,
    "start_time": "2025-03-28T07:32:03.951Z"
   },
   {
    "duration": 131,
    "start_time": "2025-03-28T07:32:12.588Z"
   },
   {
    "duration": 10,
    "start_time": "2025-03-28T07:32:17.231Z"
   },
   {
    "duration": 25,
    "start_time": "2025-03-28T07:32:20.296Z"
   },
   {
    "duration": 17,
    "start_time": "2025-03-28T07:32:28.585Z"
   },
   {
    "duration": 15,
    "start_time": "2025-03-28T07:32:43.628Z"
   },
   {
    "duration": 9,
    "start_time": "2025-03-28T07:32:43.825Z"
   },
   {
    "duration": 11,
    "start_time": "2025-03-28T07:32:59.146Z"
   },
   {
    "duration": 62,
    "start_time": "2025-03-28T07:34:30.017Z"
   },
   {
    "duration": 15,
    "start_time": "2025-03-28T07:34:30.876Z"
   },
   {
    "duration": 10,
    "start_time": "2025-03-28T07:34:33.568Z"
   },
   {
    "duration": 15,
    "start_time": "2025-03-28T07:34:34.173Z"
   },
   {
    "duration": 9,
    "start_time": "2025-03-28T07:34:34.795Z"
   },
   {
    "duration": 11,
    "start_time": "2025-03-28T07:34:50.191Z"
   },
   {
    "duration": 9,
    "start_time": "2025-03-28T07:35:05.317Z"
   },
   {
    "duration": 2,
    "start_time": "2025-03-28T07:39:20.548Z"
   },
   {
    "duration": 3,
    "start_time": "2025-03-28T07:41:31.588Z"
   },
   {
    "duration": 8,
    "start_time": "2025-03-28T07:41:50.194Z"
   },
   {
    "duration": 4,
    "start_time": "2025-03-28T07:42:03.851Z"
   },
   {
    "duration": 6,
    "start_time": "2025-03-28T07:42:05.235Z"
   },
   {
    "duration": 6,
    "start_time": "2025-03-28T07:42:25.864Z"
   },
   {
    "duration": 4,
    "start_time": "2025-03-28T07:42:32.331Z"
   },
   {
    "duration": 26,
    "start_time": "2025-03-28T07:47:50.772Z"
   },
   {
    "duration": 30,
    "start_time": "2025-03-28T07:47:50.991Z"
   },
   {
    "duration": 10,
    "start_time": "2025-03-28T07:47:56.049Z"
   },
   {
    "duration": 12,
    "start_time": "2025-03-28T08:16:21.966Z"
   },
   {
    "duration": 855,
    "start_time": "2025-03-28T08:16:38.324Z"
   },
   {
    "duration": 1301,
    "start_time": "2025-03-28T08:16:56.419Z"
   },
   {
    "duration": 993,
    "start_time": "2025-03-28T08:17:09.875Z"
   },
   {
    "duration": 1301,
    "start_time": "2025-03-28T08:17:17.117Z"
   },
   {
    "duration": 6,
    "start_time": "2025-03-28T08:17:26.965Z"
   },
   {
    "duration": 996,
    "start_time": "2025-03-28T08:18:57.804Z"
   },
   {
    "duration": 621,
    "start_time": "2025-03-28T08:19:02.268Z"
   },
   {
    "duration": 589,
    "start_time": "2025-03-28T08:19:12.246Z"
   },
   {
    "duration": 508,
    "start_time": "2025-03-28T08:19:18.918Z"
   },
   {
    "duration": 483,
    "start_time": "2025-03-28T08:19:32.930Z"
   },
   {
    "duration": 785,
    "start_time": "2025-03-28T08:20:19.527Z"
   },
   {
    "duration": 925,
    "start_time": "2025-03-28T08:20:33.421Z"
   },
   {
    "duration": 759,
    "start_time": "2025-03-28T08:20:49.277Z"
   },
   {
    "duration": 236,
    "start_time": "2025-03-28T08:23:21.478Z"
   },
   {
    "duration": 31148,
    "start_time": "2025-03-28T08:24:37.099Z"
   },
   {
    "duration": 315,
    "start_time": "2025-03-28T08:26:13.012Z"
   },
   {
    "duration": 13,
    "start_time": "2025-03-28T08:28:18.212Z"
   },
   {
    "duration": 297,
    "start_time": "2025-03-28T08:28:22.443Z"
   },
   {
    "duration": 355,
    "start_time": "2025-03-28T08:29:07.276Z"
   },
   {
    "duration": 364,
    "start_time": "2025-03-28T08:29:11.212Z"
   },
   {
    "duration": 724,
    "start_time": "2025-03-28T08:29:32.755Z"
   },
   {
    "duration": 725,
    "start_time": "2025-03-28T08:29:40.823Z"
   },
   {
    "duration": 329,
    "start_time": "2025-03-28T08:30:03.188Z"
   },
   {
    "duration": 124,
    "start_time": "2025-03-28T08:33:17.859Z"
   },
   {
    "duration": 139,
    "start_time": "2025-03-28T08:33:26.140Z"
   },
   {
    "duration": 310,
    "start_time": "2025-03-28T08:34:12.658Z"
   },
   {
    "duration": 337,
    "start_time": "2025-03-28T08:34:36.148Z"
   },
   {
    "duration": 349,
    "start_time": "2025-03-28T08:37:40.682Z"
   },
   {
    "duration": 676,
    "start_time": "2025-03-28T08:37:51.066Z"
   },
   {
    "duration": 674,
    "start_time": "2025-03-28T08:37:55.231Z"
   },
   {
    "duration": 737,
    "start_time": "2025-03-28T08:40:56.697Z"
   },
   {
    "duration": 1166,
    "start_time": "2025-03-28T08:41:07.375Z"
   },
   {
    "duration": 1308,
    "start_time": "2025-03-28T08:41:14.777Z"
   },
   {
    "duration": 1221,
    "start_time": "2025-03-28T08:41:20.818Z"
   },
   {
    "duration": 1291,
    "start_time": "2025-03-28T08:41:28.503Z"
   },
   {
    "duration": 4,
    "start_time": "2025-03-28T08:46:41.922Z"
   },
   {
    "duration": 5,
    "start_time": "2025-03-28T08:46:57.019Z"
   },
   {
    "duration": 1160,
    "start_time": "2025-03-28T08:48:11.241Z"
   },
   {
    "duration": 2830,
    "start_time": "2025-03-28T08:49:40.292Z"
   },
   {
    "duration": 95,
    "start_time": "2025-03-28T08:49:47.490Z"
   },
   {
    "duration": 20,
    "start_time": "2025-03-28T08:52:55.239Z"
   },
   {
    "duration": 8,
    "start_time": "2025-03-28T08:53:02.329Z"
   },
   {
    "duration": 14,
    "start_time": "2025-03-28T08:53:05.464Z"
   },
   {
    "duration": 10,
    "start_time": "2025-03-28T08:53:17.272Z"
   },
   {
    "duration": 14,
    "start_time": "2025-03-28T08:53:25.903Z"
   },
   {
    "duration": 11,
    "start_time": "2025-03-28T08:56:18.411Z"
   },
   {
    "duration": 11,
    "start_time": "2025-03-28T08:56:58.176Z"
   },
   {
    "duration": 7,
    "start_time": "2025-03-28T08:57:03.336Z"
   },
   {
    "duration": 7,
    "start_time": "2025-03-28T08:57:07.167Z"
   },
   {
    "duration": 8,
    "start_time": "2025-03-28T08:57:26.767Z"
   },
   {
    "duration": 7,
    "start_time": "2025-03-28T08:57:28.219Z"
   },
   {
    "duration": 22,
    "start_time": "2025-03-28T08:58:40.521Z"
   },
   {
    "duration": 12,
    "start_time": "2025-03-28T08:59:44.416Z"
   },
   {
    "duration": 18,
    "start_time": "2025-03-28T09:00:26.511Z"
   },
   {
    "duration": 24,
    "start_time": "2025-03-28T09:07:47.462Z"
   },
   {
    "duration": 20,
    "start_time": "2025-03-28T09:08:05.026Z"
   },
   {
    "duration": 1783,
    "start_time": "2025-03-28T09:08:44.487Z"
   },
   {
    "duration": 1641,
    "start_time": "2025-03-28T09:08:58.221Z"
   },
   {
    "duration": 1370,
    "start_time": "2025-03-28T09:09:08.693Z"
   },
   {
    "duration": 1466,
    "start_time": "2025-03-28T09:09:11.872Z"
   },
   {
    "duration": 2110,
    "start_time": "2025-03-28T09:09:18.436Z"
   },
   {
    "duration": 786,
    "start_time": "2025-03-28T09:10:33.509Z"
   },
   {
    "duration": 957,
    "start_time": "2025-03-28T09:10:53.119Z"
   },
   {
    "duration": 1963,
    "start_time": "2025-03-30T03:19:57.680Z"
   },
   {
    "duration": 203,
    "start_time": "2025-03-30T03:19:59.645Z"
   },
   {
    "duration": 22,
    "start_time": "2025-03-30T03:19:59.850Z"
   },
   {
    "duration": 12,
    "start_time": "2025-03-30T03:19:59.873Z"
   },
   {
    "duration": 17,
    "start_time": "2025-03-30T03:19:59.887Z"
   },
   {
    "duration": 26,
    "start_time": "2025-03-30T03:19:59.905Z"
   },
   {
    "duration": 8,
    "start_time": "2025-03-30T03:19:59.932Z"
   },
   {
    "duration": 8,
    "start_time": "2025-03-30T03:19:59.941Z"
   },
   {
    "duration": 3,
    "start_time": "2025-03-30T03:19:59.950Z"
   },
   {
    "duration": 18,
    "start_time": "2025-03-30T03:19:59.954Z"
   },
   {
    "duration": 7,
    "start_time": "2025-03-30T03:19:59.974Z"
   },
   {
    "duration": 49,
    "start_time": "2025-03-30T03:19:59.983Z"
   },
   {
    "duration": 58,
    "start_time": "2025-03-30T03:20:00.033Z"
   },
   {
    "duration": 34,
    "start_time": "2025-03-30T03:20:00.093Z"
   },
   {
    "duration": 26,
    "start_time": "2025-03-30T03:20:00.128Z"
   },
   {
    "duration": 43,
    "start_time": "2025-03-30T03:20:00.155Z"
   },
   {
    "duration": 959,
    "start_time": "2025-03-30T03:20:00.199Z"
   },
   {
    "duration": 814,
    "start_time": "2025-03-30T03:20:01.167Z"
   },
   {
    "duration": 642,
    "start_time": "2025-03-30T03:20:01.982Z"
   },
   {
    "duration": 1509,
    "start_time": "2025-03-30T03:20:02.626Z"
   },
   {
    "duration": 138,
    "start_time": "2025-03-30T03:27:14.444Z"
   },
   {
    "duration": 11,
    "start_time": "2025-03-30T03:27:29.884Z"
   },
   {
    "duration": 6,
    "start_time": "2025-03-30T03:27:40.498Z"
   },
   {
    "duration": 1966,
    "start_time": "2025-03-30T03:27:45.935Z"
   },
   {
    "duration": 62,
    "start_time": "2025-03-30T03:27:47.903Z"
   },
   {
    "duration": 21,
    "start_time": "2025-03-30T03:27:47.966Z"
   },
   {
    "duration": 11,
    "start_time": "2025-03-30T03:27:47.989Z"
   },
   {
    "duration": 17,
    "start_time": "2025-03-30T03:27:48.002Z"
   },
   {
    "duration": 11,
    "start_time": "2025-03-30T03:27:48.020Z"
   },
   {
    "duration": 9,
    "start_time": "2025-03-30T03:27:48.032Z"
   },
   {
    "duration": 30,
    "start_time": "2025-03-30T03:27:48.042Z"
   },
   {
    "duration": 3,
    "start_time": "2025-03-30T03:27:48.073Z"
   },
   {
    "duration": 8,
    "start_time": "2025-03-30T03:27:48.078Z"
   },
   {
    "duration": 10,
    "start_time": "2025-03-30T03:27:48.087Z"
   },
   {
    "duration": 5,
    "start_time": "2025-03-30T03:27:48.098Z"
   },
   {
    "duration": 29,
    "start_time": "2025-03-30T03:27:48.104Z"
   },
   {
    "duration": 52,
    "start_time": "2025-03-30T03:27:48.135Z"
   },
   {
    "duration": 9,
    "start_time": "2025-03-30T03:27:48.189Z"
   },
   {
    "duration": 4,
    "start_time": "2025-03-30T03:27:48.199Z"
   },
   {
    "duration": 8,
    "start_time": "2025-03-30T03:27:48.204Z"
   },
   {
    "duration": 1060,
    "start_time": "2025-03-30T03:27:48.213Z"
   },
   {
    "duration": 808,
    "start_time": "2025-03-30T03:27:49.274Z"
   },
   {
    "duration": 627,
    "start_time": "2025-03-30T03:27:50.084Z"
   },
   {
    "duration": 1495,
    "start_time": "2025-03-30T03:27:50.712Z"
   },
   {
    "duration": 6,
    "start_time": "2025-03-30T03:28:23.944Z"
   },
   {
    "duration": 51,
    "start_time": "2025-03-31T06:51:22.088Z"
   },
   {
    "duration": 1507,
    "start_time": "2025-03-31T06:51:30.131Z"
   },
   {
    "duration": 7529,
    "start_time": "2025-03-31T06:51:59.502Z"
   },
   {
    "duration": 865,
    "start_time": "2025-03-31T06:52:15.902Z"
   },
   {
    "duration": 57,
    "start_time": "2025-03-31T06:52:21.342Z"
   },
   {
    "duration": 5288,
    "start_time": "2025-03-31T06:52:27.844Z"
   },
   {
    "duration": 2090,
    "start_time": "2025-03-31T06:52:33.134Z"
   },
   {
    "duration": 68,
    "start_time": "2025-03-31T06:52:35.226Z"
   },
   {
    "duration": 19,
    "start_time": "2025-03-31T06:52:35.296Z"
   },
   {
    "duration": 27,
    "start_time": "2025-03-31T06:52:35.318Z"
   },
   {
    "duration": 36,
    "start_time": "2025-03-31T06:52:35.347Z"
   },
   {
    "duration": 17,
    "start_time": "2025-03-31T06:52:35.386Z"
   },
   {
    "duration": 13,
    "start_time": "2025-03-31T06:52:35.405Z"
   },
   {
    "duration": 30,
    "start_time": "2025-03-31T06:52:35.420Z"
   },
   {
    "duration": 23,
    "start_time": "2025-03-31T06:52:35.452Z"
   },
   {
    "duration": 11,
    "start_time": "2025-03-31T06:52:35.477Z"
   },
   {
    "duration": 8,
    "start_time": "2025-03-31T06:52:35.490Z"
   },
   {
    "duration": 7,
    "start_time": "2025-03-31T06:52:35.499Z"
   },
   {
    "duration": 63,
    "start_time": "2025-03-31T06:52:35.509Z"
   },
   {
    "duration": 35,
    "start_time": "2025-03-31T06:52:35.574Z"
   },
   {
    "duration": 11,
    "start_time": "2025-03-31T06:52:35.610Z"
   },
   {
    "duration": 35,
    "start_time": "2025-03-31T06:52:35.623Z"
   },
   {
    "duration": 29,
    "start_time": "2025-03-31T06:52:35.660Z"
   },
   {
    "duration": 784,
    "start_time": "2025-03-31T06:52:35.691Z"
   },
   {
    "duration": 496,
    "start_time": "2025-03-31T06:52:36.476Z"
   },
   {
    "duration": 599,
    "start_time": "2025-03-31T06:52:36.974Z"
   },
   {
    "duration": 957,
    "start_time": "2025-03-31T06:52:37.575Z"
   },
   {
    "duration": 377,
    "start_time": "2025-03-31T06:52:38.534Z"
   },
   {
    "duration": 59,
    "start_time": "2025-03-31T06:53:28.057Z"
   },
   {
    "duration": 161,
    "start_time": "2025-03-31T06:53:28.263Z"
   },
   {
    "duration": 23,
    "start_time": "2025-03-31T06:53:38.731Z"
   },
   {
    "duration": 364,
    "start_time": "2025-03-31T06:53:45.650Z"
   },
   {
    "duration": 3,
    "start_time": "2025-03-31T06:54:19.064Z"
   },
   {
    "duration": 15,
    "start_time": "2025-03-31T06:54:49.226Z"
   },
   {
    "duration": 23,
    "start_time": "2025-03-31T06:54:58.913Z"
   },
   {
    "duration": 0,
    "start_time": "2025-03-31T06:58:13.974Z"
   },
   {
    "duration": 22,
    "start_time": "2025-03-31T06:58:52.144Z"
   },
   {
    "duration": 77642,
    "start_time": "2025-03-31T06:59:39.445Z"
   },
   {
    "duration": 13,
    "start_time": "2025-03-31T07:03:42.881Z"
   },
   {
    "duration": 5,
    "start_time": "2025-03-31T07:06:26.399Z"
   },
   {
    "duration": 9,
    "start_time": "2025-03-31T07:06:27.112Z"
   },
   {
    "duration": 21,
    "start_time": "2025-03-31T07:11:58.747Z"
   },
   {
    "duration": 4,
    "start_time": "2025-03-31T07:12:21.320Z"
   },
   {
    "duration": 1321,
    "start_time": "2025-03-31T07:12:25.686Z"
   },
   {
    "duration": 5,
    "start_time": "2025-03-31T07:17:05.536Z"
   },
   {
    "duration": 26,
    "start_time": "2025-03-31T07:17:09.266Z"
   },
   {
    "duration": 22,
    "start_time": "2025-03-31T07:18:03.156Z"
   },
   {
    "duration": 153,
    "start_time": "2025-03-31T07:18:11.677Z"
   },
   {
    "duration": 2397,
    "start_time": "2025-03-31T07:19:12.378Z"
   },
   {
    "duration": 21,
    "start_time": "2025-03-31T07:19:41.406Z"
   },
   {
    "duration": 6,
    "start_time": "2025-03-31T07:19:49.374Z"
   },
   {
    "duration": 14,
    "start_time": "2025-03-31T07:19:55.026Z"
   },
   {
    "duration": 4,
    "start_time": "2025-03-31T07:20:07.348Z"
   },
   {
    "duration": 8,
    "start_time": "2025-03-31T07:20:08.332Z"
   },
   {
    "duration": 2273,
    "start_time": "2025-03-31T07:20:08.800Z"
   },
   {
    "duration": 2614,
    "start_time": "2025-03-31T07:20:20.578Z"
   },
   {
    "duration": 2630,
    "start_time": "2025-03-31T07:20:35.754Z"
   },
   {
    "duration": 1256,
    "start_time": "2025-03-31T07:21:42.178Z"
   },
   {
    "duration": 1588,
    "start_time": "2025-03-31T07:25:04.214Z"
   },
   {
    "duration": 1596,
    "start_time": "2025-03-31T07:25:10.107Z"
   },
   {
    "duration": 4,
    "start_time": "2025-03-31T07:40:26.754Z"
   },
   {
    "duration": 1568,
    "start_time": "2025-03-31T07:41:31.108Z"
   },
   {
    "duration": 13,
    "start_time": "2025-03-31T07:42:46.000Z"
   },
   {
    "duration": 4,
    "start_time": "2025-03-31T07:42:59.587Z"
   },
   {
    "duration": 1535,
    "start_time": "2025-03-31T07:43:02.364Z"
   },
   {
    "duration": 4,
    "start_time": "2025-03-31T07:43:22.303Z"
   },
   {
    "duration": 4,
    "start_time": "2025-03-31T07:43:23.269Z"
   },
   {
    "duration": 7,
    "start_time": "2025-03-31T07:43:23.478Z"
   },
   {
    "duration": 1543,
    "start_time": "2025-03-31T07:43:23.826Z"
   },
   {
    "duration": 4,
    "start_time": "2025-03-31T07:44:30.949Z"
   },
   {
    "duration": 4,
    "start_time": "2025-03-31T07:45:16.527Z"
   },
   {
    "duration": 16,
    "start_time": "2025-03-31T07:45:23.253Z"
   },
   {
    "duration": 4,
    "start_time": "2025-03-31T07:45:41.119Z"
   },
   {
    "duration": 9,
    "start_time": "2025-03-31T07:46:06.860Z"
   },
   {
    "duration": 13,
    "start_time": "2025-03-31T07:46:44.397Z"
   },
   {
    "duration": 13,
    "start_time": "2025-03-31T07:47:05.911Z"
   },
   {
    "duration": 13,
    "start_time": "2025-03-31T07:47:10.172Z"
   },
   {
    "duration": 8,
    "start_time": "2025-03-31T07:47:14.708Z"
   },
   {
    "duration": 16,
    "start_time": "2025-03-31T07:47:25.177Z"
   },
   {
    "duration": 8,
    "start_time": "2025-03-31T07:47:31.180Z"
   },
   {
    "duration": 1740,
    "start_time": "2025-03-31T07:47:31.450Z"
   },
   {
    "duration": 8,
    "start_time": "2025-03-31T07:48:05.837Z"
   },
   {
    "duration": 5,
    "start_time": "2025-03-31T07:48:16.226Z"
   },
   {
    "duration": 7,
    "start_time": "2025-03-31T07:48:16.747Z"
   },
   {
    "duration": 1626,
    "start_time": "2025-03-31T07:48:17.213Z"
   },
   {
    "duration": 1594,
    "start_time": "2025-03-31T07:50:21.230Z"
   },
   {
    "duration": 6557,
    "start_time": "2025-03-31T07:52:31.179Z"
   },
   {
    "duration": 6459,
    "start_time": "2025-03-31T07:54:38.116Z"
   },
   {
    "duration": 6208,
    "start_time": "2025-03-31T07:54:52.633Z"
   },
   {
    "duration": 6097,
    "start_time": "2025-03-31T07:55:14.974Z"
   },
   {
    "duration": 8284,
    "start_time": "2025-03-31T07:57:52.242Z"
   },
   {
    "duration": 15,
    "start_time": "2025-03-31T08:03:38.697Z"
   },
   {
    "duration": 5,
    "start_time": "2025-03-31T08:03:46.143Z"
   },
   {
    "duration": 16,
    "start_time": "2025-03-31T08:03:51.935Z"
   },
   {
    "duration": 10,
    "start_time": "2025-03-31T08:04:32.880Z"
   },
   {
    "duration": 760,
    "start_time": "2025-03-31T08:05:09.719Z"
   },
   {
    "duration": 758,
    "start_time": "2025-03-31T08:05:17.633Z"
   },
   {
    "duration": 562,
    "start_time": "2025-03-31T08:06:14.859Z"
   },
   {
    "duration": 550,
    "start_time": "2025-03-31T08:06:45.872Z"
   },
   {
    "duration": 543,
    "start_time": "2025-03-31T08:07:38.808Z"
   },
   {
    "duration": 19,
    "start_time": "2025-03-31T08:08:45.537Z"
   },
   {
    "duration": 27,
    "start_time": "2025-03-31T08:08:52.454Z"
   },
   {
    "duration": 964,
    "start_time": "2025-03-31T08:12:56.533Z"
   },
   {
    "duration": 995,
    "start_time": "2025-03-31T08:12:57.555Z"
   },
   {
    "duration": 717,
    "start_time": "2025-03-31T08:13:40.336Z"
   },
   {
    "duration": 553,
    "start_time": "2025-03-31T08:14:00.915Z"
   },
   {
    "duration": 542,
    "start_time": "2025-03-31T08:14:21.484Z"
   },
   {
    "duration": 1043,
    "start_time": "2025-03-31T08:14:38.496Z"
   },
   {
    "duration": 11,
    "start_time": "2025-03-31T08:29:18.958Z"
   },
   {
    "duration": 6,
    "start_time": "2025-03-31T08:29:27.823Z"
   },
   {
    "duration": 9,
    "start_time": "2025-03-31T08:32:41.507Z"
   },
   {
    "duration": 8146,
    "start_time": "2025-03-31T08:32:56.879Z"
   },
   {
    "duration": 6239,
    "start_time": "2025-03-31T08:33:32.793Z"
   },
   {
    "duration": 6206,
    "start_time": "2025-03-31T08:33:52.136Z"
   },
   {
    "duration": 10,
    "start_time": "2025-03-31T08:34:44.070Z"
   },
   {
    "duration": 6916,
    "start_time": "2025-03-31T08:38:41.174Z"
   },
   {
    "duration": 10,
    "start_time": "2025-03-31T08:38:54.475Z"
   },
   {
    "duration": 16,
    "start_time": "2025-03-31T08:39:31.728Z"
   },
   {
    "duration": 303,
    "start_time": "2025-03-31T08:40:14.437Z"
   },
   {
    "duration": 6909,
    "start_time": "2025-03-31T08:40:31.007Z"
   },
   {
    "duration": 4511,
    "start_time": "2025-03-31T08:42:32.272Z"
   },
   {
    "duration": 10,
    "start_time": "2025-03-31T08:45:40.708Z"
   },
   {
    "duration": 3,
    "start_time": "2025-03-31T16:11:08.744Z"
   },
   {
    "duration": 1901,
    "start_time": "2025-03-31T16:11:08.761Z"
   },
   {
    "duration": 67,
    "start_time": "2025-03-31T16:11:10.664Z"
   },
   {
    "duration": 21,
    "start_time": "2025-03-31T16:11:10.732Z"
   },
   {
    "duration": 12,
    "start_time": "2025-03-31T16:11:10.754Z"
   },
   {
    "duration": 17,
    "start_time": "2025-03-31T16:11:10.768Z"
   },
   {
    "duration": 19,
    "start_time": "2025-03-31T16:11:10.786Z"
   },
   {
    "duration": 10,
    "start_time": "2025-03-31T16:11:10.807Z"
   },
   {
    "duration": 40,
    "start_time": "2025-03-31T16:11:10.819Z"
   },
   {
    "duration": 4,
    "start_time": "2025-03-31T16:11:10.860Z"
   },
   {
    "duration": 15,
    "start_time": "2025-03-31T16:11:10.866Z"
   },
   {
    "duration": 6,
    "start_time": "2025-03-31T16:11:10.883Z"
   },
   {
    "duration": 5,
    "start_time": "2025-03-31T16:11:10.891Z"
   },
   {
    "duration": 68,
    "start_time": "2025-03-31T16:11:10.899Z"
   },
   {
    "duration": 28,
    "start_time": "2025-03-31T16:11:10.971Z"
   },
   {
    "duration": 9,
    "start_time": "2025-03-31T16:11:11.001Z"
   },
   {
    "duration": 18,
    "start_time": "2025-03-31T16:11:11.012Z"
   },
   {
    "duration": 26,
    "start_time": "2025-03-31T16:11:11.032Z"
   },
   {
    "duration": 9,
    "start_time": "2025-03-31T16:11:11.060Z"
   },
   {
    "duration": 78,
    "start_time": "2025-03-31T16:11:11.070Z"
   },
   {
    "duration": 729,
    "start_time": "2025-03-31T16:11:11.150Z"
   },
   {
    "duration": 665,
    "start_time": "2025-03-31T16:11:11.880Z"
   },
   {
    "duration": 609,
    "start_time": "2025-03-31T16:11:12.546Z"
   },
   {
    "duration": 502,
    "start_time": "2025-03-31T16:11:13.158Z"
   },
   {
    "duration": 503,
    "start_time": "2025-03-31T16:11:13.662Z"
   },
   {
    "duration": 499,
    "start_time": "2025-03-31T16:11:14.166Z"
   },
   {
    "duration": 978,
    "start_time": "2025-03-31T16:11:14.667Z"
   },
   {
    "duration": 1069,
    "start_time": "2025-03-31T16:11:15.647Z"
   },
   {
    "duration": 400,
    "start_time": "2025-03-31T16:11:16.718Z"
   },
   {
    "duration": 389,
    "start_time": "2025-03-31T16:11:17.119Z"
   },
   {
    "duration": 76924,
    "start_time": "2025-03-31T16:11:17.509Z"
   },
   {
    "duration": 3,
    "start_time": "2025-03-31T16:12:34.434Z"
   },
   {
    "duration": 30,
    "start_time": "2025-03-31T16:12:34.438Z"
   },
   {
    "duration": 10,
    "start_time": "2025-03-31T16:12:34.469Z"
   },
   {
    "duration": 79,
    "start_time": "2025-03-31T16:12:34.480Z"
   },
   {
    "duration": 0,
    "start_time": "2025-03-31T16:12:34.561Z"
   },
   {
    "duration": 0,
    "start_time": "2025-03-31T16:12:34.563Z"
   },
   {
    "duration": 5188,
    "start_time": "2025-03-31T16:15:27.425Z"
   },
   {
    "duration": 5,
    "start_time": "2025-03-31T16:15:32.615Z"
   },
   {
    "duration": 343,
    "start_time": "2025-03-31T16:15:32.621Z"
   },
   {
    "duration": 175,
    "start_time": "2025-03-31T16:17:15.956Z"
   },
   {
    "duration": 286624,
    "start_time": "2025-03-31T16:23:22.722Z"
   },
   {
    "duration": 6,
    "start_time": "2025-03-31T16:28:33.894Z"
   },
   {
    "duration": 159,
    "start_time": "2025-03-31T16:28:40.768Z"
   },
   {
    "duration": 149,
    "start_time": "2025-03-31T16:35:17.929Z"
   },
   {
    "duration": 4,
    "start_time": "2025-03-31T16:35:46.498Z"
   },
   {
    "duration": 5484,
    "start_time": "2025-03-31T16:35:53.050Z"
   },
   {
    "duration": 15297,
    "start_time": "2025-03-31T16:39:04.960Z"
   },
   {
    "duration": 15301,
    "start_time": "2025-03-31T16:40:03.367Z"
   },
   {
    "duration": 5,
    "start_time": "2025-03-31T16:43:31.086Z"
   },
   {
    "duration": 15587,
    "start_time": "2025-03-31T16:43:36.500Z"
   },
   {
    "duration": 31976,
    "start_time": "2025-03-31T16:45:15.120Z"
   },
   {
    "duration": 39067,
    "start_time": "2025-03-31T16:46:18.218Z"
   },
   {
    "duration": 50649,
    "start_time": "2025-03-31T16:47:59.136Z"
   },
   {
    "duration": 71,
    "start_time": "2025-03-31T16:48:49.787Z"
   },
   {
    "duration": 71,
    "start_time": "2025-03-31T16:49:17.433Z"
   },
   {
    "duration": 57584,
    "start_time": "2025-03-31T16:49:23.083Z"
   },
   {
    "duration": 10,
    "start_time": "2025-03-31T16:52:59.303Z"
   },
   {
    "duration": 11,
    "start_time": "2025-03-31T16:53:05.084Z"
   },
   {
    "duration": 5,
    "start_time": "2025-03-31T16:54:40.428Z"
   },
   {
    "duration": 11,
    "start_time": "2025-03-31T16:55:51.786Z"
   },
   {
    "duration": 6,
    "start_time": "2025-03-31T16:55:56.046Z"
   },
   {
    "duration": 59641,
    "start_time": "2025-03-31T16:55:56.630Z"
   },
   {
    "duration": 16,
    "start_time": "2025-03-31T16:59:54.058Z"
   },
   {
    "duration": 6,
    "start_time": "2025-03-31T17:00:06.870Z"
   },
   {
    "duration": 4391,
    "start_time": "2025-03-31T17:00:07.191Z"
   },
   {
    "duration": 9450,
    "start_time": "2025-03-31T17:00:32.673Z"
   },
   {
    "duration": 8,
    "start_time": "2025-03-31T17:03:25.984Z"
   },
   {
    "duration": 155,
    "start_time": "2025-03-31T17:03:32.102Z"
   },
   {
    "duration": 7,
    "start_time": "2025-03-31T17:04:30.604Z"
   },
   {
    "duration": 8439,
    "start_time": "2025-03-31T17:04:31.147Z"
   },
   {
    "duration": 61,
    "start_time": "2025-04-01T01:04:47.400Z"
   },
   {
    "duration": 16,
    "start_time": "2025-04-01T01:04:53.759Z"
   },
   {
    "duration": 13,
    "start_time": "2025-04-01T01:05:02.744Z"
   },
   {
    "duration": 14,
    "start_time": "2025-04-01T01:05:56.783Z"
   },
   {
    "duration": 12,
    "start_time": "2025-04-01T01:06:02.471Z"
   },
   {
    "duration": 9,
    "start_time": "2025-04-01T01:06:09.039Z"
   },
   {
    "duration": 9,
    "start_time": "2025-04-01T01:06:16.391Z"
   },
   {
    "duration": 17,
    "start_time": "2025-04-01T01:29:51.009Z"
   },
   {
    "duration": 10,
    "start_time": "2025-04-01T01:30:29.630Z"
   },
   {
    "duration": 13,
    "start_time": "2025-04-01T01:31:04.919Z"
   },
   {
    "duration": 6,
    "start_time": "2025-04-01T01:31:14.385Z"
   },
   {
    "duration": 20,
    "start_time": "2025-04-01T01:31:52.447Z"
   },
   {
    "duration": 15,
    "start_time": "2025-04-01T01:32:01.969Z"
   },
   {
    "duration": 8,
    "start_time": "2025-04-01T01:33:36.039Z"
   },
   {
    "duration": 18,
    "start_time": "2025-04-01T01:33:41.446Z"
   },
   {
    "duration": 5,
    "start_time": "2025-04-01T01:36:40.145Z"
   },
   {
    "duration": 4,
    "start_time": "2025-04-01T01:36:49.837Z"
   },
   {
    "duration": 1023,
    "start_time": "2025-04-01T01:36:57.254Z"
   },
   {
    "duration": 1047,
    "start_time": "2025-04-01T01:37:19.182Z"
   },
   {
    "duration": 5,
    "start_time": "2025-04-01T01:38:09.070Z"
   },
   {
    "duration": 1038,
    "start_time": "2025-04-01T01:38:14.563Z"
   },
   {
    "duration": 5,
    "start_time": "2025-04-01T01:38:25.483Z"
   },
   {
    "duration": 1847,
    "start_time": "2025-04-01T01:38:31.523Z"
   },
   {
    "duration": 4,
    "start_time": "2025-04-01T01:40:13.154Z"
   },
   {
    "duration": 679,
    "start_time": "2025-04-01T01:40:16.378Z"
   },
   {
    "duration": 717,
    "start_time": "2025-04-01T01:40:41.840Z"
   },
   {
    "duration": 4,
    "start_time": "2025-04-01T01:42:28.641Z"
   },
   {
    "duration": 495,
    "start_time": "2025-04-01T01:43:21.842Z"
   },
   {
    "duration": 618,
    "start_time": "2025-04-01T01:43:38.724Z"
   },
   {
    "duration": 3,
    "start_time": "2025-04-01T01:49:06.263Z"
   },
   {
    "duration": 466,
    "start_time": "2025-04-01T01:49:22.614Z"
   },
   {
    "duration": 496,
    "start_time": "2025-04-01T01:49:30.065Z"
   },
   {
    "duration": 5,
    "start_time": "2025-04-01T01:50:45.134Z"
   },
   {
    "duration": 892,
    "start_time": "2025-04-01T01:51:08.349Z"
   },
   {
    "duration": 73,
    "start_time": "2025-04-01T01:51:19.327Z"
   },
   {
    "duration": 1053,
    "start_time": "2025-04-01T01:51:22.214Z"
   },
   {
    "duration": 13,
    "start_time": "2025-04-01T01:52:12.935Z"
   },
   {
    "duration": 12,
    "start_time": "2025-04-01T01:52:18.956Z"
   },
   {
    "duration": 8,
    "start_time": "2025-04-01T01:52:43.606Z"
   },
   {
    "duration": 10,
    "start_time": "2025-04-01T01:52:46.905Z"
   },
   {
    "duration": 10,
    "start_time": "2025-04-01T01:53:31.070Z"
   },
   {
    "duration": 9,
    "start_time": "2025-04-01T01:53:40.365Z"
   },
   {
    "duration": 7,
    "start_time": "2025-04-01T01:54:12.484Z"
   },
   {
    "duration": 7,
    "start_time": "2025-04-01T01:54:15.284Z"
   },
   {
    "duration": 5,
    "start_time": "2025-04-01T01:54:42.975Z"
   },
   {
    "duration": 7,
    "start_time": "2025-04-01T01:54:46.469Z"
   },
   {
    "duration": 6,
    "start_time": "2025-04-01T01:55:40.587Z"
   },
   {
    "duration": 9,
    "start_time": "2025-04-01T01:56:05.907Z"
   },
   {
    "duration": 8,
    "start_time": "2025-04-01T01:56:10.331Z"
   },
   {
    "duration": 7,
    "start_time": "2025-04-01T01:56:10.483Z"
   },
   {
    "duration": 37,
    "start_time": "2025-04-01T01:57:32.339Z"
   },
   {
    "duration": 30,
    "start_time": "2025-04-01T01:57:32.547Z"
   },
   {
    "duration": 8,
    "start_time": "2025-04-01T01:57:50.947Z"
   },
   {
    "duration": 10,
    "start_time": "2025-04-01T02:08:29.625Z"
   },
   {
    "duration": 11,
    "start_time": "2025-04-01T02:08:36.653Z"
   },
   {
    "duration": 11,
    "start_time": "2025-04-01T02:08:51.134Z"
   },
   {
    "duration": 194,
    "start_time": "2025-04-01T02:09:51.102Z"
   },
   {
    "duration": 10,
    "start_time": "2025-04-01T02:11:54.975Z"
   },
   {
    "duration": 4,
    "start_time": "2025-04-01T02:11:59.125Z"
   },
   {
    "duration": 6,
    "start_time": "2025-04-01T02:11:59.319Z"
   },
   {
    "duration": 4,
    "start_time": "2025-04-01T02:11:59.521Z"
   },
   {
    "duration": 7,
    "start_time": "2025-04-01T02:12:00.070Z"
   },
   {
    "duration": 691,
    "start_time": "2025-04-01T02:12:02.965Z"
   },
   {
    "duration": 667,
    "start_time": "2025-04-01T02:12:07.702Z"
   },
   {
    "duration": 11,
    "start_time": "2025-04-01T02:12:13.381Z"
   },
   {
    "duration": 11,
    "start_time": "2025-04-01T02:12:30.103Z"
   },
   {
    "duration": 5,
    "start_time": "2025-04-01T02:12:43.773Z"
   },
   {
    "duration": 5,
    "start_time": "2025-04-01T02:12:45.652Z"
   },
   {
    "duration": 4,
    "start_time": "2025-04-01T02:12:46.036Z"
   },
   {
    "duration": 7,
    "start_time": "2025-04-01T02:12:46.279Z"
   },
   {
    "duration": 467,
    "start_time": "2025-04-01T02:12:50.908Z"
   },
   {
    "duration": 630,
    "start_time": "2025-04-01T02:12:51.684Z"
   },
   {
    "duration": 913,
    "start_time": "2025-04-01T02:13:03.613Z"
   },
   {
    "duration": 881,
    "start_time": "2025-04-01T02:13:08.485Z"
   },
   {
    "duration": 191,
    "start_time": "2025-04-01T02:13:20.909Z"
   },
   {
    "duration": 11,
    "start_time": "2025-04-01T02:14:44.484Z"
   },
   {
    "duration": 690,
    "start_time": "2025-04-01T02:15:06.173Z"
   },
   {
    "duration": 473,
    "start_time": "2025-04-01T02:15:15.981Z"
   },
   {
    "duration": 26,
    "start_time": "2025-04-01T02:16:05.796Z"
   },
   {
    "duration": 4,
    "start_time": "2025-04-01T02:16:30.404Z"
   },
   {
    "duration": 428,
    "start_time": "2025-04-01T02:16:34.920Z"
   },
   {
    "duration": 443,
    "start_time": "2025-04-01T02:16:53.947Z"
   },
   {
    "duration": 195,
    "start_time": "2025-04-01T02:17:14.563Z"
   },
   {
    "duration": 482,
    "start_time": "2025-04-01T02:17:31.795Z"
   },
   {
    "duration": 641,
    "start_time": "2025-04-01T02:17:44.139Z"
   },
   {
    "duration": 425,
    "start_time": "2025-04-01T02:17:49.786Z"
   },
   {
    "duration": 940,
    "start_time": "2025-04-01T02:20:53.424Z"
   },
   {
    "duration": 1155,
    "start_time": "2025-04-01T02:21:05.105Z"
   },
   {
    "duration": 375,
    "start_time": "2025-04-01T02:23:37.224Z"
   },
   {
    "duration": 345,
    "start_time": "2025-04-01T02:23:38.368Z"
   },
   {
    "duration": 348,
    "start_time": "2025-04-01T02:44:45.319Z"
   },
   {
    "duration": 287,
    "start_time": "2025-04-01T02:44:49.892Z"
   },
   {
    "duration": 257,
    "start_time": "2025-04-01T02:45:35.150Z"
   },
   {
    "duration": 1067,
    "start_time": "2025-04-01T02:45:55.943Z"
   },
   {
    "duration": 1225,
    "start_time": "2025-04-01T02:46:58.614Z"
   },
   {
    "duration": 17,
    "start_time": "2025-04-01T06:25:37.369Z"
   },
   {
    "duration": 17,
    "start_time": "2025-04-01T06:25:40.968Z"
   },
   {
    "duration": 18,
    "start_time": "2025-04-01T06:26:18.719Z"
   },
   {
    "duration": 15,
    "start_time": "2025-04-01T06:26:28.104Z"
   },
   {
    "duration": 4,
    "start_time": "2025-04-01T06:26:47.810Z"
   },
   {
    "duration": 1802,
    "start_time": "2025-04-01T06:26:47.815Z"
   },
   {
    "duration": 77,
    "start_time": "2025-04-01T06:26:49.619Z"
   },
   {
    "duration": 19,
    "start_time": "2025-04-01T06:26:49.697Z"
   },
   {
    "duration": 11,
    "start_time": "2025-04-01T06:26:49.718Z"
   },
   {
    "duration": 13,
    "start_time": "2025-04-01T06:26:49.731Z"
   },
   {
    "duration": 10,
    "start_time": "2025-04-01T06:26:49.746Z"
   },
   {
    "duration": 8,
    "start_time": "2025-04-01T06:26:49.758Z"
   },
   {
    "duration": 10,
    "start_time": "2025-04-01T06:26:49.767Z"
   },
   {
    "duration": 4,
    "start_time": "2025-04-01T06:26:49.778Z"
   },
   {
    "duration": 7,
    "start_time": "2025-04-01T06:26:49.784Z"
   },
   {
    "duration": 6,
    "start_time": "2025-04-01T06:26:49.793Z"
   },
   {
    "duration": 5,
    "start_time": "2025-04-01T06:26:49.800Z"
   },
   {
    "duration": 69,
    "start_time": "2025-04-01T06:26:49.809Z"
   },
   {
    "duration": 29,
    "start_time": "2025-04-01T06:26:49.879Z"
   },
   {
    "duration": 10,
    "start_time": "2025-04-01T06:26:49.910Z"
   },
   {
    "duration": 4,
    "start_time": "2025-04-01T06:26:49.922Z"
   },
   {
    "duration": 33,
    "start_time": "2025-04-01T06:26:49.928Z"
   },
   {
    "duration": 18,
    "start_time": "2025-04-01T06:26:49.963Z"
   },
   {
    "duration": 3,
    "start_time": "2025-04-01T06:26:49.983Z"
   },
   {
    "duration": 6,
    "start_time": "2025-04-01T06:26:49.988Z"
   },
   {
    "duration": 5,
    "start_time": "2025-04-01T06:26:49.995Z"
   },
   {
    "duration": 8,
    "start_time": "2025-04-01T06:26:50.002Z"
   },
   {
    "duration": 9,
    "start_time": "2025-04-01T06:26:50.012Z"
   },
   {
    "duration": 733,
    "start_time": "2025-04-01T06:26:50.022Z"
   },
   {
    "duration": 692,
    "start_time": "2025-04-01T06:26:50.757Z"
   },
   {
    "duration": 622,
    "start_time": "2025-04-01T06:26:51.450Z"
   },
   {
    "duration": 471,
    "start_time": "2025-04-01T06:26:52.074Z"
   },
   {
    "duration": 499,
    "start_time": "2025-04-01T06:26:52.546Z"
   },
   {
    "duration": 499,
    "start_time": "2025-04-01T06:26:53.047Z"
   },
   {
    "duration": 892,
    "start_time": "2025-04-01T06:26:53.548Z"
   },
   {
    "duration": 1043,
    "start_time": "2025-04-01T06:26:54.442Z"
   },
   {
    "duration": 327,
    "start_time": "2025-04-01T06:26:55.487Z"
   },
   {
    "duration": 371,
    "start_time": "2025-04-01T06:26:55.816Z"
   },
   {
    "duration": 1194,
    "start_time": "2025-04-01T06:26:56.188Z"
   },
   {
    "duration": 7,
    "start_time": "2025-04-01T06:26:57.384Z"
   },
   {
    "duration": 4,
    "start_time": "2025-04-01T06:26:57.393Z"
   },
   {
    "duration": 4,
    "start_time": "2025-04-01T06:26:57.398Z"
   },
   {
    "duration": 12,
    "start_time": "2025-04-01T06:26:57.404Z"
   },
   {
    "duration": 9,
    "start_time": "2025-04-01T06:26:57.418Z"
   },
   {
    "duration": 8446,
    "start_time": "2025-04-01T06:26:57.433Z"
   },
   {
    "duration": 62,
    "start_time": "2025-04-01T06:27:05.881Z"
   },
   {
    "duration": 16,
    "start_time": "2025-04-01T06:27:05.944Z"
   },
   {
    "duration": 19,
    "start_time": "2025-04-01T06:27:05.962Z"
   },
   {
    "duration": 14,
    "start_time": "2025-04-01T06:27:05.983Z"
   },
   {
    "duration": 15,
    "start_time": "2025-04-01T06:27:05.999Z"
   },
   {
    "duration": 34,
    "start_time": "2025-04-01T06:27:06.015Z"
   },
   {
    "duration": 21,
    "start_time": "2025-04-01T06:27:06.051Z"
   },
   {
    "duration": 8,
    "start_time": "2025-04-01T06:27:06.074Z"
   },
   {
    "duration": 17,
    "start_time": "2025-04-01T06:27:06.084Z"
   },
   {
    "duration": 6,
    "start_time": "2025-04-01T06:27:06.103Z"
   },
   {
    "duration": 5,
    "start_time": "2025-04-01T06:27:06.111Z"
   },
   {
    "duration": 18,
    "start_time": "2025-04-01T06:27:06.118Z"
   },
   {
    "duration": 46,
    "start_time": "2025-04-01T06:27:06.137Z"
   },
   {
    "duration": 32,
    "start_time": "2025-04-01T06:27:06.184Z"
   },
   {
    "duration": 22,
    "start_time": "2025-04-01T06:27:06.217Z"
   },
   {
    "duration": 660,
    "start_time": "2025-04-01T06:27:06.240Z"
   },
   {
    "duration": 499,
    "start_time": "2025-04-01T06:27:06.902Z"
   },
   {
    "duration": 482,
    "start_time": "2025-04-01T06:27:07.403Z"
   },
   {
    "duration": 473,
    "start_time": "2025-04-01T06:27:07.886Z"
   },
   {
    "duration": 435,
    "start_time": "2025-04-01T06:27:08.360Z"
   },
   {
    "duration": 407,
    "start_time": "2025-04-01T06:27:08.797Z"
   },
   {
    "duration": 1044,
    "start_time": "2025-04-01T06:27:09.206Z"
   },
   {
    "duration": 967,
    "start_time": "2025-04-01T06:27:10.252Z"
   },
   {
    "duration": 339,
    "start_time": "2025-04-01T06:27:11.221Z"
   },
   {
    "duration": 325,
    "start_time": "2025-04-01T06:27:11.562Z"
   },
   {
    "duration": 1106,
    "start_time": "2025-04-01T06:27:11.888Z"
   },
   {
    "duration": 16,
    "start_time": "2025-04-01T06:27:12.996Z"
   },
   {
    "duration": 190,
    "start_time": "2025-04-01T06:27:13.013Z"
   },
   {
    "duration": 0,
    "start_time": "2025-04-01T06:27:13.205Z"
   },
   {
    "duration": 8,
    "start_time": "2025-04-01T06:28:01.350Z"
   },
   {
    "duration": 8,
    "start_time": "2025-04-01T06:28:01.523Z"
   },
   {
    "duration": 17,
    "start_time": "2025-04-01T06:28:35.421Z"
   },
   {
    "duration": 34,
    "start_time": "2025-04-01T06:28:35.692Z"
   },
   {
    "duration": 14,
    "start_time": "2025-04-01T06:28:51.012Z"
   },
   {
    "duration": 5,
    "start_time": "2025-04-01T06:29:37.860Z"
   },
   {
    "duration": 17,
    "start_time": "2025-04-01T06:29:44.493Z"
   },
   {
    "duration": 15,
    "start_time": "2025-04-01T06:29:48.040Z"
   },
   {
    "duration": 16,
    "start_time": "2025-04-01T06:30:01.156Z"
   },
   {
    "duration": 14,
    "start_time": "2025-04-01T06:32:25.492Z"
   },
   {
    "duration": 15,
    "start_time": "2025-04-01T06:48:05.385Z"
   },
   {
    "duration": 5,
    "start_time": "2025-04-01T06:51:50.195Z"
   },
   {
    "duration": 32,
    "start_time": "2025-04-01T06:55:21.342Z"
   },
   {
    "duration": 28,
    "start_time": "2025-04-01T06:55:29.062Z"
   },
   {
    "duration": 29,
    "start_time": "2025-04-01T06:55:58.646Z"
   },
   {
    "duration": 17,
    "start_time": "2025-04-01T06:56:14.516Z"
   },
   {
    "duration": 29,
    "start_time": "2025-04-01T06:56:24.057Z"
   },
   {
    "duration": 19,
    "start_time": "2025-04-01T06:57:25.895Z"
   },
   {
    "duration": 8,
    "start_time": "2025-04-01T06:57:35.363Z"
   },
   {
    "duration": 9,
    "start_time": "2025-04-01T06:57:50.090Z"
   },
   {
    "duration": 72,
    "start_time": "2025-04-01T06:58:55.766Z"
   },
   {
    "duration": 84,
    "start_time": "2025-04-01T06:59:10.763Z"
   },
   {
    "duration": 7,
    "start_time": "2025-04-01T07:00:05.031Z"
   },
   {
    "duration": 8,
    "start_time": "2025-04-01T07:00:32.333Z"
   },
   {
    "duration": 6,
    "start_time": "2025-04-01T07:08:03.301Z"
   },
   {
    "duration": 7,
    "start_time": "2025-04-01T07:08:24.677Z"
   },
   {
    "duration": 1181,
    "start_time": "2025-04-01T07:08:49.242Z"
   },
   {
    "duration": 1176,
    "start_time": "2025-04-01T07:10:03.239Z"
   },
   {
    "duration": 3,
    "start_time": "2025-04-01T12:27:45.235Z"
   },
   {
    "duration": 1542,
    "start_time": "2025-04-01T12:27:45.240Z"
   },
   {
    "duration": 0,
    "start_time": "2025-04-01T12:27:46.785Z"
   },
   {
    "duration": 0,
    "start_time": "2025-04-01T12:27:46.787Z"
   },
   {
    "duration": 0,
    "start_time": "2025-04-01T12:27:46.787Z"
   },
   {
    "duration": 0,
    "start_time": "2025-04-01T12:27:46.788Z"
   },
   {
    "duration": 0,
    "start_time": "2025-04-01T12:27:46.789Z"
   },
   {
    "duration": 0,
    "start_time": "2025-04-01T12:27:46.790Z"
   },
   {
    "duration": 0,
    "start_time": "2025-04-01T12:27:46.791Z"
   },
   {
    "duration": 0,
    "start_time": "2025-04-01T12:27:46.792Z"
   },
   {
    "duration": 0,
    "start_time": "2025-04-01T12:27:46.793Z"
   },
   {
    "duration": 0,
    "start_time": "2025-04-01T12:27:46.794Z"
   },
   {
    "duration": 0,
    "start_time": "2025-04-01T12:27:46.795Z"
   },
   {
    "duration": 0,
    "start_time": "2025-04-01T12:27:46.796Z"
   },
   {
    "duration": 0,
    "start_time": "2025-04-01T12:27:46.797Z"
   },
   {
    "duration": 0,
    "start_time": "2025-04-01T12:27:46.798Z"
   },
   {
    "duration": 0,
    "start_time": "2025-04-01T12:27:46.799Z"
   },
   {
    "duration": 0,
    "start_time": "2025-04-01T12:27:46.799Z"
   },
   {
    "duration": 0,
    "start_time": "2025-04-01T12:27:46.801Z"
   },
   {
    "duration": 0,
    "start_time": "2025-04-01T12:27:46.802Z"
   },
   {
    "duration": 0,
    "start_time": "2025-04-01T12:27:46.803Z"
   },
   {
    "duration": 0,
    "start_time": "2025-04-01T12:27:46.804Z"
   },
   {
    "duration": 0,
    "start_time": "2025-04-01T12:27:46.805Z"
   },
   {
    "duration": 0,
    "start_time": "2025-04-01T12:27:46.806Z"
   },
   {
    "duration": 0,
    "start_time": "2025-04-01T12:27:46.807Z"
   },
   {
    "duration": 0,
    "start_time": "2025-04-01T12:27:46.808Z"
   },
   {
    "duration": 0,
    "start_time": "2025-04-01T12:27:46.809Z"
   },
   {
    "duration": 0,
    "start_time": "2025-04-01T12:27:46.810Z"
   },
   {
    "duration": 0,
    "start_time": "2025-04-01T12:27:46.812Z"
   },
   {
    "duration": 0,
    "start_time": "2025-04-01T12:27:46.813Z"
   },
   {
    "duration": 0,
    "start_time": "2025-04-01T12:27:46.814Z"
   },
   {
    "duration": 0,
    "start_time": "2025-04-01T12:27:46.863Z"
   },
   {
    "duration": 0,
    "start_time": "2025-04-01T12:27:46.864Z"
   },
   {
    "duration": 0,
    "start_time": "2025-04-01T12:27:46.865Z"
   },
   {
    "duration": 0,
    "start_time": "2025-04-01T12:27:46.867Z"
   },
   {
    "duration": 0,
    "start_time": "2025-04-01T12:27:46.868Z"
   },
   {
    "duration": 0,
    "start_time": "2025-04-01T12:27:46.869Z"
   },
   {
    "duration": 0,
    "start_time": "2025-04-01T12:27:46.870Z"
   },
   {
    "duration": 0,
    "start_time": "2025-04-01T12:27:46.870Z"
   },
   {
    "duration": 0,
    "start_time": "2025-04-01T12:27:46.872Z"
   },
   {
    "duration": 0,
    "start_time": "2025-04-01T12:27:46.873Z"
   },
   {
    "duration": 0,
    "start_time": "2025-04-01T12:27:46.874Z"
   },
   {
    "duration": 0,
    "start_time": "2025-04-01T12:27:46.875Z"
   },
   {
    "duration": 0,
    "start_time": "2025-04-01T12:27:46.876Z"
   },
   {
    "duration": 0,
    "start_time": "2025-04-01T12:27:46.877Z"
   },
   {
    "duration": 0,
    "start_time": "2025-04-01T12:27:46.877Z"
   },
   {
    "duration": 0,
    "start_time": "2025-04-01T12:27:46.879Z"
   },
   {
    "duration": 0,
    "start_time": "2025-04-01T12:27:46.880Z"
   },
   {
    "duration": 0,
    "start_time": "2025-04-01T12:27:46.881Z"
   },
   {
    "duration": 0,
    "start_time": "2025-04-01T12:27:46.882Z"
   },
   {
    "duration": 0,
    "start_time": "2025-04-01T12:27:46.883Z"
   },
   {
    "duration": 0,
    "start_time": "2025-04-01T12:27:46.884Z"
   },
   {
    "duration": 0,
    "start_time": "2025-04-01T12:27:46.885Z"
   },
   {
    "duration": 0,
    "start_time": "2025-04-01T12:27:46.887Z"
   },
   {
    "duration": 0,
    "start_time": "2025-04-01T12:27:46.888Z"
   },
   {
    "duration": 0,
    "start_time": "2025-04-01T12:27:46.889Z"
   },
   {
    "duration": 0,
    "start_time": "2025-04-01T12:27:46.890Z"
   },
   {
    "duration": 0,
    "start_time": "2025-04-01T12:27:46.891Z"
   },
   {
    "duration": 0,
    "start_time": "2025-04-01T12:27:46.892Z"
   },
   {
    "duration": 0,
    "start_time": "2025-04-01T12:27:46.893Z"
   },
   {
    "duration": 0,
    "start_time": "2025-04-01T12:27:46.894Z"
   },
   {
    "duration": 0,
    "start_time": "2025-04-01T12:27:46.895Z"
   },
   {
    "duration": 0,
    "start_time": "2025-04-01T12:27:46.896Z"
   },
   {
    "duration": 0,
    "start_time": "2025-04-01T12:27:46.897Z"
   },
   {
    "duration": 0,
    "start_time": "2025-04-01T12:27:46.898Z"
   },
   {
    "duration": 0,
    "start_time": "2025-04-01T12:27:46.962Z"
   },
   {
    "duration": 0,
    "start_time": "2025-04-01T12:27:46.964Z"
   },
   {
    "duration": 0,
    "start_time": "2025-04-01T12:27:46.965Z"
   },
   {
    "duration": 0,
    "start_time": "2025-04-01T12:27:46.966Z"
   },
   {
    "duration": 0,
    "start_time": "2025-04-01T12:27:46.967Z"
   },
   {
    "duration": 8170,
    "start_time": "2025-04-01T12:39:25.501Z"
   },
   {
    "duration": 4,
    "start_time": "2025-04-01T12:39:46.559Z"
   },
   {
    "duration": 1970,
    "start_time": "2025-04-01T12:39:46.565Z"
   },
   {
    "duration": 172,
    "start_time": "2025-04-01T12:39:48.536Z"
   },
   {
    "duration": 22,
    "start_time": "2025-04-01T12:39:48.709Z"
   },
   {
    "duration": 13,
    "start_time": "2025-04-01T12:39:48.735Z"
   },
   {
    "duration": 17,
    "start_time": "2025-04-01T12:39:48.750Z"
   },
   {
    "duration": 11,
    "start_time": "2025-04-01T12:39:48.769Z"
   },
   {
    "duration": 9,
    "start_time": "2025-04-01T12:39:48.782Z"
   },
   {
    "duration": 11,
    "start_time": "2025-04-01T12:39:48.792Z"
   },
   {
    "duration": 4,
    "start_time": "2025-04-01T12:39:48.804Z"
   },
   {
    "duration": 18,
    "start_time": "2025-04-01T12:39:48.809Z"
   },
   {
    "duration": 37,
    "start_time": "2025-04-01T12:39:48.829Z"
   },
   {
    "duration": 6,
    "start_time": "2025-04-01T12:39:48.867Z"
   },
   {
    "duration": 35,
    "start_time": "2025-04-01T12:39:48.876Z"
   },
   {
    "duration": 54,
    "start_time": "2025-04-01T12:39:48.913Z"
   },
   {
    "duration": 10,
    "start_time": "2025-04-01T12:39:48.968Z"
   },
   {
    "duration": 11,
    "start_time": "2025-04-01T12:39:48.980Z"
   },
   {
    "duration": 8,
    "start_time": "2025-04-01T12:39:48.992Z"
   },
   {
    "duration": 8,
    "start_time": "2025-04-01T12:39:49.001Z"
   },
   {
    "duration": 4,
    "start_time": "2025-04-01T12:39:49.011Z"
   },
   {
    "duration": 8,
    "start_time": "2025-04-01T12:39:49.016Z"
   },
   {
    "duration": 37,
    "start_time": "2025-04-01T12:39:49.026Z"
   },
   {
    "duration": 9,
    "start_time": "2025-04-01T12:39:49.064Z"
   },
   {
    "duration": 8,
    "start_time": "2025-04-01T12:39:49.075Z"
   },
   {
    "duration": 672,
    "start_time": "2025-04-01T12:39:49.084Z"
   },
   {
    "duration": 706,
    "start_time": "2025-04-01T12:39:49.757Z"
   },
   {
    "duration": 581,
    "start_time": "2025-04-01T12:39:50.465Z"
   },
   {
    "duration": 503,
    "start_time": "2025-04-01T12:39:51.048Z"
   },
   {
    "duration": 511,
    "start_time": "2025-04-01T12:39:51.553Z"
   },
   {
    "duration": 502,
    "start_time": "2025-04-01T12:39:52.066Z"
   },
   {
    "duration": 877,
    "start_time": "2025-04-01T12:39:52.570Z"
   },
   {
    "duration": 981,
    "start_time": "2025-04-01T12:39:53.449Z"
   },
   {
    "duration": 384,
    "start_time": "2025-04-01T12:39:54.432Z"
   },
   {
    "duration": 380,
    "start_time": "2025-04-01T12:39:54.818Z"
   },
   {
    "duration": 1123,
    "start_time": "2025-04-01T12:39:55.200Z"
   },
   {
    "duration": 6,
    "start_time": "2025-04-01T12:39:56.326Z"
   },
   {
    "duration": 20,
    "start_time": "2025-04-01T12:39:56.334Z"
   },
   {
    "duration": 13,
    "start_time": "2025-04-01T12:39:56.356Z"
   },
   {
    "duration": 15,
    "start_time": "2025-04-01T12:39:56.371Z"
   },
   {
    "duration": 8,
    "start_time": "2025-04-01T12:39:56.388Z"
   },
   {
    "duration": 8694,
    "start_time": "2025-04-01T12:39:56.401Z"
   },
   {
    "duration": 121,
    "start_time": "2025-04-01T12:40:05.096Z"
   },
   {
    "duration": 16,
    "start_time": "2025-04-01T12:40:05.219Z"
   },
   {
    "duration": 34,
    "start_time": "2025-04-01T12:40:05.236Z"
   },
   {
    "duration": 71,
    "start_time": "2025-04-01T12:40:05.271Z"
   },
   {
    "duration": 17,
    "start_time": "2025-04-01T12:40:05.344Z"
   },
   {
    "duration": 20,
    "start_time": "2025-04-01T12:40:05.363Z"
   },
   {
    "duration": 48,
    "start_time": "2025-04-01T12:40:05.384Z"
   },
   {
    "duration": 37,
    "start_time": "2025-04-01T12:40:05.434Z"
   },
   {
    "duration": 21,
    "start_time": "2025-04-01T12:40:05.473Z"
   },
   {
    "duration": 49,
    "start_time": "2025-04-01T12:40:05.496Z"
   },
   {
    "duration": 28,
    "start_time": "2025-04-01T12:40:05.547Z"
   },
   {
    "duration": 30,
    "start_time": "2025-04-01T12:40:05.577Z"
   },
   {
    "duration": 9,
    "start_time": "2025-04-01T12:40:05.609Z"
   },
   {
    "duration": 32,
    "start_time": "2025-04-01T12:40:05.620Z"
   },
   {
    "duration": 632,
    "start_time": "2025-04-01T12:40:05.654Z"
   },
   {
    "duration": 482,
    "start_time": "2025-04-01T12:40:06.287Z"
   },
   {
    "duration": 464,
    "start_time": "2025-04-01T12:40:06.771Z"
   },
   {
    "duration": 486,
    "start_time": "2025-04-01T12:40:07.237Z"
   },
   {
    "duration": 463,
    "start_time": "2025-04-01T12:40:07.724Z"
   },
   {
    "duration": 418,
    "start_time": "2025-04-01T12:40:08.188Z"
   },
   {
    "duration": 989,
    "start_time": "2025-04-01T12:40:08.608Z"
   },
   {
    "duration": 869,
    "start_time": "2025-04-01T12:40:09.599Z"
   },
   {
    "duration": 303,
    "start_time": "2025-04-01T12:40:10.469Z"
   },
   {
    "duration": 312,
    "start_time": "2025-04-01T12:40:10.774Z"
   },
   {
    "duration": 1057,
    "start_time": "2025-04-01T12:40:11.087Z"
   },
   {
    "duration": 18,
    "start_time": "2025-04-01T12:40:12.145Z"
   },
   {
    "duration": 6,
    "start_time": "2025-04-01T12:40:12.165Z"
   },
   {
    "duration": 28,
    "start_time": "2025-04-01T12:40:12.173Z"
   },
   {
    "duration": 1118,
    "start_time": "2025-04-01T12:40:12.203Z"
   },
   {
    "duration": 17,
    "start_time": "2025-04-01T13:13:08.137Z"
   },
   {
    "duration": 6,
    "start_time": "2025-04-01T13:25:00.602Z"
   },
   {
    "duration": 153,
    "start_time": "2025-04-01T13:25:01.954Z"
   },
   {
    "duration": 8,
    "start_time": "2025-04-01T13:25:46.585Z"
   },
   {
    "duration": 7,
    "start_time": "2025-04-01T13:25:50.826Z"
   },
   {
    "duration": 18,
    "start_time": "2025-04-01T13:25:52.499Z"
   },
   {
    "duration": 4,
    "start_time": "2025-04-01T13:26:08.782Z"
   },
   {
    "duration": 16,
    "start_time": "2025-04-01T13:26:15.374Z"
   },
   {
    "duration": 5,
    "start_time": "2025-04-01T13:26:49.560Z"
   },
   {
    "duration": 607,
    "start_time": "2025-04-01T13:26:58.377Z"
   },
   {
    "duration": 3,
    "start_time": "2025-04-01T13:32:12.116Z"
   },
   {
    "duration": 1892,
    "start_time": "2025-04-01T13:32:12.120Z"
   },
   {
    "duration": 62,
    "start_time": "2025-04-01T13:32:14.014Z"
   },
   {
    "duration": 20,
    "start_time": "2025-04-01T13:32:14.078Z"
   },
   {
    "duration": 11,
    "start_time": "2025-04-01T13:32:14.101Z"
   },
   {
    "duration": 18,
    "start_time": "2025-04-01T13:32:14.114Z"
   },
   {
    "duration": 17,
    "start_time": "2025-04-01T13:32:14.134Z"
   },
   {
    "duration": 26,
    "start_time": "2025-04-01T13:32:14.152Z"
   },
   {
    "duration": 11,
    "start_time": "2025-04-01T13:32:14.180Z"
   },
   {
    "duration": 21,
    "start_time": "2025-04-01T13:32:14.192Z"
   },
   {
    "duration": 9,
    "start_time": "2025-04-01T13:32:14.215Z"
   },
   {
    "duration": 6,
    "start_time": "2025-04-01T13:32:14.226Z"
   },
   {
    "duration": 6,
    "start_time": "2025-04-01T13:32:14.233Z"
   },
   {
    "duration": 33,
    "start_time": "2025-04-01T13:32:14.243Z"
   },
   {
    "duration": 25,
    "start_time": "2025-04-01T13:32:14.278Z"
   },
   {
    "duration": 10,
    "start_time": "2025-04-01T13:32:14.304Z"
   },
   {
    "duration": 5,
    "start_time": "2025-04-01T13:32:14.315Z"
   },
   {
    "duration": 4,
    "start_time": "2025-04-01T13:32:14.321Z"
   },
   {
    "duration": 7,
    "start_time": "2025-04-01T13:32:14.326Z"
   },
   {
    "duration": 4,
    "start_time": "2025-04-01T13:32:14.334Z"
   },
   {
    "duration": 5,
    "start_time": "2025-04-01T13:32:14.363Z"
   },
   {
    "duration": 21,
    "start_time": "2025-04-01T13:32:14.369Z"
   },
   {
    "duration": 8,
    "start_time": "2025-04-01T13:32:14.392Z"
   },
   {
    "duration": 12,
    "start_time": "2025-04-01T13:32:14.401Z"
   },
   {
    "duration": 757,
    "start_time": "2025-04-01T13:32:14.414Z"
   },
   {
    "duration": 676,
    "start_time": "2025-04-01T13:32:15.172Z"
   },
   {
    "duration": 578,
    "start_time": "2025-04-01T13:32:15.850Z"
   },
   {
    "duration": 469,
    "start_time": "2025-04-01T13:32:16.429Z"
   },
   {
    "duration": 468,
    "start_time": "2025-04-01T13:32:16.899Z"
   },
   {
    "duration": 493,
    "start_time": "2025-04-01T13:32:17.369Z"
   },
   {
    "duration": 843,
    "start_time": "2025-04-01T13:32:17.864Z"
   },
   {
    "duration": 1000,
    "start_time": "2025-04-01T13:32:18.708Z"
   },
   {
    "duration": 352,
    "start_time": "2025-04-01T13:32:19.710Z"
   },
   {
    "duration": 344,
    "start_time": "2025-04-01T13:32:20.064Z"
   },
   {
    "duration": 1118,
    "start_time": "2025-04-01T13:32:20.410Z"
   },
   {
    "duration": 6,
    "start_time": "2025-04-01T13:32:21.529Z"
   },
   {
    "duration": 11,
    "start_time": "2025-04-01T13:32:21.537Z"
   },
   {
    "duration": 22,
    "start_time": "2025-04-01T13:32:21.549Z"
   },
   {
    "duration": 45,
    "start_time": "2025-04-01T13:32:21.573Z"
   },
   {
    "duration": 28,
    "start_time": "2025-04-01T13:32:21.619Z"
   },
   {
    "duration": 8456,
    "start_time": "2025-04-01T13:32:21.652Z"
   },
   {
    "duration": 61,
    "start_time": "2025-04-01T13:32:30.110Z"
   },
   {
    "duration": 17,
    "start_time": "2025-04-01T13:32:30.173Z"
   },
   {
    "duration": 37,
    "start_time": "2025-04-01T13:32:30.192Z"
   },
   {
    "duration": 177,
    "start_time": "2025-04-01T13:32:30.231Z"
   },
   {
    "duration": 53,
    "start_time": "2025-04-01T13:32:30.410Z"
   },
   {
    "duration": 26,
    "start_time": "2025-04-01T13:32:30.466Z"
   },
   {
    "duration": 18,
    "start_time": "2025-04-01T13:32:30.494Z"
   },
   {
    "duration": 29,
    "start_time": "2025-04-01T13:32:30.514Z"
   },
   {
    "duration": 25,
    "start_time": "2025-04-01T13:32:30.545Z"
   },
   {
    "duration": 9,
    "start_time": "2025-04-01T13:32:30.573Z"
   },
   {
    "duration": 106,
    "start_time": "2025-04-01T13:32:30.584Z"
   },
   {
    "duration": 117,
    "start_time": "2025-04-01T13:32:30.692Z"
   },
   {
    "duration": 10,
    "start_time": "2025-04-01T13:32:30.811Z"
   },
   {
    "duration": 27,
    "start_time": "2025-04-01T13:32:30.822Z"
   },
   {
    "duration": 627,
    "start_time": "2025-04-01T13:32:30.850Z"
   },
   {
    "duration": 486,
    "start_time": "2025-04-01T13:32:31.479Z"
   },
   {
    "duration": 488,
    "start_time": "2025-04-01T13:32:31.966Z"
   },
   {
    "duration": 476,
    "start_time": "2025-04-01T13:32:32.456Z"
   },
   {
    "duration": 406,
    "start_time": "2025-04-01T13:32:32.934Z"
   },
   {
    "duration": 455,
    "start_time": "2025-04-01T13:32:33.342Z"
   },
   {
    "duration": 1065,
    "start_time": "2025-04-01T13:32:33.799Z"
   },
   {
    "duration": 918,
    "start_time": "2025-04-01T13:32:34.866Z"
   },
   {
    "duration": 298,
    "start_time": "2025-04-01T13:32:35.786Z"
   },
   {
    "duration": 308,
    "start_time": "2025-04-01T13:32:36.087Z"
   },
   {
    "duration": 1084,
    "start_time": "2025-04-01T13:32:36.397Z"
   },
   {
    "duration": 7,
    "start_time": "2025-04-01T13:32:37.483Z"
   },
   {
    "duration": 8,
    "start_time": "2025-04-01T13:32:37.492Z"
   },
   {
    "duration": 34,
    "start_time": "2025-04-01T13:32:37.501Z"
   },
   {
    "duration": 1150,
    "start_time": "2025-04-01T13:32:37.537Z"
   },
   {
    "duration": 16,
    "start_time": "2025-04-01T13:32:38.689Z"
   },
   {
    "duration": 80,
    "start_time": "2025-04-01T13:32:38.707Z"
   },
   {
    "duration": 21,
    "start_time": "2025-04-01T13:32:38.789Z"
   },
   {
    "duration": 3,
    "start_time": "2025-04-01T13:51:12.102Z"
   },
   {
    "duration": 1938,
    "start_time": "2025-04-01T13:51:12.108Z"
   },
   {
    "duration": 73,
    "start_time": "2025-04-01T13:51:14.048Z"
   },
   {
    "duration": 18,
    "start_time": "2025-04-01T13:51:14.123Z"
   },
   {
    "duration": 12,
    "start_time": "2025-04-01T13:51:14.143Z"
   },
   {
    "duration": 15,
    "start_time": "2025-04-01T13:51:14.157Z"
   },
   {
    "duration": 12,
    "start_time": "2025-04-01T13:51:14.173Z"
   },
   {
    "duration": 8,
    "start_time": "2025-04-01T13:51:14.187Z"
   },
   {
    "duration": 10,
    "start_time": "2025-04-01T13:51:14.197Z"
   },
   {
    "duration": 8,
    "start_time": "2025-04-01T13:51:14.209Z"
   },
   {
    "duration": 25,
    "start_time": "2025-04-01T13:51:14.219Z"
   },
   {
    "duration": 26,
    "start_time": "2025-04-01T13:51:14.245Z"
   },
   {
    "duration": 9,
    "start_time": "2025-04-01T13:51:14.273Z"
   },
   {
    "duration": 30,
    "start_time": "2025-04-01T13:51:14.285Z"
   },
   {
    "duration": 47,
    "start_time": "2025-04-01T13:51:14.317Z"
   },
   {
    "duration": 11,
    "start_time": "2025-04-01T13:51:14.366Z"
   },
   {
    "duration": 5,
    "start_time": "2025-04-01T13:51:14.379Z"
   },
   {
    "duration": 7,
    "start_time": "2025-04-01T13:51:14.387Z"
   },
   {
    "duration": 7,
    "start_time": "2025-04-01T13:51:14.396Z"
   },
   {
    "duration": 14,
    "start_time": "2025-04-01T13:51:14.404Z"
   },
   {
    "duration": 5,
    "start_time": "2025-04-01T13:51:14.420Z"
   },
   {
    "duration": 5,
    "start_time": "2025-04-01T13:51:14.463Z"
   },
   {
    "duration": 22,
    "start_time": "2025-04-01T13:51:14.470Z"
   },
   {
    "duration": 9,
    "start_time": "2025-04-01T13:51:14.494Z"
   },
   {
    "duration": 761,
    "start_time": "2025-04-01T13:51:14.505Z"
   },
   {
    "duration": 695,
    "start_time": "2025-04-01T13:51:15.267Z"
   },
   {
    "duration": 596,
    "start_time": "2025-04-01T13:51:15.964Z"
   },
   {
    "duration": 491,
    "start_time": "2025-04-01T13:51:16.563Z"
   },
   {
    "duration": 526,
    "start_time": "2025-04-01T13:51:17.056Z"
   },
   {
    "duration": 492,
    "start_time": "2025-04-01T13:51:17.583Z"
   },
   {
    "duration": 901,
    "start_time": "2025-04-01T13:51:18.077Z"
   },
   {
    "duration": 1012,
    "start_time": "2025-04-01T13:51:18.980Z"
   },
   {
    "duration": 336,
    "start_time": "2025-04-01T13:51:19.994Z"
   },
   {
    "duration": 393,
    "start_time": "2025-04-01T13:51:20.332Z"
   },
   {
    "duration": 1218,
    "start_time": "2025-04-01T13:51:20.726Z"
   },
   {
    "duration": 6,
    "start_time": "2025-04-01T13:51:21.945Z"
   },
   {
    "duration": 84,
    "start_time": "2025-04-01T13:51:21.953Z"
   },
   {
    "duration": 7,
    "start_time": "2025-04-01T13:51:22.038Z"
   },
   {
    "duration": 13,
    "start_time": "2025-04-01T13:51:22.047Z"
   },
   {
    "duration": 8,
    "start_time": "2025-04-01T13:51:22.062Z"
   },
   {
    "duration": 8692,
    "start_time": "2025-04-01T13:51:22.076Z"
   },
   {
    "duration": 58,
    "start_time": "2025-04-01T13:51:30.771Z"
   },
   {
    "duration": 40,
    "start_time": "2025-04-01T13:51:30.831Z"
   },
   {
    "duration": 24,
    "start_time": "2025-04-01T13:51:30.874Z"
   },
   {
    "duration": 22,
    "start_time": "2025-04-01T13:51:30.900Z"
   },
   {
    "duration": 23,
    "start_time": "2025-04-01T13:51:30.924Z"
   },
   {
    "duration": 23,
    "start_time": "2025-04-01T13:51:30.948Z"
   },
   {
    "duration": 11,
    "start_time": "2025-04-01T13:51:30.973Z"
   },
   {
    "duration": 8,
    "start_time": "2025-04-01T13:51:30.986Z"
   },
   {
    "duration": 10,
    "start_time": "2025-04-01T13:51:30.995Z"
   },
   {
    "duration": 14,
    "start_time": "2025-04-01T13:51:31.007Z"
   },
   {
    "duration": 62,
    "start_time": "2025-04-01T13:51:31.023Z"
   },
   {
    "duration": 30,
    "start_time": "2025-04-01T13:51:31.086Z"
   },
   {
    "duration": 9,
    "start_time": "2025-04-01T13:51:31.118Z"
   },
   {
    "duration": 10,
    "start_time": "2025-04-01T13:51:31.129Z"
   },
   {
    "duration": 659,
    "start_time": "2025-04-01T13:51:31.141Z"
   },
   {
    "duration": 517,
    "start_time": "2025-04-01T13:51:31.802Z"
   },
   {
    "duration": 464,
    "start_time": "2025-04-01T13:51:32.321Z"
   },
   {
    "duration": 482,
    "start_time": "2025-04-01T13:51:32.787Z"
   },
   {
    "duration": 434,
    "start_time": "2025-04-01T13:51:33.271Z"
   },
   {
    "duration": 423,
    "start_time": "2025-04-01T13:51:33.707Z"
   },
   {
    "duration": 1072,
    "start_time": "2025-04-01T13:51:34.131Z"
   },
   {
    "duration": 982,
    "start_time": "2025-04-01T13:51:35.207Z"
   },
   {
    "duration": 321,
    "start_time": "2025-04-01T13:51:36.191Z"
   },
   {
    "duration": 317,
    "start_time": "2025-04-01T13:51:36.513Z"
   },
   {
    "duration": 1152,
    "start_time": "2025-04-01T13:51:36.832Z"
   },
   {
    "duration": 8,
    "start_time": "2025-04-01T13:51:37.985Z"
   },
   {
    "duration": 57,
    "start_time": "2025-04-01T13:51:37.995Z"
   },
   {
    "duration": 35,
    "start_time": "2025-04-01T13:51:38.054Z"
   },
   {
    "duration": 1158,
    "start_time": "2025-04-01T13:51:38.090Z"
   },
   {
    "duration": 30,
    "start_time": "2025-04-01T13:51:39.249Z"
   },
   {
    "duration": 6,
    "start_time": "2025-04-01T13:51:39.281Z"
   },
   {
    "duration": 14984,
    "start_time": "2025-04-01T13:55:07.707Z"
   },
   {
    "duration": 15,
    "start_time": "2025-04-01T13:57:11.056Z"
   },
   {
    "duration": 23,
    "start_time": "2025-04-01T13:57:20.636Z"
   },
   {
    "duration": 10,
    "start_time": "2025-04-01T13:58:14.735Z"
   },
   {
    "duration": 7,
    "start_time": "2025-04-01T13:58:15.708Z"
   },
   {
    "duration": 19370,
    "start_time": "2025-04-01T13:58:16.235Z"
   },
   {
    "duration": 12,
    "start_time": "2025-04-01T14:13:53.156Z"
   },
   {
    "duration": 12,
    "start_time": "2025-04-01T14:13:59.897Z"
   },
   {
    "duration": 14,
    "start_time": "2025-04-01T14:14:10.059Z"
   },
   {
    "duration": 641,
    "start_time": "2025-04-01T14:27:05.921Z"
   },
   {
    "duration": 10318,
    "start_time": "2025-04-01T14:27:26.458Z"
   },
   {
    "duration": 18102,
    "start_time": "2025-04-01T14:33:11.803Z"
   },
   {
    "duration": 26997,
    "start_time": "2025-04-01T14:34:13.158Z"
   },
   {
    "duration": 1060,
    "start_time": "2025-04-01T14:35:48.957Z"
   },
   {
    "duration": 19,
    "start_time": "2025-04-01T14:35:55.932Z"
   },
   {
    "duration": 13,
    "start_time": "2025-04-01T14:43:42.438Z"
   },
   {
    "duration": 12,
    "start_time": "2025-04-01T14:44:45.461Z"
   },
   {
    "duration": 219620,
    "start_time": "2025-04-01T14:50:43.963Z"
   },
   {
    "duration": 11,
    "start_time": "2025-04-01T14:55:02.413Z"
   },
   {
    "duration": 0,
    "start_time": "2025-04-01T15:01:38.075Z"
   },
   {
    "duration": 0,
    "start_time": "2025-04-01T15:02:56.905Z"
   },
   {
    "duration": 54092,
    "start_time": "2025-04-01T15:04:35.938Z"
   },
   {
    "duration": 0,
    "start_time": "2025-04-01T15:17:58.717Z"
   },
   {
    "duration": 36358,
    "start_time": "2025-04-01T15:18:36.718Z"
   },
   {
    "duration": 32706,
    "start_time": "2025-04-01T15:24:43.991Z"
   },
   {
    "duration": 11,
    "start_time": "2025-04-01T15:26:59.513Z"
   },
   {
    "duration": 12,
    "start_time": "2025-04-01T15:27:06.257Z"
   },
   {
    "duration": 65,
    "start_time": "2025-04-01T15:28:06.633Z"
   },
   {
    "duration": 11,
    "start_time": "2025-04-01T15:28:20.170Z"
   },
   {
    "duration": 11,
    "start_time": "2025-04-01T15:28:42.296Z"
   },
   {
    "duration": 12,
    "start_time": "2025-04-01T15:28:50.011Z"
   },
   {
    "duration": 12,
    "start_time": "2025-04-01T15:29:38.572Z"
   },
   {
    "duration": 12,
    "start_time": "2025-04-01T15:30:04.817Z"
   },
   {
    "duration": 12,
    "start_time": "2025-04-01T15:31:03.437Z"
   },
   {
    "duration": 2799,
    "start_time": "2025-04-01T15:32:04.956Z"
   },
   {
    "duration": 6097,
    "start_time": "2025-04-01T15:32:29.742Z"
   },
   {
    "duration": 3462,
    "start_time": "2025-04-01T15:32:47.978Z"
   },
   {
    "duration": 1837,
    "start_time": "2025-04-01T15:32:51.442Z"
   },
   {
    "duration": 72,
    "start_time": "2025-04-01T15:32:53.281Z"
   },
   {
    "duration": 32,
    "start_time": "2025-04-01T15:32:53.354Z"
   },
   {
    "duration": 21,
    "start_time": "2025-04-01T15:32:53.387Z"
   },
   {
    "duration": 20,
    "start_time": "2025-04-01T15:32:53.409Z"
   },
   {
    "duration": 22,
    "start_time": "2025-04-01T15:32:53.430Z"
   },
   {
    "duration": 12,
    "start_time": "2025-04-01T15:32:53.454Z"
   },
   {
    "duration": 9,
    "start_time": "2025-04-01T15:32:53.476Z"
   },
   {
    "duration": 20,
    "start_time": "2025-04-01T15:32:53.486Z"
   },
   {
    "duration": 8,
    "start_time": "2025-04-01T15:32:53.507Z"
   },
   {
    "duration": 7,
    "start_time": "2025-04-01T15:32:53.516Z"
   },
   {
    "duration": 5,
    "start_time": "2025-04-01T15:32:53.524Z"
   },
   {
    "duration": 36,
    "start_time": "2025-04-01T15:32:53.530Z"
   },
   {
    "duration": 23,
    "start_time": "2025-04-01T15:32:53.576Z"
   },
   {
    "duration": 9,
    "start_time": "2025-04-01T15:32:53.601Z"
   },
   {
    "duration": 4,
    "start_time": "2025-04-01T15:32:53.611Z"
   },
   {
    "duration": 4,
    "start_time": "2025-04-01T15:32:53.617Z"
   },
   {
    "duration": 8,
    "start_time": "2025-04-01T15:32:53.622Z"
   },
   {
    "duration": 5,
    "start_time": "2025-04-01T15:32:53.632Z"
   },
   {
    "duration": 5,
    "start_time": "2025-04-01T15:32:53.638Z"
   },
   {
    "duration": 25,
    "start_time": "2025-04-01T15:32:53.666Z"
   },
   {
    "duration": 17,
    "start_time": "2025-04-01T15:32:53.693Z"
   },
   {
    "duration": 7,
    "start_time": "2025-04-01T15:32:53.711Z"
   },
   {
    "duration": 909,
    "start_time": "2025-04-01T15:32:53.719Z"
   },
   {
    "duration": 925,
    "start_time": "2025-04-01T15:32:54.629Z"
   },
   {
    "duration": 791,
    "start_time": "2025-04-01T15:32:55.567Z"
   },
   {
    "duration": 825,
    "start_time": "2025-04-01T15:32:56.362Z"
   },
   {
    "duration": 505,
    "start_time": "2025-04-01T15:32:57.188Z"
   },
   {
    "duration": 497,
    "start_time": "2025-04-01T15:32:57.695Z"
   },
   {
    "duration": 1404,
    "start_time": "2025-04-01T15:32:58.193Z"
   },
   {
    "duration": 1618,
    "start_time": "2025-04-01T15:32:59.598Z"
   },
   {
    "duration": 284,
    "start_time": "2025-04-01T15:33:01.217Z"
   },
   {
    "duration": 315,
    "start_time": "2025-04-01T15:33:01.503Z"
   },
   {
    "duration": 779,
    "start_time": "2025-04-01T15:33:01.820Z"
   },
   {
    "duration": 7,
    "start_time": "2025-04-01T15:33:02.601Z"
   },
   {
    "duration": 26,
    "start_time": "2025-04-01T15:33:02.610Z"
   },
   {
    "duration": 13,
    "start_time": "2025-04-01T15:33:02.638Z"
   },
   {
    "duration": 30,
    "start_time": "2025-04-01T15:33:02.653Z"
   },
   {
    "duration": 6,
    "start_time": "2025-04-01T15:33:02.685Z"
   },
   {
    "duration": 9347,
    "start_time": "2025-04-01T15:33:02.692Z"
   },
   {
    "duration": 63,
    "start_time": "2025-04-01T15:33:12.040Z"
   },
   {
    "duration": 14,
    "start_time": "2025-04-01T15:33:12.104Z"
   },
   {
    "duration": 55,
    "start_time": "2025-04-01T15:33:12.120Z"
   },
   {
    "duration": 31,
    "start_time": "2025-04-01T15:33:12.177Z"
   },
   {
    "duration": 21,
    "start_time": "2025-04-01T15:33:12.210Z"
   },
   {
    "duration": 7,
    "start_time": "2025-04-01T15:33:12.232Z"
   },
   {
    "duration": 19,
    "start_time": "2025-04-01T15:33:12.241Z"
   },
   {
    "duration": 19,
    "start_time": "2025-04-01T15:33:12.262Z"
   },
   {
    "duration": 6,
    "start_time": "2025-04-01T15:33:12.282Z"
   },
   {
    "duration": 8,
    "start_time": "2025-04-01T15:33:12.289Z"
   },
   {
    "duration": 23,
    "start_time": "2025-04-01T15:33:12.299Z"
   },
   {
    "duration": 26,
    "start_time": "2025-04-01T15:33:12.324Z"
   },
   {
    "duration": 9,
    "start_time": "2025-04-01T15:33:12.364Z"
   },
   {
    "duration": 4,
    "start_time": "2025-04-01T15:33:12.377Z"
   },
   {
    "duration": 644,
    "start_time": "2025-04-01T15:33:12.383Z"
   },
   {
    "duration": 700,
    "start_time": "2025-04-01T15:33:13.029Z"
   },
   {
    "duration": 879,
    "start_time": "2025-04-01T15:33:13.731Z"
   },
   {
    "duration": 774,
    "start_time": "2025-04-01T15:33:14.611Z"
   },
   {
    "duration": 450,
    "start_time": "2025-04-01T15:33:15.387Z"
   },
   {
    "duration": 480,
    "start_time": "2025-04-01T15:33:15.839Z"
   },
   {
    "duration": 1510,
    "start_time": "2025-04-01T15:33:16.320Z"
   },
   {
    "duration": 1646,
    "start_time": "2025-04-01T15:33:17.832Z"
   },
   {
    "duration": 304,
    "start_time": "2025-04-01T15:33:19.480Z"
   },
   {
    "duration": 296,
    "start_time": "2025-04-01T15:33:19.785Z"
   },
   {
    "duration": 668,
    "start_time": "2025-04-01T15:33:20.082Z"
   },
   {
    "duration": 16,
    "start_time": "2025-04-01T15:33:20.752Z"
   },
   {
    "duration": 8,
    "start_time": "2025-04-01T15:33:20.775Z"
   },
   {
    "duration": 47,
    "start_time": "2025-04-01T15:33:20.784Z"
   },
   {
    "duration": 758,
    "start_time": "2025-04-01T15:33:20.833Z"
   },
   {
    "duration": 7,
    "start_time": "2025-04-01T15:33:21.592Z"
   },
   {
    "duration": 9,
    "start_time": "2025-04-01T15:33:21.601Z"
   },
   {
    "duration": 166,
    "start_time": "2025-04-01T15:33:21.611Z"
   },
   {
    "duration": 0,
    "start_time": "2025-04-01T15:33:21.779Z"
   },
   {
    "duration": 0,
    "start_time": "2025-04-01T15:33:21.780Z"
   },
   {
    "duration": 0,
    "start_time": "2025-04-01T15:33:21.781Z"
   },
   {
    "duration": 0,
    "start_time": "2025-04-01T15:33:21.782Z"
   },
   {
    "duration": 18401,
    "start_time": "2025-04-01T15:56:57.026Z"
   },
   {
    "duration": 14,
    "start_time": "2025-04-01T15:58:36.436Z"
   },
   {
    "duration": 13,
    "start_time": "2025-04-01T15:58:36.664Z"
   },
   {
    "duration": 13,
    "start_time": "2025-04-01T15:58:36.866Z"
   },
   {
    "duration": 6,
    "start_time": "2025-04-01T15:58:43.665Z"
   },
   {
    "duration": 5,
    "start_time": "2025-04-01T16:08:18.790Z"
   },
   {
    "duration": 57878,
    "start_time": "2025-04-01T16:08:19.860Z"
   },
   {
    "duration": 4,
    "start_time": "2025-04-01T16:11:33.391Z"
   },
   {
    "duration": 60621,
    "start_time": "2025-04-01T16:11:43.924Z"
   },
   {
    "duration": 59587,
    "start_time": "2025-04-01T16:17:13.934Z"
   },
   {
    "duration": 57984,
    "start_time": "2025-04-01T16:23:02.795Z"
   },
   {
    "duration": 58668,
    "start_time": "2025-04-01T16:25:13.811Z"
   },
   {
    "duration": 60313,
    "start_time": "2025-04-01T16:32:23.041Z"
   },
   {
    "duration": 57403,
    "start_time": "2025-04-01T16:45:07.236Z"
   },
   {
    "duration": 117243,
    "start_time": "2025-04-01T16:49:13.387Z"
   },
   {
    "duration": 50195,
    "start_time": "2025-04-02T01:38:59.540Z"
   },
   {
    "duration": 97734,
    "start_time": "2025-04-02T01:40:36.187Z"
   },
   {
    "duration": 14,
    "start_time": "2025-04-02T01:42:42.003Z"
   },
   {
    "duration": 13,
    "start_time": "2025-04-02T01:42:42.282Z"
   },
   {
    "duration": 13,
    "start_time": "2025-04-02T01:43:47.484Z"
   },
   {
    "duration": 14,
    "start_time": "2025-04-02T01:44:02.074Z"
   },
   {
    "duration": 10,
    "start_time": "2025-04-02T01:44:07.722Z"
   },
   {
    "duration": 13,
    "start_time": "2025-04-02T01:44:11.103Z"
   },
   {
    "duration": 12,
    "start_time": "2025-04-02T01:44:11.482Z"
   },
   {
    "duration": 2395,
    "start_time": "2025-04-02T01:44:49.023Z"
   },
   {
    "duration": 11,
    "start_time": "2025-04-02T01:45:01.281Z"
   },
   {
    "duration": 7,
    "start_time": "2025-04-02T01:45:01.377Z"
   },
   {
    "duration": 2646,
    "start_time": "2025-04-02T01:45:02.023Z"
   },
   {
    "duration": 10,
    "start_time": "2025-04-02T01:45:10.037Z"
   },
   {
    "duration": 7,
    "start_time": "2025-04-02T01:45:10.426Z"
   },
   {
    "duration": 2263,
    "start_time": "2025-04-02T01:45:11.005Z"
   },
   {
    "duration": 3314,
    "start_time": "2025-04-02T01:46:36.680Z"
   },
   {
    "duration": 1738,
    "start_time": "2025-04-02T01:46:39.996Z"
   },
   {
    "duration": 64,
    "start_time": "2025-04-02T01:46:41.736Z"
   },
   {
    "duration": 20,
    "start_time": "2025-04-02T01:46:41.802Z"
   },
   {
    "duration": 30,
    "start_time": "2025-04-02T01:46:41.823Z"
   },
   {
    "duration": 12,
    "start_time": "2025-04-02T01:46:41.855Z"
   },
   {
    "duration": 9,
    "start_time": "2025-04-02T01:46:41.869Z"
   },
   {
    "duration": 7,
    "start_time": "2025-04-02T01:46:41.879Z"
   },
   {
    "duration": 26,
    "start_time": "2025-04-02T01:46:41.887Z"
   },
   {
    "duration": 3,
    "start_time": "2025-04-02T01:46:41.915Z"
   },
   {
    "duration": 9,
    "start_time": "2025-04-02T01:46:41.919Z"
   },
   {
    "duration": 6,
    "start_time": "2025-04-02T01:46:41.929Z"
   },
   {
    "duration": 4,
    "start_time": "2025-04-02T01:46:41.937Z"
   },
   {
    "duration": 28,
    "start_time": "2025-04-02T01:46:41.962Z"
   },
   {
    "duration": 27,
    "start_time": "2025-04-02T01:46:41.991Z"
   },
   {
    "duration": 10,
    "start_time": "2025-04-02T01:46:42.019Z"
   },
   {
    "duration": 4,
    "start_time": "2025-04-02T01:46:42.030Z"
   },
   {
    "duration": 29,
    "start_time": "2025-04-02T01:46:42.035Z"
   },
   {
    "duration": 9,
    "start_time": "2025-04-02T01:46:42.066Z"
   },
   {
    "duration": 3,
    "start_time": "2025-04-02T01:46:42.077Z"
   },
   {
    "duration": 5,
    "start_time": "2025-04-02T01:46:42.081Z"
   },
   {
    "duration": 7,
    "start_time": "2025-04-02T01:46:42.087Z"
   },
   {
    "duration": 8,
    "start_time": "2025-04-02T01:46:42.095Z"
   },
   {
    "duration": 7,
    "start_time": "2025-04-02T01:46:42.105Z"
   },
   {
    "duration": 910,
    "start_time": "2025-04-02T01:46:42.114Z"
   },
   {
    "duration": 872,
    "start_time": "2025-04-02T01:46:43.025Z"
   },
   {
    "duration": 744,
    "start_time": "2025-04-02T01:46:43.899Z"
   },
   {
    "duration": 812,
    "start_time": "2025-04-02T01:46:44.644Z"
   },
   {
    "duration": 508,
    "start_time": "2025-04-02T01:46:45.457Z"
   },
   {
    "duration": 501,
    "start_time": "2025-04-02T01:46:45.967Z"
   },
   {
    "duration": 1380,
    "start_time": "2025-04-02T01:46:46.470Z"
   },
   {
    "duration": 1531,
    "start_time": "2025-04-02T01:46:47.851Z"
   },
   {
    "duration": 311,
    "start_time": "2025-04-02T01:46:49.383Z"
   },
   {
    "duration": 309,
    "start_time": "2025-04-02T01:46:49.696Z"
   },
   {
    "duration": 772,
    "start_time": "2025-04-02T01:46:50.007Z"
   },
   {
    "duration": 5,
    "start_time": "2025-04-02T01:46:50.781Z"
   },
   {
    "duration": 2,
    "start_time": "2025-04-02T01:46:50.788Z"
   },
   {
    "duration": 5,
    "start_time": "2025-04-02T01:46:50.791Z"
   },
   {
    "duration": 27,
    "start_time": "2025-04-02T01:46:50.797Z"
   },
   {
    "duration": 5,
    "start_time": "2025-04-02T01:46:50.826Z"
   },
   {
    "duration": 140,
    "start_time": "2025-04-02T01:46:50.836Z"
   },
   {
    "duration": 0,
    "start_time": "2025-04-02T01:46:50.978Z"
   },
   {
    "duration": 0,
    "start_time": "2025-04-02T01:46:50.978Z"
   },
   {
    "duration": 0,
    "start_time": "2025-04-02T01:46:50.979Z"
   },
   {
    "duration": 0,
    "start_time": "2025-04-02T01:46:50.980Z"
   },
   {
    "duration": 0,
    "start_time": "2025-04-02T01:46:50.981Z"
   },
   {
    "duration": 0,
    "start_time": "2025-04-02T01:46:50.982Z"
   },
   {
    "duration": 0,
    "start_time": "2025-04-02T01:46:50.983Z"
   },
   {
    "duration": 1,
    "start_time": "2025-04-02T01:46:50.983Z"
   },
   {
    "duration": 0,
    "start_time": "2025-04-02T01:46:50.984Z"
   },
   {
    "duration": 0,
    "start_time": "2025-04-02T01:46:50.985Z"
   },
   {
    "duration": 0,
    "start_time": "2025-04-02T01:46:50.986Z"
   },
   {
    "duration": 0,
    "start_time": "2025-04-02T01:46:50.987Z"
   },
   {
    "duration": 0,
    "start_time": "2025-04-02T01:46:50.988Z"
   },
   {
    "duration": 0,
    "start_time": "2025-04-02T01:46:50.989Z"
   },
   {
    "duration": 0,
    "start_time": "2025-04-02T01:46:50.989Z"
   },
   {
    "duration": 0,
    "start_time": "2025-04-02T01:46:50.990Z"
   },
   {
    "duration": 0,
    "start_time": "2025-04-02T01:46:50.991Z"
   },
   {
    "duration": 0,
    "start_time": "2025-04-02T01:46:50.992Z"
   },
   {
    "duration": 0,
    "start_time": "2025-04-02T01:46:50.993Z"
   },
   {
    "duration": 0,
    "start_time": "2025-04-02T01:46:50.994Z"
   },
   {
    "duration": 0,
    "start_time": "2025-04-02T01:46:50.995Z"
   },
   {
    "duration": 0,
    "start_time": "2025-04-02T01:46:50.995Z"
   },
   {
    "duration": 0,
    "start_time": "2025-04-02T01:46:50.997Z"
   },
   {
    "duration": 0,
    "start_time": "2025-04-02T01:46:50.997Z"
   },
   {
    "duration": 0,
    "start_time": "2025-04-02T01:46:50.998Z"
   },
   {
    "duration": 0,
    "start_time": "2025-04-02T01:46:50.999Z"
   },
   {
    "duration": 0,
    "start_time": "2025-04-02T01:46:51.000Z"
   },
   {
    "duration": 0,
    "start_time": "2025-04-02T01:46:51.001Z"
   },
   {
    "duration": 0,
    "start_time": "2025-04-02T01:46:51.002Z"
   },
   {
    "duration": 0,
    "start_time": "2025-04-02T01:46:51.003Z"
   },
   {
    "duration": 0,
    "start_time": "2025-04-02T01:46:51.004Z"
   },
   {
    "duration": 0,
    "start_time": "2025-04-02T01:46:51.005Z"
   },
   {
    "duration": 1,
    "start_time": "2025-04-02T01:46:51.005Z"
   },
   {
    "duration": 0,
    "start_time": "2025-04-02T01:46:51.007Z"
   },
   {
    "duration": 0,
    "start_time": "2025-04-02T01:46:51.062Z"
   },
   {
    "duration": 8868,
    "start_time": "2025-04-02T01:47:29.405Z"
   },
   {
    "duration": 57,
    "start_time": "2025-04-02T01:55:50.725Z"
   },
   {
    "duration": 14,
    "start_time": "2025-04-02T01:55:50.902Z"
   },
   {
    "duration": 10,
    "start_time": "2025-04-02T01:55:51.078Z"
   },
   {
    "duration": 14,
    "start_time": "2025-04-02T01:55:51.257Z"
   },
   {
    "duration": 9,
    "start_time": "2025-04-02T01:55:51.430Z"
   },
   {
    "duration": 7,
    "start_time": "2025-04-02T01:55:51.607Z"
   },
   {
    "duration": 8,
    "start_time": "2025-04-02T01:55:51.789Z"
   },
   {
    "duration": 8,
    "start_time": "2025-04-02T01:55:52.148Z"
   },
   {
    "duration": 6,
    "start_time": "2025-04-02T01:55:52.654Z"
   },
   {
    "duration": 8,
    "start_time": "2025-04-02T01:55:52.684Z"
   },
   {
    "duration": 23,
    "start_time": "2025-04-02T01:55:52.715Z"
   },
   {
    "duration": 26,
    "start_time": "2025-04-02T01:55:52.748Z"
   },
   {
    "duration": 7,
    "start_time": "2025-04-02T01:55:52.778Z"
   },
   {
    "duration": 4,
    "start_time": "2025-04-02T01:55:52.818Z"
   },
   {
    "duration": 637,
    "start_time": "2025-04-02T01:55:52.917Z"
   },
   {
    "duration": 677,
    "start_time": "2025-04-02T01:55:53.556Z"
   },
   {
    "duration": 862,
    "start_time": "2025-04-02T01:55:54.234Z"
   },
   {
    "duration": 738,
    "start_time": "2025-04-02T01:55:55.098Z"
   },
   {
    "duration": 462,
    "start_time": "2025-04-02T01:55:55.838Z"
   },
   {
    "duration": 435,
    "start_time": "2025-04-02T01:55:56.301Z"
   },
   {
    "duration": 1549,
    "start_time": "2025-04-02T01:55:56.737Z"
   },
   {
    "duration": 1635,
    "start_time": "2025-04-02T01:55:58.287Z"
   },
   {
    "duration": 302,
    "start_time": "2025-04-02T01:55:59.923Z"
   },
   {
    "duration": 340,
    "start_time": "2025-04-02T01:56:00.228Z"
   },
   {
    "duration": 664,
    "start_time": "2025-04-02T01:56:00.569Z"
   },
   {
    "duration": 7,
    "start_time": "2025-04-02T01:56:01.234Z"
   },
   {
    "duration": 26,
    "start_time": "2025-04-02T01:56:01.242Z"
   },
   {
    "duration": 17,
    "start_time": "2025-04-02T01:56:01.269Z"
   },
   {
    "duration": 0,
    "start_time": "2025-04-02T01:56:01.287Z"
   },
   {
    "duration": 0,
    "start_time": "2025-04-02T01:56:01.288Z"
   },
   {
    "duration": 0,
    "start_time": "2025-04-02T01:56:01.289Z"
   },
   {
    "duration": 0,
    "start_time": "2025-04-02T01:56:01.290Z"
   },
   {
    "duration": 0,
    "start_time": "2025-04-02T01:56:01.291Z"
   },
   {
    "duration": 0,
    "start_time": "2025-04-02T01:56:01.292Z"
   },
   {
    "duration": 0,
    "start_time": "2025-04-02T01:56:01.294Z"
   },
   {
    "duration": 31,
    "start_time": "2025-04-02T01:59:09.798Z"
   },
   {
    "duration": 723,
    "start_time": "2025-04-02T01:59:12.454Z"
   },
   {
    "duration": 7,
    "start_time": "2025-04-02T01:59:14.958Z"
   },
   {
    "duration": 9,
    "start_time": "2025-04-02T01:59:14.987Z"
   },
   {
    "duration": 17643,
    "start_time": "2025-04-02T01:59:15.022Z"
   },
   {
    "duration": 12,
    "start_time": "2025-04-02T01:59:32.667Z"
   },
   {
    "duration": 12,
    "start_time": "2025-04-02T01:59:32.681Z"
   },
   {
    "duration": 50846,
    "start_time": "2025-04-02T01:59:32.695Z"
   },
   {
    "duration": 80,
    "start_time": "2025-04-02T02:00:29.210Z"
   },
   {
    "duration": 17603,
    "start_time": "2025-04-02T02:01:26.986Z"
   },
   {
    "duration": 23,
    "start_time": "2025-04-02T02:10:18.143Z"
   },
   {
    "duration": 12,
    "start_time": "2025-04-02T02:10:50.019Z"
   },
   {
    "duration": 3688,
    "start_time": "2025-04-02T02:11:19.933Z"
   },
   {
    "duration": 38,
    "start_time": "2025-04-02T02:11:28.148Z"
   },
   {
    "duration": 94,
    "start_time": "2025-04-02T02:11:38.455Z"
   },
   {
    "duration": 17602,
    "start_time": "2025-04-02T02:13:35.903Z"
   },
   {
    "duration": 16,
    "start_time": "2025-04-02T02:16:09.375Z"
   },
   {
    "duration": 18823,
    "start_time": "2025-04-02T02:17:44.218Z"
   },
   {
    "duration": 19,
    "start_time": "2025-04-02T02:53:39.997Z"
   },
   {
    "duration": 12,
    "start_time": "2025-04-02T02:54:19.355Z"
   },
   {
    "duration": 4,
    "start_time": "2025-04-02T02:55:09.474Z"
   },
   {
    "duration": 10,
    "start_time": "2025-04-02T02:55:15.304Z"
   },
   {
    "duration": 14,
    "start_time": "2025-04-02T02:55:20.366Z"
   },
   {
    "duration": 6,
    "start_time": "2025-04-02T02:55:42.126Z"
   },
   {
    "duration": 781,
    "start_time": "2025-04-02T02:57:03.833Z"
   },
   {
    "duration": 956,
    "start_time": "2025-04-02T02:59:53.496Z"
   },
   {
    "duration": 3,
    "start_time": "2025-04-02T03:02:40.929Z"
   },
   {
    "duration": 25,
    "start_time": "2025-04-02T03:06:09.383Z"
   },
   {
    "duration": 8,
    "start_time": "2025-04-02T17:59:34.661Z"
   },
   {
    "duration": 259,
    "start_time": "2025-04-02T17:59:40.782Z"
   },
   {
    "duration": 51,
    "start_time": "2025-04-03T01:06:02.470Z"
   },
   {
    "duration": 1491,
    "start_time": "2025-04-03T01:06:16.943Z"
   },
   {
    "duration": 66,
    "start_time": "2025-04-03T01:06:20.439Z"
   },
   {
    "duration": 17,
    "start_time": "2025-04-03T01:06:38.856Z"
   },
   {
    "duration": 14,
    "start_time": "2025-04-03T01:07:25.191Z"
   },
   {
    "duration": 20,
    "start_time": "2025-04-03T01:07:26.189Z"
   },
   {
    "duration": 24,
    "start_time": "2025-04-03T01:07:29.502Z"
   },
   {
    "duration": 12,
    "start_time": "2025-04-03T01:07:35.891Z"
   },
   {
    "duration": 8,
    "start_time": "2025-04-03T01:07:38.984Z"
   },
   {
    "duration": 10,
    "start_time": "2025-04-03T01:07:43.276Z"
   },
   {
    "duration": 4,
    "start_time": "2025-04-03T01:07:48.499Z"
   },
   {
    "duration": 9,
    "start_time": "2025-04-03T01:07:48.806Z"
   },
   {
    "duration": 8,
    "start_time": "2025-04-03T01:07:49.149Z"
   },
   {
    "duration": 6,
    "start_time": "2025-04-03T01:07:50.391Z"
   },
   {
    "duration": 36,
    "start_time": "2025-04-03T01:07:53.687Z"
   },
   {
    "duration": 31,
    "start_time": "2025-04-03T01:07:54.197Z"
   },
   {
    "duration": 11,
    "start_time": "2025-04-03T01:07:56.358Z"
   },
   {
    "duration": 4,
    "start_time": "2025-04-03T01:07:58.227Z"
   },
   {
    "duration": 4,
    "start_time": "2025-04-03T01:08:36.982Z"
   },
   {
    "duration": 4,
    "start_time": "2025-04-03T01:08:39.702Z"
   },
   {
    "duration": 3,
    "start_time": "2025-04-03T01:08:40.029Z"
   },
   {
    "duration": 5,
    "start_time": "2025-04-03T01:08:40.260Z"
   },
   {
    "duration": 4,
    "start_time": "2025-04-03T01:10:01.910Z"
   },
   {
    "duration": 6,
    "start_time": "2025-04-03T01:10:02.757Z"
   },
   {
    "duration": 5,
    "start_time": "2025-04-03T01:10:07.788Z"
   },
   {
    "duration": 9,
    "start_time": "2025-04-03T01:10:09.342Z"
   },
   {
    "duration": 8,
    "start_time": "2025-04-03T01:10:10.782Z"
   },
   {
    "duration": 814,
    "start_time": "2025-04-03T01:10:12.061Z"
   },
   {
    "duration": 738,
    "start_time": "2025-04-03T01:10:18.693Z"
   },
   {
    "duration": 605,
    "start_time": "2025-04-03T01:10:19.433Z"
   },
   {
    "duration": 507,
    "start_time": "2025-04-03T01:10:20.041Z"
   },
   {
    "duration": 527,
    "start_time": "2025-04-03T01:10:22.391Z"
   },
   {
    "duration": 852,
    "start_time": "2025-04-03T01:11:50.581Z"
   },
   {
    "duration": 349,
    "start_time": "2025-04-03T01:12:03.359Z"
   },
   {
    "duration": 748,
    "start_time": "2025-04-03T01:12:20.125Z"
   },
   {
    "duration": 345,
    "start_time": "2025-04-03T01:13:31.358Z"
   },
   {
    "duration": 111,
    "start_time": "2025-04-03T01:35:37.099Z"
   },
   {
    "duration": 320,
    "start_time": "2025-04-03T01:36:16.644Z"
   },
   {
    "duration": 351,
    "start_time": "2025-04-03T01:36:32.876Z"
   },
   {
    "duration": 12,
    "start_time": "2025-04-03T01:41:47.171Z"
   },
   {
    "duration": 693,
    "start_time": "2025-04-03T01:42:12.633Z"
   },
   {
    "duration": 12,
    "start_time": "2025-04-03T01:43:04.579Z"
   },
   {
    "duration": 357,
    "start_time": "2025-04-03T01:43:25.010Z"
   },
   {
    "duration": 525,
    "start_time": "2025-04-03T01:43:33.609Z"
   },
   {
    "duration": 514,
    "start_time": "2025-04-03T01:43:50.606Z"
   },
   {
    "duration": 5,
    "start_time": "2025-04-03T01:45:36.561Z"
   },
   {
    "duration": 519,
    "start_time": "2025-04-03T01:45:47.144Z"
   },
   {
    "duration": 5,
    "start_time": "2025-04-03T01:46:31.393Z"
   },
   {
    "duration": 502,
    "start_time": "2025-04-03T01:46:36.417Z"
   },
   {
    "duration": 8,
    "start_time": "2025-04-03T01:47:03.473Z"
   },
   {
    "duration": 8,
    "start_time": "2025-04-03T01:47:04.400Z"
   },
   {
    "duration": 527,
    "start_time": "2025-04-03T01:47:05.544Z"
   },
   {
    "duration": 7,
    "start_time": "2025-04-03T01:49:27.999Z"
   },
   {
    "duration": 7,
    "start_time": "2025-04-03T01:49:28.270Z"
   },
   {
    "duration": 509,
    "start_time": "2025-04-03T01:49:29.335Z"
   },
   {
    "duration": 501,
    "start_time": "2025-04-03T01:49:59.405Z"
   },
   {
    "duration": 9,
    "start_time": "2025-04-03T01:50:03.941Z"
   },
   {
    "duration": 7,
    "start_time": "2025-04-03T01:50:04.647Z"
   },
   {
    "duration": 505,
    "start_time": "2025-04-03T01:50:05.815Z"
   },
   {
    "duration": 4,
    "start_time": "2025-04-03T01:50:20.530Z"
   },
   {
    "duration": 1304,
    "start_time": "2025-04-03T01:50:20.536Z"
   },
   {
    "duration": 0,
    "start_time": "2025-04-03T01:50:21.844Z"
   },
   {
    "duration": 0,
    "start_time": "2025-04-03T01:50:21.845Z"
   },
   {
    "duration": 0,
    "start_time": "2025-04-03T01:50:21.846Z"
   },
   {
    "duration": 0,
    "start_time": "2025-04-03T01:50:21.847Z"
   },
   {
    "duration": 0,
    "start_time": "2025-04-03T01:50:21.849Z"
   },
   {
    "duration": 0,
    "start_time": "2025-04-03T01:50:21.850Z"
   },
   {
    "duration": 0,
    "start_time": "2025-04-03T01:50:21.851Z"
   },
   {
    "duration": 0,
    "start_time": "2025-04-03T01:50:21.852Z"
   },
   {
    "duration": 0,
    "start_time": "2025-04-03T01:50:21.853Z"
   },
   {
    "duration": 0,
    "start_time": "2025-04-03T01:50:21.854Z"
   },
   {
    "duration": 0,
    "start_time": "2025-04-03T01:50:21.855Z"
   },
   {
    "duration": 0,
    "start_time": "2025-04-03T01:50:21.856Z"
   },
   {
    "duration": 0,
    "start_time": "2025-04-03T01:50:21.857Z"
   },
   {
    "duration": 0,
    "start_time": "2025-04-03T01:50:21.858Z"
   },
   {
    "duration": 0,
    "start_time": "2025-04-03T01:50:21.860Z"
   },
   {
    "duration": 0,
    "start_time": "2025-04-03T01:50:21.861Z"
   },
   {
    "duration": 0,
    "start_time": "2025-04-03T01:50:21.862Z"
   },
   {
    "duration": 0,
    "start_time": "2025-04-03T01:50:21.863Z"
   },
   {
    "duration": 0,
    "start_time": "2025-04-03T01:50:21.864Z"
   },
   {
    "duration": 0,
    "start_time": "2025-04-03T01:50:21.865Z"
   },
   {
    "duration": 0,
    "start_time": "2025-04-03T01:50:21.866Z"
   },
   {
    "duration": 0,
    "start_time": "2025-04-03T01:50:21.905Z"
   },
   {
    "duration": 0,
    "start_time": "2025-04-03T01:50:21.906Z"
   },
   {
    "duration": 0,
    "start_time": "2025-04-03T01:50:21.907Z"
   },
   {
    "duration": 0,
    "start_time": "2025-04-03T01:50:21.908Z"
   },
   {
    "duration": 0,
    "start_time": "2025-04-03T01:50:21.909Z"
   },
   {
    "duration": 0,
    "start_time": "2025-04-03T01:50:21.910Z"
   },
   {
    "duration": 0,
    "start_time": "2025-04-03T01:50:21.911Z"
   },
   {
    "duration": 0,
    "start_time": "2025-04-03T01:50:21.912Z"
   },
   {
    "duration": 0,
    "start_time": "2025-04-03T01:50:21.913Z"
   },
   {
    "duration": 0,
    "start_time": "2025-04-03T01:50:21.914Z"
   },
   {
    "duration": 0,
    "start_time": "2025-04-03T01:50:21.915Z"
   },
   {
    "duration": 0,
    "start_time": "2025-04-03T01:50:21.916Z"
   },
   {
    "duration": 0,
    "start_time": "2025-04-03T01:50:21.917Z"
   },
   {
    "duration": 0,
    "start_time": "2025-04-03T01:50:21.918Z"
   },
   {
    "duration": 0,
    "start_time": "2025-04-03T01:50:21.919Z"
   },
   {
    "duration": 0,
    "start_time": "2025-04-03T01:50:21.920Z"
   },
   {
    "duration": 0,
    "start_time": "2025-04-03T01:50:21.921Z"
   },
   {
    "duration": 0,
    "start_time": "2025-04-03T01:50:21.922Z"
   },
   {
    "duration": 0,
    "start_time": "2025-04-03T01:50:21.923Z"
   },
   {
    "duration": 0,
    "start_time": "2025-04-03T01:50:21.924Z"
   },
   {
    "duration": 0,
    "start_time": "2025-04-03T01:50:21.925Z"
   },
   {
    "duration": 0,
    "start_time": "2025-04-03T01:50:21.926Z"
   },
   {
    "duration": 0,
    "start_time": "2025-04-03T01:50:21.927Z"
   },
   {
    "duration": 0,
    "start_time": "2025-04-03T01:50:21.928Z"
   },
   {
    "duration": 0,
    "start_time": "2025-04-03T01:50:21.929Z"
   },
   {
    "duration": 0,
    "start_time": "2025-04-03T01:50:21.930Z"
   },
   {
    "duration": 0,
    "start_time": "2025-04-03T01:50:21.931Z"
   },
   {
    "duration": 0,
    "start_time": "2025-04-03T01:50:21.932Z"
   },
   {
    "duration": 0,
    "start_time": "2025-04-03T01:50:21.933Z"
   },
   {
    "duration": 0,
    "start_time": "2025-04-03T01:50:21.934Z"
   },
   {
    "duration": 0,
    "start_time": "2025-04-03T01:50:21.935Z"
   },
   {
    "duration": 0,
    "start_time": "2025-04-03T01:50:21.936Z"
   },
   {
    "duration": 0,
    "start_time": "2025-04-03T01:50:21.937Z"
   },
   {
    "duration": 0,
    "start_time": "2025-04-03T01:50:21.938Z"
   },
   {
    "duration": 0,
    "start_time": "2025-04-03T01:50:21.939Z"
   },
   {
    "duration": 0,
    "start_time": "2025-04-03T01:50:21.940Z"
   },
   {
    "duration": 0,
    "start_time": "2025-04-03T01:50:22.005Z"
   },
   {
    "duration": 0,
    "start_time": "2025-04-03T01:50:22.007Z"
   },
   {
    "duration": 0,
    "start_time": "2025-04-03T01:50:22.008Z"
   },
   {
    "duration": 0,
    "start_time": "2025-04-03T01:50:22.009Z"
   },
   {
    "duration": 0,
    "start_time": "2025-04-03T01:50:22.010Z"
   },
   {
    "duration": 0,
    "start_time": "2025-04-03T01:50:22.011Z"
   },
   {
    "duration": 0,
    "start_time": "2025-04-03T01:50:22.012Z"
   },
   {
    "duration": 0,
    "start_time": "2025-04-03T01:50:22.013Z"
   },
   {
    "duration": 0,
    "start_time": "2025-04-03T01:50:22.014Z"
   },
   {
    "duration": 0,
    "start_time": "2025-04-03T01:50:22.015Z"
   },
   {
    "duration": 0,
    "start_time": "2025-04-03T01:50:22.016Z"
   },
   {
    "duration": 0,
    "start_time": "2025-04-03T01:50:22.017Z"
   },
   {
    "duration": 0,
    "start_time": "2025-04-03T01:50:22.018Z"
   },
   {
    "duration": 0,
    "start_time": "2025-04-03T01:50:22.019Z"
   },
   {
    "duration": 0,
    "start_time": "2025-04-03T01:50:22.020Z"
   },
   {
    "duration": 0,
    "start_time": "2025-04-03T01:50:22.021Z"
   },
   {
    "duration": 0,
    "start_time": "2025-04-03T01:50:22.022Z"
   },
   {
    "duration": 0,
    "start_time": "2025-04-03T01:50:22.023Z"
   },
   {
    "duration": 0,
    "start_time": "2025-04-03T01:50:22.025Z"
   },
   {
    "duration": 0,
    "start_time": "2025-04-03T01:50:22.026Z"
   },
   {
    "duration": 0,
    "start_time": "2025-04-03T01:50:22.027Z"
   },
   {
    "duration": 0,
    "start_time": "2025-04-03T01:50:22.028Z"
   },
   {
    "duration": 4481,
    "start_time": "2025-04-03T01:51:46.539Z"
   },
   {
    "duration": 3,
    "start_time": "2025-04-03T01:52:02.975Z"
   },
   {
    "duration": 2163,
    "start_time": "2025-04-03T01:52:02.980Z"
   },
   {
    "duration": 0,
    "start_time": "2025-04-03T01:52:05.147Z"
   },
   {
    "duration": 0,
    "start_time": "2025-04-03T01:52:05.148Z"
   },
   {
    "duration": 0,
    "start_time": "2025-04-03T01:52:05.149Z"
   },
   {
    "duration": 0,
    "start_time": "2025-04-03T01:52:05.150Z"
   },
   {
    "duration": 0,
    "start_time": "2025-04-03T01:52:05.151Z"
   },
   {
    "duration": 0,
    "start_time": "2025-04-03T01:52:05.152Z"
   },
   {
    "duration": 0,
    "start_time": "2025-04-03T01:52:05.153Z"
   },
   {
    "duration": 0,
    "start_time": "2025-04-03T01:52:05.155Z"
   },
   {
    "duration": 0,
    "start_time": "2025-04-03T01:52:05.156Z"
   },
   {
    "duration": 0,
    "start_time": "2025-04-03T01:52:05.157Z"
   },
   {
    "duration": 0,
    "start_time": "2025-04-03T01:52:05.158Z"
   },
   {
    "duration": 0,
    "start_time": "2025-04-03T01:52:05.159Z"
   },
   {
    "duration": 0,
    "start_time": "2025-04-03T01:52:05.160Z"
   },
   {
    "duration": 0,
    "start_time": "2025-04-03T01:52:05.161Z"
   },
   {
    "duration": 0,
    "start_time": "2025-04-03T01:52:05.161Z"
   },
   {
    "duration": 0,
    "start_time": "2025-04-03T01:52:05.163Z"
   },
   {
    "duration": 0,
    "start_time": "2025-04-03T01:52:05.164Z"
   },
   {
    "duration": 0,
    "start_time": "2025-04-03T01:52:05.165Z"
   },
   {
    "duration": 0,
    "start_time": "2025-04-03T01:52:05.167Z"
   },
   {
    "duration": 0,
    "start_time": "2025-04-03T01:52:05.168Z"
   },
   {
    "duration": 0,
    "start_time": "2025-04-03T01:52:05.169Z"
   },
   {
    "duration": 0,
    "start_time": "2025-04-03T01:52:05.170Z"
   },
   {
    "duration": 0,
    "start_time": "2025-04-03T01:52:05.171Z"
   },
   {
    "duration": 0,
    "start_time": "2025-04-03T01:52:05.206Z"
   },
   {
    "duration": 0,
    "start_time": "2025-04-03T01:52:05.207Z"
   },
   {
    "duration": 0,
    "start_time": "2025-04-03T01:52:05.208Z"
   },
   {
    "duration": 0,
    "start_time": "2025-04-03T01:52:05.209Z"
   },
   {
    "duration": 0,
    "start_time": "2025-04-03T01:52:05.210Z"
   },
   {
    "duration": 0,
    "start_time": "2025-04-03T01:52:05.211Z"
   },
   {
    "duration": 0,
    "start_time": "2025-04-03T01:52:05.212Z"
   },
   {
    "duration": 0,
    "start_time": "2025-04-03T01:52:05.213Z"
   },
   {
    "duration": 0,
    "start_time": "2025-04-03T01:52:05.214Z"
   },
   {
    "duration": 0,
    "start_time": "2025-04-03T01:52:05.215Z"
   },
   {
    "duration": 0,
    "start_time": "2025-04-03T01:52:05.216Z"
   },
   {
    "duration": 1,
    "start_time": "2025-04-03T01:52:05.217Z"
   },
   {
    "duration": 0,
    "start_time": "2025-04-03T01:52:05.218Z"
   },
   {
    "duration": 0,
    "start_time": "2025-04-03T01:52:05.220Z"
   },
   {
    "duration": 0,
    "start_time": "2025-04-03T01:52:05.220Z"
   },
   {
    "duration": 0,
    "start_time": "2025-04-03T01:52:05.222Z"
   },
   {
    "duration": 0,
    "start_time": "2025-04-03T01:52:05.222Z"
   },
   {
    "duration": 0,
    "start_time": "2025-04-03T01:52:05.224Z"
   },
   {
    "duration": 0,
    "start_time": "2025-04-03T01:52:05.225Z"
   },
   {
    "duration": 0,
    "start_time": "2025-04-03T01:52:05.226Z"
   },
   {
    "duration": 0,
    "start_time": "2025-04-03T01:52:05.227Z"
   },
   {
    "duration": 0,
    "start_time": "2025-04-03T01:52:05.228Z"
   },
   {
    "duration": 0,
    "start_time": "2025-04-03T01:52:05.229Z"
   },
   {
    "duration": 0,
    "start_time": "2025-04-03T01:52:05.230Z"
   },
   {
    "duration": 0,
    "start_time": "2025-04-03T01:52:05.231Z"
   },
   {
    "duration": 0,
    "start_time": "2025-04-03T01:52:05.232Z"
   },
   {
    "duration": 0,
    "start_time": "2025-04-03T01:52:05.233Z"
   },
   {
    "duration": 0,
    "start_time": "2025-04-03T01:52:05.234Z"
   },
   {
    "duration": 1,
    "start_time": "2025-04-03T01:52:05.235Z"
   },
   {
    "duration": 0,
    "start_time": "2025-04-03T01:52:05.237Z"
   },
   {
    "duration": 0,
    "start_time": "2025-04-03T01:52:05.238Z"
   },
   {
    "duration": 0,
    "start_time": "2025-04-03T01:52:05.239Z"
   },
   {
    "duration": 0,
    "start_time": "2025-04-03T01:52:05.240Z"
   },
   {
    "duration": 0,
    "start_time": "2025-04-03T01:52:05.241Z"
   },
   {
    "duration": 0,
    "start_time": "2025-04-03T01:52:05.306Z"
   },
   {
    "duration": 0,
    "start_time": "2025-04-03T01:52:05.307Z"
   },
   {
    "duration": 0,
    "start_time": "2025-04-03T01:52:05.308Z"
   },
   {
    "duration": 0,
    "start_time": "2025-04-03T01:52:05.309Z"
   },
   {
    "duration": 0,
    "start_time": "2025-04-03T01:52:05.310Z"
   },
   {
    "duration": 0,
    "start_time": "2025-04-03T01:52:05.312Z"
   },
   {
    "duration": 0,
    "start_time": "2025-04-03T01:52:05.313Z"
   },
   {
    "duration": 0,
    "start_time": "2025-04-03T01:52:05.314Z"
   },
   {
    "duration": 0,
    "start_time": "2025-04-03T01:52:05.315Z"
   },
   {
    "duration": 0,
    "start_time": "2025-04-03T01:52:05.316Z"
   },
   {
    "duration": 0,
    "start_time": "2025-04-03T01:52:05.317Z"
   },
   {
    "duration": 0,
    "start_time": "2025-04-03T01:52:05.318Z"
   },
   {
    "duration": 0,
    "start_time": "2025-04-03T01:52:05.319Z"
   },
   {
    "duration": 0,
    "start_time": "2025-04-03T01:52:05.320Z"
   },
   {
    "duration": 0,
    "start_time": "2025-04-03T01:52:05.321Z"
   },
   {
    "duration": 0,
    "start_time": "2025-04-03T01:52:05.322Z"
   },
   {
    "duration": 0,
    "start_time": "2025-04-03T01:52:05.322Z"
   },
   {
    "duration": 0,
    "start_time": "2025-04-03T01:52:05.323Z"
   },
   {
    "duration": 0,
    "start_time": "2025-04-03T01:52:05.324Z"
   },
   {
    "duration": 0,
    "start_time": "2025-04-03T01:52:05.325Z"
   },
   {
    "duration": 0,
    "start_time": "2025-04-03T01:52:05.327Z"
   },
   {
    "duration": 0,
    "start_time": "2025-04-03T01:52:05.327Z"
   },
   {
    "duration": 29528,
    "start_time": "2025-04-03T01:52:36.939Z"
   },
   {
    "duration": 3,
    "start_time": "2025-04-03T01:53:27.612Z"
   },
   {
    "duration": 2251,
    "start_time": "2025-04-03T01:53:27.617Z"
   },
   {
    "duration": 0,
    "start_time": "2025-04-03T01:53:29.872Z"
   },
   {
    "duration": 0,
    "start_time": "2025-04-03T01:53:29.873Z"
   },
   {
    "duration": 0,
    "start_time": "2025-04-03T01:53:29.875Z"
   },
   {
    "duration": 0,
    "start_time": "2025-04-03T01:53:29.876Z"
   },
   {
    "duration": 0,
    "start_time": "2025-04-03T01:53:29.877Z"
   },
   {
    "duration": 0,
    "start_time": "2025-04-03T01:53:29.878Z"
   },
   {
    "duration": 0,
    "start_time": "2025-04-03T01:53:29.879Z"
   },
   {
    "duration": 0,
    "start_time": "2025-04-03T01:53:29.881Z"
   },
   {
    "duration": 1,
    "start_time": "2025-04-03T01:53:29.881Z"
   },
   {
    "duration": 0,
    "start_time": "2025-04-03T01:53:29.883Z"
   },
   {
    "duration": 0,
    "start_time": "2025-04-03T01:53:29.885Z"
   },
   {
    "duration": 0,
    "start_time": "2025-04-03T01:53:29.905Z"
   },
   {
    "duration": 0,
    "start_time": "2025-04-03T01:53:29.906Z"
   },
   {
    "duration": 0,
    "start_time": "2025-04-03T01:53:29.908Z"
   },
   {
    "duration": 0,
    "start_time": "2025-04-03T01:53:29.909Z"
   },
   {
    "duration": 0,
    "start_time": "2025-04-03T01:53:29.910Z"
   },
   {
    "duration": 1,
    "start_time": "2025-04-03T01:53:29.911Z"
   },
   {
    "duration": 0,
    "start_time": "2025-04-03T01:53:29.913Z"
   },
   {
    "duration": 0,
    "start_time": "2025-04-03T01:53:29.914Z"
   },
   {
    "duration": 0,
    "start_time": "2025-04-03T01:53:29.915Z"
   },
   {
    "duration": 0,
    "start_time": "2025-04-03T01:53:29.916Z"
   },
   {
    "duration": 0,
    "start_time": "2025-04-03T01:53:29.917Z"
   },
   {
    "duration": 0,
    "start_time": "2025-04-03T01:53:29.918Z"
   },
   {
    "duration": 0,
    "start_time": "2025-04-03T01:53:29.919Z"
   },
   {
    "duration": 0,
    "start_time": "2025-04-03T01:53:29.920Z"
   },
   {
    "duration": 0,
    "start_time": "2025-04-03T01:53:29.921Z"
   },
   {
    "duration": 1,
    "start_time": "2025-04-03T01:53:29.922Z"
   },
   {
    "duration": 1,
    "start_time": "2025-04-03T01:53:29.923Z"
   },
   {
    "duration": 0,
    "start_time": "2025-04-03T01:53:29.925Z"
   },
   {
    "duration": 0,
    "start_time": "2025-04-03T01:53:29.926Z"
   },
   {
    "duration": 0,
    "start_time": "2025-04-03T01:53:29.927Z"
   },
   {
    "duration": 0,
    "start_time": "2025-04-03T01:53:29.928Z"
   },
   {
    "duration": 0,
    "start_time": "2025-04-03T01:53:29.929Z"
   },
   {
    "duration": 0,
    "start_time": "2025-04-03T01:53:29.930Z"
   },
   {
    "duration": 0,
    "start_time": "2025-04-03T01:53:29.931Z"
   },
   {
    "duration": 0,
    "start_time": "2025-04-03T01:53:29.932Z"
   },
   {
    "duration": 0,
    "start_time": "2025-04-03T01:53:29.933Z"
   },
   {
    "duration": 0,
    "start_time": "2025-04-03T01:53:29.934Z"
   },
   {
    "duration": 0,
    "start_time": "2025-04-03T01:53:29.935Z"
   },
   {
    "duration": 0,
    "start_time": "2025-04-03T01:53:29.936Z"
   },
   {
    "duration": 0,
    "start_time": "2025-04-03T01:53:29.937Z"
   },
   {
    "duration": 0,
    "start_time": "2025-04-03T01:53:29.938Z"
   },
   {
    "duration": 0,
    "start_time": "2025-04-03T01:53:29.939Z"
   },
   {
    "duration": 0,
    "start_time": "2025-04-03T01:53:29.940Z"
   },
   {
    "duration": 0,
    "start_time": "2025-04-03T01:53:29.941Z"
   },
   {
    "duration": 0,
    "start_time": "2025-04-03T01:53:29.942Z"
   },
   {
    "duration": 0,
    "start_time": "2025-04-03T01:53:29.943Z"
   },
   {
    "duration": 0,
    "start_time": "2025-04-03T01:53:30.006Z"
   },
   {
    "duration": 0,
    "start_time": "2025-04-03T01:53:30.007Z"
   },
   {
    "duration": 0,
    "start_time": "2025-04-03T01:53:30.009Z"
   },
   {
    "duration": 0,
    "start_time": "2025-04-03T01:53:30.010Z"
   },
   {
    "duration": 0,
    "start_time": "2025-04-03T01:53:30.012Z"
   },
   {
    "duration": 0,
    "start_time": "2025-04-03T01:53:30.013Z"
   },
   {
    "duration": 0,
    "start_time": "2025-04-03T01:53:30.015Z"
   },
   {
    "duration": 0,
    "start_time": "2025-04-03T01:53:30.016Z"
   },
   {
    "duration": 0,
    "start_time": "2025-04-03T01:53:30.017Z"
   },
   {
    "duration": 0,
    "start_time": "2025-04-03T01:53:30.019Z"
   },
   {
    "duration": 0,
    "start_time": "2025-04-03T01:53:30.020Z"
   },
   {
    "duration": 0,
    "start_time": "2025-04-03T01:53:30.022Z"
   },
   {
    "duration": 0,
    "start_time": "2025-04-03T01:53:30.024Z"
   },
   {
    "duration": 0,
    "start_time": "2025-04-03T01:53:30.025Z"
   },
   {
    "duration": 0,
    "start_time": "2025-04-03T01:53:30.026Z"
   },
   {
    "duration": 0,
    "start_time": "2025-04-03T01:53:30.028Z"
   },
   {
    "duration": 0,
    "start_time": "2025-04-03T01:53:30.029Z"
   },
   {
    "duration": 0,
    "start_time": "2025-04-03T01:53:30.030Z"
   },
   {
    "duration": 0,
    "start_time": "2025-04-03T01:53:30.032Z"
   },
   {
    "duration": 0,
    "start_time": "2025-04-03T01:53:30.033Z"
   },
   {
    "duration": 0,
    "start_time": "2025-04-03T01:53:30.034Z"
   },
   {
    "duration": 0,
    "start_time": "2025-04-03T01:53:30.035Z"
   },
   {
    "duration": 0,
    "start_time": "2025-04-03T01:53:30.036Z"
   },
   {
    "duration": 0,
    "start_time": "2025-04-03T01:53:30.037Z"
   },
   {
    "duration": 0,
    "start_time": "2025-04-03T01:53:30.038Z"
   },
   {
    "duration": 0,
    "start_time": "2025-04-03T01:53:30.039Z"
   },
   {
    "duration": 0,
    "start_time": "2025-04-03T01:53:30.040Z"
   },
   {
    "duration": 0,
    "start_time": "2025-04-03T01:53:30.041Z"
   },
   {
    "duration": 0,
    "start_time": "2025-04-03T01:53:30.042Z"
   },
   {
    "duration": 0,
    "start_time": "2025-04-03T01:53:30.105Z"
   },
   {
    "duration": 0,
    "start_time": "2025-04-03T01:53:30.107Z"
   },
   {
    "duration": 0,
    "start_time": "2025-04-03T01:53:30.108Z"
   },
   {
    "duration": 3,
    "start_time": "2025-04-03T01:53:57.485Z"
   },
   {
    "duration": 2062,
    "start_time": "2025-04-03T01:53:57.491Z"
   },
   {
    "duration": 89,
    "start_time": "2025-04-03T01:53:59.555Z"
   },
   {
    "duration": 29,
    "start_time": "2025-04-03T01:53:59.647Z"
   },
   {
    "duration": 13,
    "start_time": "2025-04-03T01:53:59.679Z"
   },
   {
    "duration": 12,
    "start_time": "2025-04-03T01:53:59.694Z"
   },
   {
    "duration": 11,
    "start_time": "2025-04-03T01:53:59.707Z"
   },
   {
    "duration": 10,
    "start_time": "2025-04-03T01:53:59.720Z"
   },
   {
    "duration": 10,
    "start_time": "2025-04-03T01:53:59.731Z"
   },
   {
    "duration": 4,
    "start_time": "2025-04-03T01:53:59.742Z"
   },
   {
    "duration": 9,
    "start_time": "2025-04-03T01:53:59.748Z"
   },
   {
    "duration": 7,
    "start_time": "2025-04-03T01:53:59.758Z"
   },
   {
    "duration": 42,
    "start_time": "2025-04-03T01:53:59.767Z"
   },
   {
    "duration": 34,
    "start_time": "2025-04-03T01:53:59.813Z"
   },
   {
    "duration": 31,
    "start_time": "2025-04-03T01:53:59.849Z"
   },
   {
    "duration": 12,
    "start_time": "2025-04-03T01:53:59.905Z"
   },
   {
    "duration": 5,
    "start_time": "2025-04-03T01:53:59.918Z"
   },
   {
    "duration": 16,
    "start_time": "2025-04-03T01:53:59.925Z"
   },
   {
    "duration": 5,
    "start_time": "2025-04-03T01:53:59.943Z"
   },
   {
    "duration": 4,
    "start_time": "2025-04-03T01:53:59.950Z"
   },
   {
    "duration": 6,
    "start_time": "2025-04-03T01:53:59.956Z"
   },
   {
    "duration": 6,
    "start_time": "2025-04-03T01:53:59.964Z"
   },
   {
    "duration": 11,
    "start_time": "2025-04-03T01:54:00.004Z"
   },
   {
    "duration": 36,
    "start_time": "2025-04-03T01:54:00.017Z"
   },
   {
    "duration": 897,
    "start_time": "2025-04-03T01:54:00.054Z"
   },
   {
    "duration": 160,
    "start_time": "2025-04-03T01:54:00.953Z"
   },
   {
    "duration": 0,
    "start_time": "2025-04-03T01:54:01.116Z"
   },
   {
    "duration": 0,
    "start_time": "2025-04-03T01:54:01.117Z"
   },
   {
    "duration": 0,
    "start_time": "2025-04-03T01:54:01.118Z"
   },
   {
    "duration": 0,
    "start_time": "2025-04-03T01:54:01.120Z"
   },
   {
    "duration": 0,
    "start_time": "2025-04-03T01:54:01.121Z"
   },
   {
    "duration": 0,
    "start_time": "2025-04-03T01:54:01.122Z"
   },
   {
    "duration": 0,
    "start_time": "2025-04-03T01:54:01.123Z"
   },
   {
    "duration": 0,
    "start_time": "2025-04-03T01:54:01.124Z"
   },
   {
    "duration": 0,
    "start_time": "2025-04-03T01:54:01.125Z"
   },
   {
    "duration": 0,
    "start_time": "2025-04-03T01:54:01.126Z"
   },
   {
    "duration": 0,
    "start_time": "2025-04-03T01:54:01.127Z"
   },
   {
    "duration": 0,
    "start_time": "2025-04-03T01:54:01.129Z"
   },
   {
    "duration": 0,
    "start_time": "2025-04-03T01:54:01.130Z"
   },
   {
    "duration": 0,
    "start_time": "2025-04-03T01:54:01.131Z"
   },
   {
    "duration": 0,
    "start_time": "2025-04-03T01:54:01.132Z"
   },
   {
    "duration": 0,
    "start_time": "2025-04-03T01:54:01.133Z"
   },
   {
    "duration": 0,
    "start_time": "2025-04-03T01:54:01.134Z"
   },
   {
    "duration": 0,
    "start_time": "2025-04-03T01:54:01.135Z"
   },
   {
    "duration": 0,
    "start_time": "2025-04-03T01:54:01.136Z"
   },
   {
    "duration": 0,
    "start_time": "2025-04-03T01:54:01.138Z"
   },
   {
    "duration": 0,
    "start_time": "2025-04-03T01:54:01.139Z"
   },
   {
    "duration": 0,
    "start_time": "2025-04-03T01:54:01.140Z"
   },
   {
    "duration": 0,
    "start_time": "2025-04-03T01:54:01.141Z"
   },
   {
    "duration": 0,
    "start_time": "2025-04-03T01:54:01.142Z"
   },
   {
    "duration": 0,
    "start_time": "2025-04-03T01:54:01.143Z"
   },
   {
    "duration": 0,
    "start_time": "2025-04-03T01:54:01.145Z"
   },
   {
    "duration": 0,
    "start_time": "2025-04-03T01:54:01.146Z"
   },
   {
    "duration": 0,
    "start_time": "2025-04-03T01:54:01.147Z"
   },
   {
    "duration": 0,
    "start_time": "2025-04-03T01:54:01.148Z"
   },
   {
    "duration": 0,
    "start_time": "2025-04-03T01:54:01.205Z"
   },
   {
    "duration": 0,
    "start_time": "2025-04-03T01:54:01.207Z"
   },
   {
    "duration": 0,
    "start_time": "2025-04-03T01:54:01.208Z"
   },
   {
    "duration": 0,
    "start_time": "2025-04-03T01:54:01.209Z"
   },
   {
    "duration": 0,
    "start_time": "2025-04-03T01:54:01.210Z"
   },
   {
    "duration": 0,
    "start_time": "2025-04-03T01:54:01.211Z"
   },
   {
    "duration": 0,
    "start_time": "2025-04-03T01:54:01.212Z"
   },
   {
    "duration": 0,
    "start_time": "2025-04-03T01:54:01.213Z"
   },
   {
    "duration": 0,
    "start_time": "2025-04-03T01:54:01.214Z"
   },
   {
    "duration": 0,
    "start_time": "2025-04-03T01:54:01.215Z"
   },
   {
    "duration": 0,
    "start_time": "2025-04-03T01:54:01.216Z"
   },
   {
    "duration": 0,
    "start_time": "2025-04-03T01:54:01.217Z"
   },
   {
    "duration": 0,
    "start_time": "2025-04-03T01:54:01.218Z"
   },
   {
    "duration": 0,
    "start_time": "2025-04-03T01:54:01.220Z"
   },
   {
    "duration": 0,
    "start_time": "2025-04-03T01:54:01.220Z"
   },
   {
    "duration": 0,
    "start_time": "2025-04-03T01:54:01.221Z"
   },
   {
    "duration": 0,
    "start_time": "2025-04-03T01:54:01.223Z"
   },
   {
    "duration": 0,
    "start_time": "2025-04-03T01:54:01.225Z"
   },
   {
    "duration": 0,
    "start_time": "2025-04-03T01:54:01.226Z"
   },
   {
    "duration": 0,
    "start_time": "2025-04-03T01:54:01.227Z"
   },
   {
    "duration": 0,
    "start_time": "2025-04-03T01:54:01.228Z"
   },
   {
    "duration": 0,
    "start_time": "2025-04-03T01:54:01.229Z"
   },
   {
    "duration": 0,
    "start_time": "2025-04-03T01:54:01.230Z"
   },
   {
    "duration": 0,
    "start_time": "2025-04-03T01:54:01.231Z"
   },
   {
    "duration": 0,
    "start_time": "2025-04-03T01:54:01.232Z"
   },
   {
    "duration": 0,
    "start_time": "2025-04-03T01:54:01.234Z"
   },
   {
    "duration": 837,
    "start_time": "2025-04-03T01:55:01.546Z"
   },
   {
    "duration": 916,
    "start_time": "2025-04-03T01:55:14.370Z"
   },
   {
    "duration": 924,
    "start_time": "2025-04-03T01:55:15.288Z"
   },
   {
    "duration": 706,
    "start_time": "2025-04-03T01:55:16.214Z"
   },
   {
    "duration": 596,
    "start_time": "2025-04-03T01:55:16.922Z"
   },
   {
    "duration": 1678,
    "start_time": "2025-04-03T01:55:17.520Z"
   },
   {
    "duration": 1852,
    "start_time": "2025-04-03T01:55:19.200Z"
   },
   {
    "duration": 354,
    "start_time": "2025-04-03T01:55:21.054Z"
   },
   {
    "duration": 367,
    "start_time": "2025-04-03T01:55:21.410Z"
   },
   {
    "duration": 4,
    "start_time": "2025-04-03T01:55:21.779Z"
   },
   {
    "duration": 921,
    "start_time": "2025-04-03T01:55:21.785Z"
   },
   {
    "duration": 6,
    "start_time": "2025-04-03T01:55:22.708Z"
   },
   {
    "duration": 46,
    "start_time": "2025-04-03T01:55:22.715Z"
   },
   {
    "duration": 14,
    "start_time": "2025-04-03T01:55:22.763Z"
   },
   {
    "duration": 8,
    "start_time": "2025-04-03T01:55:22.780Z"
   },
   {
    "duration": 21,
    "start_time": "2025-04-03T01:55:22.789Z"
   },
   {
    "duration": 3,
    "start_time": "2025-04-03T01:55:22.812Z"
   },
   {
    "duration": 6,
    "start_time": "2025-04-03T01:55:22.817Z"
   },
   {
    "duration": 10111,
    "start_time": "2025-04-03T01:55:22.825Z"
   },
   {
    "duration": 4,
    "start_time": "2025-04-03T01:55:32.937Z"
   },
   {
    "duration": 800,
    "start_time": "2025-04-03T01:55:32.943Z"
   },
   {
    "duration": 63,
    "start_time": "2025-04-03T01:55:33.745Z"
   },
   {
    "duration": 12,
    "start_time": "2025-04-03T01:55:33.809Z"
   },
   {
    "duration": 12,
    "start_time": "2025-04-03T01:55:33.823Z"
   },
   {
    "duration": 12,
    "start_time": "2025-04-03T01:55:33.836Z"
   },
   {
    "duration": 39,
    "start_time": "2025-04-03T01:55:33.850Z"
   },
   {
    "duration": 21,
    "start_time": "2025-04-03T01:55:33.891Z"
   },
   {
    "duration": 9,
    "start_time": "2025-04-03T01:55:33.914Z"
   },
   {
    "duration": 8,
    "start_time": "2025-04-03T01:55:33.925Z"
   },
   {
    "duration": 6,
    "start_time": "2025-04-03T01:55:33.934Z"
   },
   {
    "duration": 22,
    "start_time": "2025-04-03T01:55:33.942Z"
   },
   {
    "duration": 50,
    "start_time": "2025-04-03T01:55:33.966Z"
   },
   {
    "duration": 33,
    "start_time": "2025-04-03T01:55:34.017Z"
   },
   {
    "duration": 9,
    "start_time": "2025-04-03T01:55:34.052Z"
   },
   {
    "duration": 25,
    "start_time": "2025-04-03T01:55:34.062Z"
   },
   {
    "duration": 30,
    "start_time": "2025-04-03T01:55:34.089Z"
   },
   {
    "duration": 0,
    "start_time": "2025-04-03T01:55:34.121Z"
   },
   {
    "duration": 0,
    "start_time": "2025-04-03T01:55:34.122Z"
   },
   {
    "duration": 0,
    "start_time": "2025-04-03T01:55:34.123Z"
   },
   {
    "duration": 0,
    "start_time": "2025-04-03T01:55:34.124Z"
   },
   {
    "duration": 0,
    "start_time": "2025-04-03T01:55:34.125Z"
   },
   {
    "duration": 0,
    "start_time": "2025-04-03T01:55:34.126Z"
   },
   {
    "duration": 0,
    "start_time": "2025-04-03T01:55:34.127Z"
   },
   {
    "duration": 0,
    "start_time": "2025-04-03T01:55:34.128Z"
   },
   {
    "duration": 0,
    "start_time": "2025-04-03T01:55:34.130Z"
   },
   {
    "duration": 0,
    "start_time": "2025-04-03T01:55:34.131Z"
   },
   {
    "duration": 0,
    "start_time": "2025-04-03T01:55:34.132Z"
   },
   {
    "duration": 0,
    "start_time": "2025-04-03T01:55:34.133Z"
   },
   {
    "duration": 0,
    "start_time": "2025-04-03T01:55:34.134Z"
   },
   {
    "duration": 0,
    "start_time": "2025-04-03T01:55:34.135Z"
   },
   {
    "duration": 0,
    "start_time": "2025-04-03T01:55:34.136Z"
   },
   {
    "duration": 0,
    "start_time": "2025-04-03T01:55:34.137Z"
   },
   {
    "duration": 0,
    "start_time": "2025-04-03T01:55:34.138Z"
   },
   {
    "duration": 0,
    "start_time": "2025-04-03T01:55:34.139Z"
   },
   {
    "duration": 0,
    "start_time": "2025-04-03T01:55:34.140Z"
   },
   {
    "duration": 0,
    "start_time": "2025-04-03T01:55:34.141Z"
   },
   {
    "duration": 398,
    "start_time": "2025-04-03T01:56:22.086Z"
   },
   {
    "duration": 582,
    "start_time": "2025-04-03T01:56:36.615Z"
   },
   {
    "duration": 630,
    "start_time": "2025-04-03T01:56:58.742Z"
   },
   {
    "duration": 914,
    "start_time": "2025-04-03T01:57:14.409Z"
   },
   {
    "duration": 1050,
    "start_time": "2025-04-03T01:57:15.325Z"
   },
   {
    "duration": 532,
    "start_time": "2025-04-03T01:57:16.376Z"
   },
   {
    "duration": 503,
    "start_time": "2025-04-03T01:57:16.910Z"
   },
   {
    "duration": 1731,
    "start_time": "2025-04-03T01:57:17.415Z"
   },
   {
    "duration": 1949,
    "start_time": "2025-04-03T01:57:19.148Z"
   },
   {
    "duration": 339,
    "start_time": "2025-04-03T01:57:21.099Z"
   },
   {
    "duration": 319,
    "start_time": "2025-04-03T01:57:21.440Z"
   },
   {
    "duration": 803,
    "start_time": "2025-04-03T01:57:21.761Z"
   },
   {
    "duration": 8,
    "start_time": "2025-04-03T01:57:22.565Z"
   },
   {
    "duration": 9,
    "start_time": "2025-04-03T01:57:22.574Z"
   },
   {
    "duration": 52,
    "start_time": "2025-04-03T01:57:22.585Z"
   },
   {
    "duration": 866,
    "start_time": "2025-04-03T01:57:22.639Z"
   },
   {
    "duration": 8,
    "start_time": "2025-04-03T01:57:23.508Z"
   },
   {
    "duration": 24,
    "start_time": "2025-04-03T01:57:23.517Z"
   },
   {
    "duration": 24656,
    "start_time": "2025-04-03T01:57:23.542Z"
   },
   {
    "duration": 14,
    "start_time": "2025-04-03T01:57:48.204Z"
   },
   {
    "duration": 15,
    "start_time": "2025-04-03T01:57:48.220Z"
   },
   {
    "duration": 64201,
    "start_time": "2025-04-03T01:57:48.237Z"
   },
   {
    "duration": 21,
    "start_time": "2025-04-03T02:00:12.892Z"
   },
   {
    "duration": 299,
    "start_time": "2025-04-03T02:07:05.139Z"
   },
   {
    "duration": 213,
    "start_time": "2025-04-03T02:07:39.142Z"
   },
   {
    "duration": 344,
    "start_time": "2025-04-03T02:29:08.658Z"
   },
   {
    "duration": 293,
    "start_time": "2025-04-03T02:29:27.838Z"
   },
   {
    "duration": 261,
    "start_time": "2025-04-03T02:31:05.210Z"
   },
   {
    "duration": 9,
    "start_time": "2025-04-03T02:33:03.862Z"
   },
   {
    "duration": 4,
    "start_time": "2025-04-03T02:43:08.264Z"
   },
   {
    "duration": 12,
    "start_time": "2025-04-03T02:43:26.463Z"
   },
   {
    "duration": 4,
    "start_time": "2025-04-03T02:43:38.628Z"
   },
   {
    "duration": 18,
    "start_time": "2025-04-03T02:43:38.963Z"
   },
   {
    "duration": 5,
    "start_time": "2025-04-03T02:43:52.153Z"
   },
   {
    "duration": 834,
    "start_time": "2025-04-03T02:43:52.714Z"
   },
   {
    "duration": 5,
    "start_time": "2025-04-03T02:46:56.830Z"
   },
   {
    "duration": 5,
    "start_time": "2025-04-03T02:48:35.928Z"
   },
   {
    "duration": 626,
    "start_time": "2025-04-03T02:48:37.480Z"
   },
   {
    "duration": 5,
    "start_time": "2025-04-03T02:48:45.461Z"
   },
   {
    "duration": 1011,
    "start_time": "2025-04-03T02:48:45.981Z"
   },
   {
    "duration": 4,
    "start_time": "2025-04-03T02:48:57.309Z"
   },
   {
    "duration": 891,
    "start_time": "2025-04-03T02:48:57.690Z"
   },
   {
    "duration": 5,
    "start_time": "2025-04-03T02:49:56.431Z"
   },
   {
    "duration": 614,
    "start_time": "2025-04-03T02:49:56.670Z"
   },
   {
    "duration": 5,
    "start_time": "2025-04-03T02:50:22.422Z"
   },
   {
    "duration": 949,
    "start_time": "2025-04-03T02:50:22.637Z"
   },
   {
    "duration": 5,
    "start_time": "2025-04-03T02:56:33.441Z"
   },
   {
    "duration": 1140,
    "start_time": "2025-04-03T02:56:34.004Z"
   },
   {
    "duration": 5,
    "start_time": "2025-04-03T02:58:56.222Z"
   },
   {
    "duration": 588,
    "start_time": "2025-04-03T02:58:56.472Z"
   },
   {
    "duration": 4,
    "start_time": "2025-04-03T02:59:18.644Z"
   },
   {
    "duration": 665,
    "start_time": "2025-04-03T02:59:19.424Z"
   },
   {
    "duration": 697,
    "start_time": "2025-04-03T02:59:48.180Z"
   },
   {
    "duration": 94,
    "start_time": "2025-04-03T02:59:59.179Z"
   },
   {
    "duration": 4,
    "start_time": "2025-04-03T06:31:07.703Z"
   },
   {
    "duration": 2039,
    "start_time": "2025-04-03T06:31:07.709Z"
   },
   {
    "duration": 67,
    "start_time": "2025-04-03T06:31:09.749Z"
   },
   {
    "duration": 21,
    "start_time": "2025-04-03T06:31:09.819Z"
   },
   {
    "duration": 14,
    "start_time": "2025-04-03T06:31:09.841Z"
   },
   {
    "duration": 11,
    "start_time": "2025-04-03T06:31:09.856Z"
   },
   {
    "duration": 14,
    "start_time": "2025-04-03T06:31:09.869Z"
   },
   {
    "duration": 27,
    "start_time": "2025-04-03T06:31:09.885Z"
   },
   {
    "duration": 42,
    "start_time": "2025-04-03T06:31:09.915Z"
   },
   {
    "duration": 3,
    "start_time": "2025-04-03T06:31:09.959Z"
   },
   {
    "duration": 9,
    "start_time": "2025-04-03T06:31:09.963Z"
   },
   {
    "duration": 15,
    "start_time": "2025-04-03T06:31:09.973Z"
   },
   {
    "duration": 22,
    "start_time": "2025-04-03T06:31:09.990Z"
   },
   {
    "duration": 53,
    "start_time": "2025-04-03T06:31:10.014Z"
   },
   {
    "duration": 28,
    "start_time": "2025-04-03T06:31:10.069Z"
   },
   {
    "duration": 100,
    "start_time": "2025-04-03T06:31:10.099Z"
   },
   {
    "duration": 26,
    "start_time": "2025-04-03T06:31:10.200Z"
   },
   {
    "duration": 20,
    "start_time": "2025-04-03T06:31:10.227Z"
   },
   {
    "duration": 4,
    "start_time": "2025-04-03T06:31:10.249Z"
   },
   {
    "duration": 15,
    "start_time": "2025-04-03T06:31:10.255Z"
   },
   {
    "duration": 70,
    "start_time": "2025-04-03T06:31:10.271Z"
   },
   {
    "duration": 9,
    "start_time": "2025-04-03T06:31:10.343Z"
   },
   {
    "duration": 377,
    "start_time": "2025-04-03T06:31:10.354Z"
   },
   {
    "duration": 254,
    "start_time": "2025-04-03T06:31:10.735Z"
   },
   {
    "duration": 17,
    "start_time": "2025-04-03T06:31:10.991Z"
   },
   {
    "duration": 9,
    "start_time": "2025-04-03T06:31:11.010Z"
   },
   {
    "duration": 15,
    "start_time": "2025-04-03T06:31:11.020Z"
   },
   {
    "duration": 875,
    "start_time": "2025-04-03T06:31:11.037Z"
   },
   {
    "duration": 802,
    "start_time": "2025-04-03T06:31:11.913Z"
   },
   {
    "duration": 880,
    "start_time": "2025-04-03T06:31:12.716Z"
   },
   {
    "duration": 1025,
    "start_time": "2025-04-03T06:31:13.598Z"
   },
   {
    "duration": 720,
    "start_time": "2025-04-03T06:31:14.626Z"
   },
   {
    "duration": 733,
    "start_time": "2025-04-03T06:31:15.348Z"
   },
   {
    "duration": 1827,
    "start_time": "2025-04-03T06:31:16.083Z"
   },
   {
    "duration": 1900,
    "start_time": "2025-04-03T06:31:17.912Z"
   },
   {
    "duration": 363,
    "start_time": "2025-04-03T06:31:19.815Z"
   },
   {
    "duration": 392,
    "start_time": "2025-04-03T06:31:20.180Z"
   },
   {
    "duration": 5,
    "start_time": "2025-04-03T06:31:20.574Z"
   },
   {
    "duration": 966,
    "start_time": "2025-04-03T06:31:20.580Z"
   },
   {
    "duration": 7,
    "start_time": "2025-04-03T06:31:21.548Z"
   },
   {
    "duration": 15,
    "start_time": "2025-04-03T06:31:21.556Z"
   },
   {
    "duration": 12,
    "start_time": "2025-04-03T06:31:21.573Z"
   },
   {
    "duration": 10,
    "start_time": "2025-04-03T06:31:21.587Z"
   },
   {
    "duration": 5,
    "start_time": "2025-04-03T06:31:21.599Z"
   },
   {
    "duration": 9,
    "start_time": "2025-04-03T06:31:21.606Z"
   },
   {
    "duration": 17,
    "start_time": "2025-04-03T06:31:21.616Z"
   },
   {
    "duration": 10898,
    "start_time": "2025-04-03T06:31:21.635Z"
   },
   {
    "duration": 4,
    "start_time": "2025-04-03T06:31:32.535Z"
   },
   {
    "duration": 796,
    "start_time": "2025-04-03T06:31:32.541Z"
   },
   {
    "duration": 64,
    "start_time": "2025-04-03T06:31:33.339Z"
   },
   {
    "duration": 13,
    "start_time": "2025-04-03T06:31:33.406Z"
   },
   {
    "duration": 25,
    "start_time": "2025-04-03T06:31:33.420Z"
   },
   {
    "duration": 35,
    "start_time": "2025-04-03T06:31:33.447Z"
   },
   {
    "duration": 33,
    "start_time": "2025-04-03T06:31:33.484Z"
   },
   {
    "duration": 11,
    "start_time": "2025-04-03T06:31:33.519Z"
   },
   {
    "duration": 22,
    "start_time": "2025-04-03T06:31:33.532Z"
   },
   {
    "duration": 10,
    "start_time": "2025-04-03T06:31:33.556Z"
   },
   {
    "duration": 13,
    "start_time": "2025-04-03T06:31:33.567Z"
   },
   {
    "duration": 43,
    "start_time": "2025-04-03T06:31:33.582Z"
   },
   {
    "duration": 35,
    "start_time": "2025-04-03T06:31:33.627Z"
   },
   {
    "duration": 33,
    "start_time": "2025-04-03T06:31:33.664Z"
   },
   {
    "duration": 9,
    "start_time": "2025-04-03T06:31:33.699Z"
   },
   {
    "duration": 18,
    "start_time": "2025-04-03T06:31:33.709Z"
   },
   {
    "duration": 678,
    "start_time": "2025-04-03T06:31:33.728Z"
   },
   {
    "duration": 660,
    "start_time": "2025-04-03T06:31:34.408Z"
   },
   {
    "duration": 922,
    "start_time": "2025-04-03T06:31:35.070Z"
   },
   {
    "duration": 1090,
    "start_time": "2025-04-03T06:31:35.996Z"
   },
   {
    "duration": 714,
    "start_time": "2025-04-03T06:31:37.088Z"
   },
   {
    "duration": 687,
    "start_time": "2025-04-03T06:31:37.809Z"
   },
   {
    "duration": 1803,
    "start_time": "2025-04-03T06:31:38.498Z"
   },
   {
    "duration": 1937,
    "start_time": "2025-04-03T06:31:40.305Z"
   },
   {
    "duration": 321,
    "start_time": "2025-04-03T06:31:42.244Z"
   },
   {
    "duration": 376,
    "start_time": "2025-04-03T06:31:42.567Z"
   },
   {
    "duration": 815,
    "start_time": "2025-04-03T06:31:42.945Z"
   },
   {
    "duration": 8,
    "start_time": "2025-04-03T06:31:43.761Z"
   },
   {
    "duration": 7,
    "start_time": "2025-04-03T06:31:43.771Z"
   },
   {
    "duration": 61,
    "start_time": "2025-04-03T06:31:43.779Z"
   },
   {
    "duration": 910,
    "start_time": "2025-04-03T06:31:43.842Z"
   },
   {
    "duration": 11,
    "start_time": "2025-04-03T06:31:44.754Z"
   },
   {
    "duration": 12,
    "start_time": "2025-04-03T06:31:44.767Z"
   },
   {
    "duration": 25304,
    "start_time": "2025-04-03T06:31:44.782Z"
   },
   {
    "duration": 25,
    "start_time": "2025-04-03T06:32:10.088Z"
   },
   {
    "duration": 83,
    "start_time": "2025-04-03T06:32:10.115Z"
   },
   {
    "duration": 67435,
    "start_time": "2025-04-03T06:32:10.200Z"
   },
   {
    "duration": 171,
    "start_time": "2025-04-03T06:33:17.638Z"
   },
   {
    "duration": 25,
    "start_time": "2025-04-03T06:35:44.549Z"
   },
   {
    "duration": 19,
    "start_time": "2025-04-03T06:37:29.684Z"
   },
   {
    "duration": 5,
    "start_time": "2025-04-03T06:41:25.298Z"
   },
   {
    "duration": 971,
    "start_time": "2025-04-03T06:41:31.061Z"
   },
   {
    "duration": 366,
    "start_time": "2025-04-03T06:42:53.401Z"
   },
   {
    "duration": 383,
    "start_time": "2025-04-03T06:43:33.650Z"
   },
   {
    "duration": 397,
    "start_time": "2025-04-03T06:43:34.487Z"
   },
   {
    "duration": 372,
    "start_time": "2025-04-03T06:44:43.315Z"
   },
   {
    "duration": 389,
    "start_time": "2025-04-03T06:46:26.357Z"
   },
   {
    "duration": 337,
    "start_time": "2025-04-03T06:46:44.131Z"
   },
   {
    "duration": 413,
    "start_time": "2025-04-03T06:47:54.396Z"
   },
   {
    "duration": 20,
    "start_time": "2025-04-03T06:48:41.707Z"
   },
   {
    "duration": 19,
    "start_time": "2025-04-03T06:48:51.796Z"
   },
   {
    "duration": 17,
    "start_time": "2025-04-03T06:49:13.093Z"
   },
   {
    "duration": 944,
    "start_time": "2025-04-03T06:49:16.006Z"
   },
   {
    "duration": 7,
    "start_time": "2025-04-03T06:49:59.085Z"
   },
   {
    "duration": 913,
    "start_time": "2025-04-03T06:50:00.914Z"
   },
   {
    "duration": 4,
    "start_time": "2025-04-03T06:50:19.728Z"
   },
   {
    "duration": 19,
    "start_time": "2025-04-03T06:50:59.908Z"
   },
   {
    "duration": 6,
    "start_time": "2025-04-03T06:55:10.842Z"
   },
   {
    "duration": 1092,
    "start_time": "2025-04-03T06:55:21.313Z"
   },
   {
    "duration": 14,
    "start_time": "2025-04-03T06:57:41.603Z"
   },
   {
    "duration": 6,
    "start_time": "2025-04-03T06:57:47.461Z"
   },
   {
    "duration": 72,
    "start_time": "2025-04-03T07:00:18.656Z"
   },
   {
    "duration": 6,
    "start_time": "2025-04-03T07:00:22.511Z"
   },
   {
    "duration": 892,
    "start_time": "2025-04-03T07:00:26.496Z"
   },
   {
    "duration": 687,
    "start_time": "2025-04-03T07:00:36.557Z"
   },
   {
    "duration": 7,
    "start_time": "2025-04-03T07:01:36.123Z"
   },
   {
    "duration": 857,
    "start_time": "2025-04-03T07:02:30.865Z"
   },
   {
    "duration": 8,
    "start_time": "2025-04-03T07:03:15.510Z"
   },
   {
    "duration": 685,
    "start_time": "2025-04-03T07:03:28.536Z"
   },
   {
    "duration": 903,
    "start_time": "2025-04-03T07:09:40.475Z"
   },
   {
    "duration": 1082,
    "start_time": "2025-04-03T07:10:14.627Z"
   },
   {
    "duration": 338,
    "start_time": "2025-04-03T07:23:48.944Z"
   },
   {
    "duration": 351,
    "start_time": "2025-04-03T07:23:49.628Z"
   },
   {
    "duration": 356,
    "start_time": "2025-04-03T07:27:06.527Z"
   },
   {
    "duration": 17,
    "start_time": "2025-04-03T07:33:39.556Z"
   },
   {
    "duration": 16,
    "start_time": "2025-04-03T07:33:52.433Z"
   },
   {
    "duration": 398,
    "start_time": "2025-04-03T07:33:57.698Z"
   },
   {
    "duration": 437,
    "start_time": "2025-04-03T07:35:13.851Z"
   },
   {
    "duration": 890,
    "start_time": "2025-04-03T07:36:31.868Z"
   },
   {
    "duration": 884,
    "start_time": "2025-04-03T07:36:58.221Z"
   },
   {
    "duration": 7,
    "start_time": "2025-04-03T07:40:16.243Z"
   },
   {
    "duration": 674,
    "start_time": "2025-04-03T07:40:21.464Z"
   },
   {
    "duration": 844,
    "start_time": "2025-04-03T07:40:27.026Z"
   },
   {
    "duration": 855,
    "start_time": "2025-04-03T07:41:07.586Z"
   },
   {
    "duration": 3,
    "start_time": "2025-04-03T08:22:00.589Z"
   },
   {
    "duration": 9,
    "start_time": "2025-04-03T08:27:21.506Z"
   },
   {
    "duration": 9,
    "start_time": "2025-04-03T08:27:34.982Z"
   },
   {
    "duration": 12,
    "start_time": "2025-04-03T08:27:57.992Z"
   },
   {
    "duration": 7,
    "start_time": "2025-04-03T08:28:02.353Z"
   },
   {
    "duration": 9,
    "start_time": "2025-04-03T08:28:05.144Z"
   },
   {
    "duration": 10,
    "start_time": "2025-04-03T08:36:55.398Z"
   },
   {
    "duration": 19,
    "start_time": "2025-04-03T08:37:00.072Z"
   },
   {
    "duration": 3,
    "start_time": "2025-04-03T08:37:32.913Z"
   },
   {
    "duration": 21,
    "start_time": "2025-04-03T08:37:32.918Z"
   },
   {
    "duration": 81,
    "start_time": "2025-04-03T08:37:32.941Z"
   },
   {
    "duration": 13,
    "start_time": "2025-04-03T08:37:33.024Z"
   },
   {
    "duration": 15,
    "start_time": "2025-04-03T08:37:33.040Z"
   },
   {
    "duration": 14,
    "start_time": "2025-04-03T08:37:33.057Z"
   },
   {
    "duration": 40,
    "start_time": "2025-04-03T08:37:33.073Z"
   },
   {
    "duration": 26,
    "start_time": "2025-04-03T08:37:33.115Z"
   },
   {
    "duration": 10,
    "start_time": "2025-04-03T08:37:33.144Z"
   },
   {
    "duration": 10,
    "start_time": "2025-04-03T08:37:33.156Z"
   },
   {
    "duration": 10,
    "start_time": "2025-04-03T08:37:33.167Z"
   },
   {
    "duration": 35,
    "start_time": "2025-04-03T08:37:33.179Z"
   },
   {
    "duration": 36,
    "start_time": "2025-04-03T08:37:33.216Z"
   },
   {
    "duration": 45,
    "start_time": "2025-04-03T08:37:33.253Z"
   },
   {
    "duration": 40,
    "start_time": "2025-04-03T08:37:33.300Z"
   },
   {
    "duration": 11,
    "start_time": "2025-04-03T08:37:33.341Z"
   },
   {
    "duration": 13,
    "start_time": "2025-04-03T08:37:33.354Z"
   },
   {
    "duration": 160,
    "start_time": "2025-04-03T08:37:33.370Z"
   },
   {
    "duration": 19,
    "start_time": "2025-04-03T08:37:33.532Z"
   },
   {
    "duration": 6,
    "start_time": "2025-04-03T08:37:33.553Z"
   },
   {
    "duration": 6,
    "start_time": "2025-04-03T08:37:33.560Z"
   },
   {
    "duration": 7,
    "start_time": "2025-04-03T08:37:33.567Z"
   },
   {
    "duration": 49,
    "start_time": "2025-04-03T08:37:33.575Z"
   },
   {
    "duration": 56,
    "start_time": "2025-04-03T08:37:33.628Z"
   },
   {
    "duration": 432,
    "start_time": "2025-04-03T08:37:33.686Z"
   },
   {
    "duration": 259,
    "start_time": "2025-04-03T08:37:34.119Z"
   },
   {
    "duration": 8,
    "start_time": "2025-04-03T08:37:34.380Z"
   },
   {
    "duration": 64,
    "start_time": "2025-04-03T08:37:34.390Z"
   },
   {
    "duration": 42,
    "start_time": "2025-04-03T08:37:34.456Z"
   },
   {
    "duration": 851,
    "start_time": "2025-04-03T08:37:34.500Z"
   },
   {
    "duration": 868,
    "start_time": "2025-04-03T08:37:35.352Z"
   },
   {
    "duration": 886,
    "start_time": "2025-04-03T08:37:36.221Z"
   },
   {
    "duration": 902,
    "start_time": "2025-04-03T08:37:37.110Z"
   },
   {
    "duration": 752,
    "start_time": "2025-04-03T08:37:38.014Z"
   },
   {
    "duration": 985,
    "start_time": "2025-04-03T08:37:38.768Z"
   },
   {
    "duration": 1841,
    "start_time": "2025-04-03T08:37:39.755Z"
   },
   {
    "duration": 1691,
    "start_time": "2025-04-03T08:37:41.598Z"
   },
   {
    "duration": 383,
    "start_time": "2025-04-03T08:37:43.291Z"
   },
   {
    "duration": 570,
    "start_time": "2025-04-03T08:37:43.676Z"
   },
   {
    "duration": 398,
    "start_time": "2025-04-03T08:37:44.249Z"
   },
   {
    "duration": 391,
    "start_time": "2025-04-03T08:37:44.650Z"
   },
   {
    "duration": 357,
    "start_time": "2025-04-03T08:37:45.044Z"
   },
   {
    "duration": 387,
    "start_time": "2025-04-03T08:37:45.405Z"
   },
   {
    "duration": 16,
    "start_time": "2025-04-03T08:37:45.794Z"
   },
   {
    "duration": 719,
    "start_time": "2025-04-03T08:37:45.811Z"
   },
   {
    "duration": 710,
    "start_time": "2025-04-03T08:37:46.532Z"
   },
   {
    "duration": 915,
    "start_time": "2025-04-03T08:37:47.244Z"
   },
   {
    "duration": 6,
    "start_time": "2025-04-03T08:37:48.161Z"
   },
   {
    "duration": 3,
    "start_time": "2025-04-03T08:37:48.169Z"
   },
   {
    "duration": 35,
    "start_time": "2025-04-03T08:37:48.173Z"
   },
   {
    "duration": 16,
    "start_time": "2025-04-03T08:37:52.274Z"
   },
   {
    "duration": 7,
    "start_time": "2025-04-03T08:37:53.039Z"
   },
   {
    "duration": 15,
    "start_time": "2025-04-03T08:37:58.961Z"
   },
   {
    "duration": 6,
    "start_time": "2025-04-03T08:38:03.147Z"
   },
   {
    "duration": 15,
    "start_time": "2025-04-03T08:38:09.287Z"
   },
   {
    "duration": 4,
    "start_time": "2025-04-03T08:38:16.745Z"
   },
   {
    "duration": 4,
    "start_time": "2025-04-03T08:38:29.155Z"
   },
   {
    "duration": 4,
    "start_time": "2025-04-03T08:38:47.609Z"
   },
   {
    "duration": 12,
    "start_time": "2025-04-03T08:39:08.708Z"
   },
   {
    "duration": 7,
    "start_time": "2025-04-03T08:48:02.498Z"
   },
   {
    "duration": 4,
    "start_time": "2025-04-03T08:48:02.841Z"
   },
   {
    "duration": 4,
    "start_time": "2025-04-03T08:49:06.254Z"
   },
   {
    "duration": 6,
    "start_time": "2025-04-03T08:50:18.724Z"
   },
   {
    "duration": 8847,
    "start_time": "2025-04-03T08:50:27.416Z"
   },
   {
    "duration": 4,
    "start_time": "2025-04-03T08:53:37.587Z"
   },
   {
    "duration": 5,
    "start_time": "2025-04-03T08:57:05.820Z"
   },
   {
    "duration": 11,
    "start_time": "2025-04-03T08:57:37.748Z"
   },
   {
    "duration": 5,
    "start_time": "2025-04-03T08:57:45.140Z"
   },
   {
    "duration": 17,
    "start_time": "2025-04-03T08:59:05.399Z"
   },
   {
    "duration": 18,
    "start_time": "2025-04-03T08:59:25.182Z"
   },
   {
    "duration": 6,
    "start_time": "2025-04-03T09:01:06.923Z"
   },
   {
    "duration": 5,
    "start_time": "2025-04-03T09:01:08.655Z"
   },
   {
    "duration": 9,
    "start_time": "2025-04-03T09:01:10.578Z"
   },
   {
    "duration": 3,
    "start_time": "2025-04-03T09:01:10.935Z"
   },
   {
    "duration": 4,
    "start_time": "2025-04-03T09:01:12.025Z"
   },
   {
    "duration": 8,
    "start_time": "2025-04-03T09:01:13.586Z"
   },
   {
    "duration": 8282,
    "start_time": "2025-04-03T09:01:15.083Z"
   },
   {
    "duration": 6,
    "start_time": "2025-04-03T09:01:29.202Z"
   },
   {
    "duration": 4,
    "start_time": "2025-04-03T09:01:30.746Z"
   },
   {
    "duration": 6,
    "start_time": "2025-04-03T09:01:47.795Z"
   },
   {
    "duration": 4725,
    "start_time": "2025-04-03T09:01:48.559Z"
   },
   {
    "duration": 14,
    "start_time": "2025-04-03T09:03:18.251Z"
   },
   {
    "duration": 6,
    "start_time": "2025-04-03T09:03:41.956Z"
   },
   {
    "duration": 7,
    "start_time": "2025-04-03T09:03:53.947Z"
   },
   {
    "duration": 4538,
    "start_time": "2025-04-03T09:03:56.113Z"
   },
   {
    "duration": 4,
    "start_time": "2025-04-03T09:04:09.889Z"
   },
   {
    "duration": 5,
    "start_time": "2025-04-03T09:04:11.000Z"
   },
   {
    "duration": 826,
    "start_time": "2025-04-03T09:04:37.706Z"
   },
   {
    "duration": 6,
    "start_time": "2025-04-03T09:05:36.530Z"
   },
   {
    "duration": 4639,
    "start_time": "2025-04-03T09:05:37.272Z"
   },
   {
    "duration": 4635,
    "start_time": "2025-04-03T09:05:50.617Z"
   },
   {
    "duration": 4908,
    "start_time": "2025-04-03T09:07:13.849Z"
   },
   {
    "duration": 4934,
    "start_time": "2025-04-03T09:08:06.699Z"
   },
   {
    "duration": 6,
    "start_time": "2025-04-03T09:08:48.378Z"
   },
   {
    "duration": 17484,
    "start_time": "2025-04-03T09:08:49.967Z"
   },
   {
    "duration": 6,
    "start_time": "2025-04-03T09:09:33.146Z"
   },
   {
    "duration": 17102,
    "start_time": "2025-04-03T09:09:34.965Z"
   },
   {
    "duration": 7,
    "start_time": "2025-04-03T09:10:08.347Z"
   },
   {
    "duration": 16902,
    "start_time": "2025-04-03T09:10:08.944Z"
   },
   {
    "duration": 6,
    "start_time": "2025-04-03T09:16:10.359Z"
   },
   {
    "duration": 16679,
    "start_time": "2025-04-03T09:16:11.862Z"
   },
   {
    "duration": 7,
    "start_time": "2025-04-03T09:16:55.701Z"
   },
   {
    "duration": 14578,
    "start_time": "2025-04-03T09:16:56.789Z"
   },
   {
    "duration": 7,
    "start_time": "2025-04-03T09:17:39.720Z"
   },
   {
    "duration": 14384,
    "start_time": "2025-04-03T09:17:40.736Z"
   },
   {
    "duration": 6,
    "start_time": "2025-04-03T09:18:07.173Z"
   },
   {
    "duration": 10272,
    "start_time": "2025-04-03T09:18:07.918Z"
   },
   {
    "duration": 39,
    "start_time": "2025-04-03T09:19:58.654Z"
   },
   {
    "duration": 19,
    "start_time": "2025-04-03T09:21:32.010Z"
   },
   {
    "duration": 21,
    "start_time": "2025-04-03T09:21:54.542Z"
   },
   {
    "duration": 6,
    "start_time": "2025-04-03T09:22:11.199Z"
   },
   {
    "duration": 5,
    "start_time": "2025-04-03T09:22:16.229Z"
   },
   {
    "duration": 5,
    "start_time": "2025-04-03T09:22:17.767Z"
   },
   {
    "duration": 8,
    "start_time": "2025-04-03T09:22:19.174Z"
   },
   {
    "duration": 3,
    "start_time": "2025-04-03T09:22:19.591Z"
   },
   {
    "duration": 3,
    "start_time": "2025-04-03T09:22:21.113Z"
   },
   {
    "duration": 6,
    "start_time": "2025-04-03T09:22:22.519Z"
   },
   {
    "duration": 10090,
    "start_time": "2025-04-03T09:22:23.864Z"
   },
   {
    "duration": 4,
    "start_time": "2025-04-03T09:25:08.100Z"
   },
   {
    "duration": 4,
    "start_time": "2025-04-03T09:25:13.207Z"
   },
   {
    "duration": 6,
    "start_time": "2025-04-03T09:28:51.495Z"
   },
   {
    "duration": 6513,
    "start_time": "2025-04-03T09:28:52.345Z"
   },
   {
    "duration": 5,
    "start_time": "2025-04-03T09:29:25.521Z"
   },
   {
    "duration": 31,
    "start_time": "2025-04-03T09:29:26.503Z"
   },
   {
    "duration": 7,
    "start_time": "2025-04-03T09:30:57.215Z"
   },
   {
    "duration": 10014,
    "start_time": "2025-04-03T09:30:57.824Z"
   },
   {
    "duration": 3,
    "start_time": "2025-04-03T09:31:46.439Z"
   },
   {
    "duration": 5,
    "start_time": "2025-04-03T09:31:47.527Z"
   },
   {
    "duration": 5,
    "start_time": "2025-04-03T09:31:48.462Z"
   },
   {
    "duration": 8,
    "start_time": "2025-04-03T09:31:49.413Z"
   },
   {
    "duration": 4,
    "start_time": "2025-04-03T09:31:50.143Z"
   },
   {
    "duration": 3,
    "start_time": "2025-04-03T09:31:51.302Z"
   },
   {
    "duration": 6,
    "start_time": "2025-04-03T09:31:52.486Z"
   },
   {
    "duration": 8809,
    "start_time": "2025-04-03T09:31:53.925Z"
   },
   {
    "duration": 6,
    "start_time": "2025-04-03T09:33:37.998Z"
   },
   {
    "duration": 5,
    "start_time": "2025-04-03T09:33:38.262Z"
   },
   {
    "duration": 7,
    "start_time": "2025-04-03T09:33:39.045Z"
   },
   {
    "duration": 3,
    "start_time": "2025-04-03T09:33:39.463Z"
   },
   {
    "duration": 3,
    "start_time": "2025-04-03T09:33:40.527Z"
   },
   {
    "duration": 10,
    "start_time": "2025-04-03T09:33:41.631Z"
   },
   {
    "duration": 4305,
    "start_time": "2025-04-03T09:33:42.457Z"
   },
   {
    "duration": 5,
    "start_time": "2025-04-03T09:35:54.536Z"
   },
   {
    "duration": 4,
    "start_time": "2025-04-03T09:35:55.095Z"
   },
   {
    "duration": 20,
    "start_time": "2025-04-03T09:35:56.102Z"
   },
   {
    "duration": 4,
    "start_time": "2025-04-03T09:35:57.086Z"
   },
   {
    "duration": 3,
    "start_time": "2025-04-03T09:35:58.237Z"
   },
   {
    "duration": 8,
    "start_time": "2025-04-03T09:35:59.420Z"
   },
   {
    "duration": 4241,
    "start_time": "2025-04-03T09:36:00.479Z"
   },
   {
    "duration": 8,
    "start_time": "2025-04-03T09:36:37.170Z"
   },
   {
    "duration": 4,
    "start_time": "2025-04-03T09:36:37.886Z"
   },
   {
    "duration": 3,
    "start_time": "2025-04-03T09:36:39.013Z"
   },
   {
    "duration": 6,
    "start_time": "2025-04-03T09:36:40.547Z"
   },
   {
    "duration": 4221,
    "start_time": "2025-04-03T09:36:41.797Z"
   },
   {
    "duration": 6,
    "start_time": "2025-04-03T09:39:05.014Z"
   },
   {
    "duration": 5,
    "start_time": "2025-04-03T09:39:05.189Z"
   },
   {
    "duration": 8,
    "start_time": "2025-04-03T09:39:06.126Z"
   },
   {
    "duration": 4,
    "start_time": "2025-04-03T09:39:06.646Z"
   },
   {
    "duration": 3,
    "start_time": "2025-04-03T09:39:09.159Z"
   },
   {
    "duration": 6,
    "start_time": "2025-04-03T09:39:10.401Z"
   },
   {
    "duration": 9548,
    "start_time": "2025-04-03T09:39:11.069Z"
   },
   {
    "duration": 6,
    "start_time": "2025-04-03T09:39:53.693Z"
   },
   {
    "duration": 5,
    "start_time": "2025-04-03T09:39:54.255Z"
   },
   {
    "duration": 7,
    "start_time": "2025-04-03T09:39:57.693Z"
   },
   {
    "duration": 84,
    "start_time": "2025-04-03T09:40:07.942Z"
   },
   {
    "duration": 3,
    "start_time": "2025-04-03T09:40:17.143Z"
   },
   {
    "duration": 3,
    "start_time": "2025-04-03T09:40:19.285Z"
   },
   {
    "duration": 6,
    "start_time": "2025-04-03T09:40:20.495Z"
   },
   {
    "duration": 10637,
    "start_time": "2025-04-03T09:40:21.620Z"
   },
   {
    "duration": 6,
    "start_time": "2025-04-03T09:41:29.670Z"
   },
   {
    "duration": 4106,
    "start_time": "2025-04-03T09:41:30.363Z"
   },
   {
    "duration": 6,
    "start_time": "2025-04-03T09:42:39.478Z"
   },
   {
    "duration": 5,
    "start_time": "2025-04-03T09:42:39.755Z"
   },
   {
    "duration": 8,
    "start_time": "2025-04-03T09:42:41.025Z"
   },
   {
    "duration": 4,
    "start_time": "2025-04-03T09:42:41.223Z"
   },
   {
    "duration": 4,
    "start_time": "2025-04-03T09:42:41.982Z"
   },
   {
    "duration": 6,
    "start_time": "2025-04-03T09:42:42.878Z"
   },
   {
    "duration": 3840,
    "start_time": "2025-04-03T09:42:54.470Z"
   },
   {
    "duration": 6,
    "start_time": "2025-04-03T09:44:10.662Z"
   },
   {
    "duration": 5238,
    "start_time": "2025-04-03T09:44:11.404Z"
   },
   {
    "duration": 6,
    "start_time": "2025-04-03T09:44:31.910Z"
   },
   {
    "duration": 5559,
    "start_time": "2025-04-03T09:44:32.742Z"
   },
   {
    "duration": 6,
    "start_time": "2025-04-03T09:44:48.872Z"
   },
   {
    "duration": 5125,
    "start_time": "2025-04-03T09:44:49.518Z"
   },
   {
    "duration": 6,
    "start_time": "2025-04-03T09:47:41.894Z"
   },
   {
    "duration": 7,
    "start_time": "2025-04-03T09:47:57.357Z"
   },
   {
    "duration": 11098,
    "start_time": "2025-04-03T09:47:58.987Z"
   },
   {
    "duration": 6,
    "start_time": "2025-04-03T09:48:38.606Z"
   },
   {
    "duration": 13364,
    "start_time": "2025-04-03T09:48:39.692Z"
   },
   {
    "duration": 6,
    "start_time": "2025-04-03T09:49:13.638Z"
   },
   {
    "duration": 15207,
    "start_time": "2025-04-03T09:49:14.555Z"
   },
   {
    "duration": 66,
    "start_time": "2025-04-03T09:50:34.456Z"
   },
   {
    "duration": 7,
    "start_time": "2025-04-03T09:50:41.069Z"
   },
   {
    "duration": 18434,
    "start_time": "2025-04-03T09:50:44.027Z"
   },
   {
    "duration": 7,
    "start_time": "2025-04-03T09:53:32.528Z"
   },
   {
    "duration": 53949,
    "start_time": "2025-04-03T09:53:34.312Z"
   },
   {
    "duration": 7,
    "start_time": "2025-04-03T10:07:15.753Z"
   },
   {
    "duration": 42,
    "start_time": "2025-04-03T10:07:18.560Z"
   },
   {
    "duration": 5,
    "start_time": "2025-04-03T10:11:40.084Z"
   },
   {
    "duration": 8,
    "start_time": "2025-04-03T10:11:45.004Z"
   },
   {
    "duration": 32,
    "start_time": "2025-04-03T10:11:46.974Z"
   },
   {
    "duration": 12,
    "start_time": "2025-04-03T10:12:51.945Z"
   },
   {
    "duration": 20267,
    "start_time": "2025-04-03T10:12:53.342Z"
   },
   {
    "duration": 7,
    "start_time": "2025-04-03T10:15:41.984Z"
   },
   {
    "duration": 8069,
    "start_time": "2025-04-03T10:15:43.421Z"
   },
   {
    "duration": 7666,
    "start_time": "2025-04-03T10:16:39.966Z"
   },
   {
    "duration": 7988,
    "start_time": "2025-04-03T10:16:56.841Z"
   },
   {
    "duration": 7,
    "start_time": "2025-04-03T10:17:35.343Z"
   },
   {
    "duration": 5185,
    "start_time": "2025-04-03T10:17:36.540Z"
   },
   {
    "duration": 7,
    "start_time": "2025-04-03T10:18:14.166Z"
   },
   {
    "duration": 6070,
    "start_time": "2025-04-03T10:18:15.310Z"
   },
   {
    "duration": 4,
    "start_time": "2025-04-03T10:20:42.311Z"
   },
   {
    "duration": 4,
    "start_time": "2025-04-03T10:20:44.026Z"
   },
   {
    "duration": 6,
    "start_time": "2025-04-03T10:20:45.070Z"
   },
   {
    "duration": 6182,
    "start_time": "2025-04-03T10:20:46.547Z"
   },
   {
    "duration": 6453,
    "start_time": "2025-04-03T10:21:00.462Z"
   },
   {
    "duration": 8,
    "start_time": "2025-04-03T10:29:12.666Z"
   },
   {
    "duration": 12343,
    "start_time": "2025-04-03T10:29:14.669Z"
   },
   {
    "duration": 16,
    "start_time": "2025-04-03T10:35:10.623Z"
   },
   {
    "duration": 7,
    "start_time": "2025-04-03T10:35:20.768Z"
   },
   {
    "duration": 3,
    "start_time": "2025-04-03T10:36:55.887Z"
   },
   {
    "duration": 6,
    "start_time": "2025-04-03T10:36:57.038Z"
   },
   {
    "duration": 12325,
    "start_time": "2025-04-03T10:36:58.687Z"
   },
   {
    "duration": 16,
    "start_time": "2025-04-03T10:40:22.240Z"
   },
   {
    "duration": 20,
    "start_time": "2025-04-03T10:42:03.164Z"
   },
   {
    "duration": 20,
    "start_time": "2025-04-03T10:42:26.959Z"
   },
   {
    "duration": 14,
    "start_time": "2025-04-03T10:46:32.449Z"
   },
   {
    "duration": 7,
    "start_time": "2025-04-03T10:46:46.761Z"
   },
   {
    "duration": 45,
    "start_time": "2025-04-03T10:46:48.079Z"
   },
   {
    "duration": 7,
    "start_time": "2025-04-03T10:47:30.621Z"
   },
   {
    "duration": 32,
    "start_time": "2025-04-03T10:47:31.573Z"
   },
   {
    "duration": 7,
    "start_time": "2025-04-03T10:50:55.944Z"
   },
   {
    "duration": 12418,
    "start_time": "2025-04-03T10:50:57.280Z"
   },
   {
    "duration": 21,
    "start_time": "2025-04-03T10:51:22.510Z"
   },
   {
    "duration": 21,
    "start_time": "2025-04-03T11:00:21.273Z"
   },
   {
    "duration": 129,
    "start_time": "2025-04-03T11:00:21.314Z"
   },
   {
    "duration": 10,
    "start_time": "2025-04-03T11:00:37.782Z"
   },
   {
    "duration": 11,
    "start_time": "2025-04-03T11:00:48.364Z"
   },
   {
    "duration": 5,
    "start_time": "2025-04-03T11:00:48.997Z"
   },
   {
    "duration": 7,
    "start_time": "2025-04-03T11:00:50.254Z"
   },
   {
    "duration": 4,
    "start_time": "2025-04-03T11:00:50.714Z"
   },
   {
    "duration": 3,
    "start_time": "2025-04-03T11:00:52.369Z"
   },
   {
    "duration": 6,
    "start_time": "2025-04-03T11:00:53.551Z"
   },
   {
    "duration": 13005,
    "start_time": "2025-04-03T11:00:54.662Z"
   },
   {
    "duration": 19,
    "start_time": "2025-04-03T11:10:35.885Z"
   },
   {
    "duration": 7,
    "start_time": "2025-04-03T11:10:53.082Z"
   },
   {
    "duration": 17952,
    "start_time": "2025-04-03T11:10:54.081Z"
   },
   {
    "duration": 19,
    "start_time": "2025-04-03T11:11:12.035Z"
   },
   {
    "duration": 6,
    "start_time": "2025-04-03T11:11:52.539Z"
   },
   {
    "duration": 5980,
    "start_time": "2025-04-03T11:11:53.609Z"
   },
   {
    "duration": 6,
    "start_time": "2025-04-03T11:12:11.947Z"
   },
   {
    "duration": 5970,
    "start_time": "2025-04-03T11:12:12.725Z"
   },
   {
    "duration": 8,
    "start_time": "2025-04-03T11:12:35.379Z"
   },
   {
    "duration": 5953,
    "start_time": "2025-04-03T11:12:35.988Z"
   },
   {
    "duration": 7,
    "start_time": "2025-04-03T11:13:50.562Z"
   },
   {
    "duration": 7877,
    "start_time": "2025-04-03T11:13:51.239Z"
   },
   {
    "duration": 8,
    "start_time": "2025-04-03T11:14:09.355Z"
   },
   {
    "duration": 5947,
    "start_time": "2025-04-03T11:14:09.978Z"
   },
   {
    "duration": 6,
    "start_time": "2025-04-03T11:14:27.637Z"
   },
   {
    "duration": 2056,
    "start_time": "2025-04-03T11:14:28.216Z"
   },
   {
    "duration": 6,
    "start_time": "2025-04-03T11:14:36.978Z"
   },
   {
    "duration": 6902,
    "start_time": "2025-04-03T11:14:37.542Z"
   },
   {
    "duration": 7,
    "start_time": "2025-04-03T11:14:51.530Z"
   },
   {
    "duration": 9907,
    "start_time": "2025-04-03T11:14:59.257Z"
   },
   {
    "duration": 6,
    "start_time": "2025-04-03T11:15:20.775Z"
   },
   {
    "duration": 6137,
    "start_time": "2025-04-03T11:15:21.429Z"
   },
   {
    "duration": 89,
    "start_time": "2025-04-03T11:17:43.201Z"
   },
   {
    "duration": 7,
    "start_time": "2025-04-03T11:17:46.688Z"
   },
   {
    "duration": 6076,
    "start_time": "2025-04-03T11:17:47.712Z"
   },
   {
    "duration": 7,
    "start_time": "2025-04-03T11:18:04.496Z"
   },
   {
    "duration": 12159,
    "start_time": "2025-04-03T11:18:05.448Z"
   },
   {
    "duration": 6,
    "start_time": "2025-04-03T11:19:22.239Z"
   },
   {
    "duration": 12127,
    "start_time": "2025-04-03T11:19:23.495Z"
   },
   {
    "duration": 26,
    "start_time": "2025-04-03T11:20:17.288Z"
   },
   {
    "duration": 24,
    "start_time": "2025-04-03T11:20:39.808Z"
   },
   {
    "duration": 6,
    "start_time": "2025-04-03T11:21:18.393Z"
   },
   {
    "duration": 12059,
    "start_time": "2025-04-03T11:21:19.038Z"
   },
   {
    "duration": 12,
    "start_time": "2025-04-03T11:21:44.952Z"
   },
   {
    "duration": 12052,
    "start_time": "2025-04-03T11:21:45.495Z"
   },
   {
    "duration": 7,
    "start_time": "2025-04-03T11:22:09.272Z"
   },
   {
    "duration": 12435,
    "start_time": "2025-04-03T11:22:09.994Z"
   },
   {
    "duration": 932,
    "start_time": "2025-04-03T11:23:14.879Z"
   },
   {
    "duration": 13,
    "start_time": "2025-04-03T11:25:52.433Z"
   },
   {
    "duration": 18,
    "start_time": "2025-04-03T11:26:01.505Z"
   },
   {
    "duration": 9,
    "start_time": "2025-04-03T11:27:54.952Z"
   },
   {
    "duration": 16,
    "start_time": "2025-04-03T11:28:09.411Z"
   },
   {
    "duration": 9,
    "start_time": "2025-04-03T11:28:18.406Z"
   },
   {
    "duration": 9,
    "start_time": "2025-04-03T11:29:34.942Z"
   },
   {
    "duration": 7,
    "start_time": "2025-04-03T11:29:43.775Z"
   },
   {
    "duration": 7,
    "start_time": "2025-04-03T11:31:33.847Z"
   },
   {
    "duration": 9,
    "start_time": "2025-04-03T11:37:11.044Z"
   },
   {
    "duration": 7,
    "start_time": "2025-04-03T11:38:22.110Z"
   },
   {
    "duration": 7,
    "start_time": "2025-04-03T11:38:22.824Z"
   },
   {
    "duration": 8,
    "start_time": "2025-04-03T11:38:30.094Z"
   },
   {
    "duration": 8,
    "start_time": "2025-04-03T11:38:30.665Z"
   },
   {
    "duration": 3,
    "start_time": "2025-04-03T11:38:44.299Z"
   },
   {
    "duration": 10,
    "start_time": "2025-04-03T11:38:44.304Z"
   },
   {
    "duration": 68,
    "start_time": "2025-04-03T11:38:44.316Z"
   },
   {
    "duration": 13,
    "start_time": "2025-04-03T11:38:44.386Z"
   },
   {
    "duration": 33,
    "start_time": "2025-04-03T11:38:44.400Z"
   },
   {
    "duration": 17,
    "start_time": "2025-04-03T11:38:44.435Z"
   },
   {
    "duration": 17,
    "start_time": "2025-04-03T11:38:44.454Z"
   },
   {
    "duration": 35,
    "start_time": "2025-04-03T11:38:44.473Z"
   },
   {
    "duration": 11,
    "start_time": "2025-04-03T11:38:44.512Z"
   },
   {
    "duration": 9,
    "start_time": "2025-04-03T11:38:44.525Z"
   },
   {
    "duration": 11,
    "start_time": "2025-04-03T11:38:44.535Z"
   },
   {
    "duration": 8,
    "start_time": "2025-04-03T11:38:44.547Z"
   },
   {
    "duration": 10,
    "start_time": "2025-04-03T11:38:44.557Z"
   },
   {
    "duration": 66,
    "start_time": "2025-04-03T11:38:44.569Z"
   },
   {
    "duration": 32,
    "start_time": "2025-04-03T11:38:44.636Z"
   },
   {
    "duration": 10,
    "start_time": "2025-04-03T11:38:44.670Z"
   },
   {
    "duration": 6,
    "start_time": "2025-04-03T11:38:44.705Z"
   },
   {
    "duration": 9,
    "start_time": "2025-04-03T11:38:44.712Z"
   },
   {
    "duration": 7,
    "start_time": "2025-04-03T11:38:44.723Z"
   },
   {
    "duration": 5,
    "start_time": "2025-04-03T11:38:44.732Z"
   },
   {
    "duration": 6,
    "start_time": "2025-04-03T11:38:44.739Z"
   },
   {
    "duration": 7,
    "start_time": "2025-04-03T11:38:44.746Z"
   },
   {
    "duration": 7,
    "start_time": "2025-04-03T11:38:44.755Z"
   },
   {
    "duration": 6,
    "start_time": "2025-04-03T11:38:44.807Z"
   },
   {
    "duration": 345,
    "start_time": "2025-04-03T11:38:44.815Z"
   },
   {
    "duration": 276,
    "start_time": "2025-04-03T11:38:45.163Z"
   },
   {
    "duration": 9,
    "start_time": "2025-04-03T11:38:45.441Z"
   },
   {
    "duration": 101,
    "start_time": "2025-04-03T11:38:45.452Z"
   },
   {
    "duration": 11,
    "start_time": "2025-04-03T11:38:45.555Z"
   },
   {
    "duration": 967,
    "start_time": "2025-04-03T11:38:45.568Z"
   },
   {
    "duration": 864,
    "start_time": "2025-04-03T11:38:46.537Z"
   },
   {
    "duration": 867,
    "start_time": "2025-04-03T11:38:47.403Z"
   },
   {
    "duration": 827,
    "start_time": "2025-04-03T11:38:48.271Z"
   },
   {
    "duration": 762,
    "start_time": "2025-04-03T11:38:49.100Z"
   },
   {
    "duration": 786,
    "start_time": "2025-04-03T11:38:49.865Z"
   },
   {
    "duration": 1943,
    "start_time": "2025-04-03T11:38:50.652Z"
   },
   {
    "duration": 1701,
    "start_time": "2025-04-03T11:38:52.605Z"
   },
   {
    "duration": 369,
    "start_time": "2025-04-03T11:38:54.308Z"
   },
   {
    "duration": 406,
    "start_time": "2025-04-03T11:38:54.679Z"
   },
   {
    "duration": 401,
    "start_time": "2025-04-03T11:38:55.087Z"
   },
   {
    "duration": 375,
    "start_time": "2025-04-03T11:38:55.490Z"
   },
   {
    "duration": 385,
    "start_time": "2025-04-03T11:38:55.867Z"
   },
   {
    "duration": 373,
    "start_time": "2025-04-03T11:38:56.254Z"
   },
   {
    "duration": 8,
    "start_time": "2025-04-03T11:38:56.629Z"
   },
   {
    "duration": 867,
    "start_time": "2025-04-03T11:38:56.638Z"
   },
   {
    "duration": 701,
    "start_time": "2025-04-03T11:38:57.507Z"
   },
   {
    "duration": 868,
    "start_time": "2025-04-03T11:38:58.210Z"
   },
   {
    "duration": 7,
    "start_time": "2025-04-03T11:38:59.080Z"
   },
   {
    "duration": 38,
    "start_time": "2025-04-03T11:38:59.089Z"
   },
   {
    "duration": 17,
    "start_time": "2025-04-03T11:38:59.128Z"
   },
   {
    "duration": 4,
    "start_time": "2025-04-03T11:38:59.146Z"
   },
   {
    "duration": 9,
    "start_time": "2025-04-03T11:38:59.152Z"
   },
   {
    "duration": 4,
    "start_time": "2025-04-03T11:38:59.163Z"
   },
   {
    "duration": 27,
    "start_time": "2025-04-03T11:38:59.168Z"
   },
   {
    "duration": 10,
    "start_time": "2025-04-03T11:38:59.197Z"
   },
   {
    "duration": 12509,
    "start_time": "2025-04-03T11:38:59.209Z"
   },
   {
    "duration": 6,
    "start_time": "2025-04-03T11:39:11.720Z"
   },
   {
    "duration": 837,
    "start_time": "2025-04-03T11:39:11.728Z"
   },
   {
    "duration": 64,
    "start_time": "2025-04-03T11:39:12.566Z"
   },
   {
    "duration": 12,
    "start_time": "2025-04-03T11:39:12.632Z"
   },
   {
    "duration": 43,
    "start_time": "2025-04-03T11:39:12.645Z"
   },
   {
    "duration": 23,
    "start_time": "2025-04-03T11:39:12.690Z"
   },
   {
    "duration": 15,
    "start_time": "2025-04-03T11:39:12.715Z"
   },
   {
    "duration": 8,
    "start_time": "2025-04-03T11:39:12.731Z"
   },
   {
    "duration": 25,
    "start_time": "2025-04-03T11:39:12.741Z"
   },
   {
    "duration": 13,
    "start_time": "2025-04-03T11:39:12.768Z"
   },
   {
    "duration": 23,
    "start_time": "2025-04-03T11:39:12.783Z"
   },
   {
    "duration": 20,
    "start_time": "2025-04-03T11:39:12.809Z"
   },
   {
    "duration": 31,
    "start_time": "2025-04-03T11:39:12.834Z"
   },
   {
    "duration": 46,
    "start_time": "2025-04-03T11:39:12.867Z"
   },
   {
    "duration": 10,
    "start_time": "2025-04-03T11:39:12.914Z"
   },
   {
    "duration": 13,
    "start_time": "2025-04-03T11:39:12.925Z"
   },
   {
    "duration": 9,
    "start_time": "2025-04-03T11:39:12.940Z"
   },
   {
    "duration": 7,
    "start_time": "2025-04-03T11:39:12.951Z"
   },
   {
    "duration": 653,
    "start_time": "2025-04-03T11:39:46.342Z"
   },
   {
    "duration": 586,
    "start_time": "2025-04-03T11:39:48.821Z"
   },
   {
    "duration": 879,
    "start_time": "2025-04-03T11:39:51.797Z"
   },
   {
    "duration": 895,
    "start_time": "2025-04-03T11:39:52.678Z"
   },
   {
    "duration": 972,
    "start_time": "2025-04-03T11:39:53.575Z"
   },
   {
    "duration": 801,
    "start_time": "2025-04-03T11:39:54.549Z"
   },
   {
    "duration": 1797,
    "start_time": "2025-04-03T11:39:55.352Z"
   },
   {
    "duration": 1931,
    "start_time": "2025-04-03T11:39:57.151Z"
   },
   {
    "duration": 352,
    "start_time": "2025-04-03T11:39:59.084Z"
   },
   {
    "duration": 314,
    "start_time": "2025-04-03T11:39:59.438Z"
   },
   {
    "duration": 347,
    "start_time": "2025-04-03T11:39:59.755Z"
   },
   {
    "duration": 347,
    "start_time": "2025-04-03T11:40:00.103Z"
   },
   {
    "duration": 326,
    "start_time": "2025-04-03T11:40:00.451Z"
   },
   {
    "duration": 389,
    "start_time": "2025-04-03T11:40:00.779Z"
   },
   {
    "duration": 7,
    "start_time": "2025-04-03T11:40:01.170Z"
   },
   {
    "duration": 603,
    "start_time": "2025-04-03T11:40:01.178Z"
   },
   {
    "duration": 598,
    "start_time": "2025-04-03T11:40:01.783Z"
   },
   {
    "duration": 730,
    "start_time": "2025-04-03T11:40:02.383Z"
   },
   {
    "duration": 7,
    "start_time": "2025-04-03T11:40:03.114Z"
   },
   {
    "duration": 36,
    "start_time": "2025-04-03T11:40:03.123Z"
   },
   {
    "duration": 6,
    "start_time": "2025-04-03T11:40:32.486Z"
   },
   {
    "duration": 7,
    "start_time": "2025-04-03T11:40:33.263Z"
   },
   {
    "duration": 13,
    "start_time": "2025-04-03T11:45:09.375Z"
   },
   {
    "duration": 17,
    "start_time": "2025-04-03T11:45:30.342Z"
   },
   {
    "duration": 16,
    "start_time": "2025-04-03T11:46:55.376Z"
   },
   {
    "duration": 21,
    "start_time": "2025-04-03T11:47:13.886Z"
   },
   {
    "duration": 21,
    "start_time": "2025-04-03T11:47:24.718Z"
   },
   {
    "duration": 6,
    "start_time": "2025-04-03T11:48:10.110Z"
   },
   {
    "duration": 23,
    "start_time": "2025-04-03T11:49:56.132Z"
   },
   {
    "duration": 319,
    "start_time": "2025-04-03T11:51:28.936Z"
   },
   {
    "duration": 7,
    "start_time": "2025-04-03T11:52:40.923Z"
   },
   {
    "duration": 1343,
    "start_time": "2025-04-03T11:52:56.888Z"
   },
   {
    "duration": 1282,
    "start_time": "2025-04-03T11:53:07.405Z"
   },
   {
    "duration": 8,
    "start_time": "2025-04-03T11:53:22.442Z"
   },
   {
    "duration": 7,
    "start_time": "2025-04-03T11:53:29.771Z"
   },
   {
    "duration": 8,
    "start_time": "2025-04-03T11:53:55.029Z"
   },
   {
    "duration": 413,
    "start_time": "2025-04-03T11:55:07.039Z"
   },
   {
    "duration": 634,
    "start_time": "2025-04-03T11:55:39.518Z"
   },
   {
    "duration": 424,
    "start_time": "2025-04-03T11:55:55.622Z"
   },
   {
    "duration": 450,
    "start_time": "2025-04-03T11:56:10.813Z"
   },
   {
    "duration": 476,
    "start_time": "2025-04-03T11:56:15.573Z"
   },
   {
    "duration": 461,
    "start_time": "2025-04-03T11:56:21.228Z"
   },
   {
    "duration": 9,
    "start_time": "2025-04-03T12:03:16.808Z"
   },
   {
    "duration": 9,
    "start_time": "2025-04-03T12:03:25.092Z"
   },
   {
    "duration": 9,
    "start_time": "2025-04-03T12:05:24.512Z"
   },
   {
    "duration": 8,
    "start_time": "2025-04-03T12:06:54.309Z"
   },
   {
    "duration": 5,
    "start_time": "2025-04-03T12:15:57.020Z"
   },
   {
    "duration": 17,
    "start_time": "2025-04-03T12:18:09.038Z"
   },
   {
    "duration": 1276,
    "start_time": "2025-04-03T12:18:16.082Z"
   },
   {
    "duration": 14,
    "start_time": "2025-04-03T12:19:39.050Z"
   },
   {
    "duration": 1975,
    "start_time": "2025-04-03T12:19:48.065Z"
   },
   {
    "duration": 7,
    "start_time": "2025-04-03T12:23:48.738Z"
   },
   {
    "duration": 14,
    "start_time": "2025-04-03T12:24:46.724Z"
   },
   {
    "duration": 312,
    "start_time": "2025-04-03T12:24:51.078Z"
   },
   {
    "duration": 332,
    "start_time": "2025-04-03T12:24:59.581Z"
   },
   {
    "duration": 6,
    "start_time": "2025-04-03T12:29:18.963Z"
   },
   {
    "duration": 16,
    "start_time": "2025-04-03T12:33:39.451Z"
   },
   {
    "duration": 8,
    "start_time": "2025-04-03T12:34:23.866Z"
   },
   {
    "duration": 5,
    "start_time": "2025-04-03T12:35:06.499Z"
   },
   {
    "duration": 4,
    "start_time": "2025-04-03T12:35:36.044Z"
   },
   {
    "duration": 9,
    "start_time": "2025-04-03T12:36:03.185Z"
   },
   {
    "duration": 33778,
    "start_time": "2025-04-03T12:36:04.923Z"
   },
   {
    "duration": 13,
    "start_time": "2025-04-03T12:36:38.706Z"
   },
   {
    "duration": 5,
    "start_time": "2025-04-03T12:37:38.379Z"
   },
   {
    "duration": 16,
    "start_time": "2025-04-03T12:39:45.470Z"
   },
   {
    "duration": 10,
    "start_time": "2025-04-03T12:39:55.659Z"
   },
   {
    "duration": 11,
    "start_time": "2025-04-03T12:40:02.441Z"
   },
   {
    "duration": 12,
    "start_time": "2025-04-03T12:41:25.184Z"
   },
   {
    "duration": 11,
    "start_time": "2025-04-03T12:42:49.764Z"
   },
   {
    "duration": 23,
    "start_time": "2025-04-03T12:45:33.865Z"
   },
   {
    "duration": 12,
    "start_time": "2025-04-03T12:45:40.468Z"
   },
   {
    "duration": 15,
    "start_time": "2025-04-03T12:45:56.491Z"
   },
   {
    "duration": 13,
    "start_time": "2025-04-03T12:46:39.928Z"
   },
   {
    "duration": 711,
    "start_time": "2025-04-03T12:48:19.265Z"
   },
   {
    "duration": 12,
    "start_time": "2025-04-03T12:48:22.784Z"
   },
   {
    "duration": 1384,
    "start_time": "2025-04-03T12:48:36.237Z"
   },
   {
    "duration": 13,
    "start_time": "2025-04-03T12:48:37.624Z"
   },
   {
    "duration": 13,
    "start_time": "2025-04-03T12:48:42.431Z"
   },
   {
    "duration": 5063,
    "start_time": "2025-04-03T12:48:53.954Z"
   },
   {
    "duration": 12,
    "start_time": "2025-04-03T12:48:59.019Z"
   },
   {
    "duration": 4157,
    "start_time": "2025-04-03T12:49:33.818Z"
   },
   {
    "duration": 12,
    "start_time": "2025-04-03T12:49:37.977Z"
   },
   {
    "duration": 69,
    "start_time": "2025-04-03T12:51:34.588Z"
   },
   {
    "duration": 3034,
    "start_time": "2025-04-03T12:51:38.546Z"
   },
   {
    "duration": 12,
    "start_time": "2025-04-03T12:51:44.448Z"
   },
   {
    "duration": 11,
    "start_time": "2025-04-03T12:52:29.339Z"
   },
   {
    "duration": 15,
    "start_time": "2025-04-03T12:52:43.003Z"
   },
   {
    "duration": 5,
    "start_time": "2025-04-03T12:52:49.445Z"
   },
   {
    "duration": 16,
    "start_time": "2025-04-03T12:54:33.743Z"
   },
   {
    "duration": 21,
    "start_time": "2025-04-03T12:54:40.355Z"
   },
   {
    "duration": 5,
    "start_time": "2025-04-03T12:54:40.978Z"
   },
   {
    "duration": 15,
    "start_time": "2025-04-03T12:54:41.639Z"
   },
   {
    "duration": 188,
    "start_time": "2025-04-03T12:54:51.506Z"
   },
   {
    "duration": 565,
    "start_time": "2025-04-03T12:54:58.560Z"
   },
   {
    "duration": 4,
    "start_time": "2025-04-03T12:55:21.920Z"
   },
   {
    "duration": 74,
    "start_time": "2025-04-03T12:55:33.329Z"
   },
   {
    "duration": 11,
    "start_time": "2025-04-03T12:55:50.009Z"
   },
   {
    "duration": 3,
    "start_time": "2025-04-03T12:57:09.847Z"
   },
   {
    "duration": 12,
    "start_time": "2025-04-03T12:57:10.815Z"
   },
   {
    "duration": 4,
    "start_time": "2025-04-03T12:59:51.904Z"
   },
   {
    "duration": 3,
    "start_time": "2025-04-03T12:59:52.942Z"
   },
   {
    "duration": 13,
    "start_time": "2025-04-03T12:59:53.769Z"
   },
   {
    "duration": 3,
    "start_time": "2025-04-03T12:59:56.279Z"
   },
   {
    "duration": 3,
    "start_time": "2025-04-03T12:59:56.883Z"
   },
   {
    "duration": 14,
    "start_time": "2025-04-03T12:59:57.438Z"
   },
   {
    "duration": 15,
    "start_time": "2025-04-03T13:02:20.498Z"
   },
   {
    "duration": 33,
    "start_time": "2025-04-03T13:04:06.312Z"
   },
   {
    "duration": 1687,
    "start_time": "2025-04-03T13:04:14.393Z"
   },
   {
    "duration": 1664,
    "start_time": "2025-04-03T13:05:16.297Z"
   },
   {
    "duration": 1670,
    "start_time": "2025-04-03T13:05:26.361Z"
   },
   {
    "duration": 1666,
    "start_time": "2025-04-03T13:07:20.793Z"
   },
   {
    "duration": 8,
    "start_time": "2025-04-03T13:11:44.741Z"
   },
   {
    "duration": 1957,
    "start_time": "2025-04-03T13:15:07.991Z"
   },
   {
    "duration": 783,
    "start_time": "2025-04-03T13:17:31.862Z"
   },
   {
    "duration": 1704,
    "start_time": "2025-04-03T13:18:24.034Z"
   },
   {
    "duration": 891,
    "start_time": "2025-04-03T13:20:48.462Z"
   },
   {
    "duration": 4,
    "start_time": "2025-04-03T13:23:58.311Z"
   },
   {
    "duration": 2092,
    "start_time": "2025-04-03T13:23:58.316Z"
   },
   {
    "duration": 69,
    "start_time": "2025-04-03T13:24:00.410Z"
   },
   {
    "duration": 23,
    "start_time": "2025-04-03T13:24:00.482Z"
   },
   {
    "duration": 32,
    "start_time": "2025-04-03T13:24:00.507Z"
   },
   {
    "duration": 27,
    "start_time": "2025-04-03T13:24:00.542Z"
   },
   {
    "duration": 60,
    "start_time": "2025-04-03T13:24:00.571Z"
   },
   {
    "duration": 30,
    "start_time": "2025-04-03T13:24:00.633Z"
   },
   {
    "duration": 54,
    "start_time": "2025-04-03T13:24:00.665Z"
   },
   {
    "duration": 88,
    "start_time": "2025-04-03T13:24:00.723Z"
   },
   {
    "duration": 94,
    "start_time": "2025-04-03T13:24:00.813Z"
   },
   {
    "duration": 28,
    "start_time": "2025-04-03T13:24:00.908Z"
   },
   {
    "duration": 7,
    "start_time": "2025-04-03T13:24:00.938Z"
   },
   {
    "duration": 36,
    "start_time": "2025-04-03T13:24:00.947Z"
   },
   {
    "duration": 33,
    "start_time": "2025-04-03T13:24:00.985Z"
   },
   {
    "duration": 11,
    "start_time": "2025-04-03T13:24:01.020Z"
   },
   {
    "duration": 132,
    "start_time": "2025-04-03T13:24:01.032Z"
   },
   {
    "duration": 37,
    "start_time": "2025-04-03T13:24:01.166Z"
   },
   {
    "duration": 27,
    "start_time": "2025-04-03T13:24:01.205Z"
   },
   {
    "duration": 9,
    "start_time": "2025-04-03T13:24:01.234Z"
   },
   {
    "duration": 24,
    "start_time": "2025-04-03T13:24:01.245Z"
   },
   {
    "duration": 36,
    "start_time": "2025-04-03T13:24:01.271Z"
   },
   {
    "duration": 19,
    "start_time": "2025-04-03T13:24:01.309Z"
   },
   {
    "duration": 8,
    "start_time": "2025-04-03T13:24:01.330Z"
   },
   {
    "duration": 8,
    "start_time": "2025-04-03T13:24:01.339Z"
   },
   {
    "duration": 353,
    "start_time": "2025-04-03T13:24:01.349Z"
   },
   {
    "duration": 271,
    "start_time": "2025-04-03T13:24:01.704Z"
   },
   {
    "duration": 10,
    "start_time": "2025-04-03T13:24:01.979Z"
   },
   {
    "duration": 109,
    "start_time": "2025-04-03T13:24:01.990Z"
   },
   {
    "duration": 43,
    "start_time": "2025-04-03T13:24:02.101Z"
   },
   {
    "duration": 872,
    "start_time": "2025-04-03T13:24:02.147Z"
   },
   {
    "duration": 792,
    "start_time": "2025-04-03T13:24:03.021Z"
   },
   {
    "duration": 868,
    "start_time": "2025-04-03T13:24:03.815Z"
   },
   {
    "duration": 1021,
    "start_time": "2025-04-03T13:24:04.685Z"
   },
   {
    "duration": 782,
    "start_time": "2025-04-03T13:24:05.708Z"
   },
   {
    "duration": 766,
    "start_time": "2025-04-03T13:24:06.492Z"
   },
   {
    "duration": 1801,
    "start_time": "2025-04-03T13:24:07.260Z"
   },
   {
    "duration": 1901,
    "start_time": "2025-04-03T13:24:09.062Z"
   },
   {
    "duration": 401,
    "start_time": "2025-04-03T13:24:10.966Z"
   },
   {
    "duration": 390,
    "start_time": "2025-04-03T13:24:11.369Z"
   },
   {
    "duration": 388,
    "start_time": "2025-04-03T13:24:11.760Z"
   },
   {
    "duration": 366,
    "start_time": "2025-04-03T13:24:12.150Z"
   },
   {
    "duration": 377,
    "start_time": "2025-04-03T13:24:12.518Z"
   },
   {
    "duration": 392,
    "start_time": "2025-04-03T13:24:12.897Z"
   },
   {
    "duration": 7,
    "start_time": "2025-04-03T13:24:13.291Z"
   },
   {
    "duration": 751,
    "start_time": "2025-04-03T13:24:13.300Z"
   },
   {
    "duration": 702,
    "start_time": "2025-04-03T13:24:14.053Z"
   },
   {
    "duration": 1063,
    "start_time": "2025-04-03T13:24:14.757Z"
   },
   {
    "duration": 6,
    "start_time": "2025-04-03T13:24:15.822Z"
   },
   {
    "duration": 90,
    "start_time": "2025-04-03T13:24:15.830Z"
   },
   {
    "duration": 138,
    "start_time": "2025-04-03T13:24:15.921Z"
   },
   {
    "duration": 8,
    "start_time": "2025-04-03T13:24:16.061Z"
   },
   {
    "duration": 15,
    "start_time": "2025-04-03T13:24:16.072Z"
   },
   {
    "duration": 5,
    "start_time": "2025-04-03T13:24:16.090Z"
   },
   {
    "duration": 10,
    "start_time": "2025-04-03T13:24:16.097Z"
   },
   {
    "duration": 11,
    "start_time": "2025-04-03T13:24:16.109Z"
   },
   {
    "duration": 12539,
    "start_time": "2025-04-03T13:24:16.122Z"
   },
   {
    "duration": 0,
    "start_time": "2025-04-03T13:24:28.664Z"
   },
   {
    "duration": 0,
    "start_time": "2025-04-03T13:24:28.665Z"
   },
   {
    "duration": 0,
    "start_time": "2025-04-03T13:24:28.666Z"
   },
   {
    "duration": 0,
    "start_time": "2025-04-03T13:24:28.668Z"
   },
   {
    "duration": 0,
    "start_time": "2025-04-03T13:24:28.669Z"
   },
   {
    "duration": 0,
    "start_time": "2025-04-03T13:24:28.670Z"
   },
   {
    "duration": 0,
    "start_time": "2025-04-03T13:24:28.671Z"
   },
   {
    "duration": 0,
    "start_time": "2025-04-03T13:24:28.672Z"
   },
   {
    "duration": 0,
    "start_time": "2025-04-03T13:24:28.673Z"
   },
   {
    "duration": 0,
    "start_time": "2025-04-03T13:24:28.674Z"
   },
   {
    "duration": 0,
    "start_time": "2025-04-03T13:24:28.675Z"
   },
   {
    "duration": 0,
    "start_time": "2025-04-03T13:24:28.676Z"
   },
   {
    "duration": 0,
    "start_time": "2025-04-03T13:24:28.677Z"
   },
   {
    "duration": 0,
    "start_time": "2025-04-03T13:24:28.679Z"
   },
   {
    "duration": 0,
    "start_time": "2025-04-03T13:24:28.705Z"
   },
   {
    "duration": 0,
    "start_time": "2025-04-03T13:24:28.706Z"
   },
   {
    "duration": 0,
    "start_time": "2025-04-03T13:24:28.707Z"
   },
   {
    "duration": 0,
    "start_time": "2025-04-03T13:24:28.709Z"
   },
   {
    "duration": 0,
    "start_time": "2025-04-03T13:24:28.711Z"
   },
   {
    "duration": 0,
    "start_time": "2025-04-03T13:24:28.712Z"
   },
   {
    "duration": 0,
    "start_time": "2025-04-03T13:24:28.713Z"
   },
   {
    "duration": 0,
    "start_time": "2025-04-03T13:24:28.714Z"
   },
   {
    "duration": 0,
    "start_time": "2025-04-03T13:24:28.715Z"
   },
   {
    "duration": 0,
    "start_time": "2025-04-03T13:24:28.716Z"
   },
   {
    "duration": 0,
    "start_time": "2025-04-03T13:24:28.717Z"
   },
   {
    "duration": 0,
    "start_time": "2025-04-03T13:24:28.718Z"
   },
   {
    "duration": 0,
    "start_time": "2025-04-03T13:24:28.719Z"
   },
   {
    "duration": 0,
    "start_time": "2025-04-03T13:24:28.720Z"
   },
   {
    "duration": 0,
    "start_time": "2025-04-03T13:24:28.721Z"
   },
   {
    "duration": 0,
    "start_time": "2025-04-03T13:24:28.722Z"
   },
   {
    "duration": 0,
    "start_time": "2025-04-03T13:24:28.723Z"
   },
   {
    "duration": 0,
    "start_time": "2025-04-03T13:24:28.725Z"
   },
   {
    "duration": 0,
    "start_time": "2025-04-03T13:24:28.725Z"
   },
   {
    "duration": 0,
    "start_time": "2025-04-03T13:24:28.727Z"
   },
   {
    "duration": 0,
    "start_time": "2025-04-03T13:24:28.728Z"
   },
   {
    "duration": 0,
    "start_time": "2025-04-03T13:24:28.729Z"
   },
   {
    "duration": 0,
    "start_time": "2025-04-03T13:24:28.730Z"
   },
   {
    "duration": 0,
    "start_time": "2025-04-03T13:24:28.731Z"
   },
   {
    "duration": 0,
    "start_time": "2025-04-03T13:24:28.732Z"
   },
   {
    "duration": 0,
    "start_time": "2025-04-03T13:24:28.733Z"
   },
   {
    "duration": 0,
    "start_time": "2025-04-03T13:24:28.734Z"
   },
   {
    "duration": 0,
    "start_time": "2025-04-03T13:24:28.735Z"
   },
   {
    "duration": 0,
    "start_time": "2025-04-03T13:24:28.736Z"
   },
   {
    "duration": 0,
    "start_time": "2025-04-03T13:24:28.738Z"
   },
   {
    "duration": 0,
    "start_time": "2025-04-03T13:24:28.739Z"
   },
   {
    "duration": 0,
    "start_time": "2025-04-03T13:24:28.740Z"
   },
   {
    "duration": 0,
    "start_time": "2025-04-03T13:24:28.741Z"
   },
   {
    "duration": 0,
    "start_time": "2025-04-03T13:24:28.742Z"
   },
   {
    "duration": 12600,
    "start_time": "2025-04-03T13:31:46.578Z"
   },
   {
    "duration": 7,
    "start_time": "2025-04-03T13:31:59.180Z"
   },
   {
    "duration": 835,
    "start_time": "2025-04-03T13:31:59.189Z"
   },
   {
    "duration": 64,
    "start_time": "2025-04-03T13:32:00.027Z"
   },
   {
    "duration": 42,
    "start_time": "2025-04-03T13:32:00.093Z"
   },
   {
    "duration": 61,
    "start_time": "2025-04-03T13:32:00.137Z"
   },
   {
    "duration": 33,
    "start_time": "2025-04-03T13:32:00.200Z"
   },
   {
    "duration": 22,
    "start_time": "2025-04-03T13:32:00.235Z"
   },
   {
    "duration": 53,
    "start_time": "2025-04-03T13:32:00.259Z"
   },
   {
    "duration": 27,
    "start_time": "2025-04-03T13:32:00.315Z"
   },
   {
    "duration": 49,
    "start_time": "2025-04-03T13:32:00.343Z"
   },
   {
    "duration": 49,
    "start_time": "2025-04-03T13:32:00.394Z"
   },
   {
    "duration": 53,
    "start_time": "2025-04-03T13:32:00.445Z"
   },
   {
    "duration": 42,
    "start_time": "2025-04-03T13:32:00.499Z"
   },
   {
    "duration": 35,
    "start_time": "2025-04-03T13:32:00.543Z"
   },
   {
    "duration": 14,
    "start_time": "2025-04-03T13:32:00.579Z"
   },
   {
    "duration": 24,
    "start_time": "2025-04-03T13:32:00.595Z"
   },
   {
    "duration": 11,
    "start_time": "2025-04-03T13:32:00.625Z"
   },
   {
    "duration": 11,
    "start_time": "2025-04-03T13:32:00.638Z"
   },
   {
    "duration": 657,
    "start_time": "2025-04-03T13:32:00.651Z"
   },
   {
    "duration": 671,
    "start_time": "2025-04-03T13:32:01.309Z"
   },
   {
    "duration": 916,
    "start_time": "2025-04-03T13:32:01.982Z"
   },
   {
    "duration": 892,
    "start_time": "2025-04-03T13:32:02.905Z"
   },
   {
    "duration": 967,
    "start_time": "2025-04-03T13:32:03.799Z"
   },
   {
    "duration": 832,
    "start_time": "2025-04-03T13:32:04.769Z"
   },
   {
    "duration": 1825,
    "start_time": "2025-04-03T13:32:05.605Z"
   },
   {
    "duration": 328,
    "start_time": "2025-04-03T13:32:07.432Z"
   },
   {
    "duration": 361,
    "start_time": "2025-04-03T13:32:07.765Z"
   },
   {
    "duration": 335,
    "start_time": "2025-04-03T13:32:08.128Z"
   },
   {
    "duration": 385,
    "start_time": "2025-04-03T13:32:08.466Z"
   },
   {
    "duration": 432,
    "start_time": "2025-04-03T13:32:08.853Z"
   },
   {
    "duration": 409,
    "start_time": "2025-04-03T13:32:09.287Z"
   },
   {
    "duration": 12,
    "start_time": "2025-04-03T13:32:09.698Z"
   },
   {
    "duration": 785,
    "start_time": "2025-04-03T13:32:09.712Z"
   },
   {
    "duration": 612,
    "start_time": "2025-04-03T13:32:10.499Z"
   },
   {
    "duration": 757,
    "start_time": "2025-04-03T13:32:11.112Z"
   },
   {
    "duration": 8,
    "start_time": "2025-04-03T13:32:11.871Z"
   },
   {
    "duration": 60,
    "start_time": "2025-04-03T13:32:11.880Z"
   },
   {
    "duration": 131,
    "start_time": "2025-04-03T13:32:11.942Z"
   },
   {
    "duration": 452,
    "start_time": "2025-04-03T13:32:12.075Z"
   },
   {
    "duration": 8,
    "start_time": "2025-04-03T13:32:12.529Z"
   },
   {
    "duration": 31,
    "start_time": "2025-04-03T13:32:12.539Z"
   },
   {
    "duration": 982,
    "start_time": "2025-04-03T13:32:12.572Z"
   },
   {
    "duration": 10,
    "start_time": "2025-04-03T13:32:13.556Z"
   },
   {
    "duration": 10,
    "start_time": "2025-04-03T13:32:13.568Z"
   },
   {
    "duration": 3259,
    "start_time": "2025-04-03T13:32:13.581Z"
   },
   {
    "duration": 15,
    "start_time": "2025-04-03T13:32:16.843Z"
   },
   {
    "duration": 104,
    "start_time": "2025-04-03T13:32:16.860Z"
   },
   {
    "duration": 1893,
    "start_time": "2025-04-03T13:32:16.966Z"
   },
   {
    "duration": 4,
    "start_time": "2025-04-03T13:45:20.221Z"
   },
   {
    "duration": 2030,
    "start_time": "2025-04-03T13:45:20.228Z"
   },
   {
    "duration": 67,
    "start_time": "2025-04-03T13:45:22.260Z"
   },
   {
    "duration": 24,
    "start_time": "2025-04-03T13:45:22.329Z"
   },
   {
    "duration": 15,
    "start_time": "2025-04-03T13:45:22.356Z"
   },
   {
    "duration": 14,
    "start_time": "2025-04-03T13:45:22.373Z"
   },
   {
    "duration": 21,
    "start_time": "2025-04-03T13:45:22.389Z"
   },
   {
    "duration": 8,
    "start_time": "2025-04-03T13:45:22.412Z"
   },
   {
    "duration": 12,
    "start_time": "2025-04-03T13:45:22.422Z"
   },
   {
    "duration": 4,
    "start_time": "2025-04-03T13:45:22.436Z"
   },
   {
    "duration": 8,
    "start_time": "2025-04-03T13:45:22.442Z"
   },
   {
    "duration": 7,
    "start_time": "2025-04-03T13:45:22.452Z"
   },
   {
    "duration": 11,
    "start_time": "2025-04-03T13:45:22.464Z"
   },
   {
    "duration": 65,
    "start_time": "2025-04-03T13:45:22.477Z"
   },
   {
    "duration": 29,
    "start_time": "2025-04-03T13:45:22.543Z"
   },
   {
    "duration": 36,
    "start_time": "2025-04-03T13:45:22.574Z"
   },
   {
    "duration": 12,
    "start_time": "2025-04-03T13:45:22.612Z"
   },
   {
    "duration": 14,
    "start_time": "2025-04-03T13:45:22.625Z"
   },
   {
    "duration": 6,
    "start_time": "2025-04-03T13:45:22.640Z"
   },
   {
    "duration": 5,
    "start_time": "2025-04-03T13:45:22.648Z"
   },
   {
    "duration": 19,
    "start_time": "2025-04-03T13:45:22.655Z"
   },
   {
    "duration": 6,
    "start_time": "2025-04-03T13:45:22.676Z"
   },
   {
    "duration": 5,
    "start_time": "2025-04-03T13:45:22.684Z"
   },
   {
    "duration": 10,
    "start_time": "2025-04-03T13:45:22.705Z"
   },
   {
    "duration": 7,
    "start_time": "2025-04-03T13:45:22.716Z"
   },
   {
    "duration": 322,
    "start_time": "2025-04-03T13:45:22.725Z"
   },
   {
    "duration": 333,
    "start_time": "2025-04-03T13:45:23.048Z"
   },
   {
    "duration": 10,
    "start_time": "2025-04-03T13:45:23.384Z"
   },
   {
    "duration": 10,
    "start_time": "2025-04-03T13:45:23.405Z"
   },
   {
    "duration": 11,
    "start_time": "2025-04-03T13:45:23.416Z"
   },
   {
    "duration": 901,
    "start_time": "2025-04-03T13:45:23.429Z"
   },
   {
    "duration": 917,
    "start_time": "2025-04-03T13:45:24.332Z"
   },
   {
    "duration": 944,
    "start_time": "2025-04-03T13:45:25.250Z"
   },
   {
    "duration": 990,
    "start_time": "2025-04-03T13:45:26.197Z"
   },
   {
    "duration": 770,
    "start_time": "2025-04-03T13:45:27.188Z"
   },
   {
    "duration": 784,
    "start_time": "2025-04-03T13:45:27.960Z"
   },
   {
    "duration": 1856,
    "start_time": "2025-04-03T13:45:28.751Z"
   },
   {
    "duration": 1908,
    "start_time": "2025-04-03T13:45:30.609Z"
   },
   {
    "duration": 375,
    "start_time": "2025-04-03T13:45:32.519Z"
   },
   {
    "duration": 388,
    "start_time": "2025-04-03T13:45:32.896Z"
   },
   {
    "duration": 418,
    "start_time": "2025-04-03T13:45:33.286Z"
   },
   {
    "duration": 375,
    "start_time": "2025-04-03T13:45:33.706Z"
   },
   {
    "duration": 381,
    "start_time": "2025-04-03T13:45:34.083Z"
   },
   {
    "duration": 416,
    "start_time": "2025-04-03T13:45:34.466Z"
   },
   {
    "duration": 10,
    "start_time": "2025-04-03T13:45:34.883Z"
   },
   {
    "duration": 834,
    "start_time": "2025-04-03T13:45:34.906Z"
   },
   {
    "duration": 715,
    "start_time": "2025-04-03T13:45:35.742Z"
   },
   {
    "duration": 1093,
    "start_time": "2025-04-03T13:45:36.459Z"
   },
   {
    "duration": 8,
    "start_time": "2025-04-03T13:45:37.555Z"
   },
   {
    "duration": 15,
    "start_time": "2025-04-03T13:45:37.565Z"
   },
   {
    "duration": 13,
    "start_time": "2025-04-03T13:45:37.582Z"
   },
   {
    "duration": 4,
    "start_time": "2025-04-03T13:45:37.606Z"
   },
   {
    "duration": 11,
    "start_time": "2025-04-03T13:45:37.611Z"
   },
   {
    "duration": 11,
    "start_time": "2025-04-03T13:45:37.624Z"
   },
   {
    "duration": 30,
    "start_time": "2025-04-03T13:45:37.637Z"
   },
   {
    "duration": 10,
    "start_time": "2025-04-03T13:45:37.669Z"
   },
   {
    "duration": 12614,
    "start_time": "2025-04-03T13:45:37.681Z"
   },
   {
    "duration": 12,
    "start_time": "2025-04-03T13:45:50.297Z"
   },
   {
    "duration": 814,
    "start_time": "2025-04-03T13:45:50.311Z"
   },
   {
    "duration": 68,
    "start_time": "2025-04-03T13:45:51.127Z"
   },
   {
    "duration": 15,
    "start_time": "2025-04-03T13:45:51.197Z"
   },
   {
    "duration": 76,
    "start_time": "2025-04-03T13:45:51.214Z"
   },
   {
    "duration": 24,
    "start_time": "2025-04-03T13:45:51.292Z"
   },
   {
    "duration": 13,
    "start_time": "2025-04-03T13:45:51.318Z"
   },
   {
    "duration": 25,
    "start_time": "2025-04-03T13:45:51.333Z"
   },
   {
    "duration": 23,
    "start_time": "2025-04-03T13:45:51.360Z"
   },
   {
    "duration": 37,
    "start_time": "2025-04-03T13:45:51.385Z"
   },
   {
    "duration": 8,
    "start_time": "2025-04-03T13:45:51.424Z"
   },
   {
    "duration": 11,
    "start_time": "2025-04-03T13:45:51.433Z"
   },
   {
    "duration": 35,
    "start_time": "2025-04-03T13:45:51.446Z"
   },
   {
    "duration": 42,
    "start_time": "2025-04-03T13:45:51.482Z"
   },
   {
    "duration": 12,
    "start_time": "2025-04-03T13:45:51.526Z"
   },
   {
    "duration": 13,
    "start_time": "2025-04-03T13:45:51.541Z"
   },
   {
    "duration": 10,
    "start_time": "2025-04-03T13:45:51.556Z"
   },
   {
    "duration": 10,
    "start_time": "2025-04-03T13:45:51.568Z"
   },
   {
    "duration": 711,
    "start_time": "2025-04-03T13:45:51.580Z"
   },
   {
    "duration": 654,
    "start_time": "2025-04-03T13:45:52.293Z"
   },
   {
    "duration": 923,
    "start_time": "2025-04-03T13:45:52.949Z"
   },
   {
    "duration": 951,
    "start_time": "2025-04-03T13:45:53.874Z"
   },
   {
    "duration": 816,
    "start_time": "2025-04-03T13:45:54.827Z"
   },
   {
    "duration": 979,
    "start_time": "2025-04-03T13:45:55.645Z"
   },
   {
    "duration": 1860,
    "start_time": "2025-04-03T13:45:56.626Z"
   },
   {
    "duration": 376,
    "start_time": "2025-04-03T13:45:58.488Z"
   },
   {
    "duration": 416,
    "start_time": "2025-04-03T13:45:58.866Z"
   },
   {
    "duration": 406,
    "start_time": "2025-04-03T13:45:59.284Z"
   },
   {
    "duration": 402,
    "start_time": "2025-04-03T13:45:59.691Z"
   },
   {
    "duration": 395,
    "start_time": "2025-04-03T13:46:00.095Z"
   },
   {
    "duration": 411,
    "start_time": "2025-04-03T13:46:00.492Z"
   },
   {
    "duration": 8,
    "start_time": "2025-04-03T13:46:00.908Z"
   },
   {
    "duration": 911,
    "start_time": "2025-04-03T13:46:00.919Z"
   },
   {
    "duration": 664,
    "start_time": "2025-04-03T13:46:01.833Z"
   },
   {
    "duration": 778,
    "start_time": "2025-04-03T13:46:02.499Z"
   },
   {
    "duration": 8,
    "start_time": "2025-04-03T13:46:03.279Z"
   },
   {
    "duration": 23,
    "start_time": "2025-04-03T13:46:03.289Z"
   },
   {
    "duration": 24,
    "start_time": "2025-04-03T13:46:03.314Z"
   },
   {
    "duration": 475,
    "start_time": "2025-04-03T13:46:03.340Z"
   },
   {
    "duration": 10,
    "start_time": "2025-04-03T13:46:03.817Z"
   },
   {
    "duration": 43,
    "start_time": "2025-04-03T13:46:03.828Z"
   },
   {
    "duration": 1013,
    "start_time": "2025-04-03T13:46:03.873Z"
   },
   {
    "duration": 13,
    "start_time": "2025-04-03T13:46:04.890Z"
   },
   {
    "duration": 109,
    "start_time": "2025-04-03T13:46:04.906Z"
   },
   {
    "duration": 3322,
    "start_time": "2025-04-03T13:46:05.017Z"
   },
   {
    "duration": 14,
    "start_time": "2025-04-03T13:46:08.342Z"
   },
   {
    "duration": 11,
    "start_time": "2025-04-03T13:46:08.358Z"
   },
   {
    "duration": 1996,
    "start_time": "2025-04-03T13:46:08.372Z"
   },
   {
    "duration": 10,
    "start_time": "2025-04-03T13:51:41.315Z"
   },
   {
    "duration": 12,
    "start_time": "2025-04-03T13:51:46.147Z"
   },
   {
    "duration": 10,
    "start_time": "2025-04-03T13:51:47.170Z"
   },
   {
    "duration": 3498,
    "start_time": "2025-04-03T13:51:47.730Z"
   },
   {
    "duration": 16,
    "start_time": "2025-04-03T13:51:51.231Z"
   },
   {
    "duration": 3568,
    "start_time": "2025-04-03T13:52:18.284Z"
   },
   {
    "duration": 13,
    "start_time": "2025-04-03T13:52:24.230Z"
   },
   {
    "duration": 4,
    "start_time": "2025-04-03T13:53:57.020Z"
   },
   {
    "duration": 2415,
    "start_time": "2025-04-03T13:53:57.027Z"
   },
   {
    "duration": 68,
    "start_time": "2025-04-03T13:53:59.444Z"
   },
   {
    "duration": 29,
    "start_time": "2025-04-03T13:53:59.514Z"
   },
   {
    "duration": 16,
    "start_time": "2025-04-03T13:53:59.546Z"
   },
   {
    "duration": 15,
    "start_time": "2025-04-03T13:53:59.564Z"
   },
   {
    "duration": 36,
    "start_time": "2025-04-03T13:53:59.581Z"
   },
   {
    "duration": 11,
    "start_time": "2025-04-03T13:53:59.619Z"
   },
   {
    "duration": 11,
    "start_time": "2025-04-03T13:53:59.632Z"
   },
   {
    "duration": 11,
    "start_time": "2025-04-03T13:53:59.645Z"
   },
   {
    "duration": 15,
    "start_time": "2025-04-03T13:53:59.658Z"
   },
   {
    "duration": 30,
    "start_time": "2025-04-03T13:53:59.675Z"
   },
   {
    "duration": 8,
    "start_time": "2025-04-03T13:53:59.713Z"
   },
   {
    "duration": 46,
    "start_time": "2025-04-03T13:53:59.724Z"
   },
   {
    "duration": 46,
    "start_time": "2025-04-03T13:53:59.772Z"
   },
   {
    "duration": 13,
    "start_time": "2025-04-03T13:53:59.821Z"
   },
   {
    "duration": 13,
    "start_time": "2025-04-03T13:53:59.836Z"
   },
   {
    "duration": 8,
    "start_time": "2025-04-03T13:53:59.851Z"
   },
   {
    "duration": 9,
    "start_time": "2025-04-03T13:53:59.861Z"
   },
   {
    "duration": 10,
    "start_time": "2025-04-03T13:53:59.872Z"
   },
   {
    "duration": 21,
    "start_time": "2025-04-03T13:53:59.884Z"
   },
   {
    "duration": 78,
    "start_time": "2025-04-03T13:53:59.907Z"
   },
   {
    "duration": 146,
    "start_time": "2025-04-03T13:53:59.987Z"
   },
   {
    "duration": 178,
    "start_time": "2025-04-03T13:54:00.134Z"
   },
   {
    "duration": 14,
    "start_time": "2025-04-03T13:54:00.314Z"
   },
   {
    "duration": 367,
    "start_time": "2025-04-03T13:54:00.330Z"
   },
   {
    "duration": 296,
    "start_time": "2025-04-03T13:54:00.699Z"
   },
   {
    "duration": 16,
    "start_time": "2025-04-03T13:54:00.997Z"
   },
   {
    "duration": 21,
    "start_time": "2025-04-03T13:54:01.018Z"
   },
   {
    "duration": 39,
    "start_time": "2025-04-03T13:54:01.041Z"
   },
   {
    "duration": 981,
    "start_time": "2025-04-03T13:54:01.082Z"
   },
   {
    "duration": 899,
    "start_time": "2025-04-03T13:54:02.065Z"
   },
   {
    "duration": 947,
    "start_time": "2025-04-03T13:54:02.966Z"
   },
   {
    "duration": 1114,
    "start_time": "2025-04-03T13:54:03.915Z"
   },
   {
    "duration": 869,
    "start_time": "2025-04-03T13:54:05.032Z"
   },
   {
    "duration": 805,
    "start_time": "2025-04-03T13:54:05.903Z"
   },
   {
    "duration": 2069,
    "start_time": "2025-04-03T13:54:06.717Z"
   },
   {
    "duration": 2182,
    "start_time": "2025-04-03T13:54:08.789Z"
   },
   {
    "duration": 416,
    "start_time": "2025-04-03T13:54:10.972Z"
   },
   {
    "duration": 391,
    "start_time": "2025-04-03T13:54:11.390Z"
   },
   {
    "duration": 413,
    "start_time": "2025-04-03T13:54:11.784Z"
   },
   {
    "duration": 394,
    "start_time": "2025-04-03T13:54:12.199Z"
   },
   {
    "duration": 389,
    "start_time": "2025-04-03T13:54:12.595Z"
   },
   {
    "duration": 424,
    "start_time": "2025-04-03T13:54:12.986Z"
   },
   {
    "duration": 10,
    "start_time": "2025-04-03T13:54:13.412Z"
   },
   {
    "duration": 803,
    "start_time": "2025-04-03T13:54:13.424Z"
   },
   {
    "duration": 868,
    "start_time": "2025-04-03T13:54:14.229Z"
   },
   {
    "duration": 1293,
    "start_time": "2025-04-03T13:54:15.099Z"
   },
   {
    "duration": 15,
    "start_time": "2025-04-03T13:54:16.395Z"
   },
   {
    "duration": 26,
    "start_time": "2025-04-03T13:54:16.412Z"
   },
   {
    "duration": 26,
    "start_time": "2025-04-03T13:54:16.440Z"
   },
   {
    "duration": 32,
    "start_time": "2025-04-03T13:54:16.469Z"
   },
   {
    "duration": 31,
    "start_time": "2025-04-03T13:54:16.503Z"
   },
   {
    "duration": 5,
    "start_time": "2025-04-03T13:54:16.536Z"
   },
   {
    "duration": 22,
    "start_time": "2025-04-03T13:54:16.543Z"
   },
   {
    "duration": 29,
    "start_time": "2025-04-03T13:54:16.567Z"
   },
   {
    "duration": 13944,
    "start_time": "2025-04-03T13:54:16.598Z"
   },
   {
    "duration": 10,
    "start_time": "2025-04-03T13:54:30.543Z"
   },
   {
    "duration": 1024,
    "start_time": "2025-04-03T13:54:30.555Z"
   },
   {
    "duration": 80,
    "start_time": "2025-04-03T13:54:31.581Z"
   },
   {
    "duration": 16,
    "start_time": "2025-04-03T13:54:31.663Z"
   },
   {
    "duration": 43,
    "start_time": "2025-04-03T13:54:31.681Z"
   },
   {
    "duration": 12,
    "start_time": "2025-04-03T13:54:31.726Z"
   },
   {
    "duration": 23,
    "start_time": "2025-04-03T13:54:31.739Z"
   },
   {
    "duration": 24,
    "start_time": "2025-04-03T13:54:31.765Z"
   },
   {
    "duration": 37,
    "start_time": "2025-04-03T13:54:31.790Z"
   },
   {
    "duration": 9,
    "start_time": "2025-04-03T13:54:31.829Z"
   },
   {
    "duration": 10,
    "start_time": "2025-04-03T13:54:31.840Z"
   },
   {
    "duration": 55,
    "start_time": "2025-04-03T13:54:31.852Z"
   },
   {
    "duration": 102,
    "start_time": "2025-04-03T13:54:31.909Z"
   },
   {
    "duration": 52,
    "start_time": "2025-04-03T13:54:32.014Z"
   },
   {
    "duration": 154,
    "start_time": "2025-04-03T13:54:32.068Z"
   },
   {
    "duration": 44,
    "start_time": "2025-04-03T13:54:32.224Z"
   },
   {
    "duration": 32,
    "start_time": "2025-04-03T13:54:32.271Z"
   },
   {
    "duration": 17,
    "start_time": "2025-04-03T13:54:32.306Z"
   },
   {
    "duration": 722,
    "start_time": "2025-04-03T13:54:32.325Z"
   },
   {
    "duration": 819,
    "start_time": "2025-04-03T13:54:33.049Z"
   },
   {
    "duration": 1325,
    "start_time": "2025-04-03T13:54:33.869Z"
   },
   {
    "duration": 1004,
    "start_time": "2025-04-03T13:54:35.196Z"
   },
   {
    "duration": 787,
    "start_time": "2025-04-03T13:54:36.205Z"
   },
   {
    "duration": 1015,
    "start_time": "2025-04-03T13:54:36.994Z"
   },
   {
    "duration": 1983,
    "start_time": "2025-04-03T13:54:38.011Z"
   },
   {
    "duration": 361,
    "start_time": "2025-04-03T13:54:39.996Z"
   },
   {
    "duration": 332,
    "start_time": "2025-04-03T13:54:40.359Z"
   },
   {
    "duration": 403,
    "start_time": "2025-04-03T13:54:40.693Z"
   },
   {
    "duration": 369,
    "start_time": "2025-04-03T13:54:41.098Z"
   },
   {
    "duration": 397,
    "start_time": "2025-04-03T13:54:41.469Z"
   },
   {
    "duration": 433,
    "start_time": "2025-04-03T13:54:41.867Z"
   },
   {
    "duration": 9,
    "start_time": "2025-04-03T13:54:42.306Z"
   },
   {
    "duration": 818,
    "start_time": "2025-04-03T13:54:42.318Z"
   },
   {
    "duration": 676,
    "start_time": "2025-04-03T13:54:43.137Z"
   },
   {
    "duration": 818,
    "start_time": "2025-04-03T13:54:43.815Z"
   },
   {
    "duration": 11,
    "start_time": "2025-04-03T13:54:44.635Z"
   },
   {
    "duration": 8,
    "start_time": "2025-04-03T13:54:44.649Z"
   },
   {
    "duration": 15,
    "start_time": "2025-04-03T13:54:44.659Z"
   },
   {
    "duration": 531,
    "start_time": "2025-04-03T13:54:44.676Z"
   },
   {
    "duration": 13,
    "start_time": "2025-04-03T13:54:45.209Z"
   },
   {
    "duration": 123,
    "start_time": "2025-04-03T13:54:45.225Z"
   },
   {
    "duration": 1024,
    "start_time": "2025-04-03T13:54:45.350Z"
   },
   {
    "duration": 12,
    "start_time": "2025-04-03T13:54:46.377Z"
   },
   {
    "duration": 9,
    "start_time": "2025-04-03T13:54:46.391Z"
   },
   {
    "duration": 3555,
    "start_time": "2025-04-03T13:54:46.402Z"
   },
   {
    "duration": 12,
    "start_time": "2025-04-03T13:54:49.959Z"
   },
   {
    "duration": 67,
    "start_time": "2025-04-03T13:54:49.973Z"
   },
   {
    "duration": 2207,
    "start_time": "2025-04-03T13:54:50.042Z"
   },
   {
    "duration": 17,
    "start_time": "2025-04-04T12:02:59.614Z"
   },
   {
    "duration": 32,
    "start_time": "2025-04-04T12:03:35.334Z"
   },
   {
    "duration": 1012,
    "start_time": "2025-04-04T12:03:42.578Z"
   },
   {
    "duration": 887,
    "start_time": "2025-04-04T12:03:48.418Z"
   },
   {
    "duration": 32,
    "start_time": "2025-04-04T12:06:05.527Z"
   },
   {
    "duration": 9,
    "start_time": "2025-04-04T12:06:22.549Z"
   },
   {
    "duration": 7,
    "start_time": "2025-04-04T12:06:25.029Z"
   },
   {
    "duration": 3264,
    "start_time": "2025-04-04T12:06:26.079Z"
   },
   {
    "duration": 12,
    "start_time": "2025-04-04T12:06:29.346Z"
   },
   {
    "duration": 3139,
    "start_time": "2025-04-04T12:06:47.232Z"
   },
   {
    "duration": 12,
    "start_time": "2025-04-04T12:06:50.373Z"
   },
   {
    "duration": 3223,
    "start_time": "2025-04-04T12:07:00.552Z"
   },
   {
    "duration": 12,
    "start_time": "2025-04-04T12:07:03.777Z"
   },
   {
    "duration": 3236,
    "start_time": "2025-04-04T12:07:23.312Z"
   },
   {
    "duration": 12,
    "start_time": "2025-04-04T12:07:26.550Z"
   },
   {
    "duration": 3752,
    "start_time": "2025-04-04T12:07:32.944Z"
   },
   {
    "duration": 12,
    "start_time": "2025-04-04T12:07:36.706Z"
   },
   {
    "duration": 7347,
    "start_time": "2025-04-04T12:07:43.360Z"
   },
   {
    "duration": 12,
    "start_time": "2025-04-04T12:07:50.708Z"
   },
   {
    "duration": 7562,
    "start_time": "2025-04-04T12:08:31.457Z"
   },
   {
    "duration": 11,
    "start_time": "2025-04-04T12:08:39.021Z"
   },
   {
    "duration": 5052,
    "start_time": "2025-04-04T12:08:46.573Z"
   },
   {
    "duration": 12,
    "start_time": "2025-04-04T12:08:51.627Z"
   },
   {
    "duration": 4589,
    "start_time": "2025-04-04T12:09:05.205Z"
   },
   {
    "duration": 17,
    "start_time": "2025-04-04T12:09:09.796Z"
   },
   {
    "duration": 10565,
    "start_time": "2025-04-04T12:09:16.757Z"
   },
   {
    "duration": 12,
    "start_time": "2025-04-04T12:09:27.324Z"
   },
   {
    "duration": 9659,
    "start_time": "2025-04-04T12:09:44.965Z"
   },
   {
    "duration": 85,
    "start_time": "2025-04-04T12:09:54.626Z"
   },
   {
    "duration": 8533,
    "start_time": "2025-04-04T12:10:11.472Z"
   },
   {
    "duration": 11,
    "start_time": "2025-04-04T12:10:20.007Z"
   },
   {
    "duration": 13445,
    "start_time": "2025-04-04T12:10:29.847Z"
   },
   {
    "duration": 17,
    "start_time": "2025-04-04T12:10:43.294Z"
   },
   {
    "duration": 8,
    "start_time": "2025-04-04T12:11:21.928Z"
   },
   {
    "duration": 13156,
    "start_time": "2025-04-04T12:11:25.281Z"
   },
   {
    "duration": 12,
    "start_time": "2025-04-04T12:11:38.439Z"
   },
   {
    "duration": 101,
    "start_time": "2025-04-04T12:13:13.101Z"
   },
   {
    "duration": 12,
    "start_time": "2025-04-04T12:13:13.778Z"
   },
   {
    "duration": 83,
    "start_time": "2025-04-04T12:13:25.691Z"
   },
   {
    "duration": 13418,
    "start_time": "2025-04-04T12:13:38.499Z"
   },
   {
    "duration": 11,
    "start_time": "2025-04-04T12:13:51.919Z"
   },
   {
    "duration": 159,
    "start_time": "2025-04-04T12:16:17.740Z"
   },
   {
    "duration": 19,
    "start_time": "2025-04-04T12:17:02.961Z"
   },
   {
    "duration": 74,
    "start_time": "2025-04-04T12:17:38.060Z"
   },
   {
    "duration": 5,
    "start_time": "2025-04-04T12:17:49.397Z"
   },
   {
    "duration": 14380,
    "start_time": "2025-04-04T12:18:00.639Z"
   },
   {
    "duration": 12,
    "start_time": "2025-04-04T12:18:15.021Z"
   },
   {
    "duration": 13650,
    "start_time": "2025-04-04T12:19:12.566Z"
   },
   {
    "duration": 13,
    "start_time": "2025-04-04T12:19:26.219Z"
   },
   {
    "duration": 10,
    "start_time": "2025-04-04T12:20:39.220Z"
   },
   {
    "duration": 17549,
    "start_time": "2025-04-04T12:21:34.166Z"
   },
   {
    "duration": 11,
    "start_time": "2025-04-04T12:21:51.717Z"
   },
   {
    "duration": 17486,
    "start_time": "2025-04-04T12:24:32.035Z"
   },
   {
    "duration": 92,
    "start_time": "2025-04-04T12:24:49.523Z"
   },
   {
    "duration": 17098,
    "start_time": "2025-04-04T12:25:29.510Z"
   },
   {
    "duration": 11,
    "start_time": "2025-04-04T12:25:46.610Z"
   },
   {
    "duration": 17031,
    "start_time": "2025-04-04T12:26:08.485Z"
   },
   {
    "duration": 12,
    "start_time": "2025-04-04T12:26:25.518Z"
   },
   {
    "duration": 24133,
    "start_time": "2025-04-04T12:28:14.390Z"
   },
   {
    "duration": 11,
    "start_time": "2025-04-04T12:28:38.525Z"
   },
   {
    "duration": 10,
    "start_time": "2025-04-04T12:28:57.480Z"
   },
   {
    "duration": 70,
    "start_time": "2025-04-04T12:29:49.424Z"
   },
   {
    "duration": 20526,
    "start_time": "2025-04-04T12:29:59.192Z"
   },
   {
    "duration": 12,
    "start_time": "2025-04-04T12:30:19.720Z"
   },
   {
    "duration": 17746,
    "start_time": "2025-04-04T12:30:31.869Z"
   },
   {
    "duration": 12,
    "start_time": "2025-04-04T12:30:49.617Z"
   },
   {
    "duration": 18122,
    "start_time": "2025-04-04T12:31:03.492Z"
   },
   {
    "duration": 13,
    "start_time": "2025-04-04T12:31:21.615Z"
   },
   {
    "duration": 35543,
    "start_time": "2025-04-04T12:32:13.576Z"
   },
   {
    "duration": 12,
    "start_time": "2025-04-04T12:32:49.121Z"
   },
   {
    "duration": 34458,
    "start_time": "2025-04-04T12:33:31.358Z"
   },
   {
    "duration": 13,
    "start_time": "2025-04-04T12:34:05.818Z"
   },
   {
    "duration": 11235,
    "start_time": "2025-04-04T12:34:28.477Z"
   },
   {
    "duration": 12,
    "start_time": "2025-04-04T12:34:39.714Z"
   },
   {
    "duration": 33,
    "start_time": "2025-04-04T12:38:28.737Z"
   },
   {
    "duration": 9,
    "start_time": "2025-04-04T12:38:34.551Z"
   },
   {
    "duration": 10,
    "start_time": "2025-04-04T12:38:35.667Z"
   },
   {
    "duration": 11073,
    "start_time": "2025-04-04T12:38:36.043Z"
   },
   {
    "duration": 12,
    "start_time": "2025-04-04T12:38:47.118Z"
   },
   {
    "duration": 3298,
    "start_time": "2025-04-04T12:39:55.766Z"
   },
   {
    "duration": 12,
    "start_time": "2025-04-04T12:39:59.066Z"
   },
   {
    "duration": 2580,
    "start_time": "2025-04-04T12:40:06.390Z"
   },
   {
    "duration": 15,
    "start_time": "2025-04-04T12:40:08.973Z"
   },
   {
    "duration": 3214,
    "start_time": "2025-04-04T12:40:14.414Z"
   },
   {
    "duration": 11,
    "start_time": "2025-04-04T12:40:17.630Z"
   },
   {
    "duration": 5135,
    "start_time": "2025-04-04T12:40:23.333Z"
   },
   {
    "duration": 11,
    "start_time": "2025-04-04T12:40:28.470Z"
   },
   {
    "duration": 6016,
    "start_time": "2025-04-04T12:40:32.557Z"
   },
   {
    "duration": 12,
    "start_time": "2025-04-04T12:40:38.574Z"
   },
   {
    "duration": 10,
    "start_time": "2025-04-04T12:40:53.061Z"
   },
   {
    "duration": 1818,
    "start_time": "2025-04-04T12:40:55.841Z"
   },
   {
    "duration": 6402,
    "start_time": "2025-04-04T12:41:45.638Z"
   },
   {
    "duration": 12,
    "start_time": "2025-04-04T12:41:52.042Z"
   },
   {
    "duration": 5836,
    "start_time": "2025-04-04T12:49:22.118Z"
   },
   {
    "duration": 12,
    "start_time": "2025-04-04T12:49:27.956Z"
   },
   {
    "duration": 5868,
    "start_time": "2025-04-04T12:49:40.520Z"
   },
   {
    "duration": 20,
    "start_time": "2025-04-04T12:49:46.391Z"
   },
   {
    "duration": 6675,
    "start_time": "2025-04-04T12:50:01.205Z"
   },
   {
    "duration": 11,
    "start_time": "2025-04-04T12:50:07.882Z"
   },
   {
    "duration": 7350,
    "start_time": "2025-04-04T12:50:15.392Z"
   },
   {
    "duration": 12,
    "start_time": "2025-04-04T12:50:22.744Z"
   },
   {
    "duration": 6364,
    "start_time": "2025-04-04T12:50:30.850Z"
   },
   {
    "duration": 11,
    "start_time": "2025-04-04T12:50:37.216Z"
   },
   {
    "duration": 8613,
    "start_time": "2025-04-04T12:51:46.787Z"
   },
   {
    "duration": 11,
    "start_time": "2025-04-04T12:51:55.402Z"
   },
   {
    "duration": 8142,
    "start_time": "2025-04-04T12:52:03.778Z"
   },
   {
    "duration": 12,
    "start_time": "2025-04-04T12:52:11.922Z"
   },
   {
    "duration": 8872,
    "start_time": "2025-04-04T12:52:22.080Z"
   },
   {
    "duration": 11,
    "start_time": "2025-04-04T12:52:30.954Z"
   },
   {
    "duration": 10011,
    "start_time": "2025-04-04T12:53:11.427Z"
   },
   {
    "duration": 11,
    "start_time": "2025-04-04T12:53:21.440Z"
   },
   {
    "duration": 18511,
    "start_time": "2025-04-04T12:53:44.422Z"
   },
   {
    "duration": 11,
    "start_time": "2025-04-04T12:54:02.935Z"
   },
   {
    "duration": 12,
    "start_time": "2025-04-04T12:54:37.647Z"
   },
   {
    "duration": 1730,
    "start_time": "2025-04-04T12:54:39.808Z"
   },
   {
    "duration": 6280,
    "start_time": "2025-04-04T12:55:10.391Z"
   },
   {
    "duration": 11,
    "start_time": "2025-04-04T12:55:16.674Z"
   },
   {
    "duration": 10,
    "start_time": "2025-04-04T12:56:27.044Z"
   },
   {
    "duration": 9,
    "start_time": "2025-04-04T13:02:35.993Z"
   },
   {
    "duration": 16,
    "start_time": "2025-04-04T13:13:00.204Z"
   },
   {
    "duration": 447,
    "start_time": "2025-04-04T13:13:50.469Z"
   },
   {
    "duration": 561,
    "start_time": "2025-04-04T13:14:47.488Z"
   },
   {
    "duration": 554,
    "start_time": "2025-04-04T13:15:30.212Z"
   },
   {
    "duration": 422,
    "start_time": "2025-04-04T13:15:39.022Z"
   },
   {
    "duration": 640,
    "start_time": "2025-04-04T13:16:24.433Z"
   },
   {
    "duration": 440,
    "start_time": "2025-04-04T13:16:32.704Z"
   },
   {
    "duration": 448,
    "start_time": "2025-04-04T13:16:52.763Z"
   },
   {
    "duration": 396,
    "start_time": "2025-04-04T13:16:59.858Z"
   },
   {
    "duration": 544,
    "start_time": "2025-04-04T13:17:05.985Z"
   },
   {
    "duration": 436,
    "start_time": "2025-04-04T13:17:35.418Z"
   },
   {
    "duration": 495,
    "start_time": "2025-04-04T13:17:55.620Z"
   },
   {
    "duration": 452,
    "start_time": "2025-04-04T13:18:00.194Z"
   },
   {
    "duration": 493,
    "start_time": "2025-04-04T13:19:28.156Z"
   },
   {
    "duration": 467,
    "start_time": "2025-04-04T13:21:05.690Z"
   },
   {
    "duration": 457,
    "start_time": "2025-04-04T13:21:31.677Z"
   },
   {
    "duration": 3,
    "start_time": "2025-04-04T13:23:16.277Z"
   },
   {
    "duration": 2078,
    "start_time": "2025-04-04T13:23:16.282Z"
   },
   {
    "duration": 66,
    "start_time": "2025-04-04T13:23:18.362Z"
   },
   {
    "duration": 19,
    "start_time": "2025-04-04T13:23:18.430Z"
   },
   {
    "duration": 13,
    "start_time": "2025-04-04T13:23:18.451Z"
   },
   {
    "duration": 14,
    "start_time": "2025-04-04T13:23:18.466Z"
   },
   {
    "duration": 15,
    "start_time": "2025-04-04T13:23:18.482Z"
   },
   {
    "duration": 18,
    "start_time": "2025-04-04T13:23:18.499Z"
   },
   {
    "duration": 11,
    "start_time": "2025-04-04T13:23:18.519Z"
   },
   {
    "duration": 8,
    "start_time": "2025-04-04T13:23:18.532Z"
   },
   {
    "duration": 9,
    "start_time": "2025-04-04T13:23:18.543Z"
   },
   {
    "duration": 7,
    "start_time": "2025-04-04T13:23:18.553Z"
   },
   {
    "duration": 42,
    "start_time": "2025-04-04T13:23:18.563Z"
   },
   {
    "duration": 58,
    "start_time": "2025-04-04T13:23:18.607Z"
   },
   {
    "duration": 28,
    "start_time": "2025-04-04T13:23:18.666Z"
   },
   {
    "duration": 10,
    "start_time": "2025-04-04T13:23:18.696Z"
   },
   {
    "duration": 94,
    "start_time": "2025-04-04T13:23:18.707Z"
   },
   {
    "duration": 5,
    "start_time": "2025-04-04T13:23:18.803Z"
   },
   {
    "duration": 26,
    "start_time": "2025-04-04T13:23:18.809Z"
   },
   {
    "duration": 16,
    "start_time": "2025-04-04T13:23:18.837Z"
   },
   {
    "duration": 9,
    "start_time": "2025-04-04T13:23:18.855Z"
   },
   {
    "duration": 6,
    "start_time": "2025-04-04T13:23:18.865Z"
   },
   {
    "duration": 38,
    "start_time": "2025-04-04T13:23:18.872Z"
   },
   {
    "duration": 326,
    "start_time": "2025-04-04T13:23:18.911Z"
   },
   {
    "duration": 251,
    "start_time": "2025-04-04T13:23:19.238Z"
   },
   {
    "duration": 17,
    "start_time": "2025-04-04T13:23:19.490Z"
   },
   {
    "duration": 26,
    "start_time": "2025-04-04T13:23:19.509Z"
   },
   {
    "duration": 21,
    "start_time": "2025-04-04T13:23:19.537Z"
   },
   {
    "duration": 847,
    "start_time": "2025-04-04T13:23:19.560Z"
   },
   {
    "duration": 797,
    "start_time": "2025-04-04T13:23:20.409Z"
   },
   {
    "duration": 873,
    "start_time": "2025-04-04T13:23:21.209Z"
   },
   {
    "duration": 1002,
    "start_time": "2025-04-04T13:23:22.084Z"
   },
   {
    "duration": 784,
    "start_time": "2025-04-04T13:23:23.088Z"
   },
   {
    "duration": 775,
    "start_time": "2025-04-04T13:23:23.873Z"
   },
   {
    "duration": 1889,
    "start_time": "2025-04-04T13:23:24.650Z"
   },
   {
    "duration": 1882,
    "start_time": "2025-04-04T13:23:26.540Z"
   },
   {
    "duration": 358,
    "start_time": "2025-04-04T13:23:28.429Z"
   },
   {
    "duration": 371,
    "start_time": "2025-04-04T13:23:28.789Z"
   },
   {
    "duration": 421,
    "start_time": "2025-04-04T13:23:29.162Z"
   },
   {
    "duration": 380,
    "start_time": "2025-04-04T13:23:29.585Z"
   },
   {
    "duration": 380,
    "start_time": "2025-04-04T13:23:29.967Z"
   },
   {
    "duration": 373,
    "start_time": "2025-04-04T13:23:30.349Z"
   },
   {
    "duration": 8,
    "start_time": "2025-04-04T13:23:30.724Z"
   },
   {
    "duration": 777,
    "start_time": "2025-04-04T13:23:30.734Z"
   },
   {
    "duration": 701,
    "start_time": "2025-04-04T13:23:31.513Z"
   },
   {
    "duration": 1068,
    "start_time": "2025-04-04T13:23:32.216Z"
   },
   {
    "duration": 3,
    "start_time": "2025-04-04T13:23:33.286Z"
   },
   {
    "duration": 15,
    "start_time": "2025-04-04T13:23:33.291Z"
   },
   {
    "duration": 16,
    "start_time": "2025-04-04T13:23:33.308Z"
   },
   {
    "duration": 10,
    "start_time": "2025-04-04T13:23:33.326Z"
   },
   {
    "duration": 4,
    "start_time": "2025-04-04T13:23:33.338Z"
   },
   {
    "duration": 7,
    "start_time": "2025-04-04T13:23:33.344Z"
   },
   {
    "duration": 17,
    "start_time": "2025-04-04T13:23:33.352Z"
   },
   {
    "duration": 40,
    "start_time": "2025-04-04T13:23:33.371Z"
   },
   {
    "duration": 7,
    "start_time": "2025-04-04T13:23:33.413Z"
   },
   {
    "duration": 12168,
    "start_time": "2025-04-04T13:23:33.422Z"
   },
   {
    "duration": 16,
    "start_time": "2025-04-04T13:23:45.592Z"
   },
   {
    "duration": 929,
    "start_time": "2025-04-04T13:23:45.610Z"
   },
   {
    "duration": 63,
    "start_time": "2025-04-04T13:23:46.541Z"
   },
   {
    "duration": 14,
    "start_time": "2025-04-04T13:23:46.606Z"
   },
   {
    "duration": 70,
    "start_time": "2025-04-04T13:23:46.621Z"
   },
   {
    "duration": 153,
    "start_time": "2025-04-04T13:23:46.693Z"
   },
   {
    "duration": 26,
    "start_time": "2025-04-04T13:23:46.847Z"
   },
   {
    "duration": 12,
    "start_time": "2025-04-04T13:23:46.875Z"
   },
   {
    "duration": 24,
    "start_time": "2025-04-04T13:23:46.889Z"
   },
   {
    "duration": 8,
    "start_time": "2025-04-04T13:23:46.914Z"
   },
   {
    "duration": 6,
    "start_time": "2025-04-04T13:23:46.924Z"
   },
   {
    "duration": 17,
    "start_time": "2025-04-04T13:23:46.932Z"
   },
   {
    "duration": 27,
    "start_time": "2025-04-04T13:23:46.951Z"
   },
   {
    "duration": 60,
    "start_time": "2025-04-04T13:23:46.980Z"
   },
   {
    "duration": 9,
    "start_time": "2025-04-04T13:23:47.041Z"
   },
   {
    "duration": 130,
    "start_time": "2025-04-04T13:23:47.052Z"
   },
   {
    "duration": 611,
    "start_time": "2025-04-04T13:23:47.184Z"
   },
   {
    "duration": 678,
    "start_time": "2025-04-04T13:23:47.797Z"
   },
   {
    "duration": 894,
    "start_time": "2025-04-04T13:23:48.476Z"
   },
   {
    "duration": 902,
    "start_time": "2025-04-04T13:23:49.372Z"
   },
   {
    "duration": 759,
    "start_time": "2025-04-04T13:23:50.275Z"
   },
   {
    "duration": 899,
    "start_time": "2025-04-04T13:23:51.036Z"
   },
   {
    "duration": 1777,
    "start_time": "2025-04-04T13:23:51.937Z"
   },
   {
    "duration": 345,
    "start_time": "2025-04-04T13:23:53.715Z"
   },
   {
    "duration": 339,
    "start_time": "2025-04-04T13:23:54.061Z"
   },
   {
    "duration": 341,
    "start_time": "2025-04-04T13:23:54.402Z"
   },
   {
    "duration": 350,
    "start_time": "2025-04-04T13:23:54.745Z"
   },
   {
    "duration": 346,
    "start_time": "2025-04-04T13:23:55.096Z"
   },
   {
    "duration": 329,
    "start_time": "2025-04-04T13:23:55.444Z"
   },
   {
    "duration": 7,
    "start_time": "2025-04-04T13:23:55.775Z"
   },
   {
    "duration": 787,
    "start_time": "2025-04-04T13:23:55.784Z"
   },
   {
    "duration": 606,
    "start_time": "2025-04-04T13:23:56.573Z"
   },
   {
    "duration": 715,
    "start_time": "2025-04-04T13:23:57.181Z"
   },
   {
    "duration": 12,
    "start_time": "2025-04-04T13:23:57.899Z"
   },
   {
    "duration": 150,
    "start_time": "2025-04-04T13:23:57.913Z"
   },
   {
    "duration": 350,
    "start_time": "2025-04-04T13:23:58.065Z"
   },
   {
    "duration": 402,
    "start_time": "2025-04-04T13:23:58.417Z"
   },
   {
    "duration": 486,
    "start_time": "2025-04-04T13:23:58.821Z"
   },
   {
    "duration": 8,
    "start_time": "2025-04-04T13:23:59.309Z"
   },
   {
    "duration": 483,
    "start_time": "2025-04-04T13:23:59.318Z"
   },
   {
    "duration": 9,
    "start_time": "2025-04-04T13:23:59.804Z"
   },
   {
    "duration": 59,
    "start_time": "2025-04-04T13:23:59.815Z"
   },
   {
    "duration": 945,
    "start_time": "2025-04-04T13:23:59.876Z"
   },
   {
    "duration": 12,
    "start_time": "2025-04-04T13:24:00.824Z"
   },
   {
    "duration": 29,
    "start_time": "2025-04-04T13:24:00.838Z"
   },
   {
    "duration": 71,
    "start_time": "2025-04-04T13:24:00.869Z"
   },
   {
    "duration": 6602,
    "start_time": "2025-04-04T13:24:00.941Z"
   },
   {
    "duration": 13,
    "start_time": "2025-04-04T13:24:07.545Z"
   },
   {
    "duration": 31,
    "start_time": "2025-04-04T13:24:07.560Z"
   },
   {
    "duration": 1882,
    "start_time": "2025-04-04T13:24:07.593Z"
   },
   {
    "duration": 2030,
    "start_time": "2025-04-05T11:59:47.588Z"
   },
   {
    "duration": 1971,
    "start_time": "2025-04-05T12:00:32.041Z"
   },
   {
    "duration": 2216,
    "start_time": "2025-04-05T12:00:42.077Z"
   },
   {
    "duration": 2096,
    "start_time": "2025-04-05T12:00:58.909Z"
   },
   {
    "duration": 2097,
    "start_time": "2025-04-05T12:01:33.298Z"
   },
   {
    "duration": 2216,
    "start_time": "2025-04-05T12:01:53.192Z"
   },
   {
    "duration": 2032,
    "start_time": "2025-04-05T12:02:36.968Z"
   },
   {
    "duration": 2027,
    "start_time": "2025-04-05T12:02:49.283Z"
   },
   {
    "duration": 1981,
    "start_time": "2025-04-05T12:03:47.930Z"
   },
   {
    "duration": 67,
    "start_time": "2025-04-05T12:05:35.767Z"
   },
   {
    "duration": 2313,
    "start_time": "2025-04-05T12:05:42.914Z"
   },
   {
    "duration": 19,
    "start_time": "2025-04-05T12:06:22.470Z"
   },
   {
    "duration": 3,
    "start_time": "2025-04-06T12:08:09.074Z"
   },
   {
    "duration": 1648,
    "start_time": "2025-04-06T12:08:09.079Z"
   },
   {
    "duration": 0,
    "start_time": "2025-04-06T12:08:10.732Z"
   },
   {
    "duration": 0,
    "start_time": "2025-04-06T12:08:10.733Z"
   },
   {
    "duration": 0,
    "start_time": "2025-04-06T12:08:10.734Z"
   },
   {
    "duration": 0,
    "start_time": "2025-04-06T12:08:10.736Z"
   },
   {
    "duration": 0,
    "start_time": "2025-04-06T12:08:10.737Z"
   },
   {
    "duration": 0,
    "start_time": "2025-04-06T12:08:10.738Z"
   },
   {
    "duration": 0,
    "start_time": "2025-04-06T12:08:10.739Z"
   },
   {
    "duration": 0,
    "start_time": "2025-04-06T12:08:10.740Z"
   },
   {
    "duration": 0,
    "start_time": "2025-04-06T12:08:10.741Z"
   },
   {
    "duration": 0,
    "start_time": "2025-04-06T12:08:10.742Z"
   },
   {
    "duration": 0,
    "start_time": "2025-04-06T12:08:10.742Z"
   },
   {
    "duration": 0,
    "start_time": "2025-04-06T12:08:10.743Z"
   },
   {
    "duration": 0,
    "start_time": "2025-04-06T12:08:10.744Z"
   },
   {
    "duration": 0,
    "start_time": "2025-04-06T12:08:10.745Z"
   },
   {
    "duration": 0,
    "start_time": "2025-04-06T12:08:10.746Z"
   },
   {
    "duration": 0,
    "start_time": "2025-04-06T12:08:10.747Z"
   },
   {
    "duration": 0,
    "start_time": "2025-04-06T12:08:10.747Z"
   },
   {
    "duration": 0,
    "start_time": "2025-04-06T12:08:10.748Z"
   },
   {
    "duration": 0,
    "start_time": "2025-04-06T12:08:10.749Z"
   },
   {
    "duration": 0,
    "start_time": "2025-04-06T12:08:10.750Z"
   },
   {
    "duration": 0,
    "start_time": "2025-04-06T12:08:10.751Z"
   },
   {
    "duration": 0,
    "start_time": "2025-04-06T12:08:10.752Z"
   },
   {
    "duration": 0,
    "start_time": "2025-04-06T12:08:10.752Z"
   },
   {
    "duration": 0,
    "start_time": "2025-04-06T12:08:10.754Z"
   },
   {
    "duration": 0,
    "start_time": "2025-04-06T12:08:10.755Z"
   },
   {
    "duration": 0,
    "start_time": "2025-04-06T12:08:10.755Z"
   },
   {
    "duration": 0,
    "start_time": "2025-04-06T12:08:10.756Z"
   },
   {
    "duration": 0,
    "start_time": "2025-04-06T12:08:10.757Z"
   },
   {
    "duration": 0,
    "start_time": "2025-04-06T12:08:10.758Z"
   },
   {
    "duration": 0,
    "start_time": "2025-04-06T12:08:10.759Z"
   },
   {
    "duration": 0,
    "start_time": "2025-04-06T12:08:10.760Z"
   },
   {
    "duration": 0,
    "start_time": "2025-04-06T12:08:10.761Z"
   },
   {
    "duration": 0,
    "start_time": "2025-04-06T12:08:10.806Z"
   },
   {
    "duration": 0,
    "start_time": "2025-04-06T12:08:10.807Z"
   },
   {
    "duration": 0,
    "start_time": "2025-04-06T12:08:10.808Z"
   },
   {
    "duration": 0,
    "start_time": "2025-04-06T12:08:10.809Z"
   },
   {
    "duration": 0,
    "start_time": "2025-04-06T12:08:10.810Z"
   },
   {
    "duration": 0,
    "start_time": "2025-04-06T12:08:10.811Z"
   },
   {
    "duration": 0,
    "start_time": "2025-04-06T12:08:10.811Z"
   },
   {
    "duration": 0,
    "start_time": "2025-04-06T12:08:10.812Z"
   },
   {
    "duration": 0,
    "start_time": "2025-04-06T12:08:10.813Z"
   },
   {
    "duration": 0,
    "start_time": "2025-04-06T12:08:10.814Z"
   },
   {
    "duration": 0,
    "start_time": "2025-04-06T12:08:10.815Z"
   },
   {
    "duration": 0,
    "start_time": "2025-04-06T12:08:10.817Z"
   },
   {
    "duration": 0,
    "start_time": "2025-04-06T12:08:10.818Z"
   },
   {
    "duration": 0,
    "start_time": "2025-04-06T12:08:10.819Z"
   },
   {
    "duration": 0,
    "start_time": "2025-04-06T12:08:10.819Z"
   },
   {
    "duration": 0,
    "start_time": "2025-04-06T12:08:10.821Z"
   },
   {
    "duration": 0,
    "start_time": "2025-04-06T12:08:10.822Z"
   },
   {
    "duration": 0,
    "start_time": "2025-04-06T12:08:10.822Z"
   },
   {
    "duration": 0,
    "start_time": "2025-04-06T12:08:10.823Z"
   },
   {
    "duration": 0,
    "start_time": "2025-04-06T12:08:10.824Z"
   },
   {
    "duration": 0,
    "start_time": "2025-04-06T12:08:10.826Z"
   },
   {
    "duration": 0,
    "start_time": "2025-04-06T12:08:10.826Z"
   },
   {
    "duration": 0,
    "start_time": "2025-04-06T12:08:10.827Z"
   },
   {
    "duration": 0,
    "start_time": "2025-04-06T12:08:10.828Z"
   },
   {
    "duration": 0,
    "start_time": "2025-04-06T12:08:10.829Z"
   },
   {
    "duration": 0,
    "start_time": "2025-04-06T12:08:10.830Z"
   },
   {
    "duration": 0,
    "start_time": "2025-04-06T12:08:10.831Z"
   },
   {
    "duration": 0,
    "start_time": "2025-04-06T12:08:10.831Z"
   },
   {
    "duration": 0,
    "start_time": "2025-04-06T12:08:10.832Z"
   },
   {
    "duration": 0,
    "start_time": "2025-04-06T12:08:10.833Z"
   },
   {
    "duration": 0,
    "start_time": "2025-04-06T12:08:10.834Z"
   },
   {
    "duration": 0,
    "start_time": "2025-04-06T12:08:10.836Z"
   },
   {
    "duration": 0,
    "start_time": "2025-04-06T12:08:10.837Z"
   },
   {
    "duration": 0,
    "start_time": "2025-04-06T12:08:10.838Z"
   },
   {
    "duration": 0,
    "start_time": "2025-04-06T12:08:10.839Z"
   },
   {
    "duration": 0,
    "start_time": "2025-04-06T12:08:10.840Z"
   },
   {
    "duration": 0,
    "start_time": "2025-04-06T12:08:10.842Z"
   },
   {
    "duration": 0,
    "start_time": "2025-04-06T12:08:10.842Z"
   },
   {
    "duration": 0,
    "start_time": "2025-04-06T12:08:10.906Z"
   },
   {
    "duration": 0,
    "start_time": "2025-04-06T12:08:10.907Z"
   },
   {
    "duration": 0,
    "start_time": "2025-04-06T12:08:10.908Z"
   },
   {
    "duration": 0,
    "start_time": "2025-04-06T12:08:10.909Z"
   },
   {
    "duration": 0,
    "start_time": "2025-04-06T12:08:10.910Z"
   },
   {
    "duration": 0,
    "start_time": "2025-04-06T12:08:10.911Z"
   },
   {
    "duration": 0,
    "start_time": "2025-04-06T12:08:10.912Z"
   },
   {
    "duration": 0,
    "start_time": "2025-04-06T12:08:10.914Z"
   },
   {
    "duration": 0,
    "start_time": "2025-04-06T12:08:10.915Z"
   },
   {
    "duration": 0,
    "start_time": "2025-04-06T12:08:10.916Z"
   },
   {
    "duration": 0,
    "start_time": "2025-04-06T12:08:10.917Z"
   },
   {
    "duration": 0,
    "start_time": "2025-04-06T12:08:10.919Z"
   },
   {
    "duration": 0,
    "start_time": "2025-04-06T12:08:10.920Z"
   },
   {
    "duration": 0,
    "start_time": "2025-04-06T12:08:10.921Z"
   },
   {
    "duration": 0,
    "start_time": "2025-04-06T12:08:10.922Z"
   },
   {
    "duration": 0,
    "start_time": "2025-04-06T12:08:10.923Z"
   },
   {
    "duration": 0,
    "start_time": "2025-04-06T12:08:10.924Z"
   },
   {
    "duration": 0,
    "start_time": "2025-04-06T12:08:10.926Z"
   },
   {
    "duration": 0,
    "start_time": "2025-04-06T12:08:10.927Z"
   },
   {
    "duration": 0,
    "start_time": "2025-04-06T12:08:10.928Z"
   },
   {
    "duration": 0,
    "start_time": "2025-04-06T12:08:10.929Z"
   },
   {
    "duration": 31500,
    "start_time": "2025-04-06T12:08:53.036Z"
   },
   {
    "duration": 2588,
    "start_time": "2025-04-06T12:09:24.538Z"
   },
   {
    "duration": 243,
    "start_time": "2025-04-06T12:09:27.128Z"
   },
   {
    "duration": 0,
    "start_time": "2025-04-06T12:09:27.376Z"
   },
   {
    "duration": 0,
    "start_time": "2025-04-06T12:09:27.377Z"
   },
   {
    "duration": 0,
    "start_time": "2025-04-06T12:09:27.379Z"
   },
   {
    "duration": 0,
    "start_time": "2025-04-06T12:09:27.380Z"
   },
   {
    "duration": 0,
    "start_time": "2025-04-06T12:09:27.381Z"
   },
   {
    "duration": 0,
    "start_time": "2025-04-06T12:09:27.382Z"
   },
   {
    "duration": 0,
    "start_time": "2025-04-06T12:09:27.383Z"
   },
   {
    "duration": 0,
    "start_time": "2025-04-06T12:09:27.384Z"
   },
   {
    "duration": 0,
    "start_time": "2025-04-06T12:09:27.385Z"
   },
   {
    "duration": 0,
    "start_time": "2025-04-06T12:09:27.386Z"
   },
   {
    "duration": 0,
    "start_time": "2025-04-06T12:09:27.387Z"
   },
   {
    "duration": 16,
    "start_time": "2025-04-06T12:09:27.388Z"
   },
   {
    "duration": 0,
    "start_time": "2025-04-06T12:09:27.406Z"
   },
   {
    "duration": 0,
    "start_time": "2025-04-06T12:09:27.407Z"
   },
   {
    "duration": 0,
    "start_time": "2025-04-06T12:09:27.408Z"
   },
   {
    "duration": 0,
    "start_time": "2025-04-06T12:09:27.409Z"
   },
   {
    "duration": 0,
    "start_time": "2025-04-06T12:09:27.410Z"
   },
   {
    "duration": 0,
    "start_time": "2025-04-06T12:09:27.411Z"
   },
   {
    "duration": 0,
    "start_time": "2025-04-06T12:09:27.412Z"
   },
   {
    "duration": 0,
    "start_time": "2025-04-06T12:09:27.413Z"
   },
   {
    "duration": 0,
    "start_time": "2025-04-06T12:09:27.415Z"
   },
   {
    "duration": 0,
    "start_time": "2025-04-06T12:09:27.416Z"
   },
   {
    "duration": 0,
    "start_time": "2025-04-06T12:09:27.417Z"
   },
   {
    "duration": 0,
    "start_time": "2025-04-06T12:09:27.418Z"
   },
   {
    "duration": 0,
    "start_time": "2025-04-06T12:09:27.419Z"
   },
   {
    "duration": 0,
    "start_time": "2025-04-06T12:09:27.421Z"
   },
   {
    "duration": 0,
    "start_time": "2025-04-06T12:09:27.423Z"
   },
   {
    "duration": 0,
    "start_time": "2025-04-06T12:09:27.424Z"
   },
   {
    "duration": 0,
    "start_time": "2025-04-06T12:09:27.426Z"
   },
   {
    "duration": 0,
    "start_time": "2025-04-06T12:09:27.427Z"
   },
   {
    "duration": 0,
    "start_time": "2025-04-06T12:09:27.429Z"
   },
   {
    "duration": 0,
    "start_time": "2025-04-06T12:09:27.430Z"
   },
   {
    "duration": 0,
    "start_time": "2025-04-06T12:09:27.432Z"
   },
   {
    "duration": 0,
    "start_time": "2025-04-06T12:09:27.433Z"
   },
   {
    "duration": 1,
    "start_time": "2025-04-06T12:09:27.434Z"
   },
   {
    "duration": 0,
    "start_time": "2025-04-06T12:09:27.436Z"
   },
   {
    "duration": 0,
    "start_time": "2025-04-06T12:09:27.438Z"
   },
   {
    "duration": 1,
    "start_time": "2025-04-06T12:09:27.439Z"
   },
   {
    "duration": 0,
    "start_time": "2025-04-06T12:09:27.441Z"
   },
   {
    "duration": 0,
    "start_time": "2025-04-06T12:09:27.442Z"
   },
   {
    "duration": 0,
    "start_time": "2025-04-06T12:09:27.506Z"
   },
   {
    "duration": 0,
    "start_time": "2025-04-06T12:09:27.509Z"
   },
   {
    "duration": 0,
    "start_time": "2025-04-06T12:09:27.510Z"
   },
   {
    "duration": 0,
    "start_time": "2025-04-06T12:09:27.511Z"
   },
   {
    "duration": 0,
    "start_time": "2025-04-06T12:09:27.512Z"
   },
   {
    "duration": 0,
    "start_time": "2025-04-06T12:09:27.514Z"
   },
   {
    "duration": 0,
    "start_time": "2025-04-06T12:09:27.515Z"
   },
   {
    "duration": 0,
    "start_time": "2025-04-06T12:09:27.516Z"
   },
   {
    "duration": 0,
    "start_time": "2025-04-06T12:09:27.518Z"
   },
   {
    "duration": 0,
    "start_time": "2025-04-06T12:09:27.519Z"
   },
   {
    "duration": 0,
    "start_time": "2025-04-06T12:09:27.520Z"
   },
   {
    "duration": 0,
    "start_time": "2025-04-06T12:09:27.521Z"
   },
   {
    "duration": 0,
    "start_time": "2025-04-06T12:09:27.522Z"
   },
   {
    "duration": 0,
    "start_time": "2025-04-06T12:09:27.524Z"
   },
   {
    "duration": 0,
    "start_time": "2025-04-06T12:09:27.525Z"
   },
   {
    "duration": 0,
    "start_time": "2025-04-06T12:09:27.526Z"
   },
   {
    "duration": 0,
    "start_time": "2025-04-06T12:09:27.527Z"
   },
   {
    "duration": 0,
    "start_time": "2025-04-06T12:09:27.528Z"
   },
   {
    "duration": 0,
    "start_time": "2025-04-06T12:09:27.529Z"
   },
   {
    "duration": 0,
    "start_time": "2025-04-06T12:09:27.530Z"
   },
   {
    "duration": 0,
    "start_time": "2025-04-06T12:09:27.531Z"
   },
   {
    "duration": 0,
    "start_time": "2025-04-06T12:09:27.532Z"
   },
   {
    "duration": 0,
    "start_time": "2025-04-06T12:09:27.533Z"
   },
   {
    "duration": 0,
    "start_time": "2025-04-06T12:09:27.534Z"
   },
   {
    "duration": 0,
    "start_time": "2025-04-06T12:09:27.536Z"
   },
   {
    "duration": 0,
    "start_time": "2025-04-06T12:09:27.536Z"
   },
   {
    "duration": 0,
    "start_time": "2025-04-06T12:09:27.537Z"
   },
   {
    "duration": 0,
    "start_time": "2025-04-06T12:09:27.539Z"
   },
   {
    "duration": 0,
    "start_time": "2025-04-06T12:09:27.539Z"
   },
   {
    "duration": 0,
    "start_time": "2025-04-06T12:09:27.605Z"
   },
   {
    "duration": 0,
    "start_time": "2025-04-06T12:09:27.606Z"
   },
   {
    "duration": 0,
    "start_time": "2025-04-06T12:09:27.608Z"
   },
   {
    "duration": 0,
    "start_time": "2025-04-06T12:09:27.609Z"
   },
   {
    "duration": 0,
    "start_time": "2025-04-06T12:09:27.610Z"
   },
   {
    "duration": 0,
    "start_time": "2025-04-06T12:09:27.611Z"
   },
   {
    "duration": 0,
    "start_time": "2025-04-06T12:09:27.612Z"
   },
   {
    "duration": 0,
    "start_time": "2025-04-06T12:09:27.613Z"
   },
   {
    "duration": 0,
    "start_time": "2025-04-06T12:09:27.615Z"
   },
   {
    "duration": 0,
    "start_time": "2025-04-06T12:09:27.616Z"
   },
   {
    "duration": 0,
    "start_time": "2025-04-06T12:09:27.617Z"
   },
   {
    "duration": 0,
    "start_time": "2025-04-06T12:09:27.618Z"
   },
   {
    "duration": 0,
    "start_time": "2025-04-06T12:09:27.619Z"
   },
   {
    "duration": 0,
    "start_time": "2025-04-06T12:09:27.620Z"
   },
   {
    "duration": 0,
    "start_time": "2025-04-06T12:09:27.621Z"
   },
   {
    "duration": 0,
    "start_time": "2025-04-06T12:09:27.622Z"
   },
   {
    "duration": 0,
    "start_time": "2025-04-06T12:09:27.623Z"
   },
   {
    "duration": 0,
    "start_time": "2025-04-06T12:09:27.625Z"
   },
   {
    "duration": 0,
    "start_time": "2025-04-06T12:09:27.626Z"
   },
   {
    "duration": 0,
    "start_time": "2025-04-06T12:09:27.627Z"
   },
   {
    "duration": 0,
    "start_time": "2025-04-06T12:09:27.628Z"
   },
   {
    "duration": 39,
    "start_time": "2025-04-06T12:11:11.066Z"
   },
   {
    "duration": 3,
    "start_time": "2025-04-06T12:11:37.769Z"
   },
   {
    "duration": 2662,
    "start_time": "2025-04-06T12:11:37.776Z"
   },
   {
    "duration": 175,
    "start_time": "2025-04-06T12:11:40.441Z"
   },
   {
    "duration": 0,
    "start_time": "2025-04-06T12:11:40.620Z"
   },
   {
    "duration": 0,
    "start_time": "2025-04-06T12:11:40.622Z"
   },
   {
    "duration": 0,
    "start_time": "2025-04-06T12:11:40.622Z"
   },
   {
    "duration": 0,
    "start_time": "2025-04-06T12:11:40.624Z"
   },
   {
    "duration": 0,
    "start_time": "2025-04-06T12:11:40.625Z"
   },
   {
    "duration": 0,
    "start_time": "2025-04-06T12:11:40.626Z"
   },
   {
    "duration": 0,
    "start_time": "2025-04-06T12:11:40.627Z"
   },
   {
    "duration": 0,
    "start_time": "2025-04-06T12:11:40.627Z"
   },
   {
    "duration": 0,
    "start_time": "2025-04-06T12:11:40.628Z"
   },
   {
    "duration": 0,
    "start_time": "2025-04-06T12:11:40.629Z"
   },
   {
    "duration": 0,
    "start_time": "2025-04-06T12:11:40.630Z"
   },
   {
    "duration": 0,
    "start_time": "2025-04-06T12:11:40.631Z"
   },
   {
    "duration": 0,
    "start_time": "2025-04-06T12:11:40.631Z"
   },
   {
    "duration": 0,
    "start_time": "2025-04-06T12:11:40.633Z"
   },
   {
    "duration": 0,
    "start_time": "2025-04-06T12:11:40.634Z"
   },
   {
    "duration": 0,
    "start_time": "2025-04-06T12:11:40.634Z"
   },
   {
    "duration": 0,
    "start_time": "2025-04-06T12:11:40.635Z"
   },
   {
    "duration": 0,
    "start_time": "2025-04-06T12:11:40.636Z"
   },
   {
    "duration": 0,
    "start_time": "2025-04-06T12:11:40.637Z"
   },
   {
    "duration": 0,
    "start_time": "2025-04-06T12:11:40.638Z"
   },
   {
    "duration": 0,
    "start_time": "2025-04-06T12:11:40.638Z"
   },
   {
    "duration": 0,
    "start_time": "2025-04-06T12:11:40.639Z"
   },
   {
    "duration": 0,
    "start_time": "2025-04-06T12:11:40.640Z"
   },
   {
    "duration": 0,
    "start_time": "2025-04-06T12:11:40.641Z"
   },
   {
    "duration": 0,
    "start_time": "2025-04-06T12:11:40.642Z"
   },
   {
    "duration": 0,
    "start_time": "2025-04-06T12:11:40.644Z"
   },
   {
    "duration": 0,
    "start_time": "2025-04-06T12:11:40.645Z"
   },
   {
    "duration": 0,
    "start_time": "2025-04-06T12:11:40.645Z"
   },
   {
    "duration": 0,
    "start_time": "2025-04-06T12:11:40.646Z"
   },
   {
    "duration": 0,
    "start_time": "2025-04-06T12:11:40.647Z"
   },
   {
    "duration": 0,
    "start_time": "2025-04-06T12:11:40.648Z"
   },
   {
    "duration": 0,
    "start_time": "2025-04-06T12:11:40.649Z"
   },
   {
    "duration": 0,
    "start_time": "2025-04-06T12:11:40.650Z"
   },
   {
    "duration": 0,
    "start_time": "2025-04-06T12:11:40.651Z"
   },
   {
    "duration": 0,
    "start_time": "2025-04-06T12:11:40.652Z"
   },
   {
    "duration": 0,
    "start_time": "2025-04-06T12:11:40.706Z"
   },
   {
    "duration": 0,
    "start_time": "2025-04-06T12:11:40.707Z"
   },
   {
    "duration": 0,
    "start_time": "2025-04-06T12:11:40.707Z"
   },
   {
    "duration": 0,
    "start_time": "2025-04-06T12:11:40.708Z"
   },
   {
    "duration": 0,
    "start_time": "2025-04-06T12:11:40.709Z"
   },
   {
    "duration": 0,
    "start_time": "2025-04-06T12:11:40.710Z"
   },
   {
    "duration": 0,
    "start_time": "2025-04-06T12:11:40.711Z"
   },
   {
    "duration": 1,
    "start_time": "2025-04-06T12:11:40.711Z"
   },
   {
    "duration": 0,
    "start_time": "2025-04-06T12:11:40.712Z"
   },
   {
    "duration": 0,
    "start_time": "2025-04-06T12:11:40.713Z"
   },
   {
    "duration": 0,
    "start_time": "2025-04-06T12:11:40.714Z"
   },
   {
    "duration": 0,
    "start_time": "2025-04-06T12:11:40.715Z"
   },
   {
    "duration": 0,
    "start_time": "2025-04-06T12:11:40.716Z"
   },
   {
    "duration": 0,
    "start_time": "2025-04-06T12:11:40.717Z"
   },
   {
    "duration": 0,
    "start_time": "2025-04-06T12:11:40.718Z"
   },
   {
    "duration": 0,
    "start_time": "2025-04-06T12:11:40.719Z"
   },
   {
    "duration": 0,
    "start_time": "2025-04-06T12:11:40.720Z"
   },
   {
    "duration": 0,
    "start_time": "2025-04-06T12:11:40.720Z"
   },
   {
    "duration": 0,
    "start_time": "2025-04-06T12:11:40.721Z"
   },
   {
    "duration": 0,
    "start_time": "2025-04-06T12:11:40.722Z"
   },
   {
    "duration": 0,
    "start_time": "2025-04-06T12:11:40.723Z"
   },
   {
    "duration": 0,
    "start_time": "2025-04-06T12:11:40.724Z"
   },
   {
    "duration": 0,
    "start_time": "2025-04-06T12:11:40.725Z"
   },
   {
    "duration": 0,
    "start_time": "2025-04-06T12:11:40.726Z"
   },
   {
    "duration": 0,
    "start_time": "2025-04-06T12:11:40.727Z"
   },
   {
    "duration": 0,
    "start_time": "2025-04-06T12:11:40.728Z"
   },
   {
    "duration": 0,
    "start_time": "2025-04-06T12:11:40.729Z"
   },
   {
    "duration": 0,
    "start_time": "2025-04-06T12:11:40.730Z"
   },
   {
    "duration": 0,
    "start_time": "2025-04-06T12:11:40.731Z"
   },
   {
    "duration": 0,
    "start_time": "2025-04-06T12:11:40.732Z"
   },
   {
    "duration": 0,
    "start_time": "2025-04-06T12:11:40.733Z"
   },
   {
    "duration": 0,
    "start_time": "2025-04-06T12:11:40.733Z"
   },
   {
    "duration": 0,
    "start_time": "2025-04-06T12:11:40.734Z"
   },
   {
    "duration": 0,
    "start_time": "2025-04-06T12:11:40.735Z"
   },
   {
    "duration": 0,
    "start_time": "2025-04-06T12:11:40.736Z"
   },
   {
    "duration": 0,
    "start_time": "2025-04-06T12:11:40.737Z"
   },
   {
    "duration": 0,
    "start_time": "2025-04-06T12:11:40.738Z"
   },
   {
    "duration": 0,
    "start_time": "2025-04-06T12:11:40.739Z"
   },
   {
    "duration": 0,
    "start_time": "2025-04-06T12:11:40.740Z"
   },
   {
    "duration": 0,
    "start_time": "2025-04-06T12:11:40.741Z"
   },
   {
    "duration": 0,
    "start_time": "2025-04-06T12:11:40.742Z"
   },
   {
    "duration": 0,
    "start_time": "2025-04-06T12:11:40.742Z"
   },
   {
    "duration": 0,
    "start_time": "2025-04-06T12:11:40.743Z"
   },
   {
    "duration": 0,
    "start_time": "2025-04-06T12:11:40.806Z"
   },
   {
    "duration": 0,
    "start_time": "2025-04-06T12:11:40.807Z"
   },
   {
    "duration": 0,
    "start_time": "2025-04-06T12:11:40.808Z"
   },
   {
    "duration": 0,
    "start_time": "2025-04-06T12:11:40.808Z"
   },
   {
    "duration": 0,
    "start_time": "2025-04-06T12:11:40.810Z"
   },
   {
    "duration": 0,
    "start_time": "2025-04-06T12:11:40.811Z"
   },
   {
    "duration": 0,
    "start_time": "2025-04-06T12:11:40.812Z"
   },
   {
    "duration": 0,
    "start_time": "2025-04-06T12:11:40.812Z"
   },
   {
    "duration": 0,
    "start_time": "2025-04-06T12:11:40.813Z"
   },
   {
    "duration": 0,
    "start_time": "2025-04-06T12:11:40.814Z"
   },
   {
    "duration": 0,
    "start_time": "2025-04-06T12:11:40.815Z"
   },
   {
    "duration": 0,
    "start_time": "2025-04-06T12:11:40.816Z"
   },
   {
    "duration": 0,
    "start_time": "2025-04-06T12:11:40.817Z"
   },
   {
    "duration": 0,
    "start_time": "2025-04-06T12:11:40.818Z"
   },
   {
    "duration": 0,
    "start_time": "2025-04-06T12:11:40.819Z"
   },
   {
    "duration": 4,
    "start_time": "2025-05-12T08:50:48.337Z"
   },
   {
    "duration": 1519,
    "start_time": "2025-05-12T08:50:48.343Z"
   },
   {
    "duration": 0,
    "start_time": "2025-05-12T08:50:49.866Z"
   },
   {
    "duration": 0,
    "start_time": "2025-05-12T08:50:49.867Z"
   },
   {
    "duration": 0,
    "start_time": "2025-05-12T08:50:49.876Z"
   },
   {
    "duration": 0,
    "start_time": "2025-05-12T08:50:49.877Z"
   },
   {
    "duration": 0,
    "start_time": "2025-05-12T08:50:49.878Z"
   },
   {
    "duration": 0,
    "start_time": "2025-05-12T08:50:49.879Z"
   },
   {
    "duration": 0,
    "start_time": "2025-05-12T08:50:49.880Z"
   },
   {
    "duration": 0,
    "start_time": "2025-05-12T08:50:49.881Z"
   },
   {
    "duration": 0,
    "start_time": "2025-05-12T08:50:49.882Z"
   },
   {
    "duration": 0,
    "start_time": "2025-05-12T08:50:49.882Z"
   },
   {
    "duration": 0,
    "start_time": "2025-05-12T08:50:49.883Z"
   },
   {
    "duration": 0,
    "start_time": "2025-05-12T08:50:49.885Z"
   },
   {
    "duration": 0,
    "start_time": "2025-05-12T08:50:49.885Z"
   },
   {
    "duration": 0,
    "start_time": "2025-05-12T08:50:49.887Z"
   },
   {
    "duration": 0,
    "start_time": "2025-05-12T08:50:49.888Z"
   },
   {
    "duration": 0,
    "start_time": "2025-05-12T08:50:49.889Z"
   },
   {
    "duration": 0,
    "start_time": "2025-05-12T08:50:49.890Z"
   },
   {
    "duration": 0,
    "start_time": "2025-05-12T08:50:49.891Z"
   },
   {
    "duration": 0,
    "start_time": "2025-05-12T08:50:49.892Z"
   },
   {
    "duration": 0,
    "start_time": "2025-05-12T08:50:49.893Z"
   },
   {
    "duration": 0,
    "start_time": "2025-05-12T08:50:49.894Z"
   },
   {
    "duration": 0,
    "start_time": "2025-05-12T08:50:49.895Z"
   },
   {
    "duration": 0,
    "start_time": "2025-05-12T08:50:49.896Z"
   },
   {
    "duration": 0,
    "start_time": "2025-05-12T08:50:49.897Z"
   },
   {
    "duration": 0,
    "start_time": "2025-05-12T08:50:49.898Z"
   },
   {
    "duration": 0,
    "start_time": "2025-05-12T08:50:49.899Z"
   },
   {
    "duration": 0,
    "start_time": "2025-05-12T08:50:49.900Z"
   },
   {
    "duration": 0,
    "start_time": "2025-05-12T08:50:49.901Z"
   },
   {
    "duration": 0,
    "start_time": "2025-05-12T08:50:49.902Z"
   },
   {
    "duration": 0,
    "start_time": "2025-05-12T08:50:49.902Z"
   },
   {
    "duration": 0,
    "start_time": "2025-05-12T08:50:49.903Z"
   },
   {
    "duration": 0,
    "start_time": "2025-05-12T08:50:49.905Z"
   },
   {
    "duration": 0,
    "start_time": "2025-05-12T08:50:49.905Z"
   },
   {
    "duration": 0,
    "start_time": "2025-05-12T08:50:49.906Z"
   },
   {
    "duration": 0,
    "start_time": "2025-05-12T08:50:49.907Z"
   },
   {
    "duration": 0,
    "start_time": "2025-05-12T08:50:49.908Z"
   },
   {
    "duration": 0,
    "start_time": "2025-05-12T08:50:49.909Z"
   },
   {
    "duration": 0,
    "start_time": "2025-05-12T08:50:49.911Z"
   },
   {
    "duration": 0,
    "start_time": "2025-05-12T08:50:49.912Z"
   },
   {
    "duration": 0,
    "start_time": "2025-05-12T08:50:49.913Z"
   },
   {
    "duration": 0,
    "start_time": "2025-05-12T08:50:49.977Z"
   },
   {
    "duration": 0,
    "start_time": "2025-05-12T08:50:49.978Z"
   },
   {
    "duration": 0,
    "start_time": "2025-05-12T08:50:49.979Z"
   },
   {
    "duration": 0,
    "start_time": "2025-05-12T08:50:49.980Z"
   },
   {
    "duration": 0,
    "start_time": "2025-05-12T08:50:49.981Z"
   },
   {
    "duration": 0,
    "start_time": "2025-05-12T08:50:49.982Z"
   },
   {
    "duration": 0,
    "start_time": "2025-05-12T08:50:49.983Z"
   },
   {
    "duration": 0,
    "start_time": "2025-05-12T08:50:49.984Z"
   },
   {
    "duration": 0,
    "start_time": "2025-05-12T08:50:49.985Z"
   },
   {
    "duration": 0,
    "start_time": "2025-05-12T08:50:49.986Z"
   },
   {
    "duration": 0,
    "start_time": "2025-05-12T08:50:49.987Z"
   },
   {
    "duration": 0,
    "start_time": "2025-05-12T08:50:49.989Z"
   },
   {
    "duration": 0,
    "start_time": "2025-05-12T08:50:49.990Z"
   },
   {
    "duration": 0,
    "start_time": "2025-05-12T08:50:49.991Z"
   },
   {
    "duration": 0,
    "start_time": "2025-05-12T08:50:49.992Z"
   },
   {
    "duration": 0,
    "start_time": "2025-05-12T08:50:49.993Z"
   },
   {
    "duration": 0,
    "start_time": "2025-05-12T08:50:49.994Z"
   },
   {
    "duration": 0,
    "start_time": "2025-05-12T08:50:49.995Z"
   },
   {
    "duration": 0,
    "start_time": "2025-05-12T08:50:49.996Z"
   },
   {
    "duration": 0,
    "start_time": "2025-05-12T08:50:49.997Z"
   },
   {
    "duration": 0,
    "start_time": "2025-05-12T08:50:49.998Z"
   },
   {
    "duration": 0,
    "start_time": "2025-05-12T08:50:49.999Z"
   },
   {
    "duration": 0,
    "start_time": "2025-05-12T08:50:50.000Z"
   },
   {
    "duration": 0,
    "start_time": "2025-05-12T08:50:50.001Z"
   },
   {
    "duration": 0,
    "start_time": "2025-05-12T08:50:50.002Z"
   },
   {
    "duration": 0,
    "start_time": "2025-05-12T08:50:50.003Z"
   },
   {
    "duration": 0,
    "start_time": "2025-05-12T08:50:50.004Z"
   },
   {
    "duration": 0,
    "start_time": "2025-05-12T08:50:50.005Z"
   },
   {
    "duration": 0,
    "start_time": "2025-05-12T08:50:50.006Z"
   },
   {
    "duration": 0,
    "start_time": "2025-05-12T08:50:50.007Z"
   },
   {
    "duration": 0,
    "start_time": "2025-05-12T08:50:50.008Z"
   },
   {
    "duration": 0,
    "start_time": "2025-05-12T08:50:50.009Z"
   },
   {
    "duration": 30676,
    "start_time": "2025-05-12T08:51:32.832Z"
   },
   {
    "duration": 744,
    "start_time": "2025-05-12T08:52:03.511Z"
   },
   {
    "duration": 81,
    "start_time": "2025-05-12T08:52:04.257Z"
   },
   {
    "duration": 17,
    "start_time": "2025-05-12T08:52:04.340Z"
   },
   {
    "duration": 15,
    "start_time": "2025-05-12T08:52:04.359Z"
   },
   {
    "duration": 15,
    "start_time": "2025-05-12T08:52:04.375Z"
   },
   {
    "duration": 15,
    "start_time": "2025-05-12T08:52:04.391Z"
   },
   {
    "duration": 54,
    "start_time": "2025-05-12T08:52:04.408Z"
   },
   {
    "duration": 24,
    "start_time": "2025-05-12T08:52:04.463Z"
   },
   {
    "duration": 3,
    "start_time": "2025-05-12T08:52:04.490Z"
   },
   {
    "duration": 29,
    "start_time": "2025-05-12T08:52:04.495Z"
   },
   {
    "duration": 40,
    "start_time": "2025-05-12T08:52:04.526Z"
   },
   {
    "duration": 112,
    "start_time": "2025-05-12T08:52:04.568Z"
   },
   {
    "duration": 229,
    "start_time": "2025-05-12T08:52:04.681Z"
   },
   {
    "duration": 29,
    "start_time": "2025-05-12T08:52:04.913Z"
   },
   {
    "duration": 37,
    "start_time": "2025-05-12T08:52:04.944Z"
   },
   {
    "duration": 4,
    "start_time": "2025-05-12T08:52:04.983Z"
   },
   {
    "duration": 5,
    "start_time": "2025-05-12T08:52:04.989Z"
   },
   {
    "duration": 42,
    "start_time": "2025-05-12T08:52:04.996Z"
   },
   {
    "duration": 136,
    "start_time": "2025-05-12T08:52:05.040Z"
   },
   {
    "duration": 27,
    "start_time": "2025-05-12T08:52:05.177Z"
   },
   {
    "duration": 39,
    "start_time": "2025-05-12T08:52:05.206Z"
   },
   {
    "duration": 23,
    "start_time": "2025-05-12T08:52:05.247Z"
   },
   {
    "duration": 62,
    "start_time": "2025-05-12T08:52:05.272Z"
   },
   {
    "duration": 0,
    "start_time": "2025-05-12T08:52:05.336Z"
   },
   {
    "duration": 0,
    "start_time": "2025-05-12T08:52:05.337Z"
   },
   {
    "duration": 0,
    "start_time": "2025-05-12T08:52:05.338Z"
   },
   {
    "duration": 0,
    "start_time": "2025-05-12T08:52:05.340Z"
   }
  ],
  "kernelspec": {
   "display_name": "Python 3 (ipykernel)",
   "language": "python",
   "name": "python3"
  },
  "language_info": {
   "codemirror_mode": {
    "name": "ipython",
    "version": 3
   },
   "file_extension": ".py",
   "mimetype": "text/x-python",
   "name": "python",
   "nbconvert_exporter": "python",
   "pygments_lexer": "ipython3",
   "version": "3.9.5"
  },
  "toc": {
   "base_numbering": 1,
   "nav_menu": {},
   "number_sections": true,
   "sideBar": true,
   "skip_h1_title": true,
   "title_cell": "Table of Contents",
   "title_sidebar": "Contents",
   "toc_cell": false,
   "toc_position": {},
   "toc_section_display": true,
   "toc_window_display": false
  }
 },
 "nbformat": 4,
 "nbformat_minor": 5
}
