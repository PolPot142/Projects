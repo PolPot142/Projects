{
 "cells": [
  {
   "cell_type": "markdown",
   "metadata": {
    "id": "-VFbjcb3Awb7"
   },
   "source": [
    "# Исследование объявлений о продаже квартир\n",
    "\n",
    "В вашем распоряжении данные сервиса Яндекс Недвижимость — архив объявлений о продаже квартир в Санкт-Петербурге и соседних населённых пунктах за несколько лет. Вам нужно научиться определять рыночную стоимость объектов недвижимости. Для этого проведите исследовательский анализ данных и установите параметры, влияющие на цену объектов. Это позволит построить автоматизированную систему: она отследит аномалии и мошенническую деятельность.\n",
    "\n",
    "По каждой квартире на продажу доступны два вида данных. Первые вписаны пользователем, вторые — получены автоматически на основе картографических данных. Например, расстояние до центра, аэропорта и других объектов — эти данные автоматически получены из геосервисов. Количество парков и водоёмов также заполняется без участия пользователя."
   ]
  },
  {
   "cell_type": "markdown",
   "metadata": {
    "id": "aeFLH07FAwb9"
   },
   "source": [
    "### Откройте файл с данными и изучите общую информацию"
   ]
  },
  {
   "cell_type": "code",
   "execution_count": null,
   "metadata": {
    "id": "7MZxY65pAwb9"
   },
   "outputs": [],
   "source": [
    "import pandas as pd\n",
    "import numpy as np\n",
    "import matplotlib.pyplot as plt\n"
   ]
  },
  {
   "cell_type": "code",
   "execution_count": null,
   "metadata": {},
   "outputs": [],
   "source": [
    "df = pd.read_csv('/datasets/real_estate_data.csv', sep='\\t')\n",
    "df_original = pd.read_csv('/datasets/real_estate_data.csv', sep='\\t')\n",
    "display(df)"
   ]
  },
  {
   "cell_type": "code",
   "execution_count": null,
   "metadata": {},
   "outputs": [],
   "source": [
    "#изучим основную информацию\n",
    "print(df.info())"
   ]
  },
  {
   "cell_type": "code",
   "execution_count": null,
   "metadata": {},
   "outputs": [],
   "source": [
    "#Построим гистограммы\n",
    "df.hist(figsize=(20, 20));"
   ]
  },
  {
   "cell_type": "markdown",
   "metadata": {},
   "source": [
    "По гистограммам видно, что, например, в столбцах с площадями, высотой потолков, ценой есть большой расброс. Пропуски посчитаем ниже."
   ]
  },
  {
   "cell_type": "markdown",
   "metadata": {
    "id": "-O5NtivEAwb9"
   },
   "source": [
    "### Выполните предобработку данных"
   ]
  },
  {
   "cell_type": "markdown",
   "metadata": {},
   "source": [
    "Посчитаем количество пропусков в каждом столбце:"
   ]
  },
  {
   "cell_type": "code",
   "execution_count": null,
   "metadata": {
    "id": "7v3vAeTuAwb-",
    "scrolled": true
   },
   "outputs": [],
   "source": [
    "for column in df.columns:\n",
    "    missing_data = df[column].isna().sum()\n",
    "    print(f'Пропусков в столбце \"{column}\":{missing_data}')"
   ]
  },
  {
   "cell_type": "markdown",
   "metadata": {},
   "source": [
    "Посчитаем количество дубликатов:"
   ]
  },
  {
   "cell_type": "code",
   "execution_count": null,
   "metadata": {},
   "outputs": [],
   "source": [
    "df.duplicated().sum()"
   ]
  },
  {
   "cell_type": "markdown",
   "metadata": {},
   "source": [
    "Начнем работу с пропусками:"
   ]
  },
  {
   "cell_type": "markdown",
   "metadata": {},
   "source": [
    "Приведение времени к стандартному типу с точностью до дня:"
   ]
  },
  {
   "cell_type": "code",
   "execution_count": null,
   "metadata": {},
   "outputs": [],
   "source": [
    "df['first_day_exposition'] = pd.to_datetime(df['first_day_exposition'])"
   ]
  },
  {
   "cell_type": "markdown",
   "metadata": {},
   "source": [
    "Исключение строк с пропусками в столбце `floors_total`:"
   ]
  },
  {
   "cell_type": "code",
   "execution_count": null,
   "metadata": {},
   "outputs": [],
   "source": [
    "df = df.dropna(subset=['floors_total']).reset_index(drop=True)"
   ]
  },
  {
   "cell_type": "markdown",
   "metadata": {},
   "source": [
    "Исключение строк с пропусками в столбце `locality_name`:"
   ]
  },
  {
   "cell_type": "code",
   "execution_count": null,
   "metadata": {},
   "outputs": [],
   "source": [
    "df = df.dropna(subset=['locality_name']).reset_index(drop=True)"
   ]
  },
  {
   "cell_type": "markdown",
   "metadata": {},
   "source": [
    "Исключение объявлений с общей площадью меньше 20:"
   ]
  },
  {
   "cell_type": "code",
   "execution_count": null,
   "metadata": {},
   "outputs": [],
   "source": [
    "df = df.drop(df.query('total_area < 20').index)"
   ]
  },
  {
   "cell_type": "markdown",
   "metadata": {},
   "source": [
    "Для объявлений с высотой потолка больше 20 можно разделить эту высоту на 10. Остальные нереалистичные варианты исключим:"
   ]
  },
  {
   "cell_type": "code",
   "execution_count": null,
   "metadata": {},
   "outputs": [],
   "source": [
    "df.loc[df['ceiling_height'] > 20,'ceiling_height'] = df['ceiling_height']/10"
   ]
  },
  {
   "cell_type": "markdown",
   "metadata": {},
   "source": [
    "Хоромы с высотой потолка больше 7 и меньше 2 тоже надо исключить:"
   ]
  },
  {
   "cell_type": "code",
   "execution_count": null,
   "metadata": {},
   "outputs": [],
   "source": [
    "df = df.drop(df.query('ceiling_height > 7').index)\n",
    "df = df.drop(df.query('ceiling_height < 2').index)"
   ]
  },
  {
   "cell_type": "markdown",
   "metadata": {},
   "source": [
    "Пропуски в балконах заполним нулями:"
   ]
  },
  {
   "cell_type": "code",
   "execution_count": null,
   "metadata": {},
   "outputs": [],
   "source": [
    "df['balcony'] = df['balcony'].fillna(0)"
   ]
  },
  {
   "cell_type": "markdown",
   "metadata": {},
   "source": [
    "Если в столбцах с ближайшими парками и водоемами пропуск, то, значит расстояних до них больше 3000 м. Заполним пропуски в этих столбцах 3000. Соответственно, в столбац с количеством парков и водоемов заменим пропуски нулями:"
   ]
  },
  {
   "cell_type": "code",
   "execution_count": null,
   "metadata": {},
   "outputs": [],
   "source": [
    "df['parks_around3000'].fillna(0,inplace=True)\n",
    "df['ponds_around3000'].fillna(0,inplace=True)"
   ]
  },
  {
   "cell_type": "code",
   "execution_count": null,
   "metadata": {},
   "outputs": [],
   "source": [
    "missing_columns = ['parks_nearest','ponds_nearest']\n",
    "for column in missing_columns:\n",
    "    df[column] = df[column].fillna(3000)"
   ]
  },
  {
   "cell_type": "markdown",
   "metadata": {},
   "source": [
    "Найдем и заменим неявные дубликаты в названиях н.п. Для удобства, заменим \"ё\" на \"е\". Приведем в порядок типы н.п. Заменим некоторые дублирующие названия."
   ]
  },
  {
   "cell_type": "code",
   "execution_count": null,
   "metadata": {},
   "outputs": [],
   "source": [
    "#Выведем количество уникальных топонимов\n",
    "print(len(df['locality_name'].unique()))\n",
    "\n",
    "#Заменим \"ё\" на \"е\"\n",
    "df['locality_name'] = df['locality_name'].str.replace('ё', 'е')\n",
    "#Заменим некоторые неявные дубликаты\n",
    "df['locality_name'] = df['locality_name'].str.replace('поселок Мурино', 'Мурино')\n",
    "df['locality_name'] = df['locality_name'].str.replace('поселок Рябово', 'поселок городского типа Рябово')\n",
    "\n",
    "#Приведем к общему виду все типы населенных пунктов\n",
    "df['locality_name'] = df['locality_name'].str.replace('городской поселок', 'поселок городского типа')\n",
    "df['locality_name'] = df['locality_name'].str.replace('поселок станции', 'поселок при железнодорожной станции')\n",
    "print(df['locality_name'].sort_values().unique())\n",
    "\n",
    "#Выведем новое количество уникальных топонимов\n",
    "print(len(df['locality_name'].sort_values().unique()))"
   ]
  },
  {
   "cell_type": "markdown",
   "metadata": {},
   "source": [
    "Функция для создания столбца с типами н.п.:"
   ]
  },
  {
   "cell_type": "code",
   "execution_count": null,
   "metadata": {},
   "outputs": [],
   "source": [
    "def locality_type_namer(locality):\n",
    "    if 'поселок городского типа' in locality:\n",
    "        return 'ПГТ'\n",
    "    elif 'коттеджный поселок' in locality:\n",
    "        return 'КП'\n",
    "    elif 'деревня' in locality:\n",
    "        return 'Село'\n",
    "    elif 'поселок' in locality:\n",
    "        return 'Село'\n",
    "    elif 'поселок при железнодорожной станции' in locality:\n",
    "        return 'Село'\n",
    "    elif 'садовое' in locality:\n",
    "        return 'СНТ'\n",
    "    elif 'село' in locality:\n",
    "        return 'Село'\n",
    "    elif 'Санкт-Петербург' in locality:\n",
    "        return 'Санкт-Петербург'\n",
    "    else:\n",
    "        return 'Город'\n",
    "\n",
    "df['locality_type'] = df['locality_name'].apply(locality_type_namer)\n",
    "\n",
    "print(df.tail(5))"
   ]
  },
  {
   "cell_type": "markdown",
   "metadata": {},
   "source": [
    "Исключение объявленией, где сумма жилой площади и площади кухни больше общей площади:"
   ]
  },
  {
   "cell_type": "code",
   "execution_count": null,
   "metadata": {},
   "outputs": [],
   "source": [
    "df = df.drop(df.query('living_area+kitchen_area > total_area').index)"
   ]
  },
  {
   "cell_type": "markdown",
   "metadata": {},
   "source": [
    "Смотрим, что считается апартаментами:"
   ]
  },
  {
   "cell_type": "code",
   "execution_count": null,
   "metadata": {},
   "outputs": [],
   "source": [
    "df[['total_area','rooms', 'is_apartment','locality_type']].query('is_apartment==True').sort_values('total_area')"
   ]
  },
  {
   "cell_type": "markdown",
   "metadata": {},
   "source": [
    "Заполняем пропуски в `is_apartment`. Если комнат не ноль, то это апартаменты и наоборот:"
   ]
  },
  {
   "cell_type": "code",
   "execution_count": null,
   "metadata": {},
   "outputs": [],
   "source": [
    "df.loc[df['rooms']>0,'is_apartment'] = True"
   ]
  },
  {
   "cell_type": "code",
   "execution_count": null,
   "metadata": {},
   "outputs": [],
   "source": [
    "df.loc[df['rooms']==0,'is_apartment'] = False"
   ]
  },
  {
   "cell_type": "code",
   "execution_count": null,
   "metadata": {},
   "outputs": [],
   "source": [
    "df.loc[df['rooms'] == 0, 'studio'] = True"
   ]
  },
  {
   "cell_type": "code",
   "execution_count": null,
   "metadata": {},
   "outputs": [],
   "source": [
    "df.loc[df['rooms'] > 0, 'studio'] = False"
   ]
  },
  {
   "cell_type": "code",
   "execution_count": null,
   "metadata": {},
   "outputs": [],
   "source": [
    "#Проверим на ошибки в логике:\n",
    "df.loc[(df['is_apartment']==False)&(df['studio']==False)]"
   ]
  },
  {
   "cell_type": "markdown",
   "metadata": {},
   "source": [
    "Заменим пропуски в `ceiling_height` медианой:"
   ]
  },
  {
   "cell_type": "code",
   "execution_count": null,
   "metadata": {},
   "outputs": [],
   "source": [
    "print(df['ceiling_height'].median())\n",
    "df['ceiling_height'].fillna(df['ceiling_height'].median(),inplace=True)"
   ]
  },
  {
   "cell_type": "markdown",
   "metadata": {},
   "source": [
    "Проверим, нет ли ошибок в заполнении этажей"
   ]
  },
  {
   "cell_type": "code",
   "execution_count": null,
   "metadata": {},
   "outputs": [],
   "source": [
    "df.query('floor > floors_total')"
   ]
  },
  {
   "cell_type": "markdown",
   "metadata": {},
   "source": [
    "Начнем заполнять пропуски в площадях. Составим таблицу по комнатам и типу н.п., на основании которой заполним пропуски медианными значениям каждой группы:"
   ]
  },
  {
   "cell_type": "code",
   "execution_count": null,
   "metadata": {
    "scrolled": true
   },
   "outputs": [],
   "source": [
    "df.groupby(['rooms', 'locality_type']).mean()"
   ]
  },
  {
   "cell_type": "code",
   "execution_count": null,
   "metadata": {},
   "outputs": [],
   "source": [
    "df.loc[df['living_area'].isna() & df['kitchen_area'].notna(), 'living_area'] = (df['total_area'] - df['kitchen_area'])\n",
    "df.loc[df['kitchen_area'].isna() & df['living_area'].notna(), 'kitchen_area'] = (df['total_area'] - df['living_area'])"
   ]
  },
  {
   "cell_type": "code",
   "execution_count": null,
   "metadata": {},
   "outputs": [],
   "source": [
    "df.loc[df['kitchen_area'].isna()]"
   ]
  },
  {
   "cell_type": "markdown",
   "metadata": {},
   "source": [
    "Заполним столбцы `living_area` и `living_area` медианными значениями из соответствующих групп:"
   ]
  },
  {
   "cell_type": "code",
   "execution_count": null,
   "metadata": {},
   "outputs": [],
   "source": [
    "#К каждому из требуемых столбцов применим метод transform('median') для сохранения исходных размеров таблицы: \n",
    "df['living_area'] = df['living_area'].fillna(df.groupby(['locality_type', 'rooms'])['living_area'].transform('median'))\n",
    "df['kitchen_area'] = df['kitchen_area'].fillna(df.groupby(['locality_type', 'rooms'])['kitchen_area'].transform('median'))"
   ]
  },
  {
   "cell_type": "markdown",
   "metadata": {},
   "source": [
    "В одной группе попалось одинокое объявление, которое нечем заполнить:"
   ]
  },
  {
   "cell_type": "code",
   "execution_count": null,
   "metadata": {},
   "outputs": [],
   "source": [
    "df.loc[df['kitchen_area'].isna()]"
   ]
  },
  {
   "cell_type": "markdown",
   "metadata": {},
   "source": [
    "Вручную посмотрим аналогичные параметры в предыдущей группе(`locality_type`=*село* `rooms`=*6*). Вычтем эти величины из известной общей площади и вставим в строку:"
   ]
  },
  {
   "cell_type": "code",
   "execution_count": null,
   "metadata": {},
   "outputs": [],
   "source": [
    "df['kitchen_area'].fillna(17.8 ,inplace=True)\n",
    "df['living_area'].fillna(183.2 ,inplace=True)"
   ]
  },
  {
   "cell_type": "markdown",
   "metadata": {},
   "source": [
    "Заполним пропущенные расстояния до центра и до аэропорта медианными значениями группы по н.п.:"
   ]
  },
  {
   "cell_type": "code",
   "execution_count": null,
   "metadata": {},
   "outputs": [],
   "source": [
    "df['airports_nearest'] = df['airports_nearest'].fillna(df.groupby(['locality_name'])['airports_nearest'].transform('median'))"
   ]
  },
  {
   "cell_type": "code",
   "execution_count": null,
   "metadata": {},
   "outputs": [],
   "source": [
    "df['cityCenters_nearest'] = df['cityCenters_nearest'].fillna(df.groupby(['locality_name'])\n",
    "                                                             ['cityCenters_nearest'].transform('median')\n",
    "                                                            )"
   ]
  },
  {
   "cell_type": "markdown",
   "metadata": {},
   "source": [
    "Остались незаполненные ячейки:"
   ]
  },
  {
   "cell_type": "code",
   "execution_count": null,
   "metadata": {},
   "outputs": [],
   "source": [
    "df.loc[df['cityCenters_nearest'].isna()].groupby('locality_type').mean()"
   ]
  },
  {
   "cell_type": "code",
   "execution_count": null,
   "metadata": {},
   "outputs": [],
   "source": [
    "df.loc[df['airports_nearest'].isna()].groupby('locality_type').mean()"
   ]
  },
  {
   "cell_type": "markdown",
   "metadata": {},
   "source": [
    "Заполним их \"значительным расстоянием\":"
   ]
  },
  {
   "cell_type": "code",
   "execution_count": null,
   "metadata": {},
   "outputs": [],
   "source": [
    "df['cityCenters_nearest'].fillna(65000,inplace=True)\n",
    "df['airports_nearest'].fillna(800000,inplace=True)"
   ]
  },
  {
   "cell_type": "markdown",
   "metadata": {},
   "source": [
    "Еще раз проверим наличие пропусков. Пропуски остались только в колонке `days_exposition`."
   ]
  },
  {
   "cell_type": "code",
   "execution_count": null,
   "metadata": {},
   "outputs": [],
   "source": [
    "for column in df.columns:\n",
    "    missing_data = df[column].isna().sum()\n",
    "    print(f'Пропусков в столбце \"{column}\":{missing_data}')"
   ]
  },
  {
   "cell_type": "code",
   "execution_count": null,
   "metadata": {},
   "outputs": [],
   "source": [
    "df.hist(figsize=(20, 20));"
   ]
  },
  {
   "cell_type": "code",
   "execution_count": null,
   "metadata": {
    "scrolled": true
   },
   "outputs": [],
   "source": [
    "df.head(10)"
   ]
  },
  {
   "cell_type": "markdown",
   "metadata": {
    "id": "QCcvyY6YAwb-"
   },
   "source": [
    "### Добавьте в таблицу новые столбцы"
   ]
  },
  {
   "cell_type": "markdown",
   "metadata": {},
   "source": [
    "Добавим столбец `price_for_square_meter` - средняя цена за квадратный метр:"
   ]
  },
  {
   "cell_type": "code",
   "execution_count": null,
   "metadata": {
    "id": "Z8eJek3IAwb-"
   },
   "outputs": [],
   "source": [
    "df['price_for_square_meter']=df['last_price']/df['total_area']"
   ]
  },
  {
   "cell_type": "markdown",
   "metadata": {},
   "source": [
    "Теперь можно округлить и привести к целым некоторые столбцы:"
   ]
  },
  {
   "cell_type": "code",
   "execution_count": null,
   "metadata": {},
   "outputs": [],
   "source": [
    "int_columns = ['last_price', 'floors_total', 'airports_nearest', 'cityCenters_nearest','parks_around3000', 'parks_nearest',\n",
    "              'ponds_around3000', 'ponds_nearest','price_for_square_meter']\n",
    "df[int_columns] = df[int_columns].astype(int)"
   ]
  },
  {
   "cell_type": "markdown",
   "metadata": {},
   "source": [
    "Добавим столбцы с номером дня недели, месяца и года:"
   ]
  },
  {
   "cell_type": "code",
   "execution_count": null,
   "metadata": {},
   "outputs": [],
   "source": [
    "df['weekday'] = df['first_day_exposition'].dt.weekday"
   ]
  },
  {
   "cell_type": "code",
   "execution_count": null,
   "metadata": {},
   "outputs": [],
   "source": [
    "df['month'] = df['first_day_exposition'].dt.month"
   ]
  },
  {
   "cell_type": "code",
   "execution_count": null,
   "metadata": {},
   "outputs": [],
   "source": [
    "df['year'] = df['first_day_exposition'].dt.year"
   ]
  },
  {
   "cell_type": "markdown",
   "metadata": {},
   "source": [
    "Напишем функцию для добавления столбца `floor_type` - тип этажа:"
   ]
  },
  {
   "cell_type": "code",
   "execution_count": null,
   "metadata": {},
   "outputs": [],
   "source": [
    "def floor_type_namer(row):\n",
    "    if row['floor'] == 1:\n",
    "        return 'первый этаж'\n",
    "    elif row['floor'] == row['floors_total']:\n",
    "        return 'последний этаж'\n",
    "    else:\n",
    "        return 'другой'\n",
    "\n",
    "df['floor_type'] = df.apply(floor_type_namer,axis=1)\n"
   ]
  },
  {
   "cell_type": "markdown",
   "metadata": {},
   "source": [
    "Переведем расстояния до центра в км, округлим и приведем к целочисленному значению:"
   ]
  },
  {
   "cell_type": "code",
   "execution_count": null,
   "metadata": {},
   "outputs": [],
   "source": [
    "df['cityCenters_nearest'] = (df['cityCenters_nearest']/1000).round(0).astype(int)\n"
   ]
  },
  {
   "cell_type": "markdown",
   "metadata": {
    "id": "pPyxrKWTAwb-"
   },
   "source": [
    "### Проведите исследовательский анализ данных"
   ]
  },
  {
   "cell_type": "markdown",
   "metadata": {},
   "source": [
    "Начнем выводить отдельные гистограммы по требуемым пунктам:"
   ]
  },
  {
   "cell_type": "code",
   "execution_count": null,
   "metadata": {
    "id": "V2f0D3kLAwb-"
   },
   "outputs": [],
   "source": [
    "df['total_area'].hist(bins=50);"
   ]
  },
  {
   "cell_type": "markdown",
   "metadata": {},
   "source": [
    "Самая большая категория объявлений с общей площадью около 50 кв.м."
   ]
  },
  {
   "cell_type": "code",
   "execution_count": null,
   "metadata": {},
   "outputs": [],
   "source": [
    "df['living_area'].hist(bins=50);"
   ]
  },
  {
   "cell_type": "code",
   "execution_count": null,
   "metadata": {},
   "outputs": [],
   "source": [
    "df['living_area'].hist(range=(0,100),bins=60);"
   ]
  },
  {
   "cell_type": "markdown",
   "metadata": {},
   "source": [
    "Два пика: около 20 и 30 кв.м. Говорит о преобладании типовой застройки."
   ]
  },
  {
   "cell_type": "code",
   "execution_count": null,
   "metadata": {},
   "outputs": [],
   "source": [
    "df['kitchen_area'].hist(range=(0,40),bins=50);"
   ]
  },
  {
   "cell_type": "markdown",
   "metadata": {},
   "source": [
    "Аналогично предыдущему: пики около 10 и 5 кв.м."
   ]
  },
  {
   "cell_type": "code",
   "execution_count": null,
   "metadata": {},
   "outputs": [],
   "source": [
    "df['last_price'].hist(bins=50);"
   ]
  },
  {
   "cell_type": "code",
   "execution_count": null,
   "metadata": {},
   "outputs": [],
   "source": [
    "df['last_price'].hist(range=(0,5e7),bins=50);"
   ]
  },
  {
   "cell_type": "markdown",
   "metadata": {},
   "source": [
    "В ценах разброс на два порядка. В основном квартиры стоят до 10 млн."
   ]
  },
  {
   "cell_type": "code",
   "execution_count": null,
   "metadata": {},
   "outputs": [],
   "source": [
    "df['rooms'].hist(range=(0,10),bins=50);"
   ]
  },
  {
   "cell_type": "markdown",
   "metadata": {},
   "source": [
    "В основном в объявлениях одна-две комнаты."
   ]
  },
  {
   "cell_type": "code",
   "execution_count": null,
   "metadata": {},
   "outputs": [],
   "source": [
    "df['floor_type'].hist(bins=50);"
   ]
  },
  {
   "cell_type": "markdown",
   "metadata": {},
   "source": [
    "Очевидно, что в основном квартиры продаются не на первом и последнем этаже, а где-то в промежутке."
   ]
  },
  {
   "cell_type": "code",
   "execution_count": null,
   "metadata": {},
   "outputs": [],
   "source": [
    "df['floors_total'].hist(bins=30);"
   ]
  },
  {
   "cell_type": "markdown",
   "metadata": {},
   "source": [
    "Пики на 5 и 10 этажах говорят о наличии типовой застройки."
   ]
  },
  {
   "cell_type": "code",
   "execution_count": null,
   "metadata": {},
   "outputs": [],
   "source": [
    "df['ceiling_height'].hist(bins=50);"
   ]
  },
  {
   "cell_type": "markdown",
   "metadata": {},
   "source": [
    "Большинство потолков такие, какие должны быть."
   ]
  },
  {
   "cell_type": "code",
   "execution_count": null,
   "metadata": {},
   "outputs": [],
   "source": [
    "df['cityCenters_nearest'].hist(bins=50);"
   ]
  },
  {
   "cell_type": "markdown",
   "metadata": {},
   "source": [
    "В основном квартиры очень далеко от центра. "
   ]
  },
  {
   "cell_type": "code",
   "execution_count": null,
   "metadata": {},
   "outputs": [],
   "source": [
    "df['parks_nearest'].hist(bins=50);"
   ]
  },
  {
   "cell_type": "markdown",
   "metadata": {},
   "source": [
    "Парков в радиусе 3 км мало."
   ]
  },
  {
   "cell_type": "code",
   "execution_count": null,
   "metadata": {},
   "outputs": [],
   "source": [
    "df['parks_nearest'].hist(range=(0,2999),bins=50);"
   ]
  },
  {
   "cell_type": "markdown",
   "metadata": {},
   "source": [
    "Если парк есть, то он скорее всего на расстоянии 500 м. "
   ]
  },
  {
   "cell_type": "markdown",
   "metadata": {},
   "source": [
    "Разберемся со столбцом `last_price`:"
   ]
  },
  {
   "cell_type": "code",
   "execution_count": null,
   "metadata": {},
   "outputs": [],
   "source": [
    "df['last_price'].hist(bins=50);"
   ]
  },
  {
   "cell_type": "code",
   "execution_count": null,
   "metadata": {},
   "outputs": [],
   "source": [
    "df['last_price'].hist(range=(6e7,8e8),bins=50);"
   ]
  },
  {
   "cell_type": "code",
   "execution_count": null,
   "metadata": {},
   "outputs": [],
   "source": [
    "df[['last_price', 'cityCenters_nearest','total_area','locality_type']].sort_values(['last_price'],ascending=False)"
   ]
  },
  {
   "cell_type": "markdown",
   "metadata": {},
   "source": [
    "В графике выше аномалиями я бы назвал первое и последнее объявление. Первое слишком дорого в сравнении со следующими объявлениями, хотя тут опять же надо смотреть на данные, которых в таблице нет. Последнее слишком дешевое, даже с учетом, что там цена может быть ошибочно записана в тысячах рублей. Удалим эти столбцы:"
   ]
  },
  {
   "cell_type": "code",
   "execution_count": null,
   "metadata": {},
   "outputs": [],
   "source": [
    "df = df.drop([12897, 8750]).reset_index(drop=True)"
   ]
  },
  {
   "cell_type": "code",
   "execution_count": null,
   "metadata": {},
   "outputs": [],
   "source": [
    "df['last_price'].hist(bins=50);"
   ]
  },
  {
   "cell_type": "markdown",
   "metadata": {},
   "source": [
    "У гистограммы есть хвост после 100 млн руб, удалим эти значения:"
   ]
  },
  {
   "cell_type": "code",
   "execution_count": null,
   "metadata": {},
   "outputs": [],
   "source": [
    "df.query('last_price > 1e8')"
   ]
  },
  {
   "cell_type": "code",
   "execution_count": null,
   "metadata": {},
   "outputs": [],
   "source": [
    "#Исправил согласно v2\n",
    "df = df.drop(df.query('last_price > 1e8').index).reset_index(drop=True)"
   ]
  },
  {
   "cell_type": "code",
   "execution_count": null,
   "metadata": {},
   "outputs": [],
   "source": [
    "df['last_price'].hist(bins=50);"
   ]
  },
  {
   "cell_type": "markdown",
   "metadata": {},
   "source": [
    "Разберемся со столбцом `rooms`:"
   ]
  },
  {
   "cell_type": "code",
   "execution_count": null,
   "metadata": {},
   "outputs": [],
   "source": [
    "df[['last_price', 'cityCenters_nearest','total_area','locality_type','rooms']].sort_values(['rooms'],ascending=False)"
   ]
  },
  {
   "cell_type": "markdown",
   "metadata": {},
   "source": [
    "Есть перебор с комнатами. В задании указано, что продаются квартиры, так что помещения с таким большим количеством комнат можно считать коммерческими. По гистограмме комнат видно, что есть маленькая группа объявлений, где больше 8 комнат:"
   ]
  },
  {
   "cell_type": "code",
   "execution_count": null,
   "metadata": {},
   "outputs": [],
   "source": [
    "df.query('rooms > 8')"
   ]
  },
  {
   "cell_type": "markdown",
   "metadata": {},
   "source": [
    "Удалим их:"
   ]
  },
  {
   "cell_type": "code",
   "execution_count": null,
   "metadata": {},
   "outputs": [],
   "source": [
    "#Исправил согласно v2\n",
    "df = df.drop(df.query('rooms > 8').index).reset_index(drop=True)"
   ]
  },
  {
   "cell_type": "code",
   "execution_count": null,
   "metadata": {},
   "outputs": [],
   "source": [
    "df[['last_price', 'cityCenters_nearest','total_area','locality_type','rooms','price_for_square_meter']].sort_values(['total_area'],ascending=False)"
   ]
  },
  {
   "cell_type": "markdown",
   "metadata": {},
   "source": [
    "Квартиры больше 250 кв.м выглядит странновато, можно тоже удалить"
   ]
  },
  {
   "cell_type": "code",
   "execution_count": null,
   "metadata": {},
   "outputs": [],
   "source": [
    "#Исправил согласно v2\n",
    "df = df.drop(df.query('total_area > 250').index).reset_index(drop=True)"
   ]
  },
  {
   "cell_type": "markdown",
   "metadata": {},
   "source": [
    "Оценим процент удаленных данных:"
   ]
  },
  {
   "cell_type": "code",
   "execution_count": null,
   "metadata": {},
   "outputs": [],
   "source": [
    "print(f\"Процент удаленных данных: {(1 - (df.shape[0] / df_original.shape[0]))*100:.2f}%\")"
   ]
  },
  {
   "cell_type": "markdown",
   "metadata": {},
   "source": [
    "Выглядит терпимо."
   ]
  },
  {
   "cell_type": "code",
   "execution_count": null,
   "metadata": {},
   "outputs": [],
   "source": [
    "#код ревьюера\n",
    "data2 = pd.read_csv('/datasets/real_estate_data.csv', sep='\\t')\n",
    "(data2['total_area']).hist(bins=30);"
   ]
  },
  {
   "cell_type": "markdown",
   "metadata": {},
   "source": [
    "Изучим, как быстро продавались квартиры:"
   ]
  },
  {
   "cell_type": "code",
   "execution_count": null,
   "metadata": {},
   "outputs": [],
   "source": [
    "df['days_exposition'].hist(bins=50);"
   ]
  },
  {
   "cell_type": "code",
   "execution_count": null,
   "metadata": {},
   "outputs": [],
   "source": [
    "print(df['days_exposition'].describe()) "
   ]
  },
  {
   "cell_type": "markdown",
   "metadata": {},
   "source": [
    "В среднем квартира продается 180 дней. По медиане 95 дней. Категории продаж можно разделить по квартилям:\n",
    "Быстрые продажи: до первого квартиля (до 45 дней);\n",
    "Обычные продажи: между первым и третьим квартилем (от 45 до 232 дней);\n",
    "Медленные продажи: после третьего квартиля (от 232 дней)."
   ]
  },
  {
   "cell_type": "code",
   "execution_count": null,
   "metadata": {},
   "outputs": [],
   "source": [
    "df['days_exposition'].hist(range=(0,100),bins=50);"
   ]
  },
  {
   "cell_type": "markdown",
   "metadata": {},
   "source": [
    "Выведем графики зависимости цены от требуемых параметров. Сразу будем считать корреляцию между этими параметрами:"
   ]
  },
  {
   "cell_type": "code",
   "execution_count": null,
   "metadata": {},
   "outputs": [],
   "source": [
    "df.plot(x='total_area', y='last_price', kind='scatter', alpha=0.7);"
   ]
  },
  {
   "cell_type": "code",
   "execution_count": null,
   "metadata": {},
   "outputs": [],
   "source": [
    "df['total_area'].corr(df['last_price'])"
   ]
  },
  {
   "cell_type": "code",
   "execution_count": null,
   "metadata": {},
   "outputs": [],
   "source": [
    "df.plot(x='living_area', y='last_price', kind='scatter', alpha=0.7);"
   ]
  },
  {
   "cell_type": "code",
   "execution_count": null,
   "metadata": {},
   "outputs": [],
   "source": [
    "df['living_area'].corr(df['last_price'])"
   ]
  },
  {
   "cell_type": "code",
   "execution_count": null,
   "metadata": {},
   "outputs": [],
   "source": [
    "df.plot(x='kitchen_area', y='last_price', kind='scatter', alpha=0.7);"
   ]
  },
  {
   "cell_type": "code",
   "execution_count": null,
   "metadata": {},
   "outputs": [],
   "source": [
    "df['kitchen_area'].corr(df['last_price'])"
   ]
  },
  {
   "cell_type": "code",
   "execution_count": null,
   "metadata": {},
   "outputs": [],
   "source": [
    "df.plot(x='rooms', y='last_price',  kind='scatter', alpha=0.7);"
   ]
  },
  {
   "cell_type": "code",
   "execution_count": null,
   "metadata": {},
   "outputs": [],
   "source": [
    "df['rooms'].corr(df['last_price'])"
   ]
  },
  {
   "cell_type": "code",
   "execution_count": null,
   "metadata": {},
   "outputs": [],
   "source": [
    "corr_df=df[['last_price', 'total_area', 'kitchen_area', 'living_area', 'rooms']]\n",
    "print(corr_df.corr()['last_price'])"
   ]
  },
  {
   "cell_type": "code",
   "execution_count": null,
   "metadata": {
    "scrolled": true
   },
   "outputs": [],
   "source": [
    "#Средняя цена по типу этажа\n",
    "mean_price_floor_type = df.groupby('floor_type')['last_price'].mean()\n",
    "\n",
    "#Построение графика средней цены по этажам\n",
    "mean_price_floor_type.plot(kind='bar', title='Средняя цена по типу этажа', ylabel='Средняя цена', xlabel='Тип этажа')\n",
    "plt.show()\n",
    "\n",
    "#Средняя цена по дням\n",
    "mean_price_weekday = df.groupby('weekday')['last_price'].mean()\n",
    "\n",
    "#Построение графика по дням\n",
    "mean_price_weekday.plot(kind='bar', title='Средняя цена по месяцам', ylabel='Средняя цена', xlabel='Месяц')\n",
    "plt.show()\n",
    "\n",
    "#Средняя цена по месяцам\n",
    "mean_price_month = df.groupby('month')['last_price'].mean()\n",
    "\n",
    "#Построение графика по месяцам\n",
    "mean_price_month.plot(kind='bar', title='Средняя цена по месяцам', ylabel='Средняя цена', xlabel='Месяц')\n",
    "plt.show()\n",
    "\n",
    "#Средняя цена по годам\n",
    "mean_price_year = df.groupby('year')['last_price'].mean()\n",
    "\n",
    "#Построение графика по годам\n",
    "mean_price_year.plot(kind='bar', title='Средняя цена по годам', ylabel='Средняя цена', xlabel='Год')\n",
    "plt.show()"
   ]
  },
  {
   "cell_type": "markdown",
   "metadata": {},
   "source": [
    "Построим то же самое по медиане:"
   ]
  },
  {
   "cell_type": "code",
   "execution_count": null,
   "metadata": {},
   "outputs": [],
   "source": [
    "#Медианая цена по типу этажа\n",
    "median_price_floor_type = df.groupby('floor_type')['last_price'].median()\n",
    "\n",
    "#Построение графика медианной цены по этажам\n",
    "median_price_floor_type.plot(kind='bar', title='Медианная цена по типу этажа', ylabel='Медианная цена', xlabel='Тип этажа')\n",
    "plt.show()\n",
    "\n",
    "#Медианая цена по дням\n",
    "median_price_weekday = df.groupby('weekday')['last_price'].median()\n",
    "\n",
    "#Построение графика по дням\n",
    "median_price_weekday.plot(kind='bar', title='Медианная цена по дням', ylabel='Медианная цена', xlabel='День')\n",
    "plt.show()\n",
    "\n",
    "#Медианая цена по месяцам\n",
    "median_price_month = df.groupby('month')['last_price'].median()\n",
    "\n",
    "#Построение графика по месяцам\n",
    "median_price_month.plot(kind='bar', title='Медианная цена по месяцам', ylabel='Медианная цена', xlabel='Месяц')\n",
    "plt.show()\n",
    "\n",
    "#Медианая цена по годам\n",
    "median_price_year = df.groupby('year')['last_price'].median()\n",
    "\n",
    "#Построение графика по годам\n",
    "median_price_year.plot(kind='bar', title='Медианная цена по годам', ylabel='Медианная цена', xlabel='Год')\n",
    "plt.show()"
   ]
  },
  {
   "cell_type": "raw",
   "metadata": {},
   "source": [
    "На графиках со среднем значением наблюдаются завышения в категории последний этаж. Скорее всего это говорит о наличии объявлений с очень дорогими квартирами, занимающими последний или последние этажи. В целом медианные графики \"ниже\" по определению медианы.\n",
    "В 2014 году квартиры были очень дорогими, а потом сильно подешевели. Скорее всего сервис заработал в 2014 году и там почти ничего не было, а к 2015 году появилось много дешевых объявлений из области и в принципе по городу."
   ]
  },
  {
   "cell_type": "code",
   "execution_count": null,
   "metadata": {},
   "outputs": [],
   "source": [
    "#Количество объявлений в год\n",
    "count_year = df.groupby('year')['last_price'].count()\n",
    "\n",
    "#Построение графика по годам\n",
    "count_year.plot(kind='bar', title='Количество объявлений в год', ylabel='Количество объявлений', xlabel='Год')\n",
    "plt.show()"
   ]
  },
  {
   "cell_type": "markdown",
   "metadata": {},
   "source": [
    "График это подтверждает. В 2014 году количество объявлений исчислялось сотнями, а в 2015 тысячами."
   ]
  },
  {
   "cell_type": "markdown",
   "metadata": {},
   "source": [
    "Сильнее всего стоимость зависит от общей площади (0.65), однако это суммарный параметр, который состоит из жилой площади (0.57) и площади кухни (0.49). Жилая площадь на стоимость квартиры влияет чуть сильнее, чем площадь кухни. Количество комнат слабо влияет на стоимость квартиры (0.36)."
   ]
  },
  {
   "cell_type": "markdown",
   "metadata": {},
   "source": [
    "Посчитаем среднюю цену одного квадратного метра в 10 населённых пунктах с наибольшим числом объявлений."
   ]
  },
  {
   "cell_type": "code",
   "execution_count": null,
   "metadata": {},
   "outputs": [],
   "source": [
    "#group_by_price = df.groupby('locality_name').agg({\n",
    "#    'price_for_square_meter': 'mean',  # Средняя цена за квадратный метр\n",
    "#    'locality_name': 'count'  # Количество объявлений\n",
    "#}).rename(columns={'locality_name': 'locality_count'})\n",
    "\n",
    "#print(group_by_price.sort_values('locality_count', ascending=False).head(10))\n",
    "\n",
    "low_price = df.pivot_table(index='locality_name', values='price_for_square_meter', \n",
    "                           aggfunc=({'price_for_square_meter': 'mean',\n",
    "                                'locality_name': 'count'})).rename(columns={'locality_name': 'locality_count'})\n",
    "low_price['price_for_square_meter']=low_price['price_for_square_meter'].round(-1).astype(int)\n",
    "low_price =  low_price.sort_values('locality_count', ascending=False).head(10)\n",
    "print(low_price.sort_values('price_for_square_meter', ascending=False).head(10))"
   ]
  },
  {
   "cell_type": "markdown",
   "metadata": {},
   "source": [
    "Больше всего объявлений (15577 шт.) в Санкт-Петербурге, там же и самый дорогой квадратный метр (114670 руб/кв.м). Замыкает десятку Выборг (237 шт.) (58140 руб/кв.м)"
   ]
  },
  {
   "cell_type": "markdown",
   "metadata": {},
   "source": [
    "Построим график зависимости цены за кв.м. от расстояния до центра СПБ"
   ]
  },
  {
   "cell_type": "code",
   "execution_count": null,
   "metadata": {},
   "outputs": [],
   "source": [
    "#С помощью логической индексации выберем в нашу таблицу объявления из СПБ\n",
    "price_per_km_spb = df[df['locality_name'] == 'Санкт-Петербург']\n",
    "\n",
    "#Сгруппируем таблицу по `cityCenters_nearest` и посчитаем среднее. Восстановим индексацию\n",
    "price_per_km_spb = price_per_km_spb.groupby('cityCenters_nearest').agg({'last_price': 'mean'}).reset_index()\n",
    "\n",
    "# Переименование колонок для удобства\n",
    "price_per_km_spb.columns = ['cityCenters_distance', 'price']\n",
    "\n",
    "# Построение графика\n",
    "price_per_km_spb.plot(x='cityCenters_distance', y='price', style='o-',grid=True, \n",
    "        title='Зависимость средней цены квартир от расстояния до центра Санкт-Петербурга',\n",
    "        xlabel='Расстояние до центра, км',\n",
    "        ylabel='Средняя цена, руб'\n",
    "       )\n"
   ]
  },
  {
   "cell_type": "markdown",
   "metadata": {},
   "source": [
    "В центре квартиры более дорогие, на удалении от центра дешевеют до определенного значения с учетом окружающей местности. Всплески показывают наличие всяких элитных жк, новых районов и прочего."
   ]
  },
  {
   "cell_type": "markdown",
   "metadata": {},
   "source": [
    "Выведем все коэффициенты корреляции с ценой:"
   ]
  },
  {
   "cell_type": "code",
   "execution_count": null,
   "metadata": {},
   "outputs": [],
   "source": [
    "df_corr = df.corr()['last_price'].sort_values(ascending=False)\n",
    "\n",
    "print(df_corr)"
   ]
  },
  {
   "cell_type": "markdown",
   "metadata": {},
   "source": [
    "Выведем все коэффициенты корреляции с ценой для Санкт-Петербурга:"
   ]
  },
  {
   "cell_type": "code",
   "execution_count": null,
   "metadata": {},
   "outputs": [],
   "source": [
    "spb_corr=df.loc[df['locality_name']=='Санкт-Петербург'].corr()['last_price'].sort_values(ascending=False)\n",
    "\n",
    "print(spb_corr)"
   ]
  },
  {
   "cell_type": "markdown",
   "metadata": {},
   "source": [
    "Сделаем единую таблицу корреляций:"
   ]
  },
  {
   "cell_type": "code",
   "execution_count": null,
   "metadata": {},
   "outputs": [],
   "source": [
    "spb_vs_all=pd.concat({'Корреляция по всей таблице': df_corr, 'Корреляция по СПБ': spb_corr}, axis=1)\n",
    "spb_vs_all.sort_values(['Корреляция по всей таблице'],ascending=False)"
   ]
  },
  {
   "cell_type": "markdown",
   "metadata": {
    "id": "h7VpzkIDAwb-"
   },
   "source": [
    "### Вывод"
   ]
  },
  {
   "cell_type": "markdown",
   "metadata": {
    "id": "3H4lnp_KAwb-"
   },
   "source": [
    "В результате обработки данных было отброшено 1.56% данных.\n",
    "\n",
    "Сильнее всего на стоимость квартиры влияет ее площадь(коэффициент корреляции = 0.65), при этом жилая площадь(0.57) важнее площади кухни (0.49). Среднее влияние оказывает количество комнат (0.36), высота потолков (0.29), удаленность от центра (-0.24). Несущественное влияние оказывает наличие парков и водоемов и удаленность от них. Так же на цену сильно влияет тип этажа, что не отражает корреляция. Так же в Санкт-Петербурге менее важно(-0.18 по всей таблице против -0.014 в СПБ) расстояние до аэропорта, видимо, из-за развитой транспортной системы. Наличие и расстояние до парков и водоемов тоже не так важно для ценообразования в СПБ. \n",
    "На графике со среднем значением цены по типу этажа наблюдаются завышения в категории последний этаж. Скорее всего это говорит о наличии объявлений с очень дорогими квартирами, занимающими последний или последние этажи. В целом медианные графики \"ниже\".\n",
    "\n",
    "В 2014 году квартиры в среднем и по медиане были очень дорогими, а потом сильно подешевели. Скорее всего сервис заработал в 2014 году и там почти ничего не было, а к 2015 году появилось много дешевых объявлений из области и в принципе по городу. К 2019 году квартиры несколько подорожали.\n",
    "\n",
    "Расстояние до центра в Санкт-Петербурге быстро падает с 30 млн до 5-6 млн и далее почти не меняется. Небольшие скачки говорят о более дорогих районах, жк, близости к достопримечательностям, которые не учтены в этой таблице.\n",
    "\n",
    "В среднем квартира продается 180 дней. По медиане 95 дней. Категории продаж можно разделить по квартилям: Быстрые продажи: до первого квартиля (до 45 дней); Обычные продажи: между первым и третьим квартилем (от 45 до 232 дней); Медленные продажи: после третьего квартиля (от 232 дней).\n",
    "\n",
    "Больше всего объявлений (15577 шт.) в Санкт-Петербурге, там же и самый дорогой квадратный метр (114670 руб/кв.м). Замыкает десятку Выборг (237 шт.) (58140 руб/кв.м).\n",
    "\n",
    "Для улучшения анализа можно, например, сделать скейлинг(полином) от всех параметров и рассчитывать примерную рыночную цену квартиры."
   ]
  }
 ],
 "metadata": {
  "ExecuteTimeLog": [
   {
    "duration": 475,
    "start_time": "2024-12-27T10:10:08.513Z"
   },
   {
    "duration": 154,
    "start_time": "2024-12-27T10:10:17.257Z"
   },
   {
    "duration": 103,
    "start_time": "2024-12-27T10:10:28.504Z"
   },
   {
    "duration": 86,
    "start_time": "2024-12-27T10:10:41.190Z"
   },
   {
    "duration": 140,
    "start_time": "2024-12-27T10:10:50.958Z"
   },
   {
    "duration": 120,
    "start_time": "2024-12-27T10:11:03.416Z"
   },
   {
    "duration": 127,
    "start_time": "2024-12-27T10:12:08.360Z"
   },
   {
    "duration": 120,
    "start_time": "2024-12-27T10:12:37.717Z"
   },
   {
    "duration": 108,
    "start_time": "2024-12-27T10:12:49.502Z"
   },
   {
    "duration": 121,
    "start_time": "2024-12-27T10:13:01.556Z"
   },
   {
    "duration": 126,
    "start_time": "2024-12-27T10:13:28.225Z"
   },
   {
    "duration": 518,
    "start_time": "2024-12-27T10:13:44.434Z"
   },
   {
    "duration": 14,
    "start_time": "2024-12-27T10:13:44.954Z"
   },
   {
    "duration": 63,
    "start_time": "2024-12-27T10:15:46.048Z"
   },
   {
    "duration": 2584,
    "start_time": "2024-12-27T10:15:57.014Z"
   },
   {
    "duration": 15,
    "start_time": "2024-12-27T13:26:40.003Z"
   },
   {
    "duration": 21,
    "start_time": "2024-12-27T13:27:12.611Z"
   },
   {
    "duration": 9,
    "start_time": "2024-12-27T13:59:00.684Z"
   },
   {
    "duration": 35,
    "start_time": "2024-12-27T13:59:12.266Z"
   },
   {
    "duration": 17,
    "start_time": "2024-12-27T14:01:39.630Z"
   },
   {
    "duration": 51,
    "start_time": "2024-12-30T01:42:52.755Z"
   },
   {
    "duration": 607,
    "start_time": "2024-12-30T01:43:02.062Z"
   },
   {
    "duration": 16,
    "start_time": "2024-12-30T01:43:02.671Z"
   },
   {
    "duration": 2465,
    "start_time": "2024-12-30T01:43:02.689Z"
   },
   {
    "duration": 24,
    "start_time": "2024-12-30T01:43:05.155Z"
   },
   {
    "duration": 9,
    "start_time": "2024-12-30T01:43:05.181Z"
   },
   {
    "duration": 93,
    "start_time": "2024-12-30T01:43:05.191Z"
   },
   {
    "duration": 0,
    "start_time": "2024-12-30T01:43:05.286Z"
   },
   {
    "duration": 37,
    "start_time": "2024-12-30T01:43:21.245Z"
   },
   {
    "duration": 8,
    "start_time": "2024-12-30T01:43:29.158Z"
   },
   {
    "duration": 8,
    "start_time": "2024-12-30T01:45:15.238Z"
   },
   {
    "duration": 47,
    "start_time": "2024-12-30T01:46:23.588Z"
   },
   {
    "duration": 6,
    "start_time": "2024-12-30T02:13:25.506Z"
   },
   {
    "duration": 58,
    "start_time": "2024-12-30T02:13:30.997Z"
   },
   {
    "duration": 23,
    "start_time": "2024-12-30T07:50:05.018Z"
   },
   {
    "duration": 13,
    "start_time": "2024-12-30T07:50:24.464Z"
   },
   {
    "duration": 9,
    "start_time": "2024-12-30T07:50:52.885Z"
   },
   {
    "duration": 11,
    "start_time": "2024-12-30T07:51:00.544Z"
   },
   {
    "duration": 4,
    "start_time": "2024-12-30T07:51:08.924Z"
   },
   {
    "duration": 9,
    "start_time": "2024-12-30T08:03:48.220Z"
   },
   {
    "duration": 4,
    "start_time": "2024-12-30T08:04:26.916Z"
   },
   {
    "duration": 71,
    "start_time": "2024-12-30T08:04:28.501Z"
   },
   {
    "duration": 25,
    "start_time": "2024-12-30T08:04:52.469Z"
   },
   {
    "duration": 215,
    "start_time": "2024-12-30T08:09:23.198Z"
   },
   {
    "duration": 43,
    "start_time": "2024-12-30T08:09:27.758Z"
   },
   {
    "duration": 24,
    "start_time": "2024-12-30T08:11:37.677Z"
   },
   {
    "duration": 17,
    "start_time": "2024-12-30T08:13:23.900Z"
   },
   {
    "duration": 39,
    "start_time": "2024-12-30T08:16:46.027Z"
   },
   {
    "duration": 34,
    "start_time": "2024-12-30T08:17:03.059Z"
   },
   {
    "duration": 26,
    "start_time": "2024-12-30T08:17:24.931Z"
   },
   {
    "duration": 1800,
    "start_time": "2024-12-30T08:18:29.846Z"
   },
   {
    "duration": 16,
    "start_time": "2024-12-30T08:19:02.899Z"
   },
   {
    "duration": 7,
    "start_time": "2024-12-30T08:19:22.675Z"
   },
   {
    "duration": 1335,
    "start_time": "2024-12-30T08:19:35.131Z"
   },
   {
    "duration": 15,
    "start_time": "2024-12-30T08:20:31.809Z"
   },
   {
    "duration": 9,
    "start_time": "2024-12-30T08:21:34.927Z"
   },
   {
    "duration": 9,
    "start_time": "2024-12-30T08:21:42.547Z"
   },
   {
    "duration": 88,
    "start_time": "2024-12-30T08:21:49.626Z"
   },
   {
    "duration": 8,
    "start_time": "2024-12-30T08:21:55.912Z"
   },
   {
    "duration": 9,
    "start_time": "2024-12-30T08:22:04.570Z"
   },
   {
    "duration": 9,
    "start_time": "2024-12-30T08:22:22.377Z"
   },
   {
    "duration": 9,
    "start_time": "2024-12-30T08:22:29.324Z"
   },
   {
    "duration": 10,
    "start_time": "2024-12-30T08:22:55.023Z"
   },
   {
    "duration": 41,
    "start_time": "2024-12-30T08:24:55.246Z"
   },
   {
    "duration": 12,
    "start_time": "2024-12-30T08:25:30.571Z"
   },
   {
    "duration": 12,
    "start_time": "2024-12-30T08:25:47.583Z"
   },
   {
    "duration": 12,
    "start_time": "2024-12-30T08:26:08.361Z"
   },
   {
    "duration": 12,
    "start_time": "2024-12-30T08:26:29.467Z"
   },
   {
    "duration": 27,
    "start_time": "2024-12-30T08:27:17.378Z"
   },
   {
    "duration": 19,
    "start_time": "2024-12-30T08:27:39.314Z"
   },
   {
    "duration": 27,
    "start_time": "2024-12-30T08:28:24.456Z"
   },
   {
    "duration": 12,
    "start_time": "2024-12-30T08:28:27.323Z"
   },
   {
    "duration": 27,
    "start_time": "2024-12-30T08:28:42.387Z"
   },
   {
    "duration": 13,
    "start_time": "2024-12-30T08:28:47.779Z"
   },
   {
    "duration": 1525,
    "start_time": "2024-12-30T08:30:04.650Z"
   },
   {
    "duration": 8,
    "start_time": "2024-12-30T08:30:23.440Z"
   },
   {
    "duration": 78,
    "start_time": "2024-12-30T08:30:37.427Z"
   },
   {
    "duration": 9,
    "start_time": "2024-12-30T08:30:40.462Z"
   },
   {
    "duration": 57,
    "start_time": "2024-12-30T08:30:46.476Z"
   },
   {
    "duration": 5,
    "start_time": "2024-12-30T08:32:02.907Z"
   },
   {
    "duration": 8,
    "start_time": "2024-12-30T08:34:34.880Z"
   },
   {
    "duration": 20,
    "start_time": "2024-12-30T08:34:54.919Z"
   },
   {
    "duration": 7,
    "start_time": "2024-12-30T08:35:26.432Z"
   },
   {
    "duration": 16,
    "start_time": "2024-12-30T08:35:32.079Z"
   },
   {
    "duration": 4,
    "start_time": "2024-12-30T08:36:12.158Z"
   },
   {
    "duration": 20,
    "start_time": "2024-12-30T08:36:19.086Z"
   },
   {
    "duration": 53,
    "start_time": "2024-12-30T15:31:45.336Z"
   },
   {
    "duration": 532,
    "start_time": "2024-12-30T15:31:52.045Z"
   },
   {
    "duration": 15,
    "start_time": "2024-12-30T15:31:52.579Z"
   },
   {
    "duration": 2214,
    "start_time": "2024-12-30T15:31:52.595Z"
   },
   {
    "duration": 16,
    "start_time": "2024-12-30T15:31:54.810Z"
   },
   {
    "duration": 47,
    "start_time": "2024-12-30T15:31:54.828Z"
   },
   {
    "duration": 9,
    "start_time": "2024-12-30T15:31:54.877Z"
   },
   {
    "duration": 36,
    "start_time": "2024-12-30T15:31:54.887Z"
   },
   {
    "duration": 10,
    "start_time": "2024-12-30T15:31:54.925Z"
   },
   {
    "duration": 3,
    "start_time": "2024-12-30T15:31:54.937Z"
   },
   {
    "duration": 10,
    "start_time": "2024-12-30T15:31:54.942Z"
   },
   {
    "duration": 18,
    "start_time": "2024-12-30T15:31:54.954Z"
   },
   {
    "duration": 74,
    "start_time": "2024-12-30T15:31:54.974Z"
   },
   {
    "duration": 34,
    "start_time": "2024-12-30T15:31:55.049Z"
   },
   {
    "duration": 48,
    "start_time": "2024-12-30T15:31:55.086Z"
   },
   {
    "duration": 10,
    "start_time": "2024-12-30T15:31:55.135Z"
   },
   {
    "duration": 38,
    "start_time": "2024-12-30T15:31:55.146Z"
   },
   {
    "duration": 48,
    "start_time": "2024-12-30T15:31:55.186Z"
   },
   {
    "duration": 21,
    "start_time": "2024-12-30T15:31:55.236Z"
   },
   {
    "duration": 15,
    "start_time": "2024-12-30T15:31:55.258Z"
   },
   {
    "duration": 17,
    "start_time": "2024-12-30T15:31:55.275Z"
   },
   {
    "duration": 4,
    "start_time": "2024-12-30T15:31:55.294Z"
   },
   {
    "duration": 11,
    "start_time": "2024-12-30T15:35:13.840Z"
   },
   {
    "duration": 98,
    "start_time": "2024-12-30T15:38:00.258Z"
   },
   {
    "duration": 12,
    "start_time": "2024-12-30T15:38:10.137Z"
   },
   {
    "duration": 15,
    "start_time": "2024-12-30T15:38:27.073Z"
   },
   {
    "duration": 15,
    "start_time": "2024-12-30T15:38:41.546Z"
   },
   {
    "duration": 17,
    "start_time": "2024-12-30T15:40:10.823Z"
   },
   {
    "duration": 4,
    "start_time": "2024-12-30T15:41:33.254Z"
   },
   {
    "duration": 20,
    "start_time": "2024-12-30T15:41:40.249Z"
   },
   {
    "duration": 15,
    "start_time": "2024-12-30T15:42:08.212Z"
   },
   {
    "duration": 48,
    "start_time": "2024-12-30T15:43:10.163Z"
   },
   {
    "duration": 79,
    "start_time": "2024-12-30T15:43:37.399Z"
   },
   {
    "duration": 4,
    "start_time": "2024-12-30T15:43:41.047Z"
   },
   {
    "duration": 38,
    "start_time": "2024-12-30T15:43:44.570Z"
   },
   {
    "duration": 16,
    "start_time": "2024-12-30T15:44:05.181Z"
   },
   {
    "duration": 17,
    "start_time": "2024-12-30T15:44:23.470Z"
   },
   {
    "duration": 4,
    "start_time": "2024-12-30T15:45:02.574Z"
   },
   {
    "duration": 5,
    "start_time": "2024-12-30T15:47:54.969Z"
   },
   {
    "duration": 5,
    "start_time": "2024-12-30T15:47:56.392Z"
   },
   {
    "duration": 42,
    "start_time": "2024-12-30T15:48:02.423Z"
   },
   {
    "duration": 51,
    "start_time": "2024-12-30T15:48:09.803Z"
   },
   {
    "duration": 19,
    "start_time": "2024-12-30T15:49:10.731Z"
   },
   {
    "duration": 16,
    "start_time": "2024-12-30T15:49:18.732Z"
   },
   {
    "duration": 8,
    "start_time": "2024-12-30T15:50:08.711Z"
   },
   {
    "duration": 4,
    "start_time": "2024-12-30T15:50:22.140Z"
   },
   {
    "duration": 29,
    "start_time": "2024-12-30T15:50:27.261Z"
   },
   {
    "duration": 50,
    "start_time": "2024-12-30T15:51:00.341Z"
   },
   {
    "duration": 16,
    "start_time": "2024-12-30T15:59:47.304Z"
   },
   {
    "duration": 10,
    "start_time": "2024-12-30T16:00:26.588Z"
   },
   {
    "duration": 13,
    "start_time": "2024-12-30T16:00:39.702Z"
   },
   {
    "duration": 3,
    "start_time": "2024-12-30T16:02:35.087Z"
   },
   {
    "duration": 17,
    "start_time": "2024-12-30T16:02:38.385Z"
   },
   {
    "duration": 2382,
    "start_time": "2024-12-30T16:02:46.856Z"
   },
   {
    "duration": 2498,
    "start_time": "2024-12-30T16:03:08.823Z"
   },
   {
    "duration": 67,
    "start_time": "2024-12-30T16:04:08.204Z"
   },
   {
    "duration": 18,
    "start_time": "2024-12-30T16:04:13.571Z"
   },
   {
    "duration": 7,
    "start_time": "2024-12-30T16:05:50.327Z"
   },
   {
    "duration": 6,
    "start_time": "2024-12-30T16:07:52.101Z"
   },
   {
    "duration": 21,
    "start_time": "2024-12-30T16:08:03.062Z"
   },
   {
    "duration": 22,
    "start_time": "2024-12-30T16:08:46.277Z"
   },
   {
    "duration": 21,
    "start_time": "2024-12-30T16:09:27.847Z"
   },
   {
    "duration": 9,
    "start_time": "2024-12-30T16:11:20.901Z"
   },
   {
    "duration": 17,
    "start_time": "2024-12-30T16:11:28.707Z"
   },
   {
    "duration": 19,
    "start_time": "2024-12-30T16:12:21.866Z"
   },
   {
    "duration": 37,
    "start_time": "2024-12-30T16:13:03.863Z"
   },
   {
    "duration": 8,
    "start_time": "2024-12-30T16:17:09.687Z"
   },
   {
    "duration": 12,
    "start_time": "2024-12-30T16:17:37.181Z"
   },
   {
    "duration": 18,
    "start_time": "2024-12-30T16:17:44.790Z"
   },
   {
    "duration": 48,
    "start_time": "2024-12-30T16:17:58.151Z"
   },
   {
    "duration": 23,
    "start_time": "2024-12-30T16:18:14.767Z"
   },
   {
    "duration": 24,
    "start_time": "2024-12-30T16:19:39.437Z"
   },
   {
    "duration": 27,
    "start_time": "2024-12-30T16:22:20.410Z"
   },
   {
    "duration": 6,
    "start_time": "2024-12-30T16:22:47.024Z"
   },
   {
    "duration": 22,
    "start_time": "2024-12-30T16:22:58.750Z"
   },
   {
    "duration": 23,
    "start_time": "2024-12-30T16:23:11.339Z"
   },
   {
    "duration": 583,
    "start_time": "2024-12-30T16:23:25.344Z"
   },
   {
    "duration": 14,
    "start_time": "2024-12-30T16:23:25.929Z"
   },
   {
    "duration": 2455,
    "start_time": "2024-12-30T16:23:25.944Z"
   },
   {
    "duration": 16,
    "start_time": "2024-12-30T16:23:28.400Z"
   },
   {
    "duration": 26,
    "start_time": "2024-12-30T16:23:28.418Z"
   },
   {
    "duration": 29,
    "start_time": "2024-12-30T16:23:28.445Z"
   },
   {
    "duration": 11,
    "start_time": "2024-12-30T16:23:28.476Z"
   },
   {
    "duration": 25,
    "start_time": "2024-12-30T16:23:28.489Z"
   },
   {
    "duration": 8,
    "start_time": "2024-12-30T16:23:28.515Z"
   },
   {
    "duration": 19,
    "start_time": "2024-12-30T16:23:28.524Z"
   },
   {
    "duration": 38,
    "start_time": "2024-12-30T16:23:28.545Z"
   },
   {
    "duration": 4,
    "start_time": "2024-12-30T16:23:28.585Z"
   },
   {
    "duration": 81,
    "start_time": "2024-12-30T16:23:28.590Z"
   },
   {
    "duration": 26,
    "start_time": "2024-12-30T16:23:28.674Z"
   },
   {
    "duration": 58,
    "start_time": "2024-12-30T16:23:28.702Z"
   },
   {
    "duration": 9,
    "start_time": "2024-12-30T16:23:28.771Z"
   },
   {
    "duration": 19,
    "start_time": "2024-12-30T16:23:28.782Z"
   },
   {
    "duration": 4,
    "start_time": "2024-12-30T16:23:28.803Z"
   },
   {
    "duration": 16,
    "start_time": "2024-12-30T16:23:28.809Z"
   },
   {
    "duration": 3,
    "start_time": "2024-12-30T16:23:28.827Z"
   },
   {
    "duration": 7,
    "start_time": "2024-12-30T16:23:28.832Z"
   },
   {
    "duration": 62,
    "start_time": "2024-12-30T16:23:28.840Z"
   },
   {
    "duration": 49,
    "start_time": "2024-12-30T16:23:28.904Z"
   },
   {
    "duration": 19,
    "start_time": "2024-12-30T16:23:28.955Z"
   },
   {
    "duration": 8,
    "start_time": "2024-12-30T16:23:28.975Z"
   },
   {
    "duration": 15,
    "start_time": "2024-12-30T16:23:28.984Z"
   },
   {
    "duration": 50,
    "start_time": "2024-12-30T16:23:29.000Z"
   },
   {
    "duration": 25,
    "start_time": "2024-12-30T16:23:29.052Z"
   },
   {
    "duration": 37,
    "start_time": "2024-12-30T16:23:29.079Z"
   },
   {
    "duration": 12,
    "start_time": "2024-12-30T16:23:29.117Z"
   },
   {
    "duration": 102,
    "start_time": "2024-12-30T16:23:29.130Z"
   },
   {
    "duration": 4,
    "start_time": "2024-12-30T16:23:29.234Z"
   },
   {
    "duration": 4,
    "start_time": "2024-12-30T16:33:28.859Z"
   },
   {
    "duration": 15,
    "start_time": "2024-12-30T16:33:31.888Z"
   },
   {
    "duration": 3,
    "start_time": "2024-12-30T16:33:44.684Z"
   },
   {
    "duration": 495,
    "start_time": "2024-12-30T16:33:50.025Z"
   },
   {
    "duration": 15,
    "start_time": "2024-12-30T16:33:50.522Z"
   },
   {
    "duration": 2372,
    "start_time": "2024-12-30T16:33:50.538Z"
   },
   {
    "duration": 16,
    "start_time": "2024-12-30T16:33:52.911Z"
   },
   {
    "duration": 55,
    "start_time": "2024-12-30T16:33:52.929Z"
   },
   {
    "duration": 9,
    "start_time": "2024-12-30T16:33:52.985Z"
   },
   {
    "duration": 16,
    "start_time": "2024-12-30T16:33:52.996Z"
   },
   {
    "duration": 11,
    "start_time": "2024-12-30T16:33:53.014Z"
   },
   {
    "duration": 9,
    "start_time": "2024-12-30T16:33:53.027Z"
   },
   {
    "duration": 9,
    "start_time": "2024-12-30T16:33:53.038Z"
   },
   {
    "duration": 25,
    "start_time": "2024-12-30T16:33:53.049Z"
   },
   {
    "duration": 3,
    "start_time": "2024-12-30T16:33:53.076Z"
   },
   {
    "duration": 90,
    "start_time": "2024-12-30T16:33:53.081Z"
   },
   {
    "duration": 28,
    "start_time": "2024-12-30T16:33:53.175Z"
   },
   {
    "duration": 75,
    "start_time": "2024-12-30T16:33:53.205Z"
   },
   {
    "duration": 12,
    "start_time": "2024-12-30T16:33:53.282Z"
   },
   {
    "duration": 23,
    "start_time": "2024-12-30T16:33:53.295Z"
   },
   {
    "duration": 5,
    "start_time": "2024-12-30T16:33:53.320Z"
   },
   {
    "duration": 19,
    "start_time": "2024-12-30T16:33:53.326Z"
   },
   {
    "duration": 16,
    "start_time": "2024-12-30T16:33:53.346Z"
   },
   {
    "duration": 11,
    "start_time": "2024-12-30T16:33:53.363Z"
   },
   {
    "duration": 40,
    "start_time": "2024-12-30T16:33:53.376Z"
   },
   {
    "duration": 72,
    "start_time": "2024-12-30T16:33:53.418Z"
   },
   {
    "duration": 16,
    "start_time": "2024-12-30T16:33:53.492Z"
   },
   {
    "duration": 20,
    "start_time": "2024-12-30T16:33:53.510Z"
   },
   {
    "duration": 37,
    "start_time": "2024-12-30T16:33:53.532Z"
   },
   {
    "duration": 46,
    "start_time": "2024-12-30T16:33:53.571Z"
   },
   {
    "duration": 10,
    "start_time": "2024-12-30T16:33:53.619Z"
   },
   {
    "duration": 60,
    "start_time": "2024-12-30T16:33:53.631Z"
   },
   {
    "duration": 18,
    "start_time": "2024-12-30T16:33:53.694Z"
   },
   {
    "duration": 26,
    "start_time": "2024-12-30T16:33:53.714Z"
   },
   {
    "duration": 10,
    "start_time": "2024-12-30T16:33:53.741Z"
   },
   {
    "duration": 19,
    "start_time": "2024-12-30T16:33:53.752Z"
   },
   {
    "duration": 2612,
    "start_time": "2024-12-30T16:35:03.844Z"
   },
   {
    "duration": 28,
    "start_time": "2024-12-30T16:35:32.001Z"
   },
   {
    "duration": 67,
    "start_time": "2024-12-30T16:35:47.142Z"
   },
   {
    "duration": 31,
    "start_time": "2024-12-30T16:36:46.358Z"
   },
   {
    "duration": 17,
    "start_time": "2024-12-30T16:40:42.897Z"
   },
   {
    "duration": 4,
    "start_time": "2024-12-30T16:42:06.473Z"
   },
   {
    "duration": 17,
    "start_time": "2024-12-30T16:42:32.606Z"
   },
   {
    "duration": 7,
    "start_time": "2024-12-30T16:44:13.908Z"
   },
   {
    "duration": 19,
    "start_time": "2024-12-30T16:44:18.084Z"
   },
   {
    "duration": 8,
    "start_time": "2024-12-30T16:44:56.956Z"
   },
   {
    "duration": 18,
    "start_time": "2024-12-30T16:45:00.263Z"
   },
   {
    "duration": 6,
    "start_time": "2024-12-30T16:45:44.505Z"
   },
   {
    "duration": 37,
    "start_time": "2024-12-30T16:46:05.229Z"
   },
   {
    "duration": 6,
    "start_time": "2024-12-30T16:46:27.222Z"
   },
   {
    "duration": 23,
    "start_time": "2024-12-30T16:46:32.831Z"
   },
   {
    "duration": 8,
    "start_time": "2024-12-30T16:47:30.480Z"
   },
   {
    "duration": 9,
    "start_time": "2024-12-30T16:48:28.479Z"
   },
   {
    "duration": 22,
    "start_time": "2024-12-30T16:52:03.859Z"
   },
   {
    "duration": 4,
    "start_time": "2024-12-30T16:52:22.564Z"
   },
   {
    "duration": 17,
    "start_time": "2024-12-30T17:16:03.426Z"
   },
   {
    "duration": 17,
    "start_time": "2024-12-30T17:19:08.718Z"
   },
   {
    "duration": 32,
    "start_time": "2024-12-30T17:20:13.511Z"
   },
   {
    "duration": 10,
    "start_time": "2024-12-30T17:21:31.523Z"
   },
   {
    "duration": 26,
    "start_time": "2024-12-30T17:21:34.261Z"
   },
   {
    "duration": 575,
    "start_time": "2024-12-30T17:48:17.946Z"
   },
   {
    "duration": 15,
    "start_time": "2024-12-30T17:48:18.524Z"
   },
   {
    "duration": 2440,
    "start_time": "2024-12-30T17:48:18.541Z"
   },
   {
    "duration": 17,
    "start_time": "2024-12-30T17:48:20.983Z"
   },
   {
    "duration": 33,
    "start_time": "2024-12-30T17:48:21.002Z"
   },
   {
    "duration": 27,
    "start_time": "2024-12-30T17:48:21.037Z"
   },
   {
    "duration": 33,
    "start_time": "2024-12-30T17:48:21.070Z"
   },
   {
    "duration": 21,
    "start_time": "2024-12-30T17:48:21.105Z"
   },
   {
    "duration": 34,
    "start_time": "2024-12-30T17:48:21.127Z"
   },
   {
    "duration": 27,
    "start_time": "2024-12-30T17:48:21.163Z"
   },
   {
    "duration": 33,
    "start_time": "2024-12-30T17:48:21.192Z"
   },
   {
    "duration": 22,
    "start_time": "2024-12-30T17:48:21.226Z"
   },
   {
    "duration": 27,
    "start_time": "2024-12-30T17:48:21.250Z"
   },
   {
    "duration": 54,
    "start_time": "2024-12-30T17:48:21.281Z"
   },
   {
    "duration": 153,
    "start_time": "2024-12-30T17:48:21.337Z"
   },
   {
    "duration": 48,
    "start_time": "2024-12-30T17:48:21.493Z"
   },
   {
    "duration": 70,
    "start_time": "2024-12-30T17:48:21.543Z"
   },
   {
    "duration": 11,
    "start_time": "2024-12-30T17:48:21.615Z"
   },
   {
    "duration": 32,
    "start_time": "2024-12-30T17:48:21.628Z"
   },
   {
    "duration": 37,
    "start_time": "2024-12-30T17:48:21.662Z"
   },
   {
    "duration": 17,
    "start_time": "2024-12-30T17:48:21.701Z"
   },
   {
    "duration": 10,
    "start_time": "2024-12-30T17:48:21.720Z"
   },
   {
    "duration": 90,
    "start_time": "2024-12-30T17:48:21.732Z"
   },
   {
    "duration": 63,
    "start_time": "2024-12-30T17:48:21.824Z"
   },
   {
    "duration": 47,
    "start_time": "2024-12-30T17:48:21.889Z"
   },
   {
    "duration": 6,
    "start_time": "2024-12-30T17:48:21.938Z"
   },
   {
    "duration": 24,
    "start_time": "2024-12-30T17:48:21.946Z"
   },
   {
    "duration": 17,
    "start_time": "2024-12-30T17:48:21.972Z"
   },
   {
    "duration": 54,
    "start_time": "2024-12-30T17:48:21.990Z"
   },
   {
    "duration": 29,
    "start_time": "2024-12-30T17:48:22.046Z"
   },
   {
    "duration": 40,
    "start_time": "2024-12-30T17:48:22.077Z"
   },
   {
    "duration": 12,
    "start_time": "2024-12-30T17:48:22.119Z"
   },
   {
    "duration": 49,
    "start_time": "2024-12-30T17:48:22.133Z"
   },
   {
    "duration": 5,
    "start_time": "2024-12-30T17:48:22.183Z"
   },
   {
    "duration": 143,
    "start_time": "2024-12-30T17:48:22.190Z"
   },
   {
    "duration": 7,
    "start_time": "2024-12-30T17:48:22.334Z"
   },
   {
    "duration": 23,
    "start_time": "2024-12-30T17:48:22.343Z"
   },
   {
    "duration": 35,
    "start_time": "2024-12-30T17:48:22.367Z"
   },
   {
    "duration": 5,
    "start_time": "2024-12-30T17:48:22.403Z"
   },
   {
    "duration": 19,
    "start_time": "2024-12-30T17:48:22.409Z"
   },
   {
    "duration": 2566,
    "start_time": "2024-12-30T17:48:22.432Z"
   },
   {
    "duration": 32,
    "start_time": "2024-12-30T17:48:25.000Z"
   },
   {
    "duration": 99,
    "start_time": "2024-12-30T17:48:25.034Z"
   },
   {
    "duration": 0,
    "start_time": "2024-12-30T17:48:25.136Z"
   },
   {
    "duration": 11,
    "start_time": "2024-12-30T17:49:37.070Z"
   },
   {
    "duration": 4,
    "start_time": "2024-12-30T17:49:40.070Z"
   },
   {
    "duration": 11,
    "start_time": "2024-12-30T17:49:42.428Z"
   },
   {
    "duration": 27,
    "start_time": "2024-12-30T17:49:48.264Z"
   },
   {
    "duration": 50,
    "start_time": "2024-12-31T10:02:53.465Z"
   },
   {
    "duration": 658,
    "start_time": "2024-12-31T10:03:00.417Z"
   },
   {
    "duration": 15,
    "start_time": "2024-12-31T10:03:01.077Z"
   },
   {
    "duration": 2729,
    "start_time": "2024-12-31T10:03:01.093Z"
   },
   {
    "duration": 19,
    "start_time": "2024-12-31T10:03:03.823Z"
   },
   {
    "duration": 60,
    "start_time": "2024-12-31T10:03:03.844Z"
   },
   {
    "duration": 8,
    "start_time": "2024-12-31T10:03:03.906Z"
   },
   {
    "duration": 22,
    "start_time": "2024-12-31T10:03:03.915Z"
   },
   {
    "duration": 24,
    "start_time": "2024-12-31T10:03:03.940Z"
   },
   {
    "duration": 22,
    "start_time": "2024-12-31T10:03:03.966Z"
   },
   {
    "duration": 4,
    "start_time": "2024-12-31T10:03:03.990Z"
   },
   {
    "duration": 5,
    "start_time": "2024-12-31T10:03:03.995Z"
   },
   {
    "duration": 32,
    "start_time": "2024-12-31T10:03:04.002Z"
   },
   {
    "duration": 4,
    "start_time": "2024-12-31T10:03:04.035Z"
   },
   {
    "duration": 35,
    "start_time": "2024-12-31T10:03:04.043Z"
   },
   {
    "duration": 88,
    "start_time": "2024-12-31T10:03:04.080Z"
   },
   {
    "duration": 25,
    "start_time": "2024-12-31T10:03:04.169Z"
   },
   {
    "duration": 69,
    "start_time": "2024-12-31T10:03:04.196Z"
   },
   {
    "duration": 9,
    "start_time": "2024-12-31T10:03:04.267Z"
   },
   {
    "duration": 22,
    "start_time": "2024-12-31T10:03:04.278Z"
   },
   {
    "duration": 8,
    "start_time": "2024-12-31T10:03:04.301Z"
   },
   {
    "duration": 13,
    "start_time": "2024-12-31T10:03:04.311Z"
   },
   {
    "duration": 12,
    "start_time": "2024-12-31T10:03:04.326Z"
   },
   {
    "duration": 10,
    "start_time": "2024-12-31T10:03:04.340Z"
   },
   {
    "duration": 71,
    "start_time": "2024-12-31T10:03:04.352Z"
   },
   {
    "duration": 51,
    "start_time": "2024-12-31T10:03:04.425Z"
   },
   {
    "duration": 5,
    "start_time": "2024-12-31T10:03:04.477Z"
   },
   {
    "duration": 7,
    "start_time": "2024-12-31T10:03:04.483Z"
   },
   {
    "duration": 35,
    "start_time": "2024-12-31T10:03:04.491Z"
   },
   {
    "duration": 52,
    "start_time": "2024-12-31T10:03:04.528Z"
   },
   {
    "duration": 10,
    "start_time": "2024-12-31T10:03:04.581Z"
   },
   {
    "duration": 58,
    "start_time": "2024-12-31T10:03:04.593Z"
   },
   {
    "duration": 14,
    "start_time": "2024-12-31T10:03:04.654Z"
   },
   {
    "duration": 49,
    "start_time": "2024-12-31T10:03:04.670Z"
   },
   {
    "duration": 12,
    "start_time": "2024-12-31T10:03:04.720Z"
   },
   {
    "duration": 51,
    "start_time": "2024-12-31T10:03:04.733Z"
   },
   {
    "duration": 18,
    "start_time": "2024-12-31T10:03:04.785Z"
   },
   {
    "duration": 62,
    "start_time": "2024-12-31T10:03:04.805Z"
   },
   {
    "duration": 59,
    "start_time": "2024-12-31T10:03:04.869Z"
   },
   {
    "duration": 59,
    "start_time": "2024-12-31T10:03:04.930Z"
   },
   {
    "duration": 24,
    "start_time": "2024-12-31T10:03:04.990Z"
   },
   {
    "duration": 2667,
    "start_time": "2024-12-31T10:03:05.017Z"
   },
   {
    "duration": 30,
    "start_time": "2024-12-31T10:03:07.686Z"
   },
   {
    "duration": 106,
    "start_time": "2024-12-31T10:03:07.718Z"
   },
   {
    "duration": 0,
    "start_time": "2024-12-31T10:03:07.825Z"
   },
   {
    "duration": 0,
    "start_time": "2024-12-31T10:03:07.827Z"
   },
   {
    "duration": 0,
    "start_time": "2024-12-31T10:03:07.828Z"
   },
   {
    "duration": 4,
    "start_time": "2024-12-31T10:03:13.671Z"
   },
   {
    "duration": 7,
    "start_time": "2024-12-31T10:03:15.031Z"
   },
   {
    "duration": 6,
    "start_time": "2024-12-31T10:03:15.406Z"
   },
   {
    "duration": 11,
    "start_time": "2024-12-31T10:03:18.584Z"
   },
   {
    "duration": 24,
    "start_time": "2024-12-31T10:03:21.511Z"
   },
   {
    "duration": 6,
    "start_time": "2024-12-31T10:03:48.787Z"
   },
   {
    "duration": 9,
    "start_time": "2024-12-31T10:07:35.410Z"
   },
   {
    "duration": 1078,
    "start_time": "2024-12-31T10:08:00.077Z"
   },
   {
    "duration": 24,
    "start_time": "2024-12-31T10:08:04.776Z"
   },
   {
    "duration": 943,
    "start_time": "2024-12-31T10:08:29.468Z"
   },
   {
    "duration": 965,
    "start_time": "2024-12-31T10:09:10.543Z"
   },
   {
    "duration": 373,
    "start_time": "2024-12-31T10:09:24.877Z"
   },
   {
    "duration": 29,
    "start_time": "2024-12-31T10:09:32.717Z"
   },
   {
    "duration": 5,
    "start_time": "2024-12-31T10:10:30.703Z"
   },
   {
    "duration": 7,
    "start_time": "2024-12-31T10:10:57.052Z"
   },
   {
    "duration": 16,
    "start_time": "2024-12-31T10:11:43.656Z"
   },
   {
    "duration": 5,
    "start_time": "2024-12-31T10:11:59.514Z"
   },
   {
    "duration": 6,
    "start_time": "2024-12-31T10:12:10.838Z"
   },
   {
    "duration": 560,
    "start_time": "2024-12-31T10:12:24.355Z"
   },
   {
    "duration": 30,
    "start_time": "2024-12-31T10:12:24.918Z"
   },
   {
    "duration": 2635,
    "start_time": "2024-12-31T10:12:24.951Z"
   },
   {
    "duration": 15,
    "start_time": "2024-12-31T10:12:27.587Z"
   },
   {
    "duration": 29,
    "start_time": "2024-12-31T10:12:27.605Z"
   },
   {
    "duration": 9,
    "start_time": "2024-12-31T10:12:27.636Z"
   },
   {
    "duration": 12,
    "start_time": "2024-12-31T10:12:27.647Z"
   },
   {
    "duration": 11,
    "start_time": "2024-12-31T10:12:27.661Z"
   },
   {
    "duration": 10,
    "start_time": "2024-12-31T10:12:27.674Z"
   },
   {
    "duration": 7,
    "start_time": "2024-12-31T10:12:27.686Z"
   },
   {
    "duration": 4,
    "start_time": "2024-12-31T10:12:27.695Z"
   },
   {
    "duration": 49,
    "start_time": "2024-12-31T10:12:27.700Z"
   },
   {
    "duration": 5,
    "start_time": "2024-12-31T10:12:27.751Z"
   },
   {
    "duration": 7,
    "start_time": "2024-12-31T10:12:27.759Z"
   },
   {
    "duration": 92,
    "start_time": "2024-12-31T10:12:27.767Z"
   },
   {
    "duration": 26,
    "start_time": "2024-12-31T10:12:27.861Z"
   },
   {
    "duration": 79,
    "start_time": "2024-12-31T10:12:27.889Z"
   },
   {
    "duration": 9,
    "start_time": "2024-12-31T10:12:27.970Z"
   },
   {
    "duration": 17,
    "start_time": "2024-12-31T10:12:27.980Z"
   },
   {
    "duration": 4,
    "start_time": "2024-12-31T10:12:27.998Z"
   },
   {
    "duration": 8,
    "start_time": "2024-12-31T10:12:28.003Z"
   },
   {
    "duration": 26,
    "start_time": "2024-12-31T10:12:28.012Z"
   },
   {
    "duration": 6,
    "start_time": "2024-12-31T10:12:28.041Z"
   },
   {
    "duration": 44,
    "start_time": "2024-12-31T10:12:28.050Z"
   },
   {
    "duration": 84,
    "start_time": "2024-12-31T10:12:28.095Z"
   },
   {
    "duration": 5,
    "start_time": "2024-12-31T10:12:28.180Z"
   },
   {
    "duration": 8,
    "start_time": "2024-12-31T10:12:28.186Z"
   },
   {
    "duration": 41,
    "start_time": "2024-12-31T10:12:28.195Z"
   },
   {
    "duration": 73,
    "start_time": "2024-12-31T10:12:28.241Z"
   },
   {
    "duration": 28,
    "start_time": "2024-12-31T10:12:28.316Z"
   },
   {
    "duration": 42,
    "start_time": "2024-12-31T10:12:28.347Z"
   },
   {
    "duration": 13,
    "start_time": "2024-12-31T10:12:28.391Z"
   },
   {
    "duration": 48,
    "start_time": "2024-12-31T10:12:28.406Z"
   },
   {
    "duration": 5,
    "start_time": "2024-12-31T10:12:28.456Z"
   },
   {
    "duration": 8,
    "start_time": "2024-12-31T10:12:28.462Z"
   },
   {
    "duration": 8,
    "start_time": "2024-12-31T10:12:28.471Z"
   },
   {
    "duration": 28,
    "start_time": "2024-12-31T10:12:28.481Z"
   },
   {
    "duration": 48,
    "start_time": "2024-12-31T10:12:28.511Z"
   },
   {
    "duration": 5,
    "start_time": "2024-12-31T10:12:28.561Z"
   },
   {
    "duration": 17,
    "start_time": "2024-12-31T10:12:28.567Z"
   },
   {
    "duration": 2507,
    "start_time": "2024-12-31T10:12:28.589Z"
   },
   {
    "duration": 46,
    "start_time": "2024-12-31T10:12:31.098Z"
   },
   {
    "duration": 114,
    "start_time": "2024-12-31T10:12:31.146Z"
   },
   {
    "duration": 0,
    "start_time": "2024-12-31T10:12:31.262Z"
   },
   {
    "duration": 0,
    "start_time": "2024-12-31T10:12:31.263Z"
   },
   {
    "duration": 0,
    "start_time": "2024-12-31T10:12:31.265Z"
   },
   {
    "duration": 0,
    "start_time": "2024-12-31T10:12:31.266Z"
   },
   {
    "duration": 0,
    "start_time": "2024-12-31T10:12:31.267Z"
   },
   {
    "duration": 0,
    "start_time": "2024-12-31T10:12:31.268Z"
   },
   {
    "duration": 4,
    "start_time": "2024-12-31T10:12:37.453Z"
   },
   {
    "duration": 12,
    "start_time": "2024-12-31T10:12:39.429Z"
   },
   {
    "duration": 8,
    "start_time": "2024-12-31T10:12:45.564Z"
   },
   {
    "duration": 4,
    "start_time": "2024-12-31T10:12:50.994Z"
   },
   {
    "duration": 6,
    "start_time": "2024-12-31T10:12:59.106Z"
   },
   {
    "duration": 17,
    "start_time": "2024-12-31T10:12:59.114Z"
   },
   {
    "duration": 7,
    "start_time": "2024-12-31T10:12:59.133Z"
   },
   {
    "duration": 396,
    "start_time": "2024-12-31T10:12:59.143Z"
   },
   {
    "duration": 0,
    "start_time": "2024-12-31T10:12:59.542Z"
   },
   {
    "duration": 5,
    "start_time": "2024-12-31T10:13:23.912Z"
   },
   {
    "duration": 6,
    "start_time": "2024-12-31T10:13:26.973Z"
   },
   {
    "duration": 7,
    "start_time": "2024-12-31T10:13:28.153Z"
   },
   {
    "duration": 6,
    "start_time": "2024-12-31T10:13:29.596Z"
   },
   {
    "duration": 523,
    "start_time": "2024-12-31T10:14:04.662Z"
   },
   {
    "duration": 16,
    "start_time": "2024-12-31T10:14:05.187Z"
   },
   {
    "duration": 2761,
    "start_time": "2024-12-31T10:14:05.205Z"
   },
   {
    "duration": 15,
    "start_time": "2024-12-31T10:14:07.968Z"
   },
   {
    "duration": 35,
    "start_time": "2024-12-31T10:14:07.985Z"
   },
   {
    "duration": 8,
    "start_time": "2024-12-31T10:14:08.022Z"
   },
   {
    "duration": 24,
    "start_time": "2024-12-31T10:14:08.032Z"
   },
   {
    "duration": 12,
    "start_time": "2024-12-31T10:14:08.058Z"
   },
   {
    "duration": 8,
    "start_time": "2024-12-31T10:14:08.072Z"
   },
   {
    "duration": 4,
    "start_time": "2024-12-31T10:14:08.082Z"
   },
   {
    "duration": 40,
    "start_time": "2024-12-31T10:14:08.088Z"
   },
   {
    "duration": 13,
    "start_time": "2024-12-31T10:14:08.130Z"
   },
   {
    "duration": 10,
    "start_time": "2024-12-31T10:14:08.145Z"
   },
   {
    "duration": 12,
    "start_time": "2024-12-31T10:14:08.159Z"
   },
   {
    "duration": 138,
    "start_time": "2024-12-31T10:14:08.172Z"
   },
   {
    "duration": 32,
    "start_time": "2024-12-31T10:14:08.311Z"
   },
   {
    "duration": 59,
    "start_time": "2024-12-31T10:14:08.346Z"
   },
   {
    "duration": 31,
    "start_time": "2024-12-31T10:14:08.406Z"
   },
   {
    "duration": 32,
    "start_time": "2024-12-31T10:14:08.439Z"
   },
   {
    "duration": 5,
    "start_time": "2024-12-31T10:14:08.473Z"
   },
   {
    "duration": 10,
    "start_time": "2024-12-31T10:14:08.479Z"
   },
   {
    "duration": 8,
    "start_time": "2024-12-31T10:14:08.490Z"
   },
   {
    "duration": 8,
    "start_time": "2024-12-31T10:14:08.499Z"
   },
   {
    "duration": 63,
    "start_time": "2024-12-31T10:14:08.509Z"
   },
   {
    "duration": 47,
    "start_time": "2024-12-31T10:14:08.573Z"
   },
   {
    "duration": 18,
    "start_time": "2024-12-31T10:14:08.621Z"
   },
   {
    "duration": 14,
    "start_time": "2024-12-31T10:14:08.641Z"
   },
   {
    "duration": 21,
    "start_time": "2024-12-31T10:14:08.657Z"
   },
   {
    "duration": 68,
    "start_time": "2024-12-31T10:14:08.679Z"
   },
   {
    "duration": 13,
    "start_time": "2024-12-31T10:14:08.750Z"
   },
   {
    "duration": 36,
    "start_time": "2024-12-31T10:14:08.765Z"
   },
   {
    "duration": 37,
    "start_time": "2024-12-31T10:14:08.803Z"
   },
   {
    "duration": 26,
    "start_time": "2024-12-31T10:14:08.843Z"
   },
   {
    "duration": 5,
    "start_time": "2024-12-31T10:14:08.871Z"
   },
   {
    "duration": 25,
    "start_time": "2024-12-31T10:14:08.878Z"
   },
   {
    "duration": 27,
    "start_time": "2024-12-31T10:14:08.905Z"
   },
   {
    "duration": 28,
    "start_time": "2024-12-31T10:14:08.933Z"
   },
   {
    "duration": 114,
    "start_time": "2024-12-31T10:14:08.963Z"
   },
   {
    "duration": 3,
    "start_time": "2024-12-31T10:14:09.079Z"
   },
   {
    "duration": 18,
    "start_time": "2024-12-31T10:14:09.084Z"
   },
   {
    "duration": 2470,
    "start_time": "2024-12-31T10:14:09.106Z"
   },
   {
    "duration": 31,
    "start_time": "2024-12-31T10:14:11.578Z"
   },
   {
    "duration": 5,
    "start_time": "2024-12-31T10:14:11.610Z"
   },
   {
    "duration": 14,
    "start_time": "2024-12-31T10:14:11.636Z"
   },
   {
    "duration": 7,
    "start_time": "2024-12-31T10:14:11.651Z"
   },
   {
    "duration": 6,
    "start_time": "2024-12-31T10:14:11.660Z"
   },
   {
    "duration": 7,
    "start_time": "2024-12-31T10:14:11.667Z"
   },
   {
    "duration": 369,
    "start_time": "2024-12-31T10:14:11.675Z"
   },
   {
    "duration": 8,
    "start_time": "2024-12-31T10:14:12.046Z"
   },
   {
    "duration": 587,
    "start_time": "2024-12-31T10:15:53.320Z"
   },
   {
    "duration": 15,
    "start_time": "2024-12-31T10:15:53.909Z"
   },
   {
    "duration": 2468,
    "start_time": "2024-12-31T10:15:53.926Z"
   },
   {
    "duration": 16,
    "start_time": "2024-12-31T10:15:56.396Z"
   },
   {
    "duration": 39,
    "start_time": "2024-12-31T10:15:56.414Z"
   },
   {
    "duration": 10,
    "start_time": "2024-12-31T10:15:56.456Z"
   },
   {
    "duration": 23,
    "start_time": "2024-12-31T10:15:56.468Z"
   },
   {
    "duration": 15,
    "start_time": "2024-12-31T10:15:56.493Z"
   },
   {
    "duration": 26,
    "start_time": "2024-12-31T10:15:56.509Z"
   },
   {
    "duration": 6,
    "start_time": "2024-12-31T10:15:56.539Z"
   },
   {
    "duration": 8,
    "start_time": "2024-12-31T10:15:56.547Z"
   },
   {
    "duration": 10,
    "start_time": "2024-12-31T10:15:56.557Z"
   },
   {
    "duration": 4,
    "start_time": "2024-12-31T10:15:56.568Z"
   },
   {
    "duration": 18,
    "start_time": "2024-12-31T10:15:56.574Z"
   },
   {
    "duration": 102,
    "start_time": "2024-12-31T10:15:56.593Z"
   },
   {
    "duration": 26,
    "start_time": "2024-12-31T10:15:56.697Z"
   },
   {
    "duration": 56,
    "start_time": "2024-12-31T10:15:56.741Z"
   },
   {
    "duration": 10,
    "start_time": "2024-12-31T10:15:56.798Z"
   },
   {
    "duration": 47,
    "start_time": "2024-12-31T10:15:56.810Z"
   },
   {
    "duration": 6,
    "start_time": "2024-12-31T10:15:56.860Z"
   },
   {
    "duration": 10,
    "start_time": "2024-12-31T10:15:56.867Z"
   },
   {
    "duration": 10,
    "start_time": "2024-12-31T10:15:56.879Z"
   },
   {
    "duration": 10,
    "start_time": "2024-12-31T10:15:56.890Z"
   },
   {
    "duration": 74,
    "start_time": "2024-12-31T10:15:56.902Z"
   },
   {
    "duration": 47,
    "start_time": "2024-12-31T10:15:56.978Z"
   },
   {
    "duration": 17,
    "start_time": "2024-12-31T10:15:57.027Z"
   },
   {
    "duration": 21,
    "start_time": "2024-12-31T10:15:57.046Z"
   },
   {
    "duration": 16,
    "start_time": "2024-12-31T10:15:57.069Z"
   },
   {
    "duration": 70,
    "start_time": "2024-12-31T10:15:57.087Z"
   },
   {
    "duration": 12,
    "start_time": "2024-12-31T10:15:57.159Z"
   },
   {
    "duration": 48,
    "start_time": "2024-12-31T10:15:57.173Z"
   },
   {
    "duration": 24,
    "start_time": "2024-12-31T10:15:57.222Z"
   },
   {
    "duration": 35,
    "start_time": "2024-12-31T10:15:57.248Z"
   },
   {
    "duration": 5,
    "start_time": "2024-12-31T10:15:57.284Z"
   },
   {
    "duration": 13,
    "start_time": "2024-12-31T10:15:57.290Z"
   },
   {
    "duration": 32,
    "start_time": "2024-12-31T10:15:57.305Z"
   },
   {
    "duration": 26,
    "start_time": "2024-12-31T10:15:57.339Z"
   },
   {
    "duration": 24,
    "start_time": "2024-12-31T10:15:57.367Z"
   },
   {
    "duration": 5,
    "start_time": "2024-12-31T10:15:57.393Z"
   },
   {
    "duration": 52,
    "start_time": "2024-12-31T10:15:57.399Z"
   },
   {
    "duration": 2448,
    "start_time": "2024-12-31T10:15:57.455Z"
   },
   {
    "duration": 40,
    "start_time": "2024-12-31T10:15:59.905Z"
   },
   {
    "duration": 6,
    "start_time": "2024-12-31T10:15:59.947Z"
   },
   {
    "duration": 13,
    "start_time": "2024-12-31T10:15:59.954Z"
   },
   {
    "duration": 6,
    "start_time": "2024-12-31T10:15:59.969Z"
   },
   {
    "duration": 5,
    "start_time": "2024-12-31T10:15:59.976Z"
   },
   {
    "duration": 6,
    "start_time": "2024-12-31T10:15:59.983Z"
   },
   {
    "duration": 398,
    "start_time": "2024-12-31T10:15:59.990Z"
   },
   {
    "duration": 87,
    "start_time": "2024-12-31T10:16:00.390Z"
   },
   {
    "duration": 114,
    "start_time": "2024-12-31T10:23:57.700Z"
   },
   {
    "duration": 10,
    "start_time": "2024-12-31T10:24:09.027Z"
   },
   {
    "duration": 11,
    "start_time": "2024-12-31T10:24:12.995Z"
   },
   {
    "duration": 5,
    "start_time": "2024-12-31T10:24:42.581Z"
   },
   {
    "duration": 5,
    "start_time": "2024-12-31T10:26:37.781Z"
   },
   {
    "duration": 4,
    "start_time": "2024-12-31T10:26:43.994Z"
   },
   {
    "duration": 5,
    "start_time": "2024-12-31T10:26:49.092Z"
   },
   {
    "duration": 6,
    "start_time": "2024-12-31T10:26:57.342Z"
   },
   {
    "duration": 5,
    "start_time": "2024-12-31T10:27:00.577Z"
   },
   {
    "duration": 6,
    "start_time": "2024-12-31T10:27:14.572Z"
   },
   {
    "duration": 7,
    "start_time": "2024-12-31T10:27:19.795Z"
   },
   {
    "duration": 5,
    "start_time": "2024-12-31T10:27:24.189Z"
   },
   {
    "duration": 82,
    "start_time": "2024-12-31T10:27:54.799Z"
   },
   {
    "duration": 6,
    "start_time": "2024-12-31T10:27:58.945Z"
   },
   {
    "duration": 567,
    "start_time": "2024-12-31T10:28:18.525Z"
   },
   {
    "duration": 15,
    "start_time": "2024-12-31T10:28:19.094Z"
   },
   {
    "duration": 489,
    "start_time": "2024-12-31T10:31:45.294Z"
   },
   {
    "duration": 15,
    "start_time": "2024-12-31T10:31:45.785Z"
   },
   {
    "duration": 2400,
    "start_time": "2024-12-31T10:31:45.802Z"
   },
   {
    "duration": 26,
    "start_time": "2024-12-31T10:31:48.204Z"
   },
   {
    "duration": 40,
    "start_time": "2024-12-31T10:31:48.234Z"
   },
   {
    "duration": 11,
    "start_time": "2024-12-31T10:31:48.276Z"
   },
   {
    "duration": 12,
    "start_time": "2024-12-31T10:31:48.289Z"
   },
   {
    "duration": 12,
    "start_time": "2024-12-31T10:31:48.303Z"
   },
   {
    "duration": 29,
    "start_time": "2024-12-31T10:31:48.317Z"
   },
   {
    "duration": 19,
    "start_time": "2024-12-31T10:31:48.348Z"
   },
   {
    "duration": 17,
    "start_time": "2024-12-31T10:31:48.369Z"
   },
   {
    "duration": 13,
    "start_time": "2024-12-31T10:31:48.388Z"
   },
   {
    "duration": 4,
    "start_time": "2024-12-31T10:31:48.403Z"
   },
   {
    "duration": 7,
    "start_time": "2024-12-31T10:31:48.410Z"
   },
   {
    "duration": 75,
    "start_time": "2024-12-31T10:31:48.419Z"
   },
   {
    "duration": 41,
    "start_time": "2024-12-31T10:31:48.496Z"
   },
   {
    "duration": 55,
    "start_time": "2024-12-31T10:31:48.540Z"
   },
   {
    "duration": 10,
    "start_time": "2024-12-31T10:31:48.597Z"
   },
   {
    "duration": 49,
    "start_time": "2024-12-31T10:31:48.608Z"
   },
   {
    "duration": 5,
    "start_time": "2024-12-31T10:31:48.658Z"
   },
   {
    "duration": 10,
    "start_time": "2024-12-31T10:31:48.665Z"
   },
   {
    "duration": 8,
    "start_time": "2024-12-31T10:31:48.677Z"
   },
   {
    "duration": 19,
    "start_time": "2024-12-31T10:31:48.687Z"
   },
   {
    "duration": 47,
    "start_time": "2024-12-31T10:31:48.708Z"
   },
   {
    "duration": 49,
    "start_time": "2024-12-31T10:31:48.757Z"
   },
   {
    "duration": 6,
    "start_time": "2024-12-31T10:31:48.807Z"
   },
   {
    "duration": 44,
    "start_time": "2024-12-31T10:31:48.814Z"
   },
   {
    "duration": 27,
    "start_time": "2024-12-31T10:31:48.859Z"
   },
   {
    "duration": 84,
    "start_time": "2024-12-31T10:31:48.888Z"
   },
   {
    "duration": 9,
    "start_time": "2024-12-31T10:31:48.974Z"
   },
   {
    "duration": 91,
    "start_time": "2024-12-31T10:31:48.985Z"
   },
   {
    "duration": 13,
    "start_time": "2024-12-31T10:31:49.078Z"
   },
   {
    "duration": 108,
    "start_time": "2024-12-31T10:31:49.093Z"
   },
   {
    "duration": 5,
    "start_time": "2024-12-31T10:31:49.203Z"
   },
   {
    "duration": 22,
    "start_time": "2024-12-31T10:31:49.210Z"
   },
   {
    "duration": 9,
    "start_time": "2024-12-31T10:31:49.234Z"
   },
   {
    "duration": 21,
    "start_time": "2024-12-31T10:31:49.245Z"
   },
   {
    "duration": 24,
    "start_time": "2024-12-31T10:31:49.268Z"
   },
   {
    "duration": 4,
    "start_time": "2024-12-31T10:31:49.294Z"
   },
   {
    "duration": 49,
    "start_time": "2024-12-31T10:31:49.300Z"
   },
   {
    "duration": 2418,
    "start_time": "2024-12-31T10:31:49.354Z"
   },
   {
    "duration": 30,
    "start_time": "2024-12-31T10:31:51.774Z"
   },
   {
    "duration": 4,
    "start_time": "2024-12-31T10:31:51.806Z"
   },
   {
    "duration": 33,
    "start_time": "2024-12-31T10:31:51.812Z"
   },
   {
    "duration": 14,
    "start_time": "2024-12-31T10:31:51.847Z"
   },
   {
    "duration": 21,
    "start_time": "2024-12-31T10:31:51.862Z"
   },
   {
    "duration": 28,
    "start_time": "2024-12-31T10:31:51.885Z"
   },
   {
    "duration": 319,
    "start_time": "2024-12-31T10:31:51.914Z"
   },
   {
    "duration": 7,
    "start_time": "2024-12-31T10:31:52.236Z"
   },
   {
    "duration": 4,
    "start_time": "2024-12-31T10:31:52.245Z"
   },
   {
    "duration": 101,
    "start_time": "2024-12-31T11:02:14.308Z"
   },
   {
    "duration": 31,
    "start_time": "2024-12-31T11:02:24.038Z"
   },
   {
    "duration": 5,
    "start_time": "2024-12-31T11:04:04.891Z"
   },
   {
    "duration": 29,
    "start_time": "2024-12-31T11:04:08.686Z"
   },
   {
    "duration": 5,
    "start_time": "2024-12-31T11:04:08.753Z"
   },
   {
    "duration": 6,
    "start_time": "2024-12-31T11:04:33.806Z"
   },
   {
    "duration": 16,
    "start_time": "2024-12-31T11:04:37.598Z"
   },
   {
    "duration": 2687,
    "start_time": "2024-12-31T11:04:44.758Z"
   },
   {
    "duration": 51,
    "start_time": "2025-01-02T07:54:35.082Z"
   },
   {
    "duration": 607,
    "start_time": "2025-01-02T07:54:40.927Z"
   },
   {
    "duration": 14,
    "start_time": "2025-01-02T07:54:41.536Z"
   },
   {
    "duration": 2561,
    "start_time": "2025-01-02T07:54:41.551Z"
   },
   {
    "duration": 25,
    "start_time": "2025-01-02T07:54:44.114Z"
   },
   {
    "duration": 50,
    "start_time": "2025-01-02T07:54:44.141Z"
   },
   {
    "duration": 8,
    "start_time": "2025-01-02T07:54:44.193Z"
   },
   {
    "duration": 14,
    "start_time": "2025-01-02T07:54:44.202Z"
   },
   {
    "duration": 12,
    "start_time": "2025-01-02T07:54:44.218Z"
   },
   {
    "duration": 10,
    "start_time": "2025-01-02T07:54:44.231Z"
   },
   {
    "duration": 8,
    "start_time": "2025-01-02T07:54:44.243Z"
   },
   {
    "duration": 42,
    "start_time": "2025-01-02T07:54:44.253Z"
   },
   {
    "duration": 19,
    "start_time": "2025-01-02T07:54:44.297Z"
   },
   {
    "duration": 4,
    "start_time": "2025-01-02T07:54:44.318Z"
   },
   {
    "duration": 21,
    "start_time": "2025-01-02T07:54:44.327Z"
   },
   {
    "duration": 76,
    "start_time": "2025-01-02T07:54:44.350Z"
   },
   {
    "duration": 28,
    "start_time": "2025-01-02T07:54:44.428Z"
   },
   {
    "duration": 74,
    "start_time": "2025-01-02T07:54:44.457Z"
   },
   {
    "duration": 12,
    "start_time": "2025-01-02T07:54:44.533Z"
   },
   {
    "duration": 19,
    "start_time": "2025-01-02T07:54:44.547Z"
   },
   {
    "duration": 19,
    "start_time": "2025-01-02T07:54:44.568Z"
   },
   {
    "duration": 5,
    "start_time": "2025-01-02T07:54:44.589Z"
   },
   {
    "duration": 4,
    "start_time": "2025-01-02T07:54:44.596Z"
   },
   {
    "duration": 6,
    "start_time": "2025-01-02T07:54:44.630Z"
   },
   {
    "duration": 49,
    "start_time": "2025-01-02T07:54:44.638Z"
   },
   {
    "duration": 71,
    "start_time": "2025-01-02T07:54:44.689Z"
   },
   {
    "duration": 5,
    "start_time": "2025-01-02T07:54:44.762Z"
   },
   {
    "duration": 14,
    "start_time": "2025-01-02T07:54:44.769Z"
   },
   {
    "duration": 17,
    "start_time": "2025-01-02T07:54:44.784Z"
   },
   {
    "duration": 68,
    "start_time": "2025-01-02T07:54:44.803Z"
   },
   {
    "duration": 10,
    "start_time": "2025-01-02T07:54:44.873Z"
   },
   {
    "duration": 131,
    "start_time": "2025-01-02T07:54:44.885Z"
   },
   {
    "duration": 12,
    "start_time": "2025-01-02T07:54:45.018Z"
   },
   {
    "duration": 73,
    "start_time": "2025-01-02T07:54:45.032Z"
   },
   {
    "duration": 20,
    "start_time": "2025-01-02T07:54:45.107Z"
   },
   {
    "duration": 145,
    "start_time": "2025-01-02T07:54:45.129Z"
   },
   {
    "duration": 35,
    "start_time": "2025-01-02T07:54:45.276Z"
   },
   {
    "duration": 52,
    "start_time": "2025-01-02T07:54:45.312Z"
   },
   {
    "duration": 22,
    "start_time": "2025-01-02T07:54:45.366Z"
   },
   {
    "duration": 4,
    "start_time": "2025-01-02T07:54:45.390Z"
   },
   {
    "duration": 45,
    "start_time": "2025-01-02T07:54:45.395Z"
   },
   {
    "duration": 5,
    "start_time": "2025-01-02T07:54:45.444Z"
   },
   {
    "duration": 169,
    "start_time": "2025-01-02T07:54:45.450Z"
   },
   {
    "duration": 2377,
    "start_time": "2025-01-02T07:54:45.620Z"
   },
   {
    "duration": 54,
    "start_time": "2025-01-02T07:54:47.999Z"
   },
   {
    "duration": 5,
    "start_time": "2025-01-02T07:54:48.055Z"
   },
   {
    "duration": 12,
    "start_time": "2025-01-02T07:54:48.062Z"
   },
   {
    "duration": 8,
    "start_time": "2025-01-02T07:54:48.075Z"
   },
   {
    "duration": 47,
    "start_time": "2025-01-02T07:54:48.085Z"
   },
   {
    "duration": 7,
    "start_time": "2025-01-02T07:54:48.134Z"
   },
   {
    "duration": 332,
    "start_time": "2025-01-02T07:54:48.143Z"
   },
   {
    "duration": 6,
    "start_time": "2025-01-02T07:54:48.476Z"
   },
   {
    "duration": 26,
    "start_time": "2025-01-02T07:55:00.069Z"
   },
   {
    "duration": 204,
    "start_time": "2025-01-02T07:57:30.248Z"
   },
   {
    "duration": 8,
    "start_time": "2025-01-02T08:00:20.814Z"
   },
   {
    "duration": 88,
    "start_time": "2025-01-02T08:07:54.247Z"
   },
   {
    "duration": 208,
    "start_time": "2025-01-02T08:10:02.018Z"
   },
   {
    "duration": 275,
    "start_time": "2025-01-02T08:10:22.663Z"
   },
   {
    "duration": 174,
    "start_time": "2025-01-02T08:10:26.370Z"
   },
   {
    "duration": 202,
    "start_time": "2025-01-02T08:10:45.021Z"
   },
   {
    "duration": 184,
    "start_time": "2025-01-02T08:12:38.617Z"
   },
   {
    "duration": 174,
    "start_time": "2025-01-02T08:12:42.156Z"
   },
   {
    "duration": 187,
    "start_time": "2025-01-02T08:12:45.149Z"
   },
   {
    "duration": 184,
    "start_time": "2025-01-02T08:12:55.348Z"
   },
   {
    "duration": 171,
    "start_time": "2025-01-02T08:13:13.868Z"
   },
   {
    "duration": 176,
    "start_time": "2025-01-02T08:13:20.059Z"
   },
   {
    "duration": 181,
    "start_time": "2025-01-02T08:13:39.094Z"
   },
   {
    "duration": 180,
    "start_time": "2025-01-02T08:13:46.773Z"
   },
   {
    "duration": 220,
    "start_time": "2025-01-02T08:15:35.686Z"
   },
   {
    "duration": 9,
    "start_time": "2025-01-02T08:15:46.728Z"
   },
   {
    "duration": 147,
    "start_time": "2025-01-02T08:16:16.985Z"
   },
   {
    "duration": 146,
    "start_time": "2025-01-02T08:17:49.058Z"
   },
   {
    "duration": 746,
    "start_time": "2025-01-02T08:17:59.544Z"
   },
   {
    "duration": 9,
    "start_time": "2025-01-02T08:18:48.051Z"
   },
   {
    "duration": 104,
    "start_time": "2025-01-02T08:19:27.959Z"
   },
   {
    "duration": 810,
    "start_time": "2025-01-02T08:19:34.525Z"
   },
   {
    "duration": 15,
    "start_time": "2025-01-02T08:19:35.337Z"
   },
   {
    "duration": 2113,
    "start_time": "2025-01-02T08:19:35.354Z"
   },
   {
    "duration": 16,
    "start_time": "2025-01-02T08:19:37.468Z"
   },
   {
    "duration": 24,
    "start_time": "2025-01-02T08:19:37.486Z"
   },
   {
    "duration": 8,
    "start_time": "2025-01-02T08:19:37.512Z"
   },
   {
    "duration": 11,
    "start_time": "2025-01-02T08:19:37.530Z"
   },
   {
    "duration": 10,
    "start_time": "2025-01-02T08:19:37.543Z"
   },
   {
    "duration": 12,
    "start_time": "2025-01-02T08:19:37.554Z"
   },
   {
    "duration": 4,
    "start_time": "2025-01-02T08:19:37.567Z"
   },
   {
    "duration": 102,
    "start_time": "2025-01-02T08:19:37.572Z"
   },
   {
    "duration": 18,
    "start_time": "2025-01-02T08:19:37.675Z"
   },
   {
    "duration": 4,
    "start_time": "2025-01-02T08:19:37.695Z"
   },
   {
    "duration": 25,
    "start_time": "2025-01-02T08:19:37.702Z"
   },
   {
    "duration": 93,
    "start_time": "2025-01-02T08:19:37.729Z"
   },
   {
    "duration": 25,
    "start_time": "2025-01-02T08:19:37.823Z"
   },
   {
    "duration": 51,
    "start_time": "2025-01-02T08:19:37.850Z"
   },
   {
    "duration": 30,
    "start_time": "2025-01-02T08:19:37.903Z"
   },
   {
    "duration": 18,
    "start_time": "2025-01-02T08:19:37.934Z"
   },
   {
    "duration": 7,
    "start_time": "2025-01-02T08:19:37.953Z"
   },
   {
    "duration": 5,
    "start_time": "2025-01-02T08:19:37.961Z"
   },
   {
    "duration": 4,
    "start_time": "2025-01-02T08:19:37.968Z"
   },
   {
    "duration": 10,
    "start_time": "2025-01-02T08:19:37.974Z"
   },
   {
    "duration": 67,
    "start_time": "2025-01-02T08:19:37.985Z"
   },
   {
    "duration": 46,
    "start_time": "2025-01-02T08:19:38.054Z"
   },
   {
    "duration": 29,
    "start_time": "2025-01-02T08:19:38.102Z"
   },
   {
    "duration": 5,
    "start_time": "2025-01-02T08:19:38.132Z"
   },
   {
    "duration": 16,
    "start_time": "2025-01-02T08:19:38.138Z"
   },
   {
    "duration": 76,
    "start_time": "2025-01-02T08:19:38.155Z"
   },
   {
    "duration": 9,
    "start_time": "2025-01-02T08:19:38.232Z"
   },
   {
    "duration": 40,
    "start_time": "2025-01-02T08:19:38.243Z"
   },
   {
    "duration": 12,
    "start_time": "2025-01-02T08:19:38.285Z"
   },
   {
    "duration": 47,
    "start_time": "2025-01-02T08:19:38.298Z"
   },
   {
    "duration": 4,
    "start_time": "2025-01-02T08:19:38.347Z"
   },
   {
    "duration": 47,
    "start_time": "2025-01-02T08:19:38.352Z"
   },
   {
    "duration": 6,
    "start_time": "2025-01-02T08:19:38.400Z"
   },
   {
    "duration": 35,
    "start_time": "2025-01-02T08:19:38.408Z"
   },
   {
    "duration": 21,
    "start_time": "2025-01-02T08:19:38.444Z"
   },
   {
    "duration": 3,
    "start_time": "2025-01-02T08:19:38.467Z"
   },
   {
    "duration": 59,
    "start_time": "2025-01-02T08:19:38.472Z"
   },
   {
    "duration": 5,
    "start_time": "2025-01-02T08:19:38.535Z"
   },
   {
    "duration": 23,
    "start_time": "2025-01-02T08:19:38.541Z"
   },
   {
    "duration": 2410,
    "start_time": "2025-01-02T08:19:38.566Z"
   },
   {
    "duration": 33,
    "start_time": "2025-01-02T08:19:40.978Z"
   },
   {
    "duration": 27,
    "start_time": "2025-01-02T08:19:41.034Z"
   },
   {
    "duration": 32,
    "start_time": "2025-01-02T08:19:41.062Z"
   },
   {
    "duration": 7,
    "start_time": "2025-01-02T08:19:41.096Z"
   },
   {
    "duration": 16,
    "start_time": "2025-01-02T08:19:41.105Z"
   },
   {
    "duration": 9,
    "start_time": "2025-01-02T08:19:41.123Z"
   },
   {
    "duration": 348,
    "start_time": "2025-01-02T08:19:41.134Z"
   },
   {
    "duration": 4,
    "start_time": "2025-01-02T08:19:41.484Z"
   },
   {
    "duration": 251,
    "start_time": "2025-01-02T08:19:41.489Z"
   },
   {
    "duration": 10,
    "start_time": "2025-01-02T08:19:41.742Z"
   },
   {
    "duration": 202,
    "start_time": "2025-01-02T08:19:41.753Z"
   },
   {
    "duration": 221,
    "start_time": "2025-01-02T08:19:41.957Z"
   },
   {
    "duration": 304,
    "start_time": "2025-01-02T08:19:42.180Z"
   },
   {
    "duration": 100,
    "start_time": "2025-01-02T08:19:42.487Z"
   },
   {
    "duration": 0,
    "start_time": "2025-01-02T08:19:42.588Z"
   },
   {
    "duration": 0,
    "start_time": "2025-01-02T08:19:42.590Z"
   },
   {
    "duration": 0,
    "start_time": "2025-01-02T08:19:42.592Z"
   },
   {
    "duration": 0,
    "start_time": "2025-01-02T08:19:42.594Z"
   },
   {
    "duration": 150,
    "start_time": "2025-01-02T08:19:57.482Z"
   },
   {
    "duration": 57215,
    "start_time": "2025-01-02T08:20:45.797Z"
   },
   {
    "duration": 375,
    "start_time": "2025-01-02T08:22:53.003Z"
   },
   {
    "duration": 17,
    "start_time": "2025-01-02T08:22:58.961Z"
   },
   {
    "duration": 190,
    "start_time": "2025-01-02T08:23:08.396Z"
   },
   {
    "duration": 164,
    "start_time": "2025-01-02T08:23:25.436Z"
   },
   {
    "duration": 1904,
    "start_time": "2025-01-02T08:23:27.854Z"
   },
   {
    "duration": 771,
    "start_time": "2025-01-02T08:24:07.198Z"
   },
   {
    "duration": 15,
    "start_time": "2025-01-02T08:24:07.971Z"
   },
   {
    "duration": 2055,
    "start_time": "2025-01-02T08:24:07.988Z"
   },
   {
    "duration": 15,
    "start_time": "2025-01-02T08:24:10.045Z"
   },
   {
    "duration": 56,
    "start_time": "2025-01-02T08:24:10.062Z"
   },
   {
    "duration": 37,
    "start_time": "2025-01-02T08:24:10.120Z"
   },
   {
    "duration": 20,
    "start_time": "2025-01-02T08:24:10.159Z"
   },
   {
    "duration": 54,
    "start_time": "2025-01-02T08:24:10.180Z"
   },
   {
    "duration": 43,
    "start_time": "2025-01-02T08:24:10.235Z"
   },
   {
    "duration": 13,
    "start_time": "2025-01-02T08:24:10.280Z"
   },
   {
    "duration": 29,
    "start_time": "2025-01-02T08:24:10.294Z"
   },
   {
    "duration": 26,
    "start_time": "2025-01-02T08:24:10.324Z"
   },
   {
    "duration": 45,
    "start_time": "2025-01-02T08:24:10.352Z"
   },
   {
    "duration": 35,
    "start_time": "2025-01-02T08:24:10.399Z"
   },
   {
    "duration": 84,
    "start_time": "2025-01-02T08:24:10.435Z"
   },
   {
    "duration": 33,
    "start_time": "2025-01-02T08:24:10.521Z"
   },
   {
    "duration": 83,
    "start_time": "2025-01-02T08:24:10.556Z"
   },
   {
    "duration": 9,
    "start_time": "2025-01-02T08:24:10.641Z"
   },
   {
    "duration": 34,
    "start_time": "2025-01-02T08:24:10.651Z"
   },
   {
    "duration": 7,
    "start_time": "2025-01-02T08:24:10.687Z"
   },
   {
    "duration": 16,
    "start_time": "2025-01-02T08:24:10.696Z"
   },
   {
    "duration": 27,
    "start_time": "2025-01-02T08:24:10.714Z"
   },
   {
    "duration": 15,
    "start_time": "2025-01-02T08:24:10.742Z"
   },
   {
    "duration": 58,
    "start_time": "2025-01-02T08:24:10.758Z"
   },
   {
    "duration": 45,
    "start_time": "2025-01-02T08:24:10.818Z"
   },
   {
    "duration": 5,
    "start_time": "2025-01-02T08:24:10.865Z"
   },
   {
    "duration": 20,
    "start_time": "2025-01-02T08:24:10.872Z"
   },
   {
    "duration": 15,
    "start_time": "2025-01-02T08:24:10.894Z"
   },
   {
    "duration": 56,
    "start_time": "2025-01-02T08:24:10.911Z"
   },
   {
    "duration": 9,
    "start_time": "2025-01-02T08:24:10.969Z"
   },
   {
    "duration": 167,
    "start_time": "2025-01-02T08:24:10.979Z"
   },
   {
    "duration": 12,
    "start_time": "2025-01-02T08:24:11.147Z"
   },
   {
    "duration": 23,
    "start_time": "2025-01-02T08:24:11.161Z"
   },
   {
    "duration": 4,
    "start_time": "2025-01-02T08:24:11.186Z"
   },
   {
    "duration": 42,
    "start_time": "2025-01-02T08:24:11.191Z"
   },
   {
    "duration": 122,
    "start_time": "2025-01-02T08:24:11.235Z"
   },
   {
    "duration": 24,
    "start_time": "2025-01-02T08:24:11.359Z"
   },
   {
    "duration": 21,
    "start_time": "2025-01-02T08:24:11.385Z"
   },
   {
    "duration": 4,
    "start_time": "2025-01-02T08:24:11.408Z"
   },
   {
    "duration": 46,
    "start_time": "2025-01-02T08:24:11.413Z"
   },
   {
    "duration": 5,
    "start_time": "2025-01-02T08:24:11.463Z"
   },
   {
    "duration": 26,
    "start_time": "2025-01-02T08:24:11.470Z"
   },
   {
    "duration": 2373,
    "start_time": "2025-01-02T08:24:11.498Z"
   },
   {
    "duration": 31,
    "start_time": "2025-01-02T08:24:13.873Z"
   },
   {
    "duration": 23,
    "start_time": "2025-01-02T08:24:13.929Z"
   },
   {
    "duration": 41,
    "start_time": "2025-01-02T08:24:13.954Z"
   },
   {
    "duration": 43,
    "start_time": "2025-01-02T08:24:13.996Z"
   },
   {
    "duration": 19,
    "start_time": "2025-01-02T08:24:14.040Z"
   },
   {
    "duration": 23,
    "start_time": "2025-01-02T08:24:14.061Z"
   },
   {
    "duration": 303,
    "start_time": "2025-01-02T08:24:14.086Z"
   },
   {
    "duration": 4,
    "start_time": "2025-01-02T08:24:14.391Z"
   },
   {
    "duration": 205,
    "start_time": "2025-01-02T08:24:14.397Z"
   },
   {
    "duration": 8,
    "start_time": "2025-01-02T08:24:14.604Z"
   },
   {
    "duration": 187,
    "start_time": "2025-01-02T08:24:14.630Z"
   },
   {
    "duration": 206,
    "start_time": "2025-01-02T08:24:14.818Z"
   },
   {
    "duration": 289,
    "start_time": "2025-01-02T08:24:15.025Z"
   },
   {
    "duration": 202,
    "start_time": "2025-01-02T08:24:15.316Z"
   },
   {
    "duration": 181,
    "start_time": "2025-01-02T08:24:15.520Z"
   },
   {
    "duration": 1433,
    "start_time": "2025-01-02T08:24:15.703Z"
   },
   {
    "duration": 0,
    "start_time": "2025-01-02T08:24:17.138Z"
   },
   {
    "duration": 0,
    "start_time": "2025-01-02T08:24:17.139Z"
   },
   {
    "duration": 25,
    "start_time": "2025-01-02T08:24:27.149Z"
   },
   {
    "duration": 188,
    "start_time": "2025-01-02T08:24:36.163Z"
   },
   {
    "duration": 182,
    "start_time": "2025-01-02T08:24:40.860Z"
   },
   {
    "duration": 178,
    "start_time": "2025-01-02T08:25:00.778Z"
   },
   {
    "duration": 13,
    "start_time": "2025-01-02T08:28:05.632Z"
   },
   {
    "duration": 5,
    "start_time": "2025-01-02T08:31:03.904Z"
   },
   {
    "duration": 5,
    "start_time": "2025-01-02T08:31:20.271Z"
   },
   {
    "duration": 169,
    "start_time": "2025-01-02T08:31:33.762Z"
   },
   {
    "duration": 5,
    "start_time": "2025-01-02T08:31:45.231Z"
   },
   {
    "duration": 7,
    "start_time": "2025-01-02T08:33:28.961Z"
   },
   {
    "duration": 408,
    "start_time": "2025-01-02T08:33:46.186Z"
   },
   {
    "duration": 6,
    "start_time": "2025-01-02T08:34:24.236Z"
   },
   {
    "duration": 6,
    "start_time": "2025-01-02T08:34:36.162Z"
   },
   {
    "duration": 5,
    "start_time": "2025-01-02T08:34:44.458Z"
   },
   {
    "duration": 13,
    "start_time": "2025-01-02T08:37:06.724Z"
   },
   {
    "duration": 10,
    "start_time": "2025-01-02T08:38:06.826Z"
   },
   {
    "duration": 15,
    "start_time": "2025-01-02T08:38:16.727Z"
   },
   {
    "duration": 19,
    "start_time": "2025-01-02T08:42:46.608Z"
   },
   {
    "duration": 18,
    "start_time": "2025-01-02T08:43:43.756Z"
   },
   {
    "duration": 14,
    "start_time": "2025-01-02T08:44:03.568Z"
   },
   {
    "duration": 14,
    "start_time": "2025-01-02T08:44:12.596Z"
   },
   {
    "duration": 9,
    "start_time": "2025-01-02T08:45:28.629Z"
   },
   {
    "duration": 10,
    "start_time": "2025-01-02T08:45:41.958Z"
   },
   {
    "duration": 1259,
    "start_time": "2025-01-02T08:52:06.138Z"
   },
   {
    "duration": 173,
    "start_time": "2025-01-02T08:52:25.686Z"
   },
   {
    "duration": 168,
    "start_time": "2025-01-02T08:53:05.100Z"
   },
   {
    "duration": 133,
    "start_time": "2025-01-02T08:54:58.244Z"
   },
   {
    "duration": 129,
    "start_time": "2025-01-02T08:55:36.342Z"
   },
   {
    "duration": 1312,
    "start_time": "2025-01-02T08:58:34.432Z"
   },
   {
    "duration": 170,
    "start_time": "2025-01-02T08:59:05.189Z"
   },
   {
    "duration": 169,
    "start_time": "2025-01-02T08:59:26.716Z"
   },
   {
    "duration": 198,
    "start_time": "2025-01-02T08:59:31.273Z"
   },
   {
    "duration": 187,
    "start_time": "2025-01-02T08:59:36.521Z"
   },
   {
    "duration": 175,
    "start_time": "2025-01-02T09:00:10.443Z"
   },
   {
    "duration": 50,
    "start_time": "2025-01-03T01:26:37.888Z"
   },
   {
    "duration": 971,
    "start_time": "2025-01-03T01:26:45.259Z"
   },
   {
    "duration": 16,
    "start_time": "2025-01-03T01:26:46.232Z"
   },
   {
    "duration": 2074,
    "start_time": "2025-01-03T01:26:46.249Z"
   },
   {
    "duration": 15,
    "start_time": "2025-01-03T01:26:48.326Z"
   },
   {
    "duration": 25,
    "start_time": "2025-01-03T01:26:48.343Z"
   },
   {
    "duration": 8,
    "start_time": "2025-01-03T01:26:48.370Z"
   },
   {
    "duration": 16,
    "start_time": "2025-01-03T01:26:48.379Z"
   },
   {
    "duration": 25,
    "start_time": "2025-01-03T01:26:48.396Z"
   },
   {
    "duration": 10,
    "start_time": "2025-01-03T01:26:48.423Z"
   },
   {
    "duration": 3,
    "start_time": "2025-01-03T01:26:48.436Z"
   },
   {
    "duration": 4,
    "start_time": "2025-01-03T01:26:48.441Z"
   },
   {
    "duration": 10,
    "start_time": "2025-01-03T01:26:48.447Z"
   },
   {
    "duration": 13,
    "start_time": "2025-01-03T01:26:48.458Z"
   },
   {
    "duration": 32,
    "start_time": "2025-01-03T01:26:48.472Z"
   },
   {
    "duration": 69,
    "start_time": "2025-01-03T01:26:48.506Z"
   },
   {
    "duration": 38,
    "start_time": "2025-01-03T01:26:48.577Z"
   },
   {
    "duration": 52,
    "start_time": "2025-01-03T01:26:48.616Z"
   },
   {
    "duration": 9,
    "start_time": "2025-01-03T01:26:48.669Z"
   },
   {
    "duration": 37,
    "start_time": "2025-01-03T01:26:48.680Z"
   },
   {
    "duration": 4,
    "start_time": "2025-01-03T01:26:48.718Z"
   },
   {
    "duration": 8,
    "start_time": "2025-01-03T01:26:48.724Z"
   },
   {
    "duration": 5,
    "start_time": "2025-01-03T01:26:48.733Z"
   },
   {
    "duration": 5,
    "start_time": "2025-01-03T01:26:48.740Z"
   },
   {
    "duration": 42,
    "start_time": "2025-01-03T01:26:48.746Z"
   },
   {
    "duration": 68,
    "start_time": "2025-01-03T01:26:48.789Z"
   },
   {
    "duration": 5,
    "start_time": "2025-01-03T01:26:48.858Z"
   },
   {
    "duration": 18,
    "start_time": "2025-01-03T01:26:48.864Z"
   },
   {
    "duration": 28,
    "start_time": "2025-01-03T01:26:48.885Z"
   },
   {
    "duration": 57,
    "start_time": "2025-01-03T01:26:48.915Z"
   },
   {
    "duration": 9,
    "start_time": "2025-01-03T01:26:48.974Z"
   },
   {
    "duration": 42,
    "start_time": "2025-01-03T01:26:48.985Z"
   },
   {
    "duration": 12,
    "start_time": "2025-01-03T01:26:49.029Z"
   },
   {
    "duration": 22,
    "start_time": "2025-01-03T01:26:49.043Z"
   },
   {
    "duration": 4,
    "start_time": "2025-01-03T01:26:49.067Z"
   },
   {
    "duration": 21,
    "start_time": "2025-01-03T01:26:49.072Z"
   },
   {
    "duration": 110,
    "start_time": "2025-01-03T01:26:49.095Z"
   },
   {
    "duration": 110,
    "start_time": "2025-01-03T01:26:49.206Z"
   },
   {
    "duration": 21,
    "start_time": "2025-01-03T01:26:49.317Z"
   },
   {
    "duration": 4,
    "start_time": "2025-01-03T01:26:49.339Z"
   },
   {
    "duration": 41,
    "start_time": "2025-01-03T01:26:49.345Z"
   },
   {
    "duration": 4,
    "start_time": "2025-01-03T01:26:49.388Z"
   },
   {
    "duration": 21,
    "start_time": "2025-01-03T01:26:49.414Z"
   },
   {
    "duration": 2269,
    "start_time": "2025-01-03T01:26:49.436Z"
   },
   {
    "duration": 29,
    "start_time": "2025-01-03T01:26:51.714Z"
   },
   {
    "duration": 4,
    "start_time": "2025-01-03T01:26:51.744Z"
   },
   {
    "duration": 18,
    "start_time": "2025-01-03T01:26:51.750Z"
   },
   {
    "duration": 19,
    "start_time": "2025-01-03T01:26:51.770Z"
   },
   {
    "duration": 19,
    "start_time": "2025-01-03T01:26:51.791Z"
   },
   {
    "duration": 32,
    "start_time": "2025-01-03T01:26:51.812Z"
   },
   {
    "duration": 313,
    "start_time": "2025-01-03T01:26:51.846Z"
   },
   {
    "duration": 5,
    "start_time": "2025-01-03T01:26:52.160Z"
   },
   {
    "duration": 201,
    "start_time": "2025-01-03T01:26:52.166Z"
   },
   {
    "duration": 8,
    "start_time": "2025-01-03T01:26:52.369Z"
   },
   {
    "duration": 189,
    "start_time": "2025-01-03T01:26:52.378Z"
   },
   {
    "duration": 6,
    "start_time": "2025-01-03T01:26:52.569Z"
   },
   {
    "duration": 194,
    "start_time": "2025-01-03T01:26:52.576Z"
   },
   {
    "duration": 5,
    "start_time": "2025-01-03T01:26:52.771Z"
   },
   {
    "duration": 291,
    "start_time": "2025-01-03T01:26:52.778Z"
   },
   {
    "duration": 5,
    "start_time": "2025-01-03T01:26:53.070Z"
   },
   {
    "duration": 196,
    "start_time": "2025-01-03T01:26:53.077Z"
   },
   {
    "duration": 5,
    "start_time": "2025-01-03T01:26:53.275Z"
   },
   {
    "duration": 173,
    "start_time": "2025-01-03T01:26:53.281Z"
   },
   {
    "duration": 182,
    "start_time": "2025-01-03T01:26:53.455Z"
   },
   {
    "duration": 5,
    "start_time": "2025-01-03T01:26:53.639Z"
   },
   {
    "duration": 178,
    "start_time": "2025-01-03T01:26:53.646Z"
   },
   {
    "duration": 5,
    "start_time": "2025-01-03T01:26:53.826Z"
   },
   {
    "duration": 191,
    "start_time": "2025-01-03T01:26:53.832Z"
   },
   {
    "duration": 5,
    "start_time": "2025-01-03T01:26:54.025Z"
   },
   {
    "duration": 84,
    "start_time": "2025-01-03T01:26:54.031Z"
   },
   {
    "duration": 0,
    "start_time": "2025-01-03T01:26:54.116Z"
   },
   {
    "duration": 0,
    "start_time": "2025-01-03T01:26:54.117Z"
   },
   {
    "duration": 0,
    "start_time": "2025-01-03T01:26:54.119Z"
   },
   {
    "duration": 20,
    "start_time": "2025-01-03T01:27:28.034Z"
   },
   {
    "duration": 92,
    "start_time": "2025-01-03T01:28:18.149Z"
   },
   {
    "duration": 18,
    "start_time": "2025-01-03T01:28:21.596Z"
   },
   {
    "duration": 18,
    "start_time": "2025-01-03T01:28:26.702Z"
   },
   {
    "duration": 19,
    "start_time": "2025-01-03T01:31:18.591Z"
   },
   {
    "duration": 21,
    "start_time": "2025-01-03T01:32:33.389Z"
   },
   {
    "duration": 21,
    "start_time": "2025-01-03T01:33:27.957Z"
   },
   {
    "duration": 19,
    "start_time": "2025-01-03T01:33:47.809Z"
   },
   {
    "duration": 20,
    "start_time": "2025-01-03T01:36:50.694Z"
   },
   {
    "duration": 20,
    "start_time": "2025-01-03T01:37:07.465Z"
   },
   {
    "duration": 19,
    "start_time": "2025-01-03T01:37:12.576Z"
   },
   {
    "duration": 20,
    "start_time": "2025-01-03T01:37:17.708Z"
   },
   {
    "duration": 20,
    "start_time": "2025-01-03T01:37:29.782Z"
   },
   {
    "duration": 795,
    "start_time": "2025-01-03T01:37:39.422Z"
   },
   {
    "duration": 16,
    "start_time": "2025-01-03T01:37:40.220Z"
   },
   {
    "duration": 2086,
    "start_time": "2025-01-03T01:37:40.237Z"
   },
   {
    "duration": 14,
    "start_time": "2025-01-03T01:37:42.325Z"
   },
   {
    "duration": 24,
    "start_time": "2025-01-03T01:37:42.342Z"
   },
   {
    "duration": 8,
    "start_time": "2025-01-03T01:37:42.368Z"
   },
   {
    "duration": 11,
    "start_time": "2025-01-03T01:37:42.377Z"
   },
   {
    "duration": 32,
    "start_time": "2025-01-03T01:37:42.390Z"
   },
   {
    "duration": 9,
    "start_time": "2025-01-03T01:37:42.424Z"
   },
   {
    "duration": 4,
    "start_time": "2025-01-03T01:37:42.435Z"
   },
   {
    "duration": 4,
    "start_time": "2025-01-03T01:37:42.440Z"
   },
   {
    "duration": 9,
    "start_time": "2025-01-03T01:37:42.445Z"
   },
   {
    "duration": 4,
    "start_time": "2025-01-03T01:37:42.456Z"
   },
   {
    "duration": 4,
    "start_time": "2025-01-03T01:37:42.463Z"
   },
   {
    "duration": 100,
    "start_time": "2025-01-03T01:37:42.468Z"
   },
   {
    "duration": 24,
    "start_time": "2025-01-03T01:37:42.570Z"
   },
   {
    "duration": 84,
    "start_time": "2025-01-03T01:37:42.596Z"
   },
   {
    "duration": 10,
    "start_time": "2025-01-03T01:37:42.682Z"
   },
   {
    "duration": 33,
    "start_time": "2025-01-03T01:37:42.693Z"
   },
   {
    "duration": 4,
    "start_time": "2025-01-03T01:37:42.727Z"
   },
   {
    "duration": 5,
    "start_time": "2025-01-03T01:37:42.733Z"
   },
   {
    "duration": 5,
    "start_time": "2025-01-03T01:37:42.739Z"
   },
   {
    "duration": 7,
    "start_time": "2025-01-03T01:37:42.745Z"
   },
   {
    "duration": 38,
    "start_time": "2025-01-03T01:37:42.753Z"
   },
   {
    "duration": 68,
    "start_time": "2025-01-03T01:37:42.793Z"
   },
   {
    "duration": 5,
    "start_time": "2025-01-03T01:37:42.863Z"
   },
   {
    "duration": 6,
    "start_time": "2025-01-03T01:37:42.869Z"
   },
   {
    "duration": 40,
    "start_time": "2025-01-03T01:37:42.877Z"
   },
   {
    "duration": 44,
    "start_time": "2025-01-03T01:37:42.918Z"
   },
   {
    "duration": 10,
    "start_time": "2025-01-03T01:37:42.964Z"
   },
   {
    "duration": 60,
    "start_time": "2025-01-03T01:37:42.975Z"
   },
   {
    "duration": 12,
    "start_time": "2025-01-03T01:37:43.037Z"
   },
   {
    "duration": 29,
    "start_time": "2025-01-03T01:37:43.051Z"
   },
   {
    "duration": 8,
    "start_time": "2025-01-03T01:37:43.082Z"
   },
   {
    "duration": 24,
    "start_time": "2025-01-03T01:37:43.092Z"
   },
   {
    "duration": 7,
    "start_time": "2025-01-03T01:37:43.117Z"
   },
   {
    "duration": 22,
    "start_time": "2025-01-03T01:37:43.125Z"
   },
   {
    "duration": 21,
    "start_time": "2025-01-03T01:37:43.149Z"
   },
   {
    "duration": 4,
    "start_time": "2025-01-03T01:37:43.171Z"
   },
   {
    "duration": 63,
    "start_time": "2025-01-03T01:37:43.177Z"
   },
   {
    "duration": 4,
    "start_time": "2025-01-03T01:37:43.244Z"
   },
   {
    "duration": 22,
    "start_time": "2025-01-03T01:37:43.250Z"
   },
   {
    "duration": 2415,
    "start_time": "2025-01-03T01:37:43.273Z"
   },
   {
    "duration": 40,
    "start_time": "2025-01-03T01:37:45.690Z"
   },
   {
    "duration": 4,
    "start_time": "2025-01-03T01:37:45.732Z"
   },
   {
    "duration": 14,
    "start_time": "2025-01-03T01:37:45.737Z"
   },
   {
    "duration": 6,
    "start_time": "2025-01-03T01:37:45.752Z"
   },
   {
    "duration": 5,
    "start_time": "2025-01-03T01:37:45.759Z"
   },
   {
    "duration": 5,
    "start_time": "2025-01-03T01:37:45.765Z"
   },
   {
    "duration": 342,
    "start_time": "2025-01-03T01:37:45.772Z"
   },
   {
    "duration": 4,
    "start_time": "2025-01-03T01:37:46.116Z"
   },
   {
    "duration": 202,
    "start_time": "2025-01-03T01:37:46.122Z"
   },
   {
    "duration": 9,
    "start_time": "2025-01-03T01:37:46.325Z"
   },
   {
    "duration": 190,
    "start_time": "2025-01-03T01:37:46.335Z"
   },
   {
    "duration": 6,
    "start_time": "2025-01-03T01:37:46.526Z"
   },
   {
    "duration": 289,
    "start_time": "2025-01-03T01:37:46.534Z"
   },
   {
    "duration": 5,
    "start_time": "2025-01-03T01:37:46.824Z"
   },
   {
    "duration": 289,
    "start_time": "2025-01-03T01:37:46.830Z"
   },
   {
    "duration": 5,
    "start_time": "2025-01-03T01:37:47.121Z"
   },
   {
    "duration": 196,
    "start_time": "2025-01-03T01:37:47.128Z"
   },
   {
    "duration": 6,
    "start_time": "2025-01-03T01:37:47.325Z"
   },
   {
    "duration": 186,
    "start_time": "2025-01-03T01:37:47.332Z"
   },
   {
    "duration": 196,
    "start_time": "2025-01-03T01:37:47.520Z"
   },
   {
    "duration": 6,
    "start_time": "2025-01-03T01:37:47.718Z"
   },
   {
    "duration": 184,
    "start_time": "2025-01-03T01:37:47.725Z"
   },
   {
    "duration": 6,
    "start_time": "2025-01-03T01:37:47.914Z"
   },
   {
    "duration": 194,
    "start_time": "2025-01-03T01:37:47.922Z"
   },
   {
    "duration": 5,
    "start_time": "2025-01-03T01:37:48.118Z"
   },
   {
    "duration": 24,
    "start_time": "2025-01-03T01:37:48.124Z"
   },
   {
    "duration": 86,
    "start_time": "2025-01-03T01:37:48.150Z"
   },
   {
    "duration": 0,
    "start_time": "2025-01-03T01:37:48.238Z"
   },
   {
    "duration": 0,
    "start_time": "2025-01-03T01:37:48.239Z"
   },
   {
    "duration": 21,
    "start_time": "2025-01-03T01:38:34.572Z"
   },
   {
    "duration": 169,
    "start_time": "2025-01-03T01:39:03.167Z"
   },
   {
    "duration": 22,
    "start_time": "2025-01-03T01:39:52.774Z"
   },
   {
    "duration": 45,
    "start_time": "2025-01-03T01:45:00.641Z"
   },
   {
    "duration": 7,
    "start_time": "2025-01-03T01:55:27.804Z"
   },
   {
    "duration": 4,
    "start_time": "2025-01-03T01:55:32.692Z"
   },
   {
    "duration": 12,
    "start_time": "2025-01-03T01:55:33.548Z"
   },
   {
    "duration": 8,
    "start_time": "2025-01-03T01:55:51.707Z"
   },
   {
    "duration": 10,
    "start_time": "2025-01-03T01:56:05.362Z"
   },
   {
    "duration": 7,
    "start_time": "2025-01-03T01:57:49.161Z"
   },
   {
    "duration": 6,
    "start_time": "2025-01-03T01:57:54.390Z"
   },
   {
    "duration": 181,
    "start_time": "2025-01-03T02:12:20.544Z"
   },
   {
    "duration": 178,
    "start_time": "2025-01-03T02:14:26.364Z"
   },
   {
    "duration": 166,
    "start_time": "2025-01-03T02:14:27.601Z"
   },
   {
    "duration": 192,
    "start_time": "2025-01-03T02:14:29.642Z"
   },
   {
    "duration": 173,
    "start_time": "2025-01-03T02:14:30.490Z"
   },
   {
    "duration": 1313,
    "start_time": "2025-01-03T02:14:31.450Z"
   },
   {
    "duration": 212,
    "start_time": "2025-01-03T02:14:40.120Z"
   },
   {
    "duration": 192,
    "start_time": "2025-01-03T02:14:45.647Z"
   },
   {
    "duration": 1398,
    "start_time": "2025-01-03T02:14:46.753Z"
   },
   {
    "duration": 1414,
    "start_time": "2025-01-03T02:15:01.737Z"
   },
   {
    "duration": 319,
    "start_time": "2025-01-03T02:15:08.279Z"
   },
   {
    "duration": 184,
    "start_time": "2025-01-03T02:15:13.953Z"
   },
   {
    "duration": 86,
    "start_time": "2025-01-03T02:15:39.336Z"
   },
   {
    "duration": 194,
    "start_time": "2025-01-03T02:15:44.013Z"
   },
   {
    "duration": 25,
    "start_time": "2025-01-03T02:17:58.579Z"
   },
   {
    "duration": 10,
    "start_time": "2025-01-03T02:20:24.965Z"
   },
   {
    "duration": 15,
    "start_time": "2025-01-03T02:20:31.567Z"
   },
   {
    "duration": 750,
    "start_time": "2025-01-03T02:20:36.770Z"
   },
   {
    "duration": 17,
    "start_time": "2025-01-03T02:20:37.523Z"
   },
   {
    "duration": 2093,
    "start_time": "2025-01-03T02:20:37.542Z"
   },
   {
    "duration": 17,
    "start_time": "2025-01-03T02:20:39.637Z"
   },
   {
    "duration": 26,
    "start_time": "2025-01-03T02:20:39.657Z"
   },
   {
    "duration": 8,
    "start_time": "2025-01-03T02:20:39.685Z"
   },
   {
    "duration": 25,
    "start_time": "2025-01-03T02:20:39.695Z"
   },
   {
    "duration": 12,
    "start_time": "2025-01-03T02:20:39.722Z"
   },
   {
    "duration": 22,
    "start_time": "2025-01-03T02:20:39.736Z"
   },
   {
    "duration": 10,
    "start_time": "2025-01-03T02:20:39.760Z"
   },
   {
    "duration": 18,
    "start_time": "2025-01-03T02:20:39.772Z"
   },
   {
    "duration": 28,
    "start_time": "2025-01-03T02:20:39.792Z"
   },
   {
    "duration": 12,
    "start_time": "2025-01-03T02:20:39.821Z"
   },
   {
    "duration": 29,
    "start_time": "2025-01-03T02:20:39.836Z"
   },
   {
    "duration": 77,
    "start_time": "2025-01-03T02:20:39.867Z"
   },
   {
    "duration": 24,
    "start_time": "2025-01-03T02:20:39.946Z"
   },
   {
    "duration": 68,
    "start_time": "2025-01-03T02:20:39.971Z"
   },
   {
    "duration": 9,
    "start_time": "2025-01-03T02:20:40.041Z"
   },
   {
    "duration": 40,
    "start_time": "2025-01-03T02:20:40.051Z"
   },
   {
    "duration": 9,
    "start_time": "2025-01-03T02:20:40.093Z"
   },
   {
    "duration": 15,
    "start_time": "2025-01-03T02:20:40.104Z"
   },
   {
    "duration": 32,
    "start_time": "2025-01-03T02:20:40.121Z"
   },
   {
    "duration": 24,
    "start_time": "2025-01-03T02:20:40.155Z"
   },
   {
    "duration": 62,
    "start_time": "2025-01-03T02:20:40.181Z"
   },
   {
    "duration": 53,
    "start_time": "2025-01-03T02:20:40.244Z"
   },
   {
    "duration": 20,
    "start_time": "2025-01-03T02:20:40.298Z"
   },
   {
    "duration": 11,
    "start_time": "2025-01-03T02:20:40.320Z"
   },
   {
    "duration": 30,
    "start_time": "2025-01-03T02:20:40.333Z"
   },
   {
    "duration": 52,
    "start_time": "2025-01-03T02:20:40.364Z"
   },
   {
    "duration": 10,
    "start_time": "2025-01-03T02:20:40.417Z"
   },
   {
    "duration": 48,
    "start_time": "2025-01-03T02:20:40.429Z"
   },
   {
    "duration": 11,
    "start_time": "2025-01-03T02:20:40.479Z"
   },
   {
    "duration": 40,
    "start_time": "2025-01-03T02:20:40.492Z"
   },
   {
    "duration": 33,
    "start_time": "2025-01-03T02:20:40.534Z"
   },
   {
    "duration": 39,
    "start_time": "2025-01-03T02:20:40.568Z"
   },
   {
    "duration": 22,
    "start_time": "2025-01-03T02:20:40.609Z"
   },
   {
    "duration": 39,
    "start_time": "2025-01-03T02:20:40.632Z"
   },
   {
    "duration": 28,
    "start_time": "2025-01-03T02:20:40.672Z"
   },
   {
    "duration": 150,
    "start_time": "2025-01-03T02:20:40.701Z"
   },
   {
    "duration": 61,
    "start_time": "2025-01-03T02:20:40.853Z"
   },
   {
    "duration": 5,
    "start_time": "2025-01-03T02:20:40.919Z"
   },
   {
    "duration": 16,
    "start_time": "2025-01-03T02:20:40.926Z"
   },
   {
    "duration": 34,
    "start_time": "2025-01-03T02:20:40.944Z"
   },
   {
    "duration": 2376,
    "start_time": "2025-01-03T02:20:40.980Z"
   },
   {
    "duration": 30,
    "start_time": "2025-01-03T02:20:43.358Z"
   },
   {
    "duration": 65,
    "start_time": "2025-01-03T02:20:43.389Z"
   },
   {
    "duration": 13,
    "start_time": "2025-01-03T02:20:43.455Z"
   },
   {
    "duration": 16,
    "start_time": "2025-01-03T02:20:43.469Z"
   },
   {
    "duration": 6,
    "start_time": "2025-01-03T02:20:43.486Z"
   },
   {
    "duration": 5,
    "start_time": "2025-01-03T02:20:43.493Z"
   },
   {
    "duration": 326,
    "start_time": "2025-01-03T02:20:43.500Z"
   },
   {
    "duration": 4,
    "start_time": "2025-01-03T02:20:43.828Z"
   },
   {
    "duration": 205,
    "start_time": "2025-01-03T02:20:43.834Z"
   },
   {
    "duration": 192,
    "start_time": "2025-01-03T02:20:44.041Z"
   },
   {
    "duration": 182,
    "start_time": "2025-01-03T02:20:44.235Z"
   },
   {
    "duration": 314,
    "start_time": "2025-01-03T02:20:44.418Z"
   },
   {
    "duration": 182,
    "start_time": "2025-01-03T02:20:44.734Z"
   },
   {
    "duration": 204,
    "start_time": "2025-01-03T02:20:44.918Z"
   },
   {
    "duration": 180,
    "start_time": "2025-01-03T02:20:45.124Z"
   },
   {
    "duration": 197,
    "start_time": "2025-01-03T02:20:45.305Z"
   },
   {
    "duration": 197,
    "start_time": "2025-01-03T02:20:45.503Z"
   },
   {
    "duration": 202,
    "start_time": "2025-01-03T02:20:45.702Z"
   },
   {
    "duration": 211,
    "start_time": "2025-01-03T02:20:45.906Z"
   },
   {
    "duration": 9,
    "start_time": "2025-01-03T02:20:46.119Z"
   },
   {
    "duration": 201,
    "start_time": "2025-01-03T02:20:46.130Z"
   },
   {
    "duration": 7,
    "start_time": "2025-01-03T02:20:46.332Z"
   },
   {
    "duration": 196,
    "start_time": "2025-01-03T02:20:46.341Z"
   },
   {
    "duration": 7,
    "start_time": "2025-01-03T02:20:46.540Z"
   },
   {
    "duration": 230,
    "start_time": "2025-01-03T02:20:46.548Z"
   },
   {
    "duration": 5,
    "start_time": "2025-01-03T02:20:46.779Z"
   },
   {
    "duration": 220,
    "start_time": "2025-01-03T02:20:46.786Z"
   },
   {
    "duration": 7,
    "start_time": "2025-01-03T02:20:47.008Z"
   },
   {
    "duration": 298,
    "start_time": "2025-01-03T02:20:47.017Z"
   },
   {
    "duration": 183,
    "start_time": "2025-01-03T02:20:47.316Z"
   },
   {
    "duration": 6,
    "start_time": "2025-01-03T02:20:47.501Z"
   },
   {
    "duration": 192,
    "start_time": "2025-01-03T02:20:47.515Z"
   },
   {
    "duration": 10,
    "start_time": "2025-01-03T02:20:47.708Z"
   },
   {
    "duration": 197,
    "start_time": "2025-01-03T02:20:47.719Z"
   },
   {
    "duration": 5,
    "start_time": "2025-01-03T02:20:47.918Z"
   },
   {
    "duration": 6,
    "start_time": "2025-01-03T02:20:47.924Z"
   },
   {
    "duration": 27,
    "start_time": "2025-01-03T02:20:47.932Z"
   },
   {
    "duration": 37,
    "start_time": "2025-01-03T02:20:47.960Z"
   },
   {
    "duration": 6,
    "start_time": "2025-01-03T02:20:47.999Z"
   },
   {
    "duration": 169,
    "start_time": "2025-01-03T02:20:48.006Z"
   },
   {
    "duration": 198,
    "start_time": "2025-01-03T02:21:45.409Z"
   },
   {
    "duration": 180,
    "start_time": "2025-01-03T02:24:01.256Z"
   },
   {
    "duration": 87,
    "start_time": "2025-01-03T02:24:07.193Z"
   },
   {
    "duration": 171,
    "start_time": "2025-01-03T02:24:13.648Z"
   },
   {
    "duration": 179,
    "start_time": "2025-01-03T02:24:18.309Z"
   },
   {
    "duration": 176,
    "start_time": "2025-01-03T02:24:22.499Z"
   },
   {
    "duration": 22,
    "start_time": "2025-01-03T02:25:08.632Z"
   },
   {
    "duration": 27,
    "start_time": "2025-01-03T02:25:40.750Z"
   },
   {
    "duration": 28,
    "start_time": "2025-01-03T02:25:59.748Z"
   },
   {
    "duration": 24,
    "start_time": "2025-01-03T02:26:04.647Z"
   },
   {
    "duration": 15,
    "start_time": "2025-01-03T02:26:22.687Z"
   },
   {
    "duration": 9,
    "start_time": "2025-01-03T02:26:26.478Z"
   },
   {
    "duration": 798,
    "start_time": "2025-01-03T02:26:34.214Z"
   },
   {
    "duration": 22,
    "start_time": "2025-01-03T02:26:35.017Z"
   },
   {
    "duration": 2122,
    "start_time": "2025-01-03T02:26:35.041Z"
   },
   {
    "duration": 16,
    "start_time": "2025-01-03T02:26:37.166Z"
   },
   {
    "duration": 26,
    "start_time": "2025-01-03T02:26:37.184Z"
   },
   {
    "duration": 8,
    "start_time": "2025-01-03T02:26:37.211Z"
   },
   {
    "duration": 10,
    "start_time": "2025-01-03T02:26:37.221Z"
   },
   {
    "duration": 11,
    "start_time": "2025-01-03T02:26:37.232Z"
   },
   {
    "duration": 28,
    "start_time": "2025-01-03T02:26:37.244Z"
   },
   {
    "duration": 4,
    "start_time": "2025-01-03T02:26:37.275Z"
   },
   {
    "duration": 11,
    "start_time": "2025-01-03T02:26:37.281Z"
   },
   {
    "duration": 9,
    "start_time": "2025-01-03T02:26:37.294Z"
   },
   {
    "duration": 4,
    "start_time": "2025-01-03T02:26:37.315Z"
   },
   {
    "duration": 83,
    "start_time": "2025-01-03T02:26:37.320Z"
   },
   {
    "duration": 109,
    "start_time": "2025-01-03T02:26:37.405Z"
   },
   {
    "duration": 24,
    "start_time": "2025-01-03T02:26:37.516Z"
   },
   {
    "duration": 52,
    "start_time": "2025-01-03T02:26:37.542Z"
   },
   {
    "duration": 24,
    "start_time": "2025-01-03T02:26:37.596Z"
   },
   {
    "duration": 23,
    "start_time": "2025-01-03T02:26:37.621Z"
   },
   {
    "duration": 11,
    "start_time": "2025-01-03T02:26:37.646Z"
   },
   {
    "duration": 6,
    "start_time": "2025-01-03T02:26:37.659Z"
   },
   {
    "duration": 8,
    "start_time": "2025-01-03T02:26:37.666Z"
   },
   {
    "duration": 30,
    "start_time": "2025-01-03T02:26:37.676Z"
   },
   {
    "duration": 40,
    "start_time": "2025-01-03T02:26:37.707Z"
   },
   {
    "duration": 47,
    "start_time": "2025-01-03T02:26:37.749Z"
   },
   {
    "duration": 19,
    "start_time": "2025-01-03T02:26:37.797Z"
   },
   {
    "duration": 5,
    "start_time": "2025-01-03T02:26:37.817Z"
   },
   {
    "duration": 15,
    "start_time": "2025-01-03T02:26:37.826Z"
   },
   {
    "duration": 44,
    "start_time": "2025-01-03T02:26:37.843Z"
   },
   {
    "duration": 34,
    "start_time": "2025-01-03T02:26:37.889Z"
   },
   {
    "duration": 39,
    "start_time": "2025-01-03T02:26:37.925Z"
   },
   {
    "duration": 12,
    "start_time": "2025-01-03T02:26:37.965Z"
   },
   {
    "duration": 48,
    "start_time": "2025-01-03T02:26:37.979Z"
   },
   {
    "duration": 5,
    "start_time": "2025-01-03T02:26:38.028Z"
   },
   {
    "duration": 8,
    "start_time": "2025-01-03T02:26:38.035Z"
   },
   {
    "duration": 6,
    "start_time": "2025-01-03T02:26:38.044Z"
   },
   {
    "duration": 21,
    "start_time": "2025-01-03T02:26:38.052Z"
   },
   {
    "duration": 54,
    "start_time": "2025-01-03T02:26:38.075Z"
   },
   {
    "duration": 4,
    "start_time": "2025-01-03T02:26:38.130Z"
   },
   {
    "duration": 64,
    "start_time": "2025-01-03T02:26:38.135Z"
   },
   {
    "duration": 4,
    "start_time": "2025-01-03T02:26:38.201Z"
   },
   {
    "duration": 10,
    "start_time": "2025-01-03T02:26:38.207Z"
   },
   {
    "duration": 21,
    "start_time": "2025-01-03T02:26:38.219Z"
   },
   {
    "duration": 2316,
    "start_time": "2025-01-03T02:26:38.242Z"
   },
   {
    "duration": 28,
    "start_time": "2025-01-03T02:26:40.560Z"
   },
   {
    "duration": 4,
    "start_time": "2025-01-03T02:26:40.590Z"
   },
   {
    "duration": 12,
    "start_time": "2025-01-03T02:26:40.614Z"
   },
   {
    "duration": 19,
    "start_time": "2025-01-03T02:26:40.628Z"
   },
   {
    "duration": 9,
    "start_time": "2025-01-03T02:26:40.648Z"
   },
   {
    "duration": 20,
    "start_time": "2025-01-03T02:26:40.658Z"
   },
   {
    "duration": 322,
    "start_time": "2025-01-03T02:26:40.680Z"
   },
   {
    "duration": 11,
    "start_time": "2025-01-03T02:26:41.003Z"
   },
   {
    "duration": 176,
    "start_time": "2025-01-03T02:26:41.016Z"
   },
   {
    "duration": 185,
    "start_time": "2025-01-03T02:26:41.194Z"
   },
   {
    "duration": 169,
    "start_time": "2025-01-03T02:26:41.381Z"
   },
   {
    "duration": 307,
    "start_time": "2025-01-03T02:26:41.552Z"
   },
   {
    "duration": 174,
    "start_time": "2025-01-03T02:26:41.860Z"
   },
   {
    "duration": 183,
    "start_time": "2025-01-03T02:26:42.035Z"
   },
   {
    "duration": 179,
    "start_time": "2025-01-03T02:26:42.219Z"
   },
   {
    "duration": 185,
    "start_time": "2025-01-03T02:26:42.400Z"
   },
   {
    "duration": 193,
    "start_time": "2025-01-03T02:26:42.586Z"
   },
   {
    "duration": 194,
    "start_time": "2025-01-03T02:26:42.781Z"
   },
   {
    "duration": 198,
    "start_time": "2025-01-03T02:26:42.977Z"
   },
   {
    "duration": 8,
    "start_time": "2025-01-03T02:26:43.177Z"
   },
   {
    "duration": 201,
    "start_time": "2025-01-03T02:26:43.186Z"
   },
   {
    "duration": 6,
    "start_time": "2025-01-03T02:26:43.388Z"
   },
   {
    "duration": 228,
    "start_time": "2025-01-03T02:26:43.395Z"
   },
   {
    "duration": 5,
    "start_time": "2025-01-03T02:26:43.625Z"
   },
   {
    "duration": 184,
    "start_time": "2025-01-03T02:26:43.632Z"
   },
   {
    "duration": 5,
    "start_time": "2025-01-03T02:26:43.818Z"
   },
   {
    "duration": 195,
    "start_time": "2025-01-03T02:26:43.825Z"
   },
   {
    "duration": 6,
    "start_time": "2025-01-03T02:26:44.022Z"
   },
   {
    "duration": 315,
    "start_time": "2025-01-03T02:26:44.029Z"
   },
   {
    "duration": 180,
    "start_time": "2025-01-03T02:26:44.345Z"
   },
   {
    "duration": 6,
    "start_time": "2025-01-03T02:26:44.527Z"
   },
   {
    "duration": 191,
    "start_time": "2025-01-03T02:26:44.535Z"
   },
   {
    "duration": 6,
    "start_time": "2025-01-03T02:26:44.727Z"
   },
   {
    "duration": 321,
    "start_time": "2025-01-03T02:26:44.734Z"
   },
   {
    "duration": 6,
    "start_time": "2025-01-03T02:26:45.056Z"
   },
   {
    "duration": 138,
    "start_time": "2025-01-03T02:26:45.063Z"
   },
   {
    "duration": 38,
    "start_time": "2025-01-03T02:26:45.202Z"
   },
   {
    "duration": 25,
    "start_time": "2025-01-03T02:26:45.245Z"
   },
   {
    "duration": 55,
    "start_time": "2025-01-03T02:26:45.272Z"
   },
   {
    "duration": 300,
    "start_time": "2025-01-03T02:26:45.329Z"
   },
   {
    "duration": 170,
    "start_time": "2025-01-03T02:28:47.919Z"
   },
   {
    "duration": 203,
    "start_time": "2025-01-03T02:29:15.054Z"
   },
   {
    "duration": 183,
    "start_time": "2025-01-03T02:29:22.597Z"
   },
   {
    "duration": 304,
    "start_time": "2025-01-03T02:29:34.979Z"
   },
   {
    "duration": 169,
    "start_time": "2025-01-03T02:29:39.268Z"
   },
   {
    "duration": 113,
    "start_time": "2025-01-03T02:30:00.761Z"
   },
   {
    "duration": 86,
    "start_time": "2025-01-03T02:30:07.040Z"
   },
   {
    "duration": 94,
    "start_time": "2025-01-03T02:30:09.057Z"
   },
   {
    "duration": 180,
    "start_time": "2025-01-03T02:30:11.927Z"
   },
   {
    "duration": 102,
    "start_time": "2025-01-03T02:30:32.598Z"
   },
   {
    "duration": 187,
    "start_time": "2025-01-03T02:30:36.962Z"
   },
   {
    "duration": 189,
    "start_time": "2025-01-03T02:30:46.212Z"
   },
   {
    "duration": 184,
    "start_time": "2025-01-03T02:31:16.817Z"
   },
   {
    "duration": 167,
    "start_time": "2025-01-03T02:31:23.546Z"
   },
   {
    "duration": 22,
    "start_time": "2025-01-03T02:31:45.968Z"
   },
   {
    "duration": 27,
    "start_time": "2025-01-03T02:32:50.634Z"
   },
   {
    "duration": 32,
    "start_time": "2025-01-03T02:34:41.084Z"
   },
   {
    "duration": 23,
    "start_time": "2025-01-03T02:35:09.390Z"
   },
   {
    "duration": 28,
    "start_time": "2025-01-03T02:35:14.529Z"
   },
   {
    "duration": 804,
    "start_time": "2025-01-03T02:46:38.194Z"
   },
   {
    "duration": 21,
    "start_time": "2025-01-03T02:46:39.000Z"
   },
   {
    "duration": 2081,
    "start_time": "2025-01-03T02:46:39.022Z"
   },
   {
    "duration": 15,
    "start_time": "2025-01-03T02:46:41.105Z"
   },
   {
    "duration": 50,
    "start_time": "2025-01-03T02:46:41.122Z"
   },
   {
    "duration": 10,
    "start_time": "2025-01-03T02:46:41.174Z"
   },
   {
    "duration": 34,
    "start_time": "2025-01-03T02:46:41.186Z"
   },
   {
    "duration": 12,
    "start_time": "2025-01-03T02:46:41.222Z"
   },
   {
    "duration": 26,
    "start_time": "2025-01-03T02:46:41.235Z"
   },
   {
    "duration": 53,
    "start_time": "2025-01-03T02:46:41.262Z"
   },
   {
    "duration": 5,
    "start_time": "2025-01-03T02:46:41.316Z"
   },
   {
    "duration": 36,
    "start_time": "2025-01-03T02:46:41.322Z"
   },
   {
    "duration": 4,
    "start_time": "2025-01-03T02:46:41.360Z"
   },
   {
    "duration": 9,
    "start_time": "2025-01-03T02:46:41.367Z"
   },
   {
    "duration": 30,
    "start_time": "2025-01-03T02:46:41.378Z"
   },
   {
    "duration": 45,
    "start_time": "2025-01-03T02:46:41.410Z"
   },
   {
    "duration": 68,
    "start_time": "2025-01-03T02:46:41.457Z"
   },
   {
    "duration": 98,
    "start_time": "2025-01-03T02:46:41.526Z"
   },
   {
    "duration": 24,
    "start_time": "2025-01-03T02:46:41.626Z"
   },
   {
    "duration": 78,
    "start_time": "2025-01-03T02:46:41.651Z"
   },
   {
    "duration": 9,
    "start_time": "2025-01-03T02:46:41.731Z"
   },
   {
    "duration": 47,
    "start_time": "2025-01-03T02:46:41.742Z"
   },
   {
    "duration": 19,
    "start_time": "2025-01-03T02:46:41.791Z"
   },
   {
    "duration": 35,
    "start_time": "2025-01-03T02:46:41.812Z"
   },
   {
    "duration": 25,
    "start_time": "2025-01-03T02:46:41.848Z"
   },
   {
    "duration": 27,
    "start_time": "2025-01-03T02:46:41.875Z"
   },
   {
    "duration": 61,
    "start_time": "2025-01-03T02:46:41.904Z"
   },
   {
    "duration": 56,
    "start_time": "2025-01-03T02:46:41.966Z"
   },
   {
    "duration": 4,
    "start_time": "2025-01-03T02:46:42.024Z"
   },
   {
    "duration": 20,
    "start_time": "2025-01-03T02:46:42.029Z"
   },
   {
    "duration": 30,
    "start_time": "2025-01-03T02:46:42.050Z"
   },
   {
    "duration": 73,
    "start_time": "2025-01-03T02:46:42.082Z"
   },
   {
    "duration": 11,
    "start_time": "2025-01-03T02:46:42.156Z"
   },
   {
    "duration": 56,
    "start_time": "2025-01-03T02:46:42.168Z"
   },
   {
    "duration": 12,
    "start_time": "2025-01-03T02:46:42.226Z"
   },
   {
    "duration": 33,
    "start_time": "2025-01-03T02:46:42.240Z"
   },
   {
    "duration": 9,
    "start_time": "2025-01-03T02:46:42.274Z"
   },
   {
    "duration": 20,
    "start_time": "2025-01-03T02:46:42.284Z"
   },
   {
    "duration": 26,
    "start_time": "2025-01-03T02:46:42.305Z"
   },
   {
    "duration": 49,
    "start_time": "2025-01-03T02:46:42.333Z"
   },
   {
    "duration": 21,
    "start_time": "2025-01-03T02:46:42.388Z"
   },
   {
    "duration": 17,
    "start_time": "2025-01-03T02:46:42.411Z"
   },
   {
    "duration": 32,
    "start_time": "2025-01-03T02:46:42.429Z"
   },
   {
    "duration": 2366,
    "start_time": "2025-01-03T02:46:42.463Z"
   },
   {
    "duration": 30,
    "start_time": "2025-01-03T02:46:44.831Z"
   },
   {
    "duration": 54,
    "start_time": "2025-01-03T02:46:44.862Z"
   },
   {
    "duration": 35,
    "start_time": "2025-01-03T02:46:44.917Z"
   },
   {
    "duration": 10,
    "start_time": "2025-01-03T02:46:44.954Z"
   },
   {
    "duration": 22,
    "start_time": "2025-01-03T02:46:44.965Z"
   },
   {
    "duration": 32,
    "start_time": "2025-01-03T02:46:44.989Z"
   },
   {
    "duration": 348,
    "start_time": "2025-01-03T02:46:45.023Z"
   },
   {
    "duration": 5,
    "start_time": "2025-01-03T02:46:45.373Z"
   },
   {
    "duration": 210,
    "start_time": "2025-01-03T02:46:45.379Z"
   },
   {
    "duration": 188,
    "start_time": "2025-01-03T02:46:45.590Z"
   },
   {
    "duration": 188,
    "start_time": "2025-01-03T02:46:45.780Z"
   },
   {
    "duration": 295,
    "start_time": "2025-01-03T02:46:45.969Z"
   },
   {
    "duration": 185,
    "start_time": "2025-01-03T02:46:46.265Z"
   },
   {
    "duration": 221,
    "start_time": "2025-01-03T02:46:46.451Z"
   },
   {
    "duration": 187,
    "start_time": "2025-01-03T02:46:46.674Z"
   },
   {
    "duration": 193,
    "start_time": "2025-01-03T02:46:46.863Z"
   },
   {
    "duration": 179,
    "start_time": "2025-01-03T02:46:47.058Z"
   },
   {
    "duration": 194,
    "start_time": "2025-01-03T02:46:47.239Z"
   },
   {
    "duration": 198,
    "start_time": "2025-01-03T02:46:47.435Z"
   },
   {
    "duration": 195,
    "start_time": "2025-01-03T02:46:47.635Z"
   },
   {
    "duration": 208,
    "start_time": "2025-01-03T02:46:47.832Z"
   },
   {
    "duration": 8,
    "start_time": "2025-01-03T02:46:48.042Z"
   },
   {
    "duration": 202,
    "start_time": "2025-01-03T02:46:48.051Z"
   },
   {
    "duration": 5,
    "start_time": "2025-01-03T02:46:48.255Z"
   },
   {
    "duration": 333,
    "start_time": "2025-01-03T02:46:48.261Z"
   },
   {
    "duration": 5,
    "start_time": "2025-01-03T02:46:48.596Z"
   },
   {
    "duration": 188,
    "start_time": "2025-01-03T02:46:48.603Z"
   },
   {
    "duration": 5,
    "start_time": "2025-01-03T02:46:48.792Z"
   },
   {
    "duration": 308,
    "start_time": "2025-01-03T02:46:48.799Z"
   },
   {
    "duration": 6,
    "start_time": "2025-01-03T02:46:49.114Z"
   },
   {
    "duration": 182,
    "start_time": "2025-01-03T02:46:49.121Z"
   },
   {
    "duration": 188,
    "start_time": "2025-01-03T02:46:49.305Z"
   },
   {
    "duration": 6,
    "start_time": "2025-01-03T02:46:49.495Z"
   },
   {
    "duration": 216,
    "start_time": "2025-01-03T02:46:49.503Z"
   },
   {
    "duration": 6,
    "start_time": "2025-01-03T02:46:49.720Z"
   },
   {
    "duration": 194,
    "start_time": "2025-01-03T02:46:49.727Z"
   },
   {
    "duration": 6,
    "start_time": "2025-01-03T02:46:49.922Z"
   },
   {
    "duration": 7,
    "start_time": "2025-01-03T02:46:49.929Z"
   },
   {
    "duration": 10,
    "start_time": "2025-01-03T02:46:49.938Z"
   },
   {
    "duration": 20,
    "start_time": "2025-01-03T02:46:49.950Z"
   },
   {
    "duration": 6,
    "start_time": "2025-01-03T02:46:49.972Z"
   },
   {
    "duration": 176,
    "start_time": "2025-01-03T02:46:50.015Z"
   },
   {
    "duration": 93,
    "start_time": "2025-01-03T02:50:22.256Z"
   },
   {
    "duration": 85,
    "start_time": "2025-01-03T02:53:31.596Z"
   },
   {
    "duration": 92,
    "start_time": "2025-01-03T02:57:29.520Z"
   },
   {
    "duration": 762,
    "start_time": "2025-01-03T06:36:54.374Z"
   },
   {
    "duration": 15,
    "start_time": "2025-01-03T06:36:55.138Z"
   },
   {
    "duration": 2105,
    "start_time": "2025-01-03T06:36:55.155Z"
   },
   {
    "duration": 16,
    "start_time": "2025-01-03T06:36:57.261Z"
   },
   {
    "duration": 27,
    "start_time": "2025-01-03T06:36:57.279Z"
   },
   {
    "duration": 13,
    "start_time": "2025-01-03T06:36:57.307Z"
   },
   {
    "duration": 24,
    "start_time": "2025-01-03T06:36:57.322Z"
   },
   {
    "duration": 10,
    "start_time": "2025-01-03T06:36:57.348Z"
   },
   {
    "duration": 10,
    "start_time": "2025-01-03T06:36:57.359Z"
   },
   {
    "duration": 6,
    "start_time": "2025-01-03T06:36:57.370Z"
   },
   {
    "duration": 93,
    "start_time": "2025-01-03T06:36:57.377Z"
   },
   {
    "duration": 0,
    "start_time": "2025-01-03T06:36:57.474Z"
   },
   {
    "duration": 0,
    "start_time": "2025-01-03T06:36:57.475Z"
   },
   {
    "duration": 0,
    "start_time": "2025-01-03T06:36:57.476Z"
   },
   {
    "duration": 0,
    "start_time": "2025-01-03T06:36:57.477Z"
   },
   {
    "duration": 0,
    "start_time": "2025-01-03T06:36:57.479Z"
   },
   {
    "duration": 0,
    "start_time": "2025-01-03T06:36:57.480Z"
   },
   {
    "duration": 0,
    "start_time": "2025-01-03T06:36:57.481Z"
   },
   {
    "duration": 0,
    "start_time": "2025-01-03T06:36:57.482Z"
   },
   {
    "duration": 0,
    "start_time": "2025-01-03T06:36:57.483Z"
   },
   {
    "duration": 0,
    "start_time": "2025-01-03T06:36:57.483Z"
   },
   {
    "duration": 0,
    "start_time": "2025-01-03T06:36:57.484Z"
   },
   {
    "duration": 0,
    "start_time": "2025-01-03T06:36:57.485Z"
   },
   {
    "duration": 0,
    "start_time": "2025-01-03T06:36:57.486Z"
   },
   {
    "duration": 0,
    "start_time": "2025-01-03T06:36:57.487Z"
   },
   {
    "duration": 0,
    "start_time": "2025-01-03T06:36:57.489Z"
   },
   {
    "duration": 0,
    "start_time": "2025-01-03T06:36:57.490Z"
   },
   {
    "duration": 0,
    "start_time": "2025-01-03T06:36:57.491Z"
   },
   {
    "duration": 0,
    "start_time": "2025-01-03T06:36:57.492Z"
   },
   {
    "duration": 0,
    "start_time": "2025-01-03T06:36:57.493Z"
   },
   {
    "duration": 0,
    "start_time": "2025-01-03T06:36:57.494Z"
   },
   {
    "duration": 0,
    "start_time": "2025-01-03T06:36:57.495Z"
   },
   {
    "duration": 0,
    "start_time": "2025-01-03T06:36:57.496Z"
   },
   {
    "duration": 0,
    "start_time": "2025-01-03T06:36:57.496Z"
   },
   {
    "duration": 0,
    "start_time": "2025-01-03T06:36:57.497Z"
   },
   {
    "duration": 0,
    "start_time": "2025-01-03T06:36:57.498Z"
   },
   {
    "duration": 0,
    "start_time": "2025-01-03T06:36:57.500Z"
   },
   {
    "duration": 0,
    "start_time": "2025-01-03T06:36:57.501Z"
   },
   {
    "duration": 0,
    "start_time": "2025-01-03T06:36:57.502Z"
   },
   {
    "duration": 0,
    "start_time": "2025-01-03T06:36:57.503Z"
   },
   {
    "duration": 0,
    "start_time": "2025-01-03T06:36:57.504Z"
   },
   {
    "duration": 0,
    "start_time": "2025-01-03T06:36:57.505Z"
   },
   {
    "duration": 0,
    "start_time": "2025-01-03T06:36:57.506Z"
   },
   {
    "duration": 0,
    "start_time": "2025-01-03T06:36:57.507Z"
   },
   {
    "duration": 0,
    "start_time": "2025-01-03T06:36:57.508Z"
   },
   {
    "duration": 0,
    "start_time": "2025-01-03T06:36:57.509Z"
   },
   {
    "duration": 0,
    "start_time": "2025-01-03T06:36:57.514Z"
   },
   {
    "duration": 0,
    "start_time": "2025-01-03T06:36:57.515Z"
   },
   {
    "duration": 0,
    "start_time": "2025-01-03T06:36:57.516Z"
   },
   {
    "duration": 0,
    "start_time": "2025-01-03T06:36:57.517Z"
   },
   {
    "duration": 0,
    "start_time": "2025-01-03T06:36:57.518Z"
   },
   {
    "duration": 0,
    "start_time": "2025-01-03T06:36:57.519Z"
   },
   {
    "duration": 0,
    "start_time": "2025-01-03T06:36:57.520Z"
   },
   {
    "duration": 0,
    "start_time": "2025-01-03T06:36:57.521Z"
   },
   {
    "duration": 0,
    "start_time": "2025-01-03T06:36:57.522Z"
   },
   {
    "duration": 0,
    "start_time": "2025-01-03T06:36:57.523Z"
   },
   {
    "duration": 0,
    "start_time": "2025-01-03T06:36:57.524Z"
   },
   {
    "duration": 0,
    "start_time": "2025-01-03T06:36:57.525Z"
   },
   {
    "duration": 0,
    "start_time": "2025-01-03T06:36:57.526Z"
   },
   {
    "duration": 0,
    "start_time": "2025-01-03T06:36:57.527Z"
   },
   {
    "duration": 0,
    "start_time": "2025-01-03T06:36:57.528Z"
   },
   {
    "duration": 0,
    "start_time": "2025-01-03T06:36:57.529Z"
   },
   {
    "duration": 0,
    "start_time": "2025-01-03T06:36:57.531Z"
   },
   {
    "duration": 0,
    "start_time": "2025-01-03T06:36:57.532Z"
   },
   {
    "duration": 0,
    "start_time": "2025-01-03T06:36:57.533Z"
   },
   {
    "duration": 0,
    "start_time": "2025-01-03T06:36:57.534Z"
   },
   {
    "duration": 0,
    "start_time": "2025-01-03T06:36:57.535Z"
   },
   {
    "duration": 0,
    "start_time": "2025-01-03T06:36:57.536Z"
   },
   {
    "duration": 0,
    "start_time": "2025-01-03T06:36:57.537Z"
   },
   {
    "duration": 0,
    "start_time": "2025-01-03T06:36:57.539Z"
   },
   {
    "duration": 0,
    "start_time": "2025-01-03T06:36:57.540Z"
   },
   {
    "duration": 0,
    "start_time": "2025-01-03T06:36:57.541Z"
   },
   {
    "duration": 0,
    "start_time": "2025-01-03T06:36:57.542Z"
   },
   {
    "duration": 1,
    "start_time": "2025-01-03T06:36:57.543Z"
   },
   {
    "duration": 0,
    "start_time": "2025-01-03T06:36:57.544Z"
   },
   {
    "duration": 0,
    "start_time": "2025-01-03T06:36:57.545Z"
   },
   {
    "duration": 0,
    "start_time": "2025-01-03T06:36:57.546Z"
   },
   {
    "duration": 0,
    "start_time": "2025-01-03T06:36:57.547Z"
   },
   {
    "duration": 0,
    "start_time": "2025-01-03T06:36:57.548Z"
   },
   {
    "duration": 0,
    "start_time": "2025-01-03T06:36:57.550Z"
   },
   {
    "duration": 0,
    "start_time": "2025-01-03T06:36:57.617Z"
   },
   {
    "duration": 0,
    "start_time": "2025-01-03T06:36:57.618Z"
   },
   {
    "duration": 0,
    "start_time": "2025-01-03T06:36:57.619Z"
   },
   {
    "duration": 0,
    "start_time": "2025-01-03T06:36:57.620Z"
   },
   {
    "duration": 737,
    "start_time": "2025-01-03T06:37:49.664Z"
   },
   {
    "duration": 18,
    "start_time": "2025-01-03T06:37:50.403Z"
   },
   {
    "duration": 2112,
    "start_time": "2025-01-03T06:37:50.423Z"
   },
   {
    "duration": 16,
    "start_time": "2025-01-03T06:37:52.537Z"
   },
   {
    "duration": 37,
    "start_time": "2025-01-03T06:37:52.555Z"
   },
   {
    "duration": 9,
    "start_time": "2025-01-03T06:37:52.594Z"
   },
   {
    "duration": 19,
    "start_time": "2025-01-03T06:37:52.604Z"
   },
   {
    "duration": 19,
    "start_time": "2025-01-03T06:37:52.624Z"
   },
   {
    "duration": 10,
    "start_time": "2025-01-03T06:37:52.645Z"
   },
   {
    "duration": 5,
    "start_time": "2025-01-03T06:37:52.658Z"
   },
   {
    "duration": 17,
    "start_time": "2025-01-03T06:37:52.664Z"
   },
   {
    "duration": 32,
    "start_time": "2025-01-03T06:37:52.683Z"
   },
   {
    "duration": 5,
    "start_time": "2025-01-03T06:37:52.717Z"
   },
   {
    "duration": 9,
    "start_time": "2025-01-03T06:37:52.723Z"
   },
   {
    "duration": 108,
    "start_time": "2025-01-03T06:37:52.734Z"
   },
   {
    "duration": 25,
    "start_time": "2025-01-03T06:37:52.843Z"
   },
   {
    "duration": 71,
    "start_time": "2025-01-03T06:37:52.870Z"
   },
   {
    "duration": 9,
    "start_time": "2025-01-03T06:37:52.942Z"
   },
   {
    "duration": 18,
    "start_time": "2025-01-03T06:37:52.953Z"
   },
   {
    "duration": 4,
    "start_time": "2025-01-03T06:37:52.972Z"
   },
   {
    "duration": 9,
    "start_time": "2025-01-03T06:37:52.978Z"
   },
   {
    "duration": 27,
    "start_time": "2025-01-03T06:37:52.988Z"
   },
   {
    "duration": 6,
    "start_time": "2025-01-03T06:37:53.017Z"
   },
   {
    "duration": 44,
    "start_time": "2025-01-03T06:37:53.024Z"
   },
   {
    "duration": 62,
    "start_time": "2025-01-03T06:37:53.069Z"
   },
   {
    "duration": 6,
    "start_time": "2025-01-03T06:37:53.132Z"
   },
   {
    "duration": 21,
    "start_time": "2025-01-03T06:37:53.139Z"
   },
   {
    "duration": 16,
    "start_time": "2025-01-03T06:37:53.165Z"
   },
   {
    "duration": 58,
    "start_time": "2025-01-03T06:37:53.182Z"
   },
   {
    "duration": 10,
    "start_time": "2025-01-03T06:37:53.242Z"
   },
   {
    "duration": 37,
    "start_time": "2025-01-03T06:37:53.254Z"
   },
   {
    "duration": 33,
    "start_time": "2025-01-03T06:37:53.293Z"
   },
   {
    "duration": 22,
    "start_time": "2025-01-03T06:37:53.327Z"
   },
   {
    "duration": 4,
    "start_time": "2025-01-03T06:37:53.351Z"
   },
   {
    "duration": 20,
    "start_time": "2025-01-03T06:37:53.356Z"
   },
   {
    "duration": 7,
    "start_time": "2025-01-03T06:37:53.377Z"
   },
   {
    "duration": 44,
    "start_time": "2025-01-03T06:37:53.385Z"
   },
   {
    "duration": 22,
    "start_time": "2025-01-03T06:37:53.430Z"
   },
   {
    "duration": 4,
    "start_time": "2025-01-03T06:37:53.454Z"
   },
   {
    "duration": 33,
    "start_time": "2025-01-03T06:37:53.459Z"
   },
   {
    "duration": 2336,
    "start_time": "2025-01-03T06:37:53.494Z"
   },
   {
    "duration": 31,
    "start_time": "2025-01-03T06:37:55.831Z"
   },
   {
    "duration": 40,
    "start_time": "2025-01-03T06:37:55.864Z"
   },
   {
    "duration": 12,
    "start_time": "2025-01-03T06:37:55.905Z"
   },
   {
    "duration": 5,
    "start_time": "2025-01-03T06:37:55.918Z"
   },
   {
    "duration": 5,
    "start_time": "2025-01-03T06:37:55.925Z"
   },
   {
    "duration": 5,
    "start_time": "2025-01-03T06:37:55.931Z"
   },
   {
    "duration": 344,
    "start_time": "2025-01-03T06:37:55.938Z"
   },
   {
    "duration": 5,
    "start_time": "2025-01-03T06:37:56.283Z"
   },
   {
    "duration": 190,
    "start_time": "2025-01-03T06:37:56.289Z"
   },
   {
    "duration": 220,
    "start_time": "2025-01-03T06:37:56.481Z"
   },
   {
    "duration": 192,
    "start_time": "2025-01-03T06:37:56.703Z"
   },
   {
    "duration": 302,
    "start_time": "2025-01-03T06:37:56.897Z"
   },
   {
    "duration": 178,
    "start_time": "2025-01-03T06:37:57.201Z"
   },
   {
    "duration": 185,
    "start_time": "2025-01-03T06:37:57.381Z"
   },
   {
    "duration": 185,
    "start_time": "2025-01-03T06:37:57.567Z"
   },
   {
    "duration": 176,
    "start_time": "2025-01-03T06:37:57.753Z"
   },
   {
    "duration": 192,
    "start_time": "2025-01-03T06:37:57.931Z"
   },
   {
    "duration": 195,
    "start_time": "2025-01-03T06:37:58.125Z"
   },
   {
    "duration": 201,
    "start_time": "2025-01-03T06:37:58.322Z"
   },
   {
    "duration": 390,
    "start_time": "2025-01-03T06:37:58.525Z"
   },
   {
    "duration": 410,
    "start_time": "2025-01-03T06:37:58.916Z"
   },
   {
    "duration": 9,
    "start_time": "2025-01-03T06:37:59.328Z"
   },
   {
    "duration": 403,
    "start_time": "2025-01-03T06:37:59.338Z"
   },
   {
    "duration": 5,
    "start_time": "2025-01-03T06:37:59.743Z"
   },
   {
    "duration": 484,
    "start_time": "2025-01-03T06:37:59.750Z"
   },
   {
    "duration": 5,
    "start_time": "2025-01-03T06:38:00.236Z"
   },
   {
    "duration": 225,
    "start_time": "2025-01-03T06:38:00.243Z"
   },
   {
    "duration": 6,
    "start_time": "2025-01-03T06:38:00.470Z"
   },
   {
    "duration": 221,
    "start_time": "2025-01-03T06:38:00.477Z"
   },
   {
    "duration": 6,
    "start_time": "2025-01-03T06:38:00.700Z"
   },
   {
    "duration": 201,
    "start_time": "2025-01-03T06:38:00.715Z"
   },
   {
    "duration": 192,
    "start_time": "2025-01-03T06:38:00.917Z"
   },
   {
    "duration": 7,
    "start_time": "2025-01-03T06:38:01.110Z"
   },
   {
    "duration": 190,
    "start_time": "2025-01-03T06:38:01.118Z"
   },
   {
    "duration": 8,
    "start_time": "2025-01-03T06:38:01.310Z"
   },
   {
    "duration": 193,
    "start_time": "2025-01-03T06:38:01.319Z"
   },
   {
    "duration": 5,
    "start_time": "2025-01-03T06:38:01.514Z"
   },
   {
    "duration": 13,
    "start_time": "2025-01-03T06:38:01.521Z"
   },
   {
    "duration": 39,
    "start_time": "2025-01-03T06:38:01.535Z"
   },
   {
    "duration": 42,
    "start_time": "2025-01-03T06:38:01.576Z"
   },
   {
    "duration": 36,
    "start_time": "2025-01-03T06:38:01.624Z"
   },
   {
    "duration": 187,
    "start_time": "2025-01-03T06:38:01.662Z"
   },
   {
    "duration": 72,
    "start_time": "2025-01-03T06:59:29.692Z"
   },
   {
    "duration": 43,
    "start_time": "2025-01-03T07:00:24.485Z"
   },
   {
    "duration": 42,
    "start_time": "2025-01-03T07:00:34.202Z"
   },
   {
    "duration": 24,
    "start_time": "2025-01-03T07:01:05.897Z"
   },
   {
    "duration": 831,
    "start_time": "2025-01-03T07:03:01.187Z"
   },
   {
    "duration": 14,
    "start_time": "2025-01-03T07:03:02.021Z"
   },
   {
    "duration": 2175,
    "start_time": "2025-01-03T07:03:02.036Z"
   },
   {
    "duration": 14,
    "start_time": "2025-01-03T07:03:04.213Z"
   },
   {
    "duration": 31,
    "start_time": "2025-01-03T07:03:04.230Z"
   },
   {
    "duration": 19,
    "start_time": "2025-01-03T07:03:04.263Z"
   },
   {
    "duration": 26,
    "start_time": "2025-01-03T07:03:04.284Z"
   },
   {
    "duration": 26,
    "start_time": "2025-01-03T07:03:04.312Z"
   },
   {
    "duration": 30,
    "start_time": "2025-01-03T07:03:04.340Z"
   },
   {
    "duration": 5,
    "start_time": "2025-01-03T07:03:04.372Z"
   },
   {
    "duration": 16,
    "start_time": "2025-01-03T07:03:04.379Z"
   },
   {
    "duration": 14,
    "start_time": "2025-01-03T07:03:04.396Z"
   },
   {
    "duration": 13,
    "start_time": "2025-01-03T07:03:04.412Z"
   },
   {
    "duration": 5,
    "start_time": "2025-01-03T07:03:04.428Z"
   },
   {
    "duration": 115,
    "start_time": "2025-01-03T07:03:04.435Z"
   },
   {
    "duration": 26,
    "start_time": "2025-01-03T07:03:04.551Z"
   },
   {
    "duration": 10,
    "start_time": "2025-01-03T07:03:04.579Z"
   },
   {
    "duration": 38,
    "start_time": "2025-01-03T07:03:04.591Z"
   },
   {
    "duration": 5,
    "start_time": "2025-01-03T07:03:04.631Z"
   },
   {
    "duration": 24,
    "start_time": "2025-01-03T07:03:04.637Z"
   },
   {
    "duration": 10,
    "start_time": "2025-01-03T07:03:04.662Z"
   },
   {
    "duration": 5,
    "start_time": "2025-01-03T07:03:04.674Z"
   },
   {
    "duration": 22,
    "start_time": "2025-01-03T07:03:04.681Z"
   },
   {
    "duration": 187,
    "start_time": "2025-01-03T07:03:04.704Z"
   },
   {
    "duration": 5,
    "start_time": "2025-01-03T07:03:04.893Z"
   },
   {
    "duration": 30,
    "start_time": "2025-01-03T07:03:04.899Z"
   },
   {
    "duration": 16,
    "start_time": "2025-01-03T07:03:04.930Z"
   },
   {
    "duration": 67,
    "start_time": "2025-01-03T07:03:04.948Z"
   },
   {
    "duration": 14,
    "start_time": "2025-01-03T07:03:05.017Z"
   },
   {
    "duration": 54,
    "start_time": "2025-01-03T07:03:05.033Z"
   },
   {
    "duration": 12,
    "start_time": "2025-01-03T07:03:05.088Z"
   },
   {
    "duration": 32,
    "start_time": "2025-01-03T07:03:05.101Z"
   },
   {
    "duration": 4,
    "start_time": "2025-01-03T07:03:05.135Z"
   },
   {
    "duration": 27,
    "start_time": "2025-01-03T07:03:05.140Z"
   },
   {
    "duration": 11,
    "start_time": "2025-01-03T07:03:05.169Z"
   },
   {
    "duration": 23,
    "start_time": "2025-01-03T07:03:05.181Z"
   },
   {
    "duration": 26,
    "start_time": "2025-01-03T07:03:05.205Z"
   },
   {
    "duration": 4,
    "start_time": "2025-01-03T07:03:05.233Z"
   },
   {
    "duration": 43,
    "start_time": "2025-01-03T07:03:05.239Z"
   },
   {
    "duration": 2391,
    "start_time": "2025-01-03T07:03:05.284Z"
   },
   {
    "duration": 43,
    "start_time": "2025-01-03T07:03:07.680Z"
   },
   {
    "duration": 8,
    "start_time": "2025-01-03T07:03:07.725Z"
   },
   {
    "duration": 30,
    "start_time": "2025-01-03T07:03:07.735Z"
   },
   {
    "duration": 21,
    "start_time": "2025-01-03T07:03:07.767Z"
   },
   {
    "duration": 22,
    "start_time": "2025-01-03T07:03:07.790Z"
   },
   {
    "duration": 6,
    "start_time": "2025-01-03T07:03:07.814Z"
   },
   {
    "duration": 323,
    "start_time": "2025-01-03T07:03:07.821Z"
   },
   {
    "duration": 4,
    "start_time": "2025-01-03T07:03:08.146Z"
   },
   {
    "duration": 187,
    "start_time": "2025-01-03T07:03:08.151Z"
   },
   {
    "duration": 179,
    "start_time": "2025-01-03T07:03:08.340Z"
   },
   {
    "duration": 187,
    "start_time": "2025-01-03T07:03:08.521Z"
   },
   {
    "duration": 291,
    "start_time": "2025-01-03T07:03:08.710Z"
   },
   {
    "duration": 184,
    "start_time": "2025-01-03T07:03:09.003Z"
   },
   {
    "duration": 189,
    "start_time": "2025-01-03T07:03:09.189Z"
   },
   {
    "duration": 178,
    "start_time": "2025-01-03T07:03:09.380Z"
   },
   {
    "duration": 180,
    "start_time": "2025-01-03T07:03:09.560Z"
   },
   {
    "duration": 180,
    "start_time": "2025-01-03T07:03:09.742Z"
   },
   {
    "duration": 201,
    "start_time": "2025-01-03T07:03:09.923Z"
   },
   {
    "duration": 199,
    "start_time": "2025-01-03T07:03:10.126Z"
   },
   {
    "duration": 199,
    "start_time": "2025-01-03T07:03:10.327Z"
   },
   {
    "duration": 207,
    "start_time": "2025-01-03T07:03:10.527Z"
   },
   {
    "duration": 8,
    "start_time": "2025-01-03T07:03:10.735Z"
   },
   {
    "duration": 399,
    "start_time": "2025-01-03T07:03:10.745Z"
   },
   {
    "duration": 6,
    "start_time": "2025-01-03T07:03:11.145Z"
   },
   {
    "duration": 195,
    "start_time": "2025-01-03T07:03:11.152Z"
   },
   {
    "duration": 5,
    "start_time": "2025-01-03T07:03:11.349Z"
   },
   {
    "duration": 186,
    "start_time": "2025-01-03T07:03:11.356Z"
   },
   {
    "duration": 5,
    "start_time": "2025-01-03T07:03:11.544Z"
   },
   {
    "duration": 200,
    "start_time": "2025-01-03T07:03:11.551Z"
   },
   {
    "duration": 5,
    "start_time": "2025-01-03T07:03:11.753Z"
   },
   {
    "duration": 190,
    "start_time": "2025-01-03T07:03:11.760Z"
   },
   {
    "duration": 184,
    "start_time": "2025-01-03T07:03:11.952Z"
   },
   {
    "duration": 5,
    "start_time": "2025-01-03T07:03:12.137Z"
   },
   {
    "duration": 192,
    "start_time": "2025-01-03T07:03:12.144Z"
   },
   {
    "duration": 5,
    "start_time": "2025-01-03T07:03:12.338Z"
   },
   {
    "duration": 194,
    "start_time": "2025-01-03T07:03:12.344Z"
   },
   {
    "duration": 6,
    "start_time": "2025-01-03T07:03:12.539Z"
   },
   {
    "duration": 9,
    "start_time": "2025-01-03T07:03:12.546Z"
   },
   {
    "duration": 13,
    "start_time": "2025-01-03T07:03:12.557Z"
   },
   {
    "duration": 20,
    "start_time": "2025-01-03T07:03:12.572Z"
   },
   {
    "duration": 6,
    "start_time": "2025-01-03T07:03:12.615Z"
   },
   {
    "duration": 194,
    "start_time": "2025-01-03T07:03:12.623Z"
   },
   {
    "duration": 17,
    "start_time": "2025-01-03T07:03:53.958Z"
   },
   {
    "duration": 17,
    "start_time": "2025-01-03T07:04:39.493Z"
   },
   {
    "duration": 821,
    "start_time": "2025-01-03T07:55:14.887Z"
   },
   {
    "duration": 16,
    "start_time": "2025-01-03T07:55:15.714Z"
   },
   {
    "duration": 2091,
    "start_time": "2025-01-03T07:55:15.732Z"
   },
   {
    "duration": 15,
    "start_time": "2025-01-03T07:55:17.826Z"
   },
   {
    "duration": 27,
    "start_time": "2025-01-03T07:55:17.843Z"
   },
   {
    "duration": 10,
    "start_time": "2025-01-03T07:55:17.871Z"
   },
   {
    "duration": 33,
    "start_time": "2025-01-03T07:55:17.882Z"
   },
   {
    "duration": 10,
    "start_time": "2025-01-03T07:55:17.917Z"
   },
   {
    "duration": 9,
    "start_time": "2025-01-03T07:55:17.928Z"
   },
   {
    "duration": 9,
    "start_time": "2025-01-03T07:55:17.940Z"
   },
   {
    "duration": 14,
    "start_time": "2025-01-03T07:55:17.950Z"
   },
   {
    "duration": 8,
    "start_time": "2025-01-03T07:55:17.966Z"
   },
   {
    "duration": 18,
    "start_time": "2025-01-03T07:55:17.976Z"
   },
   {
    "duration": 21,
    "start_time": "2025-01-03T07:55:17.995Z"
   },
   {
    "duration": 107,
    "start_time": "2025-01-03T07:55:18.018Z"
   },
   {
    "duration": 25,
    "start_time": "2025-01-03T07:55:18.127Z"
   },
   {
    "duration": 17,
    "start_time": "2025-01-03T07:55:18.154Z"
   },
   {
    "duration": 40,
    "start_time": "2025-01-03T07:55:18.172Z"
   },
   {
    "duration": 121,
    "start_time": "2025-01-03T07:55:18.214Z"
   },
   {
    "duration": 64,
    "start_time": "2025-01-03T07:55:18.336Z"
   },
   {
    "duration": 4,
    "start_time": "2025-01-03T07:55:18.401Z"
   },
   {
    "duration": 8,
    "start_time": "2025-01-03T07:55:18.407Z"
   },
   {
    "duration": 14,
    "start_time": "2025-01-03T07:55:18.417Z"
   },
   {
    "duration": 6,
    "start_time": "2025-01-03T07:55:18.433Z"
   },
   {
    "duration": 16,
    "start_time": "2025-01-03T07:55:18.440Z"
   },
   {
    "duration": 65,
    "start_time": "2025-01-03T07:55:18.457Z"
   },
   {
    "duration": 7,
    "start_time": "2025-01-03T07:55:18.524Z"
   },
   {
    "duration": 36,
    "start_time": "2025-01-03T07:55:18.535Z"
   },
   {
    "duration": 13,
    "start_time": "2025-01-03T07:55:18.573Z"
   },
   {
    "duration": 48,
    "start_time": "2025-01-03T07:55:18.588Z"
   },
   {
    "duration": 21,
    "start_time": "2025-01-03T07:55:18.638Z"
   },
   {
    "duration": 22,
    "start_time": "2025-01-03T07:55:18.661Z"
   },
   {
    "duration": 13,
    "start_time": "2025-01-03T07:55:18.685Z"
   },
   {
    "duration": 37,
    "start_time": "2025-01-03T07:55:18.700Z"
   },
   {
    "duration": 25,
    "start_time": "2025-01-03T07:55:18.738Z"
   },
   {
    "duration": 3,
    "start_time": "2025-01-03T07:55:18.765Z"
   },
   {
    "duration": 28,
    "start_time": "2025-01-03T07:55:18.770Z"
   },
   {
    "duration": 2365,
    "start_time": "2025-01-03T07:55:18.799Z"
   },
   {
    "duration": 35,
    "start_time": "2025-01-03T07:55:21.166Z"
   },
   {
    "duration": 17,
    "start_time": "2025-01-03T07:55:21.215Z"
   },
   {
    "duration": 31,
    "start_time": "2025-01-03T07:55:21.234Z"
   },
   {
    "duration": 25,
    "start_time": "2025-01-03T07:55:21.266Z"
   },
   {
    "duration": 27,
    "start_time": "2025-01-03T07:55:21.293Z"
   },
   {
    "duration": 20,
    "start_time": "2025-01-03T07:55:21.322Z"
   },
   {
    "duration": 328,
    "start_time": "2025-01-03T07:55:21.344Z"
   },
   {
    "duration": 4,
    "start_time": "2025-01-03T07:55:21.674Z"
   },
   {
    "duration": 213,
    "start_time": "2025-01-03T07:55:21.679Z"
   },
   {
    "duration": 184,
    "start_time": "2025-01-03T07:55:21.894Z"
   },
   {
    "duration": 262,
    "start_time": "2025-01-03T07:55:22.079Z"
   },
   {
    "duration": 365,
    "start_time": "2025-01-03T07:55:22.342Z"
   },
   {
    "duration": 181,
    "start_time": "2025-01-03T07:55:22.708Z"
   },
   {
    "duration": 189,
    "start_time": "2025-01-03T07:55:22.891Z"
   },
   {
    "duration": 179,
    "start_time": "2025-01-03T07:55:23.082Z"
   },
   {
    "duration": 182,
    "start_time": "2025-01-03T07:55:23.263Z"
   },
   {
    "duration": 184,
    "start_time": "2025-01-03T07:55:23.447Z"
   },
   {
    "duration": 188,
    "start_time": "2025-01-03T07:55:23.633Z"
   },
   {
    "duration": 195,
    "start_time": "2025-01-03T07:55:23.823Z"
   },
   {
    "duration": 194,
    "start_time": "2025-01-03T07:55:24.020Z"
   },
   {
    "duration": 193,
    "start_time": "2025-01-03T07:55:24.215Z"
   },
   {
    "duration": 10,
    "start_time": "2025-01-03T07:55:24.410Z"
   },
   {
    "duration": 333,
    "start_time": "2025-01-03T07:55:24.422Z"
   },
   {
    "duration": 5,
    "start_time": "2025-01-03T07:55:24.756Z"
   },
   {
    "duration": 185,
    "start_time": "2025-01-03T07:55:24.763Z"
   },
   {
    "duration": 5,
    "start_time": "2025-01-03T07:55:24.950Z"
   },
   {
    "duration": 216,
    "start_time": "2025-01-03T07:55:24.956Z"
   },
   {
    "duration": 5,
    "start_time": "2025-01-03T07:55:25.174Z"
   },
   {
    "duration": 219,
    "start_time": "2025-01-03T07:55:25.180Z"
   },
   {
    "duration": 5,
    "start_time": "2025-01-03T07:55:25.401Z"
   },
   {
    "duration": 179,
    "start_time": "2025-01-03T07:55:25.414Z"
   },
   {
    "duration": 181,
    "start_time": "2025-01-03T07:55:25.595Z"
   },
   {
    "duration": 5,
    "start_time": "2025-01-03T07:55:25.778Z"
   },
   {
    "duration": 189,
    "start_time": "2025-01-03T07:55:25.784Z"
   },
   {
    "duration": 5,
    "start_time": "2025-01-03T07:55:25.975Z"
   },
   {
    "duration": 197,
    "start_time": "2025-01-03T07:55:25.982Z"
   },
   {
    "duration": 6,
    "start_time": "2025-01-03T07:55:26.180Z"
   },
   {
    "duration": 126,
    "start_time": "2025-01-03T07:55:26.187Z"
   },
   {
    "duration": 128,
    "start_time": "2025-01-03T07:55:26.315Z"
   },
   {
    "duration": 35,
    "start_time": "2025-01-03T07:55:26.445Z"
   },
   {
    "duration": 14,
    "start_time": "2025-01-03T07:55:26.482Z"
   },
   {
    "duration": 195,
    "start_time": "2025-01-03T07:55:26.498Z"
   },
   {
    "duration": 16,
    "start_time": "2025-01-03T08:09:23.453Z"
   },
   {
    "duration": 46,
    "start_time": "2025-01-03T08:09:23.471Z"
   },
   {
    "duration": 10,
    "start_time": "2025-01-03T08:09:23.518Z"
   },
   {
    "duration": 35,
    "start_time": "2025-01-03T08:09:23.530Z"
   },
   {
    "duration": 2672,
    "start_time": "2025-01-03T08:09:23.568Z"
   },
   {
    "duration": 23,
    "start_time": "2025-01-03T08:09:26.242Z"
   },
   {
    "duration": 131,
    "start_time": "2025-01-03T08:09:26.267Z"
   },
   {
    "duration": 93,
    "start_time": "2025-01-03T08:09:26.400Z"
   },
   {
    "duration": 12,
    "start_time": "2025-01-03T08:09:26.495Z"
   },
   {
    "duration": 14,
    "start_time": "2025-01-03T08:09:26.508Z"
   },
   {
    "duration": 7,
    "start_time": "2025-01-03T08:09:26.524Z"
   },
   {
    "duration": 344,
    "start_time": "2025-01-03T08:09:26.533Z"
   },
   {
    "duration": 4,
    "start_time": "2025-01-03T08:09:26.879Z"
   },
   {
    "duration": 201,
    "start_time": "2025-01-03T08:09:26.886Z"
   },
   {
    "duration": 192,
    "start_time": "2025-01-03T08:09:27.089Z"
   },
   {
    "duration": 196,
    "start_time": "2025-01-03T08:09:27.283Z"
   },
   {
    "duration": 190,
    "start_time": "2025-01-03T08:09:27.481Z"
   },
   {
    "duration": 181,
    "start_time": "2025-01-03T08:09:27.673Z"
   },
   {
    "duration": 195,
    "start_time": "2025-01-03T08:09:27.855Z"
   },
   {
    "duration": 371,
    "start_time": "2025-01-03T08:09:28.051Z"
   },
   {
    "duration": 179,
    "start_time": "2025-01-03T08:09:28.424Z"
   },
   {
    "duration": 187,
    "start_time": "2025-01-03T08:09:28.604Z"
   },
   {
    "duration": 170,
    "start_time": "2025-01-03T08:09:28.793Z"
   },
   {
    "duration": 197,
    "start_time": "2025-01-03T08:09:28.965Z"
   },
   {
    "duration": 203,
    "start_time": "2025-01-03T08:09:29.164Z"
   },
   {
    "duration": 206,
    "start_time": "2025-01-03T08:09:29.368Z"
   },
   {
    "duration": 8,
    "start_time": "2025-01-03T08:09:29.576Z"
   },
   {
    "duration": 203,
    "start_time": "2025-01-03T08:09:29.586Z"
   },
   {
    "duration": 5,
    "start_time": "2025-01-03T08:09:29.791Z"
   },
   {
    "duration": 199,
    "start_time": "2025-01-03T08:09:29.797Z"
   },
   {
    "duration": 5,
    "start_time": "2025-01-03T08:09:29.997Z"
   },
   {
    "duration": 222,
    "start_time": "2025-01-03T08:09:30.004Z"
   },
   {
    "duration": 5,
    "start_time": "2025-01-03T08:09:30.227Z"
   },
   {
    "duration": 279,
    "start_time": "2025-01-03T08:09:30.234Z"
   },
   {
    "duration": 36,
    "start_time": "2025-01-03T08:09:30.515Z"
   },
   {
    "duration": 211,
    "start_time": "2025-01-03T08:09:30.553Z"
   },
   {
    "duration": 192,
    "start_time": "2025-01-03T08:09:30.766Z"
   },
   {
    "duration": 6,
    "start_time": "2025-01-03T08:09:30.959Z"
   },
   {
    "duration": 195,
    "start_time": "2025-01-03T08:09:30.966Z"
   },
   {
    "duration": 5,
    "start_time": "2025-01-03T08:09:31.163Z"
   },
   {
    "duration": 199,
    "start_time": "2025-01-03T08:09:31.172Z"
   },
   {
    "duration": 5,
    "start_time": "2025-01-03T08:09:31.373Z"
   },
   {
    "duration": 4,
    "start_time": "2025-01-03T08:09:31.380Z"
   },
   {
    "duration": 10,
    "start_time": "2025-01-03T08:09:31.386Z"
   },
   {
    "duration": 21,
    "start_time": "2025-01-03T08:09:31.415Z"
   },
   {
    "duration": 18,
    "start_time": "2025-01-03T08:09:31.438Z"
   },
   {
    "duration": 195,
    "start_time": "2025-01-03T08:09:31.457Z"
   },
   {
    "duration": 810,
    "start_time": "2025-01-03T08:11:18.311Z"
   },
   {
    "duration": 16,
    "start_time": "2025-01-03T08:11:19.123Z"
   },
   {
    "duration": 2154,
    "start_time": "2025-01-03T08:11:19.141Z"
   },
   {
    "duration": 15,
    "start_time": "2025-01-03T08:11:21.297Z"
   },
   {
    "duration": 25,
    "start_time": "2025-01-03T08:11:21.315Z"
   },
   {
    "duration": 9,
    "start_time": "2025-01-03T08:11:21.342Z"
   },
   {
    "duration": 17,
    "start_time": "2025-01-03T08:11:21.352Z"
   },
   {
    "duration": 13,
    "start_time": "2025-01-03T08:11:21.371Z"
   },
   {
    "duration": 10,
    "start_time": "2025-01-03T08:11:21.385Z"
   },
   {
    "duration": 6,
    "start_time": "2025-01-03T08:11:21.414Z"
   },
   {
    "duration": 28,
    "start_time": "2025-01-03T08:11:21.422Z"
   },
   {
    "duration": 3,
    "start_time": "2025-01-03T08:11:21.452Z"
   },
   {
    "duration": 18,
    "start_time": "2025-01-03T08:11:21.457Z"
   },
   {
    "duration": 26,
    "start_time": "2025-01-03T08:11:21.479Z"
   },
   {
    "duration": 100,
    "start_time": "2025-01-03T08:11:21.507Z"
   },
   {
    "duration": 25,
    "start_time": "2025-01-03T08:11:21.609Z"
   },
   {
    "duration": 10,
    "start_time": "2025-01-03T08:11:21.636Z"
   },
   {
    "duration": 19,
    "start_time": "2025-01-03T08:11:21.648Z"
   },
   {
    "duration": 4,
    "start_time": "2025-01-03T08:11:21.669Z"
   },
   {
    "duration": 6,
    "start_time": "2025-01-03T08:11:21.675Z"
   },
   {
    "duration": 34,
    "start_time": "2025-01-03T08:11:21.682Z"
   },
   {
    "duration": 4,
    "start_time": "2025-01-03T08:11:21.718Z"
   },
   {
    "duration": 19,
    "start_time": "2025-01-03T08:11:21.723Z"
   },
   {
    "duration": 6,
    "start_time": "2025-01-03T08:11:21.744Z"
   },
   {
    "duration": 21,
    "start_time": "2025-01-03T08:11:21.751Z"
   },
   {
    "duration": 71,
    "start_time": "2025-01-03T08:11:21.773Z"
   },
   {
    "duration": 8,
    "start_time": "2025-01-03T08:11:21.845Z"
   },
   {
    "duration": 49,
    "start_time": "2025-01-03T08:11:21.855Z"
   },
   {
    "duration": 22,
    "start_time": "2025-01-03T08:11:21.905Z"
   },
   {
    "duration": 36,
    "start_time": "2025-01-03T08:11:21.928Z"
   },
   {
    "duration": 4,
    "start_time": "2025-01-03T08:11:21.965Z"
   },
   {
    "duration": 20,
    "start_time": "2025-01-03T08:11:21.971Z"
   },
   {
    "duration": 9,
    "start_time": "2025-01-03T08:11:21.993Z"
   },
   {
    "duration": 34,
    "start_time": "2025-01-03T08:11:22.004Z"
   },
   {
    "duration": 25,
    "start_time": "2025-01-03T08:11:22.039Z"
   },
   {
    "duration": 3,
    "start_time": "2025-01-03T08:11:22.066Z"
   },
   {
    "duration": 20,
    "start_time": "2025-01-03T08:11:22.071Z"
   },
   {
    "duration": 2493,
    "start_time": "2025-01-03T08:11:22.114Z"
   },
   {
    "duration": 35,
    "start_time": "2025-01-03T08:11:24.608Z"
   },
   {
    "duration": 16,
    "start_time": "2025-01-03T08:11:24.644Z"
   },
   {
    "duration": 11,
    "start_time": "2025-01-03T08:11:24.665Z"
   },
   {
    "duration": 6,
    "start_time": "2025-01-03T08:11:24.677Z"
   },
   {
    "duration": 14,
    "start_time": "2025-01-03T08:11:24.684Z"
   },
   {
    "duration": 19,
    "start_time": "2025-01-03T08:11:24.699Z"
   },
   {
    "duration": 330,
    "start_time": "2025-01-03T08:11:24.719Z"
   },
   {
    "duration": 4,
    "start_time": "2025-01-03T08:11:25.051Z"
   },
   {
    "duration": 185,
    "start_time": "2025-01-03T08:11:25.056Z"
   },
   {
    "duration": 197,
    "start_time": "2025-01-03T08:11:25.242Z"
   },
   {
    "duration": 186,
    "start_time": "2025-01-03T08:11:25.441Z"
   },
   {
    "duration": 302,
    "start_time": "2025-01-03T08:11:25.629Z"
   },
   {
    "duration": 186,
    "start_time": "2025-01-03T08:11:25.933Z"
   },
   {
    "duration": 188,
    "start_time": "2025-01-03T08:11:26.121Z"
   },
   {
    "duration": 178,
    "start_time": "2025-01-03T08:11:26.314Z"
   },
   {
    "duration": 199,
    "start_time": "2025-01-03T08:11:26.493Z"
   },
   {
    "duration": 182,
    "start_time": "2025-01-03T08:11:26.693Z"
   },
   {
    "duration": 186,
    "start_time": "2025-01-03T08:11:26.877Z"
   },
   {
    "duration": 199,
    "start_time": "2025-01-03T08:11:27.064Z"
   },
   {
    "duration": 194,
    "start_time": "2025-01-03T08:11:27.265Z"
   },
   {
    "duration": 201,
    "start_time": "2025-01-03T08:11:27.461Z"
   },
   {
    "duration": 8,
    "start_time": "2025-01-03T08:11:27.664Z"
   },
   {
    "duration": 203,
    "start_time": "2025-01-03T08:11:27.674Z"
   },
   {
    "duration": 6,
    "start_time": "2025-01-03T08:11:27.879Z"
   },
   {
    "duration": 336,
    "start_time": "2025-01-03T08:11:27.887Z"
   },
   {
    "duration": 6,
    "start_time": "2025-01-03T08:11:28.225Z"
   },
   {
    "duration": 193,
    "start_time": "2025-01-03T08:11:28.233Z"
   },
   {
    "duration": 6,
    "start_time": "2025-01-03T08:11:28.429Z"
   },
   {
    "duration": 247,
    "start_time": "2025-01-03T08:11:28.436Z"
   },
   {
    "duration": 5,
    "start_time": "2025-01-03T08:11:28.685Z"
   },
   {
    "duration": 180,
    "start_time": "2025-01-03T08:11:28.692Z"
   },
   {
    "duration": 192,
    "start_time": "2025-01-03T08:11:28.874Z"
   },
   {
    "duration": 7,
    "start_time": "2025-01-03T08:11:29.068Z"
   },
   {
    "duration": 195,
    "start_time": "2025-01-03T08:11:29.077Z"
   },
   {
    "duration": 7,
    "start_time": "2025-01-03T08:11:29.274Z"
   },
   {
    "duration": 201,
    "start_time": "2025-01-03T08:11:29.283Z"
   },
   {
    "duration": 6,
    "start_time": "2025-01-03T08:11:29.486Z"
   },
   {
    "duration": 21,
    "start_time": "2025-01-03T08:11:29.494Z"
   },
   {
    "duration": 10,
    "start_time": "2025-01-03T08:11:29.517Z"
   },
   {
    "duration": 22,
    "start_time": "2025-01-03T08:11:29.529Z"
   },
   {
    "duration": 7,
    "start_time": "2025-01-03T08:11:29.553Z"
   },
   {
    "duration": 206,
    "start_time": "2025-01-03T08:11:29.563Z"
   },
   {
    "duration": 188,
    "start_time": "2025-01-03T08:34:15.791Z"
   },
   {
    "duration": 150,
    "start_time": "2025-01-03T08:34:29.573Z"
   },
   {
    "duration": 172,
    "start_time": "2025-01-03T08:38:03.070Z"
   },
   {
    "duration": 199,
    "start_time": "2025-01-03T08:38:13.616Z"
   },
   {
    "duration": 184,
    "start_time": "2025-01-03T08:39:47.180Z"
   },
   {
    "duration": 12,
    "start_time": "2025-01-03T08:48:25.758Z"
   },
   {
    "duration": 7,
    "start_time": "2025-01-03T08:57:26.306Z"
   },
   {
    "duration": 36,
    "start_time": "2025-01-03T13:10:12.286Z"
   },
   {
    "duration": 36,
    "start_time": "2025-01-03T13:10:32.296Z"
   },
   {
    "duration": 810,
    "start_time": "2025-01-03T13:12:22.300Z"
   },
   {
    "duration": 16,
    "start_time": "2025-01-03T13:12:23.113Z"
   },
   {
    "duration": 2107,
    "start_time": "2025-01-03T13:12:23.131Z"
   },
   {
    "duration": 18,
    "start_time": "2025-01-03T13:12:25.240Z"
   },
   {
    "duration": 25,
    "start_time": "2025-01-03T13:12:25.260Z"
   },
   {
    "duration": 33,
    "start_time": "2025-01-03T13:12:25.287Z"
   },
   {
    "duration": 17,
    "start_time": "2025-01-03T13:12:25.322Z"
   },
   {
    "duration": 10,
    "start_time": "2025-01-03T13:12:25.340Z"
   },
   {
    "duration": 28,
    "start_time": "2025-01-03T13:12:25.352Z"
   },
   {
    "duration": 5,
    "start_time": "2025-01-03T13:12:25.382Z"
   },
   {
    "duration": 45,
    "start_time": "2025-01-03T13:12:25.389Z"
   },
   {
    "duration": 4,
    "start_time": "2025-01-03T13:12:25.437Z"
   },
   {
    "duration": 13,
    "start_time": "2025-01-03T13:12:25.443Z"
   },
   {
    "duration": 2,
    "start_time": "2025-01-03T13:12:25.460Z"
   },
   {
    "duration": 101,
    "start_time": "2025-01-03T13:12:25.464Z"
   },
   {
    "duration": 27,
    "start_time": "2025-01-03T13:12:25.567Z"
   },
   {
    "duration": 24,
    "start_time": "2025-01-03T13:12:25.595Z"
   },
   {
    "duration": 38,
    "start_time": "2025-01-03T13:12:25.620Z"
   },
   {
    "duration": 9,
    "start_time": "2025-01-03T13:12:25.659Z"
   },
   {
    "duration": 27,
    "start_time": "2025-01-03T13:12:25.669Z"
   },
   {
    "duration": 10,
    "start_time": "2025-01-03T13:12:25.697Z"
   },
   {
    "duration": 19,
    "start_time": "2025-01-03T13:12:25.708Z"
   },
   {
    "duration": 57,
    "start_time": "2025-01-03T13:12:25.729Z"
   },
   {
    "duration": 15,
    "start_time": "2025-01-03T13:12:25.788Z"
   },
   {
    "duration": 16,
    "start_time": "2025-01-03T13:12:25.805Z"
   },
   {
    "duration": 91,
    "start_time": "2025-01-03T13:12:25.823Z"
   },
   {
    "duration": 8,
    "start_time": "2025-01-03T13:12:25.915Z"
   },
   {
    "duration": 37,
    "start_time": "2025-01-03T13:12:25.925Z"
   },
   {
    "duration": 13,
    "start_time": "2025-01-03T13:12:25.964Z"
   },
   {
    "duration": 46,
    "start_time": "2025-01-03T13:12:25.979Z"
   },
   {
    "duration": 4,
    "start_time": "2025-01-03T13:12:26.027Z"
   },
   {
    "duration": 12,
    "start_time": "2025-01-03T13:12:26.032Z"
   },
   {
    "duration": 17,
    "start_time": "2025-01-03T13:12:26.046Z"
   },
   {
    "duration": 24,
    "start_time": "2025-01-03T13:12:26.066Z"
   },
   {
    "duration": 40,
    "start_time": "2025-01-03T13:12:26.091Z"
   },
   {
    "duration": 2,
    "start_time": "2025-01-03T13:12:26.133Z"
   },
   {
    "duration": 33,
    "start_time": "2025-01-03T13:12:26.136Z"
   },
   {
    "duration": 2392,
    "start_time": "2025-01-03T13:12:26.171Z"
   },
   {
    "duration": 32,
    "start_time": "2025-01-03T13:12:28.564Z"
   },
   {
    "duration": 20,
    "start_time": "2025-01-03T13:12:28.597Z"
   },
   {
    "duration": 3,
    "start_time": "2025-01-03T13:12:28.621Z"
   },
   {
    "duration": 7,
    "start_time": "2025-01-03T13:12:28.625Z"
   },
   {
    "duration": 6,
    "start_time": "2025-01-03T13:12:28.633Z"
   },
   {
    "duration": 9,
    "start_time": "2025-01-03T13:12:28.641Z"
   },
   {
    "duration": 336,
    "start_time": "2025-01-03T13:12:28.651Z"
   },
   {
    "duration": 83,
    "start_time": "2025-01-03T13:12:28.988Z"
   },
   {
    "duration": 0,
    "start_time": "2025-01-03T13:12:29.072Z"
   },
   {
    "duration": 0,
    "start_time": "2025-01-03T13:12:29.074Z"
   },
   {
    "duration": 0,
    "start_time": "2025-01-03T13:12:29.075Z"
   },
   {
    "duration": 0,
    "start_time": "2025-01-03T13:12:29.076Z"
   },
   {
    "duration": 0,
    "start_time": "2025-01-03T13:12:29.077Z"
   },
   {
    "duration": 0,
    "start_time": "2025-01-03T13:12:29.078Z"
   },
   {
    "duration": 0,
    "start_time": "2025-01-03T13:12:29.079Z"
   },
   {
    "duration": 0,
    "start_time": "2025-01-03T13:12:29.080Z"
   },
   {
    "duration": 0,
    "start_time": "2025-01-03T13:12:29.081Z"
   },
   {
    "duration": 0,
    "start_time": "2025-01-03T13:12:29.082Z"
   },
   {
    "duration": 0,
    "start_time": "2025-01-03T13:12:29.083Z"
   },
   {
    "duration": 0,
    "start_time": "2025-01-03T13:12:29.084Z"
   },
   {
    "duration": 0,
    "start_time": "2025-01-03T13:12:29.085Z"
   },
   {
    "duration": 0,
    "start_time": "2025-01-03T13:12:29.086Z"
   },
   {
    "duration": 0,
    "start_time": "2025-01-03T13:12:29.115Z"
   },
   {
    "duration": 0,
    "start_time": "2025-01-03T13:12:29.116Z"
   },
   {
    "duration": 0,
    "start_time": "2025-01-03T13:12:29.117Z"
   },
   {
    "duration": 0,
    "start_time": "2025-01-03T13:12:29.118Z"
   },
   {
    "duration": 0,
    "start_time": "2025-01-03T13:12:29.119Z"
   },
   {
    "duration": 0,
    "start_time": "2025-01-03T13:12:29.121Z"
   },
   {
    "duration": 0,
    "start_time": "2025-01-03T13:12:29.121Z"
   },
   {
    "duration": 0,
    "start_time": "2025-01-03T13:12:29.123Z"
   },
   {
    "duration": 0,
    "start_time": "2025-01-03T13:12:29.124Z"
   },
   {
    "duration": 0,
    "start_time": "2025-01-03T13:12:29.126Z"
   },
   {
    "duration": 0,
    "start_time": "2025-01-03T13:12:29.127Z"
   },
   {
    "duration": 0,
    "start_time": "2025-01-03T13:12:29.129Z"
   },
   {
    "duration": 0,
    "start_time": "2025-01-03T13:12:29.129Z"
   },
   {
    "duration": 0,
    "start_time": "2025-01-03T13:12:29.131Z"
   },
   {
    "duration": 0,
    "start_time": "2025-01-03T13:12:29.132Z"
   },
   {
    "duration": 0,
    "start_time": "2025-01-03T13:12:29.133Z"
   },
   {
    "duration": 0,
    "start_time": "2025-01-03T13:12:29.134Z"
   },
   {
    "duration": 0,
    "start_time": "2025-01-03T13:12:29.135Z"
   },
   {
    "duration": 0,
    "start_time": "2025-01-03T13:12:29.136Z"
   },
   {
    "duration": 0,
    "start_time": "2025-01-03T13:12:29.137Z"
   },
   {
    "duration": 734,
    "start_time": "2025-01-03T13:12:56.355Z"
   },
   {
    "duration": 31,
    "start_time": "2025-01-03T13:12:57.091Z"
   },
   {
    "duration": 2056,
    "start_time": "2025-01-03T13:12:57.124Z"
   },
   {
    "duration": 35,
    "start_time": "2025-01-03T13:12:59.183Z"
   },
   {
    "duration": 26,
    "start_time": "2025-01-03T13:12:59.220Z"
   },
   {
    "duration": 11,
    "start_time": "2025-01-03T13:12:59.248Z"
   },
   {
    "duration": 25,
    "start_time": "2025-01-03T13:12:59.260Z"
   },
   {
    "duration": 11,
    "start_time": "2025-01-03T13:12:59.287Z"
   },
   {
    "duration": 18,
    "start_time": "2025-01-03T13:12:59.299Z"
   },
   {
    "duration": 5,
    "start_time": "2025-01-03T13:12:59.319Z"
   },
   {
    "duration": 29,
    "start_time": "2025-01-03T13:12:59.325Z"
   },
   {
    "duration": 4,
    "start_time": "2025-01-03T13:12:59.355Z"
   },
   {
    "duration": 28,
    "start_time": "2025-01-03T13:12:59.360Z"
   },
   {
    "duration": 3,
    "start_time": "2025-01-03T13:12:59.391Z"
   },
   {
    "duration": 100,
    "start_time": "2025-01-03T13:12:59.395Z"
   },
   {
    "duration": 29,
    "start_time": "2025-01-03T13:12:59.496Z"
   },
   {
    "duration": 20,
    "start_time": "2025-01-03T13:12:59.527Z"
   },
   {
    "duration": 25,
    "start_time": "2025-01-03T13:12:59.548Z"
   },
   {
    "duration": 5,
    "start_time": "2025-01-03T13:12:59.575Z"
   },
   {
    "duration": 12,
    "start_time": "2025-01-03T13:12:59.582Z"
   },
   {
    "duration": 21,
    "start_time": "2025-01-03T13:12:59.595Z"
   },
   {
    "duration": 5,
    "start_time": "2025-01-03T13:12:59.618Z"
   },
   {
    "duration": 37,
    "start_time": "2025-01-03T13:12:59.624Z"
   },
   {
    "duration": 70,
    "start_time": "2025-01-03T13:12:59.663Z"
   },
   {
    "duration": 15,
    "start_time": "2025-01-03T13:12:59.735Z"
   },
   {
    "duration": 59,
    "start_time": "2025-01-03T13:12:59.752Z"
   },
   {
    "duration": 8,
    "start_time": "2025-01-03T13:12:59.812Z"
   },
   {
    "duration": 35,
    "start_time": "2025-01-03T13:12:59.822Z"
   },
   {
    "duration": 93,
    "start_time": "2025-01-03T13:12:59.858Z"
   },
   {
    "duration": 21,
    "start_time": "2025-01-03T13:12:59.952Z"
   },
   {
    "duration": 9,
    "start_time": "2025-01-03T13:12:59.975Z"
   },
   {
    "duration": 9,
    "start_time": "2025-01-03T13:12:59.985Z"
   },
   {
    "duration": 7,
    "start_time": "2025-01-03T13:12:59.995Z"
   },
   {
    "duration": 94,
    "start_time": "2025-01-03T13:13:00.004Z"
   },
   {
    "duration": 37,
    "start_time": "2025-01-03T13:13:00.100Z"
   },
   {
    "duration": 25,
    "start_time": "2025-01-03T13:13:00.138Z"
   },
   {
    "duration": 72,
    "start_time": "2025-01-03T13:13:00.165Z"
   },
   {
    "duration": 2380,
    "start_time": "2025-01-03T13:13:00.239Z"
   },
   {
    "duration": 31,
    "start_time": "2025-01-03T13:13:02.621Z"
   },
   {
    "duration": 27,
    "start_time": "2025-01-03T13:13:02.653Z"
   },
   {
    "duration": 74,
    "start_time": "2025-01-03T13:13:02.685Z"
   },
   {
    "duration": 31,
    "start_time": "2025-01-03T13:13:02.761Z"
   },
   {
    "duration": 7,
    "start_time": "2025-01-03T13:13:02.794Z"
   },
   {
    "duration": 15,
    "start_time": "2025-01-03T13:13:02.803Z"
   },
   {
    "duration": 356,
    "start_time": "2025-01-03T13:13:02.820Z"
   },
   {
    "duration": 3,
    "start_time": "2025-01-03T13:13:03.178Z"
   },
   {
    "duration": 187,
    "start_time": "2025-01-03T13:13:03.182Z"
   },
   {
    "duration": 194,
    "start_time": "2025-01-03T13:13:03.371Z"
   },
   {
    "duration": 194,
    "start_time": "2025-01-03T13:13:03.567Z"
   },
   {
    "duration": 300,
    "start_time": "2025-01-03T13:13:03.763Z"
   },
   {
    "duration": 194,
    "start_time": "2025-01-03T13:13:04.065Z"
   },
   {
    "duration": 177,
    "start_time": "2025-01-03T13:13:04.261Z"
   },
   {
    "duration": 161,
    "start_time": "2025-01-03T13:13:04.440Z"
   },
   {
    "duration": 193,
    "start_time": "2025-01-03T13:13:04.602Z"
   },
   {
    "duration": 194,
    "start_time": "2025-01-03T13:13:04.797Z"
   },
   {
    "duration": 194,
    "start_time": "2025-01-03T13:13:04.992Z"
   },
   {
    "duration": 193,
    "start_time": "2025-01-03T13:13:05.188Z"
   },
   {
    "duration": 205,
    "start_time": "2025-01-03T13:13:05.383Z"
   },
   {
    "duration": 8,
    "start_time": "2025-01-03T13:13:05.590Z"
   },
   {
    "duration": 200,
    "start_time": "2025-01-03T13:13:05.600Z"
   },
   {
    "duration": 14,
    "start_time": "2025-01-03T13:13:05.802Z"
   },
   {
    "duration": 412,
    "start_time": "2025-01-03T13:13:05.817Z"
   },
   {
    "duration": 7,
    "start_time": "2025-01-03T13:13:06.231Z"
   },
   {
    "duration": 208,
    "start_time": "2025-01-03T13:13:06.239Z"
   },
   {
    "duration": 6,
    "start_time": "2025-01-03T13:13:06.448Z"
   },
   {
    "duration": 253,
    "start_time": "2025-01-03T13:13:06.456Z"
   },
   {
    "duration": 7,
    "start_time": "2025-01-03T13:13:06.715Z"
   },
   {
    "duration": 213,
    "start_time": "2025-01-03T13:13:06.723Z"
   },
   {
    "duration": 197,
    "start_time": "2025-01-03T13:13:06.938Z"
   },
   {
    "duration": 6,
    "start_time": "2025-01-03T13:13:07.136Z"
   },
   {
    "duration": 218,
    "start_time": "2025-01-03T13:13:07.144Z"
   },
   {
    "duration": 5,
    "start_time": "2025-01-03T13:13:07.364Z"
   },
   {
    "duration": 234,
    "start_time": "2025-01-03T13:13:07.371Z"
   },
   {
    "duration": 12,
    "start_time": "2025-01-03T13:13:07.606Z"
   },
   {
    "duration": 15,
    "start_time": "2025-01-03T13:13:07.619Z"
   },
   {
    "duration": 114,
    "start_time": "2025-01-03T13:13:07.636Z"
   },
   {
    "duration": 20,
    "start_time": "2025-01-03T13:13:07.752Z"
   },
   {
    "duration": 8,
    "start_time": "2025-01-03T13:13:07.774Z"
   },
   {
    "duration": 194,
    "start_time": "2025-01-03T13:13:07.784Z"
   },
   {
    "duration": 45,
    "start_time": "2025-01-03T13:13:07.980Z"
   },
   {
    "duration": 779,
    "start_time": "2025-01-03T13:14:41.212Z"
   },
   {
    "duration": 24,
    "start_time": "2025-01-03T13:14:41.993Z"
   },
   {
    "duration": 2036,
    "start_time": "2025-01-03T13:14:42.019Z"
   },
   {
    "duration": 15,
    "start_time": "2025-01-03T13:14:44.056Z"
   },
   {
    "duration": 46,
    "start_time": "2025-01-03T13:14:44.073Z"
   },
   {
    "duration": 8,
    "start_time": "2025-01-03T13:14:44.121Z"
   },
   {
    "duration": 10,
    "start_time": "2025-01-03T13:14:44.130Z"
   },
   {
    "duration": 11,
    "start_time": "2025-01-03T13:14:44.142Z"
   },
   {
    "duration": 9,
    "start_time": "2025-01-03T13:14:44.155Z"
   },
   {
    "duration": 8,
    "start_time": "2025-01-03T13:14:44.165Z"
   },
   {
    "duration": 12,
    "start_time": "2025-01-03T13:14:44.175Z"
   },
   {
    "duration": 29,
    "start_time": "2025-01-03T13:14:44.188Z"
   },
   {
    "duration": 7,
    "start_time": "2025-01-03T13:14:44.219Z"
   },
   {
    "duration": 4,
    "start_time": "2025-01-03T13:14:44.229Z"
   },
   {
    "duration": 113,
    "start_time": "2025-01-03T13:14:44.234Z"
   },
   {
    "duration": 24,
    "start_time": "2025-01-03T13:14:44.349Z"
   },
   {
    "duration": 21,
    "start_time": "2025-01-03T13:14:44.374Z"
   },
   {
    "duration": 28,
    "start_time": "2025-01-03T13:14:44.396Z"
   },
   {
    "duration": 4,
    "start_time": "2025-01-03T13:14:44.425Z"
   },
   {
    "duration": 13,
    "start_time": "2025-01-03T13:14:44.430Z"
   },
   {
    "duration": 5,
    "start_time": "2025-01-03T13:14:44.444Z"
   },
   {
    "duration": 16,
    "start_time": "2025-01-03T13:14:44.450Z"
   },
   {
    "duration": 58,
    "start_time": "2025-01-03T13:14:44.468Z"
   },
   {
    "duration": 6,
    "start_time": "2025-01-03T13:14:44.528Z"
   },
   {
    "duration": 20,
    "start_time": "2025-01-03T13:14:44.535Z"
   },
   {
    "duration": 58,
    "start_time": "2025-01-03T13:14:44.557Z"
   },
   {
    "duration": 8,
    "start_time": "2025-01-03T13:14:44.616Z"
   },
   {
    "duration": 39,
    "start_time": "2025-01-03T13:14:44.625Z"
   },
   {
    "duration": 14,
    "start_time": "2025-01-03T13:14:44.665Z"
   },
   {
    "duration": 50,
    "start_time": "2025-01-03T13:14:44.680Z"
   },
   {
    "duration": 4,
    "start_time": "2025-01-03T13:14:44.732Z"
   },
   {
    "duration": 13,
    "start_time": "2025-01-03T13:14:44.737Z"
   },
   {
    "duration": 8,
    "start_time": "2025-01-03T13:14:44.752Z"
   },
   {
    "duration": 24,
    "start_time": "2025-01-03T13:14:44.762Z"
   },
   {
    "duration": 45,
    "start_time": "2025-01-03T13:14:44.788Z"
   },
   {
    "duration": 4,
    "start_time": "2025-01-03T13:14:44.834Z"
   },
   {
    "duration": 32,
    "start_time": "2025-01-03T13:14:44.839Z"
   },
   {
    "duration": 2366,
    "start_time": "2025-01-03T13:14:44.873Z"
   },
   {
    "duration": 31,
    "start_time": "2025-01-03T13:14:47.240Z"
   },
   {
    "duration": 15,
    "start_time": "2025-01-03T13:14:47.273Z"
   },
   {
    "duration": 28,
    "start_time": "2025-01-03T13:14:47.292Z"
   },
   {
    "duration": 15,
    "start_time": "2025-01-03T13:14:47.322Z"
   },
   {
    "duration": 6,
    "start_time": "2025-01-03T13:14:47.338Z"
   },
   {
    "duration": 43,
    "start_time": "2025-01-03T13:14:47.345Z"
   },
   {
    "duration": 314,
    "start_time": "2025-01-03T13:14:47.390Z"
   },
   {
    "duration": 4,
    "start_time": "2025-01-03T13:14:47.706Z"
   },
   {
    "duration": 218,
    "start_time": "2025-01-03T13:14:47.714Z"
   },
   {
    "duration": 192,
    "start_time": "2025-01-03T13:14:47.933Z"
   },
   {
    "duration": 202,
    "start_time": "2025-01-03T13:14:48.127Z"
   },
   {
    "duration": 316,
    "start_time": "2025-01-03T13:14:48.330Z"
   },
   {
    "duration": 200,
    "start_time": "2025-01-03T13:14:48.648Z"
   },
   {
    "duration": 178,
    "start_time": "2025-01-03T13:14:48.850Z"
   },
   {
    "duration": 172,
    "start_time": "2025-01-03T13:14:49.030Z"
   },
   {
    "duration": 199,
    "start_time": "2025-01-03T13:14:49.204Z"
   },
   {
    "duration": 185,
    "start_time": "2025-01-03T13:14:49.405Z"
   },
   {
    "duration": 200,
    "start_time": "2025-01-03T13:14:49.591Z"
   },
   {
    "duration": 200,
    "start_time": "2025-01-03T13:14:49.792Z"
   },
   {
    "duration": 204,
    "start_time": "2025-01-03T13:14:49.994Z"
   },
   {
    "duration": 17,
    "start_time": "2025-01-03T13:14:50.200Z"
   },
   {
    "duration": 207,
    "start_time": "2025-01-03T13:14:50.219Z"
   },
   {
    "duration": 6,
    "start_time": "2025-01-03T13:14:50.428Z"
   },
   {
    "duration": 196,
    "start_time": "2025-01-03T13:14:50.436Z"
   },
   {
    "duration": 5,
    "start_time": "2025-01-03T13:14:50.634Z"
   },
   {
    "duration": 352,
    "start_time": "2025-01-03T13:14:50.640Z"
   },
   {
    "duration": 6,
    "start_time": "2025-01-03T13:14:50.993Z"
   },
   {
    "duration": 195,
    "start_time": "2025-01-03T13:14:51.000Z"
   },
   {
    "duration": 5,
    "start_time": "2025-01-03T13:14:51.196Z"
   },
   {
    "duration": 182,
    "start_time": "2025-01-03T13:14:51.203Z"
   },
   {
    "duration": 205,
    "start_time": "2025-01-03T13:14:51.387Z"
   },
   {
    "duration": 6,
    "start_time": "2025-01-03T13:14:51.594Z"
   },
   {
    "duration": 190,
    "start_time": "2025-01-03T13:14:51.601Z"
   },
   {
    "duration": 5,
    "start_time": "2025-01-03T13:14:51.792Z"
   },
   {
    "duration": 190,
    "start_time": "2025-01-03T13:14:51.799Z"
   },
   {
    "duration": 5,
    "start_time": "2025-01-03T13:14:51.991Z"
   },
   {
    "duration": 25,
    "start_time": "2025-01-03T13:14:51.998Z"
   },
   {
    "duration": 20,
    "start_time": "2025-01-03T13:14:52.025Z"
   },
   {
    "duration": 6,
    "start_time": "2025-01-03T13:14:52.047Z"
   },
   {
    "duration": 28,
    "start_time": "2025-01-03T13:14:52.055Z"
   },
   {
    "duration": 192,
    "start_time": "2025-01-03T13:14:52.086Z"
   },
   {
    "duration": 45,
    "start_time": "2025-01-03T13:14:52.280Z"
   },
   {
    "duration": 102,
    "start_time": "2025-01-03T13:15:26.288Z"
   },
   {
    "duration": 34,
    "start_time": "2025-01-03T13:15:30.494Z"
   },
   {
    "duration": 35,
    "start_time": "2025-01-03T13:15:34.834Z"
   },
   {
    "duration": 19,
    "start_time": "2025-01-03T13:19:10.102Z"
   },
   {
    "duration": 30,
    "start_time": "2025-01-03T13:20:00.234Z"
   },
   {
    "duration": 35,
    "start_time": "2025-01-03T13:34:11.403Z"
   },
   {
    "duration": 53,
    "start_time": "2025-01-03T13:34:43.910Z"
   },
   {
    "duration": 13,
    "start_time": "2025-01-03T13:35:40.659Z"
   },
   {
    "duration": 9,
    "start_time": "2025-01-03T13:49:02.639Z"
   },
   {
    "duration": 5,
    "start_time": "2025-01-03T13:50:44.881Z"
   },
   {
    "duration": 6,
    "start_time": "2025-01-03T13:50:55.881Z"
   },
   {
    "duration": 10,
    "start_time": "2025-01-03T13:51:03.936Z"
   },
   {
    "duration": 10,
    "start_time": "2025-01-03T13:53:35.470Z"
   },
   {
    "duration": 11,
    "start_time": "2025-01-03T13:54:38.662Z"
   },
   {
    "duration": 11,
    "start_time": "2025-01-03T13:54:43.680Z"
   },
   {
    "duration": 10,
    "start_time": "2025-01-03T13:54:54.402Z"
   },
   {
    "duration": 80,
    "start_time": "2025-01-03T14:24:41.227Z"
   },
   {
    "duration": 801,
    "start_time": "2025-01-03T14:24:54.211Z"
   },
   {
    "duration": 21,
    "start_time": "2025-01-03T14:24:55.015Z"
   },
   {
    "duration": 2114,
    "start_time": "2025-01-03T14:24:55.038Z"
   },
   {
    "duration": 19,
    "start_time": "2025-01-03T14:24:57.154Z"
   },
   {
    "duration": 55,
    "start_time": "2025-01-03T14:24:57.175Z"
   },
   {
    "duration": 9,
    "start_time": "2025-01-03T14:24:57.231Z"
   },
   {
    "duration": 53,
    "start_time": "2025-01-03T14:24:57.241Z"
   },
   {
    "duration": 11,
    "start_time": "2025-01-03T14:24:57.295Z"
   },
   {
    "duration": 9,
    "start_time": "2025-01-03T14:24:57.308Z"
   },
   {
    "duration": 25,
    "start_time": "2025-01-03T14:24:57.320Z"
   },
   {
    "duration": 21,
    "start_time": "2025-01-03T14:24:57.346Z"
   },
   {
    "duration": 4,
    "start_time": "2025-01-03T14:24:57.369Z"
   },
   {
    "duration": 40,
    "start_time": "2025-01-03T14:24:57.374Z"
   },
   {
    "duration": 33,
    "start_time": "2025-01-03T14:24:57.416Z"
   },
   {
    "duration": 105,
    "start_time": "2025-01-03T14:24:57.451Z"
   },
   {
    "duration": 26,
    "start_time": "2025-01-03T14:24:57.557Z"
   },
   {
    "duration": 30,
    "start_time": "2025-01-03T14:24:57.585Z"
   },
   {
    "duration": 19,
    "start_time": "2025-01-03T14:24:57.617Z"
   },
   {
    "duration": 15,
    "start_time": "2025-01-03T14:24:57.638Z"
   },
   {
    "duration": 26,
    "start_time": "2025-01-03T14:24:57.655Z"
   },
   {
    "duration": 25,
    "start_time": "2025-01-03T14:24:57.683Z"
   },
   {
    "duration": 6,
    "start_time": "2025-01-03T14:24:57.710Z"
   },
   {
    "duration": 21,
    "start_time": "2025-01-03T14:24:57.718Z"
   },
   {
    "duration": 20,
    "start_time": "2025-01-03T14:24:57.740Z"
   },
   {
    "duration": 17,
    "start_time": "2025-01-03T14:24:57.761Z"
   },
   {
    "duration": 52,
    "start_time": "2025-01-03T14:24:57.780Z"
   },
   {
    "duration": 8,
    "start_time": "2025-01-03T14:24:57.834Z"
   },
   {
    "duration": 39,
    "start_time": "2025-01-03T14:24:57.846Z"
   },
   {
    "duration": 34,
    "start_time": "2025-01-03T14:24:57.887Z"
   },
   {
    "duration": 24,
    "start_time": "2025-01-03T14:24:57.923Z"
   },
   {
    "duration": 105,
    "start_time": "2025-01-03T14:24:57.949Z"
   },
   {
    "duration": 20,
    "start_time": "2025-01-03T14:24:58.055Z"
   },
   {
    "duration": 7,
    "start_time": "2025-01-03T14:24:58.077Z"
   },
   {
    "duration": 29,
    "start_time": "2025-01-03T14:24:58.086Z"
   },
   {
    "duration": 23,
    "start_time": "2025-01-03T14:24:58.116Z"
   },
   {
    "duration": 4,
    "start_time": "2025-01-03T14:24:58.141Z"
   },
   {
    "duration": 30,
    "start_time": "2025-01-03T14:24:58.146Z"
   },
   {
    "duration": 2403,
    "start_time": "2025-01-03T14:24:58.178Z"
   },
   {
    "duration": 45,
    "start_time": "2025-01-03T14:25:00.583Z"
   },
   {
    "duration": 4,
    "start_time": "2025-01-03T14:25:00.629Z"
   },
   {
    "duration": 46,
    "start_time": "2025-01-03T14:25:00.635Z"
   },
   {
    "duration": 6,
    "start_time": "2025-01-03T14:25:00.683Z"
   },
   {
    "duration": 8,
    "start_time": "2025-01-03T14:25:00.691Z"
   },
   {
    "duration": 10,
    "start_time": "2025-01-03T14:25:00.700Z"
   },
   {
    "duration": 312,
    "start_time": "2025-01-03T14:25:00.711Z"
   },
   {
    "duration": 4,
    "start_time": "2025-01-03T14:25:01.025Z"
   },
   {
    "duration": 208,
    "start_time": "2025-01-03T14:25:01.031Z"
   },
   {
    "duration": 202,
    "start_time": "2025-01-03T14:25:01.240Z"
   },
   {
    "duration": 196,
    "start_time": "2025-01-03T14:25:01.444Z"
   },
   {
    "duration": 315,
    "start_time": "2025-01-03T14:25:01.642Z"
   },
   {
    "duration": 198,
    "start_time": "2025-01-03T14:25:01.959Z"
   },
   {
    "duration": 179,
    "start_time": "2025-01-03T14:25:02.159Z"
   },
   {
    "duration": 166,
    "start_time": "2025-01-03T14:25:02.340Z"
   },
   {
    "duration": 200,
    "start_time": "2025-01-03T14:25:02.507Z"
   },
   {
    "duration": 183,
    "start_time": "2025-01-03T14:25:02.709Z"
   },
   {
    "duration": 199,
    "start_time": "2025-01-03T14:25:02.894Z"
   },
   {
    "duration": 204,
    "start_time": "2025-01-03T14:25:03.095Z"
   },
   {
    "duration": 202,
    "start_time": "2025-01-03T14:25:03.301Z"
   },
   {
    "duration": 13,
    "start_time": "2025-01-03T14:25:03.505Z"
   },
   {
    "duration": 196,
    "start_time": "2025-01-03T14:25:03.519Z"
   },
   {
    "duration": 5,
    "start_time": "2025-01-03T14:25:03.717Z"
   },
   {
    "duration": 334,
    "start_time": "2025-01-03T14:25:03.724Z"
   },
   {
    "duration": 5,
    "start_time": "2025-01-03T14:25:04.060Z"
   },
   {
    "duration": 191,
    "start_time": "2025-01-03T14:25:04.067Z"
   },
   {
    "duration": 6,
    "start_time": "2025-01-03T14:25:04.260Z"
   },
   {
    "duration": 248,
    "start_time": "2025-01-03T14:25:04.267Z"
   },
   {
    "duration": 6,
    "start_time": "2025-01-03T14:25:04.516Z"
   },
   {
    "duration": 184,
    "start_time": "2025-01-03T14:25:04.524Z"
   },
   {
    "duration": 206,
    "start_time": "2025-01-03T14:25:04.710Z"
   },
   {
    "duration": 5,
    "start_time": "2025-01-03T14:25:04.918Z"
   },
   {
    "duration": 278,
    "start_time": "2025-01-03T14:25:04.924Z"
   },
   {
    "duration": 5,
    "start_time": "2025-01-03T14:25:05.204Z"
   },
   {
    "duration": 182,
    "start_time": "2025-01-03T14:25:05.215Z"
   },
   {
    "duration": 16,
    "start_time": "2025-01-03T14:25:05.399Z"
   },
   {
    "duration": 13,
    "start_time": "2025-01-03T14:25:05.416Z"
   },
   {
    "duration": 53,
    "start_time": "2025-01-03T14:25:05.430Z"
   },
   {
    "duration": 7,
    "start_time": "2025-01-03T14:25:05.485Z"
   },
   {
    "duration": 17,
    "start_time": "2025-01-03T14:25:05.493Z"
   },
   {
    "duration": 168,
    "start_time": "2025-01-03T14:25:05.512Z"
   },
   {
    "duration": 45,
    "start_time": "2025-01-03T14:25:05.682Z"
   },
   {
    "duration": 30,
    "start_time": "2025-01-03T14:25:05.728Z"
   },
   {
    "duration": 11,
    "start_time": "2025-01-03T14:25:05.763Z"
   },
   {
    "duration": 1160,
    "start_time": "2025-01-03T20:19:22.184Z"
   },
   {
    "duration": 15,
    "start_time": "2025-01-03T20:19:23.346Z"
   },
   {
    "duration": 1972,
    "start_time": "2025-01-03T20:19:23.363Z"
   },
   {
    "duration": 14,
    "start_time": "2025-01-03T20:19:25.336Z"
   },
   {
    "duration": 36,
    "start_time": "2025-01-03T20:19:25.353Z"
   },
   {
    "duration": 10,
    "start_time": "2025-01-03T20:19:25.391Z"
   },
   {
    "duration": 8,
    "start_time": "2025-01-03T20:19:25.405Z"
   },
   {
    "duration": 9,
    "start_time": "2025-01-03T20:19:25.414Z"
   },
   {
    "duration": 9,
    "start_time": "2025-01-03T20:19:25.424Z"
   },
   {
    "duration": 4,
    "start_time": "2025-01-03T20:19:25.435Z"
   },
   {
    "duration": 22,
    "start_time": "2025-01-03T20:19:25.441Z"
   },
   {
    "duration": 3,
    "start_time": "2025-01-03T20:19:25.465Z"
   },
   {
    "duration": 5,
    "start_time": "2025-01-03T20:19:25.487Z"
   },
   {
    "duration": 4,
    "start_time": "2025-01-03T20:19:25.496Z"
   },
   {
    "duration": 159,
    "start_time": "2025-01-03T20:19:25.502Z"
   },
   {
    "duration": 33,
    "start_time": "2025-01-03T20:19:25.664Z"
   },
   {
    "duration": 11,
    "start_time": "2025-01-03T20:19:25.699Z"
   },
   {
    "duration": 19,
    "start_time": "2025-01-03T20:19:25.711Z"
   },
   {
    "duration": 5,
    "start_time": "2025-01-03T20:19:25.732Z"
   },
   {
    "duration": 119,
    "start_time": "2025-01-03T20:19:25.739Z"
   },
   {
    "duration": 4,
    "start_time": "2025-01-03T20:19:25.860Z"
   },
   {
    "duration": 3,
    "start_time": "2025-01-03T20:19:25.866Z"
   },
   {
    "duration": 22,
    "start_time": "2025-01-03T20:19:25.871Z"
   },
   {
    "duration": 5,
    "start_time": "2025-01-03T20:19:25.895Z"
   },
   {
    "duration": 14,
    "start_time": "2025-01-03T20:19:25.902Z"
   },
   {
    "duration": 44,
    "start_time": "2025-01-03T20:19:25.917Z"
   },
   {
    "duration": 29,
    "start_time": "2025-01-03T20:19:25.962Z"
   },
   {
    "duration": 42,
    "start_time": "2025-01-03T20:19:25.993Z"
   },
   {
    "duration": 13,
    "start_time": "2025-01-03T20:19:26.036Z"
   },
   {
    "duration": 19,
    "start_time": "2025-01-03T20:19:26.050Z"
   },
   {
    "duration": 4,
    "start_time": "2025-01-03T20:19:26.087Z"
   },
   {
    "duration": 9,
    "start_time": "2025-01-03T20:19:26.092Z"
   },
   {
    "duration": 8,
    "start_time": "2025-01-03T20:19:26.102Z"
   },
   {
    "duration": 22,
    "start_time": "2025-01-03T20:19:26.111Z"
   },
   {
    "duration": 22,
    "start_time": "2025-01-03T20:19:26.135Z"
   },
   {
    "duration": 29,
    "start_time": "2025-01-03T20:19:26.159Z"
   },
   {
    "duration": 20,
    "start_time": "2025-01-03T20:19:26.190Z"
   },
   {
    "duration": 2194,
    "start_time": "2025-01-03T20:19:26.211Z"
   },
   {
    "duration": 28,
    "start_time": "2025-01-03T20:19:28.407Z"
   },
   {
    "duration": 6,
    "start_time": "2025-01-03T20:19:28.437Z"
   },
   {
    "duration": 9,
    "start_time": "2025-01-03T20:19:28.448Z"
   },
   {
    "duration": 27,
    "start_time": "2025-01-03T20:19:28.459Z"
   },
   {
    "duration": 4,
    "start_time": "2025-01-03T20:19:28.488Z"
   },
   {
    "duration": 6,
    "start_time": "2025-01-03T20:19:28.493Z"
   },
   {
    "duration": 396,
    "start_time": "2025-01-03T20:19:28.502Z"
   },
   {
    "duration": 4,
    "start_time": "2025-01-03T20:19:28.900Z"
   },
   {
    "duration": 172,
    "start_time": "2025-01-03T20:19:28.905Z"
   },
   {
    "duration": 184,
    "start_time": "2025-01-03T20:19:29.078Z"
   },
   {
    "duration": 195,
    "start_time": "2025-01-03T20:19:29.263Z"
   },
   {
    "duration": 271,
    "start_time": "2025-01-03T20:19:29.461Z"
   },
   {
    "duration": 179,
    "start_time": "2025-01-03T20:19:29.734Z"
   },
   {
    "duration": 203,
    "start_time": "2025-01-03T20:19:29.915Z"
   },
   {
    "duration": 155,
    "start_time": "2025-01-03T20:19:30.119Z"
   },
   {
    "duration": 177,
    "start_time": "2025-01-03T20:19:30.276Z"
   },
   {
    "duration": 163,
    "start_time": "2025-01-03T20:19:30.455Z"
   },
   {
    "duration": 179,
    "start_time": "2025-01-03T20:19:30.619Z"
   },
   {
    "duration": 177,
    "start_time": "2025-01-03T20:19:30.799Z"
   },
   {
    "duration": 189,
    "start_time": "2025-01-03T20:19:30.978Z"
   },
   {
    "duration": 7,
    "start_time": "2025-01-03T20:19:31.168Z"
   },
   {
    "duration": 182,
    "start_time": "2025-01-03T20:19:31.187Z"
   },
   {
    "duration": 6,
    "start_time": "2025-01-03T20:19:31.371Z"
   },
   {
    "duration": 191,
    "start_time": "2025-01-03T20:19:31.378Z"
   },
   {
    "duration": 16,
    "start_time": "2025-01-03T20:19:31.571Z"
   },
   {
    "duration": 286,
    "start_time": "2025-01-03T20:19:31.589Z"
   },
   {
    "duration": 15,
    "start_time": "2025-01-03T20:19:31.877Z"
   },
   {
    "duration": 208,
    "start_time": "2025-01-03T20:19:31.894Z"
   },
   {
    "duration": 7,
    "start_time": "2025-01-03T20:19:32.104Z"
   },
   {
    "duration": 229,
    "start_time": "2025-01-03T20:19:32.113Z"
   },
   {
    "duration": 181,
    "start_time": "2025-01-03T20:19:32.344Z"
   },
   {
    "duration": 6,
    "start_time": "2025-01-03T20:19:32.527Z"
   },
   {
    "duration": 195,
    "start_time": "2025-01-03T20:19:32.535Z"
   },
   {
    "duration": 5,
    "start_time": "2025-01-03T20:19:32.732Z"
   },
   {
    "duration": 185,
    "start_time": "2025-01-03T20:19:32.739Z"
   },
   {
    "duration": 5,
    "start_time": "2025-01-03T20:19:32.926Z"
   },
   {
    "duration": 41,
    "start_time": "2025-01-03T20:19:32.933Z"
   },
   {
    "duration": 25,
    "start_time": "2025-01-03T20:19:32.976Z"
   },
   {
    "duration": 9,
    "start_time": "2025-01-03T20:19:33.002Z"
   },
   {
    "duration": 11,
    "start_time": "2025-01-03T20:19:33.014Z"
   },
   {
    "duration": 173,
    "start_time": "2025-01-03T20:19:33.027Z"
   },
   {
    "duration": 55,
    "start_time": "2025-01-03T20:19:33.202Z"
   },
   {
    "duration": 49,
    "start_time": "2025-01-03T20:19:33.259Z"
   },
   {
    "duration": 11,
    "start_time": "2025-01-03T20:19:33.310Z"
   },
   {
    "duration": 71,
    "start_time": "2025-01-03T20:21:54.478Z"
   },
   {
    "duration": 69,
    "start_time": "2025-01-03T20:22:10.951Z"
   },
   {
    "duration": 7,
    "start_time": "2025-01-03T20:23:17.516Z"
   },
   {
    "duration": 68,
    "start_time": "2025-01-03T20:23:58.426Z"
   },
   {
    "duration": 807,
    "start_time": "2025-01-04T03:18:25.138Z"
   },
   {
    "duration": 245,
    "start_time": "2025-01-04T03:18:28.867Z"
   },
   {
    "duration": 142,
    "start_time": "2025-01-04T03:18:42.873Z"
   },
   {
    "duration": 2065,
    "start_time": "2025-01-04T03:19:10.326Z"
   },
   {
    "duration": 2064,
    "start_time": "2025-01-04T03:27:15.755Z"
   },
   {
    "duration": 172,
    "start_time": "2025-01-04T03:27:50.855Z"
   },
   {
    "duration": 695,
    "start_time": "2025-01-04T03:28:01.673Z"
   },
   {
    "duration": 149,
    "start_time": "2025-01-04T03:28:02.370Z"
   },
   {
    "duration": 15,
    "start_time": "2025-01-04T03:28:02.520Z"
   },
   {
    "duration": 2042,
    "start_time": "2025-01-04T03:28:02.537Z"
   },
   {
    "duration": 15,
    "start_time": "2025-01-04T03:28:04.581Z"
   },
   {
    "duration": 25,
    "start_time": "2025-01-04T03:28:04.597Z"
   },
   {
    "duration": 9,
    "start_time": "2025-01-04T03:28:04.623Z"
   },
   {
    "duration": 17,
    "start_time": "2025-01-04T03:28:04.633Z"
   },
   {
    "duration": 21,
    "start_time": "2025-01-04T03:28:04.651Z"
   },
   {
    "duration": 9,
    "start_time": "2025-01-04T03:28:04.674Z"
   },
   {
    "duration": 5,
    "start_time": "2025-01-04T03:28:04.684Z"
   },
   {
    "duration": 40,
    "start_time": "2025-01-04T03:28:04.690Z"
   },
   {
    "duration": 41,
    "start_time": "2025-01-04T03:28:04.734Z"
   },
   {
    "duration": 43,
    "start_time": "2025-01-04T03:28:04.776Z"
   },
   {
    "duration": 33,
    "start_time": "2025-01-04T03:28:04.821Z"
   },
   {
    "duration": 93,
    "start_time": "2025-01-04T03:28:04.855Z"
   },
   {
    "duration": 24,
    "start_time": "2025-01-04T03:28:04.950Z"
   },
   {
    "duration": 9,
    "start_time": "2025-01-04T03:28:04.976Z"
   },
   {
    "duration": 49,
    "start_time": "2025-01-04T03:28:04.988Z"
   },
   {
    "duration": 5,
    "start_time": "2025-01-04T03:28:05.039Z"
   },
   {
    "duration": 23,
    "start_time": "2025-01-04T03:28:05.046Z"
   },
   {
    "duration": 4,
    "start_time": "2025-01-04T03:28:05.070Z"
   },
   {
    "duration": 5,
    "start_time": "2025-01-04T03:28:05.076Z"
   },
   {
    "duration": 48,
    "start_time": "2025-01-04T03:28:05.082Z"
   },
   {
    "duration": 58,
    "start_time": "2025-01-04T03:28:05.132Z"
   },
   {
    "duration": 40,
    "start_time": "2025-01-04T03:28:05.191Z"
   },
   {
    "duration": 47,
    "start_time": "2025-01-04T03:28:05.232Z"
   },
   {
    "duration": 8,
    "start_time": "2025-01-04T03:28:05.280Z"
   },
   {
    "duration": 54,
    "start_time": "2025-01-04T03:28:05.290Z"
   },
   {
    "duration": 14,
    "start_time": "2025-01-04T03:28:05.346Z"
   },
   {
    "duration": 24,
    "start_time": "2025-01-04T03:28:05.361Z"
   },
   {
    "duration": 4,
    "start_time": "2025-01-04T03:28:05.387Z"
   },
   {
    "duration": 59,
    "start_time": "2025-01-04T03:28:05.393Z"
   },
   {
    "duration": 34,
    "start_time": "2025-01-04T03:28:05.454Z"
   },
   {
    "duration": 39,
    "start_time": "2025-01-04T03:28:05.489Z"
   },
   {
    "duration": 23,
    "start_time": "2025-01-04T03:28:05.530Z"
   },
   {
    "duration": 20,
    "start_time": "2025-01-04T03:28:05.555Z"
   },
   {
    "duration": 25,
    "start_time": "2025-01-04T03:28:05.576Z"
   },
   {
    "duration": 2335,
    "start_time": "2025-01-04T03:28:05.603Z"
   },
   {
    "duration": 30,
    "start_time": "2025-01-04T03:28:07.943Z"
   },
   {
    "duration": 36,
    "start_time": "2025-01-04T03:28:07.975Z"
   },
   {
    "duration": 15,
    "start_time": "2025-01-04T03:28:08.013Z"
   },
   {
    "duration": 6,
    "start_time": "2025-01-04T03:28:08.029Z"
   },
   {
    "duration": 6,
    "start_time": "2025-01-04T03:28:08.036Z"
   },
   {
    "duration": 10,
    "start_time": "2025-01-04T03:28:08.044Z"
   },
   {
    "duration": 322,
    "start_time": "2025-01-04T03:28:08.056Z"
   },
   {
    "duration": 4,
    "start_time": "2025-01-04T03:28:08.380Z"
   },
   {
    "duration": 195,
    "start_time": "2025-01-04T03:28:08.385Z"
   },
   {
    "duration": 182,
    "start_time": "2025-01-04T03:28:08.582Z"
   },
   {
    "duration": 287,
    "start_time": "2025-01-04T03:28:08.766Z"
   },
   {
    "duration": 197,
    "start_time": "2025-01-04T03:28:09.055Z"
   },
   {
    "duration": 192,
    "start_time": "2025-01-04T03:28:09.254Z"
   },
   {
    "duration": 184,
    "start_time": "2025-01-04T03:28:09.447Z"
   },
   {
    "duration": 175,
    "start_time": "2025-01-04T03:28:09.632Z"
   },
   {
    "duration": 161,
    "start_time": "2025-01-04T03:28:09.808Z"
   },
   {
    "duration": 196,
    "start_time": "2025-01-04T03:28:09.971Z"
   },
   {
    "duration": 183,
    "start_time": "2025-01-04T03:28:10.169Z"
   },
   {
    "duration": 196,
    "start_time": "2025-01-04T03:28:10.354Z"
   },
   {
    "duration": 274,
    "start_time": "2025-01-04T03:28:10.552Z"
   },
   {
    "duration": 201,
    "start_time": "2025-01-04T03:28:10.828Z"
   },
   {
    "duration": 8,
    "start_time": "2025-01-04T03:28:11.031Z"
   },
   {
    "duration": 186,
    "start_time": "2025-01-04T03:28:11.041Z"
   },
   {
    "duration": 6,
    "start_time": "2025-01-04T03:28:11.228Z"
   },
   {
    "duration": 191,
    "start_time": "2025-01-04T03:28:11.235Z"
   },
   {
    "duration": 5,
    "start_time": "2025-01-04T03:28:11.427Z"
   },
   {
    "duration": 183,
    "start_time": "2025-01-04T03:28:11.433Z"
   },
   {
    "duration": 5,
    "start_time": "2025-01-04T03:28:11.618Z"
   },
   {
    "duration": 197,
    "start_time": "2025-01-04T03:28:11.624Z"
   },
   {
    "duration": 6,
    "start_time": "2025-01-04T03:28:11.822Z"
   },
   {
    "duration": 175,
    "start_time": "2025-01-04T03:28:11.829Z"
   },
   {
    "duration": 189,
    "start_time": "2025-01-04T03:28:12.006Z"
   },
   {
    "duration": 5,
    "start_time": "2025-01-04T03:28:12.197Z"
   },
   {
    "duration": 182,
    "start_time": "2025-01-04T03:28:12.215Z"
   },
   {
    "duration": 5,
    "start_time": "2025-01-04T03:28:12.399Z"
   },
   {
    "duration": 182,
    "start_time": "2025-01-04T03:28:12.415Z"
   },
   {
    "duration": 18,
    "start_time": "2025-01-04T03:28:12.598Z"
   },
   {
    "duration": 12,
    "start_time": "2025-01-04T03:28:12.617Z"
   },
   {
    "duration": 19,
    "start_time": "2025-01-04T03:28:12.631Z"
   },
   {
    "duration": 5,
    "start_time": "2025-01-04T03:28:12.652Z"
   },
   {
    "duration": 8,
    "start_time": "2025-01-04T03:28:12.658Z"
   },
   {
    "duration": 190,
    "start_time": "2025-01-04T03:28:12.667Z"
   },
   {
    "duration": 35,
    "start_time": "2025-01-04T03:28:12.859Z"
   },
   {
    "duration": 45,
    "start_time": "2025-01-04T03:28:12.895Z"
   },
   {
    "duration": 10,
    "start_time": "2025-01-04T03:28:12.942Z"
   },
   {
    "duration": 176,
    "start_time": "2025-01-04T03:46:35.699Z"
   },
   {
    "duration": 265,
    "start_time": "2025-01-04T03:46:57.483Z"
   },
   {
    "duration": 172,
    "start_time": "2025-01-04T03:48:22.376Z"
   },
   {
    "duration": 168,
    "start_time": "2025-01-04T03:48:25.329Z"
   },
   {
    "duration": 196,
    "start_time": "2025-01-04T14:01:15.529Z"
   },
   {
    "duration": 100,
    "start_time": "2025-01-04T14:01:43.899Z"
   },
   {
    "duration": 198,
    "start_time": "2025-01-04T14:01:48.282Z"
   },
   {
    "duration": 202,
    "start_time": "2025-01-04T14:02:01.960Z"
   },
   {
    "duration": 180,
    "start_time": "2025-01-04T14:02:09.592Z"
   },
   {
    "duration": 182,
    "start_time": "2025-01-04T14:02:36.204Z"
   },
   {
    "duration": 7,
    "start_time": "2025-01-04T14:03:10.153Z"
   },
   {
    "duration": 48,
    "start_time": "2025-01-04T14:03:30.533Z"
   },
   {
    "duration": 44,
    "start_time": "2025-01-04T14:06:00.012Z"
   },
   {
    "duration": 12,
    "start_time": "2025-01-04T14:07:19.182Z"
   },
   {
    "duration": 11,
    "start_time": "2025-01-04T14:07:37.133Z"
   },
   {
    "duration": 14,
    "start_time": "2025-01-04T14:07:51.684Z"
   },
   {
    "duration": 14,
    "start_time": "2025-01-04T14:08:12.551Z"
   },
   {
    "duration": 16,
    "start_time": "2025-01-04T14:09:14.797Z"
   },
   {
    "duration": 17,
    "start_time": "2025-01-04T14:09:33.726Z"
   },
   {
    "duration": 12,
    "start_time": "2025-01-05T07:55:24.191Z"
   },
   {
    "duration": 16,
    "start_time": "2025-01-05T07:55:27.996Z"
   },
   {
    "duration": 17,
    "start_time": "2025-01-05T08:08:16.664Z"
   },
   {
    "duration": 16,
    "start_time": "2025-01-05T08:08:53.578Z"
   },
   {
    "duration": 60,
    "start_time": "2025-01-05T08:15:34.013Z"
   },
   {
    "duration": 38,
    "start_time": "2025-01-05T08:34:00.112Z"
   },
   {
    "duration": 23,
    "start_time": "2025-01-05T08:34:31.651Z"
   },
   {
    "duration": 17,
    "start_time": "2025-01-05T08:36:39.546Z"
   },
   {
    "duration": 21,
    "start_time": "2025-01-05T08:36:47.031Z"
   },
   {
    "duration": 34,
    "start_time": "2025-01-05T08:37:50.219Z"
   },
   {
    "duration": 17,
    "start_time": "2025-01-05T08:40:36.284Z"
   },
   {
    "duration": 12,
    "start_time": "2025-01-05T08:50:44.047Z"
   },
   {
    "duration": 760,
    "start_time": "2025-01-05T08:54:09.304Z"
   },
   {
    "duration": 259,
    "start_time": "2025-01-05T08:54:10.066Z"
   },
   {
    "duration": 17,
    "start_time": "2025-01-05T08:54:10.330Z"
   },
   {
    "duration": 2362,
    "start_time": "2025-01-05T08:54:10.349Z"
   },
   {
    "duration": 22,
    "start_time": "2025-01-05T08:54:12.714Z"
   },
   {
    "duration": 36,
    "start_time": "2025-01-05T08:54:12.738Z"
   },
   {
    "duration": 9,
    "start_time": "2025-01-05T08:54:12.776Z"
   },
   {
    "duration": 11,
    "start_time": "2025-01-05T08:54:12.786Z"
   },
   {
    "duration": 16,
    "start_time": "2025-01-05T08:54:12.814Z"
   },
   {
    "duration": 11,
    "start_time": "2025-01-05T08:54:12.833Z"
   },
   {
    "duration": 11,
    "start_time": "2025-01-05T08:54:12.845Z"
   },
   {
    "duration": 14,
    "start_time": "2025-01-05T08:54:12.858Z"
   },
   {
    "duration": 4,
    "start_time": "2025-01-05T08:54:12.874Z"
   },
   {
    "duration": 35,
    "start_time": "2025-01-05T08:54:12.881Z"
   },
   {
    "duration": 5,
    "start_time": "2025-01-05T08:54:12.929Z"
   },
   {
    "duration": 113,
    "start_time": "2025-01-05T08:54:12.936Z"
   },
   {
    "duration": 26,
    "start_time": "2025-01-05T08:54:13.051Z"
   },
   {
    "duration": 15,
    "start_time": "2025-01-05T08:54:13.078Z"
   },
   {
    "duration": 36,
    "start_time": "2025-01-05T08:54:13.095Z"
   },
   {
    "duration": 5,
    "start_time": "2025-01-05T08:54:13.132Z"
   },
   {
    "duration": 5,
    "start_time": "2025-01-05T08:54:13.139Z"
   },
   {
    "duration": 7,
    "start_time": "2025-01-05T08:54:13.146Z"
   },
   {
    "duration": 4,
    "start_time": "2025-01-05T08:54:13.154Z"
   },
   {
    "duration": 16,
    "start_time": "2025-01-05T08:54:13.159Z"
   },
   {
    "duration": 47,
    "start_time": "2025-01-05T08:54:13.176Z"
   },
   {
    "duration": 17,
    "start_time": "2025-01-05T08:54:13.231Z"
   },
   {
    "duration": 48,
    "start_time": "2025-01-05T08:54:13.249Z"
   },
   {
    "duration": 33,
    "start_time": "2025-01-05T08:54:13.298Z"
   },
   {
    "duration": 41,
    "start_time": "2025-01-05T08:54:13.333Z"
   },
   {
    "duration": 13,
    "start_time": "2025-01-05T08:54:13.376Z"
   },
   {
    "duration": 50,
    "start_time": "2025-01-05T08:54:13.391Z"
   },
   {
    "duration": 4,
    "start_time": "2025-01-05T08:54:13.442Z"
   },
   {
    "duration": 8,
    "start_time": "2025-01-05T08:54:13.448Z"
   },
   {
    "duration": 7,
    "start_time": "2025-01-05T08:54:13.458Z"
   },
   {
    "duration": 51,
    "start_time": "2025-01-05T08:54:13.466Z"
   },
   {
    "duration": 32,
    "start_time": "2025-01-05T08:54:13.519Z"
   },
   {
    "duration": 4,
    "start_time": "2025-01-05T08:54:13.553Z"
   },
   {
    "duration": 22,
    "start_time": "2025-01-05T08:54:13.558Z"
   },
   {
    "duration": 2726,
    "start_time": "2025-01-05T08:54:13.582Z"
   },
   {
    "duration": 42,
    "start_time": "2025-01-05T08:54:16.315Z"
   },
   {
    "duration": 4,
    "start_time": "2025-01-05T08:54:16.362Z"
   },
   {
    "duration": 27,
    "start_time": "2025-01-05T08:54:16.367Z"
   },
   {
    "duration": 30,
    "start_time": "2025-01-05T08:54:16.396Z"
   },
   {
    "duration": 8,
    "start_time": "2025-01-05T08:54:16.428Z"
   },
   {
    "duration": 7,
    "start_time": "2025-01-05T08:54:16.438Z"
   },
   {
    "duration": 373,
    "start_time": "2025-01-05T08:54:16.447Z"
   },
   {
    "duration": 10,
    "start_time": "2025-01-05T08:54:16.821Z"
   },
   {
    "duration": 276,
    "start_time": "2025-01-05T08:54:16.833Z"
   },
   {
    "duration": 222,
    "start_time": "2025-01-05T08:54:17.115Z"
   },
   {
    "duration": 345,
    "start_time": "2025-01-05T08:54:17.338Z"
   },
   {
    "duration": 227,
    "start_time": "2025-01-05T08:54:17.685Z"
   },
   {
    "duration": 212,
    "start_time": "2025-01-05T08:54:17.914Z"
   },
   {
    "duration": 190,
    "start_time": "2025-01-05T08:54:18.131Z"
   },
   {
    "duration": 213,
    "start_time": "2025-01-05T08:54:18.323Z"
   },
   {
    "duration": 212,
    "start_time": "2025-01-05T08:54:18.538Z"
   },
   {
    "duration": 191,
    "start_time": "2025-01-05T08:54:18.752Z"
   },
   {
    "duration": 213,
    "start_time": "2025-01-05T08:54:18.945Z"
   },
   {
    "duration": 210,
    "start_time": "2025-01-05T08:54:19.159Z"
   },
   {
    "duration": 323,
    "start_time": "2025-01-05T08:54:19.371Z"
   },
   {
    "duration": 210,
    "start_time": "2025-01-05T08:54:19.696Z"
   },
   {
    "duration": 221,
    "start_time": "2025-01-05T08:54:19.907Z"
   },
   {
    "duration": 208,
    "start_time": "2025-01-05T08:54:20.130Z"
   },
   {
    "duration": 17,
    "start_time": "2025-01-05T08:54:20.340Z"
   },
   {
    "duration": 9,
    "start_time": "2025-01-05T08:54:20.358Z"
   },
   {
    "duration": 16,
    "start_time": "2025-01-05T08:54:20.369Z"
   },
   {
    "duration": 65,
    "start_time": "2025-01-05T08:54:20.386Z"
   },
   {
    "duration": 12,
    "start_time": "2025-01-05T08:54:20.453Z"
   },
   {
    "duration": 18,
    "start_time": "2025-01-05T08:54:20.467Z"
   },
   {
    "duration": 13,
    "start_time": "2025-01-05T08:54:20.486Z"
   },
   {
    "duration": 27,
    "start_time": "2025-01-05T08:54:20.501Z"
   },
   {
    "duration": 232,
    "start_time": "2025-01-05T08:54:20.530Z"
   },
   {
    "duration": 9,
    "start_time": "2025-01-05T08:54:20.763Z"
   },
   {
    "duration": 235,
    "start_time": "2025-01-05T08:54:20.773Z"
   },
   {
    "duration": 16,
    "start_time": "2025-01-05T08:54:21.015Z"
   },
   {
    "duration": 224,
    "start_time": "2025-01-05T08:54:21.033Z"
   },
   {
    "duration": 5,
    "start_time": "2025-01-05T08:54:21.259Z"
   },
   {
    "duration": 211,
    "start_time": "2025-01-05T08:54:21.266Z"
   },
   {
    "duration": 6,
    "start_time": "2025-01-05T08:54:21.479Z"
   },
   {
    "duration": 217,
    "start_time": "2025-01-05T08:54:21.486Z"
   },
   {
    "duration": 24,
    "start_time": "2025-01-05T08:54:21.705Z"
   },
   {
    "duration": 309,
    "start_time": "2025-01-05T08:54:21.734Z"
   },
   {
    "duration": 215,
    "start_time": "2025-01-05T08:54:22.045Z"
   },
   {
    "duration": 6,
    "start_time": "2025-01-05T08:54:22.262Z"
   },
   {
    "duration": 273,
    "start_time": "2025-01-05T08:54:22.270Z"
   },
   {
    "duration": 6,
    "start_time": "2025-01-05T08:54:22.544Z"
   },
   {
    "duration": 211,
    "start_time": "2025-01-05T08:54:22.552Z"
   },
   {
    "duration": 5,
    "start_time": "2025-01-05T08:54:22.765Z"
   },
   {
    "duration": 22,
    "start_time": "2025-01-05T08:54:22.772Z"
   },
   {
    "duration": 33,
    "start_time": "2025-01-05T08:54:22.796Z"
   },
   {
    "duration": 6,
    "start_time": "2025-01-05T08:54:22.832Z"
   },
   {
    "duration": 176,
    "start_time": "2025-01-05T08:54:22.840Z"
   },
   {
    "duration": 220,
    "start_time": "2025-01-05T08:54:23.023Z"
   },
   {
    "duration": 36,
    "start_time": "2025-01-05T08:54:23.245Z"
   },
   {
    "duration": 56,
    "start_time": "2025-01-05T08:54:23.283Z"
   },
   {
    "duration": 12,
    "start_time": "2025-01-05T08:54:23.340Z"
   },
   {
    "duration": 14,
    "start_time": "2025-01-05T08:59:23.326Z"
   },
   {
    "duration": 94,
    "start_time": "2025-01-05T08:59:52.403Z"
   },
   {
    "duration": 4,
    "start_time": "2025-01-05T09:02:01.931Z"
   },
   {
    "duration": 4,
    "start_time": "2025-01-05T09:02:06.851Z"
   },
   {
    "duration": 4,
    "start_time": "2025-01-05T09:02:10.967Z"
   },
   {
    "duration": 5,
    "start_time": "2025-01-05T09:02:14.527Z"
   },
   {
    "duration": 4,
    "start_time": "2025-01-05T09:02:23.558Z"
   },
   {
    "duration": 3,
    "start_time": "2025-01-05T09:04:46.800Z"
   },
   {
    "duration": 140,
    "start_time": "2025-01-05T15:23:21.782Z"
   },
   {
    "duration": 558,
    "start_time": "2025-01-05T15:23:38.950Z"
   },
   {
    "duration": 551,
    "start_time": "2025-01-05T15:24:49.576Z"
   },
   {
    "duration": 527,
    "start_time": "2025-01-05T15:25:35.700Z"
   },
   {
    "duration": 681,
    "start_time": "2025-01-05T15:25:42.217Z"
   },
   {
    "duration": 9,
    "start_time": "2025-01-05T15:27:58.256Z"
   },
   {
    "duration": 540,
    "start_time": "2025-01-05T15:42:10.042Z"
   },
   {
    "duration": 515,
    "start_time": "2025-01-05T15:42:17.130Z"
   },
   {
    "duration": 10,
    "start_time": "2025-01-05T15:43:07.048Z"
   },
   {
    "duration": 141,
    "start_time": "2025-01-05T15:43:13.825Z"
   },
   {
    "duration": 21,
    "start_time": "2025-01-05T15:55:28.284Z"
   },
   {
    "duration": 21,
    "start_time": "2025-01-05T15:55:34.295Z"
   },
   {
    "duration": 19,
    "start_time": "2025-01-05T16:21:06.493Z"
   },
   {
    "duration": 21,
    "start_time": "2025-01-05T16:21:21.846Z"
   },
   {
    "duration": 21,
    "start_time": "2025-01-05T16:22:45.732Z"
   },
   {
    "duration": 623,
    "start_time": "2025-01-05T16:35:26.269Z"
   },
   {
    "duration": 159,
    "start_time": "2025-01-05T16:35:51.964Z"
   },
   {
    "duration": 329,
    "start_time": "2025-01-05T16:53:24.504Z"
   },
   {
    "duration": 83,
    "start_time": "2025-01-05T17:01:51.621Z"
   },
   {
    "duration": 713,
    "start_time": "2025-01-05T17:03:22.345Z"
   },
   {
    "duration": 243,
    "start_time": "2025-01-05T17:03:23.060Z"
   },
   {
    "duration": 24,
    "start_time": "2025-01-05T17:03:23.305Z"
   },
   {
    "duration": 2315,
    "start_time": "2025-01-05T17:03:23.332Z"
   },
   {
    "duration": 16,
    "start_time": "2025-01-05T17:03:25.649Z"
   },
   {
    "duration": 28,
    "start_time": "2025-01-05T17:03:25.667Z"
   },
   {
    "duration": 36,
    "start_time": "2025-01-05T17:03:25.696Z"
   },
   {
    "duration": 35,
    "start_time": "2025-01-05T17:03:25.733Z"
   },
   {
    "duration": 20,
    "start_time": "2025-01-05T17:03:25.770Z"
   },
   {
    "duration": 14,
    "start_time": "2025-01-05T17:03:25.791Z"
   },
   {
    "duration": 6,
    "start_time": "2025-01-05T17:03:25.807Z"
   },
   {
    "duration": 16,
    "start_time": "2025-01-05T17:03:25.815Z"
   },
   {
    "duration": 20,
    "start_time": "2025-01-05T17:03:25.833Z"
   },
   {
    "duration": 5,
    "start_time": "2025-01-05T17:03:25.857Z"
   },
   {
    "duration": 5,
    "start_time": "2025-01-05T17:03:25.864Z"
   },
   {
    "duration": 123,
    "start_time": "2025-01-05T17:03:25.871Z"
   },
   {
    "duration": 46,
    "start_time": "2025-01-05T17:03:25.996Z"
   },
   {
    "duration": 11,
    "start_time": "2025-01-05T17:03:26.044Z"
   },
   {
    "duration": 26,
    "start_time": "2025-01-05T17:03:26.056Z"
   },
   {
    "duration": 5,
    "start_time": "2025-01-05T17:03:26.083Z"
   },
   {
    "duration": 30,
    "start_time": "2025-01-05T17:03:26.089Z"
   },
   {
    "duration": 15,
    "start_time": "2025-01-05T17:03:26.122Z"
   },
   {
    "duration": 9,
    "start_time": "2025-01-05T17:03:26.139Z"
   },
   {
    "duration": 35,
    "start_time": "2025-01-05T17:03:26.149Z"
   },
   {
    "duration": 9,
    "start_time": "2025-01-05T17:03:26.186Z"
   },
   {
    "duration": 25,
    "start_time": "2025-01-05T17:03:26.196Z"
   },
   {
    "duration": 54,
    "start_time": "2025-01-05T17:03:26.224Z"
   },
   {
    "duration": 8,
    "start_time": "2025-01-05T17:03:26.280Z"
   },
   {
    "duration": 62,
    "start_time": "2025-01-05T17:03:26.290Z"
   },
   {
    "duration": 14,
    "start_time": "2025-01-05T17:03:26.354Z"
   },
   {
    "duration": 26,
    "start_time": "2025-01-05T17:03:26.370Z"
   },
   {
    "duration": 5,
    "start_time": "2025-01-05T17:03:26.418Z"
   },
   {
    "duration": 13,
    "start_time": "2025-01-05T17:03:26.425Z"
   },
   {
    "duration": 9,
    "start_time": "2025-01-05T17:03:26.439Z"
   },
   {
    "duration": 26,
    "start_time": "2025-01-05T17:03:26.450Z"
   },
   {
    "duration": 52,
    "start_time": "2025-01-05T17:03:26.478Z"
   },
   {
    "duration": 13,
    "start_time": "2025-01-05T17:03:26.533Z"
   },
   {
    "duration": 29,
    "start_time": "2025-01-05T17:03:26.552Z"
   },
   {
    "duration": 2549,
    "start_time": "2025-01-05T17:03:26.584Z"
   },
   {
    "duration": 32,
    "start_time": "2025-01-05T17:03:29.135Z"
   },
   {
    "duration": 89,
    "start_time": "2025-01-05T17:03:29.172Z"
   },
   {
    "duration": 18,
    "start_time": "2025-01-05T17:03:29.263Z"
   },
   {
    "duration": 6,
    "start_time": "2025-01-05T17:03:29.282Z"
   },
   {
    "duration": 5,
    "start_time": "2025-01-05T17:03:29.290Z"
   },
   {
    "duration": 6,
    "start_time": "2025-01-05T17:03:29.297Z"
   },
   {
    "duration": 366,
    "start_time": "2025-01-05T17:03:29.304Z"
   },
   {
    "duration": 5,
    "start_time": "2025-01-05T17:03:29.671Z"
   },
   {
    "duration": 213,
    "start_time": "2025-01-05T17:03:29.677Z"
   },
   {
    "duration": 199,
    "start_time": "2025-01-05T17:03:29.892Z"
   },
   {
    "duration": 323,
    "start_time": "2025-01-05T17:03:30.093Z"
   },
   {
    "duration": 240,
    "start_time": "2025-01-05T17:03:30.417Z"
   },
   {
    "duration": 216,
    "start_time": "2025-01-05T17:03:30.659Z"
   },
   {
    "duration": 198,
    "start_time": "2025-01-05T17:03:30.876Z"
   },
   {
    "duration": 196,
    "start_time": "2025-01-05T17:03:31.076Z"
   },
   {
    "duration": 184,
    "start_time": "2025-01-05T17:03:31.274Z"
   },
   {
    "duration": 172,
    "start_time": "2025-01-05T17:03:31.460Z"
   },
   {
    "duration": 219,
    "start_time": "2025-01-05T17:03:31.635Z"
   },
   {
    "duration": 201,
    "start_time": "2025-01-05T17:03:31.856Z"
   },
   {
    "duration": 323,
    "start_time": "2025-01-05T17:03:32.059Z"
   },
   {
    "duration": 221,
    "start_time": "2025-01-05T17:03:32.383Z"
   },
   {
    "duration": 243,
    "start_time": "2025-01-05T17:03:32.605Z"
   },
   {
    "duration": 226,
    "start_time": "2025-01-05T17:03:32.850Z"
   },
   {
    "duration": 16,
    "start_time": "2025-01-05T17:03:33.078Z"
   },
   {
    "duration": 22,
    "start_time": "2025-01-05T17:03:33.096Z"
   },
   {
    "duration": 163,
    "start_time": "2025-01-05T17:03:33.121Z"
   },
   {
    "duration": 26,
    "start_time": "2025-01-05T17:03:33.286Z"
   },
   {
    "duration": 15,
    "start_time": "2025-01-05T17:03:33.314Z"
   },
   {
    "duration": 26,
    "start_time": "2025-01-05T17:03:33.331Z"
   },
   {
    "duration": 26,
    "start_time": "2025-01-05T17:03:33.359Z"
   },
   {
    "duration": 4,
    "start_time": "2025-01-05T17:03:33.387Z"
   },
   {
    "duration": 255,
    "start_time": "2025-01-05T17:03:33.393Z"
   },
   {
    "duration": 8,
    "start_time": "2025-01-05T17:03:33.650Z"
   },
   {
    "duration": 283,
    "start_time": "2025-01-05T17:03:33.660Z"
   },
   {
    "duration": 232,
    "start_time": "2025-01-05T17:03:33.945Z"
   },
   {
    "duration": 5,
    "start_time": "2025-01-05T17:03:34.179Z"
   },
   {
    "duration": 205,
    "start_time": "2025-01-05T17:03:34.185Z"
   },
   {
    "duration": 5,
    "start_time": "2025-01-05T17:03:34.392Z"
   },
   {
    "duration": 197,
    "start_time": "2025-01-05T17:03:34.398Z"
   },
   {
    "duration": 6,
    "start_time": "2025-01-05T17:03:34.596Z"
   },
   {
    "duration": 306,
    "start_time": "2025-01-05T17:03:34.614Z"
   },
   {
    "duration": 9,
    "start_time": "2025-01-05T17:03:34.923Z"
   },
   {
    "duration": 55,
    "start_time": "2025-01-05T17:03:34.934Z"
   },
   {
    "duration": 642,
    "start_time": "2025-01-05T17:03:34.993Z"
   },
   {
    "duration": 611,
    "start_time": "2025-01-05T17:03:35.638Z"
   },
   {
    "duration": 164,
    "start_time": "2025-01-05T17:03:36.251Z"
   },
   {
    "duration": 25,
    "start_time": "2025-01-05T17:03:36.418Z"
   },
   {
    "duration": 246,
    "start_time": "2025-01-05T17:03:36.444Z"
   },
   {
    "duration": 47,
    "start_time": "2025-01-05T17:03:36.692Z"
   },
   {
    "duration": 34,
    "start_time": "2025-01-05T17:03:36.742Z"
   },
   {
    "duration": 73,
    "start_time": "2025-01-05T17:03:36.777Z"
   },
   {
    "duration": 989,
    "start_time": "2025-01-06T10:04:58.793Z"
   },
   {
    "duration": 210,
    "start_time": "2025-01-06T10:04:59.784Z"
   },
   {
    "duration": 13,
    "start_time": "2025-01-06T10:04:59.996Z"
   },
   {
    "duration": 3470,
    "start_time": "2025-01-06T10:05:00.010Z"
   },
   {
    "duration": 16,
    "start_time": "2025-01-06T10:05:03.482Z"
   },
   {
    "duration": 93,
    "start_time": "2025-01-06T10:05:03.499Z"
   },
   {
    "duration": 12,
    "start_time": "2025-01-06T10:05:03.594Z"
   },
   {
    "duration": 26,
    "start_time": "2025-01-06T10:05:03.607Z"
   },
   {
    "duration": 35,
    "start_time": "2025-01-06T10:05:03.635Z"
   },
   {
    "duration": 13,
    "start_time": "2025-01-06T10:05:03.672Z"
   },
   {
    "duration": 5,
    "start_time": "2025-01-06T10:05:03.687Z"
   },
   {
    "duration": 25,
    "start_time": "2025-01-06T10:05:03.693Z"
   },
   {
    "duration": 4,
    "start_time": "2025-01-06T10:05:03.720Z"
   },
   {
    "duration": 24,
    "start_time": "2025-01-06T10:05:03.727Z"
   },
   {
    "duration": 24,
    "start_time": "2025-01-06T10:05:03.752Z"
   },
   {
    "duration": 81,
    "start_time": "2025-01-06T10:05:03.778Z"
   },
   {
    "duration": 25,
    "start_time": "2025-01-06T10:05:03.861Z"
   },
   {
    "duration": 18,
    "start_time": "2025-01-06T10:05:03.887Z"
   },
   {
    "duration": 23,
    "start_time": "2025-01-06T10:05:03.907Z"
   },
   {
    "duration": 11,
    "start_time": "2025-01-06T10:05:03.932Z"
   },
   {
    "duration": 107,
    "start_time": "2025-01-06T10:05:03.944Z"
   },
   {
    "duration": 10,
    "start_time": "2025-01-06T10:05:04.053Z"
   },
   {
    "duration": 14,
    "start_time": "2025-01-06T10:05:04.065Z"
   },
   {
    "duration": 25,
    "start_time": "2025-01-06T10:05:04.080Z"
   },
   {
    "duration": 41,
    "start_time": "2025-01-06T10:05:04.106Z"
   },
   {
    "duration": 65,
    "start_time": "2025-01-06T10:05:04.148Z"
   },
   {
    "duration": 120,
    "start_time": "2025-01-06T10:05:04.214Z"
   },
   {
    "duration": 0,
    "start_time": "2025-01-06T10:05:04.338Z"
   },
   {
    "duration": 0,
    "start_time": "2025-01-06T10:05:04.339Z"
   },
   {
    "duration": 0,
    "start_time": "2025-01-06T10:05:04.340Z"
   },
   {
    "duration": 0,
    "start_time": "2025-01-06T10:05:04.341Z"
   },
   {
    "duration": 0,
    "start_time": "2025-01-06T10:05:04.341Z"
   },
   {
    "duration": 0,
    "start_time": "2025-01-06T10:05:04.342Z"
   },
   {
    "duration": 0,
    "start_time": "2025-01-06T10:05:04.343Z"
   },
   {
    "duration": 0,
    "start_time": "2025-01-06T10:05:04.344Z"
   },
   {
    "duration": 0,
    "start_time": "2025-01-06T10:05:04.345Z"
   },
   {
    "duration": 0,
    "start_time": "2025-01-06T10:05:04.346Z"
   },
   {
    "duration": 0,
    "start_time": "2025-01-06T10:05:04.347Z"
   },
   {
    "duration": 0,
    "start_time": "2025-01-06T10:05:04.349Z"
   },
   {
    "duration": 0,
    "start_time": "2025-01-06T10:05:04.350Z"
   },
   {
    "duration": 0,
    "start_time": "2025-01-06T10:05:04.370Z"
   },
   {
    "duration": 0,
    "start_time": "2025-01-06T10:05:04.372Z"
   },
   {
    "duration": 0,
    "start_time": "2025-01-06T10:05:04.373Z"
   },
   {
    "duration": 0,
    "start_time": "2025-01-06T10:05:04.374Z"
   },
   {
    "duration": 0,
    "start_time": "2025-01-06T10:05:04.375Z"
   },
   {
    "duration": 0,
    "start_time": "2025-01-06T10:05:04.376Z"
   },
   {
    "duration": 0,
    "start_time": "2025-01-06T10:05:04.378Z"
   },
   {
    "duration": 0,
    "start_time": "2025-01-06T10:05:04.380Z"
   },
   {
    "duration": 0,
    "start_time": "2025-01-06T10:05:04.381Z"
   },
   {
    "duration": 0,
    "start_time": "2025-01-06T10:05:04.383Z"
   },
   {
    "duration": 0,
    "start_time": "2025-01-06T10:05:04.385Z"
   },
   {
    "duration": 0,
    "start_time": "2025-01-06T10:05:04.386Z"
   },
   {
    "duration": 0,
    "start_time": "2025-01-06T10:05:04.387Z"
   },
   {
    "duration": 0,
    "start_time": "2025-01-06T10:05:04.388Z"
   },
   {
    "duration": 0,
    "start_time": "2025-01-06T10:05:04.390Z"
   },
   {
    "duration": 0,
    "start_time": "2025-01-06T10:05:04.391Z"
   },
   {
    "duration": 0,
    "start_time": "2025-01-06T10:05:04.393Z"
   },
   {
    "duration": 0,
    "start_time": "2025-01-06T10:05:04.394Z"
   },
   {
    "duration": 0,
    "start_time": "2025-01-06T10:05:04.396Z"
   },
   {
    "duration": 0,
    "start_time": "2025-01-06T10:05:04.397Z"
   },
   {
    "duration": 0,
    "start_time": "2025-01-06T10:05:04.399Z"
   },
   {
    "duration": 0,
    "start_time": "2025-01-06T10:05:04.400Z"
   },
   {
    "duration": 0,
    "start_time": "2025-01-06T10:05:04.401Z"
   },
   {
    "duration": 0,
    "start_time": "2025-01-06T10:05:04.403Z"
   },
   {
    "duration": 0,
    "start_time": "2025-01-06T10:05:04.404Z"
   },
   {
    "duration": 0,
    "start_time": "2025-01-06T10:05:04.405Z"
   },
   {
    "duration": 0,
    "start_time": "2025-01-06T10:05:04.407Z"
   },
   {
    "duration": 0,
    "start_time": "2025-01-06T10:05:04.408Z"
   },
   {
    "duration": 0,
    "start_time": "2025-01-06T10:05:04.410Z"
   },
   {
    "duration": 0,
    "start_time": "2025-01-06T10:05:04.471Z"
   },
   {
    "duration": 0,
    "start_time": "2025-01-06T10:05:04.473Z"
   },
   {
    "duration": 0,
    "start_time": "2025-01-06T10:05:04.474Z"
   },
   {
    "duration": 0,
    "start_time": "2025-01-06T10:05:04.476Z"
   },
   {
    "duration": 0,
    "start_time": "2025-01-06T10:05:04.477Z"
   },
   {
    "duration": 0,
    "start_time": "2025-01-06T10:05:04.478Z"
   },
   {
    "duration": 0,
    "start_time": "2025-01-06T10:05:04.480Z"
   },
   {
    "duration": 0,
    "start_time": "2025-01-06T10:05:04.481Z"
   },
   {
    "duration": 0,
    "start_time": "2025-01-06T10:05:04.482Z"
   },
   {
    "duration": 0,
    "start_time": "2025-01-06T10:05:04.484Z"
   },
   {
    "duration": 0,
    "start_time": "2025-01-06T10:05:04.485Z"
   },
   {
    "duration": 0,
    "start_time": "2025-01-06T10:05:04.486Z"
   },
   {
    "duration": 0,
    "start_time": "2025-01-06T10:05:04.488Z"
   },
   {
    "duration": 0,
    "start_time": "2025-01-06T10:05:04.489Z"
   },
   {
    "duration": 0,
    "start_time": "2025-01-06T10:05:04.491Z"
   },
   {
    "duration": 0,
    "start_time": "2025-01-06T10:05:04.492Z"
   },
   {
    "duration": 0,
    "start_time": "2025-01-06T10:05:04.493Z"
   },
   {
    "duration": 0,
    "start_time": "2025-01-06T10:05:04.494Z"
   },
   {
    "duration": 0,
    "start_time": "2025-01-06T10:05:04.496Z"
   },
   {
    "duration": 0,
    "start_time": "2025-01-06T10:05:04.497Z"
   },
   {
    "duration": 0,
    "start_time": "2025-01-06T10:05:04.499Z"
   },
   {
    "duration": 0,
    "start_time": "2025-01-06T10:05:04.500Z"
   },
   {
    "duration": 1030,
    "start_time": "2025-01-06T11:00:06.037Z"
   },
   {
    "duration": 223,
    "start_time": "2025-01-06T11:00:07.070Z"
   },
   {
    "duration": 14,
    "start_time": "2025-01-06T11:00:07.295Z"
   },
   {
    "duration": 3507,
    "start_time": "2025-01-06T11:00:07.311Z"
   },
   {
    "duration": 15,
    "start_time": "2025-01-06T11:00:10.820Z"
   },
   {
    "duration": 48,
    "start_time": "2025-01-06T11:00:10.837Z"
   },
   {
    "duration": 13,
    "start_time": "2025-01-06T11:00:10.887Z"
   },
   {
    "duration": 10,
    "start_time": "2025-01-06T11:00:10.902Z"
   },
   {
    "duration": 13,
    "start_time": "2025-01-06T11:00:10.914Z"
   },
   {
    "duration": 46,
    "start_time": "2025-01-06T11:00:10.932Z"
   },
   {
    "duration": 5,
    "start_time": "2025-01-06T11:00:10.980Z"
   },
   {
    "duration": 23,
    "start_time": "2025-01-06T11:00:10.987Z"
   },
   {
    "duration": 4,
    "start_time": "2025-01-06T11:00:11.012Z"
   },
   {
    "duration": 9,
    "start_time": "2025-01-06T11:00:11.018Z"
   },
   {
    "duration": 11,
    "start_time": "2025-01-06T11:00:11.029Z"
   },
   {
    "duration": 89,
    "start_time": "2025-01-06T11:00:11.042Z"
   },
   {
    "duration": 39,
    "start_time": "2025-01-06T11:00:11.133Z"
   },
   {
    "duration": 14,
    "start_time": "2025-01-06T11:00:11.174Z"
   },
   {
    "duration": 141,
    "start_time": "2025-01-06T11:00:11.189Z"
   },
   {
    "duration": 5,
    "start_time": "2025-01-06T11:00:11.332Z"
   },
   {
    "duration": 7,
    "start_time": "2025-01-06T11:00:11.338Z"
   },
   {
    "duration": 8,
    "start_time": "2025-01-06T11:00:11.346Z"
   },
   {
    "duration": 7,
    "start_time": "2025-01-06T11:00:11.355Z"
   },
   {
    "duration": 15,
    "start_time": "2025-01-06T11:00:11.363Z"
   },
   {
    "duration": 6,
    "start_time": "2025-01-06T11:00:11.380Z"
   },
   {
    "duration": 15,
    "start_time": "2025-01-06T11:00:11.388Z"
   },
   {
    "duration": 134,
    "start_time": "2025-01-06T11:00:11.405Z"
   },
   {
    "duration": 0,
    "start_time": "2025-01-06T11:00:11.548Z"
   },
   {
    "duration": 0,
    "start_time": "2025-01-06T11:00:11.549Z"
   },
   {
    "duration": 0,
    "start_time": "2025-01-06T11:00:11.551Z"
   },
   {
    "duration": 0,
    "start_time": "2025-01-06T11:00:11.552Z"
   },
   {
    "duration": 0,
    "start_time": "2025-01-06T11:00:11.553Z"
   },
   {
    "duration": 0,
    "start_time": "2025-01-06T11:00:11.571Z"
   },
   {
    "duration": 0,
    "start_time": "2025-01-06T11:00:11.573Z"
   },
   {
    "duration": 0,
    "start_time": "2025-01-06T11:00:11.576Z"
   },
   {
    "duration": 0,
    "start_time": "2025-01-06T11:00:11.578Z"
   },
   {
    "duration": 0,
    "start_time": "2025-01-06T11:00:11.580Z"
   },
   {
    "duration": 0,
    "start_time": "2025-01-06T11:00:11.582Z"
   },
   {
    "duration": 0,
    "start_time": "2025-01-06T11:00:11.584Z"
   },
   {
    "duration": 0,
    "start_time": "2025-01-06T11:00:11.586Z"
   },
   {
    "duration": 0,
    "start_time": "2025-01-06T11:00:11.588Z"
   },
   {
    "duration": 0,
    "start_time": "2025-01-06T11:00:11.590Z"
   },
   {
    "duration": 0,
    "start_time": "2025-01-06T11:00:11.592Z"
   },
   {
    "duration": 0,
    "start_time": "2025-01-06T11:00:11.593Z"
   },
   {
    "duration": 1,
    "start_time": "2025-01-06T11:00:11.595Z"
   },
   {
    "duration": 0,
    "start_time": "2025-01-06T11:00:11.597Z"
   },
   {
    "duration": 0,
    "start_time": "2025-01-06T11:00:11.598Z"
   },
   {
    "duration": 0,
    "start_time": "2025-01-06T11:00:11.600Z"
   },
   {
    "duration": 0,
    "start_time": "2025-01-06T11:00:11.601Z"
   },
   {
    "duration": 0,
    "start_time": "2025-01-06T11:00:11.603Z"
   },
   {
    "duration": 0,
    "start_time": "2025-01-06T11:00:11.604Z"
   },
   {
    "duration": 0,
    "start_time": "2025-01-06T11:00:11.606Z"
   },
   {
    "duration": 0,
    "start_time": "2025-01-06T11:00:11.607Z"
   },
   {
    "duration": 0,
    "start_time": "2025-01-06T11:00:11.609Z"
   },
   {
    "duration": 0,
    "start_time": "2025-01-06T11:00:11.610Z"
   },
   {
    "duration": 0,
    "start_time": "2025-01-06T11:00:11.672Z"
   },
   {
    "duration": 0,
    "start_time": "2025-01-06T11:00:11.674Z"
   },
   {
    "duration": 0,
    "start_time": "2025-01-06T11:00:11.676Z"
   },
   {
    "duration": 0,
    "start_time": "2025-01-06T11:00:11.677Z"
   },
   {
    "duration": 0,
    "start_time": "2025-01-06T11:00:11.679Z"
   },
   {
    "duration": 0,
    "start_time": "2025-01-06T11:00:11.680Z"
   },
   {
    "duration": 0,
    "start_time": "2025-01-06T11:00:11.682Z"
   },
   {
    "duration": 0,
    "start_time": "2025-01-06T11:00:11.683Z"
   },
   {
    "duration": 0,
    "start_time": "2025-01-06T11:00:11.685Z"
   },
   {
    "duration": 0,
    "start_time": "2025-01-06T11:00:11.686Z"
   },
   {
    "duration": 0,
    "start_time": "2025-01-06T11:00:11.688Z"
   },
   {
    "duration": 0,
    "start_time": "2025-01-06T11:00:11.689Z"
   },
   {
    "duration": 0,
    "start_time": "2025-01-06T11:00:11.691Z"
   },
   {
    "duration": 0,
    "start_time": "2025-01-06T11:00:11.692Z"
   },
   {
    "duration": 0,
    "start_time": "2025-01-06T11:00:11.694Z"
   },
   {
    "duration": 0,
    "start_time": "2025-01-06T11:00:11.696Z"
   },
   {
    "duration": 0,
    "start_time": "2025-01-06T11:00:11.697Z"
   },
   {
    "duration": 0,
    "start_time": "2025-01-06T11:00:11.699Z"
   },
   {
    "duration": 0,
    "start_time": "2025-01-06T11:00:11.701Z"
   },
   {
    "duration": 0,
    "start_time": "2025-01-06T11:00:11.702Z"
   },
   {
    "duration": 0,
    "start_time": "2025-01-06T11:00:11.704Z"
   },
   {
    "duration": 0,
    "start_time": "2025-01-06T11:00:11.706Z"
   },
   {
    "duration": 0,
    "start_time": "2025-01-06T11:00:11.707Z"
   },
   {
    "duration": 0,
    "start_time": "2025-01-06T11:00:11.770Z"
   },
   {
    "duration": 0,
    "start_time": "2025-01-06T11:00:11.772Z"
   },
   {
    "duration": 0,
    "start_time": "2025-01-06T11:00:11.773Z"
   },
   {
    "duration": 0,
    "start_time": "2025-01-06T11:00:11.775Z"
   },
   {
    "duration": 0,
    "start_time": "2025-01-06T11:00:11.776Z"
   },
   {
    "duration": 0,
    "start_time": "2025-01-06T11:00:11.777Z"
   },
   {
    "duration": 0,
    "start_time": "2025-01-06T11:00:11.779Z"
   },
   {
    "duration": 0,
    "start_time": "2025-01-06T11:00:11.779Z"
   },
   {
    "duration": 0,
    "start_time": "2025-01-06T11:00:11.780Z"
   },
   {
    "duration": 0,
    "start_time": "2025-01-06T11:00:11.782Z"
   },
   {
    "duration": 0,
    "start_time": "2025-01-06T11:00:11.783Z"
   },
   {
    "duration": 0,
    "start_time": "2025-01-06T11:00:11.783Z"
   },
   {
    "duration": 0,
    "start_time": "2025-01-06T11:00:11.784Z"
   },
   {
    "duration": 817,
    "start_time": "2025-01-06T11:27:22.250Z"
   },
   {
    "duration": 408,
    "start_time": "2025-01-06T11:27:23.068Z"
   },
   {
    "duration": 15,
    "start_time": "2025-01-06T11:27:23.477Z"
   },
   {
    "duration": 1888,
    "start_time": "2025-01-06T11:27:23.493Z"
   },
   {
    "duration": 13,
    "start_time": "2025-01-06T11:27:25.382Z"
   },
   {
    "duration": 23,
    "start_time": "2025-01-06T11:27:25.396Z"
   },
   {
    "duration": 8,
    "start_time": "2025-01-06T11:27:25.420Z"
   },
   {
    "duration": 23,
    "start_time": "2025-01-06T11:27:25.429Z"
   },
   {
    "duration": 9,
    "start_time": "2025-01-06T11:27:25.454Z"
   },
   {
    "duration": 8,
    "start_time": "2025-01-06T11:27:25.465Z"
   },
   {
    "duration": 4,
    "start_time": "2025-01-06T11:27:25.474Z"
   },
   {
    "duration": 21,
    "start_time": "2025-01-06T11:27:25.479Z"
   },
   {
    "duration": 3,
    "start_time": "2025-01-06T11:27:25.502Z"
   },
   {
    "duration": 22,
    "start_time": "2025-01-06T11:27:25.506Z"
   },
   {
    "duration": 4,
    "start_time": "2025-01-06T11:27:25.529Z"
   },
   {
    "duration": 99,
    "start_time": "2025-01-06T11:27:25.535Z"
   },
   {
    "duration": 26,
    "start_time": "2025-01-06T11:27:25.635Z"
   },
   {
    "duration": 17,
    "start_time": "2025-01-06T11:27:25.663Z"
   },
   {
    "duration": 20,
    "start_time": "2025-01-06T11:27:25.681Z"
   },
   {
    "duration": 4,
    "start_time": "2025-01-06T11:27:25.702Z"
   },
   {
    "duration": 6,
    "start_time": "2025-01-06T11:27:25.707Z"
   },
   {
    "duration": 4,
    "start_time": "2025-01-06T11:27:25.715Z"
   },
   {
    "duration": 4,
    "start_time": "2025-01-06T11:27:25.721Z"
   },
   {
    "duration": 33,
    "start_time": "2025-01-06T11:27:25.726Z"
   },
   {
    "duration": 6,
    "start_time": "2025-01-06T11:27:25.760Z"
   },
   {
    "duration": 37,
    "start_time": "2025-01-06T11:27:25.768Z"
   },
   {
    "duration": 48,
    "start_time": "2025-01-06T11:27:25.807Z"
   },
   {
    "duration": 6,
    "start_time": "2025-01-06T11:27:25.860Z"
   },
   {
    "duration": 48,
    "start_time": "2025-01-06T11:27:25.867Z"
   },
   {
    "duration": 12,
    "start_time": "2025-01-06T11:27:25.916Z"
   },
   {
    "duration": 24,
    "start_time": "2025-01-06T11:27:25.930Z"
   },
   {
    "duration": 3,
    "start_time": "2025-01-06T11:27:25.955Z"
   },
   {
    "duration": 7,
    "start_time": "2025-01-06T11:27:25.960Z"
   },
   {
    "duration": 14,
    "start_time": "2025-01-06T11:27:25.968Z"
   },
   {
    "duration": 20,
    "start_time": "2025-01-06T11:27:25.983Z"
   },
   {
    "duration": 19,
    "start_time": "2025-01-06T11:27:26.005Z"
   },
   {
    "duration": 27,
    "start_time": "2025-01-06T11:27:26.025Z"
   },
   {
    "duration": 16,
    "start_time": "2025-01-06T11:27:26.054Z"
   },
   {
    "duration": 2101,
    "start_time": "2025-01-06T11:27:26.072Z"
   },
   {
    "duration": 28,
    "start_time": "2025-01-06T11:27:28.174Z"
   },
   {
    "duration": 3,
    "start_time": "2025-01-06T11:27:28.204Z"
   },
   {
    "duration": 10,
    "start_time": "2025-01-06T11:27:28.208Z"
   },
   {
    "duration": 6,
    "start_time": "2025-01-06T11:27:28.220Z"
   },
   {
    "duration": 24,
    "start_time": "2025-01-06T11:27:28.228Z"
   },
   {
    "duration": 3,
    "start_time": "2025-01-06T11:27:28.254Z"
   },
   {
    "duration": 329,
    "start_time": "2025-01-06T11:27:28.259Z"
   },
   {
    "duration": 4,
    "start_time": "2025-01-06T11:27:28.589Z"
   },
   {
    "duration": 158,
    "start_time": "2025-01-06T11:27:28.595Z"
   },
   {
    "duration": 159,
    "start_time": "2025-01-06T11:27:28.754Z"
   },
   {
    "duration": 231,
    "start_time": "2025-01-06T11:27:28.915Z"
   },
   {
    "duration": 160,
    "start_time": "2025-01-06T11:27:29.152Z"
   },
   {
    "duration": 162,
    "start_time": "2025-01-06T11:27:29.313Z"
   },
   {
    "duration": 153,
    "start_time": "2025-01-06T11:27:29.476Z"
   },
   {
    "duration": 157,
    "start_time": "2025-01-06T11:27:29.630Z"
   },
   {
    "duration": 158,
    "start_time": "2025-01-06T11:27:29.788Z"
   },
   {
    "duration": 136,
    "start_time": "2025-01-06T11:27:29.947Z"
   },
   {
    "duration": 169,
    "start_time": "2025-01-06T11:27:30.085Z"
   },
   {
    "duration": 155,
    "start_time": "2025-01-06T11:27:30.256Z"
   },
   {
    "duration": 234,
    "start_time": "2025-01-06T11:27:30.413Z"
   },
   {
    "duration": 164,
    "start_time": "2025-01-06T11:27:30.653Z"
   },
   {
    "duration": 161,
    "start_time": "2025-01-06T11:27:30.819Z"
   },
   {
    "duration": 165,
    "start_time": "2025-01-06T11:27:30.982Z"
   },
   {
    "duration": 15,
    "start_time": "2025-01-06T11:27:31.153Z"
   },
   {
    "duration": 7,
    "start_time": "2025-01-06T11:27:31.170Z"
   },
   {
    "duration": 26,
    "start_time": "2025-01-06T11:27:31.179Z"
   },
   {
    "duration": 30,
    "start_time": "2025-01-06T11:27:31.207Z"
   },
   {
    "duration": 14,
    "start_time": "2025-01-06T11:27:31.239Z"
   },
   {
    "duration": 16,
    "start_time": "2025-01-06T11:27:31.254Z"
   },
   {
    "duration": 13,
    "start_time": "2025-01-06T11:27:31.271Z"
   },
   {
    "duration": 27,
    "start_time": "2025-01-06T11:27:31.285Z"
   },
   {
    "duration": 168,
    "start_time": "2025-01-06T11:27:31.314Z"
   },
   {
    "duration": 7,
    "start_time": "2025-01-06T11:27:31.483Z"
   },
   {
    "duration": 238,
    "start_time": "2025-01-06T11:27:31.491Z"
   },
   {
    "duration": 171,
    "start_time": "2025-01-06T11:27:31.730Z"
   },
   {
    "duration": 4,
    "start_time": "2025-01-06T11:27:31.903Z"
   },
   {
    "duration": 173,
    "start_time": "2025-01-06T11:27:31.909Z"
   },
   {
    "duration": 5,
    "start_time": "2025-01-06T11:27:32.084Z"
   },
   {
    "duration": 170,
    "start_time": "2025-01-06T11:27:32.090Z"
   },
   {
    "duration": 5,
    "start_time": "2025-01-06T11:27:32.262Z"
   },
   {
    "duration": 231,
    "start_time": "2025-01-06T11:27:32.268Z"
   },
   {
    "duration": 4,
    "start_time": "2025-01-06T11:27:32.501Z"
   },
   {
    "duration": 9,
    "start_time": "2025-01-06T11:27:32.511Z"
   },
   {
    "duration": 67,
    "start_time": "2025-01-06T11:27:32.521Z"
   },
   {
    "duration": 0,
    "start_time": "2025-01-06T11:27:32.589Z"
   },
   {
    "duration": 0,
    "start_time": "2025-01-06T11:27:32.590Z"
   },
   {
    "duration": 0,
    "start_time": "2025-01-06T11:27:32.592Z"
   },
   {
    "duration": 0,
    "start_time": "2025-01-06T11:27:32.593Z"
   },
   {
    "duration": 0,
    "start_time": "2025-01-06T11:27:32.594Z"
   },
   {
    "duration": 0,
    "start_time": "2025-01-06T11:27:32.595Z"
   },
   {
    "duration": 0,
    "start_time": "2025-01-06T11:27:32.596Z"
   },
   {
    "duration": 0,
    "start_time": "2025-01-06T11:27:32.597Z"
   },
   {
    "duration": 663,
    "start_time": "2025-01-06T11:29:05.147Z"
   },
   {
    "duration": 200,
    "start_time": "2025-01-06T11:29:05.811Z"
   },
   {
    "duration": 14,
    "start_time": "2025-01-06T11:29:06.013Z"
   },
   {
    "duration": 1889,
    "start_time": "2025-01-06T11:29:06.028Z"
   },
   {
    "duration": 14,
    "start_time": "2025-01-06T11:29:07.920Z"
   },
   {
    "duration": 57,
    "start_time": "2025-01-06T11:29:07.936Z"
   },
   {
    "duration": 13,
    "start_time": "2025-01-06T11:29:07.995Z"
   },
   {
    "duration": 35,
    "start_time": "2025-01-06T11:29:08.009Z"
   },
   {
    "duration": 20,
    "start_time": "2025-01-06T11:29:08.046Z"
   },
   {
    "duration": 22,
    "start_time": "2025-01-06T11:29:08.067Z"
   },
   {
    "duration": 18,
    "start_time": "2025-01-06T11:29:08.091Z"
   },
   {
    "duration": 49,
    "start_time": "2025-01-06T11:29:08.110Z"
   },
   {
    "duration": 27,
    "start_time": "2025-01-06T11:29:08.160Z"
   },
   {
    "duration": 20,
    "start_time": "2025-01-06T11:29:08.189Z"
   },
   {
    "duration": 28,
    "start_time": "2025-01-06T11:29:08.210Z"
   },
   {
    "duration": 108,
    "start_time": "2025-01-06T11:29:08.239Z"
   },
   {
    "duration": 22,
    "start_time": "2025-01-06T11:29:08.348Z"
   },
   {
    "duration": 9,
    "start_time": "2025-01-06T11:29:08.371Z"
   },
   {
    "duration": 33,
    "start_time": "2025-01-06T11:29:08.381Z"
   },
   {
    "duration": 56,
    "start_time": "2025-01-06T11:29:08.415Z"
   },
   {
    "duration": 22,
    "start_time": "2025-01-06T11:29:08.472Z"
   },
   {
    "duration": 3,
    "start_time": "2025-01-06T11:29:08.496Z"
   },
   {
    "duration": 4,
    "start_time": "2025-01-06T11:29:08.500Z"
   },
   {
    "duration": 16,
    "start_time": "2025-01-06T11:29:08.505Z"
   },
   {
    "duration": 6,
    "start_time": "2025-01-06T11:29:08.523Z"
   },
   {
    "duration": 39,
    "start_time": "2025-01-06T11:29:08.530Z"
   },
   {
    "duration": 46,
    "start_time": "2025-01-06T11:29:08.571Z"
   },
   {
    "duration": 8,
    "start_time": "2025-01-06T11:29:08.619Z"
   },
   {
    "duration": 45,
    "start_time": "2025-01-06T11:29:08.628Z"
   },
   {
    "duration": 14,
    "start_time": "2025-01-06T11:29:08.675Z"
   },
   {
    "duration": 20,
    "start_time": "2025-01-06T11:29:08.690Z"
   },
   {
    "duration": 4,
    "start_time": "2025-01-06T11:29:08.712Z"
   },
   {
    "duration": 35,
    "start_time": "2025-01-06T11:29:08.718Z"
   },
   {
    "duration": 8,
    "start_time": "2025-01-06T11:29:08.754Z"
   },
   {
    "duration": 29,
    "start_time": "2025-01-06T11:29:08.763Z"
   },
   {
    "duration": 21,
    "start_time": "2025-01-06T11:29:08.793Z"
   },
   {
    "duration": 4,
    "start_time": "2025-01-06T11:29:08.816Z"
   },
   {
    "duration": 36,
    "start_time": "2025-01-06T11:29:08.822Z"
   },
   {
    "duration": 2117,
    "start_time": "2025-01-06T11:29:08.860Z"
   },
   {
    "duration": 29,
    "start_time": "2025-01-06T11:29:10.979Z"
   },
   {
    "duration": 12,
    "start_time": "2025-01-06T11:29:11.013Z"
   },
   {
    "duration": 25,
    "start_time": "2025-01-06T11:29:11.027Z"
   },
   {
    "duration": 5,
    "start_time": "2025-01-06T11:29:11.054Z"
   },
   {
    "duration": 8,
    "start_time": "2025-01-06T11:29:11.060Z"
   },
   {
    "duration": 7,
    "start_time": "2025-01-06T11:29:11.069Z"
   },
   {
    "duration": 327,
    "start_time": "2025-01-06T11:29:11.077Z"
   },
   {
    "duration": 4,
    "start_time": "2025-01-06T11:29:11.405Z"
   },
   {
    "duration": 160,
    "start_time": "2025-01-06T11:29:11.411Z"
   },
   {
    "duration": 160,
    "start_time": "2025-01-06T11:29:11.572Z"
   },
   {
    "duration": 225,
    "start_time": "2025-01-06T11:29:11.733Z"
   },
   {
    "duration": 168,
    "start_time": "2025-01-06T11:29:11.960Z"
   },
   {
    "duration": 153,
    "start_time": "2025-01-06T11:29:12.130Z"
   },
   {
    "duration": 155,
    "start_time": "2025-01-06T11:29:12.285Z"
   },
   {
    "duration": 157,
    "start_time": "2025-01-06T11:29:12.442Z"
   },
   {
    "duration": 147,
    "start_time": "2025-01-06T11:29:12.601Z"
   },
   {
    "duration": 144,
    "start_time": "2025-01-06T11:29:12.752Z"
   },
   {
    "duration": 162,
    "start_time": "2025-01-06T11:29:12.897Z"
   },
   {
    "duration": 151,
    "start_time": "2025-01-06T11:29:13.061Z"
   },
   {
    "duration": 162,
    "start_time": "2025-01-06T11:29:13.214Z"
   },
   {
    "duration": 231,
    "start_time": "2025-01-06T11:29:13.377Z"
   },
   {
    "duration": 155,
    "start_time": "2025-01-06T11:29:13.609Z"
   },
   {
    "duration": 190,
    "start_time": "2025-01-06T11:29:13.765Z"
   },
   {
    "duration": 20,
    "start_time": "2025-01-06T11:29:13.957Z"
   },
   {
    "duration": 7,
    "start_time": "2025-01-06T11:29:13.978Z"
   },
   {
    "duration": 29,
    "start_time": "2025-01-06T11:29:13.987Z"
   },
   {
    "duration": 35,
    "start_time": "2025-01-06T11:29:14.018Z"
   },
   {
    "duration": 9,
    "start_time": "2025-01-06T11:29:14.055Z"
   },
   {
    "duration": 22,
    "start_time": "2025-01-06T11:29:14.065Z"
   },
   {
    "duration": 9,
    "start_time": "2025-01-06T11:29:14.088Z"
   },
   {
    "duration": 14,
    "start_time": "2025-01-06T11:29:14.099Z"
   },
   {
    "duration": 191,
    "start_time": "2025-01-06T11:29:14.115Z"
   },
   {
    "duration": 9,
    "start_time": "2025-01-06T11:29:14.307Z"
   },
   {
    "duration": 163,
    "start_time": "2025-01-06T11:29:14.318Z"
   },
   {
    "duration": 182,
    "start_time": "2025-01-06T11:29:14.483Z"
   },
   {
    "duration": 5,
    "start_time": "2025-01-06T11:29:14.667Z"
   },
   {
    "duration": 176,
    "start_time": "2025-01-06T11:29:14.674Z"
   },
   {
    "duration": 5,
    "start_time": "2025-01-06T11:29:14.852Z"
   },
   {
    "duration": 175,
    "start_time": "2025-01-06T11:29:14.858Z"
   },
   {
    "duration": 6,
    "start_time": "2025-01-06T11:29:15.035Z"
   },
   {
    "duration": 200,
    "start_time": "2025-01-06T11:29:15.042Z"
   },
   {
    "duration": 11,
    "start_time": "2025-01-06T11:29:15.244Z"
   },
   {
    "duration": 38,
    "start_time": "2025-01-06T11:29:15.256Z"
   },
   {
    "duration": 589,
    "start_time": "2025-01-06T11:29:15.296Z"
   },
   {
    "duration": 473,
    "start_time": "2025-01-06T11:29:15.887Z"
   },
   {
    "duration": 137,
    "start_time": "2025-01-06T11:29:16.362Z"
   },
   {
    "duration": 20,
    "start_time": "2025-01-06T11:29:16.501Z"
   },
   {
    "duration": 171,
    "start_time": "2025-01-06T11:29:16.523Z"
   },
   {
    "duration": 43,
    "start_time": "2025-01-06T11:29:16.696Z"
   },
   {
    "duration": 41,
    "start_time": "2025-01-06T11:29:16.740Z"
   },
   {
    "duration": 10,
    "start_time": "2025-01-06T11:29:16.783Z"
   },
   {
    "duration": 662,
    "start_time": "2025-01-06T11:31:21.517Z"
   },
   {
    "duration": 195,
    "start_time": "2025-01-06T11:31:22.181Z"
   },
   {
    "duration": 13,
    "start_time": "2025-01-06T11:31:22.378Z"
   },
   {
    "duration": 1888,
    "start_time": "2025-01-06T11:31:22.393Z"
   },
   {
    "duration": 13,
    "start_time": "2025-01-06T11:31:24.283Z"
   },
   {
    "duration": 24,
    "start_time": "2025-01-06T11:31:24.298Z"
   },
   {
    "duration": 7,
    "start_time": "2025-01-06T11:31:24.324Z"
   },
   {
    "duration": 9,
    "start_time": "2025-01-06T11:31:24.333Z"
   },
   {
    "duration": 17,
    "start_time": "2025-01-06T11:31:24.343Z"
   },
   {
    "duration": 9,
    "start_time": "2025-01-06T11:31:24.361Z"
   },
   {
    "duration": 5,
    "start_time": "2025-01-06T11:31:24.371Z"
   },
   {
    "duration": 12,
    "start_time": "2025-01-06T11:31:24.377Z"
   },
   {
    "duration": 3,
    "start_time": "2025-01-06T11:31:24.391Z"
   },
   {
    "duration": 3,
    "start_time": "2025-01-06T11:31:24.397Z"
   },
   {
    "duration": 4,
    "start_time": "2025-01-06T11:31:24.402Z"
   },
   {
    "duration": 128,
    "start_time": "2025-01-06T11:31:24.407Z"
   },
   {
    "duration": 28,
    "start_time": "2025-01-06T11:31:24.537Z"
   },
   {
    "duration": 11,
    "start_time": "2025-01-06T11:31:24.567Z"
   },
   {
    "duration": 18,
    "start_time": "2025-01-06T11:31:24.579Z"
   },
   {
    "duration": 4,
    "start_time": "2025-01-06T11:31:24.600Z"
   },
   {
    "duration": 4,
    "start_time": "2025-01-06T11:31:24.606Z"
   },
   {
    "duration": 4,
    "start_time": "2025-01-06T11:31:24.612Z"
   },
   {
    "duration": 38,
    "start_time": "2025-01-06T11:31:24.618Z"
   },
   {
    "duration": 34,
    "start_time": "2025-01-06T11:31:24.658Z"
   },
   {
    "duration": 6,
    "start_time": "2025-01-06T11:31:24.694Z"
   },
   {
    "duration": 16,
    "start_time": "2025-01-06T11:31:24.702Z"
   },
   {
    "duration": 56,
    "start_time": "2025-01-06T11:31:24.720Z"
   },
   {
    "duration": 8,
    "start_time": "2025-01-06T11:31:24.778Z"
   },
   {
    "duration": 36,
    "start_time": "2025-01-06T11:31:24.788Z"
   },
   {
    "duration": 30,
    "start_time": "2025-01-06T11:31:24.826Z"
   },
   {
    "duration": 21,
    "start_time": "2025-01-06T11:31:24.858Z"
   },
   {
    "duration": 4,
    "start_time": "2025-01-06T11:31:24.881Z"
   },
   {
    "duration": 17,
    "start_time": "2025-01-06T11:31:24.886Z"
   },
   {
    "duration": 8,
    "start_time": "2025-01-06T11:31:24.905Z"
   },
   {
    "duration": 41,
    "start_time": "2025-01-06T11:31:24.914Z"
   },
   {
    "duration": 21,
    "start_time": "2025-01-06T11:31:24.957Z"
   },
   {
    "duration": 4,
    "start_time": "2025-01-06T11:31:24.980Z"
   },
   {
    "duration": 15,
    "start_time": "2025-01-06T11:31:24.985Z"
   },
   {
    "duration": 2123,
    "start_time": "2025-01-06T11:31:25.002Z"
   },
   {
    "duration": 42,
    "start_time": "2025-01-06T11:31:27.126Z"
   },
   {
    "duration": 3,
    "start_time": "2025-01-06T11:31:27.173Z"
   },
   {
    "duration": 37,
    "start_time": "2025-01-06T11:31:27.177Z"
   },
   {
    "duration": 23,
    "start_time": "2025-01-06T11:31:27.216Z"
   },
   {
    "duration": 16,
    "start_time": "2025-01-06T11:31:27.241Z"
   },
   {
    "duration": 18,
    "start_time": "2025-01-06T11:31:27.259Z"
   },
   {
    "duration": 345,
    "start_time": "2025-01-06T11:31:27.279Z"
   },
   {
    "duration": 3,
    "start_time": "2025-01-06T11:31:27.626Z"
   },
   {
    "duration": 205,
    "start_time": "2025-01-06T11:31:27.630Z"
   },
   {
    "duration": 160,
    "start_time": "2025-01-06T11:31:27.837Z"
   },
   {
    "duration": 236,
    "start_time": "2025-01-06T11:31:27.999Z"
   },
   {
    "duration": 162,
    "start_time": "2025-01-06T11:31:28.237Z"
   },
   {
    "duration": 158,
    "start_time": "2025-01-06T11:31:28.401Z"
   },
   {
    "duration": 146,
    "start_time": "2025-01-06T11:31:28.560Z"
   },
   {
    "duration": 165,
    "start_time": "2025-01-06T11:31:28.707Z"
   },
   {
    "duration": 158,
    "start_time": "2025-01-06T11:31:28.874Z"
   },
   {
    "duration": 140,
    "start_time": "2025-01-06T11:31:29.034Z"
   },
   {
    "duration": 163,
    "start_time": "2025-01-06T11:31:29.176Z"
   },
   {
    "duration": 156,
    "start_time": "2025-01-06T11:31:29.341Z"
   },
   {
    "duration": 163,
    "start_time": "2025-01-06T11:31:29.498Z"
   },
   {
    "duration": 227,
    "start_time": "2025-01-06T11:31:29.662Z"
   },
   {
    "duration": 162,
    "start_time": "2025-01-06T11:31:29.891Z"
   },
   {
    "duration": 162,
    "start_time": "2025-01-06T11:31:30.055Z"
   },
   {
    "duration": 15,
    "start_time": "2025-01-06T11:31:30.218Z"
   },
   {
    "duration": 19,
    "start_time": "2025-01-06T11:31:30.234Z"
   },
   {
    "duration": 69,
    "start_time": "2025-01-06T11:31:30.254Z"
   },
   {
    "duration": 76,
    "start_time": "2025-01-06T11:31:30.325Z"
   },
   {
    "duration": 47,
    "start_time": "2025-01-06T11:31:30.402Z"
   },
   {
    "duration": 33,
    "start_time": "2025-01-06T11:31:30.451Z"
   },
   {
    "duration": 32,
    "start_time": "2025-01-06T11:31:30.486Z"
   },
   {
    "duration": 15,
    "start_time": "2025-01-06T11:31:30.520Z"
   },
   {
    "duration": 182,
    "start_time": "2025-01-06T11:31:30.537Z"
   },
   {
    "duration": 8,
    "start_time": "2025-01-06T11:31:30.721Z"
   },
   {
    "duration": 244,
    "start_time": "2025-01-06T11:31:30.731Z"
   },
   {
    "duration": 192,
    "start_time": "2025-01-06T11:31:30.977Z"
   },
   {
    "duration": 4,
    "start_time": "2025-01-06T11:31:31.171Z"
   },
   {
    "duration": 209,
    "start_time": "2025-01-06T11:31:31.177Z"
   },
   {
    "duration": 5,
    "start_time": "2025-01-06T11:31:31.387Z"
   },
   {
    "duration": 197,
    "start_time": "2025-01-06T11:31:31.393Z"
   },
   {
    "duration": 5,
    "start_time": "2025-01-06T11:31:31.591Z"
   },
   {
    "duration": 245,
    "start_time": "2025-01-06T11:31:31.598Z"
   },
   {
    "duration": 4,
    "start_time": "2025-01-06T11:31:31.844Z"
   },
   {
    "duration": 8,
    "start_time": "2025-01-06T11:31:31.850Z"
   },
   {
    "duration": 548,
    "start_time": "2025-01-06T11:31:31.859Z"
   },
   {
    "duration": 471,
    "start_time": "2025-01-06T11:31:32.408Z"
   },
   {
    "duration": 129,
    "start_time": "2025-01-06T11:31:32.881Z"
   },
   {
    "duration": 18,
    "start_time": "2025-01-06T11:31:33.012Z"
   },
   {
    "duration": 167,
    "start_time": "2025-01-06T11:31:33.031Z"
   },
   {
    "duration": 41,
    "start_time": "2025-01-06T11:31:33.199Z"
   },
   {
    "duration": 32,
    "start_time": "2025-01-06T11:31:33.253Z"
   },
   {
    "duration": 10,
    "start_time": "2025-01-06T11:31:33.287Z"
   },
   {
    "duration": 633,
    "start_time": "2025-01-06T11:35:12.559Z"
   },
   {
    "duration": 191,
    "start_time": "2025-01-06T11:35:13.194Z"
   },
   {
    "duration": 13,
    "start_time": "2025-01-06T11:35:13.386Z"
   },
   {
    "duration": 1872,
    "start_time": "2025-01-06T11:35:13.401Z"
   },
   {
    "duration": 12,
    "start_time": "2025-01-06T11:35:15.275Z"
   },
   {
    "duration": 55,
    "start_time": "2025-01-06T11:35:15.288Z"
   },
   {
    "duration": 29,
    "start_time": "2025-01-06T11:35:15.344Z"
   },
   {
    "duration": 40,
    "start_time": "2025-01-06T11:35:15.374Z"
   },
   {
    "duration": 9,
    "start_time": "2025-01-06T11:35:15.415Z"
   },
   {
    "duration": 12,
    "start_time": "2025-01-06T11:35:15.426Z"
   },
   {
    "duration": 50,
    "start_time": "2025-01-06T11:35:15.440Z"
   },
   {
    "duration": 76,
    "start_time": "2025-01-06T11:35:15.491Z"
   },
   {
    "duration": 82,
    "start_time": "2025-01-06T11:35:15.569Z"
   },
   {
    "duration": 33,
    "start_time": "2025-01-06T11:35:15.652Z"
   },
   {
    "duration": 13,
    "start_time": "2025-01-06T11:35:15.687Z"
   },
   {
    "duration": 95,
    "start_time": "2025-01-06T11:35:15.701Z"
   },
   {
    "duration": 22,
    "start_time": "2025-01-06T11:35:15.797Z"
   },
   {
    "duration": 30,
    "start_time": "2025-01-06T11:35:15.821Z"
   },
   {
    "duration": 20,
    "start_time": "2025-01-06T11:35:15.853Z"
   },
   {
    "duration": 10,
    "start_time": "2025-01-06T11:35:15.875Z"
   },
   {
    "duration": 6,
    "start_time": "2025-01-06T11:35:15.886Z"
   },
   {
    "duration": 5,
    "start_time": "2025-01-06T11:35:15.893Z"
   },
   {
    "duration": 9,
    "start_time": "2025-01-06T11:35:15.899Z"
   },
   {
    "duration": 22,
    "start_time": "2025-01-06T11:35:15.910Z"
   },
   {
    "duration": 5,
    "start_time": "2025-01-06T11:35:15.934Z"
   },
   {
    "duration": 25,
    "start_time": "2025-01-06T11:35:15.941Z"
   },
   {
    "duration": 42,
    "start_time": "2025-01-06T11:35:15.968Z"
   },
   {
    "duration": 7,
    "start_time": "2025-01-06T11:35:16.014Z"
   },
   {
    "duration": 59,
    "start_time": "2025-01-06T11:35:16.022Z"
   },
   {
    "duration": 12,
    "start_time": "2025-01-06T11:35:16.082Z"
   },
   {
    "duration": 19,
    "start_time": "2025-01-06T11:35:16.096Z"
   },
   {
    "duration": 4,
    "start_time": "2025-01-06T11:35:16.116Z"
   },
   {
    "duration": 7,
    "start_time": "2025-01-06T11:35:16.121Z"
   },
   {
    "duration": 28,
    "start_time": "2025-01-06T11:35:16.130Z"
   },
   {
    "duration": 25,
    "start_time": "2025-01-06T11:35:16.160Z"
   },
   {
    "duration": 21,
    "start_time": "2025-01-06T11:35:16.186Z"
   },
   {
    "duration": 3,
    "start_time": "2025-01-06T11:35:16.208Z"
   },
   {
    "duration": 40,
    "start_time": "2025-01-06T11:35:16.213Z"
   },
   {
    "duration": 2092,
    "start_time": "2025-01-06T11:35:16.254Z"
   },
   {
    "duration": 29,
    "start_time": "2025-01-06T11:35:18.352Z"
   },
   {
    "duration": 20,
    "start_time": "2025-01-06T11:35:18.382Z"
   },
   {
    "duration": 53,
    "start_time": "2025-01-06T11:35:18.403Z"
   },
   {
    "duration": 5,
    "start_time": "2025-01-06T11:35:18.457Z"
   },
   {
    "duration": 20,
    "start_time": "2025-01-06T11:35:18.464Z"
   },
   {
    "duration": 52,
    "start_time": "2025-01-06T11:35:18.485Z"
   },
   {
    "duration": 321,
    "start_time": "2025-01-06T11:35:18.539Z"
   },
   {
    "duration": 4,
    "start_time": "2025-01-06T11:35:18.862Z"
   },
   {
    "duration": 156,
    "start_time": "2025-01-06T11:35:18.867Z"
   },
   {
    "duration": 159,
    "start_time": "2025-01-06T11:35:19.024Z"
   },
   {
    "duration": 230,
    "start_time": "2025-01-06T11:35:19.184Z"
   },
   {
    "duration": 164,
    "start_time": "2025-01-06T11:35:19.415Z"
   },
   {
    "duration": 158,
    "start_time": "2025-01-06T11:35:19.581Z"
   },
   {
    "duration": 149,
    "start_time": "2025-01-06T11:35:19.741Z"
   },
   {
    "duration": 168,
    "start_time": "2025-01-06T11:35:19.891Z"
   },
   {
    "duration": 150,
    "start_time": "2025-01-06T11:35:20.061Z"
   },
   {
    "duration": 146,
    "start_time": "2025-01-06T11:35:20.212Z"
   },
   {
    "duration": 170,
    "start_time": "2025-01-06T11:35:20.359Z"
   },
   {
    "duration": 151,
    "start_time": "2025-01-06T11:35:20.530Z"
   },
   {
    "duration": 232,
    "start_time": "2025-01-06T11:35:20.682Z"
   },
   {
    "duration": 170,
    "start_time": "2025-01-06T11:35:20.915Z"
   },
   {
    "duration": 156,
    "start_time": "2025-01-06T11:35:21.086Z"
   },
   {
    "duration": 166,
    "start_time": "2025-01-06T11:35:21.243Z"
   },
   {
    "duration": 15,
    "start_time": "2025-01-06T11:35:21.410Z"
   },
   {
    "duration": 16,
    "start_time": "2025-01-06T11:35:21.427Z"
   },
   {
    "duration": 97,
    "start_time": "2025-01-06T11:35:21.444Z"
   },
   {
    "duration": 55,
    "start_time": "2025-01-06T11:35:21.543Z"
   },
   {
    "duration": 9,
    "start_time": "2025-01-06T11:35:21.599Z"
   },
   {
    "duration": 82,
    "start_time": "2025-01-06T11:35:21.609Z"
   },
   {
    "duration": 30,
    "start_time": "2025-01-06T11:35:21.693Z"
   },
   {
    "duration": 17,
    "start_time": "2025-01-06T11:35:21.724Z"
   },
   {
    "duration": 187,
    "start_time": "2025-01-06T11:35:21.743Z"
   },
   {
    "duration": 7,
    "start_time": "2025-01-06T11:35:21.932Z"
   },
   {
    "duration": 172,
    "start_time": "2025-01-06T11:35:21.940Z"
   },
   {
    "duration": 183,
    "start_time": "2025-01-06T11:35:22.114Z"
   },
   {
    "duration": 5,
    "start_time": "2025-01-06T11:35:22.298Z"
   },
   {
    "duration": 187,
    "start_time": "2025-01-06T11:35:22.304Z"
   },
   {
    "duration": 5,
    "start_time": "2025-01-06T11:35:22.492Z"
   },
   {
    "duration": 177,
    "start_time": "2025-01-06T11:35:22.498Z"
   },
   {
    "duration": 4,
    "start_time": "2025-01-06T11:35:22.677Z"
   },
   {
    "duration": 234,
    "start_time": "2025-01-06T11:35:22.682Z"
   },
   {
    "duration": 5,
    "start_time": "2025-01-06T11:35:22.917Z"
   },
   {
    "duration": 15,
    "start_time": "2025-01-06T11:35:22.927Z"
   },
   {
    "duration": 501,
    "start_time": "2025-01-06T11:35:22.943Z"
   },
   {
    "duration": 513,
    "start_time": "2025-01-06T11:35:23.446Z"
   },
   {
    "duration": 140,
    "start_time": "2025-01-06T11:35:23.961Z"
   },
   {
    "duration": 18,
    "start_time": "2025-01-06T11:35:24.103Z"
   },
   {
    "duration": 169,
    "start_time": "2025-01-06T11:35:24.123Z"
   },
   {
    "duration": 59,
    "start_time": "2025-01-06T11:35:24.294Z"
   },
   {
    "duration": 34,
    "start_time": "2025-01-06T11:35:24.355Z"
   },
   {
    "duration": 10,
    "start_time": "2025-01-06T11:35:24.391Z"
   },
   {
    "duration": 69,
    "start_time": "2025-01-06T12:14:25.207Z"
   },
   {
    "duration": 400,
    "start_time": "2025-01-06T12:14:56.453Z"
   },
   {
    "duration": 26,
    "start_time": "2025-01-06T12:30:08.047Z"
   },
   {
    "duration": 230,
    "start_time": "2025-01-06T12:30:53.376Z"
   },
   {
    "duration": 35,
    "start_time": "2025-01-06T12:31:34.698Z"
   },
   {
    "duration": 22,
    "start_time": "2025-01-06T12:31:44.101Z"
   },
   {
    "duration": 9,
    "start_time": "2025-01-06T12:32:50.513Z"
   },
   {
    "duration": 173,
    "start_time": "2025-01-06T12:33:03.731Z"
   },
   {
    "duration": 11,
    "start_time": "2025-01-06T12:33:10.532Z"
   },
   {
    "duration": 157,
    "start_time": "2025-01-06T12:33:12.136Z"
   },
   {
    "duration": 16,
    "start_time": "2025-01-06T12:34:45.070Z"
   },
   {
    "duration": 629,
    "start_time": "2025-01-06T12:35:26.469Z"
   },
   {
    "duration": 189,
    "start_time": "2025-01-06T12:35:27.099Z"
   },
   {
    "duration": 14,
    "start_time": "2025-01-06T12:35:27.289Z"
   },
   {
    "duration": 1817,
    "start_time": "2025-01-06T12:35:27.304Z"
   },
   {
    "duration": 12,
    "start_time": "2025-01-06T12:35:29.123Z"
   },
   {
    "duration": 37,
    "start_time": "2025-01-06T12:35:29.136Z"
   },
   {
    "duration": 8,
    "start_time": "2025-01-06T12:35:29.174Z"
   },
   {
    "duration": 15,
    "start_time": "2025-01-06T12:35:29.183Z"
   },
   {
    "duration": 20,
    "start_time": "2025-01-06T12:35:29.199Z"
   },
   {
    "duration": 8,
    "start_time": "2025-01-06T12:35:29.221Z"
   },
   {
    "duration": 7,
    "start_time": "2025-01-06T12:35:29.231Z"
   },
   {
    "duration": 13,
    "start_time": "2025-01-06T12:35:29.239Z"
   },
   {
    "duration": 3,
    "start_time": "2025-01-06T12:35:29.254Z"
   },
   {
    "duration": 11,
    "start_time": "2025-01-06T12:35:29.258Z"
   },
   {
    "duration": 7,
    "start_time": "2025-01-06T12:35:29.270Z"
   },
   {
    "duration": 104,
    "start_time": "2025-01-06T12:35:29.278Z"
   },
   {
    "duration": 22,
    "start_time": "2025-01-06T12:35:29.384Z"
   },
   {
    "duration": 10,
    "start_time": "2025-01-06T12:35:29.407Z"
   },
   {
    "duration": 26,
    "start_time": "2025-01-06T12:35:29.418Z"
   },
   {
    "duration": 8,
    "start_time": "2025-01-06T12:35:29.446Z"
   },
   {
    "duration": 4,
    "start_time": "2025-01-06T12:35:29.455Z"
   },
   {
    "duration": 7,
    "start_time": "2025-01-06T12:35:29.460Z"
   },
   {
    "duration": 7,
    "start_time": "2025-01-06T12:35:29.468Z"
   },
   {
    "duration": 38,
    "start_time": "2025-01-06T12:35:29.476Z"
   },
   {
    "duration": 6,
    "start_time": "2025-01-06T12:35:29.515Z"
   },
   {
    "duration": 14,
    "start_time": "2025-01-06T12:35:29.522Z"
   },
   {
    "duration": 46,
    "start_time": "2025-01-06T12:35:29.537Z"
   },
   {
    "duration": 6,
    "start_time": "2025-01-06T12:35:29.587Z"
   },
   {
    "duration": 46,
    "start_time": "2025-01-06T12:35:29.594Z"
   },
   {
    "duration": 15,
    "start_time": "2025-01-06T12:35:29.642Z"
   },
   {
    "duration": 18,
    "start_time": "2025-01-06T12:35:29.658Z"
   },
   {
    "duration": 4,
    "start_time": "2025-01-06T12:35:29.677Z"
   },
   {
    "duration": 18,
    "start_time": "2025-01-06T12:35:29.682Z"
   },
   {
    "duration": 10,
    "start_time": "2025-01-06T12:35:29.701Z"
   },
   {
    "duration": 20,
    "start_time": "2025-01-06T12:35:29.713Z"
   },
   {
    "duration": 33,
    "start_time": "2025-01-06T12:35:29.734Z"
   },
   {
    "duration": 3,
    "start_time": "2025-01-06T12:35:29.768Z"
   },
   {
    "duration": 15,
    "start_time": "2025-01-06T12:35:29.773Z"
   },
   {
    "duration": 2102,
    "start_time": "2025-01-06T12:35:29.790Z"
   },
   {
    "duration": 26,
    "start_time": "2025-01-06T12:35:31.894Z"
   },
   {
    "duration": 28,
    "start_time": "2025-01-06T12:35:31.921Z"
   },
   {
    "duration": 13,
    "start_time": "2025-01-06T12:35:31.951Z"
   },
   {
    "duration": 5,
    "start_time": "2025-01-06T12:35:31.966Z"
   },
   {
    "duration": 18,
    "start_time": "2025-01-06T12:35:31.972Z"
   },
   {
    "duration": 17,
    "start_time": "2025-01-06T12:35:31.991Z"
   },
   {
    "duration": 324,
    "start_time": "2025-01-06T12:35:32.010Z"
   },
   {
    "duration": 4,
    "start_time": "2025-01-06T12:35:32.336Z"
   },
   {
    "duration": 162,
    "start_time": "2025-01-06T12:35:32.341Z"
   },
   {
    "duration": 163,
    "start_time": "2025-01-06T12:35:32.505Z"
   },
   {
    "duration": 242,
    "start_time": "2025-01-06T12:35:32.669Z"
   },
   {
    "duration": 170,
    "start_time": "2025-01-06T12:35:32.913Z"
   },
   {
    "duration": 161,
    "start_time": "2025-01-06T12:35:33.084Z"
   },
   {
    "duration": 153,
    "start_time": "2025-01-06T12:35:33.247Z"
   },
   {
    "duration": 157,
    "start_time": "2025-01-06T12:35:33.401Z"
   },
   {
    "duration": 155,
    "start_time": "2025-01-06T12:35:33.560Z"
   },
   {
    "duration": 140,
    "start_time": "2025-01-06T12:35:33.716Z"
   },
   {
    "duration": 214,
    "start_time": "2025-01-06T12:35:33.858Z"
   },
   {
    "duration": 156,
    "start_time": "2025-01-06T12:35:34.074Z"
   },
   {
    "duration": 252,
    "start_time": "2025-01-06T12:35:34.232Z"
   },
   {
    "duration": 170,
    "start_time": "2025-01-06T12:35:34.486Z"
   },
   {
    "duration": 152,
    "start_time": "2025-01-06T12:35:34.657Z"
   },
   {
    "duration": 168,
    "start_time": "2025-01-06T12:35:34.810Z"
   },
   {
    "duration": 15,
    "start_time": "2025-01-06T12:35:34.980Z"
   },
   {
    "duration": 22,
    "start_time": "2025-01-06T12:35:34.996Z"
   },
   {
    "duration": 174,
    "start_time": "2025-01-06T12:35:35.020Z"
   },
   {
    "duration": 34,
    "start_time": "2025-01-06T12:35:35.196Z"
   },
   {
    "duration": 25,
    "start_time": "2025-01-06T12:35:35.232Z"
   },
   {
    "duration": 166,
    "start_time": "2025-01-06T12:35:35.258Z"
   },
   {
    "duration": 14,
    "start_time": "2025-01-06T12:35:35.426Z"
   },
   {
    "duration": 51,
    "start_time": "2025-01-06T12:35:35.441Z"
   },
   {
    "duration": 23,
    "start_time": "2025-01-06T12:35:35.493Z"
   },
   {
    "duration": 19,
    "start_time": "2025-01-06T12:35:35.518Z"
   },
   {
    "duration": 17,
    "start_time": "2025-01-06T12:35:35.539Z"
   },
   {
    "duration": 4,
    "start_time": "2025-01-06T12:35:35.557Z"
   },
   {
    "duration": 220,
    "start_time": "2025-01-06T12:35:35.562Z"
   },
   {
    "duration": 179,
    "start_time": "2025-01-06T12:35:35.784Z"
   },
   {
    "duration": 7,
    "start_time": "2025-01-06T12:35:35.964Z"
   },
   {
    "duration": 273,
    "start_time": "2025-01-06T12:35:35.972Z"
   },
   {
    "duration": 163,
    "start_time": "2025-01-06T12:35:36.252Z"
   },
   {
    "duration": 5,
    "start_time": "2025-01-06T12:35:36.417Z"
   },
   {
    "duration": 166,
    "start_time": "2025-01-06T12:35:36.423Z"
   },
   {
    "duration": 4,
    "start_time": "2025-01-06T12:35:36.595Z"
   },
   {
    "duration": 245,
    "start_time": "2025-01-06T12:35:36.600Z"
   },
   {
    "duration": 7,
    "start_time": "2025-01-06T12:35:36.846Z"
   },
   {
    "duration": 188,
    "start_time": "2025-01-06T12:35:36.855Z"
   },
   {
    "duration": 9,
    "start_time": "2025-01-06T12:35:37.044Z"
   },
   {
    "duration": 16,
    "start_time": "2025-01-06T12:35:37.054Z"
   },
   {
    "duration": 481,
    "start_time": "2025-01-06T12:35:37.072Z"
   },
   {
    "duration": 527,
    "start_time": "2025-01-06T12:35:37.554Z"
   },
   {
    "duration": 129,
    "start_time": "2025-01-06T12:35:38.082Z"
   },
   {
    "duration": 17,
    "start_time": "2025-01-06T12:35:38.212Z"
   },
   {
    "duration": 161,
    "start_time": "2025-01-06T12:35:38.231Z"
   },
   {
    "duration": 42,
    "start_time": "2025-01-06T12:35:38.394Z"
   },
   {
    "duration": 45,
    "start_time": "2025-01-06T12:35:38.438Z"
   },
   {
    "duration": 10,
    "start_time": "2025-01-06T12:35:38.485Z"
   },
   {
    "duration": 633,
    "start_time": "2025-01-06T12:41:59.693Z"
   },
   {
    "duration": 215,
    "start_time": "2025-01-06T12:42:00.328Z"
   },
   {
    "duration": 19,
    "start_time": "2025-01-06T12:42:00.544Z"
   },
   {
    "duration": 1920,
    "start_time": "2025-01-06T12:42:00.565Z"
   },
   {
    "duration": 12,
    "start_time": "2025-01-06T12:42:02.487Z"
   },
   {
    "duration": 70,
    "start_time": "2025-01-06T12:42:02.500Z"
   },
   {
    "duration": 8,
    "start_time": "2025-01-06T12:42:02.572Z"
   },
   {
    "duration": 26,
    "start_time": "2025-01-06T12:42:02.581Z"
   },
   {
    "duration": 16,
    "start_time": "2025-01-06T12:42:02.608Z"
   },
   {
    "duration": 9,
    "start_time": "2025-01-06T12:42:02.626Z"
   },
   {
    "duration": 19,
    "start_time": "2025-01-06T12:42:02.636Z"
   },
   {
    "duration": 17,
    "start_time": "2025-01-06T12:42:02.656Z"
   },
   {
    "duration": 15,
    "start_time": "2025-01-06T12:42:02.675Z"
   },
   {
    "duration": 32,
    "start_time": "2025-01-06T12:42:02.691Z"
   },
   {
    "duration": 28,
    "start_time": "2025-01-06T12:42:02.724Z"
   },
   {
    "duration": 180,
    "start_time": "2025-01-06T12:42:02.754Z"
   },
   {
    "duration": 27,
    "start_time": "2025-01-06T12:42:02.935Z"
   },
   {
    "duration": 10,
    "start_time": "2025-01-06T12:42:02.963Z"
   },
   {
    "duration": 49,
    "start_time": "2025-01-06T12:42:02.975Z"
   },
   {
    "duration": 27,
    "start_time": "2025-01-06T12:42:03.026Z"
   },
   {
    "duration": 19,
    "start_time": "2025-01-06T12:42:03.054Z"
   },
   {
    "duration": 37,
    "start_time": "2025-01-06T12:42:03.074Z"
   },
   {
    "duration": 25,
    "start_time": "2025-01-06T12:42:03.113Z"
   },
   {
    "duration": 25,
    "start_time": "2025-01-06T12:42:03.140Z"
   },
   {
    "duration": 18,
    "start_time": "2025-01-06T12:42:03.167Z"
   },
   {
    "duration": 34,
    "start_time": "2025-01-06T12:42:03.187Z"
   },
   {
    "duration": 42,
    "start_time": "2025-01-06T12:42:03.223Z"
   },
   {
    "duration": 6,
    "start_time": "2025-01-06T12:42:03.269Z"
   },
   {
    "duration": 60,
    "start_time": "2025-01-06T12:42:03.277Z"
   },
   {
    "duration": 12,
    "start_time": "2025-01-06T12:42:03.339Z"
   },
   {
    "duration": 20,
    "start_time": "2025-01-06T12:42:03.352Z"
   },
   {
    "duration": 9,
    "start_time": "2025-01-06T12:42:03.374Z"
   },
   {
    "duration": 28,
    "start_time": "2025-01-06T12:42:03.385Z"
   },
   {
    "duration": 12,
    "start_time": "2025-01-06T12:42:03.414Z"
   },
   {
    "duration": 20,
    "start_time": "2025-01-06T12:42:03.428Z"
   },
   {
    "duration": 20,
    "start_time": "2025-01-06T12:42:03.449Z"
   },
   {
    "duration": 4,
    "start_time": "2025-01-06T12:42:03.470Z"
   },
   {
    "duration": 27,
    "start_time": "2025-01-06T12:42:03.475Z"
   },
   {
    "duration": 2204,
    "start_time": "2025-01-06T12:42:03.503Z"
   },
   {
    "duration": 29,
    "start_time": "2025-01-06T12:42:05.709Z"
   },
   {
    "duration": 17,
    "start_time": "2025-01-06T12:42:05.739Z"
   },
   {
    "duration": 55,
    "start_time": "2025-01-06T12:42:05.757Z"
   },
   {
    "duration": 82,
    "start_time": "2025-01-06T12:42:05.814Z"
   },
   {
    "duration": 64,
    "start_time": "2025-01-06T12:42:05.897Z"
   },
   {
    "duration": 49,
    "start_time": "2025-01-06T12:42:05.962Z"
   },
   {
    "duration": 353,
    "start_time": "2025-01-06T12:42:06.012Z"
   },
   {
    "duration": 4,
    "start_time": "2025-01-06T12:42:06.367Z"
   },
   {
    "duration": 188,
    "start_time": "2025-01-06T12:42:06.372Z"
   },
   {
    "duration": 164,
    "start_time": "2025-01-06T12:42:06.561Z"
   },
   {
    "duration": 250,
    "start_time": "2025-01-06T12:42:06.726Z"
   },
   {
    "duration": 168,
    "start_time": "2025-01-06T12:42:06.977Z"
   },
   {
    "duration": 173,
    "start_time": "2025-01-06T12:42:07.147Z"
   },
   {
    "duration": 156,
    "start_time": "2025-01-06T12:42:07.321Z"
   },
   {
    "duration": 171,
    "start_time": "2025-01-06T12:42:07.478Z"
   },
   {
    "duration": 152,
    "start_time": "2025-01-06T12:42:07.652Z"
   },
   {
    "duration": 150,
    "start_time": "2025-01-06T12:42:07.805Z"
   },
   {
    "duration": 175,
    "start_time": "2025-01-06T12:42:07.957Z"
   },
   {
    "duration": 159,
    "start_time": "2025-01-06T12:42:08.133Z"
   },
   {
    "duration": 233,
    "start_time": "2025-01-06T12:42:08.293Z"
   },
   {
    "duration": 164,
    "start_time": "2025-01-06T12:42:08.528Z"
   },
   {
    "duration": 165,
    "start_time": "2025-01-06T12:42:08.694Z"
   },
   {
    "duration": 161,
    "start_time": "2025-01-06T12:42:08.861Z"
   },
   {
    "duration": 15,
    "start_time": "2025-01-06T12:42:09.023Z"
   },
   {
    "duration": 22,
    "start_time": "2025-01-06T12:42:09.039Z"
   },
   {
    "duration": 224,
    "start_time": "2025-01-06T12:42:09.063Z"
   },
   {
    "duration": 35,
    "start_time": "2025-01-06T12:42:09.289Z"
   },
   {
    "duration": 82,
    "start_time": "2025-01-06T12:42:09.326Z"
   },
   {
    "duration": 161,
    "start_time": "2025-01-06T12:42:09.409Z"
   },
   {
    "duration": 14,
    "start_time": "2025-01-06T12:42:09.572Z"
   },
   {
    "duration": 103,
    "start_time": "2025-01-06T12:42:09.588Z"
   },
   {
    "duration": 57,
    "start_time": "2025-01-06T12:42:09.693Z"
   },
   {
    "duration": 16,
    "start_time": "2025-01-06T12:42:09.752Z"
   },
   {
    "duration": 10,
    "start_time": "2025-01-06T12:42:09.770Z"
   },
   {
    "duration": 53,
    "start_time": "2025-01-06T12:42:09.781Z"
   },
   {
    "duration": 242,
    "start_time": "2025-01-06T12:42:09.836Z"
   },
   {
    "duration": 178,
    "start_time": "2025-01-06T12:42:10.080Z"
   },
   {
    "duration": 8,
    "start_time": "2025-01-06T12:42:10.259Z"
   },
   {
    "duration": 187,
    "start_time": "2025-01-06T12:42:10.268Z"
   },
   {
    "duration": 165,
    "start_time": "2025-01-06T12:42:10.457Z"
   },
   {
    "duration": 6,
    "start_time": "2025-01-06T12:42:10.624Z"
   },
   {
    "duration": 239,
    "start_time": "2025-01-06T12:42:10.631Z"
   },
   {
    "duration": 5,
    "start_time": "2025-01-06T12:42:10.877Z"
   },
   {
    "duration": 187,
    "start_time": "2025-01-06T12:42:10.883Z"
   },
   {
    "duration": 6,
    "start_time": "2025-01-06T12:42:11.072Z"
   },
   {
    "duration": 178,
    "start_time": "2025-01-06T12:42:11.079Z"
   },
   {
    "duration": 6,
    "start_time": "2025-01-06T12:42:11.259Z"
   },
   {
    "duration": 9,
    "start_time": "2025-01-06T12:42:11.267Z"
   },
   {
    "duration": 493,
    "start_time": "2025-01-06T12:42:11.277Z"
   },
   {
    "duration": 498,
    "start_time": "2025-01-06T12:42:11.772Z"
   },
   {
    "duration": 184,
    "start_time": "2025-01-06T12:42:12.271Z"
   },
   {
    "duration": 18,
    "start_time": "2025-01-06T12:42:12.457Z"
   },
   {
    "duration": 172,
    "start_time": "2025-01-06T12:42:12.477Z"
   },
   {
    "duration": 42,
    "start_time": "2025-01-06T12:42:12.650Z"
   },
   {
    "duration": 33,
    "start_time": "2025-01-06T12:42:12.694Z"
   },
   {
    "duration": 27,
    "start_time": "2025-01-06T12:42:12.728Z"
   }
  ],
  "colab": {
   "provenance": []
  },
  "kernelspec": {
   "display_name": "Python 3 (ipykernel)",
   "language": "python",
   "name": "python3"
  },
  "language_info": {
   "codemirror_mode": {
    "name": "ipython",
    "version": 3
   },
   "file_extension": ".py",
   "mimetype": "text/x-python",
   "name": "python",
   "nbconvert_exporter": "python",
   "pygments_lexer": "ipython3",
   "version": "3.9.5"
  },
  "toc": {
   "base_numbering": 1,
   "nav_menu": {},
   "number_sections": true,
   "sideBar": true,
   "skip_h1_title": true,
   "title_cell": "Table of Contents",
   "title_sidebar": "Contents",
   "toc_cell": false,
   "toc_position": {
    "height": "calc(100% - 180px)",
    "left": "10px",
    "top": "150px",
    "width": "200.458px"
   },
   "toc_section_display": true,
   "toc_window_display": true
  }
 },
 "nbformat": 4,
 "nbformat_minor": 1
}
