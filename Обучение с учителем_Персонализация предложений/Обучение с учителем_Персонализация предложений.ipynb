{
 "cells": [
  {
   "cell_type": "markdown",
   "metadata": {
    "id": "H6cQIZr3ElW1"
   },
   "source": [
    "# Описание задачи\n",
    "\n",
    "*market_file.csv* - таблица, которая содержит данные о поведении покупателя на сайте, о коммуникациях с покупателем и его продуктовом поведении.\n",
    "\n",
    "`id` — номер покупателя в корпоративной базе данных.\n",
    "\n",
    "`Покупательская активность` — рассчитанный класс покупательской активности (целевой признак): «снизилась» или «прежний уровень».\n",
    "\n",
    "`Тип сервиса` — уровень сервиса, например «премиум» и «стандарт».\n",
    "\n",
    "`Разрешить сообщать` — информация о том, можно ли присылать покупателю дополнительные предложения о товаре. Согласие на это даёт покупатель.\n",
    "\n",
    "`Маркет_актив_6_мес` — среднемесячное значение маркетинговых коммуникаций компании, которое приходилось на покупателя за последние 6 месяцев. Это значение показывает, какое число рассылок, звонков, показов рекламы и прочего приходилось на клиента.\n",
    "\n",
    "`Маркет_актив_тек_мес` — количество маркетинговых коммуникаций в текущем месяце.\n",
    "\n",
    "`Длительность` — значение, которое показывает, сколько дней прошло с момента регистрации покупателя на сайте.\n",
    "\n",
    "`Акционные_покупки` — среднемесячная доля покупок по акции от общего числа покупок за последние 6 месяцев.\n",
    "\n",
    "`Популярная_категория` — самая популярная категория товаров у покупателя за последние 6 месяцев.\n",
    "\n",
    "`Средний_просмотр_категорий_за_визит` — показывает, сколько в среднем категорий покупатель просмотрел за визит в течение последнего месяца.\n",
    "\n",
    "`Неоплаченные_продукты_штук_квартал` — общее число неоплаченных товаров в корзине за последние 3 месяца.\n",
    "\n",
    "`Ошибка_сервиса` — число сбоев, которые коснулись покупателя во время посещения сайта.\n",
    "\n",
    "`Страниц_за_визит` — среднее количество страниц, которые просмотрел покупатель за один визит на сайт за последние 3 месяца.\n",
    "\n",
    "\n",
    "*market_money.csv* - таблица с данными о выручке, которую получает магазин с покупателя, то есть сколько покупатель всего потратил за период взаимодействия с сайтом.\n",
    "\n",
    "`id` — номер покупателя в корпоративной базе данных.\n",
    "\n",
    "`Период` — название периода, во время которого зафиксирована выручка. Например, 'текущий_месяц' или 'предыдущий_месяц'.\n",
    "\n",
    "`Выручка` — сумма выручки за период.\n",
    "\n",
    "\n",
    "*market_time.csv* - таблица с данными о времени (в минутах), которое покупатель провёл на сайте в течение периода.\n",
    "\n",
    "`id` — номер покупателя в корпоративной базе данных.\n",
    "\n",
    "`Период` — название периода, во время которого зафиксировано общее время.\n",
    "\n",
    "`минут` — значение времени, проведённого на сайте, в минутах.\n",
    "\n",
    "\n",
    "*money.csv* - таблица с данными о среднемесячной прибыли продавца за последние 3 месяца: какую прибыль получает магазин от продаж каждому покупателю.\n",
    "\n",
    "`id` — номер покупателя в корпоративной базе данных.\n",
    "\n",
    "`Прибыль` — значение прибыли."
   ]
  },
  {
   "cell_type": "code",
   "execution_count": null,
   "metadata": {},
   "outputs": [],
   "source": [
    "#!pip install -q scikit-learn==1.5.0\n",
    "#!pip install --upgrade shap matplotlib\n",
    "#!pip install shap\n",
    "#!pip install phik\n",
    "#!pip install yellowbrick\n",
    "#!pip install --upgrade seaborn"
   ]
  },
  {
   "cell_type": "code",
   "execution_count": null,
   "metadata": {},
   "outputs": [],
   "source": [
    "from scipy import stats\n",
    "\n",
    "import matplotlib.pyplot as plt\n",
    "import numpy as np\n",
    "import pandas as pd\n",
    "import phik\n",
    "import seaborn as sns\n",
    "import shap\n",
    "\n",
    "from sklearn.compose import ColumnTransformer\n",
    "from sklearn.metrics import f1_score, recall_score, roc_auc_score\n",
    "from sklearn.model_selection import (\n",
    "    GridSearchCV,\n",
    "    RandomizedSearchCV,\n",
    "    train_test_split,\n",
    ")\n",
    "from sklearn.pipeline import Pipeline\n",
    "from sklearn.preprocessing import (\n",
    "    MinMaxScaler,\n",
    "    OneHotEncoder,\n",
    "    OrdinalEncoder,\n",
    "    RobustScaler,\n",
    "    StandardScaler,\n",
    ")\n",
    "from sklearn.linear_model import LogisticRegression\n",
    "from sklearn.neighbors import KNeighborsClassifier\n",
    "from sklearn.svm import SVC\n",
    "from sklearn.tree import DecisionTreeClassifier"
   ]
  },
  {
   "cell_type": "markdown",
   "metadata": {},
   "source": [
    "## Загрузка данных"
   ]
  },
  {
   "cell_type": "code",
   "execution_count": null,
   "metadata": {},
   "outputs": [],
   "source": [
    "mfile=pd.read_csv('/datasets/market_file.csv')\n",
    "mmoney=pd.read_csv('/datasets/market_money.csv')\n",
    "mtime=pd.read_csv('/datasets/market_time.csv')\n",
    "money=pd.read_csv('/datasets/money.csv', sep=';')"
   ]
  },
  {
   "cell_type": "code",
   "execution_count": null,
   "metadata": {},
   "outputs": [],
   "source": [
    "display(mfile)"
   ]
  },
  {
   "cell_type": "code",
   "execution_count": null,
   "metadata": {},
   "outputs": [],
   "source": [
    "display(mmoney)"
   ]
  },
  {
   "cell_type": "code",
   "execution_count": null,
   "metadata": {},
   "outputs": [],
   "source": [
    "display(mtime)"
   ]
  },
  {
   "cell_type": "code",
   "execution_count": null,
   "metadata": {},
   "outputs": [],
   "source": [
    "display(money)"
   ]
  },
  {
   "cell_type": "code",
   "execution_count": null,
   "metadata": {
    "scrolled": true
   },
   "outputs": [],
   "source": [
    "mfile.info()"
   ]
  },
  {
   "cell_type": "code",
   "execution_count": null,
   "metadata": {},
   "outputs": [],
   "source": [
    "mmoney.info()"
   ]
  },
  {
   "cell_type": "code",
   "execution_count": null,
   "metadata": {},
   "outputs": [],
   "source": [
    "mtime.info()"
   ]
  },
  {
   "cell_type": "code",
   "execution_count": null,
   "metadata": {},
   "outputs": [],
   "source": [
    "money.info()"
   ]
  },
  {
   "cell_type": "markdown",
   "metadata": {},
   "source": [
    "Некоторые названия столбцов надо привести к общему виду. Пропуски отсутствуют. Типы данных соответствуют описанию столбцов. В файле *money* в столбце `Прибыль` тип данных не соответствует."
   ]
  },
  {
   "cell_type": "markdown",
   "metadata": {},
   "source": [
    "## Предобработка данных"
   ]
  },
  {
   "cell_type": "markdown",
   "metadata": {},
   "source": [
    "Изменим названия столбцов:"
   ]
  },
  {
   "cell_type": "code",
   "execution_count": null,
   "metadata": {},
   "outputs": [],
   "source": [
    "mfile.columns = mfile.columns.str.replace('Покупательская активность', \n",
    "                                          'Покупательская_активность').str.replace(\n",
    "    'Тип сервиса', 'Тип_сервиса').str.replace('Разрешить сообщать', 'Разрешить_сообщать')"
   ]
  },
  {
   "cell_type": "code",
   "execution_count": null,
   "metadata": {},
   "outputs": [],
   "source": [
    "mfile.columns = mfile.columns.str.lower()\n",
    "mmoney.columns = mmoney.columns.str.lower()\n",
    "mtime.columns = mtime.columns.str.lower()\n",
    "money.columns = money.columns.str.lower()"
   ]
  },
  {
   "cell_type": "markdown",
   "metadata": {},
   "source": [
    "Найдем дубликаты:"
   ]
  },
  {
   "cell_type": "code",
   "execution_count": null,
   "metadata": {
    "scrolled": true
   },
   "outputs": [],
   "source": [
    "display(mfile.duplicated().sum())\n",
    "display(mmoney.duplicated().sum())\n",
    "display(mtime.duplicated().sum())\n",
    "display(money.duplicated().sum())"
   ]
  },
  {
   "cell_type": "markdown",
   "metadata": {},
   "source": [
    "Проверим таблицы на наличие неявных дубликатов. Для этого создадим две функции: функция *categorize_columns* разделяет столбцы на категориальные и числовые без учета столбца `id`, функция *uniques* выводит уникальные значения категориального столбца."
   ]
  },
  {
   "cell_type": "code",
   "execution_count": null,
   "metadata": {},
   "outputs": [],
   "source": [
    "def categorize_columns(df):\n",
    "    df = df.drop('id', axis=1, errors='ignore')\n",
    "    num_cols = [] \n",
    "    cat_cols = []  \n",
    "    for col in df.columns:\n",
    "        if df.dtypes[col] == 'O':\n",
    "            cat_cols.append(col)\n",
    "        else:\n",
    "            num_cols.append(col) \n",
    "    return num_cols, cat_cols"
   ]
  },
  {
   "cell_type": "code",
   "execution_count": null,
   "metadata": {},
   "outputs": [],
   "source": [
    "def uniques(df):\n",
    "    for col in categorize_columns(df)[1]:\n",
    "        unique_values = df[col].unique()\n",
    "        print(f\"Уникальные значения в столбце '{col}': {unique_values}\")"
   ]
  },
  {
   "cell_type": "code",
   "execution_count": null,
   "metadata": {},
   "outputs": [],
   "source": [
    "uniques(mfile)"
   ]
  },
  {
   "cell_type": "code",
   "execution_count": null,
   "metadata": {
    "scrolled": true
   },
   "outputs": [],
   "source": [
    "uniques(mmoney)"
   ]
  },
  {
   "cell_type": "code",
   "execution_count": null,
   "metadata": {},
   "outputs": [],
   "source": [
    "uniques(mtime)"
   ]
  },
  {
   "cell_type": "markdown",
   "metadata": {},
   "source": [
    "Устраним неявные дубликаты и исправим ошибки:"
   ]
  },
  {
   "cell_type": "code",
   "execution_count": null,
   "metadata": {},
   "outputs": [],
   "source": [
    "mfile['тип_сервиса'] = mfile['тип_сервиса'].replace('стандартт', 'стандарт')\n",
    "mtime['период'] = mtime['период'].replace('предыдцщий_месяц', 'предыдущий_месяц')"
   ]
  },
  {
   "cell_type": "markdown",
   "metadata": {},
   "source": [
    "Заменим тип данных в *money* на правильный:"
   ]
  },
  {
   "cell_type": "code",
   "execution_count": null,
   "metadata": {},
   "outputs": [],
   "source": [
    "money['прибыль'] = money['прибыль'].replace(',','.',regex=True).astype('float64')"
   ]
  },
  {
   "cell_type": "code",
   "execution_count": null,
   "metadata": {},
   "outputs": [],
   "source": [
    "mfile.describe(include='all')"
   ]
  },
  {
   "cell_type": "code",
   "execution_count": null,
   "metadata": {},
   "outputs": [],
   "source": [
    "mmoney.describe(include='all')"
   ]
  },
  {
   "cell_type": "code",
   "execution_count": null,
   "metadata": {},
   "outputs": [],
   "source": [
    "mtime.describe(include='all')"
   ]
  },
  {
   "cell_type": "code",
   "execution_count": null,
   "metadata": {},
   "outputs": [],
   "source": [
    "money.describe(include='all')"
   ]
  },
  {
   "cell_type": "markdown",
   "metadata": {},
   "source": [
    "В датафремейме *mmoney* есть выброс. Проверим этот выброс, посмотрим на траты пользователя ранее, а также на его характеристику из основного файла:"
   ]
  },
  {
   "cell_type": "code",
   "execution_count": null,
   "metadata": {},
   "outputs": [],
   "source": [
    "mmoney.query('выручка > 10000')"
   ]
  },
  {
   "cell_type": "code",
   "execution_count": null,
   "metadata": {},
   "outputs": [],
   "source": [
    "mmoney.query('id == 215380')"
   ]
  },
  {
   "cell_type": "code",
   "execution_count": null,
   "metadata": {},
   "outputs": [],
   "source": [
    "mfile.query('id == 215380')"
   ]
  },
  {
   "cell_type": "markdown",
   "metadata": {},
   "source": [
    "Так как его покупательская активность снизилась, заменим выброс значением 5000:"
   ]
  },
  {
   "cell_type": "code",
   "execution_count": null,
   "metadata": {},
   "outputs": [],
   "source": [
    "mmoney.loc[mmoney['выручка'] == 106862.2, 'выручка'] = 5000"
   ]
  },
  {
   "cell_type": "markdown",
   "metadata": {},
   "source": [
    "Исправлено несколько значений и названий столбцов. В одном столбце заменен тип данных."
   ]
  },
  {
   "cell_type": "markdown",
   "metadata": {},
   "source": [
    "## Исследовательский анализ данных"
   ]
  },
  {
   "cell_type": "markdown",
   "metadata": {},
   "source": [
    "Статистический анализ:"
   ]
  },
  {
   "cell_type": "markdown",
   "metadata": {},
   "source": [
    "Функция для построения гистрограм для числовых столбцов:"
   ]
  },
  {
   "cell_type": "code",
   "execution_count": null,
   "metadata": {},
   "outputs": [],
   "source": [
    "def plot_hist(df):\n",
    "    for col in categorize_columns(df)[0]:\n",
    "        plt.hist(df[col])\n",
    "        plt.xlabel(col);\n",
    "        plt.ylabel('Количество');\n",
    "        plt.title(f'Гистограмма по столбцу \"{col}\"')\n",
    "        plt.grid(True)\n",
    "        plt.show()"
   ]
  },
  {
   "cell_type": "markdown",
   "metadata": {},
   "source": [
    "Функция для построения столбчатых диаграмм по категориальным столбцам:"
   ]
  },
  {
   "cell_type": "code",
   "execution_count": null,
   "metadata": {},
   "outputs": [],
   "source": [
    "def plot_bar(df):\n",
    "    for col in categorize_columns(df)[1]:\n",
    "        df[col].value_counts().plot(kind='bar', figsize=(10, 5))\n",
    "        plt.title(f'Столбчатая диаграмма по столбцу \"{col}\"')\n",
    "        plt.ylabel('Количество')\n",
    "        plt.xlabel(col)\n",
    "        plt.grid(True)\n",
    "        plt.show()"
   ]
  },
  {
   "cell_type": "markdown",
   "metadata": {},
   "source": [
    "Датафрейм *mfile*:"
   ]
  },
  {
   "cell_type": "code",
   "execution_count": null,
   "metadata": {
    "scrolled": true
   },
   "outputs": [],
   "source": [
    "fig, axes = plt.subplots(len(categorize_columns(mfile)[0]), 1, figsize=(8, 30))\n",
    "for i, col in enumerate(categorize_columns(mfile)[0]):\n",
    "    sns.histplot(data=mfile, x=col, hue='покупательская_активность', kde=True, ax=axes[i])\n",
    "    axes[i].set_title(f'Распределение {col} по таргету')\n",
    "\n",
    "plt.tight_layout()\n",
    "plt.show()"
   ]
  },
  {
   "cell_type": "markdown",
   "metadata": {},
   "source": [
    "Некоторые количественные cтолбцы явно носят дискретный характер. Используем *pie* и *bar* графики."
   ]
  },
  {
   "cell_type": "code",
   "execution_count": null,
   "metadata": {},
   "outputs": [],
   "source": [
    "df1 = mfile['маркет_актив_тек_мес'].value_counts()\n",
    "plt.figure(figsize=(6, 6))\n",
    "plt.pie(df1, labels=df1.index, autopct='%1.2f%%')\n",
    "plt.title('Доля маркетинговых коммуникаций в текущем месяце')\n",
    "plt.show()"
   ]
  },
  {
   "cell_type": "code",
   "execution_count": null,
   "metadata": {
    "scrolled": true
   },
   "outputs": [],
   "source": [
    "mfile['средний_просмотр_категорий_за_визит'].value_counts().plot(kind='bar', figsize=(10, 5))\n",
    "plt.title('Средний просмотр категорий за визит')\n",
    "plt.ylabel('Количество просмотров')\n",
    "plt.xlabel('Количество просмотренных категорий')\n",
    "plt.grid(True)\n",
    "plt.show()"
   ]
  },
  {
   "cell_type": "code",
   "execution_count": null,
   "metadata": {
    "scrolled": false
   },
   "outputs": [],
   "source": [
    "#Сделаем большие графики, чтоб влезли названия категорий\n",
    "fig, axes = plt.subplots(len(categorize_columns(mfile)[1]), 1, figsize=(15, 25))\n",
    "for i, col in enumerate(categorize_columns(mfile)[1]):\n",
    "    sns.countplot(data=mfile, x=col, hue='покупательская_активность', ax=axes[i])\n",
    "    axes[i].set_title(f'Распределение {col} по таргету')\n",
    "\n",
    "plt.tight_layout()\n",
    "plt.show()"
   ]
  },
  {
   "cell_type": "markdown",
   "metadata": {},
   "source": [
    "Датафрейм *mmoney*:"
   ]
  },
  {
   "cell_type": "code",
   "execution_count": null,
   "metadata": {
    "scrolled": true
   },
   "outputs": [],
   "source": [
    "plot_hist(mmoney)"
   ]
  },
  {
   "cell_type": "markdown",
   "metadata": {},
   "source": [
    "Датафрейм *mtime*:"
   ]
  },
  {
   "cell_type": "code",
   "execution_count": null,
   "metadata": {
    "scrolled": false
   },
   "outputs": [],
   "source": [
    "plot_hist(mtime)"
   ]
  },
  {
   "cell_type": "markdown",
   "metadata": {},
   "source": [
    "Датафрейм *money*:"
   ]
  },
  {
   "cell_type": "code",
   "execution_count": null,
   "metadata": {
    "scrolled": true
   },
   "outputs": [],
   "source": [
    "plot_hist(money)"
   ]
  },
  {
   "cell_type": "markdown",
   "metadata": {},
   "source": [
    "Построим ящики с усами:"
   ]
  },
  {
   "cell_type": "code",
   "execution_count": null,
   "metadata": {
    "scrolled": true
   },
   "outputs": [],
   "source": [
    "numeric_cols = mfile.drop('id', axis = 1).select_dtypes(include=['number']).columns \n",
    "mfile[numeric_cols].plot(kind='box', subplots=True, layout=(5, 3), figsize=(15, 20))\n",
    "plt.tight_layout()\n",
    "plt.show()"
   ]
  },
  {
   "cell_type": "code",
   "execution_count": null,
   "metadata": {},
   "outputs": [],
   "source": [
    "numeric_cols = mfile.select_dtypes(include=['number']).columns\n",
    "\n",
    "fig, axes = plt.subplots(len(numeric_cols), 1, figsize=(8, len(numeric_cols) * 3))\n",
    "for i, col in enumerate(numeric_cols):\n",
    "    sns.histplot(data=mfile, x=col, hue='покупательская_активность', kde=True, ax=axes[i])\n",
    "    axes[i].set_title(f'Распределение {col} по таргету')\n",
    "\n",
    "plt.tight_layout()\n",
    "plt.show()"
   ]
  },
  {
   "cell_type": "markdown",
   "metadata": {},
   "source": [
    "Есть группа активных пользователей с высокой выручкой (*выручка_тек_мес*, *выручка_пред_мес*);\n",
    "Пользователи по-разному проводят время на сайте – можно сегментировать их по времени взаимодействия и страницам за визит;\n",
    "Большинство покупателей мало участвуют в акциях, но есть небольшая очень активная группа."
   ]
  },
  {
   "cell_type": "markdown",
   "metadata": {},
   "source": [
    "Целевой признак `покупательская_активность` несбалансирован. Все категориальные столбцы являются бинарными за исключением `популярная_категория`. Столбец `Маркет_актив_тек_мес` явно категориальный. Большинство числовых столбцов распределены нормально."
   ]
  },
  {
   "cell_type": "markdown",
   "metadata": {},
   "source": [
    "Надем покупателей с активностью за последние три месяца:"
   ]
  },
  {
   "cell_type": "code",
   "execution_count": null,
   "metadata": {},
   "outputs": [],
   "source": [
    "passive_id = mmoney.query('выручка == 0')['id'].unique()\n",
    "active_customers = mfile[~mfile['id'].isin(passive_id)]\n",
    "display(active_customers)"
   ]
  },
  {
   "cell_type": "markdown",
   "metadata": {},
   "source": [
    "Удалили трех неактивных пользователей."
   ]
  },
  {
   "cell_type": "raw",
   "metadata": {},
   "source": [
    "#код ревьюера\n",
    "\n",
    "\n",
    "# Тут я использую датасет из другого проекта gym_churn.csv\n",
    "df_rewier = pd.read_csv('/datasets/gym_churn.csv')\n",
    "df_rewier.columns = [x.lower() for x in df_rewier.columns]\n",
    "\n",
    "\n",
    "# А теперь мы можем в каждую ячейку поместить свой график либо вручную либо в цикле. Лучше конечно в цикле:\n",
    "# делаем новых холст в котором графики будут в 3 столбца, а число строк - количество признаков деленное на 3\n",
    "\n",
    "features = ['age', 'contract_period', 'month_to_end_contract', 'lifetime', 'avg_class_frequency_total', 'avg_class_frequency_current_month', \n",
    "'avg_additional_charges_total']\n",
    "\n",
    "\n",
    "number_row = int(len(features)/3)\n",
    "# добавим figsize=(15, 15) чтобы не было слишком мелкие графики\n",
    "fig, ax = plt.subplots(nrows = number_row + 1, ncols=3, figsize=(15, 10))\n",
    "\n",
    "\n",
    "# вытягиваем\n",
    "ax = ax.flatten()\n",
    "\n",
    "# задаем цикл\n",
    "for i in range(len(features)):\n",
    "    \n",
    "\n",
    "# И смотри как мы задаём номер ячейки на холсте через ax=ax[i]\n",
    "    sns.histplot(data = df_rewier, x = df_rewier[features[i]], hue='churn', ax=ax[i], kde = True,)\n",
    "\n",
    "    ax[i].set_title(f'{features[i]}')\n",
    "    ax[i].set_xlabel('')\n",
    "\n",
    "\n",
    "# удалим 2 последних, ибо пустые  \n",
    "fig.delaxes(ax[-1])\n",
    "fig.delaxes(ax[-2])\n",
    "            \n",
    "\n",
    "\n",
    "# чтобы все надписи влезли    \n",
    "fig.tight_layout()\n",
    "fig.show()\n",
    "\n",
    "\n",
    "# Лайфхак о subplots  окончен ))  Размещение графиков стало компактным. Можно строить техничнее, я показал как понятней"
   ]
  },
  {
   "cell_type": "markdown",
   "metadata": {},
   "source": [
    "## Объединение таблиц"
   ]
  },
  {
   "cell_type": "code",
   "execution_count": null,
   "metadata": {
    "scrolled": true
   },
   "outputs": [],
   "source": [
    "mmoney = mmoney.pivot(index='id', columns='период', values='выручка').reset_index()\n",
    "mmoney.columns = mmoney.columns.str.replace(\n",
    "    'предыдущий_месяц','выручка_пред_мес').str.replace(\n",
    "    'препредыдущий_месяц','выручка_препред_мес').str.replace(\n",
    "'текущий_месяц','выручка_тек_мес')\n",
    "mfile = mfile.merge(mmoney, on='id', how='left')\n"
   ]
  },
  {
   "cell_type": "code",
   "execution_count": null,
   "metadata": {},
   "outputs": [],
   "source": [
    "mtime = mtime.pivot(index='id', columns='период', values='минут').reset_index()\n",
    "mtime.columns = mtime.columns.str.replace(\n",
    "    'предыдущий_месяц','время_пред_мес').str.replace(\n",
    "'текущий_месяц','время_тек_мес')\n",
    "mfile = mfile.merge(mtime, on='id', how='left')\n"
   ]
  },
  {
   "cell_type": "markdown",
   "metadata": {},
   "source": [
    "Удалим неактивных покупателей:"
   ]
  },
  {
   "cell_type": "code",
   "execution_count": null,
   "metadata": {
    "scrolled": true
   },
   "outputs": [],
   "source": [
    "active_customers = mfile[~mfile['id'].isin(passive_id)]"
   ]
  },
  {
   "cell_type": "markdown",
   "metadata": {},
   "source": [
    "## Корреляционный анализ"
   ]
  },
  {
   "cell_type": "markdown",
   "metadata": {},
   "source": []
  },
  {
   "cell_type": "code",
   "execution_count": null,
   "metadata": {},
   "outputs": [],
   "source": [
    "active_customers.drop('id', axis = 1).corr()"
   ]
  },
  {
   "cell_type": "code",
   "execution_count": null,
   "metadata": {
    "scrolled": true
   },
   "outputs": [],
   "source": [
    "plt.figure(figsize=(12, 8))\n",
    "sns.heatmap(active_customers.drop('id', axis = 1).corr(), annot=True, cmap=\"coolwarm\",fmt='.2f');\n",
    "plt.title(\"Корреляционная матрица количественных признаков\")\n",
    "plt.show()"
   ]
  },
  {
   "cell_type": "markdown",
   "metadata": {},
   "source": [
    "Построим корреляцию Спирмена:"
   ]
  },
  {
   "cell_type": "code",
   "execution_count": null,
   "metadata": {
    "scrolled": false
   },
   "outputs": [],
   "source": [
    "plt.figure(figsize=(12, 10))\n",
    "sns.heatmap(active_customers.drop('id', axis = 1).corr(method='spearman'), annot=True, cmap=\"coolwarm\",fmt='.2f', square=True);\n",
    "plt.title(\"Корреляционная матрица количественных признаков по Спирмену\")\n",
    "plt.show()"
   ]
  },
  {
   "cell_type": "markdown",
   "metadata": {},
   "source": [
    "`выручка_пред_мес` и `выручка_тек_мес` — дублирующий признак, возможно, стоит оставить только один."
   ]
  },
  {
   "cell_type": "markdown",
   "metadata": {},
   "source": [
    "Выведем матрицы корреляций *Phi_K*, разделив данные по целевому признаку:"
   ]
  },
  {
   "cell_type": "markdown",
   "metadata": {},
   "source": [
    "Функция для визуализации матриц корреляций:"
   ]
  },
  {
   "cell_type": "code",
   "execution_count": null,
   "metadata": {},
   "outputs": [],
   "source": [
    "def plot_corr(corr_matrix, title):\n",
    "    plt.figure(figsize=(12, 10))\n",
    "    sns.heatmap(corr_matrix, annot=True, fmt=\".2f\", cmap=\"coolwarm\", linewidths=0.5)\n",
    "    plt.title(title)\n",
    "    plt.show()"
   ]
  },
  {
   "cell_type": "code",
   "execution_count": null,
   "metadata": {
    "scrolled": false
   },
   "outputs": [],
   "source": [
    "# Подготовим данные. Столбец \"id\" неинформативен, столбец \"покупательская_активность\" будет вызывать ошибку\n",
    "to_drop = ['покупательская_активность', 'id']\n",
    "\n",
    "decrease_act = active_customers[active_customers['покупательская_активность'] == 'Снизилась'].drop(to_drop, axis = 1)\n",
    "stable_act = active_customers[active_customers['покупательская_активность'] == 'Прежний уровень'].drop(to_drop, axis = 1)\n",
    "\n",
    "# Вычисляем матрицы Phi_K\n",
    "corr_matrix_decreasing = decrease_act.phik_matrix()\n",
    "corr_matrix_stable = stable_act.phik_matrix()\n",
    "\n",
    "plot_corr(corr_matrix_decreasing, \"Phi_K корреляция (Снижающаяся активность)\");\n",
    "plot_corr(corr_matrix_stable, \"Phi_K корреляция (Не изменяющаяся активность)\");"
   ]
  },
  {
   "cell_type": "markdown",
   "metadata": {},
   "source": [
    "Выведем матрицу разницы корреляций. Вычтя Phi_K-корреляцию \"Снижающаяся активность\" из \"Не изменяющаяся активность\", получим матрицу, показывающую, как изменилась связь между переменными при снижении активности клиентов.\n",
    "\n",
    "Если разность положительная, у стабильных клиентов эта связь сильнее, чем у снижающихся.\n",
    "\n",
    "Если разность отрицательная, у снижающихся клиентов эта связь сильнее, чем у стабильных."
   ]
  },
  {
   "cell_type": "code",
   "execution_count": null,
   "metadata": {
    "scrolled": true
   },
   "outputs": [],
   "source": [
    "plot_corr(corr_matrix_stable - corr_matrix_decreasing, \"Phi_K корреляция (Разность стабильной и снижающейся активностей)\");"
   ]
  },
  {
   "cell_type": "markdown",
   "metadata": {},
   "source": [
    "У снижающихся клиентов уменьшилась связь между длительностью сессий (`страниц за визит`) и другими показателями. Это может значить, что долгие сессии не обязательно ведут к покупкам. <br>\n",
    "`Длительность` теряет связь с другими признаками. <br>\n",
    "Маркетинговая активность слабее влияет на снижающихся пользователей. <br>\n",
    "Время проведенное на сайте снижается при снижении покупательской активности. <br>"
   ]
  },
  {
   "cell_type": "code",
   "execution_count": null,
   "metadata": {
    "scrolled": false
   },
   "outputs": [],
   "source": [
    "plt.figure(figsize=(12, 10))\n",
    "sns.scatterplot(data=active_customers, x='выручка_пред_мес', y='выручка_тек_мес', hue='покупательская_активность')\n",
    "plt.title('')\n",
    "plt.xlabel('Выручка за прошлый месяц')\n",
    "plt.ylabel('Выручка за текущий месяц')\n",
    "plt.show()"
   ]
  },
  {
   "cell_type": "code",
   "execution_count": null,
   "metadata": {},
   "outputs": [],
   "source": [
    "delta = active_customers['выручка_тек_мес'] - active_customers['выручка_пред_мес']\n",
    "plt.figure(figsize=(12, 10))\n",
    "sns.scatterplot(data=active_customers, x='выручка_пред_мес', y=delta, hue='покупательская_активность')\n",
    "plt.title('Разница выручек в зависимости от предыдущей выручки')\n",
    "plt.xlabel('Выручка за прошлый месяц')\n",
    "plt.ylabel('Разница выручек(текущий - прошлый)')\n",
    "plt.show()"
   ]
  },
  {
   "cell_type": "markdown",
   "metadata": {},
   "source": [
    "Есть клиенты с повторяющимися расходами: <br>\n",
    "\n",
    "Это может быть связано с подписками, регулярными заказами или фиксированным бюджетом. <br>\n",
    "\n",
    "Скорее всего клиенту разделены по какому-то признаку (например, бизнес / частные клиенты, подписки / разовые покупки). <br>\n",
    "\n",
    "В этих группах можно будет точно прогнозировать выручку. <br>"
   ]
  },
  {
   "cell_type": "markdown",
   "metadata": {},
   "source": [
    "## Использование пайплайнов"
   ]
  },
  {
   "cell_type": "markdown",
   "metadata": {},
   "source": [
    "Напишем пайплайн:"
   ]
  },
  {
   "cell_type": "code",
   "execution_count": null,
   "metadata": {},
   "outputs": [],
   "source": [
    "#Подготовка данных:\n",
    "X = active_customers.drop(['покупательская_активность','id'], axis = 1)\n",
    "y = active_customers['покупательская_активность']\n",
    "y = y.map({'Снизилась': 1, 'Прежний уровень': 0})\n",
    "\n",
    "X_train, X_test, y_train, y_test = train_test_split(X, y, \\\n",
    "test_size=0.25, \\\n",
    "random_state=1, stratify=y)"
   ]
  },
  {
   "cell_type": "code",
   "execution_count": null,
   "metadata": {},
   "outputs": [],
   "source": [
    "#Разбиение данных на типы:\n",
    "cat_col_names = X_train.select_dtypes(exclude='number').drop('тип_сервиса',axis=1).columns.tolist()\n",
    "ord_col_names = ['тип_сервиса']\n",
    "num_col_names = X_train.select_dtypes(include='number').columns.tolist()"
   ]
  },
  {
   "cell_type": "code",
   "execution_count": null,
   "metadata": {
    "scrolled": true
   },
   "outputs": [],
   "source": [
    "#Пайплайн:\n",
    "ord_pipe = Pipeline([\n",
    "    ('ord', OrdinalEncoder(categories=[['стандарт', 'премиум']]))\n",
    "])\n",
    "\n",
    "cat_pipe = Pipeline([('ohe', OneHotEncoder(handle_unknown='ignore'))])\n",
    "\n",
    "num_pipe = Pipeline([('scaler', StandardScaler())])\n",
    "\n",
    "data_preprocessor = ColumnTransformer([('cat', cat_pipe, cat_col_names),\n",
    "                                       ('num', num_pipe, num_col_names),\n",
    "                                       ('ord', ord_pipe, ord_col_names)])\n",
    "\n",
    "pipe_final = Pipeline([('preprocessor', data_preprocessor),\n",
    "                      ('models',LogisticRegression(random_state=1))])\n",
    "\n",
    "param_grid = [\n",
    "    {\n",
    "        'models':[LogisticRegression(random_state=1,\n",
    "                                     solver='liblinear',\n",
    "                                     penalty='l1')],\n",
    "        'models__C': range(1,5),\n",
    "        'preprocessor__num__scaler': [StandardScaler(), MinMaxScaler(), RobustScaler(), 'passthrough']\n",
    "    },\n",
    "    {\n",
    "        'models':[KNeighborsClassifier()],\n",
    "        'models__n_neighbors': range(2,5),\n",
    "        'preprocessor__num__scaler': [StandardScaler(), MinMaxScaler(), RobustScaler(), 'passthrough']\n",
    "    },\n",
    "    {\n",
    "        'models': [DecisionTreeClassifier(random_state=1)],\n",
    "        'models__max_depth': range(2,5),\n",
    "        'models__max_features': range(2,5),\n",
    "        'preprocessor__num__scaler': [StandardScaler(), MinMaxScaler(), RobustScaler(), 'passthrough']\n",
    "    },\n",
    "    {\n",
    "        'models': [SVC(random_state=1, probability = True)],\n",
    "        'models__C': [0.01, 0.1, 1, 10, 100],\n",
    "        'models__kernel': ['linear', 'rbf', 'poly'],\n",
    "        'preprocessor__num__scaler': [StandardScaler(), MinMaxScaler(), RobustScaler(), 'passthrough']\n",
    "    }\n",
    "]\n",
    "\n",
    "rand_search = RandomizedSearchCV(\n",
    "    pipe_final,\n",
    "    param_grid,\n",
    "    cv=5,\n",
    "    scoring='roc_auc',\n",
    "    random_state=1,\n",
    "    n_jobs=-1,\n",
    "    n_iter = 10\n",
    ")\n",
    "\n",
    "#grid = GridSearchCV(\n",
    "#    pipe_final, \n",
    "#    param_grid=param_grid, \n",
    "#    cv=5, \n",
    "#    scoring='roc_auc', \n",
    "#    n_jobs=-1\n",
    "#)\n",
    "\n",
    "#grid.fit(X_train, y_train)\n",
    "rand_search.fit(X_train, y_train)\n",
    "\n",
    "y_test_pred = rand_search.predict(X_test)\n",
    "y_test_pred_proba = rand_search.predict_proba(X_test)[:, 1]  \n",
    "\n",
    "#y_test_pred_grid = grid.predict(X_test)\n",
    "\n",
    "print('Лучшая модель и её параметры:\\n\\n', rand_search.best_estimator_)\n",
    "print(f'Средняя ROC-AUC на кросс-валидации:', rand_search.best_score_)\n",
    "print(f'Метрика ROC-AUC на тестовой выборке: {roc_auc_score(y_test, y_test_pred_proba)}')\n",
    "print(f'Метрика f1_score на тестовой выборке: {f1_score(y_test, y_test_pred)}')\n",
    "print(f'Метрика recall_score на тестовой выборке: {recall_score(y_test, y_test_pred)}')\n",
    "\n",
    "#print('Лучшая модель и её параметры:\\n\\n', grid.best_estimator_)\n",
    "#print ('Метрика лучшей модели на тренировочной выборке:', grid.best_score_)\n",
    "#print(f'Метрика ROC-AUC на тестовой выборке: {roc_auc_score(y_test, y_test_pred_grid)}')"
   ]
  },
  {
   "cell_type": "markdown",
   "metadata": {},
   "source": [
    "Используем метрику Recall: бизнесу надо удержать клиентов, поэтому нам надо ловить максимум пользователей, у которых реально снижается активность (но можем ошибочно пометить стабильных)."
   ]
  },
  {
   "cell_type": "markdown",
   "metadata": {},
   "source": [
    "Результаты работы GridSearch:\n",
    "\n",
    "    ('models', SVC(C=0.1, random_state=1))])\n",
    "    Метрика лучшей модели на тренировочной выборке: 0.9076807832626013\n",
    "    Метрика ROC-AUC на тестовой выборке: 0.8746589632482747"
   ]
  },
  {
   "cell_type": "markdown",
   "metadata": {},
   "source": [
    "## Анализ важности признаков"
   ]
  },
  {
   "cell_type": "markdown",
   "metadata": {},
   "source": [
    "Построим график убывания средних SHAP‑значений:"
   ]
  },
  {
   "cell_type": "code",
   "execution_count": null,
   "metadata": {},
   "outputs": [],
   "source": [
    "#Обучим данные, взяв из пайплана препроцессор:\n",
    "X_transformed = rand_search.best_estimator_.named_steps['preprocessor'].transform(X_test)"
   ]
  },
  {
   "cell_type": "code",
   "execution_count": null,
   "metadata": {},
   "outputs": [],
   "source": [
    "#Возьмем из пайплана названия признаков:\n",
    "feature_names = rand_search.best_estimator_.named_steps['preprocessor'].get_feature_names_out()"
   ]
  },
  {
   "cell_type": "code",
   "execution_count": null,
   "metadata": {},
   "outputs": [],
   "source": [
    "#Это работает очень криво, очень долго ковырялся \n",
    "\n",
    "explainer = shap.Explainer(rand_search.best_estimator_.named_steps['models'], X_transformed)\n",
    "shap_values = explainer(X_transformed)\n",
    "#fig, ax = plt.subplots(figsize=(20, 20))  \n",
    "shap.summary_plot(shap_values, X_transformed, feature_names=feature_names, show=False)\n",
    "#plt.show() \n",
    "#shap.plots.beeswarm(shap_values, X_transformed, feature_names=feature_names, show=False)\n",
    "#shap.summary_plot(shap_values, X_transformed, feature_names=feature_names, show=False)\n",
    "plt.gcf().set_size_inches(20, 12)  # Некоторые названия слишком длинные и из-за них график сужается\n",
    "plt.tight_layout()\n",
    "plt.show()"
   ]
  },
  {
   "cell_type": "markdown",
   "metadata": {},
   "source": [
    "Наиболее важные признаки:\n",
    "\n",
    "`num_страниц_за_визит`<br>\n",
    "`num_время_пред_мес`<br>\n",
    "`num_время_тек_мес`<br>\n",
    "`num_средний_просмотр_категорий_за_визит`<br>\n",
    "`num_акционные_покупки`<br>\n",
    "\n",
    "Наименее важные признаки:\n",
    "\n",
    "`num_маркет_актив_тек_мес`<br>\n",
    "`num_ошибка_сервиса`<br>\n",
    "и все признаки из `популярная_категория`"
   ]
  },
  {
   "cell_type": "markdown",
   "metadata": {},
   "source": [
    "## Сегментация покупателей"
   ]
  },
  {
   "cell_type": "markdown",
   "metadata": {},
   "source": [
    "Группа клиентов, которые покупают только технику, то есть товары с длинным жизненным циклом.\n",
    "\n",
    "Cовершают редкие, но дорогие покупки.<br>\n",
    "Не заинтересованы в регулярных покупках мелких товаров.<br>\n",
    "Тщательно выбирают товар, сравнивают цены и читают отзывы.<br>\n",
    "\n",
    "Причины низкой частоты покупок:\n",
    "Долгий срок службы.<br>\n",
    "Высокая стоимость.<br>\n",
    "Клиенты могут долго искать эту технику, ждать скидок, изучать отзывы, смотреть вторичный рынок и тд.<br>"
   ]
  },
  {
   "cell_type": "markdown",
   "metadata": {},
   "source": [
    "Посмотрим на интересующие нас признаки:<br>\n",
    "`num_страниц_за_визит`<br>\n",
    "`num_время_пред_мес`<br>\n",
    "`num_время_тек_мес`<br>\n",
    "`num_средний_просмотр_категорий_за_визит`<br>\n",
    "`num_акционные_покупки`<br>"
   ]
  },
  {
   "cell_type": "code",
   "execution_count": null,
   "metadata": {},
   "outputs": [],
   "source": [
    "top5 = ['страниц_за_визит',\n",
    "        'время_пред_мес',\n",
    "        'время_тек_мес',\n",
    "        'средний_просмотр_категорий_за_визит','акционные_покупки'\n",
    "       ]"
   ]
  },
  {
   "cell_type": "code",
   "execution_count": null,
   "metadata": {
    "scrolled": false
   },
   "outputs": [],
   "source": [
    "plot_hist(active_customers.query(\n",
    "    'популярная_категория == \"Мелкая бытовая техника и электроника\" and покупательская_активность == \"Снизилась\"')[top5])\n"
   ]
  },
  {
   "cell_type": "markdown",
   "metadata": {},
   "source": [
    "Рассмотрим интересующие нас признаки:<br>\n",
    "`num_страниц_за_визит`<br>\n",
    "`num_время_пред_мес`<br>\n",
    "`num_время_тек_мес`<br>\n",
    "`num_средний_просмотр_категорий_за_визит`<br>\n",
    "`num_акционные_покупки`<br>"
   ]
  },
  {
   "cell_type": "markdown",
   "metadata": {},
   "source": [
    "Пользователи мало проводят времени на сайте, просматривают мало категорий, посещение страниц распределено равномерно. Все эти признаки надо увеличить. Акционные покупки согласно SHAP анализу повышают шанс понижения покупательской активности, но с этим ничего не сделаешь.\n",
    "\n",
    "Для увеличения покупательской активности в этой категории можно сделать следующее:\n",
    "специальные предложения по продаже дополнительных акссесуаров к технике; <br>\n",
    "подписки на дополнительную страховку, гарантию, обслуживание; <br>\n",
    "услуги по установке, обучению, ремонту, настройке; <br>\n",
    "trade-in старой техники на новую; <br>\n",
    "рассрочка; <br>"
   ]
  },
  {
   "cell_type": "markdown",
   "metadata": {},
   "source": [
    "Возьмем сегмент клиентов с высокой вероятностью снижения покупательской активности (больше 0.8) и наиболее высокой прибыльностью (больше медианы прибыли в текущем месяце и предыдущем месяце):"
   ]
  },
  {
   "cell_type": "code",
   "execution_count": null,
   "metadata": {},
   "outputs": [],
   "source": [
    "#Pandas требует делать это через copy.\n",
    "active_customers = active_customers.copy()\n",
    "active_customers.loc[:, 'proba'] = rand_search.predict_proba(active_customers)[:, 1]\n",
    "active_customers['сум_выручка'] = active_customers['выручка_пред_мес'] + active_customers['выручка_тек_мес']\n",
    "#Выделим строки с нашим сегментом с помощью нового столбца:\n",
    "active_customers.loc[active_customers.query('proba > 0.8 and сум_выручка > @active_customers[\"сум_выручка\"].median()').index, 'сегмент'] = 'Целевой сегмент'\n",
    "active_customers['сегмент'].fillna('Остальные', inplace=True)\n",
    "\n",
    "active_customers"
   ]
  },
  {
   "cell_type": "code",
   "execution_count": null,
   "metadata": {
    "scrolled": true
   },
   "outputs": [],
   "source": [
    "sns.histplot(data=active_customers, x='сум_выручка', hue='сегмент', kde=True)\n",
    "plt.title('Распределение прибыльности клиентов')\n",
    "plt.show()"
   ]
  },
  {
   "cell_type": "code",
   "execution_count": null,
   "metadata": {},
   "outputs": [],
   "source": [
    "plt.figure(figsize=(20, 6))\n",
    "sns.countplot(data=active_customers, x='популярная_категория', hue='сегмент')\n",
    "plt.title('Распределение прибыльности клиентов')\n",
    "plt.show()"
   ]
  },
  {
   "cell_type": "code",
   "execution_count": null,
   "metadata": {
    "scrolled": true
   },
   "outputs": [],
   "source": [
    "cols = ['страниц_за_визит', 'время_пред_мес', 'время_тек_мес', 'средний_просмотр_категорий_за_визит', 'акционные_покупки', 'маркет_актив_6_мес']\n",
    "fig, axes = plt.subplots(len(cols), 1, figsize=(6,22))\n",
    "for i, col in enumerate(cols):\n",
    "    sns.histplot(data=active_customers, y=col,x='proba', hue='сегмент', ax=axes[i])\n",
    "    axes[i].set_title(f'Распределение {col} по таргету')\n",
    "\n",
    "plt.tight_layout()\n",
    "plt.show()\n"
   ]
  },
  {
   "cell_type": "markdown",
   "metadata": {},
   "source": [
    "Пользователи в сегменте покупают в основном косметику и аксессуары, кухонную посуду и детские товары. Сегмент меньше времени проводит на сайте, но все еще пользуется акциями. Также сократилось количество маркетинговых взаимодействий с клиентом. Исходя из этого, можно проводить дальнейший анализ "
   ]
  },
  {
   "cell_type": "markdown",
   "metadata": {},
   "source": [
    "## Вывод"
   ]
  },
  {
   "cell_type": "markdown",
   "metadata": {},
   "source": [
    "1. Некоторые названия столбцов надо привести к общему виду. Пропуски отсутствуют. Типы данных соответствуют описанию столбцов. В файле *money* в столбце `Прибыль` тип данных не соответствует.\n",
    "2. Исправлено несколько значений и названий столбцов. В одном столбце заменен тип данных.\n",
    "3. Целевой признак `покупательская_активность` несбалансирован. Все категориальные столбцы являются бинарными за исключением `популярная_категория`. Столбец `Маркет_актив_тек_мес` явно категориальный. Большинство числовых столбцов распределены нормально. Было удалено 3 неактивных пользователя\n",
    "4. У снижающихся клиентов уменьшилась связь между длительностью сессий (`страниц за визит`) и другими показателями. Это может значить, что долгие сессии не обязательно ведут к покупкам. <br>\n",
    "    `Длительность` теряет связь с другими признаками. <br>\n",
    "    Маркетинговая активность слабее влияет на снижающихся пользователей. <br>\n",
    "    Время проведенное на сайте снижается при снижении покупательской активности. <br>\n",
    "    Есть клиенты с повторяющимися расходами: <br>\n",
    "    Это может быть связано с подписками, регулярными заказами или фиксированным бюджетом. <br>\n",
    "    Скорее всего клиенту разделены по какому-то признаку (например, бизнес / частные клиенты, подписки / разовые покупки). <br>\n",
    "    В этих группах можно будет точно прогнозировать выручку. <br>\n",
    "5. Результаты работы GridSearch: лучшая модель *SVC* (C=0.1, random_state=1) <br>\n",
    "    Средняя ROC-AUC на кросс-валидации: 0.92 <br>\n",
    "    Метрика ROC-AUC на тестовой выборке: 0.89 <br>\n",
    "    Метрика f1_score на тестовой выборке: 0.82 <br>\n",
    "    Метрика recall_score на тестовой выборке: 0.77 <br>\n",
    "6. Наиболее важные признаки:\n",
    "\n",
    "`num_страниц_за_визит`<br>\n",
    "`num_время_пред_мес`<br>\n",
    "`num_время_тек_мес`<br>\n",
    "`num_средний_просмотр_категорий_за_визит`<br>\n",
    "`num_акционные_покупки`<br>\n",
    "\n",
    "Наименее важные признаки:\n",
    "\n",
    "`num_маркет_актив_тек_мес`<br>\n",
    "`num_ошибка_сервиса`<br>\n",
    "и все признаки из `популярная_категория`\n",
    "\n",
    "7. Пользователи в сегменте покупают в основном косметику и аксессуары, кухонную посуду и детские товары. Сегмент меньше времени проводит на сайте, но все еще пользуется акциями. Также сократилось количество маркетинговых взаимодействий с клиентом. Исходя из этого, можно проводить дальнейший анализ\n"
   ]
  }
 ],
 "metadata": {
  "ExecuteTimeLog": [
   {
    "duration": 1523,
    "start_time": "2025-03-17T00:45:27.698Z"
   },
   {
    "duration": 3,
    "start_time": "2025-03-17T00:45:45.850Z"
   },
   {
    "duration": 100,
    "start_time": "2025-03-17T00:48:28.887Z"
   },
   {
    "duration": 44,
    "start_time": "2025-03-17T00:48:37.950Z"
   },
   {
    "duration": 75,
    "start_time": "2025-03-17T00:49:43.736Z"
   },
   {
    "duration": 21,
    "start_time": "2025-03-17T00:49:53.927Z"
   },
   {
    "duration": 10,
    "start_time": "2025-03-17T00:50:27.118Z"
   },
   {
    "duration": 10,
    "start_time": "2025-03-17T00:50:37.702Z"
   },
   {
    "duration": 9,
    "start_time": "2025-03-17T00:50:52.253Z"
   },
   {
    "duration": 73,
    "start_time": "2025-03-17T00:51:10.894Z"
   },
   {
    "duration": 19,
    "start_time": "2025-03-17T00:51:11.677Z"
   },
   {
    "duration": 11,
    "start_time": "2025-03-17T00:51:11.967Z"
   },
   {
    "duration": 11,
    "start_time": "2025-03-17T00:51:12.302Z"
   },
   {
    "duration": 9,
    "start_time": "2025-03-17T00:51:14.909Z"
   },
   {
    "duration": 4,
    "start_time": "2025-03-17T00:57:13.123Z"
   },
   {
    "duration": 11,
    "start_time": "2025-03-17T01:13:44.242Z"
   },
   {
    "duration": 12,
    "start_time": "2025-03-17T01:13:48.686Z"
   },
   {
    "duration": 10,
    "start_time": "2025-03-17T01:14:16.781Z"
   },
   {
    "duration": 10,
    "start_time": "2025-03-17T01:14:30.908Z"
   },
   {
    "duration": 10,
    "start_time": "2025-03-17T01:14:38.751Z"
   },
   {
    "duration": 5,
    "start_time": "2025-03-17T01:47:27.065Z"
   },
   {
    "duration": 10,
    "start_time": "2025-03-17T01:47:31.726Z"
   },
   {
    "duration": 8,
    "start_time": "2025-03-17T01:48:06.416Z"
   },
   {
    "duration": 9,
    "start_time": "2025-03-17T01:48:12.193Z"
   },
   {
    "duration": 11,
    "start_time": "2025-03-17T01:48:49.680Z"
   },
   {
    "duration": 11,
    "start_time": "2025-03-17T01:50:00.913Z"
   },
   {
    "duration": 10,
    "start_time": "2025-03-17T01:50:04.431Z"
   },
   {
    "duration": 13,
    "start_time": "2025-03-17T01:50:09.665Z"
   },
   {
    "duration": 3,
    "start_time": "2025-03-17T01:51:30.487Z"
   },
   {
    "duration": 3,
    "start_time": "2025-03-17T01:51:45.049Z"
   },
   {
    "duration": 6,
    "start_time": "2025-03-17T01:51:54.335Z"
   },
   {
    "duration": 4,
    "start_time": "2025-03-17T01:52:12.558Z"
   },
   {
    "duration": 4,
    "start_time": "2025-03-17T01:52:28.239Z"
   },
   {
    "duration": 5,
    "start_time": "2025-03-17T01:57:35.356Z"
   },
   {
    "duration": 7,
    "start_time": "2025-03-17T01:58:07.444Z"
   },
   {
    "duration": 11,
    "start_time": "2025-03-17T02:01:15.020Z"
   },
   {
    "duration": 5,
    "start_time": "2025-03-17T02:01:35.735Z"
   },
   {
    "duration": 10,
    "start_time": "2025-03-17T02:01:43.192Z"
   },
   {
    "duration": 9,
    "start_time": "2025-03-17T02:01:47.131Z"
   },
   {
    "duration": 4,
    "start_time": "2025-03-17T02:03:47.613Z"
   },
   {
    "duration": 5,
    "start_time": "2025-03-17T02:04:35.803Z"
   },
   {
    "duration": 5,
    "start_time": "2025-03-17T02:04:39.683Z"
   },
   {
    "duration": 13,
    "start_time": "2025-03-17T02:08:06.056Z"
   },
   {
    "duration": 38,
    "start_time": "2025-03-17T02:09:16.964Z"
   },
   {
    "duration": 14,
    "start_time": "2025-03-17T02:10:49.314Z"
   },
   {
    "duration": 16,
    "start_time": "2025-03-17T02:11:04.144Z"
   },
   {
    "duration": 13,
    "start_time": "2025-03-17T02:11:09.720Z"
   },
   {
    "duration": 3,
    "start_time": "2025-03-17T02:16:52.986Z"
   },
   {
    "duration": 3,
    "start_time": "2025-03-17T02:16:53.690Z"
   },
   {
    "duration": 1129,
    "start_time": "2025-03-17T02:17:47.913Z"
   },
   {
    "duration": 518,
    "start_time": "2025-03-17T02:17:49.044Z"
   },
   {
    "duration": 1077,
    "start_time": "2025-03-17T02:28:41.528Z"
   },
   {
    "duration": 135,
    "start_time": "2025-03-17T02:28:46.408Z"
   },
   {
    "duration": 9,
    "start_time": "2025-03-17T02:30:32.161Z"
   },
   {
    "duration": 13,
    "start_time": "2025-03-17T02:31:10.025Z"
   },
   {
    "duration": 9,
    "start_time": "2025-03-17T02:31:15.480Z"
   },
   {
    "duration": 8,
    "start_time": "2025-03-17T02:31:26.409Z"
   },
   {
    "duration": 8,
    "start_time": "2025-03-17T02:31:30.947Z"
   },
   {
    "duration": 12,
    "start_time": "2025-03-17T02:31:33.127Z"
   },
   {
    "duration": 12,
    "start_time": "2025-03-17T02:32:14.454Z"
   },
   {
    "duration": 76,
    "start_time": "2025-03-17T02:34:54.216Z"
   },
   {
    "duration": 7,
    "start_time": "2025-03-17T02:34:59.697Z"
   },
   {
    "duration": 5,
    "start_time": "2025-03-17T02:35:18.935Z"
   },
   {
    "duration": 9,
    "start_time": "2025-03-17T02:35:22.631Z"
   },
   {
    "duration": 12,
    "start_time": "2025-03-17T02:35:23.695Z"
   },
   {
    "duration": 9,
    "start_time": "2025-03-17T02:35:43.873Z"
   },
   {
    "duration": 1391,
    "start_time": "2025-03-17T02:36:37.029Z"
   },
   {
    "duration": 77,
    "start_time": "2025-03-17T02:36:38.421Z"
   },
   {
    "duration": 22,
    "start_time": "2025-03-17T02:36:38.499Z"
   },
   {
    "duration": 9,
    "start_time": "2025-03-17T02:36:38.523Z"
   },
   {
    "duration": 11,
    "start_time": "2025-03-17T02:36:38.533Z"
   },
   {
    "duration": 25,
    "start_time": "2025-03-17T02:36:38.545Z"
   },
   {
    "duration": 15,
    "start_time": "2025-03-17T02:36:38.572Z"
   },
   {
    "duration": 9,
    "start_time": "2025-03-17T02:36:38.589Z"
   },
   {
    "duration": 8,
    "start_time": "2025-03-17T02:36:38.600Z"
   },
   {
    "duration": 9,
    "start_time": "2025-03-17T02:36:38.610Z"
   },
   {
    "duration": 6,
    "start_time": "2025-03-17T02:36:38.620Z"
   },
   {
    "duration": 30,
    "start_time": "2025-03-17T02:36:38.628Z"
   },
   {
    "duration": 3,
    "start_time": "2025-03-17T02:36:38.660Z"
   },
   {
    "duration": 4,
    "start_time": "2025-03-17T02:36:38.664Z"
   },
   {
    "duration": 13,
    "start_time": "2025-03-17T02:36:38.669Z"
   },
   {
    "duration": 4,
    "start_time": "2025-03-17T02:36:38.683Z"
   },
   {
    "duration": 9,
    "start_time": "2025-03-17T02:36:38.689Z"
   },
   {
    "duration": 4,
    "start_time": "2025-03-17T02:36:38.699Z"
   },
   {
    "duration": 7,
    "start_time": "2025-03-17T02:36:38.704Z"
   },
   {
    "duration": 58,
    "start_time": "2025-03-17T02:36:38.712Z"
   },
   {
    "duration": 15,
    "start_time": "2025-03-17T02:36:38.772Z"
   },
   {
    "duration": 23,
    "start_time": "2025-03-17T02:36:38.789Z"
   },
   {
    "duration": 18,
    "start_time": "2025-03-17T02:36:38.814Z"
   },
   {
    "duration": 34,
    "start_time": "2025-03-17T02:36:38.834Z"
   },
   {
    "duration": 9,
    "start_time": "2025-03-17T02:36:38.869Z"
   },
   {
    "duration": 20,
    "start_time": "2025-03-17T02:36:38.880Z"
   },
   {
    "duration": 8,
    "start_time": "2025-03-17T02:36:38.901Z"
   },
   {
    "duration": 4,
    "start_time": "2025-03-17T02:36:38.911Z"
   },
   {
    "duration": 5,
    "start_time": "2025-03-17T02:36:38.916Z"
   },
   {
    "duration": 1131,
    "start_time": "2025-03-17T02:36:38.922Z"
   },
   {
    "duration": 538,
    "start_time": "2025-03-17T02:36:40.055Z"
   },
   {
    "duration": 70,
    "start_time": "2025-03-17T02:36:40.594Z"
   },
   {
    "duration": 0,
    "start_time": "2025-03-17T02:36:40.665Z"
   },
   {
    "duration": 0,
    "start_time": "2025-03-17T02:36:40.666Z"
   },
   {
    "duration": 9,
    "start_time": "2025-03-17T02:36:56.447Z"
   },
   {
    "duration": 142,
    "start_time": "2025-03-17T02:37:21.693Z"
   },
   {
    "duration": 148,
    "start_time": "2025-03-17T02:37:48.184Z"
   },
   {
    "duration": 127,
    "start_time": "2025-03-17T02:37:52.702Z"
   },
   {
    "duration": 218,
    "start_time": "2025-03-17T02:38:24.558Z"
   },
   {
    "duration": 138,
    "start_time": "2025-03-17T02:44:40.759Z"
   },
   {
    "duration": 8,
    "start_time": "2025-03-17T02:46:35.469Z"
   },
   {
    "duration": 107,
    "start_time": "2025-03-17T02:47:15.149Z"
   },
   {
    "duration": 14,
    "start_time": "2025-03-17T02:47:23.898Z"
   },
   {
    "duration": 13,
    "start_time": "2025-03-17T02:48:15.445Z"
   },
   {
    "duration": 84,
    "start_time": "2025-03-17T02:48:58.427Z"
   },
   {
    "duration": 24,
    "start_time": "2025-03-17T02:49:02.361Z"
   },
   {
    "duration": 12,
    "start_time": "2025-03-17T02:50:02.345Z"
   },
   {
    "duration": 29,
    "start_time": "2025-03-17T02:50:07.338Z"
   },
   {
    "duration": 24,
    "start_time": "2025-03-17T02:50:37.098Z"
   },
   {
    "duration": 25,
    "start_time": "2025-03-17T02:52:42.871Z"
   },
   {
    "duration": 26,
    "start_time": "2025-03-17T02:52:52.740Z"
   },
   {
    "duration": 25,
    "start_time": "2025-03-17T02:52:58.402Z"
   },
   {
    "duration": 24,
    "start_time": "2025-03-17T02:53:11.478Z"
   },
   {
    "duration": 24,
    "start_time": "2025-03-17T02:54:19.718Z"
   },
   {
    "duration": 11,
    "start_time": "2025-03-17T02:54:32.701Z"
   },
   {
    "duration": 78,
    "start_time": "2025-03-17T02:54:43.537Z"
   },
   {
    "duration": 26,
    "start_time": "2025-03-17T02:54:47.260Z"
   },
   {
    "duration": 24,
    "start_time": "2025-03-17T02:54:51.511Z"
   },
   {
    "duration": 25,
    "start_time": "2025-03-17T02:55:22.669Z"
   },
   {
    "duration": 25,
    "start_time": "2025-03-17T02:55:27.253Z"
   },
   {
    "duration": 25,
    "start_time": "2025-03-17T02:55:31.918Z"
   },
   {
    "duration": 13,
    "start_time": "2025-03-17T02:55:43.782Z"
   },
   {
    "duration": 25,
    "start_time": "2025-03-17T02:55:47.702Z"
   },
   {
    "duration": 10,
    "start_time": "2025-03-17T06:27:46.223Z"
   },
   {
    "duration": 10,
    "start_time": "2025-03-17T06:31:01.654Z"
   },
   {
    "duration": 7,
    "start_time": "2025-03-17T06:31:06.318Z"
   },
   {
    "duration": 7,
    "start_time": "2025-03-17T06:34:38.693Z"
   },
   {
    "duration": 22,
    "start_time": "2025-03-17T06:35:01.609Z"
   },
   {
    "duration": 6,
    "start_time": "2025-03-17T06:35:37.950Z"
   },
   {
    "duration": 7,
    "start_time": "2025-03-17T06:35:43.614Z"
   },
   {
    "duration": 14,
    "start_time": "2025-03-17T06:35:50.934Z"
   },
   {
    "duration": 9,
    "start_time": "2025-03-17T06:36:00.694Z"
   },
   {
    "duration": 7,
    "start_time": "2025-03-17T06:36:11.998Z"
   },
   {
    "duration": 22,
    "start_time": "2025-03-17T06:36:45.109Z"
   },
   {
    "duration": 9,
    "start_time": "2025-03-17T06:37:19.606Z"
   },
   {
    "duration": 12,
    "start_time": "2025-03-17T06:37:23.928Z"
   },
   {
    "duration": 7,
    "start_time": "2025-03-17T06:38:52.599Z"
   },
   {
    "duration": 21,
    "start_time": "2025-03-17T06:39:43.776Z"
   },
   {
    "duration": 11,
    "start_time": "2025-03-17T06:58:23.441Z"
   },
   {
    "duration": 636,
    "start_time": "2025-03-17T07:00:31.829Z"
   },
   {
    "duration": 1317,
    "start_time": "2025-03-17T07:01:00.196Z"
   },
   {
    "duration": 15,
    "start_time": "2025-03-17T07:01:09.408Z"
   },
   {
    "duration": 11,
    "start_time": "2025-03-17T07:01:28.422Z"
   },
   {
    "duration": 14,
    "start_time": "2025-03-17T07:01:43.433Z"
   },
   {
    "duration": 1423,
    "start_time": "2025-03-17T07:02:00.869Z"
   },
   {
    "duration": 10,
    "start_time": "2025-03-17T07:02:07.587Z"
   },
   {
    "duration": 8,
    "start_time": "2025-03-17T07:03:14.020Z"
   },
   {
    "duration": 8,
    "start_time": "2025-03-17T07:04:01.983Z"
   },
   {
    "duration": 10,
    "start_time": "2025-03-17T07:04:35.067Z"
   },
   {
    "duration": 15,
    "start_time": "2025-03-17T07:04:46.475Z"
   },
   {
    "duration": 6,
    "start_time": "2025-03-17T07:05:24.991Z"
   },
   {
    "duration": 15,
    "start_time": "2025-03-17T07:05:29.269Z"
   },
   {
    "duration": 20,
    "start_time": "2025-03-17T07:06:04.724Z"
   },
   {
    "duration": 20,
    "start_time": "2025-03-17T07:09:07.072Z"
   },
   {
    "duration": 20,
    "start_time": "2025-03-17T07:09:21.221Z"
   },
   {
    "duration": 24,
    "start_time": "2025-03-17T07:09:45.693Z"
   },
   {
    "duration": 20,
    "start_time": "2025-03-17T07:09:55.239Z"
   },
   {
    "duration": 1519,
    "start_time": "2025-03-17T07:11:15.279Z"
   },
   {
    "duration": 89,
    "start_time": "2025-03-17T07:11:16.800Z"
   },
   {
    "duration": 25,
    "start_time": "2025-03-17T07:11:16.890Z"
   },
   {
    "duration": 11,
    "start_time": "2025-03-17T07:11:16.916Z"
   },
   {
    "duration": 13,
    "start_time": "2025-03-17T07:11:16.929Z"
   },
   {
    "duration": 10,
    "start_time": "2025-03-17T07:11:16.944Z"
   },
   {
    "duration": 13,
    "start_time": "2025-03-17T07:11:16.956Z"
   },
   {
    "duration": 12,
    "start_time": "2025-03-17T07:11:16.970Z"
   },
   {
    "duration": 10,
    "start_time": "2025-03-17T07:11:16.983Z"
   },
   {
    "duration": 9,
    "start_time": "2025-03-17T07:11:16.996Z"
   },
   {
    "duration": 6,
    "start_time": "2025-03-17T07:11:17.007Z"
   },
   {
    "duration": 53,
    "start_time": "2025-03-17T07:11:17.014Z"
   },
   {
    "duration": 4,
    "start_time": "2025-03-17T07:11:17.069Z"
   },
   {
    "duration": 7,
    "start_time": "2025-03-17T07:11:17.075Z"
   },
   {
    "duration": 9,
    "start_time": "2025-03-17T07:11:17.083Z"
   },
   {
    "duration": 6,
    "start_time": "2025-03-17T07:11:17.093Z"
   },
   {
    "duration": 6,
    "start_time": "2025-03-17T07:11:17.101Z"
   },
   {
    "duration": 5,
    "start_time": "2025-03-17T07:11:17.109Z"
   },
   {
    "duration": 41,
    "start_time": "2025-03-17T07:11:17.116Z"
   },
   {
    "duration": 45,
    "start_time": "2025-03-17T07:11:17.159Z"
   },
   {
    "duration": 16,
    "start_time": "2025-03-17T07:11:17.206Z"
   },
   {
    "duration": 88,
    "start_time": "2025-03-17T07:11:17.224Z"
   },
   {
    "duration": 12,
    "start_time": "2025-03-17T07:11:17.314Z"
   },
   {
    "duration": 9,
    "start_time": "2025-03-17T07:11:17.328Z"
   },
   {
    "duration": 9,
    "start_time": "2025-03-17T07:11:17.339Z"
   },
   {
    "duration": 17,
    "start_time": "2025-03-17T07:11:17.349Z"
   },
   {
    "duration": 5,
    "start_time": "2025-03-17T07:11:17.367Z"
   },
   {
    "duration": 8,
    "start_time": "2025-03-17T07:11:17.375Z"
   },
   {
    "duration": 3,
    "start_time": "2025-03-17T07:11:17.385Z"
   },
   {
    "duration": 1275,
    "start_time": "2025-03-17T07:11:17.390Z"
   },
   {
    "duration": 623,
    "start_time": "2025-03-17T07:11:18.666Z"
   },
   {
    "duration": 169,
    "start_time": "2025-03-17T07:11:19.291Z"
   },
   {
    "duration": 169,
    "start_time": "2025-03-17T07:11:19.461Z"
   },
   {
    "duration": 158,
    "start_time": "2025-03-17T07:11:19.632Z"
   },
   {
    "duration": 24,
    "start_time": "2025-03-17T07:11:19.791Z"
   },
   {
    "duration": 11,
    "start_time": "2025-03-17T07:11:19.816Z"
   },
   {
    "duration": 35,
    "start_time": "2025-03-17T07:11:19.828Z"
   },
   {
    "duration": 143,
    "start_time": "2025-03-17T07:11:19.865Z"
   },
   {
    "duration": 25,
    "start_time": "2025-03-17T07:11:38.051Z"
   },
   {
    "duration": 14,
    "start_time": "2025-03-17T07:12:09.100Z"
   },
   {
    "duration": 20,
    "start_time": "2025-03-17T07:12:14.645Z"
   },
   {
    "duration": 19,
    "start_time": "2025-03-17T07:12:29.027Z"
   },
   {
    "duration": 5,
    "start_time": "2025-03-17T07:12:36.620Z"
   },
   {
    "duration": 26,
    "start_time": "2025-03-17T07:12:38.817Z"
   },
   {
    "duration": 1395,
    "start_time": "2025-03-17T07:15:51.771Z"
   },
   {
    "duration": 1380,
    "start_time": "2025-03-17T07:15:59.518Z"
   },
   {
    "duration": 76,
    "start_time": "2025-03-17T07:16:00.900Z"
   },
   {
    "duration": 23,
    "start_time": "2025-03-17T07:16:00.977Z"
   },
   {
    "duration": 11,
    "start_time": "2025-03-17T07:16:01.002Z"
   },
   {
    "duration": 11,
    "start_time": "2025-03-17T07:16:01.015Z"
   },
   {
    "duration": 16,
    "start_time": "2025-03-17T07:16:01.027Z"
   },
   {
    "duration": 31,
    "start_time": "2025-03-17T07:16:01.045Z"
   },
   {
    "duration": 14,
    "start_time": "2025-03-17T07:16:01.079Z"
   },
   {
    "duration": 14,
    "start_time": "2025-03-17T07:16:01.094Z"
   },
   {
    "duration": 12,
    "start_time": "2025-03-17T07:16:01.111Z"
   },
   {
    "duration": 15,
    "start_time": "2025-03-17T07:16:01.124Z"
   },
   {
    "duration": 51,
    "start_time": "2025-03-17T07:16:01.140Z"
   },
   {
    "duration": 5,
    "start_time": "2025-03-17T07:16:01.192Z"
   },
   {
    "duration": 32,
    "start_time": "2025-03-17T07:16:01.199Z"
   },
   {
    "duration": 9,
    "start_time": "2025-03-17T07:16:01.233Z"
   },
   {
    "duration": 7,
    "start_time": "2025-03-17T07:16:01.244Z"
   },
   {
    "duration": 12,
    "start_time": "2025-03-17T07:16:01.252Z"
   },
   {
    "duration": 6,
    "start_time": "2025-03-17T07:16:01.266Z"
   },
   {
    "duration": 11,
    "start_time": "2025-03-17T07:16:01.274Z"
   },
   {
    "duration": 94,
    "start_time": "2025-03-17T07:16:01.287Z"
   },
   {
    "duration": 20,
    "start_time": "2025-03-17T07:16:01.383Z"
   },
   {
    "duration": 29,
    "start_time": "2025-03-17T07:16:01.406Z"
   },
   {
    "duration": 22,
    "start_time": "2025-03-17T07:16:01.436Z"
   },
   {
    "duration": 11,
    "start_time": "2025-03-17T07:16:01.460Z"
   },
   {
    "duration": 14,
    "start_time": "2025-03-17T07:16:01.472Z"
   },
   {
    "duration": 22,
    "start_time": "2025-03-17T07:16:01.487Z"
   },
   {
    "duration": 17,
    "start_time": "2025-03-17T07:16:01.511Z"
   },
   {
    "duration": 4,
    "start_time": "2025-03-17T07:16:01.531Z"
   },
   {
    "duration": 20,
    "start_time": "2025-03-17T07:16:01.536Z"
   },
   {
    "duration": 1303,
    "start_time": "2025-03-17T07:16:01.557Z"
   },
   {
    "duration": 597,
    "start_time": "2025-03-17T07:16:02.862Z"
   },
   {
    "duration": 155,
    "start_time": "2025-03-17T07:16:03.460Z"
   },
   {
    "duration": 160,
    "start_time": "2025-03-17T07:16:03.617Z"
   },
   {
    "duration": 188,
    "start_time": "2025-03-17T07:16:03.779Z"
   },
   {
    "duration": 29,
    "start_time": "2025-03-17T07:16:03.969Z"
   },
   {
    "duration": 1568,
    "start_time": "2025-03-17T07:16:04.000Z"
   },
   {
    "duration": 7,
    "start_time": "2025-03-17T07:16:38.054Z"
   },
   {
    "duration": 1699,
    "start_time": "2025-03-17T07:16:49.635Z"
   },
   {
    "duration": 1392,
    "start_time": "2025-03-17T07:16:57.705Z"
   },
   {
    "duration": 76,
    "start_time": "2025-03-17T07:16:59.099Z"
   },
   {
    "duration": 26,
    "start_time": "2025-03-17T07:16:59.176Z"
   },
   {
    "duration": 10,
    "start_time": "2025-03-17T07:16:59.203Z"
   },
   {
    "duration": 11,
    "start_time": "2025-03-17T07:16:59.215Z"
   },
   {
    "duration": 7,
    "start_time": "2025-03-17T07:16:59.228Z"
   },
   {
    "duration": 46,
    "start_time": "2025-03-17T07:16:59.237Z"
   },
   {
    "duration": 30,
    "start_time": "2025-03-17T07:16:59.284Z"
   },
   {
    "duration": 9,
    "start_time": "2025-03-17T07:16:59.316Z"
   },
   {
    "duration": 9,
    "start_time": "2025-03-17T07:16:59.327Z"
   },
   {
    "duration": 6,
    "start_time": "2025-03-17T07:16:59.337Z"
   },
   {
    "duration": 32,
    "start_time": "2025-03-17T07:16:59.345Z"
   },
   {
    "duration": 7,
    "start_time": "2025-03-17T07:16:59.378Z"
   },
   {
    "duration": 6,
    "start_time": "2025-03-17T07:16:59.388Z"
   },
   {
    "duration": 10,
    "start_time": "2025-03-17T07:16:59.395Z"
   },
   {
    "duration": 5,
    "start_time": "2025-03-17T07:16:59.406Z"
   },
   {
    "duration": 13,
    "start_time": "2025-03-17T07:16:59.412Z"
   },
   {
    "duration": 6,
    "start_time": "2025-03-17T07:16:59.426Z"
   },
   {
    "duration": 6,
    "start_time": "2025-03-17T07:16:59.433Z"
   },
   {
    "duration": 52,
    "start_time": "2025-03-17T07:16:59.456Z"
   },
   {
    "duration": 14,
    "start_time": "2025-03-17T07:16:59.510Z"
   },
   {
    "duration": 32,
    "start_time": "2025-03-17T07:16:59.526Z"
   },
   {
    "duration": 14,
    "start_time": "2025-03-17T07:16:59.560Z"
   },
   {
    "duration": 10,
    "start_time": "2025-03-17T07:16:59.576Z"
   },
   {
    "duration": 11,
    "start_time": "2025-03-17T07:16:59.587Z"
   },
   {
    "duration": 15,
    "start_time": "2025-03-17T07:16:59.600Z"
   },
   {
    "duration": 10,
    "start_time": "2025-03-17T07:16:59.616Z"
   },
   {
    "duration": 3,
    "start_time": "2025-03-17T07:16:59.628Z"
   },
   {
    "duration": 4,
    "start_time": "2025-03-17T07:16:59.657Z"
   },
   {
    "duration": 1247,
    "start_time": "2025-03-17T07:16:59.663Z"
   },
   {
    "duration": 598,
    "start_time": "2025-03-17T07:17:00.912Z"
   },
   {
    "duration": 174,
    "start_time": "2025-03-17T07:17:01.511Z"
   },
   {
    "duration": 166,
    "start_time": "2025-03-17T07:17:01.686Z"
   },
   {
    "duration": 161,
    "start_time": "2025-03-17T07:17:01.853Z"
   },
   {
    "duration": 24,
    "start_time": "2025-03-17T07:17:02.015Z"
   },
   {
    "duration": 30,
    "start_time": "2025-03-17T07:17:02.041Z"
   },
   {
    "duration": 126,
    "start_time": "2025-03-17T07:18:04.837Z"
   },
   {
    "duration": 14,
    "start_time": "2025-03-17T07:18:13.428Z"
   },
   {
    "duration": 30,
    "start_time": "2025-03-17T07:19:25.338Z"
   },
   {
    "duration": 7,
    "start_time": "2025-03-17T07:19:46.777Z"
   },
   {
    "duration": 10,
    "start_time": "2025-03-17T07:25:36.135Z"
   },
   {
    "duration": 11,
    "start_time": "2025-03-17T07:31:21.036Z"
   },
   {
    "duration": 13,
    "start_time": "2025-03-17T07:31:35.605Z"
   },
   {
    "duration": 12,
    "start_time": "2025-03-17T07:32:19.563Z"
   },
   {
    "duration": 24,
    "start_time": "2025-03-17T07:32:38.764Z"
   },
   {
    "duration": 9,
    "start_time": "2025-03-17T07:32:55.619Z"
   },
   {
    "duration": 1137,
    "start_time": "2025-03-17T07:49:23.610Z"
   },
   {
    "duration": 1398,
    "start_time": "2025-03-17T07:53:04.176Z"
   },
   {
    "duration": 78,
    "start_time": "2025-03-17T07:53:05.577Z"
   },
   {
    "duration": 21,
    "start_time": "2025-03-17T07:53:05.657Z"
   },
   {
    "duration": 10,
    "start_time": "2025-03-17T07:53:05.679Z"
   },
   {
    "duration": 17,
    "start_time": "2025-03-17T07:53:05.691Z"
   },
   {
    "duration": 16,
    "start_time": "2025-03-17T07:53:05.709Z"
   },
   {
    "duration": 21,
    "start_time": "2025-03-17T07:53:05.727Z"
   },
   {
    "duration": 19,
    "start_time": "2025-03-17T07:53:05.750Z"
   },
   {
    "duration": 37,
    "start_time": "2025-03-17T07:53:05.770Z"
   },
   {
    "duration": 37,
    "start_time": "2025-03-17T07:53:05.808Z"
   },
   {
    "duration": 18,
    "start_time": "2025-03-17T07:53:05.847Z"
   },
   {
    "duration": 40,
    "start_time": "2025-03-17T07:53:05.867Z"
   },
   {
    "duration": 16,
    "start_time": "2025-03-17T07:53:05.909Z"
   },
   {
    "duration": 39,
    "start_time": "2025-03-17T07:53:05.929Z"
   },
   {
    "duration": 69,
    "start_time": "2025-03-17T07:53:05.970Z"
   },
   {
    "duration": 27,
    "start_time": "2025-03-17T07:53:06.041Z"
   },
   {
    "duration": 27,
    "start_time": "2025-03-17T07:53:06.070Z"
   },
   {
    "duration": 26,
    "start_time": "2025-03-17T07:53:06.098Z"
   },
   {
    "duration": 7,
    "start_time": "2025-03-17T07:53:06.126Z"
   },
   {
    "duration": 50,
    "start_time": "2025-03-17T07:53:06.135Z"
   },
   {
    "duration": 16,
    "start_time": "2025-03-17T07:53:06.187Z"
   },
   {
    "duration": 46,
    "start_time": "2025-03-17T07:53:06.204Z"
   },
   {
    "duration": 34,
    "start_time": "2025-03-17T07:53:06.251Z"
   },
   {
    "duration": 9,
    "start_time": "2025-03-17T07:53:06.287Z"
   },
   {
    "duration": 26,
    "start_time": "2025-03-17T07:53:06.298Z"
   },
   {
    "duration": 78,
    "start_time": "2025-03-17T07:53:06.326Z"
   },
   {
    "duration": 35,
    "start_time": "2025-03-17T07:53:06.406Z"
   },
   {
    "duration": 22,
    "start_time": "2025-03-17T07:53:06.442Z"
   },
   {
    "duration": 26,
    "start_time": "2025-03-17T07:53:06.466Z"
   },
   {
    "duration": 1178,
    "start_time": "2025-03-17T07:53:06.494Z"
   },
   {
    "duration": 572,
    "start_time": "2025-03-17T07:53:07.674Z"
   },
   {
    "duration": 165,
    "start_time": "2025-03-17T07:53:08.256Z"
   },
   {
    "duration": 140,
    "start_time": "2025-03-17T07:53:08.422Z"
   },
   {
    "duration": 151,
    "start_time": "2025-03-17T07:53:08.564Z"
   },
   {
    "duration": 32,
    "start_time": "2025-03-17T07:53:08.716Z"
   },
   {
    "duration": 16,
    "start_time": "2025-03-17T07:53:08.757Z"
   },
   {
    "duration": 29,
    "start_time": "2025-03-17T07:53:08.775Z"
   },
   {
    "duration": 14,
    "start_time": "2025-03-17T07:53:08.807Z"
   },
   {
    "duration": 30,
    "start_time": "2025-03-17T07:53:13.979Z"
   },
   {
    "duration": 376,
    "start_time": "2025-03-17T07:55:20.489Z"
   },
   {
    "duration": 4,
    "start_time": "2025-03-17T07:55:26.225Z"
   },
   {
    "duration": 4,
    "start_time": "2025-03-17T07:55:54.771Z"
   },
   {
    "duration": 1434,
    "start_time": "2025-03-17T07:56:05.223Z"
   },
   {
    "duration": 78,
    "start_time": "2025-03-17T07:56:06.659Z"
   },
   {
    "duration": 23,
    "start_time": "2025-03-17T07:56:06.739Z"
   },
   {
    "duration": 59,
    "start_time": "2025-03-17T07:56:06.765Z"
   },
   {
    "duration": 16,
    "start_time": "2025-03-17T07:56:06.826Z"
   },
   {
    "duration": 38,
    "start_time": "2025-03-17T07:56:06.844Z"
   },
   {
    "duration": 17,
    "start_time": "2025-03-17T07:56:06.884Z"
   },
   {
    "duration": 25,
    "start_time": "2025-03-17T07:56:06.903Z"
   },
   {
    "duration": 38,
    "start_time": "2025-03-17T07:56:06.930Z"
   },
   {
    "duration": 60,
    "start_time": "2025-03-17T07:56:06.971Z"
   },
   {
    "duration": 52,
    "start_time": "2025-03-17T07:56:07.033Z"
   },
   {
    "duration": 12,
    "start_time": "2025-03-17T07:56:07.087Z"
   },
   {
    "duration": 44,
    "start_time": "2025-03-17T07:56:07.101Z"
   },
   {
    "duration": 4,
    "start_time": "2025-03-17T07:56:07.147Z"
   },
   {
    "duration": 20,
    "start_time": "2025-03-17T07:56:07.152Z"
   },
   {
    "duration": 16,
    "start_time": "2025-03-17T07:56:07.174Z"
   },
   {
    "duration": 16,
    "start_time": "2025-03-17T07:56:07.192Z"
   },
   {
    "duration": 18,
    "start_time": "2025-03-17T07:56:07.210Z"
   },
   {
    "duration": 10,
    "start_time": "2025-03-17T07:56:07.230Z"
   },
   {
    "duration": 62,
    "start_time": "2025-03-17T07:56:07.242Z"
   },
   {
    "duration": 68,
    "start_time": "2025-03-17T07:56:07.306Z"
   },
   {
    "duration": 17,
    "start_time": "2025-03-17T07:56:07.376Z"
   },
   {
    "duration": 16,
    "start_time": "2025-03-17T07:56:07.395Z"
   },
   {
    "duration": 31,
    "start_time": "2025-03-17T07:56:07.412Z"
   },
   {
    "duration": 85,
    "start_time": "2025-03-17T07:56:07.445Z"
   },
   {
    "duration": 22,
    "start_time": "2025-03-17T07:56:07.531Z"
   },
   {
    "duration": 17,
    "start_time": "2025-03-17T07:56:07.554Z"
   },
   {
    "duration": 4,
    "start_time": "2025-03-17T07:56:07.574Z"
   },
   {
    "duration": 12,
    "start_time": "2025-03-17T07:56:07.579Z"
   },
   {
    "duration": 31,
    "start_time": "2025-03-17T07:56:07.592Z"
   },
   {
    "duration": 1182,
    "start_time": "2025-03-17T07:56:07.625Z"
   },
   {
    "duration": 577,
    "start_time": "2025-03-17T07:56:08.810Z"
   },
   {
    "duration": 169,
    "start_time": "2025-03-17T07:56:09.389Z"
   },
   {
    "duration": 133,
    "start_time": "2025-03-17T07:56:09.560Z"
   },
   {
    "duration": 143,
    "start_time": "2025-03-17T07:56:09.695Z"
   },
   {
    "duration": 30,
    "start_time": "2025-03-17T07:56:09.839Z"
   },
   {
    "duration": 15,
    "start_time": "2025-03-17T07:56:09.871Z"
   },
   {
    "duration": 11,
    "start_time": "2025-03-17T07:56:09.887Z"
   },
   {
    "duration": 8,
    "start_time": "2025-03-17T07:56:09.899Z"
   },
   {
    "duration": 25,
    "start_time": "2025-03-17T07:56:09.909Z"
   },
   {
    "duration": 4,
    "start_time": "2025-03-17T08:20:29.778Z"
   },
   {
    "duration": 24,
    "start_time": "2025-03-17T08:20:35.628Z"
   },
   {
    "duration": 107,
    "start_time": "2025-03-17T08:34:31.648Z"
   },
   {
    "duration": 1342,
    "start_time": "2025-03-17T08:34:39.879Z"
   },
   {
    "duration": 1269,
    "start_time": "2025-03-17T08:35:20.256Z"
   },
   {
    "duration": 1329,
    "start_time": "2025-03-17T08:35:29.642Z"
   },
   {
    "duration": 1324,
    "start_time": "2025-03-17T08:35:46.415Z"
   },
   {
    "duration": 19,
    "start_time": "2025-03-17T08:36:39.527Z"
   },
   {
    "duration": 13,
    "start_time": "2025-03-17T08:36:54.776Z"
   },
   {
    "duration": 49,
    "start_time": "2025-03-19T02:14:41.059Z"
   },
   {
    "duration": 1599,
    "start_time": "2025-03-19T02:24:53.037Z"
   },
   {
    "duration": 77,
    "start_time": "2025-03-19T02:24:54.638Z"
   },
   {
    "duration": 22,
    "start_time": "2025-03-19T02:24:54.716Z"
   },
   {
    "duration": 9,
    "start_time": "2025-03-19T02:24:54.739Z"
   },
   {
    "duration": 9,
    "start_time": "2025-03-19T02:24:54.750Z"
   },
   {
    "duration": 14,
    "start_time": "2025-03-19T02:24:54.760Z"
   },
   {
    "duration": 11,
    "start_time": "2025-03-19T02:24:54.775Z"
   },
   {
    "duration": 9,
    "start_time": "2025-03-19T02:24:54.788Z"
   },
   {
    "duration": 9,
    "start_time": "2025-03-19T02:24:54.798Z"
   },
   {
    "duration": 9,
    "start_time": "2025-03-19T02:24:54.808Z"
   },
   {
    "duration": 9,
    "start_time": "2025-03-19T02:24:54.819Z"
   },
   {
    "duration": 8,
    "start_time": "2025-03-19T02:24:54.829Z"
   },
   {
    "duration": 38,
    "start_time": "2025-03-19T02:24:54.838Z"
   },
   {
    "duration": 3,
    "start_time": "2025-03-19T02:24:54.880Z"
   },
   {
    "duration": 4,
    "start_time": "2025-03-19T02:24:54.884Z"
   },
   {
    "duration": 7,
    "start_time": "2025-03-19T02:24:54.890Z"
   },
   {
    "duration": 11,
    "start_time": "2025-03-19T02:24:54.899Z"
   },
   {
    "duration": 4,
    "start_time": "2025-03-19T02:24:54.912Z"
   },
   {
    "duration": 28,
    "start_time": "2025-03-19T02:24:54.917Z"
   },
   {
    "duration": 7,
    "start_time": "2025-03-19T02:24:54.946Z"
   },
   {
    "duration": 50,
    "start_time": "2025-03-19T02:24:54.954Z"
   },
   {
    "duration": 15,
    "start_time": "2025-03-19T02:24:55.005Z"
   },
   {
    "duration": 29,
    "start_time": "2025-03-19T02:24:55.021Z"
   },
   {
    "duration": 16,
    "start_time": "2025-03-19T02:24:55.051Z"
   },
   {
    "duration": 8,
    "start_time": "2025-03-19T02:24:55.068Z"
   },
   {
    "duration": 23,
    "start_time": "2025-03-19T02:24:55.077Z"
   },
   {
    "duration": 21,
    "start_time": "2025-03-19T02:24:55.101Z"
   },
   {
    "duration": 18,
    "start_time": "2025-03-19T02:24:55.123Z"
   },
   {
    "duration": 30,
    "start_time": "2025-03-19T02:24:55.143Z"
   },
   {
    "duration": 4,
    "start_time": "2025-03-19T02:24:55.174Z"
   },
   {
    "duration": 1190,
    "start_time": "2025-03-19T02:24:55.179Z"
   },
   {
    "duration": 564,
    "start_time": "2025-03-19T02:24:56.371Z"
   },
   {
    "duration": 157,
    "start_time": "2025-03-19T02:24:56.936Z"
   },
   {
    "duration": 153,
    "start_time": "2025-03-19T02:24:57.094Z"
   },
   {
    "duration": 142,
    "start_time": "2025-03-19T02:24:57.249Z"
   },
   {
    "duration": 20,
    "start_time": "2025-03-19T02:24:57.393Z"
   },
   {
    "duration": 11,
    "start_time": "2025-03-19T02:24:57.415Z"
   },
   {
    "duration": 10,
    "start_time": "2025-03-19T02:24:57.428Z"
   },
   {
    "duration": 4,
    "start_time": "2025-03-19T02:24:57.439Z"
   },
   {
    "duration": 11,
    "start_time": "2025-03-19T02:24:57.468Z"
   },
   {
    "duration": 1494,
    "start_time": "2025-03-19T02:24:57.482Z"
   },
   {
    "duration": 111,
    "start_time": "2025-03-19T02:24:58.979Z"
   },
   {
    "duration": 0,
    "start_time": "2025-03-19T02:24:59.091Z"
   },
   {
    "duration": 1042,
    "start_time": "2025-03-19T02:25:05.783Z"
   },
   {
    "duration": 19,
    "start_time": "2025-03-19T02:25:24.079Z"
   },
   {
    "duration": 25,
    "start_time": "2025-03-19T02:26:28.046Z"
   },
   {
    "duration": 13,
    "start_time": "2025-03-19T02:27:11.974Z"
   },
   {
    "duration": 5,
    "start_time": "2025-03-19T02:27:38.800Z"
   },
   {
    "duration": 5,
    "start_time": "2025-03-19T02:27:45.463Z"
   },
   {
    "duration": 1389,
    "start_time": "2025-03-19T02:28:20.100Z"
   },
   {
    "duration": 77,
    "start_time": "2025-03-19T02:28:21.491Z"
   },
   {
    "duration": 22,
    "start_time": "2025-03-19T02:28:21.570Z"
   },
   {
    "duration": 9,
    "start_time": "2025-03-19T02:28:21.594Z"
   },
   {
    "duration": 14,
    "start_time": "2025-03-19T02:28:21.605Z"
   },
   {
    "duration": 24,
    "start_time": "2025-03-19T02:28:21.620Z"
   },
   {
    "duration": 22,
    "start_time": "2025-03-19T02:28:21.646Z"
   },
   {
    "duration": 11,
    "start_time": "2025-03-19T02:28:21.669Z"
   },
   {
    "duration": 8,
    "start_time": "2025-03-19T02:28:21.682Z"
   },
   {
    "duration": 8,
    "start_time": "2025-03-19T02:28:21.694Z"
   },
   {
    "duration": 7,
    "start_time": "2025-03-19T02:28:21.703Z"
   },
   {
    "duration": 12,
    "start_time": "2025-03-19T02:28:21.711Z"
   },
   {
    "duration": 16,
    "start_time": "2025-03-19T02:28:21.725Z"
   },
   {
    "duration": 26,
    "start_time": "2025-03-19T02:28:21.742Z"
   },
   {
    "duration": 5,
    "start_time": "2025-03-19T02:28:21.769Z"
   },
   {
    "duration": 9,
    "start_time": "2025-03-19T02:28:21.776Z"
   },
   {
    "duration": 6,
    "start_time": "2025-03-19T02:28:21.787Z"
   },
   {
    "duration": 11,
    "start_time": "2025-03-19T02:28:21.794Z"
   },
   {
    "duration": 7,
    "start_time": "2025-03-19T02:28:21.806Z"
   },
   {
    "duration": 6,
    "start_time": "2025-03-19T02:28:21.814Z"
   },
   {
    "duration": 58,
    "start_time": "2025-03-19T02:28:21.821Z"
   },
   {
    "duration": 15,
    "start_time": "2025-03-19T02:28:21.881Z"
   },
   {
    "duration": 15,
    "start_time": "2025-03-19T02:28:21.897Z"
   },
   {
    "duration": 13,
    "start_time": "2025-03-19T02:28:21.913Z"
   },
   {
    "duration": 9,
    "start_time": "2025-03-19T02:28:21.927Z"
   },
   {
    "duration": 33,
    "start_time": "2025-03-19T02:28:21.938Z"
   },
   {
    "duration": 17,
    "start_time": "2025-03-19T02:28:21.973Z"
   },
   {
    "duration": 4,
    "start_time": "2025-03-19T02:28:21.993Z"
   },
   {
    "duration": 6,
    "start_time": "2025-03-19T02:28:21.998Z"
   },
   {
    "duration": 5,
    "start_time": "2025-03-19T02:28:22.005Z"
   },
   {
    "duration": 1211,
    "start_time": "2025-03-19T02:28:22.011Z"
   },
   {
    "duration": 581,
    "start_time": "2025-03-19T02:28:23.224Z"
   },
   {
    "duration": 167,
    "start_time": "2025-03-19T02:28:23.806Z"
   },
   {
    "duration": 144,
    "start_time": "2025-03-19T02:28:23.975Z"
   },
   {
    "duration": 139,
    "start_time": "2025-03-19T02:28:24.120Z"
   },
   {
    "duration": 25,
    "start_time": "2025-03-19T02:28:24.261Z"
   },
   {
    "duration": 11,
    "start_time": "2025-03-19T02:28:24.287Z"
   },
   {
    "duration": 9,
    "start_time": "2025-03-19T02:28:24.300Z"
   },
   {
    "duration": 3,
    "start_time": "2025-03-19T02:28:24.311Z"
   },
   {
    "duration": 52,
    "start_time": "2025-03-19T02:28:24.316Z"
   },
   {
    "duration": 1502,
    "start_time": "2025-03-19T02:28:24.370Z"
   },
   {
    "duration": 14,
    "start_time": "2025-03-19T02:28:25.873Z"
   },
   {
    "duration": 104,
    "start_time": "2025-03-19T07:41:58.710Z"
   },
   {
    "duration": 70,
    "start_time": "2025-03-19T07:50:41.200Z"
   },
   {
    "duration": 125,
    "start_time": "2025-03-19T07:51:14.717Z"
   },
   {
    "duration": 14,
    "start_time": "2025-03-19T07:55:32.379Z"
   },
   {
    "duration": 29,
    "start_time": "2025-03-19T07:56:48.701Z"
   },
   {
    "duration": 4,
    "start_time": "2025-03-19T08:06:51.412Z"
   },
   {
    "duration": 24,
    "start_time": "2025-03-19T08:08:04.660Z"
   },
   {
    "duration": 23,
    "start_time": "2025-03-19T08:21:22.384Z"
   },
   {
    "duration": 26,
    "start_time": "2025-03-19T08:22:24.976Z"
   },
   {
    "duration": 4,
    "start_time": "2025-03-19T08:22:34.427Z"
   },
   {
    "duration": 27,
    "start_time": "2025-03-19T08:22:38.383Z"
   },
   {
    "duration": 18,
    "start_time": "2025-03-19T08:23:55.764Z"
   },
   {
    "duration": 26,
    "start_time": "2025-03-19T08:27:42.857Z"
   },
   {
    "duration": 75,
    "start_time": "2025-03-19T08:28:08.997Z"
   },
   {
    "duration": 136,
    "start_time": "2025-03-19T08:29:40.112Z"
   },
   {
    "duration": 149,
    "start_time": "2025-03-19T08:31:20.727Z"
   },
   {
    "duration": 147,
    "start_time": "2025-03-19T08:32:29.096Z"
   },
   {
    "duration": 143,
    "start_time": "2025-03-19T08:35:09.476Z"
   },
   {
    "duration": 15070,
    "start_time": "2025-03-19T08:36:03.309Z"
   },
   {
    "duration": 14882,
    "start_time": "2025-03-19T08:36:36.278Z"
   },
   {
    "duration": 22174,
    "start_time": "2025-03-19T08:40:42.150Z"
   },
   {
    "duration": 33,
    "start_time": "2025-03-19T08:44:04.466Z"
   },
   {
    "duration": 100991,
    "start_time": "2025-03-19T08:44:13.980Z"
   },
   {
    "duration": 91498,
    "start_time": "2025-03-19T08:48:23.997Z"
   },
   {
    "duration": 279890,
    "start_time": "2025-03-19T08:51:43.695Z"
   },
   {
    "duration": 259382,
    "start_time": "2025-03-19T09:01:06.644Z"
   },
   {
    "duration": 9,
    "start_time": "2025-03-19T09:08:59.527Z"
   },
   {
    "duration": 11,
    "start_time": "2025-03-19T09:09:06.053Z"
   },
   {
    "duration": 5092,
    "start_time": "2025-03-19T09:09:37.804Z"
   },
   {
    "duration": 40,
    "start_time": "2025-03-19T09:09:49.980Z"
   },
   {
    "duration": 91237,
    "start_time": "2025-03-19T09:10:02.569Z"
   },
   {
    "duration": 14,
    "start_time": "2025-03-19T09:11:46.517Z"
   },
   {
    "duration": 10,
    "start_time": "2025-03-19T09:13:05.890Z"
   },
   {
    "duration": 11,
    "start_time": "2025-03-19T09:13:22.435Z"
   },
   {
    "duration": 5,
    "start_time": "2025-03-19T09:13:35.279Z"
   },
   {
    "duration": 3,
    "start_time": "2025-03-19T09:14:48.002Z"
   },
   {
    "duration": 10,
    "start_time": "2025-03-19T09:16:47.056Z"
   },
   {
    "duration": 12,
    "start_time": "2025-03-19T09:16:49.955Z"
   },
   {
    "duration": 11,
    "start_time": "2025-03-19T09:16:55.576Z"
   },
   {
    "duration": 5,
    "start_time": "2025-03-19T09:19:26.436Z"
   },
   {
    "duration": 11,
    "start_time": "2025-03-19T09:23:35.992Z"
   },
   {
    "duration": 14,
    "start_time": "2025-03-19T09:24:07.866Z"
   },
   {
    "duration": 16,
    "start_time": "2025-03-19T09:24:34.502Z"
   },
   {
    "duration": 13,
    "start_time": "2025-03-19T09:30:43.629Z"
   },
   {
    "duration": 13,
    "start_time": "2025-03-19T09:30:49.501Z"
   },
   {
    "duration": 11,
    "start_time": "2025-03-19T09:31:17.392Z"
   },
   {
    "duration": 12,
    "start_time": "2025-03-19T09:31:21.597Z"
   },
   {
    "duration": 10,
    "start_time": "2025-03-19T09:31:47.681Z"
   },
   {
    "duration": 9,
    "start_time": "2025-03-19T09:31:58.509Z"
   },
   {
    "duration": 13,
    "start_time": "2025-03-19T09:32:14.060Z"
   },
   {
    "duration": 10,
    "start_time": "2025-03-19T09:32:28.096Z"
   },
   {
    "duration": 5,
    "start_time": "2025-03-19T09:32:36.150Z"
   },
   {
    "duration": 6367,
    "start_time": "2025-03-20T01:22:57.647Z"
   },
   {
    "duration": 2285,
    "start_time": "2025-03-20T01:23:23.131Z"
   },
   {
    "duration": 1768,
    "start_time": "2025-03-20T01:23:25.418Z"
   },
   {
    "duration": 73,
    "start_time": "2025-03-20T01:23:27.188Z"
   },
   {
    "duration": 21,
    "start_time": "2025-03-20T01:23:27.263Z"
   },
   {
    "duration": 11,
    "start_time": "2025-03-20T01:23:27.286Z"
   },
   {
    "duration": 11,
    "start_time": "2025-03-20T01:23:27.299Z"
   },
   {
    "duration": 19,
    "start_time": "2025-03-20T01:23:27.311Z"
   },
   {
    "duration": 14,
    "start_time": "2025-03-20T01:23:27.331Z"
   },
   {
    "duration": 9,
    "start_time": "2025-03-20T01:23:27.347Z"
   },
   {
    "duration": 9,
    "start_time": "2025-03-20T01:23:27.367Z"
   },
   {
    "duration": 9,
    "start_time": "2025-03-20T01:23:27.377Z"
   },
   {
    "duration": 4,
    "start_time": "2025-03-20T01:23:27.388Z"
   },
   {
    "duration": 5,
    "start_time": "2025-03-20T01:23:27.393Z"
   },
   {
    "duration": 15,
    "start_time": "2025-03-20T01:23:27.400Z"
   },
   {
    "duration": 4,
    "start_time": "2025-03-20T01:23:27.416Z"
   },
   {
    "duration": 11,
    "start_time": "2025-03-20T01:23:27.421Z"
   },
   {
    "duration": 39,
    "start_time": "2025-03-20T01:23:27.433Z"
   },
   {
    "duration": 4,
    "start_time": "2025-03-20T01:23:27.474Z"
   },
   {
    "duration": 4,
    "start_time": "2025-03-20T01:23:27.480Z"
   },
   {
    "duration": 4,
    "start_time": "2025-03-20T01:23:27.486Z"
   },
   {
    "duration": 8,
    "start_time": "2025-03-20T01:23:27.492Z"
   },
   {
    "duration": 40,
    "start_time": "2025-03-20T01:23:27.502Z"
   },
   {
    "duration": 36,
    "start_time": "2025-03-20T01:23:27.544Z"
   },
   {
    "duration": 14,
    "start_time": "2025-03-20T01:23:27.582Z"
   },
   {
    "duration": 19,
    "start_time": "2025-03-20T01:23:27.598Z"
   },
   {
    "duration": 9,
    "start_time": "2025-03-20T01:23:27.619Z"
   },
   {
    "duration": 8,
    "start_time": "2025-03-20T01:23:27.630Z"
   },
   {
    "duration": 39,
    "start_time": "2025-03-20T01:23:27.639Z"
   },
   {
    "duration": 33,
    "start_time": "2025-03-20T01:23:27.680Z"
   },
   {
    "duration": 15,
    "start_time": "2025-03-20T01:23:27.714Z"
   },
   {
    "duration": 6,
    "start_time": "2025-03-20T01:23:27.731Z"
   },
   {
    "duration": 1146,
    "start_time": "2025-03-20T01:23:27.739Z"
   },
   {
    "duration": 557,
    "start_time": "2025-03-20T01:23:28.887Z"
   },
   {
    "duration": 155,
    "start_time": "2025-03-20T01:23:29.446Z"
   },
   {
    "duration": 137,
    "start_time": "2025-03-20T01:23:29.603Z"
   },
   {
    "duration": 138,
    "start_time": "2025-03-20T01:23:29.742Z"
   },
   {
    "duration": 21,
    "start_time": "2025-03-20T01:23:29.882Z"
   },
   {
    "duration": 13,
    "start_time": "2025-03-20T01:23:29.905Z"
   },
   {
    "duration": 11,
    "start_time": "2025-03-20T01:23:29.919Z"
   },
   {
    "duration": 6,
    "start_time": "2025-03-20T01:23:29.931Z"
   },
   {
    "duration": 13,
    "start_time": "2025-03-20T01:23:29.967Z"
   },
   {
    "duration": 1358,
    "start_time": "2025-03-20T01:23:29.982Z"
   },
   {
    "duration": 87024,
    "start_time": "2025-03-20T01:23:31.342Z"
   },
   {
    "duration": 5,
    "start_time": "2025-03-20T01:24:58.367Z"
   },
   {
    "duration": 143,
    "start_time": "2025-03-20T01:24:58.373Z"
   },
   {
    "duration": 0,
    "start_time": "2025-03-20T01:24:58.517Z"
   },
   {
    "duration": 0,
    "start_time": "2025-03-20T01:24:58.518Z"
   },
   {
    "duration": 0,
    "start_time": "2025-03-20T01:24:58.519Z"
   },
   {
    "duration": 13,
    "start_time": "2025-03-20T02:19:15.517Z"
   },
   {
    "duration": 2499,
    "start_time": "2025-03-20T02:19:28.964Z"
   },
   {
    "duration": 19,
    "start_time": "2025-03-20T02:19:40.046Z"
   },
   {
    "duration": 11,
    "start_time": "2025-03-20T02:20:27.687Z"
   },
   {
    "duration": 3,
    "start_time": "2025-03-20T02:21:06.850Z"
   },
   {
    "duration": 1696,
    "start_time": "2025-03-20T02:21:06.855Z"
   },
   {
    "duration": 70,
    "start_time": "2025-03-20T02:21:08.553Z"
   },
   {
    "duration": 23,
    "start_time": "2025-03-20T02:21:08.625Z"
   },
   {
    "duration": 11,
    "start_time": "2025-03-20T02:21:08.649Z"
   },
   {
    "duration": 10,
    "start_time": "2025-03-20T02:21:08.662Z"
   },
   {
    "duration": 7,
    "start_time": "2025-03-20T02:21:08.674Z"
   },
   {
    "duration": 11,
    "start_time": "2025-03-20T02:21:08.683Z"
   },
   {
    "duration": 20,
    "start_time": "2025-03-20T02:21:08.695Z"
   },
   {
    "duration": 36,
    "start_time": "2025-03-20T02:21:08.716Z"
   },
   {
    "duration": 12,
    "start_time": "2025-03-20T02:21:08.753Z"
   },
   {
    "duration": 4,
    "start_time": "2025-03-20T02:21:08.767Z"
   },
   {
    "duration": 6,
    "start_time": "2025-03-20T02:21:08.772Z"
   },
   {
    "duration": 14,
    "start_time": "2025-03-20T02:21:08.780Z"
   },
   {
    "duration": 6,
    "start_time": "2025-03-20T02:21:08.795Z"
   },
   {
    "duration": 9,
    "start_time": "2025-03-20T02:21:08.803Z"
   },
   {
    "duration": 9,
    "start_time": "2025-03-20T02:21:08.814Z"
   },
   {
    "duration": 5,
    "start_time": "2025-03-20T02:21:08.824Z"
   },
   {
    "duration": 6,
    "start_time": "2025-03-20T02:21:08.830Z"
   },
   {
    "duration": 5,
    "start_time": "2025-03-20T02:21:08.837Z"
   },
   {
    "duration": 7,
    "start_time": "2025-03-20T02:21:08.868Z"
   },
   {
    "duration": 47,
    "start_time": "2025-03-20T02:21:08.877Z"
   },
   {
    "duration": 16,
    "start_time": "2025-03-20T02:21:08.925Z"
   },
   {
    "duration": 31,
    "start_time": "2025-03-20T02:21:08.942Z"
   },
   {
    "duration": 19,
    "start_time": "2025-03-20T02:21:08.975Z"
   },
   {
    "duration": 13,
    "start_time": "2025-03-20T02:21:08.996Z"
   },
   {
    "duration": 11,
    "start_time": "2025-03-20T02:21:09.011Z"
   },
   {
    "duration": 19,
    "start_time": "2025-03-20T02:21:09.023Z"
   },
   {
    "duration": 3,
    "start_time": "2025-03-20T02:21:09.067Z"
   },
   {
    "duration": 4,
    "start_time": "2025-03-20T02:21:09.072Z"
   },
   {
    "duration": 4,
    "start_time": "2025-03-20T02:21:09.078Z"
   },
   {
    "duration": 1159,
    "start_time": "2025-03-20T02:21:09.083Z"
   },
   {
    "duration": 541,
    "start_time": "2025-03-20T02:21:10.244Z"
   },
   {
    "duration": 156,
    "start_time": "2025-03-20T02:21:10.787Z"
   },
   {
    "duration": 128,
    "start_time": "2025-03-20T02:21:10.944Z"
   },
   {
    "duration": 138,
    "start_time": "2025-03-20T02:21:11.073Z"
   },
   {
    "duration": 21,
    "start_time": "2025-03-20T02:21:11.213Z"
   },
   {
    "duration": 12,
    "start_time": "2025-03-20T02:21:11.235Z"
   },
   {
    "duration": 26,
    "start_time": "2025-03-20T02:21:11.248Z"
   },
   {
    "duration": 4,
    "start_time": "2025-03-20T02:21:11.276Z"
   },
   {
    "duration": 10,
    "start_time": "2025-03-20T02:21:11.283Z"
   },
   {
    "duration": 1346,
    "start_time": "2025-03-20T02:21:11.294Z"
   },
   {
    "duration": 89931,
    "start_time": "2025-03-20T02:21:12.642Z"
   },
   {
    "duration": 4,
    "start_time": "2025-03-20T02:22:42.575Z"
   },
   {
    "duration": 142,
    "start_time": "2025-03-20T02:22:42.580Z"
   },
   {
    "duration": 0,
    "start_time": "2025-03-20T02:22:42.723Z"
   },
   {
    "duration": 0,
    "start_time": "2025-03-20T02:22:42.724Z"
   },
   {
    "duration": 0,
    "start_time": "2025-03-20T02:22:42.725Z"
   },
   {
    "duration": 0,
    "start_time": "2025-03-20T02:22:42.726Z"
   },
   {
    "duration": 22046,
    "start_time": "2025-03-20T02:22:52.512Z"
   },
   {
    "duration": 3,
    "start_time": "2025-03-20T02:24:00.699Z"
   },
   {
    "duration": 12,
    "start_time": "2025-03-20T02:24:48.617Z"
   },
   {
    "duration": 10,
    "start_time": "2025-03-20T02:25:06.252Z"
   },
   {
    "duration": 12,
    "start_time": "2025-03-20T02:27:12.144Z"
   },
   {
    "duration": 10,
    "start_time": "2025-03-20T02:27:23.384Z"
   },
   {
    "duration": 3,
    "start_time": "2025-03-20T02:27:57.701Z"
   },
   {
    "duration": 6,
    "start_time": "2025-03-20T02:28:16.493Z"
   },
   {
    "duration": 156,
    "start_time": "2025-03-20T02:28:50.817Z"
   },
   {
    "duration": 10,
    "start_time": "2025-03-20T02:30:55.513Z"
   },
   {
    "duration": 10,
    "start_time": "2025-03-20T02:31:09.365Z"
   },
   {
    "duration": 3,
    "start_time": "2025-03-20T06:16:19.125Z"
   },
   {
    "duration": 1776,
    "start_time": "2025-03-20T06:16:19.131Z"
   },
   {
    "duration": 73,
    "start_time": "2025-03-20T06:16:20.909Z"
   },
   {
    "duration": 23,
    "start_time": "2025-03-20T06:16:20.984Z"
   },
   {
    "duration": 13,
    "start_time": "2025-03-20T06:16:21.009Z"
   },
   {
    "duration": 18,
    "start_time": "2025-03-20T06:16:21.024Z"
   },
   {
    "duration": 24,
    "start_time": "2025-03-20T06:16:21.044Z"
   },
   {
    "duration": 18,
    "start_time": "2025-03-20T06:16:21.070Z"
   },
   {
    "duration": 15,
    "start_time": "2025-03-20T06:16:21.090Z"
   },
   {
    "duration": 11,
    "start_time": "2025-03-20T06:16:21.107Z"
   },
   {
    "duration": 11,
    "start_time": "2025-03-20T06:16:21.120Z"
   },
   {
    "duration": 36,
    "start_time": "2025-03-20T06:16:21.134Z"
   },
   {
    "duration": 12,
    "start_time": "2025-03-20T06:16:21.172Z"
   },
   {
    "duration": 22,
    "start_time": "2025-03-20T06:16:21.188Z"
   },
   {
    "duration": 3,
    "start_time": "2025-03-20T06:16:21.212Z"
   },
   {
    "duration": 17,
    "start_time": "2025-03-20T06:16:21.217Z"
   },
   {
    "duration": 15,
    "start_time": "2025-03-20T06:16:21.235Z"
   },
   {
    "duration": 18,
    "start_time": "2025-03-20T06:16:21.252Z"
   },
   {
    "duration": 27,
    "start_time": "2025-03-20T06:16:21.272Z"
   },
   {
    "duration": 7,
    "start_time": "2025-03-20T06:16:21.301Z"
   },
   {
    "duration": 6,
    "start_time": "2025-03-20T06:16:21.309Z"
   },
   {
    "duration": 65,
    "start_time": "2025-03-20T06:16:21.317Z"
   },
   {
    "duration": 21,
    "start_time": "2025-03-20T06:16:21.383Z"
   },
   {
    "duration": 20,
    "start_time": "2025-03-20T06:16:21.405Z"
   },
   {
    "duration": 14,
    "start_time": "2025-03-20T06:16:21.427Z"
   },
   {
    "duration": 33,
    "start_time": "2025-03-20T06:16:21.443Z"
   },
   {
    "duration": 13,
    "start_time": "2025-03-20T06:16:21.478Z"
   },
   {
    "duration": 17,
    "start_time": "2025-03-20T06:16:21.493Z"
   },
   {
    "duration": 4,
    "start_time": "2025-03-20T06:16:21.512Z"
   },
   {
    "duration": 18,
    "start_time": "2025-03-20T06:16:21.518Z"
   },
   {
    "duration": 30,
    "start_time": "2025-03-20T06:16:21.538Z"
   },
   {
    "duration": 1331,
    "start_time": "2025-03-20T06:16:21.570Z"
   },
   {
    "duration": 574,
    "start_time": "2025-03-20T06:16:22.902Z"
   },
   {
    "duration": 167,
    "start_time": "2025-03-20T06:16:23.477Z"
   },
   {
    "duration": 152,
    "start_time": "2025-03-20T06:16:23.646Z"
   },
   {
    "duration": 161,
    "start_time": "2025-03-20T06:16:23.800Z"
   },
   {
    "duration": 23,
    "start_time": "2025-03-20T06:16:23.963Z"
   },
   {
    "duration": 15,
    "start_time": "2025-03-20T06:16:23.987Z"
   },
   {
    "duration": 11,
    "start_time": "2025-03-20T06:16:24.004Z"
   },
   {
    "duration": 4,
    "start_time": "2025-03-20T06:16:24.016Z"
   },
   {
    "duration": 49,
    "start_time": "2025-03-20T06:16:24.024Z"
   },
   {
    "duration": 1389,
    "start_time": "2025-03-20T06:16:24.075Z"
   },
   {
    "duration": 23037,
    "start_time": "2025-03-20T06:16:25.466Z"
   },
   {
    "duration": 5,
    "start_time": "2025-03-20T06:16:48.504Z"
   },
   {
    "duration": 157,
    "start_time": "2025-03-20T06:16:48.510Z"
   },
   {
    "duration": 0,
    "start_time": "2025-03-20T06:16:48.669Z"
   },
   {
    "duration": 0,
    "start_time": "2025-03-20T06:16:48.670Z"
   },
   {
    "duration": 0,
    "start_time": "2025-03-20T06:16:48.671Z"
   },
   {
    "duration": 10,
    "start_time": "2025-03-20T06:27:02.951Z"
   },
   {
    "duration": 124,
    "start_time": "2025-03-20T06:27:13.991Z"
   },
   {
    "duration": 10,
    "start_time": "2025-03-20T06:27:53.475Z"
   },
   {
    "duration": 20,
    "start_time": "2025-03-20T06:28:00.838Z"
   },
   {
    "duration": 814,
    "start_time": "2025-03-20T06:28:36.392Z"
   },
   {
    "duration": 5,
    "start_time": "2025-03-20T06:31:41.163Z"
   },
   {
    "duration": 138,
    "start_time": "2025-03-20T06:33:32.715Z"
   },
   {
    "duration": 13575,
    "start_time": "2025-03-20T06:34:31.225Z"
   },
   {
    "duration": 807,
    "start_time": "2025-03-20T06:34:58.226Z"
   },
   {
    "duration": 142,
    "start_time": "2025-03-20T06:35:04.780Z"
   },
   {
    "duration": 22,
    "start_time": "2025-03-20T06:35:49.546Z"
   },
   {
    "duration": 10,
    "start_time": "2025-03-20T06:36:11.221Z"
   },
   {
    "duration": 742,
    "start_time": "2025-03-20T06:36:11.918Z"
   },
   {
    "duration": 15,
    "start_time": "2025-03-20T06:36:52.951Z"
   },
   {
    "duration": 619,
    "start_time": "2025-03-20T06:36:53.459Z"
   },
   {
    "duration": 9,
    "start_time": "2025-03-20T06:37:03.873Z"
   },
   {
    "duration": 482,
    "start_time": "2025-03-20T06:37:04.297Z"
   },
   {
    "duration": 10,
    "start_time": "2025-03-20T06:40:35.377Z"
   },
   {
    "duration": 11,
    "start_time": "2025-03-20T06:40:47.546Z"
   },
   {
    "duration": 14,
    "start_time": "2025-03-20T06:40:51.714Z"
   },
   {
    "duration": 6,
    "start_time": "2025-03-20T06:40:57.771Z"
   },
   {
    "duration": 11,
    "start_time": "2025-03-20T06:41:13.137Z"
   },
   {
    "duration": 10,
    "start_time": "2025-03-20T06:41:16.957Z"
   },
   {
    "duration": 10,
    "start_time": "2025-03-20T06:41:26.168Z"
   },
   {
    "duration": 7,
    "start_time": "2025-03-20T06:41:38.921Z"
   },
   {
    "duration": 10,
    "start_time": "2025-03-20T06:41:45.010Z"
   },
   {
    "duration": 5,
    "start_time": "2025-03-20T06:41:57.705Z"
   },
   {
    "duration": 15,
    "start_time": "2025-03-20T06:44:04.624Z"
   },
   {
    "duration": 523,
    "start_time": "2025-03-20T06:44:06.849Z"
   },
   {
    "duration": 3,
    "start_time": "2025-03-20T07:41:23.341Z"
   },
   {
    "duration": 71,
    "start_time": "2025-03-20T07:41:31.952Z"
   },
   {
    "duration": 3,
    "start_time": "2025-03-20T07:45:15.510Z"
   },
   {
    "duration": 11,
    "start_time": "2025-03-20T07:50:00.633Z"
   },
   {
    "duration": 10,
    "start_time": "2025-03-20T07:50:13.095Z"
   },
   {
    "duration": 3,
    "start_time": "2025-03-20T07:50:13.642Z"
   },
   {
    "duration": 14,
    "start_time": "2025-03-20T07:50:14.347Z"
   },
   {
    "duration": 26,
    "start_time": "2025-03-20T08:25:39.276Z"
   },
   {
    "duration": 1005,
    "start_time": "2025-03-20T08:25:51.948Z"
   },
   {
    "duration": 4,
    "start_time": "2025-03-20T08:26:13.301Z"
   },
   {
    "duration": 3,
    "start_time": "2025-03-20T08:26:38.867Z"
   },
   {
    "duration": 1262,
    "start_time": "2025-03-20T08:34:12.345Z"
   },
   {
    "duration": 1211,
    "start_time": "2025-03-20T08:34:41.881Z"
   },
   {
    "duration": 1070,
    "start_time": "2025-03-20T08:35:11.137Z"
   },
   {
    "duration": 948,
    "start_time": "2025-03-20T08:35:45.322Z"
   },
   {
    "duration": 1056,
    "start_time": "2025-03-20T08:35:52.114Z"
   },
   {
    "duration": 1248,
    "start_time": "2025-03-20T08:36:30.637Z"
   },
   {
    "duration": 990,
    "start_time": "2025-03-20T08:36:45.690Z"
   },
   {
    "duration": 1037,
    "start_time": "2025-03-20T08:37:00.625Z"
   },
   {
    "duration": 25,
    "start_time": "2025-03-20T08:39:13.203Z"
   },
   {
    "duration": 1033,
    "start_time": "2025-03-20T08:39:54.946Z"
   },
   {
    "duration": 733,
    "start_time": "2025-03-20T08:40:02.275Z"
   },
   {
    "duration": 910,
    "start_time": "2025-03-20T08:40:10.952Z"
   },
   {
    "duration": 759,
    "start_time": "2025-03-20T08:40:17.777Z"
   },
   {
    "duration": 942,
    "start_time": "2025-03-20T08:41:57.995Z"
   },
   {
    "duration": 1316,
    "start_time": "2025-03-20T08:42:09.387Z"
   },
   {
    "duration": 1215,
    "start_time": "2025-03-20T08:42:19.991Z"
   },
   {
    "duration": 1236,
    "start_time": "2025-03-20T08:43:25.104Z"
   },
   {
    "duration": 135,
    "start_time": "2025-03-21T01:24:57.059Z"
   },
   {
    "duration": 24,
    "start_time": "2025-03-21T01:45:57.532Z"
   },
   {
    "duration": 16855,
    "start_time": "2025-03-21T01:46:05.330Z"
   },
   {
    "duration": 72998,
    "start_time": "2025-03-21T01:46:43.708Z"
   },
   {
    "duration": 85455,
    "start_time": "2025-03-21T01:49:07.657Z"
   },
   {
    "duration": 1731,
    "start_time": "2025-03-21T02:24:08.422Z"
   },
   {
    "duration": 10,
    "start_time": "2025-03-21T02:24:52.133Z"
   },
   {
    "duration": 25,
    "start_time": "2025-03-21T02:24:59.260Z"
   },
   {
    "duration": 625,
    "start_time": "2025-03-21T02:25:21.062Z"
   },
   {
    "duration": 1669,
    "start_time": "2025-03-21T02:28:25.253Z"
   },
   {
    "duration": 5159,
    "start_time": "2025-03-21T06:33:06.985Z"
   },
   {
    "duration": 1865,
    "start_time": "2025-03-21T06:33:12.146Z"
   },
   {
    "duration": 72,
    "start_time": "2025-03-21T06:33:14.012Z"
   },
   {
    "duration": 25,
    "start_time": "2025-03-21T06:33:14.085Z"
   },
   {
    "duration": 9,
    "start_time": "2025-03-21T06:33:14.112Z"
   },
   {
    "duration": 8,
    "start_time": "2025-03-21T06:33:14.123Z"
   },
   {
    "duration": 8,
    "start_time": "2025-03-21T06:33:14.132Z"
   },
   {
    "duration": 18,
    "start_time": "2025-03-21T06:33:14.141Z"
   },
   {
    "duration": 14,
    "start_time": "2025-03-21T06:33:14.160Z"
   },
   {
    "duration": 8,
    "start_time": "2025-03-21T06:33:14.176Z"
   },
   {
    "duration": 23,
    "start_time": "2025-03-21T06:33:14.185Z"
   },
   {
    "duration": 4,
    "start_time": "2025-03-21T06:33:14.209Z"
   },
   {
    "duration": 7,
    "start_time": "2025-03-21T06:33:14.214Z"
   },
   {
    "duration": 14,
    "start_time": "2025-03-21T06:33:14.224Z"
   },
   {
    "duration": 3,
    "start_time": "2025-03-21T06:33:14.240Z"
   },
   {
    "duration": 23,
    "start_time": "2025-03-21T06:33:14.244Z"
   },
   {
    "duration": 9,
    "start_time": "2025-03-21T06:33:14.269Z"
   },
   {
    "duration": 16,
    "start_time": "2025-03-21T06:33:14.280Z"
   },
   {
    "duration": 5,
    "start_time": "2025-03-21T06:33:14.297Z"
   },
   {
    "duration": 4,
    "start_time": "2025-03-21T06:33:14.303Z"
   },
   {
    "duration": 7,
    "start_time": "2025-03-21T06:33:14.308Z"
   },
   {
    "duration": 39,
    "start_time": "2025-03-21T06:33:14.316Z"
   },
   {
    "duration": 14,
    "start_time": "2025-03-21T06:33:14.368Z"
   },
   {
    "duration": 14,
    "start_time": "2025-03-21T06:33:14.384Z"
   },
   {
    "duration": 13,
    "start_time": "2025-03-21T06:33:14.400Z"
   },
   {
    "duration": 13,
    "start_time": "2025-03-21T06:33:14.415Z"
   },
   {
    "duration": 15,
    "start_time": "2025-03-21T06:33:14.430Z"
   },
   {
    "duration": 13,
    "start_time": "2025-03-21T06:33:14.467Z"
   },
   {
    "duration": 13,
    "start_time": "2025-03-21T06:33:14.482Z"
   },
   {
    "duration": 4,
    "start_time": "2025-03-21T06:33:14.497Z"
   },
   {
    "duration": 7,
    "start_time": "2025-03-21T06:33:14.503Z"
   },
   {
    "duration": 2274,
    "start_time": "2025-03-21T06:33:14.512Z"
   },
   {
    "duration": 1180,
    "start_time": "2025-03-21T06:33:16.788Z"
   },
   {
    "duration": 283,
    "start_time": "2025-03-21T06:33:17.969Z"
   },
   {
    "duration": 279,
    "start_time": "2025-03-21T06:33:18.254Z"
   },
   {
    "duration": 296,
    "start_time": "2025-03-21T06:33:18.534Z"
   },
   {
    "duration": 20,
    "start_time": "2025-03-21T06:33:18.832Z"
   },
   {
    "duration": 22,
    "start_time": "2025-03-21T06:33:18.853Z"
   },
   {
    "duration": 11,
    "start_time": "2025-03-21T06:33:18.877Z"
   },
   {
    "duration": 5,
    "start_time": "2025-03-21T06:33:18.889Z"
   },
   {
    "duration": 11,
    "start_time": "2025-03-21T06:33:18.898Z"
   },
   {
    "duration": 561,
    "start_time": "2025-03-21T06:33:18.910Z"
   },
   {
    "duration": 87253,
    "start_time": "2025-03-21T06:33:19.472Z"
   },
   {
    "duration": 4,
    "start_time": "2025-03-21T06:34:46.726Z"
   },
   {
    "duration": 14,
    "start_time": "2025-03-21T06:34:46.731Z"
   },
   {
    "duration": 2,
    "start_time": "2025-03-21T06:34:46.747Z"
   },
   {
    "duration": 17,
    "start_time": "2025-03-21T06:34:46.750Z"
   },
   {
    "duration": 142,
    "start_time": "2025-03-21T06:34:46.769Z"
   },
   {
    "duration": 0,
    "start_time": "2025-03-21T06:34:46.913Z"
   },
   {
    "duration": 0,
    "start_time": "2025-03-21T06:34:46.914Z"
   },
   {
    "duration": 0,
    "start_time": "2025-03-21T06:34:46.915Z"
   },
   {
    "duration": 13,
    "start_time": "2025-03-21T06:36:01.190Z"
   },
   {
    "duration": 21676,
    "start_time": "2025-03-21T06:37:15.451Z"
   },
   {
    "duration": 1309,
    "start_time": "2025-03-21T06:37:51.543Z"
   },
   {
    "duration": 3616,
    "start_time": "2025-03-21T06:39:58.753Z"
   },
   {
    "duration": 1030,
    "start_time": "2025-03-21T06:40:02.371Z"
   },
   {
    "duration": 3645,
    "start_time": "2025-03-21T06:40:03.403Z"
   },
   {
    "duration": 3632,
    "start_time": "2025-03-21T06:55:45.146Z"
   },
   {
    "duration": 36,
    "start_time": "2025-03-21T07:06:03.903Z"
   },
   {
    "duration": 3962,
    "start_time": "2025-03-21T07:06:33.699Z"
   },
   {
    "duration": 1075,
    "start_time": "2025-03-21T07:18:52.150Z"
   },
   {
    "duration": 3,
    "start_time": "2025-03-21T07:36:56.304Z"
   },
   {
    "duration": 19,
    "start_time": "2025-03-21T07:37:02.146Z"
   },
   {
    "duration": 2,
    "start_time": "2025-03-21T07:37:11.047Z"
   },
   {
    "duration": 15,
    "start_time": "2025-03-21T07:37:11.697Z"
   },
   {
    "duration": 16,
    "start_time": "2025-03-21T07:37:26.935Z"
   },
   {
    "duration": 16,
    "start_time": "2025-03-21T07:37:38.322Z"
   },
   {
    "duration": 2,
    "start_time": "2025-03-21T07:39:38.816Z"
   },
   {
    "duration": 257,
    "start_time": "2025-03-21T07:39:39.496Z"
   },
   {
    "duration": 2,
    "start_time": "2025-03-21T07:39:51.264Z"
   },
   {
    "duration": 17,
    "start_time": "2025-03-21T07:39:52.632Z"
   },
   {
    "duration": 2,
    "start_time": "2025-03-21T07:44:43.383Z"
   },
   {
    "duration": 1314,
    "start_time": "2025-03-21T07:44:44.625Z"
   },
   {
    "duration": 3,
    "start_time": "2025-03-21T07:45:02.230Z"
   },
   {
    "duration": 1442,
    "start_time": "2025-03-21T07:45:03.384Z"
   },
   {
    "duration": 1318,
    "start_time": "2025-03-21T07:47:49.713Z"
   },
   {
    "duration": 3,
    "start_time": "2025-03-21T09:51:21.592Z"
   },
   {
    "duration": 1372,
    "start_time": "2025-03-21T09:51:21.597Z"
   },
   {
    "duration": 0,
    "start_time": "2025-03-21T09:51:22.971Z"
   },
   {
    "duration": 0,
    "start_time": "2025-03-21T09:51:22.972Z"
   },
   {
    "duration": 0,
    "start_time": "2025-03-21T09:51:22.973Z"
   },
   {
    "duration": 0,
    "start_time": "2025-03-21T09:51:22.974Z"
   },
   {
    "duration": 0,
    "start_time": "2025-03-21T09:51:22.976Z"
   },
   {
    "duration": 0,
    "start_time": "2025-03-21T09:51:22.977Z"
   },
   {
    "duration": 0,
    "start_time": "2025-03-21T09:51:22.978Z"
   },
   {
    "duration": 0,
    "start_time": "2025-03-21T09:51:22.979Z"
   },
   {
    "duration": 0,
    "start_time": "2025-03-21T09:51:22.980Z"
   },
   {
    "duration": 0,
    "start_time": "2025-03-21T09:51:22.981Z"
   },
   {
    "duration": 0,
    "start_time": "2025-03-21T09:51:22.982Z"
   },
   {
    "duration": 0,
    "start_time": "2025-03-21T09:51:22.983Z"
   },
   {
    "duration": 0,
    "start_time": "2025-03-21T09:51:22.984Z"
   },
   {
    "duration": 0,
    "start_time": "2025-03-21T09:51:22.985Z"
   },
   {
    "duration": 0,
    "start_time": "2025-03-21T09:51:22.986Z"
   },
   {
    "duration": 0,
    "start_time": "2025-03-21T09:51:22.987Z"
   },
   {
    "duration": 0,
    "start_time": "2025-03-21T09:51:22.988Z"
   },
   {
    "duration": 0,
    "start_time": "2025-03-21T09:51:22.989Z"
   },
   {
    "duration": 0,
    "start_time": "2025-03-21T09:51:22.990Z"
   },
   {
    "duration": 0,
    "start_time": "2025-03-21T09:51:22.991Z"
   },
   {
    "duration": 0,
    "start_time": "2025-03-21T09:51:22.992Z"
   },
   {
    "duration": 0,
    "start_time": "2025-03-21T09:51:22.993Z"
   },
   {
    "duration": 0,
    "start_time": "2025-03-21T09:51:22.994Z"
   },
   {
    "duration": 0,
    "start_time": "2025-03-21T09:51:22.996Z"
   },
   {
    "duration": 0,
    "start_time": "2025-03-21T09:51:22.996Z"
   },
   {
    "duration": 0,
    "start_time": "2025-03-21T09:51:22.998Z"
   },
   {
    "duration": 0,
    "start_time": "2025-03-21T09:51:22.999Z"
   },
   {
    "duration": 0,
    "start_time": "2025-03-21T09:51:23.000Z"
   },
   {
    "duration": 0,
    "start_time": "2025-03-21T09:51:23.001Z"
   },
   {
    "duration": 0,
    "start_time": "2025-03-21T09:51:23.001Z"
   },
   {
    "duration": 0,
    "start_time": "2025-03-21T09:51:23.003Z"
   },
   {
    "duration": 0,
    "start_time": "2025-03-21T09:51:23.054Z"
   },
   {
    "duration": 0,
    "start_time": "2025-03-21T09:51:23.056Z"
   },
   {
    "duration": 0,
    "start_time": "2025-03-21T09:51:23.057Z"
   },
   {
    "duration": 0,
    "start_time": "2025-03-21T09:51:23.058Z"
   },
   {
    "duration": 0,
    "start_time": "2025-03-21T09:51:23.059Z"
   },
   {
    "duration": 0,
    "start_time": "2025-03-21T09:51:23.060Z"
   },
   {
    "duration": 0,
    "start_time": "2025-03-21T09:51:23.061Z"
   },
   {
    "duration": 13302,
    "start_time": "2025-03-21T09:51:35.494Z"
   },
   {
    "duration": 87,
    "start_time": "2025-03-21T09:52:17.438Z"
   },
   {
    "duration": 23,
    "start_time": "2025-03-21T09:52:17.645Z"
   },
   {
    "duration": 12,
    "start_time": "2025-03-21T09:52:17.829Z"
   },
   {
    "duration": 9,
    "start_time": "2025-03-21T09:52:18.014Z"
   },
   {
    "duration": 9,
    "start_time": "2025-03-21T09:52:18.165Z"
   },
   {
    "duration": 13,
    "start_time": "2025-03-21T09:52:18.341Z"
   },
   {
    "duration": 13,
    "start_time": "2025-03-21T09:52:18.517Z"
   },
   {
    "duration": 9,
    "start_time": "2025-03-21T09:52:18.686Z"
   },
   {
    "duration": 10,
    "start_time": "2025-03-21T09:52:18.853Z"
   },
   {
    "duration": 4,
    "start_time": "2025-03-21T09:52:19.709Z"
   },
   {
    "duration": 4,
    "start_time": "2025-03-21T09:52:19.877Z"
   },
   {
    "duration": 20,
    "start_time": "2025-03-21T09:52:20.229Z"
   },
   {
    "duration": 5,
    "start_time": "2025-03-21T09:52:20.573Z"
   },
   {
    "duration": 4,
    "start_time": "2025-03-21T09:52:20.742Z"
   },
   {
    "duration": 10,
    "start_time": "2025-03-21T09:52:20.925Z"
   },
   {
    "duration": 5,
    "start_time": "2025-03-21T09:52:21.093Z"
   },
   {
    "duration": 4,
    "start_time": "2025-03-21T09:52:21.299Z"
   },
   {
    "duration": 4,
    "start_time": "2025-03-21T09:52:21.646Z"
   },
   {
    "duration": 5,
    "start_time": "2025-03-21T09:52:21.998Z"
   },
   {
    "duration": 40,
    "start_time": "2025-03-21T09:52:22.181Z"
   },
   {
    "duration": 15,
    "start_time": "2025-03-21T09:52:22.358Z"
   },
   {
    "duration": 17,
    "start_time": "2025-03-21T09:52:22.533Z"
   },
   {
    "duration": 14,
    "start_time": "2025-03-21T09:52:22.693Z"
   },
   {
    "duration": 9,
    "start_time": "2025-03-21T09:52:23.061Z"
   },
   {
    "duration": 9,
    "start_time": "2025-03-21T09:52:23.245Z"
   },
   {
    "duration": 12,
    "start_time": "2025-03-21T09:52:23.429Z"
   },
   {
    "duration": 3,
    "start_time": "2025-03-21T09:52:23.797Z"
   },
   {
    "duration": 3,
    "start_time": "2025-03-21T09:52:24.861Z"
   },
   {
    "duration": 3,
    "start_time": "2025-03-21T09:52:25.213Z"
   },
   {
    "duration": 1220,
    "start_time": "2025-03-21T09:52:25.580Z"
   },
   {
    "duration": 559,
    "start_time": "2025-03-21T09:52:26.802Z"
   },
   {
    "duration": 154,
    "start_time": "2025-03-21T09:52:27.362Z"
   },
   {
    "duration": 146,
    "start_time": "2025-03-21T09:52:27.518Z"
   },
   {
    "duration": 152,
    "start_time": "2025-03-21T09:52:27.665Z"
   },
   {
    "duration": 21,
    "start_time": "2025-03-21T09:52:27.846Z"
   },
   {
    "duration": 12,
    "start_time": "2025-03-21T09:52:28.709Z"
   },
   {
    "duration": 10,
    "start_time": "2025-03-21T09:52:28.981Z"
   },
   {
    "duration": 4,
    "start_time": "2025-03-21T09:52:30.110Z"
   },
   {
    "duration": 24,
    "start_time": "2025-03-21T09:52:36.918Z"
   },
   {
    "duration": 7,
    "start_time": "2025-03-21T09:52:47.870Z"
   },
   {
    "duration": 53,
    "start_time": "2025-03-21T09:52:58.509Z"
   },
   {
    "duration": 4,
    "start_time": "2025-03-21T10:01:05.355Z"
   },
   {
    "duration": 4535,
    "start_time": "2025-03-21T10:01:05.361Z"
   },
   {
    "duration": 78,
    "start_time": "2025-03-21T10:01:09.898Z"
   },
   {
    "duration": 22,
    "start_time": "2025-03-21T10:01:09.978Z"
   },
   {
    "duration": 23,
    "start_time": "2025-03-21T10:01:10.001Z"
   },
   {
    "duration": 49,
    "start_time": "2025-03-21T10:01:10.026Z"
   },
   {
    "duration": 21,
    "start_time": "2025-03-21T10:01:10.076Z"
   },
   {
    "duration": 22,
    "start_time": "2025-03-21T10:01:10.098Z"
   },
   {
    "duration": 14,
    "start_time": "2025-03-21T10:01:10.122Z"
   },
   {
    "duration": 18,
    "start_time": "2025-03-21T10:01:10.138Z"
   },
   {
    "duration": 29,
    "start_time": "2025-03-21T10:01:10.158Z"
   },
   {
    "duration": 22,
    "start_time": "2025-03-21T10:01:10.189Z"
   },
   {
    "duration": 29,
    "start_time": "2025-03-21T10:01:10.212Z"
   },
   {
    "duration": 60,
    "start_time": "2025-03-21T10:01:10.243Z"
   },
   {
    "duration": 17,
    "start_time": "2025-03-21T10:01:10.305Z"
   },
   {
    "duration": 8,
    "start_time": "2025-03-21T10:01:10.324Z"
   },
   {
    "duration": 21,
    "start_time": "2025-03-21T10:01:10.333Z"
   },
   {
    "duration": 82,
    "start_time": "2025-03-21T10:01:10.356Z"
   },
   {
    "duration": 42,
    "start_time": "2025-03-21T10:01:10.439Z"
   },
   {
    "duration": 22,
    "start_time": "2025-03-21T10:01:10.483Z"
   },
   {
    "duration": 18,
    "start_time": "2025-03-21T10:01:10.506Z"
   },
   {
    "duration": 51,
    "start_time": "2025-03-21T10:01:10.526Z"
   },
   {
    "duration": 15,
    "start_time": "2025-03-21T10:01:10.579Z"
   },
   {
    "duration": 15,
    "start_time": "2025-03-21T10:01:10.596Z"
   },
   {
    "duration": 13,
    "start_time": "2025-03-21T10:01:10.613Z"
   },
   {
    "duration": 9,
    "start_time": "2025-03-21T10:01:10.655Z"
   },
   {
    "duration": 111,
    "start_time": "2025-03-21T10:01:10.666Z"
   },
   {
    "duration": 97,
    "start_time": "2025-03-21T10:01:10.781Z"
   },
   {
    "duration": 25,
    "start_time": "2025-03-21T10:01:10.879Z"
   },
   {
    "duration": 9,
    "start_time": "2025-03-21T10:01:10.906Z"
   },
   {
    "duration": 5,
    "start_time": "2025-03-21T10:01:10.917Z"
   },
   {
    "duration": 1240,
    "start_time": "2025-03-21T10:01:10.924Z"
   },
   {
    "duration": 561,
    "start_time": "2025-03-21T10:01:12.166Z"
   },
   {
    "duration": 161,
    "start_time": "2025-03-21T10:01:12.729Z"
   },
   {
    "duration": 143,
    "start_time": "2025-03-21T10:01:12.891Z"
   },
   {
    "duration": 148,
    "start_time": "2025-03-21T10:01:13.035Z"
   },
   {
    "duration": 20,
    "start_time": "2025-03-21T10:01:13.185Z"
   },
   {
    "duration": 69,
    "start_time": "2025-03-21T10:01:13.206Z"
   },
   {
    "duration": 11,
    "start_time": "2025-03-21T10:01:13.276Z"
   },
   {
    "duration": 7,
    "start_time": "2025-03-21T10:01:13.288Z"
   },
   {
    "duration": 16,
    "start_time": "2025-03-21T10:01:13.296Z"
   },
   {
    "duration": 1373,
    "start_time": "2025-03-21T10:01:13.314Z"
   },
   {
    "duration": 21484,
    "start_time": "2025-03-21T10:01:14.689Z"
   },
   {
    "duration": 10,
    "start_time": "2025-03-21T10:01:36.175Z"
   },
   {
    "duration": 149,
    "start_time": "2025-03-21T10:01:36.186Z"
   },
   {
    "duration": 0,
    "start_time": "2025-03-21T10:01:36.337Z"
   },
   {
    "duration": 0,
    "start_time": "2025-03-21T10:01:36.338Z"
   },
   {
    "duration": 0,
    "start_time": "2025-03-21T10:01:36.339Z"
   },
   {
    "duration": 6712,
    "start_time": "2025-03-21T10:02:01.319Z"
   },
   {
    "duration": 1897,
    "start_time": "2025-03-21T10:02:08.033Z"
   },
   {
    "duration": 76,
    "start_time": "2025-03-21T10:02:09.932Z"
   },
   {
    "duration": 23,
    "start_time": "2025-03-21T10:02:10.010Z"
   },
   {
    "duration": 27,
    "start_time": "2025-03-21T10:02:10.035Z"
   },
   {
    "duration": 13,
    "start_time": "2025-03-21T10:02:10.064Z"
   },
   {
    "duration": 12,
    "start_time": "2025-03-21T10:02:10.078Z"
   },
   {
    "duration": 16,
    "start_time": "2025-03-21T10:02:10.092Z"
   },
   {
    "duration": 14,
    "start_time": "2025-03-21T10:02:10.110Z"
   },
   {
    "duration": 12,
    "start_time": "2025-03-21T10:02:10.125Z"
   },
   {
    "duration": 10,
    "start_time": "2025-03-21T10:02:10.154Z"
   },
   {
    "duration": 16,
    "start_time": "2025-03-21T10:02:10.165Z"
   },
   {
    "duration": 25,
    "start_time": "2025-03-21T10:02:10.183Z"
   },
   {
    "duration": 17,
    "start_time": "2025-03-21T10:02:10.211Z"
   },
   {
    "duration": 3,
    "start_time": "2025-03-21T10:02:10.230Z"
   },
   {
    "duration": 28,
    "start_time": "2025-03-21T10:02:10.234Z"
   },
   {
    "duration": 13,
    "start_time": "2025-03-21T10:02:10.263Z"
   },
   {
    "duration": 8,
    "start_time": "2025-03-21T10:02:10.278Z"
   },
   {
    "duration": 4,
    "start_time": "2025-03-21T10:02:10.288Z"
   },
   {
    "duration": 5,
    "start_time": "2025-03-21T10:02:10.294Z"
   },
   {
    "duration": 30,
    "start_time": "2025-03-21T10:02:10.300Z"
   },
   {
    "duration": 50,
    "start_time": "2025-03-21T10:02:10.331Z"
   },
   {
    "duration": 15,
    "start_time": "2025-03-21T10:02:10.383Z"
   },
   {
    "duration": 15,
    "start_time": "2025-03-21T10:02:10.400Z"
   },
   {
    "duration": 38,
    "start_time": "2025-03-21T10:02:10.416Z"
   },
   {
    "duration": 10,
    "start_time": "2025-03-21T10:02:10.456Z"
   },
   {
    "duration": 9,
    "start_time": "2025-03-21T10:02:10.468Z"
   },
   {
    "duration": 31,
    "start_time": "2025-03-21T10:02:10.479Z"
   },
   {
    "duration": 7,
    "start_time": "2025-03-21T10:02:10.512Z"
   },
   {
    "duration": 7,
    "start_time": "2025-03-21T10:02:10.521Z"
   },
   {
    "duration": 16,
    "start_time": "2025-03-21T10:02:10.529Z"
   },
   {
    "duration": 1268,
    "start_time": "2025-03-21T10:02:10.547Z"
   },
   {
    "duration": 572,
    "start_time": "2025-03-21T10:02:11.817Z"
   },
   {
    "duration": 165,
    "start_time": "2025-03-21T10:02:12.391Z"
   },
   {
    "duration": 144,
    "start_time": "2025-03-21T10:02:12.558Z"
   },
   {
    "duration": 151,
    "start_time": "2025-03-21T10:02:12.703Z"
   },
   {
    "duration": 21,
    "start_time": "2025-03-21T10:02:12.856Z"
   },
   {
    "duration": 11,
    "start_time": "2025-03-21T10:02:12.878Z"
   },
   {
    "duration": 10,
    "start_time": "2025-03-21T10:02:12.891Z"
   },
   {
    "duration": 4,
    "start_time": "2025-03-21T10:02:12.902Z"
   },
   {
    "duration": 12,
    "start_time": "2025-03-21T10:02:12.909Z"
   },
   {
    "duration": 1412,
    "start_time": "2025-03-21T10:02:12.923Z"
   },
   {
    "duration": 22527,
    "start_time": "2025-03-21T10:02:14.337Z"
   },
   {
    "duration": 9,
    "start_time": "2025-03-21T10:02:36.866Z"
   },
   {
    "duration": 18,
    "start_time": "2025-03-21T10:02:36.877Z"
   },
   {
    "duration": 1448,
    "start_time": "2025-03-21T10:02:36.897Z"
   },
   {
    "duration": 8,
    "start_time": "2025-03-21T10:02:38.347Z"
   },
   {
    "duration": 710,
    "start_time": "2025-03-21T10:02:38.357Z"
   },
   {
    "duration": 5,
    "start_time": "2025-03-24T01:17:41.704Z"
   },
   {
    "duration": 14,
    "start_time": "2025-03-24T01:23:04.621Z"
   },
   {
    "duration": 3,
    "start_time": "2025-03-24T01:23:07.804Z"
   },
   {
    "duration": 15,
    "start_time": "2025-03-24T01:23:08.628Z"
   },
   {
    "duration": 2,
    "start_time": "2025-03-24T01:23:20.515Z"
   },
   {
    "duration": 13,
    "start_time": "2025-03-24T01:23:21.045Z"
   },
   {
    "duration": 3663,
    "start_time": "2025-03-24T01:23:40.542Z"
   },
   {
    "duration": 3,
    "start_time": "2025-03-24T01:23:52.733Z"
   },
   {
    "duration": 285,
    "start_time": "2025-03-24T01:23:53.188Z"
   },
   {
    "duration": 3,
    "start_time": "2025-03-24T01:26:14.692Z"
   },
   {
    "duration": 245,
    "start_time": "2025-03-24T01:33:10.524Z"
   },
   {
    "duration": 3,
    "start_time": "2025-03-24T01:33:41.163Z"
   },
   {
    "duration": 7,
    "start_time": "2025-03-24T01:33:45.830Z"
   },
   {
    "duration": 483,
    "start_time": "2025-03-24T01:34:05.311Z"
   },
   {
    "duration": 470,
    "start_time": "2025-03-24T01:34:20.824Z"
   },
   {
    "duration": 423,
    "start_time": "2025-03-24T01:34:40.885Z"
   },
   {
    "duration": 104,
    "start_time": "2025-03-24T01:34:48.274Z"
   },
   {
    "duration": 127,
    "start_time": "2025-03-24T01:35:32.562Z"
   },
   {
    "duration": 280,
    "start_time": "2025-03-24T01:37:28.374Z"
   },
   {
    "duration": 275,
    "start_time": "2025-03-24T01:38:15.368Z"
   },
   {
    "duration": 109,
    "start_time": "2025-03-24T01:39:33.171Z"
   },
   {
    "duration": 257,
    "start_time": "2025-03-24T01:41:46.324Z"
   },
   {
    "duration": 316,
    "start_time": "2025-03-24T01:57:35.322Z"
   },
   {
    "duration": 363,
    "start_time": "2025-03-24T01:57:51.617Z"
   },
   {
    "duration": 3,
    "start_time": "2025-03-24T02:37:06.441Z"
   },
   {
    "duration": 28,
    "start_time": "2025-03-24T02:37:25.409Z"
   },
   {
    "duration": 4,
    "start_time": "2025-03-24T02:37:48.349Z"
   },
   {
    "duration": 1205,
    "start_time": "2025-03-24T02:37:49.421Z"
   },
   {
    "duration": 11,
    "start_time": "2025-03-24T02:38:28.096Z"
   },
   {
    "duration": 1275,
    "start_time": "2025-03-24T02:38:44.874Z"
   },
   {
    "duration": 1130,
    "start_time": "2025-03-24T02:39:45.364Z"
   },
   {
    "duration": 1368,
    "start_time": "2025-03-24T02:40:11.024Z"
   },
   {
    "duration": 1098,
    "start_time": "2025-03-24T02:40:16.845Z"
   },
   {
    "duration": 1270,
    "start_time": "2025-03-24T02:40:22.663Z"
   },
   {
    "duration": 1252,
    "start_time": "2025-03-24T02:40:35.736Z"
   },
   {
    "duration": 1486,
    "start_time": "2025-03-24T02:42:23.566Z"
   },
   {
    "duration": 1614,
    "start_time": "2025-03-24T02:42:35.748Z"
   },
   {
    "duration": 49832,
    "start_time": "2025-03-24T02:48:42.507Z"
   },
   {
    "duration": 79499,
    "start_time": "2025-03-24T02:52:51.149Z"
   },
   {
    "duration": 18,
    "start_time": "2025-03-24T06:28:26.379Z"
   },
   {
    "duration": 22159,
    "start_time": "2025-03-24T06:28:43.389Z"
   },
   {
    "duration": 402,
    "start_time": "2025-03-24T06:29:20.586Z"
   },
   {
    "duration": 16642,
    "start_time": "2025-03-24T06:31:16.225Z"
   },
   {
    "duration": 17850,
    "start_time": "2025-03-24T06:32:32.626Z"
   },
   {
    "duration": 18381,
    "start_time": "2025-03-24T06:33:03.914Z"
   },
   {
    "duration": 1306,
    "start_time": "2025-03-24T06:37:16.272Z"
   },
   {
    "duration": 1306,
    "start_time": "2025-03-24T06:38:01.065Z"
   },
   {
    "duration": 4491,
    "start_time": "2025-03-24T16:44:24.976Z"
   },
   {
    "duration": 3049,
    "start_time": "2025-03-24T16:45:21.237Z"
   },
   {
    "duration": 5186,
    "start_time": "2025-03-24T16:45:26.524Z"
   },
   {
    "duration": 4311,
    "start_time": "2025-03-24T16:46:57.001Z"
   },
   {
    "duration": 13,
    "start_time": "2025-03-24T16:47:50.267Z"
   },
   {
    "duration": 1511,
    "start_time": "2025-03-24T16:48:03.745Z"
   },
   {
    "duration": 4509,
    "start_time": "2025-03-24T16:48:08.831Z"
   },
   {
    "duration": 3779,
    "start_time": "2025-03-24T16:48:40.103Z"
   },
   {
    "duration": 4381,
    "start_time": "2025-03-24T16:48:52.129Z"
   },
   {
    "duration": 3839,
    "start_time": "2025-03-24T16:49:04.893Z"
   },
   {
    "duration": 632,
    "start_time": "2025-03-24T17:00:09.537Z"
   },
   {
    "duration": 692,
    "start_time": "2025-03-24T17:00:20.816Z"
   },
   {
    "duration": 8009,
    "start_time": "2025-03-24T17:01:20.560Z"
   },
   {
    "duration": 955,
    "start_time": "2025-03-24T17:01:34.033Z"
   },
   {
    "duration": 1027,
    "start_time": "2025-03-24T17:02:12.028Z"
   },
   {
    "duration": 534,
    "start_time": "2025-03-25T06:21:07.987Z"
   },
   {
    "duration": 3,
    "start_time": "2025-03-25T06:22:14.887Z"
   },
   {
    "duration": 2023,
    "start_time": "2025-03-25T06:22:14.892Z"
   },
   {
    "duration": 89,
    "start_time": "2025-03-25T06:22:16.917Z"
   },
   {
    "duration": 28,
    "start_time": "2025-03-25T06:22:17.008Z"
   },
   {
    "duration": 10,
    "start_time": "2025-03-25T06:22:17.038Z"
   },
   {
    "duration": 17,
    "start_time": "2025-03-25T06:22:17.049Z"
   },
   {
    "duration": 16,
    "start_time": "2025-03-25T06:22:17.071Z"
   },
   {
    "duration": 12,
    "start_time": "2025-03-25T06:22:17.089Z"
   },
   {
    "duration": 10,
    "start_time": "2025-03-25T06:22:17.103Z"
   },
   {
    "duration": 9,
    "start_time": "2025-03-25T06:22:17.115Z"
   },
   {
    "duration": 9,
    "start_time": "2025-03-25T06:22:17.125Z"
   },
   {
    "duration": 4,
    "start_time": "2025-03-25T06:22:17.135Z"
   },
   {
    "duration": 10,
    "start_time": "2025-03-25T06:22:17.168Z"
   },
   {
    "duration": 16,
    "start_time": "2025-03-25T06:22:17.184Z"
   },
   {
    "duration": 3,
    "start_time": "2025-03-25T06:22:17.202Z"
   },
   {
    "duration": 10,
    "start_time": "2025-03-25T06:22:17.206Z"
   },
   {
    "duration": 8,
    "start_time": "2025-03-25T06:22:17.217Z"
   },
   {
    "duration": 5,
    "start_time": "2025-03-25T06:22:17.226Z"
   },
   {
    "duration": 6,
    "start_time": "2025-03-25T06:22:17.232Z"
   },
   {
    "duration": 32,
    "start_time": "2025-03-25T06:22:17.239Z"
   },
   {
    "duration": 13,
    "start_time": "2025-03-25T06:22:17.272Z"
   },
   {
    "duration": 43,
    "start_time": "2025-03-25T06:22:17.287Z"
   },
   {
    "duration": 16,
    "start_time": "2025-03-25T06:22:17.331Z"
   },
   {
    "duration": 23,
    "start_time": "2025-03-25T06:22:17.368Z"
   },
   {
    "duration": 13,
    "start_time": "2025-03-25T06:22:17.393Z"
   },
   {
    "duration": 9,
    "start_time": "2025-03-25T06:22:17.407Z"
   },
   {
    "duration": 12,
    "start_time": "2025-03-25T06:22:17.418Z"
   },
   {
    "duration": 73,
    "start_time": "2025-03-25T06:22:17.431Z"
   },
   {
    "duration": 4,
    "start_time": "2025-03-25T06:22:17.505Z"
   },
   {
    "duration": 16,
    "start_time": "2025-03-25T06:22:17.510Z"
   },
   {
    "duration": 14,
    "start_time": "2025-03-25T06:22:17.527Z"
   },
   {
    "duration": 2948,
    "start_time": "2025-03-25T06:22:17.542Z"
   },
   {
    "duration": 183,
    "start_time": "2025-03-25T06:22:20.492Z"
   },
   {
    "duration": 312,
    "start_time": "2025-03-25T06:22:20.682Z"
   },
   {
    "duration": 1120,
    "start_time": "2025-03-25T06:22:20.996Z"
   },
   {
    "duration": 289,
    "start_time": "2025-03-25T06:22:22.118Z"
   },
   {
    "duration": 268,
    "start_time": "2025-03-25T06:22:22.408Z"
   },
   {
    "duration": 277,
    "start_time": "2025-03-25T06:22:22.682Z"
   },
   {
    "duration": 1369,
    "start_time": "2025-03-25T06:22:22.966Z"
   },
   {
    "duration": 3038,
    "start_time": "2025-03-25T06:22:24.336Z"
   },
   {
    "duration": 23,
    "start_time": "2025-03-25T06:22:27.383Z"
   },
   {
    "duration": 19,
    "start_time": "2025-03-25T06:22:27.408Z"
   },
   {
    "duration": 24,
    "start_time": "2025-03-25T06:22:27.428Z"
   },
   {
    "duration": 31,
    "start_time": "2025-03-25T06:22:27.454Z"
   },
   {
    "duration": 23,
    "start_time": "2025-03-25T06:22:27.487Z"
   },
   {
    "duration": 700,
    "start_time": "2025-03-25T06:22:27.512Z"
   },
   {
    "duration": 526,
    "start_time": "2025-03-25T06:22:28.214Z"
   },
   {
    "duration": 24777,
    "start_time": "2025-03-25T06:22:28.741Z"
   },
   {
    "duration": 9,
    "start_time": "2025-03-25T06:22:53.520Z"
   },
   {
    "duration": 11,
    "start_time": "2025-03-25T06:22:53.530Z"
   },
   {
    "duration": 1643,
    "start_time": "2025-03-25T06:22:53.543Z"
   },
   {
    "duration": 4,
    "start_time": "2025-03-25T06:22:55.188Z"
   },
   {
    "duration": 1517,
    "start_time": "2025-03-25T06:22:55.193Z"
   },
   {
    "duration": 529,
    "start_time": "2025-03-25T06:22:56.715Z"
   },
   {
    "duration": 528,
    "start_time": "2025-03-25T06:23:02.004Z"
   },
   {
    "duration": 156,
    "start_time": "2025-03-25T06:25:08.230Z"
   },
   {
    "duration": 18,
    "start_time": "2025-03-25T06:25:35.365Z"
   },
   {
    "duration": 3263,
    "start_time": "2025-03-25T06:25:49.540Z"
   },
   {
    "duration": 36,
    "start_time": "2025-03-25T06:26:00.229Z"
   },
   {
    "duration": 561,
    "start_time": "2025-03-25T06:26:11.181Z"
   },
   {
    "duration": 776,
    "start_time": "2025-03-25T06:26:12.226Z"
   },
   {
    "duration": 1648,
    "start_time": "2025-03-25T06:26:13.980Z"
   },
   {
    "duration": 837,
    "start_time": "2025-03-25T06:29:49.888Z"
   },
   {
    "duration": 486,
    "start_time": "2025-03-25T07:12:42.386Z"
   },
   {
    "duration": 22,
    "start_time": "2025-03-25T07:13:19.192Z"
   },
   {
    "duration": 7,
    "start_time": "2025-03-25T07:13:28.281Z"
   },
   {
    "duration": 1572,
    "start_time": "2025-03-25T07:13:33.142Z"
   },
   {
    "duration": 23,
    "start_time": "2025-03-25T07:13:38.293Z"
   },
   {
    "duration": 5,
    "start_time": "2025-03-25T07:13:39.601Z"
   },
   {
    "duration": 14,
    "start_time": "2025-03-25T07:14:41.829Z"
   },
   {
    "duration": 11,
    "start_time": "2025-03-25T07:14:47.613Z"
   },
   {
    "duration": 25,
    "start_time": "2025-03-25T07:17:13.464Z"
   },
   {
    "duration": 2870,
    "start_time": "2025-03-25T07:17:48.701Z"
   },
   {
    "duration": 2914,
    "start_time": "2025-03-25T07:18:00.108Z"
   },
   {
    "duration": 31,
    "start_time": "2025-03-25T07:18:21.644Z"
   },
   {
    "duration": 4,
    "start_time": "2025-03-25T07:18:45.788Z"
   },
   {
    "duration": 23,
    "start_time": "2025-03-25T07:18:50.725Z"
   },
   {
    "duration": 14,
    "start_time": "2025-03-25T07:20:16.540Z"
   },
   {
    "duration": 3273,
    "start_time": "2025-03-25T07:20:32.214Z"
   },
   {
    "duration": 265,
    "start_time": "2025-03-25T07:20:38.796Z"
   },
   {
    "duration": 518,
    "start_time": "2025-03-25T07:21:12.341Z"
   },
   {
    "duration": 5,
    "start_time": "2025-03-25T07:23:15.796Z"
   },
   {
    "duration": 554,
    "start_time": "2025-03-25T07:24:07.973Z"
   },
   {
    "duration": 95,
    "start_time": "2025-03-25T07:24:58.861Z"
   },
   {
    "duration": 3359,
    "start_time": "2025-03-25T07:25:02.244Z"
   },
   {
    "duration": 9,
    "start_time": "2025-03-25T07:27:46.969Z"
   },
   {
    "duration": 2048,
    "start_time": "2025-03-25T07:27:46.980Z"
   },
   {
    "duration": 80,
    "start_time": "2025-03-25T07:27:49.031Z"
   },
   {
    "duration": 26,
    "start_time": "2025-03-25T07:27:49.113Z"
   },
   {
    "duration": 9,
    "start_time": "2025-03-25T07:27:49.141Z"
   },
   {
    "duration": 10,
    "start_time": "2025-03-25T07:27:49.152Z"
   },
   {
    "duration": 17,
    "start_time": "2025-03-25T07:27:49.163Z"
   },
   {
    "duration": 12,
    "start_time": "2025-03-25T07:27:49.182Z"
   },
   {
    "duration": 11,
    "start_time": "2025-03-25T07:27:49.196Z"
   },
   {
    "duration": 11,
    "start_time": "2025-03-25T07:27:49.210Z"
   },
   {
    "duration": 11,
    "start_time": "2025-03-25T07:27:49.222Z"
   },
   {
    "duration": 7,
    "start_time": "2025-03-25T07:27:49.235Z"
   },
   {
    "duration": 25,
    "start_time": "2025-03-25T07:27:49.244Z"
   },
   {
    "duration": 21,
    "start_time": "2025-03-25T07:27:49.271Z"
   },
   {
    "duration": 3,
    "start_time": "2025-03-25T07:27:49.294Z"
   },
   {
    "duration": 7,
    "start_time": "2025-03-25T07:27:49.299Z"
   },
   {
    "duration": 9,
    "start_time": "2025-03-25T07:27:49.308Z"
   },
   {
    "duration": 4,
    "start_time": "2025-03-25T07:27:49.319Z"
   },
   {
    "duration": 5,
    "start_time": "2025-03-25T07:27:49.324Z"
   },
   {
    "duration": 5,
    "start_time": "2025-03-25T07:27:49.330Z"
   },
   {
    "duration": 46,
    "start_time": "2025-03-25T07:27:49.336Z"
   },
   {
    "duration": 42,
    "start_time": "2025-03-25T07:27:49.384Z"
   },
   {
    "duration": 16,
    "start_time": "2025-03-25T07:27:49.428Z"
   },
   {
    "duration": 32,
    "start_time": "2025-03-25T07:27:49.445Z"
   },
   {
    "duration": 16,
    "start_time": "2025-03-25T07:27:49.479Z"
   },
   {
    "duration": 13,
    "start_time": "2025-03-25T07:27:49.496Z"
   },
   {
    "duration": 9,
    "start_time": "2025-03-25T07:27:49.510Z"
   },
   {
    "duration": 12,
    "start_time": "2025-03-25T07:27:49.522Z"
   },
   {
    "duration": 4,
    "start_time": "2025-03-25T07:27:49.535Z"
   },
   {
    "duration": 39,
    "start_time": "2025-03-25T07:27:49.541Z"
   },
   {
    "duration": 11,
    "start_time": "2025-03-25T07:27:49.581Z"
   },
   {
    "duration": 2984,
    "start_time": "2025-03-25T07:27:49.594Z"
   },
   {
    "duration": 114,
    "start_time": "2025-03-25T07:27:52.584Z"
   },
   {
    "duration": 369,
    "start_time": "2025-03-25T07:27:52.701Z"
   },
   {
    "duration": 1316,
    "start_time": "2025-03-25T07:27:53.072Z"
   },
   {
    "duration": 311,
    "start_time": "2025-03-25T07:27:54.389Z"
   },
   {
    "duration": 275,
    "start_time": "2025-03-25T07:27:54.702Z"
   },
   {
    "duration": 305,
    "start_time": "2025-03-25T07:27:54.982Z"
   },
   {
    "duration": 1371,
    "start_time": "2025-03-25T07:27:55.289Z"
   },
   {
    "duration": 2999,
    "start_time": "2025-03-25T07:27:56.661Z"
   },
   {
    "duration": 29,
    "start_time": "2025-03-25T07:27:59.662Z"
   },
   {
    "duration": 20,
    "start_time": "2025-03-25T07:27:59.692Z"
   },
   {
    "duration": 11,
    "start_time": "2025-03-25T07:27:59.713Z"
   },
   {
    "duration": 4,
    "start_time": "2025-03-25T07:27:59.726Z"
   },
   {
    "duration": 11,
    "start_time": "2025-03-25T07:27:59.732Z"
   },
   {
    "duration": 982,
    "start_time": "2025-03-25T07:27:59.769Z"
   },
   {
    "duration": 800,
    "start_time": "2025-03-25T07:28:00.753Z"
   },
   {
    "duration": 3828,
    "start_time": "2025-03-25T07:28:01.554Z"
   },
   {
    "duration": 6,
    "start_time": "2025-03-25T07:28:05.384Z"
   },
   {
    "duration": 495,
    "start_time": "2025-03-25T07:28:05.391Z"
   },
   {
    "duration": 21,
    "start_time": "2025-03-25T07:28:05.888Z"
   },
   {
    "duration": 40,
    "start_time": "2025-03-25T07:28:05.911Z"
   },
   {
    "duration": 34,
    "start_time": "2025-03-25T07:28:05.952Z"
   },
   {
    "duration": 24622,
    "start_time": "2025-03-25T07:28:05.988Z"
   },
   {
    "duration": 10,
    "start_time": "2025-03-25T07:28:30.611Z"
   },
   {
    "duration": 4,
    "start_time": "2025-03-25T07:28:30.622Z"
   },
   {
    "duration": 1579,
    "start_time": "2025-03-25T07:28:30.628Z"
   },
   {
    "duration": 3,
    "start_time": "2025-03-25T07:28:32.209Z"
   },
   {
    "duration": 1435,
    "start_time": "2025-03-25T07:28:32.214Z"
   },
   {
    "duration": 84,
    "start_time": "2025-03-25T07:38:25.575Z"
   },
   {
    "duration": 97,
    "start_time": "2025-03-25T07:38:55.205Z"
   },
   {
    "duration": 86,
    "start_time": "2025-03-25T07:39:14.058Z"
   },
   {
    "duration": 3741,
    "start_time": "2025-03-25T07:39:33.226Z"
   },
   {
    "duration": 4636,
    "start_time": "2025-03-25T07:40:32.706Z"
   },
   {
    "duration": 4551,
    "start_time": "2025-03-25T07:41:33.447Z"
   },
   {
    "duration": 4468,
    "start_time": "2025-03-25T07:43:45.090Z"
   },
   {
    "duration": 158,
    "start_time": "2025-03-25T07:45:03.867Z"
   },
   {
    "duration": 4244,
    "start_time": "2025-03-25T07:45:25.555Z"
   },
   {
    "duration": 3,
    "start_time": "2025-03-25T07:48:03.161Z"
   },
   {
    "duration": 3228,
    "start_time": "2025-03-25T07:49:56.569Z"
   },
   {
    "duration": 1160,
    "start_time": "2025-03-25T07:50:05.253Z"
   },
   {
    "duration": 776,
    "start_time": "2025-03-25T14:39:23.933Z"
   },
   {
    "duration": 369,
    "start_time": "2025-03-26T02:25:11.741Z"
   },
   {
    "duration": 439,
    "start_time": "2025-03-26T02:25:58.578Z"
   },
   {
    "duration": 305,
    "start_time": "2025-03-26T02:27:03.632Z"
   },
   {
    "duration": 336,
    "start_time": "2025-03-26T02:27:22.533Z"
   },
   {
    "duration": 331,
    "start_time": "2025-03-26T02:27:53.470Z"
   },
   {
    "duration": 291,
    "start_time": "2025-03-26T02:28:06.402Z"
   },
   {
    "duration": 297,
    "start_time": "2025-03-26T02:28:16.894Z"
   },
   {
    "duration": 818,
    "start_time": "2025-03-26T02:31:15.077Z"
   },
   {
    "duration": 442,
    "start_time": "2025-03-26T02:42:04.366Z"
   },
   {
    "duration": 418,
    "start_time": "2025-03-26T02:44:23.375Z"
   },
   {
    "duration": 619,
    "start_time": "2025-03-26T02:44:48.263Z"
   },
   {
    "duration": 419,
    "start_time": "2025-03-26T02:45:29.542Z"
   },
   {
    "duration": 388,
    "start_time": "2025-03-26T02:46:46.326Z"
   },
   {
    "duration": 4,
    "start_time": "2025-03-26T07:00:47.091Z"
   },
   {
    "duration": 10,
    "start_time": "2025-03-26T07:03:05.308Z"
   },
   {
    "duration": 7,
    "start_time": "2025-03-26T07:03:06.164Z"
   },
   {
    "duration": 25521,
    "start_time": "2025-03-26T07:03:07.066Z"
   },
   {
    "duration": 24707,
    "start_time": "2025-03-26T07:05:30.078Z"
   },
   {
    "duration": 25627,
    "start_time": "2025-03-26T07:06:14.090Z"
   },
   {
    "duration": 24571,
    "start_time": "2025-03-26T07:07:05.396Z"
   },
   {
    "duration": 94281,
    "start_time": "2025-03-26T07:08:58.644Z"
   },
   {
    "duration": 91526,
    "start_time": "2025-03-26T07:18:10.736Z"
   },
   {
    "duration": 25,
    "start_time": "2025-03-26T07:41:52.559Z"
   },
   {
    "duration": 121777,
    "start_time": "2025-03-26T07:42:54.384Z"
   },
   {
    "duration": 98689,
    "start_time": "2025-03-26T08:18:08.329Z"
   },
   {
    "duration": 102731,
    "start_time": "2025-03-26T08:21:10.500Z"
   },
   {
    "duration": 46,
    "start_time": "2025-03-26T08:33:13.794Z"
   },
   {
    "duration": 37,
    "start_time": "2025-03-26T08:34:41.729Z"
   },
   {
    "duration": 45,
    "start_time": "2025-03-26T08:36:03.177Z"
   },
   {
    "duration": 45,
    "start_time": "2025-03-26T08:36:08.838Z"
   },
   {
    "duration": 38,
    "start_time": "2025-03-26T08:36:14.790Z"
   },
   {
    "duration": 15,
    "start_time": "2025-03-26T08:36:46.126Z"
   },
   {
    "duration": 28,
    "start_time": "2025-03-26T08:37:10.445Z"
   },
   {
    "duration": 30,
    "start_time": "2025-03-26T08:37:32.930Z"
   },
   {
    "duration": 24,
    "start_time": "2025-03-26T08:37:44.724Z"
   },
   {
    "duration": 18,
    "start_time": "2025-03-26T08:39:18.583Z"
   },
   {
    "duration": 39,
    "start_time": "2025-03-26T08:40:30.965Z"
   },
   {
    "duration": 38,
    "start_time": "2025-03-26T08:40:37.085Z"
   },
   {
    "duration": 28,
    "start_time": "2025-03-26T08:40:43.771Z"
   },
   {
    "duration": 39,
    "start_time": "2025-03-26T08:40:49.346Z"
   },
   {
    "duration": 39,
    "start_time": "2025-03-26T08:41:56.438Z"
   },
   {
    "duration": 15,
    "start_time": "2025-03-28T01:13:24.495Z"
   },
   {
    "duration": 10,
    "start_time": "2025-03-28T01:13:29.550Z"
   },
   {
    "duration": 11,
    "start_time": "2025-03-28T01:13:42.566Z"
   },
   {
    "duration": 13,
    "start_time": "2025-03-28T01:14:22.772Z"
   },
   {
    "duration": 44,
    "start_time": "2025-03-28T01:14:32.949Z"
   },
   {
    "duration": 37,
    "start_time": "2025-03-28T01:14:53.781Z"
   },
   {
    "duration": 45,
    "start_time": "2025-03-28T01:15:13.269Z"
   },
   {
    "duration": 47,
    "start_time": "2025-03-28T01:15:18.278Z"
   },
   {
    "duration": 38,
    "start_time": "2025-03-28T01:15:53.229Z"
   },
   {
    "duration": 53,
    "start_time": "2025-03-28T01:20:55.820Z"
   },
   {
    "duration": 54,
    "start_time": "2025-03-28T01:23:01.484Z"
   },
   {
    "duration": 55,
    "start_time": "2025-03-28T01:23:11.427Z"
   },
   {
    "duration": 63,
    "start_time": "2025-03-28T01:26:55.185Z"
   },
   {
    "duration": 55,
    "start_time": "2025-03-28T01:27:09.546Z"
   },
   {
    "duration": 71,
    "start_time": "2025-03-28T01:27:14.506Z"
   },
   {
    "duration": 121,
    "start_time": "2025-03-28T01:48:50.828Z"
   },
   {
    "duration": 89,
    "start_time": "2025-03-28T01:48:55.023Z"
   },
   {
    "duration": 58,
    "start_time": "2025-03-28T01:49:00.653Z"
   },
   {
    "duration": 73,
    "start_time": "2025-03-28T01:49:10.822Z"
   },
   {
    "duration": 55,
    "start_time": "2025-03-28T01:49:31.983Z"
   },
   {
    "duration": 56,
    "start_time": "2025-03-28T01:49:41.070Z"
   },
   {
    "duration": 57,
    "start_time": "2025-03-28T01:49:44.077Z"
   },
   {
    "duration": 54,
    "start_time": "2025-03-28T01:49:55.206Z"
   },
   {
    "duration": 69,
    "start_time": "2025-03-28T01:50:18.006Z"
   },
   {
    "duration": 54,
    "start_time": "2025-03-28T01:54:25.308Z"
   },
   {
    "duration": 76,
    "start_time": "2025-03-28T01:54:27.860Z"
   },
   {
    "duration": 54,
    "start_time": "2025-03-28T01:54:56.177Z"
   },
   {
    "duration": 372,
    "start_time": "2025-03-28T01:56:14.923Z"
   },
   {
    "duration": 12,
    "start_time": "2025-03-28T01:57:10.068Z"
   },
   {
    "duration": 366,
    "start_time": "2025-03-28T01:57:19.347Z"
   },
   {
    "duration": 305,
    "start_time": "2025-03-28T02:00:35.795Z"
   },
   {
    "duration": 348,
    "start_time": "2025-03-28T02:01:15.323Z"
   },
   {
    "duration": 383,
    "start_time": "2025-03-28T02:02:49.635Z"
   },
   {
    "duration": 17,
    "start_time": "2025-03-28T02:04:19.554Z"
   },
   {
    "duration": 16,
    "start_time": "2025-03-28T02:04:22.682Z"
   },
   {
    "duration": 377,
    "start_time": "2025-03-28T02:04:30.232Z"
   },
   {
    "duration": 313,
    "start_time": "2025-03-28T02:05:14.570Z"
   },
   {
    "duration": 312,
    "start_time": "2025-03-28T02:06:06.795Z"
   },
   {
    "duration": 332,
    "start_time": "2025-03-28T02:06:40.934Z"
   },
   {
    "duration": 342,
    "start_time": "2025-03-28T02:06:52.954Z"
   },
   {
    "duration": 20759,
    "start_time": "2025-03-28T02:06:57.633Z"
   },
   {
    "duration": 299,
    "start_time": "2025-03-28T02:08:33.546Z"
   },
   {
    "duration": 293,
    "start_time": "2025-03-28T02:09:38.056Z"
   },
   {
    "duration": 354,
    "start_time": "2025-03-28T02:10:50.171Z"
   },
   {
    "duration": 16,
    "start_time": "2025-03-28T02:11:20.764Z"
   },
   {
    "duration": 339,
    "start_time": "2025-03-28T02:11:35.000Z"
   },
   {
    "duration": 309,
    "start_time": "2025-03-28T02:11:49.784Z"
   },
   {
    "duration": 27715,
    "start_time": "2025-03-28T02:12:01.769Z"
   },
   {
    "duration": 367,
    "start_time": "2025-03-28T02:13:47.728Z"
   },
   {
    "duration": 370,
    "start_time": "2025-03-28T02:15:11.770Z"
   },
   {
    "duration": 347,
    "start_time": "2025-03-28T02:17:24.609Z"
   },
   {
    "duration": 308,
    "start_time": "2025-03-28T02:17:37.272Z"
   },
   {
    "duration": 348,
    "start_time": "2025-03-28T02:17:54.048Z"
   },
   {
    "duration": 335,
    "start_time": "2025-03-28T02:17:58.751Z"
   },
   {
    "duration": 2967,
    "start_time": "2025-03-28T02:21:59.201Z"
   },
   {
    "duration": 4891,
    "start_time": "2025-03-28T02:22:05.384Z"
   },
   {
    "duration": 884,
    "start_time": "2025-03-28T02:24:43.048Z"
   },
   {
    "duration": 775,
    "start_time": "2025-03-28T02:25:12.883Z"
   },
   {
    "duration": 933,
    "start_time": "2025-03-28T02:26:00.287Z"
   },
   {
    "duration": 957,
    "start_time": "2025-03-28T02:26:06.912Z"
   },
   {
    "duration": 1040,
    "start_time": "2025-03-28T02:26:16.632Z"
   },
   {
    "duration": 1009,
    "start_time": "2025-03-28T02:26:22.836Z"
   },
   {
    "duration": 1053,
    "start_time": "2025-03-28T02:26:31.071Z"
   },
   {
    "duration": 1139,
    "start_time": "2025-03-28T02:26:41.375Z"
   },
   {
    "duration": 1283,
    "start_time": "2025-03-28T02:26:52.655Z"
   },
   {
    "duration": 1196,
    "start_time": "2025-03-28T02:27:00.767Z"
   },
   {
    "duration": 1270,
    "start_time": "2025-03-28T02:27:08.214Z"
   },
   {
    "duration": 1264,
    "start_time": "2025-03-28T02:27:14.464Z"
   },
   {
    "duration": 1258,
    "start_time": "2025-03-28T02:27:36.864Z"
   },
   {
    "duration": 1378,
    "start_time": "2025-03-28T02:27:40.527Z"
   },
   {
    "duration": 2561,
    "start_time": "2025-03-28T02:28:02.952Z"
   },
   {
    "duration": 1224,
    "start_time": "2025-03-28T02:28:14.147Z"
   },
   {
    "duration": 1167,
    "start_time": "2025-03-28T02:28:20.256Z"
   },
   {
    "duration": 1100,
    "start_time": "2025-03-28T02:28:28.935Z"
   },
   {
    "duration": 1664,
    "start_time": "2025-03-28T02:30:20.838Z"
   },
   {
    "duration": 1737,
    "start_time": "2025-03-28T02:31:52.999Z"
   },
   {
    "duration": 1651,
    "start_time": "2025-03-28T02:32:05.190Z"
   },
   {
    "duration": 2366,
    "start_time": "2025-03-28T02:33:54.849Z"
   },
   {
    "duration": 126,
    "start_time": "2025-03-28T02:34:46.397Z"
   },
   {
    "duration": 1392,
    "start_time": "2025-03-28T02:34:51.773Z"
   },
   {
    "duration": 1411,
    "start_time": "2025-03-28T02:35:05.160Z"
   },
   {
    "duration": 1498,
    "start_time": "2025-03-28T02:35:21.301Z"
   },
   {
    "duration": 1167,
    "start_time": "2025-03-28T02:36:31.342Z"
   },
   {
    "duration": 1484,
    "start_time": "2025-03-28T02:36:44.749Z"
   },
   {
    "duration": 1187,
    "start_time": "2025-03-28T02:36:52.368Z"
   },
   {
    "duration": 1196,
    "start_time": "2025-03-28T02:36:58.805Z"
   },
   {
    "duration": 1258,
    "start_time": "2025-03-28T02:37:05.070Z"
   },
   {
    "duration": 1236,
    "start_time": "2025-03-28T02:37:13.109Z"
   },
   {
    "duration": 1350,
    "start_time": "2025-03-28T02:37:32.517Z"
   },
   {
    "duration": 1516,
    "start_time": "2025-03-28T02:37:39.653Z"
   },
   {
    "duration": 1151,
    "start_time": "2025-03-28T02:37:47.534Z"
   },
   {
    "duration": 1227,
    "start_time": "2025-03-28T02:37:55.477Z"
   },
   {
    "duration": 1233,
    "start_time": "2025-03-28T02:38:08.781Z"
   },
   {
    "duration": 1274,
    "start_time": "2025-03-28T02:38:16.900Z"
   },
   {
    "duration": 1207,
    "start_time": "2025-03-28T02:38:24.060Z"
   },
   {
    "duration": 1711,
    "start_time": "2025-03-28T02:38:40.413Z"
   },
   {
    "duration": 1382,
    "start_time": "2025-03-28T02:38:52.830Z"
   },
   {
    "duration": 1391,
    "start_time": "2025-03-28T02:39:31.796Z"
   },
   {
    "duration": 1336,
    "start_time": "2025-03-28T02:39:40.741Z"
   },
   {
    "duration": 1338,
    "start_time": "2025-03-28T02:39:46.053Z"
   },
   {
    "duration": 1778,
    "start_time": "2025-03-28T02:42:16.332Z"
   },
   {
    "duration": 1302,
    "start_time": "2025-03-28T02:42:36.845Z"
   },
   {
    "duration": 1501,
    "start_time": "2025-03-28T02:42:46.234Z"
   },
   {
    "duration": 391,
    "start_time": "2025-03-28T02:47:39.171Z"
   },
   {
    "duration": 347,
    "start_time": "2025-03-28T02:48:25.340Z"
   },
   {
    "duration": 16,
    "start_time": "2025-03-28T02:48:38.444Z"
   },
   {
    "duration": 346,
    "start_time": "2025-03-28T02:48:43.597Z"
   },
   {
    "duration": 259,
    "start_time": "2025-03-28T02:49:09.921Z"
   },
   {
    "duration": 393,
    "start_time": "2025-03-28T02:49:43.860Z"
   },
   {
    "duration": 451,
    "start_time": "2025-03-28T02:50:04.147Z"
   },
   {
    "duration": 343,
    "start_time": "2025-03-28T02:50:51.444Z"
   },
   {
    "duration": 361,
    "start_time": "2025-03-28T02:51:00.406Z"
   },
   {
    "duration": 353,
    "start_time": "2025-03-28T02:51:06.899Z"
   },
   {
    "duration": 357,
    "start_time": "2025-03-28T02:51:14.028Z"
   },
   {
    "duration": 28,
    "start_time": "2025-03-28T03:00:14.331Z"
   },
   {
    "duration": 13,
    "start_time": "2025-03-28T03:01:10.122Z"
   },
   {
    "duration": 10,
    "start_time": "2025-03-28T03:01:33.188Z"
   },
   {
    "duration": 13,
    "start_time": "2025-03-28T03:01:44.238Z"
   },
   {
    "duration": 15,
    "start_time": "2025-03-28T03:02:07.184Z"
   },
   {
    "duration": 22,
    "start_time": "2025-03-28T03:05:21.758Z"
   },
   {
    "duration": 23,
    "start_time": "2025-03-28T03:05:27.052Z"
   },
   {
    "duration": 156111,
    "start_time": "2025-03-28T03:06:58.636Z"
   },
   {
    "duration": 51,
    "start_time": "2025-04-03T02:01:05.391Z"
   },
   {
    "duration": 4,
    "start_time": "2025-04-03T02:01:10.754Z"
   },
   {
    "duration": 2165,
    "start_time": "2025-04-03T02:01:10.759Z"
   },
   {
    "duration": 0,
    "start_time": "2025-04-03T02:01:12.927Z"
   },
   {
    "duration": 0,
    "start_time": "2025-04-03T02:01:12.928Z"
   },
   {
    "duration": 0,
    "start_time": "2025-04-03T02:01:12.929Z"
   },
   {
    "duration": 0,
    "start_time": "2025-04-03T02:01:12.930Z"
   },
   {
    "duration": 0,
    "start_time": "2025-04-03T02:01:12.931Z"
   },
   {
    "duration": 0,
    "start_time": "2025-04-03T02:01:12.932Z"
   },
   {
    "duration": 0,
    "start_time": "2025-04-03T02:01:12.933Z"
   },
   {
    "duration": 0,
    "start_time": "2025-04-03T02:01:12.934Z"
   },
   {
    "duration": 0,
    "start_time": "2025-04-03T02:01:12.936Z"
   },
   {
    "duration": 0,
    "start_time": "2025-04-03T02:01:12.937Z"
   },
   {
    "duration": 0,
    "start_time": "2025-04-03T02:01:12.938Z"
   },
   {
    "duration": 0,
    "start_time": "2025-04-03T02:01:12.939Z"
   },
   {
    "duration": 0,
    "start_time": "2025-04-03T02:01:12.940Z"
   },
   {
    "duration": 0,
    "start_time": "2025-04-03T02:01:12.941Z"
   },
   {
    "duration": 0,
    "start_time": "2025-04-03T02:01:12.942Z"
   },
   {
    "duration": 0,
    "start_time": "2025-04-03T02:01:12.943Z"
   },
   {
    "duration": 0,
    "start_time": "2025-04-03T02:01:12.944Z"
   },
   {
    "duration": 0,
    "start_time": "2025-04-03T02:01:12.945Z"
   },
   {
    "duration": 0,
    "start_time": "2025-04-03T02:01:12.946Z"
   },
   {
    "duration": 0,
    "start_time": "2025-04-03T02:01:12.947Z"
   },
   {
    "duration": 0,
    "start_time": "2025-04-03T02:01:12.948Z"
   },
   {
    "duration": 0,
    "start_time": "2025-04-03T02:01:12.949Z"
   },
   {
    "duration": 0,
    "start_time": "2025-04-03T02:01:12.950Z"
   },
   {
    "duration": 0,
    "start_time": "2025-04-03T02:01:12.951Z"
   },
   {
    "duration": 0,
    "start_time": "2025-04-03T02:01:12.951Z"
   },
   {
    "duration": 0,
    "start_time": "2025-04-03T02:01:12.953Z"
   },
   {
    "duration": 0,
    "start_time": "2025-04-03T02:01:12.954Z"
   },
   {
    "duration": 0,
    "start_time": "2025-04-03T02:01:12.955Z"
   },
   {
    "duration": 0,
    "start_time": "2025-04-03T02:01:12.956Z"
   },
   {
    "duration": 0,
    "start_time": "2025-04-03T02:01:12.957Z"
   },
   {
    "duration": 0,
    "start_time": "2025-04-03T02:01:12.958Z"
   },
   {
    "duration": 0,
    "start_time": "2025-04-03T02:01:12.959Z"
   },
   {
    "duration": 0,
    "start_time": "2025-04-03T02:01:12.959Z"
   },
   {
    "duration": 0,
    "start_time": "2025-04-03T02:01:13.006Z"
   },
   {
    "duration": 0,
    "start_time": "2025-04-03T02:01:13.006Z"
   },
   {
    "duration": 0,
    "start_time": "2025-04-03T02:01:13.008Z"
   },
   {
    "duration": 0,
    "start_time": "2025-04-03T02:01:13.009Z"
   },
   {
    "duration": 0,
    "start_time": "2025-04-03T02:01:13.009Z"
   },
   {
    "duration": 0,
    "start_time": "2025-04-03T02:01:13.010Z"
   },
   {
    "duration": 0,
    "start_time": "2025-04-03T02:01:13.011Z"
   },
   {
    "duration": 0,
    "start_time": "2025-04-03T02:01:13.012Z"
   },
   {
    "duration": 0,
    "start_time": "2025-04-03T02:01:13.013Z"
   },
   {
    "duration": 0,
    "start_time": "2025-04-03T02:01:13.014Z"
   },
   {
    "duration": 0,
    "start_time": "2025-04-03T02:01:13.016Z"
   },
   {
    "duration": 0,
    "start_time": "2025-04-03T02:01:13.017Z"
   },
   {
    "duration": 0,
    "start_time": "2025-04-03T02:01:13.018Z"
   },
   {
    "duration": 0,
    "start_time": "2025-04-03T02:01:13.019Z"
   },
   {
    "duration": 0,
    "start_time": "2025-04-03T02:01:13.020Z"
   },
   {
    "duration": 0,
    "start_time": "2025-04-03T02:01:13.021Z"
   },
   {
    "duration": 0,
    "start_time": "2025-04-03T02:01:13.022Z"
   },
   {
    "duration": 0,
    "start_time": "2025-04-03T02:01:13.023Z"
   },
   {
    "duration": 0,
    "start_time": "2025-04-03T02:01:13.024Z"
   },
   {
    "duration": 0,
    "start_time": "2025-04-03T02:01:13.025Z"
   },
   {
    "duration": 0,
    "start_time": "2025-04-03T02:01:13.026Z"
   },
   {
    "duration": 0,
    "start_time": "2025-04-03T02:01:13.027Z"
   },
   {
    "duration": 0,
    "start_time": "2025-04-03T02:01:13.028Z"
   },
   {
    "duration": 0,
    "start_time": "2025-04-03T02:01:13.029Z"
   },
   {
    "duration": 0,
    "start_time": "2025-04-03T02:01:13.030Z"
   },
   {
    "duration": 0,
    "start_time": "2025-04-03T02:01:13.031Z"
   },
   {
    "duration": 0,
    "start_time": "2025-04-03T02:01:13.032Z"
   },
   {
    "duration": 0,
    "start_time": "2025-04-03T02:01:13.033Z"
   },
   {
    "duration": 0,
    "start_time": "2025-04-03T02:01:13.034Z"
   }
  ],
  "colab": {
   "provenance": []
  },
  "kernelspec": {
   "display_name": "Python 3 (ipykernel)",
   "language": "python",
   "name": "python3"
  },
  "language_info": {
   "codemirror_mode": {
    "name": "ipython",
    "version": 3
   },
   "file_extension": ".py",
   "mimetype": "text/x-python",
   "name": "python",
   "nbconvert_exporter": "python",
   "pygments_lexer": "ipython3",
   "version": "3.9.5"
  },
  "toc": {
   "base_numbering": 1,
   "nav_menu": {},
   "number_sections": true,
   "sideBar": true,
   "skip_h1_title": true,
   "title_cell": "Table of Contents",
   "title_sidebar": "Contents",
   "toc_cell": false,
   "toc_position": {},
   "toc_section_display": true,
   "toc_window_display": false
  }
 },
 "nbformat": 4,
 "nbformat_minor": 1
}
