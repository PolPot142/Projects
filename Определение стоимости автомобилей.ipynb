{
 "cells": [
  {
   "cell_type": "markdown",
   "metadata": {},
   "source": [
    "# Определение стоимости автомобилей"
   ]
  },
  {
   "cell_type": "markdown",
   "metadata": {},
   "source": [
    "Сервис по продаже автомобилей с пробегом «Не бит, не крашен» разрабатывает приложение для привлечения новых клиентов. В нём можно быстро узнать рыночную стоимость своего автомобиля. В вашем распоряжении исторические данные: технические характеристики, комплектации и цены автомобилей. Вам нужно построить модель для определения стоимости. \n",
    "\n",
    "Заказчику важны:\n",
    "\n",
    "- качество предсказания;\n",
    "- скорость предсказания;\n",
    "- время обучения."
   ]
  },
  {
   "cell_type": "code",
   "execution_count": 1,
   "metadata": {},
   "outputs": [],
   "source": [
    "#!pip install phik\n",
    "#!pip install scikit-learn==1.1.3\n",
    "#!pip install category_encoders\n",
    "#!pip install shap"
   ]
  },
  {
   "cell_type": "code",
   "execution_count": 2,
   "metadata": {},
   "outputs": [],
   "source": [
    "import math\n",
    "import time\n",
    "import os\n",
    "import phik\n",
    "import shap\n",
    "import pandas as pd\n",
    "import numpy as np\n",
    "import seaborn as sns\n",
    "import matplotlib.pyplot as plt\n",
    "\n",
    "from sklearn.compose import ColumnTransformer\n",
    "from sklearn.model_selection import (\n",
    "    RandomizedSearchCV,\n",
    "    train_test_split,\n",
    "    KFold\n",
    ")\n",
    "from sklearn.pipeline import Pipeline\n",
    "from sklearn.preprocessing import (\n",
    "    MinMaxScaler,\n",
    "    OneHotEncoder,\n",
    "    RobustScaler,\n",
    "    StandardScaler,\n",
    "    OrdinalEncoder\n",
    ")\n",
    "from sklearn.svm import SVR\n",
    "from sklearn.linear_model import LinearRegression\n",
    "from sklearn.impute import SimpleImputer\n",
    "from sklearn.dummy import DummyRegressor\n",
    "from catboost import CatBoostRegressor\n",
    "from lightgbm import LGBMRegressor\n",
    "from sklearn.metrics import mean_squared_error\n",
    "from category_encoders import TargetEncoder\n",
    "from sklearn.base import clone\n"
   ]
  },
  {
   "cell_type": "markdown",
   "metadata": {},
   "source": [
    "## Подготовка данных"
   ]
  },
  {
   "cell_type": "markdown",
   "metadata": {},
   "source": [
    "### Загрузка данных"
   ]
  },
  {
   "cell_type": "code",
   "execution_count": 3,
   "metadata": {},
   "outputs": [],
   "source": [
    "df = pd.read_csv('/datasets/autos.csv')\n",
    "pth1 = '/datasets/autos.csv'\n",
    "\n",
    "if os.path.exists(pth1):\n",
    "    df = pd.read_csv(pth1)\n",
    "else:\n",
    "    print('Something is wrong_1')\n",
    "    "
   ]
  },
  {
   "cell_type": "code",
   "execution_count": 4,
   "metadata": {},
   "outputs": [
    {
     "data": {
      "text/html": [
       "<div>\n",
       "<style scoped>\n",
       "    .dataframe tbody tr th:only-of-type {\n",
       "        vertical-align: middle;\n",
       "    }\n",
       "\n",
       "    .dataframe tbody tr th {\n",
       "        vertical-align: top;\n",
       "    }\n",
       "\n",
       "    .dataframe thead th {\n",
       "        text-align: right;\n",
       "    }\n",
       "</style>\n",
       "<table border=\"1\" class=\"dataframe\">\n",
       "  <thead>\n",
       "    <tr style=\"text-align: right;\">\n",
       "      <th></th>\n",
       "      <th>DateCrawled</th>\n",
       "      <th>Price</th>\n",
       "      <th>VehicleType</th>\n",
       "      <th>RegistrationYear</th>\n",
       "      <th>Gearbox</th>\n",
       "      <th>Power</th>\n",
       "      <th>Model</th>\n",
       "      <th>Kilometer</th>\n",
       "      <th>RegistrationMonth</th>\n",
       "      <th>FuelType</th>\n",
       "      <th>Brand</th>\n",
       "      <th>Repaired</th>\n",
       "      <th>DateCreated</th>\n",
       "      <th>NumberOfPictures</th>\n",
       "      <th>PostalCode</th>\n",
       "      <th>LastSeen</th>\n",
       "    </tr>\n",
       "  </thead>\n",
       "  <tbody>\n",
       "    <tr>\n",
       "      <th>156902</th>\n",
       "      <td>2016-03-10 09:49:46</td>\n",
       "      <td>1700</td>\n",
       "      <td>small</td>\n",
       "      <td>2004</td>\n",
       "      <td>manual</td>\n",
       "      <td>64</td>\n",
       "      <td>polo</td>\n",
       "      <td>150000</td>\n",
       "      <td>7</td>\n",
       "      <td>petrol</td>\n",
       "      <td>volkswagen</td>\n",
       "      <td>no</td>\n",
       "      <td>2016-03-10 00:00:00</td>\n",
       "      <td>0</td>\n",
       "      <td>45139</td>\n",
       "      <td>2016-03-17 11:46:30</td>\n",
       "    </tr>\n",
       "    <tr>\n",
       "      <th>178997</th>\n",
       "      <td>2016-04-01 14:57:26</td>\n",
       "      <td>3200</td>\n",
       "      <td>coupe</td>\n",
       "      <td>2002</td>\n",
       "      <td>manual</td>\n",
       "      <td>0</td>\n",
       "      <td>cooper</td>\n",
       "      <td>150000</td>\n",
       "      <td>8</td>\n",
       "      <td>petrol</td>\n",
       "      <td>mini</td>\n",
       "      <td>no</td>\n",
       "      <td>2016-04-01 00:00:00</td>\n",
       "      <td>0</td>\n",
       "      <td>63739</td>\n",
       "      <td>2016-04-07 12:46:26</td>\n",
       "    </tr>\n",
       "    <tr>\n",
       "      <th>38207</th>\n",
       "      <td>2016-03-17 18:57:18</td>\n",
       "      <td>16999</td>\n",
       "      <td>convertible</td>\n",
       "      <td>2008</td>\n",
       "      <td>auto</td>\n",
       "      <td>163</td>\n",
       "      <td>slk</td>\n",
       "      <td>40000</td>\n",
       "      <td>2</td>\n",
       "      <td>petrol</td>\n",
       "      <td>mercedes_benz</td>\n",
       "      <td>no</td>\n",
       "      <td>2016-03-17 00:00:00</td>\n",
       "      <td>0</td>\n",
       "      <td>40468</td>\n",
       "      <td>2016-04-07 06:16:53</td>\n",
       "    </tr>\n",
       "    <tr>\n",
       "      <th>107196</th>\n",
       "      <td>2016-03-14 09:37:19</td>\n",
       "      <td>1650</td>\n",
       "      <td>NaN</td>\n",
       "      <td>2017</td>\n",
       "      <td>manual</td>\n",
       "      <td>110</td>\n",
       "      <td>golf</td>\n",
       "      <td>150000</td>\n",
       "      <td>0</td>\n",
       "      <td>gasoline</td>\n",
       "      <td>volkswagen</td>\n",
       "      <td>NaN</td>\n",
       "      <td>2016-03-14 00:00:00</td>\n",
       "      <td>0</td>\n",
       "      <td>84095</td>\n",
       "      <td>2016-04-07 08:16:19</td>\n",
       "    </tr>\n",
       "    <tr>\n",
       "      <th>268803</th>\n",
       "      <td>2016-03-07 21:55:32</td>\n",
       "      <td>6500</td>\n",
       "      <td>wagon</td>\n",
       "      <td>2007</td>\n",
       "      <td>manual</td>\n",
       "      <td>105</td>\n",
       "      <td>passat</td>\n",
       "      <td>150000</td>\n",
       "      <td>4</td>\n",
       "      <td>gasoline</td>\n",
       "      <td>volkswagen</td>\n",
       "      <td>NaN</td>\n",
       "      <td>2016-03-07 00:00:00</td>\n",
       "      <td>0</td>\n",
       "      <td>17213</td>\n",
       "      <td>2016-03-28 09:46:21</td>\n",
       "    </tr>\n",
       "    <tr>\n",
       "      <th>352891</th>\n",
       "      <td>2016-03-20 10:59:18</td>\n",
       "      <td>9350</td>\n",
       "      <td>sedan</td>\n",
       "      <td>2011</td>\n",
       "      <td>manual</td>\n",
       "      <td>95</td>\n",
       "      <td>a_klasse</td>\n",
       "      <td>40000</td>\n",
       "      <td>11</td>\n",
       "      <td>petrol</td>\n",
       "      <td>mercedes_benz</td>\n",
       "      <td>no</td>\n",
       "      <td>2016-03-20 00:00:00</td>\n",
       "      <td>0</td>\n",
       "      <td>12627</td>\n",
       "      <td>2016-03-31 16:15:45</td>\n",
       "    </tr>\n",
       "    <tr>\n",
       "      <th>123617</th>\n",
       "      <td>2016-04-03 11:55:40</td>\n",
       "      <td>1100</td>\n",
       "      <td>sedan</td>\n",
       "      <td>1998</td>\n",
       "      <td>manual</td>\n",
       "      <td>125</td>\n",
       "      <td>a4</td>\n",
       "      <td>150000</td>\n",
       "      <td>11</td>\n",
       "      <td>petrol</td>\n",
       "      <td>audi</td>\n",
       "      <td>NaN</td>\n",
       "      <td>2016-04-03 00:00:00</td>\n",
       "      <td>0</td>\n",
       "      <td>13583</td>\n",
       "      <td>2016-04-05 10:18:28</td>\n",
       "    </tr>\n",
       "    <tr>\n",
       "      <th>175789</th>\n",
       "      <td>2016-03-30 13:50:51</td>\n",
       "      <td>13500</td>\n",
       "      <td>wagon</td>\n",
       "      <td>2009</td>\n",
       "      <td>manual</td>\n",
       "      <td>160</td>\n",
       "      <td>a3</td>\n",
       "      <td>70000</td>\n",
       "      <td>10</td>\n",
       "      <td>petrol</td>\n",
       "      <td>audi</td>\n",
       "      <td>no</td>\n",
       "      <td>2016-03-30 00:00:00</td>\n",
       "      <td>0</td>\n",
       "      <td>58095</td>\n",
       "      <td>2016-04-07 04:44:50</td>\n",
       "    </tr>\n",
       "    <tr>\n",
       "      <th>179762</th>\n",
       "      <td>2016-03-10 19:57:04</td>\n",
       "      <td>7150</td>\n",
       "      <td>sedan</td>\n",
       "      <td>2007</td>\n",
       "      <td>manual</td>\n",
       "      <td>231</td>\n",
       "      <td>3er</td>\n",
       "      <td>150000</td>\n",
       "      <td>7</td>\n",
       "      <td>gasoline</td>\n",
       "      <td>bmw</td>\n",
       "      <td>no</td>\n",
       "      <td>2016-03-10 00:00:00</td>\n",
       "      <td>0</td>\n",
       "      <td>80636</td>\n",
       "      <td>2016-04-06 04:15:31</td>\n",
       "    </tr>\n",
       "    <tr>\n",
       "      <th>45387</th>\n",
       "      <td>2016-03-22 11:47:46</td>\n",
       "      <td>6099</td>\n",
       "      <td>small</td>\n",
       "      <td>2009</td>\n",
       "      <td>manual</td>\n",
       "      <td>95</td>\n",
       "      <td>other</td>\n",
       "      <td>125000</td>\n",
       "      <td>1</td>\n",
       "      <td>petrol</td>\n",
       "      <td>alfa_romeo</td>\n",
       "      <td>no</td>\n",
       "      <td>2016-03-22 00:00:00</td>\n",
       "      <td>0</td>\n",
       "      <td>30165</td>\n",
       "      <td>2016-04-06 00:15:46</td>\n",
       "    </tr>\n",
       "  </tbody>\n",
       "</table>\n",
       "</div>"
      ],
      "text/plain": [
       "                DateCrawled  Price  VehicleType  RegistrationYear Gearbox  \\\n",
       "156902  2016-03-10 09:49:46   1700        small              2004  manual   \n",
       "178997  2016-04-01 14:57:26   3200        coupe              2002  manual   \n",
       "38207   2016-03-17 18:57:18  16999  convertible              2008    auto   \n",
       "107196  2016-03-14 09:37:19   1650          NaN              2017  manual   \n",
       "268803  2016-03-07 21:55:32   6500        wagon              2007  manual   \n",
       "352891  2016-03-20 10:59:18   9350        sedan              2011  manual   \n",
       "123617  2016-04-03 11:55:40   1100        sedan              1998  manual   \n",
       "175789  2016-03-30 13:50:51  13500        wagon              2009  manual   \n",
       "179762  2016-03-10 19:57:04   7150        sedan              2007  manual   \n",
       "45387   2016-03-22 11:47:46   6099        small              2009  manual   \n",
       "\n",
       "        Power     Model  Kilometer  RegistrationMonth  FuelType  \\\n",
       "156902     64      polo     150000                  7    petrol   \n",
       "178997      0    cooper     150000                  8    petrol   \n",
       "38207     163       slk      40000                  2    petrol   \n",
       "107196    110      golf     150000                  0  gasoline   \n",
       "268803    105    passat     150000                  4  gasoline   \n",
       "352891     95  a_klasse      40000                 11    petrol   \n",
       "123617    125        a4     150000                 11    petrol   \n",
       "175789    160        a3      70000                 10    petrol   \n",
       "179762    231       3er     150000                  7  gasoline   \n",
       "45387      95     other     125000                  1    petrol   \n",
       "\n",
       "                Brand Repaired          DateCreated  NumberOfPictures  \\\n",
       "156902     volkswagen       no  2016-03-10 00:00:00                 0   \n",
       "178997           mini       no  2016-04-01 00:00:00                 0   \n",
       "38207   mercedes_benz       no  2016-03-17 00:00:00                 0   \n",
       "107196     volkswagen      NaN  2016-03-14 00:00:00                 0   \n",
       "268803     volkswagen      NaN  2016-03-07 00:00:00                 0   \n",
       "352891  mercedes_benz       no  2016-03-20 00:00:00                 0   \n",
       "123617           audi      NaN  2016-04-03 00:00:00                 0   \n",
       "175789           audi       no  2016-03-30 00:00:00                 0   \n",
       "179762            bmw       no  2016-03-10 00:00:00                 0   \n",
       "45387      alfa_romeo       no  2016-03-22 00:00:00                 0   \n",
       "\n",
       "        PostalCode             LastSeen  \n",
       "156902       45139  2016-03-17 11:46:30  \n",
       "178997       63739  2016-04-07 12:46:26  \n",
       "38207        40468  2016-04-07 06:16:53  \n",
       "107196       84095  2016-04-07 08:16:19  \n",
       "268803       17213  2016-03-28 09:46:21  \n",
       "352891       12627  2016-03-31 16:15:45  \n",
       "123617       13583  2016-04-05 10:18:28  \n",
       "175789       58095  2016-04-07 04:44:50  \n",
       "179762       80636  2016-04-06 04:15:31  \n",
       "45387        30165  2016-04-06 00:15:46  "
      ]
     },
     "metadata": {},
     "output_type": "display_data"
    }
   ],
   "source": [
    "display(df.sample(10))"
   ]
  },
  {
   "cell_type": "code",
   "execution_count": 5,
   "metadata": {},
   "outputs": [
    {
     "name": "stdout",
     "output_type": "stream",
     "text": [
      "<class 'pandas.core.frame.DataFrame'>\n",
      "RangeIndex: 354369 entries, 0 to 354368\n",
      "Data columns (total 16 columns):\n",
      " #   Column             Non-Null Count   Dtype \n",
      "---  ------             --------------   ----- \n",
      " 0   DateCrawled        354369 non-null  object\n",
      " 1   Price              354369 non-null  int64 \n",
      " 2   VehicleType        316879 non-null  object\n",
      " 3   RegistrationYear   354369 non-null  int64 \n",
      " 4   Gearbox            334536 non-null  object\n",
      " 5   Power              354369 non-null  int64 \n",
      " 6   Model              334664 non-null  object\n",
      " 7   Kilometer          354369 non-null  int64 \n",
      " 8   RegistrationMonth  354369 non-null  int64 \n",
      " 9   FuelType           321474 non-null  object\n",
      " 10  Brand              354369 non-null  object\n",
      " 11  Repaired           283215 non-null  object\n",
      " 12  DateCreated        354369 non-null  object\n",
      " 13  NumberOfPictures   354369 non-null  int64 \n",
      " 14  PostalCode         354369 non-null  int64 \n",
      " 15  LastSeen           354369 non-null  object\n",
      "dtypes: int64(7), object(9)\n",
      "memory usage: 43.3+ MB\n"
     ]
    }
   ],
   "source": [
    "df.info()"
   ]
  },
  {
   "cell_type": "code",
   "execution_count": 6,
   "metadata": {},
   "outputs": [],
   "source": [
    "base_len = len(df)"
   ]
  },
  {
   "cell_type": "code",
   "execution_count": 7,
   "metadata": {},
   "outputs": [
    {
     "data": {
      "text/html": [
       "<div>\n",
       "<style scoped>\n",
       "    .dataframe tbody tr th:only-of-type {\n",
       "        vertical-align: middle;\n",
       "    }\n",
       "\n",
       "    .dataframe tbody tr th {\n",
       "        vertical-align: top;\n",
       "    }\n",
       "\n",
       "    .dataframe thead th {\n",
       "        text-align: right;\n",
       "    }\n",
       "</style>\n",
       "<table border=\"1\" class=\"dataframe\">\n",
       "  <thead>\n",
       "    <tr style=\"text-align: right;\">\n",
       "      <th></th>\n",
       "      <th>Price</th>\n",
       "      <th>RegistrationYear</th>\n",
       "      <th>Power</th>\n",
       "      <th>Kilometer</th>\n",
       "      <th>RegistrationMonth</th>\n",
       "      <th>NumberOfPictures</th>\n",
       "      <th>PostalCode</th>\n",
       "    </tr>\n",
       "  </thead>\n",
       "  <tbody>\n",
       "    <tr>\n",
       "      <th>count</th>\n",
       "      <td>354369.000000</td>\n",
       "      <td>354369.000000</td>\n",
       "      <td>354369.000000</td>\n",
       "      <td>354369.000000</td>\n",
       "      <td>354369.000000</td>\n",
       "      <td>354369.0</td>\n",
       "      <td>354369.000000</td>\n",
       "    </tr>\n",
       "    <tr>\n",
       "      <th>mean</th>\n",
       "      <td>4416.656776</td>\n",
       "      <td>2004.234448</td>\n",
       "      <td>110.094337</td>\n",
       "      <td>128211.172535</td>\n",
       "      <td>5.714645</td>\n",
       "      <td>0.0</td>\n",
       "      <td>50508.689087</td>\n",
       "    </tr>\n",
       "    <tr>\n",
       "      <th>std</th>\n",
       "      <td>4514.158514</td>\n",
       "      <td>90.227958</td>\n",
       "      <td>189.850405</td>\n",
       "      <td>37905.341530</td>\n",
       "      <td>3.726421</td>\n",
       "      <td>0.0</td>\n",
       "      <td>25783.096248</td>\n",
       "    </tr>\n",
       "    <tr>\n",
       "      <th>min</th>\n",
       "      <td>0.000000</td>\n",
       "      <td>1000.000000</td>\n",
       "      <td>0.000000</td>\n",
       "      <td>5000.000000</td>\n",
       "      <td>0.000000</td>\n",
       "      <td>0.0</td>\n",
       "      <td>1067.000000</td>\n",
       "    </tr>\n",
       "    <tr>\n",
       "      <th>25%</th>\n",
       "      <td>1050.000000</td>\n",
       "      <td>1999.000000</td>\n",
       "      <td>69.000000</td>\n",
       "      <td>125000.000000</td>\n",
       "      <td>3.000000</td>\n",
       "      <td>0.0</td>\n",
       "      <td>30165.000000</td>\n",
       "    </tr>\n",
       "    <tr>\n",
       "      <th>50%</th>\n",
       "      <td>2700.000000</td>\n",
       "      <td>2003.000000</td>\n",
       "      <td>105.000000</td>\n",
       "      <td>150000.000000</td>\n",
       "      <td>6.000000</td>\n",
       "      <td>0.0</td>\n",
       "      <td>49413.000000</td>\n",
       "    </tr>\n",
       "    <tr>\n",
       "      <th>75%</th>\n",
       "      <td>6400.000000</td>\n",
       "      <td>2008.000000</td>\n",
       "      <td>143.000000</td>\n",
       "      <td>150000.000000</td>\n",
       "      <td>9.000000</td>\n",
       "      <td>0.0</td>\n",
       "      <td>71083.000000</td>\n",
       "    </tr>\n",
       "    <tr>\n",
       "      <th>max</th>\n",
       "      <td>20000.000000</td>\n",
       "      <td>9999.000000</td>\n",
       "      <td>20000.000000</td>\n",
       "      <td>150000.000000</td>\n",
       "      <td>12.000000</td>\n",
       "      <td>0.0</td>\n",
       "      <td>99998.000000</td>\n",
       "    </tr>\n",
       "  </tbody>\n",
       "</table>\n",
       "</div>"
      ],
      "text/plain": [
       "               Price  RegistrationYear          Power      Kilometer  \\\n",
       "count  354369.000000     354369.000000  354369.000000  354369.000000   \n",
       "mean     4416.656776       2004.234448     110.094337  128211.172535   \n",
       "std      4514.158514         90.227958     189.850405   37905.341530   \n",
       "min         0.000000       1000.000000       0.000000    5000.000000   \n",
       "25%      1050.000000       1999.000000      69.000000  125000.000000   \n",
       "50%      2700.000000       2003.000000     105.000000  150000.000000   \n",
       "75%      6400.000000       2008.000000     143.000000  150000.000000   \n",
       "max     20000.000000       9999.000000   20000.000000  150000.000000   \n",
       "\n",
       "       RegistrationMonth  NumberOfPictures     PostalCode  \n",
       "count      354369.000000          354369.0  354369.000000  \n",
       "mean            5.714645               0.0   50508.689087  \n",
       "std             3.726421               0.0   25783.096248  \n",
       "min             0.000000               0.0    1067.000000  \n",
       "25%             3.000000               0.0   30165.000000  \n",
       "50%             6.000000               0.0   49413.000000  \n",
       "75%             9.000000               0.0   71083.000000  \n",
       "max            12.000000               0.0   99998.000000  "
      ]
     },
     "execution_count": 7,
     "metadata": {},
     "output_type": "execute_result"
    }
   ],
   "source": [
    "df.describe()"
   ]
  },
  {
   "cell_type": "markdown",
   "metadata": {},
   "source": [
    "В данных есть пропуски и ошибки. Названия столбцов надо привести к принятому виду. Всего 354369 строк."
   ]
  },
  {
   "cell_type": "markdown",
   "metadata": {},
   "source": [
    "### Предобработка данных"
   ]
  },
  {
   "cell_type": "markdown",
   "metadata": {},
   "source": [
    "Столбцы с датами выглядят неинформативно. Их можно удалить."
   ]
  },
  {
   "cell_type": "code",
   "execution_count": 8,
   "metadata": {},
   "outputs": [],
   "source": [
    "df = df.drop('DateCrawled', axis=1)\n",
    "df = df.drop('DateCreated', axis=1)\n",
    "df = df.drop('LastSeen', axis=1)"
   ]
  },
  {
   "cell_type": "markdown",
   "metadata": {},
   "source": [
    "Изменим название столбцов:"
   ]
  },
  {
   "cell_type": "code",
   "execution_count": 9,
   "metadata": {},
   "outputs": [],
   "source": [
    "df.columns = df.columns.str.lower()"
   ]
  },
  {
   "cell_type": "code",
   "execution_count": 10,
   "metadata": {},
   "outputs": [],
   "source": [
    "df.columns = (\n",
    "    df.columns.str.replace('registrationyear', 'registration_year')\n",
    "              .str.replace('vehicletype','vehicle_type')\n",
    "              .str.replace('registrationmonth','registration_month')\n",
    "              .str.replace('fueltype','fuel_type')\n",
    "              .str.replace('numberofpictures','number_of_pictures')\n",
    "              .str.replace('postalcode','postal_code')\n",
    "              )"
   ]
  },
  {
   "cell_type": "markdown",
   "metadata": {},
   "source": [
    "Проверим дубликаты:"
   ]
  },
  {
   "cell_type": "code",
   "execution_count": 11,
   "metadata": {},
   "outputs": [
    {
     "data": {
      "text/plain": [
       "21333"
      ]
     },
     "metadata": {},
     "output_type": "display_data"
    }
   ],
   "source": [
    "display(df.duplicated().sum())"
   ]
  },
  {
   "cell_type": "markdown",
   "metadata": {},
   "source": [
    "21333 полных дубликата. Удалим их:"
   ]
  },
  {
   "cell_type": "code",
   "execution_count": 12,
   "metadata": {},
   "outputs": [],
   "source": [
    "df = df.drop_duplicates()"
   ]
  },
  {
   "cell_type": "code",
   "execution_count": 13,
   "metadata": {
    "scrolled": true
   },
   "outputs": [
    {
     "data": {
      "text/plain": [
       "6210"
      ]
     },
     "metadata": {},
     "output_type": "display_data"
    }
   ],
   "source": [
    "display(df[['price', 'vehicle_type', 'registration_year', 'gearbox', 'power',\n",
    "       'model', 'kilometer', 'registration_month', 'fuel_type', 'brand',\n",
    "       'repaired']].duplicated().sum())"
   ]
  },
  {
   "cell_type": "markdown",
   "metadata": {},
   "source": [
    "Без столбцов `number_of_pictures` и `postal_code` еще 6210 повторов. Вряд ли это совпадение."
   ]
  },
  {
   "cell_type": "code",
   "execution_count": 14,
   "metadata": {},
   "outputs": [],
   "source": [
    "df = df.drop_duplicates(subset=['price', 'vehicle_type', 'registration_year', 'gearbox', 'power',\n",
    "    'model', 'kilometer', 'registration_month', 'fuel_type', 'brand','repaired'])"
   ]
  },
  {
   "cell_type": "markdown",
   "metadata": {},
   "source": [
    "Удалим столбцы `number_of_pictures` и `postal_code`:"
   ]
  },
  {
   "cell_type": "code",
   "execution_count": 15,
   "metadata": {},
   "outputs": [],
   "source": [
    "df = df.drop('number_of_pictures', axis=1)\n",
    "df = df.drop('postal_code', axis=1)"
   ]
  },
  {
   "cell_type": "code",
   "execution_count": 16,
   "metadata": {
    "scrolled": false
   },
   "outputs": [
    {
     "name": "stdout",
     "output_type": "stream",
     "text": [
      "<class 'pandas.core.frame.DataFrame'>\n",
      "Int64Index: 326826 entries, 0 to 354368\n",
      "Data columns (total 11 columns):\n",
      " #   Column              Non-Null Count   Dtype \n",
      "---  ------              --------------   ----- \n",
      " 0   price               326826 non-null  int64 \n",
      " 1   vehicle_type        291577 non-null  object\n",
      " 2   registration_year   326826 non-null  int64 \n",
      " 3   gearbox             309248 non-null  object\n",
      " 4   power               326826 non-null  int64 \n",
      " 5   model               308294 non-null  object\n",
      " 6   kilometer           326826 non-null  int64 \n",
      " 7   registration_month  326826 non-null  int64 \n",
      " 8   fuel_type           295704 non-null  object\n",
      " 9   brand               326826 non-null  object\n",
      " 10  repaired            260399 non-null  object\n",
      "dtypes: int64(5), object(6)\n",
      "memory usage: 29.9+ MB\n"
     ]
    }
   ],
   "source": [
    "df.info()"
   ]
  },
  {
   "cell_type": "markdown",
   "metadata": {},
   "source": [
    "Пропуски:"
   ]
  },
  {
   "cell_type": "code",
   "execution_count": 17,
   "metadata": {},
   "outputs": [],
   "source": [
    "def uniques(df):\n",
    "    for col in df.select_dtypes(exclude='number').columns.tolist():\n",
    "        unique_values = df[col].unique()\n",
    "        print(f\"Уникальные значения в столбце '{col}': {unique_values}\")"
   ]
  },
  {
   "cell_type": "code",
   "execution_count": 18,
   "metadata": {
    "scrolled": true
   },
   "outputs": [
    {
     "name": "stdout",
     "output_type": "stream",
     "text": [
      "Уникальные значения в столбце 'vehicle_type': [nan 'coupe' 'suv' 'small' 'sedan' 'convertible' 'bus' 'wagon' 'other']\n",
      "Уникальные значения в столбце 'gearbox': ['manual' 'auto' nan]\n",
      "Уникальные значения в столбце 'model': ['golf' nan 'grand' 'fabia' '3er' '2_reihe' 'other' 'c_max' '3_reihe'\n",
      " 'passat' 'navara' 'ka' 'polo' 'twingo' 'a_klasse' 'scirocco' '5er'\n",
      " 'meriva' 'arosa' 'c4' 'civic' 'transporter' 'punto' 'e_klasse' 'clio'\n",
      " 'kadett' 'kangoo' 'corsa' 'one' 'fortwo' '1er' 'b_klasse' 'signum'\n",
      " 'astra' 'a8' 'jetta' 'fiesta' 'c_klasse' 'micra' 'vito' 'sprinter' '156'\n",
      " 'escort' 'forester' 'xc_reihe' 'scenic' 'a4' 'a1' 'insignia' 'combo'\n",
      " 'focus' 'tt' 'a6' 'jazz' 'omega' 'slk' '7er' '80' '147' '100' 'z_reihe'\n",
      " 'sportage' 'sorento' 'v40' 'ibiza' 'mustang' 'eos' 'touran' 'getz' 'a3'\n",
      " 'almera' 'megane' 'lupo' 'r19' 'zafira' 'caddy' 'mondeo' 'cordoba' 'colt'\n",
      " 'impreza' 'vectra' 'berlingo' 'tiguan' 'i_reihe' 'espace' 'sharan'\n",
      " '6_reihe' 'panda' 'up' 'seicento' 'ceed' '5_reihe' 'yeti' 'octavia' 'mii'\n",
      " 'rx_reihe' '6er' 'modus' 'fox' 'matiz' 'beetle' 'c1' 'rio' 'touareg'\n",
      " 'logan' 'spider' 'cuore' 's_max' 'a2' 'galaxy' 'c3' 'viano' 's_klasse'\n",
      " '1_reihe' 'avensis' 'roomster' 'sl' 'kaefer' 'santa' 'cooper' 'leon'\n",
      " '4_reihe' 'a5' '500' 'laguna' 'ptcruiser' 'clk' 'primera' 'x_reihe'\n",
      " 'exeo' '159' 'transit' 'juke' 'qashqai' 'carisma' 'accord' 'corolla'\n",
      " 'lanos' 'phaeton' 'verso' 'swift' 'rav' 'picanto' 'boxster' 'kalos'\n",
      " 'superb' 'stilo' 'alhambra' 'mx_reihe' 'roadster' 'ypsilon' 'cayenne'\n",
      " 'galant' 'justy' '90' 'sirion' 'crossfire' 'agila' 'duster' 'cr_reihe'\n",
      " 'v50' 'c_reihe' 'v_klasse' 'm_klasse' 'yaris' 'c5' 'aygo' 'cc' 'carnival'\n",
      " 'fusion' '911' 'bora' 'forfour' 'm_reihe' 'cl' 'tigra' '300c' 'spark'\n",
      " 'v70' 'kuga' 'x_type' 'ducato' 's_type' 'x_trail' 'toledo' 'altea'\n",
      " 'voyager' 'calibra' 'bravo' 'antara' 'tucson' 'citigo' 'jimny' 'wrangler'\n",
      " 'lybra' 'q7' 'lancer' 'captiva' 'c2' 'discovery' 'freelander' 'sandero'\n",
      " 'note' '900' 'cherokee' 'clubman' 'samara' 'defender' '601' 'cx_reihe'\n",
      " 'legacy' 'pajero' 'auris' 'niva' 's60' 'nubira' 'vivaro' 'g_klasse'\n",
      " 'lodgy' '850' 'range_rover' 'q3' 'serie_2' 'glk' 'charade' 'croma'\n",
      " 'outlander' 'doblo' 'musa' 'move' '9000' 'v60' '145' 'aveo' '200' 'b_max'\n",
      " 'range_rover_sport' 'terios' 'rangerover' 'q5' 'range_rover_evoque'\n",
      " 'materia' 'delta' 'gl' 'kalina' 'amarok' 'elefantino' 'i3' 'kappa'\n",
      " 'serie_3' 'serie_1']\n",
      "Уникальные значения в столбце 'fuel_type': ['petrol' 'gasoline' nan 'lpg' 'other' 'hybrid' 'cng' 'electric']\n",
      "Уникальные значения в столбце 'brand': ['volkswagen' 'audi' 'jeep' 'skoda' 'bmw' 'peugeot' 'ford' 'mazda'\n",
      " 'nissan' 'renault' 'mercedes_benz' 'opel' 'seat' 'citroen' 'honda' 'fiat'\n",
      " 'mini' 'smart' 'hyundai' 'sonstige_autos' 'alfa_romeo' 'subaru' 'volvo'\n",
      " 'mitsubishi' 'kia' 'suzuki' 'lancia' 'toyota' 'chevrolet' 'dacia'\n",
      " 'daihatsu' 'trabant' 'saab' 'chrysler' 'jaguar' 'daewoo' 'porsche'\n",
      " 'rover' 'land_rover' 'lada']\n",
      "Уникальные значения в столбце 'repaired': [nan 'yes' 'no']\n"
     ]
    }
   ],
   "source": [
    "uniques(df)"
   ]
  },
  {
   "cell_type": "markdown",
   "metadata": {},
   "source": [
    "Поскольку в некоторых местах пропусков примерно 20% от общих данных, а также есть аномальные значения, устранять все это надо аккуратно, для того, чтобы сохранить как можно больше данных. Сначала надо удалить очевидные пропуски и аномалии, с которыми делать больше нечего:"
   ]
  },
  {
   "cell_type": "markdown",
   "metadata": {},
   "source": [
    "*petrol* и *gasoline* - это одно и то же (но странно, что нет дизеля). Исправим:"
   ]
  },
  {
   "cell_type": "code",
   "execution_count": 19,
   "metadata": {},
   "outputs": [],
   "source": [
    "df['fuel_type'] = df['fuel_type'].replace({'gasoline': 'petrol'})"
   ]
  },
  {
   "cell_type": "markdown",
   "metadata": {},
   "source": [
    "Пропуски в столбце `model` никаким разумным способом нельзя заполнить правильно. Удаляем:"
   ]
  },
  {
   "cell_type": "code",
   "execution_count": 20,
   "metadata": {},
   "outputs": [],
   "source": [
    "df = df.dropna(subset=['model'])"
   ]
  },
  {
   "cell_type": "markdown",
   "metadata": {},
   "source": [
    "`price` - целевой признак. Удаляем слишком маленькие значения:"
   ]
  },
  {
   "cell_type": "code",
   "execution_count": 21,
   "metadata": {},
   "outputs": [],
   "source": [
    "df = df.query('price > 50')"
   ]
  },
  {
   "cell_type": "markdown",
   "metadata": {},
   "source": [
    "Удалим несколько аномально высоких строк из признака `power`:"
   ]
  },
  {
   "cell_type": "code",
   "execution_count": 22,
   "metadata": {},
   "outputs": [],
   "source": [
    "df = df.query('power < 570')"
   ]
  },
  {
   "cell_type": "markdown",
   "metadata": {},
   "source": [
    "Удалим несколько аномально высоких и низких значений из признака `registration_year`:"
   ]
  },
  {
   "cell_type": "code",
   "execution_count": 23,
   "metadata": {},
   "outputs": [],
   "source": [
    "df = df.query('registration_year < 2016')"
   ]
  },
  {
   "cell_type": "code",
   "execution_count": 24,
   "metadata": {},
   "outputs": [],
   "source": [
    "df = df.query('registration_year > 1970')"
   ]
  },
  {
   "cell_type": "markdown",
   "metadata": {},
   "source": [
    "Теперь, когда в `model` и `brand` нет пропусков можно устранить другие пропуски:\n",
    "Сгруппируем `model` и `brand`, найдем моду и заполним ей пропуски в `vehicle_type`:"
   ]
  },
  {
   "cell_type": "code",
   "execution_count": 25,
   "metadata": {},
   "outputs": [],
   "source": [
    "#transform('mode') не работает вроде как по причине того, что некоторые группировки выдают Series из моды из-за одинакового\n",
    "#некоторых вариантов. Поэтому используем lamba функцию, где можно явно указать, что надо брать элемент с нулевым индексом.\n",
    "df['gearbox'] = df['gearbox'].fillna(df.groupby(['brand', 'model'])['gearbox']\n",
    "      .transform(lambda x: x.mode().iloc[0])\n",
    ")"
   ]
  },
  {
   "cell_type": "code",
   "execution_count": 26,
   "metadata": {},
   "outputs": [],
   "source": [
    "df['fuel_type'] = df['fuel_type'].fillna(df.groupby(['brand', 'model','gearbox'])['fuel_type']\n",
    "      .transform(lambda x: x.mode().iloc[0])\n",
    ")"
   ]
  },
  {
   "cell_type": "code",
   "execution_count": 27,
   "metadata": {},
   "outputs": [],
   "source": [
    "df['vehicle_type'] = df['vehicle_type'].fillna(df.groupby(['brand', 'model'])['vehicle_type']\n",
    "      .transform(lambda x: x.mode().iloc[0])\n",
    ")"
   ]
  },
  {
   "cell_type": "markdown",
   "metadata": {},
   "source": [
    "Такую группировку я делаю из-за того, что заполняемые значения с большой вероятностью зависят только от сгруппированных признаков. (можно было бы еще смотреть по году регистрации и сравнивать с годами выпуска, но это опять же неразумно). Признак `repaired` я заполню в *SimpleImputer*, поскольку он будет учитывать все признаки, например, год регистрации и цену, что повысит вероятность заполнить эти пропуски правильно."
   ]
  },
  {
   "cell_type": "markdown",
   "metadata": {},
   "source": [
    "С другой стороны складывается ощущение, что целевым признаком надо делать `repaired` и обучать модель определять был ли ремонт..."
   ]
  },
  {
   "cell_type": "markdown",
   "metadata": {},
   "source": [
    "Разберемся с `power` = 0"
   ]
  },
  {
   "cell_type": "code",
   "execution_count": 28,
   "metadata": {},
   "outputs": [],
   "source": [
    "df['engine_status'] = np.where(df['power'] == 0, 'без двигателя', 'с двигателем')"
   ]
  },
  {
   "cell_type": "code",
   "execution_count": 29,
   "metadata": {},
   "outputs": [
    {
     "data": {
      "text/plain": [
       "engine_status\n",
       "без двигателя    1300\n",
       "с двигателем     3299\n",
       "Name: price, dtype: int64"
      ]
     },
     "execution_count": 29,
     "metadata": {},
     "output_type": "execute_result"
    }
   ],
   "source": [
    "df.groupby(['engine_status'])['price'].median()"
   ]
  },
  {
   "cell_type": "markdown",
   "metadata": {},
   "source": [
    "Создадим категории для машин:"
   ]
  },
  {
   "cell_type": "code",
   "execution_count": 30,
   "metadata": {},
   "outputs": [],
   "source": [
    "df['oldness'] = np.where(df['registration_year'] < 1980, \n",
    "                                   'Ретро', np.where(df['registration_year'] < 2000, 'Старая', 'Новая'))"
   ]
  },
  {
   "cell_type": "code",
   "execution_count": 31,
   "metadata": {},
   "outputs": [
    {
     "name": "stdout",
     "output_type": "stream",
     "text": [
      "Осталось 279265 строк\n",
      "Удалено 75104 строк\n",
      "Удалено 21.19% изначальных строк\n"
     ]
    }
   ],
   "source": [
    "print(f'Осталось {len(df)} строк')\n",
    "print(f'Удалено {base_len - len(df)} строк')\n",
    "print(f'Удалено {((base_len - len(df))/base_len)*100:.2f}% изначальных строк') "
   ]
  },
  {
   "cell_type": "markdown",
   "metadata": {},
   "source": [
    "Осталось 297869 строк\n",
    "Удалено 56500 строк\n",
    "Удалено 15.94% изначальных строк. \n",
    "\n",
    "Обработаны пропуски в столбцах `vehicle_type`, `gearbox`, `fuel_type`. Устранены выбросы в некоторых числовых признаках."
   ]
  },
  {
   "cell_type": "markdown",
   "metadata": {},
   "source": [
    "### Исследовательский анализ данных"
   ]
  },
  {
   "cell_type": "markdown",
   "metadata": {},
   "source": [
    "Построим гистограммы с ядерной плотностью для числовых признаков:"
   ]
  },
  {
   "cell_type": "code",
   "execution_count": 32,
   "metadata": {
    "scrolled": true
   },
   "outputs": [
    {
     "data": {
      "image/png": "[encoded data removed]",
      "text/plain": [
       "<Figure size 1080x864 with 5 Axes>"
      ]
     },
     "metadata": {
      "needs_background": "light"
     },
     "output_type": "display_data"
    }
   ],
   "source": [
    "num_cols = df.select_dtypes(include='number').columns.tolist()\n",
    "\n",
    "n = len(num_cols)\n",
    "n_cols = 3\n",
    "n_rows = math.ceil(n/n_cols)\n",
    "\n",
    "fig, axes = plt.subplots(n_rows, n_cols, figsize = (n_cols*5, n_rows*6))\n",
    "axes = axes.flatten()\n",
    "\n",
    "for i, col in enumerate(num_cols):\n",
    "    sns.kdeplot(data=df, x=col, fill=True, ax=axes[i])\n",
    "    axes[i].set_title(f'Гистограмма по {col}')\n",
    "    \n",
    "for j in range(i+1, len(axes)):\n",
    "    fig.delaxes(axes[j])\n",
    "\n",
    "plt.tight_layout()\n",
    "plt.show()"
   ]
  },
  {
   "cell_type": "markdown",
   "metadata": {},
   "source": [
    "1. "
   ]
  },
  {
   "cell_type": "markdown",
   "metadata": {},
   "source": [
    "Боксплоты:"
   ]
  },
  {
   "cell_type": "code",
   "execution_count": 33,
   "metadata": {
    "scrolled": true
   },
   "outputs": [
    {
     "data": {
      "image/png": "[encoded data removed]",
      "text/plain": [
       "<Figure size 1080x864 with 5 Axes>"
      ]
     },
     "metadata": {
      "needs_background": "light"
     },
     "output_type": "display_data"
    }
   ],
   "source": [
    "num_cols = df.select_dtypes(include='number').columns.tolist()\n",
    "\n",
    "n = len(num_cols)\n",
    "n_cols = 3\n",
    "n_rows = math.ceil(n / n_cols)\n",
    "\n",
    "fig, axes = plt.subplots(n_rows, n_cols, figsize=(n_cols * 5, n_rows * 6))\n",
    "axes = axes.flatten()\n",
    "\n",
    "for i, col in enumerate(num_cols):\n",
    "    df.boxplot(column=col, ax=axes[i])\n",
    "    axes[i].set_title(f'Боксплот для {col}')\n",
    "\n",
    "for j in range(i + 1, len(axes)):\n",
    "    fig.delaxes(axes[j])\n",
    "\n",
    "plt.tight_layout()\n",
    "plt.show()"
   ]
  },
  {
   "cell_type": "markdown",
   "metadata": {},
   "source": [
    "1. `price` - много выбросов по верхней границе. Медиана около 2500. Скорее всего люксовые машины.\n",
    "2. `registration_year` - есть группа очень старых машин.\n",
    "3. `kilometer` - значения в основном близки к 125 000–150 000. Есть группа относительно новых машин.\n",
    "4. `registration_month` - без сюрпризов. Признак можно удалить как бесполезный"
   ]
  },
  {
   "cell_type": "markdown",
   "metadata": {},
   "source": [
    "Анализ категориальных признаков:"
   ]
  },
  {
   "cell_type": "code",
   "execution_count": 34,
   "metadata": {},
   "outputs": [
    {
     "data": {
      "image/png": "[encoded data removed]",
      "text/plain": [
       "<Figure size 864x432 with 1 Axes>"
      ]
     },
     "metadata": {
      "needs_background": "light"
     },
     "output_type": "display_data"
    },
    {
     "data": {
      "image/png": "[encoded data removed]",
      "text/plain": [
       "<Figure size 864x432 with 1 Axes>"
      ]
     },
     "metadata": {
      "needs_background": "light"
     },
     "output_type": "display_data"
    },
    {
     "data": {
      "image/png": "[encoded data removed]",
      "text/plain": [
       "<Figure size 864x432 with 1 Axes>"
      ]
     },
     "metadata": {
      "needs_background": "light"
     },
     "output_type": "display_data"
    },
    {
     "data": {
      "image/png": "[encoded data removed]",
      "text/plain": [
       "<Figure size 864x432 with 1 Axes>"
      ]
     },
     "metadata": {
      "needs_background": "light"
     },
     "output_type": "display_data"
    },
    {
     "data": {
      "image/png": "[encoded data removed]",
      "text/plain": [
       "<Figure size 864x432 with 1 Axes>"
      ]
     },
     "metadata": {
      "needs_background": "light"
     },
     "output_type": "display_data"
    }
   ],
   "source": [
    "cat_cols = ['vehicle_type', 'gearbox', 'fuel_type', 'brand', 'repaired']\n",
    "for col in cat_cols:\n",
    "    plt.figure(figsize=(12, 6))\n",
    "    sns.countplot(data=df, x=col, order=df[col].value_counts().index)\n",
    "    plt.xticks(rotation=90)\n",
    "    plt.title(f'Частота категорий: {col}')\n",
    "    plt.tight_layout()\n",
    "    plt.grid(True)\n",
    "    plt.show()"
   ]
  },
  {
   "cell_type": "markdown",
   "metadata": {},
   "source": [
    "1. `brand` - больше всего продают седаны.\n",
    "2. `gearbox` - МКПП доминирует (понятно, учитывая возраст многих машин).\n",
    "3. `fuel_type` - абсолютное большинство на бензине.\n",
    "4. `brand` - самый популярный с большим отрывом *volkswagen*\n",
    "5. `repaired` - в основном машины не были в ремонте"
   ]
  },
  {
   "cell_type": "code",
   "execution_count": 35,
   "metadata": {
    "scrolled": true
   },
   "outputs": [
    {
     "data": {
      "image/png": "[encoded data removed]",
      "text/plain": [
       "<Figure size 864x432 with 1 Axes>"
      ]
     },
     "metadata": {
      "needs_background": "light"
     },
     "output_type": "display_data"
    },
    {
     "data": {
      "image/png": "[encoded data removed]",
      "text/plain": [
       "<Figure size 864x432 with 1 Axes>"
      ]
     },
     "metadata": {
      "needs_background": "light"
     },
     "output_type": "display_data"
    },
    {
     "data": {
      "image/png": "[encoded data removed]",
      "text/plain": [
       "<Figure size 864x432 with 1 Axes>"
      ]
     },
     "metadata": {
      "needs_background": "light"
     },
     "output_type": "display_data"
    },
    {
     "data": {
      "image/png": "[encoded data removed]",
      "text/plain": [
       "<Figure size 864x432 with 1 Axes>"
      ]
     },
     "metadata": {
      "needs_background": "light"
     },
     "output_type": "display_data"
    },
    {
     "data": {
      "image/png": "[encoded data removed]",
      "text/plain": [
       "<Figure size 864x432 with 1 Axes>"
      ]
     },
     "metadata": {
      "needs_background": "light"
     },
     "output_type": "display_data"
    }
   ],
   "source": [
    "for col in cat_cols:\n",
    "    plt.figure(figsize=(12, 6))\n",
    "    sns.boxplot(data=df, x=col, y='price', order=df[col].value_counts().index)\n",
    "    plt.xticks(rotation=90)\n",
    "    plt.title(f'Распределение цены по {col}')\n",
    "    plt.tight_layout()\n",
    "    plt.show()"
   ]
  },
  {
   "cell_type": "markdown",
   "metadata": {},
   "source": [
    "В более многочисленных категориях больше выбросов.\n",
    "\n",
    "1. `vehicle_type` - наибольшая медина у категории *suv*. Меньшая - *small*, но там много выбросов \n",
    "2. `gearbox` - МКПП имеет медиану меньше, чем АКПП, но много выбросов. Это объяснятся большим количеством предложений по МКПП\n",
    "3. `fuel_type` - гибриды - самые дорогие\n",
    "4. `brand` - *porsche* - самый дорогой\n",
    "5. `repaired` - в этом столбце слишком много пропусков для анализа, но можно сказать, что отремонтированные машины дешевле."
   ]
  },
  {
   "cell_type": "markdown",
   "metadata": {},
   "source": [
    "Корреляции:"
   ]
  },
  {
   "cell_type": "code",
   "execution_count": 36,
   "metadata": {
    "scrolled": true
   },
   "outputs": [
    {
     "data": {
      "image/png": "[encoded data removed]",
      "text/plain": [
       "<Figure size 864x576 with 2 Axes>"
      ]
     },
     "metadata": {
      "needs_background": "light"
     },
     "output_type": "display_data"
    }
   ],
   "source": [
    "plt.figure(figsize=(12, 8))\n",
    "sns.heatmap(df.corr(), annot=True, cmap=\"coolwarm\",fmt='.2f');\n",
    "plt.title('Корреляционная матрица количественных признаков')\n",
    "plt.show()"
   ]
  },
  {
   "cell_type": "code",
   "execution_count": 37,
   "metadata": {},
   "outputs": [
    {
     "data": {
      "image/png": "[encoded data removed]",
      "text/plain": [
       "<Figure size 864x576 with 2 Axes>"
      ]
     },
     "metadata": {
      "needs_background": "light"
     },
     "output_type": "display_data"
    }
   ],
   "source": [
    "plt.figure(figsize=(12, 8))\n",
    "sns.heatmap(df.corr(method='spearman'), annot=True, cmap=\"coolwarm\",fmt='.2f', square=True);\n",
    "plt.title('Корреляционная матрица количественных признаков по Спирмену')\n",
    "plt.show()"
   ]
  },
  {
   "cell_type": "code",
   "execution_count": 38,
   "metadata": {
    "scrolled": true
   },
   "outputs": [
    {
     "data": {
      "image/png": "[encoded data removed]",
      "text/plain": [
       "<Figure size 864x720 with 2 Axes>"
      ]
     },
     "metadata": {
      "needs_background": "light"
     },
     "output_type": "display_data"
    }
   ],
   "source": [
    "interval_df = df_phik = df.dropna()\n",
    "interval_cols = interval_df.select_dtypes(include='number').columns.tolist()\n",
    "\n",
    "phi_k_matrix = interval_df.phik_matrix(interval_cols=interval_cols)\n",
    "plt.figure(figsize=(12, 10))\n",
    "sns.heatmap(phi_k_matrix, annot=True, cmap='coolwarm',fmt='.2f', square=True);\n",
    "plt.title('Корреляционная матрица Phi_k')\n",
    "plt.show()"
   ]
  },
  {
   "cell_type": "code",
   "execution_count": 39,
   "metadata": {},
   "outputs": [
    {
     "name": "stdout",
     "output_type": "stream",
     "text": [
      "Уникальные значения в столбце 'power': [  0 163  75  69 102 109 125 101 105 140 115 131 190 136 160 231  50 118\n",
      " 193  99  60 113 218 122 129  70 306  95  61 177 170 143 232 150 156  80\n",
      "  82  90 155 185  87 180  86  84 224 235 200 178 265  77 110 144 120  54\n",
      " 286 116 184 126 204  88 194  64 305 197 179 250 313  41  45 165  98 130\n",
      " 114 211  56 201 213  58 107 174 100 220  73 192  66 299  74  52 147  71\n",
      "  97  65 239  68 203 300 103  85 258 320  63  81 148  44  83 145  55 280\n",
      " 260 104 188 333 117 141 132 234 158  39  92  51 135 230  53 209  43 146\n",
      "  67 106 166 276 344  72 237 245 111 326 279  23 138 310 175  96 226 301\n",
      " 334 128 133 124  33 219 241 167 182 196 238 228  48 272 139 186  79 256\n",
      " 243 252 396 340 121 187 289 222 198 284  37 450 233 112 387 347 172  57\n",
      " 137  94 212 476 314   7 173 290 207 205 171  78  91  89 349  40 108 325\n",
      "  76  93 142 343 199 164  16 152  47  59 367 240 208 210  46 435 225 127\n",
      "  26 176 161 307 354  35 206 355 273 223 255 151  30 123 154 149 268 400\n",
      " 275  34   2 242 162 329 285 134 420 247 168 215 360 330 500  62 183 254\n",
      "  15 321 315 169 328  18 181 119 426 379 264  22 157  42 195 309 507 381\n",
      " 271 440 401 249 189 521   1 270 292 515 303  29  38  14 216 504 267 331\n",
      " 261 253 376 227 311  27 217 350  20  11  25 394  12 298 296  49   4 294\n",
      " 246   5  17 363 221 259  24 266 374   9 405  13   8 411 159 541 287  19\n",
      " 214 457 236 282 388 385 335 202  10 269 460 316 191 278 380 257 449 295\n",
      " 153 288  21 520 560 281 386  32 430 274 277 341 392 338 445 517   6 431\n",
      " 371 428 304 390 348 370 408  31 358 489 262 353 490 283 352 550 251 487\n",
      "  36 519 322 382 318 510 525  28 317 514 332 324 308 475 362 248 368 505\n",
      " 398 409 357 339 361 454 336 416 244 399 345 544 540 229 365 356 364 293\n",
      " 346 508 551 421 377   3]\n",
      "Уникальные значения в столбце 'registration_year': [1993 2004 2001 2008 1995 2014 1998 2005 2011 2007 2009 2002 1997 1990\n",
      " 1981 2003 1994 1991 1984 2006 1999 2012 2010 2000 1992 2013 1996 1985\n",
      " 1989 2015 1982 1976 1983 1973 1971 1987 1986 1988 1980 1974 1978 1979\n",
      " 1972 1977 1975]\n"
     ]
    }
   ],
   "source": [
    "for col in df[['power', 'registration_year']]:\n",
    "    unique_values = df[col].unique()\n",
    "    print(f\"Уникальные значения в столбце '{col}': {unique_values}\")"
   ]
  },
  {
   "cell_type": "markdown",
   "metadata": {},
   "source": [
    "`model` и `brand`: 0.93 — очевидная связь\n",
    "\n",
    "`model` и `power`: 0.98 — мощность зависит от модели + это скорее категориальная величина\n",
    "\n",
    "`vehicle_type` и `model`: 0.92 — у моделей конкретные кузовы."
   ]
  },
  {
   "cell_type": "markdown",
   "metadata": {},
   "source": [
    "Признак `model` хоть и выглядит избыточным, но, кажется, его лучше оставить."
   ]
  },
  {
   "cell_type": "code",
   "execution_count": 40,
   "metadata": {},
   "outputs": [],
   "source": [
    "df = df.drop('registration_month', axis = 1)"
   ]
  },
  {
   "cell_type": "markdown",
   "metadata": {},
   "source": [
    "## Обучение моделей"
   ]
  },
  {
   "cell_type": "code",
   "execution_count": 41,
   "metadata": {},
   "outputs": [],
   "source": [
    "X = df.drop('price', axis = 1)\n",
    "y = df['price']\n",
    "X_train_full, X_test, y_train_full, y_test = train_test_split(X, y, test_size=0.2)\n",
    "X_train, X_val, y_train, y_val = train_test_split(X_train_full, y_train_full, test_size=0.25)"
   ]
  },
  {
   "cell_type": "code",
   "execution_count": 42,
   "metadata": {},
   "outputs": [],
   "source": [
    "cat_cols = X_train.select_dtypes(exclude='number').columns.tolist()\n",
    "num_cols = X_train.select_dtypes(include='number').columns.tolist()"
   ]
  },
  {
   "cell_type": "code",
   "execution_count": 43,
   "metadata": {},
   "outputs": [],
   "source": [
    "num_pipe = Pipeline([\n",
    "    ('scaler', StandardScaler())\n",
    "])\n",
    "\n",
    "#категориальные переменные с OneHotEncoder\n",
    "cat_pipe_ohe = Pipeline([\n",
    "    ('imputer', SimpleImputer(strategy='most_frequent')),\n",
    "    ('ohe', OneHotEncoder(handle_unknown='ignore', drop='first'))\n",
    "])\n",
    "\n",
    "#категориальные переменные с TargetEncoder\n",
    "cat_pipe_te = Pipeline([\n",
    "    ('imputer', SimpleImputer(strategy='most_frequent')),\n",
    "    ('te', TargetEncoder())\n",
    "])\n",
    "\n",
    "#препроцессор для линрега\n",
    "data_preprocessor_ohe = ColumnTransformer([\n",
    "    ('cat', cat_pipe_ohe, cat_cols),\n",
    "    ('num', num_pipe, num_cols)\n",
    "])\n",
    "\n",
    "#препроцессор для деревьев\n",
    "data_preprocessor_te = ColumnTransformer([\n",
    "    ('cat', cat_pipe_te, cat_cols),\n",
    "    ('num', 'passthrough', num_cols)\n",
    "])\n",
    "\n",
    "#пайплайн для линрега\n",
    "pipe_linear = Pipeline([\n",
    "    ('preprocessor', data_preprocessor_ohe),\n",
    "    ('models', LinearRegression())\n",
    "])\n",
    "\n",
    "#пайплайн для деревьев\n",
    "pipe_tree = Pipeline([\n",
    "    ('preprocessor', data_preprocessor_te),\n",
    "    ('models', CatBoostRegressor(verbose=False, random_state=1))\n",
    "])\n",
    "\n",
    "\n",
    "pipe_final = Pipeline([\n",
    "    ('preprocessor', data_preprocessor_ohe),\n",
    "    ('models', LinearRegression())\n",
    "])\n",
    "\n",
    "param_grid = [\n",
    "    {\n",
    "        'models': [LinearRegression()],\n",
    "        'preprocessor': [data_preprocessor_ohe],\n",
    "        'preprocessor__num__scaler': [StandardScaler(), MinMaxScaler(), RobustScaler()]\n",
    "    },\n",
    "    {\n",
    "        'models': [CatBoostRegressor(verbose=False, random_state=1)],\n",
    "        'models__depth': [4, 6],\n",
    "        'models__iterations': [50, 100],\n",
    "        'preprocessor': [data_preprocessor_te]\n",
    "    },\n",
    "    {\n",
    "        'models': [LGBMRegressor(verbose=-1, random_state=1)],\n",
    "        'models__num_leaves': [31, 63],\n",
    "        'models__n_estimators': [50, 100],\n",
    "        'preprocessor': [data_preprocessor_te]\n",
    "    }\n",
    "]\n",
    "cv = KFold(n_splits=3, shuffle=True, random_state=1)\n",
    "\n",
    "rand_search = RandomizedSearchCV(\n",
    "    pipe_final,\n",
    "    param_grid,\n",
    "    cv=cv,\n",
    "    scoring='neg_root_mean_squared_error',\n",
    "    random_state=1,\n",
    "    n_jobs=-1,\n",
    "    n_iter = 10,\n",
    "    refit=False,\n",
    "    return_train_score=True\n",
    "    )"
   ]
  },
  {
   "cell_type": "code",
   "execution_count": 44,
   "metadata": {
    "scrolled": true
   },
   "outputs": [
    {
     "name": "stderr",
     "output_type": "stream",
     "text": [
      "/opt/conda/lib/python3.9/site-packages/sklearn/preprocessing/_encoders.py:188: UserWarning: Found unknown categories in columns [2] during transform. These unknown categories will be encoded as all zeros\n",
      "  warnings.warn(\n",
      "/opt/conda/lib/python3.9/site-packages/sklearn/preprocessing/_encoders.py:188: UserWarning: Found unknown categories in columns [2] during transform. These unknown categories will be encoded as all zeros\n",
      "  warnings.warn(\n",
      "/opt/conda/lib/python3.9/site-packages/sklearn/preprocessing/_encoders.py:188: UserWarning: Found unknown categories in columns [2] during transform. These unknown categories will be encoded as all zeros\n",
      "  warnings.warn(\n",
      "/opt/conda/lib/python3.9/site-packages/sklearn/preprocessing/_encoders.py:188: UserWarning: Found unknown categories in columns [2] during transform. These unknown categories will be encoded as all zeros\n",
      "  warnings.warn(\n",
      "/opt/conda/lib/python3.9/site-packages/sklearn/preprocessing/_encoders.py:188: UserWarning: Found unknown categories in columns [2] during transform. These unknown categories will be encoded as all zeros\n",
      "  warnings.warn(\n",
      "/opt/conda/lib/python3.9/site-packages/sklearn/preprocessing/_encoders.py:188: UserWarning: Found unknown categories in columns [2] during transform. These unknown categories will be encoded as all zeros\n",
      "  warnings.warn(\n"
     ]
    },
    {
     "name": "stdout",
     "output_type": "stream",
     "text": [
      "CPU times: user 4min 25s, sys: 2min, total: 6min 25s\n",
      "Wall time: 6min 33s\n"
     ]
    },
    {
     "data": {
      "text/html": [
       "<style>#sk-container-id-1 {color: black;background-color: white;}#sk-container-id-1 pre{padding: 0;}#sk-container-id-1 div.sk-toggleable {background-color: white;}#sk-container-id-1 label.sk-toggleable__label {cursor: pointer;display: block;width: 100%;margin-bottom: 0;padding: 0.3em;box-sizing: border-box;text-align: center;}#sk-container-id-1 label.sk-toggleable__label-arrow:before {content: \"▸\";float: left;margin-right: 0.25em;color: #696969;}#sk-container-id-1 label.sk-toggleable__label-arrow:hover:before {color: black;}#sk-container-id-1 div.sk-estimator:hover label.sk-toggleable__label-arrow:before {color: black;}#sk-container-id-1 div.sk-toggleable__content {max-height: 0;max-width: 0;overflow: hidden;text-align: left;background-color: #f0f8ff;}#sk-container-id-1 div.sk-toggleable__content pre {margin: 0.2em;color: black;border-radius: 0.25em;background-color: #f0f8ff;}#sk-container-id-1 input.sk-toggleable__control:checked~div.sk-toggleable__content {max-height: 200px;max-width: 100%;overflow: auto;}#sk-container-id-1 input.sk-toggleable__control:checked~label.sk-toggleable__label-arrow:before {content: \"▾\";}#sk-container-id-1 div.sk-estimator input.sk-toggleable__control:checked~label.sk-toggleable__label {background-color: #d4ebff;}#sk-container-id-1 div.sk-label input.sk-toggleable__control:checked~label.sk-toggleable__label {background-color: #d4ebff;}#sk-container-id-1 input.sk-hidden--visually {border: 0;clip: rect(1px 1px 1px 1px);clip: rect(1px, 1px, 1px, 1px);height: 1px;margin: -1px;overflow: hidden;padding: 0;position: absolute;width: 1px;}#sk-container-id-1 div.sk-estimator {font-family: monospace;background-color: #f0f8ff;border: 1px dotted black;border-radius: 0.25em;box-sizing: border-box;margin-bottom: 0.5em;}#sk-container-id-1 div.sk-estimator:hover {background-color: #d4ebff;}#sk-container-id-1 div.sk-parallel-item::after {content: \"\";width: 100%;border-bottom: 1px solid gray;flex-grow: 1;}#sk-container-id-1 div.sk-label:hover label.sk-toggleable__label {background-color: #d4ebff;}#sk-container-id-1 div.sk-serial::before {content: \"\";position: absolute;border-left: 1px solid gray;box-sizing: border-box;top: 0;bottom: 0;left: 50%;z-index: 0;}#sk-container-id-1 div.sk-serial {display: flex;flex-direction: column;align-items: center;background-color: white;padding-right: 0.2em;padding-left: 0.2em;position: relative;}#sk-container-id-1 div.sk-item {position: relative;z-index: 1;}#sk-container-id-1 div.sk-parallel {display: flex;align-items: stretch;justify-content: center;background-color: white;position: relative;}#sk-container-id-1 div.sk-item::before, #sk-container-id-1 div.sk-parallel-item::before {content: \"\";position: absolute;border-left: 1px solid gray;box-sizing: border-box;top: 0;bottom: 0;left: 50%;z-index: -1;}#sk-container-id-1 div.sk-parallel-item {display: flex;flex-direction: column;z-index: 1;position: relative;background-color: white;}#sk-container-id-1 div.sk-parallel-item:first-child::after {align-self: flex-end;width: 50%;}#sk-container-id-1 div.sk-parallel-item:last-child::after {align-self: flex-start;width: 50%;}#sk-container-id-1 div.sk-parallel-item:only-child::after {width: 0;}#sk-container-id-1 div.sk-dashed-wrapped {border: 1px dashed gray;margin: 0 0.4em 0.5em 0.4em;box-sizing: border-box;padding-bottom: 0.4em;background-color: white;}#sk-container-id-1 div.sk-label label {font-family: monospace;font-weight: bold;display: inline-block;line-height: 1.2em;}#sk-container-id-1 div.sk-label-container {text-align: center;}#sk-container-id-1 div.sk-container {/* jupyter's `normalize.less` sets `[hidden] { display: none; }` but bootstrap.min.css set `[hidden] { display: none !important; }` so we also need the `!important` here to be able to override the default hidden behavior on the sphinx rendered scikit-learn.org. See: https://github.com/scikit-learn/scikit-learn/issues/21755 */display: inline-block !important;position: relative;}#sk-container-id-1 div.sk-text-repr-fallback {display: none;}</style><div id=\"sk-container-id-1\" class=\"sk-top-container\"><div class=\"sk-text-repr-fallback\"><pre>RandomizedSearchCV(cv=KFold(n_splits=3, random_state=1, shuffle=True),\n",
       "                   estimator=Pipeline(steps=[(&#x27;preprocessor&#x27;,\n",
       "                                              ColumnTransformer(transformers=[(&#x27;cat&#x27;,\n",
       "                                                                               Pipeline(steps=[(&#x27;imputer&#x27;,\n",
       "                                                                                                SimpleImputer(strategy=&#x27;most_frequent&#x27;)),\n",
       "                                                                                               (&#x27;ohe&#x27;,\n",
       "                                                                                                OneHotEncoder(drop=&#x27;first&#x27;,\n",
       "                                                                                                              handle_unknown=&#x27;ignore&#x27;))]),\n",
       "                                                                               [&#x27;vehicle_type&#x27;,\n",
       "                                                                                &#x27;gearbox&#x27;,\n",
       "                                                                                &#x27;model&#x27;,\n",
       "                                                                                &#x27;fuel_type&#x27;,\n",
       "                                                                                &#x27;brand&#x27;,\n",
       "                                                                                &#x27;repaired&#x27;,\n",
       "                                                                                &#x27;engin...\n",
       "                                         &#x27;preprocessor&#x27;: [ColumnTransformer(transformers=[(&#x27;cat&#x27;,\n",
       "                                                                                           Pipeline(steps=[(&#x27;imputer&#x27;,\n",
       "                                                                                                            SimpleImputer(strategy=&#x27;most_frequent&#x27;)),\n",
       "                                                                                                           (&#x27;te&#x27;,\n",
       "                                                                                                            TargetEncoder())]),\n",
       "                                                                                           [&#x27;vehicle_type&#x27;,\n",
       "                                                                                            &#x27;gearbox&#x27;,\n",
       "                                                                                            &#x27;model&#x27;,\n",
       "                                                                                            &#x27;fuel_type&#x27;,\n",
       "                                                                                            &#x27;brand&#x27;,\n",
       "                                                                                            &#x27;repaired&#x27;,\n",
       "                                                                                            &#x27;engine_status&#x27;,\n",
       "                                                                                            &#x27;oldness&#x27;]),\n",
       "                                                                                          (&#x27;num&#x27;,\n",
       "                                                                                           &#x27;passthrough&#x27;,\n",
       "                                                                                           [&#x27;registration_year&#x27;,\n",
       "                                                                                            &#x27;power&#x27;,\n",
       "                                                                                            &#x27;kilometer&#x27;])])]}],\n",
       "                   random_state=1, refit=False, return_train_score=True,\n",
       "                   scoring=&#x27;neg_root_mean_squared_error&#x27;)</pre><b>In a Jupyter environment, please rerun this cell to show the HTML representation or trust the notebook. <br />On GitHub, the HTML representation is unable to render, please try loading this page with nbviewer.org.</b></div><div class=\"sk-container\" hidden><div class=\"sk-item sk-dashed-wrapped\"><div class=\"sk-label-container\"><div class=\"sk-label sk-toggleable\"><input class=\"sk-toggleable__control sk-hidden--visually\" id=\"sk-estimator-id-1\" type=\"checkbox\" ><label for=\"sk-estimator-id-1\" class=\"sk-toggleable__label sk-toggleable__label-arrow\">RandomizedSearchCV</label><div class=\"sk-toggleable__content\"><pre>RandomizedSearchCV(cv=KFold(n_splits=3, random_state=1, shuffle=True),\n",
       "                   estimator=Pipeline(steps=[(&#x27;preprocessor&#x27;,\n",
       "                                              ColumnTransformer(transformers=[(&#x27;cat&#x27;,\n",
       "                                                                               Pipeline(steps=[(&#x27;imputer&#x27;,\n",
       "                                                                                                SimpleImputer(strategy=&#x27;most_frequent&#x27;)),\n",
       "                                                                                               (&#x27;ohe&#x27;,\n",
       "                                                                                                OneHotEncoder(drop=&#x27;first&#x27;,\n",
       "                                                                                                              handle_unknown=&#x27;ignore&#x27;))]),\n",
       "                                                                               [&#x27;vehicle_type&#x27;,\n",
       "                                                                                &#x27;gearbox&#x27;,\n",
       "                                                                                &#x27;model&#x27;,\n",
       "                                                                                &#x27;fuel_type&#x27;,\n",
       "                                                                                &#x27;brand&#x27;,\n",
       "                                                                                &#x27;repaired&#x27;,\n",
       "                                                                                &#x27;engin...\n",
       "                                         &#x27;preprocessor&#x27;: [ColumnTransformer(transformers=[(&#x27;cat&#x27;,\n",
       "                                                                                           Pipeline(steps=[(&#x27;imputer&#x27;,\n",
       "                                                                                                            SimpleImputer(strategy=&#x27;most_frequent&#x27;)),\n",
       "                                                                                                           (&#x27;te&#x27;,\n",
       "                                                                                                            TargetEncoder())]),\n",
       "                                                                                           [&#x27;vehicle_type&#x27;,\n",
       "                                                                                            &#x27;gearbox&#x27;,\n",
       "                                                                                            &#x27;model&#x27;,\n",
       "                                                                                            &#x27;fuel_type&#x27;,\n",
       "                                                                                            &#x27;brand&#x27;,\n",
       "                                                                                            &#x27;repaired&#x27;,\n",
       "                                                                                            &#x27;engine_status&#x27;,\n",
       "                                                                                            &#x27;oldness&#x27;]),\n",
       "                                                                                          (&#x27;num&#x27;,\n",
       "                                                                                           &#x27;passthrough&#x27;,\n",
       "                                                                                           [&#x27;registration_year&#x27;,\n",
       "                                                                                            &#x27;power&#x27;,\n",
       "                                                                                            &#x27;kilometer&#x27;])])]}],\n",
       "                   random_state=1, refit=False, return_train_score=True,\n",
       "                   scoring=&#x27;neg_root_mean_squared_error&#x27;)</pre></div></div></div><div class=\"sk-parallel\"><div class=\"sk-parallel-item\"><div class=\"sk-item\"><div class=\"sk-label-container\"><div class=\"sk-label sk-toggleable\"><input class=\"sk-toggleable__control sk-hidden--visually\" id=\"sk-estimator-id-2\" type=\"checkbox\" ><label for=\"sk-estimator-id-2\" class=\"sk-toggleable__label sk-toggleable__label-arrow\">estimator: Pipeline</label><div class=\"sk-toggleable__content\"><pre>Pipeline(steps=[(&#x27;preprocessor&#x27;,\n",
       "                 ColumnTransformer(transformers=[(&#x27;cat&#x27;,\n",
       "                                                  Pipeline(steps=[(&#x27;imputer&#x27;,\n",
       "                                                                   SimpleImputer(strategy=&#x27;most_frequent&#x27;)),\n",
       "                                                                  (&#x27;ohe&#x27;,\n",
       "                                                                   OneHotEncoder(drop=&#x27;first&#x27;,\n",
       "                                                                                 handle_unknown=&#x27;ignore&#x27;))]),\n",
       "                                                  [&#x27;vehicle_type&#x27;, &#x27;gearbox&#x27;,\n",
       "                                                   &#x27;model&#x27;, &#x27;fuel_type&#x27;,\n",
       "                                                   &#x27;brand&#x27;, &#x27;repaired&#x27;,\n",
       "                                                   &#x27;engine_status&#x27;,\n",
       "                                                   &#x27;oldness&#x27;]),\n",
       "                                                 (&#x27;num&#x27;,\n",
       "                                                  Pipeline(steps=[(&#x27;scaler&#x27;,\n",
       "                                                                   StandardScaler())]),\n",
       "                                                  [&#x27;registration_year&#x27;, &#x27;power&#x27;,\n",
       "                                                   &#x27;kilometer&#x27;])])),\n",
       "                (&#x27;models&#x27;, LinearRegression())])</pre></div></div></div><div class=\"sk-serial\"><div class=\"sk-item\"><div class=\"sk-serial\"><div class=\"sk-item sk-dashed-wrapped\"><div class=\"sk-label-container\"><div class=\"sk-label sk-toggleable\"><input class=\"sk-toggleable__control sk-hidden--visually\" id=\"sk-estimator-id-3\" type=\"checkbox\" ><label for=\"sk-estimator-id-3\" class=\"sk-toggleable__label sk-toggleable__label-arrow\">preprocessor: ColumnTransformer</label><div class=\"sk-toggleable__content\"><pre>ColumnTransformer(transformers=[(&#x27;cat&#x27;,\n",
       "                                 Pipeline(steps=[(&#x27;imputer&#x27;,\n",
       "                                                  SimpleImputer(strategy=&#x27;most_frequent&#x27;)),\n",
       "                                                 (&#x27;ohe&#x27;,\n",
       "                                                  OneHotEncoder(drop=&#x27;first&#x27;,\n",
       "                                                                handle_unknown=&#x27;ignore&#x27;))]),\n",
       "                                 [&#x27;vehicle_type&#x27;, &#x27;gearbox&#x27;, &#x27;model&#x27;,\n",
       "                                  &#x27;fuel_type&#x27;, &#x27;brand&#x27;, &#x27;repaired&#x27;,\n",
       "                                  &#x27;engine_status&#x27;, &#x27;oldness&#x27;]),\n",
       "                                (&#x27;num&#x27;,\n",
       "                                 Pipeline(steps=[(&#x27;scaler&#x27;, StandardScaler())]),\n",
       "                                 [&#x27;registration_year&#x27;, &#x27;power&#x27;, &#x27;kilometer&#x27;])])</pre></div></div></div><div class=\"sk-parallel\"><div class=\"sk-parallel-item\"><div class=\"sk-item\"><div class=\"sk-label-container\"><div class=\"sk-label sk-toggleable\"><input class=\"sk-toggleable__control sk-hidden--visually\" id=\"sk-estimator-id-4\" type=\"checkbox\" ><label for=\"sk-estimator-id-4\" class=\"sk-toggleable__label sk-toggleable__label-arrow\">cat</label><div class=\"sk-toggleable__content\"><pre>[&#x27;vehicle_type&#x27;, &#x27;gearbox&#x27;, &#x27;model&#x27;, &#x27;fuel_type&#x27;, &#x27;brand&#x27;, &#x27;repaired&#x27;, &#x27;engine_status&#x27;, &#x27;oldness&#x27;]</pre></div></div></div><div class=\"sk-serial\"><div class=\"sk-item\"><div class=\"sk-serial\"><div class=\"sk-item\"><div class=\"sk-estimator sk-toggleable\"><input class=\"sk-toggleable__control sk-hidden--visually\" id=\"sk-estimator-id-5\" type=\"checkbox\" ><label for=\"sk-estimator-id-5\" class=\"sk-toggleable__label sk-toggleable__label-arrow\">SimpleImputer</label><div class=\"sk-toggleable__content\"><pre>SimpleImputer(strategy=&#x27;most_frequent&#x27;)</pre></div></div></div><div class=\"sk-item\"><div class=\"sk-estimator sk-toggleable\"><input class=\"sk-toggleable__control sk-hidden--visually\" id=\"sk-estimator-id-6\" type=\"checkbox\" ><label for=\"sk-estimator-id-6\" class=\"sk-toggleable__label sk-toggleable__label-arrow\">OneHotEncoder</label><div class=\"sk-toggleable__content\"><pre>OneHotEncoder(drop=&#x27;first&#x27;, handle_unknown=&#x27;ignore&#x27;)</pre></div></div></div></div></div></div></div></div><div class=\"sk-parallel-item\"><div class=\"sk-item\"><div class=\"sk-label-container\"><div class=\"sk-label sk-toggleable\"><input class=\"sk-toggleable__control sk-hidden--visually\" id=\"sk-estimator-id-7\" type=\"checkbox\" ><label for=\"sk-estimator-id-7\" class=\"sk-toggleable__label sk-toggleable__label-arrow\">num</label><div class=\"sk-toggleable__content\"><pre>[&#x27;registration_year&#x27;, &#x27;power&#x27;, &#x27;kilometer&#x27;]</pre></div></div></div><div class=\"sk-serial\"><div class=\"sk-item\"><div class=\"sk-serial\"><div class=\"sk-item\"><div class=\"sk-estimator sk-toggleable\"><input class=\"sk-toggleable__control sk-hidden--visually\" id=\"sk-estimator-id-8\" type=\"checkbox\" ><label for=\"sk-estimator-id-8\" class=\"sk-toggleable__label sk-toggleable__label-arrow\">StandardScaler</label><div class=\"sk-toggleable__content\"><pre>StandardScaler()</pre></div></div></div></div></div></div></div></div></div></div><div class=\"sk-item\"><div class=\"sk-estimator sk-toggleable\"><input class=\"sk-toggleable__control sk-hidden--visually\" id=\"sk-estimator-id-9\" type=\"checkbox\" ><label for=\"sk-estimator-id-9\" class=\"sk-toggleable__label sk-toggleable__label-arrow\">LinearRegression</label><div class=\"sk-toggleable__content\"><pre>LinearRegression()</pre></div></div></div></div></div></div></div></div></div></div></div></div>"
      ],
      "text/plain": [
       "RandomizedSearchCV(cv=KFold(n_splits=3, random_state=1, shuffle=True),\n",
       "                   estimator=Pipeline(steps=[('preprocessor',\n",
       "                                              ColumnTransformer(transformers=[('cat',\n",
       "                                                                               Pipeline(steps=[('imputer',\n",
       "                                                                                                SimpleImputer(strategy='most_frequent')),\n",
       "                                                                                               ('ohe',\n",
       "                                                                                                OneHotEncoder(drop='first',\n",
       "                                                                                                              handle_unknown='ignore'))]),\n",
       "                                                                               ['vehicle_type',\n",
       "                                                                                'gearbox',\n",
       "                                                                                'model',\n",
       "                                                                                'fuel_type',\n",
       "                                                                                'brand',\n",
       "                                                                                'repaired',\n",
       "                                                                                'engin...\n",
       "                                         'preprocessor': [ColumnTransformer(transformers=[('cat',\n",
       "                                                                                           Pipeline(steps=[('imputer',\n",
       "                                                                                                            SimpleImputer(strategy='most_frequent')),\n",
       "                                                                                                           ('te',\n",
       "                                                                                                            TargetEncoder())]),\n",
       "                                                                                           ['vehicle_type',\n",
       "                                                                                            'gearbox',\n",
       "                                                                                            'model',\n",
       "                                                                                            'fuel_type',\n",
       "                                                                                            'brand',\n",
       "                                                                                            'repaired',\n",
       "                                                                                            'engine_status',\n",
       "                                                                                            'oldness']),\n",
       "                                                                                          ('num',\n",
       "                                                                                           'passthrough',\n",
       "                                                                                           ['registration_year',\n",
       "                                                                                            'power',\n",
       "                                                                                            'kilometer'])])]}],\n",
       "                   random_state=1, refit=False, return_train_score=True,\n",
       "                   scoring='neg_root_mean_squared_error')"
      ]
     },
     "execution_count": 44,
     "metadata": {},
     "output_type": "execute_result"
    }
   ],
   "source": [
    "%%time\n",
    "\n",
    "rand_search.fit(X_train, y_train)\n"
   ]
  },
  {
   "cell_type": "code",
   "execution_count": 45,
   "metadata": {},
   "outputs": [
    {
     "data": {
      "text/html": [
       "<div>\n",
       "<style scoped>\n",
       "    .dataframe tbody tr th:only-of-type {\n",
       "        vertical-align: middle;\n",
       "    }\n",
       "\n",
       "    .dataframe tbody tr th {\n",
       "        vertical-align: top;\n",
       "    }\n",
       "\n",
       "    .dataframe thead th {\n",
       "        text-align: right;\n",
       "    }\n",
       "</style>\n",
       "<table border=\"1\" class=\"dataframe\">\n",
       "  <thead>\n",
       "    <tr style=\"text-align: right;\">\n",
       "      <th></th>\n",
       "      <th>mean_fit_time</th>\n",
       "      <th>std_fit_time</th>\n",
       "      <th>mean_score_time</th>\n",
       "      <th>std_score_time</th>\n",
       "      <th>param_preprocessor__num__scaler</th>\n",
       "      <th>param_preprocessor</th>\n",
       "      <th>param_models</th>\n",
       "      <th>param_models__iterations</th>\n",
       "      <th>param_models__depth</th>\n",
       "      <th>param_models__num_leaves</th>\n",
       "      <th>...</th>\n",
       "      <th>split0_test_score</th>\n",
       "      <th>split1_test_score</th>\n",
       "      <th>split2_test_score</th>\n",
       "      <th>mean_test_score</th>\n",
       "      <th>std_test_score</th>\n",
       "      <th>split0_train_score</th>\n",
       "      <th>split1_train_score</th>\n",
       "      <th>split2_train_score</th>\n",
       "      <th>mean_train_score</th>\n",
       "      <th>std_train_score</th>\n",
       "    </tr>\n",
       "    <tr>\n",
       "      <th>rank_test_score</th>\n",
       "      <th></th>\n",
       "      <th></th>\n",
       "      <th></th>\n",
       "      <th></th>\n",
       "      <th></th>\n",
       "      <th></th>\n",
       "      <th></th>\n",
       "      <th></th>\n",
       "      <th></th>\n",
       "      <th></th>\n",
       "      <th></th>\n",
       "      <th></th>\n",
       "      <th></th>\n",
       "      <th></th>\n",
       "      <th></th>\n",
       "      <th></th>\n",
       "      <th></th>\n",
       "      <th></th>\n",
       "      <th></th>\n",
       "      <th></th>\n",
       "      <th></th>\n",
       "    </tr>\n",
       "  </thead>\n",
       "  <tbody>\n",
       "    <tr>\n",
       "      <th>1</th>\n",
       "      <td>6.189159</td>\n",
       "      <td>0.247026</td>\n",
       "      <td>0.769937</td>\n",
       "      <td>0.041775</td>\n",
       "      <td>NaN</td>\n",
       "      <td>ColumnTransformer(transformers=[('cat',\\n     ...</td>\n",
       "      <td>LGBMRegressor(random_state=1, verbose=-1)</td>\n",
       "      <td>NaN</td>\n",
       "      <td>NaN</td>\n",
       "      <td>63</td>\n",
       "      <td>...</td>\n",
       "      <td>-1596.751894</td>\n",
       "      <td>-1597.903963</td>\n",
       "      <td>-1598.909499</td>\n",
       "      <td>-1597.855119</td>\n",
       "      <td>0.881516</td>\n",
       "      <td>-1509.301816</td>\n",
       "      <td>-1507.938835</td>\n",
       "      <td>-1505.474167</td>\n",
       "      <td>-1507.571606</td>\n",
       "      <td>1.584060</td>\n",
       "    </tr>\n",
       "    <tr>\n",
       "      <th>2</th>\n",
       "      <td>4.330935</td>\n",
       "      <td>0.064114</td>\n",
       "      <td>0.290726</td>\n",
       "      <td>0.007908</td>\n",
       "      <td>NaN</td>\n",
       "      <td>ColumnTransformer(transformers=[('cat',\\n     ...</td>\n",
       "      <td>&lt;catboost.core.CatBoostRegressor object at 0x7...</td>\n",
       "      <td>100</td>\n",
       "      <td>6</td>\n",
       "      <td>NaN</td>\n",
       "      <td>...</td>\n",
       "      <td>-1623.716870</td>\n",
       "      <td>-1621.431052</td>\n",
       "      <td>-1623.583127</td>\n",
       "      <td>-1622.910350</td>\n",
       "      <td>1.047446</td>\n",
       "      <td>-1544.663321</td>\n",
       "      <td>-1541.941285</td>\n",
       "      <td>-1544.529011</td>\n",
       "      <td>-1543.711206</td>\n",
       "      <td>1.252723</td>\n",
       "    </tr>\n",
       "    <tr>\n",
       "      <th>3</th>\n",
       "      <td>4.812946</td>\n",
       "      <td>0.115066</td>\n",
       "      <td>0.701495</td>\n",
       "      <td>0.002455</td>\n",
       "      <td>NaN</td>\n",
       "      <td>ColumnTransformer(transformers=[('cat',\\n     ...</td>\n",
       "      <td>LGBMRegressor(random_state=1, verbose=-1)</td>\n",
       "      <td>NaN</td>\n",
       "      <td>NaN</td>\n",
       "      <td>31</td>\n",
       "      <td>...</td>\n",
       "      <td>-1636.596190</td>\n",
       "      <td>-1634.258401</td>\n",
       "      <td>-1637.381606</td>\n",
       "      <td>-1636.078733</td>\n",
       "      <td>1.326505</td>\n",
       "      <td>-1588.704270</td>\n",
       "      <td>-1585.889549</td>\n",
       "      <td>-1584.072520</td>\n",
       "      <td>-1586.222113</td>\n",
       "      <td>1.905470</td>\n",
       "    </tr>\n",
       "    <tr>\n",
       "      <th>4</th>\n",
       "      <td>4.485552</td>\n",
       "      <td>0.139622</td>\n",
       "      <td>0.538763</td>\n",
       "      <td>0.043031</td>\n",
       "      <td>NaN</td>\n",
       "      <td>ColumnTransformer(transformers=[('cat',\\n     ...</td>\n",
       "      <td>LGBMRegressor(random_state=1, verbose=-1)</td>\n",
       "      <td>NaN</td>\n",
       "      <td>NaN</td>\n",
       "      <td>63</td>\n",
       "      <td>...</td>\n",
       "      <td>-1643.749118</td>\n",
       "      <td>-1644.512331</td>\n",
       "      <td>-1646.296707</td>\n",
       "      <td>-1644.852719</td>\n",
       "      <td>1.067536</td>\n",
       "      <td>-1591.845214</td>\n",
       "      <td>-1590.952157</td>\n",
       "      <td>-1592.100205</td>\n",
       "      <td>-1591.632526</td>\n",
       "      <td>0.492227</td>\n",
       "    </tr>\n",
       "    <tr>\n",
       "      <th>5</th>\n",
       "      <td>4.167779</td>\n",
       "      <td>0.042984</td>\n",
       "      <td>0.275985</td>\n",
       "      <td>0.004621</td>\n",
       "      <td>NaN</td>\n",
       "      <td>ColumnTransformer(transformers=[('cat',\\n     ...</td>\n",
       "      <td>&lt;catboost.core.CatBoostRegressor object at 0x7...</td>\n",
       "      <td>100</td>\n",
       "      <td>4</td>\n",
       "      <td>NaN</td>\n",
       "      <td>...</td>\n",
       "      <td>-1668.445080</td>\n",
       "      <td>-1666.107917</td>\n",
       "      <td>-1670.153676</td>\n",
       "      <td>-1668.235558</td>\n",
       "      <td>1.658306</td>\n",
       "      <td>-1628.999892</td>\n",
       "      <td>-1627.562311</td>\n",
       "      <td>-1634.397355</td>\n",
       "      <td>-1630.319853</td>\n",
       "      <td>2.942355</td>\n",
       "    </tr>\n",
       "    <tr>\n",
       "      <th>6</th>\n",
       "      <td>3.739300</td>\n",
       "      <td>0.049290</td>\n",
       "      <td>0.565054</td>\n",
       "      <td>0.041297</td>\n",
       "      <td>NaN</td>\n",
       "      <td>ColumnTransformer(transformers=[('cat',\\n     ...</td>\n",
       "      <td>LGBMRegressor(random_state=1, verbose=-1)</td>\n",
       "      <td>NaN</td>\n",
       "      <td>NaN</td>\n",
       "      <td>31</td>\n",
       "      <td>...</td>\n",
       "      <td>-1692.338277</td>\n",
       "      <td>-1696.096529</td>\n",
       "      <td>-1697.872037</td>\n",
       "      <td>-1695.435614</td>\n",
       "      <td>2.306979</td>\n",
       "      <td>-1665.540482</td>\n",
       "      <td>-1665.447380</td>\n",
       "      <td>-1666.583282</td>\n",
       "      <td>-1665.857048</td>\n",
       "      <td>0.514930</td>\n",
       "    </tr>\n",
       "    <tr>\n",
       "      <th>7</th>\n",
       "      <td>3.481015</td>\n",
       "      <td>0.173317</td>\n",
       "      <td>0.268673</td>\n",
       "      <td>0.007908</td>\n",
       "      <td>NaN</td>\n",
       "      <td>ColumnTransformer(transformers=[('cat',\\n     ...</td>\n",
       "      <td>&lt;catboost.core.CatBoostRegressor object at 0x7...</td>\n",
       "      <td>50</td>\n",
       "      <td>4</td>\n",
       "      <td>NaN</td>\n",
       "      <td>...</td>\n",
       "      <td>-1717.277570</td>\n",
       "      <td>-1722.365033</td>\n",
       "      <td>-1724.505934</td>\n",
       "      <td>-1721.382846</td>\n",
       "      <td>3.031593</td>\n",
       "      <td>-1696.832601</td>\n",
       "      <td>-1697.488876</td>\n",
       "      <td>-1705.177219</td>\n",
       "      <td>-1699.832899</td>\n",
       "      <td>3.788491</td>\n",
       "    </tr>\n",
       "    <tr>\n",
       "      <th>8</th>\n",
       "      <td>29.457716</td>\n",
       "      <td>0.873665</td>\n",
       "      <td>0.420860</td>\n",
       "      <td>0.006986</td>\n",
       "      <td>RobustScaler()</td>\n",
       "      <td>ColumnTransformer(transformers=[('cat',\\n     ...</td>\n",
       "      <td>LinearRegression()</td>\n",
       "      <td>NaN</td>\n",
       "      <td>NaN</td>\n",
       "      <td>NaN</td>\n",
       "      <td>...</td>\n",
       "      <td>-2373.648900</td>\n",
       "      <td>-2357.529518</td>\n",
       "      <td>-2358.227958</td>\n",
       "      <td>-2363.135459</td>\n",
       "      <td>7.439592</td>\n",
       "      <td>-2349.340460</td>\n",
       "      <td>-2357.278577</td>\n",
       "      <td>-2357.139567</td>\n",
       "      <td>-2354.586201</td>\n",
       "      <td>3.709733</td>\n",
       "    </tr>\n",
       "    <tr>\n",
       "      <th>9</th>\n",
       "      <td>27.392429</td>\n",
       "      <td>0.893347</td>\n",
       "      <td>0.417734</td>\n",
       "      <td>0.005732</td>\n",
       "      <td>MinMaxScaler()</td>\n",
       "      <td>ColumnTransformer(transformers=[('cat',\\n     ...</td>\n",
       "      <td>LinearRegression()</td>\n",
       "      <td>NaN</td>\n",
       "      <td>NaN</td>\n",
       "      <td>NaN</td>\n",
       "      <td>...</td>\n",
       "      <td>-2373.649459</td>\n",
       "      <td>-2357.534422</td>\n",
       "      <td>-2358.225380</td>\n",
       "      <td>-2363.136421</td>\n",
       "      <td>7.439191</td>\n",
       "      <td>-2349.339974</td>\n",
       "      <td>-2357.278172</td>\n",
       "      <td>-2357.139359</td>\n",
       "      <td>-2354.585835</td>\n",
       "      <td>3.709817</td>\n",
       "    </tr>\n",
       "    <tr>\n",
       "      <th>10</th>\n",
       "      <td>30.327551</td>\n",
       "      <td>0.330812</td>\n",
       "      <td>0.445402</td>\n",
       "      <td>0.045453</td>\n",
       "      <td>StandardScaler()</td>\n",
       "      <td>ColumnTransformer(transformers=[('cat',\\n     ...</td>\n",
       "      <td>LinearRegression()</td>\n",
       "      <td>NaN</td>\n",
       "      <td>NaN</td>\n",
       "      <td>NaN</td>\n",
       "      <td>...</td>\n",
       "      <td>-2373.643892</td>\n",
       "      <td>-2357.536726</td>\n",
       "      <td>-2358.229654</td>\n",
       "      <td>-2363.136757</td>\n",
       "      <td>7.435050</td>\n",
       "      <td>-2349.340682</td>\n",
       "      <td>-2357.278409</td>\n",
       "      <td>-2357.139491</td>\n",
       "      <td>-2354.586194</td>\n",
       "      <td>3.709570</td>\n",
       "    </tr>\n",
       "  </tbody>\n",
       "</table>\n",
       "<p>10 rows × 22 columns</p>\n",
       "</div>"
      ],
      "text/plain": [
       "                 mean_fit_time  std_fit_time  mean_score_time  std_score_time  \\\n",
       "rank_test_score                                                                 \n",
       "1                     6.189159      0.247026         0.769937        0.041775   \n",
       "2                     4.330935      0.064114         0.290726        0.007908   \n",
       "3                     4.812946      0.115066         0.701495        0.002455   \n",
       "4                     4.485552      0.139622         0.538763        0.043031   \n",
       "5                     4.167779      0.042984         0.275985        0.004621   \n",
       "6                     3.739300      0.049290         0.565054        0.041297   \n",
       "7                     3.481015      0.173317         0.268673        0.007908   \n",
       "8                    29.457716      0.873665         0.420860        0.006986   \n",
       "9                    27.392429      0.893347         0.417734        0.005732   \n",
       "10                   30.327551      0.330812         0.445402        0.045453   \n",
       "\n",
       "                param_preprocessor__num__scaler  \\\n",
       "rank_test_score                                   \n",
       "1                                           NaN   \n",
       "2                                           NaN   \n",
       "3                                           NaN   \n",
       "4                                           NaN   \n",
       "5                                           NaN   \n",
       "6                                           NaN   \n",
       "7                                           NaN   \n",
       "8                                RobustScaler()   \n",
       "9                                MinMaxScaler()   \n",
       "10                             StandardScaler()   \n",
       "\n",
       "                                                param_preprocessor  \\\n",
       "rank_test_score                                                      \n",
       "1                ColumnTransformer(transformers=[('cat',\\n     ...   \n",
       "2                ColumnTransformer(transformers=[('cat',\\n     ...   \n",
       "3                ColumnTransformer(transformers=[('cat',\\n     ...   \n",
       "4                ColumnTransformer(transformers=[('cat',\\n     ...   \n",
       "5                ColumnTransformer(transformers=[('cat',\\n     ...   \n",
       "6                ColumnTransformer(transformers=[('cat',\\n     ...   \n",
       "7                ColumnTransformer(transformers=[('cat',\\n     ...   \n",
       "8                ColumnTransformer(transformers=[('cat',\\n     ...   \n",
       "9                ColumnTransformer(transformers=[('cat',\\n     ...   \n",
       "10               ColumnTransformer(transformers=[('cat',\\n     ...   \n",
       "\n",
       "                                                      param_models  \\\n",
       "rank_test_score                                                      \n",
       "1                        LGBMRegressor(random_state=1, verbose=-1)   \n",
       "2                <catboost.core.CatBoostRegressor object at 0x7...   \n",
       "3                        LGBMRegressor(random_state=1, verbose=-1)   \n",
       "4                        LGBMRegressor(random_state=1, verbose=-1)   \n",
       "5                <catboost.core.CatBoostRegressor object at 0x7...   \n",
       "6                        LGBMRegressor(random_state=1, verbose=-1)   \n",
       "7                <catboost.core.CatBoostRegressor object at 0x7...   \n",
       "8                                               LinearRegression()   \n",
       "9                                               LinearRegression()   \n",
       "10                                              LinearRegression()   \n",
       "\n",
       "                param_models__iterations param_models__depth  \\\n",
       "rank_test_score                                                \n",
       "1                                    NaN                 NaN   \n",
       "2                                    100                   6   \n",
       "3                                    NaN                 NaN   \n",
       "4                                    NaN                 NaN   \n",
       "5                                    100                   4   \n",
       "6                                    NaN                 NaN   \n",
       "7                                     50                   4   \n",
       "8                                    NaN                 NaN   \n",
       "9                                    NaN                 NaN   \n",
       "10                                   NaN                 NaN   \n",
       "\n",
       "                param_models__num_leaves  ... split0_test_score  \\\n",
       "rank_test_score                           ...                     \n",
       "1                                     63  ...      -1596.751894   \n",
       "2                                    NaN  ...      -1623.716870   \n",
       "3                                     31  ...      -1636.596190   \n",
       "4                                     63  ...      -1643.749118   \n",
       "5                                    NaN  ...      -1668.445080   \n",
       "6                                     31  ...      -1692.338277   \n",
       "7                                    NaN  ...      -1717.277570   \n",
       "8                                    NaN  ...      -2373.648900   \n",
       "9                                    NaN  ...      -2373.649459   \n",
       "10                                   NaN  ...      -2373.643892   \n",
       "\n",
       "                split1_test_score  split2_test_score  mean_test_score  \\\n",
       "rank_test_score                                                         \n",
       "1                    -1597.903963       -1598.909499     -1597.855119   \n",
       "2                    -1621.431052       -1623.583127     -1622.910350   \n",
       "3                    -1634.258401       -1637.381606     -1636.078733   \n",
       "4                    -1644.512331       -1646.296707     -1644.852719   \n",
       "5                    -1666.107917       -1670.153676     -1668.235558   \n",
       "6                    -1696.096529       -1697.872037     -1695.435614   \n",
       "7                    -1722.365033       -1724.505934     -1721.382846   \n",
       "8                    -2357.529518       -2358.227958     -2363.135459   \n",
       "9                    -2357.534422       -2358.225380     -2363.136421   \n",
       "10                   -2357.536726       -2358.229654     -2363.136757   \n",
       "\n",
       "                 std_test_score  split0_train_score  split1_train_score  \\\n",
       "rank_test_score                                                           \n",
       "1                      0.881516        -1509.301816        -1507.938835   \n",
       "2                      1.047446        -1544.663321        -1541.941285   \n",
       "3                      1.326505        -1588.704270        -1585.889549   \n",
       "4                      1.067536        -1591.845214        -1590.952157   \n",
       "5                      1.658306        -1628.999892        -1627.562311   \n",
       "6                      2.306979        -1665.540482        -1665.447380   \n",
       "7                      3.031593        -1696.832601        -1697.488876   \n",
       "8                      7.439592        -2349.340460        -2357.278577   \n",
       "9                      7.439191        -2349.339974        -2357.278172   \n",
       "10                     7.435050        -2349.340682        -2357.278409   \n",
       "\n",
       "                 split2_train_score  mean_train_score  std_train_score  \n",
       "rank_test_score                                                         \n",
       "1                      -1505.474167      -1507.571606         1.584060  \n",
       "2                      -1544.529011      -1543.711206         1.252723  \n",
       "3                      -1584.072520      -1586.222113         1.905470  \n",
       "4                      -1592.100205      -1591.632526         0.492227  \n",
       "5                      -1634.397355      -1630.319853         2.942355  \n",
       "6                      -1666.583282      -1665.857048         0.514930  \n",
       "7                      -1705.177219      -1699.832899         3.788491  \n",
       "8                      -2357.139567      -2354.586201         3.709733  \n",
       "9                      -2357.139359      -2354.585835         3.709817  \n",
       "10                     -2357.139491      -2354.586194         3.709570  \n",
       "\n",
       "[10 rows x 22 columns]"
      ]
     },
     "metadata": {},
     "output_type": "display_data"
    }
   ],
   "source": [
    "params_df = pd.DataFrame(rand_search.cv_results_).set_index('rank_test_score').sort_index(ascending=True)\n",
    "\n",
    "display(params_df)"
   ]
  },
  {
   "cell_type": "markdown",
   "metadata": {},
   "source": [
    "Получили список с лучшими моделями. В топ 5 вошли *LGBMR* и *Catboost* Далее обучаем каждую отдельно по подобранным гиперпараметрам. Линейная регрессия не прошла по условию *RMSE* < 2500."
   ]
  },
  {
   "cell_type": "markdown",
   "metadata": {},
   "source": [
    "## Анализ моделей"
   ]
  },
  {
   "cell_type": "markdown",
   "metadata": {},
   "source": [
    "Напишем функции для расчета лучших моделей. "
   ]
  },
  {
   "cell_type": "code",
   "execution_count": 46,
   "metadata": {},
   "outputs": [],
   "source": [
    "def catboost_manual(depth, iterations, X_train, y_train, X_val, y_val, cat_cols, num_cols, res_df=None):\n",
    "    \n",
    "    cat_pipe = Pipeline([\n",
    "        ('imputer', SimpleImputer(strategy='most_frequent')),\n",
    "        ('te', TargetEncoder())\n",
    "    ])\n",
    "\n",
    "    preprocessor = ColumnTransformer([\n",
    "        ('cat', cat_pipe, cat_cols),\n",
    "        ('num', 'passthrough', num_cols)\n",
    "    ])\n",
    "    \n",
    "    model = CatBoostRegressor(\n",
    "        depth=depth,\n",
    "        iterations=iterations,\n",
    "        verbose=False,\n",
    "        random_state=1\n",
    "    )\n",
    "    \n",
    "    final_pipe = Pipeline([\n",
    "        ('preprocessor', preprocessor),\n",
    "        ('model', model)\n",
    "    ])\n",
    "    \n",
    "    start_train = time.time()\n",
    "    final_pipe.fit(X_train, y_train)\n",
    "    train_time = time.time() - start_train\n",
    "    \n",
    "    start_predict = time.time()\n",
    "    y_pred = final_pipe.predict(X_val)\n",
    "    predict_time = time.time() - start_predict\n",
    "    \n",
    "    rmse = mean_squared_error(y_val, y_pred, squared=False)\n",
    "    \n",
    "    new_row = pd.DataFrame([{\n",
    "        'model': 'CatBoostRegressor',\n",
    "        'depth/num_leaves': depth,\n",
    "        'iterations': iterations,\n",
    "        'rmse': rmse,\n",
    "        'train_time_sec': train_time,\n",
    "        'predict_time_sec': predict_time,\n",
    "    }])\n",
    "    \n",
    "    if res_df is not None:\n",
    "        return (pd.concat([res_df, new_row], ignore_index=True), final_pipe)\n",
    "    return (new_row, final_pipe)"
   ]
  },
  {
   "cell_type": "code",
   "execution_count": 47,
   "metadata": {},
   "outputs": [],
   "source": [
    "def LightGBM_manual(num_leaves, n_estimators, X_train, y_train, X_val, y_val, cat_cols, num_cols,  res_df=None):\n",
    "    \n",
    "    num_pipe = Pipeline([\n",
    "        ('scaler', StandardScaler())\n",
    "    ])\n",
    "\n",
    "    \n",
    "    cat_pipe = Pipeline([\n",
    "        ('imputer', SimpleImputer(strategy='most_frequent')),\n",
    "        ('te', TargetEncoder())\n",
    "    ])\n",
    "\n",
    "    preprocessor = ColumnTransformer([\n",
    "        ('cat', cat_pipe, cat_cols),\n",
    "        ('num', num_pipe, num_cols)\n",
    "    ])\n",
    "    \n",
    "    model = LGBMRegressor(\n",
    "        num_leaves=num_leaves,\n",
    "        n_estimators=n_estimators,\n",
    "        verbose=0,\n",
    "        random_state=1\n",
    "    )\n",
    "    \n",
    "    final_pipe = Pipeline([\n",
    "        ('preprocessor', preprocessor),\n",
    "        ('model', model)\n",
    "    ])\n",
    "    \n",
    "    start_train = time.time()\n",
    "    final_pipe.fit(X_train, y_train)\n",
    "    train_time = time.time() - start_train\n",
    "    \n",
    "    start_predict = time.time()\n",
    "    y_pred = final_pipe.predict(X_val)\n",
    "    predict_time = time.time() - start_predict\n",
    "    \n",
    "    rmse = mean_squared_error(y_val, y_pred, squared=False)\n",
    "    \n",
    "    new_row = pd.DataFrame([{\n",
    "        'model': 'LGBMRegressor',\n",
    "        'depth/num_leaves': num_leaves,\n",
    "        'iterations': n_estimators,\n",
    "        'rmse': rmse,\n",
    "        'train_time_sec': train_time,\n",
    "        'predict_time_sec': predict_time,\n",
    "    }])    \n",
    "    \n",
    "    if res_df is not None:\n",
    "        return (pd.concat([res_df, new_row], ignore_index=True), final_pipe)\n",
    "    return (new_row, final_pipe)"
   ]
  },
  {
   "cell_type": "markdown",
   "metadata": {},
   "source": [
    "Выбираем гиперпараметры:"
   ]
  },
  {
   "cell_type": "code",
   "execution_count": 48,
   "metadata": {
    "scrolled": true
   },
   "outputs": [
    {
     "data": {
      "text/plain": [
       "{'preprocessor': ColumnTransformer(transformers=[('cat',\n",
       "                                  Pipeline(steps=[('imputer',\n",
       "                                                   SimpleImputer(strategy='most_frequent')),\n",
       "                                                  ('te', TargetEncoder())]),\n",
       "                                  ['vehicle_type', 'gearbox', 'model',\n",
       "                                   'fuel_type', 'brand', 'repaired',\n",
       "                                   'engine_status', 'oldness']),\n",
       "                                 ('num', 'passthrough',\n",
       "                                  ['registration_year', 'power', 'kilometer'])]),\n",
       " 'models__iterations': 100,\n",
       " 'models__depth': 4,\n",
       " 'models': <catboost.core.CatBoostRegressor at 0x7fcbb4cfcf70>}"
      ]
     },
     "execution_count": 48,
     "metadata": {},
     "output_type": "execute_result"
    }
   ],
   "source": [
    "params_df.iloc[4]['params']"
   ]
  },
  {
   "cell_type": "markdown",
   "metadata": {},
   "source": [
    "Заново обучаем модели. Возьмем две каждого типа:"
   ]
  },
  {
   "cell_type": "code",
   "execution_count": 49,
   "metadata": {
    "scrolled": true
   },
   "outputs": [
    {
     "name": "stdout",
     "output_type": "stream",
     "text": [
      "[LightGBM] [Warning] Auto-choosing row-wise multi-threading, the overhead of testing was 0.005756 seconds.\n",
      "You can set `force_row_wise=true` to remove the overhead.\n",
      "And if memory is not enough, you can set `force_col_wise=true`.\n",
      "[LightGBM] [Warning] Auto-choosing row-wise multi-threading, the overhead of testing was 0.095853 seconds.\n",
      "You can set `force_row_wise=true` to remove the overhead.\n",
      "And if memory is not enough, you can set `force_col_wise=true`.\n"
     ]
    },
    {
     "data": {
      "text/html": [
       "<div>\n",
       "<style scoped>\n",
       "    .dataframe tbody tr th:only-of-type {\n",
       "        vertical-align: middle;\n",
       "    }\n",
       "\n",
       "    .dataframe tbody tr th {\n",
       "        vertical-align: top;\n",
       "    }\n",
       "\n",
       "    .dataframe thead th {\n",
       "        text-align: right;\n",
       "    }\n",
       "</style>\n",
       "<table border=\"1\" class=\"dataframe\">\n",
       "  <thead>\n",
       "    <tr style=\"text-align: right;\">\n",
       "      <th></th>\n",
       "      <th>model</th>\n",
       "      <th>depth/num_leaves</th>\n",
       "      <th>iterations</th>\n",
       "      <th>rmse</th>\n",
       "      <th>train_time_sec</th>\n",
       "      <th>predict_time_sec</th>\n",
       "    </tr>\n",
       "  </thead>\n",
       "  <tbody>\n",
       "    <tr>\n",
       "      <th>0</th>\n",
       "      <td>LGBMRegressor</td>\n",
       "      <td>63</td>\n",
       "      <td>100</td>\n",
       "      <td>1587.950164</td>\n",
       "      <td>8.929570</td>\n",
       "      <td>0.715070</td>\n",
       "    </tr>\n",
       "    <tr>\n",
       "      <th>1</th>\n",
       "      <td>CatBoostRegressor</td>\n",
       "      <td>6</td>\n",
       "      <td>100</td>\n",
       "      <td>1615.135457</td>\n",
       "      <td>5.804262</td>\n",
       "      <td>0.256212</td>\n",
       "    </tr>\n",
       "    <tr>\n",
       "      <th>2</th>\n",
       "      <td>LGBMRegressor</td>\n",
       "      <td>31</td>\n",
       "      <td>100</td>\n",
       "      <td>1631.179608</td>\n",
       "      <td>6.537189</td>\n",
       "      <td>0.704689</td>\n",
       "    </tr>\n",
       "    <tr>\n",
       "      <th>3</th>\n",
       "      <td>CatBoostRegressor</td>\n",
       "      <td>4</td>\n",
       "      <td>100</td>\n",
       "      <td>1660.589637</td>\n",
       "      <td>5.631449</td>\n",
       "      <td>0.245626</td>\n",
       "    </tr>\n",
       "  </tbody>\n",
       "</table>\n",
       "</div>"
      ],
      "text/plain": [
       "               model  depth/num_leaves  iterations         rmse  \\\n",
       "0      LGBMRegressor                63         100  1587.950164   \n",
       "1  CatBoostRegressor                 6         100  1615.135457   \n",
       "2      LGBMRegressor                31         100  1631.179608   \n",
       "3  CatBoostRegressor                 4         100  1660.589637   \n",
       "\n",
       "   train_time_sec  predict_time_sec  \n",
       "0        8.929570          0.715070  \n",
       "1        5.804262          0.256212  \n",
       "2        6.537189          0.704689  \n",
       "3        5.631449          0.245626  "
      ]
     },
     "metadata": {},
     "output_type": "display_data"
    }
   ],
   "source": [
    "results_df = None\n",
    "\n",
    "results_df, lgbm63100 = LightGBM_manual(\n",
    "    num_leaves=63,\n",
    "    n_estimators=100,\n",
    "    X_train=X_train,\n",
    "    y_train=y_train,\n",
    "    X_val=X_val,\n",
    "    y_val=y_val,\n",
    "    cat_cols=cat_cols,\n",
    "    num_cols=num_cols,\n",
    "    res_df=results_df \n",
    ")\n",
    "\n",
    "results_df, catboost6100 = catboost_manual(\n",
    "    depth=6,\n",
    "    iterations=100,\n",
    "    X_train=X_train,\n",
    "    y_train=y_train,\n",
    "    X_val=X_val,\n",
    "    y_val=y_val,\n",
    "    cat_cols=cat_cols,\n",
    "    num_cols=num_cols,\n",
    "    res_df=results_df  \n",
    ")\n",
    "\n",
    "results_df, lgbm31100 = LightGBM_manual(\n",
    "    num_leaves=31,\n",
    "    n_estimators=100,\n",
    "    X_train=X_train,\n",
    "    y_train=y_train,\n",
    "    X_val=X_val,\n",
    "    y_val=y_val,\n",
    "    cat_cols=cat_cols,\n",
    "    num_cols=num_cols,\n",
    "    res_df=results_df \n",
    ")\n",
    "\n",
    "results_df, catboost4100 = catboost_manual(\n",
    "    depth=4,\n",
    "    iterations=100,\n",
    "    X_train=X_train,\n",
    "    y_train=y_train,\n",
    "    X_val=X_val,\n",
    "    y_val=y_val,\n",
    "    cat_cols=cat_cols,\n",
    "    num_cols=num_cols,\n",
    "    res_df=results_df  \n",
    ")\n",
    "\n",
    "\n",
    "display(results_df)"
   ]
  },
  {
   "attachments": {
    "image.png": {
     "image/png": "[encoded data removed]"
    }
   },
   "cell_type": "markdown",
   "metadata": {},
   "source": [
    "![image.png](attachment:image.png)"
   ]
  },
  {
   "cell_type": "markdown",
   "metadata": {},
   "source": [
    "В данном случае *CatBoostRegressor* чуть хуже по метрике rmse (на 1.8% хуже), но обучается в 2 раза быстрее и в 2.7 раз быстрее предсказывает. Если для заказчика важен баланс этих параметров, то надо выбирать CatBoost6100."
   ]
  },
  {
   "cell_type": "markdown",
   "metadata": {},
   "source": [
    "Проверим модель:"
   ]
  },
  {
   "cell_type": "code",
   "execution_count": 50,
   "metadata": {},
   "outputs": [
    {
     "name": "stdout",
     "output_type": "stream",
     "text": [
      "Test RMSE: 1620.97\n",
      "Время предсказывания: 0.28\n"
     ]
    }
   ],
   "source": [
    "start_predict = time.time()\n",
    "y_test_pred = catboost6100.predict(X_test)\n",
    "predict_time = time.time() - start_predict\n",
    "\n",
    "test_rmse = mean_squared_error(y_test, y_test_pred, squared=False)\n",
    "print(f'Test RMSE: {test_rmse:.2f}')\n",
    "print(f'Время предсказывания: {predict_time:.2f}')"
   ]
  },
  {
   "cell_type": "markdown",
   "metadata": {},
   "source": [
    "Дамми модель:"
   ]
  },
  {
   "cell_type": "code",
   "execution_count": 51,
   "metadata": {},
   "outputs": [
    {
     "name": "stdout",
     "output_type": "stream",
     "text": [
      "Метрика RMSE на dummy модели: 4589.13\n",
      "Метрика RMSE на тестовой выборке: 1620.97\n"
     ]
    }
   ],
   "source": [
    "dummy_regr = DummyRegressor(strategy=\"mean\")\n",
    "\n",
    "dummy_regr.fit(X_train, y_train)\n",
    "\n",
    "DummyRegressor()\n",
    "\n",
    "dum_pred = dummy_regr.predict(X_test)\n",
    "rmse_dummy = mean_squared_error(y_test, dum_pred, squared=False)\n",
    "\n",
    "print(f'Метрика RMSE на dummy модели: {rmse_dummy:.2f}')\n",
    "print(f'Метрика RMSE на тестовой выборке: {test_rmse:.2f}')"
   ]
  },
  {
   "cell_type": "markdown",
   "metadata": {},
   "source": [
    "Сравнение обученной модели с дамми моделью показало, что наша модель чему-то научилась."
   ]
  },
  {
   "cell_type": "markdown",
   "metadata": {},
   "source": [
    "*SHAP*:"
   ]
  },
  {
   "cell_type": "code",
   "execution_count": 52,
   "metadata": {},
   "outputs": [
    {
     "data": {
      "image/png": "[encoded data removed]",
      "text/plain": [
       "<Figure size 576x424.8 with 2 Axes>"
      ]
     },
     "metadata": {
      "needs_background": "light"
     },
     "output_type": "display_data"
    }
   ],
   "source": [
    "preprocessor = catboost6100.named_steps['preprocessor']\n",
    "model = catboost6100.named_steps['model']\n",
    "    \n",
    "X_transformed = preprocessor.transform(X_test)\n",
    "\n",
    "feature_names = preprocessor.get_feature_names_out()\n",
    "\n",
    "explainer = shap.TreeExplainer(model)\n",
    "\n",
    "shap_values = explainer.shap_values(X_transformed)\n",
    "    \n",
    "plt.figure(figsize=(12, 8))\n",
    "shap.summary_plot(shap_values, X_transformed, feature_names=feature_names, show=False)\n",
    "plt.title(f'SHAP анализ')\n",
    "plt.tight_layout()\n",
    "plt.show()"
   ]
  },
  {
   "cell_type": "markdown",
   "metadata": {},
   "source": [
    "1. `num__registration_year` Чем старше машина, тем она дешевле.\n",
    "\n",
    "2. `num__power` Чем мощнее машина, тем дороже стоит\n",
    "\n",
    "3. `num__kilometer` Точки находятся ближе к центру, низкие значения признака слабо влияют на модель"
   ]
  },
  {
   "cell_type": "markdown",
   "metadata": {},
   "source": [
    "## Выводы"
   ]
  },
  {
   "cell_type": "markdown",
   "metadata": {},
   "source": [
    "1. В данных есть пропуски и ошибки. Названия столбцов надо привести к принятому виду. Всего 354369 строк.<br><br><br>\n",
    "2. Осталось 297870 строк. <br>\n",
    "   Удалено 56499 строк. <br>\n",
    "   Удалено 15.94% изначальных строк. <br>  \n",
    "\n",
    "   Обработаны пропуски в столбцах `vehicle_type`, `gearbox`, `fuel_type`. Устранены выбросы в некоторых числовых признаках.\n",
    "   Все заполненные пропуски заполнены с помощью группировки по моде. Такую группировку я делаю из-за того, что заполняемые значения с большой вероятностью зависят только от сгруппированных признаков. (можно было бы еще смотреть по году регистрации и сравнивать с годами выпуска для столбца `model`, но это опять же неразумно). Признак `repaired` я заполню в *SimpleImputer*, поскольку он будет учитывать все признаки, например, год регистрации и цену, что повысит вероятность заполнить эти пропуски правильно.\n",
    "   \n",
    "   Создан столбец `oldness` для группировки машин по возрасту.<br><br><br>\n",
    "   \n",
    "3. Анализ данных:<br>\n",
    "   Гистограммы с ядерной плотностью:\n",
    "   1. `price` - много выбросов по верхней границе. Медиана около 2500. Скорее всего люксовые машины.\n",
    "   2. `registration_year` - есть группа очень старых машин.\n",
    "   3. `kilometer` - значения в основном близки к 125 000–150 000. Есть группа относительно новых машин.\n",
    "   4. `registration_month` - без сюрпризов. Признак можно удалить как бесполезный. <br><br>\n",
    "   Боксплоты числовых признаков:\n",
    "   1. `price` - много выбросов по верхней границе. Медиана около 2500. Скорее всего люксовые машины.\n",
    "   2. `registration_year` - есть группа очень старых машин.\n",
    "   3. `kilometer` - значения в основном близки к 125 000–150 000. Есть группа относительно новых машин.\n",
    "   4. `registration_month` - без сюрпризов. Признак можно удалить как бесполезный. <br><br>\n",
    "   Частота категорий:\n",
    "   1. `brand` - больше всего продают седаны.\n",
    "   2. `gearbox` - МКПП доминирует (понятно, учитывая возраст многих машин).\n",
    "   3. `fuel_type` - абсолютное большинство на бензине.\n",
    "   4. `brand` - самый популярный с большим отрывом *volkswagen*\n",
    "   5. `repaired` - в основном машины не были в ремонте. <br><br>\n",
    "   Боксплот категориальных признаков по цене:\n",
    "   1. `vehicle_type` - наибольшая медина у категории *suv*. Меньшая - *small*, но там много выбросов \n",
    "   2. `gearbox` - МКПП имеет медиану меньше, чем АКПП, но много выбросов. Это объяснятся большим количеством предложений по МКПП\n",
    "   3. `fuel_type` - гибриды - самые дорогие\n",
    "   4. `brand` - *porsche* - самый дорогой\n",
    "   5. `repaired` - в этом столбце слишком много пропусков для анализа, но можно сказать, что отремонтированные машины дешевле. <br><br>\n",
    "   Корреляции:\n",
    "   1. `model` и `brand`: 0.93 — очевидная связь\n",
    "   2. `model` и `power`: 0.98 — мощность зависит от модели + это скорее категориальная величина\n",
    "   3. `vehicle_type` и `model`: 0.92 — у моделей конкретные кузовы.<br><br><br>\n",
    "   \n",
    "4. В топ-5 лучших моделей вошли три *LGBM* и один *CatBoost*<br><br><br>\n",
    "   \n",
    "5. В данном случае *CatBoostRegressor* чуть хуже по метрике rmse (на 1.8% хуже), но обучается в 2 раза быстрее и в 2.7 раз быстрее предсказывает.. Если для заказчика важен баланс этих параметров, то надо выбирать *CatBoost*(*depth*=6, *iterations* = 100).<br><br><br>\n",
    "6. *SHAP* анализ:<br> \n",
    "\n",
    "    `num__registration_year`: Чем старше машина, тем она дешевле.<br>\n",
    "    `num__power`: Чем мощнее машина, тем дороже стоит<br>\n",
    "    `num__kilometer`: Точки находятся ближе к центру, низкие значения признака слабо влияют на модель<br>"
   ]
  }
 ],
 "metadata": {
  "ExecuteTimeLog": [
   {
    "duration": 429,
    "start_time": "2025-05-16T01:32:37.756Z"
   },
   {
    "duration": 864,
    "start_time": "2025-05-16T01:32:41.088Z"
   },
   {
    "duration": 27,
    "start_time": "2025-05-16T01:32:51.183Z"
   },
   {
    "duration": 20,
    "start_time": "2025-05-16T01:33:12.401Z"
   },
   {
    "duration": 82,
    "start_time": "2025-05-16T01:33:19.353Z"
   },
   {
    "duration": 24,
    "start_time": "2025-05-16T01:33:40.384Z"
   },
   {
    "duration": 14,
    "start_time": "2025-05-16T01:35:00.853Z"
   },
   {
    "duration": 158,
    "start_time": "2025-05-16T01:35:05.376Z"
   },
   {
    "duration": 13,
    "start_time": "2025-05-16T01:35:27.136Z"
   },
   {
    "duration": 94,
    "start_time": "2025-05-16T01:35:30.009Z"
   },
   {
    "duration": 5,
    "start_time": "2025-05-16T01:53:10.660Z"
   },
   {
    "duration": 5,
    "start_time": "2025-05-16T01:55:46.866Z"
   },
   {
    "duration": 3,
    "start_time": "2025-05-16T01:56:06.005Z"
   },
   {
    "duration": 94,
    "start_time": "2025-05-16T01:56:09.029Z"
   },
   {
    "duration": 92,
    "start_time": "2025-05-16T01:57:32.480Z"
   },
   {
    "duration": 3,
    "start_time": "2025-05-16T02:00:25.645Z"
   },
   {
    "duration": 1623,
    "start_time": "2025-05-16T02:00:26.966Z"
   },
   {
    "duration": 1703,
    "start_time": "2025-05-16T02:00:37.817Z"
   },
   {
    "duration": 23,
    "start_time": "2025-05-16T02:00:40.598Z"
   },
   {
    "duration": 143,
    "start_time": "2025-05-16T02:00:43.693Z"
   },
   {
    "duration": 87,
    "start_time": "2025-05-16T02:00:44.161Z"
   },
   {
    "duration": 3,
    "start_time": "2025-05-16T02:00:47.641Z"
   },
   {
    "duration": 3,
    "start_time": "2025-05-16T02:01:52.087Z"
   },
   {
    "duration": 4,
    "start_time": "2025-05-16T02:04:00.168Z"
   },
   {
    "duration": 23,
    "start_time": "2025-05-16T02:06:34.692Z"
   },
   {
    "duration": 3,
    "start_time": "2025-05-16T02:10:53.305Z"
   },
   {
    "duration": 7,
    "start_time": "2025-05-16T02:10:53.821Z"
   },
   {
    "duration": 88,
    "start_time": "2025-05-16T02:10:57.046Z"
   },
   {
    "duration": 8,
    "start_time": "2025-05-16T02:12:51.239Z"
   },
   {
    "duration": 7,
    "start_time": "2025-05-16T02:12:54.353Z"
   },
   {
    "duration": 8,
    "start_time": "2025-05-16T02:13:08.677Z"
   },
   {
    "duration": 6,
    "start_time": "2025-05-16T02:13:12.060Z"
   },
   {
    "duration": 7,
    "start_time": "2025-05-16T02:13:23.355Z"
   },
   {
    "duration": 8,
    "start_time": "2025-05-16T02:13:26.828Z"
   },
   {
    "duration": 11,
    "start_time": "2025-05-16T02:13:32.477Z"
   },
   {
    "duration": 6,
    "start_time": "2025-05-16T02:14:31.187Z"
   },
   {
    "duration": 5,
    "start_time": "2025-05-16T02:14:44.015Z"
   },
   {
    "duration": 4,
    "start_time": "2025-05-16T02:15:42.233Z"
   },
   {
    "duration": 331,
    "start_time": "2025-05-16T02:15:50.300Z"
   },
   {
    "duration": 1505,
    "start_time": "2025-05-16T02:41:29.415Z"
   },
   {
    "duration": 2,
    "start_time": "2025-05-16T02:41:37.019Z"
   },
   {
    "duration": 1641,
    "start_time": "2025-05-16T02:41:38.017Z"
   },
   {
    "duration": 23,
    "start_time": "2025-05-16T02:41:39.660Z"
   },
   {
    "duration": 150,
    "start_time": "2025-05-16T02:41:39.684Z"
   },
   {
    "duration": 98,
    "start_time": "2025-05-16T02:41:39.836Z"
   },
   {
    "duration": 1532,
    "start_time": "2025-05-16T02:41:42.548Z"
   },
   {
    "duration": 11,
    "start_time": "2025-05-16T02:41:56.074Z"
   },
   {
    "duration": 12,
    "start_time": "2025-05-16T02:42:09.182Z"
   },
   {
    "duration": 32,
    "start_time": "2025-05-16T02:42:19.418Z"
   },
   {
    "duration": 11,
    "start_time": "2025-05-16T02:43:37.841Z"
   },
   {
    "duration": 3,
    "start_time": "2025-05-16T02:44:14.089Z"
   },
   {
    "duration": 1677,
    "start_time": "2025-05-16T02:44:14.994Z"
   },
   {
    "duration": 23,
    "start_time": "2025-05-16T02:44:16.673Z"
   },
   {
    "duration": 172,
    "start_time": "2025-05-16T02:44:16.697Z"
   },
   {
    "duration": 85,
    "start_time": "2025-05-16T02:44:16.871Z"
   },
   {
    "duration": 159,
    "start_time": "2025-05-16T02:44:22.531Z"
   },
   {
    "duration": 3,
    "start_time": "2025-05-16T02:44:23.911Z"
   },
   {
    "duration": 4,
    "start_time": "2025-05-16T02:44:25.410Z"
   },
   {
    "duration": 3,
    "start_time": "2025-05-16T02:44:26.992Z"
   },
   {
    "duration": 135,
    "start_time": "2025-05-16T02:44:27.979Z"
   },
   {
    "duration": 72,
    "start_time": "2025-05-16T02:44:45.569Z"
   },
   {
    "duration": 98,
    "start_time": "2025-05-16T02:44:54.484Z"
   },
   {
    "duration": 14,
    "start_time": "2025-05-16T06:10:02.730Z"
   },
   {
    "duration": 16,
    "start_time": "2025-05-16T06:10:28.984Z"
   },
   {
    "duration": 8,
    "start_time": "2025-05-16T06:10:33.733Z"
   },
   {
    "duration": 74,
    "start_time": "2025-05-16T06:10:38.713Z"
   },
   {
    "duration": 72,
    "start_time": "2025-05-16T06:11:20.538Z"
   },
   {
    "duration": 72,
    "start_time": "2025-05-16T06:11:32.945Z"
   },
   {
    "duration": 71,
    "start_time": "2025-05-16T06:11:47.721Z"
   },
   {
    "duration": 80,
    "start_time": "2025-05-16T06:11:54.667Z"
   },
   {
    "duration": 1092,
    "start_time": "2025-05-16T06:15:29.961Z"
   },
   {
    "duration": 51,
    "start_time": "2025-05-16T06:17:38.810Z"
   },
   {
    "duration": 8,
    "start_time": "2025-05-16T06:18:39.530Z"
   },
   {
    "duration": 255,
    "start_time": "2025-05-16T06:18:48.826Z"
   },
   {
    "duration": 257,
    "start_time": "2025-05-16T06:19:01.906Z"
   },
   {
    "duration": 310,
    "start_time": "2025-05-16T06:20:31.129Z"
   },
   {
    "duration": 311,
    "start_time": "2025-05-16T06:20:37.771Z"
   },
   {
    "duration": 13,
    "start_time": "2025-05-16T06:25:13.753Z"
   },
   {
    "duration": 12,
    "start_time": "2025-05-16T06:26:11.215Z"
   },
   {
    "duration": 6,
    "start_time": "2025-05-16T06:26:24.079Z"
   },
   {
    "duration": 71,
    "start_time": "2025-05-16T06:26:28.344Z"
   },
   {
    "duration": 9,
    "start_time": "2025-05-16T06:27:02.098Z"
   },
   {
    "duration": 64,
    "start_time": "2025-05-16T06:27:07.057Z"
   },
   {
    "duration": 11,
    "start_time": "2025-05-16T06:29:21.255Z"
   },
   {
    "duration": 610,
    "start_time": "2025-05-16T06:29:35.182Z"
   },
   {
    "duration": 86,
    "start_time": "2025-05-16T06:29:49.252Z"
   },
   {
    "duration": 665,
    "start_time": "2025-05-16T06:30:17.776Z"
   },
   {
    "duration": 604,
    "start_time": "2025-05-16T06:32:23.212Z"
   },
   {
    "duration": 601,
    "start_time": "2025-05-16T06:33:24.156Z"
   },
   {
    "duration": 5,
    "start_time": "2025-05-16T06:35:45.263Z"
   },
   {
    "duration": 5,
    "start_time": "2025-05-16T06:35:55.887Z"
   },
   {
    "duration": 4,
    "start_time": "2025-05-16T06:36:04.775Z"
   },
   {
    "duration": 9,
    "start_time": "2025-05-16T06:36:24.450Z"
   },
   {
    "duration": 9,
    "start_time": "2025-05-16T06:36:35.568Z"
   },
   {
    "duration": 9,
    "start_time": "2025-05-16T06:37:12.159Z"
   },
   {
    "duration": 4,
    "start_time": "2025-05-16T06:37:23.474Z"
   },
   {
    "duration": 4,
    "start_time": "2025-05-16T06:37:32.636Z"
   },
   {
    "duration": 13,
    "start_time": "2025-05-16T06:37:37.792Z"
   },
   {
    "duration": 89,
    "start_time": "2025-05-16T06:38:41.293Z"
   },
   {
    "duration": 654,
    "start_time": "2025-05-16T06:39:17.527Z"
   },
   {
    "duration": 708,
    "start_time": "2025-05-16T06:40:06.727Z"
   },
   {
    "duration": 815,
    "start_time": "2025-05-16T06:42:28.326Z"
   },
   {
    "duration": 122,
    "start_time": "2025-05-16T06:46:06.923Z"
   },
   {
    "duration": 133,
    "start_time": "2025-05-16T06:46:10.764Z"
   },
   {
    "duration": 7,
    "start_time": "2025-05-16T06:46:22.341Z"
   },
   {
    "duration": 195,
    "start_time": "2025-05-16T06:50:01.886Z"
   },
   {
    "duration": 210,
    "start_time": "2025-05-16T06:50:28.827Z"
   },
   {
    "duration": 205,
    "start_time": "2025-05-16T06:50:32.132Z"
   },
   {
    "duration": 96,
    "start_time": "2025-05-16T06:50:43.462Z"
   },
   {
    "duration": 15,
    "start_time": "2025-05-16T06:53:13.449Z"
   },
   {
    "duration": 38,
    "start_time": "2025-05-16T06:53:39.173Z"
   },
   {
    "duration": 45,
    "start_time": "2025-05-16T06:53:59.196Z"
   },
   {
    "duration": 56,
    "start_time": "2025-05-16T06:54:25.664Z"
   },
   {
    "duration": 78,
    "start_time": "2025-05-16T06:54:40.172Z"
   },
   {
    "duration": 80,
    "start_time": "2025-05-16T06:54:57.724Z"
   },
   {
    "duration": 1221,
    "start_time": "2025-05-16T06:56:04.613Z"
   },
   {
    "duration": 1837,
    "start_time": "2025-05-16T06:56:05.836Z"
   },
   {
    "duration": 30,
    "start_time": "2025-05-16T06:56:07.675Z"
   },
   {
    "duration": 183,
    "start_time": "2025-05-16T06:56:07.707Z"
   },
   {
    "duration": 123,
    "start_time": "2025-05-16T06:56:07.891Z"
   },
   {
    "duration": 3,
    "start_time": "2025-05-16T06:56:16.805Z"
   },
   {
    "duration": 5,
    "start_time": "2025-05-16T06:56:17.100Z"
   },
   {
    "duration": 461,
    "start_time": "2025-05-16T06:56:19.236Z"
   },
   {
    "duration": 109,
    "start_time": "2025-05-16T06:56:30.932Z"
   },
   {
    "duration": 102,
    "start_time": "2025-05-16T06:57:04.370Z"
   },
   {
    "duration": 89,
    "start_time": "2025-05-16T06:57:13.015Z"
   },
   {
    "duration": 100,
    "start_time": "2025-05-16T06:57:19.677Z"
   },
   {
    "duration": 188,
    "start_time": "2025-05-16T06:58:10.562Z"
   },
   {
    "duration": 224,
    "start_time": "2025-05-16T06:58:18.133Z"
   },
   {
    "duration": 159,
    "start_time": "2025-05-16T06:59:20.917Z"
   },
   {
    "duration": 164,
    "start_time": "2025-05-16T06:59:37.540Z"
   },
   {
    "duration": 240,
    "start_time": "2025-05-16T07:00:06.633Z"
   },
   {
    "duration": 254,
    "start_time": "2025-05-16T07:00:14.059Z"
   },
   {
    "duration": 445,
    "start_time": "2025-05-16T07:01:55.199Z"
   },
   {
    "duration": 16,
    "start_time": "2025-05-16T07:02:02.333Z"
   },
   {
    "duration": 87,
    "start_time": "2025-05-16T07:02:17.845Z"
   },
   {
    "duration": 228,
    "start_time": "2025-05-16T07:02:24.396Z"
   },
   {
    "duration": 1202,
    "start_time": "2025-05-16T07:03:44.851Z"
   },
   {
    "duration": 1839,
    "start_time": "2025-05-16T07:03:48.596Z"
   },
   {
    "duration": 26,
    "start_time": "2025-05-16T07:03:50.437Z"
   },
   {
    "duration": 227,
    "start_time": "2025-05-16T07:03:50.465Z"
   },
   {
    "duration": 99,
    "start_time": "2025-05-16T07:03:50.694Z"
   },
   {
    "duration": 109,
    "start_time": "2025-05-16T07:03:54.261Z"
   },
   {
    "duration": 93,
    "start_time": "2025-05-16T07:04:10.284Z"
   },
   {
    "duration": 3,
    "start_time": "2025-05-16T07:04:33.798Z"
   },
   {
    "duration": 5,
    "start_time": "2025-05-16T07:04:34.740Z"
   },
   {
    "duration": 233,
    "start_time": "2025-05-16T07:04:36.084Z"
   },
   {
    "duration": 270,
    "start_time": "2025-05-16T07:04:43.924Z"
   },
   {
    "duration": 97,
    "start_time": "2025-05-16T07:04:47.016Z"
   },
   {
    "duration": 13,
    "start_time": "2025-05-16T07:07:42.776Z"
   },
   {
    "duration": 16,
    "start_time": "2025-05-16T07:07:49.212Z"
   },
   {
    "duration": 272,
    "start_time": "2025-05-16T07:07:52.066Z"
   },
   {
    "duration": 5,
    "start_time": "2025-05-16T07:10:36.810Z"
   },
   {
    "duration": 4,
    "start_time": "2025-05-16T07:10:42.673Z"
   },
   {
    "duration": 1190,
    "start_time": "2025-05-16T07:11:22.253Z"
   },
   {
    "duration": 1853,
    "start_time": "2025-05-16T07:11:24.858Z"
   },
   {
    "duration": 26,
    "start_time": "2025-05-16T07:11:26.713Z"
   },
   {
    "duration": 162,
    "start_time": "2025-05-16T07:11:28.109Z"
   },
   {
    "duration": 94,
    "start_time": "2025-05-16T07:11:29.252Z"
   },
   {
    "duration": 106,
    "start_time": "2025-05-16T07:11:43.700Z"
   },
   {
    "duration": 3,
    "start_time": "2025-05-16T07:11:44.998Z"
   },
   {
    "duration": 7,
    "start_time": "2025-05-16T07:12:06.819Z"
   },
   {
    "duration": 224,
    "start_time": "2025-05-16T07:12:09.981Z"
   },
   {
    "duration": 297,
    "start_time": "2025-05-16T07:12:12.026Z"
   },
   {
    "duration": 94,
    "start_time": "2025-05-16T07:12:13.299Z"
   },
   {
    "duration": 205,
    "start_time": "2025-05-16T07:12:18.353Z"
   },
   {
    "duration": 183,
    "start_time": "2025-05-16T07:12:30.044Z"
   },
   {
    "duration": 201,
    "start_time": "2025-05-16T08:05:26.155Z"
   },
   {
    "duration": 243,
    "start_time": "2025-05-16T08:05:37.867Z"
   },
   {
    "duration": 99,
    "start_time": "2025-05-16T08:05:59.839Z"
   },
   {
    "duration": 107,
    "start_time": "2025-05-16T08:11:16.436Z"
   },
   {
    "duration": 20,
    "start_time": "2025-05-16T08:11:32.157Z"
   },
   {
    "duration": 14,
    "start_time": "2025-05-16T08:11:39.690Z"
   },
   {
    "duration": 3,
    "start_time": "2025-05-16T08:12:01.162Z"
   },
   {
    "duration": 1854,
    "start_time": "2025-05-16T08:12:01.167Z"
   },
   {
    "duration": 22,
    "start_time": "2025-05-16T08:12:03.023Z"
   },
   {
    "duration": 203,
    "start_time": "2025-05-16T08:12:03.047Z"
   },
   {
    "duration": 239,
    "start_time": "2025-05-16T08:12:03.252Z"
   },
   {
    "duration": 114,
    "start_time": "2025-05-16T08:12:03.493Z"
   },
   {
    "duration": 4,
    "start_time": "2025-05-16T08:12:03.609Z"
   },
   {
    "duration": 72,
    "start_time": "2025-05-16T08:12:03.614Z"
   },
   {
    "duration": 311,
    "start_time": "2025-05-16T08:12:03.688Z"
   },
   {
    "duration": 294,
    "start_time": "2025-05-16T08:12:04.000Z"
   },
   {
    "duration": 221,
    "start_time": "2025-05-16T08:12:04.296Z"
   },
   {
    "duration": 204,
    "start_time": "2025-05-16T08:12:04.518Z"
   },
   {
    "duration": 101,
    "start_time": "2025-05-16T08:12:04.724Z"
   },
   {
    "duration": 30,
    "start_time": "2025-05-16T08:12:04.827Z"
   },
   {
    "duration": 10,
    "start_time": "2025-05-16T08:12:18.875Z"
   },
   {
    "duration": 37,
    "start_time": "2025-05-16T08:13:10.542Z"
   },
   {
    "duration": 90,
    "start_time": "2025-05-16T08:13:16.302Z"
   },
   {
    "duration": 57,
    "start_time": "2025-05-16T08:14:47.390Z"
   },
   {
    "duration": 20,
    "start_time": "2025-05-16T08:15:03.268Z"
   },
   {
    "duration": 61,
    "start_time": "2025-05-16T08:15:57.330Z"
   },
   {
    "duration": 63,
    "start_time": "2025-05-16T08:16:19.808Z"
   },
   {
    "duration": 74,
    "start_time": "2025-05-16T08:16:52.802Z"
   },
   {
    "duration": 84,
    "start_time": "2025-05-16T08:17:09.040Z"
   },
   {
    "duration": 20,
    "start_time": "2025-05-16T08:17:32.127Z"
   },
   {
    "duration": 83,
    "start_time": "2025-05-16T08:17:38.427Z"
   },
   {
    "duration": 11,
    "start_time": "2025-05-16T08:22:29.997Z"
   },
   {
    "duration": 275,
    "start_time": "2025-05-16T08:24:47.497Z"
   },
   {
    "duration": 102,
    "start_time": "2025-05-16T08:25:07.645Z"
   },
   {
    "duration": 3,
    "start_time": "2025-05-16T08:31:20.181Z"
   },
   {
    "duration": 1694,
    "start_time": "2025-05-16T08:31:20.186Z"
   },
   {
    "duration": 24,
    "start_time": "2025-05-16T08:31:21.882Z"
   },
   {
    "duration": 177,
    "start_time": "2025-05-16T08:31:21.908Z"
   },
   {
    "duration": 96,
    "start_time": "2025-05-16T08:31:22.088Z"
   },
   {
    "duration": 129,
    "start_time": "2025-05-16T08:31:22.186Z"
   },
   {
    "duration": 4,
    "start_time": "2025-05-16T08:31:22.316Z"
   },
   {
    "duration": 75,
    "start_time": "2025-05-16T08:31:22.321Z"
   },
   {
    "duration": 238,
    "start_time": "2025-05-16T08:31:22.397Z"
   },
   {
    "duration": 274,
    "start_time": "2025-05-16T08:31:22.636Z"
   },
   {
    "duration": 207,
    "start_time": "2025-05-16T08:31:22.911Z"
   },
   {
    "duration": 201,
    "start_time": "2025-05-16T08:31:23.119Z"
   },
   {
    "duration": 99,
    "start_time": "2025-05-16T08:31:23.322Z"
   },
   {
    "duration": 65,
    "start_time": "2025-05-16T08:31:23.423Z"
   },
   {
    "duration": 162,
    "start_time": "2025-05-16T08:31:23.490Z"
   },
   {
    "duration": 589,
    "start_time": "2025-05-16T08:31:46.946Z"
   },
   {
    "duration": 686,
    "start_time": "2025-05-16T08:32:00.212Z"
   },
   {
    "duration": 1230,
    "start_time": "2025-05-16T08:32:17.260Z"
   },
   {
    "duration": 1807,
    "start_time": "2025-05-16T08:32:18.821Z"
   },
   {
    "duration": 29,
    "start_time": "2025-05-16T08:32:20.630Z"
   },
   {
    "duration": 153,
    "start_time": "2025-05-16T08:32:20.661Z"
   },
   {
    "duration": 126,
    "start_time": "2025-05-16T08:32:20.816Z"
   },
   {
    "duration": 116,
    "start_time": "2025-05-16T08:32:20.944Z"
   },
   {
    "duration": 3,
    "start_time": "2025-05-16T08:32:21.205Z"
   },
   {
    "duration": 5,
    "start_time": "2025-05-16T08:32:21.383Z"
   },
   {
    "duration": 268,
    "start_time": "2025-05-16T08:32:22.159Z"
   },
   {
    "duration": 280,
    "start_time": "2025-05-16T08:32:24.707Z"
   },
   {
    "duration": 212,
    "start_time": "2025-05-16T08:32:24.989Z"
   },
   {
    "duration": 209,
    "start_time": "2025-05-16T08:32:26.006Z"
   },
   {
    "duration": 95,
    "start_time": "2025-05-16T08:32:27.017Z"
   },
   {
    "duration": 3,
    "start_time": "2025-05-16T08:32:28.168Z"
   },
   {
    "duration": 132,
    "start_time": "2025-05-16T08:32:28.839Z"
   },
   {
    "duration": 52,
    "start_time": "2025-05-16T08:32:30.965Z"
   },
   {
    "duration": 279,
    "start_time": "2025-05-16T08:32:36.681Z"
   },
   {
    "duration": 1234,
    "start_time": "2025-05-16T08:32:54.805Z"
   },
   {
    "duration": 1842,
    "start_time": "2025-05-16T08:32:56.041Z"
   },
   {
    "duration": 29,
    "start_time": "2025-05-16T08:32:57.885Z"
   },
   {
    "duration": 177,
    "start_time": "2025-05-16T08:32:57.915Z"
   },
   {
    "duration": 103,
    "start_time": "2025-05-16T08:32:58.095Z"
   },
   {
    "duration": 117,
    "start_time": "2025-05-16T08:32:58.199Z"
   },
   {
    "duration": 3,
    "start_time": "2025-05-16T08:32:58.317Z"
   },
   {
    "duration": 21,
    "start_time": "2025-05-16T08:32:58.321Z"
   },
   {
    "duration": 235,
    "start_time": "2025-05-16T08:32:58.343Z"
   },
   {
    "duration": 271,
    "start_time": "2025-05-16T08:32:58.580Z"
   },
   {
    "duration": 219,
    "start_time": "2025-05-16T08:32:58.853Z"
   },
   {
    "duration": 199,
    "start_time": "2025-05-16T08:32:59.074Z"
   },
   {
    "duration": 107,
    "start_time": "2025-05-16T08:32:59.275Z"
   },
   {
    "duration": 131,
    "start_time": "2025-05-16T08:32:59.385Z"
   },
   {
    "duration": 133,
    "start_time": "2025-05-16T08:32:59.518Z"
   },
   {
    "duration": 57,
    "start_time": "2025-05-16T08:32:59.653Z"
   },
   {
    "duration": 229,
    "start_time": "2025-05-16T08:33:16.917Z"
   },
   {
    "duration": 95,
    "start_time": "2025-05-16T08:33:24.813Z"
   },
   {
    "duration": 228,
    "start_time": "2025-05-16T08:35:51.577Z"
   },
   {
    "duration": 88,
    "start_time": "2025-05-16T08:35:58.149Z"
   },
   {
    "duration": 235,
    "start_time": "2025-05-16T08:36:22.274Z"
   },
   {
    "duration": 89,
    "start_time": "2025-05-16T08:36:35.088Z"
   },
   {
    "duration": 84,
    "start_time": "2025-05-16T08:43:31.351Z"
   },
   {
    "duration": 24,
    "start_time": "2025-05-16T08:46:20.876Z"
   },
   {
    "duration": 19,
    "start_time": "2025-05-16T08:51:07.876Z"
   },
   {
    "duration": 23,
    "start_time": "2025-05-16T08:51:23.204Z"
   },
   {
    "duration": 21,
    "start_time": "2025-05-16T08:51:38.923Z"
   },
   {
    "duration": 21,
    "start_time": "2025-05-16T08:52:20.530Z"
   },
   {
    "duration": 24,
    "start_time": "2025-05-16T08:52:36.871Z"
   },
   {
    "duration": 21,
    "start_time": "2025-05-16T08:52:59.444Z"
   },
   {
    "duration": 22,
    "start_time": "2025-05-16T08:53:17.901Z"
   },
   {
    "duration": 24,
    "start_time": "2025-05-16T08:57:44.575Z"
   },
   {
    "duration": 22,
    "start_time": "2025-05-16T08:57:55.499Z"
   },
   {
    "duration": 23,
    "start_time": "2025-05-16T08:59:06.193Z"
   },
   {
    "duration": 31,
    "start_time": "2025-05-16T09:00:19.871Z"
   },
   {
    "duration": 80,
    "start_time": "2025-05-16T09:00:39.857Z"
   },
   {
    "duration": 33,
    "start_time": "2025-05-16T09:00:44.370Z"
   },
   {
    "duration": 29,
    "start_time": "2025-05-16T09:01:00.932Z"
   },
   {
    "duration": 24,
    "start_time": "2025-05-16T09:01:36.548Z"
   },
   {
    "duration": 28,
    "start_time": "2025-05-16T09:02:00.010Z"
   },
   {
    "duration": 26,
    "start_time": "2025-05-16T09:02:27.281Z"
   },
   {
    "duration": 26,
    "start_time": "2025-05-16T09:03:06.999Z"
   },
   {
    "duration": 26,
    "start_time": "2025-05-16T09:03:12.810Z"
   },
   {
    "duration": 25,
    "start_time": "2025-05-16T09:03:20.259Z"
   },
   {
    "duration": 26,
    "start_time": "2025-05-16T09:03:46.883Z"
   },
   {
    "duration": 26,
    "start_time": "2025-05-16T09:03:56.300Z"
   },
   {
    "duration": 27,
    "start_time": "2025-05-16T09:04:03.242Z"
   },
   {
    "duration": 26,
    "start_time": "2025-05-16T09:04:07.500Z"
   },
   {
    "duration": 27,
    "start_time": "2025-05-16T09:04:10.574Z"
   },
   {
    "duration": 29,
    "start_time": "2025-05-16T09:04:49.170Z"
   },
   {
    "duration": 28,
    "start_time": "2025-05-16T09:05:15.468Z"
   },
   {
    "duration": 115,
    "start_time": "2025-05-16T09:05:34.035Z"
   },
   {
    "duration": 29,
    "start_time": "2025-05-16T09:05:44.610Z"
   },
   {
    "duration": 17,
    "start_time": "2025-05-16T09:12:05.063Z"
   },
   {
    "duration": 26,
    "start_time": "2025-05-16T09:12:12.111Z"
   },
   {
    "duration": 26,
    "start_time": "2025-05-16T09:12:15.858Z"
   },
   {
    "duration": 22,
    "start_time": "2025-05-16T09:12:21.248Z"
   },
   {
    "duration": 26,
    "start_time": "2025-05-16T09:12:32.118Z"
   },
   {
    "duration": 31,
    "start_time": "2025-05-16T09:13:25.435Z"
   },
   {
    "duration": 30,
    "start_time": "2025-05-16T09:14:02.201Z"
   },
   {
    "duration": 23,
    "start_time": "2025-05-16T09:14:07.261Z"
   },
   {
    "duration": 1215,
    "start_time": "2025-05-16T09:14:46.349Z"
   },
   {
    "duration": 1817,
    "start_time": "2025-05-16T09:14:47.567Z"
   },
   {
    "duration": 26,
    "start_time": "2025-05-16T09:14:49.385Z"
   },
   {
    "duration": 157,
    "start_time": "2025-05-16T09:14:49.413Z"
   },
   {
    "duration": 106,
    "start_time": "2025-05-16T09:14:49.572Z"
   },
   {
    "duration": 114,
    "start_time": "2025-05-16T09:14:49.680Z"
   },
   {
    "duration": 3,
    "start_time": "2025-05-16T09:14:49.796Z"
   },
   {
    "duration": 11,
    "start_time": "2025-05-16T09:14:49.801Z"
   },
   {
    "duration": 234,
    "start_time": "2025-05-16T09:14:49.814Z"
   },
   {
    "duration": 239,
    "start_time": "2025-05-16T09:14:50.050Z"
   },
   {
    "duration": 211,
    "start_time": "2025-05-16T09:14:50.291Z"
   },
   {
    "duration": 194,
    "start_time": "2025-05-16T09:14:50.504Z"
   },
   {
    "duration": 103,
    "start_time": "2025-05-16T09:14:50.700Z"
   },
   {
    "duration": 39,
    "start_time": "2025-05-16T09:14:50.805Z"
   },
   {
    "duration": 157,
    "start_time": "2025-05-16T09:14:50.846Z"
   },
   {
    "duration": 41,
    "start_time": "2025-05-16T09:15:00.405Z"
   },
   {
    "duration": 28,
    "start_time": "2025-05-16T09:15:02.800Z"
   },
   {
    "duration": 85,
    "start_time": "2025-05-16T09:15:32.406Z"
   },
   {
    "duration": 23,
    "start_time": "2025-05-16T09:16:42.495Z"
   },
   {
    "duration": 35,
    "start_time": "2025-05-16T09:17:46.858Z"
   },
   {
    "duration": 86,
    "start_time": "2025-05-16T09:17:52.453Z"
   },
   {
    "duration": 222,
    "start_time": "2025-05-16T09:19:45.841Z"
   },
   {
    "duration": 322,
    "start_time": "2025-05-16T09:20:06.543Z"
   },
   {
    "duration": 219,
    "start_time": "2025-05-16T09:20:25.864Z"
   },
   {
    "duration": 86,
    "start_time": "2025-05-16T09:20:39.401Z"
   },
   {
    "duration": 112,
    "start_time": "2025-05-16T09:21:11.190Z"
   },
   {
    "duration": 220,
    "start_time": "2025-05-16T09:21:24.789Z"
   },
   {
    "duration": 25,
    "start_time": "2025-05-16T09:22:21.595Z"
   },
   {
    "duration": 17,
    "start_time": "2025-05-16T09:22:31.339Z"
   },
   {
    "duration": 13,
    "start_time": "2025-05-16T09:22:40.142Z"
   },
   {
    "duration": 23,
    "start_time": "2025-05-16T09:23:54.211Z"
   },
   {
    "duration": 78,
    "start_time": "2025-05-16T09:24:24.262Z"
   },
   {
    "duration": 12,
    "start_time": "2025-05-16T09:25:56.460Z"
   },
   {
    "duration": 54,
    "start_time": "2025-05-16T09:26:03.600Z"
   },
   {
    "duration": 45,
    "start_time": "2025-05-16T09:26:30.318Z"
   },
   {
    "duration": 64,
    "start_time": "2025-05-16T09:26:36.192Z"
   },
   {
    "duration": 71,
    "start_time": "2025-05-16T09:26:56.977Z"
   },
   {
    "duration": 18,
    "start_time": "2025-05-16T09:27:13.703Z"
   },
   {
    "duration": 28,
    "start_time": "2025-05-16T09:27:26.920Z"
   },
   {
    "duration": 19,
    "start_time": "2025-05-16T09:28:29.791Z"
   },
   {
    "duration": 3,
    "start_time": "2025-05-16T09:29:18.493Z"
   },
   {
    "duration": 1775,
    "start_time": "2025-05-16T09:29:18.497Z"
   },
   {
    "duration": 24,
    "start_time": "2025-05-16T09:29:20.274Z"
   },
   {
    "duration": 177,
    "start_time": "2025-05-16T09:29:20.299Z"
   },
   {
    "duration": 121,
    "start_time": "2025-05-16T09:29:20.478Z"
   },
   {
    "duration": 104,
    "start_time": "2025-05-16T09:29:20.601Z"
   },
   {
    "duration": 2,
    "start_time": "2025-05-16T09:29:20.707Z"
   },
   {
    "duration": 30,
    "start_time": "2025-05-16T09:29:20.711Z"
   },
   {
    "duration": 275,
    "start_time": "2025-05-16T09:29:20.743Z"
   },
   {
    "duration": 284,
    "start_time": "2025-05-16T09:29:21.020Z"
   },
   {
    "duration": 217,
    "start_time": "2025-05-16T09:29:21.307Z"
   },
   {
    "duration": 198,
    "start_time": "2025-05-16T09:29:21.525Z"
   },
   {
    "duration": 101,
    "start_time": "2025-05-16T09:29:21.725Z"
   },
   {
    "duration": 64,
    "start_time": "2025-05-16T09:29:21.828Z"
   },
   {
    "duration": 132,
    "start_time": "2025-05-16T09:29:21.894Z"
   },
   {
    "duration": 52,
    "start_time": "2025-05-16T09:29:22.027Z"
   },
   {
    "duration": 24,
    "start_time": "2025-05-16T09:29:22.081Z"
   },
   {
    "duration": 25,
    "start_time": "2025-05-16T09:29:22.107Z"
   },
   {
    "duration": 270,
    "start_time": "2025-05-16T09:29:22.133Z"
   },
   {
    "duration": 320,
    "start_time": "2025-05-16T09:29:22.405Z"
   },
   {
    "duration": 224,
    "start_time": "2025-05-16T09:29:22.727Z"
   },
   {
    "duration": 13,
    "start_time": "2025-05-16T09:29:33.859Z"
   },
   {
    "duration": 18,
    "start_time": "2025-05-16T09:29:36.856Z"
   },
   {
    "duration": 20,
    "start_time": "2025-05-16T09:29:41.346Z"
   },
   {
    "duration": 107,
    "start_time": "2025-05-16T09:29:51.398Z"
   },
   {
    "duration": 4,
    "start_time": "2025-05-16T09:30:20.650Z"
   },
   {
    "duration": 3,
    "start_time": "2025-05-16T09:32:00.248Z"
   },
   {
    "duration": 1806,
    "start_time": "2025-05-16T09:32:00.253Z"
   },
   {
    "duration": 22,
    "start_time": "2025-05-16T09:32:02.061Z"
   },
   {
    "duration": 156,
    "start_time": "2025-05-16T09:32:02.085Z"
   },
   {
    "duration": 106,
    "start_time": "2025-05-16T09:32:02.244Z"
   },
   {
    "duration": 107,
    "start_time": "2025-05-16T09:32:02.352Z"
   },
   {
    "duration": 3,
    "start_time": "2025-05-16T09:32:02.461Z"
   },
   {
    "duration": 40,
    "start_time": "2025-05-16T09:32:02.465Z"
   },
   {
    "duration": 227,
    "start_time": "2025-05-16T09:32:02.507Z"
   },
   {
    "duration": 274,
    "start_time": "2025-05-16T09:32:02.736Z"
   },
   {
    "duration": 216,
    "start_time": "2025-05-16T09:32:03.013Z"
   },
   {
    "duration": 193,
    "start_time": "2025-05-16T09:32:03.231Z"
   },
   {
    "duration": 99,
    "start_time": "2025-05-16T09:32:03.426Z"
   },
   {
    "duration": 27,
    "start_time": "2025-05-16T09:32:03.527Z"
   },
   {
    "duration": 127,
    "start_time": "2025-05-16T09:32:03.556Z"
   },
   {
    "duration": 45,
    "start_time": "2025-05-16T09:32:03.685Z"
   },
   {
    "duration": 142,
    "start_time": "2025-05-16T09:32:03.732Z"
   },
   {
    "duration": 25,
    "start_time": "2025-05-16T09:32:03.875Z"
   },
   {
    "duration": 248,
    "start_time": "2025-05-16T09:32:03.901Z"
   },
   {
    "duration": 324,
    "start_time": "2025-05-16T09:32:04.151Z"
   },
   {
    "duration": 221,
    "start_time": "2025-05-16T09:32:04.477Z"
   },
   {
    "duration": 13,
    "start_time": "2025-05-16T09:32:04.700Z"
   },
   {
    "duration": 9,
    "start_time": "2025-05-16T09:32:10.651Z"
   },
   {
    "duration": 3,
    "start_time": "2025-05-16T09:32:22.565Z"
   },
   {
    "duration": 67,
    "start_time": "2025-05-16T09:32:39.415Z"
   },
   {
    "duration": 98,
    "start_time": "2025-05-16T09:32:43.135Z"
   },
   {
    "duration": 275,
    "start_time": "2025-05-16T09:34:29.074Z"
   },
   {
    "duration": 105,
    "start_time": "2025-05-16T09:34:47.073Z"
   },
   {
    "duration": 79,
    "start_time": "2025-05-16T09:35:38.144Z"
   },
   {
    "duration": 454,
    "start_time": "2025-05-16T09:37:14.173Z"
   },
   {
    "duration": 86,
    "start_time": "2025-05-16T09:38:19.710Z"
   },
   {
    "duration": 32,
    "start_time": "2025-05-16T09:39:11.394Z"
   },
   {
    "duration": 40,
    "start_time": "2025-05-16T09:39:26.121Z"
   },
   {
    "duration": 26,
    "start_time": "2025-05-16T09:39:33.785Z"
   },
   {
    "duration": 24,
    "start_time": "2025-05-16T09:40:37.458Z"
   },
   {
    "duration": 4,
    "start_time": "2025-05-16T09:41:39.938Z"
   },
   {
    "duration": 3,
    "start_time": "2025-05-16T09:41:46.088Z"
   },
   {
    "duration": 5,
    "start_time": "2025-05-16T09:42:13.543Z"
   },
   {
    "duration": 4,
    "start_time": "2025-05-16T09:42:51.541Z"
   },
   {
    "duration": 1119,
    "start_time": "2025-05-16T09:44:42.416Z"
   },
   {
    "duration": 1845,
    "start_time": "2025-05-16T09:44:43.537Z"
   },
   {
    "duration": 30,
    "start_time": "2025-05-16T09:44:45.384Z"
   },
   {
    "duration": 165,
    "start_time": "2025-05-16T09:44:45.416Z"
   },
   {
    "duration": 104,
    "start_time": "2025-05-16T09:44:45.584Z"
   },
   {
    "duration": 125,
    "start_time": "2025-05-16T09:44:45.689Z"
   },
   {
    "duration": 4,
    "start_time": "2025-05-16T09:44:45.815Z"
   },
   {
    "duration": 50,
    "start_time": "2025-05-16T09:44:45.820Z"
   },
   {
    "duration": 231,
    "start_time": "2025-05-16T09:44:45.872Z"
   },
   {
    "duration": 295,
    "start_time": "2025-05-16T09:44:46.104Z"
   },
   {
    "duration": 228,
    "start_time": "2025-05-16T09:44:46.401Z"
   },
   {
    "duration": 192,
    "start_time": "2025-05-16T09:44:46.631Z"
   },
   {
    "duration": 94,
    "start_time": "2025-05-16T09:44:46.825Z"
   },
   {
    "duration": 3,
    "start_time": "2025-05-16T09:44:46.921Z"
   },
   {
    "duration": 132,
    "start_time": "2025-05-16T09:44:46.926Z"
   },
   {
    "duration": 52,
    "start_time": "2025-05-16T09:44:47.060Z"
   },
   {
    "duration": 24,
    "start_time": "2025-05-16T09:44:47.114Z"
   },
   {
    "duration": 42,
    "start_time": "2025-05-16T09:44:47.139Z"
   },
   {
    "duration": 26,
    "start_time": "2025-05-16T09:44:47.182Z"
   },
   {
    "duration": 235,
    "start_time": "2025-05-16T09:44:47.210Z"
   },
   {
    "duration": 324,
    "start_time": "2025-05-16T09:44:47.447Z"
   },
   {
    "duration": 224,
    "start_time": "2025-05-16T09:44:47.773Z"
   },
   {
    "duration": 13,
    "start_time": "2025-05-16T09:44:47.999Z"
   },
   {
    "duration": 77,
    "start_time": "2025-05-16T09:44:48.014Z"
   },
   {
    "duration": 285,
    "start_time": "2025-05-16T09:44:48.093Z"
   },
   {
    "duration": 73,
    "start_time": "2025-05-16T09:44:48.379Z"
   },
   {
    "duration": 3,
    "start_time": "2025-05-16T09:44:48.454Z"
   },
   {
    "duration": 4,
    "start_time": "2025-05-16T09:44:48.471Z"
   },
   {
    "duration": 1436,
    "start_time": "2025-05-18T14:11:35.856Z"
   },
   {
    "duration": 1991,
    "start_time": "2025-05-18T14:11:37.294Z"
   },
   {
    "duration": 29,
    "start_time": "2025-05-18T14:11:39.287Z"
   },
   {
    "duration": 171,
    "start_time": "2025-05-18T14:11:39.318Z"
   },
   {
    "duration": 125,
    "start_time": "2025-05-18T14:11:39.492Z"
   },
   {
    "duration": 115,
    "start_time": "2025-05-18T14:11:39.619Z"
   },
   {
    "duration": 25,
    "start_time": "2025-05-18T14:11:39.736Z"
   },
   {
    "duration": 6,
    "start_time": "2025-05-18T14:11:39.763Z"
   },
   {
    "duration": 254,
    "start_time": "2025-05-18T14:11:39.771Z"
   },
   {
    "duration": 295,
    "start_time": "2025-05-18T14:11:40.027Z"
   },
   {
    "duration": 219,
    "start_time": "2025-05-18T14:11:40.324Z"
   },
   {
    "duration": 204,
    "start_time": "2025-05-18T14:11:40.544Z"
   },
   {
    "duration": 97,
    "start_time": "2025-05-18T14:11:40.750Z"
   },
   {
    "duration": 3,
    "start_time": "2025-05-18T14:11:40.862Z"
   },
   {
    "duration": 135,
    "start_time": "2025-05-18T14:11:40.867Z"
   },
   {
    "duration": 63,
    "start_time": "2025-05-18T14:11:41.004Z"
   },
   {
    "duration": 73,
    "start_time": "2025-05-18T14:11:41.069Z"
   },
   {
    "duration": 24,
    "start_time": "2025-05-18T14:11:41.145Z"
   },
   {
    "duration": 70,
    "start_time": "2025-05-18T14:11:41.171Z"
   },
   {
    "duration": 236,
    "start_time": "2025-05-18T14:11:41.243Z"
   },
   {
    "duration": 338,
    "start_time": "2025-05-18T14:11:41.481Z"
   },
   {
    "duration": 233,
    "start_time": "2025-05-18T14:11:41.821Z"
   },
   {
    "duration": 13,
    "start_time": "2025-05-18T14:11:42.060Z"
   },
   {
    "duration": 68,
    "start_time": "2025-05-18T14:11:42.075Z"
   },
   {
    "duration": 289,
    "start_time": "2025-05-18T14:11:42.160Z"
   },
   {
    "duration": 93,
    "start_time": "2025-05-18T14:11:42.451Z"
   },
   {
    "duration": 4,
    "start_time": "2025-05-18T14:11:42.545Z"
   },
   {
    "duration": 7,
    "start_time": "2025-05-18T14:11:42.561Z"
   },
   {
    "duration": 227,
    "start_time": "2025-05-18T14:17:17.369Z"
   },
   {
    "duration": 9,
    "start_time": "2025-05-18T14:17:35.259Z"
   },
   {
    "duration": 21,
    "start_time": "2025-05-18T14:17:49.128Z"
   },
   {
    "duration": 634,
    "start_time": "2025-05-18T14:22:35.144Z"
   },
   {
    "duration": 518,
    "start_time": "2025-05-18T14:22:54.913Z"
   },
   {
    "duration": 34,
    "start_time": "2025-05-18T14:23:59.794Z"
   },
   {
    "duration": 18,
    "start_time": "2025-05-18T14:24:13.787Z"
   },
   {
    "duration": 20,
    "start_time": "2025-05-18T14:24:22.200Z"
   },
   {
    "duration": 9,
    "start_time": "2025-05-18T14:24:49.076Z"
   },
   {
    "duration": 223,
    "start_time": "2025-05-18T14:24:58.425Z"
   },
   {
    "duration": 1386,
    "start_time": "2025-05-18T14:25:49.634Z"
   },
   {
    "duration": 15,
    "start_time": "2025-05-18T14:39:35.666Z"
   },
   {
    "duration": 664,
    "start_time": "2025-05-18T14:39:40.406Z"
   },
   {
    "duration": 15,
    "start_time": "2025-05-18T14:41:25.640Z"
   },
   {
    "duration": 4,
    "start_time": "2025-05-18T14:41:29.358Z"
   },
   {
    "duration": 20,
    "start_time": "2025-05-18T14:41:33.944Z"
   },
   {
    "duration": 3,
    "start_time": "2025-05-18T14:42:09.254Z"
   },
   {
    "duration": 531,
    "start_time": "2025-05-18T14:42:15.033Z"
   },
   {
    "duration": 541,
    "start_time": "2025-05-18T14:42:23.670Z"
   },
   {
    "duration": 1145,
    "start_time": "2025-05-18T14:44:18.850Z"
   },
   {
    "duration": 1216,
    "start_time": "2025-05-18T14:44:43.103Z"
   },
   {
    "duration": 1244,
    "start_time": "2025-05-18T14:45:13.238Z"
   },
   {
    "duration": 1399,
    "start_time": "2025-05-18T14:45:26.366Z"
   },
   {
    "duration": 1313,
    "start_time": "2025-05-18T14:46:34.008Z"
   },
   {
    "duration": 1797,
    "start_time": "2025-05-18T14:47:49.347Z"
   },
   {
    "duration": 1873,
    "start_time": "2025-05-18T14:47:57.836Z"
   },
   {
    "duration": 7428,
    "start_time": "2025-05-18T14:48:13.609Z"
   },
   {
    "duration": 7171,
    "start_time": "2025-05-18T14:50:16.258Z"
   },
   {
    "duration": 23,
    "start_time": "2025-05-18T14:51:14.328Z"
   },
   {
    "duration": 75,
    "start_time": "2025-05-18T15:17:48.126Z"
   },
   {
    "duration": 1515,
    "start_time": "2025-05-18T15:18:04.834Z"
   },
   {
    "duration": 2444,
    "start_time": "2025-05-18T15:18:06.352Z"
   },
   {
    "duration": 31,
    "start_time": "2025-05-18T15:18:08.799Z"
   },
   {
    "duration": 256,
    "start_time": "2025-05-18T15:18:08.832Z"
   },
   {
    "duration": 143,
    "start_time": "2025-05-18T15:18:09.092Z"
   },
   {
    "duration": 152,
    "start_time": "2025-05-18T15:18:09.237Z"
   },
   {
    "duration": 4,
    "start_time": "2025-05-18T15:18:09.391Z"
   },
   {
    "duration": 71,
    "start_time": "2025-05-18T15:18:09.397Z"
   },
   {
    "duration": 321,
    "start_time": "2025-05-18T15:18:09.477Z"
   },
   {
    "duration": 346,
    "start_time": "2025-05-18T15:18:09.800Z"
   },
   {
    "duration": 284,
    "start_time": "2025-05-18T15:18:10.149Z"
   },
   {
    "duration": 249,
    "start_time": "2025-05-18T15:18:10.435Z"
   },
   {
    "duration": 50,
    "start_time": "2025-05-18T15:18:10.687Z"
   },
   {
    "duration": 132,
    "start_time": "2025-05-18T15:18:10.740Z"
   },
   {
    "duration": 12,
    "start_time": "2025-05-18T15:18:10.875Z"
   },
   {
    "duration": 173,
    "start_time": "2025-05-18T15:18:10.891Z"
   },
   {
    "duration": 64,
    "start_time": "2025-05-18T15:18:11.067Z"
   },
   {
    "duration": 52,
    "start_time": "2025-05-18T15:18:11.134Z"
   },
   {
    "duration": 29,
    "start_time": "2025-05-18T15:18:11.189Z"
   },
   {
    "duration": 43,
    "start_time": "2025-05-18T15:18:11.220Z"
   },
   {
    "duration": 375,
    "start_time": "2025-05-18T15:18:11.267Z"
   },
   {
    "duration": 419,
    "start_time": "2025-05-18T15:18:11.645Z"
   },
   {
    "duration": 329,
    "start_time": "2025-05-18T15:18:12.067Z"
   },
   {
    "duration": 14,
    "start_time": "2025-05-18T15:18:12.398Z"
   },
   {
    "duration": 109,
    "start_time": "2025-05-18T15:18:12.414Z"
   },
   {
    "duration": 356,
    "start_time": "2025-05-18T15:18:12.525Z"
   },
   {
    "duration": 105,
    "start_time": "2025-05-18T15:18:12.883Z"
   },
   {
    "duration": 142,
    "start_time": "2025-05-18T15:18:12.991Z"
   },
   {
    "duration": 0,
    "start_time": "2025-05-18T15:18:13.135Z"
   },
   {
    "duration": 6808,
    "start_time": "2025-05-18T15:43:06.181Z"
   },
   {
    "duration": 24,
    "start_time": "2025-05-18T15:45:45.417Z"
   },
   {
    "duration": 18,
    "start_time": "2025-05-18T15:46:05.315Z"
   },
   {
    "duration": 46,
    "start_time": "2025-05-18T15:46:13.948Z"
   },
   {
    "duration": 24,
    "start_time": "2025-05-18T15:46:50.135Z"
   },
   {
    "duration": 6649,
    "start_time": "2025-05-18T15:47:07.152Z"
   },
   {
    "duration": 75,
    "start_time": "2025-05-18T15:48:52.322Z"
   },
   {
    "duration": 6967,
    "start_time": "2025-05-18T15:48:55.558Z"
   },
   {
    "duration": 30,
    "start_time": "2025-05-18T15:49:24.807Z"
   },
   {
    "duration": 6947,
    "start_time": "2025-05-18T15:49:27.984Z"
   },
   {
    "duration": 584,
    "start_time": "2025-05-18T15:53:45.110Z"
   },
   {
    "duration": 695,
    "start_time": "2025-05-18T15:53:57.473Z"
   },
   {
    "duration": 807,
    "start_time": "2025-05-18T15:54:29.541Z"
   },
   {
    "duration": 655,
    "start_time": "2025-05-18T15:54:47.435Z"
   },
   {
    "duration": 724,
    "start_time": "2025-05-18T15:55:20.155Z"
   },
   {
    "duration": 2493,
    "start_time": "2025-05-18T15:56:37.339Z"
   },
   {
    "duration": 2376,
    "start_time": "2025-05-18T16:03:27.849Z"
   },
   {
    "duration": 2842,
    "start_time": "2025-05-18T16:03:54.479Z"
   },
   {
    "duration": 2842,
    "start_time": "2025-05-18T16:04:44.869Z"
   },
   {
    "duration": 2638,
    "start_time": "2025-05-18T16:05:00.894Z"
   },
   {
    "duration": 362,
    "start_time": "2025-05-18T16:05:15.190Z"
   },
   {
    "duration": 374,
    "start_time": "2025-05-18T16:05:21.936Z"
   },
   {
    "duration": 2843,
    "start_time": "2025-05-18T16:05:30.281Z"
   },
   {
    "duration": 2914,
    "start_time": "2025-05-18T16:06:13.214Z"
   },
   {
    "duration": 82,
    "start_time": "2025-05-18T16:07:26.632Z"
   },
   {
    "duration": 3367,
    "start_time": "2025-05-18T16:07:31.834Z"
   },
   {
    "duration": 3758,
    "start_time": "2025-05-18T16:09:09.536Z"
   },
   {
    "duration": 51,
    "start_time": "2025-05-18T16:14:34.238Z"
   },
   {
    "duration": 1400,
    "start_time": "2025-05-18T16:14:42.095Z"
   },
   {
    "duration": 2334,
    "start_time": "2025-05-18T16:14:43.497Z"
   },
   {
    "duration": 54,
    "start_time": "2025-05-18T16:14:45.833Z"
   },
   {
    "duration": 198,
    "start_time": "2025-05-18T16:14:45.890Z"
   },
   {
    "duration": 122,
    "start_time": "2025-05-18T16:14:46.090Z"
   },
   {
    "duration": 133,
    "start_time": "2025-05-18T16:14:46.214Z"
   },
   {
    "duration": 20,
    "start_time": "2025-05-18T16:14:46.349Z"
   },
   {
    "duration": 17,
    "start_time": "2025-05-18T16:14:46.374Z"
   },
   {
    "duration": 340,
    "start_time": "2025-05-18T16:14:46.395Z"
   },
   {
    "duration": 342,
    "start_time": "2025-05-18T16:14:46.738Z"
   },
   {
    "duration": 270,
    "start_time": "2025-05-18T16:14:47.083Z"
   },
   {
    "duration": 266,
    "start_time": "2025-05-18T16:14:47.356Z"
   },
   {
    "duration": 61,
    "start_time": "2025-05-18T16:14:47.624Z"
   },
   {
    "duration": 127,
    "start_time": "2025-05-18T16:14:47.686Z"
   },
   {
    "duration": 3,
    "start_time": "2025-05-18T16:14:47.815Z"
   },
   {
    "duration": 178,
    "start_time": "2025-05-18T16:14:47.820Z"
   },
   {
    "duration": 35,
    "start_time": "2025-05-18T16:14:48.001Z"
   },
   {
    "duration": 80,
    "start_time": "2025-05-18T16:14:48.038Z"
   },
   {
    "duration": 25,
    "start_time": "2025-05-18T16:14:48.120Z"
   },
   {
    "duration": 50,
    "start_time": "2025-05-18T16:14:48.148Z"
   },
   {
    "duration": 26,
    "start_time": "2025-05-18T16:14:48.200Z"
   },
   {
    "duration": 62,
    "start_time": "2025-05-18T16:14:48.228Z"
   },
   {
    "duration": 276,
    "start_time": "2025-05-18T16:14:48.295Z"
   },
   {
    "duration": 416,
    "start_time": "2025-05-18T16:14:48.585Z"
   },
   {
    "duration": 315,
    "start_time": "2025-05-18T16:14:49.003Z"
   },
   {
    "duration": 13,
    "start_time": "2025-05-18T16:14:49.320Z"
   },
   {
    "duration": 100,
    "start_time": "2025-05-18T16:14:49.335Z"
   },
   {
    "duration": 378,
    "start_time": "2025-05-18T16:14:49.438Z"
   },
   {
    "duration": 112,
    "start_time": "2025-05-18T16:14:49.818Z"
   },
   {
    "duration": 6477,
    "start_time": "2025-05-18T16:14:49.932Z"
   },
   {
    "duration": 2321,
    "start_time": "2025-05-18T16:14:56.411Z"
   },
   {
    "duration": 2890,
    "start_time": "2025-05-18T16:14:58.734Z"
   },
   {
    "duration": 3548,
    "start_time": "2025-05-18T16:15:01.627Z"
   },
   {
    "duration": 375,
    "start_time": "2025-05-18T16:47:06.471Z"
   },
   {
    "duration": 111,
    "start_time": "2025-05-18T16:47:43.443Z"
   },
   {
    "duration": 504,
    "start_time": "2025-05-18T16:47:54.559Z"
   },
   {
    "duration": 11,
    "start_time": "2025-05-18T16:48:21.802Z"
   },
   {
    "duration": 14,
    "start_time": "2025-05-18T16:48:32.745Z"
   },
   {
    "duration": 11,
    "start_time": "2025-05-18T16:48:50.060Z"
   },
   {
    "duration": 4603,
    "start_time": "2025-05-18T16:49:04.796Z"
   },
   {
    "duration": 387,
    "start_time": "2025-05-18T16:49:10.143Z"
   },
   {
    "duration": 21,
    "start_time": "2025-05-18T16:49:16.678Z"
   },
   {
    "duration": 118435,
    "start_time": "2025-05-18T16:51:22.137Z"
   },
   {
    "duration": 8780,
    "start_time": "2025-05-18T16:56:41.010Z"
   },
   {
    "duration": 14963,
    "start_time": "2025-05-18T16:57:00.676Z"
   },
   {
    "duration": 10,
    "start_time": "2025-05-18T17:02:06.613Z"
   },
   {
    "duration": 11,
    "start_time": "2025-05-18T17:02:15.894Z"
   },
   {
    "duration": 31,
    "start_time": "2025-05-18T17:02:32.314Z"
   },
   {
    "duration": 20,
    "start_time": "2025-05-19T00:50:15.721Z"
   },
   {
    "duration": 25,
    "start_time": "2025-05-19T00:50:22.093Z"
   },
   {
    "duration": 273,
    "start_time": "2025-05-19T01:11:24.360Z"
   },
   {
    "duration": 52,
    "start_time": "2025-05-19T01:20:22.846Z"
   },
   {
    "duration": 28,
    "start_time": "2025-05-19T01:20:28.742Z"
   },
   {
    "duration": 16,
    "start_time": "2025-05-19T01:27:36.471Z"
   },
   {
    "duration": 5,
    "start_time": "2025-05-19T01:31:00.240Z"
   },
   {
    "duration": 8,
    "start_time": "2025-05-19T01:31:04.046Z"
   },
   {
    "duration": 8,
    "start_time": "2025-05-19T01:34:45.072Z"
   },
   {
    "duration": 8,
    "start_time": "2025-05-19T01:34:51.278Z"
   },
   {
    "duration": 12,
    "start_time": "2025-05-19T01:34:59.367Z"
   },
   {
    "duration": 96,
    "start_time": "2025-05-19T01:35:04.446Z"
   },
   {
    "duration": 32,
    "start_time": "2025-05-19T01:35:05.304Z"
   },
   {
    "duration": 9,
    "start_time": "2025-05-19T01:35:06.044Z"
   },
   {
    "duration": 21721,
    "start_time": "2025-05-19T01:35:06.729Z"
   },
   {
    "duration": 11,
    "start_time": "2025-05-19T01:37:00.037Z"
   },
   {
    "duration": 3,
    "start_time": "2025-05-19T01:37:12.854Z"
   },
   {
    "duration": 24,
    "start_time": "2025-05-19T01:37:36.290Z"
   },
   {
    "duration": 4,
    "start_time": "2025-05-19T01:37:39.229Z"
   },
   {
    "duration": 22591,
    "start_time": "2025-05-19T01:37:45.375Z"
   },
   {
    "duration": 6,
    "start_time": "2025-05-19T01:40:08.983Z"
   },
   {
    "duration": 41,
    "start_time": "2025-05-19T01:40:54.302Z"
   },
   {
    "duration": 21,
    "start_time": "2025-05-19T01:41:12.211Z"
   },
   {
    "duration": 36,
    "start_time": "2025-05-19T01:41:43.453Z"
   },
   {
    "duration": 25,
    "start_time": "2025-05-19T01:41:48.374Z"
   },
   {
    "duration": 87,
    "start_time": "2025-05-19T01:41:51.878Z"
   },
   {
    "duration": 80,
    "start_time": "2025-05-19T01:42:00.592Z"
   },
   {
    "duration": 25,
    "start_time": "2025-05-19T01:42:01.479Z"
   },
   {
    "duration": 8,
    "start_time": "2025-05-19T01:42:02.136Z"
   },
   {
    "duration": 64442,
    "start_time": "2025-05-19T01:42:02.808Z"
   },
   {
    "duration": 63994,
    "start_time": "2025-05-19T01:43:53.176Z"
   },
   {
    "duration": 9,
    "start_time": "2025-05-19T01:55:33.160Z"
   },
   {
    "duration": 175114,
    "start_time": "2025-05-19T01:55:35.749Z"
   },
   {
    "duration": 16,
    "start_time": "2025-05-19T02:01:54.209Z"
   },
   {
    "duration": 8,
    "start_time": "2025-05-19T02:04:52.381Z"
   },
   {
    "duration": 531518,
    "start_time": "2025-05-19T02:04:52.391Z"
   },
   {
    "duration": 12,
    "start_time": "2025-05-19T02:13:55.721Z"
   },
   {
    "duration": 16,
    "start_time": "2025-05-19T02:13:56.171Z"
   },
   {
    "duration": 7,
    "start_time": "2025-05-19T02:14:18.132Z"
   },
   {
    "duration": 16,
    "start_time": "2025-05-19T02:14:20.526Z"
   },
   {
    "duration": 8,
    "start_time": "2025-05-19T02:14:33.838Z"
   },
   {
    "duration": 709479,
    "start_time": "2025-05-19T02:14:34.555Z"
   },
   {
    "duration": 8,
    "start_time": "2025-05-19T02:26:26.664Z"
   },
   {
    "duration": 321114,
    "start_time": "2025-05-19T02:26:28.578Z"
   },
   {
    "duration": 7,
    "start_time": "2025-05-19T02:40:47.811Z"
   },
   {
    "duration": 278656,
    "start_time": "2025-05-19T02:40:49.033Z"
   },
   {
    "duration": 7,
    "start_time": "2025-05-19T02:45:32.618Z"
   },
   {
    "duration": 274124,
    "start_time": "2025-05-19T02:45:33.298Z"
   },
   {
    "duration": 8,
    "start_time": "2025-05-19T02:52:49.789Z"
   },
   {
    "duration": 305366,
    "start_time": "2025-05-19T02:52:50.611Z"
   },
   {
    "duration": 10,
    "start_time": "2025-05-19T06:56:56.498Z"
   },
   {
    "duration": 11,
    "start_time": "2025-05-19T06:57:48.146Z"
   },
   {
    "duration": 17,
    "start_time": "2025-05-19T07:00:11.223Z"
   },
   {
    "duration": 11,
    "start_time": "2025-05-19T07:00:42.911Z"
   },
   {
    "duration": 11,
    "start_time": "2025-05-19T07:03:22.239Z"
   },
   {
    "duration": 11,
    "start_time": "2025-05-19T07:04:18.407Z"
   },
   {
    "duration": 939746,
    "start_time": "2025-05-19T07:04:43.037Z"
   },
   {
    "duration": 14,
    "start_time": "2025-05-19T07:25:45.500Z"
   },
   {
    "duration": 21,
    "start_time": "2025-05-19T07:25:53.422Z"
   },
   {
    "duration": 14,
    "start_time": "2025-05-19T07:26:11.325Z"
   },
   {
    "duration": 17,
    "start_time": "2025-05-19T07:26:15.586Z"
   },
   {
    "duration": 20,
    "start_time": "2025-05-19T07:26:21.809Z"
   },
   {
    "duration": 21,
    "start_time": "2025-05-19T07:26:38.175Z"
   },
   {
    "duration": 17,
    "start_time": "2025-05-19T07:27:16.973Z"
   },
   {
    "duration": 12,
    "start_time": "2025-05-19T07:27:46.026Z"
   },
   {
    "duration": 7,
    "start_time": "2025-05-19T07:28:33.517Z"
   },
   {
    "duration": 25,
    "start_time": "2025-05-19T07:28:46.102Z"
   },
   {
    "duration": 1884,
    "start_time": "2025-05-19T08:30:52.641Z"
   },
   {
    "duration": 26,
    "start_time": "2025-05-19T08:30:54.528Z"
   },
   {
    "duration": 160,
    "start_time": "2025-05-19T08:30:54.560Z"
   },
   {
    "duration": 5,
    "start_time": "2025-05-19T08:32:41.680Z"
   },
   {
    "duration": 14,
    "start_time": "2025-05-19T08:35:39.992Z"
   },
   {
    "duration": 3,
    "start_time": "2025-05-19T08:35:48.598Z"
   },
   {
    "duration": 6,
    "start_time": "2025-05-19T08:35:49.528Z"
   },
   {
    "duration": 1903,
    "start_time": "2025-05-19T08:35:50.803Z"
   },
   {
    "duration": 27,
    "start_time": "2025-05-19T08:35:52.709Z"
   },
   {
    "duration": 175,
    "start_time": "2025-05-19T08:35:52.738Z"
   },
   {
    "duration": 3,
    "start_time": "2025-05-19T08:35:52.916Z"
   },
   {
    "duration": 130,
    "start_time": "2025-05-19T08:35:52.921Z"
   },
   {
    "duration": 103,
    "start_time": "2025-05-19T08:35:53.248Z"
   },
   {
    "duration": 4,
    "start_time": "2025-05-19T08:35:53.639Z"
   },
   {
    "duration": 6,
    "start_time": "2025-05-19T08:35:53.848Z"
   },
   {
    "duration": 235,
    "start_time": "2025-05-19T08:35:54.456Z"
   },
   {
    "duration": 268,
    "start_time": "2025-05-19T08:35:54.947Z"
   },
   {
    "duration": 212,
    "start_time": "2025-05-19T08:35:55.217Z"
   },
   {
    "duration": 257,
    "start_time": "2025-05-19T08:35:55.656Z"
   },
   {
    "duration": 34,
    "start_time": "2025-05-19T08:35:56.248Z"
   },
   {
    "duration": 102,
    "start_time": "2025-05-19T08:35:56.521Z"
   },
   {
    "duration": 4,
    "start_time": "2025-05-19T08:35:57.480Z"
   },
   {
    "duration": 129,
    "start_time": "2025-05-19T08:35:57.822Z"
   },
   {
    "duration": 34,
    "start_time": "2025-05-19T08:35:58.616Z"
   },
   {
    "duration": 48,
    "start_time": "2025-05-19T08:35:59.080Z"
   },
   {
    "duration": 32,
    "start_time": "2025-05-19T08:35:59.425Z"
   },
   {
    "duration": 25,
    "start_time": "2025-05-19T08:35:59.798Z"
   },
   {
    "duration": 25,
    "start_time": "2025-05-19T08:36:00.272Z"
   },
   {
    "duration": 25,
    "start_time": "2025-05-19T08:36:00.557Z"
   },
   {
    "duration": 260,
    "start_time": "2025-05-19T08:36:01.240Z"
   },
   {
    "duration": 367,
    "start_time": "2025-05-19T08:36:01.751Z"
   },
   {
    "duration": 254,
    "start_time": "2025-05-19T08:36:02.121Z"
   },
   {
    "duration": 15,
    "start_time": "2025-05-19T08:36:04.217Z"
   },
   {
    "duration": 73,
    "start_time": "2025-05-19T08:36:04.737Z"
   },
   {
    "duration": 314,
    "start_time": "2025-05-19T08:36:04.971Z"
   },
   {
    "duration": 557,
    "start_time": "2025-05-19T08:36:05.287Z"
   },
   {
    "duration": 99,
    "start_time": "2025-05-19T08:36:06.593Z"
   },
   {
    "duration": 5,
    "start_time": "2025-05-19T08:36:31.480Z"
   },
   {
    "duration": 1887,
    "start_time": "2025-05-19T08:36:32.953Z"
   },
   {
    "duration": 26,
    "start_time": "2025-05-19T08:36:34.843Z"
   },
   {
    "duration": 158,
    "start_time": "2025-05-19T08:36:34.871Z"
   },
   {
    "duration": 3,
    "start_time": "2025-05-19T08:36:35.031Z"
   },
   {
    "duration": 108,
    "start_time": "2025-05-19T08:36:35.977Z"
   },
   {
    "duration": 91,
    "start_time": "2025-05-19T08:36:38.103Z"
   },
   {
    "duration": 3,
    "start_time": "2025-05-19T08:36:38.588Z"
   },
   {
    "duration": 6,
    "start_time": "2025-05-19T08:36:38.856Z"
   },
   {
    "duration": 228,
    "start_time": "2025-05-19T08:36:39.334Z"
   },
   {
    "duration": 248,
    "start_time": "2025-05-19T08:36:39.688Z"
   },
   {
    "duration": 212,
    "start_time": "2025-05-19T08:36:39.939Z"
   },
   {
    "duration": 201,
    "start_time": "2025-05-19T08:36:40.234Z"
   },
   {
    "duration": 36,
    "start_time": "2025-05-19T08:36:40.632Z"
   },
   {
    "duration": 105,
    "start_time": "2025-05-19T08:36:40.907Z"
   },
   {
    "duration": 4,
    "start_time": "2025-05-19T08:36:41.549Z"
   },
   {
    "duration": 138,
    "start_time": "2025-05-19T08:36:41.745Z"
   },
   {
    "duration": 37,
    "start_time": "2025-05-19T08:36:42.544Z"
   },
   {
    "duration": 51,
    "start_time": "2025-05-19T08:36:42.960Z"
   },
   {
    "duration": 32,
    "start_time": "2025-05-19T08:36:43.336Z"
   },
   {
    "duration": 32,
    "start_time": "2025-05-19T08:36:43.712Z"
   },
   {
    "duration": 25,
    "start_time": "2025-05-19T08:36:44.107Z"
   },
   {
    "duration": 27,
    "start_time": "2025-05-19T08:36:44.589Z"
   },
   {
    "duration": 254,
    "start_time": "2025-05-19T08:36:45.226Z"
   },
   {
    "duration": 378,
    "start_time": "2025-05-19T08:36:45.543Z"
   },
   {
    "duration": 257,
    "start_time": "2025-05-19T08:36:45.923Z"
   },
   {
    "duration": 13,
    "start_time": "2025-05-19T08:36:46.377Z"
   },
   {
    "duration": 70,
    "start_time": "2025-05-19T08:36:46.777Z"
   },
   {
    "duration": 313,
    "start_time": "2025-05-19T08:36:46.993Z"
   },
   {
    "duration": 355,
    "start_time": "2025-05-19T08:36:47.309Z"
   },
   {
    "duration": 121,
    "start_time": "2025-05-19T08:36:49.720Z"
   },
   {
    "duration": 4,
    "start_time": "2025-05-19T08:37:22.322Z"
   },
   {
    "duration": 1799,
    "start_time": "2025-05-19T08:37:22.329Z"
   },
   {
    "duration": 2236,
    "start_time": "2025-05-19T08:37:24.129Z"
   },
   {
    "duration": 29,
    "start_time": "2025-05-19T08:37:26.367Z"
   },
   {
    "duration": 178,
    "start_time": "2025-05-19T08:37:26.399Z"
   },
   {
    "duration": 4,
    "start_time": "2025-05-19T08:37:26.578Z"
   },
   {
    "duration": 148,
    "start_time": "2025-05-19T08:37:26.584Z"
   },
   {
    "duration": 142,
    "start_time": "2025-05-19T08:37:26.734Z"
   },
   {
    "duration": 3,
    "start_time": "2025-05-19T08:37:26.878Z"
   },
   {
    "duration": 14,
    "start_time": "2025-05-19T08:37:26.884Z"
   },
   {
    "duration": 316,
    "start_time": "2025-05-19T08:37:26.900Z"
   },
   {
    "duration": 327,
    "start_time": "2025-05-19T08:37:27.218Z"
   },
   {
    "duration": 250,
    "start_time": "2025-05-19T08:37:27.547Z"
   },
   {
    "duration": 219,
    "start_time": "2025-05-19T08:37:27.800Z"
   },
   {
    "duration": 50,
    "start_time": "2025-05-19T08:37:28.021Z"
   },
   {
    "duration": 111,
    "start_time": "2025-05-19T08:37:28.074Z"
   },
   {
    "duration": 4,
    "start_time": "2025-05-19T08:37:28.187Z"
   },
   {
    "duration": 161,
    "start_time": "2025-05-19T08:37:28.194Z"
   },
   {
    "duration": 37,
    "start_time": "2025-05-19T08:37:28.361Z"
   },
   {
    "duration": 65,
    "start_time": "2025-05-19T08:37:28.401Z"
   },
   {
    "duration": 26,
    "start_time": "2025-05-19T08:37:28.468Z"
   },
   {
    "duration": 86,
    "start_time": "2025-05-19T08:37:28.496Z"
   },
   {
    "duration": 25,
    "start_time": "2025-05-19T08:37:28.584Z"
   },
   {
    "duration": 25,
    "start_time": "2025-05-19T08:37:28.611Z"
   },
   {
    "duration": 292,
    "start_time": "2025-05-19T08:37:28.638Z"
   },
   {
    "duration": 386,
    "start_time": "2025-05-19T08:37:28.932Z"
   },
   {
    "duration": 331,
    "start_time": "2025-05-19T08:37:29.320Z"
   },
   {
    "duration": 14,
    "start_time": "2025-05-19T08:37:29.653Z"
   },
   {
    "duration": 111,
    "start_time": "2025-05-19T08:37:29.670Z"
   },
   {
    "duration": 352,
    "start_time": "2025-05-19T08:37:29.783Z"
   },
   {
    "duration": 508,
    "start_time": "2025-05-19T08:37:30.137Z"
   },
   {
    "duration": 0,
    "start_time": "2025-05-19T08:37:30.646Z"
   },
   {
    "duration": 0,
    "start_time": "2025-05-19T08:37:30.648Z"
   },
   {
    "duration": 116,
    "start_time": "2025-05-19T08:37:41.694Z"
   },
   {
    "duration": 86,
    "start_time": "2025-05-19T08:38:05.651Z"
   },
   {
    "duration": 32,
    "start_time": "2025-05-19T08:38:07.995Z"
   },
   {
    "duration": 6,
    "start_time": "2025-05-19T08:38:41.365Z"
   },
   {
    "duration": 6,
    "start_time": "2025-05-19T08:38:57.273Z"
   },
   {
    "duration": 5,
    "start_time": "2025-05-19T08:39:10.320Z"
   },
   {
    "duration": 7,
    "start_time": "2025-05-19T08:39:53.720Z"
   },
   {
    "duration": 6,
    "start_time": "2025-05-19T08:40:00.888Z"
   },
   {
    "duration": 7,
    "start_time": "2025-05-19T08:40:17.694Z"
   },
   {
    "duration": 5,
    "start_time": "2025-05-19T08:40:35.983Z"
   },
   {
    "duration": 4,
    "start_time": "2025-05-19T08:40:41.380Z"
   },
   {
    "duration": 5,
    "start_time": "2025-05-19T08:40:50.047Z"
   },
   {
    "duration": 4,
    "start_time": "2025-05-19T08:40:53.111Z"
   },
   {
    "duration": 4,
    "start_time": "2025-05-19T08:40:59.655Z"
   },
   {
    "duration": 4,
    "start_time": "2025-05-19T08:41:07.033Z"
   },
   {
    "duration": 3,
    "start_time": "2025-05-19T08:41:28.721Z"
   },
   {
    "duration": 6,
    "start_time": "2025-05-19T08:41:28.726Z"
   },
   {
    "duration": 1980,
    "start_time": "2025-05-19T08:41:28.734Z"
   },
   {
    "duration": 27,
    "start_time": "2025-05-19T08:41:30.715Z"
   },
   {
    "duration": 177,
    "start_time": "2025-05-19T08:41:30.744Z"
   },
   {
    "duration": 5,
    "start_time": "2025-05-19T08:41:30.923Z"
   },
   {
    "duration": 117,
    "start_time": "2025-05-19T08:41:30.930Z"
   },
   {
    "duration": 122,
    "start_time": "2025-05-19T08:41:31.049Z"
   },
   {
    "duration": 4,
    "start_time": "2025-05-19T08:41:31.173Z"
   },
   {
    "duration": 13,
    "start_time": "2025-05-19T08:41:31.178Z"
   },
   {
    "duration": 260,
    "start_time": "2025-05-19T08:41:31.194Z"
   },
   {
    "duration": 274,
    "start_time": "2025-05-19T08:41:31.456Z"
   },
   {
    "duration": 265,
    "start_time": "2025-05-19T08:41:31.732Z"
   },
   {
    "duration": 239,
    "start_time": "2025-05-19T08:41:31.999Z"
   },
   {
    "duration": 43,
    "start_time": "2025-05-19T08:41:32.240Z"
   },
   {
    "duration": 109,
    "start_time": "2025-05-19T08:41:32.285Z"
   },
   {
    "duration": 36,
    "start_time": "2025-05-19T08:41:32.395Z"
   },
   {
    "duration": 162,
    "start_time": "2025-05-19T08:41:32.433Z"
   },
   {
    "duration": 35,
    "start_time": "2025-05-19T08:41:32.597Z"
   },
   {
    "duration": 67,
    "start_time": "2025-05-19T08:41:32.633Z"
   },
   {
    "duration": 25,
    "start_time": "2025-05-19T08:41:32.702Z"
   },
   {
    "duration": 41,
    "start_time": "2025-05-19T08:41:32.729Z"
   },
   {
    "duration": 24,
    "start_time": "2025-05-19T08:41:32.772Z"
   },
   {
    "duration": 24,
    "start_time": "2025-05-19T08:41:32.798Z"
   },
   {
    "duration": 281,
    "start_time": "2025-05-19T08:41:32.824Z"
   },
   {
    "duration": 349,
    "start_time": "2025-05-19T08:41:33.106Z"
   },
   {
    "duration": 249,
    "start_time": "2025-05-19T08:41:33.456Z"
   },
   {
    "duration": 14,
    "start_time": "2025-05-19T08:41:33.707Z"
   },
   {
    "duration": 88,
    "start_time": "2025-05-19T08:41:33.724Z"
   },
   {
    "duration": 321,
    "start_time": "2025-05-19T08:41:33.814Z"
   },
   {
    "duration": 86,
    "start_time": "2025-05-19T08:41:34.137Z"
   },
   {
    "duration": 47,
    "start_time": "2025-05-19T08:41:34.224Z"
   },
   {
    "duration": 4,
    "start_time": "2025-05-19T08:41:34.273Z"
   },
   {
    "duration": 4,
    "start_time": "2025-05-19T08:42:13.217Z"
   },
   {
    "duration": 5,
    "start_time": "2025-05-19T10:13:04.613Z"
   },
   {
    "duration": 19,
    "start_time": "2025-05-19T10:15:53.629Z"
   },
   {
    "duration": 2892,
    "start_time": "2025-05-19T10:18:03.750Z"
   },
   {
    "duration": 1710,
    "start_time": "2025-05-19T10:18:06.646Z"
   },
   {
    "duration": 2110,
    "start_time": "2025-05-19T10:18:08.360Z"
   },
   {
    "duration": 33,
    "start_time": "2025-05-19T10:18:10.472Z"
   },
   {
    "duration": 185,
    "start_time": "2025-05-19T10:18:10.507Z"
   },
   {
    "duration": 3,
    "start_time": "2025-05-19T10:18:10.693Z"
   },
   {
    "duration": 134,
    "start_time": "2025-05-19T10:18:10.697Z"
   },
   {
    "duration": 132,
    "start_time": "2025-05-19T10:18:10.833Z"
   },
   {
    "duration": 4,
    "start_time": "2025-05-19T10:18:10.967Z"
   },
   {
    "duration": 14,
    "start_time": "2025-05-19T10:18:10.973Z"
   },
   {
    "duration": 269,
    "start_time": "2025-05-19T10:18:10.988Z"
   },
   {
    "duration": 303,
    "start_time": "2025-05-19T10:18:11.261Z"
   },
   {
    "duration": 236,
    "start_time": "2025-05-19T10:18:11.566Z"
   },
   {
    "duration": 220,
    "start_time": "2025-05-19T10:18:11.805Z"
   },
   {
    "duration": 48,
    "start_time": "2025-05-19T10:18:12.027Z"
   },
   {
    "duration": 116,
    "start_time": "2025-05-19T10:18:12.076Z"
   },
   {
    "duration": 101,
    "start_time": "2025-05-19T10:18:12.194Z"
   },
   {
    "duration": 132,
    "start_time": "2025-05-19T10:18:12.297Z"
   },
   {
    "duration": 47,
    "start_time": "2025-05-19T10:18:12.431Z"
   },
   {
    "duration": 42,
    "start_time": "2025-05-19T10:18:12.480Z"
   },
   {
    "duration": 49,
    "start_time": "2025-05-19T10:18:12.524Z"
   },
   {
    "duration": 24,
    "start_time": "2025-05-19T10:18:12.575Z"
   },
   {
    "duration": 24,
    "start_time": "2025-05-19T10:18:12.601Z"
   },
   {
    "duration": 49,
    "start_time": "2025-05-19T10:18:12.627Z"
   },
   {
    "duration": 264,
    "start_time": "2025-05-19T10:18:12.677Z"
   },
   {
    "duration": 349,
    "start_time": "2025-05-19T10:18:12.943Z"
   },
   {
    "duration": 248,
    "start_time": "2025-05-19T10:18:13.293Z"
   },
   {
    "duration": 20,
    "start_time": "2025-05-19T10:18:13.542Z"
   },
   {
    "duration": 69,
    "start_time": "2025-05-19T10:18:13.563Z"
   },
   {
    "duration": 403,
    "start_time": "2025-05-19T10:18:13.634Z"
   },
   {
    "duration": 104,
    "start_time": "2025-05-19T10:18:14.039Z"
   },
   {
    "duration": 44,
    "start_time": "2025-05-19T10:18:14.145Z"
   },
   {
    "duration": 4,
    "start_time": "2025-05-19T10:18:14.191Z"
   },
   {
    "duration": 7133,
    "start_time": "2025-05-19T10:18:14.196Z"
   },
   {
    "duration": 2204,
    "start_time": "2025-05-19T10:18:21.331Z"
   },
   {
    "duration": 2652,
    "start_time": "2025-05-19T10:18:23.537Z"
   },
   {
    "duration": 3189,
    "start_time": "2025-05-19T10:18:26.191Z"
   },
   {
    "duration": 471,
    "start_time": "2025-05-19T10:18:29.382Z"
   },
   {
    "duration": 725,
    "start_time": "2025-05-19T10:18:29.861Z"
   },
   {
    "duration": 6169,
    "start_time": "2025-05-19T10:18:30.587Z"
   },
   {
    "duration": 27,
    "start_time": "2025-05-19T10:18:36.763Z"
   },
   {
    "duration": 109,
    "start_time": "2025-05-19T10:18:36.791Z"
   },
   {
    "duration": 39,
    "start_time": "2025-05-19T10:18:36.902Z"
   },
   {
    "duration": 73,
    "start_time": "2025-05-19T10:18:36.943Z"
   },
   {
    "duration": 0,
    "start_time": "2025-05-19T10:18:37.018Z"
   },
   {
    "duration": 0,
    "start_time": "2025-05-19T10:18:37.019Z"
   },
   {
    "duration": 0,
    "start_time": "2025-05-19T10:18:37.020Z"
   },
   {
    "duration": 69,
    "start_time": "2025-05-19T10:20:49.020Z"
   },
   {
    "duration": 12,
    "start_time": "2025-05-19T10:21:33.422Z"
   },
   {
    "duration": 2765,
    "start_time": "2025-05-19T10:21:39.849Z"
   },
   {
    "duration": 1612,
    "start_time": "2025-05-19T10:21:42.617Z"
   },
   {
    "duration": 2124,
    "start_time": "2025-05-19T10:21:44.231Z"
   },
   {
    "duration": 33,
    "start_time": "2025-05-19T10:21:46.357Z"
   },
   {
    "duration": 186,
    "start_time": "2025-05-19T10:21:46.392Z"
   },
   {
    "duration": 3,
    "start_time": "2025-05-19T10:21:46.579Z"
   },
   {
    "duration": 134,
    "start_time": "2025-05-19T10:21:46.584Z"
   },
   {
    "duration": 122,
    "start_time": "2025-05-19T10:21:46.720Z"
   },
   {
    "duration": 4,
    "start_time": "2025-05-19T10:21:46.844Z"
   },
   {
    "duration": 6,
    "start_time": "2025-05-19T10:21:46.861Z"
   },
   {
    "duration": 339,
    "start_time": "2025-05-19T10:21:46.869Z"
   },
   {
    "duration": 304,
    "start_time": "2025-05-19T10:21:47.210Z"
   },
   {
    "duration": 232,
    "start_time": "2025-05-19T10:21:47.516Z"
   },
   {
    "duration": 217,
    "start_time": "2025-05-19T10:21:47.750Z"
   },
   {
    "duration": 42,
    "start_time": "2025-05-19T10:21:47.969Z"
   },
   {
    "duration": 176,
    "start_time": "2025-05-19T10:21:48.012Z"
   },
   {
    "duration": 3,
    "start_time": "2025-05-19T10:21:48.190Z"
   },
   {
    "duration": 228,
    "start_time": "2025-05-19T10:21:48.195Z"
   },
   {
    "duration": 45,
    "start_time": "2025-05-19T10:21:48.425Z"
   },
   {
    "duration": 43,
    "start_time": "2025-05-19T10:21:48.472Z"
   },
   {
    "duration": 25,
    "start_time": "2025-05-19T10:21:48.516Z"
   },
   {
    "duration": 40,
    "start_time": "2025-05-19T10:21:48.543Z"
   },
   {
    "duration": 25,
    "start_time": "2025-05-19T10:21:48.585Z"
   },
   {
    "duration": 48,
    "start_time": "2025-05-19T10:21:48.612Z"
   },
   {
    "duration": 250,
    "start_time": "2025-05-19T10:21:48.662Z"
   },
   {
    "duration": 376,
    "start_time": "2025-05-19T10:21:48.914Z"
   },
   {
    "duration": 244,
    "start_time": "2025-05-19T10:21:49.292Z"
   },
   {
    "duration": 22,
    "start_time": "2025-05-19T10:21:49.540Z"
   },
   {
    "duration": 69,
    "start_time": "2025-05-19T10:21:49.564Z"
   },
   {
    "duration": 401,
    "start_time": "2025-05-19T10:21:49.635Z"
   },
   {
    "duration": 98,
    "start_time": "2025-05-19T10:21:50.038Z"
   },
   {
    "duration": 41,
    "start_time": "2025-05-19T10:21:50.138Z"
   },
   {
    "duration": 4,
    "start_time": "2025-05-19T10:21:50.181Z"
   },
   {
    "duration": 7080,
    "start_time": "2025-05-19T10:21:50.186Z"
   },
   {
    "duration": 2204,
    "start_time": "2025-05-19T10:21:57.268Z"
   },
   {
    "duration": 2616,
    "start_time": "2025-05-19T10:21:59.475Z"
   },
   {
    "duration": 3148,
    "start_time": "2025-05-19T10:22:02.093Z"
   },
   {
    "duration": 532,
    "start_time": "2025-05-19T10:22:05.243Z"
   },
   {
    "duration": 745,
    "start_time": "2025-05-19T10:22:05.777Z"
   },
   {
    "duration": 6234,
    "start_time": "2025-05-19T10:22:06.525Z"
   },
   {
    "duration": 27,
    "start_time": "2025-05-19T10:22:12.761Z"
   },
   {
    "duration": 126,
    "start_time": "2025-05-19T10:22:12.790Z"
   },
   {
    "duration": 25,
    "start_time": "2025-05-19T10:22:12.918Z"
   },
   {
    "duration": 21,
    "start_time": "2025-05-19T10:22:12.945Z"
   },
   {
    "duration": 1892622,
    "start_time": "2025-05-19T10:22:12.968Z"
   },
   {
    "duration": 215,
    "start_time": "2025-05-19T10:53:45.591Z"
   },
   {
    "duration": 0,
    "start_time": "2025-05-19T10:53:45.808Z"
   },
   {
    "duration": 7,
    "start_time": "2025-05-19T10:59:41.719Z"
   },
   {
    "duration": 8,
    "start_time": "2025-05-19T11:00:00.143Z"
   },
   {
    "duration": 25,
    "start_time": "2025-05-19T11:00:51.232Z"
   },
   {
    "duration": 67,
    "start_time": "2025-05-19T16:24:21.510Z"
   },
   {
    "duration": 3342,
    "start_time": "2025-05-19T16:27:09.470Z"
   },
   {
    "duration": 1632,
    "start_time": "2025-05-19T16:27:12.814Z"
   },
   {
    "duration": 1758,
    "start_time": "2025-05-19T16:27:14.448Z"
   },
   {
    "duration": 26,
    "start_time": "2025-05-19T16:27:16.208Z"
   },
   {
    "duration": 143,
    "start_time": "2025-05-19T16:27:16.236Z"
   },
   {
    "duration": 91,
    "start_time": "2025-05-19T16:27:16.381Z"
   },
   {
    "duration": 96,
    "start_time": "2025-05-19T16:27:16.473Z"
   },
   {
    "duration": 115,
    "start_time": "2025-05-19T16:27:16.571Z"
   },
   {
    "duration": 4,
    "start_time": "2025-05-19T16:27:16.687Z"
   },
   {
    "duration": 6,
    "start_time": "2025-05-19T16:27:16.693Z"
   },
   {
    "duration": 226,
    "start_time": "2025-05-19T16:27:16.701Z"
   },
   {
    "duration": 266,
    "start_time": "2025-05-19T16:27:16.929Z"
   },
   {
    "duration": 202,
    "start_time": "2025-05-19T16:27:17.197Z"
   },
   {
    "duration": 191,
    "start_time": "2025-05-19T16:27:17.402Z"
   },
   {
    "duration": 43,
    "start_time": "2025-05-19T16:27:17.595Z"
   },
   {
    "duration": 100,
    "start_time": "2025-05-19T16:27:17.640Z"
   },
   {
    "duration": 3,
    "start_time": "2025-05-19T16:27:17.742Z"
   },
   {
    "duration": 125,
    "start_time": "2025-05-19T16:27:17.747Z"
   },
   {
    "duration": 31,
    "start_time": "2025-05-19T16:27:17.874Z"
   },
   {
    "duration": 51,
    "start_time": "2025-05-19T16:27:17.907Z"
   },
   {
    "duration": 22,
    "start_time": "2025-05-19T16:27:17.960Z"
   },
   {
    "duration": 56,
    "start_time": "2025-05-19T16:27:17.984Z"
   },
   {
    "duration": 21,
    "start_time": "2025-05-19T16:27:18.042Z"
   },
   {
    "duration": 103,
    "start_time": "2025-05-19T16:27:18.065Z"
   },
   {
    "duration": 242,
    "start_time": "2025-05-19T16:27:18.169Z"
   },
   {
    "duration": 319,
    "start_time": "2025-05-19T16:27:18.413Z"
   },
   {
    "duration": 221,
    "start_time": "2025-05-19T16:27:18.733Z"
   },
   {
    "duration": 12,
    "start_time": "2025-05-19T16:27:18.955Z"
   },
   {
    "duration": 62,
    "start_time": "2025-05-19T16:27:18.968Z"
   },
   {
    "duration": 343,
    "start_time": "2025-05-19T16:27:19.031Z"
   },
   {
    "duration": 95,
    "start_time": "2025-05-19T16:27:19.375Z"
   },
   {
    "duration": 33,
    "start_time": "2025-05-19T16:27:19.472Z"
   },
   {
    "duration": 4,
    "start_time": "2025-05-19T16:27:19.507Z"
   },
   {
    "duration": 6741,
    "start_time": "2025-05-19T16:27:19.513Z"
   },
   {
    "duration": 1907,
    "start_time": "2025-05-19T16:27:26.256Z"
   },
   {
    "duration": 2423,
    "start_time": "2025-05-19T16:27:28.165Z"
   },
   {
    "duration": 2979,
    "start_time": "2025-05-19T16:27:30.589Z"
   },
   {
    "duration": 397,
    "start_time": "2025-05-19T16:27:33.570Z"
   },
   {
    "duration": 679,
    "start_time": "2025-05-19T16:27:33.968Z"
   },
   {
    "duration": 5608,
    "start_time": "2025-05-19T16:27:34.649Z"
   },
   {
    "duration": 25,
    "start_time": "2025-05-19T16:27:40.260Z"
   },
   {
    "duration": 87,
    "start_time": "2025-05-19T16:27:40.287Z"
   },
   {
    "duration": 19,
    "start_time": "2025-05-19T16:27:40.375Z"
   },
   {
    "duration": 179,
    "start_time": "2025-05-19T16:27:40.396Z"
   },
   {
    "duration": 0,
    "start_time": "2025-05-19T16:27:40.577Z"
   },
   {
    "duration": 0,
    "start_time": "2025-05-19T16:27:40.578Z"
   },
   {
    "duration": 0,
    "start_time": "2025-05-19T16:27:40.579Z"
   },
   {
    "duration": 0,
    "start_time": "2025-05-19T16:27:40.580Z"
   },
   {
    "duration": 2396,
    "start_time": "2025-05-19T16:44:02.369Z"
   },
   {
    "duration": 1497,
    "start_time": "2025-05-19T16:44:04.767Z"
   },
   {
    "duration": 1781,
    "start_time": "2025-05-19T16:44:06.266Z"
   },
   {
    "duration": 27,
    "start_time": "2025-05-19T16:44:08.048Z"
   },
   {
    "duration": 149,
    "start_time": "2025-05-19T16:44:08.076Z"
   },
   {
    "duration": 52,
    "start_time": "2025-05-19T16:44:08.227Z"
   },
   {
    "duration": 92,
    "start_time": "2025-05-19T16:44:08.280Z"
   },
   {
    "duration": 115,
    "start_time": "2025-05-19T16:44:08.374Z"
   },
   {
    "duration": 44,
    "start_time": "2025-05-19T16:44:08.491Z"
   },
   {
    "duration": 5,
    "start_time": "2025-05-19T16:44:08.537Z"
   },
   {
    "duration": 208,
    "start_time": "2025-05-19T16:44:08.544Z"
   },
   {
    "duration": 272,
    "start_time": "2025-05-19T16:44:08.757Z"
   },
   {
    "duration": 207,
    "start_time": "2025-05-19T16:44:09.031Z"
   },
   {
    "duration": 193,
    "start_time": "2025-05-19T16:44:09.240Z"
   },
   {
    "duration": 49,
    "start_time": "2025-05-19T16:44:09.435Z"
   },
   {
    "duration": 95,
    "start_time": "2025-05-19T16:44:09.485Z"
   },
   {
    "duration": 4,
    "start_time": "2025-05-19T16:44:09.581Z"
   },
   {
    "duration": 130,
    "start_time": "2025-05-19T16:44:09.586Z"
   },
   {
    "duration": 40,
    "start_time": "2025-05-19T16:44:09.718Z"
   },
   {
    "duration": 37,
    "start_time": "2025-05-19T16:44:09.760Z"
   },
   {
    "duration": 25,
    "start_time": "2025-05-19T16:44:09.798Z"
   },
   {
    "duration": 54,
    "start_time": "2025-05-19T16:44:09.825Z"
   },
   {
    "duration": 22,
    "start_time": "2025-05-19T16:44:09.881Z"
   },
   {
    "duration": 23,
    "start_time": "2025-05-19T16:44:09.905Z"
   },
   {
    "duration": 248,
    "start_time": "2025-05-19T16:44:09.930Z"
   },
   {
    "duration": 313,
    "start_time": "2025-05-19T16:44:10.180Z"
   },
   {
    "duration": 215,
    "start_time": "2025-05-19T16:44:10.495Z"
   },
   {
    "duration": 11,
    "start_time": "2025-05-19T16:44:10.712Z"
   },
   {
    "duration": 77,
    "start_time": "2025-05-19T16:44:10.724Z"
   },
   {
    "duration": 338,
    "start_time": "2025-05-19T16:44:10.803Z"
   },
   {
    "duration": 110,
    "start_time": "2025-05-19T16:44:11.142Z"
   },
   {
    "duration": 36,
    "start_time": "2025-05-19T16:44:11.253Z"
   },
   {
    "duration": 4,
    "start_time": "2025-05-19T16:44:11.291Z"
   },
   {
    "duration": 6547,
    "start_time": "2025-05-19T16:44:11.296Z"
   },
   {
    "duration": 1916,
    "start_time": "2025-05-19T16:44:17.844Z"
   },
   {
    "duration": 2429,
    "start_time": "2025-05-19T16:44:19.762Z"
   },
   {
    "duration": 2825,
    "start_time": "2025-05-19T16:44:22.193Z"
   },
   {
    "duration": 428,
    "start_time": "2025-05-19T16:44:25.020Z"
   },
   {
    "duration": 673,
    "start_time": "2025-05-19T16:44:25.450Z"
   },
   {
    "duration": 5543,
    "start_time": "2025-05-19T16:44:26.124Z"
   },
   {
    "duration": 31,
    "start_time": "2025-05-19T16:44:31.672Z"
   },
   {
    "duration": 97,
    "start_time": "2025-05-19T16:44:31.705Z"
   },
   {
    "duration": 20,
    "start_time": "2025-05-19T16:44:31.803Z"
   },
   {
    "duration": 131,
    "start_time": "2025-05-19T16:44:31.825Z"
   },
   {
    "duration": 0,
    "start_time": "2025-05-19T16:44:31.958Z"
   },
   {
    "duration": 0,
    "start_time": "2025-05-19T16:44:31.959Z"
   },
   {
    "duration": 0,
    "start_time": "2025-05-19T16:44:31.960Z"
   },
   {
    "duration": 0,
    "start_time": "2025-05-19T16:44:31.961Z"
   },
   {
    "duration": 4,
    "start_time": "2025-05-19T16:46:59.636Z"
   },
   {
    "duration": 2480,
    "start_time": "2025-05-19T16:47:04.177Z"
   },
   {
    "duration": 1458,
    "start_time": "2025-05-19T16:47:06.659Z"
   },
   {
    "duration": 1779,
    "start_time": "2025-05-19T16:47:08.119Z"
   },
   {
    "duration": 26,
    "start_time": "2025-05-19T16:47:09.900Z"
   },
   {
    "duration": 148,
    "start_time": "2025-05-19T16:47:09.927Z"
   },
   {
    "duration": 3,
    "start_time": "2025-05-19T16:47:10.076Z"
   },
   {
    "duration": 104,
    "start_time": "2025-05-19T16:47:10.081Z"
   },
   {
    "duration": 127,
    "start_time": "2025-05-19T16:47:10.187Z"
   },
   {
    "duration": 3,
    "start_time": "2025-05-19T16:47:10.316Z"
   },
   {
    "duration": 17,
    "start_time": "2025-05-19T16:47:10.321Z"
   },
   {
    "duration": 224,
    "start_time": "2025-05-19T16:47:10.339Z"
   },
   {
    "duration": 281,
    "start_time": "2025-05-19T16:47:10.565Z"
   },
   {
    "duration": 203,
    "start_time": "2025-05-19T16:47:10.847Z"
   },
   {
    "duration": 198,
    "start_time": "2025-05-19T16:47:11.052Z"
   },
   {
    "duration": 41,
    "start_time": "2025-05-19T16:47:11.252Z"
   },
   {
    "duration": 101,
    "start_time": "2025-05-19T16:47:11.295Z"
   },
   {
    "duration": 3,
    "start_time": "2025-05-19T16:47:11.398Z"
   },
   {
    "duration": 138,
    "start_time": "2025-05-19T16:47:11.402Z"
   },
   {
    "duration": 40,
    "start_time": "2025-05-19T16:47:11.542Z"
   },
   {
    "duration": 48,
    "start_time": "2025-05-19T16:47:11.584Z"
   },
   {
    "duration": 41,
    "start_time": "2025-05-19T16:47:11.633Z"
   },
   {
    "duration": 23,
    "start_time": "2025-05-19T16:47:11.676Z"
   },
   {
    "duration": 23,
    "start_time": "2025-05-19T16:47:11.701Z"
   },
   {
    "duration": 44,
    "start_time": "2025-05-19T16:47:11.726Z"
   },
   {
    "duration": 219,
    "start_time": "2025-05-19T16:47:11.772Z"
   },
   {
    "duration": 316,
    "start_time": "2025-05-19T16:47:11.993Z"
   },
   {
    "duration": 219,
    "start_time": "2025-05-19T16:47:12.310Z"
   },
   {
    "duration": 13,
    "start_time": "2025-05-19T16:47:12.533Z"
   },
   {
    "duration": 70,
    "start_time": "2025-05-19T16:47:12.548Z"
   },
   {
    "duration": 346,
    "start_time": "2025-05-19T16:47:12.620Z"
   },
   {
    "duration": 72,
    "start_time": "2025-05-19T16:47:12.968Z"
   },
   {
    "duration": 47,
    "start_time": "2025-05-19T16:47:13.042Z"
   },
   {
    "duration": 4,
    "start_time": "2025-05-19T16:47:13.091Z"
   },
   {
    "duration": 6646,
    "start_time": "2025-05-19T16:47:13.096Z"
   },
   {
    "duration": 1962,
    "start_time": "2025-05-19T16:47:19.744Z"
   },
   {
    "duration": 2400,
    "start_time": "2025-05-19T16:47:21.708Z"
   },
   {
    "duration": 3185,
    "start_time": "2025-05-19T16:47:24.110Z"
   },
   {
    "duration": 474,
    "start_time": "2025-05-19T16:47:27.297Z"
   },
   {
    "duration": 694,
    "start_time": "2025-05-19T16:47:27.773Z"
   },
   {
    "duration": 5769,
    "start_time": "2025-05-19T16:47:28.470Z"
   },
   {
    "duration": 35,
    "start_time": "2025-05-19T16:47:34.241Z"
   },
   {
    "duration": 81,
    "start_time": "2025-05-19T16:47:34.277Z"
   },
   {
    "duration": 20,
    "start_time": "2025-05-19T16:47:34.360Z"
   },
   {
    "duration": 190,
    "start_time": "2025-05-19T16:47:34.381Z"
   },
   {
    "duration": 0,
    "start_time": "2025-05-19T16:47:34.572Z"
   },
   {
    "duration": 0,
    "start_time": "2025-05-19T16:47:34.573Z"
   },
   {
    "duration": 0,
    "start_time": "2025-05-19T16:47:34.574Z"
   },
   {
    "duration": 0,
    "start_time": "2025-05-19T16:47:34.575Z"
   },
   {
    "duration": 8,
    "start_time": "2025-05-19T16:49:04.461Z"
   },
   {
    "duration": 29334,
    "start_time": "2025-05-19T16:49:08.519Z"
   },
   {
    "duration": 8,
    "start_time": "2025-05-19T16:54:56.360Z"
   },
   {
    "duration": 57301,
    "start_time": "2025-05-19T16:54:59.751Z"
   },
   {
    "duration": 72158,
    "start_time": "2025-05-19T16:55:57.054Z"
   },
   {
    "duration": 20,
    "start_time": "2025-05-19T16:57:19.186Z"
   },
   {
    "duration": 77602,
    "start_time": "2025-05-19T16:57:26.293Z"
   },
   {
    "duration": 8,
    "start_time": "2025-05-19T16:59:19.965Z"
   },
   {
    "duration": 161,
    "start_time": "2025-05-19T16:59:21.534Z"
   },
   {
    "duration": 9,
    "start_time": "2025-05-19T17:01:37.412Z"
   },
   {
    "duration": 114,
    "start_time": "2025-05-19T17:01:38.665Z"
   },
   {
    "duration": 8,
    "start_time": "2025-05-19T17:02:16.948Z"
   },
   {
    "duration": 71588,
    "start_time": "2025-05-19T17:02:19.800Z"
   },
   {
    "duration": 14,
    "start_time": "2025-05-19T17:04:01.417Z"
   },
   {
    "duration": 8,
    "start_time": "2025-05-19T17:05:04.275Z"
   },
   {
    "duration": 71739,
    "start_time": "2025-05-19T17:05:05.521Z"
   },
   {
    "duration": 14,
    "start_time": "2025-05-19T17:08:01.691Z"
   },
   {
    "duration": 4,
    "start_time": "2025-05-19T17:08:23.523Z"
   },
   {
    "duration": 7,
    "start_time": "2025-05-19T17:08:32.945Z"
   },
   {
    "duration": 56,
    "start_time": "2025-05-20T12:04:32.293Z"
   },
   {
    "duration": 10622,
    "start_time": "2025-05-20T12:04:39.200Z"
   },
   {
    "duration": 1806,
    "start_time": "2025-05-20T12:05:03.960Z"
   },
   {
    "duration": 3344,
    "start_time": "2025-05-20T12:05:25.932Z"
   },
   {
    "duration": 83,
    "start_time": "2025-05-20T12:05:32.137Z"
   },
   {
    "duration": 30,
    "start_time": "2025-05-20T12:14:12.867Z"
   },
   {
    "duration": 2846,
    "start_time": "2025-05-20T12:14:31.811Z"
   },
   {
    "duration": 6,
    "start_time": "2025-05-20T12:14:34.660Z"
   },
   {
    "duration": 2166,
    "start_time": "2025-05-20T12:14:34.667Z"
   },
   {
    "duration": 33,
    "start_time": "2025-05-20T12:14:36.835Z"
   },
   {
    "duration": 238,
    "start_time": "2025-05-20T12:14:36.871Z"
   },
   {
    "duration": 2,
    "start_time": "2025-05-20T12:14:37.111Z"
   },
   {
    "duration": 119,
    "start_time": "2025-05-20T12:14:37.115Z"
   },
   {
    "duration": 130,
    "start_time": "2025-05-20T12:14:37.237Z"
   },
   {
    "duration": 5,
    "start_time": "2025-05-20T12:14:37.369Z"
   },
   {
    "duration": 8,
    "start_time": "2025-05-20T12:14:37.376Z"
   },
   {
    "duration": 259,
    "start_time": "2025-05-20T12:14:37.386Z"
   },
   {
    "duration": 320,
    "start_time": "2025-05-20T12:14:37.647Z"
   },
   {
    "duration": 234,
    "start_time": "2025-05-20T12:14:37.969Z"
   },
   {
    "duration": 218,
    "start_time": "2025-05-20T12:14:38.208Z"
   },
   {
    "duration": 56,
    "start_time": "2025-05-20T12:14:38.428Z"
   },
   {
    "duration": 179,
    "start_time": "2025-05-20T12:14:38.485Z"
   },
   {
    "duration": 84,
    "start_time": "2025-05-20T12:14:38.665Z"
   },
   {
    "duration": 142,
    "start_time": "2025-05-20T12:14:38.751Z"
   },
   {
    "duration": 36,
    "start_time": "2025-05-20T12:14:38.895Z"
   },
   {
    "duration": 63,
    "start_time": "2025-05-20T12:14:38.933Z"
   },
   {
    "duration": 27,
    "start_time": "2025-05-20T12:14:38.998Z"
   },
   {
    "duration": 47,
    "start_time": "2025-05-20T12:14:39.027Z"
   },
   {
    "duration": 24,
    "start_time": "2025-05-20T12:14:39.076Z"
   },
   {
    "duration": 24,
    "start_time": "2025-05-20T12:14:39.102Z"
   },
   {
    "duration": 261,
    "start_time": "2025-05-20T12:14:39.128Z"
   },
   {
    "duration": 349,
    "start_time": "2025-05-20T12:14:39.391Z"
   },
   {
    "duration": 251,
    "start_time": "2025-05-20T12:14:39.742Z"
   },
   {
    "duration": 16,
    "start_time": "2025-05-20T12:14:39.995Z"
   },
   {
    "duration": 122,
    "start_time": "2025-05-20T12:14:40.013Z"
   },
   {
    "duration": 397,
    "start_time": "2025-05-20T12:14:40.137Z"
   },
   {
    "duration": 89,
    "start_time": "2025-05-20T12:14:40.536Z"
   },
   {
    "duration": 40,
    "start_time": "2025-05-20T12:14:40.627Z"
   },
   {
    "duration": 62,
    "start_time": "2025-05-20T12:14:40.669Z"
   },
   {
    "duration": 6993,
    "start_time": "2025-05-20T12:14:40.733Z"
   },
   {
    "duration": 2226,
    "start_time": "2025-05-20T12:14:47.729Z"
   },
   {
    "duration": 2561,
    "start_time": "2025-05-20T12:14:49.957Z"
   },
   {
    "duration": 3118,
    "start_time": "2025-05-20T12:14:52.520Z"
   },
   {
    "duration": 621,
    "start_time": "2025-05-20T12:14:55.639Z"
   },
   {
    "duration": 603,
    "start_time": "2025-05-20T12:14:56.262Z"
   },
   {
    "duration": 6186,
    "start_time": "2025-05-20T12:14:56.867Z"
   },
   {
    "duration": 26,
    "start_time": "2025-05-20T12:15:03.060Z"
   },
   {
    "duration": 106,
    "start_time": "2025-05-20T12:15:03.088Z"
   },
   {
    "duration": 22,
    "start_time": "2025-05-20T12:15:03.195Z"
   },
   {
    "duration": 21,
    "start_time": "2025-05-20T12:16:26.241Z"
   },
   {
    "duration": 18,
    "start_time": "2025-05-20T12:16:42.847Z"
   },
   {
    "duration": 9,
    "start_time": "2025-05-20T12:19:05.054Z"
   },
   {
    "duration": 9,
    "start_time": "2025-05-20T12:19:44.880Z"
   },
   {
    "duration": 308840,
    "start_time": "2025-05-20T12:36:54.641Z"
   },
   {
    "duration": 10,
    "start_time": "2025-05-20T13:04:08.984Z"
   },
   {
    "duration": 424706,
    "start_time": "2025-05-20T13:04:15.542Z"
   },
   {
    "duration": 3,
    "start_time": "2025-05-20T13:11:41.352Z"
   },
   {
    "duration": 37,
    "start_time": "2025-05-20T13:11:45.613Z"
   },
   {
    "duration": 12,
    "start_time": "2025-05-20T13:49:53.797Z"
   },
   {
    "duration": 5,
    "start_time": "2025-05-20T13:50:04.942Z"
   },
   {
    "duration": 825,
    "start_time": "2025-05-20T13:50:15.956Z"
   },
   {
    "duration": 763,
    "start_time": "2025-05-20T13:50:24.904Z"
   },
   {
    "duration": 4,
    "start_time": "2025-05-20T13:50:36.717Z"
   },
   {
    "duration": 5,
    "start_time": "2025-05-20T13:50:43.873Z"
   },
   {
    "duration": 17,
    "start_time": "2025-05-20T13:50:58.760Z"
   },
   {
    "duration": 102,
    "start_time": "2025-05-20T13:53:35.589Z"
   },
   {
    "duration": 17,
    "start_time": "2025-05-20T13:57:27.779Z"
   },
   {
    "duration": 9,
    "start_time": "2025-05-20T13:59:24.326Z"
   },
   {
    "duration": 361034,
    "start_time": "2025-05-20T13:59:30.119Z"
   },
   {
    "duration": 13,
    "start_time": "2025-05-20T14:09:23.450Z"
   },
   {
    "duration": 11,
    "start_time": "2025-05-20T14:09:59.549Z"
   },
   {
    "duration": 124,
    "start_time": "2025-05-20T14:10:10.477Z"
   },
   {
    "duration": 4,
    "start_time": "2025-05-20T14:10:19.395Z"
   },
   {
    "duration": 98,
    "start_time": "2025-05-20T14:10:24.085Z"
   },
   {
    "duration": 12,
    "start_time": "2025-05-20T14:13:18.117Z"
   },
   {
    "duration": 12,
    "start_time": "2025-05-20T14:13:52.629Z"
   },
   {
    "duration": 4,
    "start_time": "2025-05-20T14:14:01.498Z"
   },
   {
    "duration": 4,
    "start_time": "2025-05-20T14:14:05.493Z"
   },
   {
    "duration": 17,
    "start_time": "2025-05-20T14:14:43.436Z"
   },
   {
    "duration": 2,
    "start_time": "2025-05-20T14:15:40.829Z"
   },
   {
    "duration": 52,
    "start_time": "2025-05-20T14:15:55.859Z"
   },
   {
    "duration": 2650,
    "start_time": "2025-05-20T14:19:49.647Z"
   },
   {
    "duration": 27,
    "start_time": "2025-05-20T14:20:20.990Z"
   },
   {
    "duration": 4,
    "start_time": "2025-05-20T14:24:04.898Z"
   },
   {
    "duration": 2674,
    "start_time": "2025-05-20T14:24:44.382Z"
   },
   {
    "duration": 1472,
    "start_time": "2025-05-20T14:24:47.059Z"
   },
   {
    "duration": 1986,
    "start_time": "2025-05-20T14:24:48.533Z"
   },
   {
    "duration": 30,
    "start_time": "2025-05-20T14:24:50.520Z"
   },
   {
    "duration": 186,
    "start_time": "2025-05-20T14:24:50.553Z"
   },
   {
    "duration": 6,
    "start_time": "2025-05-20T14:24:50.741Z"
   },
   {
    "duration": 113,
    "start_time": "2025-05-20T14:24:50.748Z"
   },
   {
    "duration": 120,
    "start_time": "2025-05-20T14:24:50.863Z"
   },
   {
    "duration": 137,
    "start_time": "2025-05-20T14:24:50.985Z"
   },
   {
    "duration": 21,
    "start_time": "2025-05-20T14:24:51.124Z"
   },
   {
    "duration": 258,
    "start_time": "2025-05-20T14:24:51.146Z"
   },
   {
    "duration": 238,
    "start_time": "2025-05-20T14:24:51.406Z"
   },
   {
    "duration": 203,
    "start_time": "2025-05-20T14:24:51.646Z"
   },
   {
    "duration": 208,
    "start_time": "2025-05-20T14:24:51.853Z"
   },
   {
    "duration": 43,
    "start_time": "2025-05-20T14:24:52.063Z"
   },
   {
    "duration": 109,
    "start_time": "2025-05-20T14:24:52.108Z"
   },
   {
    "duration": 80,
    "start_time": "2025-05-20T14:24:52.219Z"
   },
   {
    "duration": 129,
    "start_time": "2025-05-20T14:24:52.301Z"
   },
   {
    "duration": 41,
    "start_time": "2025-05-20T14:24:52.432Z"
   },
   {
    "duration": 40,
    "start_time": "2025-05-20T14:24:52.474Z"
   },
   {
    "duration": 91,
    "start_time": "2025-05-20T14:24:52.516Z"
   },
   {
    "duration": 23,
    "start_time": "2025-05-20T14:24:52.609Z"
   },
   {
    "duration": 24,
    "start_time": "2025-05-20T14:24:52.634Z"
   },
   {
    "duration": 24,
    "start_time": "2025-05-20T14:24:52.660Z"
   },
   {
    "duration": 262,
    "start_time": "2025-05-20T14:24:52.686Z"
   },
   {
    "duration": 359,
    "start_time": "2025-05-20T14:24:52.950Z"
   },
   {
    "duration": 237,
    "start_time": "2025-05-20T14:24:53.312Z"
   },
   {
    "duration": 18,
    "start_time": "2025-05-20T14:24:53.551Z"
   },
   {
    "duration": 66,
    "start_time": "2025-05-20T14:24:53.571Z"
   },
   {
    "duration": 399,
    "start_time": "2025-05-20T14:24:53.639Z"
   },
   {
    "duration": 107,
    "start_time": "2025-05-20T14:24:54.040Z"
   },
   {
    "duration": 40,
    "start_time": "2025-05-20T14:24:54.149Z"
   },
   {
    "duration": 4,
    "start_time": "2025-05-20T14:24:54.191Z"
   },
   {
    "duration": 7332,
    "start_time": "2025-05-20T14:24:54.197Z"
   },
   {
    "duration": 2229,
    "start_time": "2025-05-20T14:25:01.531Z"
   },
   {
    "duration": 2553,
    "start_time": "2025-05-20T14:25:03.762Z"
   },
   {
    "duration": 3166,
    "start_time": "2025-05-20T14:25:06.317Z"
   },
   {
    "duration": 458,
    "start_time": "2025-05-20T14:25:09.485Z"
   },
   {
    "duration": 710,
    "start_time": "2025-05-20T14:25:09.944Z"
   },
   {
    "duration": 6059,
    "start_time": "2025-05-20T14:25:10.656Z"
   },
   {
    "duration": 28,
    "start_time": "2025-05-20T14:25:16.720Z"
   },
   {
    "duration": 82,
    "start_time": "2025-05-20T14:25:16.761Z"
   },
   {
    "duration": 40,
    "start_time": "2025-05-20T14:25:16.845Z"
   },
   {
    "duration": 12,
    "start_time": "2025-05-20T14:25:16.887Z"
   },
   {
    "duration": 135,
    "start_time": "2025-05-20T14:27:54.490Z"
   },
   {
    "duration": 16,
    "start_time": "2025-05-20T14:34:39.440Z"
   },
   {
    "duration": 9,
    "start_time": "2025-05-20T14:34:46.741Z"
   },
   {
    "duration": 367769,
    "start_time": "2025-05-20T14:34:49.332Z"
   },
   {
    "duration": 14,
    "start_time": "2025-05-20T14:49:27.079Z"
   },
   {
    "duration": 5,
    "start_time": "2025-05-20T14:49:58.906Z"
   },
   {
    "duration": 40560,
    "start_time": "2025-05-20T14:50:07.151Z"
   },
   {
    "duration": 3,
    "start_time": "2025-05-20T14:51:39.637Z"
   },
   {
    "duration": 53,
    "start_time": "2025-05-20T14:51:42.074Z"
   },
   {
    "duration": 12,
    "start_time": "2025-05-20T15:13:05.028Z"
   },
   {
    "duration": 102,
    "start_time": "2025-05-20T15:19:00.358Z"
   },
   {
    "duration": 191,
    "start_time": "2025-05-20T15:19:10.540Z"
   },
   {
    "duration": 1381,
    "start_time": "2025-05-20T15:20:50.156Z"
   },
   {
    "duration": 8,
    "start_time": "2025-05-20T15:22:25.866Z"
   },
   {
    "duration": 344248,
    "start_time": "2025-05-20T15:22:28.645Z"
   },
   {
    "duration": 35706,
    "start_time": "2025-05-20T15:33:53.605Z"
   },
   {
    "duration": 36254,
    "start_time": "2025-05-20T15:34:42.765Z"
   },
   {
    "duration": 2744,
    "start_time": "2025-05-20T15:35:35.020Z"
   },
   {
    "duration": 113,
    "start_time": "2025-05-20T15:36:11.810Z"
   },
   {
    "duration": 51,
    "start_time": "2025-05-20T15:36:58.605Z"
   },
   {
    "duration": 13452,
    "start_time": "2025-05-20T15:37:07.820Z"
   },
   {
    "duration": 41395,
    "start_time": "2025-05-20T15:38:24.650Z"
   },
   {
    "duration": 52,
    "start_time": "2025-05-20T15:41:42.461Z"
   },
   {
    "duration": 2,
    "start_time": "2025-05-20T15:42:57.229Z"
   },
   {
    "duration": 8,
    "start_time": "2025-05-20T15:43:01.622Z"
   },
   {
    "duration": 15,
    "start_time": "2025-05-20T15:43:21.969Z"
   },
   {
    "duration": 11,
    "start_time": "2025-05-20T15:44:03.788Z"
   },
   {
    "duration": 4,
    "start_time": "2025-05-20T15:59:37.798Z"
   },
   {
    "duration": 3,
    "start_time": "2025-05-20T15:59:57.727Z"
   },
   {
    "duration": 4,
    "start_time": "2025-05-20T15:59:59.066Z"
   },
   {
    "duration": 5351,
    "start_time": "2025-05-20T16:00:01.035Z"
   },
   {
    "duration": 131,
    "start_time": "2025-05-20T16:00:17.558Z"
   },
   {
    "duration": 66,
    "start_time": "2025-05-20T16:01:17.218Z"
   },
   {
    "duration": 4,
    "start_time": "2025-05-20T16:03:40.931Z"
   },
   {
    "duration": 4,
    "start_time": "2025-05-20T16:03:56.836Z"
   },
   {
    "duration": 12,
    "start_time": "2025-05-20T16:06:17.259Z"
   },
   {
    "duration": 74,
    "start_time": "2025-05-20T16:06:56.939Z"
   },
   {
    "duration": 124,
    "start_time": "2025-05-20T16:07:05.842Z"
   },
   {
    "duration": 120,
    "start_time": "2025-05-20T16:08:35.095Z"
   },
   {
    "duration": 80,
    "start_time": "2025-05-20T16:08:38.990Z"
   },
   {
    "duration": 71,
    "start_time": "2025-05-20T16:11:49.681Z"
   },
   {
    "duration": 67,
    "start_time": "2025-05-20T16:12:05.896Z"
   },
   {
    "duration": 69,
    "start_time": "2025-05-20T16:12:31.168Z"
   },
   {
    "duration": 5,
    "start_time": "2025-05-20T16:15:48.292Z"
   },
   {
    "duration": 2,
    "start_time": "2025-05-20T16:27:00.711Z"
   },
   {
    "duration": 3,
    "start_time": "2025-05-20T16:27:03.583Z"
   },
   {
    "duration": 5345,
    "start_time": "2025-05-20T16:27:04.207Z"
   },
   {
    "duration": 124,
    "start_time": "2025-05-20T16:27:09.554Z"
   },
   {
    "duration": 4,
    "start_time": "2025-05-20T16:27:09.681Z"
   },
   {
    "duration": 4,
    "start_time": "2025-05-20T16:42:09.688Z"
   },
   {
    "duration": 6132,
    "start_time": "2025-05-20T16:42:32.526Z"
   },
   {
    "duration": 7,
    "start_time": "2025-05-20T16:45:03.908Z"
   },
   {
    "duration": 19056,
    "start_time": "2025-05-20T16:45:34.134Z"
   },
   {
    "duration": 4,
    "start_time": "2025-05-20T16:46:06.182Z"
   },
   {
    "duration": 14,
    "start_time": "2025-05-20T16:50:31.983Z"
   },
   {
    "duration": 16,
    "start_time": "2025-05-20T16:50:35.315Z"
   },
   {
    "duration": 14,
    "start_time": "2025-05-20T16:50:39.072Z"
   },
   {
    "duration": 6,
    "start_time": "2025-05-20T16:53:33.517Z"
   },
   {
    "duration": 6,
    "start_time": "2025-05-20T16:58:20.027Z"
   },
   {
    "duration": 69,
    "start_time": "2025-05-20T17:01:09.808Z"
   },
   {
    "duration": 6,
    "start_time": "2025-05-20T17:01:16.012Z"
   },
   {
    "duration": 7,
    "start_time": "2025-05-20T17:01:18.669Z"
   },
   {
    "duration": 12,
    "start_time": "2025-05-20T17:01:43.560Z"
   },
   {
    "duration": 19404,
    "start_time": "2025-05-20T17:01:54.701Z"
   },
   {
    "duration": 6,
    "start_time": "2025-05-20T17:04:12.801Z"
   },
   {
    "duration": 9,
    "start_time": "2025-05-20T17:04:18.293Z"
   },
   {
    "duration": 9,
    "start_time": "2025-05-20T17:14:41.865Z"
   },
   {
    "duration": 7,
    "start_time": "2025-05-20T17:14:42.315Z"
   },
   {
    "duration": 13,
    "start_time": "2025-05-20T17:17:34.610Z"
   },
   {
    "duration": 50,
    "start_time": "2025-05-20T17:18:29.068Z"
   },
   {
    "duration": 61,
    "start_time": "2025-05-20T17:18:38.033Z"
   },
   {
    "duration": 11,
    "start_time": "2025-05-20T17:18:52.683Z"
   },
   {
    "duration": 10,
    "start_time": "2025-05-20T17:18:56.297Z"
   },
   {
    "duration": 10,
    "start_time": "2025-05-20T17:19:08.844Z"
   },
   {
    "duration": 8,
    "start_time": "2025-05-20T17:20:00.482Z"
   },
   {
    "duration": 9,
    "start_time": "2025-05-20T17:20:08.986Z"
   },
   {
    "duration": 10,
    "start_time": "2025-05-20T17:20:19.502Z"
   },
   {
    "duration": 1225,
    "start_time": "2025-05-20T17:20:39.462Z"
   },
   {
    "duration": 7,
    "start_time": "2025-05-20T17:21:01.324Z"
   },
   {
    "duration": 9,
    "start_time": "2025-05-20T17:21:02.248Z"
   },
   {
    "duration": 20109,
    "start_time": "2025-05-20T17:21:02.954Z"
   },
   {
    "duration": 114,
    "start_time": "2025-05-20T17:21:34.292Z"
   },
   {
    "duration": 38013,
    "start_time": "2025-05-20T17:22:11.857Z"
   },
   {
    "duration": 113,
    "start_time": "2025-05-20T17:22:53.312Z"
   },
   {
    "duration": 7,
    "start_time": "2025-05-20T17:23:34.393Z"
   },
   {
    "duration": 6,
    "start_time": "2025-05-20T17:23:40.215Z"
   },
   {
    "duration": 8057,
    "start_time": "2025-05-20T17:23:45.122Z"
   },
   {
    "duration": 7,
    "start_time": "2025-05-20T17:30:44.221Z"
   },
   {
    "duration": 6,
    "start_time": "2025-05-20T17:30:48.615Z"
   },
   {
    "duration": 6,
    "start_time": "2025-05-20T17:30:49.760Z"
   },
   {
    "duration": 11,
    "start_time": "2025-05-20T17:30:51.082Z"
   },
   {
    "duration": 8373,
    "start_time": "2025-05-20T17:30:52.489Z"
   },
   {
    "duration": 6,
    "start_time": "2025-05-20T17:44:23.191Z"
   },
   {
    "duration": 7,
    "start_time": "2025-05-20T17:44:23.423Z"
   },
   {
    "duration": 9,
    "start_time": "2025-05-20T17:44:24.785Z"
   },
   {
    "duration": 37413,
    "start_time": "2025-05-20T17:44:34.761Z"
   },
   {
    "duration": 76,
    "start_time": "2025-05-20T17:46:21.862Z"
   },
   {
    "duration": 11,
    "start_time": "2025-05-20T17:46:30.177Z"
   },
   {
    "duration": 360323,
    "start_time": "2025-05-20T17:47:43.370Z"
   },
   {
    "duration": 10,
    "start_time": "2025-05-20T17:53:43.695Z"
   },
   {
    "duration": 9,
    "start_time": "2025-05-20T17:55:22.399Z"
   },
   {
    "duration": 81284,
    "start_time": "2025-05-20T18:11:53.399Z"
   },
   {
    "duration": 7,
    "start_time": "2025-05-20T18:14:52.413Z"
   },
   {
    "duration": 7,
    "start_time": "2025-05-20T18:14:55.679Z"
   },
   {
    "duration": 86995,
    "start_time": "2025-05-20T18:15:02.282Z"
   },
   {
    "duration": 6,
    "start_time": "2025-05-20T18:27:37.831Z"
   },
   {
    "duration": 6,
    "start_time": "2025-05-20T18:27:38.382Z"
   },
   {
    "duration": 10,
    "start_time": "2025-05-20T18:27:39.872Z"
   },
   {
    "duration": 161593,
    "start_time": "2025-05-20T18:27:40.872Z"
   },
   {
    "duration": 136,
    "start_time": "2025-05-20T18:36:06.344Z"
   },
   {
    "duration": 140,
    "start_time": "2025-05-20T18:36:54.687Z"
   },
   {
    "duration": 8,
    "start_time": "2025-05-20T18:37:49.969Z"
   },
   {
    "duration": 8,
    "start_time": "2025-05-20T18:38:01.200Z"
   },
   {
    "duration": 13,
    "start_time": "2025-05-21T00:58:50.503Z"
   },
   {
    "duration": 4126,
    "start_time": "2025-05-21T00:59:04.074Z"
   },
   {
    "duration": 389,
    "start_time": "2025-05-21T00:59:17.339Z"
   },
   {
    "duration": 55,
    "start_time": "2025-05-21T01:05:47.083Z"
   },
   {
    "duration": 23,
    "start_time": "2025-05-21T01:06:48.801Z"
   },
   {
    "duration": 12,
    "start_time": "2025-05-21T01:09:17.051Z"
   },
   {
    "duration": 15,
    "start_time": "2025-05-21T01:10:34.562Z"
   },
   {
    "duration": 3,
    "start_time": "2025-05-21T01:11:49.498Z"
   },
   {
    "duration": 9815,
    "start_time": "2025-05-21T01:11:54.158Z"
   },
   {
    "duration": 2,
    "start_time": "2025-05-21T01:22:24.104Z"
   },
   {
    "duration": 5,
    "start_time": "2025-05-21T01:22:24.694Z"
   },
   {
    "duration": 1791,
    "start_time": "2025-05-21T01:22:26.165Z"
   },
   {
    "duration": 32,
    "start_time": "2025-05-21T01:22:29.051Z"
   },
   {
    "duration": 157,
    "start_time": "2025-05-21T01:22:31.599Z"
   },
   {
    "duration": 2,
    "start_time": "2025-05-21T01:22:32.095Z"
   },
   {
    "duration": 93,
    "start_time": "2025-05-21T01:22:32.335Z"
   },
   {
    "duration": 116,
    "start_time": "2025-05-21T01:22:33.671Z"
   },
   {
    "duration": 4,
    "start_time": "2025-05-21T01:22:34.486Z"
   },
   {
    "duration": 4,
    "start_time": "2025-05-21T01:22:34.625Z"
   },
   {
    "duration": 228,
    "start_time": "2025-05-21T01:22:35.116Z"
   },
   {
    "duration": 319,
    "start_time": "2025-05-21T01:22:35.654Z"
   },
   {
    "duration": 221,
    "start_time": "2025-05-21T01:22:35.975Z"
   },
   {
    "duration": 196,
    "start_time": "2025-05-21T01:22:36.721Z"
   },
   {
    "duration": 49,
    "start_time": "2025-05-21T01:22:37.174Z"
   },
   {
    "duration": 90,
    "start_time": "2025-05-21T01:22:37.471Z"
   },
   {
    "duration": 3,
    "start_time": "2025-05-21T01:22:38.463Z"
   },
   {
    "duration": 119,
    "start_time": "2025-05-21T01:22:38.766Z"
   },
   {
    "duration": 34,
    "start_time": "2025-05-21T01:22:40.287Z"
   },
   {
    "duration": 41,
    "start_time": "2025-05-21T01:22:42.874Z"
   },
   {
    "duration": 26,
    "start_time": "2025-05-21T01:22:43.663Z"
   },
   {
    "duration": 24,
    "start_time": "2025-05-21T01:22:46.241Z"
   },
   {
    "duration": 26,
    "start_time": "2025-05-21T01:22:48.132Z"
   },
   {
    "duration": 24,
    "start_time": "2025-05-21T01:22:48.491Z"
   },
   {
    "duration": 220,
    "start_time": "2025-05-21T01:22:49.821Z"
   },
   {
    "duration": 313,
    "start_time": "2025-05-21T01:22:50.368Z"
   },
   {
    "duration": 229,
    "start_time": "2025-05-21T01:22:50.683Z"
   },
   {
    "duration": 55,
    "start_time": "2025-05-21T01:24:51.121Z"
   },
   {
    "duration": 4,
    "start_time": "2025-05-21T01:25:22.237Z"
   },
   {
    "duration": 11,
    "start_time": "2025-05-21T01:25:29.996Z"
   },
   {
    "duration": 58,
    "start_time": "2025-05-21T01:25:37.361Z"
   },
   {
    "duration": 35,
    "start_time": "2025-05-21T01:26:10.127Z"
   },
   {
    "duration": 41,
    "start_time": "2025-05-21T01:26:15.664Z"
   },
   {
    "duration": 4,
    "start_time": "2025-05-21T01:28:21.055Z"
   },
   {
    "duration": 1474,
    "start_time": "2025-05-21T01:34:07.342Z"
   },
   {
    "duration": 1378,
    "start_time": "2025-05-21T01:34:21.527Z"
   },
   {
    "duration": 54,
    "start_time": "2025-05-21T01:34:32.167Z"
   },
   {
    "duration": 76,
    "start_time": "2025-05-21T01:34:41.754Z"
   },
   {
    "duration": 4,
    "start_time": "2025-05-21T01:46:08.785Z"
   },
   {
    "duration": 1847,
    "start_time": "2025-05-21T01:46:08.791Z"
   },
   {
    "duration": 1852,
    "start_time": "2025-05-21T01:46:10.640Z"
   },
   {
    "duration": 27,
    "start_time": "2025-05-21T01:46:12.494Z"
   },
   {
    "duration": 152,
    "start_time": "2025-05-21T01:46:12.523Z"
   },
   {
    "duration": 2,
    "start_time": "2025-05-21T01:46:12.677Z"
   },
   {
    "duration": 172,
    "start_time": "2025-05-21T01:46:12.681Z"
   },
   {
    "duration": 131,
    "start_time": "2025-05-21T01:46:12.855Z"
   },
   {
    "duration": 4,
    "start_time": "2025-05-21T01:46:12.987Z"
   },
   {
    "duration": 37,
    "start_time": "2025-05-21T01:46:12.992Z"
   },
   {
    "duration": 219,
    "start_time": "2025-05-21T01:46:13.031Z"
   },
   {
    "duration": 277,
    "start_time": "2025-05-21T01:46:13.252Z"
   },
   {
    "duration": 220,
    "start_time": "2025-05-21T01:46:13.532Z"
   },
   {
    "duration": 195,
    "start_time": "2025-05-21T01:46:13.754Z"
   },
   {
    "duration": 42,
    "start_time": "2025-05-21T01:46:13.951Z"
   },
   {
    "duration": 104,
    "start_time": "2025-05-21T01:46:13.994Z"
   },
   {
    "duration": 3,
    "start_time": "2025-05-21T01:46:14.100Z"
   },
   {
    "duration": 139,
    "start_time": "2025-05-21T01:46:14.105Z"
   },
   {
    "duration": 37,
    "start_time": "2025-05-21T01:46:14.245Z"
   },
   {
    "duration": 41,
    "start_time": "2025-05-21T01:46:14.284Z"
   },
   {
    "duration": 87,
    "start_time": "2025-05-21T01:46:14.327Z"
   },
   {
    "duration": 23,
    "start_time": "2025-05-21T01:46:14.415Z"
   },
   {
    "duration": 23,
    "start_time": "2025-05-21T01:46:14.440Z"
   },
   {
    "duration": 23,
    "start_time": "2025-05-21T01:46:14.465Z"
   },
   {
    "duration": 225,
    "start_time": "2025-05-21T01:46:14.490Z"
   },
   {
    "duration": 331,
    "start_time": "2025-05-21T01:46:14.717Z"
   },
   {
    "duration": 241,
    "start_time": "2025-05-21T01:46:15.050Z"
   },
   {
    "duration": 71,
    "start_time": "2025-05-21T01:46:15.293Z"
   },
   {
    "duration": 61,
    "start_time": "2025-05-21T01:46:15.366Z"
   },
   {
    "duration": 72,
    "start_time": "2025-05-21T01:46:15.429Z"
   },
   {
    "duration": 4,
    "start_time": "2025-05-21T01:46:15.503Z"
   },
   {
    "duration": 6685,
    "start_time": "2025-05-21T01:46:15.508Z"
   },
   {
    "duration": 2074,
    "start_time": "2025-05-21T01:46:22.195Z"
   },
   {
    "duration": 2320,
    "start_time": "2025-05-21T01:46:24.271Z"
   },
   {
    "duration": 2985,
    "start_time": "2025-05-21T01:46:26.593Z"
   },
   {
    "duration": 415,
    "start_time": "2025-05-21T01:46:29.580Z"
   },
   {
    "duration": 575,
    "start_time": "2025-05-21T01:46:29.998Z"
   },
   {
    "duration": 8085,
    "start_time": "2025-05-21T01:46:30.575Z"
   },
   {
    "duration": 42,
    "start_time": "2025-05-21T01:46:38.662Z"
   },
   {
    "duration": 220,
    "start_time": "2025-05-21T01:46:38.706Z"
   },
   {
    "duration": 52,
    "start_time": "2025-05-21T01:46:38.927Z"
   },
   {
    "duration": 57,
    "start_time": "2025-05-21T01:46:38.981Z"
   },
   {
    "duration": 511504,
    "start_time": "2025-05-21T01:46:39.040Z"
   },
   {
    "duration": 76,
    "start_time": "2025-05-21T01:55:10.546Z"
   },
   {
    "duration": 7,
    "start_time": "2025-05-21T01:55:10.624Z"
   },
   {
    "duration": 28,
    "start_time": "2025-05-21T01:55:10.633Z"
   },
   {
    "duration": 14,
    "start_time": "2025-05-21T01:55:10.663Z"
   },
   {
    "duration": 35553,
    "start_time": "2025-05-21T01:55:10.679Z"
   },
   {
    "duration": 359,
    "start_time": "2025-05-21T01:55:46.234Z"
   },
   {
    "duration": 7,
    "start_time": "2025-05-21T01:55:46.595Z"
   },
   {
    "duration": 170,
    "start_time": "2025-05-21T01:55:46.603Z"
   },
   {
    "duration": 0,
    "start_time": "2025-05-21T01:55:46.775Z"
   },
   {
    "duration": 10675,
    "start_time": "2025-05-21T01:56:48.139Z"
   },
   {
    "duration": 81,
    "start_time": "2025-05-21T02:02:43.634Z"
   },
   {
    "duration": 1453,
    "start_time": "2025-05-21T02:02:47.113Z"
   },
   {
    "duration": 12,
    "start_time": "2025-05-21T02:02:59.087Z"
   },
   {
    "duration": 108,
    "start_time": "2025-05-21T02:15:49.669Z"
   },
   {
    "duration": 325,
    "start_time": "2025-05-21T13:53:35.325Z"
   },
   {
    "duration": 8,
    "start_time": "2025-05-21T13:53:44.674Z"
   },
   {
    "duration": 7,
    "start_time": "2025-05-21T13:53:45.140Z"
   },
   {
    "duration": 10,
    "start_time": "2025-05-21T13:53:46.411Z"
   },
   {
    "duration": 3,
    "start_time": "2025-05-21T13:54:24.351Z"
   },
   {
    "duration": 8,
    "start_time": "2025-05-21T13:54:24.356Z"
   },
   {
    "duration": 1862,
    "start_time": "2025-05-21T13:54:24.366Z"
   },
   {
    "duration": 25,
    "start_time": "2025-05-21T13:54:26.230Z"
   },
   {
    "duration": 150,
    "start_time": "2025-05-21T13:54:26.259Z"
   },
   {
    "duration": 3,
    "start_time": "2025-05-21T13:54:26.411Z"
   },
   {
    "duration": 109,
    "start_time": "2025-05-21T13:54:26.416Z"
   },
   {
    "duration": 128,
    "start_time": "2025-05-21T13:54:26.526Z"
   },
   {
    "duration": 3,
    "start_time": "2025-05-21T13:54:26.660Z"
   },
   {
    "duration": 6,
    "start_time": "2025-05-21T13:54:26.665Z"
   },
   {
    "duration": 288,
    "start_time": "2025-05-21T13:54:26.673Z"
   },
   {
    "duration": 302,
    "start_time": "2025-05-21T13:54:26.963Z"
   },
   {
    "duration": 235,
    "start_time": "2025-05-21T13:54:27.267Z"
   },
   {
    "duration": 211,
    "start_time": "2025-05-21T13:54:27.506Z"
   },
   {
    "duration": 55,
    "start_time": "2025-05-21T13:54:27.719Z"
   },
   {
    "duration": 102,
    "start_time": "2025-05-21T13:54:27.776Z"
   },
   {
    "duration": 3,
    "start_time": "2025-05-21T13:54:27.880Z"
   },
   {
    "duration": 135,
    "start_time": "2025-05-21T13:54:27.884Z"
   },
   {
    "duration": 46,
    "start_time": "2025-05-21T13:54:28.021Z"
   },
   {
    "duration": 41,
    "start_time": "2025-05-21T13:54:28.069Z"
   },
   {
    "duration": 25,
    "start_time": "2025-05-21T13:54:28.112Z"
   },
   {
    "duration": 45,
    "start_time": "2025-05-21T13:54:28.138Z"
   },
   {
    "duration": 24,
    "start_time": "2025-05-21T13:54:28.185Z"
   },
   {
    "duration": 23,
    "start_time": "2025-05-21T13:54:28.211Z"
   },
   {
    "duration": 248,
    "start_time": "2025-05-21T13:54:28.236Z"
   },
   {
    "duration": 332,
    "start_time": "2025-05-21T13:54:28.485Z"
   },
   {
    "duration": 246,
    "start_time": "2025-05-21T13:54:28.819Z"
   },
   {
    "duration": 68,
    "start_time": "2025-05-21T13:54:29.067Z"
   },
   {
    "duration": 74,
    "start_time": "2025-05-21T13:54:29.137Z"
   },
   {
    "duration": 70,
    "start_time": "2025-05-21T13:54:29.213Z"
   },
   {
    "duration": 4,
    "start_time": "2025-05-21T13:54:29.285Z"
   },
   {
    "duration": 6916,
    "start_time": "2025-05-21T13:54:29.291Z"
   },
   {
    "duration": 2222,
    "start_time": "2025-05-21T13:54:36.209Z"
   },
   {
    "duration": 2371,
    "start_time": "2025-05-21T13:54:38.433Z"
   },
   {
    "duration": 3117,
    "start_time": "2025-05-21T13:54:40.805Z"
   },
   {
    "duration": 432,
    "start_time": "2025-05-21T13:54:43.924Z"
   },
   {
    "duration": 597,
    "start_time": "2025-05-21T13:54:44.358Z"
   },
   {
    "duration": 8074,
    "start_time": "2025-05-21T13:54:44.959Z"
   },
   {
    "duration": 10,
    "start_time": "2025-05-21T13:54:53.034Z"
   },
   {
    "duration": 43,
    "start_time": "2025-05-21T13:54:53.060Z"
   },
   {
    "duration": 284,
    "start_time": "2025-05-21T13:54:53.108Z"
   },
   {
    "duration": 34,
    "start_time": "2025-05-21T13:54:53.394Z"
   },
   {
    "duration": 9,
    "start_time": "2025-05-21T13:54:53.430Z"
   },
   {
    "duration": 387089,
    "start_time": "2025-05-21T13:54:53.441Z"
   },
   {
    "duration": 134,
    "start_time": "2025-05-21T14:01:20.533Z"
   },
   {
    "duration": 7,
    "start_time": "2025-05-21T14:01:20.669Z"
   },
   {
    "duration": 15,
    "start_time": "2025-05-21T14:01:20.679Z"
   },
   {
    "duration": 15,
    "start_time": "2025-05-21T14:01:20.696Z"
   },
   {
    "duration": 9062,
    "start_time": "2025-05-21T14:01:20.712Z"
   },
   {
    "duration": 35214,
    "start_time": "2025-05-21T14:05:04.568Z"
   },
   {
    "duration": 308,
    "start_time": "2025-05-21T14:15:42.253Z"
   },
   {
    "duration": 316,
    "start_time": "2025-05-21T14:16:29.019Z"
   },
   {
    "duration": 6,
    "start_time": "2025-05-21T14:16:43.448Z"
   },
   {
    "duration": 9053,
    "start_time": "2025-05-21T14:18:08.948Z"
   },
   {
    "duration": 3,
    "start_time": "2025-05-21T14:38:37.380Z"
   },
   {
    "duration": 2006,
    "start_time": "2025-05-21T14:38:37.388Z"
   },
   {
    "duration": 1953,
    "start_time": "2025-05-21T14:38:39.395Z"
   },
   {
    "duration": 26,
    "start_time": "2025-05-21T14:38:41.350Z"
   },
   {
    "duration": 148,
    "start_time": "2025-05-21T14:38:41.378Z"
   },
   {
    "duration": 3,
    "start_time": "2025-05-21T14:38:41.528Z"
   },
   {
    "duration": 113,
    "start_time": "2025-05-21T14:38:41.532Z"
   },
   {
    "duration": 129,
    "start_time": "2025-05-21T14:38:41.646Z"
   },
   {
    "duration": 3,
    "start_time": "2025-05-21T14:38:41.777Z"
   },
   {
    "duration": 6,
    "start_time": "2025-05-21T14:38:41.782Z"
   },
   {
    "duration": 237,
    "start_time": "2025-05-21T14:38:41.790Z"
   },
   {
    "duration": 284,
    "start_time": "2025-05-21T14:38:42.029Z"
   },
   {
    "duration": 219,
    "start_time": "2025-05-21T14:38:42.314Z"
   },
   {
    "duration": 196,
    "start_time": "2025-05-21T14:38:42.534Z"
   },
   {
    "duration": 46,
    "start_time": "2025-05-21T14:38:42.733Z"
   },
   {
    "duration": 97,
    "start_time": "2025-05-21T14:38:42.781Z"
   },
   {
    "duration": 3,
    "start_time": "2025-05-21T14:38:42.880Z"
   },
   {
    "duration": 137,
    "start_time": "2025-05-21T14:38:42.884Z"
   },
   {
    "duration": 40,
    "start_time": "2025-05-21T14:38:43.022Z"
   },
   {
    "duration": 43,
    "start_time": "2025-05-21T14:38:43.064Z"
   },
   {
    "duration": 25,
    "start_time": "2025-05-21T14:38:43.108Z"
   },
   {
    "duration": 40,
    "start_time": "2025-05-21T14:38:43.134Z"
   },
   {
    "duration": 24,
    "start_time": "2025-05-21T14:38:43.175Z"
   },
   {
    "duration": 22,
    "start_time": "2025-05-21T14:38:43.200Z"
   },
   {
    "duration": 237,
    "start_time": "2025-05-21T14:38:43.224Z"
   },
   {
    "duration": 320,
    "start_time": "2025-05-21T14:38:43.462Z"
   },
   {
    "duration": 219,
    "start_time": "2025-05-21T14:38:43.784Z"
   },
   {
    "duration": 64,
    "start_time": "2025-05-21T14:38:44.005Z"
   },
   {
    "duration": 59,
    "start_time": "2025-05-21T14:38:44.071Z"
   },
   {
    "duration": 67,
    "start_time": "2025-05-21T14:38:44.132Z"
   },
   {
    "duration": 4,
    "start_time": "2025-05-21T14:38:44.201Z"
   },
   {
    "duration": 6428,
    "start_time": "2025-05-21T14:38:44.207Z"
   },
   {
    "duration": 2038,
    "start_time": "2025-05-21T14:38:50.637Z"
   },
   {
    "duration": 2340,
    "start_time": "2025-05-21T14:38:52.677Z"
   },
   {
    "duration": 3018,
    "start_time": "2025-05-21T14:38:55.019Z"
   },
   {
    "duration": 413,
    "start_time": "2025-05-21T14:38:58.039Z"
   },
   {
    "duration": 585,
    "start_time": "2025-05-21T14:38:58.454Z"
   },
   {
    "duration": 7803,
    "start_time": "2025-05-21T14:38:59.043Z"
   },
   {
    "duration": 16,
    "start_time": "2025-05-21T14:39:06.848Z"
   },
   {
    "duration": 43,
    "start_time": "2025-05-21T14:39:06.866Z"
   },
   {
    "duration": 266,
    "start_time": "2025-05-21T14:39:06.911Z"
   },
   {
    "duration": 37,
    "start_time": "2025-05-21T14:39:07.181Z"
   },
   {
    "duration": 8,
    "start_time": "2025-05-21T14:39:07.220Z"
   },
   {
    "duration": 394094,
    "start_time": "2025-05-21T14:39:07.230Z"
   },
   {
    "duration": 117,
    "start_time": "2025-05-21T14:45:41.326Z"
   },
   {
    "duration": 6,
    "start_time": "2025-05-21T14:45:41.445Z"
   },
   {
    "duration": 6,
    "start_time": "2025-05-21T14:45:41.460Z"
   },
   {
    "duration": 45,
    "start_time": "2025-05-21T14:45:41.468Z"
   },
   {
    "duration": 28945,
    "start_time": "2025-05-21T14:45:41.515Z"
   },
   {
    "duration": 283,
    "start_time": "2025-05-21T14:46:10.462Z"
   },
   {
    "duration": 14,
    "start_time": "2025-05-21T14:46:10.746Z"
   },
   {
    "duration": 8453,
    "start_time": "2025-05-21T14:46:10.762Z"
   }
  ],
  "kernelspec": {
   "display_name": "Python 3 (ipykernel)",
   "language": "python",
   "name": "python3"
  },
  "language_info": {
   "codemirror_mode": {
    "name": "ipython",
    "version": 3
   },
   "file_extension": ".py",
   "mimetype": "text/x-python",
   "name": "python",
   "nbconvert_exporter": "python",
   "pygments_lexer": "ipython3",
   "version": "3.9.5"
  },
  "toc": {
   "base_numbering": 1,
   "nav_menu": {},
   "number_sections": true,
   "sideBar": true,
   "skip_h1_title": true,
   "title_cell": "Table of Contents",
   "title_sidebar": "Contents",
   "toc_cell": false,
   "toc_position": {},
   "toc_section_display": true,
   "toc_window_display": false
  }
 },
 "nbformat": 4,
 "nbformat_minor": 2
}
